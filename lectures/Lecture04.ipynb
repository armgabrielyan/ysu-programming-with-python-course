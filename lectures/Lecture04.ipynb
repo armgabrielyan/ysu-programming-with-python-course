{
 "cells": [
  {
   "cell_type": "markdown",
   "id": "d6515b7c",
   "metadata": {
    "slideshow": {
     "slide_type": "slide"
    }
   },
   "source": [
    "# Programming with Python\n",
    "\n",
    "## Lecture 04: Operators and control flow\n",
    "\n",
    "### Armen Gabrielyan\n",
    "\n",
    "#### Yerevan State University\n",
    "#### Portmind"
   ]
  },
  {
   "cell_type": "markdown",
   "id": "79d530b3",
   "metadata": {
    "slideshow": {
     "slide_type": "slide"
    }
   },
   "source": [
    "# Boolean operators\n",
    "\n",
    "| Operator | Name                   | Example | Meaning                                    |\n",
    "|----------|------------------------|---------|--------------------------------------------|\n",
    "| or       | Logical or             | x or y  | if `x` is false, then `y`, else `x`        |\n",
    "| and      | Logical and            | x and y | if `x` is false, then `x`, else `y`        |\n",
    "| not      | Logical not / negation | not x   | if `x` is false, then `True`, else `False` |"
   ]
  },
  {
   "cell_type": "markdown",
   "id": "80efeeeb",
   "metadata": {
    "slideshow": {
     "slide_type": "subslide"
    }
   },
   "source": [
    "## Logical or\n",
    "\n",
    "| x     | y     | x or y |\n",
    "|-------|-------|--------|\n",
    "| False | False | False  |\n",
    "| False | True  | True   |\n",
    "| True  | False | True   |\n",
    "| True  | True  | True   |"
   ]
  },
  {
   "cell_type": "code",
   "execution_count": null,
   "id": "67a18cb4",
   "metadata": {
    "slideshow": {
     "slide_type": "fragment"
    }
   },
   "outputs": [],
   "source": [
    "print(False or False)\n",
    "print(False or True)\n",
    "print(True or False)\n",
    "print(True or True)"
   ]
  },
  {
   "cell_type": "code",
   "execution_count": null,
   "id": "fbba27f5",
   "metadata": {
    "slideshow": {
     "slide_type": "fragment"
    }
   },
   "outputs": [],
   "source": [
    "x = 5 < 10\n",
    "y = 6 > 8\n",
    "\n",
    "x or y"
   ]
  },
  {
   "cell_type": "code",
   "execution_count": null,
   "id": "981aa727",
   "metadata": {
    "slideshow": {
     "slide_type": "fragment"
    }
   },
   "outputs": [],
   "source": [
    "x = 5 > 10\n",
    "y = 6 < 4\n",
    "\n",
    "x or y"
   ]
  },
  {
   "cell_type": "markdown",
   "id": "6f73a527",
   "metadata": {
    "slideshow": {
     "slide_type": "subslide"
    }
   },
   "source": [
    "## Evaluation of arguments\n",
    "\n",
    "**Meaning**: if `x` is false, then `y`, else `x`"
   ]
  },
  {
   "cell_type": "code",
   "execution_count": null,
   "id": "58d46f89",
   "metadata": {
    "slideshow": {
     "slide_type": "fragment"
    }
   },
   "outputs": [],
   "source": [
    "7.2 > 4 or 1 / 0"
   ]
  },
  {
   "cell_type": "code",
   "execution_count": null,
   "id": "f8c39209",
   "metadata": {
    "slideshow": {
     "slide_type": "fragment"
    }
   },
   "outputs": [],
   "source": [
    "7.2 < 4 or 1 / 0"
   ]
  },
  {
   "cell_type": "code",
   "execution_count": null,
   "id": "27482592",
   "metadata": {
    "slideshow": {
     "slide_type": "fragment"
    }
   },
   "outputs": [],
   "source": [
    "7.2 > 4 or 42"
   ]
  },
  {
   "cell_type": "code",
   "execution_count": null,
   "id": "0bbaec93",
   "metadata": {
    "slideshow": {
     "slide_type": "fragment"
    }
   },
   "outputs": [],
   "source": [
    "7.2 < 4 or 42"
   ]
  },
  {
   "cell_type": "code",
   "execution_count": null,
   "id": "0485ea99",
   "metadata": {
    "slideshow": {
     "slide_type": "fragment"
    }
   },
   "outputs": [],
   "source": [
    "7.2 > 4 or \"Bruce Wayne\""
   ]
  },
  {
   "cell_type": "code",
   "execution_count": null,
   "id": "fc31a05a",
   "metadata": {
    "slideshow": {
     "slide_type": "fragment"
    }
   },
   "outputs": [],
   "source": [
    "7.2 < 4 or \"Bruce Wayne\""
   ]
  },
  {
   "cell_type": "markdown",
   "id": "f939a1ee",
   "metadata": {
    "slideshow": {
     "slide_type": "subslide"
    }
   },
   "source": [
    "## Logical and\n",
    "\n",
    "| x     | y     | x and y |\n",
    "|-------|-------|---------|\n",
    "| False | False | False   |\n",
    "| False | True  | False   |\n",
    "| True  | False | False   |\n",
    "| True  | True  | True    |"
   ]
  },
  {
   "cell_type": "code",
   "execution_count": null,
   "id": "b8f84fed",
   "metadata": {
    "slideshow": {
     "slide_type": "fragment"
    }
   },
   "outputs": [],
   "source": [
    "print(False and False)\n",
    "print(False and True)\n",
    "print(True and False)\n",
    "print(True and True)"
   ]
  },
  {
   "cell_type": "code",
   "execution_count": null,
   "id": "ef1c7326",
   "metadata": {
    "slideshow": {
     "slide_type": "fragment"
    }
   },
   "outputs": [],
   "source": [
    "x = 5 < 10\n",
    "y = 6 > 8\n",
    "\n",
    "x and y"
   ]
  },
  {
   "cell_type": "code",
   "execution_count": null,
   "id": "052e6529",
   "metadata": {
    "slideshow": {
     "slide_type": "fragment"
    }
   },
   "outputs": [],
   "source": [
    "x = 5 < 10\n",
    "y = 6 > 4\n",
    "\n",
    "x and y"
   ]
  },
  {
   "cell_type": "markdown",
   "id": "e4bc1d9f",
   "metadata": {
    "slideshow": {
     "slide_type": "subslide"
    }
   },
   "source": [
    "## Evaluation of arguments\n",
    "\n",
    "**Meaning:** if `x` is false, then `x`, else `y`"
   ]
  },
  {
   "cell_type": "code",
   "execution_count": null,
   "id": "d1fc26cb",
   "metadata": {
    "slideshow": {
     "slide_type": "fragment"
    }
   },
   "outputs": [],
   "source": [
    "7.2 > 4 and 1 / 0"
   ]
  },
  {
   "cell_type": "code",
   "execution_count": null,
   "id": "0fe8c18b",
   "metadata": {
    "slideshow": {
     "slide_type": "fragment"
    }
   },
   "outputs": [],
   "source": [
    "7.2 < 4 and 1 / 0"
   ]
  },
  {
   "cell_type": "code",
   "execution_count": null,
   "id": "063f6c78",
   "metadata": {
    "slideshow": {
     "slide_type": "fragment"
    }
   },
   "outputs": [],
   "source": [
    "7.2 > 4 and 42"
   ]
  },
  {
   "cell_type": "code",
   "execution_count": null,
   "id": "eab13dbd",
   "metadata": {
    "slideshow": {
     "slide_type": "fragment"
    }
   },
   "outputs": [],
   "source": [
    "7.2 < 4 and 42"
   ]
  },
  {
   "cell_type": "code",
   "execution_count": null,
   "id": "27cfe67a",
   "metadata": {
    "slideshow": {
     "slide_type": "fragment"
    }
   },
   "outputs": [],
   "source": [
    "7.2 > 4 and \"Bruce Wayne\""
   ]
  },
  {
   "cell_type": "code",
   "execution_count": null,
   "id": "615c0056",
   "metadata": {
    "slideshow": {
     "slide_type": "fragment"
    }
   },
   "outputs": [],
   "source": [
    "7.2 < 4 and \"Bruce Wayne\""
   ]
  },
  {
   "cell_type": "markdown",
   "id": "94f09b3d",
   "metadata": {
    "slideshow": {
     "slide_type": "subslide"
    }
   },
   "source": [
    "## Logical not\n",
    "\n",
    "| x     | not x |\n",
    "|-------|-------|\n",
    "| False | True  |\n",
    "| True  | False |"
   ]
  },
  {
   "cell_type": "code",
   "execution_count": null,
   "id": "2dcc5c99",
   "metadata": {
    "slideshow": {
     "slide_type": "fragment"
    }
   },
   "outputs": [],
   "source": [
    "print(not False)\n",
    "print(not True)"
   ]
  },
  {
   "cell_type": "code",
   "execution_count": null,
   "id": "b753b013",
   "metadata": {
    "slideshow": {
     "slide_type": "fragment"
    }
   },
   "outputs": [],
   "source": [
    "x = 5 < 10\n",
    "\n",
    "not x"
   ]
  },
  {
   "cell_type": "code",
   "execution_count": null,
   "id": "b1587054",
   "metadata": {
    "slideshow": {
     "slide_type": "fragment"
    }
   },
   "outputs": [],
   "source": [
    "x = 6 > 42\n",
    "\n",
    "not x"
   ]
  },
  {
   "cell_type": "markdown",
   "id": "cdc80220",
   "metadata": {
    "slideshow": {
     "slide_type": "subslide"
    }
   },
   "source": [
    "## Short-circuit evaluation\n",
    "\n",
    "**Short-circuit evaluation**, a.k.a. **minimal evaluation** or **McCarthy evaluation**, is the semantics of some Boolean operators in some programming languages in which the second argument is executed or evaluated only if the first argument does not suffice to determine the value of the expression.\n",
    "\n",
    "Reference: [Wiki on Short-circuit evaluation](https://en.wikipedia.org/wiki/Short-circuit_evaluation)."
   ]
  },
  {
   "cell_type": "markdown",
   "id": "60a41064",
   "metadata": {
    "slideshow": {
     "slide_type": "subslide"
    }
   },
   "source": [
    "### Compound `or` expressions\n",
    "\n",
    "- $x_1$ `or` $x_2 \\dots$ `or` $x_{n-1}$ `or` $x_{n}$ evaluates to `True` if any $x_i$ evaluates to `True`. \n",
    "- This is performed by short-circuit evaluation."
   ]
  },
  {
   "cell_type": "code",
   "execution_count": null,
   "id": "986c34a1",
   "metadata": {
    "slideshow": {
     "slide_type": "fragment"
    }
   },
   "outputs": [],
   "source": [
    "x1 = 1 > 2\n",
    "x2 = 10 == 10\n",
    "\n",
    "x1 or x2 or 1 / 0"
   ]
  },
  {
   "cell_type": "code",
   "execution_count": null,
   "id": "5b61f53a",
   "metadata": {
    "slideshow": {
     "slide_type": "fragment"
    }
   },
   "outputs": [],
   "source": [
    "x1 = 1 > 2\n",
    "x2 = 10 != 10\n",
    "\n",
    "x1 or x2 or 1 / 0"
   ]
  },
  {
   "cell_type": "markdown",
   "id": "1d3ee6a8",
   "metadata": {
    "slideshow": {
     "slide_type": "subslide"
    }
   },
   "source": [
    "### Compound `and` expressions\n",
    "\n",
    "- $x_1$ `and` $x_2 \\dots$ `and` $x_{n-1}$ `and` $x_{n}$ evaluates to `True` if all $x_i$s evaluate to `True`. \n",
    "- This is performed by short-circuit evaluation."
   ]
  },
  {
   "cell_type": "code",
   "execution_count": null,
   "id": "bd7aaba4",
   "metadata": {
    "slideshow": {
     "slide_type": "fragment"
    }
   },
   "outputs": [],
   "source": [
    "x1 = 1 > 2\n",
    "x2 = 10 == 10\n",
    "\n",
    "x1 and x2 and 1 / 0"
   ]
  },
  {
   "cell_type": "code",
   "execution_count": null,
   "id": "cc86e4b2",
   "metadata": {
    "slideshow": {
     "slide_type": "fragment"
    }
   },
   "outputs": [],
   "source": [
    "x1 = 11 > 2\n",
    "x2 = 10 == 10\n",
    "\n",
    "x1 and x2 and 1 / 0"
   ]
  },
  {
   "cell_type": "markdown",
   "id": "d785cf26",
   "metadata": {
    "slideshow": {
     "slide_type": "subslide"
    }
   },
   "source": [
    "## Chained comparisons\n",
    "\n",
    "Comparison operators can be chained together, such as `1 < 2 <=3` or `10 > 5 < 8`.\n",
    "\n",
    "The following two expressions result in the same Boolean value.\n",
    "\n",
    "- **Compound:** $x_1 op_1 x_2$ `and` $x_2 op_2 x_3 \\dots$ `and` $x_{n-1} op_n x_n$\n",
    "- **Chained:** $x_1 op_1 x_2 op_2 \\dots x_{n-1} op_n x_n$"
   ]
  },
  {
   "cell_type": "code",
   "execution_count": null,
   "id": "b121c2da",
   "metadata": {
    "slideshow": {
     "slide_type": "subslide"
    }
   },
   "outputs": [],
   "source": [
    "# compound\n",
    "\n",
    "1 < 2 and 2 <= 8 and 8 > 5 and 5 < 7"
   ]
  },
  {
   "cell_type": "code",
   "execution_count": null,
   "id": "adb095b1",
   "metadata": {
    "slideshow": {
     "slide_type": "fragment"
    }
   },
   "outputs": [],
   "source": [
    "# chained\n",
    "\n",
    "1 < 2 <= 8 > 5 < 7"
   ]
  },
  {
   "cell_type": "code",
   "execution_count": null,
   "id": "ba2ab326",
   "metadata": {
    "slideshow": {
     "slide_type": "fragment"
    }
   },
   "outputs": [],
   "source": [
    "# compound\n",
    "\n",
    "1 < 2 and 2 <= 8 and 8 > 5 and 5 < 7 and 7 >= 15"
   ]
  },
  {
   "cell_type": "code",
   "execution_count": null,
   "id": "6fd14962",
   "metadata": {
    "slideshow": {
     "slide_type": "fragment"
    }
   },
   "outputs": [],
   "source": [
    "# chained\n",
    "\n",
    "1 < 2 <= 8 > 5 < 7 >= 15"
   ]
  },
  {
   "cell_type": "markdown",
   "id": "4a520d65",
   "metadata": {
    "slideshow": {
     "slide_type": "slide"
    }
   },
   "source": [
    "# Two's complement method\n",
    "\n",
    "**Two's complement** is a mathematical operation to reversibly convert a positive binary number into a negative binary number with equivalent (but negative) value, using the binary digit with the greatest place value to indicate whether the binary number is positive or negative (the sign).\n",
    "\n",
    "| Bits      | Unsigned value | Signed value \\(two's complement\\) |\n",
    "|-----------|----------------|-----------------------------------|\n",
    "| 0000 0000 | 0              | 0                                 |\n",
    "| 0000 0001 | 1              | 1                                 |\n",
    "| 0000 0010 | 2              | 2                                 |\n",
    "| 0111 1110 | 126            | 126                               |\n",
    "| 0111 1111 | 127            | 127                               |\n",
    "| 1000 0000 | 128            | \\-128                             |\n",
    "| 1000 0001 | 129            | \\-127                             |\n",
    "| 1000 0010 | 130            | \\-126                             |\n",
    "| 1111 1110 | 254            | \\-2                               |\n",
    "| 1111 1111 | 255            | \\-1                               |\n",
    "\n",
    "Reference: [Wiki Two's complement](https://en.wikipedia.org/wiki/Two%27s_complement)"
   ]
  },
  {
   "cell_type": "markdown",
   "id": "de87bcb5",
   "metadata": {
    "slideshow": {
     "slide_type": "slide"
    }
   },
   "source": [
    "# Bitwise operators\n",
    "\n",
    "| Operator | Name               | Example | Meaning                                                 |\n",
    "|----------|--------------------|---------|---------------------------------------------------------|\n",
    "| \\|       | bitwise or         | x \\| y  | Logical or between bits of the corresponding positions  |\n",
    "| &        | bitwise and        | x & y   | Logical and between bits of the corresponding positions |\n",
    "| ^        | bitwise xor        | x ^ y   | Logical xor between bits of the corresponding positions |\n",
    "| ~        | bitwise negation   | ~x      | Each bit is inverted                                    |\n",
    "| <<       | bitwise left shift | x << n  | Each bit is shifted leftwards by n positions            |\n",
    "| >>       | bitwise right shift| x >> n  | Each bit is shifted rightwards by n positions           |"
   ]
  },
  {
   "cell_type": "markdown",
   "id": "86aaeb2e",
   "metadata": {
    "slideshow": {
     "slide_type": "subslide"
    }
   },
   "source": [
    "### Bitwise `or`"
   ]
  },
  {
   "cell_type": "code",
   "execution_count": null,
   "id": "f1978cd8",
   "metadata": {
    "slideshow": {
     "slide_type": "fragment"
    }
   },
   "outputs": [],
   "source": [
    "x = 0b11001010\n",
    "y = 0b10111100\n",
    "\n",
    "'{:b}'.format(x | y)"
   ]
  },
  {
   "cell_type": "markdown",
   "id": "f4b44fac",
   "metadata": {
    "slideshow": {
     "slide_type": "fragment"
    }
   },
   "source": [
    "### Bitwise `and`"
   ]
  },
  {
   "cell_type": "code",
   "execution_count": null,
   "id": "55edd05e",
   "metadata": {
    "slideshow": {
     "slide_type": "fragment"
    }
   },
   "outputs": [],
   "source": [
    "x = 0b11001010\n",
    "y = 0b10111100\n",
    "\n",
    "'{:b}'.format(x & y)"
   ]
  },
  {
   "cell_type": "markdown",
   "id": "57e85806",
   "metadata": {
    "slideshow": {
     "slide_type": "fragment"
    }
   },
   "source": [
    "### Bitwise `xor`"
   ]
  },
  {
   "cell_type": "code",
   "execution_count": null,
   "id": "9892bca8",
   "metadata": {
    "slideshow": {
     "slide_type": "fragment"
    }
   },
   "outputs": [],
   "source": [
    "x = 0b11001010\n",
    "y = 0b10111100\n",
    "\n",
    "'{:b}'.format(x ^ y)"
   ]
  },
  {
   "cell_type": "markdown",
   "id": "786b743f",
   "metadata": {
    "slideshow": {
     "slide_type": "subslide"
    }
   },
   "source": [
    "### Bitwise negation\n",
    "\n",
    "Equivalent to `-(x + 1)`."
   ]
  },
  {
   "cell_type": "code",
   "execution_count": null,
   "id": "a49ba57a",
   "metadata": {
    "slideshow": {
     "slide_type": "fragment"
    }
   },
   "outputs": [],
   "source": [
    "x = 0b11001010\n",
    "\n",
    "print('{:b}'.format(~x))"
   ]
  },
  {
   "cell_type": "code",
   "execution_count": null,
   "id": "e32882f7",
   "metadata": {
    "slideshow": {
     "slide_type": "fragment"
    }
   },
   "outputs": [],
   "source": [
    "~x"
   ]
  },
  {
   "cell_type": "code",
   "execution_count": null,
   "id": "081b489e",
   "metadata": {
    "slideshow": {
     "slide_type": "fragment"
    }
   },
   "outputs": [],
   "source": [
    "-(x + 1)"
   ]
  },
  {
   "cell_type": "markdown",
   "id": "0ecac739",
   "metadata": {
    "slideshow": {
     "slide_type": "subslide"
    }
   },
   "source": [
    "### Bitwise left shift"
   ]
  },
  {
   "cell_type": "code",
   "execution_count": null,
   "id": "fe6b1fe4",
   "metadata": {
    "slideshow": {
     "slide_type": "fragment"
    }
   },
   "outputs": [],
   "source": [
    "x = 0b11001010\n",
    "n = 3\n",
    "\n",
    "'{:b}'.format(x << n)"
   ]
  },
  {
   "cell_type": "code",
   "execution_count": null,
   "id": "df2504f0",
   "metadata": {
    "slideshow": {
     "slide_type": "fragment"
    }
   },
   "outputs": [],
   "source": [
    "x"
   ]
  },
  {
   "cell_type": "code",
   "execution_count": null,
   "id": "a8acff32",
   "metadata": {
    "slideshow": {
     "slide_type": "fragment"
    }
   },
   "outputs": [],
   "source": [
    "x << n"
   ]
  },
  {
   "cell_type": "code",
   "execution_count": null,
   "id": "18e74de3",
   "metadata": {
    "slideshow": {
     "slide_type": "fragment"
    }
   },
   "outputs": [],
   "source": [
    "x * 2 ** n"
   ]
  },
  {
   "cell_type": "markdown",
   "id": "f800f05d",
   "metadata": {
    "slideshow": {
     "slide_type": "subslide"
    }
   },
   "source": [
    "### Bitwise right shift"
   ]
  },
  {
   "cell_type": "code",
   "execution_count": null,
   "id": "ce8257cd",
   "metadata": {
    "slideshow": {
     "slide_type": "fragment"
    }
   },
   "outputs": [],
   "source": [
    "x = 0b11001010\n",
    "n = 3\n",
    "\n",
    "'{:b}'.format(x >> n)"
   ]
  },
  {
   "cell_type": "code",
   "execution_count": null,
   "id": "16f2fb6e",
   "metadata": {
    "slideshow": {
     "slide_type": "fragment"
    }
   },
   "outputs": [],
   "source": [
    "x"
   ]
  },
  {
   "cell_type": "code",
   "execution_count": null,
   "id": "abf53d32",
   "metadata": {
    "slideshow": {
     "slide_type": "fragment"
    }
   },
   "outputs": [],
   "source": [
    "x >> n"
   ]
  },
  {
   "cell_type": "code",
   "execution_count": null,
   "id": "b7949a18",
   "metadata": {
    "slideshow": {
     "slide_type": "fragment"
    }
   },
   "outputs": [],
   "source": [
    "x // 2 ** n"
   ]
  },
  {
   "cell_type": "markdown",
   "id": "3718fc36",
   "metadata": {
    "slideshow": {
     "slide_type": "slide"
    }
   },
   "source": [
    "# Assignment operators\n",
    "\n",
    "| Operator | Name                               | Example   | Meaning                                                                        |\n",
    "|----------|------------------------------------|-----------|--------------------------------------------------------------------------------|\n",
    "| =        | Assignment                         | x = 3     | Assign the value of right\\-hand side expression to the left\\-hand side operand |\n",
    "| \\+=      | Addition and assignment            | x \\+= 3   | Equivalent to x = x \\+ 3                                                       |\n",
    "| \\-=      | Subtraction and assignment         | x \\-= 3   | Equivalent to x = x \\- 3                                                       |\n",
    "| \\*=      | Multiplication and assignment      | x \\*= 3   | Equivalent to x = x \\* 3                                                       |\n",
    "| /=       | Division and assignment            | x /= 3    | Equivalent to x = x / 3                                                        |\n",
    "| %=       | Modulus and assignment             | x %= 3    | Equivalent to x = x % 3                                                        |\n",
    "| //=      | Floor division and assignment      | x //= 3   | Equivalent to x = x // 3                                                       |\n",
    "| \\*\\*=    | Exponentiation and assignment      | x \\*\\*= 3 | Equivalent to x = x \\*\\* 3                                                     |\n",
    "| &=       | Bitwise and and assignment         | x &= 3    | Equivalent to x = x & 3                                                        |\n",
    "| \\|=      | Bitwise or and assignment          | x \\|= 3   | Equivalent to x = x \\| 3                                                       |\n",
    "| ^=       | Bitwise xor and assignment         | x ^= 3    | Equivalent to x = x ^ 3                                                        |\n",
    "| <<=      | Bitwise left shift and assignment  | x <<= 3   | Equivalent to x = x << 3                                                       |\n",
    "| >>=      | Bitwise right shift and assignment | x >>= 3   | Equivalent to x = x >> 3        \n",
    "\n",
    "\n",
    "In short `x <op>= y` is equivalent to `x = x <op> y` for the above operators."
   ]
  },
  {
   "cell_type": "markdown",
   "id": "8d030a2b",
   "metadata": {
    "slideshow": {
     "slide_type": "subslide"
    }
   },
   "source": [
    "### Assignment"
   ]
  },
  {
   "cell_type": "code",
   "execution_count": null,
   "id": "2f70ed18",
   "metadata": {
    "slideshow": {
     "slide_type": "fragment"
    }
   },
   "outputs": [],
   "source": [
    "x = 5\n",
    "print(x)\n",
    "\n",
    "x = \"hello world\"\n",
    "print(x)"
   ]
  },
  {
   "cell_type": "markdown",
   "id": "9864b5bf",
   "metadata": {
    "slideshow": {
     "slide_type": "fragment"
    }
   },
   "source": [
    "### Addition and assignment"
   ]
  },
  {
   "cell_type": "code",
   "execution_count": null,
   "id": "41227f32",
   "metadata": {
    "slideshow": {
     "slide_type": "fragment"
    }
   },
   "outputs": [],
   "source": [
    "x = 5\n",
    "print(x)\n",
    "\n",
    "x += 3\n",
    "print(x)"
   ]
  },
  {
   "cell_type": "markdown",
   "id": "7a974596",
   "metadata": {
    "slideshow": {
     "slide_type": "subslide"
    }
   },
   "source": [
    "### Subtraction and assignment"
   ]
  },
  {
   "cell_type": "code",
   "execution_count": null,
   "id": "35221c74",
   "metadata": {
    "slideshow": {
     "slide_type": "fragment"
    }
   },
   "outputs": [],
   "source": [
    "x = 5\n",
    "print(x)\n",
    "\n",
    "x -= 3\n",
    "print(x)"
   ]
  },
  {
   "cell_type": "markdown",
   "id": "3c124854",
   "metadata": {
    "slideshow": {
     "slide_type": "fragment"
    }
   },
   "source": [
    "### Multiplication and assignment"
   ]
  },
  {
   "cell_type": "code",
   "execution_count": null,
   "id": "d2ef4d53",
   "metadata": {
    "slideshow": {
     "slide_type": "fragment"
    }
   },
   "outputs": [],
   "source": [
    "x = 5\n",
    "print(x)\n",
    "\n",
    "x *= 3\n",
    "print(x)"
   ]
  },
  {
   "cell_type": "markdown",
   "id": "1f3940ce",
   "metadata": {
    "slideshow": {
     "slide_type": "subslide"
    }
   },
   "source": [
    "### Division and assignment"
   ]
  },
  {
   "cell_type": "code",
   "execution_count": null,
   "id": "1f66980a",
   "metadata": {
    "slideshow": {
     "slide_type": "fragment"
    }
   },
   "outputs": [],
   "source": [
    "x = 5\n",
    "print(x)\n",
    "\n",
    "x /= 3\n",
    "print(x)"
   ]
  },
  {
   "cell_type": "markdown",
   "id": "4cad4d14",
   "metadata": {
    "slideshow": {
     "slide_type": "fragment"
    }
   },
   "source": [
    "### Modulus and assignment"
   ]
  },
  {
   "cell_type": "code",
   "execution_count": null,
   "id": "766b2565",
   "metadata": {
    "slideshow": {
     "slide_type": "fragment"
    }
   },
   "outputs": [],
   "source": [
    "x = 5\n",
    "print(x)\n",
    "\n",
    "x %= 3\n",
    "print(x)"
   ]
  },
  {
   "cell_type": "markdown",
   "id": "18a7c4cc",
   "metadata": {
    "slideshow": {
     "slide_type": "subslide"
    }
   },
   "source": [
    "### Floor division and assignment"
   ]
  },
  {
   "cell_type": "code",
   "execution_count": null,
   "id": "c1301494",
   "metadata": {
    "slideshow": {
     "slide_type": "fragment"
    }
   },
   "outputs": [],
   "source": [
    "x = 5\n",
    "print(x)\n",
    "\n",
    "x //= 3\n",
    "print(x)"
   ]
  },
  {
   "cell_type": "markdown",
   "id": "971fd118",
   "metadata": {
    "slideshow": {
     "slide_type": "fragment"
    }
   },
   "source": [
    "### Exponentiation and assignment"
   ]
  },
  {
   "cell_type": "code",
   "execution_count": null,
   "id": "155e5a10",
   "metadata": {
    "scrolled": true,
    "slideshow": {
     "slide_type": "fragment"
    }
   },
   "outputs": [],
   "source": [
    "x = 5\n",
    "print(x)\n",
    "\n",
    "x **= 3\n",
    "print(x)"
   ]
  },
  {
   "cell_type": "markdown",
   "id": "7ffb03f6",
   "metadata": {
    "slideshow": {
     "slide_type": "subslide"
    }
   },
   "source": [
    "### Bitwise `and` and assignment"
   ]
  },
  {
   "cell_type": "code",
   "execution_count": null,
   "id": "f5ea763e",
   "metadata": {
    "slideshow": {
     "slide_type": "fragment"
    }
   },
   "outputs": [],
   "source": [
    "x = 5\n",
    "print(x)\n",
    "\n",
    "x &= 3\n",
    "print(x)"
   ]
  },
  {
   "cell_type": "markdown",
   "id": "5c05578d",
   "metadata": {
    "slideshow": {
     "slide_type": "fragment"
    }
   },
   "source": [
    "### Bitwise `or` and assignment"
   ]
  },
  {
   "cell_type": "code",
   "execution_count": null,
   "id": "53541806",
   "metadata": {
    "scrolled": true,
    "slideshow": {
     "slide_type": "fragment"
    }
   },
   "outputs": [],
   "source": [
    "x = 5\n",
    "print(x)\n",
    "\n",
    "x |= 3\n",
    "print(x)"
   ]
  },
  {
   "cell_type": "markdown",
   "id": "0fe9fb1e",
   "metadata": {
    "slideshow": {
     "slide_type": "fragment"
    }
   },
   "source": [
    "### Bitwise `xor` and assignment"
   ]
  },
  {
   "cell_type": "code",
   "execution_count": null,
   "id": "b00a6f5c",
   "metadata": {
    "slideshow": {
     "slide_type": "fragment"
    }
   },
   "outputs": [],
   "source": [
    "x = 5\n",
    "print(x)\n",
    "\n",
    "x ^= 3\n",
    "print(x)"
   ]
  },
  {
   "cell_type": "markdown",
   "id": "d0446cef",
   "metadata": {
    "slideshow": {
     "slide_type": "subslide"
    }
   },
   "source": [
    "### Bitwise left shift and assignment"
   ]
  },
  {
   "cell_type": "code",
   "execution_count": null,
   "id": "a852625f",
   "metadata": {
    "slideshow": {
     "slide_type": "fragment"
    }
   },
   "outputs": [],
   "source": [
    "x = 5\n",
    "print(x)\n",
    "\n",
    "x <<= 3\n",
    "print(x)"
   ]
  },
  {
   "cell_type": "markdown",
   "id": "161ebe4a",
   "metadata": {
    "slideshow": {
     "slide_type": "fragment"
    }
   },
   "source": [
    "### Bitwise right shift and assignment"
   ]
  },
  {
   "cell_type": "code",
   "execution_count": null,
   "id": "d41d8c7f",
   "metadata": {
    "scrolled": true,
    "slideshow": {
     "slide_type": "fragment"
    }
   },
   "outputs": [],
   "source": [
    "x = 5\n",
    "print(x)\n",
    "\n",
    "x >>= 3\n",
    "print(x)"
   ]
  },
  {
   "cell_type": "markdown",
   "id": "db6b6cf9",
   "metadata": {
    "slideshow": {
     "slide_type": "slide"
    }
   },
   "source": [
    "# Identity operators\n",
    "\n",
    "| Operator | Name | Example    | Meaning                                         |\n",
    "|----------|------|------------|-------------------------------------------------|\n",
    "| is       |      | x is y     | Checks if both operands are the same object     |\n",
    "| is not   |      | x is not y | Checks if both operands are not the same object |"
   ]
  },
  {
   "cell_type": "markdown",
   "id": "3f4854a1",
   "metadata": {
    "slideshow": {
     "slide_type": "subslide"
    }
   },
   "source": [
    "## id() function\n",
    "\n",
    "`id()` function can be used to get the identity of an object, which is unique and constant during the lifetime of an object.\n",
    "\n",
    "In CPython some objects are stored in a global cache and do not change their identity, such as:\n",
    "- Integer numbers between `-5` and `256`\n",
    "- Strings that contain ASCII letters, digits, or underscores only\n",
    "- `False`, `True`, `None`\n",
    "\n",
    "P.S. Python has different implementations and CPython is the most popular one. You can learn more about different implementations [here](https://wiki.python.org/moin/PythonImplementations)."
   ]
  },
  {
   "cell_type": "code",
   "execution_count": null,
   "id": "0aac1679",
   "metadata": {
    "slideshow": {
     "slide_type": "fragment"
    }
   },
   "outputs": [],
   "source": [
    "x = \"Hello world\"\n",
    "\n",
    "id(x)"
   ]
  },
  {
   "cell_type": "code",
   "execution_count": null,
   "id": "3fdad512",
   "metadata": {
    "slideshow": {
     "slide_type": "subslide"
    }
   },
   "outputs": [],
   "source": [
    "x = 100\n",
    "y = 100\n",
    "\n",
    "x is y"
   ]
  },
  {
   "cell_type": "code",
   "execution_count": null,
   "id": "72f7863e",
   "metadata": {
    "slideshow": {
     "slide_type": "fragment"
    }
   },
   "outputs": [],
   "source": [
    "x = 1000\n",
    "y = 1000\n",
    "\n",
    "x is y"
   ]
  },
  {
   "cell_type": "code",
   "execution_count": null,
   "id": "ce6ccd8b",
   "metadata": {
    "slideshow": {
     "slide_type": "fragment"
    }
   },
   "outputs": [],
   "source": [
    "x = \"Hello\"\n",
    "y = \"Hello\"\n",
    "\n",
    "x is y"
   ]
  },
  {
   "cell_type": "code",
   "execution_count": null,
   "id": "8d43024a",
   "metadata": {
    "slideshow": {
     "slide_type": "fragment"
    }
   },
   "outputs": [],
   "source": [
    "x = \"Hello world\"\n",
    "y = \"Hello world\"\n",
    "\n",
    "x is y"
   ]
  },
  {
   "cell_type": "markdown",
   "id": "8b4fcfc5",
   "metadata": {
    "slideshow": {
     "slide_type": "slide"
    }
   },
   "source": [
    "# Membership operators\n",
    "\n",
    "| Operator | Name | Example    | Meaning                                        |\n",
    "|----------|------|------------|------------------------------------------------|\n",
    "| in       |      | x in y     | Checks if a value exists in a sequence         |\n",
    "| not in   |      | x not in y | Checks if a value does not exist in a sequence |"
   ]
  },
  {
   "cell_type": "code",
   "execution_count": null,
   "id": "82cde0f2",
   "metadata": {
    "slideshow": {
     "slide_type": "subslide"
    }
   },
   "outputs": [],
   "source": [
    "x = \"Hello\"\n",
    "y = \"Hello world\"\n",
    "\n",
    "x in y"
   ]
  },
  {
   "cell_type": "code",
   "execution_count": null,
   "id": "35eccb1d",
   "metadata": {
    "slideshow": {
     "slide_type": "fragment"
    }
   },
   "outputs": [],
   "source": [
    "x = \"hello\"\n",
    "y = \"Hello world\"\n",
    "\n",
    "x in y"
   ]
  },
  {
   "cell_type": "code",
   "execution_count": null,
   "id": "8ce8e4a2",
   "metadata": {
    "scrolled": true,
    "slideshow": {
     "slide_type": "fragment"
    }
   },
   "outputs": [],
   "source": [
    "x = 10\n",
    "y = [10, 20, 30]\n",
    "\n",
    "x in y"
   ]
  },
  {
   "cell_type": "code",
   "execution_count": null,
   "id": "78e76202",
   "metadata": {
    "scrolled": true,
    "slideshow": {
     "slide_type": "fragment"
    }
   },
   "outputs": [],
   "source": [
    "x = 40\n",
    "y = [10, 20, 30]\n",
    "\n",
    "x in y"
   ]
  },
  {
   "cell_type": "code",
   "execution_count": null,
   "id": "603b1a46",
   "metadata": {
    "slideshow": {
     "slide_type": "subslide"
    }
   },
   "outputs": [],
   "source": [
    "x = \"Hello\"\n",
    "y = \"Hello world\"\n",
    "\n",
    "x not in y"
   ]
  },
  {
   "cell_type": "code",
   "execution_count": null,
   "id": "646d296a",
   "metadata": {
    "slideshow": {
     "slide_type": "fragment"
    }
   },
   "outputs": [],
   "source": [
    "x = \"hello\"\n",
    "y = \"Hello world\"\n",
    "\n",
    "x not in y"
   ]
  },
  {
   "cell_type": "code",
   "execution_count": null,
   "id": "12e76466",
   "metadata": {
    "slideshow": {
     "slide_type": "fragment"
    }
   },
   "outputs": [],
   "source": [
    "x = 10\n",
    "y = [10, 20, 30]\n",
    "\n",
    "x not in y"
   ]
  },
  {
   "cell_type": "code",
   "execution_count": null,
   "id": "0063357f",
   "metadata": {
    "slideshow": {
     "slide_type": "fragment"
    }
   },
   "outputs": [],
   "source": [
    "x = 40\n",
    "y = [10, 20, 30]\n",
    "\n",
    "x not in y"
   ]
  },
  {
   "cell_type": "markdown",
   "id": "72a5e43a",
   "metadata": {
    "slideshow": {
     "slide_type": "slide"
    }
   },
   "source": [
    "# Operator precedence\n",
    "\n",
    "\n",
    "|                            | Operator                                      | Description                                      |\n",
    "|----------------------------|-----------------------------------------------|--------------------------------------------------|\n",
    "| **highest precedence**     | \\(\\)                                          | Parentheses                                      |\n",
    "|                            | \\*\\*                                          | Exponentiation                                   |\n",
    "|                            | \\+x, \\-x, ~x                                  | Unary positive, unary negation, bitwise negation |\n",
    "|                            | \\*, /, //, %                                  | Multiplication, division, floor division, modulo |\n",
    "|                            | \\+, \\-                                        | Addition, subtraction                            |\n",
    "|                            | <<, >>                                        | Bitwise left shift, bitwise right shift          |\n",
    "|                            | &                                             | bitwise and                                      |\n",
    "|                            | ^                                             | bitwise xor                                      |\n",
    "|                            | \\|                                            | bitwise or                                       |\n",
    "|                            | ==, \\!=, >, >=, <, <=, is, is not, in, not in | Comparisons, identity, and membership operators  |\n",
    "|                            | not                                           | Logical not                                      |\n",
    "|                            | and                                           | Logical and                                      |\n",
    "| **lowest precedence**      | or                                            | Logical or                                       |\n"
   ]
  },
  {
   "cell_type": "markdown",
   "id": "ee73082f",
   "metadata": {
    "slideshow": {
     "slide_type": "slide"
    }
   },
   "source": [
    "# Operator Associativity\n",
    "\n",
    "**Operator associativity** is used to determine the order of execution if two or more operators have the same precedence in an expression. Operator associativity can be one of the following:\n",
    "\n",
    "- left to right\n",
    "- right to left\n",
    "\n",
    "Only the following operators have right to left associativity:\n",
    "\n",
    "- Exponentiation (`**`)\n",
    "- Logical not (`not`)\n",
    "- Assignment operators\n",
    "\n",
    "All the other operators have left to right associativity."
   ]
  },
  {
   "cell_type": "code",
   "execution_count": null,
   "id": "08863e1d",
   "metadata": {
    "slideshow": {
     "slide_type": "subslide"
    }
   },
   "outputs": [],
   "source": [
    "2 + 4 * 10"
   ]
  },
  {
   "cell_type": "code",
   "execution_count": null,
   "id": "6ed3bc98",
   "metadata": {
    "slideshow": {
     "slide_type": "fragment"
    }
   },
   "outputs": [],
   "source": [
    "(2 + 4) * 10"
   ]
  },
  {
   "cell_type": "code",
   "execution_count": null,
   "id": "5a486647",
   "metadata": {
    "slideshow": {
     "slide_type": "fragment"
    }
   },
   "outputs": [],
   "source": [
    "5 * 20 - 2 ** 5"
   ]
  },
  {
   "cell_type": "code",
   "execution_count": null,
   "id": "7104bba2",
   "metadata": {
    "slideshow": {
     "slide_type": "fragment"
    }
   },
   "outputs": [],
   "source": [
    "5 * (20 - 2) ** 5"
   ]
  },
  {
   "cell_type": "code",
   "execution_count": null,
   "id": "bfd63cba",
   "metadata": {
    "slideshow": {
     "slide_type": "fragment"
    }
   },
   "outputs": [],
   "source": [
    "100 // 5 % 3"
   ]
  },
  {
   "cell_type": "code",
   "execution_count": null,
   "id": "c1386f9b",
   "metadata": {
    "slideshow": {
     "slide_type": "fragment"
    }
   },
   "outputs": [],
   "source": [
    "100 // (5 % 3)"
   ]
  },
  {
   "cell_type": "code",
   "execution_count": null,
   "id": "b530a96d",
   "metadata": {
    "slideshow": {
     "slide_type": "subslide"
    }
   },
   "outputs": [],
   "source": [
    "superhero = \"Robin\"\n",
    "power = 60\n",
    "\n",
    "superhero == \"Robin\" or superhero == \"Batman\" and power > 80"
   ]
  },
  {
   "cell_type": "code",
   "execution_count": null,
   "id": "20c3a34e",
   "metadata": {
    "slideshow": {
     "slide_type": "fragment"
    }
   },
   "outputs": [],
   "source": [
    "superhero = \"Robin\"\n",
    "power = 60\n",
    "\n",
    "(superhero == \"Robin\" or superhero == \"Batman\") and power > 80"
   ]
  },
  {
   "cell_type": "code",
   "execution_count": null,
   "id": "e0cc99f4",
   "metadata": {
    "slideshow": {
     "slide_type": "subslide"
    }
   },
   "outputs": [],
   "source": [
    "2 ** 3 ** 2"
   ]
  },
  {
   "cell_type": "code",
   "execution_count": null,
   "id": "338b4fb6",
   "metadata": {
    "slideshow": {
     "slide_type": "fragment"
    }
   },
   "outputs": [],
   "source": [
    "(2 ** 3) ** 2"
   ]
  },
  {
   "cell_type": "code",
   "execution_count": null,
   "id": "72475741",
   "metadata": {
    "slideshow": {
     "slide_type": "fragment"
    }
   },
   "outputs": [],
   "source": [
    "not not True"
   ]
  },
  {
   "cell_type": "code",
   "execution_count": null,
   "id": "b81f9732",
   "metadata": {
    "slideshow": {
     "slide_type": "fragment"
    }
   },
   "outputs": [],
   "source": [
    "not not not True"
   ]
  },
  {
   "cell_type": "code",
   "execution_count": null,
   "id": "6181d886",
   "metadata": {
    "slideshow": {
     "slide_type": "subslide"
    }
   },
   "outputs": [],
   "source": [
    "x = 6 ** 2 + 8 ** 2\n",
    "x"
   ]
  },
  {
   "cell_type": "code",
   "execution_count": null,
   "id": "970fa7e7",
   "metadata": {
    "slideshow": {
     "slide_type": "fragment"
    }
   },
   "outputs": [],
   "source": [
    "x = 100\n",
    "x *= 7 - 2\n",
    "x"
   ]
  },
  {
   "cell_type": "markdown",
   "id": "25147b3b",
   "metadata": {
    "slideshow": {
     "slide_type": "slide"
    }
   },
   "source": [
    "# String operations\n",
    "\n",
    "| Operator   | Name          | Example        | Meaning                             |\n",
    "|------------|---------------|----------------|-------------------------------------|\n",
    "| \\+         | Concatenation | x \\+ y         | Concatenates two strings            |\n",
    "| \\*         | Repetition    | x \\* y         | Repeats a string for integral times |\n",
    "| Comparison | \\-            | x <comp\\_op> y | Performs string comparison          |\n",
    "| Assignment | \\-            | x <asg\\_op> y  | Performs string assignment          |"
   ]
  },
  {
   "cell_type": "markdown",
   "id": "ccc9a684",
   "metadata": {
    "slideshow": {
     "slide_type": "subslide"
    }
   },
   "source": [
    "## Concatenation"
   ]
  },
  {
   "cell_type": "code",
   "execution_count": null,
   "id": "575d744d",
   "metadata": {
    "slideshow": {
     "slide_type": "fragment"
    }
   },
   "outputs": [],
   "source": [
    "\"Hello \" + \"World\" "
   ]
  },
  {
   "cell_type": "code",
   "execution_count": null,
   "id": "8fcaf8e1",
   "metadata": {
    "slideshow": {
     "slide_type": "fragment"
    }
   },
   "outputs": [],
   "source": [
    "name = \"John\"\n",
    "\n",
    "\"Hello, \" + name + \"!\""
   ]
  },
  {
   "cell_type": "markdown",
   "id": "09c4db12",
   "metadata": {
    "slideshow": {
     "slide_type": "subslide"
    }
   },
   "source": [
    "## Repetition\n",
    "\n",
    "- One of the arguments must be integer and the other should be string."
   ]
  },
  {
   "cell_type": "code",
   "execution_count": null,
   "id": "1084b4d4",
   "metadata": {
    "slideshow": {
     "slide_type": "fragment"
    }
   },
   "outputs": [],
   "source": [
    "3 * \"hello \""
   ]
  },
  {
   "cell_type": "code",
   "execution_count": null,
   "id": "3665542e",
   "metadata": {
    "slideshow": {
     "slide_type": "fragment"
    }
   },
   "outputs": [],
   "source": [
    "\"hello \" * 3"
   ]
  },
  {
   "cell_type": "code",
   "execution_count": null,
   "id": "dcfded51",
   "metadata": {
    "slideshow": {
     "slide_type": "fragment"
    }
   },
   "outputs": [],
   "source": [
    "3.5 * \"hello \""
   ]
  },
  {
   "cell_type": "code",
   "execution_count": null,
   "id": "9a895ec3",
   "metadata": {
    "slideshow": {
     "slide_type": "fragment"
    }
   },
   "outputs": [],
   "source": [
    "(3.5 + 1j) * \"hello \""
   ]
  },
  {
   "cell_type": "markdown",
   "id": "9ae23d97",
   "metadata": {
    "slideshow": {
     "slide_type": "subslide"
    }
   },
   "source": [
    "## Comparison\n",
    "\n",
    "- It performs comparison between strings using their corresponding Unicode values.\n",
    "- The function `ord()` can be used to find the unicode representation value of a character."
   ]
  },
  {
   "cell_type": "code",
   "execution_count": null,
   "id": "afc61b7e",
   "metadata": {
    "slideshow": {
     "slide_type": "fragment"
    }
   },
   "outputs": [],
   "source": [
    "ord(\"a\"), ord(\"A\")"
   ]
  },
  {
   "cell_type": "code",
   "execution_count": null,
   "id": "9d00cfc7",
   "metadata": {
    "slideshow": {
     "slide_type": "fragment"
    }
   },
   "outputs": [],
   "source": [
    "ord(\"z\"), ord(\"Z\")"
   ]
  },
  {
   "cell_type": "code",
   "execution_count": null,
   "id": "a25e60a9",
   "metadata": {
    "slideshow": {
     "slide_type": "fragment"
    }
   },
   "outputs": [],
   "source": [
    "ord(\"ա\"), ord(\"Ա\")"
   ]
  },
  {
   "cell_type": "code",
   "execution_count": null,
   "id": "d43bcc59",
   "metadata": {
    "slideshow": {
     "slide_type": "fragment"
    }
   },
   "outputs": [],
   "source": [
    "ord(\"ֆ\"), ord(\"Ֆ\")"
   ]
  },
  {
   "cell_type": "code",
   "execution_count": null,
   "id": "aa5eecfb",
   "metadata": {
    "slideshow": {
     "slide_type": "subslide"
    }
   },
   "outputs": [],
   "source": [
    "\"abc\" == \"abc\""
   ]
  },
  {
   "cell_type": "code",
   "execution_count": null,
   "id": "c1b630ac",
   "metadata": {
    "slideshow": {
     "slide_type": "fragment"
    }
   },
   "outputs": [],
   "source": [
    "\"abc\" != \"abd\""
   ]
  },
  {
   "cell_type": "code",
   "execution_count": null,
   "id": "af38b1a2",
   "metadata": {
    "slideshow": {
     "slide_type": "fragment"
    }
   },
   "outputs": [],
   "source": [
    "\"abc\" < \"abd\""
   ]
  },
  {
   "cell_type": "code",
   "execution_count": null,
   "id": "e143dfb6",
   "metadata": {
    "slideshow": {
     "slide_type": "fragment"
    }
   },
   "outputs": [],
   "source": [
    "\"abcABC\" < \"abdabc\""
   ]
  },
  {
   "cell_type": "code",
   "execution_count": null,
   "id": "9e428de1",
   "metadata": {
    "slideshow": {
     "slide_type": "fragment"
    }
   },
   "outputs": [],
   "source": [
    "\"abc\" >= \"ABC\""
   ]
  },
  {
   "cell_type": "code",
   "execution_count": null,
   "id": "5a8e0b15",
   "metadata": {
    "slideshow": {
     "slide_type": "fragment"
    }
   },
   "outputs": [],
   "source": [
    "\"abcACD\" >= \"abcABC\""
   ]
  },
  {
   "cell_type": "markdown",
   "id": "98662ea9",
   "metadata": {
    "slideshow": {
     "slide_type": "slide"
    }
   },
   "source": [
    "# String formatting / interpolation\n",
    "\n",
    "- printf-style string formatting via `%` operator\n",
    "- string formatting via `str.format`\n",
    "- string interpolation via f-strings"
   ]
  },
  {
   "cell_type": "markdown",
   "id": "7218ea3c",
   "metadata": {
    "slideshow": {
     "slide_type": "subslide"
    }
   },
   "source": [
    "## printf-style\n",
    "\n",
    "- `<format> % <values>` construct is used and conversion specifications in `<format>` are replaced by `<values>`.\n",
    "- `<format>` is a string that includes conversion specifiers, such as:\n",
    "    - `'d'`: for signed integer decimal format\n",
    "    - `'f'`: for floating point decimal format\n",
    "    - `'s'`: for string format\n",
    "\n",
    "For complete reference to formatting and specifications, see:\n",
    "- [printf-style String Formatting](https://docs.python.org/3/library/stdtypes.html#printf-style-string-formatting)\n",
    "- [Format String Syntax](https://docs.python.org/3/library/string.html#format-string-syntax)"
   ]
  },
  {
   "cell_type": "code",
   "execution_count": null,
   "id": "668d9d95",
   "metadata": {
    "slideshow": {
     "slide_type": "subslide"
    }
   },
   "outputs": [],
   "source": [
    "age = 19\n",
    "\n",
    "\"John is %d years old and his GPA is 19.57.\" % age"
   ]
  },
  {
   "cell_type": "code",
   "execution_count": null,
   "id": "a69750b0",
   "metadata": {
    "slideshow": {
     "slide_type": "fragment"
    }
   },
   "outputs": [],
   "source": [
    "age = 19\n",
    "name = \"John\"\n",
    "\n",
    "\"%s is %d years old and his GPA is 19.57.\" % (name, age)"
   ]
  },
  {
   "cell_type": "code",
   "execution_count": null,
   "id": "520fc504",
   "metadata": {
    "slideshow": {
     "slide_type": "subslide"
    }
   },
   "outputs": [],
   "source": [
    "age = 19\n",
    "name = \"John\"\n",
    "gpa = 19.57\n",
    "\n",
    "\"%s is %d years old and his GPA is %.2f.\" % (name, age, gpa)"
   ]
  },
  {
   "cell_type": "code",
   "execution_count": null,
   "id": "7314d6d9",
   "metadata": {
    "slideshow": {
     "slide_type": "fragment"
    }
   },
   "outputs": [],
   "source": [
    "age = 19\n",
    "name = \"John\"\n",
    "gpa = 19.57\n",
    "\n",
    "\"%(name)s is %(age)d years old and his GPA is %(gpa).2f.\" % {\"name\": name, \"age\": age, \"gpa\": gpa}"
   ]
  },
  {
   "cell_type": "markdown",
   "id": "3c74301e",
   "metadata": {
    "slideshow": {
     "slide_type": "subslide"
    }
   },
   "source": [
    "## `str.format`\n",
    "\n",
    "- `str.format` method can be called on a string object that includes `{}` replacement fields.\n",
    "- Usual formatting conversion specifiers can be used.\n",
    "\n",
    "For complete reference to formatting and specifications, see:\n",
    "- [str.format documentation](https://docs.python.org/3/library/stdtypes.html#str.format)\n",
    "- [Format String Syntax](https://docs.python.org/3/library/string.html#format-string-syntax)"
   ]
  },
  {
   "cell_type": "code",
   "execution_count": null,
   "id": "164d0343",
   "metadata": {
    "slideshow": {
     "slide_type": "subslide"
    }
   },
   "outputs": [],
   "source": [
    "age = 19\n",
    "\n",
    "\"John is {} years old and his GPA is 19.57.\".format(age)"
   ]
  },
  {
   "cell_type": "code",
   "execution_count": null,
   "id": "dff0d215",
   "metadata": {
    "slideshow": {
     "slide_type": "fragment"
    }
   },
   "outputs": [],
   "source": [
    "age = 19\n",
    "name = \"John\"\n",
    "\n",
    "\"{1} is {0} years old and his GPA is 19.57.\".format(age, name)"
   ]
  },
  {
   "cell_type": "code",
   "execution_count": null,
   "id": "07de5344",
   "metadata": {
    "slideshow": {
     "slide_type": "subslide"
    }
   },
   "outputs": [],
   "source": [
    "age = 19\n",
    "name = \"John\"\n",
    "gpa = 19.57\n",
    "\n",
    "\"{1} is {0} years old and his GPA is {2:.2f}.\".format(age, name, gpa)"
   ]
  },
  {
   "cell_type": "code",
   "execution_count": null,
   "id": "03434bbb",
   "metadata": {
    "slideshow": {
     "slide_type": "fragment"
    }
   },
   "outputs": [],
   "source": [
    "age = 19\n",
    "name = \"John\"\n",
    "gpa = 19.57\n",
    "\n",
    "\"{name} is {age} years old and his GPA is {gpa}.\".format(age=age, name=name, gpa=gpa)"
   ]
  },
  {
   "cell_type": "markdown",
   "id": "7d57b286",
   "metadata": {
    "slideshow": {
     "slide_type": "subslide"
    }
   },
   "source": [
    "## String interpolation\n",
    "\n",
    "- String interpolation can be performed via `f`-strings.\n",
    "- `f`-strings allow us to embed expressions inside string literals.\n",
    "- Usual formatting conversion specifiers can be used.\n",
    "\n",
    "For complete reference to formatting and specifications, see:\n",
    "- [PEP 498 – Literal String Interpolation](https://peps.python.org/pep-0498/)\n",
    "- [Format String Syntax](https://docs.python.org/3/library/string.html#format-string-syntax)"
   ]
  },
  {
   "cell_type": "code",
   "execution_count": null,
   "id": "2ecee8a4",
   "metadata": {
    "slideshow": {
     "slide_type": "subslide"
    }
   },
   "outputs": [],
   "source": [
    "age = 19\n",
    "name = \"John\"\n",
    "gpa = 19.57\n",
    "\n",
    "f\"{name} is {age} years old and his GPA is {gpa}.\""
   ]
  },
  {
   "cell_type": "code",
   "execution_count": null,
   "id": "7ab0686d",
   "metadata": {
    "slideshow": {
     "slide_type": "fragment"
    }
   },
   "outputs": [],
   "source": [
    "born = 2004\n",
    "\n",
    "f\"John is {2023 - born} years old and his GPA is 19.57.\""
   ]
  },
  {
   "cell_type": "code",
   "execution_count": null,
   "id": "9c9c751d",
   "metadata": {
    "slideshow": {
     "slide_type": "subslide"
    }
   },
   "outputs": [],
   "source": [
    "born = 2004\n",
    "grade1 = 19\n",
    "grade2 = 17\n",
    "grade3 = 20\n",
    "\n",
    "f\"John is {2023 - born} years old and his GPA is {((grade1 + grade2 + grade3) / 3):.2f}.\""
   ]
  },
  {
   "cell_type": "markdown",
   "id": "7960497a",
   "metadata": {
    "slideshow": {
     "slide_type": "slide"
    }
   },
   "source": [
    "# Type casting\n",
    "\n",
    "**Type casting** is a technique of converting a value from one data type to another data type.\n",
    "\n",
    "- **Implicit type casting:** Python interpreter automatically performs data type converion.\n",
    "- **Explicit type casting:** Programmer needs to programatically convert from one data type to another."
   ]
  },
  {
   "cell_type": "markdown",
   "id": "5bbbe381",
   "metadata": {
    "slideshow": {
     "slide_type": "subslide"
    }
   },
   "source": [
    "## Implicit type casting"
   ]
  },
  {
   "cell_type": "code",
   "execution_count": null,
   "id": "04318e64",
   "metadata": {
    "slideshow": {
     "slide_type": "fragment"
    }
   },
   "outputs": [],
   "source": [
    "x = 5\n",
    "y = 6.5\n",
    "\n",
    "type(x), type(y)"
   ]
  },
  {
   "cell_type": "code",
   "execution_count": null,
   "id": "839c1e1a",
   "metadata": {
    "slideshow": {
     "slide_type": "fragment"
    }
   },
   "outputs": [],
   "source": [
    "x + y, type(x + y)"
   ]
  },
  {
   "cell_type": "markdown",
   "id": "7b0fabab",
   "metadata": {
    "slideshow": {
     "slide_type": "subslide"
    }
   },
   "source": [
    "## Explicit type casting\n",
    "\n",
    "The following are common functions that can be used for explicit type casting:\n",
    "\n",
    "- `int`: `int()`\n",
    "- `float`: `float()`\n",
    "- `complex`: `complex()`\n",
    "- `bool`: `bool()`\n",
    "- `str`: `str()`"
   ]
  },
  {
   "cell_type": "code",
   "execution_count": null,
   "id": "ea64c5e1",
   "metadata": {
    "slideshow": {
     "slide_type": "subslide"
    }
   },
   "outputs": [],
   "source": [
    "int()"
   ]
  },
  {
   "cell_type": "code",
   "execution_count": null,
   "id": "9561ad07",
   "metadata": {
    "slideshow": {
     "slide_type": "fragment"
    }
   },
   "outputs": [],
   "source": [
    "int(\"123\")"
   ]
  },
  {
   "cell_type": "code",
   "execution_count": null,
   "id": "2f294015",
   "metadata": {
    "slideshow": {
     "slide_type": "fragment"
    }
   },
   "outputs": [],
   "source": [
    "int(123.55)"
   ]
  },
  {
   "cell_type": "code",
   "execution_count": null,
   "id": "873c85b1",
   "metadata": {
    "slideshow": {
     "slide_type": "fragment"
    }
   },
   "outputs": [],
   "source": [
    "int(1 + 1j)"
   ]
  },
  {
   "cell_type": "code",
   "execution_count": null,
   "id": "1b0c2b75",
   "metadata": {
    "slideshow": {
     "slide_type": "subslide"
    }
   },
   "outputs": [],
   "source": [
    "float()"
   ]
  },
  {
   "cell_type": "code",
   "execution_count": null,
   "id": "58cd07d0",
   "metadata": {
    "slideshow": {
     "slide_type": "fragment"
    }
   },
   "outputs": [],
   "source": [
    "float(\"123.55\")"
   ]
  },
  {
   "cell_type": "code",
   "execution_count": null,
   "id": "655e8fa1",
   "metadata": {
    "slideshow": {
     "slide_type": "fragment"
    }
   },
   "outputs": [],
   "source": [
    "float(123)"
   ]
  },
  {
   "cell_type": "code",
   "execution_count": null,
   "id": "e44d30ec",
   "metadata": {
    "slideshow": {
     "slide_type": "fragment"
    }
   },
   "outputs": [],
   "source": [
    "float(1 + 1j)"
   ]
  },
  {
   "cell_type": "code",
   "execution_count": null,
   "id": "c4d7236f",
   "metadata": {
    "slideshow": {
     "slide_type": "subslide"
    }
   },
   "outputs": [],
   "source": [
    "complex()"
   ]
  },
  {
   "cell_type": "code",
   "execution_count": null,
   "id": "4696905f",
   "metadata": {
    "slideshow": {
     "slide_type": "fragment"
    }
   },
   "outputs": [],
   "source": [
    "complex(1, 2)"
   ]
  },
  {
   "cell_type": "code",
   "execution_count": null,
   "id": "aea18a52",
   "metadata": {
    "slideshow": {
     "slide_type": "fragment"
    }
   },
   "outputs": [],
   "source": [
    "complex(\"1+2j\")"
   ]
  },
  {
   "cell_type": "code",
   "execution_count": null,
   "id": "25ab0255",
   "metadata": {
    "slideshow": {
     "slide_type": "fragment"
    }
   },
   "outputs": [],
   "source": [
    "complex(\"1 + 2j\")"
   ]
  },
  {
   "cell_type": "code",
   "execution_count": null,
   "id": "03b5f7e6",
   "metadata": {
    "slideshow": {
     "slide_type": "fragment"
    }
   },
   "outputs": [],
   "source": [
    "complex(1)"
   ]
  },
  {
   "cell_type": "code",
   "execution_count": null,
   "id": "9bb76edf",
   "metadata": {
    "slideshow": {
     "slide_type": "fragment"
    }
   },
   "outputs": [],
   "source": [
    "complex(1.2)"
   ]
  },
  {
   "cell_type": "code",
   "execution_count": null,
   "id": "6044d20b",
   "metadata": {
    "slideshow": {
     "slide_type": "subslide"
    }
   },
   "outputs": [],
   "source": [
    "bool()"
   ]
  },
  {
   "cell_type": "code",
   "execution_count": null,
   "id": "63bc6b25",
   "metadata": {
    "slideshow": {
     "slide_type": "fragment"
    }
   },
   "outputs": [],
   "source": [
    "bool(1)"
   ]
  },
  {
   "cell_type": "code",
   "execution_count": null,
   "id": "9824cc1e",
   "metadata": {
    "slideshow": {
     "slide_type": "fragment"
    }
   },
   "outputs": [],
   "source": [
    "bool(0)"
   ]
  },
  {
   "cell_type": "code",
   "execution_count": null,
   "id": "12993666",
   "metadata": {
    "slideshow": {
     "slide_type": "subslide"
    }
   },
   "outputs": [],
   "source": [
    "str()"
   ]
  },
  {
   "cell_type": "code",
   "execution_count": null,
   "id": "a53a8b60",
   "metadata": {
    "slideshow": {
     "slide_type": "fragment"
    }
   },
   "outputs": [],
   "source": [
    "str(123)"
   ]
  },
  {
   "cell_type": "code",
   "execution_count": null,
   "id": "68765389",
   "metadata": {
    "slideshow": {
     "slide_type": "fragment"
    }
   },
   "outputs": [],
   "source": [
    "str(123.45)"
   ]
  },
  {
   "cell_type": "code",
   "execution_count": null,
   "id": "5b6bd38f",
   "metadata": {
    "slideshow": {
     "slide_type": "fragment"
    }
   },
   "outputs": [],
   "source": [
    "str(1.2 + 3.4j)"
   ]
  },
  {
   "cell_type": "code",
   "execution_count": null,
   "id": "03cbb84a",
   "metadata": {
    "slideshow": {
     "slide_type": "fragment"
    }
   },
   "outputs": [],
   "source": [
    "str([1, 2, 3])"
   ]
  },
  {
   "cell_type": "markdown",
   "id": "8691f351",
   "metadata": {
    "slideshow": {
     "slide_type": "slide"
    }
   },
   "source": [
    "# Control flow\n",
    "\n",
    "**Control flow** is the order in which statements are executed.\n",
    "\n",
    "- `if` statements are conditional statements and allow us to have branching in our programs.\n",
    "- loop statements are iterative statements and allow us to have repetition in our programs."
   ]
  },
  {
   "cell_type": "markdown",
   "id": "6575486b",
   "metadata": {
    "slideshow": {
     "slide_type": "slide"
    }
   },
   "source": [
    "# `if` statements\n",
    "\n",
    "```python\n",
    "if <condition>:\n",
    "    <block_of_statements>\n",
    "```\n",
    "\n",
    "- `<condition>` is an expression evaluated in a boolean context. If it evaluates to `True`, `<block_of_statements>` block is executed. Otherwise, it is skipped and nothing happens in this scope.\n",
    "- `<block_of_statements>` is a block that can include one or more statements."
   ]
  },
  {
   "cell_type": "code",
   "execution_count": null,
   "id": "b87f72ae",
   "metadata": {
    "slideshow": {
     "slide_type": "subslide"
    }
   },
   "outputs": [],
   "source": [
    "temperature = -10\n",
    "\n",
    "if temperature < 0:\n",
    "    print(\"It is cold outside\")"
   ]
  },
  {
   "cell_type": "code",
   "execution_count": null,
   "id": "75ddf9c2",
   "metadata": {
    "slideshow": {
     "slide_type": "fragment"
    }
   },
   "outputs": [],
   "source": [
    "temperature = 5\n",
    "\n",
    "if temperature < 0:\n",
    "    print(\"It is cold outside\")"
   ]
  },
  {
   "cell_type": "markdown",
   "id": "12313d7a",
   "metadata": {
    "slideshow": {
     "slide_type": "slide"
    }
   },
   "source": [
    "# Indentation and block\n",
    "\n",
    "Block is a group of statements that is defined by its indentation. In Python, indentation is usually defined as 4 whitespaces.\n",
    "\n",
    "```python\n",
    "if <condition>:\n",
    "    <statement_1>\n",
    "    <statement_2>\n",
    "    ...\n",
    "    <statement_n>\n",
    "\n",
    "<statement_n+1>\n",
    "```"
   ]
  },
  {
   "cell_type": "code",
   "execution_count": null,
   "id": "37426f5e",
   "metadata": {
    "slideshow": {
     "slide_type": "subslide"
    }
   },
   "outputs": [],
   "source": [
    "temperature = -10\n",
    "is_heater_on = False\n",
    "\n",
    "if temperature < 0:\n",
    "    print(\"It is cold outside\")\n",
    "    print(\"You should dress warmly\")\n",
    "    is_heater_on = True\n",
    "\n",
    "is_heater_on"
   ]
  },
  {
   "cell_type": "code",
   "execution_count": null,
   "id": "fc715fcc",
   "metadata": {
    "slideshow": {
     "slide_type": "fragment"
    }
   },
   "outputs": [],
   "source": [
    "temperature = 5\n",
    "is_heater_on = False\n",
    "\n",
    "if temperature < 0:\n",
    "    print(\"It is cold outside\")\n",
    "    print(\"You should dress warmly\")\n",
    "    is_heater_on = True\n",
    "\n",
    "is_heater_on"
   ]
  },
  {
   "cell_type": "markdown",
   "id": "67a1a5b8",
   "metadata": {
    "slideshow": {
     "slide_type": "slide"
    }
   },
   "source": [
    "# `if-else` statements\n",
    "\n",
    "```python\n",
    "if <condition>:\n",
    "    <block_of_statements_1>\n",
    "else:\n",
    "    <block_of_statements_2>\n",
    "```\n",
    "\n",
    "- `<condition>` is an expression evaluated in a boolean context. If it evaluates to `True`, `<block_of_statements_1>` block is executed. Otherwise, `<block_of_statements_2>` block is executed.\n",
    "- `<block_of_statements_1>` and `<block_of_statements_2>` are blocks that can include one or more statements.\n",
    "- Each of these blocks are branches in the flow of execution."
   ]
  },
  {
   "cell_type": "code",
   "execution_count": null,
   "id": "7b9805d8",
   "metadata": {
    "slideshow": {
     "slide_type": "subslide"
    }
   },
   "outputs": [],
   "source": [
    "temperature = -10\n",
    "\n",
    "if temperature < 0:\n",
    "    print(\"It is cold outside\")\n",
    "    print(\"You should dress warmly\")\n",
    "    is_heater_on = True\n",
    "else:\n",
    "    print(\"It is not cold outside\")\n",
    "    print(\"But you should still dress warmly\")\n",
    "    is_heater_on = False\n",
    "\n",
    "is_heater_on"
   ]
  },
  {
   "cell_type": "code",
   "execution_count": null,
   "id": "df6c321e",
   "metadata": {
    "slideshow": {
     "slide_type": "subslide"
    }
   },
   "outputs": [],
   "source": [
    "temperature = 5\n",
    "\n",
    "if temperature < 0:\n",
    "    print(\"It is cold outside\")\n",
    "    print(\"You should dress warmly\")\n",
    "    is_heater_on = True\n",
    "else:\n",
    "    print(\"It is not cold outside\")\n",
    "    print(\"But you should still dress warmly\")\n",
    "    is_heater_on = False\n",
    "\n",
    "is_heater_on"
   ]
  },
  {
   "cell_type": "markdown",
   "id": "c49d30c9",
   "metadata": {
    "slideshow": {
     "slide_type": "slide"
    }
   },
   "source": [
    "# `if-elif-else` statements / chained condionals\n",
    "\n",
    "```python\n",
    "if <condition>:\n",
    "    <block_of_statements_1>\n",
    "elif:\n",
    "    <block_of_statements_2> (optional)\n",
    "elif:\n",
    "    <block_of_statements_3> (optional)\n",
    "...\n",
    "else:\n",
    "    <block_of_statements_n> (optional)\n",
    "```\n",
    "\n",
    "- each `<condition_i>` is an expression evaluated in a boolean context. If a `<condition_i>` evaluates to `True`, `<block_of_statements_i>` block is executed. If none of them is `True` and `else` block is provided, `<block_of_statements_n>` block is executed.\n",
    "- each `<block_of_statements_i>` is a block that can include one or more statements.\n",
    "- Each of these blocks are branches in the flow of execution."
   ]
  },
  {
   "cell_type": "code",
   "execution_count": null,
   "id": "3559c0bf",
   "metadata": {
    "slideshow": {
     "slide_type": "subslide"
    }
   },
   "outputs": [],
   "source": [
    "x = int(input(\"Enter a number: \"))\n",
    "\n",
    "if x % 3 == 0:\n",
    "    print(f\"{x} is divisible by 3\")\n",
    "elif x % 4 == 0:\n",
    "    print(f\"{x} is divisible by 4\")\n",
    "elif x % 5 == 0:\n",
    "    print(f\"{x} is divisible by 5\")"
   ]
  },
  {
   "cell_type": "code",
   "execution_count": null,
   "id": "31175a26",
   "metadata": {
    "slideshow": {
     "slide_type": "subslide"
    }
   },
   "outputs": [],
   "source": [
    "x = int(input(\"Enter a number: \"))\n",
    "\n",
    "if x % 3 == 0:\n",
    "    print(f\"{x} is divisible by 3\")\n",
    "elif x % 4 == 0:\n",
    "    print(f\"{x} is divisible by 4\")\n",
    "elif x % 5 == 0:\n",
    "    print(f\"{x} is divisible by 5\")\n",
    "else:\n",
    "    print(f\"{x} is neither divisible by 3, 4 nor 5\")"
   ]
  },
  {
   "cell_type": "markdown",
   "id": "38204e47",
   "metadata": {
    "slideshow": {
     "slide_type": "slide"
    }
   },
   "source": [
    "# Nested conditionals\n",
    "\n",
    "\n",
    "```python\n",
    "if <condition_1>:\n",
    "    if <condition_1_1>:\n",
    "        <block_of_statements_1_1>\n",
    "    else:\n",
    "        <block_of_statements_1_2>\n",
    "else:\n",
    "    if <condition_2_1>:\n",
    "        <block_of_statements_2_1>\n",
    "    else:\n",
    "        <block_of_statements_2_2>\n",
    "```"
   ]
  },
  {
   "cell_type": "code",
   "execution_count": null,
   "id": "93cfc2b0",
   "metadata": {
    "slideshow": {
     "slide_type": "subslide"
    }
   },
   "outputs": [],
   "source": [
    "x = -1\n",
    "y = 2\n",
    "\n",
    "if x > 0:\n",
    "    if y > 0:\n",
    "        print(f\"Point ({x}, {y}) lies in the 1st quadrant\")\n",
    "    else:\n",
    "        print(f\"Point ({x}, {y}) lies in the 4st quadrant\")\n",
    "else:\n",
    "    if y > 0:\n",
    "        print(f\"Point ({x}, {y}) lies in the 2st quadrant\")\n",
    "    else:\n",
    "        print(f\"Point ({x}, {y}) lies in the 3st quadrant\")"
   ]
  },
  {
   "cell_type": "code",
   "execution_count": null,
   "id": "ff6b3fc1",
   "metadata": {},
   "outputs": [],
   "source": []
  }
 ],
 "metadata": {
  "celltoolbar": "Slideshow",
  "kernelspec": {
   "display_name": "Python 3 (ipykernel)",
   "language": "python",
   "name": "python3"
  },
  "language_info": {
   "codemirror_mode": {
    "name": "ipython",
    "version": 3
   },
   "file_extension": ".py",
   "mimetype": "text/x-python",
   "name": "python",
   "nbconvert_exporter": "python",
   "pygments_lexer": "ipython3",
   "version": "3.8.10"
  },
  "vscode": {
   "interpreter": {
    "hash": "916dbcbb3f70747c44a77c7bcd40155683ae19c65e1c03b4aa3499c5328201f1"
   }
  }
 },
 "nbformat": 4,
 "nbformat_minor": 5
}
