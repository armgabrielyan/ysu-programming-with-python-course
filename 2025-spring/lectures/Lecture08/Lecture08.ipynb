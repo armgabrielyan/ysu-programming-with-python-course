{
 "cells": [
  {
   "cell_type": "markdown",
   "id": "70e592c3",
   "metadata": {},
   "source": [
    "# Programming with Python\n",
    "\n",
    "## Lecture 08: Class metaprogramming and memory management\n",
    "\n",
    "### Armen Gabrielyan\n",
    "\n",
    "#### Yerevan State University / ASDS\n",
    "\n",
    "#### 12 Apr, 2025"
   ]
  },
  {
   "cell_type": "markdown",
   "id": "364a5893",
   "metadata": {},
   "source": [
    "## Class metaprogramming\n",
    "\n",
    "This section is heavily influenced by the following:\n",
    "\n",
    "*References:*\n",
    "\n",
    "- Fluent Python, Luciano Ramalho\n",
    "\n",
    "### Classes are objects"
   ]
  },
  {
   "cell_type": "code",
   "execution_count": null,
   "id": "56a0b0c7",
   "metadata": {},
   "outputs": [],
   "source": [
    "class A:\n",
    "    pass\n",
    "\n",
    "\n",
    "class B(A):\n",
    "    pass\n",
    "\n",
    "\n",
    "class C(B):\n",
    "    pass"
   ]
  },
  {
   "cell_type": "code",
   "execution_count": null,
   "id": "f7526fe8",
   "metadata": {},
   "outputs": [],
   "source": [
    "B.__bases__"
   ]
  },
  {
   "cell_type": "code",
   "execution_count": null,
   "id": "18043c51",
   "metadata": {},
   "outputs": [],
   "source": [
    "B.__subclasses__()"
   ]
  },
  {
   "cell_type": "code",
   "execution_count": null,
   "id": "b696e256",
   "metadata": {},
   "outputs": [],
   "source": [
    "B.mro()"
   ]
  },
  {
   "cell_type": "markdown",
   "id": "8938a284",
   "metadata": {},
   "source": [
    "### `type()`\n",
    "\n",
    "The `type()` function in Python is used to determine the type of an object or dynamically create new classes."
   ]
  },
  {
   "cell_type": "code",
   "execution_count": null,
   "id": "bc0321e5",
   "metadata": {},
   "outputs": [],
   "source": [
    "type(42)"
   ]
  },
  {
   "cell_type": "code",
   "execution_count": null,
   "id": "61ce8c4b",
   "metadata": {},
   "outputs": [],
   "source": [
    "for t in int, str, list, set, tuple:\n",
    "    print(type(t))"
   ]
  },
  {
   "cell_type": "code",
   "execution_count": null,
   "id": "d313a446",
   "metadata": {},
   "outputs": [],
   "source": [
    "class A:\n",
    "    pass\n",
    "\n",
    "type(A)"
   ]
  },
  {
   "cell_type": "code",
   "execution_count": null,
   "id": "b62db254",
   "metadata": {},
   "outputs": [],
   "source": [
    "type(ValueError)"
   ]
  },
  {
   "cell_type": "code",
   "execution_count": null,
   "id": "83d037a7",
   "metadata": {},
   "outputs": [],
   "source": [
    "type(type)"
   ]
  },
  {
   "cell_type": "markdown",
   "id": "5dd11fa6",
   "metadata": {},
   "source": [
    "`type` is a **metaclass**, meaning it is a class that builds other classes.\n",
    "\n",
    "```\n",
    "type(name, bases, attributes)\n",
    "```\n",
    "\n",
    "- `name`: Name of the class.\n",
    "- `bases`: Tuple of base classes.\n",
    "- `attributes`: Dictionary of attributes and methods."
   ]
  },
  {
   "cell_type": "code",
   "execution_count": null,
   "id": "deea14a7",
   "metadata": {},
   "outputs": [],
   "source": [
    "A = type(\"A\", (object,), {\"a\": 42, \"greet\": lambda self: \"Hello from A!\"})\n",
    "B = type(\"B\", (A,), {\"b\": 24, \"greet\": lambda self: \"Hello from B!\"})"
   ]
  },
  {
   "cell_type": "code",
   "execution_count": null,
   "id": "5475188e",
   "metadata": {},
   "outputs": [],
   "source": [
    "a = A()\n",
    "a.a, a.greet()"
   ]
  },
  {
   "cell_type": "code",
   "execution_count": null,
   "id": "9226a484",
   "metadata": {},
   "outputs": [],
   "source": [
    "b = B()\n",
    "b.b, b.greet()"
   ]
  },
  {
   "cell_type": "markdown",
   "id": "16ab4ba8",
   "metadata": {},
   "source": [
    "### Class factory function\n",
    "\n",
    "In the following example we define a `record_factory` function that acts like `@dataclass`"
   ]
  },
  {
   "cell_type": "code",
   "execution_count": null,
   "id": "ceeb3304",
   "metadata": {},
   "outputs": [],
   "source": [
    "from typing import Union, Any\n",
    "from collections.abc import Iterable, Iterator\n",
    "\n",
    "\n",
    "FieldNames = str | Iterable[str]\n",
    "\n",
    "def parse_identifiers(names: FieldNames) -> tuple[str, ...]:\n",
    "    if isinstance(names, str):\n",
    "        names = names.replace(',', ' ').split()\n",
    "    if not all(s.isidentifier() for s in names):\n",
    "        raise ValueError('names must all be valid identifiers')\n",
    "    return tuple(names)\n",
    "\n",
    "\n",
    "def record_factory(cls_name: str, field_names: FieldNames) -> type[tuple]:\n",
    "    slots = parse_identifiers(field_names)\n",
    "\n",
    "    def __init__(self, *args, **kwargs) -> None:\n",
    "        attrs = dict(zip(self.__slots__, args))\n",
    "        attrs.update(kwargs)\n",
    "        for name, value in attrs.items():\n",
    "            setattr(self, name, value)\n",
    "\n",
    "    def __iter__(self) -> Iterator[Any]:\n",
    "        for name in self.__slots__:\n",
    "            yield getattr(self, name)\n",
    "\n",
    "    def __repr__(self):\n",
    "        values = \", \".join(f\"{name}={value!r}\"\n",
    "            for name, value in zip(self.__slots__, self))\n",
    "        cls_name = self.__class__.__name__\n",
    "        return f\"{cls_name}({values})\"\n",
    "\n",
    "    cls_attrs = dict(\n",
    "        __slots__=slots,\n",
    "        __init__=__init__,\n",
    "        __iter__=__iter__,\n",
    "        __repr__=__repr__,\n",
    "    )\n",
    "\n",
    "    return type(cls_name, (object,), cls_attrs)"
   ]
  },
  {
   "cell_type": "code",
   "execution_count": null,
   "id": "9e344bbc",
   "metadata": {},
   "outputs": [],
   "source": [
    "Person = record_factory(\"Person\", \"name age\")"
   ]
  },
  {
   "cell_type": "code",
   "execution_count": null,
   "id": "dce1b689",
   "metadata": {},
   "outputs": [],
   "source": [
    "p = Person(name=\"John Doe\", age=42)\n",
    "p"
   ]
  },
  {
   "cell_type": "code",
   "execution_count": null,
   "id": "edb5d6cc",
   "metadata": {},
   "outputs": [],
   "source": [
    "name, age = p\n",
    "\n",
    "print(name)\n",
    "print(age)"
   ]
  },
  {
   "cell_type": "code",
   "execution_count": null,
   "id": "e5938a37",
   "metadata": {},
   "outputs": [],
   "source": [
    "p.name, p.age"
   ]
  },
  {
   "cell_type": "markdown",
   "id": "cdb135a5",
   "metadata": {},
   "source": [
    "### `__init_subclass__()` method\n",
    "\n",
    "The `__init_subclass__()` method is a special class method that is automatically called whenever a subclass is created. It allows a base class to customize the behavior of its subclasses."
   ]
  },
  {
   "cell_type": "code",
   "execution_count": null,
   "id": "3994586b",
   "metadata": {},
   "outputs": [],
   "source": [
    "int(), str(), list()"
   ]
  },
  {
   "cell_type": "code",
   "execution_count": null,
   "id": "bbf81683",
   "metadata": {},
   "outputs": [],
   "source": [
    "from collections.abc import Callable\n",
    "from typing import Any, NoReturn, get_type_hints\n",
    "\n",
    "\n",
    "class Field:\n",
    "    def __init__(self, name: str, constructor: Callable) -> None:\n",
    "        if not callable(constructor) or constructor is type(None):\n",
    "            raise TypeError(f'{name!r} type hint must be callable')\n",
    "        self.name = name\n",
    "        self.constructor = constructor\n",
    "\n",
    "    def __set__(self, instance: Any, value: Any) -> None:\n",
    "        if value is ...:\n",
    "            value = self.constructor()\n",
    "        else:\n",
    "            try:\n",
    "                value = self.constructor(value)\n",
    "            except (TypeError, ValueError) as e:\n",
    "                type_name = self.constructor.__name__\n",
    "                msg = f'{value!r} is not compatible with {self.name}:{type_name}'\n",
    "                raise TypeError(msg) from e\n",
    "        instance.__dict__[self.name] = value"
   ]
  },
  {
   "cell_type": "code",
   "execution_count": null,
   "id": "aadda191",
   "metadata": {},
   "outputs": [],
   "source": [
    "class Checked:\n",
    "    @classmethod\n",
    "    def _fields(cls) -> dict[str, type]:\n",
    "        return get_type_hints(cls)\n",
    "\n",
    "    def __init_subclass__(subclass) -> None:\n",
    "        super().__init_subclass__()\n",
    "        for name, constructor in subclass._fields().items():\n",
    "            setattr(subclass, name, Field(name, constructor))\n",
    "\n",
    "    def __init__(self, **kwargs: Any) -> None:\n",
    "        for name in self._fields():\n",
    "            value = kwargs.pop(name, ...)\n",
    "            setattr(self, name, value)\n",
    "        if kwargs:\n",
    "            self.__flag_unknown_attrs(*kwargs)\n",
    "\n",
    "    def __setattr__(self, name: str, value: Any) -> None:\n",
    "        if name in self._fields():\n",
    "            cls = self.__class__\n",
    "            descriptor = getattr(cls, name)\n",
    "            descriptor.__set__(self, value)\n",
    "        else:\n",
    "            self.__flag_unknown_attrs(name)\n",
    "\n",
    "    def __flag_unknown_attrs(self, *names: str) -> NoReturn:\n",
    "        plural = 's' if len(names) > 1 else ''\n",
    "        extra = ', '.join(f'{name!r}' for name in names)\n",
    "        cls_name = repr(self.__class__.__name__)\n",
    "        raise AttributeError(f'{cls_name} object has no attribute{plural} {extra}')\n",
    "\n",
    "    def _asdict(self) -> dict[str, Any]:\n",
    "        return {\n",
    "            name: getattr(self, name)\n",
    "            for name, attr in self.__class__.__dict__.items()\n",
    "            if isinstance(attr, Field)\n",
    "        }\n",
    "\n",
    "    def __repr__(self) -> str:\n",
    "        kwargs = ', '.join(\n",
    "            f'{key}={value!r}' for key, value in self._asdict().items()\n",
    "        )\n",
    "        return f'{self.__class__.__name__}({kwargs})'"
   ]
  },
  {
   "cell_type": "code",
   "execution_count": null,
   "id": "7c6d78a3",
   "metadata": {},
   "outputs": [],
   "source": [
    "class Person(Checked):\n",
    "    name: str\n",
    "    age: int\n",
    "    salary: float"
   ]
  },
  {
   "cell_type": "code",
   "execution_count": null,
   "id": "a971817b",
   "metadata": {},
   "outputs": [],
   "source": [
    "person = Person(name=\"John Doe\", age=42, salary=199_999.99)\n",
    "person"
   ]
  },
  {
   "cell_type": "code",
   "execution_count": null,
   "id": "51c9af71",
   "metadata": {},
   "outputs": [],
   "source": [
    "person.name, person.age"
   ]
  },
  {
   "cell_type": "code",
   "execution_count": null,
   "id": "fcc7d4f8",
   "metadata": {},
   "outputs": [],
   "source": [
    "person.age = \"text\""
   ]
  },
  {
   "cell_type": "code",
   "execution_count": null,
   "id": "0a5aba3a",
   "metadata": {},
   "outputs": [],
   "source": [
    "person = Person()\n",
    "person"
   ]
  },
  {
   "cell_type": "code",
   "execution_count": null,
   "id": "e204b2e1",
   "metadata": {},
   "outputs": [],
   "source": [
    "person = Person(first_name=\"John Doe\", age=42, salary=199_999.99)"
   ]
  },
  {
   "cell_type": "markdown",
   "id": "c886baf1",
   "metadata": {},
   "source": [
    "The `__init_subclass__()` method is called after the class is created. Adding `__slots__` to an existing class has no effect, meaning we cannot use the `__init_subclass__()` method for that purpose."
   ]
  },
  {
   "cell_type": "markdown",
   "id": "38d3067c",
   "metadata": {},
   "source": [
    "### Class decorator\n",
    "\n",
    "A **class decorator** is a decorator that modifies or enhances a class instead of a function. It is similar to a function decorator but applies changes to a class rather than a function.\n",
    "\n",
    "The main benefit of a class decorator over the simpler `__init_subclass__` is to avoid interfering with other class features, such as inheritance and metaclasses. This is actually why data classes are implemented as a class decorator."
   ]
  },
  {
   "cell_type": "code",
   "execution_count": null,
   "id": "1fc67ca2",
   "metadata": {},
   "outputs": [],
   "source": [
    "def _fields(cls: type) -> dict[str, type]:\n",
    "    return get_type_hints(cls)\n",
    "\n",
    "def __init__(self: Any, **kwargs: Any) -> None:\n",
    "    for name in self._fields():\n",
    "        value = kwargs.pop(name, ...)\n",
    "        setattr(self, name, value)\n",
    "    if kwargs:\n",
    "        self.__flag_unknown_attrs(*kwargs)\n",
    "\n",
    "def __setattr__(self: Any, name: str, value: Any) -> None:\n",
    "    if name in self._fields():\n",
    "        cls = self.__class__\n",
    "        descriptor = getattr(cls, name)\n",
    "        descriptor.__set__(self, value)\n",
    "    else:\n",
    "        self.__flag_unknown_attrs(name)\n",
    "\n",
    "def __flag_unknown_attrs(self: Any, *names: str) -> NoReturn:\n",
    "    plural = 's' if len(names) > 1 else ''\n",
    "    extra = ', '.join(f'{name!r}' for name in names)\n",
    "    cls_name = repr(self.__class__.__name__)\n",
    "    raise AttributeError(f'{cls_name} has no attribute{plural} {extra}')\n",
    "\n",
    "def _asdict(self: Any) -> dict[str, Any]:\n",
    "    return {\n",
    "        name: getattr(self, name)\n",
    "        for name, attr in self.__class__.__dict__.items()\n",
    "        if isinstance(attr, Field)\n",
    "    }\n",
    "\n",
    "def __repr__(self: Any) -> str:\n",
    "    kwargs = ', '.join(\n",
    "        f'{key}={value!r}' for key, value in self._asdict().items()\n",
    "    )\n",
    "    return f'{self.__class__.__name__}({kwargs})'"
   ]
  },
  {
   "cell_type": "code",
   "execution_count": null,
   "id": "a6eec3af",
   "metadata": {},
   "outputs": [],
   "source": [
    "def checked(cls: type) -> type:\n",
    "    for name, constructor in _fields(cls).items():\n",
    "        setattr(cls, name, Field(name, constructor))\n",
    "\n",
    "    cls._fields = classmethod(_fields)\n",
    "\n",
    "    instance_methods = (\n",
    "        __init__,\n",
    "        __repr__,\n",
    "        __setattr__,\n",
    "        _asdict,\n",
    "        __flag_unknown_attrs,\n",
    "    )\n",
    "    for method in instance_methods:\n",
    "        setattr(cls, method.__name__, method)\n",
    "\n",
    "    return cls"
   ]
  },
  {
   "cell_type": "code",
   "execution_count": null,
   "id": "17498a23",
   "metadata": {},
   "outputs": [],
   "source": [
    "@checked\n",
    "class Person:\n",
    "    name: str\n",
    "    age: int\n",
    "    salary: float"
   ]
  },
  {
   "cell_type": "code",
   "execution_count": null,
   "id": "07fc7cb7",
   "metadata": {},
   "outputs": [],
   "source": [
    "person = Person(name=\"John Doe\", age=42, salary=199_999.99)\n",
    "person"
   ]
  },
  {
   "cell_type": "code",
   "execution_count": null,
   "id": "5e67b77c",
   "metadata": {},
   "outputs": [],
   "source": [
    "person.name, person.age"
   ]
  },
  {
   "cell_type": "markdown",
   "id": "00865d2d",
   "metadata": {},
   "source": [
    "### Metaclasses\n",
    "\n",
    "A **metaclass** in Python is a class of a class. It defines how a class behaves, similar to how a class defines how an instance behaves. In simple terms, a metaclass controls the creation and behavior of classes."
   ]
  },
  {
   "cell_type": "code",
   "execution_count": null,
   "id": "47174ebe",
   "metadata": {},
   "outputs": [],
   "source": [
    "class A:\n",
    "    pass"
   ]
  },
  {
   "cell_type": "code",
   "execution_count": null,
   "id": "74d2d9b6",
   "metadata": {},
   "outputs": [],
   "source": [
    "for t in int, str, list, set, tuple, A, ValueError, type:\n",
    "    print(t.__class__)"
   ]
  },
  {
   "cell_type": "markdown",
   "id": "fca2440a",
   "metadata": {},
   "source": [
    "Classes are instances of `type` by default, but they all are subclasses of `object`.\n",
    "\n",
    "![Type and object relationships](resources/type-object-relationships.png)"
   ]
  },
  {
   "cell_type": "markdown",
   "id": "8e43c1a4",
   "metadata": {},
   "source": [
    "### `__new__` method\n",
    "\n",
    "Metaclasses customize a class through `__new__` method. The `__new__` method in a metaclass is responsible for creating the class before it gets initialized. It allows customization of class creation, modifying attributes, methods, or even rejecting class definitions.\n",
    "\n",
    "The` __new__` method in a metaclass receives:\n",
    "\n",
    "- `meta_cls`: The metaclass itself.\n",
    "- `cls_name`: The name of the class being created.\n",
    "- `bases`: A tuple of base classes.\n",
    "- `cls_dict`: A dictionary containing the class attributes and methods.\n",
    "\n",
    "It must return a new class object using `super().__new__()`."
   ]
  },
  {
   "cell_type": "code",
   "execution_count": null,
   "id": "b23296f9",
   "metadata": {},
   "outputs": [],
   "source": [
    "class A:\n",
    "    pass\n",
    "\n",
    "# is equivalent to\n",
    "\n",
    "class A(metaclass=type):\n",
    "    pass"
   ]
  },
  {
   "cell_type": "markdown",
   "id": "433d93ca",
   "metadata": {},
   "source": [
    "#### Basic example"
   ]
  },
  {
   "cell_type": "code",
   "execution_count": null,
   "id": "0938bcd2",
   "metadata": {},
   "outputs": [],
   "source": [
    "class MyMeta(type):\n",
    "    def __new__(cls, name, bases, class_dict, **kwargs):\n",
    "        print(f\"Creating class: {name=}\")\n",
    "        print(f\"{cls=}\")\n",
    "        print(f\"{bases=}\")\n",
    "        print(f\"{class_dict=}\")\n",
    "        print(f\"{kwargs=}\")\n",
    "        return super().__new__(cls, name, bases, class_dict)"
   ]
  },
  {
   "cell_type": "code",
   "execution_count": null,
   "id": "0d5f64aa",
   "metadata": {},
   "outputs": [],
   "source": [
    "class MyClass(metaclass=MyMeta, class_param_1=42, class_param_2=True):\n",
    "    pass"
   ]
  },
  {
   "cell_type": "markdown",
   "id": "fb7542d7",
   "metadata": {},
   "source": [
    "#### Adding an attribute "
   ]
  },
  {
   "cell_type": "code",
   "execution_count": null,
   "id": "db5eea04",
   "metadata": {},
   "outputs": [],
   "source": [
    "class AutoAttrMeta(type):\n",
    "    def __new__(cls, name, bases, class_dict):\n",
    "        class_dict[\"auto_attr\"] = \"I was added by metaclass!\"\n",
    "\n",
    "        return super().__new__(cls, name, bases, class_dict)"
   ]
  },
  {
   "cell_type": "code",
   "execution_count": null,
   "id": "aa607415",
   "metadata": {},
   "outputs": [],
   "source": [
    "class MyClass(metaclass=AutoAttrMeta):\n",
    "    pass"
   ]
  },
  {
   "cell_type": "code",
   "execution_count": null,
   "id": "8aeaceb0",
   "metadata": {},
   "outputs": [],
   "source": [
    "MyClass.auto_attr"
   ]
  },
  {
   "cell_type": "markdown",
   "id": "b07dac46",
   "metadata": {},
   "source": [
    "#### Class name validation"
   ]
  },
  {
   "cell_type": "code",
   "execution_count": null,
   "id": "80c32cc3",
   "metadata": {},
   "outputs": [],
   "source": [
    "class NoUnderscoreNamesMeta(type):\n",
    "    def __new__(cls, name, bases, class_dict):\n",
    "        if \"_\" in name:\n",
    "            raise TypeError(\"Class names cannot contain underscores!\")\n",
    "        return super().__new__(cls, name, bases, class_dict)"
   ]
  },
  {
   "cell_type": "code",
   "execution_count": null,
   "id": "0f8d5689",
   "metadata": {},
   "outputs": [],
   "source": [
    "class ValidClass(metaclass=NoUnderscoreNamesMeta):\n",
    "    pass"
   ]
  },
  {
   "cell_type": "code",
   "execution_count": null,
   "id": "fb8e32da",
   "metadata": {},
   "outputs": [],
   "source": [
    "class Invalid_Class(metaclass=NoUnderscoreNamesMeta):\n",
    "    pass"
   ]
  },
  {
   "cell_type": "markdown",
   "id": "32ab829e",
   "metadata": {},
   "source": [
    "### `Checked` with a metaclass\n",
    "\n",
    "If we want to add `__slots__` to our `Checked` classes (maybe to reduce memory usage and gain performance), we can use a metaclass."
   ]
  },
  {
   "cell_type": "code",
   "execution_count": null,
   "id": "04c48572",
   "metadata": {},
   "outputs": [],
   "source": [
    "from collections.abc import Callable\n",
    "from typing import Any, NoReturn, get_type_hints"
   ]
  },
  {
   "cell_type": "code",
   "execution_count": null,
   "id": "e090f4e3",
   "metadata": {},
   "outputs": [],
   "source": [
    "class Field:\n",
    "    def __init__(self, name: str, constructor: Callable) -> None:\n",
    "        if not callable(constructor) or constructor is type(None):\n",
    "            raise TypeError(f'{name!r} type hint must be callable')\n",
    "        self.name = name\n",
    "        # Each descriptor instance is a class attribute, and now we need separate per-instance storage attributes.\n",
    "        self.storage_name = '_' + name\n",
    "        self.constructor = constructor\n",
    "\n",
    "    def __get__(self, instance, owner=None):\n",
    "        # We return either the descriptor instance or the value stored in the attribute named storage_name\n",
    "        if instance is None:\n",
    "            return self\n",
    "        return getattr(instance, self.storage_name)\n",
    "\n",
    "    def __set__(self, instance: Any, value: Any) -> None:\n",
    "        if value is ...:\n",
    "            value = self.constructor()\n",
    "        else:\n",
    "            try:\n",
    "                value = self.constructor(value)\n",
    "            except (TypeError, ValueError) as e:\n",
    "                type_name = self.constructor.__name__\n",
    "                msg = f'{value!r} is not compatible with {self.name}:{type_name}'\n",
    "                raise TypeError(msg) from e\n",
    "        setattr(instance, self.storage_name, value) "
   ]
  },
  {
   "cell_type": "code",
   "execution_count": null,
   "id": "ccf443a6",
   "metadata": {},
   "outputs": [],
   "source": [
    "class CheckedMeta(type):\n",
    "    def __new__(meta_cls, cls_name, bases, cls_dict):\n",
    "        if '__slots__' not in cls_dict:\n",
    "            slots = []\n",
    "            # class does not exist yet, that's why we cannot use typing.get_type_hints\n",
    "            type_hints = cls_dict.get('__annotations__', {})\n",
    "            for name, constructor in type_hints.items():\n",
    "                field = Field(name, constructor)\n",
    "                cls_dict[name] = field\n",
    "                slots.append(field.storage_name)\n",
    "\n",
    "            cls_dict['__slots__'] = slots\n",
    "\n",
    "        return super().__new__(meta_cls, cls_name, bases, cls_dict) "
   ]
  },
  {
   "cell_type": "code",
   "execution_count": null,
   "id": "97c112a8",
   "metadata": {},
   "outputs": [],
   "source": [
    "class Checked(metaclass=CheckedMeta):\n",
    "    __slots__ = ()  # skip CheckedMeta.__new__ processing\n",
    "\n",
    "    @classmethod\n",
    "    def _fields(cls) -> dict[str, type]:\n",
    "        return get_type_hints(cls)\n",
    "\n",
    "    def __init__(self, **kwargs: Any) -> None:\n",
    "        for name in self._fields():\n",
    "            value = kwargs.pop(name, ...)\n",
    "            setattr(self, name, value)\n",
    "        if kwargs:\n",
    "            self.__flag_unknown_attrs(*kwargs)\n",
    "\n",
    "    def __flag_unknown_attrs(self, *names: str) -> NoReturn:\n",
    "        plural = 's' if len(names) > 1 else ''\n",
    "        extra = ', '.join(f'{name!r}' for name in names)\n",
    "        cls_name = repr(self.__class__.__name__)\n",
    "        raise AttributeError(f'{cls_name} object has no attribute{plural} {extra}')\n",
    "\n",
    "    def _asdict(self) -> dict[str, Any]:\n",
    "        return {\n",
    "            name: getattr(self, name)\n",
    "            for name, attr in self.__class__.__dict__.items()\n",
    "            if isinstance(attr, Field)\n",
    "        }\n",
    "\n",
    "    def __repr__(self) -> str:\n",
    "        kwargs = ', '.join(\n",
    "            f'{key}={value!r}' for key, value in self._asdict().items()\n",
    "        )\n",
    "        return f'{self.__class__.__name__}({kwargs})'"
   ]
  },
  {
   "cell_type": "markdown",
   "id": "1544b22c",
   "metadata": {},
   "source": [
    "In the `Checked` class:\n",
    "\n",
    "1. Added an empty `__slots__` to signal to `CheckedMeta.__new__` that this class doesn’t require special processing.\n",
    "2. Removed `__init_subclass__`. Its job is now done by `CheckedMeta.__new__`.\n",
    "3. Removed `__setattr__`. It became redundant because adding `__slots__` to the user-defined class prevents setting undeclared attributes."
   ]
  },
  {
   "cell_type": "code",
   "execution_count": null,
   "id": "be6e888f",
   "metadata": {},
   "outputs": [],
   "source": [
    "class Person(Checked):    \n",
    "    name: str\n",
    "    age: int\n",
    "    salary: float"
   ]
  },
  {
   "cell_type": "code",
   "execution_count": null,
   "id": "2f629898",
   "metadata": {},
   "outputs": [],
   "source": [
    "person = Person(name=\"John Doe\", age=42, salary=199_999.99)\n",
    "person"
   ]
  },
  {
   "cell_type": "code",
   "execution_count": null,
   "id": "2c986302",
   "metadata": {},
   "outputs": [],
   "source": [
    "person.name"
   ]
  },
  {
   "cell_type": "code",
   "execution_count": null,
   "id": "4baf7d13",
   "metadata": {},
   "outputs": [],
   "source": [
    "person.name = \"Jane Dane\""
   ]
  },
  {
   "cell_type": "code",
   "execution_count": null,
   "id": "8e2f2da0",
   "metadata": {},
   "outputs": [],
   "source": [
    "person.year = \"text\""
   ]
  },
  {
   "cell_type": "code",
   "execution_count": null,
   "id": "f9762553",
   "metadata": {},
   "outputs": [],
   "source": [
    "person.__dict__"
   ]
  },
  {
   "cell_type": "code",
   "execution_count": null,
   "id": "904cc3fd",
   "metadata": {},
   "outputs": [],
   "source": [
    "Person.__dict__"
   ]
  },
  {
   "cell_type": "markdown",
   "id": "14242631",
   "metadata": {},
   "source": [
    "### `__prepare` method\n",
    "\n",
    "The __prepare__ method is a special class method that is used in the metaclass mechanism. The purpose of `__prepare__` is to return the initial namespace (a dictionary-like object) in which the class body will be executed. The `__prepare__` method should be implemented as a `classmethod`. The namespace returned by `__prepare__` is passed in to `__new__`, but when the final class object is created the namespace is copied into a new `dict`."
   ]
  },
  {
   "cell_type": "code",
   "execution_count": null,
   "id": "82040407",
   "metadata": {},
   "outputs": [],
   "source": [
    "class Meta(type):\n",
    "    @classmethod\n",
    "    def __prepare__(meta_cls, cls_name, bases, **kwargs):\n",
    "        print(f\"Preparing namespace for {cls_name}\")\n",
    "        print(f\"{meta_cls=}\")\n",
    "        print(f\"{bases=}\")\n",
    "        print(f\"{meta_cls=}\")\n",
    "        return {}  # You can return any mapping type\n",
    "\n",
    "    def __new__(meta_cls, cls_name, bases, cls_dict, **kwargs):\n",
    "        print(f\"Creating class {cls_name}\")\n",
    "        return super().__new__(meta_cls, cls_name, bases, cls_dict)  "
   ]
  },
  {
   "cell_type": "code",
   "execution_count": null,
   "id": "ac7e3a5d",
   "metadata": {},
   "outputs": [],
   "source": [
    "class MyClass(metaclass=Meta):\n",
    "    attr1 = 10\n",
    "    attr2 = 20\n",
    "\n",
    "MyClass.attr1"
   ]
  },
  {
   "cell_type": "markdown",
   "id": "5d87b4fb",
   "metadata": {},
   "source": [
    "#### Example with `OrderedDict`"
   ]
  },
  {
   "cell_type": "code",
   "execution_count": null,
   "id": "b4949192",
   "metadata": {},
   "outputs": [],
   "source": [
    "from collections import OrderedDict\n",
    "\n",
    "class Meta(type):\n",
    "    @classmethod\n",
    "    def __prepare__(meta_cls, cls_name, bases):\n",
    "        return OrderedDict()  # Ensures attributes maintain order\n",
    "\n",
    "    def __new__(meta_cls, cls_name, bases, cls_dict):\n",
    "        print(\"Attributes in order:\", list(cls_dict.keys()))\n",
    "        return super().__new__(meta_cls, cls_name, bases, dict(cls_dict))\n",
    "\n",
    "class MyClass(metaclass=Meta):\n",
    "    a = 1\n",
    "    b = 2\n",
    "    c = 3"
   ]
  },
  {
   "cell_type": "markdown",
   "id": "a35f2335",
   "metadata": {},
   "source": [
    "### Metaclasses in the standard library\n",
    "\n",
    "- `abc.ABCMeta`\n",
    "- `enum.EnumMeta`\n",
    "- `collections.NamedTupleMeta`\n",
    "\n",
    "We usually don't need to use these metaclasses in our code. In general, it is better to make metaclasses as implementation details, so the users of your code can easily make sense of the program. Furthermore, it is good practice to consider if a metaclass is needed at all in your use cases."
   ]
  },
  {
   "cell_type": "code",
   "execution_count": null,
   "id": "c9065968",
   "metadata": {},
   "outputs": [],
   "source": [
    "from abc import ABCMeta\n",
    "\n",
    "from collections.abc import Iterable"
   ]
  },
  {
   "cell_type": "code",
   "execution_count": null,
   "id": "9f62ac03",
   "metadata": {},
   "outputs": [],
   "source": [
    "ABCMeta.__class__"
   ]
  },
  {
   "cell_type": "code",
   "execution_count": null,
   "id": "0d1b5039",
   "metadata": {},
   "outputs": [],
   "source": [
    "Iterable.__class__"
   ]
  },
  {
   "cell_type": "code",
   "execution_count": null,
   "id": "ab94961f",
   "metadata": {},
   "outputs": [],
   "source": [
    "issubclass(ABCMeta, type)"
   ]
  },
  {
   "cell_type": "code",
   "execution_count": null,
   "id": "b44a9450",
   "metadata": {},
   "outputs": [],
   "source": [
    "issubclass(Iterable, type)"
   ]
  },
  {
   "cell_type": "markdown",
   "id": "dbc78aee",
   "metadata": {},
   "source": [
    "Every class is an instance of `type`, directly or indirectly, but metaclasses are also subclasses of `type`."
   ]
  },
  {
   "cell_type": "markdown",
   "id": "ac36df6d",
   "metadata": {},
   "source": [
    "## Memory management\n",
    "\n",
    "Python manages its own segment of memory called the **private heap**. All Python objects and data structures are stored in this private heap. The operating system manages the underlying virtual memory, but Python itself takes large chunks of memory from the OS and then manages the allocation of smaller pieces within those chunks for Python objects. Crucially, the Python interpreter itself manages this heap, meaning the memory isn't usually returned directly to the operating system when an object is deallocated. Instead, it's often kept available within the Python process for future object allocations.\n",
    "\n",
    "**Memory management** is the process by which applications read and write data. A memory manager determines where to put an application’s data. Since there’s a finite chunk of memory, the manager has to find some free space and provide it to the application. This process of providing memory is generally called *memory allocation*.\n",
    "\n",
    "Somewhere in the computer, there’s a physical device storing data when you’re running your Python programs. There are many layers of abstraction that the Python code goes through before the objects actually get to the hardware though. One of the main layers above the hardware (such as RAM or a hard drive) is the operating system (OS). It carries out (or denies) requests to read and write memory.\n",
    "\n",
    "Above the OS, there are applications, one of which is the default Python implementation. **Memory management for your Python code is handled by the Python application**. The default Python implementation, **CPython**, is actually written in the C programming language. It converts Python code into instructions that it then runs on a virtual machine.\n",
    "\n",
    "Python code actually gets compiled down to more computer-readable instructions called *bytecode*. These instructions get interpreted by a *virtual machine* when you run your code.\n",
    "\n",
    "Okay, so **CPython is written in C, and it interprets Python bytecode**. What does this have to do with memory management? Well, the memory management algorithms and structures exist in the CPython code, in C. To understand the memory management of Python, you have to get a basic understanding of CPython itself.\n",
    "\n",
    "CPython is written in C, which does not natively support object-oriented programming. Because of that, there are quite a bit of interesting designs in the CPython code.\n",
    "\n",
    "#### [PyObject](https://docs.python.org/3/c-api/structures.html#c.PyObject)\n",
    "\n",
    "<div style=\"border: 2px solid black; width: 200px; text-align: center; margin: 0 auto;\">\n",
    "    <div style=\"background-color: #add8e6; color: black; padding: 8px; font-weight: bold; \">PyObject</div>\n",
    "    <div style=\"background-color: #ffffe0; border-bottom: 1px solid black; padding: 10px;\">ob_refcnt</div>\n",
    "    <div style=\"background-color: #ffffe0; padding: 10px;\">ob_type</div>\n",
    "</div>\n",
    "\n",
    "<br>\n",
    "\n",
    "You may have heard that everything in Python is an *object*, even types such as `int` and `str`. Well, it’s true on an implementation level in CPython. <mark>There is a `struct` called a **PyObject**, which every other object in CPython uses.</mark>\n",
    "> A struct, or structure, in C is a custom data type that groups together different data types. To compare to object-oriented languages, it’s like a class with attributes and no methods.\n",
    "\n",
    "\n",
    "The PyObject contains only two things:\n",
    "- `ob_refcnt`: reference count\n",
    "- `ob_type`: pointer to another type\n",
    "\n",
    "The reference count is used for garbage collection. Then you have a pointer to the actual object type. That object type is just another struct that describes a Python object (such as a `dict` or `int`).\n",
    "\n",
    "**Each object has its own object-specific memory allocator that knows how to get the memory to store that object. Each object also has an object-specific memory deallocator that “frees” the memory once it’s no longer needed.**"
   ]
  },
  {
   "cell_type": "markdown",
   "id": "9d613e84",
   "metadata": {},
   "source": [
    "### Names in Python\n",
    "\n",
    "**Python does not have variables. It has names.**\n",
    "\n",
    "Let\n",
    "```python\n",
    "x = 2337\n",
    "```\n",
    "\n",
    "The above code is broken down into several distinct steps during execution:\n",
    "1. Create a `PyObject`\n",
    "2. Set the typecode to integer for the `PyObject`\n",
    "3. Set the value to `2337` for the `PyObject`\n",
    "4. Create a name called `x`\n",
    "5. Point `x` to the new `PyObject`\n",
    "6. Increase the refcount of the `PyObject` by `1`\n",
    "\n",
    "\n",
    "> When you create an integer object, like `x = 2337`, the value of the integer is stored within a specialized structure that extends the basic `PyObject` structure. For integers, this structure is typically [`PyLongObject` in CPython](https://docs.python.org/3/c-api/long.html#integer-objects), the reference implementation of Python. The `PyLongObject` structure contains the basic `PyObject` fields and *an additional field to store the integer value*.\n",
    "\n",
    "In memory, it might looks something like this:\n",
    "<div style=\"text-align: center;\">\n",
    "    <img src=\"https://files.realpython.com/media/py_memory1.2b6e5f8e5bc9.png\" alt=\"Index\" width=\"500\" height=\"500\"/>\n",
    "</div>\n",
    "\n",
    "If you were to try to assign a new value to `x`, you could try the following:\n",
    "```python\n",
    "x = 2338\n",
    "```\n",
    "This code:\n",
    "1. Creates a new `PyObject`\n",
    "2. Sets the typecode to integer for the `PyObject`\n",
    "3. Sets the value to `2338` for the `PyObject`\n",
    "4. Points `x` to the new `PyObject`\n",
    "5. Increases the refcount of the new `PyObject` by `1`\n",
    "6. Decreases the refcount of the old `PyObject` by `1`\n",
    "\n",
    "<div style=\"text-align: center;\">\n",
    "    <img src=\"https://files.realpython.com/media/py_memory2.99bb432c3432.png\" alt=\"Index\" width=\"500\" height=\"500\"/>\n",
    "</div>\n",
    "\n",
    "This diagram helps illustrate that `x` points to a reference to an object and doesn't own the memory space as before. It also shows that the `x = 2338` command is not an assignment, but rather binding the name `x` to a reference.\n",
    "\n",
    "```python\n",
    "y = x\n",
    "```\n",
    "<div style=\"text-align: center;\">\n",
    "    <img src=\"https://files.realpython.com/media/py_memory3_1.ea43471d3bf6.png\" alt=\"Index\" width=\"500\" height=\"500\"/>\n",
    "</div>\n",
    "\n",
    "Now you can see that a new Python object has not been created, just a new name that points to the same object. Also, the object’s `refcount` has increased by one.\n",
    "\n",
    "```python\n",
    "y += 1\n",
    "```\n",
    "<div style=\"text-align: center;\">\n",
    "    <img src=\"https://files.realpython.com/media/py_memory4.0a15e8415a15.png\" alt=\"Index\" width=\"600\" height=\"600\"/>\n",
    "</div>\n",
    "\n",
    "After the addition call, you are returned with a new Python object. A new object has been created, and `y` now points to the new object."
   ]
  },
  {
   "cell_type": "markdown",
   "id": "5a41059e",
   "metadata": {},
   "source": [
    "Python pre-creates a certain subset of objects in memory and keeps them in the global namespace for everyday use.\n",
    "\n",
    "Which objects depend on the implementation of Python. CPython 3.7 interns the following:\n",
    "\n",
    "1. Integer numbers between -5 and 256\n",
    "2. Strings that are less than 20 characters and contain ASCII letters (A to Z and a to z), digits, and underscores only\n",
    "\n",
    "The reasoning behind this is that these objects are likely to be used in many programs. For example, most variable names in Python are covered by the second bullet point. By interning these objects, Python prevents memory allocation calls for consistently used objects."
   ]
  },
  {
   "cell_type": "code",
   "execution_count": null,
   "id": "e966ea8b",
   "metadata": {},
   "outputs": [],
   "source": [
    "x = 42\n",
    "y = 42\n",
    "\n",
    "x is y"
   ]
  },
  {
   "cell_type": "code",
   "execution_count": null,
   "id": "d0168026",
   "metadata": {},
   "outputs": [],
   "source": [
    "x = \"hello\"\n",
    "y = \"hello\"\n",
    "\n",
    "x is y"
   ]
  },
  {
   "cell_type": "code",
   "execution_count": null,
   "id": "3b5f8570",
   "metadata": {},
   "outputs": [],
   "source": [
    "x = 4224\n",
    "y = 4224\n",
    "\n",
    "x is y"
   ]
  },
  {
   "cell_type": "markdown",
   "id": "e94640e3",
   "metadata": {},
   "source": [
    "### CPython’s Memory Management: Allocating memory for objects\n",
    "\n",
    "As we know the operating system (OS) abstracts the physical memory and creates a virtual memory layer that applications (including Python) can access.\n",
    "<div style=\"text-align: center;\">\n",
    "    <img src=\"https://www.cs.uic.edu/~jbell/CourseNotes/OperatingSystems/images/Chapter9/9_01_VirtualMemoryLarger.jpg\" alt=\"Index\" width=\"600\" height=\"600\"/>\n",
    "</div>\n",
    "\n",
    "An OS-specific virtual memory manager carves out a chunk of memory for the Python process. The darker gray boxes in the image below are now owned by the Python process.\n",
    "<div style=\"text-align: center;\">\n",
    "    <img src=\"https://files.realpython.com/media/memory_management.92ad564ec680.png\" alt=\"Index\" width=\"700\" height=\"700\"/>\n",
    "</div>\n",
    "\n",
    "Python uses a portion of the memory for internal use and non-object memory. The other portion is dedicated to object storage (your `int`, `dict`, and the like). \n",
    "\n",
    "**CPython has an object allocator that is responsible for allocating memory within the object memory area**. This object allocator is where most of the magic happens. It gets called every time a new object needs space allocated or deleted. Typically, the adding and removing of data for Python objects like list and int doesn’t involve too much data at a time. So the design of the allocator is tuned to work well with small amounts of data at a time. It also tries not to allocate memory until it’s absolutely required.\n",
    "\n",
    "> The comments in the [source code](https://github.com/python/cpython/blob/7d6ddb96b34b94c1cbdf95baa94492c48426404e/Objects/obmalloc.c) describe the allocator as “a fast, special-purpose memory allocator for small blocks, to be used on top of a general-purpose malloc.” In this case, malloc is C’s library function for memory allocation.\n",
    "\n",
    "Now we’ll look at CPython’s memory allocation strategy. First, we’ll talk about the 3 main pieces and how they relate to each other.\n",
    "\n",
    "**Arenas** are the largest chunks of memory and are aligned on a page boundary in memory. A page boundary is the edge of a fixed-length contiguous chunk of memory that the OS uses. Python assumes the system’s page size is 256 kilobytes.\n",
    "<div style=\"text-align: center;\">\n",
    "    <img src=\"https://files.realpython.com/media/memory_management_5.394b85976f34.png\" alt=\"Index\" width=\"800\" height=\"800\"/>\n",
    "</div>\n",
    "\n",
    "Within the arenas are **pools**, which are one virtual memory page (4 kilobytes). These pools are fragmented into smaller **blocks** of memory.\n",
    "\n",
    "**All the blocks in a given pool are of the same “size class”**. A size class defines a specific block size, given some amount of requested data. The chart below is taken directly from the source code comments:\n",
    "| Request in bytes | Size of allocated block | Size class idx |\n",
    "| :--------------: | :---------------------: | :------------: |\n",
    "|      1-8         |            8            |       0        |\n",
    "|      9-16        |           16            |       1        |\n",
    "|     17-24        |           24            |       2        |\n",
    "|     25-32        |           32            |       3        |\n",
    "|     33-40        |           40            |       4        |\n",
    "|     41-48        |           48            |       5        |\n",
    "|     49-56        |           56            |       6        |\n",
    "|     57-64        |           64            |       7        |\n",
    "|     65-72        |           72            |       8        |\n",
    "|       ...        |           ...           |      ...       |\n",
    "|    497-504       |          504            |      62        |\n",
    "|    505-512       |          512            |      63        |\n",
    "\n",
    "For example, if 42 bytes are requested, the data would be placed into a size 48-byte block.\n",
    "\n",
    "##### **Pools**\n",
    "Pools are composed of blocks from a single size class. Each pool maintains a double-linked list to other pools of the same size class. In that way, the algorithm can easily find available space for a given block size, even across different pools.\n",
    "\n",
    "A `usedpools` list tracks all the pools that have some space available for data for each size class. When a given block size is requested, the algorithm checks this `usedpools` list for the list of pools for that block size.\n",
    "\n",
    "Pools themselves must be in one of 3 states: **used**, **full**, or **empty**. A used pool has available blocks for data to be stored. A full pool’s blocks are all allocated and contain data. An empty pool has no data stored and can be assigned any size class for blocks when needed.\n",
    "\n",
    "A `freepools` list keeps track of all the pools in the empty state. But when do empty pools get used?\n",
    "\n",
    "**Assume your code needs an 8-byte chunk of memory. If there are no pools in `usedpools` of the 8-byte size class, a fresh empty pool is initialized to store 8-byte blocks. This new pool then gets added to the `usedpools` list so it can be used for future requests**.\n",
    "\n",
    "Say a full pool frees some of its blocks because the memory is no longer needed. That pool would get added back to the `usedpools` list for its size class.\n",
    "\n",
    "You can see now how pools can move between these states (and even memory size classes) freely with this algorithm.\n",
    "\n",
    "##### **Blocks**\n",
    "<div style=\"text-align: center;\">\n",
    "    <img src=\"https://files.realpython.com/media/memory_management_3.52bffbf302d3.png\" alt=\"Index\" width=\"800\" height=\"800\"/>\n",
    "</div>\n",
    "\n",
    "As seen in the diagram above, pools contain a pointer to their “free” blocks of memory. There’s a slight nuance to the way this works. This allocator “strives at all levels (arena, pool, and block) never to touch a piece of memory until it’s actually needed,” according to the comments in the source code.\n",
    "\n",
    "That means that a pool can have blocks in 3 states. These states can be defined as follows:\n",
    "- **untouched**: a portion of memory that has not been allocated\n",
    "- **free**: a portion of memory that was allocated but later made “free” by CPython and that no longer contains relevant data\n",
    "- **allocated**: a portion of memory that actually contains relevant data\n",
    "\n",
    "**The `freeblock` pointer points to a singly linked list of free blocks of memory. In other words, a list of available places to put data. If more than the available free blocks are needed, the allocator will get some untouched blocks in the pool**.\n",
    "\n",
    "As the memory manager makes blocks “free,” those now free blocks get added to the front of the freeblock list. The actual list may not be contiguous blocks of memory, like the first nice diagram. It may look something like the diagram below:\n",
    "<div style=\"text-align: center;\">\n",
    "    <img src=\"https://files.realpython.com/media/memory_management_4.4a30dfa2d111.png\" alt=\"Index\" width=\"800\" height=\"800\"/>\n",
    "</div>\n",
    "\n",
    "##### **Arenas**\n",
    "Arenas contain pools. Those pools can be used, full, or empty. Arenas themselves don’t have as explicit states as pools do though.\n",
    "\n",
    "**Arenas are instead organized into a doubly linked list called `usable_arenas`. The list is sorted by the number of free pools available. The fewer free pools, the closer the arena is to the front of the list**.\n",
    "<div style=\"text-align: center;\">\n",
    "    <img src=\"https://files.realpython.com/media/memory_management_6.60e9761bc158.png\" alt=\"Index\" width=\"800\" height=\"800\"/>\n",
    "</div>\n",
    "\n",
    "This means that the arena that is the most full of data will be selected to place new data into. But why not the opposite? Why not place data where there’s the most available space?\n",
    "\n",
    "This brings us to the idea of truly freeing memory. The reason is that when a block is deemed “free”, that memory is not actually freed back to the operating system. The Python process keeps it allocated and will use it later for new data. Truly freeing memory returns it to the operating system to use.\n",
    "\n",
    "Arenas are the only things that can truly be freed. So, it stands to reason that those arenas that are closer to being empty should be allowed to become empty. That way, that chunk of memory can be truly freed, reducing the overall memory footprint of your Python program.\n",
    "\n",
    "\n",
    "**How They Work Together**\n",
    "\n",
    "**Allocation**: When a new object needs to be created, CPython first determines the size class of the object. It then looks for a pool that handles objects of that size. If there is an available block within the pool, it is allocated to the object. If not, a new pool may be created within an arena, or a new arena may be allocated if necessary.\n",
    "\n",
    "**Deallocation**: When an object is no longer needed and is to be destroyed, its block is deallocated and returned to the pool for reuse. This process is managed by the Python garbage collector, which also handles detecting and collecting cyclic references that cannot be freed by reference counting alone.\n",
    "\n",
    "<mark>The use of arenas reduces the number of system calls for memory allocation, as a single large block is requested from the operating system less frequently than many small blocks would be. This bulk allocation strategy reduces overhead and fragmentation at the OS level.</mark>\n",
    "\n",
    "<mark>By segregating objects into size classes, pools help to minimize internal fragmentation (unused space within allocated memory areas). This also allows for rapid allocation and deallocation of objects, as a pool can quickly find a free block without having to search or fit different-sized objects.</mark>\n",
    "\n",
    "\n",
    "***"
   ]
  },
  {
   "cell_type": "markdown",
   "id": "57e4b145",
   "metadata": {},
   "source": [
    "### Garbage collection\n",
    "\n",
    "**Garbage collection (GC)** is nothing but collecting or gaining memory back which has been allocated to objects but which is not currently in use in any part of our program. It is the process in which programs try to free up memory space that is no longer used by objects.\n",
    "\n",
    "Garbage collection is implemented differently for every language. Most high-level programming languages have some sort of garbage collection built in. Low-level programming languages may add garbage collection through libraries.\n",
    "\n",
    "In C programming, developers need to take care of memory allocation and deallocation using `malloc()` and `free()` functions. But, in the case of C# developers don't need to take care of GC and it’s not recommended either. In C/C++ the developer must manually delete objects and free up memory. Relying on manual processes made it easy to introduce bugs into the code, some of which can have serious consequences. For example, a developer might forget to free up memory after the program no longer needs it, leading to a **memory leak** that quickly consumes all the available RAM. Or the developer might free up an object's memory space without modifying a corresponding pointer, resulting in a **dangling pointer** that causes the application to be buggy or even to crash.\n",
    "\n",
    "Programming languages that include garbage collection try to eliminate these types of bugs by using carefully designed GC algorithms to control memory deallocation. The garbage collector automatically detects when an object is no longer needed and removes it, freeing up the memory space allocated to that object without affecting objects that are still being used.\n",
    "\n",
    "### Strategies\n",
    "\n",
    "#### Tracing\n",
    "Tracing garbage collection is the predominant form of garbage collection, to the extent that the term \"garbage collection\" is frequently synonymous with this method rather than alternatives like reference counting. The fundamental approach involves identifying objects for garbage collection by tracing a path of references from specific root objects to determine which ones are accessible. Objects not reachable in this way are deemed garbage and are subsequently collected. Nonetheless, the actual implementation of this strategy varies significantly, employing numerous algorithms that differ greatly in their complexity and performance traits.\n",
    "<div style=\"text-align: center;\">\n",
    "    <img src=\"https://miro.medium.com/v2/resize:fit:840/1*GN770FzmaWwTVdx94GneHQ.gif\" alt=\"Index\" width=\"400\" height=\"400\"/>\n",
    "</div>\n",
    "\n",
    "#### Reference counting\n",
    "Reference counting garbage collection is where each object has a count of the number of references to it. Garbage is identified by having a reference count of zero. An object's reference count is incremented when a reference to it is created, and decremented when a reference is destroyed. When the count reaches zero, the object's memory is reclaimed.\n",
    "<div style=\"text-align: center;\">\n",
    "    <img src=\"https://book.huihoo.com/data-structures-and-algorithms-with-object-oriented-design-patterns-in-java/html/img1704.gif\" alt=\"Index\" width=\"700\" height=\"700\"/>\n",
    "</div>\n",
    "\n",
    "However, with there are a few problems that need to be addressed:\n",
    "- **Cycles:** If two or more objects refer to each other, they can create a cycle whereby neither will be collected as their mutual references never let their reference counts become zero. Some garbage collection systems using reference counting (like the one in CPython) use specific cycle-detecting algorithms to deal with this issue.\n",
    "- **Space overhead (reference count):** Reference counting requires space to be allocated for each object to store its reference count. The count may be stored adjacent to the object's memory or in a side table somewhere else, but in either case, every single reference-counted object requires additional storage for its reference count. Memory space with the size of an unsigned pointer is commonly used for this task, meaning that **32 or 64 bits of reference count storage must be allocated for each object**. On some systems, it may be possible to mitigate this overhead by using a tagged pointer to store the reference count in unused areas of the object's memory. Often, an architecture does not actually allow programs to access the full range of memory addresses that could be stored in its native pointer size; certain number of high bits in the address is either ignored or required to be zero.\n",
    "- **Space overhead (increment/decrement):** In naive implementations, each assignment of a reference and each reference falling out of scope often require modifications of one or more reference counters. However, in a common case when a reference is copied from an outer scope variable into an inner scope variable, such that the lifetime of the inner variable is bounded by the lifetime of the outer one, the reference incrementing can be eliminated. The outer variable \"owns\" the reference.\n",
    "- **Atomicity:** When used in a multithreaded environment, these modifications (increment and decrement) may need to be atomic operations such as compare-and-swap, at least for any objects which are shared, or potentially shared among multiple threads. Atomic operations are expensive on a multiprocessor, and even more expensive if they have to be emulated with software algorithms. It is possible to avoid this issue by adding per-thread or per-CPU reference counts and only accessing the global reference count when the local reference counts become or are no longer zero (or, alternatively, using a binary tree of reference counts, or even giving up deterministic destruction in exchange for not having a global reference count at all), but this adds significant memory overhead and thus tends to be only useful in special cases (it is used, for example, in the reference counting of Linux kernel modules).\n",
    "- **Real-time:** Naive implementations of reference counting do not generally provide real-time behavior, because any pointer assignment can potentially cause a number of objects bounded only by total allocated memory size to be recursively freed while the thread is unable to perform other work. It is possible to avoid this issue by delegating the freeing of unreferenced objects to other threads, at the cost of extra overhead."
   ]
  },
  {
   "cell_type": "code",
   "execution_count": null,
   "id": "5ec0183d",
   "metadata": {},
   "outputs": [],
   "source": [
    "import sys\n",
    "\n",
    "def get_num_refs(obj):\n",
    "    \"\"\"\n",
    "    Returns the approximate number of references to the given object `obj`.\n",
    "\n",
    "    Note:\n",
    "        `sys.getrefcount(obj)` includes:\n",
    "        - The temporary reference passed to getrefcount\n",
    "        - The reference created when passing obj to get_num_refs\n",
    "        Hence, we subtract 2 to get a more accurate count.\n",
    "\n",
    "    Args:\n",
    "        obj (Any): The object to check reference count for.\n",
    "\n",
    "    Returns:\n",
    "        int: Approximate number of references to the object.\n",
    "    \"\"\"\n",
    "    return sys.getrefcount(obj) - 2"
   ]
  },
  {
   "cell_type": "markdown",
   "id": "90b6671b",
   "metadata": {},
   "source": [
    "The reference count gets increased for a few different reasons. For example, the reference count will increase if you assign it to another variable:"
   ]
  },
  {
   "cell_type": "code",
   "execution_count": null,
   "id": "c060e4c4",
   "metadata": {},
   "outputs": [],
   "source": [
    "numbers = [1, 2, 3]\n",
    "get_num_refs(numbers)"
   ]
  },
  {
   "cell_type": "code",
   "execution_count": null,
   "id": "a5657c84",
   "metadata": {},
   "outputs": [],
   "source": [
    "more_numbers = numbers\n",
    "get_num_refs(numbers)"
   ]
  },
  {
   "cell_type": "markdown",
   "id": "0d733a8a",
   "metadata": {},
   "source": [
    "It will also increase if you pass the object as an argument."
   ]
  },
  {
   "cell_type": "code",
   "execution_count": null,
   "id": "011d2020",
   "metadata": {},
   "outputs": [],
   "source": [
    "total = sum(numbers)\n",
    "get_num_refs(numbers)"
   ]
  },
  {
   "cell_type": "markdown",
   "id": "2d5abdb4",
   "metadata": {},
   "source": [
    "As a final example, the reference count will increase if you include the object in a list:"
   ]
  },
  {
   "cell_type": "code",
   "execution_count": null,
   "id": "079b9998",
   "metadata": {},
   "outputs": [],
   "source": [
    "matrix = [numbers, numbers, numbers]\n",
    "get_num_refs(numbers)"
   ]
  },
  {
   "cell_type": "markdown",
   "id": "409dfb5e",
   "metadata": {},
   "source": [
    "Python allows you to inspect the current reference count of an object with the `sys` module. You can use `sys.getrefcount(numbers)`, but keep in mind that passing in the object to `getrefcount()` increases the reference count by 1. See the implementation of `get_num_refs` function above.\n",
    "> Initially, you have your reference to `numbers`. When you pass numbers to `sys.getrefcount(numbers)`, `sys.getrefcount()` creates a temporary reference to `numbers` for the duration of the function call. This is why the reference count appears to increase by 1.\n",
    "After the `sys.getrefcount()` call, the temporary reference created by the function is removed.\n",
    "So, when you subtract 1 from the result of `sys.getrefcount(numbers)`, you are essentially accounting for the temporary reference created by the function, giving you the actual reference count of `numbers`.\n",
    "> \n",
    "> The reason this doesn't happen with the `sum()` function is because `sum()` does not create any additional references to the objects it operates on, including the numbers list. It simply iterates over the elements of the iterable (in this case, the `list`), performs the addition, and returns the result.\n",
    "\n",
    "<mark>In any case, if the object is still required to hang around in your code, its reference count is greater than 0. Once it drops to 0, the object has a specific deallocation function that is called which “frees” the memory so that other objects can use it.</mark>"
   ]
  },
  {
   "cell_type": "markdown",
   "id": "a7796431",
   "metadata": {},
   "source": [
    "### The `gc` module\n",
    "The `gc` (garbage collector) package in Python is a module that provides an interface to the garbage collection facility in the Python interpreter. Its primary role is to manage the automatic memory management of Python objects, particularly focusing on the detection and collection of cyclic garbage.\n",
    "\n",
    "**In general, you do not need to manually interact with the garbage collector**. Python's automatic garbage collection is sufficient for most applications. However, in memory-critical applications or when dealing with large data sets, manual control can be beneficial to optimize performance or to debug.\n",
    "\n",
    "In some scenarios, especially in a multithreaded environment where the garbage collection might introduce unwanted pauses, developers might choose to disable the automatic garbage collection and manually trigger it at more convenient times.\n",
    "\n",
    "An example code demonstrating the usage of the module:"
   ]
  },
  {
   "cell_type": "code",
   "execution_count": null,
   "id": "8ad8d1e5",
   "metadata": {},
   "outputs": [],
   "source": [
    "import gc"
   ]
  },
  {
   "cell_type": "code",
   "execution_count": null,
   "id": "0ae8e755",
   "metadata": {},
   "outputs": [],
   "source": [
    "class MyClass:\n",
    "    def __init__(self):\n",
    "        self._my_ref = None\n",
    "\n",
    "    def set_ref(self, obj):\n",
    "        self._my_ref = obj\n",
    "\n",
    "    def __del__(self):\n",
    "        print(f\"MyClass instance {id(self)} has been destroyed\")\n",
    "\n",
    "\n",
    "# Disable automatic garbage collection to manually control it.\n",
    "gc.disable()\n",
    "\n",
    "# Create a reference cycle.\n",
    "obj1 = MyClass()\n",
    "obj2 = MyClass()\n",
    "\n",
    "obj1.set_ref(obj2)\n",
    "obj2.set_ref(obj1)"
   ]
  },
  {
   "cell_type": "code",
   "execution_count": null,
   "id": "46320580",
   "metadata": {},
   "outputs": [],
   "source": [
    "get_num_refs(obj1), get_num_refs(obj2)"
   ]
  },
  {
   "cell_type": "markdown",
   "id": "528f2fba",
   "metadata": {},
   "source": [
    "This cycle prevents Python's reference counting system from deallocating them when their external references are deleted (with `del` statements).\n",
    "\n",
    "`del` statement doesn’t delete objects, it removes the name (and reference) to the object. When the reference count is zero, the object is deleted from the system by the garbage collection."
   ]
  },
  {
   "cell_type": "code",
   "execution_count": null,
   "id": "1dcfb0f0",
   "metadata": {},
   "outputs": [],
   "source": [
    "# Delete references.\n",
    "del obj1\n",
    "del obj2"
   ]
  },
  {
   "cell_type": "code",
   "execution_count": null,
   "id": "6b36de9f",
   "metadata": {},
   "outputs": [],
   "source": [
    "# Explicitly run garbage collection.\n",
    "collected = gc.collect()\n",
    "\n",
    "# This function returns the number of objects it successfully collected and deallocated.\n",
    "collected"
   ]
  },
  {
   "cell_type": "code",
   "execution_count": null,
   "id": "e56946cf",
   "metadata": {},
   "outputs": [],
   "source": [
    "# Enable automatic garbage collection.\n",
    "gc.enable()"
   ]
  },
  {
   "cell_type": "markdown",
   "id": "856c1101",
   "metadata": {},
   "source": [
    "For some applications, especially those that create and destroy many objects quickly, disabling garbage collection temporarily can improve performance. This is because the overhead of the garbage collector running can be more significant than the benefit of the memory it recovers during intensive operations. However, this strategy should be used cautiously, as it can lead to increased memory usage if garbage collection is not re-enabled in a timely manner.\n",
    "\n",
    "Here's an example to illustrate the performance difference when disabling garbage collection. We'll use a simple case where many objects are created, and compare the execution time with and without garbage collection:"
   ]
  },
  {
   "cell_type": "code",
   "execution_count": null,
   "id": "bfac9103",
   "metadata": {},
   "outputs": [],
   "source": [
    "import time\n",
    "\n",
    "\n",
    "N = 1_000_000\n",
    "\n",
    "\n",
    "def create_objects(count):\n",
    "    for _ in range(count):\n",
    "        a = [0] * 10000  # Creating a large object.\n",
    "\n",
    "\n",
    "def with_gc():\n",
    "    start_time = time.perf_counter()\n",
    "    create_objects(N)  # Create N objects.\n",
    "    end_time = time.perf_counter()\n",
    "    \n",
    "    print(f\"Time with GC enabled: {end_time - start_time:.3f} seconds\")\n",
    "\n",
    "\n",
    "def without_gc():\n",
    "    gc.disable()  # Disable garbage collection.\n",
    "    \n",
    "    start_time = time.perf_counter()\n",
    "    create_objects(N)  # Create N objects.\n",
    "    end_time = time.perf_counter()\n",
    "    \n",
    "    gc.enable()  # Re-enable garbage collection\n",
    "    print(f\"Time with GC disabled: {end_time - start_time:.3f} seconds\")\n",
    "\n",
    "\n",
    "with_gc()\n",
    "without_gc()"
   ]
  },
  {
   "cell_type": "markdown",
   "id": "3ce29975",
   "metadata": {},
   "source": [
    "### References\n",
    "- [Garbage collection](https://en.wikipedia.org/wiki/Garbage_collection_(computer_science))\n",
    "- [Memory Management](https://docs.python.org/3/c-api/memory.html)\n",
    "- [Memory Management in Python](https://realpython.com/python-memory-management/)\n",
    "- [Pointers in Python: What's the Point?](https://realpython.com/pointers-in-python/)\n",
    "- [`gc` module](https://docs.python.org/3/library/gc.html#module-gc)"
   ]
  }
 ],
 "metadata": {
  "kernelspec": {
   "display_name": "Python 3 (ipykernel)",
   "language": "python",
   "name": "python3"
  },
  "language_info": {
   "codemirror_mode": {
    "name": "ipython",
    "version": 3
   },
   "file_extension": ".py",
   "mimetype": "text/x-python",
   "name": "python",
   "nbconvert_exporter": "python",
   "pygments_lexer": "ipython3",
   "version": "3.13.2"
  }
 },
 "nbformat": 4,
 "nbformat_minor": 5
}
