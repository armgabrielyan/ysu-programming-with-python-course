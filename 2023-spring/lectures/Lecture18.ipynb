{
 "cells": [
  {
   "cell_type": "markdown",
   "id": "74750d32",
   "metadata": {
    "slideshow": {
     "slide_type": "slide"
    }
   },
   "source": [
    "# Programming with Python\n",
    "\n",
    "## Lecture 18: Generators and decorators\n",
    "\n",
    "### Armen Gabrielyan\n",
    "\n",
    "#### Yerevan State University\n",
    "#### Portmind"
   ]
  },
  {
   "cell_type": "markdown",
   "id": "c1e93f79",
   "metadata": {
    "slideshow": {
     "slide_type": "slide"
    }
   },
   "source": [
    "# Generator expressions\n",
    "\n",
    "Generator expressions allow us to create generator objects with list comprehension style.\n",
    "\n",
    "```python\n",
    "(<expression> for <item> in <iterable>)\n",
    "```"
   ]
  },
  {
   "cell_type": "code",
   "execution_count": null,
   "id": "4d1abf66",
   "metadata": {
    "slideshow": {
     "slide_type": "fragment"
    }
   },
   "outputs": [],
   "source": [
    "list_comp = [number for number in range(10 ** 8)]\n",
    "list_comp[:10]"
   ]
  },
  {
   "cell_type": "code",
   "execution_count": null,
   "id": "6a8c82ae",
   "metadata": {
    "slideshow": {
     "slide_type": "fragment"
    }
   },
   "outputs": [],
   "source": [
    "list_expr = (number for number in range(10 ** 8))\n",
    "list_expr"
   ]
  },
  {
   "cell_type": "code",
   "execution_count": null,
   "id": "15ff4283",
   "metadata": {
    "slideshow": {
     "slide_type": "fragment"
    }
   },
   "outputs": [],
   "source": [
    "print(next(list_expr))\n",
    "print(next(list_expr))\n",
    "print(next(list_expr))\n",
    "print(next(list_expr))\n",
    "print(next(list_expr))"
   ]
  },
  {
   "cell_type": "code",
   "execution_count": null,
   "id": "6058cf03",
   "metadata": {
    "slideshow": {
     "slide_type": "fragment"
    }
   },
   "outputs": [],
   "source": [
    "\"\".join((str(number) for number in range(10)))"
   ]
  },
  {
   "cell_type": "code",
   "execution_count": null,
   "id": "0d6b6b50",
   "metadata": {
    "slideshow": {
     "slide_type": "fragment"
    }
   },
   "outputs": [],
   "source": [
    "\"\".join(str(number) for number in range(10))"
   ]
  },
  {
   "cell_type": "markdown",
   "id": "5de41e24",
   "metadata": {
    "slideshow": {
     "slide_type": "slide"
    }
   },
   "source": [
    "# Subgenerators with `yield from`\n",
    "\n",
    "`yield from` keyword can be used in a generator to delegate work to another subgenerator."
   ]
  },
  {
   "cell_type": "code",
   "execution_count": null,
   "id": "df993516",
   "metadata": {
    "slideshow": {
     "slide_type": "fragment"
    }
   },
   "outputs": [],
   "source": [
    "def sub_gen():\n",
    "    yield \"foo\"\n",
    "    yield \"bar\"\n",
    "    \n",
    "def gen():\n",
    "    yield \"start\"\n",
    "    for el in sub_gen():\n",
    "        yield el\n",
    "    yield \"end\"\n",
    "    \n",
    "for el in gen():\n",
    "    print(el)"
   ]
  },
  {
   "cell_type": "code",
   "execution_count": null,
   "id": "fc08aa94",
   "metadata": {
    "slideshow": {
     "slide_type": "slide"
    }
   },
   "outputs": [],
   "source": [
    "def sub_gen():\n",
    "    yield \"foo\"\n",
    "    yield \"bar\"\n",
    "    \n",
    "def gen():\n",
    "    yield \"start\"\n",
    "    yield from sub_gen()\n",
    "    yield \"end\"\n",
    "    \n",
    "for el in gen():\n",
    "    print(el)"
   ]
  },
  {
   "cell_type": "code",
   "execution_count": null,
   "id": "312b1136",
   "metadata": {
    "slideshow": {
     "slide_type": "fragment"
    }
   },
   "outputs": [],
   "source": [
    "def sub_gen():\n",
    "    yield \"foo\"\n",
    "    yield \"bar\"\n",
    "    return \"baz\"\n",
    "    \n",
    "def gen():\n",
    "    yield \"start\"\n",
    "    result = yield from sub_gen()\n",
    "    print(f\"returned from sub_gen: {result}\")\n",
    "    yield \"end\"\n",
    "    \n",
    "for el in gen():\n",
    "    print(el)"
   ]
  },
  {
   "cell_type": "markdown",
   "id": "c85d1b24",
   "metadata": {
    "slideshow": {
     "slide_type": "slide"
    }
   },
   "source": [
    "# Generator Functions in the Standard Library"
   ]
  },
  {
   "cell_type": "markdown",
   "id": "66e25e62",
   "metadata": {
    "slideshow": {
     "slide_type": "slide"
    }
   },
   "source": [
    "### `filter(predicate, it)`\n",
    "\n",
    "This function applies `predicate` to each item in `it`, yielding the item if the predicate result is truthy."
   ]
  },
  {
   "cell_type": "code",
   "execution_count": null,
   "id": "c7928f89",
   "metadata": {
    "scrolled": true,
    "slideshow": {
     "slide_type": "fragment"
    }
   },
   "outputs": [],
   "source": [
    "filtered = filter(lambda x: x % 2 == 0, [5, 2, 4, 1, 12])\n",
    "filtered"
   ]
  },
  {
   "cell_type": "code",
   "execution_count": null,
   "id": "56ea5b6c",
   "metadata": {
    "slideshow": {
     "slide_type": "fragment"
    }
   },
   "outputs": [],
   "source": [
    "list(filtered)"
   ]
  },
  {
   "cell_type": "code",
   "execution_count": null,
   "id": "1e06a2e1",
   "metadata": {
    "slideshow": {
     "slide_type": "fragment"
    }
   },
   "outputs": [],
   "source": [
    "for el in filtered:\n",
    "    print(el)"
   ]
  },
  {
   "cell_type": "markdown",
   "id": "6bc30a35",
   "metadata": {
    "slideshow": {
     "slide_type": "slide"
    }
   },
   "source": [
    "### `enumerate(iterable, start=0)`\n",
    "\n",
    "This function yields tuples of the form `(index, item)`, where `index` is counted from `start`, and `item` is taken from the `iterable`."
   ]
  },
  {
   "cell_type": "code",
   "execution_count": null,
   "id": "2f18d3ed",
   "metadata": {
    "slideshow": {
     "slide_type": "fragment"
    }
   },
   "outputs": [],
   "source": [
    "enumerated = enumerate([5, 2, 4, 1, 12])\n",
    "enumerated"
   ]
  },
  {
   "cell_type": "code",
   "execution_count": null,
   "id": "d7902e1b",
   "metadata": {
    "slideshow": {
     "slide_type": "fragment"
    }
   },
   "outputs": [],
   "source": [
    "list(enumerated)"
   ]
  },
  {
   "cell_type": "code",
   "execution_count": null,
   "id": "d01b6360",
   "metadata": {
    "slideshow": {
     "slide_type": "fragment"
    }
   },
   "outputs": [],
   "source": [
    "for index, item in enumerate([5, 2, 4, 1, 12]):\n",
    "    print(f\"{index} => {item}\")"
   ]
  },
  {
   "cell_type": "markdown",
   "id": "b372bf26",
   "metadata": {
    "slideshow": {
     "slide_type": "slide"
    }
   },
   "source": [
    "### `map(func, it1, [it2, …, itN])`\n",
    "\n",
    "This function applies `func` to each item of `it`, yielding the result; if `N` iterables are given, `func` must take `N` arguments and the iterables will be consumed in parallel."
   ]
  },
  {
   "cell_type": "code",
   "execution_count": null,
   "id": "9b850c25",
   "metadata": {
    "slideshow": {
     "slide_type": "fragment"
    }
   },
   "outputs": [],
   "source": [
    "mapped = map(lambda x: x ** 2, [5, 2, 4, 1, 12])\n",
    "mapped"
   ]
  },
  {
   "cell_type": "code",
   "execution_count": null,
   "id": "b84b00d4",
   "metadata": {
    "slideshow": {
     "slide_type": "fragment"
    }
   },
   "outputs": [],
   "source": [
    "list(mapped)"
   ]
  },
  {
   "cell_type": "code",
   "execution_count": null,
   "id": "cbd8e512",
   "metadata": {
    "slideshow": {
     "slide_type": "fragment"
    }
   },
   "outputs": [],
   "source": [
    "mapped = map(lambda x, y: (x, y), [5, 2, 4, 1, 12], range(5))\n",
    "list(mapped)"
   ]
  },
  {
   "cell_type": "code",
   "execution_count": null,
   "id": "88a3db74",
   "metadata": {
    "slideshow": {
     "slide_type": "fragment"
    }
   },
   "outputs": [],
   "source": [
    "import operator\n",
    "\n",
    "mapped = map(operator.mul, [5, 2, 4, 1, 12], range(10))\n",
    "list(mapped)"
   ]
  },
  {
   "cell_type": "markdown",
   "id": "e79d3187",
   "metadata": {
    "slideshow": {
     "slide_type": "slide"
    }
   },
   "source": [
    "### `zip(it1, …, itN, strict=False)`\n",
    "\n",
    "This function yields `N`-tuples built from items taken from the iterables in parallel, silently stopping when the first iterable is exhausted, unless `strict=True` is given."
   ]
  },
  {
   "cell_type": "code",
   "execution_count": null,
   "id": "0e1e1047",
   "metadata": {
    "slideshow": {
     "slide_type": "fragment"
    }
   },
   "outputs": [],
   "source": [
    "zipped = zip([5, 2, 4, 1, 12], range(5))\n",
    "zipped"
   ]
  },
  {
   "cell_type": "code",
   "execution_count": null,
   "id": "dfa3b5ee",
   "metadata": {
    "slideshow": {
     "slide_type": "fragment"
    }
   },
   "outputs": [],
   "source": [
    "list(zipped)"
   ]
  },
  {
   "cell_type": "code",
   "execution_count": null,
   "id": "4075be35",
   "metadata": {
    "slideshow": {
     "slide_type": "fragment"
    }
   },
   "outputs": [],
   "source": [
    "zipped = zip(\"aeiou\", range(10))\n",
    "list(zipped)"
   ]
  },
  {
   "cell_type": "code",
   "execution_count": null,
   "id": "e7fac23b",
   "metadata": {
    "slideshow": {
     "slide_type": "fragment"
    }
   },
   "outputs": [],
   "source": [
    "zipped = zip(\"aeiou\", range(10), strict=True)\n",
    "list(zipped)"
   ]
  },
  {
   "cell_type": "markdown",
   "id": "20a989fe",
   "metadata": {
    "slideshow": {
     "slide_type": "slide"
    }
   },
   "source": [
    "### `reversed(seq)`\n",
    "\n",
    "This function yields items from `seq` in reverse order, from last to first."
   ]
  },
  {
   "cell_type": "code",
   "execution_count": null,
   "id": "a671ac98",
   "metadata": {
    "slideshow": {
     "slide_type": "fragment"
    }
   },
   "outputs": [],
   "source": [
    "rev = reversed([5, 2, 4, 1, 12])\n",
    "rev"
   ]
  },
  {
   "cell_type": "code",
   "execution_count": null,
   "id": "5f0bfb38",
   "metadata": {
    "slideshow": {
     "slide_type": "fragment"
    }
   },
   "outputs": [],
   "source": [
    "list(rev)"
   ]
  },
  {
   "cell_type": "markdown",
   "id": "5d80c27e",
   "metadata": {
    "slideshow": {
     "slide_type": "slide"
    }
   },
   "source": [
    "# `itertools`"
   ]
  },
  {
   "cell_type": "code",
   "execution_count": null,
   "id": "ee32df0b",
   "metadata": {
    "slideshow": {
     "slide_type": "fragment"
    }
   },
   "outputs": [],
   "source": [
    "import itertools"
   ]
  },
  {
   "cell_type": "markdown",
   "id": "2e364fa5",
   "metadata": {
    "slideshow": {
     "slide_type": "slide"
    }
   },
   "source": [
    "### `itertools.combinations(it, out_len)`\n",
    "\n",
    "This function yields combinations of `out_len` items from the items yielded by `it`."
   ]
  },
  {
   "cell_type": "code",
   "execution_count": null,
   "id": "b67ca9ca",
   "metadata": {
    "slideshow": {
     "slide_type": "fragment"
    }
   },
   "outputs": [],
   "source": [
    "comb = itertools.combinations(range(5), 2)\n",
    "comb"
   ]
  },
  {
   "cell_type": "code",
   "execution_count": null,
   "id": "3d5a14bf",
   "metadata": {
    "slideshow": {
     "slide_type": "fragment"
    }
   },
   "outputs": [],
   "source": [
    "list(comb)"
   ]
  },
  {
   "cell_type": "markdown",
   "id": "9792cc7e",
   "metadata": {
    "slideshow": {
     "slide_type": "slide"
    }
   },
   "source": [
    "### `itertools.permutations(it, out_len=None)`\n",
    "\n",
    "This function yields permutations of `out_len` items from the items yielded by `it`; by default, `out_len` is `len(list(it))`."
   ]
  },
  {
   "cell_type": "code",
   "execution_count": null,
   "id": "4b562677",
   "metadata": {
    "slideshow": {
     "slide_type": "fragment"
    }
   },
   "outputs": [],
   "source": [
    "perm = itertools.permutations(range(5), 2)\n",
    "perm"
   ]
  },
  {
   "cell_type": "code",
   "execution_count": null,
   "id": "3c944790",
   "metadata": {
    "slideshow": {
     "slide_type": "fragment"
    }
   },
   "outputs": [],
   "source": [
    "list(perm)"
   ]
  },
  {
   "cell_type": "code",
   "execution_count": null,
   "id": "5477aded",
   "metadata": {
    "slideshow": {
     "slide_type": "fragment"
    }
   },
   "outputs": [],
   "source": [
    "list(itertools.permutations(range(5)))"
   ]
  },
  {
   "cell_type": "markdown",
   "id": "e3f42ad3",
   "metadata": {
    "slideshow": {
     "slide_type": "slide"
    }
   },
   "source": [
    "### `itertools.repeat(item, [times])`\n",
    "\n",
    "This function yields the given `item` repeatedly, indefinitely unless a number of `times` is given."
   ]
  },
  {
   "cell_type": "code",
   "execution_count": null,
   "id": "9fa62e61",
   "metadata": {
    "slideshow": {
     "slide_type": "fragment"
    }
   },
   "outputs": [],
   "source": [
    "rp = itertools.repeat(42)\n",
    "rp"
   ]
  },
  {
   "cell_type": "code",
   "execution_count": null,
   "id": "3d08a08b",
   "metadata": {
    "slideshow": {
     "slide_type": "fragment"
    }
   },
   "outputs": [],
   "source": [
    "print(next(rp))\n",
    "print(next(rp))\n",
    "print(next(rp))"
   ]
  },
  {
   "cell_type": "code",
   "execution_count": null,
   "id": "a8a2a17f",
   "metadata": {
    "slideshow": {
     "slide_type": "fragment"
    }
   },
   "outputs": [],
   "source": [
    "rp = itertools.repeat(42, 5)\n",
    "list(rp)"
   ]
  },
  {
   "cell_type": "markdown",
   "id": "844220c9",
   "metadata": {
    "slideshow": {
     "slide_type": "slide"
    }
   },
   "source": [
    "# Iterable reducing functions"
   ]
  },
  {
   "cell_type": "markdown",
   "id": "f01802b2",
   "metadata": {
    "slideshow": {
     "slide_type": "slide"
    }
   },
   "source": [
    "### `all(it)`\n",
    "\n",
    "This function returns `True` if all items in `it` are truthy, otherwise `False`; `all([])` returns `True`."
   ]
  },
  {
   "cell_type": "code",
   "execution_count": null,
   "id": "0af82cd7",
   "metadata": {
    "slideshow": {
     "slide_type": "fragment"
    }
   },
   "outputs": [],
   "source": [
    "all([5, 2, 4, 1, 12])"
   ]
  },
  {
   "cell_type": "code",
   "execution_count": null,
   "id": "91c0d040",
   "metadata": {
    "slideshow": {
     "slide_type": "fragment"
    }
   },
   "outputs": [],
   "source": [
    "all([5, 2, 4, 0, 1, 12])"
   ]
  },
  {
   "cell_type": "code",
   "execution_count": null,
   "id": "1576e7e6",
   "metadata": {
    "slideshow": {
     "slide_type": "fragment"
    }
   },
   "outputs": [],
   "source": [
    "all(num for num in range(1, 10, 2))"
   ]
  },
  {
   "cell_type": "code",
   "execution_count": null,
   "id": "9f234059",
   "metadata": {
    "slideshow": {
     "slide_type": "fragment"
    }
   },
   "outputs": [],
   "source": [
    "all(num for num in range(10))"
   ]
  },
  {
   "cell_type": "code",
   "execution_count": null,
   "id": "d39287f4",
   "metadata": {
    "slideshow": {
     "slide_type": "fragment"
    }
   },
   "outputs": [],
   "source": [
    "all([])"
   ]
  },
  {
   "cell_type": "markdown",
   "id": "b591fe77",
   "metadata": {
    "slideshow": {
     "slide_type": "slide"
    }
   },
   "source": [
    "### `any(it)`\n",
    "\n",
    "Returns `True` if any item in `it` is truthy, otherwise `False`; `any([])` returns False"
   ]
  },
  {
   "cell_type": "code",
   "execution_count": null,
   "id": "7cd246e5",
   "metadata": {
    "slideshow": {
     "slide_type": "fragment"
    }
   },
   "outputs": [],
   "source": [
    "any([0, False, 4, 0, False, 0])"
   ]
  },
  {
   "cell_type": "code",
   "execution_count": null,
   "id": "ac1f8efa",
   "metadata": {
    "slideshow": {
     "slide_type": "fragment"
    }
   },
   "outputs": [],
   "source": [
    "any([0, False, 0, 0, False, 0])"
   ]
  },
  {
   "cell_type": "code",
   "execution_count": null,
   "id": "029dafc8",
   "metadata": {
    "slideshow": {
     "slide_type": "fragment"
    }
   },
   "outputs": [],
   "source": [
    "any(num % 2 == 0 for num in range(1, 10, 3))"
   ]
  },
  {
   "cell_type": "code",
   "execution_count": null,
   "id": "9b3d599b",
   "metadata": {
    "slideshow": {
     "slide_type": "fragment"
    }
   },
   "outputs": [],
   "source": [
    "any(num % 2 == 0 for num in range(1, 10, 2))"
   ]
  },
  {
   "cell_type": "code",
   "execution_count": null,
   "id": "6fb50330",
   "metadata": {
    "slideshow": {
     "slide_type": "fragment"
    }
   },
   "outputs": [],
   "source": [
    "any([])"
   ]
  },
  {
   "cell_type": "markdown",
   "id": "f164b42b",
   "metadata": {
    "slideshow": {
     "slide_type": "slide"
    }
   },
   "source": [
    "### `max(it, [key=,] [default=])`\n",
    "\n",
    "Returns the maximum value of the items in `it`; a `key` is an ordering function, as in `sorted`; `default` is returned if the iterable is empty."
   ]
  },
  {
   "cell_type": "code",
   "execution_count": null,
   "id": "0b23f1cb",
   "metadata": {
    "slideshow": {
     "slide_type": "fragment"
    }
   },
   "outputs": [],
   "source": [
    "max([5, 2, 4, 1, 12])"
   ]
  },
  {
   "cell_type": "code",
   "execution_count": null,
   "id": "f0dd70bf",
   "metadata": {
    "slideshow": {
     "slide_type": "fragment"
    }
   },
   "outputs": [],
   "source": [
    "max(5, 2, 4, 1, 12)"
   ]
  },
  {
   "cell_type": "code",
   "execution_count": null,
   "id": "06ad99c0",
   "metadata": {
    "slideshow": {
     "slide_type": "fragment"
    }
   },
   "outputs": [],
   "source": [
    "max([num % 5 for num in range(10)])"
   ]
  },
  {
   "cell_type": "code",
   "execution_count": null,
   "id": "2f3597be",
   "metadata": {
    "slideshow": {
     "slide_type": "fragment"
    }
   },
   "outputs": [],
   "source": [
    "max(num % 5 for num in range(10))"
   ]
  },
  {
   "cell_type": "code",
   "execution_count": null,
   "id": "e078fc89",
   "metadata": {
    "slideshow": {
     "slide_type": "slide"
    }
   },
   "outputs": [],
   "source": [
    "max([])"
   ]
  },
  {
   "cell_type": "code",
   "execution_count": null,
   "id": "1881e580",
   "metadata": {
    "slideshow": {
     "slide_type": "fragment"
    }
   },
   "outputs": [],
   "source": [
    "max([], default=42)"
   ]
  },
  {
   "cell_type": "code",
   "execution_count": null,
   "id": "94bc33e2",
   "metadata": {
    "slideshow": {
     "slide_type": "slide"
    }
   },
   "outputs": [],
   "source": [
    "texts = [\"Hello World!\", \"good morning\", \"Welcome!\", \"good Evening!\"]"
   ]
  },
  {
   "cell_type": "code",
   "execution_count": null,
   "id": "11c2714f",
   "metadata": {
    "slideshow": {
     "slide_type": "fragment"
    }
   },
   "outputs": [],
   "source": [
    "max(texts)"
   ]
  },
  {
   "cell_type": "code",
   "execution_count": null,
   "id": "5f7dfe62",
   "metadata": {
    "slideshow": {
     "slide_type": "fragment"
    }
   },
   "outputs": [],
   "source": [
    "max(text.lower() for text in texts)"
   ]
  },
  {
   "cell_type": "code",
   "execution_count": null,
   "id": "585dbf72",
   "metadata": {},
   "outputs": [],
   "source": [
    "ord(\"a\"), ord(\"A\")"
   ]
  },
  {
   "cell_type": "code",
   "execution_count": null,
   "id": "2a1e2e65",
   "metadata": {
    "slideshow": {
     "slide_type": "fragment"
    }
   },
   "outputs": [],
   "source": [
    "max(texts, key=str.lower)"
   ]
  },
  {
   "cell_type": "code",
   "execution_count": null,
   "id": "736fca9c",
   "metadata": {
    "slideshow": {
     "slide_type": "fragment"
    }
   },
   "outputs": [],
   "source": [
    "max(texts, key=len)"
   ]
  },
  {
   "cell_type": "markdown",
   "id": "b4d7faab",
   "metadata": {
    "slideshow": {
     "slide_type": "slide"
    }
   },
   "source": [
    "### `min(it, [key=,] [default=])`\n",
    "\n",
    "Returns the minimum value of the items in `it`; a `key` is an ordering function, as in `sorted`; `default` is returned if the iterable is empty."
   ]
  },
  {
   "cell_type": "code",
   "execution_count": null,
   "id": "3a02b621",
   "metadata": {
    "slideshow": {
     "slide_type": "fragment"
    }
   },
   "outputs": [],
   "source": [
    "min([5, 2, 4, 1, 12])"
   ]
  },
  {
   "cell_type": "code",
   "execution_count": null,
   "id": "1bbfbab9",
   "metadata": {
    "slideshow": {
     "slide_type": "fragment"
    }
   },
   "outputs": [],
   "source": [
    "min(5, 2, 4, 1, 12)"
   ]
  },
  {
   "cell_type": "code",
   "execution_count": null,
   "id": "7f316369",
   "metadata": {
    "slideshow": {
     "slide_type": "fragment"
    }
   },
   "outputs": [],
   "source": [
    "min([num % 5 for num in range(10)])"
   ]
  },
  {
   "cell_type": "code",
   "execution_count": null,
   "id": "704357fc",
   "metadata": {
    "slideshow": {
     "slide_type": "fragment"
    }
   },
   "outputs": [],
   "source": [
    "min(num % 5 for num in range(10))"
   ]
  },
  {
   "cell_type": "markdown",
   "id": "7d14a835",
   "metadata": {
    "slideshow": {
     "slide_type": "slide"
    }
   },
   "source": [
    "### sum(it, start=0)\n",
    "\n",
    "The sum of all items in `it`, with the optional `start` value added."
   ]
  },
  {
   "cell_type": "code",
   "execution_count": null,
   "id": "602d84cd",
   "metadata": {
    "slideshow": {
     "slide_type": "fragment"
    }
   },
   "outputs": [],
   "source": [
    "sum([5, 2, 4, 1, 12])"
   ]
  },
  {
   "cell_type": "code",
   "execution_count": null,
   "id": "a2b27862",
   "metadata": {
    "slideshow": {
     "slide_type": "fragment"
    }
   },
   "outputs": [],
   "source": [
    "sum([num % 5 for num in range(10)])"
   ]
  },
  {
   "cell_type": "code",
   "execution_count": null,
   "id": "85de587f",
   "metadata": {
    "slideshow": {
     "slide_type": "fragment"
    }
   },
   "outputs": [],
   "source": [
    "sum(num % 5 for num in range(10))"
   ]
  },
  {
   "cell_type": "code",
   "execution_count": null,
   "id": "29e419ea",
   "metadata": {
    "slideshow": {
     "slide_type": "fragment"
    }
   },
   "outputs": [],
   "source": [
    "sum([5, 2, 4, 1, 12], 42)"
   ]
  },
  {
   "cell_type": "markdown",
   "id": "7a523a06",
   "metadata": {
    "slideshow": {
     "slide_type": "slide"
    }
   },
   "source": [
    "# Decorators\n",
    "\n",
    "Decorators are functions that transform and extend other functions without explicitly modifying it.\n",
    "\n",
    "[PEP 318 – Decorators for Functions and Methods](https://peps.python.org/pep-0318/)"
   ]
  },
  {
   "cell_type": "code",
   "execution_count": null,
   "id": "a2d9c9cc",
   "metadata": {
    "slideshow": {
     "slide_type": "fragment"
    }
   },
   "outputs": [],
   "source": [
    "def my_decorator(func):\n",
    "    def wrapper():\n",
    "        print(\"Before the function is called.\")\n",
    "        func()\n",
    "        print(\"After the function is called.\")\n",
    "    return wrapper"
   ]
  },
  {
   "cell_type": "code",
   "execution_count": null,
   "id": "b780d855",
   "metadata": {
    "slideshow": {
     "slide_type": "fragment"
    }
   },
   "outputs": [],
   "source": [
    "def greet():\n",
    "    print(\"Hello World!\")\n",
    "    \n",
    "greet = my_decorator(greet)"
   ]
  },
  {
   "cell_type": "code",
   "execution_count": null,
   "id": "25a6976a",
   "metadata": {
    "scrolled": true,
    "slideshow": {
     "slide_type": "fragment"
    }
   },
   "outputs": [],
   "source": [
    "greet()"
   ]
  },
  {
   "cell_type": "markdown",
   "id": "af85141f",
   "metadata": {
    "slideshow": {
     "slide_type": "slide"
    }
   },
   "source": [
    "# Syntactic sugar\n",
    "\n",
    "Decorators can be used in a much simpler way with the `@` symbol, also known as pie syntax."
   ]
  },
  {
   "cell_type": "code",
   "execution_count": null,
   "id": "ab082846",
   "metadata": {
    "slideshow": {
     "slide_type": "fragment"
    }
   },
   "outputs": [],
   "source": [
    "@my_decorator\n",
    "def greet():\n",
    "    print(\"Hello World!\")"
   ]
  },
  {
   "cell_type": "code",
   "execution_count": null,
   "id": "ed834e15",
   "metadata": {
    "slideshow": {
     "slide_type": "fragment"
    }
   },
   "outputs": [],
   "source": [
    "greet()"
   ]
  },
  {
   "cell_type": "code",
   "execution_count": null,
   "id": "1d714009",
   "metadata": {
    "slideshow": {
     "slide_type": "slide"
    }
   },
   "outputs": [],
   "source": [
    "def do_twice(func):\n",
    "    def wrapper():\n",
    "        func()\n",
    "        func()\n",
    "    return wrapper"
   ]
  },
  {
   "cell_type": "code",
   "execution_count": null,
   "id": "ae0fee97",
   "metadata": {
    "slideshow": {
     "slide_type": "fragment"
    }
   },
   "outputs": [],
   "source": [
    "@do_twice\n",
    "def greet():\n",
    "    print(\"Hello World!\")"
   ]
  },
  {
   "cell_type": "code",
   "execution_count": null,
   "id": "23a636de",
   "metadata": {
    "slideshow": {
     "slide_type": "fragment"
    }
   },
   "outputs": [],
   "source": [
    "greet()"
   ]
  },
  {
   "cell_type": "markdown",
   "id": "46d475b1",
   "metadata": {
    "slideshow": {
     "slide_type": "slide"
    }
   },
   "source": [
    "## Decorating functions with parameters"
   ]
  },
  {
   "cell_type": "code",
   "execution_count": null,
   "id": "89909383",
   "metadata": {
    "slideshow": {
     "slide_type": "fragment"
    }
   },
   "outputs": [],
   "source": [
    "@do_twice\n",
    "def greet_with_name(name):\n",
    "    print(f\"Hello, {name}!\")"
   ]
  },
  {
   "cell_type": "code",
   "execution_count": null,
   "id": "088884f0",
   "metadata": {
    "slideshow": {
     "slide_type": "fragment"
    }
   },
   "outputs": [],
   "source": [
    "greet_with_name(\"John Doe\")"
   ]
  },
  {
   "cell_type": "code",
   "execution_count": null,
   "id": "cbb8047b",
   "metadata": {
    "slideshow": {
     "slide_type": "slide"
    }
   },
   "outputs": [],
   "source": [
    "def do_twice(func):\n",
    "    def wrapper(*args, **kwargs):\n",
    "        func(*args, **kwargs)\n",
    "        func(*args, **kwargs)\n",
    "    return wrapper"
   ]
  },
  {
   "cell_type": "code",
   "execution_count": null,
   "id": "38b87b56",
   "metadata": {
    "slideshow": {
     "slide_type": "fragment"
    }
   },
   "outputs": [],
   "source": [
    "@do_twice\n",
    "def greet_with_name(name):\n",
    "    print(f\"Hello, {name}!\")"
   ]
  },
  {
   "cell_type": "code",
   "execution_count": null,
   "id": "6b29aed1",
   "metadata": {
    "slideshow": {
     "slide_type": "fragment"
    }
   },
   "outputs": [],
   "source": [
    "greet_with_name(\"John Doe\")"
   ]
  },
  {
   "cell_type": "code",
   "execution_count": null,
   "id": "2be561f4",
   "metadata": {
    "slideshow": {
     "slide_type": "fragment"
    }
   },
   "outputs": [],
   "source": [
    "@do_twice\n",
    "def greet():\n",
    "    print(\"Hello World!\")"
   ]
  },
  {
   "cell_type": "code",
   "execution_count": null,
   "id": "fdd0bf56",
   "metadata": {
    "slideshow": {
     "slide_type": "fragment"
    }
   },
   "outputs": [],
   "source": [
    "greet()"
   ]
  },
  {
   "cell_type": "markdown",
   "id": "cb038f7b",
   "metadata": {
    "slideshow": {
     "slide_type": "slide"
    }
   },
   "source": [
    "## Decorating functions that return values"
   ]
  },
  {
   "cell_type": "code",
   "execution_count": null,
   "id": "f97d44ed",
   "metadata": {
    "slideshow": {
     "slide_type": "fragment"
    }
   },
   "outputs": [],
   "source": [
    "@do_twice\n",
    "def greet_with_name_and_return(name):\n",
    "    greeting = f\"Hello, {name}!\"\n",
    "    print(greeting)\n",
    "    return greeting"
   ]
  },
  {
   "cell_type": "code",
   "execution_count": null,
   "id": "c43130f3",
   "metadata": {
    "slideshow": {
     "slide_type": "fragment"
    }
   },
   "outputs": [],
   "source": [
    "result = greet_with_name_and_return(\"John Doe\")\n",
    "print(result)"
   ]
  },
  {
   "cell_type": "code",
   "execution_count": null,
   "id": "72ec89ae",
   "metadata": {
    "slideshow": {
     "slide_type": "slide"
    }
   },
   "outputs": [],
   "source": [
    "def do_twice(func):\n",
    "    def wrapper(*args, **kwargs):\n",
    "        func(*args, **kwargs)\n",
    "        return func(*args, **kwargs)\n",
    "    return wrapper"
   ]
  },
  {
   "cell_type": "code",
   "execution_count": null,
   "id": "a03d5002",
   "metadata": {
    "slideshow": {
     "slide_type": "fragment"
    }
   },
   "outputs": [],
   "source": [
    "@do_twice\n",
    "def greet_with_name_and_return(name):\n",
    "    greeting = f\"Hello, {name}!\"\n",
    "    print(greeting)\n",
    "    return greeting"
   ]
  },
  {
   "cell_type": "code",
   "execution_count": null,
   "id": "69b9736e",
   "metadata": {
    "slideshow": {
     "slide_type": "fragment"
    }
   },
   "outputs": [],
   "source": [
    "result = greet_with_name_and_return(\"John Doe\")\n",
    "print(result)"
   ]
  }
 ],
 "metadata": {
  "celltoolbar": "Slideshow",
  "kernelspec": {
   "display_name": "Python 3 (ipykernel)",
   "language": "python",
   "name": "python3"
  },
  "language_info": {
   "codemirror_mode": {
    "name": "ipython",
    "version": 3
   },
   "file_extension": ".py",
   "mimetype": "text/x-python",
   "name": "python",
   "nbconvert_exporter": "python",
   "pygments_lexer": "ipython3",
   "version": "3.8.10"
  }
 },
 "nbformat": 4,
 "nbformat_minor": 5
}
