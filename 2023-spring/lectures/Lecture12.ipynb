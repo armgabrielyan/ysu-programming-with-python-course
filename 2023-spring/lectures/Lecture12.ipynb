{
 "cells": [
  {
   "cell_type": "markdown",
   "id": "74750d32",
   "metadata": {
    "slideshow": {
     "slide_type": "slide"
    }
   },
   "source": [
    "# Programming with Python\n",
    "\n",
    "## Lecture 12: Dictionaries and functions\n",
    "\n",
    "### Armen Gabrielyan\n",
    "\n",
    "#### Yerevan State University\n",
    "#### Portmind"
   ]
  },
  {
   "cell_type": "markdown",
   "id": "1f6a55be",
   "metadata": {
    "slideshow": {
     "slide_type": "slide"
    }
   },
   "source": [
    "## `hash()` function\n",
    "\n",
    "`hash()`function returns the hash of an object if it has one. Hash values are integers and are used for quick dictionary lookup."
   ]
  },
  {
   "cell_type": "code",
   "execution_count": null,
   "id": "c448cf1c",
   "metadata": {
    "slideshow": {
     "slide_type": "fragment"
    }
   },
   "outputs": [],
   "source": [
    "hash(42), hash(42.0)"
   ]
  },
  {
   "cell_type": "code",
   "execution_count": null,
   "id": "cd7b97da",
   "metadata": {
    "slideshow": {
     "slide_type": "fragment"
    }
   },
   "outputs": [],
   "source": [
    "hash(\"first_name\")"
   ]
  },
  {
   "cell_type": "code",
   "execution_count": null,
   "id": "964a59b6",
   "metadata": {
    "slideshow": {
     "slide_type": "fragment"
    }
   },
   "outputs": [],
   "source": [
    "hash((\"Spades\", 10))"
   ]
  },
  {
   "cell_type": "code",
   "execution_count": null,
   "id": "92e474c9",
   "metadata": {},
   "outputs": [],
   "source": [
    "hash(int), hash(float), hash(str)"
   ]
  },
  {
   "cell_type": "code",
   "execution_count": null,
   "id": "97422020",
   "metadata": {
    "slideshow": {
     "slide_type": "fragment"
    }
   },
   "outputs": [],
   "source": [
    "hash([1, 2, 3])"
   ]
  },
  {
   "cell_type": "markdown",
   "id": "a83b2d29",
   "metadata": {
    "slideshow": {
     "slide_type": "slide"
    }
   },
   "source": [
    "## Dictionary keys limitations\n",
    "\n",
    "Dictionary keys must be immutable and hashable. This means that they have a hash value and `hash()` function returns a value for them."
   ]
  },
  {
   "cell_type": "code",
   "execution_count": null,
   "id": "2fdd4c29",
   "metadata": {
    "slideshow": {
     "slide_type": "subslide"
    }
   },
   "outputs": [],
   "source": [
    "coordinates = {\n",
    "    (1, 1): \"first quarter\",\n",
    "    (-1, 1): \"second quarter\",\n",
    "    (-1, -1): \"third quarter\",\n",
    "    (1, -1): \"fourth quarter\",\n",
    "}\n",
    "coordinates"
   ]
  },
  {
   "cell_type": "code",
   "execution_count": null,
   "id": "55b856bd",
   "metadata": {
    "slideshow": {
     "slide_type": "fragment"
    }
   },
   "outputs": [],
   "source": [
    "coordinates = {\n",
    "    [1, 1]: \"first quarter\",\n",
    "    [-1, 1]: \"second quarter\",\n",
    "    [-1, -1]: \"third quarter\",\n",
    "    [1, -1]: \"fourth quarter\",\n",
    "}\n",
    "coordinates"
   ]
  },
  {
   "cell_type": "markdown",
   "id": "0417dc12",
   "metadata": {
    "slideshow": {
     "slide_type": "slide"
    }
   },
   "source": [
    "## Dictionary operations"
   ]
  },
  {
   "cell_type": "markdown",
   "id": "72897ffc",
   "metadata": {
    "slideshow": {
     "slide_type": "slide"
    }
   },
   "source": [
    "### `in` operator\n",
    "\n",
    "Checks if a dictionary has the given key or not."
   ]
  },
  {
   "cell_type": "code",
   "execution_count": null,
   "id": "fda8d393",
   "metadata": {
    "slideshow": {
     "slide_type": "fragment"
    }
   },
   "outputs": [],
   "source": [
    "person = {\"name\": \"John Doe\", \"age\": 42}\n",
    "person"
   ]
  },
  {
   "cell_type": "code",
   "execution_count": null,
   "id": "1b358fea",
   "metadata": {
    "slideshow": {
     "slide_type": "fragment"
    }
   },
   "outputs": [],
   "source": [
    "\"name\" in person"
   ]
  },
  {
   "cell_type": "code",
   "execution_count": null,
   "id": "48e640ea",
   "metadata": {
    "slideshow": {
     "slide_type": "fragment"
    }
   },
   "outputs": [],
   "source": [
    "\"friends\" in person"
   ]
  },
  {
   "cell_type": "markdown",
   "id": "c1d34fd2",
   "metadata": {
    "slideshow": {
     "slide_type": "slide"
    }
   },
   "source": [
    "### `d.get(key, default_value)` method\n",
    "\n",
    "`d.get(key, default_value)` method returns the value for a `key` if it exists in the dictionary. If it does not exist, the value of `default_value` is returned, which is `None` by default"
   ]
  },
  {
   "cell_type": "code",
   "execution_count": null,
   "id": "684a70fe",
   "metadata": {
    "slideshow": {
     "slide_type": "fragment"
    }
   },
   "outputs": [],
   "source": [
    "person = {\"name\": \"John Doe\", \"age\": 42}\n",
    "person"
   ]
  },
  {
   "cell_type": "code",
   "execution_count": null,
   "id": "22c7dd89",
   "metadata": {
    "slideshow": {
     "slide_type": "fragment"
    }
   },
   "outputs": [],
   "source": [
    "person.get(\"name\")"
   ]
  },
  {
   "cell_type": "code",
   "execution_count": null,
   "id": "7d6628b3",
   "metadata": {
    "slideshow": {
     "slide_type": "fragment"
    }
   },
   "outputs": [],
   "source": [
    "person.get(\"friends\")"
   ]
  },
  {
   "cell_type": "code",
   "execution_count": null,
   "id": "b502d7cb",
   "metadata": {
    "slideshow": {
     "slide_type": "fragment"
    }
   },
   "outputs": [],
   "source": [
    "person.get(\"friends\", \"Sorry, no friends :(\")"
   ]
  },
  {
   "cell_type": "markdown",
   "id": "2aa53e52",
   "metadata": {
    "slideshow": {
     "slide_type": "slide"
    }
   },
   "source": [
    "### `d.pop(key, default_value)` method\n",
    "\n",
    "`d.pop(key, default_value)` method removes the `key` from the dictionary if it exists in the dictionary and returns its value. If it does not exist, an exception is raised if `default_value` is not provided. Otherwise, the value of `default_value` is provided."
   ]
  },
  {
   "cell_type": "code",
   "execution_count": null,
   "id": "47a89603",
   "metadata": {
    "slideshow": {
     "slide_type": "fragment"
    }
   },
   "outputs": [],
   "source": [
    "person = {\"name\": \"John Doe\", \"age\": 42}\n",
    "person"
   ]
  },
  {
   "cell_type": "code",
   "execution_count": null,
   "id": "22d4dce7",
   "metadata": {
    "slideshow": {
     "slide_type": "fragment"
    }
   },
   "outputs": [],
   "source": [
    "person.pop(\"name\")"
   ]
  },
  {
   "cell_type": "code",
   "execution_count": null,
   "id": "9da45223",
   "metadata": {
    "slideshow": {
     "slide_type": "fragment"
    }
   },
   "outputs": [],
   "source": [
    "person"
   ]
  },
  {
   "cell_type": "code",
   "execution_count": null,
   "id": "dc1099d7",
   "metadata": {
    "slideshow": {
     "slide_type": "fragment"
    }
   },
   "outputs": [],
   "source": [
    "person.pop(\"friends\")"
   ]
  },
  {
   "cell_type": "code",
   "execution_count": null,
   "id": "334bdc80",
   "metadata": {
    "slideshow": {
     "slide_type": "subslide"
    }
   },
   "outputs": [],
   "source": [
    "person.pop(\"friends\", \"Sorry, no friends :(\")"
   ]
  },
  {
   "cell_type": "code",
   "execution_count": null,
   "id": "e30e5dee",
   "metadata": {
    "slideshow": {
     "slide_type": "fragment"
    }
   },
   "outputs": [],
   "source": [
    "person"
   ]
  },
  {
   "cell_type": "markdown",
   "id": "dfa685ec",
   "metadata": {
    "slideshow": {
     "slide_type": "slide"
    }
   },
   "source": [
    "### `d.popitem()` method\n",
    "\n",
    "`d.popitem()` method removes the last key-value pair from the dictionary if it exists in the dictionary and returns its value."
   ]
  },
  {
   "cell_type": "code",
   "execution_count": null,
   "id": "7699b8b9",
   "metadata": {
    "slideshow": {
     "slide_type": "fragment"
    }
   },
   "outputs": [],
   "source": [
    "person = {\"name\": \"John Doe\", \"age\": 42}\n",
    "person"
   ]
  },
  {
   "cell_type": "code",
   "execution_count": null,
   "id": "e0296eba",
   "metadata": {
    "slideshow": {
     "slide_type": "fragment"
    }
   },
   "outputs": [],
   "source": [
    "person.popitem()"
   ]
  },
  {
   "cell_type": "code",
   "execution_count": null,
   "id": "fc9b6ef8",
   "metadata": {
    "slideshow": {
     "slide_type": "fragment"
    }
   },
   "outputs": [],
   "source": [
    "person"
   ]
  },
  {
   "cell_type": "code",
   "execution_count": null,
   "id": "6c0acb47",
   "metadata": {
    "slideshow": {
     "slide_type": "fragment"
    }
   },
   "outputs": [],
   "source": [
    "person.popitem()"
   ]
  },
  {
   "cell_type": "code",
   "execution_count": null,
   "id": "598c5a80",
   "metadata": {
    "slideshow": {
     "slide_type": "subslide"
    }
   },
   "outputs": [],
   "source": [
    "person"
   ]
  },
  {
   "cell_type": "code",
   "execution_count": null,
   "id": "5c729fcb",
   "metadata": {
    "slideshow": {
     "slide_type": "fragment"
    }
   },
   "outputs": [],
   "source": [
    "person.popitem()"
   ]
  },
  {
   "cell_type": "markdown",
   "id": "273f5dd4",
   "metadata": {
    "slideshow": {
     "slide_type": "slide"
    }
   },
   "source": [
    "### `d.clear()` method\n",
    "\n",
    "`d.clear()` method removes the content of the dictionary."
   ]
  },
  {
   "cell_type": "code",
   "execution_count": null,
   "id": "71bfb52d",
   "metadata": {
    "slideshow": {
     "slide_type": "fragment"
    }
   },
   "outputs": [],
   "source": [
    "person = {\"name\": \"John Doe\", \"age\": 42}\n",
    "person"
   ]
  },
  {
   "cell_type": "code",
   "execution_count": null,
   "id": "af3169ef",
   "metadata": {
    "slideshow": {
     "slide_type": "fragment"
    }
   },
   "outputs": [],
   "source": [
    "person.clear()"
   ]
  },
  {
   "cell_type": "code",
   "execution_count": null,
   "id": "13ceaa76",
   "metadata": {
    "slideshow": {
     "slide_type": "fragment"
    }
   },
   "outputs": [],
   "source": [
    "person"
   ]
  },
  {
   "cell_type": "markdown",
   "id": "b6db5b4f",
   "metadata": {
    "slideshow": {
     "slide_type": "slide"
    }
   },
   "source": [
    "### `d.update(object)` method\n",
    "\n",
    "`d.update(object)` method updates the dictionary with the content of the `object`, which can be another mapping or an iterable that represents a mapping."
   ]
  },
  {
   "cell_type": "code",
   "execution_count": null,
   "id": "54b6baef",
   "metadata": {
    "slideshow": {
     "slide_type": "fragment"
    }
   },
   "outputs": [],
   "source": [
    "person = {\"name\": \"John Doe\", \"age\": 42}\n",
    "person"
   ]
  },
  {
   "cell_type": "code",
   "execution_count": null,
   "id": "72f83961",
   "metadata": {
    "slideshow": {
     "slide_type": "fragment"
    }
   },
   "outputs": [],
   "source": [
    "person.update({\"friends\": [\"Alice\", \"Bob\"], \"salary\": 120000})"
   ]
  },
  {
   "cell_type": "code",
   "execution_count": null,
   "id": "9ad7d7e5",
   "metadata": {
    "slideshow": {
     "slide_type": "fragment"
    }
   },
   "outputs": [],
   "source": [
    "person"
   ]
  },
  {
   "cell_type": "code",
   "execution_count": null,
   "id": "564e88bb",
   "metadata": {
    "slideshow": {
     "slide_type": "fragment"
    }
   },
   "outputs": [],
   "source": [
    "person.update([\n",
    "    (\"children\", [\"Jane\", \"Bill\"]),\n",
    "    (\"savings\", 200416.78),\n",
    "])"
   ]
  },
  {
   "cell_type": "code",
   "execution_count": null,
   "id": "a44f12ed",
   "metadata": {
    "slideshow": {
     "slide_type": "fragment"
    }
   },
   "outputs": [],
   "source": [
    "person"
   ]
  },
  {
   "cell_type": "markdown",
   "id": "d3b0debd",
   "metadata": {
    "slideshow": {
     "slide_type": "slide"
    }
   },
   "source": [
    "### `d.keys()` method\n",
    "\n",
    "`d.keys()` method returns the keys of the dictionary."
   ]
  },
  {
   "cell_type": "code",
   "execution_count": null,
   "id": "a5ed17a7",
   "metadata": {
    "slideshow": {
     "slide_type": "fragment"
    }
   },
   "outputs": [],
   "source": [
    "person = {\"name\": \"John Doe\", \"age\": 42}\n",
    "person"
   ]
  },
  {
   "cell_type": "code",
   "execution_count": null,
   "id": "3f450f10",
   "metadata": {
    "slideshow": {
     "slide_type": "fragment"
    }
   },
   "outputs": [],
   "source": [
    "person.keys()"
   ]
  },
  {
   "cell_type": "code",
   "execution_count": null,
   "id": "30637a7c",
   "metadata": {
    "slideshow": {
     "slide_type": "fragment"
    }
   },
   "outputs": [],
   "source": [
    "list(person.keys())"
   ]
  },
  {
   "cell_type": "code",
   "execution_count": null,
   "id": "f056ac6c",
   "metadata": {
    "slideshow": {
     "slide_type": "fragment"
    }
   },
   "outputs": [],
   "source": [
    "for key in person.keys():\n",
    "    print(f\"{key} => {person[key]}\")"
   ]
  },
  {
   "cell_type": "markdown",
   "id": "a73c89eb",
   "metadata": {
    "slideshow": {
     "slide_type": "slide"
    }
   },
   "source": [
    "### `d.values()` method\n",
    "\n",
    "`d.values()` method returns the values of the dictionary."
   ]
  },
  {
   "cell_type": "code",
   "execution_count": null,
   "id": "5ab1414c",
   "metadata": {
    "slideshow": {
     "slide_type": "fragment"
    }
   },
   "outputs": [],
   "source": [
    "person = {\"name\": \"John Doe\", \"age\": 42}\n",
    "person"
   ]
  },
  {
   "cell_type": "code",
   "execution_count": null,
   "id": "68d884db",
   "metadata": {
    "slideshow": {
     "slide_type": "fragment"
    }
   },
   "outputs": [],
   "source": [
    "person.values()"
   ]
  },
  {
   "cell_type": "code",
   "execution_count": null,
   "id": "f08aad61",
   "metadata": {
    "slideshow": {
     "slide_type": "fragment"
    }
   },
   "outputs": [],
   "source": [
    "list(person.values())"
   ]
  },
  {
   "cell_type": "code",
   "execution_count": null,
   "id": "6be8474f",
   "metadata": {
    "slideshow": {
     "slide_type": "fragment"
    }
   },
   "outputs": [],
   "source": [
    "for value in person.values():\n",
    "    print(value)"
   ]
  },
  {
   "cell_type": "markdown",
   "id": "45630246",
   "metadata": {
    "slideshow": {
     "slide_type": "slide"
    }
   },
   "source": [
    "### `d.items()` method\n",
    "\n",
    "`d.items()` method returns the key-value pairs of the dictionary."
   ]
  },
  {
   "cell_type": "code",
   "execution_count": null,
   "id": "2881492c",
   "metadata": {
    "slideshow": {
     "slide_type": "fragment"
    }
   },
   "outputs": [],
   "source": [
    "person = {\"name\": \"John Doe\", \"age\": 42}\n",
    "person"
   ]
  },
  {
   "cell_type": "code",
   "execution_count": null,
   "id": "736eeb85",
   "metadata": {
    "slideshow": {
     "slide_type": "fragment"
    }
   },
   "outputs": [],
   "source": [
    "person.items()"
   ]
  },
  {
   "cell_type": "code",
   "execution_count": null,
   "id": "838ba460",
   "metadata": {
    "slideshow": {
     "slide_type": "fragment"
    }
   },
   "outputs": [],
   "source": [
    "list(person.items())"
   ]
  },
  {
   "cell_type": "code",
   "execution_count": null,
   "id": "adf2e0a9",
   "metadata": {
    "slideshow": {
     "slide_type": "fragment"
    }
   },
   "outputs": [],
   "source": [
    "for key, value in person.items():\n",
    "    print(f\"{key} => {value}\")"
   ]
  },
  {
   "cell_type": "markdown",
   "id": "e16da8ec",
   "metadata": {
    "slideshow": {
     "slide_type": "slide"
    }
   },
   "source": [
    "### `sorted` function"
   ]
  },
  {
   "cell_type": "code",
   "execution_count": null,
   "id": "2a6134da",
   "metadata": {
    "slideshow": {
     "slide_type": "fragment"
    }
   },
   "outputs": [],
   "source": [
    "person = {\"name\": \"John Doe\", \"age\": 42}\n",
    "person"
   ]
  },
  {
   "cell_type": "code",
   "execution_count": null,
   "id": "fa30e1d3",
   "metadata": {
    "slideshow": {
     "slide_type": "fragment"
    }
   },
   "outputs": [],
   "source": [
    "sorted(person)"
   ]
  },
  {
   "cell_type": "code",
   "execution_count": null,
   "id": "fc779f59",
   "metadata": {
    "slideshow": {
     "slide_type": "fragment"
    }
   },
   "outputs": [],
   "source": [
    "for key in sorted(person):\n",
    "    print(f\"{key} => {person[key]}\")"
   ]
  },
  {
   "cell_type": "markdown",
   "id": "4ced532f",
   "metadata": {
    "slideshow": {
     "slide_type": "slide"
    }
   },
   "source": [
    "## Dictionary comprehensions\n",
    "\n",
    "Like list and set comprehension expressions, Python allows us to use the declarative style of dictionary comprehension expressions to create dictionaries.\n",
    "\n",
    "```python\n",
    "{key_expression: value_expression for item in sequence}\n",
    "```\n",
    "\n",
    "- `key_expression` is any valid expression that is hashable and usually depends on the value of `item`.\n",
    "- `value_expression` is any valid expression that usually depends on the value of `item`.\n",
    "- `item` is an element from `sequence`.\n",
    "- `sequence` is an iterable."
   ]
  },
  {
   "cell_type": "code",
   "execution_count": null,
   "id": "4f3e0b74",
   "metadata": {
    "slideshow": {
     "slide_type": "subslide"
    }
   },
   "outputs": [],
   "source": [
    "d = {i: i ** 3 for i in range(10)}\n",
    "d"
   ]
  },
  {
   "cell_type": "code",
   "execution_count": null,
   "id": "5e8353ce",
   "metadata": {
    "slideshow": {
     "slide_type": "fragment"
    }
   },
   "outputs": [],
   "source": [
    "d = {i: i ** 3 for i in range(10) if i % 2 == 1}\n",
    "d"
   ]
  },
  {
   "cell_type": "code",
   "execution_count": null,
   "id": "f6482d3f",
   "metadata": {
    "slideshow": {
     "slide_type": "fragment"
    }
   },
   "outputs": [],
   "source": [
    "text = \"HELLO World\".lower()\n",
    "d = {character: text.count(character) for character in text}\n",
    "d"
   ]
  },
  {
   "cell_type": "code",
   "execution_count": null,
   "id": "ad97c7cf",
   "metadata": {
    "slideshow": {
     "slide_type": "fragment"
    }
   },
   "outputs": [],
   "source": [
    "d = {i: {j: i + j for j in range(10)} for i in range(10)}\n",
    "d"
   ]
  },
  {
   "cell_type": "code",
   "execution_count": null,
   "id": "08c29d78",
   "metadata": {},
   "outputs": [],
   "source": [
    "d = {}\n",
    "for i in range(10):\n",
    "    value = {}\n",
    "    for j in range(10):\n",
    "        value[j] = i + j\n",
    "    d[i] = value\n",
    "d"
   ]
  },
  {
   "cell_type": "markdown",
   "id": "0afd9405",
   "metadata": {
    "slideshow": {
     "slide_type": "slide"
    }
   },
   "source": [
    "# Functions\n",
    "\n",
    "A function is a block of statements that encapsulates a certain functionality. The general form of functions in Python is as follows:\n",
    "\n",
    "```python\n",
    "def <function_name>([<parameters>]):\n",
    "    <statement(s)>\n",
    "```\n",
    "\n",
    "- `<function_name>` is a valid identifier that follows the variable naming rules.\n",
    "- `<parameters>` is an optional comma-separated list of parameters that the function accepts.\n",
    "- `<statement(s)>` is a block of statements."
   ]
  },
  {
   "cell_type": "code",
   "execution_count": null,
   "id": "4bcc88af",
   "metadata": {
    "slideshow": {
     "slide_type": "subslide"
    }
   },
   "outputs": [],
   "source": [
    "print(\"Hello world!\")\n",
    "print(\"We are learning Python\")"
   ]
  },
  {
   "cell_type": "code",
   "execution_count": null,
   "id": "311f8047",
   "metadata": {
    "slideshow": {
     "slide_type": "fragment"
    }
   },
   "outputs": [],
   "source": [
    "def greet():\n",
    "    print(\"Hello world!\")\n",
    "    print(\"We are learning Python\")\n",
    "    \n",
    "greet()"
   ]
  },
  {
   "cell_type": "code",
   "execution_count": null,
   "id": "421f0463",
   "metadata": {
    "slideshow": {
     "slide_type": "fragment"
    }
   },
   "outputs": [],
   "source": [
    "print(\"Before calling greet() function\")\n",
    "greet()\n",
    "print(\"After calling greet() function\")"
   ]
  },
  {
   "cell_type": "markdown",
   "id": "37306994",
   "metadata": {
    "slideshow": {
     "slide_type": "slide"
    }
   },
   "source": [
    "# Parameters and arguments\n",
    "\n",
    "Parameters are defined by the names that appear in a function definitions. On the other hand, arguments are the actual values passed to the function.\n",
    "\n",
    "```python\n",
    "def <function_name>(<parameters>):\n",
    "    <statement(s)>\n",
    "    \n",
    "<function_name>(<arguments>)\n",
    "```\n",
    "\n",
    "- `<parameters>` are the parameters of the function `<function_name>`.\n",
    "- `<arguments>` are the values passed to the function `<function_name>` when called.\n",
    "\n",
    "Parameters and arguments are also known as formal parameters and actual parameters, respectively."
   ]
  },
  {
   "cell_type": "markdown",
   "id": "abb77e13",
   "metadata": {
    "slideshow": {
     "slide_type": "slide"
    }
   },
   "source": [
    "## Arguments\n",
    "\n",
    "We usually define functions that accept data. The data can be passed to functions via arguments. In Python, generally two types of arguments are defined:\n",
    "\n",
    "- positional arguments\n",
    "- keyword arguments"
   ]
  },
  {
   "cell_type": "markdown",
   "id": "12da266f",
   "metadata": {
    "slideshow": {
     "slide_type": "slide"
    }
   },
   "source": [
    "## Positional arguments\n",
    "\n",
    "The function is called by passing a comma-separated list of arguments. Given a function `f` with $n$ parameters, it is called with $n$ arguments by `f(arg_1, arg_2, ..., arg_n)`."
   ]
  },
  {
   "cell_type": "code",
   "execution_count": null,
   "id": "499b89da",
   "metadata": {
    "slideshow": {
     "slide_type": "fragment"
    }
   },
   "outputs": [],
   "source": [
    "def euclidean_distance(x1, y1, x2, y2):\n",
    "    distance = ((x1 - x2) ** 2 + (y1 - y2) ** 2) ** 0.5\n",
    "    print(f\"The euclidean distance between {(x1, y1)} and {(x2, y2)} is {distance:.2f}\")"
   ]
  },
  {
   "cell_type": "code",
   "execution_count": null,
   "id": "c4460d9c",
   "metadata": {
    "slideshow": {
     "slide_type": "fragment"
    }
   },
   "outputs": [],
   "source": [
    "euclidean_distance(0, 1, 2, 3)"
   ]
  },
  {
   "cell_type": "markdown",
   "id": "66940ab2",
   "metadata": {
    "slideshow": {
     "slide_type": "slide"
    }
   },
   "source": [
    "### Wrong number of arguments"
   ]
  },
  {
   "cell_type": "code",
   "execution_count": null,
   "id": "656854ff",
   "metadata": {
    "scrolled": false,
    "slideshow": {
     "slide_type": "fragment"
    }
   },
   "outputs": [],
   "source": [
    "# Few arguments passed\n",
    "\n",
    "euclidean_distance(0, 1, 2)"
   ]
  },
  {
   "cell_type": "code",
   "execution_count": null,
   "id": "f176ce15",
   "metadata": {
    "slideshow": {
     "slide_type": "fragment"
    }
   },
   "outputs": [],
   "source": [
    "# More arguments passed\n",
    "\n",
    "euclidean_distance(0, 1, 2, 3, 4)"
   ]
  },
  {
   "cell_type": "markdown",
   "id": "96ad0bc3",
   "metadata": {
    "slideshow": {
     "slide_type": "slide"
    }
   },
   "source": [
    "### No strict typing on parameters\n",
    "\n",
    "The parameters of the function are not required to be of any specific type. The types are inferred during the runtime of a program when the arguments are passed."
   ]
  },
  {
   "cell_type": "code",
   "execution_count": null,
   "id": "28d6a4b7",
   "metadata": {
    "slideshow": {
     "slide_type": "fragment"
    }
   },
   "outputs": [],
   "source": [
    "euclidean_distance(0, 1, 2, \"a\")"
   ]
  },
  {
   "cell_type": "code",
   "execution_count": null,
   "id": "1a7dc4ee",
   "metadata": {
    "slideshow": {
     "slide_type": "subslide"
    }
   },
   "outputs": [],
   "source": [
    "def do_sum(x, y):\n",
    "    print(x + y)"
   ]
  },
  {
   "cell_type": "code",
   "execution_count": null,
   "id": "96db7e65",
   "metadata": {
    "slideshow": {
     "slide_type": "fragment"
    }
   },
   "outputs": [],
   "source": [
    "do_sum(1, 2)"
   ]
  },
  {
   "cell_type": "code",
   "execution_count": null,
   "id": "cfe3bdb7",
   "metadata": {
    "slideshow": {
     "slide_type": "fragment"
    }
   },
   "outputs": [],
   "source": [
    "do_sum(\"Hello \", \"world!\")"
   ]
  },
  {
   "cell_type": "code",
   "execution_count": null,
   "id": "30998910",
   "metadata": {
    "slideshow": {
     "slide_type": "fragment"
    }
   },
   "outputs": [],
   "source": [
    "do_sum([1, 2, 3], [4, 5, 6])"
   ]
  },
  {
   "cell_type": "markdown",
   "id": "a066b3f8",
   "metadata": {
    "slideshow": {
     "slide_type": "slide"
    }
   },
   "source": [
    "## Keyword arguments\n",
    "\n",
    "The function is called by passing a comma-separated list of arguments in the form of `<keyword>=<value>`, where `<keyword>` is a parameter name in the function definition. Given a function `f` with $n$ parameters, it can be called with $n$ arguments by `f(param_1=arg_1, param_2=arg_2, ..., param_n=arg_n)`."
   ]
  },
  {
   "cell_type": "code",
   "execution_count": null,
   "id": "8001184b",
   "metadata": {
    "slideshow": {
     "slide_type": "fragment"
    }
   },
   "outputs": [],
   "source": [
    "euclidean_distance(x1=0, y1=1, x2=2, y2=3)"
   ]
  },
  {
   "cell_type": "markdown",
   "id": "6387b834",
   "metadata": {
    "slideshow": {
     "slide_type": "fragment"
    }
   },
   "source": [
    "The order is not important when keyword arguments are used."
   ]
  },
  {
   "cell_type": "code",
   "execution_count": null,
   "id": "cf1f29d9",
   "metadata": {
    "slideshow": {
     "slide_type": "fragment"
    }
   },
   "outputs": [],
   "source": [
    "euclidean_distance(x1=0, x2=2, y1=1, y2=3)"
   ]
  },
  {
   "cell_type": "markdown",
   "id": "bde78b04",
   "metadata": {
    "slideshow": {
     "slide_type": "slide"
    }
   },
   "source": [
    "### Wrong arguments"
   ]
  },
  {
   "cell_type": "code",
   "execution_count": null,
   "id": "7f1097ef",
   "metadata": {
    "slideshow": {
     "slide_type": "fragment"
    }
   },
   "outputs": [],
   "source": [
    "# Few arguments passed\n",
    "\n",
    "euclidean_distance(x1=0, x2=1, y2=2)"
   ]
  },
  {
   "cell_type": "code",
   "execution_count": null,
   "id": "dfe9d36f",
   "metadata": {
    "slideshow": {
     "slide_type": "fragment"
    }
   },
   "outputs": [],
   "source": [
    "# Non-existent parameter\n",
    "\n",
    "euclidean_distance(x1=0, x2=1, y1=2, y2=3, z=4)"
   ]
  },
  {
   "cell_type": "markdown",
   "id": "e405153b",
   "metadata": {
    "slideshow": {
     "slide_type": "slide"
    }
   },
   "source": [
    "## Combination of positional and keyword arguments\n",
    "\n",
    "Positional arguments must be passed before any keword arguments. Passing a positional argument after a keyword argument results in a syntax error."
   ]
  },
  {
   "cell_type": "code",
   "execution_count": null,
   "id": "a13773d4",
   "metadata": {
    "slideshow": {
     "slide_type": "fragment"
    }
   },
   "outputs": [],
   "source": [
    "euclidean_distance(0, y1=1, x2=2, y2=3)"
   ]
  },
  {
   "cell_type": "code",
   "execution_count": null,
   "id": "bdc09b10",
   "metadata": {
    "slideshow": {
     "slide_type": "fragment"
    }
   },
   "outputs": [],
   "source": [
    "euclidean_distance(0, 1, x2=2, y2=3)"
   ]
  },
  {
   "cell_type": "code",
   "execution_count": null,
   "id": "3bef144b",
   "metadata": {
    "slideshow": {
     "slide_type": "fragment"
    }
   },
   "outputs": [],
   "source": [
    "euclidean_distance(0, 1, 2, y2=3)"
   ]
  },
  {
   "cell_type": "code",
   "execution_count": null,
   "id": "f2655c81",
   "metadata": {
    "slideshow": {
     "slide_type": "fragment"
    }
   },
   "outputs": [],
   "source": [
    "euclidean_distance(0, 1, x2=2, 3)"
   ]
  },
  {
   "cell_type": "markdown",
   "id": "2da10eb3",
   "metadata": {
    "slideshow": {
     "slide_type": "slide"
    }
   },
   "source": [
    "## Default parameters\n",
    "\n",
    "A function can have a default/optional parameters. This means that a parameter default value is used if the function is called without providing an argument for the parameter. Default parameters can be defined in the function definition using the form of `<parameter>=<value>`."
   ]
  },
  {
   "cell_type": "code",
   "execution_count": null,
   "id": "ca06161e",
   "metadata": {
    "slideshow": {
     "slide_type": "fragment"
    }
   },
   "outputs": [],
   "source": [
    "def greet(first_name=\"John\", last_name=\"Doe\", age=42):\n",
    "    print(f\"Hello {first_name} {last_name}! You are {age} years old.\")"
   ]
  },
  {
   "cell_type": "code",
   "execution_count": null,
   "id": "38cd7721",
   "metadata": {
    "slideshow": {
     "slide_type": "fragment"
    }
   },
   "outputs": [],
   "source": [
    "greet(\"Bob\", \"Smith\", 24)"
   ]
  },
  {
   "cell_type": "code",
   "execution_count": null,
   "id": "772eaa8e",
   "metadata": {
    "slideshow": {
     "slide_type": "fragment"
    }
   },
   "outputs": [],
   "source": [
    "greet(\"Bob\", \"Smith\")"
   ]
  },
  {
   "cell_type": "code",
   "execution_count": null,
   "id": "be69e473",
   "metadata": {
    "slideshow": {
     "slide_type": "fragment"
    }
   },
   "outputs": [],
   "source": [
    "greet(\"Bob\")"
   ]
  },
  {
   "cell_type": "code",
   "execution_count": null,
   "id": "21d73f12",
   "metadata": {
    "slideshow": {
     "slide_type": "fragment"
    }
   },
   "outputs": [],
   "source": [
    "greet()"
   ]
  },
  {
   "cell_type": "code",
   "execution_count": null,
   "id": "1f0a4f66",
   "metadata": {
    "slideshow": {
     "slide_type": "subslide"
    }
   },
   "outputs": [],
   "source": [
    "greet(last_name=\"Smith\", age=24)"
   ]
  },
  {
   "cell_type": "code",
   "execution_count": null,
   "id": "895f4276",
   "metadata": {
    "slideshow": {
     "slide_type": "fragment"
    }
   },
   "outputs": [],
   "source": [
    "greet(first_name=\"Bob\", age=24)"
   ]
  },
  {
   "cell_type": "code",
   "execution_count": null,
   "id": "a448e2f8",
   "metadata": {
    "slideshow": {
     "slide_type": "fragment"
    }
   },
   "outputs": [],
   "source": [
    "greet(\"Bob\", age=24)"
   ]
  },
  {
   "cell_type": "markdown",
   "id": "3c81d873",
   "metadata": {
    "slideshow": {
     "slide_type": "subslide"
    }
   },
   "source": [
    "Non-default parameters should be defined before default parameters."
   ]
  },
  {
   "cell_type": "code",
   "execution_count": null,
   "id": "5aa4f67a",
   "metadata": {
    "slideshow": {
     "slide_type": "fragment"
    }
   },
   "outputs": [],
   "source": [
    "def greet(first_name, last_name=\"Doe\", age=42):\n",
    "    print(f\"Hello {first_name} {last_name}! You are {age} years old.\")"
   ]
  },
  {
   "cell_type": "code",
   "execution_count": null,
   "id": "5ca8f6b7",
   "metadata": {
    "slideshow": {
     "slide_type": "fragment"
    }
   },
   "outputs": [],
   "source": [
    "greet()"
   ]
  },
  {
   "cell_type": "code",
   "execution_count": null,
   "id": "882483e1",
   "metadata": {
    "slideshow": {
     "slide_type": "fragment"
    }
   },
   "outputs": [],
   "source": [
    "greet(\"John\")"
   ]
  },
  {
   "cell_type": "code",
   "execution_count": null,
   "id": "6e55d0a8",
   "metadata": {
    "slideshow": {
     "slide_type": "fragment"
    }
   },
   "outputs": [],
   "source": [
    "def greet(first_name=\"John\", last_name, age=42):\n",
    "    print(f\"Hello {first_name} {last_name}! You are {age} years old.\")"
   ]
  },
  {
   "cell_type": "markdown",
   "id": "ce33e639",
   "metadata": {
    "slideshow": {
     "slide_type": "slide"
    }
   },
   "source": [
    "## Mutable default parameters\n",
    "\n",
    "Function default parameters are defined only once. This means that the same object is referenced as a default value when the function is called."
   ]
  },
  {
   "cell_type": "code",
   "execution_count": null,
   "id": "c715a5dc",
   "metadata": {
    "slideshow": {
     "slide_type": "fragment"
    }
   },
   "outputs": [],
   "source": [
    "def append_42(sequence=[]):\n",
    "    sequence.append(42)\n",
    "    print(sequence)"
   ]
  },
  {
   "cell_type": "code",
   "execution_count": null,
   "id": "49e872a5",
   "metadata": {
    "slideshow": {
     "slide_type": "fragment"
    }
   },
   "outputs": [],
   "source": [
    "append_42([1, 2, 3])"
   ]
  },
  {
   "cell_type": "code",
   "execution_count": null,
   "id": "a184be6c",
   "metadata": {
    "slideshow": {
     "slide_type": "fragment"
    }
   },
   "outputs": [],
   "source": [
    "append_42([\"red\", \"green\", \"yellow\"])"
   ]
  },
  {
   "cell_type": "code",
   "execution_count": null,
   "id": "44794f55",
   "metadata": {
    "slideshow": {
     "slide_type": "fragment"
    }
   },
   "outputs": [],
   "source": [
    "append_42()"
   ]
  },
  {
   "cell_type": "code",
   "execution_count": null,
   "id": "e62dc567",
   "metadata": {
    "slideshow": {
     "slide_type": "subslide"
    }
   },
   "outputs": [],
   "source": [
    "append_42()"
   ]
  },
  {
   "cell_type": "code",
   "execution_count": null,
   "id": "4afede46",
   "metadata": {
    "slideshow": {
     "slide_type": "fragment"
    }
   },
   "outputs": [],
   "source": [
    "append_42()"
   ]
  },
  {
   "cell_type": "markdown",
   "id": "1d5736e5",
   "metadata": {
    "slideshow": {
     "slide_type": "subslide"
    }
   },
   "source": [
    "Each time the function is called without providing an argument for the default parameter, the same list object is mutated. This can be verified by checking the object identifer via `id()` function."
   ]
  },
  {
   "cell_type": "code",
   "execution_count": null,
   "id": "00c99523",
   "metadata": {
    "slideshow": {
     "slide_type": "fragment"
    }
   },
   "outputs": [],
   "source": [
    "def append_42(sequence=[]):\n",
    "    print(f\"The id of default parameter is {id(sequence)}.\")\n",
    "    sequence.append(42)\n",
    "    print(sequence)"
   ]
  },
  {
   "cell_type": "code",
   "execution_count": null,
   "id": "53342197",
   "metadata": {
    "slideshow": {
     "slide_type": "fragment"
    }
   },
   "outputs": [],
   "source": [
    "append_42()"
   ]
  },
  {
   "cell_type": "code",
   "execution_count": null,
   "id": "0b09abda",
   "metadata": {
    "slideshow": {
     "slide_type": "fragment"
    }
   },
   "outputs": [],
   "source": [
    "append_42()"
   ]
  },
  {
   "cell_type": "code",
   "execution_count": null,
   "id": "b67aca53",
   "metadata": {
    "slideshow": {
     "slide_type": "fragment"
    }
   },
   "outputs": [],
   "source": [
    "append_42()"
   ]
  }
 ],
 "metadata": {
  "celltoolbar": "Slideshow",
  "kernelspec": {
   "display_name": "Python 3 (ipykernel)",
   "language": "python",
   "name": "python3"
  },
  "language_info": {
   "codemirror_mode": {
    "name": "ipython",
    "version": 3
   },
   "file_extension": ".py",
   "mimetype": "text/x-python",
   "name": "python",
   "nbconvert_exporter": "python",
   "pygments_lexer": "ipython3",
   "version": "3.8.10"
  }
 },
 "nbformat": 4,
 "nbformat_minor": 5
}
