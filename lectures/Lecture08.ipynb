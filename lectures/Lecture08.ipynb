{
 "cells": [
  {
   "cell_type": "markdown",
   "id": "d6515b7c",
   "metadata": {
    "slideshow": {
     "slide_type": "slide"
    }
   },
   "source": [
    "# Programming with Python\n",
    "\n",
    "## Lecture 08: Problem solving session\n",
    "\n",
    "### Armen Gabrielyan\n",
    "\n",
    "#### Yerevan State University\n",
    "#### Portmind"
   ]
  },
  {
   "cell_type": "markdown",
   "id": "4e752586",
   "metadata": {
    "slideshow": {
     "slide_type": "slide"
    }
   },
   "source": [
    "# Examples"
   ]
  },
  {
   "cell_type": "markdown",
   "id": "67ef7f34",
   "metadata": {
    "slideshow": {
     "slide_type": "subslide"
    }
   },
   "source": [
    "## Factorial"
   ]
  },
  {
   "cell_type": "code",
   "execution_count": null,
   "id": "560051f7",
   "metadata": {
    "slideshow": {
     "slide_type": "fragment"
    }
   },
   "outputs": [],
   "source": [
    "while True:\n",
    "    n = int(input(\"Enter a non-negative number: \"))\n",
    "    \n",
    "    if n >= 0:\n",
    "        break\n",
    "    \n",
    "    print(\"The number you entered is not non-negative\")\n",
    "\n",
    "factorial = 1\n",
    "i = 2\n",
    "\n",
    "while i <= n:\n",
    "    factorial *= i\n",
    "    i += 1\n",
    "    \n",
    "print(f\"{n}! = {factorial}\")"
   ]
  },
  {
   "cell_type": "markdown",
   "id": "fd0a44eb",
   "metadata": {
    "slideshow": {
     "slide_type": "subslide"
    }
   },
   "source": [
    "## Fibonacci"
   ]
  },
  {
   "cell_type": "code",
   "execution_count": null,
   "id": "93c7305e",
   "metadata": {
    "slideshow": {
     "slide_type": "fragment"
    }
   },
   "outputs": [],
   "source": [
    "while True:\n",
    "    n = int(input(\"Enter a non-negative number: \"))\n",
    "    \n",
    "    if n >= 0:\n",
    "        break\n",
    "    \n",
    "    print(\"The number you entered is not non-negative\")\n",
    "\n",
    "x, y = 0, 1\n",
    "i = 0\n",
    "\n",
    "while i < n:\n",
    "    x, y = y, x + y\n",
    "    i += 1\n",
    "    \n",
    "print(f\"{n}th Fibonacci number is {x}\")"
   ]
  },
  {
   "cell_type": "markdown",
   "id": "9a702524",
   "metadata": {
    "slideshow": {
     "slide_type": "slide"
    }
   },
   "source": [
    "# Problems\n",
    "\n",
    "1. Write a Python program that takes a positive integer as an input and checks if the number is prime or composite.\n",
    "2. Write a Python program that takes a number as an input and outputs the sum of all the digits in the number.\n",
    "3. Write a Python program that takes a positive integer as an input and checks if the number is palindrome or not.\n",
    "4. Write a Python program that takes two positive integers as an input and outputs their greatest common divisor.\n",
    "5. Write a Python program that takes a positive integer as an input and outputs its binary representation."
   ]
  },
  {
   "cell_type": "markdown",
   "id": "a25cb6cf",
   "metadata": {
    "slideshow": {
     "slide_type": "subslide"
    }
   },
   "source": [
    "6. Write a Python guessing game program where the user has to guess a randomly generated number between $1$ and $100$. The program will give hints after each guess whether the guess is higher or lower than the actual number.\n",
    "7. The Maclaurin series of the exponential function $e^x$ is as follows:\n",
    "\n",
    "$$e ^ x = 1 + x + \\frac{x ^ 2}{2!} + \\frac{x ^ 3}{3!} + \\dots + \\frac{x ^ n}{n!}$$\n",
    "\n",
    "Write a Python program that takes a positive integer $n$ and a real value number $x$ as an input, and approximates the value of $e ^ x$."
   ]
  },
  {
   "cell_type": "markdown",
   "id": "2a7fd0c5",
   "metadata": {
    "slideshow": {
     "slide_type": "subslide"
    }
   },
   "source": [
    "8. The value of $\\pi$ can be approximated by the following formula:\n",
    "\n",
    "$$\\pi = \\sqrt{6 \\times (1 + \\frac{1}{4} + \\frac{1}{9} + \\frac{1}{16} + \\dots + \\frac{1}{n ^ 2})}$$\n",
    "\n",
    "Write a Python program that takes a positive integer $n$ as an input and approximates the value of $\\pi$.\n",
    "\n",
    "9. Write a Python program that takes a positive integer $n$ as an input and allows the user to enter $n$ integers. The program should display the maximum number in the sequence and the count of its occurrence.\n",
    "\n",
    "10. Assume that $X$ is a random variable that follows the binomial distribution with parameters $n$ and $p$, i.e. $X \\sim B(n, p)$. Write a Python program that takes non-negative integers $n$ and $k$ as well as a real number $p$ as an input and outputs the probability of the random variable $X$ taking the value of $k$, i.e. $P(X = k)$."
   ]
  }
 ],
 "metadata": {
  "celltoolbar": "Slideshow",
  "kernelspec": {
   "display_name": "Python 3 (ipykernel)",
   "language": "python",
   "name": "python3"
  },
  "language_info": {
   "codemirror_mode": {
    "name": "ipython",
    "version": 3
   },
   "file_extension": ".py",
   "mimetype": "text/x-python",
   "name": "python",
   "nbconvert_exporter": "python",
   "pygments_lexer": "ipython3",
   "version": "3.8.10"
  },
  "vscode": {
   "interpreter": {
    "hash": "916dbcbb3f70747c44a77c7bcd40155683ae19c65e1c03b4aa3499c5328201f1"
   }
  }
 },
 "nbformat": 4,
 "nbformat_minor": 5
}
