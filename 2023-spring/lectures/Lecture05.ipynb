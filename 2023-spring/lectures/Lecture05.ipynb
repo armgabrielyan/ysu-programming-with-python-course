{
 "cells": [
  {
   "cell_type": "markdown",
   "id": "d6515b7c",
   "metadata": {
    "slideshow": {
     "slide_type": "slide"
    }
   },
   "source": [
    "# Programming with Python\n",
    "\n",
    "## Lecture 05: Operators, string operations and printf formatting\n",
    "\n",
    "### Armen Gabrielyan\n",
    "\n",
    "#### Yerevan State University\n",
    "#### Portmind"
   ]
  },
  {
   "cell_type": "markdown",
   "id": "db6b6cf9",
   "metadata": {
    "slideshow": {
     "slide_type": "slide"
    }
   },
   "source": [
    "# Identity operators\n",
    "\n",
    "| Operator | Name | Example    | Meaning                                         |\n",
    "|----------|------|------------|-------------------------------------------------|\n",
    "| is       |      | x is y     | Checks if both operands are the same object     |\n",
    "| is not   |      | x is not y | Checks if both operands are not the same object |"
   ]
  },
  {
   "cell_type": "markdown",
   "id": "3f4854a1",
   "metadata": {
    "slideshow": {
     "slide_type": "subslide"
    }
   },
   "source": [
    "## id() function\n",
    "\n",
    "`id()` function can be used to get the identity of an object, which is unique and constant during the lifetime of an object.\n",
    "\n",
    "In CPython some objects are stored in a global cache and do not change their identity, such as:\n",
    "- Integer numbers between `-5` and `256`\n",
    "- Strings that contain ASCII letters, digits, or underscores only\n",
    "- `False`, `True`, `None`\n",
    "\n",
    "P.S. Python has different implementations and CPython is the most popular one. You can learn more about different implementations [here](https://wiki.python.org/moin/PythonImplementations)."
   ]
  },
  {
   "cell_type": "code",
   "execution_count": null,
   "id": "0aac1679",
   "metadata": {
    "slideshow": {
     "slide_type": "fragment"
    }
   },
   "outputs": [],
   "source": [
    "x = \"Hello world\"\n",
    "\n",
    "id(x)"
   ]
  },
  {
   "cell_type": "code",
   "execution_count": null,
   "id": "3fdad512",
   "metadata": {
    "slideshow": {
     "slide_type": "subslide"
    }
   },
   "outputs": [],
   "source": [
    "x = 100\n",
    "y = 100\n",
    "\n",
    "x is y"
   ]
  },
  {
   "cell_type": "code",
   "execution_count": null,
   "id": "72f7863e",
   "metadata": {
    "slideshow": {
     "slide_type": "fragment"
    }
   },
   "outputs": [],
   "source": [
    "x = 1000\n",
    "y = 1000\n",
    "\n",
    "x is y"
   ]
  },
  {
   "cell_type": "code",
   "execution_count": null,
   "id": "ce6ccd8b",
   "metadata": {
    "slideshow": {
     "slide_type": "fragment"
    }
   },
   "outputs": [],
   "source": [
    "x = \"Hello\"\n",
    "y = \"Hello\"\n",
    "\n",
    "x is y"
   ]
  },
  {
   "cell_type": "code",
   "execution_count": null,
   "id": "8d43024a",
   "metadata": {
    "slideshow": {
     "slide_type": "fragment"
    }
   },
   "outputs": [],
   "source": [
    "x = \"Hello world\"\n",
    "y = \"Hello world\"\n",
    "\n",
    "x is y"
   ]
  },
  {
   "cell_type": "markdown",
   "id": "8b4fcfc5",
   "metadata": {
    "slideshow": {
     "slide_type": "slide"
    }
   },
   "source": [
    "# Membership operators\n",
    "\n",
    "| Operator | Name | Example    | Meaning                                        |\n",
    "|----------|------|------------|------------------------------------------------|\n",
    "| in       |      | x in y     | Checks if a value exists in a sequence         |\n",
    "| not in   |      | x not in y | Checks if a value does not exist in a sequence |"
   ]
  },
  {
   "cell_type": "code",
   "execution_count": null,
   "id": "82cde0f2",
   "metadata": {
    "slideshow": {
     "slide_type": "subslide"
    }
   },
   "outputs": [],
   "source": [
    "x = \"Hello\" \n",
    "y = \"Hello world\"\n",
    "\n",
    "x in y"
   ]
  },
  {
   "cell_type": "code",
   "execution_count": null,
   "id": "35eccb1d",
   "metadata": {
    "slideshow": {
     "slide_type": "fragment"
    }
   },
   "outputs": [],
   "source": [
    "x = \"hello\"\n",
    "y = \"Hello world\"\n",
    "\n",
    "x in y"
   ]
  },
  {
   "cell_type": "code",
   "execution_count": null,
   "id": "8ce8e4a2",
   "metadata": {
    "scrolled": true,
    "slideshow": {
     "slide_type": "fragment"
    }
   },
   "outputs": [],
   "source": [
    "x = 10\n",
    "y = [10, 20, 30]\n",
    "\n",
    "x in y"
   ]
  },
  {
   "cell_type": "code",
   "execution_count": null,
   "id": "78e76202",
   "metadata": {
    "scrolled": true,
    "slideshow": {
     "slide_type": "fragment"
    }
   },
   "outputs": [],
   "source": [
    "x = 40\n",
    "y = [10, 20, 30]\n",
    "\n",
    "x in y"
   ]
  },
  {
   "cell_type": "code",
   "execution_count": null,
   "id": "603b1a46",
   "metadata": {
    "slideshow": {
     "slide_type": "subslide"
    }
   },
   "outputs": [],
   "source": [
    "x = \"Hello\"\n",
    "y = \"Hello world\"\n",
    "\n",
    "x not in y"
   ]
  },
  {
   "cell_type": "code",
   "execution_count": null,
   "id": "646d296a",
   "metadata": {
    "slideshow": {
     "slide_type": "fragment"
    }
   },
   "outputs": [],
   "source": [
    "x = \"hello\"\n",
    "y = \"Hello world\"\n",
    "\n",
    "x not in y"
   ]
  },
  {
   "cell_type": "code",
   "execution_count": null,
   "id": "12e76466",
   "metadata": {
    "slideshow": {
     "slide_type": "fragment"
    }
   },
   "outputs": [],
   "source": [
    "x = 10\n",
    "y = [10, 20, 30]\n",
    "\n",
    "x not in y"
   ]
  },
  {
   "cell_type": "code",
   "execution_count": null,
   "id": "0063357f",
   "metadata": {
    "slideshow": {
     "slide_type": "fragment"
    }
   },
   "outputs": [],
   "source": [
    "x = 40\n",
    "y = [10, 20, 30]\n",
    "\n",
    "x not in y"
   ]
  },
  {
   "cell_type": "markdown",
   "id": "72a5e43a",
   "metadata": {
    "slideshow": {
     "slide_type": "slide"
    }
   },
   "source": [
    "# Operator precedence\n",
    "\n",
    "\n",
    "|                            | Operator                                      | Description                                      |\n",
    "|----------------------------|-----------------------------------------------|--------------------------------------------------|\n",
    "| **highest precedence**     | \\(\\)                                          | Parentheses                                      |\n",
    "|                            | \\*\\*                                          | Exponentiation                                   |\n",
    "|                            | \\+x, \\-x, ~x                                  | Unary positive, unary negation, bitwise negation |\n",
    "|                            | \\*, /, //, %                                  | Multiplication, division, floor division, modulo |\n",
    "|                            | \\+, \\-                                        | Addition, subtraction                            |\n",
    "|                            | <<, >>                                        | Bitwise left shift, bitwise right shift          |\n",
    "|                            | &                                             | bitwise and                                      |\n",
    "|                            | ^                                             | bitwise xor                                      |\n",
    "|                            | \\|                                            | bitwise or                                       |\n",
    "|                            | ==, \\!=, >, >=, <, <=, is, is not, in, not in | Comparisons, identity, and membership operators  |\n",
    "|                            | not                                           | Logical not                                      |\n",
    "|                            | and                                           | Logical and                                      |\n",
    "| **lowest precedence**      | or                                            | Logical or                                       |\n"
   ]
  },
  {
   "cell_type": "markdown",
   "id": "ee73082f",
   "metadata": {
    "slideshow": {
     "slide_type": "slide"
    }
   },
   "source": [
    "# Operator Associativity\n",
    "\n",
    "**Operator associativity** is used to determine the order of execution if two or more operators have the same precedence in an expression. Operator associativity can be one of the following:\n",
    "\n",
    "- left to right\n",
    "- right to left\n",
    "\n",
    "Only the following operators have right to left associativity:\n",
    "\n",
    "- Exponentiation (`**`)\n",
    "- Logical not (`not`)\n",
    "- Assignment operators\n",
    "\n",
    "All the other operators have left to right associativity."
   ]
  },
  {
   "cell_type": "code",
   "execution_count": null,
   "id": "08863e1d",
   "metadata": {
    "slideshow": {
     "slide_type": "subslide"
    }
   },
   "outputs": [],
   "source": [
    "2 + 4 * 10"
   ]
  },
  {
   "cell_type": "code",
   "execution_count": null,
   "id": "6ed3bc98",
   "metadata": {
    "slideshow": {
     "slide_type": "fragment"
    }
   },
   "outputs": [],
   "source": [
    "(2 + 4) * 10"
   ]
  },
  {
   "cell_type": "code",
   "execution_count": null,
   "id": "5a486647",
   "metadata": {
    "slideshow": {
     "slide_type": "fragment"
    }
   },
   "outputs": [],
   "source": [
    "5 * 20 - 2 ** 5"
   ]
  },
  {
   "cell_type": "code",
   "execution_count": null,
   "id": "7104bba2",
   "metadata": {
    "slideshow": {
     "slide_type": "fragment"
    }
   },
   "outputs": [],
   "source": [
    "5 * (20 - 2) ** 5"
   ]
  },
  {
   "cell_type": "code",
   "execution_count": null,
   "id": "bfd63cba",
   "metadata": {
    "slideshow": {
     "slide_type": "fragment"
    }
   },
   "outputs": [],
   "source": [
    "100 // 5 % 3"
   ]
  },
  {
   "cell_type": "code",
   "execution_count": null,
   "id": "c1386f9b",
   "metadata": {
    "slideshow": {
     "slide_type": "fragment"
    }
   },
   "outputs": [],
   "source": [
    "100 // (5 % 3)"
   ]
  },
  {
   "cell_type": "code",
   "execution_count": null,
   "id": "b530a96d",
   "metadata": {
    "slideshow": {
     "slide_type": "subslide"
    }
   },
   "outputs": [],
   "source": [
    "superhero = \"Robin\"\n",
    "power = 60\n",
    "\n",
    "superhero == \"Robin\" or superhero == \"Batman\" and power > 80"
   ]
  },
  {
   "cell_type": "code",
   "execution_count": null,
   "id": "20c3a34e",
   "metadata": {
    "slideshow": {
     "slide_type": "fragment"
    }
   },
   "outputs": [],
   "source": [
    "superhero = \"Robin\"\n",
    "power = 60\n",
    "\n",
    "(superhero == \"Robin\" or superhero == \"Batman\") and power > 80"
   ]
  },
  {
   "cell_type": "code",
   "execution_count": null,
   "id": "e0cc99f4",
   "metadata": {
    "slideshow": {
     "slide_type": "subslide"
    }
   },
   "outputs": [],
   "source": [
    "2 ** 3 ** 2"
   ]
  },
  {
   "cell_type": "code",
   "execution_count": null,
   "id": "338b4fb6",
   "metadata": {
    "slideshow": {
     "slide_type": "fragment"
    }
   },
   "outputs": [],
   "source": [
    "(2 ** 3) ** 2"
   ]
  },
  {
   "cell_type": "code",
   "execution_count": null,
   "id": "72475741",
   "metadata": {
    "slideshow": {
     "slide_type": "fragment"
    }
   },
   "outputs": [],
   "source": [
    "not not True"
   ]
  },
  {
   "cell_type": "code",
   "execution_count": null,
   "id": "b81f9732",
   "metadata": {
    "slideshow": {
     "slide_type": "fragment"
    }
   },
   "outputs": [],
   "source": [
    "not not not True"
   ]
  },
  {
   "cell_type": "code",
   "execution_count": null,
   "id": "6181d886",
   "metadata": {
    "slideshow": {
     "slide_type": "subslide"
    }
   },
   "outputs": [],
   "source": [
    "x = 6 ** 2 + 8 ** 2\n",
    "x"
   ]
  },
  {
   "cell_type": "code",
   "execution_count": null,
   "id": "970fa7e7",
   "metadata": {
    "slideshow": {
     "slide_type": "fragment"
    }
   },
   "outputs": [],
   "source": [
    "x = 100\n",
    "x *= 7 - 2\n",
    "x"
   ]
  },
  {
   "cell_type": "markdown",
   "id": "25147b3b",
   "metadata": {
    "slideshow": {
     "slide_type": "slide"
    }
   },
   "source": [
    "# String operations\n",
    "\n",
    "| Operator   | Name          | Example        | Meaning                             |\n",
    "|------------|---------------|----------------|-------------------------------------|\n",
    "| \\+         | Concatenation | x \\+ y         | Concatenates two strings            |\n",
    "| \\*         | Repetition    | x \\* y         | Repeats a string for integral times |\n",
    "| Comparison | \\-            | x <comp\\_op> y | Performs string comparison          |\n",
    "| Assignment | \\-            | x <asg\\_op> y  | Performs string assignment          |"
   ]
  },
  {
   "cell_type": "markdown",
   "id": "ccc9a684",
   "metadata": {
    "slideshow": {
     "slide_type": "subslide"
    }
   },
   "source": [
    "## Concatenation"
   ]
  },
  {
   "cell_type": "code",
   "execution_count": null,
   "id": "575d744d",
   "metadata": {
    "slideshow": {
     "slide_type": "fragment"
    }
   },
   "outputs": [],
   "source": [
    "\"Hello \" + \"World\" "
   ]
  },
  {
   "cell_type": "code",
   "execution_count": null,
   "id": "8fcaf8e1",
   "metadata": {
    "slideshow": {
     "slide_type": "fragment"
    }
   },
   "outputs": [],
   "source": [
    "name = \"John\"\n",
    "\n",
    "\"Hello, \" + name + \"!\""
   ]
  },
  {
   "cell_type": "markdown",
   "id": "09c4db12",
   "metadata": {
    "slideshow": {
     "slide_type": "subslide"
    }
   },
   "source": [
    "## Repetition\n",
    "\n",
    "- One of the arguments must be integer and the other should be string."
   ]
  },
  {
   "cell_type": "code",
   "execution_count": null,
   "id": "1084b4d4",
   "metadata": {
    "slideshow": {
     "slide_type": "fragment"
    }
   },
   "outputs": [],
   "source": [
    "3 * \"hello \""
   ]
  },
  {
   "cell_type": "code",
   "execution_count": null,
   "id": "3665542e",
   "metadata": {
    "slideshow": {
     "slide_type": "fragment"
    }
   },
   "outputs": [],
   "source": [
    "\"hello \" * 3"
   ]
  },
  {
   "cell_type": "code",
   "execution_count": null,
   "id": "dcfded51",
   "metadata": {
    "slideshow": {
     "slide_type": "fragment"
    }
   },
   "outputs": [],
   "source": [
    "3.5 * \"hello \""
   ]
  },
  {
   "cell_type": "code",
   "execution_count": null,
   "id": "9a895ec3",
   "metadata": {
    "slideshow": {
     "slide_type": "fragment"
    }
   },
   "outputs": [],
   "source": [
    "(3.5 + 1j) * \"hello \""
   ]
  },
  {
   "cell_type": "markdown",
   "id": "9ae23d97",
   "metadata": {
    "slideshow": {
     "slide_type": "subslide"
    }
   },
   "source": [
    "## Comparison\n",
    "\n",
    "- It performs comparison between strings using their corresponding Unicode values.\n",
    "- The function `ord()` can be used to find the unicode representation value of a character."
   ]
  },
  {
   "cell_type": "code",
   "execution_count": null,
   "id": "afc61b7e",
   "metadata": {
    "slideshow": {
     "slide_type": "fragment"
    }
   },
   "outputs": [],
   "source": [
    "ord(\"a\"), ord(\"A\")"
   ]
  },
  {
   "cell_type": "code",
   "execution_count": null,
   "id": "9d00cfc7",
   "metadata": {
    "slideshow": {
     "slide_type": "fragment"
    }
   },
   "outputs": [],
   "source": [
    "ord(\"z\"), ord(\"Z\")"
   ]
  },
  {
   "cell_type": "code",
   "execution_count": null,
   "id": "a25e60a9",
   "metadata": {
    "slideshow": {
     "slide_type": "fragment"
    }
   },
   "outputs": [],
   "source": [
    "ord(\"ա\"), ord(\"Ա\")"
   ]
  },
  {
   "cell_type": "code",
   "execution_count": null,
   "id": "d43bcc59",
   "metadata": {
    "slideshow": {
     "slide_type": "fragment"
    }
   },
   "outputs": [],
   "source": [
    "ord(\"ֆ\"), ord(\"Ֆ\")"
   ]
  },
  {
   "cell_type": "code",
   "execution_count": null,
   "id": "aa5eecfb",
   "metadata": {
    "slideshow": {
     "slide_type": "subslide"
    }
   },
   "outputs": [],
   "source": [
    "\"abc\" == \"abc\""
   ]
  },
  {
   "cell_type": "code",
   "execution_count": null,
   "id": "c1b630ac",
   "metadata": {
    "slideshow": {
     "slide_type": "fragment"
    }
   },
   "outputs": [],
   "source": [
    "\"abc\" != \"abd\""
   ]
  },
  {
   "cell_type": "code",
   "execution_count": null,
   "id": "af38b1a2",
   "metadata": {
    "scrolled": true,
    "slideshow": {
     "slide_type": "fragment"
    }
   },
   "outputs": [],
   "source": [
    "\"abc\" < \"abd\""
   ]
  },
  {
   "cell_type": "code",
   "execution_count": null,
   "id": "e143dfb6",
   "metadata": {
    "slideshow": {
     "slide_type": "fragment"
    }
   },
   "outputs": [],
   "source": [
    "\"abcABC\" < \"abdabc\""
   ]
  },
  {
   "cell_type": "code",
   "execution_count": null,
   "id": "9e428de1",
   "metadata": {
    "scrolled": true,
    "slideshow": {
     "slide_type": "fragment"
    }
   },
   "outputs": [],
   "source": [
    "\"abc\" >= \"ABC\""
   ]
  },
  {
   "cell_type": "code",
   "execution_count": null,
   "id": "5a8e0b15",
   "metadata": {
    "slideshow": {
     "slide_type": "fragment"
    }
   },
   "outputs": [],
   "source": [
    "\"abcACD\" >= \"abcABC\""
   ]
  },
  {
   "cell_type": "markdown",
   "id": "98662ea9",
   "metadata": {
    "slideshow": {
     "slide_type": "slide"
    }
   },
   "source": [
    "# String formatting / interpolation\n",
    "\n",
    "- printf-style string formatting via `%` operator\n",
    "- string formatting via `str.format`\n",
    "- string interpolation via f-strings"
   ]
  },
  {
   "cell_type": "markdown",
   "id": "7218ea3c",
   "metadata": {
    "slideshow": {
     "slide_type": "subslide"
    }
   },
   "source": [
    "## printf-style\n",
    "\n",
    "- `<format> % <values>` construct is used and conversion specifications in `<format>` are replaced by `<values>`.\n",
    "- `<format>` is a string that includes conversion specifiers, such as:\n",
    "    - `'d'`: for signed integer decimal format\n",
    "    - `'f'`: for floating point decimal format\n",
    "    - `'s'`: for string format\n",
    "\n",
    "For complete reference to formatting and specifications, see:\n",
    "- [printf-style String Formatting](https://docs.python.org/3/library/stdtypes.html#printf-style-string-formatting)\n",
    "- [Format String Syntax](https://docs.python.org/3/library/string.html#format-string-syntax)"
   ]
  },
  {
   "cell_type": "code",
   "execution_count": null,
   "id": "668d9d95",
   "metadata": {
    "slideshow": {
     "slide_type": "subslide"
    }
   },
   "outputs": [],
   "source": [
    "age = 19\n",
    "\n",
    "\"John is %d years old and his GPA is 19.57.\" % age"
   ]
  },
  {
   "cell_type": "code",
   "execution_count": null,
   "id": "a69750b0",
   "metadata": {
    "slideshow": {
     "slide_type": "fragment"
    }
   },
   "outputs": [],
   "source": [
    "age = 19\n",
    "name = \"John\"\n",
    "\n",
    "\"%s is %d years old and his GPA is 19.57.\" % (name, age)"
   ]
  },
  {
   "cell_type": "code",
   "execution_count": null,
   "id": "520fc504",
   "metadata": {
    "slideshow": {
     "slide_type": "subslide"
    }
   },
   "outputs": [],
   "source": [
    "age = 19\n",
    "name = \"John\"\n",
    "gpa = 19.57\n",
    "\n",
    "\"%s is %d years old and his GPA is %.2f.\" % (name, age, gpa)"
   ]
  },
  {
   "cell_type": "code",
   "execution_count": null,
   "id": "7314d6d9",
   "metadata": {
    "slideshow": {
     "slide_type": "fragment"
    }
   },
   "outputs": [],
   "source": [
    "age = 19\n",
    "name = \"John\"\n",
    "gpa = 19.57\n",
    "\n",
    "\"%(name)s is %(age)d years old and his GPA is %(gpa).2f.\" % {\"name\": name, \"age\": age, \"gpa\": gpa}"
   ]
  }
 ],
 "metadata": {
  "celltoolbar": "Slideshow",
  "kernelspec": {
   "display_name": "Python 3 (ipykernel)",
   "language": "python",
   "name": "python3"
  },
  "language_info": {
   "codemirror_mode": {
    "name": "ipython",
    "version": 3
   },
   "file_extension": ".py",
   "mimetype": "text/x-python",
   "name": "python",
   "nbconvert_exporter": "python",
   "pygments_lexer": "ipython3",
   "version": "3.8.10"
  },
  "vscode": {
   "interpreter": {
    "hash": "916dbcbb3f70747c44a77c7bcd40155683ae19c65e1c03b4aa3499c5328201f1"
   }
  }
 },
 "nbformat": 4,
 "nbformat_minor": 5
}
