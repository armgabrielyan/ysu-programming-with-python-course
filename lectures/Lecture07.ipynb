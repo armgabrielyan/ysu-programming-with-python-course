{
 "cells": [
  {
   "cell_type": "markdown",
   "id": "d6515b7c",
   "metadata": {
    "slideshow": {
     "slide_type": "slide"
    }
   },
   "source": [
    "# Programming with Python\n",
    "\n",
    "## Lecture 07: `while` loops\n",
    "\n",
    "### Armen Gabrielyan\n",
    "\n",
    "#### Yerevan State University\n",
    "#### Portmind"
   ]
  },
  {
   "cell_type": "markdown",
   "id": "b8117421",
   "metadata": {
    "slideshow": {
     "slide_type": "slide"
    }
   },
   "source": [
    "# Homework 01 review\n",
    "\n",
    "### General feedback\n",
    "\n",
    "- **No late homeworks.** A penalty of 10 points is applied for each day.\n",
    "- **No plagiarism.** Collaboration is encouraged, but copying someone else's work without proper attribution is not admitted and invalidates the submission. A penalty is applied to all parties included.\n",
    "- Answers, including code snippets, should include comments and explanations.\n",
    "- Git version control system, maybe we should a session about it?"
   ]
  },
  {
   "cell_type": "markdown",
   "id": "c3ad1505",
   "metadata": {
    "slideshow": {
     "slide_type": "subslide"
    }
   },
   "source": [
    "## Problem 1\n",
    "\n",
    "- **Declarative:** A natural number is called a prime number if it is greater than $1$ and cannot be represented as a product of two natural numbers.\n",
    "- **Imperative**\n",
    "    1. If the given number $n$ is equal to $1$, then we stop and $n$ is not prime.\n",
    "    2. Let $i = 2$.\n",
    "    3. Check if $i \\le \\lfloor \\sqrt{n} \\rfloor$. If not, then we stop and $n$ is prime. Otherwise, we continue to the next step.\n",
    "    3. Check if $n$ is divisible by $i$. If yes, then we stop and $n$ is not prime.\n",
    "    4. Otherwise, let $i = i + 1$ and go back to step $3$."
   ]
  },
  {
   "cell_type": "markdown",
   "id": "19ea65bd",
   "metadata": {
    "slideshow": {
     "slide_type": "subslide"
    }
   },
   "source": [
    "## Problem 2\n",
    "\n",
    "- $x = 9$\n",
    "\n",
    "**Step 1**\n",
    "\n",
    "1. Let $g = 1$\n",
    "2. $|g^2 - x| = |1 - 9| = 8 > 10^{-3}$, so we continue.\n",
    "3. $g = \\frac{1 + \\frac{9}{1}}{2} = 5$ is the new guess.\n",
    "4. Go back to $2.$ and repeat."
   ]
  },
  {
   "cell_type": "markdown",
   "id": "d6a501a8",
   "metadata": {
    "slideshow": {
     "slide_type": "subslide"
    }
   },
   "source": [
    "**Step 2**\n",
    "\n",
    "1. Let $g = 5$\n",
    "2. $|g^2 - x| = |25 - 9| = 16 > 10^{-3}$, so we continue.\n",
    "3. $g = \\frac{5 + \\frac{9}{5}}{2} = 3.4$ is the new guess.\n",
    "4. Go back to $2.$ and repeat."
   ]
  },
  {
   "cell_type": "markdown",
   "id": "b6b6b1f1",
   "metadata": {
    "slideshow": {
     "slide_type": "subslide"
    }
   },
   "source": [
    "**Step 3**\n",
    "\n",
    "1. Let $g = 3.4$\n",
    "2. $|g^2 - x| = |11.56 - 9| = 2.56 > 10^{-3}$, so we continue.\n",
    "3. $g = \\frac{3.4 + \\frac{9}{3.4}}{2} = 3.02352941$ is the new guess.\n",
    "4. Go back to $2.$ and repeat."
   ]
  },
  {
   "cell_type": "markdown",
   "id": "f4997ab5",
   "metadata": {
    "slideshow": {
     "slide_type": "subslide"
    }
   },
   "source": [
    "**Step 4**\n",
    "\n",
    "1. Let $g = 3.02352941$\n",
    "2. $|g^2 - x| = |9.14173 - 9| = 0.14173 > 10^{-3}$, so we continue.\n",
    "3. $g = \\frac{3.02352941 + \\frac{9}{3.02352941}}{2} = 3.00009155$ is the new guess.\n",
    "4. Go back to $2.$ and repeat."
   ]
  },
  {
   "cell_type": "markdown",
   "id": "4cc9d643",
   "metadata": {
    "slideshow": {
     "slide_type": "subslide"
    }
   },
   "source": [
    "**Step 5**\n",
    "\n",
    "1. Let $g = 3.00009155$\n",
    "2. $|g^2 - x| = |9.0005493 - 9| = 0.0005493 < 10^{-3}$, so we stop.\n",
    "\n",
    "The answer is $g = 3.00009155$."
   ]
  },
  {
   "cell_type": "markdown",
   "id": "e24d63d1",
   "metadata": {
    "slideshow": {
     "slide_type": "fragment"
    }
   },
   "source": [
    "- $x = 3$\n",
    "\n",
    "This can be calculated like the method above."
   ]
  },
  {
   "cell_type": "markdown",
   "id": "3135da14",
   "metadata": {
    "slideshow": {
     "slide_type": "subslide"
    }
   },
   "source": [
    "## Problem 3\n",
    "\n",
    "1. Calculate $4 \\cdot 5 + 3 \\cdot (6 - \\frac{4}{7}$.\n",
    "    - **Syntax:** Invalid. Brackets are not balanced.\n",
    "    - **Static semantics:** Not relevant.\n",
    "    - **Semantics:** Not relevant.\n",
    "2. In Euclidean geometry, the distance between two points $(x_1, y_1)$ and $(x_2, y_2)$ can be calculated by $\\sqrt{(x_2 - x_1) ^ 2 + (y_2 - y_1) ^ 2}$ formula.\n",
    "    - **Syntax:** Correct. The statements and formula are well-defined.\n",
    "    - **Static semantics:** Valid. The statements and formula have meaning.\n",
    "    - **Semantics:** The meaning is to give a formula for calculating the distance between two points in Euclidean geometry."
   ]
  },
  {
   "cell_type": "markdown",
   "id": "7a62a3cc",
   "metadata": {
    "slideshow": {
     "slide_type": "subslide"
    }
   },
   "source": [
    "3. Let $f(x, y) = x^2 + y^2$. Find the value of $f(1, 2, 3)$.\n",
    "    - **Syntax:** Correct. The statements and formula are well-defined.\n",
    "    - **Static semantics:** Invalid. The function $f(x, y)$ has two arguments, but it is called with three parameters.\n",
    "    - **Semantics:** Not relevant.\n",
    "4. Let $A = \\{ 1, 2, \\dots, 10 \\} + 42$. State the elements of the set $A$.\n",
    "    - **Syntax:** Invalid. Addition between a set and number is not well-formed.\n",
    "    - **Static semantics:** Not relevant.\n",
    "    - **Semantics:** Not relevant."
   ]
  },
  {
   "cell_type": "markdown",
   "id": "ddbefcfd",
   "metadata": {
    "slideshow": {
     "slide_type": "subslide"
    }
   },
   "source": [
    "5. Let $A \\in {R ^ {2 \\times 4}}$ and $B \\in {R ^ {4 \\times 3}}$ be two matrices.\n",
    "    - Find $AB$.\n",
    "        - **Syntax:** Correct. The statements and notation are well-defined.\n",
    "        - **Static semantics:** Valid. The statements and notation have meaning.\n",
    "        - **Semantics:** The meaning is that the product of matrices $A$ and $B$ can be found.\n",
    "    - Find $BA$.\n",
    "        - **Syntax:** Correct. The statements and notation are well-defined.\n",
    "        - **Static semantics:** Invalid. There is a mismatch in dimensions and the product of matrices $B$ and $A$ cannot be computed.\n",
    "        - **Semantics:** Not relevant."
   ]
  },
  {
   "cell_type": "markdown",
   "id": "43dc45e1",
   "metadata": {
    "slideshow": {
     "slide_type": "subslide"
    }
   },
   "source": [
    "6. Let $f(x, y) = \\frac{x}{y}$.\n",
    "    - Given $x = 12$ and $y = 4$ numbers, find the value of $f(x, y)$.\n",
    "        - **Syntax:** Correct. The statements and notation are well-defined.\n",
    "        - **Static semantics:** Valid. The statements and notation have meaning.\n",
    "        - **Semantics:** The meaning is the division between two numbers which is correctly defined.\n",
    "    - Given $\\vec{x} = \\begin{bmatrix} 1 & 2  \\end{bmatrix} ^ T$ and $\\vec{y} = \\begin{bmatrix} 3 & 4  \\end{bmatrix}  ^ T$, find the value of $f(\\vec{x}, \\vec{y})$.\n",
    "        - **Syntax:** Correct. The statements and notation are well-defined.\n",
    "        - **Static semantics:** Invalid. Division operation is not defined on vectors.\n",
    "        - **Semantics:** Not relevant."
   ]
  },
  {
   "cell_type": "markdown",
   "id": "3260e808",
   "metadata": {
    "slideshow": {
     "slide_type": "subslide"
    }
   },
   "source": [
    "7. $A = \\{ 1, 2, \\dots, 5 \\}$ and $B = \\{ 6, 7, \\dots, 10 \\}$. Find $A \\times B$.\n",
    "    - **Syntax:** Correct. The statements and notation are well-defined.\n",
    "    - **Static semantics:** Valid. The statements and notation have meaning.\n",
    "    - **Semantics:** The meaning is that the Cartesian product between sets $A$ and $B$ is computed.\n",
    "8. Calculate $\\sum_1^{100}{\\frac{1}{\\log}}$\n",
    "    - **Syntax:** Incorrect. $\\log$ has a missing argument.\n",
    "    - **Static semantics:** Not relevant.\n",
    "    - **Semantics:** Not relevant."
   ]
  },
  {
   "cell_type": "markdown",
   "id": "b31f5d50",
   "metadata": {
    "slideshow": {
     "slide_type": "subslide"
    }
   },
   "source": [
    "9. If $a$, $b$ are sides and $c$ is the hypotenuse of a right triangle, then $a^2 + b^2 = c^2$.\n",
    "    - **Syntax:** Correct. The statements and formula are well-defined.\n",
    "    - **Static semantics:** Valid. The statements and formula have meaning.\n",
    "    - **Semantics:** The meaning is to state the Pythagorean theorem.\n",
    "10. Find $\\int e^x$.\n",
    "    - **Syntax:** Incorrect. Integral is missing $dx$.\n",
    "    - **Static semantics:** Not relevant.\n",
    "    - **Semantics:** Not relevant."
   ]
  },
  {
   "cell_type": "markdown",
   "id": "3e886bf7",
   "metadata": {
    "slideshow": {
     "slide_type": "subslide"
    }
   },
   "source": [
    "## Problem 4\n",
    "\n",
    "1. `xyz123`: Valid. It consists of only English letters and numbers.\n",
    "2. `XyZ`: Valid. It consists of only English letters.\n",
    "3. `True`: invalid. `True` is a keyword in Python.\n",
    "4. `false`: Valid. It consists of only English letters and it is not a Python keyword. Instead, `False` is a keyword.\n",
    "5. `first_name`: Valid. It consists of only English letters and underscore (`_`).\n",
    "6. `last-name`: Invalid. It contains hyphen (`-`).\n",
    "7. `$account_balance`: Invalid. It contains dollar sign (`$`).\n",
    "8. `two_%_increase`: Invalid. It contains percent sign (`%`).\n",
    "9. `42_percent_decrease`: Invalid. It starts with a number.\n",
    "10. `if_`: Valid. It consists of only English letters and an underscore (`_`), and it is not a Python keyword. Instead, `if` is a keyword.\n",
    "11. `__False`: Valid. It consists of only English letters and underscores (`_`), and it is not a Python keyword. Instead, `False` is a keyword."
   ]
  },
  {
   "cell_type": "markdown",
   "id": "5690fcb9",
   "metadata": {
    "slideshow": {
     "slide_type": "subslide"
    }
   },
   "source": [
    "## Problem 5\n",
    "\n",
    "1. \n",
    "\n",
    "```python\n",
    "x = 10 # int\n",
    "y = '10' # str\n",
    "z = \"10\" # str\n",
    "```"
   ]
  },
  {
   "cell_type": "code",
   "execution_count": null,
   "id": "f7aa292e",
   "metadata": {
    "slideshow": {
     "slide_type": "fragment"
    }
   },
   "outputs": [],
   "source": [
    "x = 10\n",
    "y = '10'\n",
    "z = \"10\"\n",
    "\n",
    "type(x), type(y), type(z)"
   ]
  },
  {
   "cell_type": "markdown",
   "id": "d622a0bf",
   "metadata": {
    "slideshow": {
     "slide_type": "subslide"
    }
   },
   "source": [
    "2. \n",
    "\n",
    "```python\n",
    "x = 'True' # str\n",
    "y = False # bool\n",
    "z = \"False\" # str\n",
    "```"
   ]
  },
  {
   "cell_type": "code",
   "execution_count": null,
   "id": "b1d52b33",
   "metadata": {
    "slideshow": {
     "slide_type": "fragment"
    }
   },
   "outputs": [],
   "source": [
    "x = 'True'\n",
    "y = False\n",
    "z = \"False\"\n",
    "\n",
    "type(x), type(y), type(z)"
   ]
  },
  {
   "cell_type": "markdown",
   "id": "5d56ea9b",
   "metadata": {
    "slideshow": {
     "slide_type": "subslide"
    }
   },
   "source": [
    "3.\n",
    "\n",
    "```python\n",
    "x = 7.0 # float\n",
    "y = \"7\" # str\n",
    "z = -7 # int\n",
    "```"
   ]
  },
  {
   "cell_type": "code",
   "execution_count": null,
   "id": "43786e72",
   "metadata": {
    "slideshow": {
     "slide_type": "fragment"
    }
   },
   "outputs": [],
   "source": [
    "x = 7.0\n",
    "y = \"7\"\n",
    "z = -7\n",
    "\n",
    "type(x), type(y), type(z)"
   ]
  },
  {
   "cell_type": "markdown",
   "id": "6f4ab53e",
   "metadata": {
    "slideshow": {
     "slide_type": "subslide"
    }
   },
   "source": [
    "4.\n",
    "\n",
    "```python\n",
    "x = 1.7j - 2 # complex\n",
    "y = \"1.7j - 2\" # str\n",
    "z = \"1 + i\" # str\n",
    "```"
   ]
  },
  {
   "cell_type": "code",
   "execution_count": null,
   "id": "582eb09f",
   "metadata": {
    "slideshow": {
     "slide_type": "fragment"
    }
   },
   "outputs": [],
   "source": [
    "x = 1.7j - 2\n",
    "y = \"1.7j - 2\"\n",
    "z = \"1 + i\"\n",
    "\n",
    "type(x), type(y), type(z)"
   ]
  },
  {
   "cell_type": "markdown",
   "id": "4e264fef",
   "metadata": {
    "slideshow": {
     "slide_type": "subslide"
    }
   },
   "source": [
    "5.\n",
    "\n",
    "```python\n",
    "x = \"John Doe\" # str\n",
    "y = 'Jane Lee' # str\n",
    "z = 'programming' # str\n",
    "```"
   ]
  },
  {
   "cell_type": "code",
   "execution_count": null,
   "id": "0d93631d",
   "metadata": {
    "slideshow": {
     "slide_type": "fragment"
    }
   },
   "outputs": [],
   "source": [
    "x = \"John Doe\"\n",
    "y = 'Jane Lee'\n",
    "z = 'programming'\n",
    "\n",
    "type(x), type(y), type(z)"
   ]
  },
  {
   "cell_type": "markdown",
   "id": "7ef77c9b",
   "metadata": {
    "slideshow": {
     "slide_type": "subslide"
    }
   },
   "source": [
    "6.\n",
    "\n",
    "```python\n",
    "x = \"None\" # str\n",
    "y = None # NoneType\n",
    "z = 'none' # str\n",
    "```"
   ]
  },
  {
   "cell_type": "code",
   "execution_count": null,
   "id": "c2d8e2be",
   "metadata": {
    "slideshow": {
     "slide_type": "fragment"
    }
   },
   "outputs": [],
   "source": [
    "x = \"None\"\n",
    "y = None\n",
    "z = 'none'\n",
    "\n",
    "type(x), type(y), type(z)"
   ]
  },
  {
   "cell_type": "markdown",
   "id": "5647ba19",
   "metadata": {
    "slideshow": {
     "slide_type": "subslide"
    }
   },
   "source": [
    "7.\n",
    "\n",
    "```python\n",
    "x = 3e4 # float\n",
    "y = 5.6e-4 # float\n",
    "z = '5e7' # str\n",
    "```"
   ]
  },
  {
   "cell_type": "code",
   "execution_count": null,
   "id": "78d3c310",
   "metadata": {
    "slideshow": {
     "slide_type": "fragment"
    }
   },
   "outputs": [],
   "source": [
    "x = 3e4\n",
    "y = 5.6e-4\n",
    "z = '5e7'\n",
    "\n",
    "type(x), type(y), type(z)"
   ]
  },
  {
   "cell_type": "markdown",
   "id": "e7b85770",
   "metadata": {
    "slideshow": {
     "slide_type": "subslide"
    }
   },
   "source": [
    "## Problem 6"
   ]
  },
  {
   "cell_type": "code",
   "execution_count": null,
   "id": "faa40047",
   "metadata": {
    "slideshow": {
     "slide_type": "fragment"
    }
   },
   "outputs": [],
   "source": [
    "first_name = input('What is your first name? ')\n",
    "last_name = input('What is your last name? ')\n",
    "dob = input('What is your date of birth? ')\n",
    "\n",
    "print('Welcome', first_name, last_name, dob)"
   ]
  },
  {
   "cell_type": "markdown",
   "id": "ee66ce71",
   "metadata": {
    "slideshow": {
     "slide_type": "slide"
    }
   },
   "source": [
    "# `while` loops\n",
    "\n",
    "Loop statements allow programmers to have a repeated execution of statements, which is known as **iteration**.\n",
    "\n",
    "```python\n",
    "while <condition>:\n",
    "    <block_of_statements>\n",
    "```\n",
    "\n",
    "- `<condition>` is an expression evaluated in a boolean context. As long as it evaluates to `True`, `<block_of_statements>` block is executed repeatedly. Otherwise, the loop stops and normal execution continues.\n",
    "- `<block_of_statements>` is a block that can include one or more statements."
   ]
  },
  {
   "cell_type": "code",
   "execution_count": null,
   "id": "a2159b5b",
   "metadata": {
    "slideshow": {
     "slide_type": "subslide"
    }
   },
   "outputs": [],
   "source": [
    "i = 0\n",
    "\n",
    "while i < 10:\n",
    "    print(i)\n",
    "    i += 1"
   ]
  },
  {
   "cell_type": "code",
   "execution_count": null,
   "id": "38ab5663",
   "metadata": {
    "slideshow": {
     "slide_type": "fragment"
    }
   },
   "outputs": [],
   "source": [
    "i = 10\n",
    "\n",
    "while i < 10:\n",
    "    print(i)\n",
    "    i += 1"
   ]
  },
  {
   "cell_type": "markdown",
   "id": "9b8e34f1",
   "metadata": {
    "slideshow": {
     "slide_type": "slide"
    }
   },
   "source": [
    "# `break` statement\n",
    "\n",
    "`break` is a control statement that is used to terminate the execution of a loop. When a `break` statement is encountered within a loop, the loop is immediately exited and the program control resumes at the next statement following the loop.\n",
    "\n",
    "```python\n",
    "while <condition>:\n",
    "    <block_of_statements_1>\n",
    "    break\n",
    "    <block_of_statements_2>\n",
    "<block_of_statements_3>\n",
    "```"
   ]
  },
  {
   "cell_type": "markdown",
   "id": "42f4ae84",
   "metadata": {
    "slideshow": {
     "slide_type": "subslide"
    }
   },
   "source": [
    "- `<condition>` is an expression evaluated in a boolean context. As long as it evaluates to `True`, loop body is executed.\n",
    "- `<block_of_statements_1>`, `<block_of_statements_2>` and `<block_of_statements_3>` are blocks that can include one or more statements.\n",
    "- `<block_of_statements_1>` may be executed while `<block_of_statements_2>` is not because it comes after `break` statement.\n",
    "- After `break` statement, the loop is terminated and `<block_of_statements_3>` continues the program execution."
   ]
  },
  {
   "cell_type": "code",
   "execution_count": null,
   "id": "f1741650",
   "metadata": {
    "slideshow": {
     "slide_type": "subslide"
    }
   },
   "outputs": [],
   "source": [
    "i = 0\n",
    "\n",
    "while i < 10:\n",
    "    if i == 5:\n",
    "        break\n",
    "\n",
    "    print(i)\n",
    "    i += 1\n",
    "\n",
    "print(f\"While loop ended: i = {i}\")"
   ]
  },
  {
   "cell_type": "markdown",
   "id": "eda34c22",
   "metadata": {
    "slideshow": {
     "slide_type": "slide"
    }
   },
   "source": [
    "# `continue` statement\n",
    "\n",
    "`continue` is a control statement that is used to skip the current iteration of a loop and move on to the next iteration. When a `continue` statement is encountered within a loop, the current iteration of the loop is terminated and the loop immediately starts the next iteration.\n",
    "\n",
    "```python\n",
    "while <condition>:\n",
    "    <block_of_statements_1>\n",
    "    continue\n",
    "    <block_of_statements_2>\n",
    "<block_of_statements_3>\n",
    "```"
   ]
  },
  {
   "cell_type": "markdown",
   "id": "0ea0aab9",
   "metadata": {
    "slideshow": {
     "slide_type": "subslide"
    }
   },
   "source": [
    "- `<condition>` is an expression evaluated in a boolean context. As long as it evaluates to `True`, loop body is executed.\n",
    "- `<block_of_statements_1>`, `<block_of_statements_2>` and `<block_of_statements_3>` are blocks that can include one or more statements.\n",
    "- `<block_of_statements_1>` is executed while`<block_of_statements_2>` is not because it comes after `continue` statement.\n",
    "- After `continue` statement, the loop proceeds with the next loop iteration."
   ]
  },
  {
   "cell_type": "code",
   "execution_count": null,
   "id": "82aca827",
   "metadata": {
    "slideshow": {
     "slide_type": "subslide"
    }
   },
   "outputs": [],
   "source": [
    "i = 0\n",
    "\n",
    "while i < 10:\n",
    "    i += 1\n",
    "\n",
    "    if i % 2 == 0:\n",
    "        continue\n",
    "\n",
    "    print(i)\n",
    "\n",
    "print(f\"While loop ended: i = {i}\")"
   ]
  },
  {
   "cell_type": "markdown",
   "id": "16d82e73",
   "metadata": {
    "slideshow": {
     "slide_type": "slide"
    }
   },
   "source": [
    "# `while-else` statement\n",
    "\n",
    "```python\n",
    "while <condition>:\n",
    "    <block_of_statements_1>\n",
    "else:\n",
    "    <block_of_statements_2>\n",
    "```\n",
    "\n",
    "- `<condition>` is an expression evaluated in a boolean context. As long as it evaluates to `True`, loop body, i.e. `<block_of_statements_1>`, is executed.\n",
    "- `<block_of_statements_1>` and `<block_of_statements_2>` are blocks that can include one or more statements.\n",
    "- `<block_of_statements_2>` is executed only if the loop terminates by exhaustation, i.e. the loop is executed until `<condition>` evaluates to `False`."
   ]
  },
  {
   "cell_type": "code",
   "execution_count": null,
   "id": "09cd3e91",
   "metadata": {
    "slideshow": {
     "slide_type": "subslide"
    }
   },
   "outputs": [],
   "source": [
    "i = 0\n",
    "\n",
    "while i < 10:\n",
    "    print(i)\n",
    "    i += 1\n",
    "print(\"While loop ended\")"
   ]
  },
  {
   "cell_type": "code",
   "execution_count": null,
   "id": "d45f4697",
   "metadata": {
    "slideshow": {
     "slide_type": "fragment"
    }
   },
   "outputs": [],
   "source": [
    "i = 0\n",
    "\n",
    "while i < 10:\n",
    "    if i == 5:\n",
    "        break\n",
    "    print(i)\n",
    "    i += 1\n",
    "print(\"While loop ended\")"
   ]
  },
  {
   "cell_type": "code",
   "execution_count": null,
   "id": "542ab5e4",
   "metadata": {
    "slideshow": {
     "slide_type": "subslide"
    }
   },
   "outputs": [],
   "source": [
    "i = 0\n",
    "\n",
    "while i < 10:\n",
    "    print(i)\n",
    "    i += 1\n",
    "else:\n",
    "    print(\"While loop ended\")"
   ]
  },
  {
   "cell_type": "code",
   "execution_count": null,
   "id": "98888e4f",
   "metadata": {
    "scrolled": true,
    "slideshow": {
     "slide_type": "fragment"
    }
   },
   "outputs": [],
   "source": [
    "i = 0\n",
    "\n",
    "while i < 10:\n",
    "    if i == 5:\n",
    "        break\n",
    "    print(i)\n",
    "    i += 1\n",
    "else:\n",
    "    print(\"While loop ended\")"
   ]
  },
  {
   "cell_type": "markdown",
   "id": "6f5f3616",
   "metadata": {
    "slideshow": {
     "slide_type": "slide"
    }
   },
   "source": [
    "# Nested `while` statements\n",
    "\n",
    "```python\n",
    "while <condition_1>:\n",
    "    <block_of_statements_1>\n",
    "\n",
    "    while <condition_2>:\n",
    "        <block_of_statements_2>\n",
    "```\n",
    "\n",
    "- `<condition_1>` and `<condition_2>` are expressions evaluated in a boolean context.\n",
    "- `<block_of_statements_1>` and `<block_of_statements_2>` are blocks that can include one or more statements.\n",
    "- The body of outer loop, including the inner loop, is executed as long as `<condition_1>` evaluates to `True`.\n",
    "- The body of inner loop is executed as long as `<condition_2>` evaluates to `True`."
   ]
  },
  {
   "cell_type": "code",
   "execution_count": null,
   "id": "5239edc5",
   "metadata": {
    "scrolled": true,
    "slideshow": {
     "slide_type": "subslide"
    }
   },
   "outputs": [],
   "source": [
    "i = 0\n",
    "while i < 5:\n",
    "    j = 0\n",
    "    while j < 10:\n",
    "        print(f\"({i}, {j})\")\n",
    "        j += 1\n",
    "    i += 1"
   ]
  },
  {
   "cell_type": "code",
   "execution_count": null,
   "id": "9b1d3227",
   "metadata": {
    "scrolled": true,
    "slideshow": {
     "slide_type": "subslide"
    }
   },
   "outputs": [],
   "source": [
    "i = 0\n",
    "while i < 5:\n",
    "    j = 0\n",
    "    while j < 10:\n",
    "        k = 0\n",
    "        while k < 3:\n",
    "            print(f\"({i}, {j}, {k})\")\n",
    "            k += 1\n",
    "        j += 1\n",
    "    i += 1"
   ]
  },
  {
   "cell_type": "markdown",
   "id": "b1d52756",
   "metadata": {
    "slideshow": {
     "slide_type": "subslide"
    }
   },
   "source": [
    "## `break` from nested loops\n",
    "\n",
    "A `break` statement applies to the nearest enclosing loop."
   ]
  },
  {
   "cell_type": "code",
   "execution_count": null,
   "id": "e6318de7",
   "metadata": {
    "slideshow": {
     "slide_type": "subslide"
    }
   },
   "outputs": [],
   "source": [
    "i = 0\n",
    "while i < 5:\n",
    "    j = 0\n",
    "    while j < 10:\n",
    "        print(f\"({i}, {j})\")\n",
    "        j += 1\n",
    "        if j == 2:\n",
    "            break\n",
    "    i += 1"
   ]
  },
  {
   "cell_type": "code",
   "execution_count": null,
   "id": "c05bb400",
   "metadata": {
    "slideshow": {
     "slide_type": "subslide"
    }
   },
   "outputs": [],
   "source": [
    "i = 0\n",
    "while i < 5:\n",
    "    j = 0\n",
    "    while j < 10:\n",
    "        print(f\"({i}, {j})\")\n",
    "        j += 1\n",
    "        if j == 2:\n",
    "            break\n",
    "    i += 1\n",
    "    if i == 3:\n",
    "        break"
   ]
  },
  {
   "cell_type": "markdown",
   "id": "8b05d6af",
   "metadata": {
    "slideshow": {
     "slide_type": "slide"
    }
   },
   "source": [
    "# One-line `while` statements\n",
    "\n",
    "```python\n",
    "while <condition>: <statement_1>; <statement_2>; ...\n",
    "```\n",
    "\n",
    "- `<condition>` is an expression evaluated in a boolean context.\n",
    "- `<statement_1>`, `<statement_2>`, ... are several statements.\n",
    "- As long as `<condition>` evaluates to `True`, `<statement_1>`, `<statement_2>`, ... are executed.\n",
    "\n",
    "**Note:** This is not a recommended construct."
   ]
  },
  {
   "cell_type": "code",
   "execution_count": null,
   "id": "bf801ae4",
   "metadata": {
    "slideshow": {
     "slide_type": "subslide"
    }
   },
   "outputs": [],
   "source": [
    "# Not recommended\n",
    "\n",
    "i = 10\n",
    "\n",
    "while i > 0: print(i); i -= 1"
   ]
  },
  {
   "cell_type": "markdown",
   "id": "3d8c91c2",
   "metadata": {
    "slideshow": {
     "slide_type": "slide"
    }
   },
   "source": [
    "# Infinite loops\n",
    "\n",
    "- Infinite loops are such loops where the condition always evaluates to `True` and the loop can theoretically execute forever.\n",
    "- Sometimes infinite loops useful for running programs that need to wait for an event almost forever, such as web server waiting for a request.\n",
    "- Usually, infinite loops have some termination conditions implemented via `break` statements."
   ]
  },
  {
   "cell_type": "code",
   "execution_count": null,
   "id": "bfe248ee",
   "metadata": {
    "slideshow": {
     "slide_type": "subslide"
    }
   },
   "outputs": [],
   "source": [
    "while True:\n",
    "    print(\"Hello world\")"
   ]
  },
  {
   "cell_type": "code",
   "execution_count": null,
   "id": "6c84230d",
   "metadata": {
    "slideshow": {
     "slide_type": "subslide"
    }
   },
   "outputs": [],
   "source": [
    "i = 1\n",
    "\n",
    "while True:\n",
    "    print(i)\n",
    "    i += 1"
   ]
  },
  {
   "cell_type": "code",
   "execution_count": null,
   "id": "b8a087d5",
   "metadata": {
    "slideshow": {
     "slide_type": "subslide"
    }
   },
   "outputs": [],
   "source": [
    "i = 1\n",
    "\n",
    "while True:\n",
    "    print(i)\n",
    "    i += 1\n",
    "    if i == 10:\n",
    "        break"
   ]
  },
  {
   "cell_type": "code",
   "execution_count": null,
   "id": "459c295c",
   "metadata": {
    "slideshow": {
     "slide_type": "subslide"
    }
   },
   "outputs": [],
   "source": [
    "i = 1\n",
    "\n",
    "while True:\n",
    "    print(i)\n",
    "    i += 1\n",
    "    if i == 10:\n",
    "        break\n",
    "    i **= 2\n",
    "    if i > 10:\n",
    "        print(i)\n",
    "        break"
   ]
  },
  {
   "cell_type": "markdown",
   "id": "f0351df2",
   "metadata": {
    "slideshow": {
     "slide_type": "slide"
    }
   },
   "source": [
    "# Examples"
   ]
  },
  {
   "cell_type": "markdown",
   "id": "3d627e47",
   "metadata": {
    "slideshow": {
     "slide_type": "subslide"
    }
   },
   "source": [
    "## Square root of a number"
   ]
  },
  {
   "cell_type": "markdown",
   "id": "5af4f92e",
   "metadata": {
    "slideshow": {
     "slide_type": "fragment"
    }
   },
   "source": [
    "- `abs()`: returns the absolute value of a number."
   ]
  },
  {
   "cell_type": "code",
   "execution_count": null,
   "id": "4222747e",
   "metadata": {
    "slideshow": {
     "slide_type": "fragment"
    }
   },
   "outputs": [],
   "source": [
    "n = int(input(\"Enter a non-negative number: \"))\n",
    "    \n",
    "guess = 1\n",
    "epsilon = 1e-3\n",
    "\n",
    "while abs(guess ** 2 - n) >= epsilon:\n",
    "    guess = (guess + n / guess) / 2\n",
    "\n",
    "print(f\"{guess} is the square root of {n}\")"
   ]
  },
  {
   "cell_type": "markdown",
   "id": "805ee23a",
   "metadata": {
    "slideshow": {
     "slide_type": "subslide"
    }
   },
   "source": [
    "## Using infinite loops to get desired answers"
   ]
  },
  {
   "cell_type": "code",
   "execution_count": null,
   "id": "21218bba",
   "metadata": {
    "slideshow": {
     "slide_type": "fragment"
    }
   },
   "outputs": [],
   "source": [
    "while True:\n",
    "    n = int(input(\"Enter a non-negative number: \"))\n",
    "    \n",
    "    if n >= 0:\n",
    "        break\n",
    "    \n",
    "    print(\"The number you entered is not non-negative\")\n",
    "    \n",
    "n"
   ]
  }
 ],
 "metadata": {
  "celltoolbar": "Slideshow",
  "kernelspec": {
   "display_name": "Python 3 (ipykernel)",
   "language": "python",
   "name": "python3"
  },
  "language_info": {
   "codemirror_mode": {
    "name": "ipython",
    "version": 3
   },
   "file_extension": ".py",
   "mimetype": "text/x-python",
   "name": "python",
   "nbconvert_exporter": "python",
   "pygments_lexer": "ipython3",
   "version": "3.10.8"
  },
  "vscode": {
   "interpreter": {
    "hash": "916dbcbb3f70747c44a77c7bcd40155683ae19c65e1c03b4aa3499c5328201f1"
   }
  }
 },
 "nbformat": 4,
 "nbformat_minor": 5
}
