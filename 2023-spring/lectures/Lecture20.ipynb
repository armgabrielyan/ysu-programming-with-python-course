{
 "cells": [
  {
   "cell_type": "markdown",
   "id": "74750d32",
   "metadata": {
    "slideshow": {
     "slide_type": "slide"
    }
   },
   "source": [
    "# Programming with Python\n",
    "\n",
    "## Lecture 20: Modules and packages\n",
    "\n",
    "### Armen Gabrielyan\n",
    "\n",
    "#### Yerevan State University\n",
    "#### Portmind"
   ]
  },
  {
   "cell_type": "markdown",
   "id": "5420c381",
   "metadata": {
    "slideshow": {
     "slide_type": "slide"
    }
   },
   "source": [
    "## `from <module_name> import <name>`\n",
    "\n",
    "```python\n",
    "from <module_name> import <name_1>, <name_2>, ...\n",
    "```\n",
    "\n",
    "- Module's objects can be imported to caller's symbol table\n",
    "- The objects from module can be accessed directly without dot notation."
   ]
  },
  {
   "cell_type": "code",
   "execution_count": null,
   "id": "5703ad80",
   "metadata": {
    "slideshow": {
     "slide_type": "fragment"
    }
   },
   "outputs": [],
   "source": [
    "from mymodule import text, sequence, greet\n",
    "\n",
    "print(text)\n",
    "print(sequence)\n",
    "print(greet(\"John Doe\"))"
   ]
  },
  {
   "cell_type": "markdown",
   "id": "8d800983",
   "metadata": {
    "slideshow": {
     "slide_type": "fragment"
    }
   },
   "source": [
    "Everything can be imported from a module via `*`.\n",
    "\n",
    "```python\n",
    "from <module_name> import *\n",
    "```\n",
    "\n",
    "However, this is not recommended."
   ]
  },
  {
   "cell_type": "markdown",
   "id": "7f615eca",
   "metadata": {
    "slideshow": {
     "slide_type": "slide"
    }
   },
   "source": [
    "### `import <module_name> as <alt_name>`\n",
    "\n",
    "```python\n",
    "import <module_name> as <alt_name>\n",
    "```\n",
    "\n",
    "- A module can be imported with an alternate name."
   ]
  },
  {
   "cell_type": "code",
   "execution_count": null,
   "id": "ed9afe72",
   "metadata": {
    "slideshow": {
     "slide_type": "fragment"
    }
   },
   "outputs": [],
   "source": [
    "# `anothermodule` is available in the local symbol table\n",
    "import mymodule as anothermodule\n",
    "\n",
    "print(anothermodule)"
   ]
  },
  {
   "cell_type": "code",
   "execution_count": null,
   "id": "eb6b9eb9",
   "metadata": {
    "slideshow": {
     "slide_type": "fragment"
    }
   },
   "outputs": [],
   "source": [
    "print(anothermodule.text)\n",
    "print(anothermodule.sequence)\n",
    "print(anothermodule.greet(\"John Doe\"))"
   ]
  },
  {
   "cell_type": "markdown",
   "id": "dacc954e",
   "metadata": {
    "slideshow": {
     "slide_type": "slide"
    }
   },
   "source": [
    "### `from <module_name> import <name> as <alt_name>`\n",
    "\n",
    "```python\n",
    "from <module_name> import <name_1> as <alt_name_1>, <name_2> as <alt_name_2>, ...\n",
    "```\n",
    "\n",
    "- Module objects can be imported with alternate names too."
   ]
  },
  {
   "cell_type": "code",
   "execution_count": null,
   "id": "b6fbfddc",
   "metadata": {
    "slideshow": {
     "slide_type": "fragment"
    }
   },
   "outputs": [],
   "source": [
    "from mymodule import text as mytext, sequence as mysequence, greet as mygreet\n",
    "\n",
    "print(mytext)\n",
    "print(mysequence)\n",
    "print(mygreet(\"John Doe\"))"
   ]
  },
  {
   "cell_type": "markdown",
   "id": "4135b4cc",
   "metadata": {
    "slideshow": {
     "slide_type": "slide"
    }
   },
   "source": [
    "## `dir()` function\n",
    "\n",
    "If called without arguments, `dir()` function returns the list of names in the current local scope."
   ]
  },
  {
   "cell_type": "code",
   "execution_count": null,
   "id": "583801ff",
   "metadata": {
    "slideshow": {
     "slide_type": "fragment"
    }
   },
   "outputs": [],
   "source": [
    "dir()"
   ]
  },
  {
   "cell_type": "code",
   "execution_count": null,
   "id": "1ed3cbcc",
   "metadata": {
    "slideshow": {
     "slide_type": "fragment"
    }
   },
   "outputs": [],
   "source": [
    "person = {\"name\": \"John Doe\", \"age\": 42}\n",
    "\n",
    "dir()"
   ]
  },
  {
   "cell_type": "code",
   "execution_count": null,
   "id": "3724c875",
   "metadata": {
    "slideshow": {
     "slide_type": "slide"
    }
   },
   "outputs": [],
   "source": [
    "import mymodule\n",
    "\n",
    "dir()"
   ]
  },
  {
   "cell_type": "code",
   "execution_count": null,
   "id": "16dee459",
   "metadata": {
    "slideshow": {
     "slide_type": "fragment"
    }
   },
   "outputs": [],
   "source": [
    "import mymodule as anothermodule\n",
    "\n",
    "dir()"
   ]
  },
  {
   "cell_type": "code",
   "execution_count": null,
   "id": "13eb0a6c",
   "metadata": {
    "slideshow": {
     "slide_type": "fragment"
    }
   },
   "outputs": [],
   "source": [
    "from mymodule import text, sequence, greet\n",
    "\n",
    "dir()"
   ]
  },
  {
   "cell_type": "code",
   "execution_count": null,
   "id": "be42c13d",
   "metadata": {
    "slideshow": {
     "slide_type": "fragment"
    }
   },
   "outputs": [],
   "source": [
    "from mymodule import text as mytext, sequence as mysequence, greet as mygreet\n",
    "\n",
    "dir()"
   ]
  },
  {
   "cell_type": "markdown",
   "id": "44b682ee",
   "metadata": {
    "slideshow": {
     "slide_type": "slide"
    }
   },
   "source": [
    "If a module name is passed as an argument to `dir()`, it provides the names defined in the module."
   ]
  },
  {
   "cell_type": "code",
   "execution_count": null,
   "id": "0bf0df7d",
   "metadata": {
    "slideshow": {
     "slide_type": "fragment"
    }
   },
   "outputs": [],
   "source": [
    "import mymodule\n",
    "\n",
    "dir(mymodule)"
   ]
  },
  {
   "cell_type": "markdown",
   "id": "61ab5a3e",
   "metadata": {
    "slideshow": {
     "slide_type": "slide"
    }
   },
   "source": [
    "## Executing a module as a script\n",
    "\n",
    "A module can be executed like any other Python script via `python module_name.py`."
   ]
  },
  {
   "cell_type": "code",
   "execution_count": null,
   "id": "4d21f0d1",
   "metadata": {
    "slideshow": {
     "slide_type": "fragment"
    }
   },
   "outputs": [],
   "source": [
    "# mymodule.py\n",
    "\n",
    "text = \"Hello world!\"\n",
    "\n",
    "sequence = [10, 20, 30, 40]\n",
    "\n",
    "def greet(name):\n",
    "    return f\"Hello, {name}!\""
   ]
  },
  {
   "cell_type": "markdown",
   "id": "2677ec85",
   "metadata": {
    "slideshow": {
     "slide_type": "fragment"
    }
   },
   "source": [
    "`python mymodule.py` executes `mymodule` as a normal Python script."
   ]
  },
  {
   "cell_type": "code",
   "execution_count": null,
   "id": "80b5c56e",
   "metadata": {
    "slideshow": {
     "slide_type": "slide"
    }
   },
   "outputs": [],
   "source": [
    "# mymodule.py\n",
    "\n",
    "text = \"Hello world!\"\n",
    "\n",
    "sequence = [10, 20, 30, 40]\n",
    "\n",
    "def greet(name):\n",
    "    return f\"Hello, {name}!\"\n",
    "\n",
    "print(text)\n",
    "print(sequence)\n",
    "print(greet(\"John Doe\"))"
   ]
  },
  {
   "cell_type": "markdown",
   "id": "28205db6",
   "metadata": {
    "slideshow": {
     "slide_type": "fragment"
    }
   },
   "source": [
    "`python mymodule.py` executes `mymodule` as a normal Python script and prints the results. However, the outputs are returned even if the module is imported."
   ]
  },
  {
   "cell_type": "code",
   "execution_count": null,
   "id": "3439fc98",
   "metadata": {
    "slideshow": {
     "slide_type": "fragment"
    }
   },
   "outputs": [],
   "source": [
    "import mymodule"
   ]
  },
  {
   "cell_type": "markdown",
   "id": "8d9d2902",
   "metadata": {
    "slideshow": {
     "slide_type": "slide"
    }
   },
   "source": [
    "## `__name__` dunder variable\n",
    "\n",
    "- If a module is imported `__name__` is set to module name.\n",
    "- If a module file is executed as a script, `__name__` is set to `__main__`."
   ]
  },
  {
   "cell_type": "code",
   "execution_count": null,
   "id": "d83de8bc",
   "metadata": {
    "slideshow": {
     "slide_type": "fragment"
    }
   },
   "outputs": [],
   "source": [
    "# mymodule.py\n",
    "\n",
    "text = \"Hello world!\"\n",
    "\n",
    "sequence = [10, 20, 30, 40]\n",
    "\n",
    "def greet(name):\n",
    "    return f\"Hello, {name}!\"\n",
    "\n",
    "if __name__ == '__main__':\n",
    "    print(text)\n",
    "    print(sequence)\n",
    "    print(greet(\"John Doe\"))"
   ]
  },
  {
   "cell_type": "markdown",
   "id": "78373e9b",
   "metadata": {
    "slideshow": {
     "slide_type": "slide"
    }
   },
   "source": [
    "# Packages\n",
    "\n",
    "- **Packages** allow us to have a hierarchical structure of module namespaces which can be accessed via dot notation.\n",
    "- Packages can be created by using operating system folder structure."
   ]
  },
  {
   "cell_type": "code",
   "execution_count": null,
   "id": "0d7cc094",
   "metadata": {
    "slideshow": {
     "slide_type": "fragment"
    }
   },
   "outputs": [],
   "source": [
    "# mypackage/module1.py\n",
    "\n",
    "def func1():\n",
    "    print('[module1] func1()')"
   ]
  },
  {
   "cell_type": "code",
   "execution_count": null,
   "id": "ec9f9146",
   "metadata": {
    "slideshow": {
     "slide_type": "fragment"
    }
   },
   "outputs": [],
   "source": [
    "# mypackage/module2.py\n",
    "\n",
    "def func2():\n",
    "    print('[module2] func2()')"
   ]
  },
  {
   "cell_type": "markdown",
   "id": "649ad6b5",
   "metadata": {
    "slideshow": {
     "slide_type": "slide"
    }
   },
   "source": [
    "## `import <module_name>`"
   ]
  },
  {
   "cell_type": "code",
   "execution_count": null,
   "id": "8a5f8773",
   "metadata": {
    "slideshow": {
     "slide_type": "fragment"
    }
   },
   "outputs": [],
   "source": [
    "import mypackage.module1, mypackage.module2\n",
    "\n",
    "mypackage.module1.func1()\n",
    "mypackage.module2.func2()"
   ]
  },
  {
   "cell_type": "markdown",
   "id": "097ef9ab",
   "metadata": {
    "slideshow": {
     "slide_type": "slide"
    }
   },
   "source": [
    "## `from <module_name> import <name>`"
   ]
  },
  {
   "cell_type": "code",
   "execution_count": null,
   "id": "188c7aa8",
   "metadata": {
    "slideshow": {
     "slide_type": "fragment"
    }
   },
   "outputs": [],
   "source": [
    "from mypackage.module1 import func1\n",
    "from mypackage.module2 import func2\n",
    "\n",
    "func1()\n",
    "func2()"
   ]
  },
  {
   "cell_type": "markdown",
   "id": "a812eec3",
   "metadata": {
    "slideshow": {
     "slide_type": "slide"
    }
   },
   "source": [
    "## `from <module_name> import <name> as <alt_name>`"
   ]
  },
  {
   "cell_type": "code",
   "execution_count": null,
   "id": "c8bf3454",
   "metadata": {
    "slideshow": {
     "slide_type": "fragment"
    }
   },
   "outputs": [],
   "source": [
    "from mypackage.module1 import func1 as myfunc1\n",
    "from mypackage.module2 import func2 as myfunc2\n",
    "\n",
    "myfunc1()\n",
    "myfunc2()"
   ]
  },
  {
   "cell_type": "markdown",
   "id": "f3d57a9c",
   "metadata": {
    "slideshow": {
     "slide_type": "slide"
    }
   },
   "source": [
    "## `from <package_name> import <module_name>`"
   ]
  },
  {
   "cell_type": "code",
   "execution_count": null,
   "id": "25c1003d",
   "metadata": {
    "slideshow": {
     "slide_type": "fragment"
    }
   },
   "outputs": [],
   "source": [
    "from mypackage import module1, module2\n",
    "\n",
    "module1.func1()\n",
    "module2.func2()"
   ]
  },
  {
   "cell_type": "markdown",
   "id": "7006f6c7",
   "metadata": {
    "slideshow": {
     "slide_type": "slide"
    }
   },
   "source": [
    "## `from <package_name> import <module_name> as <alt_name>`"
   ]
  },
  {
   "cell_type": "code",
   "execution_count": null,
   "id": "59aa80ed",
   "metadata": {
    "slideshow": {
     "slide_type": "fragment"
    }
   },
   "outputs": [],
   "source": [
    "from mypackage import module1 as mymodule1, module2 as mymodule2\n",
    "\n",
    "mymodule1.func1()\n",
    "mymodule2.func2()"
   ]
  },
  {
   "cell_type": "markdown",
   "id": "49ac5e65",
   "metadata": {
    "slideshow": {
     "slide_type": "slide"
    }
   },
   "source": [
    "## Package Initialization\n",
    "\n",
    "If an `__init__.py` file is present in package directory, it is executed when a module or package is imported."
   ]
  },
  {
   "cell_type": "code",
   "execution_count": null,
   "id": "88b0ee04",
   "metadata": {
    "slideshow": {
     "slide_type": "fragment"
    }
   },
   "outputs": [],
   "source": [
    "# mypackage/module1.py\n",
    "\n",
    "def func1():\n",
    "    print('[module1] func1()')"
   ]
  },
  {
   "cell_type": "code",
   "execution_count": null,
   "id": "36a092fa",
   "metadata": {
    "slideshow": {
     "slide_type": "fragment"
    }
   },
   "outputs": [],
   "source": [
    "# mypackage/module2.py\n",
    "\n",
    "def func2():\n",
    "    print('[module2] func2()')"
   ]
  },
  {
   "cell_type": "code",
   "execution_count": null,
   "id": "b13816ed",
   "metadata": {
    "slideshow": {
     "slide_type": "fragment"
    }
   },
   "outputs": [],
   "source": [
    "# mypackage/__init__.py\n",
    "\n",
    "print(\"Executing mypack/__init__.py\")\n",
    "\n",
    "GREETING = \"Hello world!\""
   ]
  },
  {
   "cell_type": "code",
   "execution_count": null,
   "id": "f33121d4",
   "metadata": {
    "slideshow": {
     "slide_type": "fragment"
    }
   },
   "outputs": [],
   "source": [
    "import mypackage\n",
    "\n",
    "print(mypackage.GREETING)"
   ]
  },
  {
   "cell_type": "markdown",
   "id": "e20bfa42",
   "metadata": {
    "slideshow": {
     "slide_type": "slide"
    }
   },
   "source": [
    "Modules can be automatically imported from a package via `__init__.py`."
   ]
  },
  {
   "cell_type": "code",
   "execution_count": null,
   "id": "f7e6ee05",
   "metadata": {
    "slideshow": {
     "slide_type": "fragment"
    }
   },
   "outputs": [],
   "source": [
    "# mypackage/__init__.py\n",
    "\n",
    "print(\"Executing mypackage/__init__.py\")\n",
    "\n",
    "import mypackage.module1, mypackage.module2"
   ]
  },
  {
   "cell_type": "code",
   "execution_count": null,
   "id": "90acba00",
   "metadata": {
    "slideshow": {
     "slide_type": "fragment"
    }
   },
   "outputs": [],
   "source": [
    "import mypackage\n",
    "\n",
    "mypackage.module1.func1()\n",
    "mypackage.module2.func2()"
   ]
  },
  {
   "cell_type": "markdown",
   "id": "3bc7eddd",
   "metadata": {
    "slideshow": {
     "slide_type": "slide"
    }
   },
   "source": [
    "## Subpackages\n",
    "\n",
    "Packages can be nested, i.e. a package can contain **subpackages**.\n",
    "\n",
    "```\n",
    "├── package_1\n",
    "│   ├── sub_package_1\n",
    "│   │   ├── module_1_1.py\n",
    "│   │   ├── module_1_2.py\n",
    "│   └── sub_package_2\n",
    "│       ├── module_2_1.py\n",
    "│       └── module_2_2.py\n",
    "```"
   ]
  },
  {
   "cell_type": "markdown",
   "id": "6b30a793",
   "metadata": {
    "slideshow": {
     "slide_type": "slide"
    }
   },
   "source": [
    "## Importing subpackages\n",
    "\n",
    "The same importing technique applies here, so dot notation can be used to import deeper subpackages."
   ]
  },
  {
   "cell_type": "markdown",
   "id": "9623247c",
   "metadata": {
    "slideshow": {
     "slide_type": "fragment"
    }
   },
   "source": [
    "```python\n",
    "import package_1.sub_package_1.module_1_1\n",
    "\n",
    "package_1.sub_package_1.module_1_1.func()\n",
    "```"
   ]
  },
  {
   "cell_type": "markdown",
   "id": "f948613f",
   "metadata": {
    "slideshow": {
     "slide_type": "fragment"
    }
   },
   "source": [
    "```python\n",
    "from package_1.sub_package_1 import module_1_2\n",
    "\n",
    "module_1_2.func()\n",
    "```"
   ]
  },
  {
   "cell_type": "markdown",
   "id": "0b1cebb9",
   "metadata": {
    "slideshow": {
     "slide_type": "fragment"
    }
   },
   "source": [
    "```python\n",
    "from package_1.sub_package_2.module_2_1 import func\n",
    "\n",
    "func()\n",
    "```"
   ]
  },
  {
   "cell_type": "markdown",
   "id": "f46ee6a5",
   "metadata": {
    "slideshow": {
     "slide_type": "fragment"
    }
   },
   "source": [
    "```python\n",
    "from package_1.sub_package_2.module_2_2 import func as my_func\n",
    "\n",
    "my_func()\n",
    "```"
   ]
  }
 ],
 "metadata": {
  "celltoolbar": "Slideshow",
  "kernelspec": {
   "display_name": "Python 3 (ipykernel)",
   "language": "python",
   "name": "python3"
  },
  "language_info": {
   "codemirror_mode": {
    "name": "ipython",
    "version": 3
   },
   "file_extension": ".py",
   "mimetype": "text/x-python",
   "name": "python",
   "nbconvert_exporter": "python",
   "pygments_lexer": "ipython3",
   "version": "3.8.10"
  }
 },
 "nbformat": 4,
 "nbformat_minor": 5
}
