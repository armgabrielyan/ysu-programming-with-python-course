{
 "cells": [
  {
   "cell_type": "markdown",
   "id": "70e592c3",
   "metadata": {},
   "source": [
    "# Programming with Python\n",
    "\n",
    "## Lecture 04: New features\n",
    "\n",
    "### Armen Gabrielyan\n",
    "\n",
    "#### Yerevan State University / ASDS\n",
    "\n",
    "#### 01 Mar, 2025"
   ]
  },
  {
   "cell_type": "markdown",
   "id": "6d549576",
   "metadata": {},
   "source": [
    "# New features in latest Python versions"
   ]
  },
  {
   "cell_type": "markdown",
   "id": "3b22306a",
   "metadata": {},
   "source": [
    "## Walrus operator (`:=`)\n",
    "\n",
    "The walrus operator (`:=`) in Python is used for assignment expressions, allowing you to assign a value to a variable as part of an expression. Assignment expressions use the walrus operator (`:=`) to both assign and evaluate variable names in a single expression, thus reducing repetition. It was introduced in Python 3.8 [PEP 572](https://peps.python.org/pep-0572/)."
   ]
  },
  {
   "cell_type": "markdown",
   "id": "6f0b2eda",
   "metadata": {},
   "source": [
    "### Using in control flow"
   ]
  },
  {
   "cell_type": "code",
   "execution_count": null,
   "id": "6e4b5838",
   "metadata": {},
   "outputs": [],
   "source": [
    "# Traditional way\n",
    "\n",
    "data = input(\"Enter something: \")\n",
    "while data != \"quit\":\n",
    "    print(f\"You entered: {data}\")\n",
    "    data = input(\"Enter something: \")"
   ]
  },
  {
   "cell_type": "code",
   "execution_count": null,
   "id": "0b0fec8d",
   "metadata": {},
   "outputs": [],
   "source": [
    "# Using Walrus Operator\n",
    "\n",
    "while (data := input(\"Enter something: \")) != \"quit\":\n",
    "    print(f\"You entered: {data}\")"
   ]
  },
  {
   "cell_type": "code",
   "execution_count": null,
   "id": "9a78569b",
   "metadata": {},
   "outputs": [],
   "source": [
    "# Traditional way\n",
    "\n",
    "value = 50\n",
    "if value > 42:\n",
    "    print(\"Your value is greater than 42\")"
   ]
  },
  {
   "cell_type": "code",
   "execution_count": null,
   "id": "55450501",
   "metadata": {},
   "outputs": [],
   "source": [
    "# Using Walrus Operator\n",
    "\n",
    "if (value := 50) > 42:\n",
    "    print(\"Your value is greater than 42\")"
   ]
  },
  {
   "cell_type": "markdown",
   "id": "765fee25",
   "metadata": {},
   "source": [
    "### Using in list comprehensions\n",
    "\n",
    "You can use `:=` to avoid redundant calculations inside list comprehensions."
   ]
  },
  {
   "cell_type": "code",
   "execution_count": null,
   "id": "320da403",
   "metadata": {},
   "outputs": [],
   "source": [
    "def expensive_computation(x):\n",
    "    return x ** 2"
   ]
  },
  {
   "cell_type": "code",
   "execution_count": null,
   "id": "26035242",
   "metadata": {},
   "outputs": [],
   "source": [
    "# Traditional way\n",
    "\n",
    "nums = [1, 2, 3, 4, 5]\n",
    "\n",
    "squares = [expensive_computation(x) for x in nums if expensive_computation(x) > 10]\n",
    "squares"
   ]
  },
  {
   "cell_type": "code",
   "execution_count": null,
   "id": "e37d3ee0",
   "metadata": {},
   "outputs": [],
   "source": [
    "# Using Walrus Operator\n",
    "\n",
    "squares = [sq for x in nums if (sq := expensive_computation(x)) > 10]\n",
    "squares"
   ]
  },
  {
   "cell_type": "markdown",
   "id": "72b4fa73",
   "metadata": {},
   "source": [
    "## Structural pattern matching\n",
    "\n",
    "Structural pattern matching was introduced in Python 3.10 [PEP 636](https://peps.python.org/pep-0636/) with the `match` statement. It allows for concise, readable, and expressive ways to handle complex conditional logic, similar to switch-case in other languages but with much more power.\n",
    "\n",
    "```python\n",
    "match subject:\n",
    "    case pattern1:\n",
    "        # code block for pattern1\n",
    "    case pattern2:\n",
    "        # code block for pattern2\n",
    "    # ...\n",
    "    case _:\n",
    "        # code block for the default case (like 'else')\n",
    "```\n",
    "\n",
    "- `subject` is the variable you are matching against.\n",
    "- `case` specifies a pattern to match against the subject.\n",
    "- `_` is used for the default case, matching anything if no other pattern matches.\n",
    "\n",
    "We can also use `if` guard conditions with cases for more complex logic."
   ]
  },
  {
   "cell_type": "markdown",
   "id": "7d7815bc",
   "metadata": {},
   "source": [
    "### Basic usage"
   ]
  },
  {
   "cell_type": "code",
   "execution_count": null,
   "id": "11d28192",
   "metadata": {},
   "outputs": [],
   "source": [
    "def check_number(n):\n",
    "    match n:\n",
    "        case 1 | 2:\n",
    "            return \"One or two\"\n",
    "        case 3 | 4 | 5:\n",
    "            return \"Three, four or five\"\n",
    "        case _:\n",
    "            return \"Something else\"\n",
    "\n",
    "print(check_number(1))\n",
    "print(check_number(2))\n",
    "print(check_number(4))\n",
    "print(check_number(6))"
   ]
  },
  {
   "cell_type": "markdown",
   "id": "11809ff3",
   "metadata": {},
   "source": [
    "### Matching tuples & lists"
   ]
  },
  {
   "cell_type": "code",
   "execution_count": null,
   "id": "e80cb5fc",
   "metadata": {},
   "outputs": [],
   "source": [
    "def process_tuple(data):\n",
    "    match data:\n",
    "        case (1, x):\n",
    "            return f\"Starts with 1, second element is {x}\"\n",
    "        case (x, y, z):\n",
    "            return f\"Three-element tuple: {x}, {y}, {z}\"\n",
    "        case _:\n",
    "            return \"Something else\"\n",
    "\n",
    "print(process_tuple((1, 100)))\n",
    "print(process_tuple((5, 10, 15)))"
   ]
  },
  {
   "cell_type": "markdown",
   "id": "80805d88",
   "metadata": {},
   "source": [
    "This shows that:\n",
    "\n",
    "- Patterns can bind variables (e.g. `x`, `y`, `z`).\n",
    "- If a tuple of two elements is passed, it matches the first case. If a tuple of three elements is passed, it matches the second case."
   ]
  },
  {
   "cell_type": "code",
   "execution_count": null,
   "id": "42569cfb",
   "metadata": {},
   "outputs": [],
   "source": [
    "def process_list(numbers):\n",
    "    match numbers:\n",
    "        case []:\n",
    "            return \"No numbers provided\"\n",
    "        case [first]:\n",
    "            return f\"Only one number: {first}\"\n",
    "        case [first, second]:\n",
    "            return f\"Two numbers: {first} and {second}\"\n",
    "        case [first, *rest]:\n",
    "            return f\"First number: {first}, and the rest: {rest}\"\n",
    "        case _:\n",
    "            return \"Not a list of numbers\""
   ]
  },
  {
   "cell_type": "code",
   "execution_count": null,
   "id": "36e39140",
   "metadata": {},
   "outputs": [],
   "source": [
    "print(process_list([10, 20, 30]))\n",
    "print(process_list([]))\n",
    "print(process_list(34))"
   ]
  },
  {
   "cell_type": "markdown",
   "id": "9ad4e235",
   "metadata": {},
   "source": [
    "In this example, different patterns are used to match lists of various lengths, including using the `*rest` syntax to capture the remainder of the list."
   ]
  },
  {
   "cell_type": "markdown",
   "id": "8b17e641",
   "metadata": {},
   "source": [
    "### Matching dictionaries"
   ]
  },
  {
   "cell_type": "code",
   "execution_count": null,
   "id": "9e663f3a",
   "metadata": {},
   "outputs": [],
   "source": [
    "def process_dict(data):\n",
    "    match data:\n",
    "        case {\"name\": name, \"age\": age}:\n",
    "            return f\"Name: {name}, Age: {age}\"\n",
    "        case {\"name\": name}:\n",
    "            return f\"Name: {name}\"\n",
    "        case {\"city\": city, **rest}:\n",
    "            return f\"City: {city}, Other details: {rest}\"\n",
    "        case _:\n",
    "            return \"Unknown format\"\n",
    "\n",
    "print(process_dict({\"name\": \"Alice\", \"age\": 30}))\n",
    "print(process_dict({\"name\": \"Alice\"}))\n",
    "print(process_dict({\"city\": \"London\", \"salary\": 100_000}))"
   ]
  },
  {
   "cell_type": "markdown",
   "id": "6e459a56",
   "metadata": {},
   "source": [
    "### Matching classes (object matching)\n",
    "\n",
    "You can use pattern matching with custom objects by defining attributes. \n",
    "\n",
    "Also, `if` statements allow filtering matches."
   ]
  },
  {
   "cell_type": "code",
   "execution_count": null,
   "id": "2c790ac5",
   "metadata": {},
   "outputs": [],
   "source": [
    "from dataclasses import dataclass\n",
    "\n",
    "\n",
    "@dataclass\n",
    "class Vehicle:\n",
    "    pass\n",
    "\n",
    "\n",
    "@dataclass\n",
    "class Car(Vehicle):\n",
    "    make: str\n",
    "    model: str\n",
    "\n",
    "\n",
    "@dataclass\n",
    "class Truck(Vehicle):\n",
    "    make: str\n",
    "    towing_capacity: int\n",
    "\n",
    "\n",
    "def describe_vehicle(vehicle):\n",
    "    match vehicle:\n",
    "        case Car(make=\"Tesla\", model=model):\n",
    "            return f\"A Tesla car, model {model}\"\n",
    "        case Car():\n",
    "            return \"A car of some make and model\"\n",
    "        case Truck(towing_capacity=towing) if towing > 5000:\n",
    "            return \"A heavy-duty truck\"\n",
    "        case _:\n",
    "            return \"Some type of vehicle\""
   ]
  },
  {
   "cell_type": "code",
   "execution_count": null,
   "id": "a338d10a",
   "metadata": {},
   "outputs": [],
   "source": [
    "car = Car(\"Tesla\", \"Cybertruck\")\n",
    "print(describe_vehicle(car))"
   ]
  },
  {
   "cell_type": "code",
   "execution_count": null,
   "id": "9feb846e",
   "metadata": {},
   "outputs": [],
   "source": [
    "car = Car(\"Porsche\", \"911\")\n",
    "print(describe_vehicle(car))"
   ]
  },
  {
   "cell_type": "code",
   "execution_count": null,
   "id": "520890aa",
   "metadata": {},
   "outputs": [],
   "source": [
    "truck = Truck(\"Ford\", 5500)\n",
    "print(describe_vehicle(truck))"
   ]
  },
  {
   "cell_type": "code",
   "execution_count": null,
   "id": "f55fe7fd",
   "metadata": {},
   "outputs": [],
   "source": [
    "truck = Truck(\"Ford\", 4200)\n",
    "print(describe_vehicle(truck))"
   ]
  },
  {
   "cell_type": "markdown",
   "id": "93a0ffe4",
   "metadata": {},
   "source": [
    "### Positive number validation\n",
    "\n",
    "The following `PositiveNumber` class uses structural pattern matching to check number types."
   ]
  },
  {
   "cell_type": "code",
   "execution_count": null,
   "id": "46a34b87",
   "metadata": {},
   "outputs": [],
   "source": [
    "class PositiveNumber:\n",
    "    def __init__(self, value):\n",
    "        match value:\n",
    "            case int() | float() if value > 0:\n",
    "                self.value = float(value)\n",
    "            case int() | float():\n",
    "                raise ValueError(\"number must be positive\")\n",
    "            case complex():\n",
    "                raise TypeError(\"number must be real\")\n",
    "            case _:\n",
    "                raise TypeError(\"value must be a number\")\n",
    "\n",
    "    def __repr__(self):\n",
    "        return f\"PositiveNumber({self.value!r})\""
   ]
  },
  {
   "cell_type": "code",
   "execution_count": null,
   "id": "441fb93a",
   "metadata": {},
   "outputs": [],
   "source": [
    "PositiveNumber(42)"
   ]
  },
  {
   "cell_type": "code",
   "execution_count": null,
   "id": "a0ca1f10",
   "metadata": {},
   "outputs": [],
   "source": [
    "PositiveNumber(3.14)"
   ]
  },
  {
   "cell_type": "code",
   "execution_count": null,
   "id": "947595e2",
   "metadata": {},
   "outputs": [],
   "source": [
    "PositiveNumber(0)"
   ]
  },
  {
   "cell_type": "code",
   "execution_count": null,
   "id": "13daaed8",
   "metadata": {},
   "outputs": [],
   "source": [
    "PositiveNumber(4 + 2j)"
   ]
  },
  {
   "cell_type": "code",
   "execution_count": null,
   "id": "fff8e7cc",
   "metadata": {},
   "outputs": [],
   "source": [
    "PositiveNumber(\"fourty two\")"
   ]
  },
  {
   "cell_type": "code",
   "execution_count": null,
   "id": "ae076911",
   "metadata": {},
   "outputs": [],
   "source": []
  }
 ],
 "metadata": {
  "kernelspec": {
   "display_name": "Python 3 (ipykernel)",
   "language": "python",
   "name": "python3"
  },
  "language_info": {
   "codemirror_mode": {
    "name": "ipython",
    "version": 3
   },
   "file_extension": ".py",
   "mimetype": "text/x-python",
   "name": "python",
   "nbconvert_exporter": "python",
   "pygments_lexer": "ipython3",
   "version": "3.12.9"
  }
 },
 "nbformat": 4,
 "nbformat_minor": 5
}
