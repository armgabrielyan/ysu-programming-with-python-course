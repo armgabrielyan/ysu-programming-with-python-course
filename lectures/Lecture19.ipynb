{
 "cells": [
  {
   "cell_type": "markdown",
   "id": "74750d32",
   "metadata": {
    "slideshow": {
     "slide_type": "slide"
    }
   },
   "source": [
    "# Programming with Python\n",
    "\n",
    "## Lecture 19: Decorators, modules and packages\n",
    "\n",
    "### Armen Gabrielyan\n",
    "\n",
    "#### Yerevan State University\n",
    "#### Portmind"
   ]
  },
  {
   "cell_type": "markdown",
   "id": "67ddf7da",
   "metadata": {
    "slideshow": {
     "slide_type": "slide"
    }
   },
   "source": [
    "## Introspection\n",
    "\n",
    "Type introspection is the ability of a program to examine the type or properties of an object at runtime."
   ]
  },
  {
   "cell_type": "code",
   "execution_count": null,
   "id": "d9041599",
   "metadata": {
    "slideshow": {
     "slide_type": "fragment"
    }
   },
   "outputs": [],
   "source": [
    "print"
   ]
  },
  {
   "cell_type": "code",
   "execution_count": null,
   "id": "a665aac0",
   "metadata": {
    "slideshow": {
     "slide_type": "fragment"
    }
   },
   "outputs": [],
   "source": [
    "print.__name__"
   ]
  },
  {
   "cell_type": "code",
   "execution_count": null,
   "id": "e17c5849",
   "metadata": {
    "slideshow": {
     "slide_type": "fragment"
    }
   },
   "outputs": [],
   "source": [
    "help(print)"
   ]
  },
  {
   "cell_type": "code",
   "execution_count": null,
   "id": "1b82db34",
   "metadata": {
    "slideshow": {
     "slide_type": "slide"
    }
   },
   "outputs": [],
   "source": [
    "greet_with_name_and_return"
   ]
  },
  {
   "cell_type": "code",
   "execution_count": null,
   "id": "b435126b",
   "metadata": {
    "slideshow": {
     "slide_type": "fragment"
    }
   },
   "outputs": [],
   "source": [
    "greet_with_name_and_return.__name__"
   ]
  },
  {
   "cell_type": "code",
   "execution_count": null,
   "id": "e1b6aa8d",
   "metadata": {
    "slideshow": {
     "slide_type": "fragment"
    }
   },
   "outputs": [],
   "source": [
    "help(greet_with_name_and_return)"
   ]
  },
  {
   "cell_type": "markdown",
   "id": "47a75474",
   "metadata": {
    "slideshow": {
     "slide_type": "slide"
    }
   },
   "source": [
    "### @functools.wraps\n",
    "\n",
    "This decorator allows us to keep the original information of the decorated function."
   ]
  },
  {
   "cell_type": "code",
   "execution_count": null,
   "id": "2852a66d",
   "metadata": {
    "slideshow": {
     "slide_type": "fragment"
    }
   },
   "outputs": [],
   "source": [
    "import functools\n",
    "\n",
    "def do_twice(func):\n",
    "    @functools.wraps(func)\n",
    "    def wrapper(*args, **kwargs):\n",
    "        func(*args, **kwargs)\n",
    "        return func(*args, **kwargs)\n",
    "    return wrapper"
   ]
  },
  {
   "cell_type": "code",
   "execution_count": null,
   "id": "1daa27d1",
   "metadata": {
    "slideshow": {
     "slide_type": "fragment"
    }
   },
   "outputs": [],
   "source": [
    "@do_twice\n",
    "def greet_with_name_and_return(name):\n",
    "    greeting = f\"Hello, {name}!\"\n",
    "    print(greeting)\n",
    "    return greeting"
   ]
  },
  {
   "cell_type": "code",
   "execution_count": null,
   "id": "885a6d80",
   "metadata": {
    "slideshow": {
     "slide_type": "fragment"
    }
   },
   "outputs": [],
   "source": [
    "greet_with_name_and_return"
   ]
  },
  {
   "cell_type": "code",
   "execution_count": null,
   "id": "00745392",
   "metadata": {
    "slideshow": {
     "slide_type": "fragment"
    }
   },
   "outputs": [],
   "source": [
    "greet_with_name_and_return.__name__"
   ]
  },
  {
   "cell_type": "code",
   "execution_count": null,
   "id": "8db3a0de",
   "metadata": {
    "slideshow": {
     "slide_type": "fragment"
    }
   },
   "outputs": [],
   "source": [
    "help(greet_with_name_and_return)"
   ]
  },
  {
   "cell_type": "markdown",
   "id": "d3a8104a",
   "metadata": {
    "slideshow": {
     "slide_type": "slide"
    }
   },
   "source": [
    "## Timing decorator"
   ]
  },
  {
   "cell_type": "code",
   "execution_count": null,
   "id": "9dd94a8c",
   "metadata": {
    "slideshow": {
     "slide_type": "fragment"
    }
   },
   "outputs": [],
   "source": [
    "import functools\n",
    "import time\n",
    "\n",
    "def timer(func):\n",
    "    @functools.wraps(func)\n",
    "    def wrapper(*args, **kwargs):\n",
    "        start_time = time.perf_counter()\n",
    "        value = func(*args, **kwargs)\n",
    "        end_time = time.perf_counter()\n",
    "        run_time = end_time - start_time\n",
    "        print(f\"Finished {func.__name__!r} in {run_time:.3f} seconds\")\n",
    "        return value\n",
    "    return wrapper"
   ]
  },
  {
   "cell_type": "code",
   "execution_count": null,
   "id": "3ad20394",
   "metadata": {
    "slideshow": {
     "slide_type": "fragment"
    }
   },
   "outputs": [],
   "source": [
    "@timer\n",
    "def sum_of_squares(n):\n",
    "    return sum([i**2 for i in range(10 ** n)])"
   ]
  },
  {
   "cell_type": "code",
   "execution_count": null,
   "id": "35b19680",
   "metadata": {
    "slideshow": {
     "slide_type": "fragment"
    }
   },
   "outputs": [],
   "source": [
    "sum_of_squares(6)"
   ]
  },
  {
   "cell_type": "markdown",
   "id": "68a6022f",
   "metadata": {
    "slideshow": {
     "slide_type": "slide"
    }
   },
   "source": [
    "## Nested decorators\n",
    "\n",
    "Decorators can be stacked on top of each other."
   ]
  },
  {
   "cell_type": "code",
   "execution_count": null,
   "id": "28319edc",
   "metadata": {
    "slideshow": {
     "slide_type": "fragment"
    }
   },
   "outputs": [],
   "source": [
    "import functools\n",
    "\n",
    "def debug(func):\n",
    "    @functools.wraps(func)\n",
    "    def wrapper(*args, **kwargs):\n",
    "        print(f\"Before calling {func.__name__!r}\")\n",
    "        value = func(*args, **kwargs)\n",
    "        print(f\"After calling {func.__name__!r}\")\n",
    "        return value\n",
    "    return wrapper\n",
    "\n",
    "\n",
    "def do_twice(func):\n",
    "    @functools.wraps(func)\n",
    "    def wrapper(*args, **kwargs):\n",
    "        func(*args, **kwargs)\n",
    "        return func(*args, **kwargs)\n",
    "    return wrapper"
   ]
  },
  {
   "cell_type": "code",
   "execution_count": null,
   "id": "6579d27f",
   "metadata": {
    "slideshow": {
     "slide_type": "slide"
    }
   },
   "outputs": [],
   "source": [
    "@debug\n",
    "@do_twice\n",
    "def greet_with_name(name):\n",
    "    print(f\"Hello, {name}!\")\n",
    "    \n",
    "greet_with_name(\"John Doe\")"
   ]
  },
  {
   "cell_type": "markdown",
   "id": "482366d6",
   "metadata": {
    "slideshow": {
     "slide_type": "fragment"
    }
   },
   "source": [
    "This is equivalent to the following."
   ]
  },
  {
   "cell_type": "code",
   "execution_count": null,
   "id": "99699c1e",
   "metadata": {
    "slideshow": {
     "slide_type": "fragment"
    }
   },
   "outputs": [],
   "source": [
    "def greet_with_name(name):\n",
    "    print(f\"Hello, {name}!\")\n",
    "\n",
    "greet_with_name = debug(do_twice(greet_with_name))\n",
    "\n",
    "greet_with_name(\"John Doe\")"
   ]
  },
  {
   "cell_type": "code",
   "execution_count": null,
   "id": "110c0153",
   "metadata": {
    "slideshow": {
     "slide_type": "slide"
    }
   },
   "outputs": [],
   "source": [
    "@do_twice\n",
    "@debug\n",
    "def greet_with_name(name):\n",
    "    print(f\"Hello, {name}!\")\n",
    "    \n",
    "greet_with_name(\"John Doe\")"
   ]
  },
  {
   "cell_type": "markdown",
   "id": "bb971e0b",
   "metadata": {
    "slideshow": {
     "slide_type": "fragment"
    }
   },
   "source": [
    "This is equivalent to the following."
   ]
  },
  {
   "cell_type": "code",
   "execution_count": null,
   "id": "05ccc89e",
   "metadata": {
    "slideshow": {
     "slide_type": "fragment"
    }
   },
   "outputs": [],
   "source": [
    "def greet_with_name(name):\n",
    "    print(f\"Hello, {name}!\")\n",
    "\n",
    "greet_with_name = do_twice(debug(greet_with_name))\n",
    "\n",
    "greet_with_name(\"John Doe\")"
   ]
  },
  {
   "cell_type": "markdown",
   "id": "54d59b76",
   "metadata": {
    "slideshow": {
     "slide_type": "slide"
    }
   },
   "source": [
    "## Decorators that accept arguments"
   ]
  },
  {
   "cell_type": "code",
   "execution_count": null,
   "id": "b8abe646",
   "metadata": {
    "slideshow": {
     "slide_type": "fragment"
    }
   },
   "outputs": [],
   "source": [
    "import functools\n",
    "\n",
    "\n",
    "def repeat(num_times):\n",
    "    def decorator(func):\n",
    "        @functools.wraps(func)\n",
    "        def wrapper(*args, **kwargs):\n",
    "            for _ in range(num_times):\n",
    "                value = func(*args, **kwargs)\n",
    "            return value\n",
    "        return wrapper\n",
    "    return decorator"
   ]
  },
  {
   "cell_type": "code",
   "execution_count": null,
   "id": "ab3f0d56",
   "metadata": {
    "slideshow": {
     "slide_type": "fragment"
    }
   },
   "outputs": [],
   "source": [
    "@repeat(5)\n",
    "def greet_with_name(name):\n",
    "    print(f\"Hello, {name}!\")"
   ]
  },
  {
   "cell_type": "code",
   "execution_count": null,
   "id": "3bfdcdc9",
   "metadata": {
    "slideshow": {
     "slide_type": "fragment"
    }
   },
   "outputs": [],
   "source": [
    "greet_with_name(\"John Doe\")"
   ]
  },
  {
   "cell_type": "markdown",
   "id": "2ee19510",
   "metadata": {
    "slideshow": {
     "slide_type": "slide"
    }
   },
   "source": [
    "# Libraries\n",
    "\n",
    "- **Libraries** are code written by us or others that can easily be used in our programs.\n",
    "- Python allows us to share functions or features by creating **modules**."
   ]
  },
  {
   "cell_type": "markdown",
   "id": "e0b39722",
   "metadata": {
    "slideshow": {
     "slide_type": "slide"
    }
   },
   "source": [
    "# Modularization\n",
    "\n",
    "Python **modules** and **packages** promote modular code and programming. This has the benefits of:\n",
    "\n",
    "- Simplicity\n",
    "- Maintainability\n",
    "- Reusability\n",
    "- Namespacing and scoping"
   ]
  },
  {
   "cell_type": "markdown",
   "id": "38827419",
   "metadata": {
    "slideshow": {
     "slide_type": "slide"
    }
   },
   "source": [
    "# Modules\n",
    "\n",
    "- A module can be written in Python.\n",
    "- A module can be written in C/C++/Rust.\n",
    "- There are built-in modules, such as `math`, `random`, `itertools`."
   ]
  },
  {
   "cell_type": "markdown",
   "id": "1d811c1b",
   "metadata": {
    "slideshow": {
     "slide_type": "slide"
    }
   },
   "source": [
    "# Create a module\n",
    "\n",
    "A module can be created by saving a Python code in a file with `.py` extension."
   ]
  },
  {
   "cell_type": "code",
   "execution_count": null,
   "id": "b8f76638",
   "metadata": {
    "slideshow": {
     "slide_type": "fragment"
    }
   },
   "outputs": [],
   "source": [
    "# mymodule.py\n",
    "\n",
    "text = \"Hello world!\"\n",
    "\n",
    "sequence = [10, 20, 30, 40]\n",
    "\n",
    "def greet(name):\n",
    "    return f\"Hello, {name}!\""
   ]
  },
  {
   "cell_type": "code",
   "execution_count": null,
   "id": "3c02bf9d",
   "metadata": {
    "slideshow": {
     "slide_type": "fragment"
    }
   },
   "outputs": [],
   "source": [
    "# main.py\n",
    "\n",
    "import mymodule\n",
    "\n",
    "print(mymodule.text)\n",
    "print(mymodule.sequence)\n",
    "print(mymodule.greet(\"John Doe\"))"
   ]
  },
  {
   "cell_type": "markdown",
   "id": "3b9710f6",
   "metadata": {
    "slideshow": {
     "slide_type": "slide"
    }
   },
   "source": [
    "# `import` statement"
   ]
  },
  {
   "cell_type": "markdown",
   "id": "ced6d401",
   "metadata": {
    "slideshow": {
     "slide_type": "slide"
    }
   },
   "source": [
    "## `import <module_name>`\n",
    "\n",
    "```python\n",
    "import <module_name>\n",
    "```\n",
    "\n",
    "- A module has its own **private symbol** table.\n",
    "- A module creates a separate **namespace**.\n",
    "- After importing a module only module name is available in caller's symbol table.\n",
    "- The objects from module can be accessed via **dot** notation."
   ]
  },
  {
   "cell_type": "code",
   "execution_count": null,
   "id": "3dfe8229",
   "metadata": {
    "slideshow": {
     "slide_type": "fragment"
    }
   },
   "outputs": [],
   "source": [
    "# `mymodule` is available in the local symbol table\n",
    "import mymodule\n",
    "\n",
    "print(mymodule)"
   ]
  },
  {
   "cell_type": "code",
   "execution_count": null,
   "id": "d594deb3",
   "metadata": {
    "slideshow": {
     "slide_type": "fragment"
    }
   },
   "outputs": [],
   "source": [
    "# `text`, `sequence` or `greet` are not available in the local symbol table\n",
    "\n",
    "print(text)\n",
    "print(sequence)\n",
    "print(greet(\"John Doe\"))"
   ]
  },
  {
   "cell_type": "code",
   "execution_count": null,
   "id": "ec5b149a",
   "metadata": {
    "slideshow": {
     "slide_type": "fragment"
    }
   },
   "outputs": [],
   "source": [
    "# `text`, `sequence` or `greet` can be accessed via dot notaion\n",
    "\n",
    "print(mymodule.text)\n",
    "print(mymodule.sequence)\n",
    "print(mymodule.greet(\"John Doe\"))"
   ]
  },
  {
   "cell_type": "markdown",
   "id": "e1ec8525",
   "metadata": {
    "slideshow": {
     "slide_type": "fragment"
    }
   },
   "source": [
    "Multiple modules can be imported separated by comma.\n",
    "\n",
    "```python\n",
    "import <module_name_1>, <module_name_2>, ...\n",
    "```"
   ]
  },
  {
   "cell_type": "markdown",
   "id": "5420c381",
   "metadata": {
    "slideshow": {
     "slide_type": "slide"
    }
   },
   "source": [
    "## `from <module_name> import <name>`\n",
    "\n",
    "```python\n",
    "from <module_name> import <name_1>, <name_2>, ...\n",
    "```\n",
    "\n",
    "- Module's objects can be imported to caller's symbol table\n",
    "- The objects from module can be accessed directly without dot notation."
   ]
  },
  {
   "cell_type": "code",
   "execution_count": null,
   "id": "5703ad80",
   "metadata": {
    "slideshow": {
     "slide_type": "fragment"
    }
   },
   "outputs": [],
   "source": [
    "from mymodule import text, sequence, greet\n",
    "\n",
    "print(text)\n",
    "print(sequence)\n",
    "print(greet(\"John Doe\"))"
   ]
  },
  {
   "cell_type": "markdown",
   "id": "8d800983",
   "metadata": {
    "slideshow": {
     "slide_type": "fragment"
    }
   },
   "source": [
    "Everything can be imported from a module via `*`.\n",
    "\n",
    "```python\n",
    "from <module_name> import *\n",
    "```\n",
    "\n",
    "However, this is not recommended."
   ]
  }
 ],
 "metadata": {
  "celltoolbar": "Slideshow",
  "kernelspec": {
   "display_name": "Python 3 (ipykernel)",
   "language": "python",
   "name": "python3"
  },
  "language_info": {
   "codemirror_mode": {
    "name": "ipython",
    "version": 3
   },
   "file_extension": ".py",
   "mimetype": "text/x-python",
   "name": "python",
   "nbconvert_exporter": "python",
   "pygments_lexer": "ipython3",
   "version": "3.8.10"
  }
 },
 "nbformat": 4,
 "nbformat_minor": 5
}
