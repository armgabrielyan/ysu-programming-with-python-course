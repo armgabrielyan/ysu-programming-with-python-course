{
 "cells": [
  {
   "cell_type": "markdown",
   "id": "d6515b7c",
   "metadata": {
    "slideshow": {
     "slide_type": "slide"
    }
   },
   "source": [
    "# Programming with Python\n",
    "\n",
    "## Lecture 03: Expressions, statements and operators\n",
    "\n",
    "### Armen Gabrielyan\n",
    "\n",
    "#### Yerevan State University\n",
    "#### Portmind"
   ]
  },
  {
   "cell_type": "markdown",
   "id": "6c088662",
   "metadata": {
    "slideshow": {
     "slide_type": "slide"
    }
   },
   "source": [
    "# Expressions and statements\n",
    "\n",
    "**Expression** is a combination of identifiers, literals and operators that together result in a value. For example:\n",
    "\n",
    "```python\n",
    "5 + 6\n",
    "4.7 > 3.2\n",
    "\"Hello World!\"\n",
    "[1, 2, 3]\n",
    "```\n",
    "\n",
    "**Statement** is a set of instructions that can be executed. It can be one or multiple lines of Python code. Expressions are statements too. For example:\n",
    "\n",
    "```python\n",
    "print(5 + 6)\n",
    "x = 4.7 > 3.2\n",
    "if x: f()\n",
    "x = \"Hello World!\"\n",
    "```"
   ]
  },
  {
   "cell_type": "markdown",
   "id": "8f09eabc",
   "metadata": {
    "slideshow": {
     "slide_type": "slide"
    }
   },
   "source": [
    "# Arithmetic operators\n",
    "\n",
    "| Operator | Name             | Example | Meaning                                                               |\n",
    "|----------|------------------|---------|-----------------------------------------------------------------------|\n",
    "| +        | Positive         | +x      | Makes x positive                                                      |\n",
    "| -        | Negation         | -x      | Negates x                                                             |\n",
    "| +        | Addition         | x + y   | Sum of x and y                                                        |\n",
    "| -        | Subtraction      | x - y   | Subtracts y from x                                                    |\n",
    "| *        | Multiplication   | x * y   | Multiplies x and y                                                    |\n",
    "| /        | Division         | x / y   | Divides x by y, resulting in a float                                  |\n",
    "| %        | Modulo           | x % y   | Remainder when x is divided by y                                      |\n",
    "| //       | Integer/floor division | x // y  | Quotient when x is divided by y, rounded to the next smallest integer |\n",
    "| **       | Exponentiation   | x ** y  | x is raised to the power of y                                         |"
   ]
  },
  {
   "cell_type": "markdown",
   "id": "0b0abf8b",
   "metadata": {
    "slideshow": {
     "slide_type": "subslide"
    }
   },
   "source": [
    "## Positive"
   ]
  },
  {
   "cell_type": "code",
   "execution_count": 489,
   "id": "86f5a78e",
   "metadata": {
    "slideshow": {
     "slide_type": "fragment"
    }
   },
   "outputs": [
    {
     "data": {
      "text/plain": [
       "(5, int, -5, int)"
      ]
     },
     "execution_count": 489,
     "metadata": {},
     "output_type": "execute_result"
    }
   ],
   "source": [
    "# int\n",
    "\n",
    "x = 5\n",
    "y = -5\n",
    "\n",
    "+x, type(+x), +y, type(+y)"
   ]
  },
  {
   "cell_type": "code",
   "execution_count": 490,
   "id": "bb12d342",
   "metadata": {
    "slideshow": {
     "slide_type": "fragment"
    }
   },
   "outputs": [
    {
     "data": {
      "text/plain": [
       "(5.6, float, -5.6, float)"
      ]
     },
     "execution_count": 490,
     "metadata": {},
     "output_type": "execute_result"
    }
   ],
   "source": [
    "# float\n",
    "\n",
    "x = 5.6\n",
    "y = -5.6\n",
    "\n",
    "+x, type(+x), +y, type(+y)"
   ]
  },
  {
   "cell_type": "code",
   "execution_count": 491,
   "id": "e293f434",
   "metadata": {
    "slideshow": {
     "slide_type": "fragment"
    }
   },
   "outputs": [
    {
     "data": {
      "text/plain": [
       "((5.6+3j), complex, (-5.6-3j), complex)"
      ]
     },
     "execution_count": 491,
     "metadata": {},
     "output_type": "execute_result"
    }
   ],
   "source": [
    "# complex\n",
    "\n",
    "x = 5.6 + 3j\n",
    "y = -5.6 -3j\n",
    "\n",
    "+x, type(+x), +y, type(+y)"
   ]
  },
  {
   "cell_type": "markdown",
   "id": "79b256db",
   "metadata": {
    "slideshow": {
     "slide_type": "subslide"
    }
   },
   "source": [
    "## Negation"
   ]
  },
  {
   "cell_type": "code",
   "execution_count": 492,
   "id": "82519ef5",
   "metadata": {
    "slideshow": {
     "slide_type": "fragment"
    }
   },
   "outputs": [
    {
     "data": {
      "text/plain": [
       "(-5, int, 5, int)"
      ]
     },
     "execution_count": 492,
     "metadata": {},
     "output_type": "execute_result"
    }
   ],
   "source": [
    "# int\n",
    "\n",
    "x = 5\n",
    "y = -5\n",
    "\n",
    "-x, type(-x), -y, type(-y)"
   ]
  },
  {
   "cell_type": "code",
   "execution_count": 493,
   "id": "6de35353",
   "metadata": {
    "slideshow": {
     "slide_type": "fragment"
    }
   },
   "outputs": [
    {
     "data": {
      "text/plain": [
       "(-5.6, float, 5.6, float)"
      ]
     },
     "execution_count": 493,
     "metadata": {},
     "output_type": "execute_result"
    }
   ],
   "source": [
    "# float\n",
    "\n",
    "x = 5.6\n",
    "y = -5.6\n",
    "\n",
    "-x, type(-x), -y, type(-y)"
   ]
  },
  {
   "cell_type": "code",
   "execution_count": 494,
   "id": "ca44ce32",
   "metadata": {
    "slideshow": {
     "slide_type": "fragment"
    }
   },
   "outputs": [
    {
     "data": {
      "text/plain": [
       "((-5.6-3j), complex, (5.6+3j), complex)"
      ]
     },
     "execution_count": 494,
     "metadata": {},
     "output_type": "execute_result"
    }
   ],
   "source": [
    "# complex\n",
    "\n",
    "x = 5.6 + 3j\n",
    "y = -5.6 - 3j\n",
    "\n",
    "-x, type(-x), -y, type(-y)"
   ]
  },
  {
   "cell_type": "markdown",
   "id": "c2370cfb",
   "metadata": {
    "slideshow": {
     "slide_type": "subslide"
    }
   },
   "source": [
    "## Addition"
   ]
  },
  {
   "cell_type": "code",
   "execution_count": 495,
   "id": "bfdfb5e3",
   "metadata": {
    "slideshow": {
     "slide_type": "fragment"
    }
   },
   "outputs": [
    {
     "data": {
      "text/plain": [
       "(11, int)"
      ]
     },
     "execution_count": 495,
     "metadata": {},
     "output_type": "execute_result"
    }
   ],
   "source": [
    "# int + int -> int\n",
    "\n",
    "x = 5\n",
    "y = 6\n",
    "\n",
    "x + y, type(x + y)"
   ]
  },
  {
   "cell_type": "code",
   "execution_count": 496,
   "id": "23b7d10f",
   "metadata": {
    "slideshow": {
     "slide_type": "fragment"
    }
   },
   "outputs": [
    {
     "data": {
      "text/plain": [
       "(12.42, float)"
      ]
     },
     "execution_count": 496,
     "metadata": {},
     "output_type": "execute_result"
    }
   ],
   "source": [
    "# float + float -> float\n",
    "\n",
    "x = 5.6\n",
    "y = 6.82\n",
    "\n",
    "x + y, type(x + y)"
   ]
  },
  {
   "cell_type": "code",
   "execution_count": 497,
   "id": "eadd9aeb",
   "metadata": {
    "slideshow": {
     "slide_type": "fragment"
    }
   },
   "outputs": [
    {
     "data": {
      "text/plain": [
       "((12.42-7.8j), complex)"
      ]
     },
     "execution_count": 497,
     "metadata": {},
     "output_type": "execute_result"
    }
   ],
   "source": [
    "# complex + complex -> complex\n",
    "\n",
    "x = 5.6 + 3.2j\n",
    "y = 6.82 - 11j\n",
    "\n",
    "x + y, type(x + y)"
   ]
  },
  {
   "cell_type": "code",
   "execution_count": 498,
   "id": "96dc7ceb",
   "metadata": {
    "slideshow": {
     "slide_type": "subslide"
    }
   },
   "outputs": [
    {
     "data": {
      "text/plain": [
       "(11.82, float)"
      ]
     },
     "execution_count": 498,
     "metadata": {},
     "output_type": "execute_result"
    }
   ],
   "source": [
    "# int + float -> float\n",
    "\n",
    "x = 5\n",
    "y = 6.82\n",
    "\n",
    "x + y, type(x + y)"
   ]
  },
  {
   "cell_type": "code",
   "execution_count": 499,
   "id": "999d8177",
   "metadata": {
    "slideshow": {
     "slide_type": "fragment"
    }
   },
   "outputs": [
    {
     "data": {
      "text/plain": [
       "((11.82-11j), complex)"
      ]
     },
     "execution_count": 499,
     "metadata": {},
     "output_type": "execute_result"
    }
   ],
   "source": [
    "# int + complex -> complex\n",
    "\n",
    "x = 5\n",
    "y = 6.82 - 11j\n",
    "\n",
    "x + y, type(x + y)"
   ]
  },
  {
   "cell_type": "code",
   "execution_count": 500,
   "id": "af11a192",
   "metadata": {
    "slideshow": {
     "slide_type": "fragment"
    }
   },
   "outputs": [
    {
     "data": {
      "text/plain": [
       "((12.42-11j), complex)"
      ]
     },
     "execution_count": 500,
     "metadata": {},
     "output_type": "execute_result"
    }
   ],
   "source": [
    "# float + complex -> complex\n",
    "\n",
    "x = 5.6\n",
    "y = 6.82 - 11j\n",
    "\n",
    "x + y, type(x + y)"
   ]
  },
  {
   "cell_type": "markdown",
   "id": "50157b74",
   "metadata": {
    "slideshow": {
     "slide_type": "subslide"
    }
   },
   "source": [
    "## Substraction"
   ]
  },
  {
   "cell_type": "code",
   "execution_count": 501,
   "id": "1fb7ed36",
   "metadata": {
    "slideshow": {
     "slide_type": "fragment"
    }
   },
   "outputs": [
    {
     "data": {
      "text/plain": [
       "(-1, int)"
      ]
     },
     "execution_count": 501,
     "metadata": {},
     "output_type": "execute_result"
    }
   ],
   "source": [
    "# int - int -> int\n",
    "\n",
    "x = 5\n",
    "y = 6\n",
    "\n",
    "x - y, type(x - y)"
   ]
  },
  {
   "cell_type": "code",
   "execution_count": 502,
   "id": "60f2c224",
   "metadata": {
    "slideshow": {
     "slide_type": "fragment"
    }
   },
   "outputs": [
    {
     "data": {
      "text/plain": [
       "(-1.2200000000000006, float)"
      ]
     },
     "execution_count": 502,
     "metadata": {},
     "output_type": "execute_result"
    }
   ],
   "source": [
    "# float - float -> float\n",
    "\n",
    "x = 5.6\n",
    "y = 6.82\n",
    "\n",
    "x - y, type(x - y)"
   ]
  },
  {
   "cell_type": "code",
   "execution_count": null,
   "id": "ca95d694",
   "metadata": {
    "slideshow": {
     "slide_type": "fragment"
    }
   },
   "outputs": [],
   "source": [
    "# complex - complex -> complex\n",
    "\n",
    "x = 5.6 + 3.2j\n",
    "y = 6.82 - 11j\n",
    "\n",
    "x - y, type(x - y)"
   ]
  },
  {
   "cell_type": "code",
   "execution_count": null,
   "id": "d76350bd",
   "metadata": {
    "slideshow": {
     "slide_type": "subslide"
    }
   },
   "outputs": [],
   "source": [
    "# int - float -> float\n",
    "\n",
    "x = 5\n",
    "y = 6.82\n",
    "\n",
    "x - y, type(x - y)"
   ]
  },
  {
   "cell_type": "code",
   "execution_count": null,
   "id": "4973a9d8",
   "metadata": {
    "slideshow": {
     "slide_type": "fragment"
    }
   },
   "outputs": [],
   "source": [
    "# int - complex -> complex\n",
    "\n",
    "x = 5\n",
    "y = 6.82 - 11j\n",
    "\n",
    "x - y, type(x - y)"
   ]
  },
  {
   "cell_type": "code",
   "execution_count": null,
   "id": "c026bd7a",
   "metadata": {
    "slideshow": {
     "slide_type": "fragment"
    }
   },
   "outputs": [],
   "source": [
    "# float - complex -> complex\n",
    "\n",
    "x = 5.6\n",
    "y = 6.82 - 11j\n",
    "\n",
    "x - y, type(x - y)"
   ]
  },
  {
   "cell_type": "markdown",
   "id": "58ae321d",
   "metadata": {
    "slideshow": {
     "slide_type": "subslide"
    }
   },
   "source": [
    "## Multiplication"
   ]
  },
  {
   "cell_type": "code",
   "execution_count": 503,
   "id": "f7949366",
   "metadata": {
    "slideshow": {
     "slide_type": "fragment"
    }
   },
   "outputs": [
    {
     "data": {
      "text/plain": [
       "(30, int)"
      ]
     },
     "execution_count": 503,
     "metadata": {},
     "output_type": "execute_result"
    }
   ],
   "source": [
    "# int * int -> int\n",
    "\n",
    "x = 5\n",
    "y = 6\n",
    "\n",
    "x * y, type(x * y)"
   ]
  },
  {
   "cell_type": "code",
   "execution_count": 504,
   "id": "c4c64bad",
   "metadata": {
    "slideshow": {
     "slide_type": "fragment"
    }
   },
   "outputs": [
    {
     "data": {
      "text/plain": [
       "(38.192, float)"
      ]
     },
     "execution_count": 504,
     "metadata": {},
     "output_type": "execute_result"
    }
   ],
   "source": [
    "# float * float -> float\n",
    "\n",
    "x = 5.6\n",
    "y = 6.82\n",
    "\n",
    "x * y, type(x * y)"
   ]
  },
  {
   "cell_type": "code",
   "execution_count": 505,
   "id": "b67ffeda",
   "metadata": {
    "slideshow": {
     "slide_type": "subslide"
    }
   },
   "outputs": [
    {
     "data": {
      "text/plain": [
       "((73.392-39.775999999999996j), complex)"
      ]
     },
     "execution_count": 505,
     "metadata": {},
     "output_type": "execute_result"
    }
   ],
   "source": [
    "# complex * complex -> complex\n",
    "\n",
    "x = 5.6 + 3.2j\n",
    "y = 6.82 - 11j\n",
    "\n",
    "x * y, type(x * y)"
   ]
  },
  {
   "cell_type": "code",
   "execution_count": 506,
   "id": "78a273db",
   "metadata": {
    "slideshow": {
     "slide_type": "fragment"
    }
   },
   "outputs": [
    {
     "data": {
      "text/plain": [
       "((122+0j), complex)"
      ]
     },
     "execution_count": 506,
     "metadata": {},
     "output_type": "execute_result"
    }
   ],
   "source": [
    "# complex * complex -> complex\n",
    "\n",
    "x = 1 + 11j\n",
    "y = 1 - 11j\n",
    "\n",
    "x * y, type(x * y)"
   ]
  },
  {
   "cell_type": "code",
   "execution_count": 507,
   "id": "43ec9401",
   "metadata": {
    "slideshow": {
     "slide_type": "subslide"
    }
   },
   "outputs": [
    {
     "data": {
      "text/plain": [
       "(34.1, float)"
      ]
     },
     "execution_count": 507,
     "metadata": {},
     "output_type": "execute_result"
    }
   ],
   "source": [
    "# int * float -> float\n",
    "\n",
    "x = 5\n",
    "y = 6.82\n",
    "\n",
    "x * y, type(x * y)"
   ]
  },
  {
   "cell_type": "code",
   "execution_count": null,
   "id": "1837aff7",
   "metadata": {
    "slideshow": {
     "slide_type": "fragment"
    }
   },
   "outputs": [],
   "source": [
    "# int * complex -> complex\n",
    "\n",
    "x = 5\n",
    "y = 6.82 - 11j\n",
    "\n",
    "x * y, type(x * y)"
   ]
  },
  {
   "cell_type": "code",
   "execution_count": null,
   "id": "ebd4048d",
   "metadata": {
    "slideshow": {
     "slide_type": "fragment"
    }
   },
   "outputs": [],
   "source": [
    "# float * complex -> complex\n",
    "\n",
    "x = 5.6\n",
    "y = 6.82 - 11j\n",
    "\n",
    "x * y, type(x * y)"
   ]
  },
  {
   "cell_type": "markdown",
   "id": "8d102cf5",
   "metadata": {
    "slideshow": {
     "slide_type": "subslide"
    }
   },
   "source": [
    "## Division"
   ]
  },
  {
   "cell_type": "code",
   "execution_count": 508,
   "id": "dd145b1b",
   "metadata": {
    "slideshow": {
     "slide_type": "fragment"
    }
   },
   "outputs": [
    {
     "data": {
      "text/plain": [
       "(0.8333333333333334, float)"
      ]
     },
     "execution_count": 508,
     "metadata": {},
     "output_type": "execute_result"
    }
   ],
   "source": [
    "# int / int -> float if divisor is n-zero\n",
    "\n",
    "x = 5\n",
    "y = 6\n",
    "\n",
    "x / y, type(x / y)"
   ]
  },
  {
   "cell_type": "code",
   "execution_count": 509,
   "id": "acf1d519",
   "metadata": {
    "slideshow": {
     "slide_type": "fragment"
    }
   },
   "outputs": [
    {
     "ename": "ZeroDivisionError",
     "evalue": "division by zero",
     "output_type": "error",
     "traceback": [
      "\u001b[0;31m---------------------------------------------------------------------------\u001b[0m",
      "\u001b[0;31mZeroDivisionError\u001b[0m                         Traceback (most recent call last)",
      "Cell \u001b[0;32mIn[509], line 6\u001b[0m\n\u001b[1;32m      3\u001b[0m x \u001b[38;5;241m=\u001b[39m \u001b[38;5;241m5\u001b[39m\n\u001b[1;32m      4\u001b[0m y \u001b[38;5;241m=\u001b[39m \u001b[38;5;241m0\u001b[39m\n\u001b[0;32m----> 6\u001b[0m \u001b[43mx\u001b[49m\u001b[43m \u001b[49m\u001b[38;5;241;43m/\u001b[39;49m\u001b[43m \u001b[49m\u001b[43my\u001b[49m, \u001b[38;5;28mtype\u001b[39m(x \u001b[38;5;241m/\u001b[39m y)\n",
      "\u001b[0;31mZeroDivisionError\u001b[0m: division by zero"
     ]
    }
   ],
   "source": [
    "# int / int -> ZeroDivisionError if divisor is zero\n",
    "\n",
    "x = 5\n",
    "y = 0\n",
    "\n",
    "x / y, type(x / y)"
   ]
  },
  {
   "cell_type": "code",
   "execution_count": 510,
   "id": "9f473b01",
   "metadata": {
    "slideshow": {
     "slide_type": "subslide"
    }
   },
   "outputs": [
    {
     "data": {
      "text/plain": [
       "(2.287390029325513, float)"
      ]
     },
     "execution_count": 510,
     "metadata": {},
     "output_type": "execute_result"
    }
   ],
   "source": [
    "# float / float -> float if divisor is non-zero\n",
    "\n",
    "x = 15.6\n",
    "y = 6.82\n",
    "\n",
    "x / y, type(x / y)"
   ]
  },
  {
   "cell_type": "code",
   "execution_count": 511,
   "id": "fe6f7e38",
   "metadata": {
    "slideshow": {
     "slide_type": "fragment"
    }
   },
   "outputs": [
    {
     "ename": "ZeroDivisionError",
     "evalue": "float division by zero",
     "output_type": "error",
     "traceback": [
      "\u001b[0;31m---------------------------------------------------------------------------\u001b[0m",
      "\u001b[0;31mZeroDivisionError\u001b[0m                         Traceback (most recent call last)",
      "Cell \u001b[0;32mIn[511], line 6\u001b[0m\n\u001b[1;32m      3\u001b[0m x \u001b[38;5;241m=\u001b[39m \u001b[38;5;241m15.6\u001b[39m\n\u001b[1;32m      4\u001b[0m y \u001b[38;5;241m=\u001b[39m \u001b[38;5;241m0.0\u001b[39m\n\u001b[0;32m----> 6\u001b[0m \u001b[43mx\u001b[49m\u001b[43m \u001b[49m\u001b[38;5;241;43m/\u001b[39;49m\u001b[43m \u001b[49m\u001b[43my\u001b[49m, \u001b[38;5;28mtype\u001b[39m(x \u001b[38;5;241m/\u001b[39m y)\n",
      "\u001b[0;31mZeroDivisionError\u001b[0m: float division by zero"
     ]
    }
   ],
   "source": [
    "# float / float -> ZeroDivisionError if divisor is zero\n",
    "\n",
    "x = 15.6\n",
    "y = 0.0\n",
    "\n",
    "x / y, type(x / y)"
   ]
  },
  {
   "cell_type": "code",
   "execution_count": 512,
   "id": "1d217ae1",
   "metadata": {
    "slideshow": {
     "slide_type": "subslide"
    }
   },
   "outputs": [
    {
     "data": {
      "text/plain": [
       "((0.017861364293031427+0.49801686322922956j), complex)"
      ]
     },
     "execution_count": 512,
     "metadata": {},
     "output_type": "execute_result"
    }
   ],
   "source": [
    "# complex / complex -> complex if divisor is non-zero\n",
    "\n",
    "x = 5.6 + 3.2j\n",
    "y = 6.82 - 11j\n",
    "\n",
    "x / y, type(x / y)"
   ]
  },
  {
   "cell_type": "code",
   "execution_count": 513,
   "id": "eedc509d",
   "metadata": {
    "slideshow": {
     "slide_type": "fragment"
    }
   },
   "outputs": [
    {
     "ename": "ZeroDivisionError",
     "evalue": "complex division by zero",
     "output_type": "error",
     "traceback": [
      "\u001b[0;31m---------------------------------------------------------------------------\u001b[0m",
      "\u001b[0;31mZeroDivisionError\u001b[0m                         Traceback (most recent call last)",
      "Cell \u001b[0;32mIn[513], line 6\u001b[0m\n\u001b[1;32m      3\u001b[0m x \u001b[38;5;241m=\u001b[39m \u001b[38;5;241m5.6\u001b[39m \u001b[38;5;241m+\u001b[39m \u001b[38;5;241m3.2\u001b[39mj\n\u001b[1;32m      4\u001b[0m y \u001b[38;5;241m=\u001b[39m \u001b[38;5;241m0\u001b[39mj\n\u001b[0;32m----> 6\u001b[0m \u001b[43mx\u001b[49m\u001b[43m \u001b[49m\u001b[38;5;241;43m/\u001b[39;49m\u001b[43m \u001b[49m\u001b[43my\u001b[49m, \u001b[38;5;28mtype\u001b[39m(x \u001b[38;5;241m/\u001b[39m y)\n",
      "\u001b[0;31mZeroDivisionError\u001b[0m: complex division by zero"
     ]
    }
   ],
   "source": [
    "# complex / complex -> ZeroDivisionError if divisor is zero\n",
    "\n",
    "x = 5.6 + 3.2j\n",
    "y = 0j\n",
    "\n",
    "x / y, type(x / y)"
   ]
  },
  {
   "cell_type": "code",
   "execution_count": 514,
   "id": "dee9d270",
   "metadata": {
    "slideshow": {
     "slide_type": "subslide"
    }
   },
   "outputs": [
    {
     "data": {
      "text/plain": [
       "(3.665689149560117, float)"
      ]
     },
     "execution_count": 514,
     "metadata": {},
     "output_type": "execute_result"
    }
   ],
   "source": [
    "# int / float -> float or ZeroDivisionError\n",
    "\n",
    "x = 25\n",
    "y = 6.82\n",
    "\n",
    "x / y, type(x / y)"
   ]
  },
  {
   "cell_type": "code",
   "execution_count": 515,
   "id": "88046066",
   "metadata": {
    "slideshow": {
     "slide_type": "fragment"
    }
   },
   "outputs": [
    {
     "data": {
      "text/plain": [
       "((0.20356701951616715+0.32833390244543087j), complex)"
      ]
     },
     "execution_count": 515,
     "metadata": {},
     "output_type": "execute_result"
    }
   ],
   "source": [
    "# int / complex -> complex or ZeroDivisionError\n",
    "\n",
    "x = 5\n",
    "y = 6.82 - 11j\n",
    "\n",
    "x / y, type(x / y)"
   ]
  },
  {
   "cell_type": "code",
   "execution_count": 516,
   "id": "bd99cfc0",
   "metadata": {
    "slideshow": {
     "slide_type": "fragment"
    }
   },
   "outputs": [
    {
     "data": {
      "text/plain": [
       "((0.22799506185810722+0.3677339707388826j), complex)"
      ]
     },
     "execution_count": 516,
     "metadata": {},
     "output_type": "execute_result"
    }
   ],
   "source": [
    "# float / complex -> complex or ZeroDivisionError\n",
    "\n",
    "x = 5.6\n",
    "y = 6.82 - 11j\n",
    "\n",
    "x / y, type(x / y)"
   ]
  },
  {
   "cell_type": "markdown",
   "id": "277eb6b6",
   "metadata": {
    "slideshow": {
     "slide_type": "subslide"
    }
   },
   "source": [
    "## Modulo"
   ]
  },
  {
   "cell_type": "code",
   "execution_count": 517,
   "id": "6b6b88fd",
   "metadata": {
    "slideshow": {
     "slide_type": "fragment"
    }
   },
   "outputs": [
    {
     "data": {
      "text/plain": [
       "(4, int)"
      ]
     },
     "execution_count": 517,
     "metadata": {},
     "output_type": "execute_result"
    }
   ],
   "source": [
    "# int % int -> int\n",
    "\n",
    "x = 10\n",
    "y = 6\n",
    "\n",
    "x % y, type(x % y)"
   ]
  },
  {
   "cell_type": "code",
   "execution_count": 518,
   "id": "7e454c62",
   "metadata": {
    "slideshow": {
     "slide_type": "fragment"
    }
   },
   "outputs": [
    {
     "data": {
      "text/plain": [
       "(3.1999999999999993, float)"
      ]
     },
     "execution_count": 518,
     "metadata": {},
     "output_type": "execute_result"
    }
   ],
   "source": [
    "# float % float -> float\n",
    "\n",
    "x = 15.6\n",
    "y = 6.2\n",
    "\n",
    "x % y, type(x % y)"
   ]
  },
  {
   "cell_type": "code",
   "execution_count": 519,
   "id": "5a837edb",
   "metadata": {
    "slideshow": {
     "slide_type": "fragment"
    }
   },
   "outputs": [
    {
     "data": {
      "text/plain": [
       "(3.0, float)"
      ]
     },
     "execution_count": 519,
     "metadata": {},
     "output_type": "execute_result"
    }
   ],
   "source": [
    "# float % float -> float\n",
    "\n",
    "x = 15.\n",
    "y = 6.\n",
    "\n",
    "x % y, type(x % y)"
   ]
  },
  {
   "cell_type": "code",
   "execution_count": 520,
   "id": "ecb336e3",
   "metadata": {
    "slideshow": {
     "slide_type": "subslide"
    }
   },
   "outputs": [
    {
     "ename": "TypeError",
     "evalue": "can't mod complex numbers.",
     "output_type": "error",
     "traceback": [
      "\u001b[0;31m---------------------------------------------------------------------------\u001b[0m",
      "\u001b[0;31mTypeError\u001b[0m                                 Traceback (most recent call last)",
      "Cell \u001b[0;32mIn[520], line 6\u001b[0m\n\u001b[1;32m      3\u001b[0m x \u001b[38;5;241m=\u001b[39m \u001b[38;5;241m5.6\u001b[39m \u001b[38;5;241m+\u001b[39m \u001b[38;5;241m3.2\u001b[39mj\n\u001b[1;32m      4\u001b[0m y \u001b[38;5;241m=\u001b[39m \u001b[38;5;241m6.82\u001b[39m \u001b[38;5;241m-\u001b[39m \u001b[38;5;241m11\u001b[39mj\n\u001b[0;32m----> 6\u001b[0m \u001b[43mx\u001b[49m\u001b[43m \u001b[49m\u001b[38;5;241;43m%\u001b[39;49m\u001b[43m \u001b[49m\u001b[43my\u001b[49m, \u001b[38;5;28mtype\u001b[39m(x \u001b[38;5;241m%\u001b[39m y)\n",
      "\u001b[0;31mTypeError\u001b[0m: can't mod complex numbers."
     ]
    }
   ],
   "source": [
    "# complex % complex -> TypeError\n",
    "\n",
    "x = 5.6 + 3.2j\n",
    "y = 6.82 - 11j\n",
    "\n",
    "x % y, type(x % y)"
   ]
  },
  {
   "cell_type": "code",
   "execution_count": 521,
   "id": "039f3ec2",
   "metadata": {
    "slideshow": {
     "slide_type": "fragment"
    }
   },
   "outputs": [
    {
     "data": {
      "text/plain": [
       "(4.359999999999999, float)"
      ]
     },
     "execution_count": 521,
     "metadata": {},
     "output_type": "execute_result"
    }
   ],
   "source": [
    "# int % float -> float\n",
    "\n",
    "x = 18\n",
    "y = 6.82\n",
    "\n",
    "x % y, type(x % y)"
   ]
  },
  {
   "cell_type": "code",
   "execution_count": 522,
   "id": "2dee1687",
   "metadata": {
    "slideshow": {
     "slide_type": "subslide"
    }
   },
   "outputs": [
    {
     "ename": "TypeError",
     "evalue": "can't mod complex numbers.",
     "output_type": "error",
     "traceback": [
      "\u001b[0;31m---------------------------------------------------------------------------\u001b[0m",
      "\u001b[0;31mTypeError\u001b[0m                                 Traceback (most recent call last)",
      "Cell \u001b[0;32mIn[522], line 6\u001b[0m\n\u001b[1;32m      3\u001b[0m x \u001b[38;5;241m=\u001b[39m \u001b[38;5;241m5\u001b[39m\n\u001b[1;32m      4\u001b[0m y \u001b[38;5;241m=\u001b[39m \u001b[38;5;241m6.82\u001b[39m \u001b[38;5;241m-\u001b[39m \u001b[38;5;241m11\u001b[39mj\n\u001b[0;32m----> 6\u001b[0m \u001b[43mx\u001b[49m\u001b[43m \u001b[49m\u001b[38;5;241;43m%\u001b[39;49m\u001b[43m \u001b[49m\u001b[43my\u001b[49m, \u001b[38;5;28mtype\u001b[39m(x \u001b[38;5;241m%\u001b[39m y)\n",
      "\u001b[0;31mTypeError\u001b[0m: can't mod complex numbers."
     ]
    }
   ],
   "source": [
    "# int % complex -> TypeError\n",
    "\n",
    "x = 5\n",
    "y = 6.82 - 11j\n",
    "\n",
    "x % y, type(x % y)"
   ]
  },
  {
   "cell_type": "code",
   "execution_count": 523,
   "id": "12f49332",
   "metadata": {
    "slideshow": {
     "slide_type": "fragment"
    }
   },
   "outputs": [
    {
     "ename": "TypeError",
     "evalue": "can't mod complex numbers.",
     "output_type": "error",
     "traceback": [
      "\u001b[0;31m---------------------------------------------------------------------------\u001b[0m",
      "\u001b[0;31mTypeError\u001b[0m                                 Traceback (most recent call last)",
      "Cell \u001b[0;32mIn[523], line 6\u001b[0m\n\u001b[1;32m      3\u001b[0m x \u001b[38;5;241m=\u001b[39m \u001b[38;5;241m5.6\u001b[39m\n\u001b[1;32m      4\u001b[0m y \u001b[38;5;241m=\u001b[39m \u001b[38;5;241m6.82\u001b[39m \u001b[38;5;241m-\u001b[39m \u001b[38;5;241m11\u001b[39mj\n\u001b[0;32m----> 6\u001b[0m \u001b[43mx\u001b[49m\u001b[43m \u001b[49m\u001b[38;5;241;43m%\u001b[39;49m\u001b[43m \u001b[49m\u001b[43my\u001b[49m, \u001b[38;5;28mtype\u001b[39m(x \u001b[38;5;241m%\u001b[39m y)\n",
      "\u001b[0;31mTypeError\u001b[0m: can't mod complex numbers."
     ]
    }
   ],
   "source": [
    "# float % complex -> TypeError\n",
    "\n",
    "x = 5.6\n",
    "y = 6.82 - 11j\n",
    "\n",
    "x % y, type(x % y)"
   ]
  },
  {
   "cell_type": "markdown",
   "id": "44537748",
   "metadata": {
    "slideshow": {
     "slide_type": "subslide"
    }
   },
   "source": [
    "## Integer / floor division"
   ]
  },
  {
   "cell_type": "code",
   "execution_count": 524,
   "id": "e8db054d",
   "metadata": {
    "slideshow": {
     "slide_type": "fragment"
    }
   },
   "outputs": [
    {
     "data": {
      "text/plain": [
       "(4, int)"
      ]
     },
     "execution_count": 524,
     "metadata": {},
     "output_type": "execute_result"
    }
   ],
   "source": [
    "# int // int -> int\n",
    "\n",
    "x = 27\n",
    "y = 6\n",
    "\n",
    "x // y, type(x // y)"
   ]
  },
  {
   "cell_type": "code",
   "execution_count": 525,
   "id": "107378a6",
   "metadata": {
    "slideshow": {
     "slide_type": "fragment"
    }
   },
   "outputs": [
    {
     "data": {
      "text/plain": [
       "(4.0, float)"
      ]
     },
     "execution_count": 525,
     "metadata": {},
     "output_type": "execute_result"
    }
   ],
   "source": [
    "# float // float -> float\n",
    "\n",
    "x = 27.6\n",
    "y = 6.82\n",
    "\n",
    "x // y, type(x // y)"
   ]
  },
  {
   "cell_type": "code",
   "execution_count": 526,
   "id": "dcaa497a",
   "metadata": {
    "slideshow": {
     "slide_type": "subslide"
    }
   },
   "outputs": [
    {
     "ename": "TypeError",
     "evalue": "can't take floor of complex number.",
     "output_type": "error",
     "traceback": [
      "\u001b[0;31m---------------------------------------------------------------------------\u001b[0m",
      "\u001b[0;31mTypeError\u001b[0m                                 Traceback (most recent call last)",
      "Cell \u001b[0;32mIn[526], line 6\u001b[0m\n\u001b[1;32m      3\u001b[0m x \u001b[38;5;241m=\u001b[39m \u001b[38;5;241m5.6\u001b[39m \u001b[38;5;241m+\u001b[39m \u001b[38;5;241m3.2\u001b[39mj\n\u001b[1;32m      4\u001b[0m y \u001b[38;5;241m=\u001b[39m \u001b[38;5;241m6.82\u001b[39m \u001b[38;5;241m-\u001b[39m \u001b[38;5;241m11\u001b[39mj\n\u001b[0;32m----> 6\u001b[0m \u001b[43mx\u001b[49m\u001b[43m \u001b[49m\u001b[38;5;241;43m/\u001b[39;49m\u001b[38;5;241;43m/\u001b[39;49m\u001b[43m \u001b[49m\u001b[43my\u001b[49m, \u001b[38;5;28mtype\u001b[39m(x \u001b[38;5;241m/\u001b[39m\u001b[38;5;241m/\u001b[39m y)\n",
      "\u001b[0;31mTypeError\u001b[0m: can't take floor of complex number."
     ]
    }
   ],
   "source": [
    "# complex // complex -> TypeError\n",
    "\n",
    "x = 5.6 + 3.2j\n",
    "y = 6.82 - 11j\n",
    "\n",
    "x // y, type(x // y)"
   ]
  },
  {
   "cell_type": "code",
   "execution_count": 527,
   "id": "653dce3b",
   "metadata": {
    "slideshow": {
     "slide_type": "fragment"
    }
   },
   "outputs": [
    {
     "data": {
      "text/plain": [
       "(3.0, float)"
      ]
     },
     "execution_count": 527,
     "metadata": {},
     "output_type": "execute_result"
    }
   ],
   "source": [
    "# int // float -> float\n",
    "\n",
    "x = 25\n",
    "y = 6.82\n",
    "\n",
    "x // y, type(x // y)"
   ]
  },
  {
   "cell_type": "code",
   "execution_count": 528,
   "id": "c4946f8f",
   "metadata": {
    "slideshow": {
     "slide_type": "subslide"
    }
   },
   "outputs": [
    {
     "ename": "TypeError",
     "evalue": "can't take floor of complex number.",
     "output_type": "error",
     "traceback": [
      "\u001b[0;31m---------------------------------------------------------------------------\u001b[0m",
      "\u001b[0;31mTypeError\u001b[0m                                 Traceback (most recent call last)",
      "Cell \u001b[0;32mIn[528], line 6\u001b[0m\n\u001b[1;32m      3\u001b[0m x \u001b[38;5;241m=\u001b[39m \u001b[38;5;241m5\u001b[39m\n\u001b[1;32m      4\u001b[0m y \u001b[38;5;241m=\u001b[39m \u001b[38;5;241m6.82\u001b[39m \u001b[38;5;241m-\u001b[39m \u001b[38;5;241m11\u001b[39mj\n\u001b[0;32m----> 6\u001b[0m \u001b[43mx\u001b[49m\u001b[43m \u001b[49m\u001b[38;5;241;43m/\u001b[39;49m\u001b[38;5;241;43m/\u001b[39;49m\u001b[43m \u001b[49m\u001b[43my\u001b[49m, \u001b[38;5;28mtype\u001b[39m(x \u001b[38;5;241m/\u001b[39m\u001b[38;5;241m/\u001b[39m y)\n",
      "\u001b[0;31mTypeError\u001b[0m: can't take floor of complex number."
     ]
    }
   ],
   "source": [
    "# int // complex -> TypeError\n",
    "\n",
    "x = 5\n",
    "y = 6.82 - 11j\n",
    "\n",
    "x // y, type(x // y)"
   ]
  },
  {
   "cell_type": "code",
   "execution_count": 529,
   "id": "2edd3122",
   "metadata": {
    "slideshow": {
     "slide_type": "fragment"
    }
   },
   "outputs": [
    {
     "ename": "TypeError",
     "evalue": "can't take floor of complex number.",
     "output_type": "error",
     "traceback": [
      "\u001b[0;31m---------------------------------------------------------------------------\u001b[0m",
      "\u001b[0;31mTypeError\u001b[0m                                 Traceback (most recent call last)",
      "Cell \u001b[0;32mIn[529], line 6\u001b[0m\n\u001b[1;32m      3\u001b[0m x \u001b[38;5;241m=\u001b[39m \u001b[38;5;241m5.6\u001b[39m\n\u001b[1;32m      4\u001b[0m y \u001b[38;5;241m=\u001b[39m \u001b[38;5;241m6.82\u001b[39m \u001b[38;5;241m-\u001b[39m \u001b[38;5;241m11\u001b[39mj\n\u001b[0;32m----> 6\u001b[0m \u001b[43mx\u001b[49m\u001b[43m \u001b[49m\u001b[38;5;241;43m/\u001b[39;49m\u001b[38;5;241;43m/\u001b[39;49m\u001b[43m \u001b[49m\u001b[43my\u001b[49m, \u001b[38;5;28mtype\u001b[39m(x \u001b[38;5;241m/\u001b[39m\u001b[38;5;241m/\u001b[39m y)\n",
      "\u001b[0;31mTypeError\u001b[0m: can't take floor of complex number."
     ]
    }
   ],
   "source": [
    "# float // complex -> TypeError\n",
    "\n",
    "x = 5.6\n",
    "y = 6.82 - 11j\n",
    "\n",
    "x // y, type(x // y)"
   ]
  },
  {
   "cell_type": "markdown",
   "id": "39a1e5e4",
   "metadata": {
    "slideshow": {
     "slide_type": "subslide"
    }
   },
   "source": [
    "## Exponentiation"
   ]
  },
  {
   "cell_type": "code",
   "execution_count": 530,
   "id": "df2170c4",
   "metadata": {
    "slideshow": {
     "slide_type": "fragment"
    }
   },
   "outputs": [
    {
     "data": {
      "text/plain": [
       "(1024, int)"
      ]
     },
     "execution_count": 530,
     "metadata": {},
     "output_type": "execute_result"
    }
   ],
   "source": [
    "# int ** int -> int if exponent is non-negative\n",
    "\n",
    "x = 2\n",
    "y = 10\n",
    "\n",
    "x ** y, type(x ** y)"
   ]
  },
  {
   "cell_type": "code",
   "execution_count": 531,
   "id": "a0514ff6",
   "metadata": {
    "slideshow": {
     "slide_type": "fragment"
    }
   },
   "outputs": [
    {
     "data": {
      "text/plain": [
       "(0.125, float)"
      ]
     },
     "execution_count": 531,
     "metadata": {},
     "output_type": "execute_result"
    }
   ],
   "source": [
    "# int ** int -> float if exponent is negative\n",
    "\n",
    "x = 2\n",
    "y = -3\n",
    "\n",
    "x ** y, type(x ** y)"
   ]
  },
  {
   "cell_type": "code",
   "execution_count": 532,
   "id": "25ff7271",
   "metadata": {
    "slideshow": {
     "slide_type": "slide"
    }
   },
   "outputs": [
    {
     "data": {
      "text/plain": [
       "((6.123233995736766e-17+1j), complex)"
      ]
     },
     "execution_count": 532,
     "metadata": {},
     "output_type": "execute_result"
    }
   ],
   "source": [
    "# int ** int -> complex if base is negative\n",
    "\n",
    "x = -1\n",
    "y = 0.5\n",
    "\n",
    "x ** y, type(x ** y)"
   ]
  },
  {
   "cell_type": "code",
   "execution_count": 533,
   "id": "8985ed4c",
   "metadata": {
    "slideshow": {
     "slide_type": "fragment"
    }
   },
   "outputs": [
    {
     "ename": "ZeroDivisionError",
     "evalue": "0.0 cannot be raised to a negative power",
     "output_type": "error",
     "traceback": [
      "\u001b[0;31m---------------------------------------------------------------------------\u001b[0m",
      "\u001b[0;31mZeroDivisionError\u001b[0m                         Traceback (most recent call last)",
      "Cell \u001b[0;32mIn[533], line 6\u001b[0m\n\u001b[1;32m      3\u001b[0m x \u001b[38;5;241m=\u001b[39m \u001b[38;5;241m0\u001b[39m\n\u001b[1;32m      4\u001b[0m y \u001b[38;5;241m=\u001b[39m \u001b[38;5;241m-\u001b[39m\u001b[38;5;241m1\u001b[39m\n\u001b[0;32m----> 6\u001b[0m \u001b[43mx\u001b[49m\u001b[43m \u001b[49m\u001b[38;5;241;43m*\u001b[39;49m\u001b[38;5;241;43m*\u001b[39;49m\u001b[43m \u001b[49m\u001b[43my\u001b[49m, \u001b[38;5;28mtype\u001b[39m(x \u001b[38;5;241m*\u001b[39m\u001b[38;5;241m*\u001b[39m y)\n",
      "\u001b[0;31mZeroDivisionError\u001b[0m: 0.0 cannot be raised to a negative power"
     ]
    }
   ],
   "source": [
    "# int ** int -> ZeroDivisionError if zero (0) is raised to negative power\n",
    "\n",
    "x = 0\n",
    "y = -1\n",
    "\n",
    "x ** y, type(x ** y)"
   ]
  },
  {
   "cell_type": "code",
   "execution_count": 534,
   "id": "cc008dc8",
   "metadata": {
    "slideshow": {
     "slide_type": "subslide"
    }
   },
   "outputs": [
    {
     "data": {
      "text/plain": [
       "(126660.8342518652, float)"
      ]
     },
     "execution_count": 534,
     "metadata": {},
     "output_type": "execute_result"
    }
   ],
   "source": [
    "# float ** float -> float or complex or ZeroDivisionError\n",
    "\n",
    "x = 5.6\n",
    "y = 6.82\n",
    "\n",
    "x ** y, type(x ** y)"
   ]
  },
  {
   "cell_type": "code",
   "execution_count": 535,
   "id": "0a85bc1b",
   "metadata": {
    "slideshow": {
     "slide_type": "fragment"
    }
   },
   "outputs": [
    {
     "data": {
      "text/plain": [
       "((472235.9968673068-66375.63737510788j), complex)"
      ]
     },
     "execution_count": 535,
     "metadata": {},
     "output_type": "execute_result"
    }
   ],
   "source": [
    "# complex ** complex -> complex or ZeroDivisionError\n",
    "\n",
    "x = 1 + 1j\n",
    "y = 6 - 14j\n",
    "\n",
    "x ** y, type(x ** y)"
   ]
  },
  {
   "cell_type": "code",
   "execution_count": 536,
   "id": "b9cc3538",
   "metadata": {
    "slideshow": {
     "slide_type": "subslide"
    }
   },
   "outputs": [
    {
     "data": {
      "text/plain": [
       "(58475.70002877527, float)"
      ]
     },
     "execution_count": 536,
     "metadata": {},
     "output_type": "execute_result"
    }
   ],
   "source": [
    "# int ** float -> float or complex or ZeroDivisionError\n",
    "\n",
    "x = 5\n",
    "y = 6.82\n",
    "\n",
    "x ** y, type(x ** y)"
   ]
  },
  {
   "cell_type": "code",
   "execution_count": 537,
   "id": "f21a8790",
   "metadata": {
    "slideshow": {
     "slide_type": "fragment"
    }
   },
   "outputs": [
    {
     "data": {
      "text/plain": [
       "((24113.80645446367+53272.242604680854j), complex)"
      ]
     },
     "execution_count": 537,
     "metadata": {},
     "output_type": "execute_result"
    }
   ],
   "source": [
    "# int ** complex -> complex or ZeroDivisionError\n",
    "\n",
    "x = 5\n",
    "y = 6.82 - 11j\n",
    "\n",
    "x ** y, type(x ** y)"
   ]
  },
  {
   "cell_type": "code",
   "execution_count": 538,
   "id": "bf4f4000",
   "metadata": {
    "slideshow": {
     "slide_type": "fragment"
    }
   },
   "outputs": [
    {
     "data": {
      "text/plain": [
       "((126016.92396120557-12755.461917712058j), complex)"
      ]
     },
     "execution_count": 538,
     "metadata": {},
     "output_type": "execute_result"
    }
   ],
   "source": [
    "# float ** complex -> complex or ZeroDivisionError\n",
    "\n",
    "x = 5.6\n",
    "y = 6.82 - 11j\n",
    "\n",
    "x ** y, type(x ** y)"
   ]
  },
  {
   "cell_type": "markdown",
   "id": "4b7bb1e5",
   "metadata": {
    "slideshow": {
     "slide_type": "slide"
    }
   },
   "source": [
    "# Truthy and falsy values\n",
    "\n",
    "Any object can be tested for truth value, for use in an `if` or `while` condition or as operand of the Boolean operations below (i.e. `or`, `and`, `not`).\n",
    "\n",
    "If a value evaluates to `True` in a Boolean context, then it is a truthy value. Otherwise, it is a falsy value.\n",
    "\n",
    "Reference: [Python documentation](https://docs.python.org/3/library/stdtypes.html#truth-value-testing)"
   ]
  },
  {
   "cell_type": "markdown",
   "id": "2db5d21c",
   "metadata": {
    "slideshow": {
     "slide_type": "subslide"
    }
   },
   "source": [
    "## bool() function\n",
    "\n",
    "`bool()` is a built-in function that can be used for truth value testing."
   ]
  },
  {
   "cell_type": "code",
   "execution_count": null,
   "id": "bc09b52b",
   "metadata": {
    "slideshow": {
     "slide_type": "fragment"
    }
   },
   "outputs": [],
   "source": [
    "x = 42\n",
    "\n",
    "bool(x)"
   ]
  },
  {
   "cell_type": "markdown",
   "id": "4114aa8f",
   "metadata": {
    "slideshow": {
     "slide_type": "subslide"
    }
   },
   "source": [
    "## Truthy values\n",
    "\n",
    "By default, an object is considered true unless its class defines special methods and changes this behavior.\n",
    "\n",
    "For example:\n",
    "\n",
    "- `True`\n",
    "- Non-zero numeric values\n",
    "- Non-empty sequences or collections\n",
    "\n",
    "Reference: [Python documentation](https://docs.python.org/3/library/stdtypes.html#truth-value-testing)"
   ]
  },
  {
   "cell_type": "code",
   "execution_count": null,
   "id": "b3186af2",
   "metadata": {
    "slideshow": {
     "slide_type": "fragment"
    }
   },
   "outputs": [],
   "source": [
    "bool(True)"
   ]
  },
  {
   "cell_type": "code",
   "execution_count": null,
   "id": "e71b63ba",
   "metadata": {
    "slideshow": {
     "slide_type": "fragment"
    }
   },
   "outputs": [],
   "source": [
    "bool(7)"
   ]
  },
  {
   "cell_type": "code",
   "execution_count": null,
   "id": "c8b6e100",
   "metadata": {
    "slideshow": {
     "slide_type": "fragment"
    }
   },
   "outputs": [],
   "source": [
    "bool(\"hello world\")"
   ]
  },
  {
   "cell_type": "markdown",
   "id": "75a9ff6a",
   "metadata": {
    "slideshow": {
     "slide_type": "subslide"
    }
   },
   "source": [
    "## Falsy values\n",
    "\n",
    "- Constants\n",
    "    - `False`\n",
    "    - `None`\n",
    "- Zero of any numeric type\n",
    "    - `0`\n",
    "    - `0.0`\n",
    "    - `0j`\n",
    "    - `Decimal(0)`\n",
    "    - `Fraction(0, 1)`\n",
    "\n",
    "- Empty sequences and collections\n",
    "    - `''`\n",
    "    - `()`\n",
    "    - `[]`\n",
    "    - `{}`\n",
    "    - `set()`\n",
    "    - `range(0)`\n",
    "\n",
    "Reference: [Python documentation](https://docs.python.org/3/library/stdtypes.html#truth-value-testing)"
   ]
  },
  {
   "cell_type": "markdown",
   "id": "35668233",
   "metadata": {
    "slideshow": {
     "slide_type": "subslide"
    }
   },
   "source": [
    "### Constants"
   ]
  },
  {
   "cell_type": "code",
   "execution_count": null,
   "id": "326a8c28",
   "metadata": {
    "slideshow": {
     "slide_type": "fragment"
    }
   },
   "outputs": [],
   "source": [
    "bool(False)"
   ]
  },
  {
   "cell_type": "code",
   "execution_count": null,
   "id": "ebb6afb3",
   "metadata": {
    "slideshow": {
     "slide_type": "fragment"
    }
   },
   "outputs": [],
   "source": [
    "bool(None)"
   ]
  },
  {
   "cell_type": "markdown",
   "id": "5e04fd1d",
   "metadata": {
    "slideshow": {
     "slide_type": "subslide"
    }
   },
   "source": [
    "### Numeric types"
   ]
  },
  {
   "cell_type": "code",
   "execution_count": null,
   "id": "31330bad",
   "metadata": {
    "slideshow": {
     "slide_type": "fragment"
    }
   },
   "outputs": [],
   "source": [
    "bool(0)"
   ]
  },
  {
   "cell_type": "code",
   "execution_count": null,
   "id": "330c3de8",
   "metadata": {
    "slideshow": {
     "slide_type": "fragment"
    }
   },
   "outputs": [],
   "source": [
    "bool(0.0)"
   ]
  },
  {
   "cell_type": "code",
   "execution_count": null,
   "id": "5d11d2be",
   "metadata": {
    "slideshow": {
     "slide_type": "fragment"
    }
   },
   "outputs": [],
   "source": [
    "bool(0j)"
   ]
  },
  {
   "cell_type": "code",
   "execution_count": null,
   "id": "354b603a",
   "metadata": {
    "slideshow": {
     "slide_type": "fragment"
    }
   },
   "outputs": [],
   "source": [
    "from decimal import Decimal\n",
    "\n",
    "bool(Decimal(0))"
   ]
  },
  {
   "cell_type": "code",
   "execution_count": null,
   "id": "9e4250ba",
   "metadata": {
    "slideshow": {
     "slide_type": "fragment"
    }
   },
   "outputs": [],
   "source": [
    "from fractions import Fraction\n",
    "\n",
    "bool(Fraction(0, 1))"
   ]
  },
  {
   "cell_type": "markdown",
   "id": "25d67ded",
   "metadata": {
    "slideshow": {
     "slide_type": "subslide"
    }
   },
   "source": [
    "### Sequences and collections"
   ]
  },
  {
   "cell_type": "code",
   "execution_count": null,
   "id": "ebc747d6",
   "metadata": {
    "slideshow": {
     "slide_type": "fragment"
    }
   },
   "outputs": [],
   "source": [
    "bool('')"
   ]
  },
  {
   "cell_type": "code",
   "execution_count": null,
   "id": "0c478ddb",
   "metadata": {
    "slideshow": {
     "slide_type": "fragment"
    }
   },
   "outputs": [],
   "source": [
    "bool(())"
   ]
  },
  {
   "cell_type": "code",
   "execution_count": null,
   "id": "07cba6a6",
   "metadata": {
    "slideshow": {
     "slide_type": "fragment"
    }
   },
   "outputs": [],
   "source": [
    "bool([])"
   ]
  },
  {
   "cell_type": "code",
   "execution_count": null,
   "id": "8252e521",
   "metadata": {
    "slideshow": {
     "slide_type": "fragment"
    }
   },
   "outputs": [],
   "source": [
    "bool({})"
   ]
  },
  {
   "cell_type": "code",
   "execution_count": null,
   "id": "67e8059a",
   "metadata": {
    "slideshow": {
     "slide_type": "fragment"
    }
   },
   "outputs": [],
   "source": [
    "bool(set())"
   ]
  },
  {
   "cell_type": "code",
   "execution_count": null,
   "id": "74fc1b07",
   "metadata": {
    "slideshow": {
     "slide_type": "fragment"
    }
   },
   "outputs": [],
   "source": [
    "bool(range(0))"
   ]
  },
  {
   "cell_type": "markdown",
   "id": "c7e96efc",
   "metadata": {
    "slideshow": {
     "slide_type": "slide"
    }
   },
   "source": [
    "# Comparison operators\n",
    "\n",
    "| Operator | Name                  | Example | Meaning                                   |\n",
    "|----------|-----------------------|---------|-------------------------------------------|\n",
    "| ==       | Equal                 | x == y  | Checks if x is equal to y                 |\n",
    "| !=       | Not equal             | x != y  | Checks if x is not equal to y             |\n",
    "| <        | Strictly less than    | x < y   | Checks if x is less than y                |\n",
    "| <=       | Less than or equal    | x <= y  | Checks if x is less than or equal to y    |\n",
    "| >        | Strictly greater than | x > y   | Checks if x is greater than y             |\n",
    "| >=       | Greater than or equal | x >= y  | Checks if x is greater than or equal to y |"
   ]
  },
  {
   "cell_type": "markdown",
   "id": "e8e8a5ef",
   "metadata": {
    "slideshow": {
     "slide_type": "subslide"
    }
   },
   "source": [
    "## Equal"
   ]
  },
  {
   "cell_type": "code",
   "execution_count": null,
   "id": "e2fb8c48",
   "metadata": {
    "slideshow": {
     "slide_type": "fragment"
    }
   },
   "outputs": [],
   "source": [
    "x = 5\n",
    "y = 5\n",
    "\n",
    "x == y, type(x == y)"
   ]
  },
  {
   "cell_type": "code",
   "execution_count": null,
   "id": "ed7fc2dd",
   "metadata": {
    "slideshow": {
     "slide_type": "fragment"
    }
   },
   "outputs": [],
   "source": [
    "x = 5\n",
    "y = 8\n",
    "\n",
    "x == y, type(x == y)"
   ]
  },
  {
   "cell_type": "code",
   "execution_count": null,
   "id": "ef61a3a1",
   "metadata": {
    "slideshow": {
     "slide_type": "fragment"
    }
   },
   "outputs": [],
   "source": [
    "x = \"Batman\"\n",
    "y = 'Batman'\n",
    "\n",
    "x == y, type(x == y)"
   ]
  },
  {
   "cell_type": "code",
   "execution_count": null,
   "id": "c5ec9af8",
   "metadata": {
    "slideshow": {
     "slide_type": "fragment"
    }
   },
   "outputs": [],
   "source": [
    "x = \"Batman\"\n",
    "y = 'Bat man'\n",
    "\n",
    "x == y, type(x == y)"
   ]
  },
  {
   "cell_type": "markdown",
   "id": "766e97c4",
   "metadata": {
    "slideshow": {
     "slide_type": "subslide"
    }
   },
   "source": [
    "### Note on floating-point numbers\n",
    "\n",
    "- Unexpected results happen because of rounding errors in floating-point numbers."
   ]
  },
  {
   "cell_type": "code",
   "execution_count": null,
   "id": "749f4558",
   "metadata": {
    "slideshow": {
     "slide_type": "fragment"
    }
   },
   "outputs": [],
   "source": [
    "1.1 + 2.2"
   ]
  },
  {
   "cell_type": "code",
   "execution_count": null,
   "id": "0ee0c34f",
   "metadata": {
    "slideshow": {
     "slide_type": "fragment"
    }
   },
   "outputs": [],
   "source": [
    "x = 1.1 + 2.2\n",
    "y = 3.3\n",
    "\n",
    "x == y, type(x == y)"
   ]
  },
  {
   "cell_type": "code",
   "execution_count": null,
   "id": "a70daa4f",
   "metadata": {
    "slideshow": {
     "slide_type": "fragment"
    }
   },
   "outputs": [],
   "source": [
    "import math\n",
    "\n",
    "\n",
    "x = 1.1 + 2.2\n",
    "y = 3.3\n",
    "\n",
    "math.isclose(x, y), type(math.isclose(x, y))"
   ]
  },
  {
   "cell_type": "markdown",
   "id": "3d74f940",
   "metadata": {
    "slideshow": {
     "slide_type": "subslide"
    }
   },
   "source": [
    "## Not equal"
   ]
  },
  {
   "cell_type": "code",
   "execution_count": null,
   "id": "8dbe9a6e",
   "metadata": {
    "slideshow": {
     "slide_type": "fragment"
    }
   },
   "outputs": [],
   "source": [
    "x = 5\n",
    "y = 5\n",
    "\n",
    "x != y, type(x != y)"
   ]
  },
  {
   "cell_type": "code",
   "execution_count": null,
   "id": "e745a275",
   "metadata": {
    "slideshow": {
     "slide_type": "fragment"
    }
   },
   "outputs": [],
   "source": [
    "x = 5\n",
    "y = 8\n",
    "\n",
    "x != y, type(x != y)"
   ]
  },
  {
   "cell_type": "code",
   "execution_count": null,
   "id": "ee2ec617",
   "metadata": {
    "slideshow": {
     "slide_type": "fragment"
    }
   },
   "outputs": [],
   "source": [
    "x = \"Batman\"\n",
    "y = 'Batman'\n",
    "\n",
    "x != y, type(x != y)"
   ]
  },
  {
   "cell_type": "code",
   "execution_count": null,
   "id": "367d1cdd",
   "metadata": {
    "slideshow": {
     "slide_type": "fragment"
    }
   },
   "outputs": [],
   "source": [
    "x = \"Batman\"\n",
    "y = 'Bat man'\n",
    "\n",
    "x != y, type(x != y)"
   ]
  },
  {
   "cell_type": "markdown",
   "id": "85d31daa",
   "metadata": {
    "slideshow": {
     "slide_type": "subslide"
    }
   },
   "source": [
    "## Strictly less than"
   ]
  },
  {
   "cell_type": "code",
   "execution_count": null,
   "id": "4abf76d6",
   "metadata": {
    "slideshow": {
     "slide_type": "fragment"
    }
   },
   "outputs": [],
   "source": [
    "x = 15\n",
    "y = 5\n",
    "\n",
    "x < y, type(x < y)"
   ]
  },
  {
   "cell_type": "code",
   "execution_count": null,
   "id": "28d9c12f",
   "metadata": {
    "slideshow": {
     "slide_type": "fragment"
    }
   },
   "outputs": [],
   "source": [
    "x = 5\n",
    "y = 5\n",
    "\n",
    "x < y, type(x < y)"
   ]
  },
  {
   "cell_type": "code",
   "execution_count": null,
   "id": "212bcd8d",
   "metadata": {
    "slideshow": {
     "slide_type": "fragment"
    }
   },
   "outputs": [],
   "source": [
    "x = 5\n",
    "y = 8\n",
    "\n",
    "x < y, type(x < y)"
   ]
  },
  {
   "cell_type": "code",
   "execution_count": null,
   "id": "3ba9e36c",
   "metadata": {
    "slideshow": {
     "slide_type": "fragment"
    }
   },
   "outputs": [],
   "source": [
    "x = 1 + 3j\n",
    "y = 2 - 4j\n",
    "\n",
    "x < y, type(x < y)"
   ]
  },
  {
   "cell_type": "markdown",
   "id": "46a5efd8",
   "metadata": {
    "slideshow": {
     "slide_type": "subslide"
    }
   },
   "source": [
    "## Less than or equal"
   ]
  },
  {
   "cell_type": "code",
   "execution_count": null,
   "id": "d482a442",
   "metadata": {
    "slideshow": {
     "slide_type": "fragment"
    }
   },
   "outputs": [],
   "source": [
    "x = 15\n",
    "y = 5\n",
    "\n",
    "x <= y, type(x <= y)"
   ]
  },
  {
   "cell_type": "code",
   "execution_count": null,
   "id": "fbe64643",
   "metadata": {
    "slideshow": {
     "slide_type": "fragment"
    }
   },
   "outputs": [],
   "source": [
    "x = 5\n",
    "y = 5\n",
    "\n",
    "x <= y, type(x <= y)"
   ]
  },
  {
   "cell_type": "code",
   "execution_count": null,
   "id": "7a9d243d",
   "metadata": {
    "slideshow": {
     "slide_type": "fragment"
    }
   },
   "outputs": [],
   "source": [
    "x = 5\n",
    "y = 8\n",
    "\n",
    "x <= y, type(x <= y)"
   ]
  },
  {
   "cell_type": "code",
   "execution_count": null,
   "id": "1707dfd7",
   "metadata": {
    "slideshow": {
     "slide_type": "fragment"
    }
   },
   "outputs": [],
   "source": [
    "x = 1 + 3j\n",
    "y = 2 - 4j\n",
    "\n",
    "x <= y, type(x <= y)"
   ]
  },
  {
   "cell_type": "markdown",
   "id": "1774fe66",
   "metadata": {
    "slideshow": {
     "slide_type": "subslide"
    }
   },
   "source": [
    "## Strictly greater than"
   ]
  },
  {
   "cell_type": "code",
   "execution_count": null,
   "id": "7acbc399",
   "metadata": {
    "slideshow": {
     "slide_type": "fragment"
    }
   },
   "outputs": [],
   "source": [
    "x = 15\n",
    "y = 5\n",
    "\n",
    "x > y, type(x > y)"
   ]
  },
  {
   "cell_type": "code",
   "execution_count": null,
   "id": "0a2d6ebd",
   "metadata": {
    "slideshow": {
     "slide_type": "fragment"
    }
   },
   "outputs": [],
   "source": [
    "x = 5\n",
    "y = 5\n",
    "\n",
    "x > y, type(x > y)"
   ]
  },
  {
   "cell_type": "code",
   "execution_count": null,
   "id": "ab87057b",
   "metadata": {
    "slideshow": {
     "slide_type": "fragment"
    }
   },
   "outputs": [],
   "source": [
    "x = 5\n",
    "y = 8\n",
    "\n",
    "x > y, type(x > y)"
   ]
  },
  {
   "cell_type": "code",
   "execution_count": null,
   "id": "9b8f9e3e",
   "metadata": {
    "slideshow": {
     "slide_type": "fragment"
    }
   },
   "outputs": [],
   "source": [
    "x = 1 + 3j\n",
    "y = 2 - 4j\n",
    "\n",
    "x > y, type(x > y)"
   ]
  },
  {
   "cell_type": "markdown",
   "id": "104b1283",
   "metadata": {
    "slideshow": {
     "slide_type": "slide"
    }
   },
   "source": [
    "## Greater than or equal"
   ]
  },
  {
   "cell_type": "code",
   "execution_count": null,
   "id": "6464c528",
   "metadata": {
    "slideshow": {
     "slide_type": "fragment"
    }
   },
   "outputs": [],
   "source": [
    "x = 15\n",
    "y = 5\n",
    "\n",
    "x >= y, type(x >= y)"
   ]
  },
  {
   "cell_type": "code",
   "execution_count": null,
   "id": "46ee3701",
   "metadata": {
    "slideshow": {
     "slide_type": "fragment"
    }
   },
   "outputs": [],
   "source": [
    "x = 5\n",
    "y = 5\n",
    "\n",
    "x >= y, type(x >= y)"
   ]
  },
  {
   "cell_type": "code",
   "execution_count": null,
   "id": "dcb61346",
   "metadata": {
    "slideshow": {
     "slide_type": "fragment"
    }
   },
   "outputs": [],
   "source": [
    "x = 5\n",
    "y = 8\n",
    "\n",
    "x >= y, type(x >= y)"
   ]
  },
  {
   "cell_type": "code",
   "execution_count": null,
   "id": "0818fb96",
   "metadata": {
    "scrolled": true,
    "slideshow": {
     "slide_type": "fragment"
    }
   },
   "outputs": [],
   "source": [
    "x = 1 + 3j\n",
    "y = 2 - 4j\n",
    "\n",
    "x >= y, type(x >= y)"
   ]
  },
  {
   "cell_type": "markdown",
   "id": "79d530b3",
   "metadata": {
    "slideshow": {
     "slide_type": "slide"
    }
   },
   "source": [
    "# Boolean operators\n",
    "\n",
    "| Operator | Name                   | Example | Meaning                                    |\n",
    "|----------|------------------------|---------|--------------------------------------------|\n",
    "| or       | Logical or             | x or y  | if `x` is false, then `y`, else `x`        |\n",
    "| and      | Logical and            | x and y | if `x` is false, then `x`, else `y`        |\n",
    "| not      | Logical not / negation | not x   | if `x` is false, then `True`, else `False` |"
   ]
  },
  {
   "cell_type": "markdown",
   "id": "80efeeeb",
   "metadata": {
    "slideshow": {
     "slide_type": "subslide"
    }
   },
   "source": [
    "## Logical or\n",
    "\n",
    "| x     | y     | x or y |\n",
    "|-------|-------|--------|\n",
    "| False | False | False  |\n",
    "| False | True  | True   |\n",
    "| True  | False | True   |\n",
    "| True  | True  | True   |"
   ]
  },
  {
   "cell_type": "code",
   "execution_count": null,
   "id": "67a18cb4",
   "metadata": {
    "slideshow": {
     "slide_type": "fragment"
    }
   },
   "outputs": [],
   "source": [
    "print(False or False)\n",
    "print(False or True)\n",
    "print(True or False)\n",
    "print(True or True)"
   ]
  },
  {
   "cell_type": "code",
   "execution_count": null,
   "id": "fbba27f5",
   "metadata": {
    "slideshow": {
     "slide_type": "fragment"
    }
   },
   "outputs": [],
   "source": [
    "x = 5 < 10\n",
    "y = 6 > 8\n",
    "\n",
    "x or y"
   ]
  },
  {
   "cell_type": "code",
   "execution_count": null,
   "id": "981aa727",
   "metadata": {
    "slideshow": {
     "slide_type": "fragment"
    }
   },
   "outputs": [],
   "source": [
    "x = 5 > 10\n",
    "y = 6 < 4\n",
    "\n",
    "x or y"
   ]
  },
  {
   "cell_type": "markdown",
   "id": "6f73a527",
   "metadata": {
    "slideshow": {
     "slide_type": "subslide"
    }
   },
   "source": [
    "## Evaluation of arguments\n",
    "\n",
    "**Meaning**: if `x` is false, then `y`, else `x`"
   ]
  },
  {
   "cell_type": "code",
   "execution_count": null,
   "id": "58d46f89",
   "metadata": {
    "slideshow": {
     "slide_type": "fragment"
    }
   },
   "outputs": [],
   "source": [
    "7.2 > 4 or 1 / 0"
   ]
  },
  {
   "cell_type": "code",
   "execution_count": null,
   "id": "f8c39209",
   "metadata": {
    "slideshow": {
     "slide_type": "fragment"
    }
   },
   "outputs": [],
   "source": [
    "7.2 < 4 or 1 / 0"
   ]
  },
  {
   "cell_type": "code",
   "execution_count": null,
   "id": "426c41e2",
   "metadata": {
    "slideshow": {
     "slide_type": "fragment"
    }
   },
   "outputs": [],
   "source": [
    "7.2 > 4 or 42"
   ]
  },
  {
   "cell_type": "code",
   "execution_count": null,
   "id": "410b68dd",
   "metadata": {
    "slideshow": {
     "slide_type": "fragment"
    }
   },
   "outputs": [],
   "source": [
    "7.2 < 4 or 42"
   ]
  },
  {
   "cell_type": "code",
   "execution_count": null,
   "id": "0485ea99",
   "metadata": {
    "slideshow": {
     "slide_type": "fragment"
    }
   },
   "outputs": [],
   "source": [
    "7.2 > 4 or \"Bruce Wayne\""
   ]
  },
  {
   "cell_type": "code",
   "execution_count": null,
   "id": "fc31a05a",
   "metadata": {
    "slideshow": {
     "slide_type": "fragment"
    }
   },
   "outputs": [],
   "source": [
    "7.2 < 4 or \"Bruce Wayne\""
   ]
  },
  {
   "cell_type": "markdown",
   "id": "45e556fc",
   "metadata": {
    "slideshow": {
     "slide_type": "subslide"
    }
   },
   "source": [
    "## Logical and\n",
    "\n",
    "| x     | y     | x and y |\n",
    "|-------|-------|---------|\n",
    "| False | False | False   |\n",
    "| False | True  | False   |\n",
    "| True  | False | False   |\n",
    "| True  | True  | True    |"
   ]
  },
  {
   "cell_type": "code",
   "execution_count": null,
   "id": "c13dafbe",
   "metadata": {
    "slideshow": {
     "slide_type": "fragment"
    }
   },
   "outputs": [],
   "source": [
    "print(False and False)\n",
    "print(False and True)\n",
    "print(True and False)\n",
    "print(True and True)"
   ]
  },
  {
   "cell_type": "code",
   "execution_count": null,
   "id": "6d234381",
   "metadata": {
    "slideshow": {
     "slide_type": "fragment"
    }
   },
   "outputs": [],
   "source": [
    "x = 5 < 10\n",
    "y = 6 > 8\n",
    "\n",
    "x and y"
   ]
  },
  {
   "cell_type": "code",
   "execution_count": null,
   "id": "88468e04",
   "metadata": {
    "slideshow": {
     "slide_type": "fragment"
    }
   },
   "outputs": [],
   "source": [
    "x = 5 < 10\n",
    "y = 6 > 4\n",
    "\n",
    "x and y"
   ]
  },
  {
   "cell_type": "markdown",
   "id": "34501e69",
   "metadata": {
    "slideshow": {
     "slide_type": "subslide"
    }
   },
   "source": [
    "## Evaluation of arguments\n",
    "\n",
    "**Meaning:** if `x` is false, then `x`, else `y`"
   ]
  },
  {
   "cell_type": "code",
   "execution_count": null,
   "id": "a05c99fa",
   "metadata": {
    "slideshow": {
     "slide_type": "fragment"
    }
   },
   "outputs": [],
   "source": [
    "7.2 > 4 and 1 / 0"
   ]
  },
  {
   "cell_type": "code",
   "execution_count": null,
   "id": "4b8192eb",
   "metadata": {
    "slideshow": {
     "slide_type": "fragment"
    }
   },
   "outputs": [],
   "source": [
    "7.2 < 4 and 1 / 0"
   ]
  },
  {
   "cell_type": "code",
   "execution_count": null,
   "id": "c5c782be",
   "metadata": {
    "slideshow": {
     "slide_type": "fragment"
    }
   },
   "outputs": [],
   "source": [
    "7.2 > 4 and 42"
   ]
  },
  {
   "cell_type": "code",
   "execution_count": null,
   "id": "dfcd1b3b",
   "metadata": {
    "slideshow": {
     "slide_type": "fragment"
    }
   },
   "outputs": [],
   "source": [
    "7.2 < 4 and 42"
   ]
  },
  {
   "cell_type": "code",
   "execution_count": null,
   "id": "9820f1f4",
   "metadata": {
    "slideshow": {
     "slide_type": "fragment"
    }
   },
   "outputs": [],
   "source": [
    "7.2 > 4 and \"Bruce Wayne\""
   ]
  },
  {
   "cell_type": "code",
   "execution_count": null,
   "id": "751fd5c1",
   "metadata": {
    "slideshow": {
     "slide_type": "fragment"
    }
   },
   "outputs": [],
   "source": [
    "7.2 < 4 and \"Bruce Wayne\""
   ]
  },
  {
   "cell_type": "markdown",
   "id": "2a3c3f3d",
   "metadata": {
    "slideshow": {
     "slide_type": "subslide"
    }
   },
   "source": [
    "## Logical not\n",
    "\n",
    "| x     | not x |\n",
    "|-------|-------|\n",
    "| False | True  |\n",
    "| True  | False |"
   ]
  },
  {
   "cell_type": "code",
   "execution_count": null,
   "id": "91298431",
   "metadata": {
    "slideshow": {
     "slide_type": "fragment"
    }
   },
   "outputs": [],
   "source": [
    "print(not False)\n",
    "print(not True)"
   ]
  },
  {
   "cell_type": "code",
   "execution_count": null,
   "id": "2e00e4ad",
   "metadata": {
    "slideshow": {
     "slide_type": "fragment"
    }
   },
   "outputs": [],
   "source": [
    "x = 5 < 10\n",
    "\n",
    "not x"
   ]
  },
  {
   "cell_type": "code",
   "execution_count": null,
   "id": "7ec90084",
   "metadata": {
    "slideshow": {
     "slide_type": "fragment"
    }
   },
   "outputs": [],
   "source": [
    "x = 6 > 42\n",
    "\n",
    "not x"
   ]
  },
  {
   "cell_type": "markdown",
   "id": "6af0a9f6",
   "metadata": {
    "slideshow": {
     "slide_type": "subslide"
    }
   },
   "source": [
    "## Short-circuit evaluation\n",
    "\n",
    "**Short-circuit evaluation**, a.k.a. **minimal evaluation** or **McCarthy evaluation**, is the semantics of some Boolean operators in some programming languages in which the second argument is executed or evaluated only if the first argument does not suffice to determine the value of the expression.\n",
    "\n",
    "Reference: [Wiki on Short-circuit evaluation](https://en.wikipedia.org/wiki/Short-circuit_evaluation)."
   ]
  },
  {
   "cell_type": "markdown",
   "id": "2d987be1",
   "metadata": {
    "slideshow": {
     "slide_type": "subslide"
    }
   },
   "source": [
    "### Compound `or` expressions\n",
    "\n",
    "- $x_1$ `or` $x_2 \\dots$ `or` $x_{n-1}$ `or` $x_{n}$ evaluates to `True` if any $x_i$ evaluates to `True`. \n",
    "- This is performed by short-circuit evaluation."
   ]
  },
  {
   "cell_type": "code",
   "execution_count": null,
   "id": "79e3c8a3",
   "metadata": {
    "slideshow": {
     "slide_type": "fragment"
    }
   },
   "outputs": [],
   "source": [
    "x1 = 1 > 2\n",
    "x2 = 10 == 10\n",
    "\n",
    "x1 or x2 or 1 / 0"
   ]
  },
  {
   "cell_type": "code",
   "execution_count": null,
   "id": "f27e6f1b",
   "metadata": {
    "slideshow": {
     "slide_type": "fragment"
    }
   },
   "outputs": [],
   "source": [
    "x1 = 1 > 2\n",
    "x2 = 10 != 10\n",
    "\n",
    "x1 or x2 or 1 / 0"
   ]
  },
  {
   "cell_type": "markdown",
   "id": "4b5b5929",
   "metadata": {
    "slideshow": {
     "slide_type": "subslide"
    }
   },
   "source": [
    "### Compound `and` expressions\n",
    "\n",
    "- $x_1$ `and` $x_2 \\dots$ `and` $x_{n-1}$ `and` $x_{n}$ evaluates to `True` if all $x_i$s evaluate to `True`. \n",
    "- This is performed by short-circuit evaluation."
   ]
  },
  {
   "cell_type": "code",
   "execution_count": null,
   "id": "cfca929b",
   "metadata": {
    "slideshow": {
     "slide_type": "fragment"
    }
   },
   "outputs": [],
   "source": [
    "x1 = 1 > 2\n",
    "x2 = 10 == 10\n",
    "\n",
    "x1 and x2 and 1 / 0"
   ]
  },
  {
   "cell_type": "code",
   "execution_count": null,
   "id": "ed67fe80",
   "metadata": {
    "slideshow": {
     "slide_type": "fragment"
    }
   },
   "outputs": [],
   "source": [
    "x1 = 11 > 2\n",
    "x2 = 10 == 10\n",
    "\n",
    "x1 and x2 and 1 / 0"
   ]
  },
  {
   "cell_type": "markdown",
   "id": "947c8af8",
   "metadata": {
    "slideshow": {
     "slide_type": "subslide"
    }
   },
   "source": [
    "## Chained comparisons\n",
    "\n",
    "Comparison operators can be chained together, such as `1 < 2 <=3` or `10 > 5 < 8`.\n",
    "\n",
    "The following two expressions result in the same Boolean value.\n",
    "\n",
    "- **Compound:** $x_1 op_1 x_2$ `and` $x_2 op_2 x_3 \\dots$ `and` $x_{n-1} op_n x_n$\n",
    "- **Chained:** $x_1 op_1 x_2 op_2 \\dots x_{n-1} op_n x_n$"
   ]
  },
  {
   "cell_type": "code",
   "execution_count": null,
   "id": "80c35135",
   "metadata": {
    "slideshow": {
     "slide_type": "subslide"
    }
   },
   "outputs": [],
   "source": [
    "# compound\n",
    "\n",
    "1 < 2 and 2 <= 8 and 8 > 5 and 5 < 7"
   ]
  },
  {
   "cell_type": "code",
   "execution_count": null,
   "id": "e421dba7",
   "metadata": {
    "slideshow": {
     "slide_type": "fragment"
    }
   },
   "outputs": [],
   "source": [
    "# chained\n",
    "\n",
    "1 < 2 <= 8 > 5 < 7"
   ]
  },
  {
   "cell_type": "code",
   "execution_count": null,
   "id": "43e2096b",
   "metadata": {
    "slideshow": {
     "slide_type": "fragment"
    }
   },
   "outputs": [],
   "source": [
    "# compound\n",
    "\n",
    "1 < 2 and 2 <= 8 and 8 > 5 and 5 < 7 and 7 >= 15"
   ]
  },
  {
   "cell_type": "code",
   "execution_count": null,
   "id": "3e34daee",
   "metadata": {
    "slideshow": {
     "slide_type": "fragment"
    }
   },
   "outputs": [],
   "source": [
    "# chained\n",
    "\n",
    "1 < 2 <= 8 > 5 < 7 >= 15"
   ]
  },
  {
   "cell_type": "markdown",
   "id": "711991d4",
   "metadata": {
    "slideshow": {
     "slide_type": "slide"
    }
   },
   "source": [
    "# Two's complement method\n",
    "\n",
    "**Two's complement** is a mathematical operation to reversibly convert a positive binary number into a negative binary number with equivalent (but negative) value, using the binary digit with the greatest place value to indicate whether the binary number is positive or negative (the sign).\n",
    "\n",
    "| Bits      | Unsigned value | Signed value \\(two's complement\\) |\n",
    "|-----------|----------------|-----------------------------------|\n",
    "| 0000 0000 | 0              | 0                                 |\n",
    "| 0000 0001 | 1              | 1                                 |\n",
    "| 0000 0010 | 2              | 2                                 |\n",
    "| 0111 1110 | 126            | 126                               |\n",
    "| 0111 1111 | 127            | 127                               |\n",
    "| 1000 0000 | 128            | \\-128                             |\n",
    "| 1000 0001 | 129            | \\-127                             |\n",
    "| 1000 0010 | 130            | \\-126                             |\n",
    "| 1111 1110 | 254            | \\-2                               |\n",
    "| 1111 1111 | 255            | \\-1                               |\n",
    "\n",
    "Reference: [Wiki Two's complement](https://en.wikipedia.org/wiki/Two%27s_complement)"
   ]
  },
  {
   "cell_type": "markdown",
   "id": "49481f12",
   "metadata": {
    "slideshow": {
     "slide_type": "slide"
    }
   },
   "source": [
    "# Bitwise operators\n",
    "\n",
    "| Operator | Name               | Example | Meaning                                                 |\n",
    "|----------|--------------------|---------|---------------------------------------------------------|\n",
    "| \\|       | bitwise or         | x \\| y  | Logical or between bits of the corresponding positions  |\n",
    "| &        | bitwise and        | x & y   | Logical and between bits of the corresponding positions |\n",
    "| ^        | bitwise xor        | x ^ y   | Logical xor between bits of the corresponding positions |\n",
    "| ~        | bitwise negation   | ~x      | Each bit is inverted                                    |\n",
    "| <<       | bitwise left shift | x << n  | Each bit is shifted leftwards by n positions            |\n",
    "| >>       | bitwise right shift| x >> n  | Each bit is shifted rightwards by n positions           |"
   ]
  },
  {
   "cell_type": "markdown",
   "id": "034bad04",
   "metadata": {
    "slideshow": {
     "slide_type": "subslide"
    }
   },
   "source": [
    "### Bitwise `or`"
   ]
  },
  {
   "cell_type": "code",
   "execution_count": null,
   "id": "0d9301aa",
   "metadata": {
    "slideshow": {
     "slide_type": "fragment"
    }
   },
   "outputs": [],
   "source": [
    "x = 0b11001010\n",
    "y = 0b10111100\n",
    "\n",
    "'{:b}'.format(x | y)"
   ]
  },
  {
   "cell_type": "markdown",
   "id": "fc2701ad",
   "metadata": {
    "slideshow": {
     "slide_type": "fragment"
    }
   },
   "source": [
    "### Bitwise `and`"
   ]
  },
  {
   "cell_type": "code",
   "execution_count": null,
   "id": "86aa282a",
   "metadata": {
    "slideshow": {
     "slide_type": "fragment"
    }
   },
   "outputs": [],
   "source": [
    "x = 0b11001010\n",
    "y = 0b10111100\n",
    "\n",
    "'{:b}'.format(x & y)"
   ]
  },
  {
   "cell_type": "markdown",
   "id": "e9a5f0dc",
   "metadata": {
    "slideshow": {
     "slide_type": "fragment"
    }
   },
   "source": [
    "### Bitwise `xor`"
   ]
  },
  {
   "cell_type": "code",
   "execution_count": null,
   "id": "27b116ef",
   "metadata": {
    "slideshow": {
     "slide_type": "fragment"
    }
   },
   "outputs": [],
   "source": [
    "x = 0b11001010\n",
    "y = 0b10111100\n",
    "\n",
    "'{:b}'.format(x ^ y)"
   ]
  },
  {
   "cell_type": "markdown",
   "id": "3556adeb",
   "metadata": {
    "slideshow": {
     "slide_type": "subslide"
    }
   },
   "source": [
    "### Bitwise negation\n",
    "\n",
    "Equivalent to `-(x + 1)`."
   ]
  },
  {
   "cell_type": "code",
   "execution_count": null,
   "id": "8bda64fa",
   "metadata": {
    "slideshow": {
     "slide_type": "fragment"
    }
   },
   "outputs": [],
   "source": [
    "x = 0b11001010\n",
    "\n",
    "print('{:b}'.format(~x))"
   ]
  },
  {
   "cell_type": "code",
   "execution_count": null,
   "id": "3ccba05a",
   "metadata": {
    "slideshow": {
     "slide_type": "fragment"
    }
   },
   "outputs": [],
   "source": [
    "~x"
   ]
  },
  {
   "cell_type": "code",
   "execution_count": null,
   "id": "e6bd08ee",
   "metadata": {
    "slideshow": {
     "slide_type": "fragment"
    }
   },
   "outputs": [],
   "source": [
    "-(x + 1)"
   ]
  },
  {
   "cell_type": "markdown",
   "id": "fb9e551c",
   "metadata": {
    "slideshow": {
     "slide_type": "subslide"
    }
   },
   "source": [
    "### Bitwise left shift"
   ]
  },
  {
   "cell_type": "code",
   "execution_count": null,
   "id": "014df6e4",
   "metadata": {
    "slideshow": {
     "slide_type": "fragment"
    }
   },
   "outputs": [],
   "source": [
    "x = 0b11001010\n",
    "n = 3\n",
    "\n",
    "'{:b}'.format(x << n)"
   ]
  },
  {
   "cell_type": "code",
   "execution_count": null,
   "id": "67ae184d",
   "metadata": {
    "slideshow": {
     "slide_type": "fragment"
    }
   },
   "outputs": [],
   "source": [
    "x"
   ]
  },
  {
   "cell_type": "code",
   "execution_count": null,
   "id": "a67dc4e0",
   "metadata": {
    "slideshow": {
     "slide_type": "fragment"
    }
   },
   "outputs": [],
   "source": [
    "x << n"
   ]
  },
  {
   "cell_type": "code",
   "execution_count": null,
   "id": "afcb07cc",
   "metadata": {
    "slideshow": {
     "slide_type": "fragment"
    }
   },
   "outputs": [],
   "source": [
    "x * 2 ** n"
   ]
  },
  {
   "cell_type": "markdown",
   "id": "7d6e8c2d",
   "metadata": {
    "slideshow": {
     "slide_type": "subslide"
    }
   },
   "source": [
    "### Bitwise right shift"
   ]
  },
  {
   "cell_type": "code",
   "execution_count": null,
   "id": "a43ea1e8",
   "metadata": {
    "slideshow": {
     "slide_type": "fragment"
    }
   },
   "outputs": [],
   "source": [
    "x = 0b11001010\n",
    "n = 3\n",
    "\n",
    "'{:b}'.format(x >> n)"
   ]
  },
  {
   "cell_type": "code",
   "execution_count": null,
   "id": "c8bf6c85",
   "metadata": {
    "slideshow": {
     "slide_type": "fragment"
    }
   },
   "outputs": [],
   "source": [
    "x"
   ]
  },
  {
   "cell_type": "code",
   "execution_count": null,
   "id": "0431cd96",
   "metadata": {
    "slideshow": {
     "slide_type": "fragment"
    }
   },
   "outputs": [],
   "source": [
    "x >> n"
   ]
  },
  {
   "cell_type": "code",
   "execution_count": null,
   "id": "3780b8e6",
   "metadata": {
    "slideshow": {
     "slide_type": "fragment"
    }
   },
   "outputs": [],
   "source": [
    "x // 2 ** n"
   ]
  },
  {
   "cell_type": "markdown",
   "id": "c6832f28",
   "metadata": {
    "slideshow": {
     "slide_type": "slide"
    }
   },
   "source": [
    "# Assignment operators\n",
    "\n",
    "| Operator | Name                               | Example   | Meaning                                                                        |\n",
    "|----------|------------------------------------|-----------|--------------------------------------------------------------------------------|\n",
    "| =        | Assignment                         | x = 3     | Assign the value of right\\-hand side expression to the left\\-hand side operand |\n",
    "| \\+=      | Addition and assignment            | x \\+= 3   | Equivalent to x = x \\+ 3                                                       |\n",
    "| \\-=      | Subtraction and assignment         | x \\-= 3   | Equivalent to x = x \\- 3                                                       |\n",
    "| \\*=      | Multiplication and assignment      | x \\*= 3   | Equivalent to x = x \\* 3                                                       |\n",
    "| /=       | Division and assignment            | x /= 3    | Equivalent to x = x / 3                                                        |\n",
    "| %=       | Modulus and assignment             | x %= 3    | Equivalent to x = x % 3                                                        |\n",
    "| //=      | Floor division and assignment      | x //= 3   | Equivalent to x = x // 3                                                       |\n",
    "| \\*\\*=    | Exponentiation and assignment      | x \\*\\*= 3 | Equivalent to x = x \\*\\* 3                                                     |\n",
    "| &=       | Bitwise and and assignment         | x &= 3    | Equivalent to x = x & 3                                                        |\n",
    "| \\|=      | Bitwise or and assignment          | x \\|= 3   | Equivalent to x = x \\| 3                                                       |\n",
    "| ^=       | Bitwise xor and assignment         | x ^= 3    | Equivalent to x = x ^ 3                                                        |\n",
    "| <<=      | Bitwise left shift and assignment  | x <<= 3   | Equivalent to x = x << 3                                                       |\n",
    "| >>=      | Bitwise right shift and assignment | x >>= 3   | Equivalent to x = x >> 3        \n",
    "\n",
    "\n",
    "In short `x <op>= y` is equivalent to `x = x <op> y` for the above operators."
   ]
  },
  {
   "cell_type": "markdown",
   "id": "c87ae5f5",
   "metadata": {
    "slideshow": {
     "slide_type": "subslide"
    }
   },
   "source": [
    "### Assignment"
   ]
  },
  {
   "cell_type": "code",
   "execution_count": null,
   "id": "cca85adf",
   "metadata": {
    "slideshow": {
     "slide_type": "fragment"
    }
   },
   "outputs": [],
   "source": [
    "x = 5\n",
    "print(x)\n",
    "\n",
    "x = \"hello world\"\n",
    "print(x)"
   ]
  },
  {
   "cell_type": "markdown",
   "id": "3076a55e",
   "metadata": {
    "slideshow": {
     "slide_type": "fragment"
    }
   },
   "source": [
    "### Addition and assignment"
   ]
  },
  {
   "cell_type": "code",
   "execution_count": null,
   "id": "9d575769",
   "metadata": {
    "slideshow": {
     "slide_type": "fragment"
    }
   },
   "outputs": [],
   "source": [
    "x = 5\n",
    "print(x)\n",
    "\n",
    "x += 3\n",
    "print(x)"
   ]
  },
  {
   "cell_type": "markdown",
   "id": "673123c1",
   "metadata": {
    "slideshow": {
     "slide_type": "subslide"
    }
   },
   "source": [
    "### Subtraction and assignment"
   ]
  },
  {
   "cell_type": "code",
   "execution_count": null,
   "id": "ace7a48d",
   "metadata": {
    "slideshow": {
     "slide_type": "fragment"
    }
   },
   "outputs": [],
   "source": [
    "x = 5\n",
    "print(x)\n",
    "\n",
    "x -= 3\n",
    "print(x)"
   ]
  },
  {
   "cell_type": "markdown",
   "id": "4fe9f2c4",
   "metadata": {
    "slideshow": {
     "slide_type": "fragment"
    }
   },
   "source": [
    "### Multiplication and assignment"
   ]
  },
  {
   "cell_type": "code",
   "execution_count": null,
   "id": "1987b655",
   "metadata": {
    "slideshow": {
     "slide_type": "fragment"
    }
   },
   "outputs": [],
   "source": [
    "x = 5\n",
    "print(x)\n",
    "\n",
    "x *= 3\n",
    "print(x)"
   ]
  },
  {
   "cell_type": "markdown",
   "id": "57f2dced",
   "metadata": {
    "slideshow": {
     "slide_type": "subslide"
    }
   },
   "source": [
    "### Division and assignment"
   ]
  },
  {
   "cell_type": "code",
   "execution_count": null,
   "id": "9d3b0891",
   "metadata": {
    "slideshow": {
     "slide_type": "fragment"
    }
   },
   "outputs": [],
   "source": [
    "x = 5\n",
    "print(x)\n",
    "\n",
    "x /= 3\n",
    "print(x)"
   ]
  },
  {
   "cell_type": "markdown",
   "id": "bb69e047",
   "metadata": {
    "slideshow": {
     "slide_type": "fragment"
    }
   },
   "source": [
    "### Modulus and assignment"
   ]
  },
  {
   "cell_type": "code",
   "execution_count": null,
   "id": "74b255c4",
   "metadata": {
    "slideshow": {
     "slide_type": "fragment"
    }
   },
   "outputs": [],
   "source": [
    "x = 5\n",
    "print(x)\n",
    "\n",
    "x %= 3\n",
    "print(x)"
   ]
  },
  {
   "cell_type": "markdown",
   "id": "11df41a7",
   "metadata": {
    "slideshow": {
     "slide_type": "subslide"
    }
   },
   "source": [
    "### Floor division and assignment"
   ]
  },
  {
   "cell_type": "code",
   "execution_count": null,
   "id": "47b23181",
   "metadata": {
    "slideshow": {
     "slide_type": "fragment"
    }
   },
   "outputs": [],
   "source": [
    "x = 5\n",
    "print(x)\n",
    "\n",
    "x //= 3\n",
    "print(x)"
   ]
  },
  {
   "cell_type": "markdown",
   "id": "ae390fed",
   "metadata": {
    "slideshow": {
     "slide_type": "fragment"
    }
   },
   "source": [
    "### Exponentiation and assignment"
   ]
  },
  {
   "cell_type": "code",
   "execution_count": null,
   "id": "c6a30f08",
   "metadata": {
    "scrolled": true,
    "slideshow": {
     "slide_type": "fragment"
    }
   },
   "outputs": [],
   "source": [
    "x = 5\n",
    "print(x)\n",
    "\n",
    "x **= 3\n",
    "print(x)"
   ]
  },
  {
   "cell_type": "markdown",
   "id": "61dc316d",
   "metadata": {
    "slideshow": {
     "slide_type": "subslide"
    }
   },
   "source": [
    "### Bitwise `and` and assignment"
   ]
  },
  {
   "cell_type": "code",
   "execution_count": null,
   "id": "ae16a032",
   "metadata": {
    "slideshow": {
     "slide_type": "fragment"
    }
   },
   "outputs": [],
   "source": [
    "x = 5\n",
    "print(x)\n",
    "\n",
    "x &= 3\n",
    "print(x)"
   ]
  },
  {
   "cell_type": "markdown",
   "id": "92217259",
   "metadata": {
    "slideshow": {
     "slide_type": "fragment"
    }
   },
   "source": [
    "### Bitwise `or` and assignment"
   ]
  },
  {
   "cell_type": "code",
   "execution_count": null,
   "id": "911f75db",
   "metadata": {
    "scrolled": true,
    "slideshow": {
     "slide_type": "fragment"
    }
   },
   "outputs": [],
   "source": [
    "x = 5\n",
    "print(x)\n",
    "\n",
    "x |= 3\n",
    "print(x)"
   ]
  },
  {
   "cell_type": "markdown",
   "id": "e1a781df",
   "metadata": {
    "slideshow": {
     "slide_type": "fragment"
    }
   },
   "source": [
    "### Bitwise `xor` and assignment"
   ]
  },
  {
   "cell_type": "code",
   "execution_count": null,
   "id": "2b023efb",
   "metadata": {
    "slideshow": {
     "slide_type": "fragment"
    }
   },
   "outputs": [],
   "source": [
    "x = 5\n",
    "print(x)\n",
    "\n",
    "x ^= 3\n",
    "print(x)"
   ]
  },
  {
   "cell_type": "markdown",
   "id": "be2c6cb9",
   "metadata": {
    "slideshow": {
     "slide_type": "subslide"
    }
   },
   "source": [
    "### Bitwise left shift and assignment"
   ]
  },
  {
   "cell_type": "code",
   "execution_count": null,
   "id": "94fd5df6",
   "metadata": {
    "slideshow": {
     "slide_type": "fragment"
    }
   },
   "outputs": [],
   "source": [
    "x = 5\n",
    "print(x)\n",
    "\n",
    "x <<= 3\n",
    "print(x)"
   ]
  },
  {
   "cell_type": "markdown",
   "id": "dbb75a18",
   "metadata": {
    "slideshow": {
     "slide_type": "fragment"
    }
   },
   "source": [
    "### Bitwise right shift and assignment"
   ]
  },
  {
   "cell_type": "code",
   "execution_count": null,
   "id": "b0a1b8a2",
   "metadata": {
    "scrolled": true,
    "slideshow": {
     "slide_type": "fragment"
    }
   },
   "outputs": [],
   "source": [
    "x = 5\n",
    "print(x)\n",
    "\n",
    "x >>= 3\n",
    "print(x)"
   ]
  },
  {
   "cell_type": "markdown",
   "id": "5b92333b",
   "metadata": {
    "slideshow": {
     "slide_type": "slide"
    }
   },
   "source": [
    "# Identity operators\n",
    "\n",
    "| Operator | Name | Example    | Meaning                                         |\n",
    "|----------|------|------------|-------------------------------------------------|\n",
    "| is       |      | x is y     | Checks if both operands are the same object     |\n",
    "| is not   |      | x is not y | Checks if both operands are not the same object |"
   ]
  },
  {
   "cell_type": "markdown",
   "id": "99d3b474",
   "metadata": {
    "slideshow": {
     "slide_type": "subslide"
    }
   },
   "source": [
    "## id() function\n",
    "\n",
    "`id()` function can be used to get the identity of an object, which is unique and constant during the lifetime of an object.\n",
    "\n",
    "In CPython some objects are stored in a global cache and do not change their identity, such as:\n",
    "- Integer numbers between `-5` and `256`\n",
    "- Strings that contain ASCII letters, digits, or underscores only\n",
    "- `False`, `True`, `None`\n",
    "\n",
    "P.S. Python has different implementations and CPython is the most popular one. You can learn more about different implementations [here](https://wiki.python.org/moin/PythonImplementations)."
   ]
  },
  {
   "cell_type": "code",
   "execution_count": 652,
   "id": "cbb8b8b9",
   "metadata": {
    "slideshow": {
     "slide_type": "fragment"
    }
   },
   "outputs": [
    {
     "data": {
      "text/plain": [
       "140003950653104"
      ]
     },
     "execution_count": 652,
     "metadata": {},
     "output_type": "execute_result"
    }
   ],
   "source": [
    "x = \"Hello world\"\n",
    "\n",
    "id(x)"
   ]
  },
  {
   "cell_type": "code",
   "execution_count": 653,
   "id": "68cf4bc1",
   "metadata": {
    "slideshow": {
     "slide_type": "subslide"
    }
   },
   "outputs": [
    {
     "data": {
      "text/plain": [
       "True"
      ]
     },
     "execution_count": 653,
     "metadata": {},
     "output_type": "execute_result"
    }
   ],
   "source": [
    "x = 100\n",
    "y = 100\n",
    "\n",
    "x is y"
   ]
  },
  {
   "cell_type": "code",
   "execution_count": 654,
   "id": "e69f19f6",
   "metadata": {
    "slideshow": {
     "slide_type": "fragment"
    }
   },
   "outputs": [
    {
     "data": {
      "text/plain": [
       "False"
      ]
     },
     "execution_count": 654,
     "metadata": {},
     "output_type": "execute_result"
    }
   ],
   "source": [
    "x = 1000\n",
    "y = 1000\n",
    "\n",
    "x is y"
   ]
  },
  {
   "cell_type": "code",
   "execution_count": 655,
   "id": "ab923ad6",
   "metadata": {
    "slideshow": {
     "slide_type": "fragment"
    }
   },
   "outputs": [
    {
     "data": {
      "text/plain": [
       "(True, 5)"
      ]
     },
     "execution_count": 655,
     "metadata": {},
     "output_type": "execute_result"
    }
   ],
   "source": [
    "x = \"Hello\"\n",
    "y = \"Hello\"\n",
    "\n",
    "x is y"
   ]
  },
  {
   "cell_type": "code",
   "execution_count": 656,
   "id": "a3b27208",
   "metadata": {
    "slideshow": {
     "slide_type": "fragment"
    }
   },
   "outputs": [
    {
     "data": {
      "text/plain": [
       "False"
      ]
     },
     "execution_count": 656,
     "metadata": {},
     "output_type": "execute_result"
    }
   ],
   "source": [
    "x = \"Hello world\"\n",
    "y = \"Hello world\"\n",
    "\n",
    "x is y"
   ]
  },
  {
   "cell_type": "markdown",
   "id": "4be6e76e",
   "metadata": {
    "slideshow": {
     "slide_type": "slide"
    }
   },
   "source": [
    "# Membership operators\n",
    "\n",
    "| Operator | Name | Example    | Meaning                                        |\n",
    "|----------|------|------------|------------------------------------------------|\n",
    "| in       |      | x in y     | Checks if a value exists in a sequence         |\n",
    "| not in   |      | x not in y | Checks if a value does not exist in a sequence |"
   ]
  },
  {
   "cell_type": "code",
   "execution_count": 658,
   "id": "c96e884e",
   "metadata": {
    "slideshow": {
     "slide_type": "subslide"
    }
   },
   "outputs": [
    {
     "data": {
      "text/plain": [
       "True"
      ]
     },
     "execution_count": 658,
     "metadata": {},
     "output_type": "execute_result"
    }
   ],
   "source": [
    "x = \"Hello\"\n",
    "y = \"Hello world\"\n",
    "\n",
    "x in y"
   ]
  },
  {
   "cell_type": "code",
   "execution_count": 659,
   "id": "5802e7f8",
   "metadata": {
    "slideshow": {
     "slide_type": "fragment"
    }
   },
   "outputs": [
    {
     "data": {
      "text/plain": [
       "False"
      ]
     },
     "execution_count": 659,
     "metadata": {},
     "output_type": "execute_result"
    }
   ],
   "source": [
    "x = \"hello\"\n",
    "y = \"Hello world\"\n",
    "\n",
    "x in y"
   ]
  },
  {
   "cell_type": "code",
   "execution_count": 660,
   "id": "cd0c11c1",
   "metadata": {
    "scrolled": true,
    "slideshow": {
     "slide_type": "fragment"
    }
   },
   "outputs": [
    {
     "data": {
      "text/plain": [
       "True"
      ]
     },
     "execution_count": 660,
     "metadata": {},
     "output_type": "execute_result"
    }
   ],
   "source": [
    "x = 10\n",
    "y = [10, 20, 30]\n",
    "\n",
    "x in y"
   ]
  },
  {
   "cell_type": "code",
   "execution_count": 661,
   "id": "82af04b8",
   "metadata": {
    "scrolled": true,
    "slideshow": {
     "slide_type": "fragment"
    }
   },
   "outputs": [
    {
     "data": {
      "text/plain": [
       "False"
      ]
     },
     "execution_count": 661,
     "metadata": {},
     "output_type": "execute_result"
    }
   ],
   "source": [
    "x = 40\n",
    "y = [10, 20, 30]\n",
    "\n",
    "x in y"
   ]
  },
  {
   "cell_type": "code",
   "execution_count": 662,
   "id": "536739fc",
   "metadata": {
    "slideshow": {
     "slide_type": "subslide"
    }
   },
   "outputs": [
    {
     "data": {
      "text/plain": [
       "False"
      ]
     },
     "execution_count": 662,
     "metadata": {},
     "output_type": "execute_result"
    }
   ],
   "source": [
    "x = \"Hello\"\n",
    "y = \"Hello world\"\n",
    "\n",
    "x not in y"
   ]
  },
  {
   "cell_type": "code",
   "execution_count": 663,
   "id": "a3103d2e",
   "metadata": {
    "slideshow": {
     "slide_type": "fragment"
    }
   },
   "outputs": [
    {
     "data": {
      "text/plain": [
       "True"
      ]
     },
     "execution_count": 663,
     "metadata": {},
     "output_type": "execute_result"
    }
   ],
   "source": [
    "x = \"hello\"\n",
    "y = \"Hello world\"\n",
    "\n",
    "x not in y"
   ]
  },
  {
   "cell_type": "code",
   "execution_count": 664,
   "id": "0e363554",
   "metadata": {
    "slideshow": {
     "slide_type": "fragment"
    }
   },
   "outputs": [
    {
     "data": {
      "text/plain": [
       "False"
      ]
     },
     "execution_count": 664,
     "metadata": {},
     "output_type": "execute_result"
    }
   ],
   "source": [
    "x = 10\n",
    "y = [10, 20, 30]\n",
    "\n",
    "x not in y"
   ]
  },
  {
   "cell_type": "code",
   "execution_count": 665,
   "id": "4054599c",
   "metadata": {
    "slideshow": {
     "slide_type": "fragment"
    }
   },
   "outputs": [
    {
     "data": {
      "text/plain": [
       "True"
      ]
     },
     "execution_count": 665,
     "metadata": {},
     "output_type": "execute_result"
    }
   ],
   "source": [
    "x = 40\n",
    "y = [10, 20, 30]\n",
    "\n",
    "x not in y"
   ]
  },
  {
   "cell_type": "markdown",
   "id": "9a9e992e",
   "metadata": {
    "slideshow": {
     "slide_type": "slide"
    }
   },
   "source": [
    "# Operator precedence\n",
    "\n",
    "\n",
    "|                            | Operator                                      | Description                                      |\n",
    "|----------------------------|-----------------------------------------------|--------------------------------------------------|\n",
    "| **highest precedence**     | \\(\\)                                          | Parentheses                                      |\n",
    "|                            | \\*\\*                                          | Exponentiation                                   |\n",
    "|                            | \\+x, \\-x, ~x                                  | Unary positive, unary negation, bitwise negation |\n",
    "|                            | \\*, /, //, %                                  | Multiplication, division, floor division, modulo |\n",
    "|                            | \\+, \\-                                        | Addition, subtraction                            |\n",
    "|                            | <<, >>                                        | Bitwise left shift, bitwise right shift          |\n",
    "|                            | &                                             | bitwise and                                      |\n",
    "|                            | ^                                             | bitwise xor                                      |\n",
    "|                            | \\|                                            | bitwise or                                       |\n",
    "|                            | ==, \\!=, >, >=, <, <=, is, is not, in, not in | Comparisons, identity, and membership operators  |\n",
    "|                            | not                                           | Logical not                                      |\n",
    "|                            | and                                           | Logical and                                      |\n",
    "| **lowest precedence**      | or                                            | Logical or                                       |\n"
   ]
  },
  {
   "cell_type": "markdown",
   "id": "5417d77b",
   "metadata": {
    "slideshow": {
     "slide_type": "slide"
    }
   },
   "source": [
    "# String operations\n",
    "\n",
    "| Operator   | Name          | Example        | Meaning                             |\n",
    "|------------|---------------|----------------|-------------------------------------|\n",
    "| \\+         | Concatenation | x \\+ y         | Concatenates two strings            |\n",
    "| \\*         | Repetition    | x \\* y         | Repeats a string for integral times |\n",
    "| Comparison | \\-            | x <comp\\_op> y | Performs string comparison          |\n",
    "| Assignment | \\-            | x <asg\\_op> y  | Performs string assignment          |"
   ]
  },
  {
   "cell_type": "markdown",
   "id": "55c8ee1a",
   "metadata": {
    "slideshow": {
     "slide_type": "subslide"
    }
   },
   "source": [
    "## Concatenation"
   ]
  },
  {
   "cell_type": "code",
   "execution_count": 559,
   "id": "68c135cb",
   "metadata": {
    "slideshow": {
     "slide_type": "fragment"
    }
   },
   "outputs": [
    {
     "data": {
      "text/plain": [
       "'Hello World'"
      ]
     },
     "execution_count": 559,
     "metadata": {},
     "output_type": "execute_result"
    }
   ],
   "source": [
    "\"Hello \" + \"World\" "
   ]
  },
  {
   "cell_type": "code",
   "execution_count": 561,
   "id": "dbdcbcb5",
   "metadata": {
    "slideshow": {
     "slide_type": "fragment"
    }
   },
   "outputs": [
    {
     "data": {
      "text/plain": [
       "'Hello, John!'"
      ]
     },
     "execution_count": 561,
     "metadata": {},
     "output_type": "execute_result"
    }
   ],
   "source": [
    "name = \"John\"\n",
    "\n",
    "\"Hello, \" + name + \"!\""
   ]
  },
  {
   "cell_type": "markdown",
   "id": "b3e496af",
   "metadata": {
    "slideshow": {
     "slide_type": "subslide"
    }
   },
   "source": [
    "## Repetition\n",
    "\n",
    "- One of the arguments must be integer and the other should be string."
   ]
  },
  {
   "cell_type": "code",
   "execution_count": 562,
   "id": "acb78579",
   "metadata": {
    "slideshow": {
     "slide_type": "fragment"
    }
   },
   "outputs": [
    {
     "data": {
      "text/plain": [
       "'hello hello hello '"
      ]
     },
     "execution_count": 562,
     "metadata": {},
     "output_type": "execute_result"
    }
   ],
   "source": [
    "3 * \"hello \""
   ]
  },
  {
   "cell_type": "code",
   "execution_count": 563,
   "id": "fdfbcd00",
   "metadata": {
    "slideshow": {
     "slide_type": "fragment"
    }
   },
   "outputs": [
    {
     "data": {
      "text/plain": [
       "'hello hello hello '"
      ]
     },
     "execution_count": 563,
     "metadata": {},
     "output_type": "execute_result"
    }
   ],
   "source": [
    "\"hello \" * 3"
   ]
  },
  {
   "cell_type": "code",
   "execution_count": 564,
   "id": "f66c3722",
   "metadata": {
    "slideshow": {
     "slide_type": "fragment"
    }
   },
   "outputs": [
    {
     "ename": "TypeError",
     "evalue": "can't multiply sequence by non-int of type 'float'",
     "output_type": "error",
     "traceback": [
      "\u001b[0;31m---------------------------------------------------------------------------\u001b[0m",
      "\u001b[0;31mTypeError\u001b[0m                                 Traceback (most recent call last)",
      "Cell \u001b[0;32mIn[564], line 1\u001b[0m\n\u001b[0;32m----> 1\u001b[0m \u001b[38;5;241;43m3.5\u001b[39;49m\u001b[43m \u001b[49m\u001b[38;5;241;43m*\u001b[39;49m\u001b[43m \u001b[49m\u001b[38;5;124;43m\"\u001b[39;49m\u001b[38;5;124;43mhello \u001b[39;49m\u001b[38;5;124;43m\"\u001b[39;49m\n",
      "\u001b[0;31mTypeError\u001b[0m: can't multiply sequence by non-int of type 'float'"
     ]
    }
   ],
   "source": [
    "3.5 * \"hello \""
   ]
  },
  {
   "cell_type": "code",
   "execution_count": 565,
   "id": "61309a03",
   "metadata": {
    "slideshow": {
     "slide_type": "fragment"
    }
   },
   "outputs": [
    {
     "ename": "TypeError",
     "evalue": "can't multiply sequence by non-int of type 'complex'",
     "output_type": "error",
     "traceback": [
      "\u001b[0;31m---------------------------------------------------------------------------\u001b[0m",
      "\u001b[0;31mTypeError\u001b[0m                                 Traceback (most recent call last)",
      "Cell \u001b[0;32mIn[565], line 1\u001b[0m\n\u001b[0;32m----> 1\u001b[0m \u001b[43m(\u001b[49m\u001b[38;5;241;43m3.5\u001b[39;49m\u001b[43m \u001b[49m\u001b[38;5;241;43m+\u001b[39;49m\u001b[43m \u001b[49m\u001b[38;5;241;43m1\u001b[39;49m\u001b[43mj\u001b[49m\u001b[43m)\u001b[49m\u001b[43m \u001b[49m\u001b[38;5;241;43m*\u001b[39;49m\u001b[43m \u001b[49m\u001b[38;5;124;43m\"\u001b[39;49m\u001b[38;5;124;43mhello \u001b[39;49m\u001b[38;5;124;43m\"\u001b[39;49m\n",
      "\u001b[0;31mTypeError\u001b[0m: can't multiply sequence by non-int of type 'complex'"
     ]
    }
   ],
   "source": [
    "(3.5 + 1j) * \"hello \""
   ]
  },
  {
   "cell_type": "markdown",
   "id": "cd3fc7a5",
   "metadata": {
    "slideshow": {
     "slide_type": "subslide"
    }
   },
   "source": [
    "## Comparison\n",
    "\n",
    "- It performs comparison between strings using their corresponding Unicode values.\n",
    "- The function `ord()` can be used to find the unicode representation value of a character."
   ]
  },
  {
   "cell_type": "code",
   "execution_count": 570,
   "id": "7bc6225e",
   "metadata": {
    "slideshow": {
     "slide_type": "fragment"
    }
   },
   "outputs": [
    {
     "data": {
      "text/plain": [
       "(97, 65)"
      ]
     },
     "execution_count": 570,
     "metadata": {},
     "output_type": "execute_result"
    }
   ],
   "source": [
    "ord(\"a\"), ord(\"A\")"
   ]
  },
  {
   "cell_type": "code",
   "execution_count": 572,
   "id": "bd2b64aa",
   "metadata": {
    "slideshow": {
     "slide_type": "fragment"
    }
   },
   "outputs": [
    {
     "data": {
      "text/plain": [
       "(122, 90)"
      ]
     },
     "execution_count": 572,
     "metadata": {},
     "output_type": "execute_result"
    }
   ],
   "source": [
    "ord(\"z\"), ord(\"Z\")"
   ]
  },
  {
   "cell_type": "code",
   "execution_count": 573,
   "id": "0dff4862",
   "metadata": {
    "slideshow": {
     "slide_type": "fragment"
    }
   },
   "outputs": [
    {
     "data": {
      "text/plain": [
       "(1377, 1329)"
      ]
     },
     "execution_count": 573,
     "metadata": {},
     "output_type": "execute_result"
    }
   ],
   "source": [
    "ord(\"ա\"), ord(\"Ա\")"
   ]
  },
  {
   "cell_type": "code",
   "execution_count": 574,
   "id": "a275c284",
   "metadata": {
    "slideshow": {
     "slide_type": "fragment"
    }
   },
   "outputs": [
    {
     "data": {
      "text/plain": [
       "(1414, 1366)"
      ]
     },
     "execution_count": 574,
     "metadata": {},
     "output_type": "execute_result"
    }
   ],
   "source": [
    "ord(\"ֆ\"), ord(\"Ֆ\")"
   ]
  },
  {
   "cell_type": "code",
   "execution_count": 576,
   "id": "e0b52814",
   "metadata": {
    "slideshow": {
     "slide_type": "subslide"
    }
   },
   "outputs": [
    {
     "data": {
      "text/plain": [
       "True"
      ]
     },
     "execution_count": 576,
     "metadata": {},
     "output_type": "execute_result"
    }
   ],
   "source": [
    "\"abc\" == \"abc\""
   ]
  },
  {
   "cell_type": "code",
   "execution_count": 580,
   "id": "2a38d0a4",
   "metadata": {
    "slideshow": {
     "slide_type": "fragment"
    }
   },
   "outputs": [
    {
     "data": {
      "text/plain": [
       "True"
      ]
     },
     "execution_count": 580,
     "metadata": {},
     "output_type": "execute_result"
    }
   ],
   "source": [
    "\"abc\" != \"abd\""
   ]
  },
  {
   "cell_type": "code",
   "execution_count": 581,
   "id": "5edf0018",
   "metadata": {
    "slideshow": {
     "slide_type": "fragment"
    }
   },
   "outputs": [
    {
     "data": {
      "text/plain": [
       "True"
      ]
     },
     "execution_count": 581,
     "metadata": {},
     "output_type": "execute_result"
    }
   ],
   "source": [
    "\"abc\" < \"abd\""
   ]
  },
  {
   "cell_type": "code",
   "execution_count": 582,
   "id": "1d4f7278",
   "metadata": {
    "slideshow": {
     "slide_type": "fragment"
    }
   },
   "outputs": [
    {
     "data": {
      "text/plain": [
       "True"
      ]
     },
     "execution_count": 582,
     "metadata": {},
     "output_type": "execute_result"
    }
   ],
   "source": [
    "\"abcABC\" < \"abdabc\""
   ]
  },
  {
   "cell_type": "code",
   "execution_count": 583,
   "id": "6a739cc0",
   "metadata": {
    "slideshow": {
     "slide_type": "fragment"
    }
   },
   "outputs": [
    {
     "data": {
      "text/plain": [
       "True"
      ]
     },
     "execution_count": 583,
     "metadata": {},
     "output_type": "execute_result"
    }
   ],
   "source": [
    "\"abc\" >= \"ABC\""
   ]
  },
  {
   "cell_type": "code",
   "execution_count": 587,
   "id": "227d458f",
   "metadata": {
    "slideshow": {
     "slide_type": "fragment"
    }
   },
   "outputs": [
    {
     "data": {
      "text/plain": [
       "True"
      ]
     },
     "execution_count": 587,
     "metadata": {},
     "output_type": "execute_result"
    }
   ],
   "source": [
    "\"abcACD\" >= \"abcABC\""
   ]
  },
  {
   "cell_type": "markdown",
   "id": "11f53e24",
   "metadata": {
    "slideshow": {
     "slide_type": "slide"
    }
   },
   "source": [
    "# String formatting / interpolation\n",
    "\n",
    "- printf-style string formatting via `%` operator\n",
    "- string formatting via `str.format`\n",
    "- string interpolation via f-strings"
   ]
  },
  {
   "cell_type": "markdown",
   "id": "66b20d9c",
   "metadata": {
    "slideshow": {
     "slide_type": "subslide"
    }
   },
   "source": [
    "## printf-style\n",
    "\n",
    "- `<format> % <values>` construct is used and conversion specifications in `<format>` are replaced by `<values>`.\n",
    "- `<format>` is a string that includes conversion specifiers, such as:\n",
    "    - `'d'`: for signed integer decimal format\n",
    "    - `'f'`: for floating point decimal format\n",
    "    - `'s'`: for string format\n",
    "\n",
    "For complete reference to formatting and specifications, see:\n",
    "- [printf-style String Formatting](https://docs.python.org/3/library/stdtypes.html#printf-style-string-formatting)\n",
    "- [Format String Syntax](https://docs.python.org/3/library/string.html#format-string-syntax)"
   ]
  },
  {
   "cell_type": "code",
   "execution_count": 593,
   "id": "02588ea2",
   "metadata": {
    "slideshow": {
     "slide_type": "subslide"
    }
   },
   "outputs": [
    {
     "data": {
      "text/plain": [
       "'John is 19 years old and his GPA is 19.57'"
      ]
     },
     "execution_count": 593,
     "metadata": {},
     "output_type": "execute_result"
    }
   ],
   "source": [
    "age = 19\n",
    "\n",
    "\"John is %d years old and his GPA is 19.57.\" % age"
   ]
  },
  {
   "cell_type": "code",
   "execution_count": 595,
   "id": "bbf3f665",
   "metadata": {
    "slideshow": {
     "slide_type": "fragment"
    }
   },
   "outputs": [
    {
     "data": {
      "text/plain": [
       "'John is 19 years old and his GPA is 19.57'"
      ]
     },
     "execution_count": 595,
     "metadata": {},
     "output_type": "execute_result"
    }
   ],
   "source": [
    "age = 19\n",
    "name = \"John\"\n",
    "\n",
    "\"%s is %d years old and his GPA is 19.57.\" % (name, age)"
   ]
  },
  {
   "cell_type": "code",
   "execution_count": 599,
   "id": "26090fa2",
   "metadata": {
    "slideshow": {
     "slide_type": "fragment"
    }
   },
   "outputs": [
    {
     "data": {
      "text/plain": [
       "'John is 19 years old and his GPA is 19.57.'"
      ]
     },
     "execution_count": 599,
     "metadata": {},
     "output_type": "execute_result"
    }
   ],
   "source": [
    "age = 19\n",
    "name = \"John\"\n",
    "gpa = 19.57\n",
    "\n",
    "\"%s is %d years old and his GPA is %.2f.\" % (name, age, gpa)"
   ]
  },
  {
   "cell_type": "code",
   "execution_count": 602,
   "id": "e5efa810",
   "metadata": {
    "slideshow": {
     "slide_type": "fragment"
    }
   },
   "outputs": [
    {
     "data": {
      "text/plain": [
       "'John is 19 years old and his GPA is 19.57.'"
      ]
     },
     "execution_count": 602,
     "metadata": {},
     "output_type": "execute_result"
    }
   ],
   "source": [
    "age = 19\n",
    "name = \"John\"\n",
    "gpa = 19.57\n",
    "\n",
    "\"%(name)s is %(age)d years old and his GPA is %(gpa).2f.\" % {\"name\": name, \"age\": age, \"gpa\": gpa}"
   ]
  },
  {
   "cell_type": "markdown",
   "id": "0f4540a2",
   "metadata": {
    "slideshow": {
     "slide_type": "subslide"
    }
   },
   "source": [
    "## `str.format`\n",
    "\n",
    "- `str.format` method can be called on a string object that includes `{}` replacement fields.\n",
    "- Usual formatting conversion specifiers can be used.\n",
    "\n",
    "For complete reference to formatting and specifications, see:\n",
    "- [str.format documentation](https://docs.python.org/3/library/stdtypes.html#str.format)\n",
    "- [Format String Syntax](https://docs.python.org/3/library/string.html#format-string-syntax)"
   ]
  },
  {
   "cell_type": "code",
   "execution_count": 606,
   "id": "fe66334d",
   "metadata": {
    "slideshow": {
     "slide_type": "subslide"
    }
   },
   "outputs": [
    {
     "data": {
      "text/plain": [
       "'John is 19 years old and his GPA is 19.57.'"
      ]
     },
     "execution_count": 606,
     "metadata": {},
     "output_type": "execute_result"
    }
   ],
   "source": [
    "age = 19\n",
    "\n",
    "\"John is {} years old and his GPA is 19.57.\".format(age)"
   ]
  },
  {
   "cell_type": "code",
   "execution_count": 608,
   "id": "d628c9b1",
   "metadata": {
    "slideshow": {
     "slide_type": "fragment"
    }
   },
   "outputs": [
    {
     "data": {
      "text/plain": [
       "'John is 19 years old and his GPA is 19.57.'"
      ]
     },
     "execution_count": 608,
     "metadata": {},
     "output_type": "execute_result"
    }
   ],
   "source": [
    "age = 19\n",
    "name = \"John\"\n",
    "\n",
    "\"{1} is {0} years old and his GPA is 19.57.\".format(age, name)"
   ]
  },
  {
   "cell_type": "code",
   "execution_count": 621,
   "id": "a79b131b",
   "metadata": {
    "slideshow": {
     "slide_type": "fragment"
    }
   },
   "outputs": [
    {
     "data": {
      "text/plain": [
       "'John is 19 years old and his GPA is 19.57.'"
      ]
     },
     "execution_count": 621,
     "metadata": {},
     "output_type": "execute_result"
    }
   ],
   "source": [
    "age = 19\n",
    "name = \"John\"\n",
    "gpa = 19.57\n",
    "\n",
    "\"{1} is {0} years old and his GPA is {2:.2f}.\".format(age, name, gpa)"
   ]
  },
  {
   "cell_type": "code",
   "execution_count": 622,
   "id": "dcc45d73",
   "metadata": {
    "slideshow": {
     "slide_type": "fragment"
    }
   },
   "outputs": [
    {
     "data": {
      "text/plain": [
       "'John is 19 years old and his GPA is 19.57.'"
      ]
     },
     "execution_count": 622,
     "metadata": {},
     "output_type": "execute_result"
    }
   ],
   "source": [
    "age = 19\n",
    "name = \"John\"\n",
    "gpa = 19.57\n",
    "\n",
    "\"{name} is {age} years old and his GPA is {gpa}.\".format(age=age, name=name, gpa=gpa)"
   ]
  },
  {
   "cell_type": "markdown",
   "id": "a95f9e03",
   "metadata": {
    "slideshow": {
     "slide_type": "subslide"
    }
   },
   "source": [
    "## String interpolation\n",
    "\n",
    "- String interpolation can be performed via `f`-strings.\n",
    "- `f`-strings allow us to embed expressions inside string literals.\n",
    "- Usual formatting conversion specifiers can be used.\n",
    "\n",
    "For complete reference to formatting and specifications, see:\n",
    "- [PEP 498 – Literal String Interpolation](https://peps.python.org/pep-0498/)\n",
    "- [Format String Syntax](https://docs.python.org/3/library/string.html#format-string-syntax)"
   ]
  },
  {
   "cell_type": "code",
   "execution_count": 625,
   "id": "8f614767",
   "metadata": {
    "slideshow": {
     "slide_type": "subslide"
    }
   },
   "outputs": [
    {
     "data": {
      "text/plain": [
       "'John is 19 years old and his GPA is 19.57.'"
      ]
     },
     "execution_count": 625,
     "metadata": {},
     "output_type": "execute_result"
    }
   ],
   "source": [
    "age = 19\n",
    "name = \"John\"\n",
    "gpa = 19.57\n",
    "\n",
    "f\"{name} is {age} years old and his GPA is {gpa}.\""
   ]
  },
  {
   "cell_type": "code",
   "execution_count": 626,
   "id": "443c417c",
   "metadata": {
    "slideshow": {
     "slide_type": "fragment"
    }
   },
   "outputs": [
    {
     "data": {
      "text/plain": [
       "'John is 19 years old and his GPA is 19.57.'"
      ]
     },
     "execution_count": 626,
     "metadata": {},
     "output_type": "execute_result"
    }
   ],
   "source": [
    "born = 2004\n",
    "\n",
    "f\"John is {2023 - born} years old and his GPA is 19.57.\""
   ]
  },
  {
   "cell_type": "code",
   "execution_count": 632,
   "id": "8ef1a53e",
   "metadata": {
    "slideshow": {
     "slide_type": "fragment"
    }
   },
   "outputs": [
    {
     "data": {
      "text/plain": [
       "'John is 19 years old and his GPA is 18.67.'"
      ]
     },
     "execution_count": 632,
     "metadata": {},
     "output_type": "execute_result"
    }
   ],
   "source": [
    "born = 2004\n",
    "grade1 = 19\n",
    "grade2 = 17\n",
    "grade3 = 20\n",
    "\n",
    "f\"John is {2023 - born} years old and his GPA is {((grade1 + grade2 + grade3) / 3):.2f}.\""
   ]
  }
 ],
 "metadata": {
  "celltoolbar": "Slideshow",
  "kernelspec": {
   "display_name": "Python 3 (ipykernel)",
   "language": "python",
   "name": "python3"
  },
  "language_info": {
   "codemirror_mode": {
    "name": "ipython",
    "version": 3
   },
   "file_extension": ".py",
   "mimetype": "text/x-python",
   "name": "python",
   "nbconvert_exporter": "python",
   "pygments_lexer": "ipython3",
   "version": "3.8.10"
  },
  "vscode": {
   "interpreter": {
    "hash": "916dbcbb3f70747c44a77c7bcd40155683ae19c65e1c03b4aa3499c5328201f1"
   }
  }
 },
 "nbformat": 4,
 "nbformat_minor": 5
}
