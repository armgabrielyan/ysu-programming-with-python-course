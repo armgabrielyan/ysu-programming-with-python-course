{
 "cells": [
  {
   "cell_type": "markdown",
   "id": "70e592c3",
   "metadata": {},
   "source": [
    "# Programming with Python\n",
    "\n",
    "## Lecture 05: Type hints\n",
    "\n",
    "### Armen Gabrielyan\n",
    "\n",
    "#### Yerevan State University / ASDS\n",
    "\n",
    "#### 15 Mar, 2025"
   ]
  },
  {
   "cell_type": "markdown",
   "id": "8c724b91",
   "metadata": {},
   "source": [
    "## Generic Mappings\n",
    "\n",
    "Generic mapping types are annotated as `MappingType[KeyType, ValueType]`.\n",
    "\n",
    "- `dict`\n",
    "- `abc.Mapping`\n",
    "- `abc.MutableMapping`\n",
    "- `abc.MappingView`"
   ]
  },
  {
   "cell_type": "markdown",
   "id": "0fc04025",
   "metadata": {},
   "source": [
    "### Practice\n",
    "\n",
    "Show example 1."
   ]
  },
  {
   "cell_type": "markdown",
   "id": "ebf46a34",
   "metadata": {},
   "source": [
    "## Abstract Base Classes\n",
    "\n",
    "> Be conservative in what you send, be liberal in what you accept.\n",
    ">\n",
    "> —Postel’s law, a.k.a. the Robustness Principle\n",
    "\n",
    "It is generally better to use abstract types for arguments (such as `abc.Collection` and `abc.Mapping`) and more concrete types for return values (such as `list` and `dict`)."
   ]
  },
  {
   "cell_type": "markdown",
   "id": "314eb175",
   "metadata": {},
   "source": [
    "### Practice\n",
    "\n",
    "Show example 2."
   ]
  },
  {
   "cell_type": "markdown",
   "id": "576e93db",
   "metadata": {},
   "source": [
    "## Iterable\n",
    "\n",
    "The `Iterable` type is used to define objects that can be iterated over, such as those that support looping with a `for` loop or that can return an iterator."
   ]
  },
  {
   "cell_type": "markdown",
   "id": "2936b071",
   "metadata": {},
   "source": [
    "### Practice\n",
    "\n",
    "Show example 3."
   ]
  },
  {
   "cell_type": "markdown",
   "id": "e1ef64ec",
   "metadata": {},
   "source": [
    "## Parameterized Generics and `TypeVar`\n",
    "\n",
    "Parameterized Generics are a way to define functions, methods, or classes that can handle a variety of types, but where the type can be specified at runtime. The idea is to allow a type to be \"parameterized\" with a type variable, so that the same function or class can work with many types of data.\n",
    "\n",
    "`TypeVar` is a generic type variable that allows you to define a placeholder for a specific type. You can use `TypeVar` to specify that a function, method, or class works with one or more types, but without specifying what the type is at the time of defining it."
   ]
  },
  {
   "cell_type": "markdown",
   "id": "3174c637",
   "metadata": {},
   "source": [
    "### Practice\n",
    "\n",
    "Show example 4."
   ]
  },
  {
   "cell_type": "markdown",
   "id": "ea3a318c",
   "metadata": {},
   "source": [
    "## Restricted `TypeVar`\n",
    "\n",
    "Restricted `TypeVar` is used to limit the types that a `TypeVar` can take by specifying multiple possible types it can be. \n",
    "\n",
    "For example,\n",
    "\n",
    "```python\n",
    "T = TypeVar(\"T\", int, float)\n",
    "```"
   ]
  },
  {
   "cell_type": "markdown",
   "id": "1961e8ce",
   "metadata": {},
   "source": [
    "### Practice\n",
    "\n",
    "Show example 5."
   ]
  },
  {
   "cell_type": "markdown",
   "id": "8f9f0f46",
   "metadata": {},
   "source": [
    "## Bounded `TypeVar`\n",
    "\n",
    "When you restrict a `TypeVar` by a bound, it means the type variable can only be consistent-with the type specified in the bound.\n",
    "\n",
    "For example,\n",
    "\n",
    "```python\n",
    "T = TypeVar(\"T\", bound=SomeType)\n",
    "```"
   ]
  },
  {
   "cell_type": "markdown",
   "id": "c209cfd3",
   "metadata": {},
   "source": [
    "### Practice\n",
    "\n",
    "Show example 6."
   ]
  },
  {
   "cell_type": "markdown",
   "id": "d002e0ec",
   "metadata": {},
   "source": [
    "## Protocols\n",
    "\n",
    "In Python's type system, **protocols** are a way to define and enforce certain methods or behaviors that an object should implement, without requiring the object to be a specific class or subclass. This concept is part of structural typing, which is different from nominal typing (which requires exact inheritance). Protocols are typically used to describe how an object behaves rather than what class it belongs to.\n",
    "\n",
    "Protocols are introduced in [PEP 544](https://peps.python.org/pep-0544/).\n",
    "\n",
    "You define a protocol by inheriting from `typing.Protocol`. A class or object that has the required methods (even without explicit inheritance) is said to adhere to the protocol."
   ]
  },
  {
   "cell_type": "markdown",
   "id": "5367f5bc",
   "metadata": {},
   "source": [
    "### Practice\n",
    "\n",
    "Show example 7."
   ]
  },
  {
   "cell_type": "markdown",
   "id": "6ef1d673",
   "metadata": {},
   "source": [
    "## Callable\n",
    "\n",
    "The `Callable` type hint from the `typing` module is used to specify that a variable, function parameter, or return type should be a callable object (i.e., a function, method, or any object implementing `__call__`).\n",
    "\n",
    "The basic syntax is as follows:\n",
    "\n",
    "```python\n",
    "from typing import Callable\n",
    "\n",
    "def function_name(callback: Callable[[ArgType1, ArgType2, ...], ReturnType]):\n",
    "    ...\n",
    "```\n",
    "\n",
    "If there is a need to type annotate a flexible function signature, use `Callable[..., ReturnType]`."
   ]
  },
  {
   "cell_type": "markdown",
   "id": "6f960c67",
   "metadata": {},
   "source": [
    "### Practice\n",
    "\n",
    "Show example 8."
   ]
  },
  {
   "cell_type": "markdown",
   "id": "fed45fb5",
   "metadata": {},
   "source": [
    "## Variance\n",
    "\n",
    "**Variance** determines how subtyping relationships in generics behave when passing types to generic classes or functions.\n",
    "\n",
    "### Notation\n",
    "\n",
    "Consider two types `A` and `B`, where `B` is consistent-with `A`, and neither of them is `Any`.\n",
    "\n",
    "We can use the `<:` and `:>` symbols to denote type relationships like this:\n",
    "\n",
    "- `A :> B`: `A` is a supertype-of or the same as `B`.\n",
    "- `B <: A`: `B` is a subtype-of or the same as `A`."
   ]
  },
  {
   "cell_type": "markdown",
   "id": "6c475c16",
   "metadata": {},
   "source": [
    "### Invariant\n",
    "\n",
    "A generic type `L` is **invariant** when there is no supertype or subtype relationship between two parameterized types, regardless of the relationship that may exist between the actual parameters. In other words, if `L` is invariant, then `L[A]` is not a supertype or a subtype of `L[B]`. They are inconsistent in both ways.\n",
    "\n",
    "Python’s mutable collections are invariant by default. The `list` type is a good example: `list[int]` is not consistent-with `list[float]` and vice versa.\n",
    "\n",
    "In general, if a formal type parameter appears in type hints of method arguments, and the same parameter appears in method return types, that parameter must be invariant to ensure type safety when updating and reading from the collection.\n",
    "\n",
    "_Reference:_ Fluent Python, Luciano Ramalho"
   ]
  },
  {
   "cell_type": "markdown",
   "id": "83e3ad13",
   "metadata": {},
   "source": [
    "### Practice\n",
    "\n",
    "Show example 9."
   ]
  },
  {
   "cell_type": "markdown",
   "id": "f808d810",
   "metadata": {},
   "source": [
    "### Covariant\n",
    "\n",
    "Given `A :> B`, a generic type `C` is **covariant** when `C[A] :> C[B]`. Covariant generic types follow the subtype relationship of the actual type parameters.\n",
    "\n",
    "Immutable containers can be covariant. For example, this is how the `typing.FrozenSet` class is documented as a covariant with a type variable using the conventional name `T_co`: \n",
    "\n",
    "```python\n",
    "class FrozenSet(frozenset, AbstractSet[T_co]):\n",
    "```\n",
    "    \n",
    "_Reference:_ Fluent Python, Luciano Ramalho"
   ]
  },
  {
   "cell_type": "markdown",
   "id": "cadcfd50",
   "metadata": {},
   "source": [
    "### Practice\n",
    "\n",
    "Show example 10."
   ]
  },
  {
   "cell_type": "markdown",
   "id": "58259a8a",
   "metadata": {},
   "source": [
    "### Contravariant\n",
    "\n",
    "Given `A :> B`, a generic type `K` is contravariant if `K[A] <: K[B]`. Contravariant generic types reverse the subtype relationship of the actual type parameters.\n",
    "\n",
    "_Reference:_ Fluent Python, Luciano Ramalho"
   ]
  },
  {
   "cell_type": "markdown",
   "id": "699c9d77",
   "metadata": {},
   "source": [
    "### Practice\n",
    "\n",
    "Show example 11."
   ]
  },
  {
   "cell_type": "markdown",
   "id": "20423f3a",
   "metadata": {},
   "source": [
    "## NoReturn\n",
    "\n",
    "`NoReturn` is a special type hint in Python’s `typing` module used to indicate that a function never returns a value. Usually, the function with `NoReturn` type annotation raises an exception."
   ]
  },
  {
   "cell_type": "markdown",
   "id": "369775ac",
   "metadata": {},
   "source": [
    "### Practice\n",
    "\n",
    "Show example 12."
   ]
  },
  {
   "cell_type": "markdown",
   "id": "67a8b11d",
   "metadata": {},
   "source": [
    "## Annotating positional only and variadic parameters\n",
    "\n",
    "```python\n",
    "def sample_function(x: int, /, y: float, *args: str, **kwargs: bool) -> None:\n",
    "    print(f\"x: {x}, y: {y}\")\n",
    "    print(f\"args: {args}\")\n",
    "    print(f\"kwargs: {kwargs}\")\n",
    "```\n",
    "\n",
    "- All arguments in `*args` must be of type `str`. The type of the `args` local variable in the function body will be `tuple[str, ...]`.\n",
    "- The type hint for the arbitrary keyword arguments `kwargs` inside the function will be `dict[str, bool]`."
   ]
  },
  {
   "cell_type": "markdown",
   "id": "198496db",
   "metadata": {},
   "source": [
    "### Practice\n",
    "\n",
    "Show example 13."
   ]
  },
  {
   "cell_type": "markdown",
   "id": "851c65cf",
   "metadata": {},
   "source": [
    "## ABCs and Goose typing\n",
    "\n",
    "**Abstract base classes** complement duck-typing by providing a way to define interfaces when other techniques like `hasattr()` would be clumsy or subtly wrong (for example with magic methods). ABCs introduce virtual subclasses, which are classes that don’t inherit from a class but are still recognized by `isinstance()` and `issubclass()`; see the `abc` module documentation. Python comes with many built-in ABCs for data structures (in the `collections.abc` module), numbers (in the `numbers` module), streams (in the `io` module), import finders and loaders (in the `importlib.abc` module). You can create your own ABCs with the `abc` module.\n",
    "\n",
    "*Reference:* [Python glossary](https://docs.python.org/3/glossary.html)\n",
    "\n",
    "**Goose typing** entails:\n",
    "\n",
    "- Subclassing from ABCs to make it explict that you are implementing a previously defined interface.\n",
    "- Runtime type checking using ABCs instead of concrete classes as the second argument for `isinstance` and `issubclass`.\n",
    "\n",
    "ABCs are meant to encapsulate very general concepts, abstractions, introduced by a framework—things like “a sequence” and “an exact number.” [Readers] most likely don’t need to write any new ABCs, just use existing ones correctly, to get 99.9% of the benefits without serious risk of misdesign.\n",
    "\n",
    "_Reference:_ Fluent Python, Luciano Ramalho"
   ]
  },
  {
   "cell_type": "markdown",
   "id": "b8cb85db",
   "metadata": {},
   "source": [
    "### Practice\n",
    "\n",
    "Show example 14.\n",
    "\n",
    "See [collections.abc](https://docs.python.org/3/library/collections.abc.html#collections-abstract-base-classes) for ABCs provided by `collections.abc` module."
   ]
  },
  {
   "cell_type": "markdown",
   "id": "3c9b05f1",
   "metadata": {},
   "source": [
    "## Defining a custom ABC\n",
    "\n",
    "Creating a custom abstract base class (ABC) in Python involves using the `abc` module, which allows you to define abstract methods and properties that must be implemented in subclasses.\n",
    "\n",
    "Inherit from `abc.ABC` to create an abstract base class. Use `@abc.abstractmethod` to define methods that must be overridden in subclasses. Optionally, use `@property` with `@abstractmethod` to enforce abstract properties, `@classmethod` and `@staticmethod` as abstract class and static methods.\n",
    "\n",
    "\n",
    "```python\n",
    "class C(ABC):\n",
    "    @abstractmethod\n",
    "    def my_abstract_method(self, arg1):\n",
    "        ...\n",
    "    @classmethod\n",
    "    @abstractmethod\n",
    "    def my_abstract_classmethod(cls, arg2):\n",
    "        ...\n",
    "    @staticmethod\n",
    "    @abstractmethod\n",
    "    def my_abstract_staticmethod(arg3):\n",
    "        ...\n",
    "\n",
    "    @property\n",
    "    @abstractmethod\n",
    "    def my_abstract_property(self):\n",
    "        ...\n",
    "    @my_abstract_property.setter\n",
    "    @abstractmethod\n",
    "    def my_abstract_property(self, val):\n",
    "        ...\n",
    "```"
   ]
  },
  {
   "cell_type": "markdown",
   "id": "ab59c80d",
   "metadata": {},
   "source": [
    "### Practice\n",
    "\n",
    "Show example 15."
   ]
  },
  {
   "cell_type": "markdown",
   "id": "80920cea",
   "metadata": {},
   "source": [
    "## Structural typing with ABCs\n",
    "\n",
    "Some ABCs also support structural typing, meaning an object is *consistent-with* a type if it implements the methods defined in the type."
   ]
  },
  {
   "cell_type": "code",
   "execution_count": null,
   "id": "58d40502",
   "metadata": {},
   "outputs": [],
   "source": [
    "class FourtyTwo:\n",
    "    def __len__(self): return 42"
   ]
  },
  {
   "cell_type": "code",
   "execution_count": null,
   "id": "0633f1d6",
   "metadata": {},
   "outputs": [],
   "source": [
    "from collections import abc\n",
    "\n",
    "print(isinstance(FourtyTwo(), abc.Sized))\n",
    "print(issubclass(FourtyTwo, abc.Sized))"
   ]
  },
  {
   "cell_type": "markdown",
   "id": "d4e4844e",
   "metadata": {},
   "source": [
    "Class `FourtyTwo` is considered a subclass of `abc.Sized` by the `issubclass` function (and, consequently, by `isinstance` as well) because `abc.Sized` implements a special class method named `__subclasshook__`. The `__subclasshook__` for `Sized` checks whether the class argument has an attribute named `__len__`. If it does, then it is considered a virtual subclass of `Sized`.\n",
    "\n",
    "\n",
    "```python\n",
    "class Sized(metaclass=ABCMeta):\n",
    "    __slots__ = ()\n",
    "    \n",
    "    @abstractmethod\n",
    "    def __len__(self):\n",
    "        return 0\n",
    "    \n",
    "    @classmethod\n",
    "    def __subclasshook__(cls, C):\n",
    "        if cls is Sized:\n",
    "            if any(\"__len__\" in B.__dict__ for B in C.__mro__):\n",
    "                return True\n",
    "        return NotImplemented\n",
    "```"
   ]
  },
  {
   "cell_type": "markdown",
   "id": "16a1dc75",
   "metadata": {},
   "source": [
    "## Overloaded signatures\n",
    "\n",
    "`@overload` is a decorator from the `typing` module used for function overloading in type hints. It allows you to specify multiple type signatures for a function without actually implementing multiple versions. The actual function implementation follows the overload definitions and must be written separately.\n",
    "\n",
    "- `@overload` is only for type hints and does not affect runtime behavior.\n",
    "- You must provide a separate function implementation without the `@overload` decorator.\n",
    "- The type checker (e.g. `mypy`) uses the `@overload` signatures to infer types."
   ]
  },
  {
   "cell_type": "markdown",
   "id": "d012b860",
   "metadata": {},
   "source": [
    "### Practice\n",
    "\n",
    "Show example 16."
   ]
  },
  {
   "cell_type": "markdown",
   "id": "d79b4164",
   "metadata": {},
   "source": [
    "## TypedDict\n",
    "\n",
    "`TypedDict` declares a dictionary type that expects all of its instances to have a certain set of keys, where each key is associated with a value of a consistent type. This expectation is not checked at runtime but is only enforced by type checkers.\n",
    "\n",
    "It’s tempting to use TypedDict to protect against errors while handling dynamic data structures like JSON API responses. But correct handling of JSON must be done at runtime, and not with static type checking. For runtime\n",
    "checking of JSON-like structures using type hints, check out the `pydantic` package.\n",
    "\n",
    "*References:*\n",
    "\n",
    "- [TypedDict](https://docs.python.org/3/library/typing.html#typing.TypedDict)\n",
    "- Fluent Python, Luciano Ramalho"
   ]
  },
  {
   "cell_type": "markdown",
   "id": "71c87919",
   "metadata": {},
   "source": [
    "### Practice\n",
    "\n",
    "Show example 17."
   ]
  },
  {
   "cell_type": "markdown",
   "id": "707314d5",
   "metadata": {},
   "source": [
    "## Type casting\n",
    "\n",
    "`typing.cast` is used to explicitly tell the type checker that an expression should be treated as a specific type. It does not change the actual value at runtime but is useful for static type checking with tools like `mypy`."
   ]
  },
  {
   "cell_type": "markdown",
   "id": "33b381bd",
   "metadata": {},
   "source": [
    "### Practice\n",
    "\n",
    "Show example 18."
   ]
  },
  {
   "cell_type": "markdown",
   "id": "57b03505",
   "metadata": {},
   "source": [
    "# Generic\n",
    "\n",
    "**Generic classes** allow defining reusable classes that can handle multiple types while maintaining type safety. They can be defined by using `typing.Generic` abstract base class for generic types."
   ]
  },
  {
   "cell_type": "markdown",
   "id": "45733133",
   "metadata": {},
   "source": [
    "### Practice\n",
    "\n",
    "Show example 19."
   ]
  },
  {
   "cell_type": "markdown",
   "id": "e871f7dc",
   "metadata": {},
   "source": [
    "## Generic static protocols\n",
    "\n",
    "**Generic static protocols** allow defining interfaces that enforce structure while keeping type flexibility. They are useful when designing generic utilities, factories or contracts.\n",
    "\n",
    "`typing` module includes several generic static protocols, such as `SupportsAbs`, `SupportsInt`, `SupportsFloat`."
   ]
  },
  {
   "cell_type": "markdown",
   "id": "1062e0b4",
   "metadata": {},
   "source": [
    "## `typing.runtime_checkable`\n",
    "\n",
    "The `@runtime_checkable` decorator from `typing` allows protocols to be checked at runtime using `isinstance()` and `issubclass()`. This is useful when working with structural checks similar to abstract base classes."
   ]
  },
  {
   "cell_type": "markdown",
   "id": "3580f4f3",
   "metadata": {},
   "source": [
    "### Practice\n",
    "\n",
    "Show example 20."
   ]
  }
 ],
 "metadata": {
  "kernelspec": {
   "display_name": "Python 3 (ipykernel)",
   "language": "python",
   "name": "python3"
  },
  "language_info": {
   "codemirror_mode": {
    "name": "ipython",
    "version": 3
   },
   "file_extension": ".py",
   "mimetype": "text/x-python",
   "name": "python",
   "nbconvert_exporter": "python",
   "pygments_lexer": "ipython3",
   "version": "3.12.9"
  }
 },
 "nbformat": 4,
 "nbformat_minor": 5
}
