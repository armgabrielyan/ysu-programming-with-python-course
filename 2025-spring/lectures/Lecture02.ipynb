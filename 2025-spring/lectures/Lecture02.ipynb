{
 "cells": [
  {
   "cell_type": "markdown",
   "id": "70e592c3",
   "metadata": {},
   "source": [
    "# Programming with Python\n",
    "\n",
    "## Lecture 02: Object-oriented programming\n",
    "\n",
    "### Armen Gabrielyan\n",
    "\n",
    "#### Yerevan State University / ASDS\n",
    "\n",
    "#### 15 Feb, 2025"
   ]
  },
  {
   "cell_type": "markdown",
   "id": "096a24ad",
   "metadata": {},
   "source": [
    "# Object-oriented programming\n",
    "\n",
    "**Object-oriented programming (OOP)** is a programming paradigm that is based on the idea of objects which bundle related properties and behaviors into individual objects.\n",
    "\n",
    "- object\n",
    "- property\n",
    "- method"
   ]
  },
  {
   "cell_type": "code",
   "execution_count": null,
   "id": "c88c713d",
   "metadata": {},
   "outputs": [],
   "source": [
    "from datetime import date\n",
    "\n",
    "\n",
    "class Person:\n",
    "    species = \"homo sapiens\"\n",
    "    \n",
    "    \n",
    "    def __init__(self, name, age):\n",
    "        self.name = name\n",
    "        self.age = age\n",
    "        \n",
    "    \n",
    "    def introduce_me(self):\n",
    "        return f\"I am {self.name} and I am {self.age} years old.\"\n",
    "    \n",
    "    \n",
    "    def speak(self, text):\n",
    "        return f\"I am {self.name} and I say {text}\"\n",
    "    \n",
    "    \n",
    "    def calculate_birth_year(self):\n",
    "        return date.today().year - self.age\n",
    "    \n",
    "    \n",
    "    def vote(self):\n",
    "        if self.is_adult(self.age):\n",
    "            return \"I am voting\"\n",
    "\n",
    "\n",
    "    @classmethod\n",
    "    def from_birth_year(cls, name, year):\n",
    "        return cls(name, date.today().year - year)\n",
    "    \n",
    "    \n",
    "    @staticmethod\n",
    "    def is_adult(age):\n",
    "        return age >= 18"
   ]
  },
  {
   "cell_type": "markdown",
   "id": "ebce206a",
   "metadata": {},
   "source": [
    "# Class and instance Attributes\n",
    "\n",
    "- **Class attributes** are properties that have the same value for all class instances. They can be created by defining a variable in class body.\n",
    "- **Instance attributes** are properties that are specific to a given class instance. They can be defined in `__init__()` method."
   ]
  },
  {
   "cell_type": "code",
   "execution_count": null,
   "id": "dd6ec82d",
   "metadata": {
    "slideshow": {
     "slide_type": "fragment"
    }
   },
   "outputs": [],
   "source": [
    "person1 = Person(\"John Doe\", 42)\n",
    "\n",
    "person1.name, person1.age"
   ]
  },
  {
   "cell_type": "code",
   "execution_count": null,
   "id": "2af26ba9",
   "metadata": {
    "slideshow": {
     "slide_type": "fragment"
    }
   },
   "outputs": [],
   "source": [
    "person2 = Person(\"Alice Smith\", 24)\n",
    "\n",
    "person2.name, person2.age"
   ]
  },
  {
   "cell_type": "code",
   "execution_count": null,
   "id": "76638e16",
   "metadata": {},
   "outputs": [],
   "source": [
    "Person.species"
   ]
  },
  {
   "cell_type": "markdown",
   "id": "86885ddc",
   "metadata": {},
   "source": [
    "Class attributes can be accessed from instances as well."
   ]
  },
  {
   "cell_type": "code",
   "execution_count": null,
   "id": "97d46ea4",
   "metadata": {
    "slideshow": {
     "slide_type": "fragment"
    }
   },
   "outputs": [],
   "source": [
    "person1.species, person2.species"
   ]
  },
  {
   "cell_type": "markdown",
   "id": "45c7a811",
   "metadata": {
    "slideshow": {
     "slide_type": "slide"
    }
   },
   "source": [
    "# Instance methods\n",
    "\n",
    "**Instance methods** are functions that are defined inside a class and are called from a class instance.\n",
    "\n",
    "They describe the behaviors of an object.\n",
    "\n",
    "They are very similar to `__init__()` method by definition.\n",
    "\n",
    "Although it is possible to call instance methods from a class as well, it is not a best practice."
   ]
  },
  {
   "cell_type": "code",
   "execution_count": null,
   "id": "6dfa3d63",
   "metadata": {},
   "outputs": [],
   "source": [
    "person = Person(\"John Doe\", 42)\n",
    "\n",
    "person.name, person.age"
   ]
  },
  {
   "cell_type": "code",
   "execution_count": null,
   "id": "bb06d778",
   "metadata": {
    "slideshow": {
     "slide_type": "fragment"
    }
   },
   "outputs": [],
   "source": [
    "print(person.introduce_me())\n",
    "print(Person.introduce_me(person))"
   ]
  },
  {
   "cell_type": "code",
   "execution_count": null,
   "id": "9a7ed3d2",
   "metadata": {
    "slideshow": {
     "slide_type": "fragment"
    }
   },
   "outputs": [],
   "source": [
    "print(person.speak(\"'Hello everyone!'\"))\n",
    "print(Person.speak(person, \"'Hello everyone!'\"))"
   ]
  },
  {
   "cell_type": "code",
   "execution_count": null,
   "id": "12f8a1e1",
   "metadata": {
    "slideshow": {
     "slide_type": "fragment"
    }
   },
   "outputs": [],
   "source": [
    "print(person.calculate_birth_year())\n",
    "print(Person.calculate_birth_year(person))"
   ]
  },
  {
   "cell_type": "markdown",
   "id": "7f31ab33",
   "metadata": {
    "slideshow": {
     "slide_type": "slide"
    }
   },
   "source": [
    "# Class methods\n",
    "\n",
    "Built-in `@classmethod` decorator can be used to mark a function a defined inside a class as a **class method**. Instead of accepting instance as a first argument, a class method accepts the class as an implicit first argument, which is usually named `cls`.\n",
    "\n",
    "As class method does not have access to class instance, it cannot modify specific instances. However, it can still mutate class state.\n",
    "\n",
    "Class methods are usually called on classes."
   ]
  },
  {
   "cell_type": "code",
   "execution_count": null,
   "id": "576e4abe",
   "metadata": {
    "slideshow": {
     "slide_type": "fragment"
    }
   },
   "outputs": [],
   "source": [
    "person1 = Person(\"John Doe\", 42)\n",
    "\n",
    "person1.name, person1.age"
   ]
  },
  {
   "cell_type": "code",
   "execution_count": null,
   "id": "6755fd92",
   "metadata": {
    "slideshow": {
     "slide_type": "fragment"
    }
   },
   "outputs": [],
   "source": [
    "person = Person.from_birth_year(\"Bob\", 1990)\n",
    "\n",
    "person.name, person.age"
   ]
  },
  {
   "cell_type": "markdown",
   "id": "e8c7152f",
   "metadata": {},
   "source": [
    "Class methods can be accessed from instances as well."
   ]
  },
  {
   "cell_type": "code",
   "execution_count": null,
   "id": "6a30d41c",
   "metadata": {
    "slideshow": {
     "slide_type": "fragment"
    }
   },
   "outputs": [],
   "source": [
    "person2 = person1.from_birth_year(\"Bob\", 1990)\n",
    "\n",
    "person2.name, person2.age"
   ]
  },
  {
   "cell_type": "markdown",
   "id": "40db21f4",
   "metadata": {
    "slideshow": {
     "slide_type": "slide"
    }
   },
   "source": [
    "# Static methods\n",
    "\n",
    "\n",
    "Built-in `@staticmethod` decorator can be used to mark a function a defined inside a class as a **static method**. Static methods neither accept an instance nor the class as an implicit argument.\n",
    "\n",
    "Additionally, a static method can neither modify object state nor class state. A static method can only access to data they receive as an argument. They are usually used to namespace methods in a class scope.\n",
    "\n",
    "Static methods are usually called on classes."
   ]
  },
  {
   "cell_type": "code",
   "execution_count": null,
   "id": "7a0568f0",
   "metadata": {
    "slideshow": {
     "slide_type": "fragment"
    }
   },
   "outputs": [],
   "source": [
    "person = Person(\"John Doe\", 42)\n",
    "\n",
    "person.vote()"
   ]
  },
  {
   "cell_type": "code",
   "execution_count": null,
   "id": "3871e3b7",
   "metadata": {
    "slideshow": {
     "slide_type": "fragment"
    }
   },
   "outputs": [],
   "source": [
    "person = Person(\"John Doe\", 12)\n",
    "\n",
    "person.vote()"
   ]
  },
  {
   "cell_type": "code",
   "execution_count": null,
   "id": "b1137d3f",
   "metadata": {
    "slideshow": {
     "slide_type": "fragment"
    }
   },
   "outputs": [],
   "source": [
    "Person.is_adult(42)"
   ]
  },
  {
   "cell_type": "code",
   "execution_count": null,
   "id": "13dac9f7",
   "metadata": {
    "slideshow": {
     "slide_type": "fragment"
    }
   },
   "outputs": [],
   "source": [
    "Person.is_adult(12)"
   ]
  },
  {
   "cell_type": "markdown",
   "id": "d9380d12",
   "metadata": {},
   "source": [
    "Static methods can be accessed from instances as well."
   ]
  },
  {
   "cell_type": "code",
   "execution_count": null,
   "id": "7b07ccad",
   "metadata": {},
   "outputs": [],
   "source": [
    "person.is_adult(12)"
   ]
  },
  {
   "cell_type": "markdown",
   "id": "4721b8a3",
   "metadata": {
    "slideshow": {
     "slide_type": "slide"
    }
   },
   "source": [
    "# Core principles of OOP\n",
    "\n",
    "- **Encapsulation:** refers to the practice of bundling data and methods that operate on that data within a single unit or class, and restricting access to that data from outside the class.\n",
    "- **Inheritance:** allows one class to inherit properties, methods, and behavior from another class.\n",
    "- **Polymorphism:** refers to the ability of objects of different types to be used interchangeably, while still maintaining their own individual behavior."
   ]
  },
  {
   "cell_type": "markdown",
   "id": "b51b2916",
   "metadata": {
    "slideshow": {
     "slide_type": "slide"
    }
   },
   "source": [
    "# Encapsulation\n",
    "\n",
    "**Encapsulation** is a fundamental concept in object-oriented programming that refers to the practice of bundling data and methods that operate on that data within a single unit or class, and restricting access to that data from outside the class.\n",
    "\n",
    "In simpler terms, encapsulation means wrapping up the data and methods that work on that data into a single entity, and controlling access to that entity so that it can only be modified or accessed through a well-defined interface. This helps to ensure that the data remains in a consistent state and is not inadvertently modified by code outside the class.\n",
    "\n",
    "In some programming languages, encapsulation is achieved through the use of access modifiers, such as public, private, and protected, which determine the level of access that other code has to the members of a class. However, this is not the case for Python."
   ]
  },
  {
   "cell_type": "markdown",
   "id": "354160be",
   "metadata": {
    "slideshow": {
     "slide_type": "slide"
    }
   },
   "source": [
    "# Private variables via double underscores (name mangling)\n",
    "\n",
    "Since there is a valid use-case for class-private members (namely to avoid name clashes of names with names defined by subclasses), there is limited support for such a mechanism, called name mangling. Any identifier of the form `__spam` (at least two leading underscores, at most one trailing underscore) is textually replaced with `_classname__spam`, where `classname` is the current class name with leading underscore(s) stripped. This mangling is done without regard to the syntactic position of the identifier, as long as it occurs within the definition of a class.\n",
    "\n",
    "Name mangling is intended to give classes an easy way to define “private” instance variables and methods, without having to worry about instance variables defined by derived classes, or mucking with instance variables by code outside the class. Note that the mangling rules are designed mostly to avoid accidents; it still is possible for a determined soul to access or modify a variable that is considered private.\n",
    "\n",
    "Reference: https://docs.python.org/3/tutorial/classes.html#private-variables"
   ]
  },
  {
   "cell_type": "code",
   "execution_count": null,
   "id": "d6db3217",
   "metadata": {
    "slideshow": {
     "slide_type": "slide"
    }
   },
   "outputs": [],
   "source": [
    "class Employee:\n",
    "    def __init__(self, name, salary):\n",
    "        self.__name = name\n",
    "        self.__salary = salary\n",
    "        \n",
    "    def pay(self):\n",
    "        print(f\"{self.__name}'s salary is {self.__salary}\")"
   ]
  },
  {
   "cell_type": "code",
   "execution_count": null,
   "id": "f2bff06f",
   "metadata": {
    "slideshow": {
     "slide_type": "fragment"
    }
   },
   "outputs": [],
   "source": [
    "employee = Employee(\"John Doe\", 100_000)"
   ]
  },
  {
   "cell_type": "code",
   "execution_count": null,
   "id": "a5d1ef5c",
   "metadata": {
    "slideshow": {
     "slide_type": "fragment"
    }
   },
   "outputs": [],
   "source": [
    "employee.pay()"
   ]
  },
  {
   "cell_type": "code",
   "execution_count": null,
   "id": "d27fd088",
   "metadata": {
    "slideshow": {
     "slide_type": "fragment"
    }
   },
   "outputs": [],
   "source": [
    "employee.__name"
   ]
  },
  {
   "cell_type": "code",
   "execution_count": null,
   "id": "0dcbada8",
   "metadata": {
    "slideshow": {
     "slide_type": "fragment"
    }
   },
   "outputs": [],
   "source": [
    "employee.__salary"
   ]
  },
  {
   "cell_type": "code",
   "execution_count": null,
   "id": "0931001c",
   "metadata": {
    "slideshow": {
     "slide_type": "slide"
    }
   },
   "outputs": [],
   "source": [
    "employee.__name = \"John\"\n",
    "employee.__salary = 300_000"
   ]
  },
  {
   "cell_type": "code",
   "execution_count": null,
   "id": "43924e09",
   "metadata": {
    "slideshow": {
     "slide_type": "fragment"
    }
   },
   "outputs": [],
   "source": [
    "employee.pay()"
   ]
  },
  {
   "cell_type": "code",
   "execution_count": null,
   "id": "5d1c2c0f",
   "metadata": {
    "slideshow": {
     "slide_type": "slide"
    }
   },
   "outputs": [],
   "source": [
    "employee._Employee__name, employee._Employee__salary"
   ]
  },
  {
   "cell_type": "code",
   "execution_count": null,
   "id": "77e323c3",
   "metadata": {
    "slideshow": {
     "slide_type": "fragment"
    }
   },
   "outputs": [],
   "source": [
    "employee._Employee__name = \"Alice\"\n",
    "employee._Employee__salary = 200_000\n",
    "\n",
    "employee.pay()"
   ]
  },
  {
   "cell_type": "markdown",
   "id": "177fa045",
   "metadata": {
    "slideshow": {
     "slide_type": "slide"
    }
   },
   "source": [
    "# `__dict__` property\n",
    "\n",
    "`object.__dict__` is a dictionary or other mapping object used to store an object’s (writable) attributes."
   ]
  },
  {
   "cell_type": "code",
   "execution_count": null,
   "id": "7d748b8e",
   "metadata": {
    "slideshow": {
     "slide_type": "fragment"
    }
   },
   "outputs": [],
   "source": [
    "employee.__dict__"
   ]
  },
  {
   "cell_type": "markdown",
   "id": "b32631ae",
   "metadata": {
    "slideshow": {
     "slide_type": "slide"
    }
   },
   "source": [
    "# Private variables via a single underscore (convention)\n",
    "\n",
    "The single underscore prefix has no special meaning to the Python interpreter when used in attribute names, but it’s a very strong convention among Python programmers that you should not access such attributes from outside the class.\n",
    "\n",
    "Attributes with a single `_` prefix are called “protected” in some corners of the Python documentation. The practice of “protecting” attributes by convention with the form `self._x` is widespread, but calling that a “protected” attribute is not so common. Some even call that a “private” attribute.\n",
    "\n",
    "Reference: Fluent Python, Luciano Ramalho"
   ]
  },
  {
   "cell_type": "code",
   "execution_count": null,
   "id": "3418dcf1",
   "metadata": {
    "slideshow": {
     "slide_type": "slide"
    }
   },
   "outputs": [],
   "source": [
    "class Employee:\n",
    "    def __init__(self, name, salary):\n",
    "        self._name = name\n",
    "        self._salary = salary\n",
    "\n",
    "    def pay(self):\n",
    "        print(f\"{self._name}'s salary is {self._salary}\")"
   ]
  },
  {
   "cell_type": "code",
   "execution_count": null,
   "id": "35425c0d",
   "metadata": {
    "slideshow": {
     "slide_type": "fragment"
    }
   },
   "outputs": [],
   "source": [
    "employee = Employee(\"John Doe\", 100_000)"
   ]
  },
  {
   "cell_type": "code",
   "execution_count": null,
   "id": "fae351fa",
   "metadata": {
    "slideshow": {
     "slide_type": "fragment"
    }
   },
   "outputs": [],
   "source": [
    "employee.pay()"
   ]
  },
  {
   "cell_type": "code",
   "execution_count": null,
   "id": "82cbbc94",
   "metadata": {
    "slideshow": {
     "slide_type": "fragment"
    }
   },
   "outputs": [],
   "source": [
    "employee.__dict__"
   ]
  },
  {
   "cell_type": "markdown",
   "id": "c722f4e5",
   "metadata": {
    "slideshow": {
     "slide_type": "slide"
    }
   },
   "source": [
    "### The following should NOT be done"
   ]
  },
  {
   "cell_type": "code",
   "execution_count": null,
   "id": "2569fbf7",
   "metadata": {
    "slideshow": {
     "slide_type": "fragment"
    }
   },
   "outputs": [],
   "source": [
    "employee._name, employee._salary"
   ]
  },
  {
   "cell_type": "code",
   "execution_count": null,
   "id": "e463478d",
   "metadata": {
    "slideshow": {
     "slide_type": "fragment"
    }
   },
   "outputs": [],
   "source": [
    "employee._name = \"Alice\"\n",
    "employee._salary = 200_000"
   ]
  },
  {
   "cell_type": "code",
   "execution_count": null,
   "id": "e7107767",
   "metadata": {
    "slideshow": {
     "slide_type": "fragment"
    }
   },
   "outputs": [],
   "source": [
    "employee.pay()"
   ]
  },
  {
   "cell_type": "code",
   "execution_count": null,
   "id": "1fbb4e53",
   "metadata": {},
   "outputs": [],
   "source": [
    "employee"
   ]
  },
  {
   "cell_type": "markdown",
   "id": "e1eeacc8",
   "metadata": {
    "slideshow": {
     "slide_type": "slide"
    }
   },
   "source": [
    "# Getters and setters\n",
    "\n",
    "Getters and setters are methods that are used to access and modify the values of private attributes in a class. They are a common technique used in object-oriented programming to implement encapsulation.\n",
    "\n",
    "A getter is a method that is used to retrieve the value of a private attribute. It is usually named with the prefix `get_` followed by the name of the attribute.\n",
    "\n",
    "A setter, on the other hand, is a method that is used to set the value of a private attribute. It is usually named with the prefix `set_` followed by the name of the attribute. "
   ]
  },
  {
   "cell_type": "markdown",
   "id": "d26c9e78",
   "metadata": {
    "slideshow": {
     "slide_type": "slide"
    }
   },
   "source": [
    "# `property()` as a Pythonic way to define getters and setters\n",
    "\n",
    "`property(fget=None, fset=None, fdel=None, doc=None)` is a built-in function that can be used to return properties.\n",
    "\n",
    "- `fget` is a function for getting an attribute value.\n",
    "- `fset` is a function for setting an attribute value.\n",
    "- `fdel` is a function for deleting an attribute value.\n",
    "- `doc` creates a docstring for the attribute.\n",
    "\n",
    "`property()` function can be used as a decorator to create read-only properties.\n",
    "\n",
    "A property object has `getter`, `setter`, and `deleter` methods usable as decorators that create a copy of the property with the corresponding accessor function set to the decorated function."
   ]
  },
  {
   "cell_type": "code",
   "execution_count": null,
   "id": "9f708828",
   "metadata": {
    "slideshow": {
     "slide_type": "slide"
    }
   },
   "outputs": [],
   "source": [
    "class Employee:\n",
    "    def __init__(self, name, salary):\n",
    "        self._name = name\n",
    "        self._salary = salary\n",
    "\n",
    "    def pay(self):\n",
    "        print(f\"{self._name}'s salary is {self._salary}\")\n",
    "        \n",
    "    @property\n",
    "    def name(self):\n",
    "        return self._name\n",
    "    \n",
    "    @name.setter\n",
    "    def name(self, name):\n",
    "        if isinstance(name, str):\n",
    "            self._name = name\n",
    "        else:\n",
    "            print(\"Name attribute should be string\")\n",
    "            \n",
    "    @name.deleter\n",
    "    def name(self):\n",
    "        print(\"Name attribute is deleted\")\n",
    "    \n",
    "    @property\n",
    "    def salary(self):\n",
    "        return self._salary\n",
    "    \n",
    "    @salary.setter\n",
    "    def salary(self, salary):\n",
    "        if isinstance(salary, float) or isinstance(salary, int):\n",
    "            self._salary = salary\n",
    "        else:\n",
    "            print(\"Salary attribute should be number\")"
   ]
  },
  {
   "cell_type": "code",
   "execution_count": null,
   "id": "a6dc48f2",
   "metadata": {
    "slideshow": {
     "slide_type": "subslide"
    }
   },
   "outputs": [],
   "source": [
    "employee = Employee(\"John Doe\", 100_000)"
   ]
  },
  {
   "cell_type": "code",
   "execution_count": null,
   "id": "e439f4d9",
   "metadata": {
    "slideshow": {
     "slide_type": "fragment"
    }
   },
   "outputs": [],
   "source": [
    "employee.name, employee.salary"
   ]
  },
  {
   "cell_type": "code",
   "execution_count": null,
   "id": "91418c7f",
   "metadata": {
    "slideshow": {
     "slide_type": "fragment"
    }
   },
   "outputs": [],
   "source": [
    "employee.pay()"
   ]
  },
  {
   "cell_type": "code",
   "execution_count": null,
   "id": "b6bf0ef2",
   "metadata": {
    "slideshow": {
     "slide_type": "fragment"
    }
   },
   "outputs": [],
   "source": [
    "employee.name = \"Alice\"\n",
    "employee.salary = 200_000"
   ]
  },
  {
   "cell_type": "code",
   "execution_count": null,
   "id": "1e7096c8",
   "metadata": {
    "slideshow": {
     "slide_type": "fragment"
    }
   },
   "outputs": [],
   "source": [
    "employee.pay()"
   ]
  },
  {
   "cell_type": "code",
   "execution_count": null,
   "id": "d87905d0",
   "metadata": {
    "slideshow": {
     "slide_type": "fragment"
    }
   },
   "outputs": [],
   "source": [
    "employee.name = 42"
   ]
  },
  {
   "cell_type": "code",
   "execution_count": null,
   "id": "5f328657",
   "metadata": {
    "slideshow": {
     "slide_type": "fragment"
    }
   },
   "outputs": [],
   "source": [
    "employee.salary = \"fourty two\""
   ]
  },
  {
   "cell_type": "code",
   "execution_count": null,
   "id": "a7c0c109",
   "metadata": {},
   "outputs": [],
   "source": [
    "del employee.name"
   ]
  },
  {
   "cell_type": "markdown",
   "id": "14932650",
   "metadata": {
    "slideshow": {
     "slide_type": "slide"
    }
   },
   "source": [
    "# Inheritance\n",
    "\n",
    "**Inheritance** is a fundamental concept in object-oriented programming (OOP) that allows one class to inherit the properties and methods of another class. It promotes the reuse of code and modularity in software design by enabling the creation of new classes based on existing ones, without the need to rewrite the same code.\n",
    "\n",
    "In OOP, classes are used to represent real-world objects or concepts, and each class can have attributes (data members) and methods (functions). Inheritance establishes a relationship between two classes, where one class (called the subclass or derived class) inherits from another class (called the superclass or base class). The subclass can then reuse or override the attributes and methods of the superclass, and it can also add new attributes or methods of its own."
   ]
  },
  {
   "cell_type": "markdown",
   "id": "14d7e4eb",
   "metadata": {
    "slideshow": {
     "slide_type": "slide"
    }
   },
   "source": [
    "# Benefits\n",
    "\n",
    "- **Code Reusability:** Inheritance allows you to reuse code from existing classes, reducing redundancy and promoting consistency in your codebase.\n",
    "- **Modularity:** Inheritance promotes a modular design, making it easier to maintain, update, and extend your code.\n",
    "- **Abstraction:** By inheriting from a base class, derived classes can abstract away implementation details, focusing only on the specific functionality they need to provide.\n",
    "- **Polymorphism:** Inheritance enables polymorphism, allowing you to interact with different objects through a common interface, which can simplify code and improve flexibility."
   ]
  },
  {
   "cell_type": "markdown",
   "id": "3de5fa3b",
   "metadata": {
    "slideshow": {
     "slide_type": "slide"
    }
   },
   "source": [
    "# Concepts \n",
    "\n",
    "- A **parent class** is a class being inherited from, also known as **base class** or **super class**.\n",
    "- A **child class** is a class that inherits from another class, also known as **derived class** or **subclass**.\n",
    "- A derived class is said to **derive**, **inherit**, or **extend** a base class.\n",
    "- Inheritance models an **is a** relationship, indicating that the derived class is a specialized version of the base class.\n",
    "- Inheritance is used for resolving attribute references: if a requested attribute is not found in the class, the search proceeds to look in the base class.\n",
    "- Derived classes can override methods from the base class if needed."
   ]
  },
  {
   "cell_type": "markdown",
   "id": "e7ef9e84",
   "metadata": {
    "slideshow": {
     "slide_type": "slide"
    }
   },
   "source": [
    "# Method overriding\n",
    "\n",
    "Method overriding allows a derived class to define a specific implementation for methods that are already defined in base class."
   ]
  },
  {
   "cell_type": "markdown",
   "id": "0efb01c7",
   "metadata": {
    "slideshow": {
     "slide_type": "slide"
    }
   },
   "source": [
    "# `super()` function\n",
    "\n",
    "`super()` function can be used to get access to methods and properties of a parent or sibling class. It returns an object that models the parent class."
   ]
  },
  {
   "cell_type": "markdown",
   "id": "c5428e8b",
   "metadata": {
    "slideshow": {
     "slide_type": "slide"
    }
   },
   "source": [
    "# Hierarchy of classes\n",
    "\n",
    "Several classes can inherit from each other in a chain, forming a hierarchy of classes."
   ]
  },
  {
   "cell_type": "code",
   "execution_count": null,
   "id": "d66b3df1",
   "metadata": {},
   "outputs": [],
   "source": [
    "class Person:\n",
    "    def __init__(self, name, age):\n",
    "        self._name = name\n",
    "        self._age = age\n",
    "    \n",
    "    @property\n",
    "    def name(self):\n",
    "        return self._name\n",
    "    \n",
    "    @property\n",
    "    def age(self):\n",
    "        return self._age\n",
    "    \n",
    "    def introduce_me(self):\n",
    "        return f\"I am {self._name} and I am {self._age} years old.\""
   ]
  },
  {
   "cell_type": "code",
   "execution_count": null,
   "id": "1120aff0",
   "metadata": {},
   "outputs": [],
   "source": [
    "from statistics import mean\n",
    "\n",
    "class Student(Person):\n",
    "    def __init__(self, name, age, university, subject):\n",
    "        super().__init__(name, age)\n",
    "        self._university = university\n",
    "        self._subject = subject\n",
    "        self._grades = {}\n",
    "    \n",
    "    @property\n",
    "    def university(self):\n",
    "        return self._university\n",
    "    \n",
    "    def introduce_me(self):\n",
    "        intro = super().introduce_me()\n",
    "        return f\"{intro} I am a student from {self._university}.\"\n",
    "    \n",
    "    def learn(self):\n",
    "        return f\"I am learning {self._subject}\"\n",
    "    \n",
    "    def add_grade(self, subject, grade):\n",
    "        self._grades[subject] = grade\n",
    "        \n",
    "    def calculate_gpa(self):\n",
    "        gpa = mean(self._grades.values())\n",
    "        gpa = round(gpa, 2)\n",
    "        return gpa"
   ]
  },
  {
   "cell_type": "code",
   "execution_count": null,
   "id": "3d3f80c8",
   "metadata": {},
   "outputs": [],
   "source": [
    "class YSUStudent(Student):\n",
    "    def __init__(self, name, age, subject):\n",
    "        super().__init__(name, age, \"YSU\", subject)"
   ]
  },
  {
   "cell_type": "markdown",
   "id": "edb4fac1",
   "metadata": {
    "id": "edb4fac1",
    "slideshow": {
     "slide_type": "slide"
    }
   },
   "source": [
    "# Common interface"
   ]
  },
  {
   "cell_type": "code",
   "execution_count": null,
   "id": "51683c8c",
   "metadata": {
    "id": "51683c8c",
    "slideshow": {
     "slide_type": "fragment"
    }
   },
   "outputs": [],
   "source": [
    "def introduce(people):\n",
    "    for person in people:\n",
    "        print(person.introduce_me())"
   ]
  },
  {
   "cell_type": "code",
   "execution_count": null,
   "id": "c8ed6f1a",
   "metadata": {
    "id": "c8ed6f1a",
    "slideshow": {
     "slide_type": "fragment"
    }
   },
   "outputs": [],
   "source": [
    "person_1 = Person(\"John Doe\", 42)\n",
    "person_2 = Person(\"Alice Smith\", 20)\n",
    "\n",
    "student_1 = Student(\"Jane Dane\", 21, \"AUA\", \"Computer Science\")\n",
    "student_2 = Student(\"Bob Black\", 20, \"AUA\", \"Business\")\n",
    "\n",
    "ysu_student_1 = YSUStudent(\"Jack Smith\", 18, \"Data Science\")\n",
    "ysu_student_2 = YSUStudent(\"Ann Martin\", 19, \"Mathematics\")"
   ]
  },
  {
   "cell_type": "code",
   "execution_count": null,
   "id": "8df14c97",
   "metadata": {
    "colab": {
     "base_uri": "https://localhost:8080/"
    },
    "id": "8df14c97",
    "outputId": "1c42b03a-0d95-43e9-bc4e-67992603555f",
    "slideshow": {
     "slide_type": "fragment"
    }
   },
   "outputs": [],
   "source": [
    "introduce([person_1, person_2, student_1, student_2, ysu_student_1, ysu_student_2])"
   ]
  },
  {
   "cell_type": "code",
   "execution_count": null,
   "id": "51d297d7",
   "metadata": {
    "id": "51d297d7",
    "slideshow": {
     "slide_type": "slide"
    }
   },
   "outputs": [],
   "source": [
    "class StudentTracking:\n",
    "    def __init__(self, students):\n",
    "        self._students = students\n",
    "        self._gpas = {}\n",
    "    \n",
    "    def collect_gpas(self):\n",
    "        for student in self._students:\n",
    "            self._gpas[student.name] = student.calculate_gpa()\n",
    "            \n",
    "    def report_gpas(self):\n",
    "        for name, gpa in self._gpas.items():\n",
    "            print(f\"{name} => {gpa}\")"
   ]
  },
  {
   "cell_type": "code",
   "execution_count": null,
   "id": "18512a81",
   "metadata": {
    "id": "18512a81",
    "slideshow": {
     "slide_type": "fragment"
    }
   },
   "outputs": [],
   "source": [
    "student_1.add_grade(\"Calculus\", 3.4)\n",
    "student_1.add_grade(\"Statistics\", 4)\n",
    "student_1.add_grade(\"Linear algebra\", 3.8)"
   ]
  },
  {
   "cell_type": "code",
   "execution_count": null,
   "id": "81b0c1fe",
   "metadata": {
    "id": "81b0c1fe",
    "slideshow": {
     "slide_type": "fragment"
    }
   },
   "outputs": [],
   "source": [
    "ysu_student_1.add_grade(\"Math analysis\", 19)\n",
    "ysu_student_1.add_grade(\"Statistics\", 20)\n",
    "ysu_student_1.add_grade(\"Linear algebra\", 19)"
   ]
  },
  {
   "cell_type": "code",
   "execution_count": null,
   "id": "dccd4a94",
   "metadata": {
    "colab": {
     "base_uri": "https://localhost:8080/"
    },
    "id": "dccd4a94",
    "outputId": "c536b1ce-e14e-490f-b13b-124ef5630fe0",
    "slideshow": {
     "slide_type": "fragment"
    }
   },
   "outputs": [],
   "source": [
    "tracking = StudentTracking([student_1, ysu_student_1])\n",
    "tracking.collect_gpas()\n",
    "tracking.report_gpas()"
   ]
  },
  {
   "cell_type": "markdown",
   "id": "936d0f99",
   "metadata": {
    "id": "936d0f99",
    "slideshow": {
     "slide_type": "slide"
    }
   },
   "source": [
    "# Multiple inheritance\n",
    "\n",
    "Python supports a form of multiple inheritance.\n",
    "\n",
    "```python\n",
    "class DerivedClassName(Base1, Base2, Base3):\n",
    "    <statement_1>\n",
    "    .\n",
    "    .\n",
    "    .\n",
    "    <statement_N>\n",
    "```"
   ]
  },
  {
   "cell_type": "code",
   "execution_count": null,
   "id": "a1c07700",
   "metadata": {
    "colab": {
     "base_uri": "https://localhost:8080/"
    },
    "id": "a1c07700",
    "outputId": "d32cff3f-1a80-4ebf-c2b9-67b740ed414e",
    "slideshow": {
     "slide_type": "slide"
    }
   },
   "outputs": [],
   "source": [
    "class Animal:\n",
    "    def speak_as_animal(self):\n",
    "        return \"I am animal\"\n",
    "    \n",
    "class Mammal:\n",
    "    def speak_as_mammal(self):\n",
    "        return \"I am mammal\"\n",
    "    \n",
    "class Cat(Animal, Mammal):\n",
    "    def speak_as_cat(self):\n",
    "        return \"I am cat\"\n",
    "    \n",
    "cat = Cat()\n",
    "print(cat.speak_as_animal())\n",
    "print(cat.speak_as_mammal())\n",
    "print(cat.speak_as_cat())"
   ]
  },
  {
   "cell_type": "markdown",
   "id": "de824f81",
   "metadata": {
    "id": "de824f81",
    "slideshow": {
     "slide_type": "slide"
    }
   },
   "source": [
    "# Method resolution order (MRO)\n",
    "\n",
    "**Method resolution order (MRO)** is the order in which base classes are searched for a member during lookup. It is used to resolve a method or a property.\n",
    "\n",
    "Class MRO can be accessed by `__mro__` attribute or `mro()` method."
   ]
  },
  {
   "cell_type": "code",
   "execution_count": null,
   "id": "e16e7827",
   "metadata": {
    "colab": {
     "base_uri": "https://localhost:8080/"
    },
    "id": "e16e7827",
    "outputId": "53074bf6-554f-457e-a847-19acc6153707",
    "slideshow": {
     "slide_type": "fragment"
    }
   },
   "outputs": [],
   "source": [
    "Cat.__mro__ "
   ]
  },
  {
   "cell_type": "code",
   "execution_count": null,
   "id": "c386c1e0",
   "metadata": {
    "colab": {
     "base_uri": "https://localhost:8080/"
    },
    "id": "c386c1e0",
    "outputId": "2af0c7db-403d-4ee3-cb3c-c2d972e99e0b",
    "slideshow": {
     "slide_type": "fragment"
    }
   },
   "outputs": [],
   "source": [
    "Cat.mro()"
   ]
  },
  {
   "cell_type": "markdown",
   "id": "041fb586",
   "metadata": {
    "id": "041fb586",
    "slideshow": {
     "slide_type": "slide"
    }
   },
   "source": [
    "# Mixin class\n",
    "\n",
    "A mixin is a class that provides methods to other classes but is not considered a base class. It does not care about its position in the class hierarchy and usually provides convenience methods."
   ]
  },
  {
   "cell_type": "code",
   "execution_count": null,
   "id": "64def4bb",
   "metadata": {
    "id": "64def4bb",
    "slideshow": {
     "slide_type": "slide"
    }
   },
   "outputs": [],
   "source": [
    "class PerimeterMixin:\n",
    "    def calculate_perimeter(self):\n",
    "        perimeter = 0\n",
    "        for side in self.sides:\n",
    "            perimeter += side\n",
    "        return perimeter\n",
    "        \n",
    "\n",
    "class Polygon:\n",
    "    def __init__(self, sides):\n",
    "        self._sides = sides\n",
    "        \n",
    "    @property\n",
    "    def sides(self):\n",
    "        return self._sides\n",
    "    \n",
    "\n",
    "class Rectangle(Polygon, PerimeterMixin):\n",
    "    def __init__(self, width, length):\n",
    "        super().__init__([width, length, width, length])\n",
    "\n",
    "class Triangle(Polygon, PerimeterMixin):\n",
    "    def __init__(self, side_1, side_2, side_3):\n",
    "        super().__init__([side_1, side_2, side_3])"
   ]
  },
  {
   "cell_type": "code",
   "execution_count": null,
   "id": "f1510470",
   "metadata": {
    "id": "f1510470",
    "outputId": "1febf328-852f-49a0-b21c-a6c974e2d09d",
    "slideshow": {
     "slide_type": "fragment"
    }
   },
   "outputs": [],
   "source": [
    "rectangle = Rectangle(3, 4)\n",
    "rectangle.calculate_perimeter()"
   ]
  },
  {
   "cell_type": "code",
   "execution_count": null,
   "id": "64186c1e",
   "metadata": {
    "id": "64186c1e",
    "outputId": "55bc746a-1999-42b8-815d-81d533ccb386",
    "slideshow": {
     "slide_type": "fragment"
    }
   },
   "outputs": [],
   "source": [
    "triangle = Triangle(3, 4, 5)\n",
    "triangle.calculate_perimeter()"
   ]
  },
  {
   "cell_type": "markdown",
   "id": "dc903ec1",
   "metadata": {
    "slideshow": {
     "slide_type": "slide"
    }
   },
   "source": [
    "# Polymorphism\n",
    "\n",
    "**Polymorphism** is the concept of offering a unified interface or symbol that can be used to interact with entities of various types. In object-oriented programming that allows objects of different types to be treated as if they are of the same type. The idea is derived from a biological principle that states an organism or species can exist in various shapes or phases.\n",
    "\n",
    "In Python, it is usually achieved via inheritance and method / operator overloading."
   ]
  },
  {
   "cell_type": "markdown",
   "id": "aa7c7ab6",
   "metadata": {
    "slideshow": {
     "slide_type": "slide"
    }
   },
   "source": [
    "# Operator polymorphism\n",
    "\n",
    "**Operator polymorphism**, also referred to as **operator overloading**, denotes the capability of using a single symbol to carry out various operations."
   ]
  },
  {
   "cell_type": "code",
   "execution_count": null,
   "id": "0d92d813",
   "metadata": {
    "slideshow": {
     "slide_type": "fragment"
    }
   },
   "outputs": [],
   "source": [
    "10 + 20"
   ]
  },
  {
   "cell_type": "code",
   "execution_count": null,
   "id": "5a79f33d",
   "metadata": {
    "slideshow": {
     "slide_type": "fragment"
    }
   },
   "outputs": [],
   "source": [
    "\"Hello\" + \" \" + \"world!\""
   ]
  },
  {
   "cell_type": "code",
   "execution_count": null,
   "id": "b587bada",
   "metadata": {
    "slideshow": {
     "slide_type": "fragment"
    }
   },
   "outputs": [],
   "source": [
    "[1, 2, 3] + [4, 5, 6]"
   ]
  },
  {
   "cell_type": "markdown",
   "id": "d5f8549b",
   "metadata": {
    "slideshow": {
     "slide_type": "slide"
    }
   },
   "source": [
    "# Function polymorphism\n",
    "\n",
    "Functions can be polymorphic, meaning that they can operate on various data types and structures, resulting in different kinds of outputs.\n",
    "\n",
    "`len()` is such an example in Python."
   ]
  },
  {
   "cell_type": "code",
   "execution_count": null,
   "id": "f7783bdc",
   "metadata": {
    "slideshow": {
     "slide_type": "fragment"
    }
   },
   "outputs": [],
   "source": [
    "len(\"Hello world!\")"
   ]
  },
  {
   "cell_type": "code",
   "execution_count": null,
   "id": "d0c55841",
   "metadata": {
    "slideshow": {
     "slide_type": "fragment"
    }
   },
   "outputs": [],
   "source": [
    "len([1, 2, 3])"
   ]
  },
  {
   "cell_type": "code",
   "execution_count": null,
   "id": "f2c8c1bd",
   "metadata": {
    "slideshow": {
     "slide_type": "fragment"
    }
   },
   "outputs": [],
   "source": [
    "len({\n",
    "    \"name\": \"John Doe\",\n",
    "    \"age\": 42\n",
    "})"
   ]
  },
  {
   "cell_type": "markdown",
   "id": "59fc09f4",
   "metadata": {
    "slideshow": {
     "slide_type": "slide"
    }
   },
   "source": [
    "# Class polymorphism\n",
    "\n",
    "The following three classes, i.e. `Person`, `Square` and `Wine`, are all unrelated to each other, but they all have a method called `info()`. When the `info()` method is called on an object, the appropriate version of the method is invoked based on the actual object type."
   ]
  },
  {
   "cell_type": "code",
   "execution_count": null,
   "id": "ddbef250",
   "metadata": {
    "slideshow": {
     "slide_type": "fragment"
    }
   },
   "outputs": [],
   "source": [
    "class Person:\n",
    "    def info(self):\n",
    "        print(\"This is the Person class\")\n",
    "        \n",
    "        \n",
    "class Square:\n",
    "    def info(self):\n",
    "        print(\"This is the Square class\")\n",
    "        \n",
    "        \n",
    "class Wine:\n",
    "    def info(self):\n",
    "        print(\"This is the Wine class\")\n",
    "        \n",
    "\n",
    "person = Person()\n",
    "square = Square()\n",
    "wine = Wine()\n",
    "\n",
    "for obj in [person, square, wine]:\n",
    "    obj.info()"
   ]
  },
  {
   "cell_type": "markdown",
   "id": "a344e4c7",
   "metadata": {
    "slideshow": {
     "slide_type": "slide"
    }
   },
   "source": [
    "# Inheritance class polymorphism\n",
    "\n",
    "In the following example, the `Animal` class is the base class, and the `Dog` and `Cat` classes are its subclasses. Each subclass overrides the `sound()` method of the `Animal` class with its own implementation. When the `sound()` method is called on an object, the appropriate version of the method is invoked based on the actual object type."
   ]
  },
  {
   "cell_type": "code",
   "execution_count": null,
   "id": "c5c17e52",
   "metadata": {
    "slideshow": {
     "slide_type": "fragment"
    }
   },
   "outputs": [],
   "source": [
    "class Animal:\n",
    "    def sound(self):\n",
    "        print(\"Animal makes a sound\")\n",
    "\n",
    "class Dog(Animal):\n",
    "    def sound(self):\n",
    "        print(\"Dog barks\")\n",
    "\n",
    "class Cat(Animal):\n",
    "    def sound(self):\n",
    "        print(\"Cat meows\")\n",
    "\n",
    "\n",
    "animal = Animal()\n",
    "dog = Dog()\n",
    "cat = Cat()\n",
    "\n",
    "for obj in [animal, dog, cat]:\n",
    "    obj.sound()"
   ]
  },
  {
   "cell_type": "markdown",
   "id": "b5cf3d8c",
   "metadata": {
    "slideshow": {
     "slide_type": "slide"
    }
   },
   "source": [
    "# Operator overloading\n",
    "\n",
    "**Operator overloading** allows you to define how operators and operations behave when applied to objects of custom classes. By overloading operators, you can provide custom implementations for operations like addition, subtraction, multiplication, comparison, and more. This enables you to make your objects behave intuitively with built-in operators.\n",
    "\n",
    "To overload an operator in Python, you need to define a special method within your class that corresponds to the operator you want to overload. These methods have predefined names and are called **magic methods**, **special methods** or **dunder methods**. They are in the following form: `__<method_name>__`."
   ]
  },
  {
   "cell_type": "markdown",
   "id": "85939f13",
   "metadata": {
    "slideshow": {
     "slide_type": "slide"
    }
   },
   "source": [
    "# `str()` and `repr()` functions\n",
    "\n",
    "- `repr()`: Returns a string containing a printable representation of an object. It is usually defined for programmers.\n",
    "- `str()`: Return a string version of object. It is usually defined for users."
   ]
  },
  {
   "cell_type": "code",
   "execution_count": null,
   "id": "afb7deb9",
   "metadata": {
    "slideshow": {
     "slide_type": "slide"
    }
   },
   "outputs": [],
   "source": [
    "number = 42\n",
    "\n",
    "str(number), repr(number)"
   ]
  },
  {
   "cell_type": "code",
   "execution_count": null,
   "id": "eca63429",
   "metadata": {
    "slideshow": {
     "slide_type": "fragment"
    }
   },
   "outputs": [],
   "source": [
    "seq = [1, 2, 3]\n",
    "\n",
    "str(seq), repr(seq)"
   ]
  },
  {
   "cell_type": "markdown",
   "id": "8e1666cb",
   "metadata": {
    "slideshow": {
     "slide_type": "slide"
    }
   },
   "source": [
    "# Vector class"
   ]
  },
  {
   "cell_type": "code",
   "execution_count": null,
   "id": "504d55e0",
   "metadata": {
    "slideshow": {
     "slide_type": "fragment"
    }
   },
   "outputs": [],
   "source": [
    "class Vector:\n",
    "    def __init__(self, x, y):\n",
    "        self._x = x\n",
    "        self._y = y"
   ]
  },
  {
   "cell_type": "code",
   "execution_count": null,
   "id": "6e80d6e3",
   "metadata": {
    "slideshow": {
     "slide_type": "fragment"
    }
   },
   "outputs": [],
   "source": [
    "vector = Vector(-1, 2)\n",
    "\n",
    "print(vector)\n",
    "print(str(vector))\n",
    "print(repr(vector))"
   ]
  },
  {
   "cell_type": "code",
   "execution_count": null,
   "id": "52495cce",
   "metadata": {
    "slideshow": {
     "slide_type": "slide"
    }
   },
   "outputs": [],
   "source": [
    "class Vector:\n",
    "    def __init__(self, x, y):\n",
    "        self._x = x\n",
    "        self._y = y\n",
    "        \n",
    "    def __repr__(self):\n",
    "        class_name = type(self).__name__\n",
    "        return f\"{class_name}(x={self._x!r}, y={self._y!r})\"\n",
    "\n",
    "    def __str__(self):\n",
    "        return f\"({self._x}, {self._y})\""
   ]
  },
  {
   "cell_type": "code",
   "execution_count": null,
   "id": "9553ea52",
   "metadata": {
    "slideshow": {
     "slide_type": "fragment"
    }
   },
   "outputs": [],
   "source": [
    "vector = Vector(-1, 2)\n",
    "vector"
   ]
  },
  {
   "cell_type": "code",
   "execution_count": null,
   "id": "84b7cb9d",
   "metadata": {
    "slideshow": {
     "slide_type": "fragment"
    }
   },
   "outputs": [],
   "source": [
    "print(vector)\n",
    "print(str(vector))\n",
    "print(repr(vector))"
   ]
  },
  {
   "cell_type": "markdown",
   "id": "637912bf",
   "metadata": {
    "slideshow": {
     "slide_type": "slide"
    }
   },
   "source": [
    "# Unary operators\n",
    "\n",
    "- `__neg__`: arithmetic unary negation (`-x`).\n",
    "- `__pos__`: arithmetic unary plus (`+x`).\n",
    "-  `__invert__`: bitwise not, or bitwise inverse of an integer (`~x`)."
   ]
  },
  {
   "cell_type": "code",
   "execution_count": null,
   "id": "33d6720b",
   "metadata": {
    "slideshow": {
     "slide_type": "slide"
    }
   },
   "outputs": [],
   "source": [
    "class Vector:\n",
    "    def __init__(self, x, y):\n",
    "        self._x = x\n",
    "        self._y = y\n",
    "    \n",
    "    def __repr__(self):\n",
    "        class_name = type(self).__name__\n",
    "        return f\"{class_name}(x={self._x!r}, y={self._y!r})\"\n",
    "\n",
    "    def __str__(self):\n",
    "        return f\"({self._x}, {self._y})\"\n",
    "    \n",
    "    def __pos__(self):\n",
    "        return Vector(self._x, self._y)\n",
    "    \n",
    "    def __neg__(self):\n",
    "        return Vector(-self._x, -self._y)"
   ]
  },
  {
   "cell_type": "code",
   "execution_count": null,
   "id": "1411eb8b",
   "metadata": {
    "slideshow": {
     "slide_type": "fragment"
    }
   },
   "outputs": [],
   "source": [
    "vector = Vector(1, -2)"
   ]
  },
  {
   "cell_type": "code",
   "execution_count": null,
   "id": "e888655c",
   "metadata": {
    "slideshow": {
     "slide_type": "fragment"
    }
   },
   "outputs": [],
   "source": [
    "+vector"
   ]
  },
  {
   "cell_type": "code",
   "execution_count": null,
   "id": "5796fa1f",
   "metadata": {
    "slideshow": {
     "slide_type": "fragment"
    }
   },
   "outputs": [],
   "source": [
    "-vector"
   ]
  },
  {
   "cell_type": "markdown",
   "id": "03d0b127",
   "metadata": {
    "slideshow": {
     "slide_type": "slide"
    }
   },
   "source": [
    "# Overloading `+` for vector addition and `-` for vector substraction\n",
    "\n",
    "- `__add__`: addition (`x + y`).\n",
    "- `__sub__`: substraction (`x - y`)."
   ]
  },
  {
   "cell_type": "code",
   "execution_count": null,
   "id": "4251179c",
   "metadata": {
    "slideshow": {
     "slide_type": "slide"
    }
   },
   "outputs": [],
   "source": [
    "class Vector:\n",
    "    def __init__(self, x, y):\n",
    "        self._x = x\n",
    "        self._y = y\n",
    "    \n",
    "    def __repr__(self):\n",
    "        class_name = type(self).__name__\n",
    "        return f\"{class_name}(x={self._x!r}, y={self._y!r})\"\n",
    "\n",
    "    def __str__(self):\n",
    "        return f\"({self._x}, {self._y})\"\n",
    "    \n",
    "    def __add__(self, other):\n",
    "        return Vector(self._x + other._x, self._y + other._y)\n",
    "\n",
    "    def __sub__(self, other):\n",
    "        return Vector(self._x - other._x, self._y - other._y)"
   ]
  },
  {
   "cell_type": "code",
   "execution_count": null,
   "id": "058a0355",
   "metadata": {
    "slideshow": {
     "slide_type": "fragment"
    }
   },
   "outputs": [],
   "source": [
    "vector1 = Vector(1, -2)\n",
    "vector2 = Vector(3, -4)"
   ]
  },
  {
   "cell_type": "code",
   "execution_count": null,
   "id": "5921ce55",
   "metadata": {
    "slideshow": {
     "slide_type": "fragment"
    }
   },
   "outputs": [],
   "source": [
    "vector1 + vector2"
   ]
  },
  {
   "cell_type": "code",
   "execution_count": null,
   "id": "30697e6f",
   "metadata": {
    "slideshow": {
     "slide_type": "fragment"
    }
   },
   "outputs": [],
   "source": [
    "vector1 - vector2"
   ]
  },
  {
   "cell_type": "markdown",
   "id": "2b200235",
   "metadata": {
    "slideshow": {
     "slide_type": "slide"
    }
   },
   "source": [
    "# Overloading `*` for scalar multiplication\n",
    "\n",
    "- `__mul__`: multiplication (`x * scalar`)."
   ]
  },
  {
   "cell_type": "code",
   "execution_count": null,
   "id": "7ff6c85d",
   "metadata": {
    "slideshow": {
     "slide_type": "slide"
    }
   },
   "outputs": [],
   "source": [
    "class Vector:\n",
    "    def __init__(self, x, y):\n",
    "        self._x = x\n",
    "        self._y = y\n",
    "    \n",
    "    def __repr__(self):\n",
    "        class_name = type(self).__name__\n",
    "        return f\"{class_name}(x={self._x!r}, y={self._y!r})\"\n",
    "\n",
    "    def __str__(self):\n",
    "        return f\"({self._x}, {self._y})\"\n",
    "    \n",
    "    def __mul__(self, scalar):\n",
    "        return Vector(self._x * scalar, self._y * scalar)"
   ]
  },
  {
   "cell_type": "code",
   "execution_count": null,
   "id": "dcc0dfc7",
   "metadata": {
    "slideshow": {
     "slide_type": "fragment"
    }
   },
   "outputs": [],
   "source": [
    "vector = Vector(1, -2)"
   ]
  },
  {
   "cell_type": "code",
   "execution_count": null,
   "id": "8aba5100",
   "metadata": {
    "slideshow": {
     "slide_type": "fragment"
    }
   },
   "outputs": [],
   "source": [
    "vector * 2"
   ]
  },
  {
   "cell_type": "code",
   "execution_count": null,
   "id": "9d1af7ef",
   "metadata": {
    "slideshow": {
     "slide_type": "fragment"
    }
   },
   "outputs": [],
   "source": [
    "2 * vector"
   ]
  },
  {
   "cell_type": "markdown",
   "id": "7de36bf4",
   "metadata": {
    "slideshow": {
     "slide_type": "slide"
    }
   },
   "source": [
    "# Overloading `*` for reverse scalar multiplication\n",
    "\n",
    "- `__rmul__`: reverse multiplication (`scalar * x`)."
   ]
  },
  {
   "cell_type": "code",
   "execution_count": null,
   "id": "d895fc40",
   "metadata": {
    "slideshow": {
     "slide_type": "slide"
    }
   },
   "outputs": [],
   "source": [
    "class Vector:\n",
    "    def __init__(self, x, y):\n",
    "        self._x = x\n",
    "        self._y = y\n",
    "    \n",
    "    def __repr__(self):\n",
    "        class_name = type(self).__name__\n",
    "        return f\"{class_name}(x={self._x!r}, y={self._y!r})\"\n",
    "\n",
    "    def __str__(self):\n",
    "        return f\"({self._x}, {self._y})\"\n",
    "    \n",
    "    def __mul__(self, scalar):\n",
    "        return Vector(self._x * scalar, self._y * scalar)\n",
    "    \n",
    "    def __rmul__(self, scalar):\n",
    "        return self * scalar"
   ]
  },
  {
   "cell_type": "code",
   "execution_count": null,
   "id": "280ce875",
   "metadata": {
    "slideshow": {
     "slide_type": "fragment"
    }
   },
   "outputs": [],
   "source": [
    "vector = Vector(1, -2)"
   ]
  },
  {
   "cell_type": "code",
   "execution_count": null,
   "id": "95d1e783",
   "metadata": {
    "slideshow": {
     "slide_type": "fragment"
    }
   },
   "outputs": [],
   "source": [
    "2 * vector"
   ]
  },
  {
   "cell_type": "markdown",
   "id": "32fbc9d4",
   "metadata": {},
   "source": [
    "# Overloading `@` for vector matrix multiplication (dot product)\n",
    "\n",
    "- `__matmul__`: matrix multiplication (`x @ y`)."
   ]
  },
  {
   "cell_type": "code",
   "execution_count": null,
   "id": "2abccbbd",
   "metadata": {},
   "outputs": [],
   "source": [
    "class Vector:\n",
    "    def __init__(self, x, y):\n",
    "        self._x = x\n",
    "        self._y = y\n",
    "    \n",
    "    def __repr__(self):\n",
    "        class_name = type(self).__name__\n",
    "        return f\"{class_name}(x={self._x!r}, y={self._y!r})\"\n",
    "\n",
    "    def __str__(self):\n",
    "        return f\"({self._x}, {self._y})\"\n",
    "\n",
    "    def __matmul__(self, other):\n",
    "        if not isinstance(other, Vector):\n",
    "            raise ValueError(f\"Dot product is not valid for {other}\")\n",
    "        return self._x * other._x + self._y * other._y"
   ]
  },
  {
   "cell_type": "code",
   "execution_count": null,
   "id": "04944ce2",
   "metadata": {},
   "outputs": [],
   "source": [
    "x = Vector(2, 3)\n",
    "y = Vector(4, 5)\n",
    "\n",
    "x @ y"
   ]
  },
  {
   "cell_type": "markdown",
   "id": "ba475d65",
   "metadata": {
    "slideshow": {
     "slide_type": "slide"
    }
   },
   "source": [
    "# Overloading comparison operators\n",
    "\n",
    "- `__eq__`: is equal to (`x == y`)\n",
    "- `__ne__`: is not equal to (`x != y`)\n",
    "- `__gt__`: greater than (`x > y`)\n",
    "- `__lt__`: less than (`x < y`)\n",
    "- `__ge__`: greater than or equal to (`x >= y`)\n",
    "- `__le__`: less than or equal to (`x <= y`)"
   ]
  },
  {
   "cell_type": "code",
   "execution_count": null,
   "id": "a0ca1a66",
   "metadata": {
    "slideshow": {
     "slide_type": "fragment"
    }
   },
   "outputs": [],
   "source": [
    "class Vector:\n",
    "    def __init__(self, x, y):\n",
    "        self._x = x\n",
    "        self._y = y\n",
    "    \n",
    "    def __repr__(self):\n",
    "        class_name = type(self).__name__\n",
    "        return f\"{class_name}(x={self._x!r}, y={self._y!r})\"\n",
    "\n",
    "    def __str__(self):\n",
    "        return f\"({self._x}, {self._y})\"\n",
    "    \n",
    "    def __eq__(self, other):\n",
    "        return self._x == other._x and self._y == other._y"
   ]
  },
  {
   "cell_type": "code",
   "execution_count": null,
   "id": "c0c479cc",
   "metadata": {
    "slideshow": {
     "slide_type": "fragment"
    }
   },
   "outputs": [],
   "source": [
    "vector1 = Vector(1, 2)\n",
    "vector2 = Vector(1, 2)\n",
    "\n",
    "vector1 == vector2"
   ]
  },
  {
   "cell_type": "code",
   "execution_count": null,
   "id": "5a6dacfd",
   "metadata": {
    "slideshow": {
     "slide_type": "fragment"
    }
   },
   "outputs": [],
   "source": [
    "vector1 = Vector(1, -2)\n",
    "vector2 = Vector(3, -4)\n",
    "\n",
    "vector1 == vector2"
   ]
  },
  {
   "cell_type": "code",
   "execution_count": null,
   "id": "a037ace3",
   "metadata": {
    "slideshow": {
     "slide_type": "fragment"
    }
   },
   "outputs": [],
   "source": [
    "vector1 != vector2"
   ]
  },
  {
   "cell_type": "markdown",
   "id": "eef79159",
   "metadata": {
    "slideshow": {
     "slide_type": "slide"
    }
   },
   "source": [
    "# Overloading `len()` and `abs()` functions\n",
    "\n",
    "- `__len__()`: implements the built-in function `len()`.\n",
    "- `__abs__()`: implements the built-in function `abs()`."
   ]
  },
  {
   "cell_type": "code",
   "execution_count": null,
   "id": "ff4e49e7",
   "metadata": {
    "slideshow": {
     "slide_type": "fragment"
    }
   },
   "outputs": [],
   "source": [
    "class Vector:\n",
    "    def __init__(self, components):\n",
    "        self._components = components\n",
    "    \n",
    "    def __repr__(self):\n",
    "        class_name = type(self).__name__\n",
    "        return f\"{class_name}({self._components!r})\"\n",
    "    \n",
    "    def __len__(self):\n",
    "        return len(self._components)\n",
    "    \n",
    "    def __abs__(self):\n",
    "        return sum(component ** 2 for component in self._components) ** 0.5"
   ]
  },
  {
   "cell_type": "code",
   "execution_count": null,
   "id": "314a4a0c",
   "metadata": {
    "slideshow": {
     "slide_type": "fragment"
    }
   },
   "outputs": [],
   "source": [
    "vector = Vector([4, 2, 8, 7])\n",
    "vector"
   ]
  },
  {
   "cell_type": "code",
   "execution_count": null,
   "id": "761bbbc9",
   "metadata": {
    "slideshow": {
     "slide_type": "fragment"
    }
   },
   "outputs": [],
   "source": [
    "len(vector)"
   ]
  },
  {
   "cell_type": "code",
   "execution_count": null,
   "id": "e5738d1a",
   "metadata": {
    "slideshow": {
     "slide_type": "fragment"
    }
   },
   "outputs": [],
   "source": [
    "abs(vector)"
   ]
  },
  {
   "cell_type": "markdown",
   "id": "30fbab82",
   "metadata": {
    "slideshow": {
     "slide_type": "slide"
    }
   },
   "source": [
    "# Overloading evaluation and assignment of `self[key]`\n",
    "\n",
    "- `__getitem__(self, key)`: access element at `key` index.\n",
    "- `__setitem__(self, key, value)`: assign `value` to element at `key` index."
   ]
  },
  {
   "cell_type": "code",
   "execution_count": null,
   "id": "b586992d",
   "metadata": {
    "slideshow": {
     "slide_type": "fragment"
    }
   },
   "outputs": [],
   "source": [
    "class Vector:\n",
    "    def __init__(self, components):\n",
    "        self._components = components\n",
    "    \n",
    "    def __repr__(self):\n",
    "        class_name = type(self).__name__\n",
    "        return f\"{class_name}({self._components!r})\"\n",
    "    \n",
    "    def __getitem__(self, key):\n",
    "        return self._components[key]\n",
    "    \n",
    "    def __setitem__(self, key, value):\n",
    "        self._components[key] = value"
   ]
  },
  {
   "cell_type": "code",
   "execution_count": null,
   "id": "85d960d1",
   "metadata": {
    "slideshow": {
     "slide_type": "fragment"
    }
   },
   "outputs": [],
   "source": [
    "vector = Vector([4, 2, 8, 7])\n",
    "vector"
   ]
  },
  {
   "cell_type": "code",
   "execution_count": null,
   "id": "4a6fec64",
   "metadata": {
    "slideshow": {
     "slide_type": "fragment"
    }
   },
   "outputs": [],
   "source": [
    "print(vector[0])\n",
    "print(vector[1])\n",
    "print(vector[2])\n",
    "print(vector[3])"
   ]
  },
  {
   "cell_type": "code",
   "execution_count": null,
   "id": "3465f486",
   "metadata": {
    "slideshow": {
     "slide_type": "fragment"
    }
   },
   "outputs": [],
   "source": [
    "vector[2] = -11\n",
    "\n",
    "vector"
   ]
  },
  {
   "cell_type": "markdown",
   "id": "d0fb1d95",
   "metadata": {
    "slideshow": {
     "slide_type": "slide"
    }
   },
   "source": [
    "# Polynomial class"
   ]
  },
  {
   "cell_type": "code",
   "execution_count": null,
   "id": "2ced1820",
   "metadata": {
    "slideshow": {
     "slide_type": "fragment"
    }
   },
   "outputs": [],
   "source": [
    "class Polynomial:\n",
    "    def __init__(self, coefficients):\n",
    "        \"\"\"\n",
    "        Initialize a Polynomial object with a list of coefficients.\n",
    "        The coefficients should be in descending order of their degrees.\n",
    "        For example, the coefficients [2, -1, 3] represent the polynomial 2 - x + 3x^2.\n",
    "        \"\"\"\n",
    "        self._coefficients = coefficients\n",
    "\n",
    "    @property\n",
    "    def degree(self):\n",
    "        \"\"\"\n",
    "        Return the degree of the polynomial.\n",
    "        \"\"\"\n",
    "        return len(self._coefficients) - 1\n",
    "\n",
    "    def __add__(self, other):\n",
    "        \"\"\"\n",
    "        Add two polynomials and return a new Polynomial object representing their sum.\n",
    "        \"\"\"\n",
    "        if self.degree >= other.degree:\n",
    "            larger_poly = self._coefficients\n",
    "            smaller_poly = other._coefficients\n",
    "        else:\n",
    "            larger_poly = other._coefficients\n",
    "            smaller_poly = self._coefficients\n",
    "\n",
    "        sum_coefficients = []\n",
    "        for i in range(len(larger_poly)):\n",
    "            if i < len(smaller_poly):\n",
    "                sum_coefficients.append(larger_poly[i] + smaller_poly[i])\n",
    "            else:\n",
    "                sum_coefficients.append(larger_poly[i])\n",
    "\n",
    "        return Polynomial(sum_coefficients)\n",
    "\n",
    "    def __mul__(self, other):\n",
    "        \"\"\"\n",
    "        Multiply two polynomials and return a new Polynomial object representing their product.\n",
    "        \"\"\"\n",
    "        product_degree = self.degree + other.degree\n",
    "        product_coefficients = [0] * (product_degree + 1)\n",
    "\n",
    "        for i in range(len(self._coefficients)):\n",
    "            for j in range(len(other._coefficients)):\n",
    "                product_coefficients[i + j] += self._coefficients[i] * other._coefficients[j]\n",
    "\n",
    "        return Polynomial(product_coefficients)\n",
    "\n",
    "    def __repr__(self):\n",
    "        \"\"\"\n",
    "        Return a string representation of the polynomial.\n",
    "        \"\"\"\n",
    "        terms = []\n",
    "        for i, coefficient in enumerate(self._coefficients):\n",
    "            if coefficient != 0:\n",
    "                if i == 0:\n",
    "                    terms.append(str(coefficient))\n",
    "                elif i == 1:\n",
    "                    terms.append(f\"{coefficient}x\")\n",
    "                else:\n",
    "                    terms.append(f\"{coefficient}x^{i}\")\n",
    "        return \" + \".join(terms)"
   ]
  },
  {
   "cell_type": "code",
   "execution_count": null,
   "id": "d9559d83",
   "metadata": {
    "slideshow": {
     "slide_type": "fragment"
    }
   },
   "outputs": [],
   "source": [
    "polynomial1 = Polynomial([2, -1, 3])\n",
    "polynomial2 = Polynomial([1, 2, -1])\n",
    "\n",
    "print(f\"p(x) = {polynomial1}\")\n",
    "print(f\"q(x) = {polynomial2}\")\n",
    "print(f\"p(x) + q(x) = {polynomial1 + polynomial2}\")\n",
    "print(f\"p(x) * q(x) = {polynomial1 * polynomial2}\")"
   ]
  },
  {
   "cell_type": "markdown",
   "id": "d6aa85e5",
   "metadata": {
    "slideshow": {
     "slide_type": "slide"
    }
   },
   "source": [
    "# Reference\n",
    "\n",
    "For more special methods, see https://docs.python.org/3/reference/datamodel.html#special-method-names."
   ]
  }
 ],
 "metadata": {
  "kernelspec": {
   "display_name": "Python 3 (ipykernel)",
   "language": "python",
   "name": "python3"
  },
  "language_info": {
   "codemirror_mode": {
    "name": "ipython",
    "version": 3
   },
   "file_extension": ".py",
   "mimetype": "text/x-python",
   "name": "python",
   "nbconvert_exporter": "python",
   "pygments_lexer": "ipython3",
   "version": "3.12.8"
  }
 },
 "nbformat": 4,
 "nbformat_minor": 5
}
