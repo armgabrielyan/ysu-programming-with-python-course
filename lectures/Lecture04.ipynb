{
 "cells": [
  {
   "cell_type": "markdown",
   "id": "d6515b7c",
   "metadata": {
    "slideshow": {
     "slide_type": "slide"
    }
   },
   "source": [
    "# Programming with Python\n",
    "\n",
    "## Lecture 04: Boolean, bitwise and assignment operators\n",
    "\n",
    "### Armen Gabrielyan\n",
    "\n",
    "#### Yerevan State University\n",
    "#### Portmind"
   ]
  },
  {
   "cell_type": "markdown",
   "id": "79d530b3",
   "metadata": {
    "slideshow": {
     "slide_type": "slide"
    }
   },
   "source": [
    "# Boolean operators\n",
    "\n",
    "| Operator | Name                   | Example | Meaning                                    |\n",
    "|----------|------------------------|---------|--------------------------------------------|\n",
    "| or       | Logical or             | x or y  | if `x` is false, then `y`, else `x`        |\n",
    "| and      | Logical and            | x and y | if `x` is false, then `x`, else `y`        |\n",
    "| not      | Logical not / negation | not x   | if `x` is false, then `True`, else `False` |"
   ]
  },
  {
   "cell_type": "markdown",
   "id": "80efeeeb",
   "metadata": {
    "slideshow": {
     "slide_type": "subslide"
    }
   },
   "source": [
    "## Logical or\n",
    "\n",
    "| x     | y     | x or y |\n",
    "|-------|-------|--------|\n",
    "| False | False | False  |\n",
    "| False | True  | True   |\n",
    "| True  | False | True   |\n",
    "| True  | True  | True   |"
   ]
  },
  {
   "cell_type": "code",
   "execution_count": null,
   "id": "67a18cb4",
   "metadata": {
    "slideshow": {
     "slide_type": "fragment"
    }
   },
   "outputs": [],
   "source": [
    "print(False or False)\n",
    "print(False or True)\n",
    "print(True or False)\n",
    "print(True or True)"
   ]
  },
  {
   "cell_type": "code",
   "execution_count": null,
   "id": "fbba27f5",
   "metadata": {
    "slideshow": {
     "slide_type": "fragment"
    }
   },
   "outputs": [],
   "source": [
    "x = 5 < 10\n",
    "y = 6 > 8\n",
    "\n",
    "x or y"
   ]
  },
  {
   "cell_type": "code",
   "execution_count": null,
   "id": "981aa727",
   "metadata": {
    "slideshow": {
     "slide_type": "fragment"
    }
   },
   "outputs": [],
   "source": [
    "x = 5 > 10\n",
    "y = 6 < 4\n",
    "\n",
    "x or y"
   ]
  },
  {
   "cell_type": "markdown",
   "id": "6f73a527",
   "metadata": {
    "slideshow": {
     "slide_type": "subslide"
    }
   },
   "source": [
    "## Evaluation of arguments\n",
    "\n",
    "**Meaning**: if `x` is false, then `y`, else `x`"
   ]
  },
  {
   "cell_type": "code",
   "execution_count": null,
   "id": "58d46f89",
   "metadata": {
    "slideshow": {
     "slide_type": "fragment"
    }
   },
   "outputs": [],
   "source": [
    "7.2 > 4 or 1 / 0"
   ]
  },
  {
   "cell_type": "code",
   "execution_count": null,
   "id": "f8c39209",
   "metadata": {
    "slideshow": {
     "slide_type": "fragment"
    }
   },
   "outputs": [],
   "source": [
    "7.2 < 4 or 1 / 0"
   ]
  },
  {
   "cell_type": "code",
   "execution_count": null,
   "id": "27482592",
   "metadata": {
    "slideshow": {
     "slide_type": "fragment"
    }
   },
   "outputs": [],
   "source": [
    "7.2 > 4 or 42"
   ]
  },
  {
   "cell_type": "code",
   "execution_count": null,
   "id": "0bbaec93",
   "metadata": {
    "slideshow": {
     "slide_type": "fragment"
    }
   },
   "outputs": [],
   "source": [
    "7.2 < 4 or 42"
   ]
  },
  {
   "cell_type": "code",
   "execution_count": null,
   "id": "0485ea99",
   "metadata": {
    "slideshow": {
     "slide_type": "fragment"
    }
   },
   "outputs": [],
   "source": [
    "7.2 > 4 or \"Bruce Wayne\""
   ]
  },
  {
   "cell_type": "code",
   "execution_count": null,
   "id": "fc31a05a",
   "metadata": {
    "slideshow": {
     "slide_type": "fragment"
    }
   },
   "outputs": [],
   "source": [
    "7.2 < 4 or \"Bruce Wayne\""
   ]
  },
  {
   "cell_type": "markdown",
   "id": "f939a1ee",
   "metadata": {
    "slideshow": {
     "slide_type": "subslide"
    }
   },
   "source": [
    "## Logical and\n",
    "\n",
    "| x     | y     | x and y |\n",
    "|-------|-------|---------|\n",
    "| False | False | False   |\n",
    "| False | True  | False   |\n",
    "| True  | False | False   |\n",
    "| True  | True  | True    |"
   ]
  },
  {
   "cell_type": "code",
   "execution_count": null,
   "id": "b8f84fed",
   "metadata": {
    "slideshow": {
     "slide_type": "fragment"
    }
   },
   "outputs": [],
   "source": [
    "print(False and False)\n",
    "print(False and True)\n",
    "print(True and False)\n",
    "print(True and True)"
   ]
  },
  {
   "cell_type": "code",
   "execution_count": null,
   "id": "ef1c7326",
   "metadata": {
    "slideshow": {
     "slide_type": "fragment"
    }
   },
   "outputs": [],
   "source": [
    "x = 5 < 10\n",
    "y = 6 > 8\n",
    "\n",
    "x and y"
   ]
  },
  {
   "cell_type": "code",
   "execution_count": null,
   "id": "052e6529",
   "metadata": {
    "slideshow": {
     "slide_type": "fragment"
    }
   },
   "outputs": [],
   "source": [
    "x = 5 < 10\n",
    "y = 6 > 4\n",
    "\n",
    "x and y"
   ]
  },
  {
   "cell_type": "markdown",
   "id": "e4bc1d9f",
   "metadata": {
    "slideshow": {
     "slide_type": "subslide"
    }
   },
   "source": [
    "## Evaluation of arguments\n",
    "\n",
    "**Meaning:** if `x` is false, then `x`, else `y`"
   ]
  },
  {
   "cell_type": "code",
   "execution_count": null,
   "id": "d1fc26cb",
   "metadata": {
    "slideshow": {
     "slide_type": "fragment"
    }
   },
   "outputs": [],
   "source": [
    "7.2 > 4 and 1 / 0"
   ]
  },
  {
   "cell_type": "code",
   "execution_count": null,
   "id": "0fe8c18b",
   "metadata": {
    "slideshow": {
     "slide_type": "fragment"
    }
   },
   "outputs": [],
   "source": [
    "7.2 < 4 and 1 / 0"
   ]
  },
  {
   "cell_type": "code",
   "execution_count": null,
   "id": "063f6c78",
   "metadata": {
    "slideshow": {
     "slide_type": "fragment"
    }
   },
   "outputs": [],
   "source": [
    "7.2 > 4 and 42"
   ]
  },
  {
   "cell_type": "code",
   "execution_count": null,
   "id": "eab13dbd",
   "metadata": {
    "slideshow": {
     "slide_type": "fragment"
    }
   },
   "outputs": [],
   "source": [
    "7.2 < 4 and 42"
   ]
  },
  {
   "cell_type": "code",
   "execution_count": null,
   "id": "27cfe67a",
   "metadata": {
    "slideshow": {
     "slide_type": "fragment"
    }
   },
   "outputs": [],
   "source": [
    "7.2 > 4 and \"Bruce Wayne\""
   ]
  },
  {
   "cell_type": "code",
   "execution_count": null,
   "id": "615c0056",
   "metadata": {
    "slideshow": {
     "slide_type": "fragment"
    }
   },
   "outputs": [],
   "source": [
    "7.2 < 4 and \"Bruce Wayne\""
   ]
  },
  {
   "cell_type": "markdown",
   "id": "94f09b3d",
   "metadata": {
    "slideshow": {
     "slide_type": "subslide"
    }
   },
   "source": [
    "## Logical not\n",
    "\n",
    "| x     | not x |\n",
    "|-------|-------|\n",
    "| False | True  |\n",
    "| True  | False |"
   ]
  },
  {
   "cell_type": "code",
   "execution_count": null,
   "id": "2dcc5c99",
   "metadata": {
    "slideshow": {
     "slide_type": "fragment"
    }
   },
   "outputs": [],
   "source": [
    "print(not False)\n",
    "print(not True)"
   ]
  },
  {
   "cell_type": "code",
   "execution_count": null,
   "id": "b753b013",
   "metadata": {
    "slideshow": {
     "slide_type": "fragment"
    }
   },
   "outputs": [],
   "source": [
    "x = 5 < 10\n",
    "\n",
    "not x"
   ]
  },
  {
   "cell_type": "code",
   "execution_count": null,
   "id": "b1587054",
   "metadata": {
    "slideshow": {
     "slide_type": "fragment"
    }
   },
   "outputs": [],
   "source": [
    "x = 6 > 42\n",
    "\n",
    "not x"
   ]
  },
  {
   "cell_type": "markdown",
   "id": "cdc80220",
   "metadata": {
    "slideshow": {
     "slide_type": "subslide"
    }
   },
   "source": [
    "## Short-circuit evaluation\n",
    "\n",
    "**Short-circuit evaluation**, a.k.a. **minimal evaluation** or **McCarthy evaluation**, is the semantics of some Boolean operators in some programming languages in which the second argument is executed or evaluated only if the first argument does not suffice to determine the value of the expression.\n",
    "\n",
    "Reference: [Wiki on Short-circuit evaluation](https://en.wikipedia.org/wiki/Short-circuit_evaluation)."
   ]
  },
  {
   "cell_type": "markdown",
   "id": "60a41064",
   "metadata": {
    "slideshow": {
     "slide_type": "subslide"
    }
   },
   "source": [
    "### Compound `or` expressions\n",
    "\n",
    "- $x_1$ `or` $x_2 \\dots$ `or` $x_{n-1}$ `or` $x_{n}$ evaluates to `True` if any $x_i$ evaluates to `True`. \n",
    "- This is performed by short-circuit evaluation."
   ]
  },
  {
   "cell_type": "code",
   "execution_count": null,
   "id": "986c34a1",
   "metadata": {
    "slideshow": {
     "slide_type": "fragment"
    }
   },
   "outputs": [],
   "source": [
    "x1 = 1 > 2\n",
    "x2 = 10 == 10\n",
    "\n",
    "x1 or x2 or 1 / 0"
   ]
  },
  {
   "cell_type": "code",
   "execution_count": null,
   "id": "5b61f53a",
   "metadata": {
    "slideshow": {
     "slide_type": "fragment"
    }
   },
   "outputs": [],
   "source": [
    "x1 = 1 > 2\n",
    "x2 = 10 != 10\n",
    "\n",
    "x1 or x2 or 1 / 0"
   ]
  },
  {
   "cell_type": "markdown",
   "id": "1d3ee6a8",
   "metadata": {
    "slideshow": {
     "slide_type": "subslide"
    }
   },
   "source": [
    "### Compound `and` expressions\n",
    "\n",
    "- $x_1$ `and` $x_2 \\dots$ `and` $x_{n-1}$ `and` $x_{n}$ evaluates to `True` if all $x_i$s evaluate to `True`. \n",
    "- This is performed by short-circuit evaluation."
   ]
  },
  {
   "cell_type": "code",
   "execution_count": null,
   "id": "bd7aaba4",
   "metadata": {
    "slideshow": {
     "slide_type": "fragment"
    }
   },
   "outputs": [],
   "source": [
    "x1 = 1 > 2\n",
    "x2 = 10 == 10\n",
    "\n",
    "x1 and x2 and 1 / 0"
   ]
  },
  {
   "cell_type": "code",
   "execution_count": null,
   "id": "cc86e4b2",
   "metadata": {
    "slideshow": {
     "slide_type": "fragment"
    }
   },
   "outputs": [],
   "source": [
    "x1 = 11 > 2\n",
    "x2 = 10 == 10\n",
    "\n",
    "x1 and x2 and 1 / 0"
   ]
  },
  {
   "cell_type": "markdown",
   "id": "d785cf26",
   "metadata": {
    "slideshow": {
     "slide_type": "subslide"
    }
   },
   "source": [
    "## Chained comparisons\n",
    "\n",
    "Comparison operators can be chained together, such as `1 < 2 <=3` or `10 > 5 < 8`.\n",
    "\n",
    "The following two expressions result in the same Boolean value.\n",
    "\n",
    "- **Compound:** $x_1 op_1 x_2$ `and` $x_2 op_2 x_3 \\dots$ `and` $x_{n-1} op_n x_n$\n",
    "- **Chained:** $x_1 op_1 x_2 op_2 \\dots x_{n-1} op_n x_n$"
   ]
  },
  {
   "cell_type": "code",
   "execution_count": null,
   "id": "b121c2da",
   "metadata": {
    "slideshow": {
     "slide_type": "subslide"
    }
   },
   "outputs": [],
   "source": [
    "# compound\n",
    "\n",
    "1 < 2 and 2 <= 8 and 8 > 5 and 5 < 7"
   ]
  },
  {
   "cell_type": "code",
   "execution_count": null,
   "id": "adb095b1",
   "metadata": {
    "slideshow": {
     "slide_type": "fragment"
    }
   },
   "outputs": [],
   "source": [
    "# chained\n",
    "\n",
    "1 < 2 <= 8 > 5 < 7"
   ]
  },
  {
   "cell_type": "code",
   "execution_count": null,
   "id": "ba2ab326",
   "metadata": {
    "slideshow": {
     "slide_type": "fragment"
    }
   },
   "outputs": [],
   "source": [
    "# compound\n",
    "\n",
    "1 < 2 and 2 <= 8 and 8 > 5 and 5 < 7 and 7 >= 15"
   ]
  },
  {
   "cell_type": "code",
   "execution_count": null,
   "id": "6fd14962",
   "metadata": {
    "slideshow": {
     "slide_type": "fragment"
    }
   },
   "outputs": [],
   "source": [
    "# chained\n",
    "\n",
    "1 < 2 <= 8 > 5 < 7 >= 15"
   ]
  },
  {
   "cell_type": "markdown",
   "id": "4a520d65",
   "metadata": {
    "slideshow": {
     "slide_type": "slide"
    }
   },
   "source": [
    "# Two's complement method\n",
    "\n",
    "**Two's complement** is a mathematical operation to reversibly convert a positive binary number into a negative binary number with equivalent (but negative) value, using the binary digit with the greatest place value to indicate whether the binary number is positive or negative (the sign).\n",
    "\n",
    "| Bits      | Unsigned value | Signed value \\(two's complement\\) |\n",
    "|-----------|----------------|-----------------------------------|\n",
    "| 0000 0000 | 0              | 0                                 |\n",
    "| 0000 0001 | 1              | 1                                 |\n",
    "| 0000 0010 | 2              | 2                                 |\n",
    "| 0111 1110 | 126            | 126                               |\n",
    "| 0111 1111 | 127            | 127                               |\n",
    "| 1000 0000 | 128            | \\-128                             |\n",
    "| 1000 0001 | 129            | \\-127                             |\n",
    "| 1000 0010 | 130            | \\-126                             |\n",
    "| 1111 1110 | 254            | \\-2                               |\n",
    "| 1111 1111 | 255            | \\-1                               |\n",
    "\n",
    "Reference: [Wiki Two's complement](https://en.wikipedia.org/wiki/Two%27s_complement)"
   ]
  },
  {
   "cell_type": "markdown",
   "id": "de87bcb5",
   "metadata": {
    "slideshow": {
     "slide_type": "slide"
    }
   },
   "source": [
    "# Bitwise operators\n",
    "\n",
    "| Operator | Name               | Example | Meaning                                                 |\n",
    "|----------|--------------------|---------|---------------------------------------------------------|\n",
    "| \\|       | bitwise or         | x \\| y  | Logical or between bits of the corresponding positions  |\n",
    "| &        | bitwise and        | x & y   | Logical and between bits of the corresponding positions |\n",
    "| ^        | bitwise xor        | x ^ y   | Logical xor between bits of the corresponding positions |\n",
    "| ~        | bitwise negation   | ~x      | Each bit is inverted                                    |\n",
    "| <<       | bitwise left shift | x << n  | Each bit is shifted leftwards by n positions            |\n",
    "| >>       | bitwise right shift| x >> n  | Each bit is shifted rightwards by n positions           |"
   ]
  },
  {
   "cell_type": "markdown",
   "id": "86aaeb2e",
   "metadata": {
    "slideshow": {
     "slide_type": "subslide"
    }
   },
   "source": [
    "### Bitwise `or`"
   ]
  },
  {
   "cell_type": "code",
   "execution_count": null,
   "id": "f1978cd8",
   "metadata": {
    "slideshow": {
     "slide_type": "fragment"
    }
   },
   "outputs": [],
   "source": [
    "x = 0b11001010\n",
    "y = 0b10111100\n",
    "\n",
    "'{:b}'.format(x | y)"
   ]
  },
  {
   "cell_type": "markdown",
   "id": "f4b44fac",
   "metadata": {
    "slideshow": {
     "slide_type": "fragment"
    }
   },
   "source": [
    "### Bitwise `and`"
   ]
  },
  {
   "cell_type": "code",
   "execution_count": null,
   "id": "55edd05e",
   "metadata": {
    "slideshow": {
     "slide_type": "fragment"
    }
   },
   "outputs": [],
   "source": [
    "x = 0b11001010\n",
    "y = 0b10111100\n",
    "\n",
    "'{:b}'.format(x & y)"
   ]
  },
  {
   "cell_type": "markdown",
   "id": "57e85806",
   "metadata": {
    "slideshow": {
     "slide_type": "fragment"
    }
   },
   "source": [
    "### Bitwise `xor`"
   ]
  },
  {
   "cell_type": "code",
   "execution_count": null,
   "id": "9892bca8",
   "metadata": {
    "slideshow": {
     "slide_type": "fragment"
    }
   },
   "outputs": [],
   "source": [
    "x = 0b11001010\n",
    "y = 0b10111100\n",
    "\n",
    "'{:b}'.format(x ^ y)"
   ]
  },
  {
   "cell_type": "markdown",
   "id": "786b743f",
   "metadata": {
    "slideshow": {
     "slide_type": "subslide"
    }
   },
   "source": [
    "### Bitwise negation\n",
    "\n",
    "Equivalent to `-(x + 1)`."
   ]
  },
  {
   "cell_type": "code",
   "execution_count": null,
   "id": "a49ba57a",
   "metadata": {
    "slideshow": {
     "slide_type": "fragment"
    }
   },
   "outputs": [],
   "source": [
    "x = 0b11001010\n",
    "\n",
    "print('{:b}'.format(~x))"
   ]
  },
  {
   "cell_type": "code",
   "execution_count": null,
   "id": "e32882f7",
   "metadata": {
    "slideshow": {
     "slide_type": "fragment"
    }
   },
   "outputs": [],
   "source": [
    "~x"
   ]
  },
  {
   "cell_type": "code",
   "execution_count": null,
   "id": "081b489e",
   "metadata": {
    "slideshow": {
     "slide_type": "fragment"
    }
   },
   "outputs": [],
   "source": [
    "-(x + 1)"
   ]
  },
  {
   "cell_type": "markdown",
   "id": "0ecac739",
   "metadata": {
    "slideshow": {
     "slide_type": "subslide"
    }
   },
   "source": [
    "### Bitwise left shift"
   ]
  },
  {
   "cell_type": "code",
   "execution_count": null,
   "id": "fe6b1fe4",
   "metadata": {
    "slideshow": {
     "slide_type": "fragment"
    }
   },
   "outputs": [],
   "source": [
    "x = 0b11001010\n",
    "n = 3\n",
    "\n",
    "'{:b}'.format(x << n)"
   ]
  },
  {
   "cell_type": "code",
   "execution_count": null,
   "id": "df2504f0",
   "metadata": {
    "slideshow": {
     "slide_type": "fragment"
    }
   },
   "outputs": [],
   "source": [
    "x"
   ]
  },
  {
   "cell_type": "code",
   "execution_count": null,
   "id": "a8acff32",
   "metadata": {
    "slideshow": {
     "slide_type": "fragment"
    }
   },
   "outputs": [],
   "source": [
    "x << n"
   ]
  },
  {
   "cell_type": "code",
   "execution_count": null,
   "id": "18e74de3",
   "metadata": {
    "slideshow": {
     "slide_type": "fragment"
    }
   },
   "outputs": [],
   "source": [
    "x * 2 ** n"
   ]
  },
  {
   "cell_type": "markdown",
   "id": "f800f05d",
   "metadata": {
    "slideshow": {
     "slide_type": "subslide"
    }
   },
   "source": [
    "### Bitwise right shift"
   ]
  },
  {
   "cell_type": "code",
   "execution_count": null,
   "id": "ce8257cd",
   "metadata": {
    "slideshow": {
     "slide_type": "fragment"
    }
   },
   "outputs": [],
   "source": [
    "x = 0b11001010\n",
    "n = 3\n",
    "\n",
    "'{:b}'.format(x >> n)"
   ]
  },
  {
   "cell_type": "code",
   "execution_count": null,
   "id": "16f2fb6e",
   "metadata": {
    "slideshow": {
     "slide_type": "fragment"
    }
   },
   "outputs": [],
   "source": [
    "x"
   ]
  },
  {
   "cell_type": "code",
   "execution_count": null,
   "id": "abf53d32",
   "metadata": {
    "slideshow": {
     "slide_type": "fragment"
    }
   },
   "outputs": [],
   "source": [
    "x >> n"
   ]
  },
  {
   "cell_type": "code",
   "execution_count": null,
   "id": "b7949a18",
   "metadata": {
    "slideshow": {
     "slide_type": "fragment"
    }
   },
   "outputs": [],
   "source": [
    "x // 2 ** n"
   ]
  },
  {
   "cell_type": "markdown",
   "id": "3718fc36",
   "metadata": {
    "slideshow": {
     "slide_type": "slide"
    }
   },
   "source": [
    "# Assignment operators\n",
    "\n",
    "| Operator | Name                               | Example   | Meaning                                                                        |\n",
    "|----------|------------------------------------|-----------|--------------------------------------------------------------------------------|\n",
    "| =        | Assignment                         | x = 3     | Assign the value of right\\-hand side expression to the left\\-hand side operand |\n",
    "| \\+=      | Addition and assignment            | x \\+= 3   | Equivalent to x = x \\+ 3                                                       |\n",
    "| \\-=      | Subtraction and assignment         | x \\-= 3   | Equivalent to x = x \\- 3                                                       |\n",
    "| \\*=      | Multiplication and assignment      | x \\*= 3   | Equivalent to x = x \\* 3                                                       |\n",
    "| /=       | Division and assignment            | x /= 3    | Equivalent to x = x / 3                                                        |\n",
    "| %=       | Modulus and assignment             | x %= 3    | Equivalent to x = x % 3                                                        |\n",
    "| //=      | Floor division and assignment      | x //= 3   | Equivalent to x = x // 3                                                       |\n",
    "| \\*\\*=    | Exponentiation and assignment      | x \\*\\*= 3 | Equivalent to x = x \\*\\* 3                                                     |\n",
    "| &=       | Bitwise and and assignment         | x &= 3    | Equivalent to x = x & 3                                                        |\n",
    "| \\|=      | Bitwise or and assignment          | x \\|= 3   | Equivalent to x = x \\| 3                                                       |\n",
    "| ^=       | Bitwise xor and assignment         | x ^= 3    | Equivalent to x = x ^ 3                                                        |\n",
    "| <<=      | Bitwise left shift and assignment  | x <<= 3   | Equivalent to x = x << 3                                                       |\n",
    "| >>=      | Bitwise right shift and assignment | x >>= 3   | Equivalent to x = x >> 3        \n",
    "\n",
    "\n",
    "In short `x <op>= y` is equivalent to `x = x <op> y` for the above operators."
   ]
  },
  {
   "cell_type": "markdown",
   "id": "8d030a2b",
   "metadata": {
    "slideshow": {
     "slide_type": "subslide"
    }
   },
   "source": [
    "### Assignment"
   ]
  },
  {
   "cell_type": "code",
   "execution_count": null,
   "id": "2f70ed18",
   "metadata": {
    "slideshow": {
     "slide_type": "fragment"
    }
   },
   "outputs": [],
   "source": [
    "x = 5\n",
    "print(x)\n",
    "\n",
    "x = \"hello world\"\n",
    "print(x)"
   ]
  },
  {
   "cell_type": "markdown",
   "id": "9864b5bf",
   "metadata": {
    "slideshow": {
     "slide_type": "fragment"
    }
   },
   "source": [
    "### Addition and assignment"
   ]
  },
  {
   "cell_type": "code",
   "execution_count": null,
   "id": "41227f32",
   "metadata": {
    "slideshow": {
     "slide_type": "fragment"
    }
   },
   "outputs": [],
   "source": [
    "x = 5\n",
    "print(x)\n",
    "\n",
    "x += 3\n",
    "print(x)"
   ]
  },
  {
   "cell_type": "markdown",
   "id": "7a974596",
   "metadata": {
    "slideshow": {
     "slide_type": "subslide"
    }
   },
   "source": [
    "### Subtraction and assignment"
   ]
  },
  {
   "cell_type": "code",
   "execution_count": null,
   "id": "35221c74",
   "metadata": {
    "slideshow": {
     "slide_type": "fragment"
    }
   },
   "outputs": [],
   "source": [
    "x = 5\n",
    "print(x)\n",
    "\n",
    "x -= 3\n",
    "print(x)"
   ]
  },
  {
   "cell_type": "markdown",
   "id": "3c124854",
   "metadata": {
    "slideshow": {
     "slide_type": "fragment"
    }
   },
   "source": [
    "### Multiplication and assignment"
   ]
  },
  {
   "cell_type": "code",
   "execution_count": null,
   "id": "d2ef4d53",
   "metadata": {
    "slideshow": {
     "slide_type": "fragment"
    }
   },
   "outputs": [],
   "source": [
    "x = 5\n",
    "print(x)\n",
    "\n",
    "x *= 3\n",
    "print(x)"
   ]
  },
  {
   "cell_type": "markdown",
   "id": "1f3940ce",
   "metadata": {
    "slideshow": {
     "slide_type": "subslide"
    }
   },
   "source": [
    "### Division and assignment"
   ]
  },
  {
   "cell_type": "code",
   "execution_count": null,
   "id": "1f66980a",
   "metadata": {
    "slideshow": {
     "slide_type": "fragment"
    }
   },
   "outputs": [],
   "source": [
    "x = 5\n",
    "print(x)\n",
    "\n",
    "x /= 3\n",
    "print(x)"
   ]
  },
  {
   "cell_type": "markdown",
   "id": "4cad4d14",
   "metadata": {
    "slideshow": {
     "slide_type": "fragment"
    }
   },
   "source": [
    "### Modulus and assignment"
   ]
  },
  {
   "cell_type": "code",
   "execution_count": null,
   "id": "766b2565",
   "metadata": {
    "slideshow": {
     "slide_type": "fragment"
    }
   },
   "outputs": [],
   "source": [
    "x = 5\n",
    "print(x)\n",
    "\n",
    "x %= 3\n",
    "print(x)"
   ]
  },
  {
   "cell_type": "markdown",
   "id": "18a7c4cc",
   "metadata": {
    "slideshow": {
     "slide_type": "subslide"
    }
   },
   "source": [
    "### Floor division and assignment"
   ]
  },
  {
   "cell_type": "code",
   "execution_count": null,
   "id": "c1301494",
   "metadata": {
    "slideshow": {
     "slide_type": "fragment"
    }
   },
   "outputs": [],
   "source": [
    "x = 5\n",
    "print(x)\n",
    "\n",
    "x //= 3\n",
    "print(x)"
   ]
  },
  {
   "cell_type": "markdown",
   "id": "971fd118",
   "metadata": {
    "slideshow": {
     "slide_type": "fragment"
    }
   },
   "source": [
    "### Exponentiation and assignment"
   ]
  },
  {
   "cell_type": "code",
   "execution_count": null,
   "id": "155e5a10",
   "metadata": {
    "scrolled": true,
    "slideshow": {
     "slide_type": "fragment"
    }
   },
   "outputs": [],
   "source": [
    "x = 5\n",
    "print(x)\n",
    "\n",
    "x **= 3\n",
    "print(x)"
   ]
  },
  {
   "cell_type": "markdown",
   "id": "7ffb03f6",
   "metadata": {
    "slideshow": {
     "slide_type": "subslide"
    }
   },
   "source": [
    "### Bitwise `and` and assignment"
   ]
  },
  {
   "cell_type": "code",
   "execution_count": null,
   "id": "f5ea763e",
   "metadata": {
    "slideshow": {
     "slide_type": "fragment"
    }
   },
   "outputs": [],
   "source": [
    "x = 5\n",
    "print(x)\n",
    "\n",
    "x &= 3\n",
    "print(x)"
   ]
  },
  {
   "cell_type": "markdown",
   "id": "5c05578d",
   "metadata": {
    "slideshow": {
     "slide_type": "fragment"
    }
   },
   "source": [
    "### Bitwise `or` and assignment"
   ]
  },
  {
   "cell_type": "code",
   "execution_count": null,
   "id": "53541806",
   "metadata": {
    "scrolled": true,
    "slideshow": {
     "slide_type": "fragment"
    }
   },
   "outputs": [],
   "source": [
    "x = 5\n",
    "print(x)\n",
    "\n",
    "x |= 3\n",
    "print(x)"
   ]
  },
  {
   "cell_type": "markdown",
   "id": "0fe9fb1e",
   "metadata": {
    "slideshow": {
     "slide_type": "fragment"
    }
   },
   "source": [
    "### Bitwise `xor` and assignment"
   ]
  },
  {
   "cell_type": "code",
   "execution_count": null,
   "id": "b00a6f5c",
   "metadata": {
    "slideshow": {
     "slide_type": "fragment"
    }
   },
   "outputs": [],
   "source": [
    "x = 5\n",
    "print(x)\n",
    "\n",
    "x ^= 3\n",
    "print(x)"
   ]
  },
  {
   "cell_type": "markdown",
   "id": "d0446cef",
   "metadata": {
    "slideshow": {
     "slide_type": "subslide"
    }
   },
   "source": [
    "### Bitwise left shift and assignment"
   ]
  },
  {
   "cell_type": "code",
   "execution_count": null,
   "id": "a852625f",
   "metadata": {
    "slideshow": {
     "slide_type": "fragment"
    }
   },
   "outputs": [],
   "source": [
    "x = 5\n",
    "print(x)\n",
    "\n",
    "x <<= 3\n",
    "print(x)"
   ]
  },
  {
   "cell_type": "markdown",
   "id": "161ebe4a",
   "metadata": {
    "slideshow": {
     "slide_type": "fragment"
    }
   },
   "source": [
    "### Bitwise right shift and assignment"
   ]
  },
  {
   "cell_type": "code",
   "execution_count": null,
   "id": "d41d8c7f",
   "metadata": {
    "scrolled": true,
    "slideshow": {
     "slide_type": "fragment"
    }
   },
   "outputs": [],
   "source": [
    "x = 5\n",
    "print(x)\n",
    "\n",
    "x >>= 3\n",
    "print(x)"
   ]
  }
 ],
 "metadata": {
  "celltoolbar": "Slideshow",
  "kernelspec": {
   "display_name": "Python 3 (ipykernel)",
   "language": "python",
   "name": "python3"
  },
  "language_info": {
   "codemirror_mode": {
    "name": "ipython",
    "version": 3
   },
   "file_extension": ".py",
   "mimetype": "text/x-python",
   "name": "python",
   "nbconvert_exporter": "python",
   "pygments_lexer": "ipython3",
   "version": "3.8.10"
  },
  "vscode": {
   "interpreter": {
    "hash": "916dbcbb3f70747c44a77c7bcd40155683ae19c65e1c03b4aa3499c5328201f1"
   }
  }
 },
 "nbformat": 4,
 "nbformat_minor": 5
}
