{
 "cells": [
  {
   "cell_type": "markdown",
   "id": "d6515b7c",
   "metadata": {
    "slideshow": {
     "slide_type": "slide"
    }
   },
   "source": [
    "# Programming with Python\n",
    "\n",
    "## Lecture 06: `while` loops\n",
    "\n",
    "### Armen Gabrielyan\n",
    "\n",
    "#### Yerevan State University\n",
    "#### Portmind"
   ]
  },
  {
   "cell_type": "markdown",
   "id": "ee66ce71",
   "metadata": {
    "slideshow": {
     "slide_type": "slide"
    }
   },
   "source": [
    "# `while` loops\n",
    "\n",
    "Loop statements allow programmers to have a repeated execution of statements, which is known as **iteration**.\n",
    "\n",
    "```python\n",
    "while <condition>:\n",
    "    <block_of_statements>\n",
    "```\n",
    "\n",
    "- `<condition>` is an expression evaluated in a boolean context. As long as it evaluates to `True`, `<block_of_statements>` block is executed repeatedly. Otherwise, the loop stops and normal execution continues.\n",
    "- `<block_of_statements>` is a block that can include one or more statements."
   ]
  },
  {
   "cell_type": "code",
   "execution_count": null,
   "id": "a2159b5b",
   "metadata": {
    "slideshow": {
     "slide_type": "subslide"
    }
   },
   "outputs": [],
   "source": [
    "i = 0\n",
    "\n",
    "while i < 10:\n",
    "    print(i)\n",
    "    i += 1"
   ]
  },
  {
   "cell_type": "code",
   "execution_count": null,
   "id": "38ab5663",
   "metadata": {
    "slideshow": {
     "slide_type": "fragment"
    }
   },
   "outputs": [],
   "source": [
    "i = 10\n",
    "\n",
    "while i < 10:\n",
    "    print(i)\n",
    "    i += 1"
   ]
  },
  {
   "cell_type": "markdown",
   "id": "9b8e34f1",
   "metadata": {
    "slideshow": {
     "slide_type": "slide"
    }
   },
   "source": [
    "# `break` statement\n",
    "\n",
    "`break` is a control statement that is used to terminate the execution of a loop. When a `break` statement is encountered within a loop, the loop is immediately exited and the program control resumes at the next statement following the loop.\n",
    "\n",
    "```python\n",
    "while <condition>:\n",
    "    <block_of_statements_1>\n",
    "    break\n",
    "    <block_of_statements_2>\n",
    "<block_of_statements_3>\n",
    "```\n",
    "\n",
    "- `<condition>` is an expression evaluated in a boolean context. As long as it evaluates to `True`, loop body is executed.\n",
    "- `<block_of_statements_1>`, `<block_of_statements_2>` and `<block_of_statements_3>` are blocks that can include one or more statements.\n",
    "- `<block_of_statements_1>` may be executed while `<block_of_statements_2>` is not because it comes after `break` statement.\n",
    "- After `break` statement, the loop is terminated and `<block_of_statements_3>` continues the program execution."
   ]
  },
  {
   "cell_type": "code",
   "execution_count": null,
   "id": "f1741650",
   "metadata": {
    "slideshow": {
     "slide_type": "subslide"
    }
   },
   "outputs": [],
   "source": [
    "i = 0\n",
    "\n",
    "while i < 10:\n",
    "    if i == 5:\n",
    "        break\n",
    "\n",
    "    print(i)\n",
    "    i += 1\n",
    "\n",
    "print(f\"While loop ended: i = {i}\")"
   ]
  },
  {
   "cell_type": "markdown",
   "id": "eda34c22",
   "metadata": {
    "slideshow": {
     "slide_type": "slide"
    }
   },
   "source": [
    "# `continue` statement\n",
    "\n",
    "`continue` is a control statement that is used to skip the current iteration of a loop and move on to the next iteration. When a `continue` statement is encountered within a loop, the current iteration of the loop is terminated and the loop immediately starts the next iteration.\n",
    "\n",
    "```python\n",
    "while <condition>:\n",
    "    <block_of_statements_1>\n",
    "    continue\n",
    "    <block_of_statements_2>\n",
    "<block_of_statements_3>\n",
    "```\n",
    "\n",
    "- `<condition>` is an expression evaluated in a boolean context. As long as it evaluates to `True`, loop body is executed.\n",
    "- `<block_of_statements_1>`, `<block_of_statements_2>` and `<block_of_statements_3>` are blocks that can include one or more statements.\n",
    "- `<block_of_statements_1>` is executed while`<block_of_statements_2>` is not because it comes after `continue` statement.\n",
    "- After `continue` statement, the loop proceeds with the next loop iteration."
   ]
  },
  {
   "cell_type": "code",
   "execution_count": null,
   "id": "82aca827",
   "metadata": {
    "slideshow": {
     "slide_type": "subslide"
    }
   },
   "outputs": [],
   "source": [
    "i = 0\n",
    "\n",
    "while i < 10:\n",
    "    i += 1\n",
    "\n",
    "    if i % 2 == 0:\n",
    "        continue\n",
    "\n",
    "    print(i)\n",
    "\n",
    "print(f\"While loop ended: i = {i}\")"
   ]
  },
  {
   "cell_type": "markdown",
   "id": "16d82e73",
   "metadata": {
    "slideshow": {
     "slide_type": "slide"
    }
   },
   "source": [
    "# `while-else` statement\n",
    "\n",
    "```python\n",
    "while <condition>:\n",
    "    <block_of_statements_1>\n",
    "else:\n",
    "    <block_of_statements_2>\n",
    "```\n",
    "\n",
    "- `<condition>` is an expression evaluated in a boolean context. As long as it evaluates to `True`, loop body, i.e. `<block_of_statements_1>`, is executed.\n",
    "- `<block_of_statements_1>` and `<block_of_statements_2>` are blocks that can include one or more statements.\n",
    "- `<block_of_statements_2>` is executed only if the loop terminates by exhaustation, i.e. the loop is executed until `<condition>` evaluates to `False`."
   ]
  },
  {
   "cell_type": "code",
   "execution_count": null,
   "id": "09cd3e91",
   "metadata": {
    "slideshow": {
     "slide_type": "subslide"
    }
   },
   "outputs": [],
   "source": [
    "i = 0\n",
    "\n",
    "while i < 10:\n",
    "    print(i)\n",
    "    i += 1\n",
    "print(\"While loop ended\")"
   ]
  },
  {
   "cell_type": "code",
   "execution_count": null,
   "id": "d45f4697",
   "metadata": {
    "slideshow": {
     "slide_type": "fragment"
    }
   },
   "outputs": [],
   "source": [
    "i = 0\n",
    "\n",
    "while i < 10:\n",
    "    if i == 5:\n",
    "        break\n",
    "    print(i)\n",
    "    i += 1\n",
    "print(\"While loop ended\")"
   ]
  },
  {
   "cell_type": "code",
   "execution_count": null,
   "id": "542ab5e4",
   "metadata": {
    "slideshow": {
     "slide_type": "subslide"
    }
   },
   "outputs": [],
   "source": [
    "i = 0\n",
    "\n",
    "while i < 10:\n",
    "    print(i)\n",
    "    i += 1\n",
    "else:\n",
    "    print(\"While loop ended\")"
   ]
  },
  {
   "cell_type": "code",
   "execution_count": null,
   "id": "98888e4f",
   "metadata": {
    "scrolled": true,
    "slideshow": {
     "slide_type": "fragment"
    }
   },
   "outputs": [],
   "source": [
    "i = 0\n",
    "\n",
    "while i < 10:\n",
    "    if i == 5:\n",
    "        break\n",
    "    print(i)\n",
    "    i += 1\n",
    "else:\n",
    "    print(\"While loop ended\")"
   ]
  },
  {
   "cell_type": "markdown",
   "id": "6f5f3616",
   "metadata": {
    "slideshow": {
     "slide_type": "slide"
    }
   },
   "source": [
    "# Nested `while` statements\n",
    "\n",
    "```python\n",
    "while <condition_1>:\n",
    "    <block_of_statements_1>\n",
    "\n",
    "    while <condition_2>:\n",
    "        <block_of_statements_2>\n",
    "```\n",
    "\n",
    "- `<condition_1>` and `<condition_2>` are expressions evaluated in a boolean context.\n",
    "- `<block_of_statements_1>` and `<block_of_statements_2>` are blocks that can include one or more statements.\n",
    "- The body of outer loop, including the inner loop, is executed as long as `<condition_1>` evaluates to `True`.\n",
    "- The body of inner loop is executed as long as `<condition_2>` evaluates to `True`."
   ]
  },
  {
   "cell_type": "code",
   "execution_count": null,
   "id": "5239edc5",
   "metadata": {
    "scrolled": true,
    "slideshow": {
     "slide_type": "subslide"
    }
   },
   "outputs": [],
   "source": [
    "i = 0\n",
    "while i < 5:\n",
    "    j = 0\n",
    "    while j < 10:\n",
    "        print(f\"({i}, {j})\")\n",
    "        j += 1\n",
    "    i += 1"
   ]
  },
  {
   "cell_type": "code",
   "execution_count": null,
   "id": "9b1d3227",
   "metadata": {
    "slideshow": {
     "slide_type": "subslide"
    }
   },
   "outputs": [],
   "source": [
    "i = 0\n",
    "while i < 5:\n",
    "    j = 0\n",
    "    while j < 10:\n",
    "        k = 0\n",
    "        while k < 3:\n",
    "            print(f\"({i}, {j}, {k})\")\n",
    "            k += 1\n",
    "        j += 1\n",
    "    i += 1"
   ]
  },
  {
   "cell_type": "markdown",
   "id": "b1d52756",
   "metadata": {
    "slideshow": {
     "slide_type": "subslide"
    }
   },
   "source": [
    "## `break` from nested loops\n",
    "\n",
    "A `break` statement applies to the nearest enclosing loop."
   ]
  },
  {
   "cell_type": "code",
   "execution_count": null,
   "id": "e6318de7",
   "metadata": {
    "slideshow": {
     "slide_type": "subslide"
    }
   },
   "outputs": [],
   "source": [
    "i = 0\n",
    "while i < 5:\n",
    "    j = 0\n",
    "    while j < 10:\n",
    "        print(f\"({i}, {j})\")\n",
    "        j += 1\n",
    "        if j == 2:\n",
    "            break\n",
    "    i += 1"
   ]
  },
  {
   "cell_type": "code",
   "execution_count": null,
   "id": "c05bb400",
   "metadata": {
    "slideshow": {
     "slide_type": "subslide"
    }
   },
   "outputs": [],
   "source": [
    "i = 0\n",
    "while i < 5:\n",
    "    j = 0\n",
    "    while j < 10:\n",
    "        print(f\"({i}, {j})\")\n",
    "        j += 1\n",
    "        if j == 2:\n",
    "            break\n",
    "    i += 1\n",
    "    if i == 4:\n",
    "        break"
   ]
  },
  {
   "cell_type": "markdown",
   "id": "8b05d6af",
   "metadata": {
    "slideshow": {
     "slide_type": "slide"
    }
   },
   "source": [
    "# One-line `while` statements\n",
    "\n",
    "```python\n",
    "while <condition>: <statement_1>; <statement_2>; ...\n",
    "```\n",
    "\n",
    "- `<condition>` is an expression evaluated in a boolean context.\n",
    "- `<statement_1>`, `<statement_2>`, ... are several statements.\n",
    "- As long as `<condition>` evaluates to `True`, `<statement_1>`, `<statement_2>`, ... are executed.\n",
    "\n",
    "**Note:** This is not a recommended construct."
   ]
  },
  {
   "cell_type": "code",
   "execution_count": null,
   "id": "bf801ae4",
   "metadata": {
    "slideshow": {
     "slide_type": "subslide"
    }
   },
   "outputs": [],
   "source": [
    "# Not recommended\n",
    "\n",
    "i = 10\n",
    "\n",
    "while i > 0: print(i); i -= 1"
   ]
  },
  {
   "cell_type": "markdown",
   "id": "3d8c91c2",
   "metadata": {
    "slideshow": {
     "slide_type": "slide"
    }
   },
   "source": [
    "# Infinite loops\n",
    "\n",
    "- Infinite loops are such loops where the condition always evaluates to `True` and the loop can theoretically execute forever.\n",
    "- Sometimes infinite loops useful for running programs that need to wait for an event almost forever, such as web server waiting for a request.\n",
    "- Usually, infinite loops have some termination conditions implemented via `break` statements."
   ]
  },
  {
   "cell_type": "code",
   "execution_count": null,
   "id": "bfe248ee",
   "metadata": {
    "slideshow": {
     "slide_type": "subslide"
    }
   },
   "outputs": [],
   "source": [
    "while True:\n",
    "    print(\"Hello world\")"
   ]
  },
  {
   "cell_type": "code",
   "execution_count": null,
   "id": "6c84230d",
   "metadata": {
    "slideshow": {
     "slide_type": "subslide"
    }
   },
   "outputs": [],
   "source": [
    "i = 1\n",
    "\n",
    "while True:\n",
    "    print(i)\n",
    "    i += 1"
   ]
  },
  {
   "cell_type": "code",
   "execution_count": null,
   "id": "b8a087d5",
   "metadata": {
    "slideshow": {
     "slide_type": "subslide"
    }
   },
   "outputs": [],
   "source": [
    "i = 1\n",
    "\n",
    "while True:\n",
    "    print(i)\n",
    "    i += 1\n",
    "    if i == 10:\n",
    "        break"
   ]
  },
  {
   "cell_type": "code",
   "execution_count": null,
   "id": "459c295c",
   "metadata": {
    "slideshow": {
     "slide_type": "subslide"
    }
   },
   "outputs": [],
   "source": [
    "i = 1\n",
    "\n",
    "while True:\n",
    "    print(i)\n",
    "    i += 1\n",
    "    if i == 10:\n",
    "        break\n",
    "    i **= 2\n",
    "    if i > 10:\n",
    "        print(i)\n",
    "        break"
   ]
  },
  {
   "cell_type": "markdown",
   "id": "67ef7f34",
   "metadata": {
    "slideshow": {
     "slide_type": "subslide"
    }
   },
   "source": [
    "## Factorial"
   ]
  },
  {
   "cell_type": "code",
   "execution_count": null,
   "id": "560051f7",
   "metadata": {
    "slideshow": {
     "slide_type": "fragment"
    }
   },
   "outputs": [],
   "source": [
    "while True:\n",
    "    n = int(input(\"Enter a non-negative number: \"))\n",
    "    \n",
    "    if n >= 0:\n",
    "        break\n",
    "    \n",
    "    print(\"The number you entered is not non-negative\")\n",
    "\n",
    "factorial = 1\n",
    "i = 2\n",
    "\n",
    "while i <= n:\n",
    "    factorial *= i\n",
    "    i += 1\n",
    "    \n",
    "print(f\"{n}! = {factorial}\")"
   ]
  },
  {
   "cell_type": "markdown",
   "id": "fd0a44eb",
   "metadata": {
    "slideshow": {
     "slide_type": "subslide"
    }
   },
   "source": [
    "## Fibonacci"
   ]
  },
  {
   "cell_type": "code",
   "execution_count": null,
   "id": "93c7305e",
   "metadata": {
    "slideshow": {
     "slide_type": "fragment"
    }
   },
   "outputs": [],
   "source": [
    "while True:\n",
    "    n = int(input(\"Enter a non-negative number: \"))\n",
    "    \n",
    "    if n >= 0:\n",
    "        break\n",
    "    \n",
    "    print(\"The number you entered is not non-negative\")\n",
    "\n",
    "x, y = 0, 1\n",
    "i = 0\n",
    "\n",
    "while i < n:\n",
    "    x, y = y, x + y\n",
    "    i += 1\n",
    "    \n",
    "print(f\"{n}th Fibonacci number is {x}\")"
   ]
  },
  {
   "cell_type": "code",
   "execution_count": null,
   "id": "43169cc7",
   "metadata": {},
   "outputs": [],
   "source": []
  }
 ],
 "metadata": {
  "celltoolbar": "Slideshow",
  "kernelspec": {
   "display_name": "Python 3 (ipykernel)",
   "language": "python",
   "name": "python3"
  },
  "language_info": {
   "codemirror_mode": {
    "name": "ipython",
    "version": 3
   },
   "file_extension": ".py",
   "mimetype": "text/x-python",
   "name": "python",
   "nbconvert_exporter": "python",
   "pygments_lexer": "ipython3",
   "version": "3.8.10"
  },
  "vscode": {
   "interpreter": {
    "hash": "916dbcbb3f70747c44a77c7bcd40155683ae19c65e1c03b4aa3499c5328201f1"
   }
  }
 },
 "nbformat": 4,
 "nbformat_minor": 5
}
