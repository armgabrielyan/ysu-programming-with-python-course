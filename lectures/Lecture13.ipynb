{
 "cells": [
  {
   "cell_type": "markdown",
   "id": "74750d32",
   "metadata": {
    "slideshow": {
     "slide_type": "slide"
    }
   },
   "source": [
    "# Programming with Python\n",
    "\n",
    "## Lecture 13: Functions\n",
    "\n",
    "### Armen Gabrielyan\n",
    "\n",
    "#### Yerevan State University\n",
    "#### Portmind"
   ]
  },
  {
   "cell_type": "markdown",
   "id": "26efc8b9",
   "metadata": {
    "slideshow": {
     "slide_type": "slide"
    }
   },
   "source": [
    "## Mutable default parameters\n",
    "\n",
    "Function default parameters are defined only once. This means that the same object is referenced as a default value when the function is called."
   ]
  },
  {
   "cell_type": "code",
   "execution_count": null,
   "id": "09a27d11",
   "metadata": {
    "slideshow": {
     "slide_type": "fragment"
    }
   },
   "outputs": [],
   "source": [
    "def append_42(sequence=[]):\n",
    "    sequence.append(42)\n",
    "    print(sequence)"
   ]
  },
  {
   "cell_type": "code",
   "execution_count": null,
   "id": "ba1ab5a1",
   "metadata": {
    "slideshow": {
     "slide_type": "fragment"
    }
   },
   "outputs": [],
   "source": [
    "append_42([1, 2, 3])"
   ]
  },
  {
   "cell_type": "code",
   "execution_count": null,
   "id": "cfc97225",
   "metadata": {
    "slideshow": {
     "slide_type": "fragment"
    }
   },
   "outputs": [],
   "source": [
    "append_42([\"red\", \"green\", \"yellow\"])"
   ]
  },
  {
   "cell_type": "code",
   "execution_count": null,
   "id": "88afe8ac",
   "metadata": {
    "slideshow": {
     "slide_type": "fragment"
    }
   },
   "outputs": [],
   "source": [
    "append_42()"
   ]
  },
  {
   "cell_type": "code",
   "execution_count": null,
   "id": "e95ad439",
   "metadata": {
    "slideshow": {
     "slide_type": "subslide"
    }
   },
   "outputs": [],
   "source": [
    "append_42()"
   ]
  },
  {
   "cell_type": "code",
   "execution_count": null,
   "id": "05a11ef7",
   "metadata": {
    "slideshow": {
     "slide_type": "fragment"
    }
   },
   "outputs": [],
   "source": [
    "append_42()"
   ]
  },
  {
   "cell_type": "markdown",
   "id": "0f5489c0",
   "metadata": {
    "slideshow": {
     "slide_type": "subslide"
    }
   },
   "source": [
    "Each time the function is called without providing an argument for the default parameter, the same list object is mutated. This can be verified by checking the object identifer via `id()` function."
   ]
  },
  {
   "cell_type": "code",
   "execution_count": null,
   "id": "1ffeed19",
   "metadata": {
    "slideshow": {
     "slide_type": "fragment"
    }
   },
   "outputs": [],
   "source": [
    "def append_42(sequence=[]):\n",
    "    print(f\"The id of default parameter is {id(sequence)}.\")\n",
    "    sequence.append(42)\n",
    "    print(sequence)"
   ]
  },
  {
   "cell_type": "code",
   "execution_count": null,
   "id": "6245ed64",
   "metadata": {
    "slideshow": {
     "slide_type": "fragment"
    }
   },
   "outputs": [],
   "source": [
    "append_42()"
   ]
  },
  {
   "cell_type": "code",
   "execution_count": null,
   "id": "a6552472",
   "metadata": {
    "slideshow": {
     "slide_type": "fragment"
    }
   },
   "outputs": [],
   "source": [
    "append_42()"
   ]
  },
  {
   "cell_type": "code",
   "execution_count": null,
   "id": "74d384d7",
   "metadata": {
    "slideshow": {
     "slide_type": "fragment"
    }
   },
   "outputs": [],
   "source": [
    "append_42()"
   ]
  },
  {
   "cell_type": "markdown",
   "id": "29b05445",
   "metadata": {
    "slideshow": {
     "slide_type": "subslide"
    }
   },
   "source": [
    "### Solution\n",
    "\n",
    "This problem can be resolved by using a sentinel value to indicate that no argument is passed to the function. Generally, `None` can be used as a sentinel value in this kind of situations."
   ]
  },
  {
   "cell_type": "code",
   "execution_count": null,
   "id": "79493605",
   "metadata": {
    "slideshow": {
     "slide_type": "fragment"
    }
   },
   "outputs": [],
   "source": [
    "def append_42(sequence=None):\n",
    "    if sequence is None:\n",
    "        sequence = []\n",
    "    sequence.append(42)\n",
    "    print(sequence)"
   ]
  },
  {
   "cell_type": "code",
   "execution_count": null,
   "id": "4486c35c",
   "metadata": {
    "slideshow": {
     "slide_type": "fragment"
    }
   },
   "outputs": [],
   "source": [
    "append_42()"
   ]
  },
  {
   "cell_type": "code",
   "execution_count": null,
   "id": "9dc6f1fd",
   "metadata": {
    "slideshow": {
     "slide_type": "fragment"
    }
   },
   "outputs": [],
   "source": [
    "append_42()"
   ]
  },
  {
   "cell_type": "code",
   "execution_count": null,
   "id": "25380d45",
   "metadata": {
    "slideshow": {
     "slide_type": "fragment"
    }
   },
   "outputs": [],
   "source": [
    "append_42()"
   ]
  },
  {
   "cell_type": "markdown",
   "id": "0203d0b4",
   "metadata": {
    "slideshow": {
     "slide_type": "slide"
    }
   },
   "source": [
    "# Pass-by-value vs Pass-by-reference\n",
    "\n",
    "- **Pass-by-value:** A copy of the argument is passed to the function.\n",
    "- **Pass-by-reference:** A reference to the argument is passed to the function.\n",
    "\n",
    "In Python, a hybrid of pass-by-value and pass-by-reference is applied, i.e. the reference to an object (not memory location) is passed to the function, but the reference is passed by value. This is known as pass-by-assignment or pass-by-sharing. "
   ]
  },
  {
   "cell_type": "code",
   "execution_count": null,
   "id": "6edd5142",
   "metadata": {
    "slideshow": {
     "slide_type": "fragment"
    }
   },
   "outputs": [],
   "source": [
    "def set_to_42(param):\n",
    "    param = 42\n",
    "    \n",
    "\n",
    "sequence = [24, 24.67, \"foo\", [1, 2, 3], (1, 2, 3), {1, 2, 3}, {\"a\": 1, \"b\": 2, \"c\": 3}]\n",
    "    \n",
    "for item in sequence:\n",
    "    set_to_42(item)\n",
    "    print(item)"
   ]
  },
  {
   "cell_type": "markdown",
   "id": "9a27f9c1",
   "metadata": {
    "slideshow": {
     "slide_type": "subslide"
    }
   },
   "source": [
    "Nevertheless, mutable objects, such as lists, sets, dictionaries, can still be mutated because their reference is passed to the function."
   ]
  },
  {
   "cell_type": "code",
   "execution_count": null,
   "id": "32984591",
   "metadata": {
    "slideshow": {
     "slide_type": "fragment"
    }
   },
   "outputs": [],
   "source": [
    "def add_42(sequence):\n",
    "    sequence.add(42)\n",
    "    \n",
    "sequence = {1, 2, 3}\n",
    "add_42(sequence)\n",
    "sequence"
   ]
  },
  {
   "cell_type": "code",
   "execution_count": null,
   "id": "78e5ede2",
   "metadata": {
    "slideshow": {
     "slide_type": "fragment"
    }
   },
   "outputs": [],
   "source": [
    "def put_42(dictionary):\n",
    "    dictionary[\"42\"] = 42\n",
    "    \n",
    "d = {\"a\": 1, \"b\": 2, \"c\": 3}\n",
    "put_42(d)\n",
    "d"
   ]
  },
  {
   "cell_type": "markdown",
   "id": "37ca3ba3",
   "metadata": {
    "slideshow": {
     "slide_type": "slide"
    }
   },
   "source": [
    "# `return` statement\n",
    "\n",
    "`return` statement is a fundamental idea in functions. It allows us to send back objects to function callers and exits the function. These returned objects are known as return values.\n",
    "\n",
    "`return` statement can return any kind of object from functions. Its general form is as follows:\n",
    "\n",
    "```python\n",
    "def <function_name>([<parameters>]):\n",
    "    <statement(s)>\n",
    "    return [<expression>]\n",
    "    \n",
    "response = <function_name>([<arguments>])\n",
    "```\n",
    "\n",
    "This means that the function `<function_name>` sends back the result of `<expression>` to the caller. If `<expression>` is omitted, an empty value of `None` is returned."
   ]
  },
  {
   "cell_type": "markdown",
   "id": "ec6a1c6f",
   "metadata": {
    "slideshow": {
     "slide_type": "slide"
    }
   },
   "source": [
    "### Void functions"
   ]
  },
  {
   "cell_type": "code",
   "execution_count": null,
   "id": "c7d8f3cb",
   "metadata": {
    "slideshow": {
     "slide_type": "subslide"
    }
   },
   "outputs": [],
   "source": [
    "def greet():\n",
    "    print(\"Hello world!\")\n",
    "    print(\"We are learning Python\")\n",
    "    \n",
    "greet()"
   ]
  },
  {
   "cell_type": "code",
   "execution_count": null,
   "id": "bc9cfc98",
   "metadata": {
    "slideshow": {
     "slide_type": "fragment"
    }
   },
   "outputs": [],
   "source": [
    "def greet():\n",
    "    print(\"Hello world!\")\n",
    "    print(\"We are learning Python\")\n",
    "    return\n",
    "    \n",
    "greet()"
   ]
  },
  {
   "cell_type": "code",
   "execution_count": null,
   "id": "9f078137",
   "metadata": {
    "slideshow": {
     "slide_type": "fragment"
    }
   },
   "outputs": [],
   "source": [
    "response = greet()\n",
    "print(response)"
   ]
  },
  {
   "cell_type": "markdown",
   "id": "9dd71daa",
   "metadata": {
    "slideshow": {
     "slide_type": "subslide"
    }
   },
   "source": [
    "`return` statement allows us to exit from a function early. Usually it is used as a way of guard check."
   ]
  },
  {
   "cell_type": "code",
   "execution_count": null,
   "id": "460594ed",
   "metadata": {
    "slideshow": {
     "slide_type": "fragment"
    }
   },
   "outputs": [],
   "source": [
    "def vote(name, age):\n",
    "    if age < 18:\n",
    "        return\n",
    "    print(f\"{name} voted\")"
   ]
  },
  {
   "cell_type": "code",
   "execution_count": null,
   "id": "ee3e4bba",
   "metadata": {
    "slideshow": {
     "slide_type": "fragment"
    }
   },
   "outputs": [],
   "source": [
    "vote(\"John Doe\", 42)"
   ]
  },
  {
   "cell_type": "code",
   "execution_count": null,
   "id": "5908cddb",
   "metadata": {
    "slideshow": {
     "slide_type": "fragment"
    }
   },
   "outputs": [],
   "source": [
    "vote(\"Bob Smith\", 17)"
   ]
  },
  {
   "cell_type": "markdown",
   "id": "52438293",
   "metadata": {
    "slideshow": {
     "slide_type": "slide"
    }
   },
   "source": [
    "### Data-returning functions"
   ]
  },
  {
   "cell_type": "code",
   "execution_count": null,
   "id": "b9e71dbf",
   "metadata": {
    "slideshow": {
     "slide_type": "fragment"
    }
   },
   "outputs": [],
   "source": [
    "def euclidean_distance(x1, y1, x2, y2):\n",
    "    distance = ((x1 - x2) ** 2 + (y1 - y2) ** 2) ** 0.5\n",
    "    return distance"
   ]
  },
  {
   "cell_type": "code",
   "execution_count": null,
   "id": "2216f98a",
   "metadata": {
    "slideshow": {
     "slide_type": "fragment"
    }
   },
   "outputs": [],
   "source": [
    "euclidean_distance(0, 1, 2, 3)"
   ]
  },
  {
   "cell_type": "code",
   "execution_count": null,
   "id": "3f43fdc8",
   "metadata": {
    "slideshow": {
     "slide_type": "fragment"
    }
   },
   "outputs": [],
   "source": [
    "def compute_factorial(number):\n",
    "    factorial = 1\n",
    "    for i in range(2, number + 1):\n",
    "        factorial *= i\n",
    "    return factorial"
   ]
  },
  {
   "cell_type": "code",
   "execution_count": null,
   "id": "b4a839f3",
   "metadata": {
    "slideshow": {
     "slide_type": "fragment"
    }
   },
   "outputs": [],
   "source": [
    "compute_factorial(5)"
   ]
  },
  {
   "cell_type": "code",
   "execution_count": null,
   "id": "e4f8d1e5",
   "metadata": {
    "slideshow": {
     "slide_type": "subslide"
    }
   },
   "outputs": [],
   "source": [
    "def get_colors():\n",
    "    return [\"white\", \"black\", \"red\", \"green\", \"yellow\"]"
   ]
  },
  {
   "cell_type": "code",
   "execution_count": null,
   "id": "d6396534",
   "metadata": {
    "slideshow": {
     "slide_type": "fragment"
    }
   },
   "outputs": [],
   "source": [
    "get_colors()"
   ]
  },
  {
   "cell_type": "code",
   "execution_count": null,
   "id": "4d33d5a9",
   "metadata": {
    "slideshow": {
     "slide_type": "fragment"
    }
   },
   "outputs": [],
   "source": [
    "get_colors()[1:3]"
   ]
  },
  {
   "cell_type": "code",
   "execution_count": null,
   "id": "407f7ece",
   "metadata": {
    "slideshow": {
     "slide_type": "fragment"
    }
   },
   "outputs": [],
   "source": [
    "def get_person():\n",
    "    return {\"first_name\": \"John\", \"last_name\": \"Doe\", \"age\": 42}"
   ]
  },
  {
   "cell_type": "code",
   "execution_count": null,
   "id": "f1ee75ee",
   "metadata": {
    "slideshow": {
     "slide_type": "fragment"
    }
   },
   "outputs": [],
   "source": [
    "get_person()"
   ]
  },
  {
   "cell_type": "code",
   "execution_count": null,
   "id": "020f9416",
   "metadata": {
    "slideshow": {
     "slide_type": "fragment"
    }
   },
   "outputs": [],
   "source": [
    "get_person()[\"age\"]"
   ]
  },
  {
   "cell_type": "code",
   "execution_count": null,
   "id": "0a4e5184",
   "metadata": {
    "slideshow": {
     "slide_type": "subslide"
    }
   },
   "outputs": [],
   "source": [
    "def compute_fibonacci(n):\n",
    "    if n == 0:\n",
    "        return 0\n",
    "    if n == 1:\n",
    "        return 1\n",
    "    a, b = 0, 1\n",
    "    for i in range(n - 1):\n",
    "        a, b = b, a + b\n",
    "    return b"
   ]
  },
  {
   "cell_type": "code",
   "execution_count": null,
   "id": "366be269",
   "metadata": {
    "slideshow": {
     "slide_type": "fragment"
    }
   },
   "outputs": [],
   "source": [
    "compute_fibonacci(0)"
   ]
  },
  {
   "cell_type": "code",
   "execution_count": null,
   "id": "15391928",
   "metadata": {
    "slideshow": {
     "slide_type": "fragment"
    }
   },
   "outputs": [],
   "source": [
    "compute_fibonacci(1)"
   ]
  },
  {
   "cell_type": "code",
   "execution_count": null,
   "id": "7248e8cd",
   "metadata": {
    "slideshow": {
     "slide_type": "fragment"
    }
   },
   "outputs": [],
   "source": [
    "compute_fibonacci(11)"
   ]
  },
  {
   "cell_type": "markdown",
   "id": "10d9425e",
   "metadata": {
    "slideshow": {
     "slide_type": "slide"
    }
   },
   "source": [
    "## Returning multiple values\n",
    "\n",
    "Tuples can be used to return multiple values from a function."
   ]
  },
  {
   "cell_type": "code",
   "execution_count": null,
   "id": "c362ea18",
   "metadata": {
    "slideshow": {
     "slide_type": "fragment"
    }
   },
   "outputs": [],
   "source": [
    "def compute_rectangle_attributes(length, width):\n",
    "    perimeter = 2 * (length + width)\n",
    "    area = length * width\n",
    "    return perimeter, area"
   ]
  },
  {
   "cell_type": "code",
   "execution_count": null,
   "id": "a9adf995",
   "metadata": {
    "slideshow": {
     "slide_type": "fragment"
    }
   },
   "outputs": [],
   "source": [
    "perimeter, area = compute_rectangle_attributes(5, 8)\n",
    "print(f\"Perimeter: {perimeter}\")\n",
    "print(f\"Area: {area}\")"
   ]
  },
  {
   "cell_type": "markdown",
   "id": "02261d7e",
   "metadata": {
    "slideshow": {
     "slide_type": "slide"
    }
   },
   "source": [
    "## Variable-length arguments"
   ]
  },
  {
   "cell_type": "code",
   "execution_count": null,
   "id": "fdae8bbf",
   "metadata": {
    "slideshow": {
     "slide_type": "fragment"
    }
   },
   "outputs": [],
   "source": [
    "def sum_of_squares(x1, x2, x3):\n",
    "    return x1 ** 2 + x2 ** 2 + x3 ** 2\n",
    "\n",
    "sum_of_squares(1, 2, 3)"
   ]
  },
  {
   "cell_type": "code",
   "execution_count": null,
   "id": "38bb9be3",
   "metadata": {
    "slideshow": {
     "slide_type": "fragment"
    }
   },
   "outputs": [],
   "source": [
    "def sum_of_squares(x1, x2, x3, x4):\n",
    "    return x1 ** 2 + x2 ** 2 + x3 ** 2 + x4 ** 2\n",
    "\n",
    "sum_of_squares(1, 2, 3, 4)"
   ]
  },
  {
   "cell_type": "markdown",
   "id": "9883ad6c",
   "metadata": {
    "slideshow": {
     "slide_type": "subslide"
    }
   },
   "source": [
    "A sequence object can be used as an argument, such as list or tuple."
   ]
  },
  {
   "cell_type": "code",
   "execution_count": null,
   "id": "216004a6",
   "metadata": {
    "slideshow": {
     "slide_type": "fragment"
    }
   },
   "outputs": [],
   "source": [
    "def sum_of_squares(x):\n",
    "    result = 0\n",
    "    for i in x:\n",
    "        result += i ** 2\n",
    "    return result"
   ]
  },
  {
   "cell_type": "code",
   "execution_count": null,
   "id": "ea7169a5",
   "metadata": {
    "slideshow": {
     "slide_type": "fragment"
    }
   },
   "outputs": [],
   "source": [
    "sum_of_squares([1, 2, 3])"
   ]
  },
  {
   "cell_type": "code",
   "execution_count": null,
   "id": "6b3e0489",
   "metadata": {
    "slideshow": {
     "slide_type": "fragment"
    }
   },
   "outputs": [],
   "source": [
    "sum_of_squares([1, 2, 3, 4])"
   ]
  },
  {
   "cell_type": "code",
   "execution_count": null,
   "id": "eb16bf38",
   "metadata": {
    "slideshow": {
     "slide_type": "fragment"
    }
   },
   "outputs": [],
   "source": [
    "sum_of_squares([1, 2, 3, 4, 5])"
   ]
  },
  {
   "cell_type": "markdown",
   "id": "3e3062f5",
   "metadata": {
    "slideshow": {
     "slide_type": "subslide"
    }
   },
   "source": [
    "### Argument tuple packing\n",
    "\n",
    "Variable-length arguments can be provided to a function via argument tuple packing indicated by `*`."
   ]
  },
  {
   "cell_type": "code",
   "execution_count": null,
   "id": "cb14229f",
   "metadata": {
    "slideshow": {
     "slide_type": "fragment"
    }
   },
   "outputs": [],
   "source": [
    "def sum_of_squares(*args):\n",
    "    return args, type(args)"
   ]
  },
  {
   "cell_type": "code",
   "execution_count": null,
   "id": "ba370a87",
   "metadata": {
    "slideshow": {
     "slide_type": "fragment"
    }
   },
   "outputs": [],
   "source": [
    "sum_of_squares(1, 2, 3)"
   ]
  },
  {
   "cell_type": "code",
   "execution_count": null,
   "id": "be4e8f44",
   "metadata": {
    "slideshow": {
     "slide_type": "fragment"
    }
   },
   "outputs": [],
   "source": [
    "def sum_of_squares(*args):\n",
    "    result = 0\n",
    "    for i in args:\n",
    "        result += i ** 2\n",
    "    return result"
   ]
  },
  {
   "cell_type": "code",
   "execution_count": null,
   "id": "eeb1d85f",
   "metadata": {
    "slideshow": {
     "slide_type": "fragment"
    }
   },
   "outputs": [],
   "source": [
    "sum_of_squares(1, 2, 3)"
   ]
  },
  {
   "cell_type": "code",
   "execution_count": null,
   "id": "350ba27d",
   "metadata": {
    "slideshow": {
     "slide_type": "fragment"
    }
   },
   "outputs": [],
   "source": [
    "sum_of_squares(1, 2, 3, 4, 5)"
   ]
  },
  {
   "cell_type": "markdown",
   "id": "b07c8efe",
   "metadata": {
    "slideshow": {
     "slide_type": "subslide"
    }
   },
   "source": [
    "A tuple can be unpacked via `*` when passed as an argument to a function."
   ]
  },
  {
   "cell_type": "code",
   "execution_count": null,
   "id": "6d795dfb",
   "metadata": {
    "slideshow": {
     "slide_type": "fragment"
    }
   },
   "outputs": [],
   "source": [
    "t = (10, 7, 15, 6, 42)\n",
    "sum_of_squares(*t)"
   ]
  },
  {
   "cell_type": "markdown",
   "id": "fc404da9",
   "metadata": {
    "slideshow": {
     "slide_type": "subslide"
    }
   },
   "source": [
    "### Argument dictionary packing\n",
    "\n",
    "Variable-length arguments can be provided to a function via argument dictionary packing indicated by `**`."
   ]
  },
  {
   "cell_type": "code",
   "execution_count": null,
   "id": "38294916",
   "metadata": {
    "slideshow": {
     "slide_type": "fragment"
    }
   },
   "outputs": [],
   "source": [
    "def pretty_print(**kwargs):\n",
    "    return kwargs, type(kwargs)"
   ]
  },
  {
   "cell_type": "code",
   "execution_count": null,
   "id": "f35e0f87",
   "metadata": {
    "slideshow": {
     "slide_type": "fragment"
    }
   },
   "outputs": [],
   "source": [
    "pretty_print(name=\"Alice\", age=24)"
   ]
  },
  {
   "cell_type": "code",
   "execution_count": null,
   "id": "284cff10",
   "metadata": {
    "slideshow": {
     "slide_type": "fragment"
    }
   },
   "outputs": [],
   "source": [
    "def pretty_print(**kwargs):\n",
    "    for key, value in kwargs.items():\n",
    "        print(f\"{key} => {value}\")"
   ]
  },
  {
   "cell_type": "code",
   "execution_count": null,
   "id": "dcb047a4",
   "metadata": {
    "slideshow": {
     "slide_type": "fragment"
    }
   },
   "outputs": [],
   "source": [
    "pretty_print(name=\"Alice\", age=24)"
   ]
  },
  {
   "cell_type": "code",
   "execution_count": null,
   "id": "29c04dc6",
   "metadata": {
    "slideshow": {
     "slide_type": "fragment"
    }
   },
   "outputs": [],
   "source": [
    "pretty_print(a=1, b=[2, 3, 4], c=\"Hello world!\")"
   ]
  },
  {
   "cell_type": "markdown",
   "id": "ecb5a5ff",
   "metadata": {
    "slideshow": {
     "slide_type": "subslide"
    }
   },
   "source": [
    "A dictionary can be unpacked via `**` when passed as an argument to a function."
   ]
  },
  {
   "cell_type": "code",
   "execution_count": null,
   "id": "5bf68ebe",
   "metadata": {
    "slideshow": {
     "slide_type": "fragment"
    }
   },
   "outputs": [],
   "source": [
    "d = {'name': 'Alice', 'age': 24}\n",
    "pretty_print(**d)"
   ]
  },
  {
   "cell_type": "markdown",
   "id": "baef4d76",
   "metadata": {
    "slideshow": {
     "slide_type": "slide"
    }
   },
   "source": [
    "## Keyword-only arguments\n",
    "\n",
    "[PEP 3102 – Keyword-Only Arguments](https://peps.python.org/pep-3102/) added a support for defining keyword-only arguments. These are arguments that need to be provided by keyword and cannot be passed positional arguments. They are defined by using `*` before their definition in the parameter list."
   ]
  },
  {
   "cell_type": "code",
   "execution_count": null,
   "id": "56288c81",
   "metadata": {
    "slideshow": {
     "slide_type": "fragment"
    }
   },
   "outputs": [],
   "source": [
    "def sum_of_squares(*args):\n",
    "    result = 0\n",
    "    for i in args:\n",
    "        result += i ** 2\n",
    "    return result"
   ]
  },
  {
   "cell_type": "code",
   "execution_count": null,
   "id": "47519cfd",
   "metadata": {
    "slideshow": {
     "slide_type": "fragment"
    }
   },
   "outputs": [],
   "source": [
    "sum_of_squares(-2, 1, 5)"
   ]
  },
  {
   "cell_type": "code",
   "execution_count": null,
   "id": "4dad9d2d",
   "metadata": {
    "slideshow": {
     "slide_type": "fragment"
    }
   },
   "outputs": [],
   "source": [
    "def sum_of_squares(ignore_negatives, *args):\n",
    "    result = 0\n",
    "    numbers = args\n",
    "    if ignore_negatives:\n",
    "        numbers = [number for number in numbers if number >= 0]\n",
    "    for i in numbers:\n",
    "        result += i ** 2\n",
    "    return result"
   ]
  },
  {
   "cell_type": "code",
   "execution_count": null,
   "id": "2fe54cf8",
   "metadata": {
    "slideshow": {
     "slide_type": "fragment"
    }
   },
   "outputs": [],
   "source": [
    "sum_of_squares(True, -2, 1, 5)"
   ]
  },
  {
   "cell_type": "markdown",
   "id": "6604417c",
   "metadata": {
    "slideshow": {
     "slide_type": "subslide"
    }
   },
   "source": [
    "### Problems\n",
    "\n",
    "- `ignore_negatives` parameter cannot have a default value.\n",
    "- `ignore_negatives` is difficult to distinguish from other arguments."
   ]
  },
  {
   "cell_type": "code",
   "execution_count": null,
   "id": "8a1d27a9",
   "metadata": {
    "slideshow": {
     "slide_type": "fragment"
    }
   },
   "outputs": [],
   "source": [
    "def sum_of_squares(ignore_negatives=False, *args):\n",
    "    result = 0\n",
    "    numbers = args\n",
    "    if ignore_negatives:\n",
    "        numbers = [number for number in numbers if number >= 0]\n",
    "    for i in numbers:\n",
    "        result += i ** 2\n",
    "    return result"
   ]
  },
  {
   "cell_type": "code",
   "execution_count": null,
   "id": "8dc8b02a",
   "metadata": {
    "slideshow": {
     "slide_type": "fragment"
    }
   },
   "outputs": [],
   "source": [
    "sum_of_squares(-2, 1, 5)"
   ]
  },
  {
   "cell_type": "code",
   "execution_count": null,
   "id": "34251528",
   "metadata": {
    "slideshow": {
     "slide_type": "fragment"
    }
   },
   "outputs": [],
   "source": [
    "sum_of_squares(ignore_negatives=False, -2, 1, 5)"
   ]
  },
  {
   "cell_type": "code",
   "execution_count": null,
   "id": "e18465af",
   "metadata": {
    "slideshow": {
     "slide_type": "fragment"
    }
   },
   "outputs": [],
   "source": [
    "sum_of_squares(-2, 1, 5, ignore_negatives=False)"
   ]
  },
  {
   "cell_type": "markdown",
   "id": "5f92643d",
   "metadata": {
    "slideshow": {
     "slide_type": "subslide"
    }
   },
   "source": [
    "### Solution\n",
    "\n",
    "Keyword-only arguments can resolve this issue by defining `*args` before `ignore_negatives` parameter."
   ]
  },
  {
   "cell_type": "code",
   "execution_count": null,
   "id": "e6ea2b7f",
   "metadata": {
    "slideshow": {
     "slide_type": "fragment"
    }
   },
   "outputs": [],
   "source": [
    "def sum_of_squares(*args, ignore_negatives=False):\n",
    "    result = 0\n",
    "    numbers = args\n",
    "    if ignore_negatives:\n",
    "        numbers = [number for number in numbers if number >= 0]\n",
    "    for i in numbers:\n",
    "        result += i ** 2\n",
    "    return result"
   ]
  },
  {
   "cell_type": "code",
   "execution_count": null,
   "id": "3d0df6a8",
   "metadata": {
    "slideshow": {
     "slide_type": "fragment"
    }
   },
   "outputs": [],
   "source": [
    "sum_of_squares(-2, 1, 5)"
   ]
  },
  {
   "cell_type": "code",
   "execution_count": null,
   "id": "fc4adf8e",
   "metadata": {
    "slideshow": {
     "slide_type": "fragment"
    }
   },
   "outputs": [],
   "source": [
    "sum_of_squares(-2, 1, 5, ignore_negatives=True)"
   ]
  },
  {
   "cell_type": "code",
   "execution_count": null,
   "id": "d6d88da9",
   "metadata": {
    "slideshow": {
     "slide_type": "subslide"
    }
   },
   "outputs": [],
   "source": [
    "def sum_of_squares(*args, ignore_negatives):\n",
    "    result = 0\n",
    "    numbers = args\n",
    "    if ignore_negatives:\n",
    "        numbers = [number for number in numbers if number >= 0]\n",
    "    for i in numbers:\n",
    "        result += i ** 2\n",
    "    return result"
   ]
  },
  {
   "cell_type": "code",
   "execution_count": null,
   "id": "c894b2a2",
   "metadata": {
    "slideshow": {
     "slide_type": "fragment"
    }
   },
   "outputs": [],
   "source": [
    "sum_of_squares(-2, 1, 5)"
   ]
  },
  {
   "cell_type": "code",
   "execution_count": null,
   "id": "b2bae8c7",
   "metadata": {
    "slideshow": {
     "slide_type": "fragment"
    }
   },
   "outputs": [],
   "source": [
    "sum_of_squares(-2, 1, 5, ignore_negatives=True)"
   ]
  },
  {
   "cell_type": "markdown",
   "id": "b3cb4d1e",
   "metadata": {
    "slideshow": {
     "slide_type": "subslide"
    }
   },
   "source": [
    "There are cases when a function does not accept variadic arguments, but it would benefit from using a keyword-only argument. In such cases, the argument name of variadic arguments may be omitted, i.e. `*args` -> `*`."
   ]
  },
  {
   "cell_type": "code",
   "execution_count": null,
   "id": "9fd92612",
   "metadata": {
    "slideshow": {
     "slide_type": "fragment"
    }
   },
   "outputs": [],
   "source": [
    "def compare(a, b, key=None):\n",
    "    if key == \"length\":\n",
    "        return 0 if len(a) == len(b) else 1 if len(a) > len(b) else -1\n",
    "    if key == \"uniqueness\":\n",
    "        set_a = set(a)\n",
    "        set_b = set(b)\n",
    "        return 0 if len(set_a) == len(set_b) else 1 if len(set_a) > len(set_b) else -1\n",
    "    return 0 if a == b else 1 if a > b else -1"
   ]
  },
  {
   "cell_type": "code",
   "execution_count": null,
   "id": "9b0e768a",
   "metadata": {
    "slideshow": {
     "slide_type": "fragment"
    }
   },
   "outputs": [],
   "source": [
    "compare(\"abc\", \"def\")"
   ]
  },
  {
   "cell_type": "code",
   "execution_count": null,
   "id": "fef3ddcf",
   "metadata": {
    "slideshow": {
     "slide_type": "fragment"
    }
   },
   "outputs": [],
   "source": [
    "compare(\"abcba\", \"def\", \"length\")"
   ]
  },
  {
   "cell_type": "code",
   "execution_count": null,
   "id": "e901b7f9",
   "metadata": {
    "slideshow": {
     "slide_type": "fragment"
    }
   },
   "outputs": [],
   "source": [
    "compare(\"abcba\", \"def\", \"uniqueness\")"
   ]
  },
  {
   "cell_type": "code",
   "execution_count": null,
   "id": "2c3dd2cd",
   "metadata": {
    "slideshow": {
     "slide_type": "subslide"
    }
   },
   "outputs": [],
   "source": [
    "# This can cause subtle issues\n",
    "\n",
    "def compare(a, b, *ignore, key=None):\n",
    "    if key == \"length\":\n",
    "        return 0 if len(a) == len(b) else 1 if len(a) > len(b) else -1\n",
    "    if key == \"uniqueness\":\n",
    "        set_a = set(a)\n",
    "        set_b = set(b)\n",
    "        return 0 if len(set_a) == len(set_b) else 1 if len(set_a) > len(set_b) else -1\n",
    "    return 0 if a == b else 1 if a > b else -1"
   ]
  },
  {
   "cell_type": "code",
   "execution_count": null,
   "id": "d38dac22",
   "metadata": {
    "slideshow": {
     "slide_type": "fragment"
    }
   },
   "outputs": [],
   "source": [
    "compare(\"abcba\", \"def\", key=\"length\")"
   ]
  },
  {
   "cell_type": "code",
   "execution_count": null,
   "id": "fd67a276",
   "metadata": {
    "slideshow": {
     "slide_type": "fragment"
    }
   },
   "outputs": [],
   "source": [
    "compare(\"abcba\", \"def\", key=\"uniqueness\")"
   ]
  },
  {
   "cell_type": "code",
   "execution_count": null,
   "id": "bd010ee1",
   "metadata": {
    "slideshow": {
     "slide_type": "fragment"
    }
   },
   "outputs": [],
   "source": [
    "compare(\"abcba\", \"def\", \"foo\", \"bar\")"
   ]
  },
  {
   "cell_type": "code",
   "execution_count": null,
   "id": "799a3a8a",
   "metadata": {
    "slideshow": {
     "slide_type": "fragment"
    }
   },
   "outputs": [],
   "source": [
    "compare(\"abcba\", \"def\", \"foo\", \"bar\", key=\"uniqueness\")"
   ]
  },
  {
   "cell_type": "code",
   "execution_count": null,
   "id": "67cdf3fb",
   "metadata": {
    "slideshow": {
     "slide_type": "fragment"
    }
   },
   "outputs": [],
   "source": [
    "# very subtle problem\n",
    "compare(\"abcba\", \"def\", \"uniqueness\")"
   ]
  },
  {
   "cell_type": "markdown",
   "id": "de7f913e",
   "metadata": {
    "slideshow": {
     "slide_type": "subslide"
    }
   },
   "source": [
    "### Solution\n",
    "\n",
    "Varargs parameter name can be skipped, so we can define `*` in the parameter definition instead of `*args`."
   ]
  },
  {
   "cell_type": "code",
   "execution_count": null,
   "id": "fe0082fe",
   "metadata": {
    "slideshow": {
     "slide_type": "fragment"
    }
   },
   "outputs": [],
   "source": [
    "def compare(a, b, *, key=None):\n",
    "    if key == \"length\":\n",
    "        return 0 if len(a) == len(b) else 1 if len(a) > len(b) else -1\n",
    "    if key == \"uniqueness\":\n",
    "        set_a = set(a)\n",
    "        set_b = set(b)\n",
    "        return 0 if len(set_a) == len(set_b) else 1 if len(set_a) > len(set_b) else -1\n",
    "    return 0 if a == b else 1 if a > b else -1"
   ]
  },
  {
   "cell_type": "code",
   "execution_count": null,
   "id": "3cea1eeb",
   "metadata": {
    "slideshow": {
     "slide_type": "fragment"
    }
   },
   "outputs": [],
   "source": [
    "compare(\"abcba\", \"def\")"
   ]
  },
  {
   "cell_type": "code",
   "execution_count": null,
   "id": "5a5b48bf",
   "metadata": {
    "slideshow": {
     "slide_type": "fragment"
    }
   },
   "outputs": [],
   "source": [
    "compare(\"abcba\", \"def\", key=\"length\")"
   ]
  },
  {
   "cell_type": "code",
   "execution_count": null,
   "id": "5b7ffa25",
   "metadata": {
    "slideshow": {
     "slide_type": "fragment"
    }
   },
   "outputs": [],
   "source": [
    "compare(\"abcba\", \"def\", key=\"uniqueness\")"
   ]
  },
  {
   "cell_type": "code",
   "execution_count": null,
   "id": "453b1ddb",
   "metadata": {
    "slideshow": {
     "slide_type": "fragment"
    }
   },
   "outputs": [],
   "source": [
    "compare(\"abcba\", \"def\", \"foo\", \"bar\")"
   ]
  },
  {
   "cell_type": "code",
   "execution_count": null,
   "id": "9f6f120b",
   "metadata": {
    "slideshow": {
     "slide_type": "fragment"
    }
   },
   "outputs": [],
   "source": [
    "compare(\"abcba\", \"def\", \"uniqueness\")"
   ]
  },
  {
   "cell_type": "markdown",
   "id": "d48ca2d8",
   "metadata": {
    "slideshow": {
     "slide_type": "slide"
    }
   },
   "source": [
    "## Positional-only arguments\n",
    "\n",
    "[PEP 570 – Python Positional-Only Parameters](https://peps.python.org/pep-0570/) introduced a new syntax to Python 3.8 to define positional-only arguments. This can be applied by specifying a `/` in the parameter definition and any parameter that comes before it will be considered as positional-only."
   ]
  },
  {
   "cell_type": "code",
   "execution_count": null,
   "id": "d732290e",
   "metadata": {
    "slideshow": {
     "slide_type": "fragment"
    }
   },
   "outputs": [],
   "source": [
    "def greet(name, /, greeting):\n",
    "    print(f\"{greeting} {name}!\")"
   ]
  },
  {
   "cell_type": "code",
   "execution_count": null,
   "id": "3d298a59",
   "metadata": {
    "slideshow": {
     "slide_type": "fragment"
    }
   },
   "outputs": [],
   "source": [
    "greet(\"John Doe\", \"Hello\")"
   ]
  },
  {
   "cell_type": "code",
   "execution_count": null,
   "id": "b47ff040",
   "metadata": {
    "slideshow": {
     "slide_type": "fragment"
    }
   },
   "outputs": [],
   "source": [
    "greet(\"John Doe\", greeting=\"Hello\")"
   ]
  },
  {
   "cell_type": "code",
   "execution_count": null,
   "id": "bccd0413",
   "metadata": {
    "slideshow": {
     "slide_type": "fragment"
    }
   },
   "outputs": [],
   "source": [
    "greet(name=\"John Doe\", greeting=\"Hello\")"
   ]
  },
  {
   "cell_type": "markdown",
   "id": "eb1c4fe9",
   "metadata": {
    "slideshow": {
     "slide_type": "slide"
    }
   },
   "source": [
    "## Combination of keyword-only and positional-only arguments"
   ]
  },
  {
   "cell_type": "code",
   "execution_count": null,
   "id": "b7275a07",
   "metadata": {
    "slideshow": {
     "slide_type": "fragment"
    }
   },
   "outputs": [],
   "source": [
    "def f(pos_arg_1, pos_arg_2, /, arg_1, arg_2, *, kwarg_1, kwarg_2):\n",
    "    print(pos_arg_1, pos_arg_2, arg_1, arg_2, kwarg_1, kwarg_2)"
   ]
  },
  {
   "cell_type": "code",
   "execution_count": null,
   "id": "6ed61865",
   "metadata": {
    "slideshow": {
     "slide_type": "fragment"
    }
   },
   "outputs": [],
   "source": [
    "f(1, 2, 3, 4, kwarg_1=5, kwarg_2=6)"
   ]
  },
  {
   "cell_type": "code",
   "execution_count": null,
   "id": "6080edd2",
   "metadata": {
    "slideshow": {
     "slide_type": "fragment"
    }
   },
   "outputs": [],
   "source": [
    "f(1, 2, arg_1=3, arg_2=4, kwarg_1=5, kwarg_2=6)"
   ]
  },
  {
   "cell_type": "markdown",
   "id": "9f5cbb9f",
   "metadata": {
    "slideshow": {
     "slide_type": "slide"
    }
   },
   "source": [
    "# Problem solving session"
   ]
  },
  {
   "cell_type": "markdown",
   "id": "8e5bf291",
   "metadata": {
    "slideshow": {
     "slide_type": "fragment"
    }
   },
   "source": [
    "## Problem set 1\n",
    "\n",
    "1. Write a Python function to remove duplicates from a list (with/without preserving the order).\n",
    "2. Write a Python function to return the frequency of each element in a given list.\n",
    "3. Write a Python function to merge two sorted lists into a single sorted list.\n",
    "4. Write a Python function to remove all the occurrences of an element from a list.\n",
    "5. Two lists representing two positive integers are given. The digits are stored in reverse order. Write a Python function to sum the two integers and return the result as a list."
   ]
  },
  {
   "cell_type": "markdown",
   "id": "3b1ffa80",
   "metadata": {
    "slideshow": {
     "slide_type": "slide"
    }
   },
   "source": [
    "## Problem set 2\n",
    "\n",
    "1. Write a Python function to get symmetric tuples from a list of tuples. Each tuple consists of two elements, i.e. they are in the form of $(x, y)$. A tuple $(x, y)$ is symmetric if there is another (y, x) tuple in the list.\n",
    "2. Write a Python function that assigns the frequency to each tuple in a given list as a last tuple element.\n",
    "3. Write a Python function to convert a binary tuple to an integer.\n",
    "4. Write a Python function to generate a list of tuples for a standard card deck.\n",
    "5. Write a Python function to find the union and intersection of two tuples (with/without preserving the order)."
   ]
  },
  {
   "cell_type": "markdown",
   "id": "de309e00",
   "metadata": {
    "slideshow": {
     "slide_type": "slide"
    }
   },
   "source": [
    "## Problem set 3\n",
    "\n",
    "1. Write a Python function to get all the dictionary keys whose corresponding values are equal to the given value.\n",
    "2. Write a Python function to check if two sequences are anagrams or not.\n",
    "3. Write a Python function to create a dictionary in which the values map to the keys that they belong to in a given dictionary.\n",
    "4. Write a Python function to remove duplicate values from a dictionary.\n",
    "5. Write a Python function to get the common elements from two dictionaries."
   ]
  },
  {
   "cell_type": "code",
   "execution_count": null,
   "id": "18c120bc",
   "metadata": {},
   "outputs": [],
   "source": []
  }
 ],
 "metadata": {
  "celltoolbar": "Slideshow",
  "kernelspec": {
   "display_name": "Python 3 (ipykernel)",
   "language": "python",
   "name": "python3"
  },
  "language_info": {
   "codemirror_mode": {
    "name": "ipython",
    "version": 3
   },
   "file_extension": ".py",
   "mimetype": "text/x-python",
   "name": "python",
   "nbconvert_exporter": "python",
   "pygments_lexer": "ipython3",
   "version": "3.8.10"
  }
 },
 "nbformat": 4,
 "nbformat_minor": 5
}
