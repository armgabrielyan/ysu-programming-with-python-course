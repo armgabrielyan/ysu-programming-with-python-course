{
 "cells": [
  {
   "cell_type": "markdown",
   "id": "d6515b7c",
   "metadata": {
    "slideshow": {
     "slide_type": "slide"
    }
   },
   "source": [
    "# Programming with Python\n",
    "\n",
    "## Lecture 06: String formatting and control flow / `if` statements\n",
    "\n",
    "### Armen Gabrielyan\n",
    "\n",
    "#### Yerevan State University\n",
    "#### Portmind"
   ]
  },
  {
   "cell_type": "markdown",
   "id": "98662ea9",
   "metadata": {
    "slideshow": {
     "slide_type": "slide"
    }
   },
   "source": [
    "# String formatting / interpolation\n",
    "\n",
    "- printf-style string formatting via `%` operator\n",
    "- string formatting via `str.format`\n",
    "- string interpolation via f-strings"
   ]
  },
  {
   "cell_type": "markdown",
   "id": "7218ea3c",
   "metadata": {
    "slideshow": {
     "slide_type": "subslide"
    }
   },
   "source": [
    "## printf-style\n",
    "\n",
    "- `<format> % <values>` construct is used and conversion specifications in `<format>` are replaced by `<values>`.\n",
    "- `<format>` is a string that includes conversion specifiers, such as:\n",
    "    - `'d'`: for signed integer decimal format\n",
    "    - `'f'`: for floating point decimal format\n",
    "    - `'s'`: for string format\n",
    "\n",
    "For complete reference to formatting and specifications, see:\n",
    "- [printf-style String Formatting](https://docs.python.org/3/library/stdtypes.html#printf-style-string-formatting)\n",
    "- [Format String Syntax](https://docs.python.org/3/library/string.html#format-string-syntax)"
   ]
  },
  {
   "cell_type": "code",
   "execution_count": null,
   "id": "668d9d95",
   "metadata": {
    "slideshow": {
     "slide_type": "subslide"
    }
   },
   "outputs": [],
   "source": [
    "age = 19\n",
    "\n",
    "\"John is %d years old and his GPA is 19.57.\" % age"
   ]
  },
  {
   "cell_type": "code",
   "execution_count": null,
   "id": "a69750b0",
   "metadata": {
    "slideshow": {
     "slide_type": "fragment"
    }
   },
   "outputs": [],
   "source": [
    "age = 19\n",
    "name = \"John\"\n",
    "\n",
    "\"%s is %d years old and his GPA is 19.57.\" % (name, age)"
   ]
  },
  {
   "cell_type": "code",
   "execution_count": null,
   "id": "520fc504",
   "metadata": {
    "slideshow": {
     "slide_type": "subslide"
    }
   },
   "outputs": [],
   "source": [
    "age = 19\n",
    "name = \"John\"\n",
    "gpa = 19.57\n",
    "\n",
    "\"%s is %d years old and his GPA is %.2f.\" % (name, age, gpa)"
   ]
  },
  {
   "cell_type": "code",
   "execution_count": null,
   "id": "7314d6d9",
   "metadata": {
    "slideshow": {
     "slide_type": "fragment"
    }
   },
   "outputs": [],
   "source": [
    "age = 19\n",
    "name = \"John\"\n",
    "gpa = 19.57\n",
    "\n",
    "\"%(name)s is %(age)d years old and his GPA is %(gpa).2f.\" % {\"name\": name, \"age\": age, \"gpa\": gpa}"
   ]
  },
  {
   "cell_type": "markdown",
   "id": "3c74301e",
   "metadata": {
    "slideshow": {
     "slide_type": "subslide"
    }
   },
   "source": [
    "## `str.format`\n",
    "\n",
    "- `str.format` method can be called on a string object that includes `{}` replacement fields.\n",
    "- Usual formatting conversion specifiers can be used.\n",
    "\n",
    "For complete reference to formatting and specifications, see:\n",
    "- [str.format documentation](https://docs.python.org/3/library/stdtypes.html#str.format)\n",
    "- [Format String Syntax](https://docs.python.org/3/library/string.html#format-string-syntax)"
   ]
  },
  {
   "cell_type": "code",
   "execution_count": null,
   "id": "164d0343",
   "metadata": {
    "slideshow": {
     "slide_type": "subslide"
    }
   },
   "outputs": [],
   "source": [
    "age = 19\n",
    "\n",
    "\"John is {} years old and his GPA is 19.57.\".format(age)"
   ]
  },
  {
   "cell_type": "code",
   "execution_count": null,
   "id": "dff0d215",
   "metadata": {
    "slideshow": {
     "slide_type": "fragment"
    }
   },
   "outputs": [],
   "source": [
    "age = 19\n",
    "name = \"John\"\n",
    "\n",
    "\"{1} is {0} years old and his GPA is 19.57.\".format(age, name)"
   ]
  },
  {
   "cell_type": "code",
   "execution_count": null,
   "id": "07de5344",
   "metadata": {
    "slideshow": {
     "slide_type": "subslide"
    }
   },
   "outputs": [],
   "source": [
    "age = 19\n",
    "name = \"John\"\n",
    "gpa = 19.57\n",
    "\n",
    "\"{1} is {0} years old and his GPA is {2:.2f}.\".format(age, name, gpa)"
   ]
  },
  {
   "cell_type": "code",
   "execution_count": null,
   "id": "03434bbb",
   "metadata": {
    "slideshow": {
     "slide_type": "fragment"
    }
   },
   "outputs": [],
   "source": [
    "age = 19\n",
    "name = \"John\"\n",
    "gpa = 19.57\n",
    "\n",
    "\"{name} is {age} years old and his GPA is {gpa}.\".format(age=age, name=name, gpa=gpa)"
   ]
  },
  {
   "cell_type": "markdown",
   "id": "7d57b286",
   "metadata": {
    "slideshow": {
     "slide_type": "subslide"
    }
   },
   "source": [
    "## String interpolation\n",
    "\n",
    "- String interpolation can be performed via `f`-strings.\n",
    "- `f`-strings allow us to embed expressions inside string literals.\n",
    "- Usual formatting conversion specifiers can be used.\n",
    "\n",
    "For complete reference to formatting and specifications, see:\n",
    "- [PEP 498 – Literal String Interpolation](https://peps.python.org/pep-0498/)\n",
    "- [Format String Syntax](https://docs.python.org/3/library/string.html#format-string-syntax)"
   ]
  },
  {
   "cell_type": "code",
   "execution_count": null,
   "id": "2ecee8a4",
   "metadata": {
    "slideshow": {
     "slide_type": "subslide"
    }
   },
   "outputs": [],
   "source": [
    "age = 19\n",
    "name = \"John\"\n",
    "gpa = 19.57\n",
    "\n",
    "f\"{name} is {age} years old and his GPA is {gpa}.\""
   ]
  },
  {
   "cell_type": "code",
   "execution_count": null,
   "id": "7ab0686d",
   "metadata": {
    "slideshow": {
     "slide_type": "fragment"
    }
   },
   "outputs": [],
   "source": [
    "born = 2004\n",
    "\n",
    "f\"John is {2023 - born} years old and his GPA is 19.57.\""
   ]
  },
  {
   "cell_type": "code",
   "execution_count": null,
   "id": "9c9c751d",
   "metadata": {
    "slideshow": {
     "slide_type": "subslide"
    }
   },
   "outputs": [],
   "source": [
    "born = 2004\n",
    "grade1 = 19\n",
    "grade2 = 17\n",
    "grade3 = 20\n",
    "\n",
    "f\"John is {2023 - born} years old and his GPA is {((grade1 + grade2 + grade3) / 3):.2f}.\""
   ]
  },
  {
   "cell_type": "markdown",
   "id": "7960497a",
   "metadata": {
    "slideshow": {
     "slide_type": "slide"
    }
   },
   "source": [
    "# Type casting\n",
    "\n",
    "**Type casting** is a technique of converting a value from one data type to another data type.\n",
    "\n",
    "- **Implicit type casting:** Python interpreter automatically performs data type converion.\n",
    "- **Explicit type casting:** Programmer needs to programatically convert from one data type to another."
   ]
  },
  {
   "cell_type": "markdown",
   "id": "5bbbe381",
   "metadata": {
    "slideshow": {
     "slide_type": "subslide"
    }
   },
   "source": [
    "## Implicit type casting"
   ]
  },
  {
   "cell_type": "code",
   "execution_count": null,
   "id": "04318e64",
   "metadata": {
    "slideshow": {
     "slide_type": "fragment"
    }
   },
   "outputs": [],
   "source": [
    "x = 5\n",
    "y = 6.5\n",
    "\n",
    "type(x), type(y)"
   ]
  },
  {
   "cell_type": "code",
   "execution_count": null,
   "id": "839c1e1a",
   "metadata": {
    "slideshow": {
     "slide_type": "fragment"
    }
   },
   "outputs": [],
   "source": [
    "x + y, type(x + y)"
   ]
  },
  {
   "cell_type": "markdown",
   "id": "7b0fabab",
   "metadata": {
    "slideshow": {
     "slide_type": "subslide"
    }
   },
   "source": [
    "## Explicit type casting\n",
    "\n",
    "The following are common functions that can be used for explicit type casting:\n",
    "\n",
    "- `int`: `int()`\n",
    "- `float`: `float()`\n",
    "- `complex`: `complex()`\n",
    "- `bool`: `bool()`\n",
    "- `str`: `str()`"
   ]
  },
  {
   "cell_type": "code",
   "execution_count": null,
   "id": "ea64c5e1",
   "metadata": {
    "slideshow": {
     "slide_type": "subslide"
    }
   },
   "outputs": [],
   "source": [
    "int()"
   ]
  },
  {
   "cell_type": "code",
   "execution_count": null,
   "id": "9561ad07",
   "metadata": {
    "slideshow": {
     "slide_type": "fragment"
    }
   },
   "outputs": [],
   "source": [
    "int(\"123\")"
   ]
  },
  {
   "cell_type": "code",
   "execution_count": null,
   "id": "2f294015",
   "metadata": {
    "slideshow": {
     "slide_type": "fragment"
    }
   },
   "outputs": [],
   "source": [
    "int(123.55)"
   ]
  },
  {
   "cell_type": "code",
   "execution_count": null,
   "id": "873c85b1",
   "metadata": {
    "slideshow": {
     "slide_type": "fragment"
    }
   },
   "outputs": [],
   "source": [
    "int(1 + 1j)"
   ]
  },
  {
   "cell_type": "code",
   "execution_count": null,
   "id": "1b0c2b75",
   "metadata": {
    "slideshow": {
     "slide_type": "subslide"
    }
   },
   "outputs": [],
   "source": [
    "float()"
   ]
  },
  {
   "cell_type": "code",
   "execution_count": null,
   "id": "58cd07d0",
   "metadata": {
    "slideshow": {
     "slide_type": "fragment"
    }
   },
   "outputs": [],
   "source": [
    "float(\"123.55\")"
   ]
  },
  {
   "cell_type": "code",
   "execution_count": null,
   "id": "655e8fa1",
   "metadata": {
    "slideshow": {
     "slide_type": "fragment"
    }
   },
   "outputs": [],
   "source": [
    "float(123)"
   ]
  },
  {
   "cell_type": "code",
   "execution_count": null,
   "id": "e44d30ec",
   "metadata": {
    "slideshow": {
     "slide_type": "fragment"
    }
   },
   "outputs": [],
   "source": [
    "float(1 + 1j)"
   ]
  },
  {
   "cell_type": "code",
   "execution_count": null,
   "id": "c4d7236f",
   "metadata": {
    "slideshow": {
     "slide_type": "subslide"
    }
   },
   "outputs": [],
   "source": [
    "complex()"
   ]
  },
  {
   "cell_type": "code",
   "execution_count": null,
   "id": "4696905f",
   "metadata": {
    "slideshow": {
     "slide_type": "fragment"
    }
   },
   "outputs": [],
   "source": [
    "complex(1, 2)"
   ]
  },
  {
   "cell_type": "code",
   "execution_count": null,
   "id": "aea18a52",
   "metadata": {
    "slideshow": {
     "slide_type": "fragment"
    }
   },
   "outputs": [],
   "source": [
    "complex(\"1+2j\")"
   ]
  },
  {
   "cell_type": "code",
   "execution_count": null,
   "id": "25ab0255",
   "metadata": {
    "slideshow": {
     "slide_type": "fragment"
    }
   },
   "outputs": [],
   "source": [
    "complex(\"1 + 2j\")"
   ]
  },
  {
   "cell_type": "code",
   "execution_count": null,
   "id": "03b5f7e6",
   "metadata": {
    "slideshow": {
     "slide_type": "fragment"
    }
   },
   "outputs": [],
   "source": [
    "complex(1)"
   ]
  },
  {
   "cell_type": "code",
   "execution_count": null,
   "id": "9bb76edf",
   "metadata": {
    "slideshow": {
     "slide_type": "fragment"
    }
   },
   "outputs": [],
   "source": [
    "complex(1.2)"
   ]
  },
  {
   "cell_type": "code",
   "execution_count": null,
   "id": "6044d20b",
   "metadata": {
    "slideshow": {
     "slide_type": "subslide"
    }
   },
   "outputs": [],
   "source": [
    "bool()"
   ]
  },
  {
   "cell_type": "code",
   "execution_count": null,
   "id": "63bc6b25",
   "metadata": {
    "slideshow": {
     "slide_type": "fragment"
    }
   },
   "outputs": [],
   "source": [
    "bool(1)"
   ]
  },
  {
   "cell_type": "code",
   "execution_count": null,
   "id": "9824cc1e",
   "metadata": {
    "slideshow": {
     "slide_type": "fragment"
    }
   },
   "outputs": [],
   "source": [
    "bool(0)"
   ]
  },
  {
   "cell_type": "code",
   "execution_count": null,
   "id": "12993666",
   "metadata": {
    "slideshow": {
     "slide_type": "subslide"
    }
   },
   "outputs": [],
   "source": [
    "str()"
   ]
  },
  {
   "cell_type": "code",
   "execution_count": null,
   "id": "a53a8b60",
   "metadata": {
    "slideshow": {
     "slide_type": "fragment"
    }
   },
   "outputs": [],
   "source": [
    "str(123)"
   ]
  },
  {
   "cell_type": "code",
   "execution_count": null,
   "id": "68765389",
   "metadata": {
    "slideshow": {
     "slide_type": "fragment"
    }
   },
   "outputs": [],
   "source": [
    "str(123.45)"
   ]
  },
  {
   "cell_type": "code",
   "execution_count": null,
   "id": "5b6bd38f",
   "metadata": {
    "slideshow": {
     "slide_type": "fragment"
    }
   },
   "outputs": [],
   "source": [
    "str(1.2 + 3.4j)"
   ]
  },
  {
   "cell_type": "code",
   "execution_count": null,
   "id": "03cbb84a",
   "metadata": {
    "slideshow": {
     "slide_type": "fragment"
    }
   },
   "outputs": [],
   "source": [
    "str([1, 2, 3])"
   ]
  },
  {
   "cell_type": "markdown",
   "id": "8691f351",
   "metadata": {
    "slideshow": {
     "slide_type": "slide"
    }
   },
   "source": [
    "# Control flow\n",
    "\n",
    "**Control flow** is the order in which statements are executed.\n",
    "\n",
    "- `if` statements are conditional statements and allow us to have branching in our programs.\n",
    "- loop statements are iterative statements and allow us to have repetition in our programs."
   ]
  },
  {
   "cell_type": "markdown",
   "id": "6575486b",
   "metadata": {
    "slideshow": {
     "slide_type": "slide"
    }
   },
   "source": [
    "# `if` statements\n",
    "\n",
    "`if` statement is a way to have conditional statements in programs.\n",
    "\n",
    "```python\n",
    "if <condition>:\n",
    "    <block_of_statements>\n",
    "```\n",
    "\n",
    "- `<condition>` is an expression evaluated in a boolean context. If it evaluates to `True`, `<block_of_statements>` block is executed. Otherwise, it is skipped and nothing happens in this scope.\n",
    "- `<block_of_statements>` is a block that can include one or more statements."
   ]
  },
  {
   "cell_type": "code",
   "execution_count": null,
   "id": "b87f72ae",
   "metadata": {
    "slideshow": {
     "slide_type": "subslide"
    }
   },
   "outputs": [],
   "source": [
    "temperature = -10\n",
    "\n",
    "if temperature < 0:\n",
    "    print(\"It is cold outside\")"
   ]
  },
  {
   "cell_type": "code",
   "execution_count": null,
   "id": "75ddf9c2",
   "metadata": {
    "slideshow": {
     "slide_type": "fragment"
    }
   },
   "outputs": [],
   "source": [
    "temperature = 5\n",
    "\n",
    "if temperature < 0:\n",
    "    print(\"It is cold outside\")"
   ]
  },
  {
   "cell_type": "markdown",
   "id": "12313d7a",
   "metadata": {
    "slideshow": {
     "slide_type": "slide"
    }
   },
   "source": [
    "# Indentation and block\n",
    "\n",
    "Block is a group of statements that is defined by its indentation. In Python, indentation is usually defined as 4 whitespaces.\n",
    "\n",
    "```python\n",
    "if <condition>:\n",
    "    <statement_1>\n",
    "    <statement_2>\n",
    "    ...\n",
    "    <statement_n>\n",
    "\n",
    "<statement_n+1>\n",
    "```"
   ]
  },
  {
   "cell_type": "code",
   "execution_count": null,
   "id": "37426f5e",
   "metadata": {
    "slideshow": {
     "slide_type": "subslide"
    }
   },
   "outputs": [],
   "source": [
    "temperature = -10\n",
    "is_heater_on = False\n",
    "\n",
    "if temperature < 0:\n",
    "    print(\"It is cold outside\")\n",
    "    print(\"You should dress warmly\")\n",
    "    is_heater_on = True\n",
    "\n",
    "is_heater_on"
   ]
  },
  {
   "cell_type": "code",
   "execution_count": null,
   "id": "fc715fcc",
   "metadata": {
    "slideshow": {
     "slide_type": "fragment"
    }
   },
   "outputs": [],
   "source": [
    "temperature = 5\n",
    "is_heater_on = False\n",
    "\n",
    "if temperature < 0:\n",
    "    print(\"It is cold outside\")\n",
    "    print(\"You should dress warmly\")\n",
    "    is_heater_on = True\n",
    "\n",
    "is_heater_on"
   ]
  },
  {
   "cell_type": "markdown",
   "id": "67a1a5b8",
   "metadata": {
    "slideshow": {
     "slide_type": "slide"
    }
   },
   "source": [
    "# `if-else` statements\n",
    "\n",
    "```python\n",
    "if <condition>:\n",
    "    <block_of_statements_1>\n",
    "else:\n",
    "    <block_of_statements_2>\n",
    "```\n",
    "\n",
    "- `<condition>` is an expression evaluated in a boolean context. If it evaluates to `True`, `<block_of_statements_1>` block is executed. Otherwise, `<block_of_statements_2>` block is executed.\n",
    "- `<block_of_statements_1>` and `<block_of_statements_2>` are blocks that can include one or more statements.\n",
    "- Each of these blocks are branches in the flow of execution."
   ]
  },
  {
   "cell_type": "code",
   "execution_count": null,
   "id": "7b9805d8",
   "metadata": {
    "slideshow": {
     "slide_type": "subslide"
    }
   },
   "outputs": [],
   "source": [
    "temperature = -10\n",
    "\n",
    "if temperature < 0:\n",
    "    print(\"It is cold outside\")\n",
    "    print(\"You should dress warmly\")\n",
    "    is_heater_on = True\n",
    "else:\n",
    "    print(\"It is not cold outside\")\n",
    "    print(\"But you should still dress warmly\")\n",
    "    is_heater_on = False\n",
    "\n",
    "is_heater_on"
   ]
  },
  {
   "cell_type": "code",
   "execution_count": null,
   "id": "df6c321e",
   "metadata": {
    "slideshow": {
     "slide_type": "subslide"
    }
   },
   "outputs": [],
   "source": [
    "temperature = 5\n",
    "\n",
    "if temperature < 0:\n",
    "    print(\"It is cold outside\")\n",
    "    print(\"You should dress warmly\")\n",
    "    is_heater_on = True\n",
    "else:\n",
    "    print(\"It is not cold outside\")\n",
    "    print(\"But you should still dress warmly\")\n",
    "    is_heater_on = False\n",
    "\n",
    "is_heater_on"
   ]
  },
  {
   "cell_type": "markdown",
   "id": "c49d30c9",
   "metadata": {
    "slideshow": {
     "slide_type": "slide"
    }
   },
   "source": [
    "# `if-elif-else` statements / chained condionals\n",
    "\n",
    "```python\n",
    "if <condition>:\n",
    "    <block_of_statements_1>\n",
    "elif:\n",
    "    <block_of_statements_2> (optional)\n",
    "elif:\n",
    "    <block_of_statements_3> (optional)\n",
    "...\n",
    "else:\n",
    "    <block_of_statements_n> (optional)\n",
    "```\n",
    "\n",
    "- each `<condition_i>` is an expression evaluated in a boolean context. If a `<condition_i>` evaluates to `True`, `<block_of_statements_i>` block is executed. If none of them is `True` and `else` block is provided, `<block_of_statements_n>` block is executed.\n",
    "- each `<block_of_statements_i>` is a block that can include one or more statements.\n",
    "- Each of these blocks are branches in the flow of execution."
   ]
  },
  {
   "cell_type": "code",
   "execution_count": null,
   "id": "3559c0bf",
   "metadata": {
    "slideshow": {
     "slide_type": "subslide"
    }
   },
   "outputs": [],
   "source": [
    "x = int(input(\"Enter a number: \"))\n",
    "\n",
    "if x % 3 == 0:\n",
    "    print(f\"{x} is divisible by 3\")\n",
    "elif x % 4 == 0:\n",
    "    print(f\"{x} is divisible by 4\")\n",
    "elif x % 5 == 0:\n",
    "    print(f\"{x} is divisible by 5\")"
   ]
  },
  {
   "cell_type": "code",
   "execution_count": null,
   "id": "31175a26",
   "metadata": {
    "slideshow": {
     "slide_type": "subslide"
    }
   },
   "outputs": [],
   "source": [
    "x = int(input(\"Enter a number: \"))\n",
    "\n",
    "if x % 3 == 0:\n",
    "    print(f\"{x} is divisible by 3\")\n",
    "elif x % 4 == 0:\n",
    "    print(f\"{x} is divisible by 4\")\n",
    "elif x % 5 == 0:\n",
    "    print(f\"{x} is divisible by 5\")\n",
    "else:\n",
    "    print(f\"{x} is neither divisible by 3, 4 nor 5\")"
   ]
  },
  {
   "cell_type": "markdown",
   "id": "38204e47",
   "metadata": {
    "slideshow": {
     "slide_type": "slide"
    }
   },
   "source": [
    "# Nested conditionals\n",
    "\n",
    "\n",
    "```python\n",
    "if <condition_1>:\n",
    "    if <condition_1_1>:\n",
    "        <block_of_statements_1_1>\n",
    "    else:\n",
    "        <block_of_statements_1_2>\n",
    "else:\n",
    "    if <condition_2_1>:\n",
    "        <block_of_statements_2_1>\n",
    "    else:\n",
    "        <block_of_statements_2_2>\n",
    "```"
   ]
  },
  {
   "cell_type": "code",
   "execution_count": null,
   "id": "93cfc2b0",
   "metadata": {
    "slideshow": {
     "slide_type": "subslide"
    }
   },
   "outputs": [],
   "source": [
    "x = -1\n",
    "y = 2\n",
    "\n",
    "if x > 0:\n",
    "    if y > 0:\n",
    "        print(f\"Point ({x}, {y}) lies in the 1st quadrant\")\n",
    "    else:\n",
    "        print(f\"Point ({x}, {y}) lies in the 4st quadrant\")\n",
    "else:\n",
    "    if y > 0:\n",
    "        print(f\"Point ({x}, {y}) lies in the 2st quadrant\")\n",
    "    else:\n",
    "        print(f\"Point ({x}, {y}) lies in the 3st quadrant\")"
   ]
  },
  {
   "cell_type": "markdown",
   "id": "dc8f825a",
   "metadata": {
    "slideshow": {
     "slide_type": "slide"
    }
   },
   "source": [
    "# One-line `if` statements\n",
    "\n",
    "```python\n",
    "if <condition>: <statement_1>; <statement_2>; ...\n",
    "```\n",
    "\n",
    "- `<condition>` is an expression evaluated in a boolean context. If it evaluates to `True`, `<statement>` is executed. Otherwise, it is skipped and nothing happens in this scope.\n",
    "- `<statement_1>`, `<statement_2>`, ... are several statements.\n",
    "\n",
    "**Note:** This is not a recommended construct."
   ]
  },
  {
   "cell_type": "code",
   "execution_count": null,
   "id": "6a470265",
   "metadata": {
    "slideshow": {
     "slide_type": "subslide"
    }
   },
   "outputs": [],
   "source": [
    "temperature = -10\n",
    "\n",
    "if temperature < 0: print(\"It is cold outside\")"
   ]
  },
  {
   "cell_type": "code",
   "execution_count": null,
   "id": "b8df8004",
   "metadata": {
    "slideshow": {
     "slide_type": "fragment"
    }
   },
   "outputs": [],
   "source": [
    "temperature = 5\n",
    "\n",
    "if temperature < 0: print(\"It is cold outside\")"
   ]
  },
  {
   "cell_type": "code",
   "execution_count": null,
   "id": "184916da",
   "metadata": {
    "slideshow": {
     "slide_type": "fragment"
    }
   },
   "outputs": [],
   "source": [
    "# Not recommended\n",
    "\n",
    "temperature = -10\n",
    "\n",
    "if temperature < 0: print(\"It is cold outside\"); print(\"You should dress warmly\"); is_heater_on = True\n",
    "\n",
    "is_heater_on"
   ]
  },
  {
   "cell_type": "markdown",
   "id": "ce843702",
   "metadata": {
    "slideshow": {
     "slide_type": "slide"
    }
   },
   "source": [
    "# Conditional expressions / \"ternary operator\"\n",
    "\n",
    "```python\n",
    "<expression_1> if <condition> else <expression_2>\n",
    "```\n",
    "\n",
    "- `<condition>` is an expression evaluated in a boolean context and it is evaluated first in this type of expressions. If it evaluates to `True`, `<expression_1>` is evaluated and its value is returned. Otherwise, `<expression_2>` is evaluated and its value is returned.\n",
    "- `<expression_1>` and `<expression_2>` are expressions.\n",
    "\n",
    "Reference: [PEP 308 – Conditional Expressions](https://peps.python.org/pep-0308/)"
   ]
  },
  {
   "cell_type": "code",
   "execution_count": null,
   "id": "e5be0d5f",
   "metadata": {
    "slideshow": {
     "slide_type": "subslide"
    }
   },
   "outputs": [],
   "source": [
    "temperature = -10\n",
    "\n",
    "is_heater_on = True if temperature < 0 else False\n",
    "\n",
    "is_heater_on"
   ]
  },
  {
   "cell_type": "code",
   "execution_count": null,
   "id": "ad3c92d9",
   "metadata": {
    "slideshow": {
     "slide_type": "fragment"
    }
   },
   "outputs": [],
   "source": [
    "temperature = 5\n",
    "\n",
    "is_heater_on = True if temperature < 0 else False\n",
    "\n",
    "is_heater_on"
   ]
  },
  {
   "cell_type": "markdown",
   "id": "058a9c13",
   "metadata": {
    "slideshow": {
     "slide_type": "slide"
    }
   },
   "source": [
    "# Nested conditional expressions\n",
    "\n",
    "```python\n",
    "<expression_1> if <condition_1> else <expression_2> if <condition_2> else <expression_3>\n",
    "```\n",
    "\n",
    "- `<condition>` is an expression evaluated in a boolean context and it is evaluated first in this type of expressions. If it evaluates to `True`, `<expression1>` is evaluated and its value is returned. Otherwise, `<expression2>` is evaluated and its value is returned.\n",
    "- `<expression1>` and `<expression2>` are expressions.\n",
    "\n",
    "Reference: [PEP 308 – Conditional Expressions](https://peps.python.org/pep-0308/)"
   ]
  },
  {
   "cell_type": "code",
   "execution_count": null,
   "id": "843e1c38",
   "metadata": {
    "slideshow": {
     "slide_type": "subslide"
    }
   },
   "outputs": [],
   "source": [
    "n = 4\n",
    "\n",
    "1 ** 2 if n < 5 else 2 ** 2 if n < 15 else 3 ** 2"
   ]
  },
  {
   "cell_type": "code",
   "execution_count": null,
   "id": "26b0fac7",
   "metadata": {
    "slideshow": {
     "slide_type": "fragment"
    }
   },
   "outputs": [],
   "source": [
    "n = 14\n",
    "\n",
    "1 ** 2 if n < 5 else 2 ** 2 if n < 15 else 3 ** 2"
   ]
  },
  {
   "cell_type": "code",
   "execution_count": null,
   "id": "b245349a",
   "metadata": {
    "slideshow": {
     "slide_type": "fragment"
    }
   },
   "outputs": [],
   "source": [
    "n = 15\n",
    "\n",
    "1 ** 2 if n < 5 else 2 ** 2 if n < 15 else 3 ** 2"
   ]
  }
 ],
 "metadata": {
  "celltoolbar": "Slideshow",
  "kernelspec": {
   "display_name": "Python 3 (ipykernel)",
   "language": "python",
   "name": "python3"
  },
  "language_info": {
   "codemirror_mode": {
    "name": "ipython",
    "version": 3
   },
   "file_extension": ".py",
   "mimetype": "text/x-python",
   "name": "python",
   "nbconvert_exporter": "python",
   "pygments_lexer": "ipython3",
   "version": "3.8.10"
  },
  "vscode": {
   "interpreter": {
    "hash": "916dbcbb3f70747c44a77c7bcd40155683ae19c65e1c03b4aa3499c5328201f1"
   }
  }
 },
 "nbformat": 4,
 "nbformat_minor": 5
}
