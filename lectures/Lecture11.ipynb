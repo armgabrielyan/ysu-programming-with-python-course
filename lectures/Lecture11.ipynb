{
 "cells": [
  {
   "cell_type": "markdown",
   "id": "74750d32",
   "metadata": {
    "slideshow": {
     "slide_type": "slide"
    }
   },
   "source": [
    "# Programming with Python\n",
    "\n",
    "## Lecture 11: Tuples, sets, dictionaries\n",
    "\n",
    "### Armen Gabrielyan\n",
    "\n",
    "#### Yerevan State University\n",
    "#### Portmind"
   ]
  },
  {
   "cell_type": "markdown",
   "id": "f25e89c5",
   "metadata": {
    "slideshow": {
     "slide_type": "slide"
    }
   },
   "source": [
    "# Tuples\n",
    "\n",
    "Tuples are an immutable sequence of values. They are usually defined by using round brackets `()` or `tuple()` constructor function."
   ]
  },
  {
   "cell_type": "code",
   "execution_count": null,
   "id": "a894add7",
   "metadata": {
    "slideshow": {
     "slide_type": "fragment"
    }
   },
   "outputs": [],
   "source": [
    "t = 1, 2, 3\n",
    "t"
   ]
  },
  {
   "cell_type": "code",
   "execution_count": null,
   "id": "bb5ee61f",
   "metadata": {
    "slideshow": {
     "slide_type": "fragment"
    }
   },
   "outputs": [],
   "source": [
    "t = (1, 2, 3)\n",
    "t"
   ]
  },
  {
   "cell_type": "code",
   "execution_count": null,
   "id": "e796cd11",
   "metadata": {
    "slideshow": {
     "slide_type": "fragment"
    }
   },
   "outputs": [],
   "source": [
    "t = tuple([1, 2, 3])\n",
    "t"
   ]
  },
  {
   "cell_type": "code",
   "execution_count": null,
   "id": "936f6940",
   "metadata": {
    "slideshow": {
     "slide_type": "fragment"
    }
   },
   "outputs": [],
   "source": [
    "t = (\"John\", \"Doe\", 42, True)\n",
    "t"
   ]
  },
  {
   "cell_type": "code",
   "execution_count": null,
   "id": "eec91c17",
   "metadata": {
    "slideshow": {
     "slide_type": "subslide"
    }
   },
   "outputs": [],
   "source": [
    "empty_tuple = ()\n",
    "empty_tuple"
   ]
  },
  {
   "cell_type": "code",
   "execution_count": null,
   "id": "b28ffcbe",
   "metadata": {
    "slideshow": {
     "slide_type": "fragment"
    }
   },
   "outputs": [],
   "source": [
    "empty_tuple = tuple()\n",
    "empty_tuple"
   ]
  },
  {
   "cell_type": "code",
   "execution_count": null,
   "id": "94ed92d5",
   "metadata": {
    "slideshow": {
     "slide_type": "fragment"
    }
   },
   "outputs": [],
   "source": [
    "t = (1,)\n",
    "t"
   ]
  },
  {
   "cell_type": "code",
   "execution_count": null,
   "id": "f495e447",
   "metadata": {
    "slideshow": {
     "slide_type": "subslide"
    }
   },
   "outputs": [],
   "source": [
    "t = (\"John\", \"Doe\", 42, True)\n",
    "t"
   ]
  },
  {
   "cell_type": "code",
   "execution_count": null,
   "id": "9b8feee5",
   "metadata": {
    "slideshow": {
     "slide_type": "fragment"
    }
   },
   "outputs": [],
   "source": [
    "t[0]"
   ]
  },
  {
   "cell_type": "code",
   "execution_count": null,
   "id": "3da32a3b",
   "metadata": {
    "slideshow": {
     "slide_type": "fragment"
    }
   },
   "outputs": [],
   "source": [
    "t[-1]"
   ]
  },
  {
   "cell_type": "code",
   "execution_count": null,
   "id": "69aefe18",
   "metadata": {
    "slideshow": {
     "slide_type": "fragment"
    }
   },
   "outputs": [],
   "source": [
    "t[1:3]"
   ]
  },
  {
   "cell_type": "code",
   "execution_count": null,
   "id": "251d8155",
   "metadata": {
    "slideshow": {
     "slide_type": "fragment"
    }
   },
   "outputs": [],
   "source": [
    "len(t)"
   ]
  },
  {
   "cell_type": "code",
   "execution_count": null,
   "id": "65ba09c5",
   "metadata": {
    "slideshow": {
     "slide_type": "fragment"
    }
   },
   "outputs": [],
   "source": [
    "for i in t:\n",
    "    print(i)"
   ]
  },
  {
   "cell_type": "markdown",
   "id": "129decf6",
   "metadata": {
    "slideshow": {
     "slide_type": "slide"
    }
   },
   "source": [
    "## Immutability"
   ]
  },
  {
   "cell_type": "code",
   "execution_count": null,
   "id": "eb516838",
   "metadata": {
    "slideshow": {
     "slide_type": "fragment"
    }
   },
   "outputs": [],
   "source": [
    "t = (\"John\", \"Doe\", 42, True)\n",
    "t"
   ]
  },
  {
   "cell_type": "code",
   "execution_count": null,
   "id": "399bb25a",
   "metadata": {
    "slideshow": {
     "slide_type": "fragment"
    }
   },
   "outputs": [],
   "source": [
    "t[0] = \"Hello John\""
   ]
  },
  {
   "cell_type": "code",
   "execution_count": null,
   "id": "6349d54f",
   "metadata": {
    "slideshow": {
     "slide_type": "fragment"
    }
   },
   "outputs": [],
   "source": [
    "new_tuple = (\"Hello\",) + t\n",
    "new_tuple"
   ]
  },
  {
   "cell_type": "markdown",
   "id": "ec1b6ad4",
   "metadata": {
    "slideshow": {
     "slide_type": "slide"
    }
   },
   "source": [
    "## Tuple unpacking"
   ]
  },
  {
   "cell_type": "code",
   "execution_count": null,
   "id": "f625681b",
   "metadata": {
    "slideshow": {
     "slide_type": "fragment"
    }
   },
   "outputs": [],
   "source": [
    "t = (10, 20, 20)\n",
    "x, y, z = t\n",
    "print(x, y, z)"
   ]
  },
  {
   "cell_type": "code",
   "execution_count": null,
   "id": "015ea0cc",
   "metadata": {
    "slideshow": {
     "slide_type": "fragment"
    }
   },
   "outputs": [],
   "source": [
    "a1, a2, a3, a4, a5 = (\"John\", (\"a\", \"b\", 7.9), 42, True, [10, 20, 30])"
   ]
  },
  {
   "cell_type": "code",
   "execution_count": null,
   "id": "b057b8ac",
   "metadata": {
    "slideshow": {
     "slide_type": "fragment"
    }
   },
   "outputs": [],
   "source": [
    "a1"
   ]
  },
  {
   "cell_type": "code",
   "execution_count": null,
   "id": "31892531",
   "metadata": {
    "slideshow": {
     "slide_type": "fragment"
    }
   },
   "outputs": [],
   "source": [
    "a2"
   ]
  },
  {
   "cell_type": "code",
   "execution_count": null,
   "id": "074004f8",
   "metadata": {
    "slideshow": {
     "slide_type": "fragment"
    }
   },
   "outputs": [],
   "source": [
    "a3"
   ]
  },
  {
   "cell_type": "code",
   "execution_count": null,
   "id": "52b37477",
   "metadata": {
    "slideshow": {
     "slide_type": "fragment"
    }
   },
   "outputs": [],
   "source": [
    "a4"
   ]
  },
  {
   "cell_type": "code",
   "execution_count": null,
   "id": "e86ca9cc",
   "metadata": {
    "slideshow": {
     "slide_type": "fragment"
    }
   },
   "outputs": [],
   "source": [
    "a5"
   ]
  },
  {
   "cell_type": "code",
   "execution_count": null,
   "id": "8f515634",
   "metadata": {
    "slideshow": {
     "slide_type": "subslide"
    }
   },
   "outputs": [],
   "source": [
    "t = tuple(list(range(10)))\n",
    "t"
   ]
  },
  {
   "cell_type": "code",
   "execution_count": null,
   "id": "c1eb363b",
   "metadata": {
    "slideshow": {
     "slide_type": "fragment"
    }
   },
   "outputs": [],
   "source": [
    "first, *middle, last = t\n",
    "first, middle, last"
   ]
  },
  {
   "cell_type": "code",
   "execution_count": null,
   "id": "dc60f62e",
   "metadata": {
    "slideshow": {
     "slide_type": "fragment"
    }
   },
   "outputs": [],
   "source": [
    "first, *_, last = t\n",
    "first, last"
   ]
  },
  {
   "cell_type": "code",
   "execution_count": null,
   "id": "d1406b54",
   "metadata": {
    "slideshow": {
     "slide_type": "fragment"
    }
   },
   "outputs": [],
   "source": [
    "*head, last = t\n",
    "head, last"
   ]
  },
  {
   "cell_type": "code",
   "execution_count": null,
   "id": "a8d22123",
   "metadata": {
    "slideshow": {
     "slide_type": "fragment"
    }
   },
   "outputs": [],
   "source": [
    "first, *tail = t\n",
    "first, tail"
   ]
  },
  {
   "cell_type": "markdown",
   "id": "339a86ec",
   "metadata": {
    "slideshow": {
     "slide_type": "slide"
    }
   },
   "source": [
    "## Tuple assignment"
   ]
  },
  {
   "cell_type": "code",
   "execution_count": null,
   "id": "9cd4926a",
   "metadata": {
    "slideshow": {
     "slide_type": "fragment"
    }
   },
   "outputs": [],
   "source": [
    "x = 2\n",
    "y = 10"
   ]
  },
  {
   "cell_type": "code",
   "execution_count": null,
   "id": "f1bb62ad",
   "metadata": {
    "slideshow": {
     "slide_type": "fragment"
    }
   },
   "outputs": [],
   "source": [
    "temp = x\n",
    "x = y\n",
    "y = temp\n",
    "x, y"
   ]
  },
  {
   "cell_type": "code",
   "execution_count": null,
   "id": "3e1aad3b",
   "metadata": {
    "slideshow": {
     "slide_type": "fragment"
    }
   },
   "outputs": [],
   "source": [
    "x, y = y, x\n",
    "x, y"
   ]
  },
  {
   "cell_type": "markdown",
   "id": "1a2b69a5",
   "metadata": {
    "slideshow": {
     "slide_type": "slide"
    }
   },
   "source": [
    "# Sets\n",
    "\n",
    "Sets are an unordered collections with no duplicate elements. Sets can be modified, but their members need to be immutable and hashable. Sets are defined by using curly braces `{}` or `set()` construtor function."
   ]
  },
  {
   "cell_type": "code",
   "execution_count": null,
   "id": "272df56a",
   "metadata": {
    "slideshow": {
     "slide_type": "fragment"
    }
   },
   "outputs": [],
   "source": [
    "s = {1, 2, 3, 2, 1, 3}\n",
    "s"
   ]
  },
  {
   "cell_type": "code",
   "execution_count": null,
   "id": "1a789b2f",
   "metadata": {
    "slideshow": {
     "slide_type": "fragment"
    }
   },
   "outputs": [],
   "source": [
    "s = set([1, 2, 3, 2, 1, 3])\n",
    "s"
   ]
  },
  {
   "cell_type": "code",
   "execution_count": null,
   "id": "72bac6ef",
   "metadata": {
    "slideshow": {
     "slide_type": "fragment"
    }
   },
   "outputs": [],
   "source": [
    "s = {\"foo\", \"bar\", \"baz\", \"baz\", \"bar\"}\n",
    "s"
   ]
  },
  {
   "cell_type": "code",
   "execution_count": null,
   "id": "d3caf16b",
   "metadata": {
    "slideshow": {
     "slide_type": "fragment"
    }
   },
   "outputs": [],
   "source": [
    "s = set((\"foo\", \"bar\", \"baz\", \"baz\", \"bar\"))\n",
    "s"
   ]
  },
  {
   "cell_type": "code",
   "execution_count": null,
   "id": "cb2574f7",
   "metadata": {
    "slideshow": {
     "slide_type": "subslide"
    }
   },
   "outputs": [],
   "source": [
    "s = {\"hello\"}\n",
    "s"
   ]
  },
  {
   "cell_type": "code",
   "execution_count": null,
   "id": "60a7f17e",
   "metadata": {
    "slideshow": {
     "slide_type": "fragment"
    }
   },
   "outputs": [],
   "source": [
    "s = set(\"hello\")\n",
    "s"
   ]
  },
  {
   "cell_type": "code",
   "execution_count": null,
   "id": "aded1155",
   "metadata": {
    "slideshow": {
     "slide_type": "subslide"
    }
   },
   "outputs": [],
   "source": [
    "# empty set\n",
    "s = set()\n",
    "s, type(s)"
   ]
  },
  {
   "cell_type": "code",
   "execution_count": null,
   "id": "0d443e50",
   "metadata": {
    "slideshow": {
     "slide_type": "fragment"
    }
   },
   "outputs": [],
   "source": [
    "# empty dictionary\n",
    "s = {}\n",
    "s, type(s)"
   ]
  },
  {
   "cell_type": "code",
   "execution_count": null,
   "id": "01e61132",
   "metadata": {
    "slideshow": {
     "slide_type": "subslide"
    }
   },
   "outputs": [],
   "source": [
    "s = {1, 42, \"John Doe\", 6.79, (\"foo\", False), None}\n",
    "s"
   ]
  },
  {
   "cell_type": "code",
   "execution_count": null,
   "id": "2e412f71",
   "metadata": {
    "slideshow": {
     "slide_type": "fragment"
    }
   },
   "outputs": [],
   "source": [
    "s = {1, 42, \"John Doe\", 6.79, [\"foo\", False], None}\n",
    "s"
   ]
  },
  {
   "cell_type": "code",
   "execution_count": null,
   "id": "7879f16b",
   "metadata": {
    "slideshow": {
     "slide_type": "subslide"
    }
   },
   "outputs": [],
   "source": [
    "s = set((\"foo\", \"bar\", \"baz\", \"baz\", \"bar\"))\n",
    "s"
   ]
  },
  {
   "cell_type": "code",
   "execution_count": null,
   "id": "3095e85c",
   "metadata": {
    "slideshow": {
     "slide_type": "fragment"
    }
   },
   "outputs": [],
   "source": [
    "\"foo\" in s"
   ]
  },
  {
   "cell_type": "code",
   "execution_count": null,
   "id": "75722809",
   "metadata": {
    "slideshow": {
     "slide_type": "fragment"
    }
   },
   "outputs": [],
   "source": [
    "\"foobar\" in s"
   ]
  },
  {
   "cell_type": "code",
   "execution_count": null,
   "id": "5409c47e",
   "metadata": {
    "slideshow": {
     "slide_type": "fragment"
    }
   },
   "outputs": [],
   "source": [
    "len(s)"
   ]
  },
  {
   "cell_type": "code",
   "execution_count": null,
   "id": "8f452f68",
   "metadata": {
    "slideshow": {
     "slide_type": "fragment"
    }
   },
   "outputs": [],
   "source": [
    "for el in s:\n",
    "    print(el)"
   ]
  },
  {
   "cell_type": "markdown",
   "id": "43a2de2b",
   "metadata": {
    "slideshow": {
     "slide_type": "slide"
    }
   },
   "source": [
    "## Set operations"
   ]
  },
  {
   "cell_type": "markdown",
   "id": "e9646eca",
   "metadata": {
    "slideshow": {
     "slide_type": "fragment"
    }
   },
   "source": [
    "### Union\n",
    "\n",
    "Returns the union of sets."
   ]
  },
  {
   "cell_type": "code",
   "execution_count": null,
   "id": "72cd31df",
   "metadata": {
    "slideshow": {
     "slide_type": "fragment"
    }
   },
   "outputs": [],
   "source": [
    "s1 = {1, 2, 3}\n",
    "s2 = {3, 4, 5}\n",
    "s3 = {4, 5, 6}"
   ]
  },
  {
   "cell_type": "code",
   "execution_count": null,
   "id": "f5d14ba9",
   "metadata": {
    "slideshow": {
     "slide_type": "fragment"
    }
   },
   "outputs": [],
   "source": [
    "s1 | s2"
   ]
  },
  {
   "cell_type": "code",
   "execution_count": null,
   "id": "12385d78",
   "metadata": {
    "slideshow": {
     "slide_type": "fragment"
    }
   },
   "outputs": [],
   "source": [
    "s1.union(s2)"
   ]
  },
  {
   "cell_type": "code",
   "execution_count": null,
   "id": "df814e45",
   "metadata": {
    "slideshow": {
     "slide_type": "fragment"
    }
   },
   "outputs": [],
   "source": [
    "s1 | s2 | s3"
   ]
  },
  {
   "cell_type": "code",
   "execution_count": null,
   "id": "4f9b6ab1",
   "metadata": {
    "slideshow": {
     "slide_type": "fragment"
    }
   },
   "outputs": [],
   "source": [
    "s1.union(s2, s3)"
   ]
  },
  {
   "cell_type": "markdown",
   "id": "9812bc4f",
   "metadata": {
    "slideshow": {
     "slide_type": "slide"
    }
   },
   "source": [
    "### Intersection\n",
    "\n",
    "Returns the intersection of sets."
   ]
  },
  {
   "cell_type": "code",
   "execution_count": null,
   "id": "c951633e",
   "metadata": {
    "slideshow": {
     "slide_type": "fragment"
    }
   },
   "outputs": [],
   "source": [
    "s1 = {1, 2, 3, 4}\n",
    "s2 = {3, 4, 5, 6}\n",
    "s3 = {4, 5, 6, 7}"
   ]
  },
  {
   "cell_type": "code",
   "execution_count": null,
   "id": "ee371905",
   "metadata": {
    "slideshow": {
     "slide_type": "fragment"
    }
   },
   "outputs": [],
   "source": [
    "s1 & s2"
   ]
  },
  {
   "cell_type": "code",
   "execution_count": null,
   "id": "45f1eb3f",
   "metadata": {
    "slideshow": {
     "slide_type": "fragment"
    }
   },
   "outputs": [],
   "source": [
    "s1.intersection(s2)"
   ]
  },
  {
   "cell_type": "code",
   "execution_count": null,
   "id": "648f2007",
   "metadata": {
    "slideshow": {
     "slide_type": "fragment"
    }
   },
   "outputs": [],
   "source": [
    "s1 & s2 & s3"
   ]
  },
  {
   "cell_type": "code",
   "execution_count": null,
   "id": "f016f868",
   "metadata": {
    "slideshow": {
     "slide_type": "fragment"
    }
   },
   "outputs": [],
   "source": [
    "s1.intersection(s2, s3)"
   ]
  },
  {
   "cell_type": "markdown",
   "id": "b045b637",
   "metadata": {
    "slideshow": {
     "slide_type": "slide"
    }
   },
   "source": [
    "### Difference\n",
    "\n",
    "Returns the difference of sets."
   ]
  },
  {
   "cell_type": "code",
   "execution_count": null,
   "id": "ef0450bf",
   "metadata": {
    "slideshow": {
     "slide_type": "fragment"
    }
   },
   "outputs": [],
   "source": [
    "s1 = {1, 2, 3, 4, 5, 6, 7, 8}\n",
    "s2 = {3, 4, 5, 6}\n",
    "s3 = {4, 5, 6, 7, 8}"
   ]
  },
  {
   "cell_type": "code",
   "execution_count": null,
   "id": "93041bc5",
   "metadata": {
    "slideshow": {
     "slide_type": "fragment"
    }
   },
   "outputs": [],
   "source": [
    "s1 - s2"
   ]
  },
  {
   "cell_type": "code",
   "execution_count": null,
   "id": "e1bf333b",
   "metadata": {
    "slideshow": {
     "slide_type": "fragment"
    }
   },
   "outputs": [],
   "source": [
    "s1.difference(s2)"
   ]
  },
  {
   "cell_type": "code",
   "execution_count": null,
   "id": "ce7ce23b",
   "metadata": {
    "slideshow": {
     "slide_type": "fragment"
    }
   },
   "outputs": [],
   "source": [
    "s1 - s2 - s3"
   ]
  },
  {
   "cell_type": "code",
   "execution_count": null,
   "id": "2dce4810",
   "metadata": {
    "slideshow": {
     "slide_type": "fragment"
    }
   },
   "outputs": [],
   "source": [
    "s1.difference(s2, s3)"
   ]
  },
  {
   "cell_type": "markdown",
   "id": "75e56beb",
   "metadata": {
    "slideshow": {
     "slide_type": "slide"
    }
   },
   "source": [
    "### Symmetric difference\n",
    "\n",
    "Returns the symmetric difference of sets."
   ]
  },
  {
   "cell_type": "code",
   "execution_count": null,
   "id": "c64d8771",
   "metadata": {
    "slideshow": {
     "slide_type": "fragment"
    }
   },
   "outputs": [],
   "source": [
    "s1 = {1, 2, 3, 4, 5, 6, 7, 8}\n",
    "s2 = {3, 4, 5, 6}\n",
    "s3 = {4, 5, 6, 7, 8}"
   ]
  },
  {
   "cell_type": "code",
   "execution_count": null,
   "id": "bed2867e",
   "metadata": {
    "slideshow": {
     "slide_type": "fragment"
    }
   },
   "outputs": [],
   "source": [
    "s1 ^ s2"
   ]
  },
  {
   "cell_type": "code",
   "execution_count": null,
   "id": "a468703e",
   "metadata": {
    "slideshow": {
     "slide_type": "fragment"
    }
   },
   "outputs": [],
   "source": [
    "s1.symmetric_difference(s2)"
   ]
  },
  {
   "cell_type": "code",
   "execution_count": null,
   "id": "59e98c89",
   "metadata": {
    "slideshow": {
     "slide_type": "fragment"
    }
   },
   "outputs": [],
   "source": [
    "s1 ^ s2 ^ s3"
   ]
  },
  {
   "cell_type": "code",
   "execution_count": null,
   "id": "e4c86f52",
   "metadata": {
    "slideshow": {
     "slide_type": "fragment"
    }
   },
   "outputs": [],
   "source": [
    "s1.symmetric_difference(s2, s3)"
   ]
  },
  {
   "cell_type": "markdown",
   "id": "685d8106",
   "metadata": {
    "slideshow": {
     "slide_type": "slide"
    }
   },
   "source": [
    "### Disjoint\n",
    "\n",
    "Checks if sets are disjoint or not."
   ]
  },
  {
   "cell_type": "code",
   "execution_count": null,
   "id": "491f1029",
   "metadata": {
    "slideshow": {
     "slide_type": "fragment"
    }
   },
   "outputs": [],
   "source": [
    "s1 = {\"abc\", \"def\"}\n",
    "s2 = {\"foo\", \"bar\"}\n",
    "\n",
    "s1.isdisjoint(s2)"
   ]
  },
  {
   "cell_type": "code",
   "execution_count": null,
   "id": "3bb2757f",
   "metadata": {
    "slideshow": {
     "slide_type": "fragment"
    }
   },
   "outputs": [],
   "source": [
    "s1 = {1, 2, 3}\n",
    "s2 = {3, 4, 5}\n",
    "\n",
    "s1.isdisjoint(s2)"
   ]
  },
  {
   "cell_type": "markdown",
   "id": "8e2c4c62",
   "metadata": {
    "slideshow": {
     "slide_type": "slide"
    }
   },
   "source": [
    "### Subset\n",
    "\n",
    "Checks if a set is a subset of another set."
   ]
  },
  {
   "cell_type": "code",
   "execution_count": null,
   "id": "00444240",
   "metadata": {
    "slideshow": {
     "slide_type": "fragment"
    }
   },
   "outputs": [],
   "source": [
    "s1 = {1, 2, 3}\n",
    "s2 = {0, 1, 2, 3, 4, 5}"
   ]
  },
  {
   "cell_type": "code",
   "execution_count": null,
   "id": "f795d4e7",
   "metadata": {
    "slideshow": {
     "slide_type": "fragment"
    }
   },
   "outputs": [],
   "source": [
    "s1.issubset(s2)"
   ]
  },
  {
   "cell_type": "code",
   "execution_count": null,
   "id": "994fad47",
   "metadata": {
    "slideshow": {
     "slide_type": "fragment"
    }
   },
   "outputs": [],
   "source": [
    "s1 <= s2"
   ]
  },
  {
   "cell_type": "code",
   "execution_count": null,
   "id": "1e785e22",
   "metadata": {
    "slideshow": {
     "slide_type": "fragment"
    }
   },
   "outputs": [],
   "source": [
    "s1 <= s1"
   ]
  },
  {
   "cell_type": "markdown",
   "id": "c709fd4c",
   "metadata": {
    "slideshow": {
     "slide_type": "subslide"
    }
   },
   "source": [
    "### Proper subset\n",
    "\n",
    "Checks if a set is a proper subset of another set."
   ]
  },
  {
   "cell_type": "code",
   "execution_count": null,
   "id": "bcdb5c3e",
   "metadata": {
    "slideshow": {
     "slide_type": "fragment"
    }
   },
   "outputs": [],
   "source": [
    "s1 = {1, 2, 3}\n",
    "s2 = {0, 1, 2, 3, 4, 5}"
   ]
  },
  {
   "cell_type": "code",
   "execution_count": null,
   "id": "84fb6a15",
   "metadata": {
    "slideshow": {
     "slide_type": "fragment"
    }
   },
   "outputs": [],
   "source": [
    "s1 < s2"
   ]
  },
  {
   "cell_type": "code",
   "execution_count": null,
   "id": "4b69006b",
   "metadata": {
    "slideshow": {
     "slide_type": "fragment"
    }
   },
   "outputs": [],
   "source": [
    "s1 < s1"
   ]
  },
  {
   "cell_type": "markdown",
   "id": "543bc09e",
   "metadata": {
    "slideshow": {
     "slide_type": "slide"
    }
   },
   "source": [
    "### Superset\n",
    "\n",
    "Checks if a set is a superset of another set."
   ]
  },
  {
   "cell_type": "code",
   "execution_count": null,
   "id": "cdb88983",
   "metadata": {
    "slideshow": {
     "slide_type": "fragment"
    }
   },
   "outputs": [],
   "source": [
    "s1 = {1, 2, 3}\n",
    "s2 = {0, 1, 2, 3, 4, 5}"
   ]
  },
  {
   "cell_type": "code",
   "execution_count": null,
   "id": "dcf3d8ba",
   "metadata": {
    "slideshow": {
     "slide_type": "fragment"
    }
   },
   "outputs": [],
   "source": [
    "s2.issuperset(s1)"
   ]
  },
  {
   "cell_type": "code",
   "execution_count": null,
   "id": "0e87fe1a",
   "metadata": {
    "slideshow": {
     "slide_type": "fragment"
    }
   },
   "outputs": [],
   "source": [
    "s2 >= s1"
   ]
  },
  {
   "cell_type": "code",
   "execution_count": null,
   "id": "a280bafc",
   "metadata": {
    "slideshow": {
     "slide_type": "fragment"
    }
   },
   "outputs": [],
   "source": [
    "s2 >= s2"
   ]
  },
  {
   "cell_type": "markdown",
   "id": "c6ea78d2",
   "metadata": {
    "slideshow": {
     "slide_type": "subslide"
    }
   },
   "source": [
    "### Proper superset\n",
    "\n",
    "Checks if a set is a proper superset of another set."
   ]
  },
  {
   "cell_type": "code",
   "execution_count": null,
   "id": "125ad291",
   "metadata": {
    "slideshow": {
     "slide_type": "fragment"
    }
   },
   "outputs": [],
   "source": [
    "s1 = {1, 2, 3}\n",
    "s2 = {0, 1, 2, 3, 4, 5}"
   ]
  },
  {
   "cell_type": "code",
   "execution_count": null,
   "id": "b1a089df",
   "metadata": {
    "slideshow": {
     "slide_type": "fragment"
    }
   },
   "outputs": [],
   "source": [
    "s2 > s1"
   ]
  },
  {
   "cell_type": "code",
   "execution_count": null,
   "id": "59ed9899",
   "metadata": {
    "slideshow": {
     "slide_type": "fragment"
    }
   },
   "outputs": [],
   "source": [
    "s2 > s2"
   ]
  },
  {
   "cell_type": "markdown",
   "id": "1aa4520a",
   "metadata": {
    "slideshow": {
     "slide_type": "slide"
    }
   },
   "source": [
    "### Augmented assignment"
   ]
  },
  {
   "cell_type": "markdown",
   "id": "065f2268",
   "metadata": {
    "slideshow": {
     "slide_type": "fragment"
    }
   },
   "source": [
    "### `update()`\n",
    "\n",
    "Updates the set by the items of an iterable."
   ]
  },
  {
   "cell_type": "code",
   "execution_count": null,
   "id": "5bc994fa",
   "metadata": {
    "slideshow": {
     "slide_type": "fragment"
    }
   },
   "outputs": [],
   "source": [
    "s = {1, 2, 3}\n",
    "s"
   ]
  },
  {
   "cell_type": "code",
   "execution_count": null,
   "id": "caa53d42",
   "metadata": {
    "slideshow": {
     "slide_type": "fragment"
    }
   },
   "outputs": [],
   "source": [
    "s.update([\"foo\", \"bar\", 1, 4])\n",
    "s"
   ]
  },
  {
   "cell_type": "code",
   "execution_count": null,
   "id": "1d0a6538",
   "metadata": {
    "slideshow": {
     "slide_type": "fragment"
    }
   },
   "outputs": [],
   "source": [
    "s1 = {1, 2, 3}\n",
    "s2 = {\"foo\", \"bar\", 1, 4}"
   ]
  },
  {
   "cell_type": "code",
   "execution_count": null,
   "id": "e40d0257",
   "metadata": {
    "slideshow": {
     "slide_type": "fragment"
    }
   },
   "outputs": [],
   "source": [
    "s1 |= s2\n",
    "s1"
   ]
  },
  {
   "cell_type": "markdown",
   "id": "d39a719c",
   "metadata": {
    "slideshow": {
     "slide_type": "slide"
    }
   },
   "source": [
    "### `intersection_update()`\n",
    "\n",
    "Updates the set by intersecting it with another set."
   ]
  },
  {
   "cell_type": "code",
   "execution_count": null,
   "id": "8a498792",
   "metadata": {
    "slideshow": {
     "slide_type": "fragment"
    }
   },
   "outputs": [],
   "source": [
    "s = {1, 2, 3}\n",
    "s"
   ]
  },
  {
   "cell_type": "code",
   "execution_count": null,
   "id": "4eb9e84f",
   "metadata": {
    "slideshow": {
     "slide_type": "fragment"
    }
   },
   "outputs": [],
   "source": [
    "s.intersection_update([\"foo\", \"bar\", 1, 2, 4])\n",
    "s"
   ]
  },
  {
   "cell_type": "code",
   "execution_count": null,
   "id": "35c9d2d3",
   "metadata": {
    "slideshow": {
     "slide_type": "fragment"
    }
   },
   "outputs": [],
   "source": [
    "s1 = {1, 2, 3}\n",
    "s2 = {\"foo\", \"bar\", 1, 2, 4}"
   ]
  },
  {
   "cell_type": "code",
   "execution_count": null,
   "id": "550fb4fa",
   "metadata": {
    "slideshow": {
     "slide_type": "fragment"
    }
   },
   "outputs": [],
   "source": [
    "s1 &= s2\n",
    "s1"
   ]
  },
  {
   "cell_type": "markdown",
   "id": "2d4d9e2d",
   "metadata": {
    "slideshow": {
     "slide_type": "slide"
    }
   },
   "source": [
    "### `difference_update()`\n",
    "\n",
    "Updates the set by differencing it with another set."
   ]
  },
  {
   "cell_type": "code",
   "execution_count": null,
   "id": "ff789fcf",
   "metadata": {
    "slideshow": {
     "slide_type": "fragment"
    }
   },
   "outputs": [],
   "source": [
    "s = {1, 2, 3}\n",
    "s"
   ]
  },
  {
   "cell_type": "code",
   "execution_count": null,
   "id": "1076b5ac",
   "metadata": {
    "slideshow": {
     "slide_type": "fragment"
    }
   },
   "outputs": [],
   "source": [
    "s.difference_update([\"foo\", \"bar\", 1, 4])\n",
    "s"
   ]
  },
  {
   "cell_type": "code",
   "execution_count": null,
   "id": "68811a53",
   "metadata": {
    "slideshow": {
     "slide_type": "fragment"
    }
   },
   "outputs": [],
   "source": [
    "s1 = {1, 2, 3}\n",
    "s2 = {\"foo\", \"bar\", 1, 4}"
   ]
  },
  {
   "cell_type": "code",
   "execution_count": null,
   "id": "55aac09b",
   "metadata": {
    "slideshow": {
     "slide_type": "fragment"
    }
   },
   "outputs": [],
   "source": [
    "s1 -= s2\n",
    "s1"
   ]
  },
  {
   "cell_type": "markdown",
   "id": "f603fabb",
   "metadata": {
    "slideshow": {
     "slide_type": "slide"
    }
   },
   "source": [
    "### `symmetric_difference_update()`\n",
    "\n",
    "Updates the set by symmetric differencing it with another set."
   ]
  },
  {
   "cell_type": "code",
   "execution_count": null,
   "id": "b2c1da30",
   "metadata": {
    "slideshow": {
     "slide_type": "fragment"
    }
   },
   "outputs": [],
   "source": [
    "s = {1, 2, 3}\n",
    "s"
   ]
  },
  {
   "cell_type": "code",
   "execution_count": null,
   "id": "ca243ef8",
   "metadata": {
    "slideshow": {
     "slide_type": "fragment"
    }
   },
   "outputs": [],
   "source": [
    "s.symmetric_difference_update([\"foo\", \"bar\", 1, 2, 4])\n",
    "s"
   ]
  },
  {
   "cell_type": "code",
   "execution_count": null,
   "id": "4108a74c",
   "metadata": {
    "slideshow": {
     "slide_type": "fragment"
    }
   },
   "outputs": [],
   "source": [
    "s1 = {1, 2, 3}\n",
    "s2 = {\"foo\", \"bar\", 1, 2, 4}"
   ]
  },
  {
   "cell_type": "code",
   "execution_count": null,
   "id": "2798b014",
   "metadata": {
    "slideshow": {
     "slide_type": "fragment"
    }
   },
   "outputs": [],
   "source": [
    "s1 ^= s2\n",
    "s1"
   ]
  },
  {
   "cell_type": "markdown",
   "id": "66824428",
   "metadata": {
    "slideshow": {
     "slide_type": "slide"
    }
   },
   "source": [
    "### `add()`\n",
    "\n",
    "Adds a single element to the set."
   ]
  },
  {
   "cell_type": "code",
   "execution_count": null,
   "id": "3b3d2156",
   "metadata": {
    "slideshow": {
     "slide_type": "fragment"
    }
   },
   "outputs": [],
   "source": [
    "s = {1, 2, 3}\n",
    "s"
   ]
  },
  {
   "cell_type": "code",
   "execution_count": null,
   "id": "4e69481a",
   "metadata": {
    "slideshow": {
     "slide_type": "fragment"
    }
   },
   "outputs": [],
   "source": [
    "s.add(4)\n",
    "s"
   ]
  },
  {
   "cell_type": "markdown",
   "id": "17678a41",
   "metadata": {
    "slideshow": {
     "slide_type": "slide"
    }
   },
   "source": [
    "### `remove()`\n",
    "\n",
    "Removes an element from the set by value. Throws an error if the value does not exist."
   ]
  },
  {
   "cell_type": "code",
   "execution_count": null,
   "id": "fe3ad662",
   "metadata": {
    "slideshow": {
     "slide_type": "fragment"
    }
   },
   "outputs": [],
   "source": [
    "s = {1, 2, 3}\n",
    "s"
   ]
  },
  {
   "cell_type": "code",
   "execution_count": null,
   "id": "aad1b2a9",
   "metadata": {
    "slideshow": {
     "slide_type": "fragment"
    }
   },
   "outputs": [],
   "source": [
    "s.remove(2)\n",
    "s"
   ]
  },
  {
   "cell_type": "code",
   "execution_count": null,
   "id": "b773777b",
   "metadata": {
    "slideshow": {
     "slide_type": "fragment"
    }
   },
   "outputs": [],
   "source": [
    "s.remove(4)\n",
    "s"
   ]
  },
  {
   "cell_type": "markdown",
   "id": "64c8e878",
   "metadata": {
    "slideshow": {
     "slide_type": "slide"
    }
   },
   "source": [
    "### `discard()`\n",
    "\n",
    "Removes an element from the set by value. Does not throw an error if the value does not exist."
   ]
  },
  {
   "cell_type": "code",
   "execution_count": null,
   "id": "a738bb07",
   "metadata": {
    "slideshow": {
     "slide_type": "fragment"
    }
   },
   "outputs": [],
   "source": [
    "s = {1, 2, 3}\n",
    "s"
   ]
  },
  {
   "cell_type": "code",
   "execution_count": null,
   "id": "d8b8941e",
   "metadata": {
    "slideshow": {
     "slide_type": "fragment"
    }
   },
   "outputs": [],
   "source": [
    "s.discard(2)\n",
    "s"
   ]
  },
  {
   "cell_type": "code",
   "execution_count": null,
   "id": "72fc5aac",
   "metadata": {
    "slideshow": {
     "slide_type": "fragment"
    }
   },
   "outputs": [],
   "source": [
    "s.discard(4)\n",
    "s"
   ]
  },
  {
   "cell_type": "markdown",
   "id": "2780fc62",
   "metadata": {
    "slideshow": {
     "slide_type": "slide"
    }
   },
   "source": [
    "### `pop()`\n",
    "\n",
    "Removes a random element from the set."
   ]
  },
  {
   "cell_type": "code",
   "execution_count": null,
   "id": "52db2b53",
   "metadata": {
    "slideshow": {
     "slide_type": "fragment"
    }
   },
   "outputs": [],
   "source": [
    "s = {1, 2, 3}\n",
    "s"
   ]
  },
  {
   "cell_type": "code",
   "execution_count": null,
   "id": "e4f0d5fd",
   "metadata": {
    "slideshow": {
     "slide_type": "fragment"
    }
   },
   "outputs": [],
   "source": [
    "s.pop()\n",
    "s"
   ]
  },
  {
   "cell_type": "code",
   "execution_count": null,
   "id": "f40b0f88",
   "metadata": {
    "slideshow": {
     "slide_type": "fragment"
    }
   },
   "outputs": [],
   "source": [
    "s.pop()\n",
    "s"
   ]
  },
  {
   "cell_type": "code",
   "execution_count": null,
   "id": "a533fac0",
   "metadata": {
    "slideshow": {
     "slide_type": "fragment"
    }
   },
   "outputs": [],
   "source": [
    "s.pop()\n",
    "s"
   ]
  },
  {
   "cell_type": "code",
   "execution_count": null,
   "id": "93c13bd9",
   "metadata": {
    "slideshow": {
     "slide_type": "fragment"
    }
   },
   "outputs": [],
   "source": [
    "s.pop()\n",
    "s"
   ]
  },
  {
   "cell_type": "markdown",
   "id": "5e1ae733",
   "metadata": {
    "slideshow": {
     "slide_type": "slide"
    }
   },
   "source": [
    "### `clear()`\n",
    "\n",
    "Clears the content of the set."
   ]
  },
  {
   "cell_type": "code",
   "execution_count": null,
   "id": "f176da80",
   "metadata": {
    "slideshow": {
     "slide_type": "fragment"
    }
   },
   "outputs": [],
   "source": [
    "s = {1, 2, 3}\n",
    "s"
   ]
  },
  {
   "cell_type": "code",
   "execution_count": null,
   "id": "87c92476",
   "metadata": {
    "slideshow": {
     "slide_type": "fragment"
    }
   },
   "outputs": [],
   "source": [
    "s.clear()\n",
    "s"
   ]
  },
  {
   "cell_type": "markdown",
   "id": "4355f836",
   "metadata": {
    "slideshow": {
     "slide_type": "slide"
    }
   },
   "source": [
    "## Set comprehension\n",
    "\n",
    "Like list comprehension expressions, Python allows us to use the declarative style of set comprehension expressions to create sets.\n",
    "\n",
    "```python\n",
    "{expression for item in sequence}\n",
    "```\n",
    "\n",
    "- `expression` is any valid expression that is hashable and usually depends on the value of `item`.\n",
    "- `item` is an element from `sequence`.\n",
    "- `sequence` is an iterable."
   ]
  },
  {
   "cell_type": "code",
   "execution_count": null,
   "id": "7683b70b",
   "metadata": {
    "slideshow": {
     "slide_type": "fragment"
    }
   },
   "outputs": [],
   "source": [
    "s = {i ** 3 for i in range(10)}\n",
    "s"
   ]
  },
  {
   "cell_type": "code",
   "execution_count": null,
   "id": "6b571e3a",
   "metadata": {
    "slideshow": {
     "slide_type": "fragment"
    }
   },
   "outputs": [],
   "source": [
    "s = {i ** 3 for i in range(10) if i % 2 == 1}\n",
    "s"
   ]
  },
  {
   "cell_type": "code",
   "execution_count": null,
   "id": "2c7557e1",
   "metadata": {
    "slideshow": {
     "slide_type": "subslide"
    }
   },
   "outputs": [],
   "source": [
    "s = {(i, i ** 3) for i in range(10)}\n",
    "s"
   ]
  },
  {
   "cell_type": "code",
   "execution_count": null,
   "id": "ae35307f",
   "metadata": {
    "slideshow": {
     "slide_type": "fragment"
    }
   },
   "outputs": [],
   "source": [
    "s = {[i, i ** 3] for i in range(10)}\n",
    "s"
   ]
  },
  {
   "cell_type": "markdown",
   "id": "ca81754b",
   "metadata": {
    "slideshow": {
     "slide_type": "slide"
    }
   },
   "source": [
    "# Dictionaries\n",
    "\n",
    "Dictionaries are a **key-value** collection of objects. They are mapping from the collection of **keys** to the collection of **values**. They are mutable and can grow dynamically in size.\n",
    "\n",
    "Dictionaries can be defined either by `dict()` constructor function or by providing key-value pairs in curly `{}` braces as follows:\n",
    "\n",
    "```python\n",
    "d = {\n",
    "    <key_1>: <value_1>,\n",
    "    <key_2>: <value_2>,\n",
    "    ...\n",
    "    <key_n>: <value_n>,\n",
    "}\n",
    "```"
   ]
  },
  {
   "cell_type": "code",
   "execution_count": null,
   "id": "b3df33e7",
   "metadata": {
    "slideshow": {
     "slide_type": "slide"
    }
   },
   "outputs": [],
   "source": [
    "cities2countries = { \"Armenia\": \"Yerevan\", \"France\": \"Paris\", \"Germany\": \"Berlin\" }\n",
    "cities2countries"
   ]
  },
  {
   "cell_type": "code",
   "execution_count": null,
   "id": "dfeb856a",
   "metadata": {
    "slideshow": {
     "slide_type": "fragment"
    }
   },
   "outputs": [],
   "source": [
    "cities2countries = dict(Armenia=\"Yerevan\", France=\"Paris\", Germany=\"Berlin\")\n",
    "cities2countries"
   ]
  },
  {
   "cell_type": "code",
   "execution_count": null,
   "id": "24963261",
   "metadata": {
    "slideshow": {
     "slide_type": "fragment"
    }
   },
   "outputs": [],
   "source": [
    "cities2countries = dict([\n",
    "    (\"Armenia\", \"Yerevan\"),\n",
    "    (\"France\", \"Paris\"),\n",
    "    (\"Germany\", \"Berlin\"),\n",
    "])\n",
    "cities2countries"
   ]
  },
  {
   "cell_type": "code",
   "execution_count": null,
   "id": "edce0c36",
   "metadata": {
    "slideshow": {
     "slide_type": "slide"
    }
   },
   "outputs": [],
   "source": [
    "empty_dict = {}\n",
    "empty_dict, type(empty_dict)"
   ]
  },
  {
   "cell_type": "code",
   "execution_count": null,
   "id": "8d061a52",
   "metadata": {
    "slideshow": {
     "slide_type": "fragment"
    }
   },
   "outputs": [],
   "source": [
    "empty_dict = dict()\n",
    "empty_dict, type(empty_dict)"
   ]
  },
  {
   "cell_type": "markdown",
   "id": "4efef7db",
   "metadata": {
    "slideshow": {
     "slide_type": "slide"
    }
   },
   "source": [
    "## Accessing and adding new elements"
   ]
  },
  {
   "cell_type": "code",
   "execution_count": null,
   "id": "75618001",
   "metadata": {
    "slideshow": {
     "slide_type": "fragment"
    }
   },
   "outputs": [],
   "source": [
    "cities2countries = { \"Armenia\": \"Yerevan\", \"France\": \"Paris\", \"Germany\": \"Berlin\" }\n",
    "cities2countries"
   ]
  },
  {
   "cell_type": "code",
   "execution_count": null,
   "id": "670a6112",
   "metadata": {
    "slideshow": {
     "slide_type": "fragment"
    }
   },
   "outputs": [],
   "source": [
    "cities2countries[\"Armenia\"]"
   ]
  },
  {
   "cell_type": "code",
   "execution_count": null,
   "id": "a363e441",
   "metadata": {
    "slideshow": {
     "slide_type": "fragment"
    }
   },
   "outputs": [],
   "source": [
    "cities2countries[\"Spain\"]"
   ]
  },
  {
   "cell_type": "code",
   "execution_count": null,
   "id": "a4a02314",
   "metadata": {
    "slideshow": {
     "slide_type": "fragment"
    }
   },
   "outputs": [],
   "source": [
    "cities2countries[\"Spain\"] = \"Madrid\"\n",
    "cities2countries"
   ]
  },
  {
   "cell_type": "code",
   "execution_count": null,
   "id": "b969214a",
   "metadata": {
    "slideshow": {
     "slide_type": "slide"
    }
   },
   "outputs": [],
   "source": [
    "weekdays = {0: \"Sunday\", 1: \"Monday\", 2: \"Tuesday\", 3: \"Wednesday\", 4: \"Thursday\", 5: \"Friday\", 6: \"Saturday\"}\n",
    "weekdays"
   ]
  },
  {
   "cell_type": "code",
   "execution_count": null,
   "id": "ddeac23d",
   "metadata": {
    "slideshow": {
     "slide_type": "fragment"
    }
   },
   "outputs": [],
   "source": [
    "weekdays[3]"
   ]
  },
  {
   "cell_type": "code",
   "execution_count": null,
   "id": "a84e4154",
   "metadata": {
    "slideshow": {
     "slide_type": "fragment"
    }
   },
   "outputs": [],
   "source": [
    "weekdays[-1]"
   ]
  },
  {
   "cell_type": "code",
   "execution_count": null,
   "id": "2d6cc075",
   "metadata": {
    "slideshow": {
     "slide_type": "fragment"
    }
   },
   "outputs": [],
   "source": [
    "weekdays[2:4]"
   ]
  },
  {
   "cell_type": "code",
   "execution_count": null,
   "id": "6f8a4380",
   "metadata": {
    "slideshow": {
     "slide_type": "slide"
    }
   },
   "outputs": [],
   "source": [
    "student = {}\n",
    "student[\"first_name\"] = \"John\"\n",
    "student[\"last_name\"] = \"Doe\"\n",
    "student[\"age\"] = 20\n",
    "student[\"friends\"] = [\"Alice\", \"Bob\"]\n",
    "student[\"grades\"] = {\"mathematics\": 95, \"english\": 92, \"physics\": 98}\n",
    "student"
   ]
  },
  {
   "cell_type": "code",
   "execution_count": null,
   "id": "76941880",
   "metadata": {
    "slideshow": {
     "slide_type": "fragment"
    }
   },
   "outputs": [],
   "source": [
    "student[\"first_name\"], student[\"last_name\"], student[\"age\"]"
   ]
  },
  {
   "cell_type": "code",
   "execution_count": null,
   "id": "3801c076",
   "metadata": {
    "slideshow": {
     "slide_type": "fragment"
    }
   },
   "outputs": [],
   "source": [
    "student[\"friends\"]"
   ]
  },
  {
   "cell_type": "code",
   "execution_count": null,
   "id": "a77a7640",
   "metadata": {
    "slideshow": {
     "slide_type": "fragment"
    }
   },
   "outputs": [],
   "source": [
    "student[\"grades\"]"
   ]
  },
  {
   "cell_type": "code",
   "execution_count": null,
   "id": "b8bccafc",
   "metadata": {
    "slideshow": {
     "slide_type": "subslide"
    }
   },
   "outputs": [],
   "source": [
    "student[\"friends\"].append(\"Jane\")\n",
    "student[\"grades\"][\"biology\"] = 89"
   ]
  },
  {
   "cell_type": "code",
   "execution_count": null,
   "id": "40043648",
   "metadata": {
    "slideshow": {
     "slide_type": "fragment"
    }
   },
   "outputs": [],
   "source": [
    "student[\"friends\"]"
   ]
  },
  {
   "cell_type": "code",
   "execution_count": null,
   "id": "22e4a1cc",
   "metadata": {
    "slideshow": {
     "slide_type": "fragment"
    }
   },
   "outputs": [],
   "source": [
    "student[\"grades\"]"
   ]
  },
  {
   "cell_type": "code",
   "execution_count": null,
   "id": "df060dc9",
   "metadata": {
    "slideshow": {
     "slide_type": "fragment"
    }
   },
   "outputs": [],
   "source": [
    "student"
   ]
  },
  {
   "cell_type": "markdown",
   "id": "1f6a55be",
   "metadata": {
    "slideshow": {
     "slide_type": "slide"
    }
   },
   "source": [
    "## `hash()` function\n",
    "\n",
    "`hash()`function returns the hash of an object if it has one. Hash values are integers and are used for quick dictionary lookup."
   ]
  },
  {
   "cell_type": "code",
   "execution_count": null,
   "id": "c448cf1c",
   "metadata": {
    "slideshow": {
     "slide_type": "fragment"
    }
   },
   "outputs": [],
   "source": [
    "hash(42), hash(42.0)"
   ]
  },
  {
   "cell_type": "code",
   "execution_count": null,
   "id": "cd7b97da",
   "metadata": {
    "slideshow": {
     "slide_type": "fragment"
    }
   },
   "outputs": [],
   "source": [
    "hash(\"first_name\")"
   ]
  },
  {
   "cell_type": "code",
   "execution_count": null,
   "id": "964a59b6",
   "metadata": {
    "slideshow": {
     "slide_type": "fragment"
    }
   },
   "outputs": [],
   "source": [
    "hash((\"Spades\", 10))"
   ]
  },
  {
   "cell_type": "code",
   "execution_count": null,
   "id": "92e474c9",
   "metadata": {},
   "outputs": [],
   "source": [
    "hash(int), hash(float), hash(str)"
   ]
  },
  {
   "cell_type": "code",
   "execution_count": null,
   "id": "97422020",
   "metadata": {
    "slideshow": {
     "slide_type": "fragment"
    }
   },
   "outputs": [],
   "source": [
    "hash([1, 2, 3])"
   ]
  },
  {
   "cell_type": "markdown",
   "id": "a83b2d29",
   "metadata": {
    "slideshow": {
     "slide_type": "slide"
    }
   },
   "source": [
    "## Dictionary keys limitations\n",
    "\n",
    "Dictionary keys must be immutable and hashable. This means that they have a hash value and `hash()` function returns a value for them."
   ]
  },
  {
   "cell_type": "code",
   "execution_count": null,
   "id": "2fdd4c29",
   "metadata": {
    "slideshow": {
     "slide_type": "subslide"
    }
   },
   "outputs": [],
   "source": [
    "coordinates = {\n",
    "    (1, 1): \"first quarter\",\n",
    "    (-1, 1): \"second quarter\",\n",
    "    (-1, -1): \"third quarter\",\n",
    "    (1, -1): \"fourth quarter\",\n",
    "}\n",
    "coordinates"
   ]
  },
  {
   "cell_type": "code",
   "execution_count": null,
   "id": "55b856bd",
   "metadata": {
    "slideshow": {
     "slide_type": "fragment"
    }
   },
   "outputs": [],
   "source": [
    "coordinates = {\n",
    "    [1, 1]: \"first quarter\",\n",
    "    [-1, 1]: \"second quarter\",\n",
    "    [-1, -1]: \"third quarter\",\n",
    "    [1, -1]: \"fourth quarter\",\n",
    "}\n",
    "coordinates"
   ]
  },
  {
   "cell_type": "markdown",
   "id": "0417dc12",
   "metadata": {
    "slideshow": {
     "slide_type": "slide"
    }
   },
   "source": [
    "## Dictionary operations"
   ]
  },
  {
   "cell_type": "markdown",
   "id": "72897ffc",
   "metadata": {
    "slideshow": {
     "slide_type": "slide"
    }
   },
   "source": [
    "### `in` operator\n",
    "\n",
    "Checks if a dictionary has the given key or not."
   ]
  },
  {
   "cell_type": "code",
   "execution_count": null,
   "id": "fda8d393",
   "metadata": {
    "slideshow": {
     "slide_type": "fragment"
    }
   },
   "outputs": [],
   "source": [
    "person = {\"name\": \"John Doe\", \"age\": 42}\n",
    "person"
   ]
  },
  {
   "cell_type": "code",
   "execution_count": null,
   "id": "1b358fea",
   "metadata": {
    "slideshow": {
     "slide_type": "fragment"
    }
   },
   "outputs": [],
   "source": [
    "\"name\" in person"
   ]
  },
  {
   "cell_type": "code",
   "execution_count": null,
   "id": "48e640ea",
   "metadata": {
    "slideshow": {
     "slide_type": "fragment"
    }
   },
   "outputs": [],
   "source": [
    "\"friends\" in person"
   ]
  },
  {
   "cell_type": "markdown",
   "id": "c1d34fd2",
   "metadata": {
    "slideshow": {
     "slide_type": "slide"
    }
   },
   "source": [
    "### `d.get(key, default_value)` method\n",
    "\n",
    "`d.get(key, default_value)` method returns the value for a `key` if it exists in the dictionary. If it does not exist, the value of `default_value` is returned, which is `None` by default"
   ]
  },
  {
   "cell_type": "code",
   "execution_count": null,
   "id": "684a70fe",
   "metadata": {
    "slideshow": {
     "slide_type": "fragment"
    }
   },
   "outputs": [],
   "source": [
    "person = {\"name\": \"John Doe\", \"age\": 42}\n",
    "person"
   ]
  },
  {
   "cell_type": "code",
   "execution_count": null,
   "id": "22c7dd89",
   "metadata": {
    "slideshow": {
     "slide_type": "fragment"
    }
   },
   "outputs": [],
   "source": [
    "person.get(\"name\")"
   ]
  },
  {
   "cell_type": "code",
   "execution_count": null,
   "id": "7d6628b3",
   "metadata": {
    "slideshow": {
     "slide_type": "fragment"
    }
   },
   "outputs": [],
   "source": [
    "person.get(\"friends\")"
   ]
  },
  {
   "cell_type": "code",
   "execution_count": null,
   "id": "b502d7cb",
   "metadata": {
    "slideshow": {
     "slide_type": "fragment"
    }
   },
   "outputs": [],
   "source": [
    "person.get(\"friends\", \"Sorry, no friends :(\")"
   ]
  },
  {
   "cell_type": "markdown",
   "id": "2aa53e52",
   "metadata": {
    "slideshow": {
     "slide_type": "slide"
    }
   },
   "source": [
    "### `d.pop(key, default_value)` method\n",
    "\n",
    "`d.pop(key, default_value)` method removes the `key` from the dictionary if it exists in the dictionary and returns its value. If it does not exist, an exception is raised if `default_value` is not provided. Otherwise, the value of `default_value` is provided."
   ]
  },
  {
   "cell_type": "code",
   "execution_count": null,
   "id": "47a89603",
   "metadata": {
    "slideshow": {
     "slide_type": "fragment"
    }
   },
   "outputs": [],
   "source": [
    "person = {\"name\": \"John Doe\", \"age\": 42}\n",
    "person"
   ]
  },
  {
   "cell_type": "code",
   "execution_count": null,
   "id": "22d4dce7",
   "metadata": {
    "slideshow": {
     "slide_type": "fragment"
    }
   },
   "outputs": [],
   "source": [
    "person.pop(\"name\")"
   ]
  },
  {
   "cell_type": "code",
   "execution_count": null,
   "id": "9da45223",
   "metadata": {
    "slideshow": {
     "slide_type": "fragment"
    }
   },
   "outputs": [],
   "source": [
    "person"
   ]
  },
  {
   "cell_type": "code",
   "execution_count": null,
   "id": "dc1099d7",
   "metadata": {
    "slideshow": {
     "slide_type": "fragment"
    }
   },
   "outputs": [],
   "source": [
    "person.pop(\"friends\")"
   ]
  },
  {
   "cell_type": "code",
   "execution_count": null,
   "id": "334bdc80",
   "metadata": {
    "slideshow": {
     "slide_type": "subslide"
    }
   },
   "outputs": [],
   "source": [
    "person.pop(\"friends\", \"Sorry, no friends :(\")"
   ]
  },
  {
   "cell_type": "code",
   "execution_count": null,
   "id": "e30e5dee",
   "metadata": {
    "slideshow": {
     "slide_type": "fragment"
    }
   },
   "outputs": [],
   "source": [
    "person"
   ]
  },
  {
   "cell_type": "markdown",
   "id": "dfa685ec",
   "metadata": {
    "slideshow": {
     "slide_type": "slide"
    }
   },
   "source": [
    "### `d.popitem()` method\n",
    "\n",
    "`d.popitem()` method removes the last key-value pair from the dictionary if it exists in the dictionary and returns its value."
   ]
  },
  {
   "cell_type": "code",
   "execution_count": null,
   "id": "7699b8b9",
   "metadata": {
    "slideshow": {
     "slide_type": "fragment"
    }
   },
   "outputs": [],
   "source": [
    "person = {\"name\": \"John Doe\", \"age\": 42}\n",
    "person"
   ]
  },
  {
   "cell_type": "code",
   "execution_count": null,
   "id": "e0296eba",
   "metadata": {
    "slideshow": {
     "slide_type": "fragment"
    }
   },
   "outputs": [],
   "source": [
    "person.popitem()"
   ]
  },
  {
   "cell_type": "code",
   "execution_count": null,
   "id": "fc9b6ef8",
   "metadata": {
    "slideshow": {
     "slide_type": "fragment"
    }
   },
   "outputs": [],
   "source": [
    "person"
   ]
  },
  {
   "cell_type": "code",
   "execution_count": null,
   "id": "6c0acb47",
   "metadata": {
    "slideshow": {
     "slide_type": "fragment"
    }
   },
   "outputs": [],
   "source": [
    "person.popitem()"
   ]
  },
  {
   "cell_type": "code",
   "execution_count": null,
   "id": "598c5a80",
   "metadata": {
    "slideshow": {
     "slide_type": "subslide"
    }
   },
   "outputs": [],
   "source": [
    "person"
   ]
  },
  {
   "cell_type": "code",
   "execution_count": null,
   "id": "5c729fcb",
   "metadata": {
    "slideshow": {
     "slide_type": "fragment"
    }
   },
   "outputs": [],
   "source": [
    "person.popitem()"
   ]
  },
  {
   "cell_type": "markdown",
   "id": "273f5dd4",
   "metadata": {
    "slideshow": {
     "slide_type": "slide"
    }
   },
   "source": [
    "### `d.clear()` method\n",
    "\n",
    "`d.clear()` method removes the content of the dictionary."
   ]
  },
  {
   "cell_type": "code",
   "execution_count": null,
   "id": "71bfb52d",
   "metadata": {
    "slideshow": {
     "slide_type": "fragment"
    }
   },
   "outputs": [],
   "source": [
    "person = {\"name\": \"John Doe\", \"age\": 42}\n",
    "person"
   ]
  },
  {
   "cell_type": "code",
   "execution_count": null,
   "id": "af3169ef",
   "metadata": {
    "slideshow": {
     "slide_type": "fragment"
    }
   },
   "outputs": [],
   "source": [
    "person.clear()"
   ]
  },
  {
   "cell_type": "code",
   "execution_count": null,
   "id": "13ceaa76",
   "metadata": {
    "slideshow": {
     "slide_type": "fragment"
    }
   },
   "outputs": [],
   "source": [
    "person"
   ]
  },
  {
   "cell_type": "markdown",
   "id": "b6db5b4f",
   "metadata": {
    "slideshow": {
     "slide_type": "slide"
    }
   },
   "source": [
    "### `d.update(object)` method\n",
    "\n",
    "`d.update(object)` method updates the dictionary with the content of the `object`, which can be another mapping or an iterable that represents a mapping."
   ]
  },
  {
   "cell_type": "code",
   "execution_count": null,
   "id": "54b6baef",
   "metadata": {
    "slideshow": {
     "slide_type": "fragment"
    }
   },
   "outputs": [],
   "source": [
    "person = {\"name\": \"John Doe\", \"age\": 42}\n",
    "person"
   ]
  },
  {
   "cell_type": "code",
   "execution_count": null,
   "id": "72f83961",
   "metadata": {
    "slideshow": {
     "slide_type": "fragment"
    }
   },
   "outputs": [],
   "source": [
    "person.update({\"friends\": [\"Alice\", \"Bob\"], \"salary\": 120000})"
   ]
  },
  {
   "cell_type": "code",
   "execution_count": null,
   "id": "9ad7d7e5",
   "metadata": {
    "slideshow": {
     "slide_type": "fragment"
    }
   },
   "outputs": [],
   "source": [
    "person"
   ]
  },
  {
   "cell_type": "code",
   "execution_count": null,
   "id": "564e88bb",
   "metadata": {
    "slideshow": {
     "slide_type": "fragment"
    }
   },
   "outputs": [],
   "source": [
    "person.update([\n",
    "    (\"children\", [\"Jane\", \"Bill\"]),\n",
    "    (\"savings\", 200416.78),\n",
    "])"
   ]
  },
  {
   "cell_type": "code",
   "execution_count": null,
   "id": "a44f12ed",
   "metadata": {
    "slideshow": {
     "slide_type": "fragment"
    }
   },
   "outputs": [],
   "source": [
    "person"
   ]
  },
  {
   "cell_type": "markdown",
   "id": "d3b0debd",
   "metadata": {
    "slideshow": {
     "slide_type": "slide"
    }
   },
   "source": [
    "### `d.keys()` method\n",
    "\n",
    "`d.keys()` method returns the keys of the dictionary."
   ]
  },
  {
   "cell_type": "code",
   "execution_count": null,
   "id": "a5ed17a7",
   "metadata": {
    "slideshow": {
     "slide_type": "fragment"
    }
   },
   "outputs": [],
   "source": [
    "person = {\"name\": \"John Doe\", \"age\": 42}\n",
    "person"
   ]
  },
  {
   "cell_type": "code",
   "execution_count": null,
   "id": "3f450f10",
   "metadata": {
    "slideshow": {
     "slide_type": "fragment"
    }
   },
   "outputs": [],
   "source": [
    "person.keys()"
   ]
  },
  {
   "cell_type": "code",
   "execution_count": null,
   "id": "30637a7c",
   "metadata": {
    "slideshow": {
     "slide_type": "fragment"
    }
   },
   "outputs": [],
   "source": [
    "list(person.keys())"
   ]
  },
  {
   "cell_type": "code",
   "execution_count": null,
   "id": "f056ac6c",
   "metadata": {
    "slideshow": {
     "slide_type": "fragment"
    }
   },
   "outputs": [],
   "source": [
    "for key in person.keys():\n",
    "    print(f\"{key} => {person[key]}\")"
   ]
  },
  {
   "cell_type": "markdown",
   "id": "a73c89eb",
   "metadata": {
    "slideshow": {
     "slide_type": "slide"
    }
   },
   "source": [
    "### `d.values()` method\n",
    "\n",
    "`d.values()` method returns the values of the dictionary."
   ]
  },
  {
   "cell_type": "code",
   "execution_count": null,
   "id": "5ab1414c",
   "metadata": {
    "slideshow": {
     "slide_type": "fragment"
    }
   },
   "outputs": [],
   "source": [
    "person = {\"name\": \"John Doe\", \"age\": 42}\n",
    "person"
   ]
  },
  {
   "cell_type": "code",
   "execution_count": null,
   "id": "68d884db",
   "metadata": {
    "slideshow": {
     "slide_type": "fragment"
    }
   },
   "outputs": [],
   "source": [
    "person.values()"
   ]
  },
  {
   "cell_type": "code",
   "execution_count": null,
   "id": "f08aad61",
   "metadata": {
    "slideshow": {
     "slide_type": "fragment"
    }
   },
   "outputs": [],
   "source": [
    "list(person.values())"
   ]
  },
  {
   "cell_type": "code",
   "execution_count": null,
   "id": "6be8474f",
   "metadata": {
    "slideshow": {
     "slide_type": "fragment"
    }
   },
   "outputs": [],
   "source": [
    "for value in person.values():\n",
    "    print(value)"
   ]
  },
  {
   "cell_type": "markdown",
   "id": "45630246",
   "metadata": {
    "slideshow": {
     "slide_type": "slide"
    }
   },
   "source": [
    "### `d.items()` method\n",
    "\n",
    "`d.items()` method returns the key-value pairs of the dictionary."
   ]
  },
  {
   "cell_type": "code",
   "execution_count": null,
   "id": "2881492c",
   "metadata": {
    "slideshow": {
     "slide_type": "fragment"
    }
   },
   "outputs": [],
   "source": [
    "person = {\"name\": \"John Doe\", \"age\": 42}\n",
    "person"
   ]
  },
  {
   "cell_type": "code",
   "execution_count": null,
   "id": "736eeb85",
   "metadata": {
    "slideshow": {
     "slide_type": "fragment"
    }
   },
   "outputs": [],
   "source": [
    "person.items()"
   ]
  },
  {
   "cell_type": "code",
   "execution_count": null,
   "id": "838ba460",
   "metadata": {
    "slideshow": {
     "slide_type": "fragment"
    }
   },
   "outputs": [],
   "source": [
    "list(person.items())"
   ]
  },
  {
   "cell_type": "code",
   "execution_count": null,
   "id": "adf2e0a9",
   "metadata": {
    "slideshow": {
     "slide_type": "fragment"
    }
   },
   "outputs": [],
   "source": [
    "for key, value in person.items():\n",
    "    print(f\"{key} => {value}\")"
   ]
  },
  {
   "cell_type": "markdown",
   "id": "e16da8ec",
   "metadata": {
    "slideshow": {
     "slide_type": "slide"
    }
   },
   "source": [
    "### `sorted` function"
   ]
  },
  {
   "cell_type": "code",
   "execution_count": null,
   "id": "2a6134da",
   "metadata": {
    "slideshow": {
     "slide_type": "fragment"
    }
   },
   "outputs": [],
   "source": [
    "person = {\"name\": \"John Doe\", \"age\": 42}\n",
    "person"
   ]
  },
  {
   "cell_type": "code",
   "execution_count": null,
   "id": "fa30e1d3",
   "metadata": {
    "slideshow": {
     "slide_type": "fragment"
    }
   },
   "outputs": [],
   "source": [
    "sorted(person)"
   ]
  },
  {
   "cell_type": "code",
   "execution_count": null,
   "id": "fc779f59",
   "metadata": {
    "slideshow": {
     "slide_type": "fragment"
    }
   },
   "outputs": [],
   "source": [
    "for key in sorted(person):\n",
    "    print(f\"{key} => {person[key]}\")"
   ]
  },
  {
   "cell_type": "markdown",
   "id": "4ced532f",
   "metadata": {
    "slideshow": {
     "slide_type": "slide"
    }
   },
   "source": [
    "## Dictionary comprehensions\n",
    "\n",
    "Like list and set comprehension expressions, Python allows us to use the declarative style of dictionary comprehension expressions to create dictionaries.\n",
    "\n",
    "```python\n",
    "{key_expression: value_expression for item in sequence}\n",
    "```\n",
    "\n",
    "- `key_expression` is any valid expression that is hashable and usually depends on the value of `item`.\n",
    "- `value_expression` is any valid expression that usually depends on the value of `item`.\n",
    "- `item` is an element from `sequence`.\n",
    "- `sequence` is an iterable."
   ]
  },
  {
   "cell_type": "code",
   "execution_count": null,
   "id": "4f3e0b74",
   "metadata": {
    "slideshow": {
     "slide_type": "subslide"
    }
   },
   "outputs": [],
   "source": [
    "d = {i: i ** 3 for i in range(10)}\n",
    "d"
   ]
  },
  {
   "cell_type": "code",
   "execution_count": null,
   "id": "5e8353ce",
   "metadata": {
    "slideshow": {
     "slide_type": "fragment"
    }
   },
   "outputs": [],
   "source": [
    "d = {i: i ** 3 for i in range(10) if i % 2 == 1}\n",
    "d"
   ]
  },
  {
   "cell_type": "code",
   "execution_count": null,
   "id": "f6482d3f",
   "metadata": {
    "slideshow": {
     "slide_type": "fragment"
    }
   },
   "outputs": [],
   "source": [
    "text = \"HELLO World\".lower()\n",
    "d = {character: text.count(character) for character in text}\n",
    "d"
   ]
  },
  {
   "cell_type": "code",
   "execution_count": null,
   "id": "ad97c7cf",
   "metadata": {
    "slideshow": {
     "slide_type": "fragment"
    }
   },
   "outputs": [],
   "source": [
    "d = {i: {j: i + j for j in range(10)} for i in range(10)}\n",
    "d"
   ]
  },
  {
   "cell_type": "code",
   "execution_count": null,
   "id": "f1bc607c",
   "metadata": {},
   "outputs": [],
   "source": []
  }
 ],
 "metadata": {
  "celltoolbar": "Slideshow",
  "kernelspec": {
   "display_name": "Python 3 (ipykernel)",
   "language": "python",
   "name": "python3"
  },
  "language_info": {
   "codemirror_mode": {
    "name": "ipython",
    "version": 3
   },
   "file_extension": ".py",
   "mimetype": "text/x-python",
   "name": "python",
   "nbconvert_exporter": "python",
   "pygments_lexer": "ipython3",
   "version": "3.8.10"
  }
 },
 "nbformat": 4,
 "nbformat_minor": 5
}
