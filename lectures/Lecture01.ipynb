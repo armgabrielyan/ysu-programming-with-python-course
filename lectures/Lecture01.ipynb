{
 "cells": [
  {
   "cell_type": "markdown",
   "id": "d6515b7c",
   "metadata": {
    "slideshow": {
     "slide_type": "slide"
    }
   },
   "source": [
    "# Programming with Python\n",
    "## Lecture 01: Introduction\n",
    "\n",
    "### Armen Gabrielyan\n",
    "\n",
    "#### Yerevan State University\n",
    "#### Portmind"
   ]
  },
  {
   "cell_type": "markdown",
   "id": "a0bc169e",
   "metadata": {
    "slideshow": {
     "slide_type": "slide"
    }
   },
   "source": [
    "# Course information\n",
    "\n",
    "- 4 credit score\n",
    "- 4 sessions/week on Wednesdays and Thursdays"
   ]
  },
  {
   "cell_type": "markdown",
   "id": "f26def52",
   "metadata": {
    "slideshow": {
     "slide_type": "slide"
    }
   },
   "source": [
    "# Prerequisites\n",
    "\n",
    "No programming proficiency is required, we start from the basics."
   ]
  },
  {
   "cell_type": "markdown",
   "id": "834c3b11",
   "metadata": {
    "slideshow": {
     "slide_type": "slide"
    }
   },
   "source": [
    "# End of class goals\n",
    "\n",
    "- Learn the basics of programming.\n",
    "- Learn computational methods to solve problems.\n",
    "- Learn Python 3 programming language.\n",
    "- Learn to design, implement, debug and test computer programs.\n",
    "- Learn to develop algorithmic solutions for real-life problems in sciences and beyond.\n",
    "- And many more..."
   ]
  },
  {
   "cell_type": "markdown",
   "id": "6dce7a9d",
   "metadata": {
    "slideshow": {
     "slide_type": "slide"
    }
   },
   "source": [
    "# Grading\n",
    "\n",
    "- Homework assignments: 10% - 20%\n",
    "- Midterms exam(s): TBD\n",
    "- Final project(s): TBD"
   ]
  },
  {
   "cell_type": "markdown",
   "id": "405f34b7",
   "metadata": {
    "slideshow": {
     "slide_type": "slide"
    }
   },
   "source": [
    "# Communication and collaboration\n",
    "\n",
    "- You can contact me at armen.gabrielyan@ysu.am or through https://e-learning.ysu.am portal.\n",
    "- It is advised that students communicate and collaborate with each other a lot because they learn a huge amount from each other.\n",
    "- Course materials will be released on https://github.com/armgabrielyan/ysu-programming-with-python-course and https://e-learning.ysu.am portal."
   ]
  },
  {
   "cell_type": "markdown",
   "id": "01f21432",
   "metadata": {
    "slideshow": {
     "slide_type": "slide"
    }
   },
   "source": [
    "# Course structure (part 1)\n",
    "\n",
    "- Computation principles\n",
    "- Python data types and structures, variables, expressions, statements, operators\n",
    "- Branching, conditioning and iteration/loops\n",
    "- Functions, iteration and recursion, iterators and generators, decorators\n",
    "- Mutable and immutable data structures\n",
    "- Lists, tuples, sets and dictionaries\n",
    "- File I/O\n",
    "- Libraries and packages\n",
    "- Command-line interface applications\n",
    "- Regular expressions\n",
    "- Object-oriented programming and its principles"
   ]
  },
  {
   "cell_type": "markdown",
   "id": "83618bf1",
   "metadata": {
    "slideshow": {
     "slide_type": "slide"
    }
   },
   "source": [
    "# Course structure (part 2)\n",
    "\n",
    "- Type hints and type checking\n",
    "- Algorithms, efficiency and complexity\n",
    "- Debugging, exceptions, assertions, testing\n",
    "- Concurrent and parallel programming, synchronous and asynchronous programming\n",
    "- Dynamic attributes and properties, attribute descriptors, metaprogramming\n",
    "- Introduction to popular data science libraries: NumPy, SciPy, Pandas, Matplotlib\n",
    "- Web serving, WSGI and ASGI specifications\n",
    "- gunicorn and uvicorn web servers\n",
    "- Flask and FastAPI frameworks"
   ]
  },
  {
   "cell_type": "markdown",
   "id": "583c13a3",
   "metadata": {
    "slideshow": {
     "slide_type": "slide"
    }
   },
   "source": [
    "# Textbooks and references\n",
    "\n",
    "- Allen B. Downey, Think Python: How to Think Like a Computer Scientist, 2nd edition, O'Reilly\n",
    "Media, 2015\n",
    "- David Beazley, Brian K. Jones, Python Cookbook, 3rd edition, O'Reilly Media, 2013\n",
    "- Luciano Ramalho, Fluent Python, 2nd edition, O'Reilly Media, 2022\n",
    "- Python official documentation, https://docs.python.org/3/"
   ]
  },
  {
   "cell_type": "markdown",
   "id": "e5192d9e",
   "metadata": {
    "slideshow": {
     "slide_type": "slide"
    }
   },
   "source": [
    "# Computation\n",
    "\n",
    "- **Computation** is the process of applying a set of definite rules to initial conditions to produce an output.\n",
    "- A common example of computation is that done by computers, where the set of fixed rules can be the functions offered by a specific programming language.\n",
    "- **Computer science** is the study of computation and its applications, among other topics.\n",
    "- An **algorithm** is the set of rules used to perform a computation."
   ]
  },
  {
   "cell_type": "markdown",
   "id": "c79d6e1d",
   "metadata": {
    "slideshow": {
     "slide_type": "slide"
    }
   },
   "source": [
    "# Declarative knowledge\n",
    "\n",
    "\n",
    "**Declarative knowledge** is composed of statements of fact.\n",
    "\n",
    "- Example: \"The square root of $x$ is a number $y$ such that $y ^ 2 = x$\"."
   ]
  },
  {
   "cell_type": "markdown",
   "id": "486d620a",
   "metadata": {
    "slideshow": {
     "slide_type": "slide"
    }
   },
   "source": [
    "# Imperative knowledge\n",
    "\n",
    "**Imperative knowledge** is the type of knowledge that shows *how to* achieve a specific task. In other words, it gives recipes for deducing information.\n",
    "\n",
    "For example, there is a well-known method for finding the square root of a number.\n",
    "\n",
    "1. Start with a guess $g$.\n",
    "2. If $g^2$ is close enough to $x$, stop and say that $g$ is the answer.\n",
    "3. Otherwise, create a new guess by averaging $g$ and $\\frac{x}{g}$, i.e., $\\frac{g + \\frac{x}{g}}{2}$.\n",
    "4. Using this new guess, which we again call $g$, go back to step $2$ and repeat the process until $g^2$ is close enough to $x$."
   ]
  },
  {
   "cell_type": "markdown",
   "id": "e6907d6d",
   "metadata": {
    "slideshow": {
     "slide_type": "slide"
    }
   },
   "source": [
    "# History of computers\n",
    "\n",
    "- **Fixed-program computers:** designed to perform very specific tasks and cannot be reprogrammed.\n",
    "    - A computer built in 1941 by Atanasoff and Berry solved systems of linear equations.\n",
    "    - A computer developed during World War II by Alan Turing was designed to breake German Enigma codes.\n",
    "    - Simple calculators still use this architecture nowdays.\n",
    "- **Stored-program computer:** stores and manipulates a sequence of instructions, and has components that will execute any instruction in that sequence.\n",
    "    - Manchester Mark 1 was designed at the University of Manchester during 1948-1949.\n",
    "    - A stored-program machine treats instructions in the same way as data.\n",
    "    - A computer is based on a program (**interpreter**) that can execute a valid sequence of instructions."
   ]
  },
  {
   "cell_type": "markdown",
   "id": "559af878",
   "metadata": {
    "slideshow": {
     "slide_type": "slide"
    }
   },
   "source": [
    "# Von Neumann architecture\n",
    "\n",
    "Computer architecture described by John Von Neumann in 1945\n",
    "\n",
    "![Von Neumann architecture](https://upload.wikimedia.org/wikipedia/commons/e/e5/Von_Neumann_Architecture.svg)\n",
    "\n",
    "- Computer processing unit (CPU)\n",
    "    - Control unit (CU)\n",
    "    - Arithmetic logic unit (ALU)\n",
    "- Memory unit (MU)\n",
    "- Input / output devices"
   ]
  },
  {
   "cell_type": "markdown",
   "id": "191220d2",
   "metadata": {
    "slideshow": {
     "slide_type": "slide"
    }
   },
   "source": [
    "# Turing machines\n",
    "\n",
    "- In 1936, Alan Turing described a hypothetical computing device that was later called a **Turing Machine**.\n",
    "- The device had unlimited memory in the form of a *tape* that could store zeros and ones, and a few straightforward primitive commands for moving, reading, and writing on the tape.\n",
    "\n",
    "![Turing Machine](https://upload.wikimedia.org/wikipedia/commons/a/a2/Turing_machine_2b.svg)"
   ]
  },
  {
   "cell_type": "markdown",
   "id": "4f7982e1",
   "metadata": {
    "slideshow": {
     "slide_type": "slide"
    }
   },
   "source": [
    "# Programming languages\n",
    "\n",
    "In general, **Programming languages** allow us to define a sequence of instructions and instruct the computer what to do.\n",
    "\n",
    "- The **Church-Turing thesis** asserts that if a function is computable, it can be computed by a Turing Machine through programming.\n",
    "- This implies that not all problems have computational solutions, which is known as a **halting problem**.\n",
    "- Also, the Church-Turing thesis leads the concept of **Turing completeness**, that is a programming language is considered to be Turing complete if it can be used to simulate a Turing Machine.\n",
    "- All modern programming languages are Turing complete."
   ]
  },
  {
   "cell_type": "markdown",
   "id": "6336a755",
   "metadata": {
    "slideshow": {
     "slide_type": "slide"
    }
   },
   "source": [
    "# Components of programming languages (part 1)\n",
    "\n",
    "- **Primitive constructs**\n",
    "    - Natural language\n",
    "        - words (շուն, կատու, քայլել)\n",
    "    - Programming language / Python\n",
    "        - literals (for example, the number `1.2` or the string `'abc'`)\n",
    "        - infix operators (for example, `+` or `/`)\n",
    "- **Syntax** defines which sequence of characters and strings are well-formed.\n",
    "    - Natural language\n",
    "        - Valid: \"ես գնացի տուն\"\n",
    "        - Invalid: \"կատու շուն տուն\"\n",
    "    - Programming language / Python\n",
    "        - Valid: `1.2 + 1.2`\n",
    "        - Invalid: `1.21.2`"
   ]
  },
  {
   "cell_type": "markdown",
   "id": "3f494e5f",
   "metadata": {
    "slideshow": {
     "slide_type": "slide"
    }
   },
   "source": [
    "# Components of programming languages (part 2)\n",
    "\n",
    "- **Static semantics** defines which syntactically valid strings have a meaning.\n",
    "    - Natural language\n",
    "        - Valid: \"ես գնացի տուն\"\n",
    "        - Invalid: \"ես գնալ տուն\"\n",
    "    - Programming language / Python\n",
    "        - Valid: `1.2 + 1.2`\n",
    "        - Invalid: `1.2/'abc'`\n",
    "- **Semantics** associates a meaning with each syntactically correct string of symbols that has no static semantic errors.\n",
    "    - Natural language\n",
    "        - Sentences can be ambiguous.\n",
    "    - Programming language / Python\n",
    "        - Each program has exactly one meaning."
   ]
  },
  {
   "cell_type": "markdown",
   "id": "0adfca98",
   "metadata": {
    "slideshow": {
     "slide_type": "slide"
    }
   },
   "source": [
    "# Errors in programs\n",
    "\n",
    "- **Syntax errors**\n",
    "    - Easily detected and program is not executable\n",
    "    - Most of the programming languages give us clear messages on how to fix them\n",
    "- **Static semantic errors**\n",
    "    - Relatively more complex\n",
    "    - Some programming perform a lot of static semantic checking before allowing a program to be executed, such as Java.\n",
    "    - Python performs relatively less static semantic checking before a program is running but does so during program execution \n",
    "    "
   ]
  },
  {
   "cell_type": "markdown",
   "id": "6eea4c02",
   "metadata": {
    "slideshow": {
     "slide_type": "slide"
    }
   },
   "source": [
    "# Unexpected behaviors\n",
    "\n",
    "When a program has no syntax and static semantic errors, it has a semantics (meaning). However, it might not be what we intended.\n",
    "\n",
    "- Program crashes, so it stops running and usually alerts about the failure.\n",
    "- Program keeps running indefinitely, i.e. it is in an infinite loop.\n",
    "- Program finishes and produces an output, but it might be incorrect."
   ]
  }
 ],
 "metadata": {
  "celltoolbar": "Slideshow",
  "kernelspec": {
   "display_name": "Python 3 (ipykernel)",
   "language": "python",
   "name": "python3"
  },
  "language_info": {
   "codemirror_mode": {
    "name": "ipython",
    "version": 3
   },
   "file_extension": ".py",
   "mimetype": "text/x-python",
   "name": "python",
   "nbconvert_exporter": "python",
   "pygments_lexer": "ipython3",
   "version": "3.8.10"
  },
  "vscode": {
   "interpreter": {
    "hash": "916dbcbb3f70747c44a77c7bcd40155683ae19c65e1c03b4aa3499c5328201f1"
   }
  }
 },
 "nbformat": 4,
 "nbformat_minor": 5
}
