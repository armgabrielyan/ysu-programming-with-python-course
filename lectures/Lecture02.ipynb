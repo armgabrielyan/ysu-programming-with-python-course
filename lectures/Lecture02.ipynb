{
 "cells": [
  {
   "cell_type": "markdown",
   "id": "d6515b7c",
   "metadata": {
    "slideshow": {
     "slide_type": "slide"
    }
   },
   "source": [
    "# Programming with Python\n",
    "\n",
    "## Lecture 02: Introduction to Python, data types, variables and operators\n",
    "\n",
    "### Armen Gabrielyan\n",
    "\n",
    "#### Yerevan State University\n",
    "#### Portmind"
   ]
  },
  {
   "cell_type": "markdown",
   "id": "56de312b",
   "metadata": {
    "slideshow": {
     "slide_type": "slide"
    }
   },
   "source": [
    "# Differences of programming languages\n",
    "\n",
    "- **Low-level vs. high-level**\n",
    "\n",
    "The distinction refers to whether instructions and data objects are programmed at the machine's level or abstract operations.\n",
    "\n",
    "- **General-purpose vs. domain-specific**\n",
    "\n",
    "The difference between whether the basic operations of the language are widely usable or are specialized for a specific field.\n",
    "\n",
    "- **Interpreted vs. compiled**\n",
    "\n",
    "The difference refers to whether the programmer's sequence of instructions, known as source code, is executed directly by an interpreter or first transformed by a compiler into a series of low-level machine operations. Both methods have their benefits. It is often easier to troubleshoot programs written in interpreted languages. Compiled languages typically generate programs that run faster and use less memory."
   ]
  },
  {
   "cell_type": "markdown",
   "id": "35de3854",
   "metadata": {
    "slideshow": {
     "slide_type": "slide"
    }
   },
   "source": [
    "# Introduction to Python\n",
    "\n",
    "- High-level, general-purpose programming language.\n",
    "- Designed by Guido van Rossum\n",
    "- First appeared in 1991\n",
    "- Python 2.0 was released in 2000 and deprecated in 2020\n",
    "- Python 3.0 was released in 2008, which was not backward compatible with Python 2\n",
    "\n",
    "For more information on the status of Python version, please go to [this page](https://devguide.python.org/versions/)."
   ]
  },
  {
   "cell_type": "markdown",
   "id": "cba2ab3c",
   "metadata": {
    "slideshow": {
     "slide_type": "slide"
    }
   },
   "source": [
    "# Python applications\n",
    "\n",
    "- Web development\n",
    "- Scientific and numeric computing\n",
    "- Data analysis and visualization\n",
    "- Machine Learning and Artificial Intelligence\n",
    "- Desktop GUI applications\n",
    "- Automation\n",
    "- Network programming\n",
    "- Gaming"
   ]
  },
  {
   "cell_type": "markdown",
   "id": "afb40135",
   "metadata": {
    "slideshow": {
     "slide_type": "slide"
    }
   },
   "source": [
    "# Install Python\n",
    "\n",
    "### Linux\n",
    "\n",
    "```sh\n",
    "$ sudo apt-get update\n",
    "$ sudo apt-get install python3.11\n",
    "```\n",
    "\n",
    "For more information go to [Downloads](https://www.python.org/downloads/) page on the official Python website.\n",
    "\n",
    "### MacOS and Windows\n",
    "\n",
    "Go to [Downloads](https://www.python.org/downloads/) page on the official Python website and follow \"Download\" instructions.\n"
   ]
  },
  {
   "cell_type": "markdown",
   "id": "ea02c190",
   "metadata": {
    "slideshow": {
     "slide_type": "slide"
    }
   },
   "source": [
    "# \"Hello world\" program\n",
    "\n",
    "1. Open terminal on your operating system.\n",
    "2. Run `python3` to open Python interactive shell (Read-eval-print-loop, i.e. REPL).\n",
    "3. Write the following instruction and hit \"Enter\".\n",
    "\n",
    "```python\n",
    "print('Hello world!')\n",
    "```"
   ]
  },
  {
   "cell_type": "markdown",
   "id": "b6c113c8",
   "metadata": {
    "slideshow": {
     "slide_type": "slide"
    }
   },
   "source": [
    "# python hello.py\n",
    "\n",
    "1. Create a file called `hello.py`.\n",
    "2. Open it in your favorite text editor or IDE.\n",
    "3. Write `print('Hello world!')` to the file.\n",
    "4. Run `python3 hello.py`."
   ]
  },
  {
   "cell_type": "markdown",
   "id": "3ffebf4e",
   "metadata": {
    "slideshow": {
     "slide_type": "slide"
    }
   },
   "source": [
    "# Jupyter\n",
    "\n",
    "Jupyter projects (Jupyter Notebook, JupyterLab, etc.) are web-based interactive development environment (IDE) for writing and sharing code.\n",
    "\n",
    "- **Local development environment:** Please follow the instructions on [Installing Jupyter](https://jupyter.org/install)\n",
    "- **Online**: [Google Colab](https://colab.research.google.com/)\n",
    "\n",
    "1. Insert a code cell.\n",
    "2. Write `print('Hello world!')`.\n",
    "3. Run the code cell."
   ]
  },
  {
   "cell_type": "markdown",
   "id": "912d55cd",
   "metadata": {
    "slideshow": {
     "slide_type": "slide"
    }
   },
   "source": [
    "# Interactive development environments and text editors\n",
    "\n",
    "An Integrated Development Environment (IDE) is a software application that provides a comprehensive environment for software development, including a source code editor, build automation tools, and a debugger, to increase developer productivity.\n",
    "\n",
    "- [Visual Studio Code](https://code.visualstudio.com/)\n",
    "- [PyCharm](https://www.jetbrains.com/pycharm/)\n",
    "- [vim](https://www.vim.org/) and [neovim](https://neovim.io/)\n",
    "- Online IDE on [Replit](https://replit.com/)"
   ]
  },
  {
   "cell_type": "markdown",
   "id": "747c6f7a",
   "metadata": {
    "slideshow": {
     "slide_type": "slide"
    }
   },
   "source": [
    "# Improving the \"Hello World\" program\n",
    "\n",
    "- We would like to get an input from the user.\n",
    "- This can be done via `input` function that takes a prompt as an argument.\n",
    "- Also, we can use a variable to store data into a container.\n",
    "\n",
    "```python\n",
    "name = input('What is your name? ')\n",
    "print('Hello', name)\n",
    "```"
   ]
  },
  {
   "cell_type": "markdown",
   "id": "a1b98bf6",
   "metadata": {
    "slideshow": {
     "slide_type": "slide"
    }
   },
   "source": [
    "# Comments\n",
    "\n",
    "Comments are text that are ignored by Python. They can help you write free-form text in your code or document your code.\n",
    "\n",
    "- Single line comments\n",
    "\n",
    "```python\n",
    "# This is just a comment.\n",
    "```\n",
    "\n",
    "```python\n",
    "# This is just\n",
    "# a comment.\n",
    "```\n",
    "\n",
    "- Multi-line comments\n",
    "\n",
    "\n",
    "```python\n",
    "\"\"\"\n",
    "This is just a comment.\n",
    "\"\"\"\n",
    "```\n",
    "\n",
    "\n",
    "```python\n",
    "\"\"\"\n",
    "This is just\n",
    "a comment.\n",
    "\"\"\"\n",
    "```"
   ]
  },
  {
   "cell_type": "markdown",
   "id": "1fc80cbe",
   "metadata": {
    "slideshow": {
     "slide_type": "slide"
    }
   },
   "source": [
    "# Variables\n",
    "\n",
    "A variable is a container for storing a value in your program.\n",
    "\n",
    "A value is given to a variable by assignment operator `=`.\n",
    "\n",
    "```python\n",
    "x = 123\n",
    "\n",
    "print(x)\n",
    "```\n",
    "\n",
    "Later it can be changed to another value.\n",
    "\n",
    "```python\n",
    "x = 456\n",
    "\n",
    "print(x)\n",
    "```\n",
    "\n",
    "Chained assignment is also available.\n",
    "\n",
    "```python\n",
    "x = y = z = 'Hello World'\n",
    "\n",
    "print(x, y, z)\n",
    "```"
   ]
  },
  {
   "cell_type": "markdown",
   "id": "f4db13b4",
   "metadata": {
    "slideshow": {
     "slide_type": "slide"
    }
   },
   "source": [
    "# Variable names\n",
    "\n",
    "Variable names should follow the following rules:\n",
    "- They can consist of\n",
    "    - Uppercase and lowercase letters (A-Z, a-z)\n",
    "    - Digits (0-9)\n",
    "    - The underscore character (_)\n",
    "- Cannot start with a number\n",
    "- Cannot be a Python keyword"
   ]
  },
  {
   "cell_type": "markdown",
   "id": "fcb7f75e",
   "metadata": {
    "slideshow": {
     "slide_type": "subslide"
    }
   },
   "source": [
    "**Valid examples**\n",
    "\n",
    "- `abc`\n",
    "- `x1`\n",
    "- `_y1`\n",
    "\n",
    "**Invalid examples**\n",
    "\n",
    "- `a b`\n",
    "- `1x`\n",
    "- `if`"
   ]
  },
  {
   "cell_type": "markdown",
   "id": "0f989869",
   "metadata": {
    "slideshow": {
     "slide_type": "slide"
    }
   },
   "source": [
    "# Python keywords\n",
    "\n",
    "In Python, keywords are reserved words with specific meanings and functionality that cannot be used for any other purpose besides what they have been defined for.\n",
    "\n",
    "The following keywords are available in Python:\n",
    "\n",
    "`False`, `None`, `True`, `and`, `as`, `assert`, `async`, `await`, `break`, `class`, `continue`, `def`, `del`, `elif`, `else`, `except`, `finally`, `for`, `from`, `global`, `if`, `import`, `in`, `is`, `lambda`, `nonlocal`, `not`, `or`, `pass`, `raise`, `return`, `try`, `while`, `with`, `yield`"
   ]
  },
  {
   "cell_type": "code",
   "execution_count": null,
   "id": "d586aa22",
   "metadata": {
    "slideshow": {
     "slide_type": "subslide"
    }
   },
   "outputs": [],
   "source": [
    "import keyword\n",
    "\n",
    "keyword.kwlist"
   ]
  },
  {
   "cell_type": "markdown",
   "id": "40b89371",
   "metadata": {
    "slideshow": {
     "slide_type": "slide"
    }
   },
   "source": [
    "# Data types\n",
    "\n",
    "1. Numeric types: `int`, `float`, `complex`\n",
    "2. Text type: `str`\n",
    "3. Boolean type: `bool`\n",
    "4. None type: `NoneType`\n",
    "5. Sequence types: `list`, `tuple`, `range`\n",
    "6. Set types: `set`, `frozenset`\n",
    "7. Mapping type: `dict`\n",
    "8. Binary types: `bytes`, `bytearray`, `memoryview`"
   ]
  },
  {
   "cell_type": "markdown",
   "id": "89b03ba7",
   "metadata": {
    "slideshow": {
     "slide_type": "slide"
    }
   },
   "source": [
    "# type() function\n",
    "\n",
    "In Python, `type()` is a built-in function that returns the type of a provided parameter.\n",
    "\n",
    "```python\n",
    "print(type(42))\n",
    "```"
   ]
  },
  {
   "cell_type": "code",
   "execution_count": null,
   "id": "b2ca6fd5",
   "metadata": {
    "slideshow": {
     "slide_type": "subslide"
    }
   },
   "outputs": [],
   "source": [
    "print(type(42))"
   ]
  },
  {
   "cell_type": "markdown",
   "id": "e4af2129",
   "metadata": {
    "slideshow": {
     "slide_type": "slide"
    }
   },
   "source": [
    "# Numeric types\n",
    "\n",
    "- `int`: represents signed (negative and positive) integers, such as `42`\n",
    "- `float`: represents real numbers\n",
    "    - floating-point precision numbers: `42.5`, `-24.79`\n",
    "    - scientific notation: `1e4`, `-4e2`\n",
    "    - infinity: `float('inf')` and `float('-inf')`\n",
    "- `complex`: represents complex numbers, such as `1 + 2j`"
   ]
  },
  {
   "cell_type": "code",
   "execution_count": null,
   "id": "252b875a",
   "metadata": {
    "slideshow": {
     "slide_type": "subslide"
    }
   },
   "outputs": [],
   "source": [
    "# int\n",
    "\n",
    "print(-42)\n",
    "print(0)\n",
    "print(42)\n",
    "\n",
    "print(type(-42))"
   ]
  },
  {
   "cell_type": "code",
   "execution_count": null,
   "id": "74357d42",
   "metadata": {
    "slideshow": {
     "slide_type": "subslide"
    }
   },
   "outputs": [],
   "source": [
    "# float\n",
    "\n",
    "print(42.5)\n",
    "print(1e4)\n",
    "print(float('inf'))\n",
    "\n",
    "print(type(42.5))"
   ]
  },
  {
   "cell_type": "code",
   "execution_count": null,
   "id": "68db9a5c",
   "metadata": {
    "slideshow": {
     "slide_type": "subslide"
    }
   },
   "outputs": [],
   "source": [
    "# complex\n",
    "\n",
    "print(1 + 2j)\n",
    "print(type(1 + 2j))"
   ]
  },
  {
   "cell_type": "markdown",
   "id": "1265f9f6",
   "metadata": {
    "slideshow": {
     "slide_type": "slide"
    }
   },
   "source": [
    "# Text type\n",
    "\n",
    "- `str`: represents text data, i.e. a sequence of characters, such as `'a'`, `'abc'`, and `'I am going home'`."
   ]
  },
  {
   "cell_type": "code",
   "execution_count": null,
   "id": "374e4adb",
   "metadata": {
    "slideshow": {
     "slide_type": "subslide"
    }
   },
   "outputs": [],
   "source": [
    "print('a')\n",
    "print('abc')\n",
    "print('I am going home')\n",
    "\n",
    "print(type('a'))\n",
    "print(type('abc'))\n",
    "print(type('I am going home'))"
   ]
  },
  {
   "cell_type": "markdown",
   "id": "db5556f9",
   "metadata": {
    "slideshow": {
     "slide_type": "slide"
    }
   },
   "source": [
    "# Boolean type\n",
    "\n",
    "- `bool`: represent a logic value and takes one of the following two values:\n",
    "    - `True`\n",
    "    - `False`"
   ]
  },
  {
   "cell_type": "code",
   "execution_count": null,
   "id": "6bfc40dd",
   "metadata": {
    "slideshow": {
     "slide_type": "subslide"
    }
   },
   "outputs": [],
   "source": [
    "print(True)\n",
    "print(False)\n",
    "\n",
    "print(type(True))\n",
    "print(type(False))"
   ]
  },
  {
   "cell_type": "markdown",
   "id": "c794fc41",
   "metadata": {
    "slideshow": {
     "slide_type": "slide"
    }
   },
   "source": [
    "# None type\n",
    "\n",
    "- `NoneType` - represents a null (empty) value and takes a single value `None`"
   ]
  },
  {
   "cell_type": "code",
   "execution_count": null,
   "id": "9dcf0b05",
   "metadata": {
    "slideshow": {
     "slide_type": "subslide"
    }
   },
   "outputs": [],
   "source": [
    "print(None)\n",
    "\n",
    "print(type(None))"
   ]
  },
  {
   "cell_type": "markdown",
   "id": "53a090d8",
   "metadata": {
    "slideshow": {
     "slide_type": "slide"
    }
   },
   "source": [
    "# Complex data types\n",
    "\n",
    "The following slides give an overview of complex data types that will be discussed in further details later in the course."
   ]
  },
  {
   "cell_type": "markdown",
   "id": "ea1ed1e1",
   "metadata": {
    "slideshow": {
     "slide_type": "slide"
    }
   },
   "source": [
    "# Sequence types\n",
    "\n",
    "- `list`: represents an ordered collection of data that can be of different data types\n",
    "    - `[1, 2, 3]`\n",
    "    - `[\"a\", \"bc\", \"def\"]`\n",
    "    - `[42, 1.42, \"abc\"]`\n",
    "- `tuple`: represents an ordered collection of data that can be of different data types and is immutable\n",
    "    - `(1, 2, 3)`\n",
    "    - `(\"a\", \"bc\", \"def\")`\n",
    "    - `(42, 1.42, \"abc\")`\n",
    "- `range`: represents an object that can be used to produce a sequence of integers\n",
    "    - `range(5)`"
   ]
  },
  {
   "cell_type": "markdown",
   "id": "ba9278ec",
   "metadata": {
    "slideshow": {
     "slide_type": "slide"
    }
   },
   "source": [
    "# Set types\n",
    "\n",
    "- `set`: represents an unordered collection of data that is mutable and has no duplicate elements\n",
    "    - `{1, 2, 3}`\n",
    "    - `{\"a\", \"bc\", \"def\"}`\n",
    "    - `{42, 1.42, \"abc\"}`\n",
    "- `frozenset`: represents an unordered collection of data that is immutable and has no duplicate elements\n",
    "    - `frozenset({1, 2, 3})`\n",
    "    - `frozenset({\"a\", \"bc\", \"def\"})`\n",
    "    - `frozenset({42, 1.42, \"abc\"})`"
   ]
  },
  {
   "cell_type": "markdown",
   "id": "638fad15",
   "metadata": {
    "slideshow": {
     "slide_type": "slide"
    }
   },
   "source": [
    "# Mapping type\n",
    "\n",
    "- `dict`: represents an unordered collection of data values that consist of a key-value pairs\n",
    "    - `{\"name\": \"Jane Dane\", \"age\": 21, \"is_female\": True}`"
   ]
  },
  {
   "cell_type": "markdown",
   "id": "8f09eabc",
   "metadata": {
    "slideshow": {
     "slide_type": "slide"
    }
   },
   "source": [
    "# Arithmetic operators\n",
    "\n",
    "| Operator | Name             | Example | Meaning                                                               |\n",
    "|----------|------------------|---------|-----------------------------------------------------------------------|\n",
    "| +        | Positive         | +x      | Makes x positive                                                      |\n",
    "| -        | Negation         | -x      | Negates x                                                             |\n",
    "| +        | Addition         | x + y   | Sum of x and y                                                        |\n",
    "| -        | Subtraction      | x - y   | Subtracts y from x                                                    |\n",
    "| *        | Multiplication   | x * y   | Multiplies x and y                                                    |\n",
    "| /        | Division         | x / y   | Divides x by y, resulting in a float                                  |\n",
    "| %        | Modulo           | x % y   | Remainder when x is divided by y                                      |\n",
    "| //       | Integer division | x // y  | Quotient when x is divided by y, rounded to the next smallest integer |\n",
    "| **       | Exponentiation   | x ** y  | x is raised to the power of y                                         |"
   ]
  }
 ],
 "metadata": {
  "celltoolbar": "Slideshow",
  "kernelspec": {
   "display_name": "Python 3 (ipykernel)",
   "language": "python",
   "name": "python3"
  },
  "language_info": {
   "codemirror_mode": {
    "name": "ipython",
    "version": 3
   },
   "file_extension": ".py",
   "mimetype": "text/x-python",
   "name": "python",
   "nbconvert_exporter": "python",
   "pygments_lexer": "ipython3",
   "version": "3.8.10"
  },
  "vscode": {
   "interpreter": {
    "hash": "916dbcbb3f70747c44a77c7bcd40155683ae19c65e1c03b4aa3499c5328201f1"
   }
  }
 },
 "nbformat": 4,
 "nbformat_minor": 5
}
