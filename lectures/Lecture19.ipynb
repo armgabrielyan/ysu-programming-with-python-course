{
 "cells": [
  {
   "cell_type": "markdown",
   "id": "74750d32",
   "metadata": {
    "slideshow": {
     "slide_type": "slide"
    }
   },
   "source": [
    "# Programming with Python\n",
    "\n",
    "## Lecture 19: Decorators, modules and packages\n",
    "\n",
    "### Armen Gabrielyan\n",
    "\n",
    "#### Yerevan State University\n",
    "#### Portmind"
   ]
  },
  {
   "cell_type": "markdown",
   "id": "67ddf7da",
   "metadata": {
    "slideshow": {
     "slide_type": "slide"
    }
   },
   "source": [
    "## Introspection\n",
    "\n",
    "Type introspection is the ability of a program to examine the type or properties of an object at runtime."
   ]
  },
  {
   "cell_type": "code",
   "execution_count": null,
   "id": "d9041599",
   "metadata": {
    "slideshow": {
     "slide_type": "fragment"
    }
   },
   "outputs": [],
   "source": [
    "print"
   ]
  },
  {
   "cell_type": "code",
   "execution_count": null,
   "id": "a665aac0",
   "metadata": {
    "slideshow": {
     "slide_type": "fragment"
    }
   },
   "outputs": [],
   "source": [
    "print.__name__"
   ]
  },
  {
   "cell_type": "code",
   "execution_count": null,
   "id": "e17c5849",
   "metadata": {
    "slideshow": {
     "slide_type": "fragment"
    }
   },
   "outputs": [],
   "source": [
    "help(print)"
   ]
  },
  {
   "cell_type": "code",
   "execution_count": null,
   "id": "1b82db34",
   "metadata": {
    "slideshow": {
     "slide_type": "slide"
    }
   },
   "outputs": [],
   "source": [
    "greet_with_name_and_return"
   ]
  },
  {
   "cell_type": "code",
   "execution_count": null,
   "id": "b435126b",
   "metadata": {
    "slideshow": {
     "slide_type": "fragment"
    }
   },
   "outputs": [],
   "source": [
    "greet_with_name_and_return.__name__"
   ]
  },
  {
   "cell_type": "code",
   "execution_count": null,
   "id": "e1b6aa8d",
   "metadata": {
    "slideshow": {
     "slide_type": "fragment"
    }
   },
   "outputs": [],
   "source": [
    "help(greet_with_name_and_return)"
   ]
  },
  {
   "cell_type": "markdown",
   "id": "47a75474",
   "metadata": {
    "slideshow": {
     "slide_type": "slide"
    }
   },
   "source": [
    "### @functools.wraps\n",
    "\n",
    "This decorator allows us to keep the original information of the decorated function."
   ]
  },
  {
   "cell_type": "code",
   "execution_count": null,
   "id": "2852a66d",
   "metadata": {
    "slideshow": {
     "slide_type": "fragment"
    }
   },
   "outputs": [],
   "source": [
    "import functools\n",
    "\n",
    "def do_twice(func):\n",
    "    @functools.wraps(func)\n",
    "    def wrapper(*args, **kwargs):\n",
    "        func(*args, **kwargs)\n",
    "        return func(*args, **kwargs)\n",
    "    return wrapper"
   ]
  },
  {
   "cell_type": "code",
   "execution_count": null,
   "id": "1daa27d1",
   "metadata": {
    "slideshow": {
     "slide_type": "fragment"
    }
   },
   "outputs": [],
   "source": [
    "@do_twice\n",
    "def greet_with_name_and_return(name):\n",
    "    greeting = f\"Hello, {name}!\"\n",
    "    print(greeting)\n",
    "    return greeting"
   ]
  },
  {
   "cell_type": "code",
   "execution_count": null,
   "id": "885a6d80",
   "metadata": {
    "slideshow": {
     "slide_type": "fragment"
    }
   },
   "outputs": [],
   "source": [
    "greet_with_name_and_return"
   ]
  },
  {
   "cell_type": "code",
   "execution_count": null,
   "id": "00745392",
   "metadata": {
    "slideshow": {
     "slide_type": "fragment"
    }
   },
   "outputs": [],
   "source": [
    "greet_with_name_and_return.__name__"
   ]
  },
  {
   "cell_type": "code",
   "execution_count": null,
   "id": "8db3a0de",
   "metadata": {
    "slideshow": {
     "slide_type": "fragment"
    }
   },
   "outputs": [],
   "source": [
    "help(greet_with_name_and_return)"
   ]
  },
  {
   "cell_type": "markdown",
   "id": "d3a8104a",
   "metadata": {
    "slideshow": {
     "slide_type": "slide"
    }
   },
   "source": [
    "## Timing decorator"
   ]
  },
  {
   "cell_type": "code",
   "execution_count": null,
   "id": "9dd94a8c",
   "metadata": {
    "slideshow": {
     "slide_type": "fragment"
    }
   },
   "outputs": [],
   "source": [
    "import functools\n",
    "import time\n",
    "\n",
    "def timer(func):\n",
    "    @functools.wraps(func)\n",
    "    def wrapper(*args, **kwargs):\n",
    "        start_time = time.perf_counter()\n",
    "        value = func(*args, **kwargs)\n",
    "        end_time = time.perf_counter()\n",
    "        run_time = end_time - start_time\n",
    "        print(f\"Finished {func.__name__!r} in {run_time:.3f} seconds\")\n",
    "        return value\n",
    "    return wrapper"
   ]
  },
  {
   "cell_type": "code",
   "execution_count": null,
   "id": "3ad20394",
   "metadata": {
    "slideshow": {
     "slide_type": "fragment"
    }
   },
   "outputs": [],
   "source": [
    "@timer\n",
    "def sum_of_squares(n):\n",
    "    return sum([i**2 for i in range(10 ** n)])"
   ]
  },
  {
   "cell_type": "code",
   "execution_count": null,
   "id": "35b19680",
   "metadata": {
    "slideshow": {
     "slide_type": "fragment"
    }
   },
   "outputs": [],
   "source": [
    "sum_of_squares(6)"
   ]
  },
  {
   "cell_type": "markdown",
   "id": "68a6022f",
   "metadata": {
    "slideshow": {
     "slide_type": "slide"
    }
   },
   "source": [
    "## Nested decorators\n",
    "\n",
    "Decorators can be stacked on top of each other."
   ]
  },
  {
   "cell_type": "code",
   "execution_count": null,
   "id": "28319edc",
   "metadata": {
    "slideshow": {
     "slide_type": "fragment"
    }
   },
   "outputs": [],
   "source": [
    "import functools\n",
    "\n",
    "def debug(func):\n",
    "    @functools.wraps(func)\n",
    "    def wrapper(*args, **kwargs):\n",
    "        print(f\"Before calling {func.__name__!r}\")\n",
    "        value = func(*args, **kwargs)\n",
    "        print(f\"After calling {func.__name__!r}\")\n",
    "        return value\n",
    "    return wrapper\n",
    "\n",
    "\n",
    "def do_twice(func):\n",
    "    @functools.wraps(func)\n",
    "    def wrapper(*args, **kwargs):\n",
    "        func(*args, **kwargs)\n",
    "        return func(*args, **kwargs)\n",
    "    return wrapper"
   ]
  },
  {
   "cell_type": "code",
   "execution_count": null,
   "id": "6579d27f",
   "metadata": {
    "slideshow": {
     "slide_type": "slide"
    }
   },
   "outputs": [],
   "source": [
    "@debug\n",
    "@do_twice\n",
    "def greet_with_name(name):\n",
    "    print(f\"Hello, {name}!\")\n",
    "    \n",
    "greet_with_name(\"John Doe\")"
   ]
  },
  {
   "cell_type": "markdown",
   "id": "482366d6",
   "metadata": {
    "slideshow": {
     "slide_type": "fragment"
    }
   },
   "source": [
    "This is equivalent to the following."
   ]
  },
  {
   "cell_type": "code",
   "execution_count": null,
   "id": "99699c1e",
   "metadata": {
    "slideshow": {
     "slide_type": "fragment"
    }
   },
   "outputs": [],
   "source": [
    "def greet_with_name(name):\n",
    "    print(f\"Hello, {name}!\")\n",
    "\n",
    "greet_with_name = debug(do_twice(greet_with_name))\n",
    "\n",
    "greet_with_name(\"John Doe\")"
   ]
  },
  {
   "cell_type": "code",
   "execution_count": null,
   "id": "110c0153",
   "metadata": {
    "slideshow": {
     "slide_type": "slide"
    }
   },
   "outputs": [],
   "source": [
    "@do_twice\n",
    "@debug\n",
    "def greet_with_name(name):\n",
    "    print(f\"Hello, {name}!\")\n",
    "    \n",
    "greet_with_name(\"John Doe\")"
   ]
  },
  {
   "cell_type": "markdown",
   "id": "bb971e0b",
   "metadata": {
    "slideshow": {
     "slide_type": "fragment"
    }
   },
   "source": [
    "This is equivalent to the following."
   ]
  },
  {
   "cell_type": "code",
   "execution_count": null,
   "id": "05ccc89e",
   "metadata": {
    "slideshow": {
     "slide_type": "fragment"
    }
   },
   "outputs": [],
   "source": [
    "def greet_with_name(name):\n",
    "    print(f\"Hello, {name}!\")\n",
    "\n",
    "greet_with_name = do_twice(debug(greet_with_name))\n",
    "\n",
    "greet_with_name(\"John Doe\")"
   ]
  },
  {
   "cell_type": "markdown",
   "id": "54d59b76",
   "metadata": {
    "slideshow": {
     "slide_type": "slide"
    }
   },
   "source": [
    "## Decorators that accept arguments"
   ]
  },
  {
   "cell_type": "code",
   "execution_count": null,
   "id": "b8abe646",
   "metadata": {
    "slideshow": {
     "slide_type": "fragment"
    }
   },
   "outputs": [],
   "source": [
    "import functools\n",
    "\n",
    "\n",
    "def repeat(num_times):\n",
    "    def decorator(func):\n",
    "        @functools.wraps(func)\n",
    "        def wrapper(*args, **kwargs):\n",
    "            for _ in range(num_times):\n",
    "                value = func(*args, **kwargs)\n",
    "            return value\n",
    "        return wrapper\n",
    "    return decorator"
   ]
  },
  {
   "cell_type": "code",
   "execution_count": null,
   "id": "ab3f0d56",
   "metadata": {
    "slideshow": {
     "slide_type": "fragment"
    }
   },
   "outputs": [],
   "source": [
    "@repeat(5)\n",
    "def greet_with_name(name):\n",
    "    print(f\"Hello, {name}!\")"
   ]
  },
  {
   "cell_type": "code",
   "execution_count": null,
   "id": "3bfdcdc9",
   "metadata": {
    "slideshow": {
     "slide_type": "fragment"
    }
   },
   "outputs": [],
   "source": [
    "greet_with_name(\"John Doe\")"
   ]
  },
  {
   "cell_type": "markdown",
   "id": "2ee19510",
   "metadata": {
    "slideshow": {
     "slide_type": "slide"
    }
   },
   "source": [
    "# Libraries\n",
    "\n",
    "- **Libraries** are code written by us or others that can easily be used in our programs.\n",
    "- Python allows us to share functions or features by creating **modules**."
   ]
  },
  {
   "cell_type": "markdown",
   "id": "e0b39722",
   "metadata": {
    "slideshow": {
     "slide_type": "slide"
    }
   },
   "source": [
    "# Modularization\n",
    "\n",
    "Python **modules** and **packages** promote modular code and programming. This has the benefits of:\n",
    "\n",
    "- Simplicity\n",
    "- Maintainability\n",
    "- Reusability\n",
    "- Namespacing and scoping"
   ]
  },
  {
   "cell_type": "markdown",
   "id": "38827419",
   "metadata": {
    "slideshow": {
     "slide_type": "slide"
    }
   },
   "source": [
    "# Modules\n",
    "\n",
    "- A module can be written in Python.\n",
    "- A module can be written in C/C++/Rust.\n",
    "- There are built-in modules, such as `math`, `random`, `itertools`."
   ]
  },
  {
   "cell_type": "markdown",
   "id": "1d811c1b",
   "metadata": {
    "slideshow": {
     "slide_type": "slide"
    }
   },
   "source": [
    "# Create a module\n",
    "\n",
    "A module can be created by saving a Python code in a file with `.py` extension."
   ]
  },
  {
   "cell_type": "code",
   "execution_count": null,
   "id": "b8f76638",
   "metadata": {
    "slideshow": {
     "slide_type": "fragment"
    }
   },
   "outputs": [],
   "source": [
    "# mymodule.py\n",
    "\n",
    "text = \"Hello world!\"\n",
    "\n",
    "sequence = [10, 20, 30, 40]\n",
    "\n",
    "def greet(name):\n",
    "    return f\"Hello, {name}!\""
   ]
  },
  {
   "cell_type": "code",
   "execution_count": null,
   "id": "3c02bf9d",
   "metadata": {
    "slideshow": {
     "slide_type": "fragment"
    }
   },
   "outputs": [],
   "source": [
    "# main.py\n",
    "\n",
    "import mymodule\n",
    "\n",
    "print(mymodule.text)\n",
    "print(mymodule.sequence)\n",
    "print(mymodule.greet(\"John Doe\"))"
   ]
  },
  {
   "cell_type": "markdown",
   "id": "3b9710f6",
   "metadata": {
    "slideshow": {
     "slide_type": "slide"
    }
   },
   "source": [
    "# `import` statement"
   ]
  },
  {
   "cell_type": "markdown",
   "id": "ced6d401",
   "metadata": {
    "slideshow": {
     "slide_type": "slide"
    }
   },
   "source": [
    "## `import <module_name>`\n",
    "\n",
    "```python\n",
    "import <module_name>\n",
    "```\n",
    "\n",
    "- A module has its own **private symbol** table.\n",
    "- A module creates a separate **namespace**.\n",
    "- After importing a module only module name is available in caller's symbol table.\n",
    "- The objects from module can be accessed via **dot** notation."
   ]
  },
  {
   "cell_type": "code",
   "execution_count": null,
   "id": "3dfe8229",
   "metadata": {
    "slideshow": {
     "slide_type": "fragment"
    }
   },
   "outputs": [],
   "source": [
    "# `mymodule` is available in the local symbol table\n",
    "import mymodule\n",
    "\n",
    "print(mymodule)"
   ]
  },
  {
   "cell_type": "code",
   "execution_count": null,
   "id": "d594deb3",
   "metadata": {
    "slideshow": {
     "slide_type": "fragment"
    }
   },
   "outputs": [],
   "source": [
    "# `text`, `sequence` or `greet` are not available in the local symbol table\n",
    "\n",
    "print(text)\n",
    "print(sequence)\n",
    "print(greet(\"John Doe\"))"
   ]
  },
  {
   "cell_type": "code",
   "execution_count": null,
   "id": "ec5b149a",
   "metadata": {
    "slideshow": {
     "slide_type": "fragment"
    }
   },
   "outputs": [],
   "source": [
    "# `text`, `sequence` or `greet` can be accessed via dot notaion\n",
    "\n",
    "print(mymodule.text)\n",
    "print(mymodule.sequence)\n",
    "print(mymodule.greet(\"John Doe\"))"
   ]
  },
  {
   "cell_type": "markdown",
   "id": "e1ec8525",
   "metadata": {
    "slideshow": {
     "slide_type": "fragment"
    }
   },
   "source": [
    "Multiple modules can be imported separated by comma.\n",
    "\n",
    "```python\n",
    "import <module_name_1>, <module_name_2>, ...\n",
    "```"
   ]
  },
  {
   "cell_type": "markdown",
   "id": "5420c381",
   "metadata": {
    "slideshow": {
     "slide_type": "slide"
    }
   },
   "source": [
    "## `from <module_name> import <name>`\n",
    "\n",
    "```python\n",
    "from <module_name> import <name_1>, <name_2>, ...\n",
    "```\n",
    "\n",
    "- Module's objects can be imported to caller's symbol table\n",
    "- The objects from module can be accessed directly without dot notation."
   ]
  },
  {
   "cell_type": "code",
   "execution_count": null,
   "id": "5703ad80",
   "metadata": {
    "slideshow": {
     "slide_type": "fragment"
    }
   },
   "outputs": [],
   "source": [
    "from mymodule import text, sequence, greet\n",
    "\n",
    "print(text)\n",
    "print(sequence)\n",
    "print(greet(\"John Doe\"))"
   ]
  },
  {
   "cell_type": "markdown",
   "id": "8d800983",
   "metadata": {
    "slideshow": {
     "slide_type": "fragment"
    }
   },
   "source": [
    "Everything can be imported from a module via `*`.\n",
    "\n",
    "```python\n",
    "from <module_name> import *\n",
    "```\n",
    "\n",
    "However, this is not recommended."
   ]
  },
  {
   "cell_type": "markdown",
   "id": "7f615eca",
   "metadata": {
    "slideshow": {
     "slide_type": "slide"
    }
   },
   "source": [
    "### `import <module_name> as <alt_name>`\n",
    "\n",
    "```python\n",
    "import <module_name> as <alt_name>\n",
    "```\n",
    "\n",
    "- A module can be imported with an alternate name."
   ]
  },
  {
   "cell_type": "code",
   "execution_count": null,
   "id": "ed9afe72",
   "metadata": {
    "slideshow": {
     "slide_type": "fragment"
    }
   },
   "outputs": [],
   "source": [
    "# `anothermodule` is available in the local symbol table\n",
    "import mymodule as anothermodule\n",
    "\n",
    "print(anothermodule)"
   ]
  },
  {
   "cell_type": "code",
   "execution_count": null,
   "id": "eb6b9eb9",
   "metadata": {
    "slideshow": {
     "slide_type": "fragment"
    }
   },
   "outputs": [],
   "source": [
    "print(anothermodule.text)\n",
    "print(anothermodule.sequence)\n",
    "print(anothermodule.greet(\"John Doe\"))"
   ]
  },
  {
   "cell_type": "markdown",
   "id": "dacc954e",
   "metadata": {
    "slideshow": {
     "slide_type": "slide"
    }
   },
   "source": [
    "### `from <module_name> import <name> as <alt_name>`\n",
    "\n",
    "```python\n",
    "from <module_name> import <name_1> as <alt_name_1>, <name_2> as <alt_name_2>, ...\n",
    "```\n",
    "\n",
    "- Module objects can be imported with alternate names too."
   ]
  },
  {
   "cell_type": "code",
   "execution_count": null,
   "id": "b6fbfddc",
   "metadata": {
    "slideshow": {
     "slide_type": "fragment"
    }
   },
   "outputs": [],
   "source": [
    "from mymodule import text as mytext, sequence as mysequence, greet as mygreet\n",
    "\n",
    "print(mytext)\n",
    "print(mysequence)\n",
    "print(mygreet(\"John Doe\"))"
   ]
  },
  {
   "cell_type": "markdown",
   "id": "4135b4cc",
   "metadata": {
    "slideshow": {
     "slide_type": "slide"
    }
   },
   "source": [
    "## `dir()` function\n",
    "\n",
    "If called without arguments, `dir()` function returns the list of names in the current local scope."
   ]
  },
  {
   "cell_type": "code",
   "execution_count": null,
   "id": "583801ff",
   "metadata": {
    "slideshow": {
     "slide_type": "fragment"
    }
   },
   "outputs": [],
   "source": [
    "dir()"
   ]
  },
  {
   "cell_type": "code",
   "execution_count": null,
   "id": "1ed3cbcc",
   "metadata": {
    "slideshow": {
     "slide_type": "fragment"
    }
   },
   "outputs": [],
   "source": [
    "person = {\"name\": \"John Doe\", \"age\": 42}\n",
    "\n",
    "dir()"
   ]
  },
  {
   "cell_type": "code",
   "execution_count": null,
   "id": "3724c875",
   "metadata": {
    "slideshow": {
     "slide_type": "slide"
    }
   },
   "outputs": [],
   "source": [
    "import mymodule\n",
    "\n",
    "dir()"
   ]
  },
  {
   "cell_type": "code",
   "execution_count": null,
   "id": "16dee459",
   "metadata": {
    "slideshow": {
     "slide_type": "fragment"
    }
   },
   "outputs": [],
   "source": [
    "import mymodule as anothermodule\n",
    "\n",
    "dir()"
   ]
  },
  {
   "cell_type": "code",
   "execution_count": null,
   "id": "13eb0a6c",
   "metadata": {
    "slideshow": {
     "slide_type": "fragment"
    }
   },
   "outputs": [],
   "source": [
    "from mymodule import text, sequence, greet\n",
    "\n",
    "dir()"
   ]
  },
  {
   "cell_type": "code",
   "execution_count": null,
   "id": "be42c13d",
   "metadata": {
    "slideshow": {
     "slide_type": "fragment"
    }
   },
   "outputs": [],
   "source": [
    "from mymodule import text as mytext, sequence as mysequence, greet as mygreet\n",
    "\n",
    "dir()"
   ]
  },
  {
   "cell_type": "markdown",
   "id": "44b682ee",
   "metadata": {
    "slideshow": {
     "slide_type": "slide"
    }
   },
   "source": [
    "If a module name is passed as an argument to `dir()`, it provides the names defined in the module."
   ]
  },
  {
   "cell_type": "code",
   "execution_count": null,
   "id": "0bf0df7d",
   "metadata": {
    "slideshow": {
     "slide_type": "fragment"
    }
   },
   "outputs": [],
   "source": [
    "import mymodule\n",
    "\n",
    "dir(mymodule)"
   ]
  },
  {
   "cell_type": "markdown",
   "id": "61ab5a3e",
   "metadata": {
    "slideshow": {
     "slide_type": "slide"
    }
   },
   "source": [
    "## Executing a module as a script\n",
    "\n",
    "A module can be executed like any other Python script via `python module_name.py`."
   ]
  },
  {
   "cell_type": "code",
   "execution_count": null,
   "id": "4d21f0d1",
   "metadata": {
    "slideshow": {
     "slide_type": "fragment"
    }
   },
   "outputs": [],
   "source": [
    "# mymodule.py\n",
    "\n",
    "text = \"Hello world!\"\n",
    "\n",
    "sequence = [10, 20, 30, 40]\n",
    "\n",
    "def greet(name):\n",
    "    return f\"Hello, {name}!\""
   ]
  },
  {
   "cell_type": "markdown",
   "id": "2677ec85",
   "metadata": {
    "slideshow": {
     "slide_type": "fragment"
    }
   },
   "source": [
    "`python mymodule.py` executes `mymodule` as a normal Python script."
   ]
  },
  {
   "cell_type": "code",
   "execution_count": null,
   "id": "80b5c56e",
   "metadata": {
    "slideshow": {
     "slide_type": "slide"
    }
   },
   "outputs": [],
   "source": [
    "# mymodule.py\n",
    "\n",
    "text = \"Hello world!\"\n",
    "\n",
    "sequence = [10, 20, 30, 40]\n",
    "\n",
    "def greet(name):\n",
    "    return f\"Hello, {name}!\"\n",
    "\n",
    "print(text)\n",
    "print(sequence)\n",
    "print(greet(\"John Doe\"))"
   ]
  },
  {
   "cell_type": "markdown",
   "id": "28205db6",
   "metadata": {
    "slideshow": {
     "slide_type": "fragment"
    }
   },
   "source": [
    "`python mymodule.py` executes `mymodule` as a normal Python script and prints the results. However, the outputs are returned even if the module is imported."
   ]
  },
  {
   "cell_type": "code",
   "execution_count": null,
   "id": "3439fc98",
   "metadata": {
    "slideshow": {
     "slide_type": "fragment"
    }
   },
   "outputs": [],
   "source": [
    "import mymodule"
   ]
  },
  {
   "cell_type": "markdown",
   "id": "8d9d2902",
   "metadata": {
    "slideshow": {
     "slide_type": "slide"
    }
   },
   "source": [
    "## `__name__` dunder variable\n",
    "\n",
    "- If a module is imported `__name__` is set to module name.\n",
    "- If a module file is executed as a script, `__name__` is set to `__main__`."
   ]
  },
  {
   "cell_type": "code",
   "execution_count": null,
   "id": "d83de8bc",
   "metadata": {
    "slideshow": {
     "slide_type": "fragment"
    }
   },
   "outputs": [],
   "source": [
    "# mymodule.py\n",
    "\n",
    "text = \"Hello world!\"\n",
    "\n",
    "sequence = [10, 20, 30, 40]\n",
    "\n",
    "def greet(name):\n",
    "    return f\"Hello, {name}!\"\n",
    "\n",
    "if __name__ == '__main__':\n",
    "    print(text)\n",
    "    print(sequence)\n",
    "    print(greet(\"John Doe\"))"
   ]
  },
  {
   "cell_type": "markdown",
   "id": "78373e9b",
   "metadata": {
    "slideshow": {
     "slide_type": "slide"
    }
   },
   "source": [
    "# Packages\n",
    "\n",
    "- **Packages** allow us to have a hierarchical structure of module namespaces which can be accessed via dot notation.\n",
    "- Packages can be created by using operating system folder structure."
   ]
  },
  {
   "cell_type": "code",
   "execution_count": null,
   "id": "0d7cc094",
   "metadata": {
    "slideshow": {
     "slide_type": "fragment"
    }
   },
   "outputs": [],
   "source": [
    "# mypackage/module1.py\n",
    "\n",
    "def func1():\n",
    "    print('[module1] func1()')"
   ]
  },
  {
   "cell_type": "code",
   "execution_count": null,
   "id": "ec9f9146",
   "metadata": {
    "slideshow": {
     "slide_type": "fragment"
    }
   },
   "outputs": [],
   "source": [
    "# mypackage/module2.py\n",
    "\n",
    "def func2():\n",
    "    print('[module2] func2()')"
   ]
  },
  {
   "cell_type": "markdown",
   "id": "649ad6b5",
   "metadata": {
    "slideshow": {
     "slide_type": "slide"
    }
   },
   "source": [
    "## `import <module_name>`"
   ]
  },
  {
   "cell_type": "code",
   "execution_count": null,
   "id": "8a5f8773",
   "metadata": {
    "slideshow": {
     "slide_type": "fragment"
    }
   },
   "outputs": [],
   "source": [
    "import mypackage.module1, mypackage.module2\n",
    "\n",
    "mypackage.module1.func1()\n",
    "mypackage.module2.func2()"
   ]
  },
  {
   "cell_type": "markdown",
   "id": "097ef9ab",
   "metadata": {
    "slideshow": {
     "slide_type": "slide"
    }
   },
   "source": [
    "## `from <module_name> import <name>`"
   ]
  },
  {
   "cell_type": "code",
   "execution_count": null,
   "id": "188c7aa8",
   "metadata": {
    "slideshow": {
     "slide_type": "fragment"
    }
   },
   "outputs": [],
   "source": [
    "from mypackage.module1 import func1\n",
    "from mypackage.module2 import func2\n",
    "\n",
    "func1()\n",
    "func2()"
   ]
  },
  {
   "cell_type": "markdown",
   "id": "a812eec3",
   "metadata": {
    "slideshow": {
     "slide_type": "slide"
    }
   },
   "source": [
    "## `from <module_name> import <name> as <alt_name>`"
   ]
  },
  {
   "cell_type": "code",
   "execution_count": null,
   "id": "c8bf3454",
   "metadata": {
    "slideshow": {
     "slide_type": "fragment"
    }
   },
   "outputs": [],
   "source": [
    "from mypackage.module1 import func1 as myfunc1\n",
    "from mypackage.module2 import func2 as myfunc2\n",
    "\n",
    "myfunc1()\n",
    "myfunc2()"
   ]
  },
  {
   "cell_type": "markdown",
   "id": "f3d57a9c",
   "metadata": {
    "slideshow": {
     "slide_type": "slide"
    }
   },
   "source": [
    "## `from <package_name> import <module_name>`"
   ]
  },
  {
   "cell_type": "code",
   "execution_count": null,
   "id": "25c1003d",
   "metadata": {
    "slideshow": {
     "slide_type": "fragment"
    }
   },
   "outputs": [],
   "source": [
    "from mypackage import module1, module2\n",
    "\n",
    "module1.func1()\n",
    "module2.func2()"
   ]
  },
  {
   "cell_type": "markdown",
   "id": "7006f6c7",
   "metadata": {
    "slideshow": {
     "slide_type": "slide"
    }
   },
   "source": [
    "## `from <package_name> import <module_name> as <alt_name>`"
   ]
  },
  {
   "cell_type": "code",
   "execution_count": null,
   "id": "59aa80ed",
   "metadata": {
    "slideshow": {
     "slide_type": "fragment"
    }
   },
   "outputs": [],
   "source": [
    "from mypackage import module1 as mymodule1, module2 as mymodule2\n",
    "\n",
    "mymodule1.func1()\n",
    "mymodule2.func2()"
   ]
  },
  {
   "cell_type": "markdown",
   "id": "49ac5e65",
   "metadata": {
    "slideshow": {
     "slide_type": "slide"
    }
   },
   "source": [
    "## Package Initialization\n",
    "\n",
    "If an `__init__.py` file is present in package directory, it is executed when a module or package is imported."
   ]
  },
  {
   "cell_type": "code",
   "execution_count": null,
   "id": "88b0ee04",
   "metadata": {
    "slideshow": {
     "slide_type": "fragment"
    }
   },
   "outputs": [],
   "source": [
    "# mypackage/module1.py\n",
    "\n",
    "def func1():\n",
    "    print('[module1] func1()')"
   ]
  },
  {
   "cell_type": "code",
   "execution_count": null,
   "id": "36a092fa",
   "metadata": {
    "slideshow": {
     "slide_type": "fragment"
    }
   },
   "outputs": [],
   "source": [
    "# mypackage/module2.py\n",
    "\n",
    "def func2():\n",
    "    print('[module2] func2()')"
   ]
  },
  {
   "cell_type": "code",
   "execution_count": null,
   "id": "b13816ed",
   "metadata": {
    "slideshow": {
     "slide_type": "fragment"
    }
   },
   "outputs": [],
   "source": [
    "# mypackage/__init__.py\n",
    "\n",
    "print(\"Executing mypack/__init__.py\")\n",
    "\n",
    "GREETING = \"Hello world!\""
   ]
  },
  {
   "cell_type": "code",
   "execution_count": null,
   "id": "f33121d4",
   "metadata": {
    "slideshow": {
     "slide_type": "fragment"
    }
   },
   "outputs": [],
   "source": [
    "import mypackage\n",
    "\n",
    "print(mypackage.GREETING)"
   ]
  },
  {
   "cell_type": "markdown",
   "id": "e20bfa42",
   "metadata": {
    "slideshow": {
     "slide_type": "slide"
    }
   },
   "source": [
    "Modules can be automatically imported from a package via `__init__.py`."
   ]
  },
  {
   "cell_type": "code",
   "execution_count": null,
   "id": "f7e6ee05",
   "metadata": {
    "slideshow": {
     "slide_type": "fragment"
    }
   },
   "outputs": [],
   "source": [
    "# mypackage/__init__.py\n",
    "\n",
    "print(\"Executing mypackage/__init__.py\")\n",
    "\n",
    "import mypackage.module1, mypackage.module2"
   ]
  },
  {
   "cell_type": "code",
   "execution_count": null,
   "id": "90acba00",
   "metadata": {
    "slideshow": {
     "slide_type": "fragment"
    }
   },
   "outputs": [],
   "source": [
    "import mypackage\n",
    "\n",
    "mypackage.module1.func1()\n",
    "mypackage.module2.func2()"
   ]
  }
 ],
 "metadata": {
  "celltoolbar": "Slideshow",
  "kernelspec": {
   "display_name": "Python 3 (ipykernel)",
   "language": "python",
   "name": "python3"
  },
  "language_info": {
   "codemirror_mode": {
    "name": "ipython",
    "version": 3
   },
   "file_extension": ".py",
   "mimetype": "text/x-python",
   "name": "python",
   "nbconvert_exporter": "python",
   "pygments_lexer": "ipython3",
   "version": "3.8.10"
  }
 },
 "nbformat": 4,
 "nbformat_minor": 5
}
