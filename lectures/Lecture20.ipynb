{
 "cells": [
  {
   "cell_type": "markdown",
   "id": "74750d32",
   "metadata": {
    "slideshow": {
     "slide_type": "slide"
    }
   },
   "source": [
    "# Programming with Python\n",
    "\n",
    "## Lecture 20: Modules and packages. Object-oriented programming\n",
    "\n",
    "### Armen Gabrielyan\n",
    "\n",
    "#### Yerevan State University\n",
    "#### Portmind"
   ]
  },
  {
   "cell_type": "markdown",
   "id": "5420c381",
   "metadata": {
    "slideshow": {
     "slide_type": "slide"
    }
   },
   "source": [
    "## `from <module_name> import <name>`\n",
    "\n",
    "```python\n",
    "from <module_name> import <name_1>, <name_2>, ...\n",
    "```\n",
    "\n",
    "- Module's objects can be imported to caller's symbol table\n",
    "- The objects from module can be accessed directly without dot notation."
   ]
  },
  {
   "cell_type": "code",
   "execution_count": null,
   "id": "5703ad80",
   "metadata": {
    "slideshow": {
     "slide_type": "fragment"
    }
   },
   "outputs": [],
   "source": [
    "from mymodule import text, sequence, greet\n",
    "\n",
    "print(text)\n",
    "print(sequence)\n",
    "print(greet(\"John Doe\"))"
   ]
  },
  {
   "cell_type": "markdown",
   "id": "8d800983",
   "metadata": {
    "slideshow": {
     "slide_type": "fragment"
    }
   },
   "source": [
    "Everything can be imported from a module via `*`.\n",
    "\n",
    "```python\n",
    "from <module_name> import *\n",
    "```\n",
    "\n",
    "However, this is not recommended."
   ]
  },
  {
   "cell_type": "markdown",
   "id": "7f615eca",
   "metadata": {
    "slideshow": {
     "slide_type": "slide"
    }
   },
   "source": [
    "### `import <module_name> as <alt_name>`\n",
    "\n",
    "```python\n",
    "import <module_name> as <alt_name>\n",
    "```\n",
    "\n",
    "- A module can be imported with an alternate name."
   ]
  },
  {
   "cell_type": "code",
   "execution_count": null,
   "id": "ed9afe72",
   "metadata": {
    "slideshow": {
     "slide_type": "fragment"
    }
   },
   "outputs": [],
   "source": [
    "# `anothermodule` is available in the local symbol table\n",
    "import mymodule as anothermodule\n",
    "\n",
    "print(anothermodule)"
   ]
  },
  {
   "cell_type": "code",
   "execution_count": null,
   "id": "eb6b9eb9",
   "metadata": {
    "slideshow": {
     "slide_type": "fragment"
    }
   },
   "outputs": [],
   "source": [
    "print(anothermodule.text)\n",
    "print(anothermodule.sequence)\n",
    "print(anothermodule.greet(\"John Doe\"))"
   ]
  },
  {
   "cell_type": "markdown",
   "id": "dacc954e",
   "metadata": {
    "slideshow": {
     "slide_type": "slide"
    }
   },
   "source": [
    "### `from <module_name> import <name> as <alt_name>`\n",
    "\n",
    "```python\n",
    "from <module_name> import <name_1> as <alt_name_1>, <name_2> as <alt_name_2>, ...\n",
    "```\n",
    "\n",
    "- Module objects can be imported with alternate names too."
   ]
  },
  {
   "cell_type": "code",
   "execution_count": null,
   "id": "b6fbfddc",
   "metadata": {
    "slideshow": {
     "slide_type": "fragment"
    }
   },
   "outputs": [],
   "source": [
    "from mymodule import text as mytext, sequence as mysequence, greet as mygreet\n",
    "\n",
    "print(mytext)\n",
    "print(mysequence)\n",
    "print(mygreet(\"John Doe\"))"
   ]
  },
  {
   "cell_type": "markdown",
   "id": "4135b4cc",
   "metadata": {
    "slideshow": {
     "slide_type": "slide"
    }
   },
   "source": [
    "## `dir()` function\n",
    "\n",
    "If called without arguments, `dir()` function returns the list of names in the current local scope."
   ]
  },
  {
   "cell_type": "code",
   "execution_count": null,
   "id": "583801ff",
   "metadata": {
    "slideshow": {
     "slide_type": "fragment"
    }
   },
   "outputs": [],
   "source": [
    "dir()"
   ]
  },
  {
   "cell_type": "code",
   "execution_count": null,
   "id": "1ed3cbcc",
   "metadata": {
    "slideshow": {
     "slide_type": "fragment"
    }
   },
   "outputs": [],
   "source": [
    "person = {\"name\": \"John Doe\", \"age\": 42}\n",
    "\n",
    "dir()"
   ]
  },
  {
   "cell_type": "code",
   "execution_count": null,
   "id": "3724c875",
   "metadata": {
    "slideshow": {
     "slide_type": "slide"
    }
   },
   "outputs": [],
   "source": [
    "import mymodule\n",
    "\n",
    "dir()"
   ]
  },
  {
   "cell_type": "code",
   "execution_count": null,
   "id": "16dee459",
   "metadata": {
    "slideshow": {
     "slide_type": "fragment"
    }
   },
   "outputs": [],
   "source": [
    "import mymodule as anothermodule\n",
    "\n",
    "dir()"
   ]
  },
  {
   "cell_type": "code",
   "execution_count": null,
   "id": "13eb0a6c",
   "metadata": {
    "slideshow": {
     "slide_type": "fragment"
    }
   },
   "outputs": [],
   "source": [
    "from mymodule import text, sequence, greet\n",
    "\n",
    "dir()"
   ]
  },
  {
   "cell_type": "code",
   "execution_count": null,
   "id": "be42c13d",
   "metadata": {
    "slideshow": {
     "slide_type": "fragment"
    }
   },
   "outputs": [],
   "source": [
    "from mymodule import text as mytext, sequence as mysequence, greet as mygreet\n",
    "\n",
    "dir()"
   ]
  },
  {
   "cell_type": "markdown",
   "id": "44b682ee",
   "metadata": {
    "slideshow": {
     "slide_type": "slide"
    }
   },
   "source": [
    "If a module name is passed as an argument to `dir()`, it provides the names defined in the module."
   ]
  },
  {
   "cell_type": "code",
   "execution_count": null,
   "id": "0bf0df7d",
   "metadata": {
    "slideshow": {
     "slide_type": "fragment"
    }
   },
   "outputs": [],
   "source": [
    "import mymodule\n",
    "\n",
    "dir(mymodule)"
   ]
  },
  {
   "cell_type": "markdown",
   "id": "61ab5a3e",
   "metadata": {
    "slideshow": {
     "slide_type": "slide"
    }
   },
   "source": [
    "## Executing a module as a script\n",
    "\n",
    "A module can be executed like any other Python script via `python module_name.py`."
   ]
  },
  {
   "cell_type": "code",
   "execution_count": null,
   "id": "4d21f0d1",
   "metadata": {
    "slideshow": {
     "slide_type": "fragment"
    }
   },
   "outputs": [],
   "source": [
    "# mymodule.py\n",
    "\n",
    "text = \"Hello world!\"\n",
    "\n",
    "sequence = [10, 20, 30, 40]\n",
    "\n",
    "def greet(name):\n",
    "    return f\"Hello, {name}!\""
   ]
  },
  {
   "cell_type": "markdown",
   "id": "2677ec85",
   "metadata": {
    "slideshow": {
     "slide_type": "fragment"
    }
   },
   "source": [
    "`python mymodule.py` executes `mymodule` as a normal Python script."
   ]
  },
  {
   "cell_type": "code",
   "execution_count": null,
   "id": "80b5c56e",
   "metadata": {
    "slideshow": {
     "slide_type": "slide"
    }
   },
   "outputs": [],
   "source": [
    "# mymodule.py\n",
    "\n",
    "text = \"Hello world!\"\n",
    "\n",
    "sequence = [10, 20, 30, 40]\n",
    "\n",
    "def greet(name):\n",
    "    return f\"Hello, {name}!\"\n",
    "\n",
    "print(text)\n",
    "print(sequence)\n",
    "print(greet(\"John Doe\"))"
   ]
  },
  {
   "cell_type": "markdown",
   "id": "28205db6",
   "metadata": {
    "slideshow": {
     "slide_type": "fragment"
    }
   },
   "source": [
    "`python mymodule.py` executes `mymodule` as a normal Python script and prints the results. However, the outputs are returned even if the module is imported."
   ]
  },
  {
   "cell_type": "code",
   "execution_count": null,
   "id": "3439fc98",
   "metadata": {
    "slideshow": {
     "slide_type": "fragment"
    }
   },
   "outputs": [],
   "source": [
    "import mymodule"
   ]
  },
  {
   "cell_type": "markdown",
   "id": "8d9d2902",
   "metadata": {
    "slideshow": {
     "slide_type": "slide"
    }
   },
   "source": [
    "## `__name__` dunder variable\n",
    "\n",
    "- If a module is imported `__name__` is set to module name.\n",
    "- If a module file is executed as a script, `__name__` is set to `__main__`."
   ]
  },
  {
   "cell_type": "code",
   "execution_count": null,
   "id": "d83de8bc",
   "metadata": {
    "slideshow": {
     "slide_type": "fragment"
    }
   },
   "outputs": [],
   "source": [
    "# mymodule.py\n",
    "\n",
    "text = \"Hello world!\"\n",
    "\n",
    "sequence = [10, 20, 30, 40]\n",
    "\n",
    "def greet(name):\n",
    "    return f\"Hello, {name}!\"\n",
    "\n",
    "if __name__ == '__main__':\n",
    "    print(text)\n",
    "    print(sequence)\n",
    "    print(greet(\"John Doe\"))"
   ]
  },
  {
   "cell_type": "markdown",
   "id": "78373e9b",
   "metadata": {
    "slideshow": {
     "slide_type": "slide"
    }
   },
   "source": [
    "# Packages\n",
    "\n",
    "- **Packages** allow us to have a hierarchical structure of module namespaces which can be accessed via dot notation.\n",
    "- Packages can be created by using operating system folder structure."
   ]
  },
  {
   "cell_type": "code",
   "execution_count": null,
   "id": "0d7cc094",
   "metadata": {
    "slideshow": {
     "slide_type": "fragment"
    }
   },
   "outputs": [],
   "source": [
    "# mypackage/module1.py\n",
    "\n",
    "def func1():\n",
    "    print('[module1] func1()')"
   ]
  },
  {
   "cell_type": "code",
   "execution_count": null,
   "id": "ec9f9146",
   "metadata": {
    "slideshow": {
     "slide_type": "fragment"
    }
   },
   "outputs": [],
   "source": [
    "# mypackage/module2.py\n",
    "\n",
    "def func2():\n",
    "    print('[module2] func2()')"
   ]
  },
  {
   "cell_type": "markdown",
   "id": "649ad6b5",
   "metadata": {
    "slideshow": {
     "slide_type": "slide"
    }
   },
   "source": [
    "## `import <module_name>`"
   ]
  },
  {
   "cell_type": "code",
   "execution_count": null,
   "id": "8a5f8773",
   "metadata": {
    "slideshow": {
     "slide_type": "fragment"
    }
   },
   "outputs": [],
   "source": [
    "import mypackage.module1, mypackage.module2\n",
    "\n",
    "mypackage.module1.func1()\n",
    "mypackage.module2.func2()"
   ]
  },
  {
   "cell_type": "markdown",
   "id": "097ef9ab",
   "metadata": {
    "slideshow": {
     "slide_type": "slide"
    }
   },
   "source": [
    "## `from <module_name> import <name>`"
   ]
  },
  {
   "cell_type": "code",
   "execution_count": null,
   "id": "188c7aa8",
   "metadata": {
    "slideshow": {
     "slide_type": "fragment"
    }
   },
   "outputs": [],
   "source": [
    "from mypackage.module1 import func1\n",
    "from mypackage.module2 import func2\n",
    "\n",
    "func1()\n",
    "func2()"
   ]
  },
  {
   "cell_type": "markdown",
   "id": "a812eec3",
   "metadata": {
    "slideshow": {
     "slide_type": "slide"
    }
   },
   "source": [
    "## `from <module_name> import <name> as <alt_name>`"
   ]
  },
  {
   "cell_type": "code",
   "execution_count": null,
   "id": "c8bf3454",
   "metadata": {
    "slideshow": {
     "slide_type": "fragment"
    }
   },
   "outputs": [],
   "source": [
    "from mypackage.module1 import func1 as myfunc1\n",
    "from mypackage.module2 import func2 as myfunc2\n",
    "\n",
    "myfunc1()\n",
    "myfunc2()"
   ]
  },
  {
   "cell_type": "markdown",
   "id": "f3d57a9c",
   "metadata": {
    "slideshow": {
     "slide_type": "slide"
    }
   },
   "source": [
    "## `from <package_name> import <module_name>`"
   ]
  },
  {
   "cell_type": "code",
   "execution_count": null,
   "id": "25c1003d",
   "metadata": {
    "slideshow": {
     "slide_type": "fragment"
    }
   },
   "outputs": [],
   "source": [
    "from mypackage import module1, module2\n",
    "\n",
    "module1.func1()\n",
    "module2.func2()"
   ]
  },
  {
   "cell_type": "markdown",
   "id": "7006f6c7",
   "metadata": {
    "slideshow": {
     "slide_type": "slide"
    }
   },
   "source": [
    "## `from <package_name> import <module_name> as <alt_name>`"
   ]
  },
  {
   "cell_type": "code",
   "execution_count": null,
   "id": "59aa80ed",
   "metadata": {
    "slideshow": {
     "slide_type": "fragment"
    }
   },
   "outputs": [],
   "source": [
    "from mypackage import module1 as mymodule1, module2 as mymodule2\n",
    "\n",
    "mymodule1.func1()\n",
    "mymodule2.func2()"
   ]
  },
  {
   "cell_type": "markdown",
   "id": "49ac5e65",
   "metadata": {
    "slideshow": {
     "slide_type": "slide"
    }
   },
   "source": [
    "## Package Initialization\n",
    "\n",
    "If an `__init__.py` file is present in package directory, it is executed when a module or package is imported."
   ]
  },
  {
   "cell_type": "code",
   "execution_count": null,
   "id": "88b0ee04",
   "metadata": {
    "slideshow": {
     "slide_type": "fragment"
    }
   },
   "outputs": [],
   "source": [
    "# mypackage/module1.py\n",
    "\n",
    "def func1():\n",
    "    print('[module1] func1()')"
   ]
  },
  {
   "cell_type": "code",
   "execution_count": null,
   "id": "36a092fa",
   "metadata": {
    "slideshow": {
     "slide_type": "fragment"
    }
   },
   "outputs": [],
   "source": [
    "# mypackage/module2.py\n",
    "\n",
    "def func2():\n",
    "    print('[module2] func2()')"
   ]
  },
  {
   "cell_type": "code",
   "execution_count": null,
   "id": "b13816ed",
   "metadata": {
    "slideshow": {
     "slide_type": "fragment"
    }
   },
   "outputs": [],
   "source": [
    "# mypackage/__init__.py\n",
    "\n",
    "print(\"Executing mypack/__init__.py\")\n",
    "\n",
    "GREETING = \"Hello world!\""
   ]
  },
  {
   "cell_type": "code",
   "execution_count": null,
   "id": "f33121d4",
   "metadata": {
    "slideshow": {
     "slide_type": "fragment"
    }
   },
   "outputs": [],
   "source": [
    "import mypackage\n",
    "\n",
    "print(mypackage.GREETING)"
   ]
  },
  {
   "cell_type": "markdown",
   "id": "e20bfa42",
   "metadata": {
    "slideshow": {
     "slide_type": "slide"
    }
   },
   "source": [
    "Modules can be automatically imported from a package via `__init__.py`."
   ]
  },
  {
   "cell_type": "code",
   "execution_count": null,
   "id": "f7e6ee05",
   "metadata": {
    "slideshow": {
     "slide_type": "fragment"
    }
   },
   "outputs": [],
   "source": [
    "# mypackage/__init__.py\n",
    "\n",
    "print(\"Executing mypackage/__init__.py\")\n",
    "\n",
    "import mypackage.module1, mypackage.module2"
   ]
  },
  {
   "cell_type": "code",
   "execution_count": null,
   "id": "90acba00",
   "metadata": {
    "slideshow": {
     "slide_type": "fragment"
    }
   },
   "outputs": [],
   "source": [
    "import mypackage\n",
    "\n",
    "mypackage.module1.func1()\n",
    "mypackage.module2.func2()"
   ]
  },
  {
   "cell_type": "markdown",
   "id": "3bc7eddd",
   "metadata": {
    "slideshow": {
     "slide_type": "slide"
    }
   },
   "source": [
    "## Subpackages\n",
    "\n",
    "Packages can be nested, i.e. a package can contain **subpackages**.\n",
    "\n",
    "```\n",
    "├── package_1\n",
    "│   ├── sub_package_1\n",
    "│   │   ├── module_1_1.py\n",
    "│   │   ├── module_1_2.py\n",
    "│   └── sub_package_2\n",
    "│       ├── module_2_1.py\n",
    "│       └── module_2_2.py\n",
    "```"
   ]
  },
  {
   "cell_type": "markdown",
   "id": "6b30a793",
   "metadata": {
    "slideshow": {
     "slide_type": "slide"
    }
   },
   "source": [
    "## Importing subpackages\n",
    "\n",
    "The same importing technique applies here, so dot notation can be used to import deeper subpackages."
   ]
  },
  {
   "cell_type": "markdown",
   "id": "9623247c",
   "metadata": {
    "slideshow": {
     "slide_type": "fragment"
    }
   },
   "source": [
    "```python\n",
    "import package_1.sub_package_1.module_1_1\n",
    "\n",
    "package_1.sub_package_1.module_1_1.func()\n",
    "```"
   ]
  },
  {
   "cell_type": "markdown",
   "id": "f948613f",
   "metadata": {
    "slideshow": {
     "slide_type": "fragment"
    }
   },
   "source": [
    "```python\n",
    "from package_1.sub_package_1 import module_1_2\n",
    "\n",
    "module_1_2.func()\n",
    "```"
   ]
  },
  {
   "cell_type": "markdown",
   "id": "0b1cebb9",
   "metadata": {
    "slideshow": {
     "slide_type": "fragment"
    }
   },
   "source": [
    "```python\n",
    "from package_1.sub_package_2.module_2_1 import func\n",
    "\n",
    "func()\n",
    "```"
   ]
  },
  {
   "cell_type": "markdown",
   "id": "f46ee6a5",
   "metadata": {
    "slideshow": {
     "slide_type": "fragment"
    }
   },
   "source": [
    "```python\n",
    "from package_1.sub_package_2.module_2_2 import func as my_func\n",
    "\n",
    "my_func()\n",
    "```"
   ]
  },
  {
   "cell_type": "markdown",
   "id": "6ea39b6c",
   "metadata": {
    "slideshow": {
     "slide_type": "slide"
    }
   },
   "source": [
    "## `math` module\n",
    "\n",
    "`math` module has built-in mathematical objects and functions to perform mathematical computations."
   ]
  },
  {
   "cell_type": "code",
   "execution_count": null,
   "id": "fabebe11",
   "metadata": {
    "slideshow": {
     "slide_type": "fragment"
    }
   },
   "outputs": [],
   "source": [
    "import math"
   ]
  },
  {
   "cell_type": "markdown",
   "id": "734d3f38",
   "metadata": {
    "slideshow": {
     "slide_type": "slide"
    }
   },
   "source": [
    "## Constants"
   ]
  },
  {
   "cell_type": "markdown",
   "id": "2bfac990",
   "metadata": {
    "slideshow": {
     "slide_type": "fragment"
    }
   },
   "source": [
    "### Pi ($\\pi$)"
   ]
  },
  {
   "cell_type": "code",
   "execution_count": null,
   "id": "70d32e8f",
   "metadata": {
    "slideshow": {
     "slide_type": "fragment"
    }
   },
   "outputs": [],
   "source": [
    "math.pi"
   ]
  },
  {
   "cell_type": "markdown",
   "id": "8d02007c",
   "metadata": {
    "slideshow": {
     "slide_type": "fragment"
    }
   },
   "source": [
    "### Euler's number ($e$)"
   ]
  },
  {
   "cell_type": "code",
   "execution_count": null,
   "id": "1c5008cb",
   "metadata": {
    "slideshow": {
     "slide_type": "fragment"
    }
   },
   "outputs": [],
   "source": [
    "math.e"
   ]
  },
  {
   "cell_type": "markdown",
   "id": "2bf05cd7",
   "metadata": {
    "slideshow": {
     "slide_type": "fragment"
    }
   },
   "source": [
    "### Infinity"
   ]
  },
  {
   "cell_type": "code",
   "execution_count": null,
   "id": "d2b55a7c",
   "metadata": {
    "slideshow": {
     "slide_type": "fragment"
    }
   },
   "outputs": [],
   "source": [
    "math.inf"
   ]
  },
  {
   "cell_type": "markdown",
   "id": "0eee908a",
   "metadata": {
    "slideshow": {
     "slide_type": "fragment"
    }
   },
   "source": [
    "### Not a Number (NaN)"
   ]
  },
  {
   "cell_type": "code",
   "execution_count": null,
   "id": "2ab586f6",
   "metadata": {
    "slideshow": {
     "slide_type": "fragment"
    }
   },
   "outputs": [],
   "source": [
    "math.nan"
   ]
  },
  {
   "cell_type": "markdown",
   "id": "a24cbfa2",
   "metadata": {
    "slideshow": {
     "slide_type": "slide"
    }
   },
   "source": [
    "## Arithmetic functions"
   ]
  },
  {
   "cell_type": "markdown",
   "id": "d00ed016",
   "metadata": {
    "slideshow": {
     "slide_type": "fragment"
    }
   },
   "source": [
    "### Factorial"
   ]
  },
  {
   "cell_type": "code",
   "execution_count": null,
   "id": "8d41c7a1",
   "metadata": {
    "slideshow": {
     "slide_type": "fragment"
    }
   },
   "outputs": [],
   "source": [
    "math.factorial(5)"
   ]
  },
  {
   "cell_type": "markdown",
   "id": "806a028f",
   "metadata": {
    "slideshow": {
     "slide_type": "fragment"
    }
   },
   "source": [
    "### GCD"
   ]
  },
  {
   "cell_type": "code",
   "execution_count": null,
   "id": "8169c228",
   "metadata": {
    "slideshow": {
     "slide_type": "fragment"
    }
   },
   "outputs": [],
   "source": [
    "math.gcd(18, 24)"
   ]
  },
  {
   "cell_type": "markdown",
   "id": "c7c3b99d",
   "metadata": {
    "slideshow": {
     "slide_type": "slide"
    }
   },
   "source": [
    "### Ceiling"
   ]
  },
  {
   "cell_type": "code",
   "execution_count": null,
   "id": "8466324b",
   "metadata": {
    "slideshow": {
     "slide_type": "fragment"
    }
   },
   "outputs": [],
   "source": [
    "math.ceil(42.12)"
   ]
  },
  {
   "cell_type": "code",
   "execution_count": null,
   "id": "2999f61c",
   "metadata": {
    "slideshow": {
     "slide_type": "fragment"
    }
   },
   "outputs": [],
   "source": [
    "math.ceil(-42.56)"
   ]
  },
  {
   "cell_type": "markdown",
   "id": "565dccd1",
   "metadata": {
    "slideshow": {
     "slide_type": "fragment"
    }
   },
   "source": [
    "### Floor"
   ]
  },
  {
   "cell_type": "code",
   "execution_count": null,
   "id": "d72196ca",
   "metadata": {
    "slideshow": {
     "slide_type": "fragment"
    }
   },
   "outputs": [],
   "source": [
    "math.floor(42.56)"
   ]
  },
  {
   "cell_type": "code",
   "execution_count": null,
   "id": "ff10170d",
   "metadata": {
    "slideshow": {
     "slide_type": "fragment"
    }
   },
   "outputs": [],
   "source": [
    "math.floor(-42.12)"
   ]
  },
  {
   "cell_type": "markdown",
   "id": "0cfdda70",
   "metadata": {
    "slideshow": {
     "slide_type": "slide"
    }
   },
   "source": [
    "## Power functions"
   ]
  },
  {
   "cell_type": "code",
   "execution_count": null,
   "id": "2d08cd53",
   "metadata": {
    "slideshow": {
     "slide_type": "fragment"
    }
   },
   "outputs": [],
   "source": [
    "math.pow(5, 2)"
   ]
  },
  {
   "cell_type": "code",
   "execution_count": null,
   "id": "0af1bae4",
   "metadata": {
    "slideshow": {
     "slide_type": "fragment"
    }
   },
   "outputs": [],
   "source": [
    "math.pow(5, 2.42)"
   ]
  },
  {
   "cell_type": "code",
   "execution_count": null,
   "id": "3e8d2eab",
   "metadata": {
    "slideshow": {
     "slide_type": "fragment"
    }
   },
   "outputs": [],
   "source": [
    "math.pow(2.42, 5)"
   ]
  },
  {
   "cell_type": "markdown",
   "id": "9db57aa6",
   "metadata": {
    "slideshow": {
     "slide_type": "slide"
    }
   },
   "source": [
    "## Logarithmic functions"
   ]
  },
  {
   "cell_type": "markdown",
   "id": "271ac222",
   "metadata": {
    "slideshow": {
     "slide_type": "fragment"
    }
   },
   "source": [
    "### Logarithm with natural base or given base"
   ]
  },
  {
   "cell_type": "code",
   "execution_count": null,
   "id": "fe5721dd",
   "metadata": {
    "slideshow": {
     "slide_type": "fragment"
    }
   },
   "outputs": [],
   "source": [
    "math.log(10)"
   ]
  },
  {
   "cell_type": "code",
   "execution_count": null,
   "id": "6b614791",
   "metadata": {
    "slideshow": {
     "slide_type": "fragment"
    }
   },
   "outputs": [],
   "source": [
    "math.log(10, 5)"
   ]
  },
  {
   "cell_type": "markdown",
   "id": "bf58495e",
   "metadata": {
    "slideshow": {
     "slide_type": "slide"
    }
   },
   "source": [
    "### Logarithm with base $2$"
   ]
  },
  {
   "cell_type": "code",
   "execution_count": null,
   "id": "dc206108",
   "metadata": {
    "slideshow": {
     "slide_type": "fragment"
    }
   },
   "outputs": [],
   "source": [
    "math.log2(10)"
   ]
  },
  {
   "cell_type": "code",
   "execution_count": null,
   "id": "bd925c94",
   "metadata": {
    "slideshow": {
     "slide_type": "fragment"
    }
   },
   "outputs": [],
   "source": [
    "math.log(64, 2)"
   ]
  },
  {
   "cell_type": "markdown",
   "id": "e8ee1d60",
   "metadata": {
    "slideshow": {
     "slide_type": "slide"
    }
   },
   "source": [
    "### Logarithm with base $10$"
   ]
  },
  {
   "cell_type": "code",
   "execution_count": null,
   "id": "18bb9d2d",
   "metadata": {
    "slideshow": {
     "slide_type": "fragment"
    }
   },
   "outputs": [],
   "source": [
    "math.log10(100)"
   ]
  },
  {
   "cell_type": "code",
   "execution_count": null,
   "id": "5909f16e",
   "metadata": {
    "slideshow": {
     "slide_type": "fragment"
    }
   },
   "outputs": [],
   "source": [
    "math.log10(42)"
   ]
  },
  {
   "cell_type": "markdown",
   "id": "a1a49910",
   "metadata": {
    "slideshow": {
     "slide_type": "slide"
    }
   },
   "source": [
    "## Trigonometric functions"
   ]
  },
  {
   "cell_type": "code",
   "execution_count": null,
   "id": "3b00b980",
   "metadata": {
    "slideshow": {
     "slide_type": "fragment"
    }
   },
   "outputs": [],
   "source": [
    "math.sin(42)"
   ]
  },
  {
   "cell_type": "code",
   "execution_count": null,
   "id": "e7bb7bd0",
   "metadata": {
    "slideshow": {
     "slide_type": "fragment"
    }
   },
   "outputs": [],
   "source": [
    "math.cos(42)"
   ]
  },
  {
   "cell_type": "code",
   "execution_count": null,
   "id": "ca7659ca",
   "metadata": {
    "slideshow": {
     "slide_type": "fragment"
    }
   },
   "outputs": [],
   "source": [
    "math.tan(42)"
   ]
  },
  {
   "cell_type": "markdown",
   "id": "66db11fb",
   "metadata": {
    "slideshow": {
     "slide_type": "slide"
    }
   },
   "source": [
    "## `random` module\n",
    "\n",
    "`random` module has built-in functions to generate pseudo-random numbers."
   ]
  },
  {
   "cell_type": "code",
   "execution_count": null,
   "id": "2fdd9714",
   "metadata": {
    "slideshow": {
     "slide_type": "fragment"
    }
   },
   "outputs": [],
   "source": [
    "import random"
   ]
  },
  {
   "cell_type": "markdown",
   "id": "b785129b",
   "metadata": {
    "slideshow": {
     "slide_type": "slide"
    }
   },
   "source": [
    "### Real-valued random number\n",
    "\n",
    "`random.random()` function generates a floating-point number $x$ such that $0.0 <= x < 1.0$."
   ]
  },
  {
   "cell_type": "code",
   "execution_count": null,
   "id": "62fd9efa",
   "metadata": {
    "slideshow": {
     "slide_type": "fragment"
    }
   },
   "outputs": [],
   "source": [
    "random.random()"
   ]
  },
  {
   "cell_type": "markdown",
   "id": "8bcf050c",
   "metadata": {
    "slideshow": {
     "slide_type": "slide"
    }
   },
   "source": [
    "### Integer random number\n",
    "\n",
    "`random.randint(a, b)` function generates an integer $x$ such that $a <= x <= b$."
   ]
  },
  {
   "cell_type": "code",
   "execution_count": null,
   "id": "b314fe36",
   "metadata": {
    "slideshow": {
     "slide_type": "fragment"
    }
   },
   "outputs": [],
   "source": [
    "random.randint(2, 16)"
   ]
  },
  {
   "cell_type": "markdown",
   "id": "45cd79b2",
   "metadata": {
    "slideshow": {
     "slide_type": "slide"
    }
   },
   "source": [
    "### Shuffle a sequence\n",
    "\n",
    "`random.shuffle(seq)` function shuffles the given sequence in place."
   ]
  },
  {
   "cell_type": "code",
   "execution_count": null,
   "id": "0216cdd2",
   "metadata": {
    "slideshow": {
     "slide_type": "fragment"
    }
   },
   "outputs": [],
   "source": [
    "sequence = list(range(1, 11))\n",
    "\n",
    "random.shuffle(sequence)\n",
    "\n",
    "sequence"
   ]
  },
  {
   "cell_type": "markdown",
   "id": "03849429",
   "metadata": {
    "slideshow": {
     "slide_type": "slide"
    }
   },
   "source": [
    "### Initialize pseudo-random number generator\n",
    "\n",
    "`random.seed()` functions lets us initialize the random number generator."
   ]
  },
  {
   "cell_type": "code",
   "execution_count": null,
   "id": "ee1a96a6",
   "metadata": {
    "slideshow": {
     "slide_type": "fragment"
    }
   },
   "outputs": [],
   "source": [
    "random.seed(42)"
   ]
  },
  {
   "cell_type": "code",
   "execution_count": null,
   "id": "321ec596",
   "metadata": {
    "slideshow": {
     "slide_type": "fragment"
    }
   },
   "outputs": [],
   "source": [
    "random.seed(42)\n",
    "\n",
    "random.random(), random.randint(2, 16)"
   ]
  },
  {
   "cell_type": "code",
   "execution_count": null,
   "id": "bbe8b3c2",
   "metadata": {
    "slideshow": {
     "slide_type": "fragment"
    }
   },
   "outputs": [],
   "source": [
    "random.seed(42)\n",
    "\n",
    "sequence = list(range(1, 11))\n",
    "\n",
    "random.shuffle(sequence)\n",
    "\n",
    "sequence"
   ]
  },
  {
   "cell_type": "markdown",
   "id": "40822168",
   "metadata": {
    "slideshow": {
     "slide_type": "slide"
    }
   },
   "source": [
    "## `datetime` module\n",
    "\n",
    "`datetime` module provides functionalities for working with dates and times.\n",
    "\n",
    "It provides three essential classes:\n",
    "\n",
    "- `datetime.date`: to work with dates\n",
    "- `datetime.time`: to work with times\n",
    "- `datetime.datetime`: to work with dates and times"
   ]
  },
  {
   "cell_type": "code",
   "execution_count": null,
   "id": "e2d0dc19",
   "metadata": {
    "slideshow": {
     "slide_type": "fragment"
    }
   },
   "outputs": [],
   "source": [
    "from datetime import date, time, datetime"
   ]
  },
  {
   "cell_type": "code",
   "execution_count": null,
   "id": "8ff76946",
   "metadata": {
    "slideshow": {
     "slide_type": "fragment"
    }
   },
   "outputs": [],
   "source": [
    "date(year=2023, month=4, day=26)"
   ]
  },
  {
   "cell_type": "code",
   "execution_count": null,
   "id": "d81b1fd2",
   "metadata": {
    "slideshow": {
     "slide_type": "fragment"
    }
   },
   "outputs": [],
   "source": [
    "time(hour=11, minute=42, second=27)"
   ]
  },
  {
   "cell_type": "code",
   "execution_count": null,
   "id": "6ba03d7a",
   "metadata": {
    "slideshow": {
     "slide_type": "fragment"
    }
   },
   "outputs": [],
   "source": [
    "datetime(year=2023, month=4, day=26, hour=11, minute=42, second=27)"
   ]
  },
  {
   "cell_type": "markdown",
   "id": "636918cc",
   "metadata": {
    "slideshow": {
     "slide_type": "slide"
    }
   },
   "source": [
    "## Current date and time"
   ]
  },
  {
   "cell_type": "code",
   "execution_count": null,
   "id": "01efcefe",
   "metadata": {
    "slideshow": {
     "slide_type": "fragment"
    }
   },
   "outputs": [],
   "source": [
    "today = date.today()\n",
    "today"
   ]
  },
  {
   "cell_type": "code",
   "execution_count": null,
   "id": "ee194819",
   "metadata": {
    "slideshow": {
     "slide_type": "fragment"
    }
   },
   "outputs": [],
   "source": [
    "now = datetime.now()\n",
    "now"
   ]
  },
  {
   "cell_type": "code",
   "execution_count": null,
   "id": "3aa380f0",
   "metadata": {
    "slideshow": {
     "slide_type": "fragment"
    }
   },
   "outputs": [],
   "source": [
    "current_time = time(now.hour, now.minute, now.second)\n",
    "current_time"
   ]
  },
  {
   "cell_type": "code",
   "execution_count": null,
   "id": "4dc089c4",
   "metadata": {
    "slideshow": {
     "slide_type": "fragment"
    }
   },
   "outputs": [],
   "source": [
    "datetime.combine(today, current_time)"
   ]
  },
  {
   "cell_type": "markdown",
   "id": "e3e1c4ac",
   "metadata": {
    "slideshow": {
     "slide_type": "slide"
    }
   },
   "source": [
    "## `strftime(format)`\n",
    "\n",
    "Convert a `date`, `time` and `datetime` objects to a string according to a format.\n",
    "\n",
    "For more information on format codes, see the following [page](https://docs.python.org/3/library/datetime.html#strftime-and-strptime-format-codes)."
   ]
  },
  {
   "cell_type": "code",
   "execution_count": null,
   "id": "507b557b",
   "metadata": {
    "slideshow": {
     "slide_type": "fragment"
    }
   },
   "outputs": [],
   "source": [
    "today = date.today()\n",
    "\n",
    "today.strftime(\"%d/%m/%y\")"
   ]
  },
  {
   "cell_type": "code",
   "execution_count": null,
   "id": "ba3eb0ab",
   "metadata": {
    "slideshow": {
     "slide_type": "fragment"
    }
   },
   "outputs": [],
   "source": [
    "now = datetime.now()\n",
    "\n",
    "now.strftime(\"%H:%M:%S\")"
   ]
  },
  {
   "cell_type": "code",
   "execution_count": null,
   "id": "bd4492b5",
   "metadata": {
    "slideshow": {
     "slide_type": "fragment"
    }
   },
   "outputs": [],
   "source": [
    "current_datetime = datetime.now()\n",
    "current_datetime.strftime(\"%d/%m/%y, %H:%M:%S\")"
   ]
  },
  {
   "cell_type": "markdown",
   "id": "eb3dd073",
   "metadata": {
    "slideshow": {
     "slide_type": "slide"
    }
   },
   "source": [
    "## `strptime(date_string, format)`\n",
    "\n",
    "Convert a string to `datetime` object according to a format.\n",
    "\n",
    "For more information on format codes, see the following [page](https://docs.python.org/3/library/datetime.html#strftime-and-strptime-format-codes)."
   ]
  },
  {
   "cell_type": "code",
   "execution_count": null,
   "id": "c1827cd0",
   "metadata": {
    "slideshow": {
     "slide_type": "fragment"
    }
   },
   "outputs": [],
   "source": [
    "datetime.strptime(\"26/04/23 11:42:24\", \"%d/%m/%y %H:%M:%S\")"
   ]
  },
  {
   "cell_type": "markdown",
   "id": "16c3cc98",
   "metadata": {
    "slideshow": {
     "slide_type": "slide"
    }
   },
   "source": [
    "# Object-oriented programming\n",
    "\n",
    "**Object-oriented programming (OOP)** is a programming paradigm that is based on the idea of objects which bundle related properties and behaviors into individual objects.\n",
    "\n",
    "- object\n",
    "- property\n",
    "- method"
   ]
  },
  {
   "cell_type": "markdown",
   "id": "495b6996",
   "metadata": {
    "slideshow": {
     "slide_type": "slide"
    }
   },
   "source": [
    "# Class\n",
    "\n",
    "**Class** provides us with the ability to bundle data and functionality in an object. In fact, class is a type defined by a programmer.\n",
    "\n",
    "In Python, classes can be defined by `class` keyword."
   ]
  },
  {
   "cell_type": "code",
   "execution_count": null,
   "id": "7c8933b0",
   "metadata": {
    "slideshow": {
     "slide_type": "fragment"
    }
   },
   "outputs": [],
   "source": [
    "class Person:\n",
    "    pass\n",
    "\n",
    "Person"
   ]
  },
  {
   "cell_type": "markdown",
   "id": "8a2af1b6",
   "metadata": {
    "slideshow": {
     "slide_type": "slide"
    }
   },
   "source": [
    "# Instance\n",
    "\n",
    "Class is just a blueprint. It is kind of factory that can be used to create objects of that type. The process of creating an object from a class is called an **instantiation** and the object is called an **instance**.\n",
    "\n",
    "To instantiate an instance, a class can be called similar to calling a function."
   ]
  },
  {
   "cell_type": "code",
   "execution_count": null,
   "id": "5a09d27e",
   "metadata": {
    "slideshow": {
     "slide_type": "fragment"
    }
   },
   "outputs": [],
   "source": [
    "person = Person()\n",
    "person"
   ]
  },
  {
   "cell_type": "markdown",
   "id": "fd709a3f",
   "metadata": {
    "slideshow": {
     "slide_type": "slide"
    }
   },
   "source": [
    "# Attributes\n",
    "\n",
    "Usually, objects have properties. This kind of data can be stored in object **attributes**. \n",
    "\n",
    "Attributes can be accessed via dot notation."
   ]
  },
  {
   "cell_type": "code",
   "execution_count": null,
   "id": "f18cf50d",
   "metadata": {
    "slideshow": {
     "slide_type": "fragment"
    }
   },
   "outputs": [],
   "source": [
    "person = Person()\n",
    "person"
   ]
  },
  {
   "cell_type": "code",
   "execution_count": null,
   "id": "b6c23e49",
   "metadata": {
    "slideshow": {
     "slide_type": "fragment"
    }
   },
   "outputs": [],
   "source": [
    "person.name = \"John Doe\"\n",
    "person.age = 42\n",
    "\n",
    "person"
   ]
  },
  {
   "cell_type": "code",
   "execution_count": null,
   "id": "eb15e4f6",
   "metadata": {
    "slideshow": {
     "slide_type": "fragment"
    }
   },
   "outputs": [],
   "source": [
    "person.name, person.age"
   ]
  },
  {
   "cell_type": "markdown",
   "id": "430f4653",
   "metadata": {
    "slideshow": {
     "slide_type": "slide"
    }
   },
   "source": [
    "# `__init__()`\n",
    "\n",
    "Init method can be used to initialize the internal data attributes."
   ]
  },
  {
   "cell_type": "code",
   "execution_count": null,
   "id": "121a98e7",
   "metadata": {
    "slideshow": {
     "slide_type": "fragment"
    }
   },
   "outputs": [],
   "source": [
    "class Person:\n",
    "    def __init__(self, name, age):\n",
    "        self.name = name\n",
    "        self.age = age\n",
    "\n",
    "Person"
   ]
  },
  {
   "cell_type": "code",
   "execution_count": null,
   "id": "8788464f",
   "metadata": {
    "slideshow": {
     "slide_type": "fragment"
    }
   },
   "outputs": [],
   "source": [
    "person = Person()\n",
    "person"
   ]
  },
  {
   "cell_type": "code",
   "execution_count": null,
   "id": "e033e18e",
   "metadata": {
    "slideshow": {
     "slide_type": "fragment"
    }
   },
   "outputs": [],
   "source": [
    "person = Person(\"John Doe\", 42)\n",
    "\n",
    "person.name, person.age"
   ]
  },
  {
   "cell_type": "code",
   "execution_count": null,
   "id": "c24c4b39",
   "metadata": {
    "slideshow": {
     "slide_type": "fragment"
    }
   },
   "outputs": [],
   "source": [
    "person = Person(name=\"John Doe\", age=42)\n",
    "\n",
    "person.name, person.age"
   ]
  },
  {
   "cell_type": "code",
   "execution_count": null,
   "id": "d77a4413",
   "metadata": {
    "slideshow": {
     "slide_type": "subslide"
    }
   },
   "outputs": [],
   "source": [
    "class Person:\n",
    "    def __init__(my_self, name, age):\n",
    "        my_self.name = name\n",
    "        my_self.age = age\n",
    "\n",
    "Person"
   ]
  },
  {
   "cell_type": "code",
   "execution_count": null,
   "id": "d0ac6011",
   "metadata": {
    "slideshow": {
     "slide_type": "fragment"
    }
   },
   "outputs": [],
   "source": [
    "person = Person(\"John Doe\", 42)\n",
    "\n",
    "person.name, person.age"
   ]
  },
  {
   "cell_type": "markdown",
   "id": "8c7baf11",
   "metadata": {
    "slideshow": {
     "slide_type": "slide"
    }
   },
   "source": [
    "# Class and instance Attributes\n",
    "\n",
    "- **Class attributes** are properties that have the same value for all class instances. They can be created by defining a variable in class body.\n",
    "- **Instance attributes** are properties that are specific to a given class instance. They can be defined in `__init__()` method."
   ]
  },
  {
   "cell_type": "code",
   "execution_count": null,
   "id": "da178f45",
   "metadata": {
    "slideshow": {
     "slide_type": "fragment"
    }
   },
   "outputs": [],
   "source": [
    "class Person:\n",
    "    species = \"homo sapiens\"\n",
    "    \n",
    "    def __init__(self, name, age):\n",
    "        self.name = name\n",
    "        self.age = age\n",
    "\n",
    "Person"
   ]
  },
  {
   "cell_type": "code",
   "execution_count": null,
   "id": "dd6ec82d",
   "metadata": {
    "slideshow": {
     "slide_type": "fragment"
    }
   },
   "outputs": [],
   "source": [
    "person1 = Person(\"John Doe\", 42)\n",
    "\n",
    "person1.name, person1.age"
   ]
  },
  {
   "cell_type": "code",
   "execution_count": null,
   "id": "2af26ba9",
   "metadata": {
    "slideshow": {
     "slide_type": "fragment"
    }
   },
   "outputs": [],
   "source": [
    "person2 = Person(\"Alice Smith\", 24)\n",
    "\n",
    "person2.name, person2.age"
   ]
  },
  {
   "cell_type": "code",
   "execution_count": null,
   "id": "97d46ea4",
   "metadata": {
    "slideshow": {
     "slide_type": "fragment"
    }
   },
   "outputs": [],
   "source": [
    "person1.species, person2.species"
   ]
  },
  {
   "cell_type": "markdown",
   "id": "b78f6e91",
   "metadata": {
    "slideshow": {
     "slide_type": "slide"
    }
   },
   "source": [
    "# Equality and identity"
   ]
  },
  {
   "cell_type": "code",
   "execution_count": null,
   "id": "ffe8c838",
   "metadata": {
    "slideshow": {
     "slide_type": "slide"
    }
   },
   "outputs": [],
   "source": [
    "person1 = Person(\"John Doe\", 42)\n",
    "person2 = Person(\"Alice Smith\", 24)"
   ]
  },
  {
   "cell_type": "code",
   "execution_count": null,
   "id": "a795254e",
   "metadata": {
    "slideshow": {
     "slide_type": "fragment"
    }
   },
   "outputs": [],
   "source": [
    "person1 == person2"
   ]
  },
  {
   "cell_type": "code",
   "execution_count": null,
   "id": "ba19b2fd",
   "metadata": {
    "slideshow": {
     "slide_type": "fragment"
    }
   },
   "outputs": [],
   "source": [
    "person1 is person2"
   ]
  },
  {
   "cell_type": "code",
   "execution_count": null,
   "id": "6e16bdf7",
   "metadata": {
    "slideshow": {
     "slide_type": "fragment"
    }
   },
   "outputs": [],
   "source": [
    "person3 = person1\n",
    "\n",
    "person1 is person3"
   ]
  },
  {
   "cell_type": "markdown",
   "id": "45c7a811",
   "metadata": {
    "slideshow": {
     "slide_type": "slide"
    }
   },
   "source": [
    "# Instance methods\n",
    "\n",
    "**Instance methods** are functions that are defined inside a class and can only be called from a class instance.\n",
    "\n",
    "They describe the behaviors of an object.\n",
    "\n",
    "They are very similar to `__init__()` method by definition."
   ]
  },
  {
   "cell_type": "code",
   "execution_count": null,
   "id": "7d569f33",
   "metadata": {
    "slideshow": {
     "slide_type": "fragment"
    }
   },
   "outputs": [],
   "source": [
    "class Person:\n",
    "    species = \"homo sapiens\"\n",
    "    \n",
    "    \n",
    "    def __init__(self, name, age):\n",
    "        self.name = name\n",
    "        self.age = age\n",
    "        \n",
    "    \n",
    "    def introduce_me(self):\n",
    "        return f\"I am {self.name} and I am {self.age} years old.\"\n",
    "    \n",
    "    \n",
    "    def speak(self, text):\n",
    "        return f\"I am {self.name} and I say {text}\"\n",
    "    \n",
    "    \n",
    "    def calculate_birth_year(self, current_year):\n",
    "        return current_year - self.age\n",
    "\n",
    "Person"
   ]
  },
  {
   "cell_type": "code",
   "execution_count": null,
   "id": "79b83fbc",
   "metadata": {
    "slideshow": {
     "slide_type": "subslide"
    }
   },
   "outputs": [],
   "source": [
    "person = Person(\"John Doe\", 42)\n",
    "\n",
    "person.name, person.age"
   ]
  },
  {
   "cell_type": "code",
   "execution_count": null,
   "id": "bb06d778",
   "metadata": {
    "slideshow": {
     "slide_type": "fragment"
    }
   },
   "outputs": [],
   "source": [
    "person.introduce_me()"
   ]
  },
  {
   "cell_type": "code",
   "execution_count": null,
   "id": "9a7ed3d2",
   "metadata": {
    "slideshow": {
     "slide_type": "fragment"
    }
   },
   "outputs": [],
   "source": [
    "person.speak(\"'Hello everyone!'\")"
   ]
  },
  {
   "cell_type": "code",
   "execution_count": null,
   "id": "12f8a1e1",
   "metadata": {
    "slideshow": {
     "slide_type": "fragment"
    }
   },
   "outputs": [],
   "source": [
    "person.calculate_birth_year(2023)"
   ]
  }
 ],
 "metadata": {
  "celltoolbar": "Slideshow",
  "kernelspec": {
   "display_name": "Python 3 (ipykernel)",
   "language": "python",
   "name": "python3"
  },
  "language_info": {
   "codemirror_mode": {
    "name": "ipython",
    "version": 3
   },
   "file_extension": ".py",
   "mimetype": "text/x-python",
   "name": "python",
   "nbconvert_exporter": "python",
   "pygments_lexer": "ipython3",
   "version": "3.8.10"
  }
 },
 "nbformat": 4,
 "nbformat_minor": 5
}
