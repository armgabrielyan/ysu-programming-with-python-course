{
 "cells": [
  {
   "cell_type": "markdown",
   "id": "74750d32",
   "metadata": {
    "id": "74750d32",
    "slideshow": {
     "slide_type": "slide"
    }
   },
   "source": [
    "# Programming with Python\n",
    "\n",
    "## Lecture 25: OOP - Inheritance\n",
    "\n",
    "### Armen Gabrielyan\n",
    "\n",
    "#### Yerevan State University\n",
    "#### Portmind"
   ]
  },
  {
   "cell_type": "markdown",
   "id": "daaa5b0d",
   "metadata": {
    "id": "daaa5b0d",
    "slideshow": {
     "slide_type": "slide"
    }
   },
   "source": [
    "# OOP exercises\n",
    "\n",
    "**Exercise 1:** Create a class named `Vehicle` with properties `make`, `model`, `year`, and `color`. Create methods named `start`, `stop`, `accelerate`, and `brake` that perform the corresponding actions on the vehicle. Then, create a class named `Car` that inherits from `Vehicle` and adds properties and methods specific to cars, such as `num_doors` and `num_gears`.\n",
    "\n",
    "**Exercise 2:** Create a class named `BankAccount` with properties `balance` and `interest_rate`. Make the balance property private and create public methods named `deposit`, `withdraw`, and `add_interest` that perform the corresponding actions on the account. Then, create a class named `CheckingAccount` that inherits from `BankAccount` and adds properties and methods specific to checking accounts, such as `overdraft_limit` and `check_overdraft`.\n",
    "\n",
    "**Exercise 3:** Create a class named `Employee` with properties `name`, `salary`, and `department`. Create a method named `give_raise` that increases the employee's salary by a specified amount. Then, create a class named `Executive` that inherits from `Employee` and adds properties and methods specific to executives, such as `stock_options`.\n",
    "\n",
    "**Exercise 4:** Create a class named `Animal` with properties `name` and `species`. Create methods named `eat` and `sleep` that perform the corresponding actions. Then, create a class named `Bird` that inherits from `Animal` and adds properties and methods specific to birds, such as `wing_span` and `fly`.\n",
    "\n",
    "**Exercise 5:** Create a class named `Author` with properties `name` and `email`. Create a class named `Book` with properties `title`, `authors` (which is a list of `Author` objects), `price`, and `quantity`. Implement encapsulation such that the `price` and `quantity` properties are private and can only be accessed through the get and set methods."
   ]
  },
  {
   "cell_type": "code",
   "execution_count": null,
   "id": "z5-m8VFhXSUc",
   "metadata": {
    "id": "z5-m8VFhXSUc"
   },
   "outputs": [],
   "source": [
    "from datetime import datetime\n",
    "\n",
    "\n",
    "class Vehicle:\n",
    "    def __init__(self, make, model, year, color):\n",
    "        self._make = make\n",
    "        self._model = model\n",
    "        self._year = year\n",
    "        self._color = color\n",
    "\n",
    "    @property\n",
    "    def make(self):\n",
    "        return self._make\n",
    "\n",
    "    @property\n",
    "    def model(self):\n",
    "        return self._model\n",
    "\n",
    "    @property\n",
    "    def year(self):\n",
    "        return self._year\n",
    "\n",
    "    @property\n",
    "    def color(self):\n",
    "        return self._color\n",
    "\n",
    "    \"\"\"\n",
    "    @make.setter\n",
    "    def make(self, make):\n",
    "        self._make = make\n",
    "\n",
    "    @model.setter\n",
    "    def model(self, model):\n",
    "        self._model = model\n",
    "\n",
    "    @year.setter\n",
    "    def year(self, year):\n",
    "        self._year = year\n",
    "    \"\"\"\n",
    "\n",
    "    @color.setter\n",
    "    def color(self, color):\n",
    "        self._color = color\n",
    "\n",
    "    def start(self):\n",
    "        return f\"Vehicle started at {datetime.now()}.\""
   ]
  },
  {
   "cell_type": "code",
   "execution_count": null,
   "id": "uyAh1CWHV6oZ",
   "metadata": {
    "colab": {
     "base_uri": "https://localhost:8080/",
     "height": 35
    },
    "id": "uyAh1CWHV6oZ",
    "outputId": "08cba636-80b2-4539-a2bf-67ca4f7d283b"
   },
   "outputs": [],
   "source": [
    "vehicle = Vehicle('Toyota', 'Camry', 2018, 'Black')\n",
    "vehicle.start()\n"
   ]
  },
  {
   "cell_type": "code",
   "execution_count": null,
   "id": "k1ZifShZfRYK",
   "metadata": {
    "id": "k1ZifShZfRYK"
   },
   "outputs": [],
   "source": [
    "class Car(Vehicle):\n",
    "    def __init__(self, make, model, year, color, num_doors, num_gears):\n",
    "        super().__init__(make, model, year, color)\n",
    "        self._num_doors = num_doors\n",
    "        self._num_gears = num_gears\n",
    "\n",
    "    def start(self):\n",
    "        return f\"Car started at {datetime.now()}. Car{self._num_doors, self._num_gears}\"  "
   ]
  },
  {
   "cell_type": "code",
   "execution_count": null,
   "id": "Di2LVNhEhS9e",
   "metadata": {
    "colab": {
     "base_uri": "https://localhost:8080/",
     "height": 35
    },
    "id": "Di2LVNhEhS9e",
    "outputId": "5221f2d7-d080-4bb2-845e-ef94f052fbe1"
   },
   "outputs": [],
   "source": [
    "car = Car('Toyota', 'Camry', 2018, 'Black', 4, 5)\n",
    "car.start()"
   ]
  },
  {
   "cell_type": "code",
   "execution_count": null,
   "id": "7925f5e1",
   "metadata": {
    "id": "7925f5e1"
   },
   "outputs": [],
   "source": [
    "class Person:\n",
    "    def __init__(self, name, age):\n",
    "        self._name = name\n",
    "        self._age = age\n",
    "    \n",
    "    @property\n",
    "    def name(self):\n",
    "        return self._name\n",
    "    \n",
    "    @property\n",
    "    def age(self):\n",
    "        return self._age\n",
    "    \n",
    "    def introduce_me(self):\n",
    "        return f\"I am {self._name} and I am {self._age} years old.\""
   ]
  },
  {
   "cell_type": "code",
   "execution_count": null,
   "id": "ba564c23",
   "metadata": {
    "id": "ba564c23"
   },
   "outputs": [],
   "source": [
    "from statistics import mean\n",
    "\n",
    "class Student(Person):\n",
    "    def __init__(self, name, age, university, subject):\n",
    "        super().__init__(name, age)\n",
    "        self._university = university\n",
    "        self._subject = subject\n",
    "        self._grades = {}\n",
    "    \n",
    "    @property\n",
    "    def university(self):\n",
    "        return self._university\n",
    "    \n",
    "    def introduce_me(self):\n",
    "        intro = super().introduce_me()\n",
    "        return f\"{intro} I am a student from {self._university}.\"\n",
    "    \n",
    "    def learn(self):\n",
    "        return f\"I am learning {self._subject}\"\n",
    "    \n",
    "    def add_grade(self, subject, grade):\n",
    "        self._grades[subject] = grade\n",
    "        \n",
    "    def calculate_gpa(self):\n",
    "        gpa = mean(self._grades.values())\n",
    "        gpa = round(gpa, 2)\n",
    "        return gpa"
   ]
  },
  {
   "cell_type": "code",
   "execution_count": null,
   "id": "c77fdc4d",
   "metadata": {
    "id": "c77fdc4d"
   },
   "outputs": [],
   "source": [
    "class YSUStudent(Student):\n",
    "    def __init__(self, name, age, subject):\n",
    "        super().__init__(name, age, \"YSU\", subject)"
   ]
  },
  {
   "cell_type": "markdown",
   "id": "edb4fac1",
   "metadata": {
    "id": "edb4fac1",
    "slideshow": {
     "slide_type": "slide"
    }
   },
   "source": [
    "# Common interface"
   ]
  },
  {
   "cell_type": "code",
   "execution_count": null,
   "id": "51683c8c",
   "metadata": {
    "id": "51683c8c",
    "slideshow": {
     "slide_type": "fragment"
    }
   },
   "outputs": [],
   "source": [
    "def introduce(people):\n",
    "    for person in people:\n",
    "        print(person.introduce_me())"
   ]
  },
  {
   "cell_type": "code",
   "execution_count": null,
   "id": "c8ed6f1a",
   "metadata": {
    "id": "c8ed6f1a",
    "slideshow": {
     "slide_type": "fragment"
    }
   },
   "outputs": [],
   "source": [
    "person_1 = Person(\"John Doe\", 42)\n",
    "person_2 = Person(\"Alice Smith\", 20)\n",
    "\n",
    "student_1 = Student(\"Jane Dane\", 21, \"AUA\", \"Computer Science\")\n",
    "student_2 = Student(\"Bob Black\", 20, \"AUA\", \"Business\")\n",
    "\n",
    "ysu_student_1 = YSUStudent(\"Jack Smith\", 18, \"Data Science\")\n",
    "ysu_student_2 = YSUStudent(\"Ann Martin\", 19, \"Mathematics\")"
   ]
  },
  {
   "cell_type": "code",
   "execution_count": null,
   "id": "8df14c97",
   "metadata": {
    "colab": {
     "base_uri": "https://localhost:8080/"
    },
    "id": "8df14c97",
    "outputId": "1c42b03a-0d95-43e9-bc4e-67992603555f",
    "slideshow": {
     "slide_type": "fragment"
    }
   },
   "outputs": [],
   "source": [
    "introduce([person_1, person_2, student_1, student_2, ysu_student_1, ysu_student_2])"
   ]
  },
  {
   "cell_type": "code",
   "execution_count": null,
   "id": "tg5wMWXvjalk",
   "metadata": {
    "colab": {
     "base_uri": "https://localhost:8080/"
    },
    "id": "tg5wMWXvjalk",
    "outputId": "a45c964d-2c54-4e27-f875-b60d50adc499",
    "slideshow": {
     "slide_type": "fragment"
    }
   },
   "outputs": [],
   "source": [
    "len(\"abc\"), len([1, 2, 3]), len({\"a\": 1})"
   ]
  },
  {
   "cell_type": "code",
   "execution_count": null,
   "id": "51d297d7",
   "metadata": {
    "id": "51d297d7",
    "slideshow": {
     "slide_type": "slide"
    }
   },
   "outputs": [],
   "source": [
    "class StudentTracking:\n",
    "    def __init__(self, students):\n",
    "        self._students = students\n",
    "        self._gpas = {}\n",
    "    \n",
    "    def collect_gpas(self):\n",
    "        for student in self._students:\n",
    "            self._gpas[student.name] = student.calculate_gpa()\n",
    "            \n",
    "    def report_gpas(self):\n",
    "        for name, gpa in self._gpas.items():\n",
    "            print(f\"{name} => {gpa}\")"
   ]
  },
  {
   "cell_type": "code",
   "execution_count": null,
   "id": "18512a81",
   "metadata": {
    "id": "18512a81",
    "slideshow": {
     "slide_type": "fragment"
    }
   },
   "outputs": [],
   "source": [
    "student_1.add_grade(\"Calculus\", 3.4)\n",
    "student_1.add_grade(\"Statistics\", 4)\n",
    "student_1.add_grade(\"Linear algebra\", 3.8)"
   ]
  },
  {
   "cell_type": "code",
   "execution_count": null,
   "id": "81b0c1fe",
   "metadata": {
    "id": "81b0c1fe",
    "slideshow": {
     "slide_type": "fragment"
    }
   },
   "outputs": [],
   "source": [
    "ysu_student_1.add_grade(\"Math analysis\", 19)\n",
    "ysu_student_1.add_grade(\"Statistics\", 20)\n",
    "ysu_student_1.add_grade(\"Linear algebra\", 19)"
   ]
  },
  {
   "cell_type": "code",
   "execution_count": null,
   "id": "dccd4a94",
   "metadata": {
    "colab": {
     "base_uri": "https://localhost:8080/"
    },
    "id": "dccd4a94",
    "outputId": "c536b1ce-e14e-490f-b13b-124ef5630fe0",
    "slideshow": {
     "slide_type": "fragment"
    }
   },
   "outputs": [],
   "source": [
    "tracking = StudentTracking([student_1, ysu_student_1])\n",
    "tracking.collect_gpas()\n",
    "tracking.report_gpas()"
   ]
  },
  {
   "cell_type": "markdown",
   "id": "1bfe60ad",
   "metadata": {
    "id": "1bfe60ad",
    "slideshow": {
     "slide_type": "slide"
    }
   },
   "source": [
    "# `object` superclass\n",
    "\n",
    "`object` is a base for all classes. It has methods that are common to all instances of Python classes.\n",
    "\n",
    "The following two definitions are equivalent\n",
    "\n",
    "```python\n",
    "class ClassName:\n",
    "    ...\n",
    "```\n",
    "\n",
    "```python\n",
    "class ClassName(object):\n",
    "    ...\n",
    "```"
   ]
  },
  {
   "cell_type": "code",
   "execution_count": null,
   "id": "3670b7c3",
   "metadata": {
    "id": "3670b7c3",
    "slideshow": {
     "slide_type": "fragment"
    }
   },
   "outputs": [],
   "source": [
    "class A:\n",
    "    pass"
   ]
  },
  {
   "cell_type": "code",
   "execution_count": null,
   "id": "247e1f9f",
   "metadata": {
    "colab": {
     "base_uri": "https://localhost:8080/"
    },
    "id": "247e1f9f",
    "outputId": "b888c327-0306-4c41-cee0-92e45ba27d09",
    "slideshow": {
     "slide_type": "fragment"
    }
   },
   "outputs": [],
   "source": [
    "a = A()\n",
    "dir(a)"
   ]
  },
  {
   "cell_type": "code",
   "execution_count": null,
   "id": "5984ac2f",
   "metadata": {
    "colab": {
     "base_uri": "https://localhost:8080/"
    },
    "id": "5984ac2f",
    "outputId": "c89cb21b-ff98-4eba-f783-64a25943adff",
    "slideshow": {
     "slide_type": "fragment"
    }
   },
   "outputs": [],
   "source": [
    "o = object()\n",
    "dir(o)"
   ]
  },
  {
   "cell_type": "code",
   "execution_count": null,
   "id": "9ff00a4e",
   "metadata": {
    "id": "9ff00a4e",
    "slideshow": {
     "slide_type": "fragment"
    }
   },
   "outputs": [],
   "source": [
    "class A(object):\n",
    "    pass\n",
    "    "
   ]
  },
  {
   "cell_type": "markdown",
   "id": "d3a31af8",
   "metadata": {
    "id": "d3a31af8",
    "slideshow": {
     "slide_type": "slide"
    }
   },
   "source": [
    "# `isinstance()` function"
   ]
  },
  {
   "cell_type": "code",
   "execution_count": null,
   "id": "8e1fd003",
   "metadata": {
    "colab": {
     "base_uri": "https://localhost:8080/"
    },
    "id": "8e1fd003",
    "outputId": "8f91cedd-3c7a-46e4-bb9d-c1fac65c134a",
    "slideshow": {
     "slide_type": "fragment"
    }
   },
   "outputs": [],
   "source": [
    "isinstance(o, object)"
   ]
  },
  {
   "cell_type": "code",
   "execution_count": null,
   "id": "0fed74d4",
   "metadata": {
    "colab": {
     "base_uri": "https://localhost:8080/"
    },
    "id": "0fed74d4",
    "outputId": "8c64d322-b75a-4df8-9dfd-222c6443dc7d",
    "slideshow": {
     "slide_type": "fragment"
    }
   },
   "outputs": [],
   "source": [
    "isinstance(a, object)"
   ]
  },
  {
   "cell_type": "code",
   "execution_count": null,
   "id": "1dea6682",
   "metadata": {
    "colab": {
     "base_uri": "https://localhost:8080/"
    },
    "id": "1dea6682",
    "outputId": "da44494f-2075-44e0-ae53-930b57c91025",
    "slideshow": {
     "slide_type": "fragment"
    }
   },
   "outputs": [],
   "source": [
    "isinstance(42, object)"
   ]
  },
  {
   "cell_type": "code",
   "execution_count": null,
   "id": "e3b6c046",
   "metadata": {
    "colab": {
     "base_uri": "https://localhost:8080/"
    },
    "id": "e3b6c046",
    "outputId": "c6bd9a02-4407-4c1d-c94b-5dc808283aac",
    "slideshow": {
     "slide_type": "fragment"
    }
   },
   "outputs": [],
   "source": [
    "isinstance([1, 2, 3], object)"
   ]
  },
  {
   "cell_type": "markdown",
   "id": "0c53d5cc",
   "metadata": {
    "id": "0c53d5cc",
    "slideshow": {
     "slide_type": "slide"
    }
   },
   "source": [
    "### Using `isinstance()` function on objects of a hierarchical classes"
   ]
  },
  {
   "cell_type": "code",
   "execution_count": null,
   "id": "123c6e8d",
   "metadata": {
    "colab": {
     "base_uri": "https://localhost:8080/"
    },
    "id": "123c6e8d",
    "outputId": "ea421141-a211-47bc-e3ad-1dfd44619c73",
    "slideshow": {
     "slide_type": "fragment"
    }
   },
   "outputs": [],
   "source": [
    "isinstance(person_1, Person)"
   ]
  },
  {
   "cell_type": "code",
   "execution_count": null,
   "id": "08e1eba8",
   "metadata": {
    "colab": {
     "base_uri": "https://localhost:8080/"
    },
    "id": "08e1eba8",
    "outputId": "10214017-00ae-4c71-fa58-596cf7b69d2b",
    "slideshow": {
     "slide_type": "fragment"
    }
   },
   "outputs": [],
   "source": [
    "isinstance(student_1, Person)"
   ]
  },
  {
   "cell_type": "code",
   "execution_count": null,
   "id": "762a336e",
   "metadata": {
    "colab": {
     "base_uri": "https://localhost:8080/"
    },
    "id": "762a336e",
    "outputId": "5aa691b4-2ad5-4b4a-f598-f456ad402632",
    "slideshow": {
     "slide_type": "fragment"
    }
   },
   "outputs": [],
   "source": [
    "isinstance(ysu_student_1, Person)"
   ]
  },
  {
   "cell_type": "code",
   "execution_count": null,
   "id": "9df8e753",
   "metadata": {
    "colab": {
     "base_uri": "https://localhost:8080/"
    },
    "id": "9df8e753",
    "outputId": "e44a2e65-ff24-4176-cf07-6c192fcafe51",
    "slideshow": {
     "slide_type": "fragment"
    }
   },
   "outputs": [],
   "source": [
    "isinstance(ysu_student_1, Student)"
   ]
  },
  {
   "cell_type": "markdown",
   "id": "a0c256fb",
   "metadata": {
    "id": "a0c256fb",
    "slideshow": {
     "slide_type": "slide"
    }
   },
   "source": [
    "# `issubclass(class, classinfo)` function\n",
    "\n",
    "`issubclass(class, classinfo)` function returns `True` if `class` is a subclass (direct, indirect, or virtual) of `classinfo`."
   ]
  },
  {
   "cell_type": "code",
   "execution_count": null,
   "id": "bb5585bb",
   "metadata": {
    "colab": {
     "base_uri": "https://localhost:8080/"
    },
    "id": "bb5585bb",
    "outputId": "fb118183-bbf7-43de-8293-66631d4122f7",
    "slideshow": {
     "slide_type": "fragment"
    }
   },
   "outputs": [],
   "source": [
    "issubclass(bool, int)"
   ]
  },
  {
   "cell_type": "code",
   "execution_count": null,
   "id": "a6c0aed3",
   "metadata": {
    "colab": {
     "base_uri": "https://localhost:8080/"
    },
    "id": "a6c0aed3",
    "outputId": "e9264f1a-4576-4f98-cbfc-6973190059f3",
    "slideshow": {
     "slide_type": "fragment"
    }
   },
   "outputs": [],
   "source": [
    "issubclass(int, float)"
   ]
  },
  {
   "cell_type": "code",
   "execution_count": null,
   "id": "9604af05",
   "metadata": {
    "colab": {
     "base_uri": "https://localhost:8080/"
    },
    "id": "9604af05",
    "outputId": "1905837e-a810-4e88-a320-002c64530eef",
    "slideshow": {
     "slide_type": "fragment"
    }
   },
   "outputs": [],
   "source": [
    "issubclass(Person, object)"
   ]
  },
  {
   "cell_type": "code",
   "execution_count": null,
   "id": "fbddbe1b",
   "metadata": {
    "colab": {
     "base_uri": "https://localhost:8080/"
    },
    "id": "fbddbe1b",
    "outputId": "8d5c8729-a415-47ae-99b2-9146b7f7f771",
    "slideshow": {
     "slide_type": "fragment"
    }
   },
   "outputs": [],
   "source": [
    "issubclass(Person, Person)"
   ]
  },
  {
   "cell_type": "code",
   "execution_count": null,
   "id": "7eed515c",
   "metadata": {
    "colab": {
     "base_uri": "https://localhost:8080/"
    },
    "id": "7eed515c",
    "outputId": "ef3e5c0d-3cc3-4e59-abe1-c69a54750917",
    "slideshow": {
     "slide_type": "fragment"
    }
   },
   "outputs": [],
   "source": [
    "issubclass(Student, Person)"
   ]
  },
  {
   "cell_type": "code",
   "execution_count": null,
   "id": "26aad103",
   "metadata": {
    "colab": {
     "base_uri": "https://localhost:8080/"
    },
    "id": "26aad103",
    "outputId": "0e922c00-f13b-41cd-8f5a-570052b15df1",
    "slideshow": {
     "slide_type": "fragment"
    }
   },
   "outputs": [],
   "source": [
    "issubclass(YSUStudent, Student)"
   ]
  },
  {
   "cell_type": "markdown",
   "id": "936d0f99",
   "metadata": {
    "id": "936d0f99",
    "slideshow": {
     "slide_type": "slide"
    }
   },
   "source": [
    "# Multiple inheritance\n",
    "\n",
    "Python supports a form of multiple inheritance.\n",
    "\n",
    "```python\n",
    "class DerivedClassName(Base1, Base2, Base3):\n",
    "    <statement_1>\n",
    "    .\n",
    "    .\n",
    "    .\n",
    "    <statement_N>\n",
    "```"
   ]
  },
  {
   "cell_type": "code",
   "execution_count": null,
   "id": "a1c07700",
   "metadata": {
    "colab": {
     "base_uri": "https://localhost:8080/"
    },
    "id": "a1c07700",
    "outputId": "d32cff3f-1a80-4ebf-c2b9-67b740ed414e",
    "slideshow": {
     "slide_type": "slide"
    }
   },
   "outputs": [],
   "source": [
    "class Animal:\n",
    "    def speak_as_animal(self):\n",
    "        return \"I am animal\"\n",
    "    \n",
    "class Mammal:\n",
    "    def speak_as_mammal(self):\n",
    "        return \"I am mammal\"\n",
    "    \n",
    "class Cat(Animal, Mammal):\n",
    "    def speak_as_cat(self):\n",
    "        return \"I am cat\"\n",
    "    \n",
    "cat = Cat()\n",
    "print(cat.speak_as_animal())\n",
    "print(cat.speak_as_mammal())\n",
    "print(cat.speak_as_cat())"
   ]
  },
  {
   "cell_type": "markdown",
   "id": "de824f81",
   "metadata": {
    "id": "de824f81",
    "slideshow": {
     "slide_type": "slide"
    }
   },
   "source": [
    "# Method resolution order (MRO)\n",
    "\n",
    "**Method resolution order (MRO)** is the order in which base classes are searched for a member during lookup. It is used to resolve a method or a property.\n",
    "\n",
    "Class MRO can be accessed by `__mro__` attribute or `mro()` method."
   ]
  },
  {
   "cell_type": "code",
   "execution_count": null,
   "id": "e16e7827",
   "metadata": {
    "colab": {
     "base_uri": "https://localhost:8080/"
    },
    "id": "e16e7827",
    "outputId": "53074bf6-554f-457e-a847-19acc6153707",
    "slideshow": {
     "slide_type": "fragment"
    }
   },
   "outputs": [],
   "source": [
    "Cat.__mro__"
   ]
  },
  {
   "cell_type": "code",
   "execution_count": null,
   "id": "c386c1e0",
   "metadata": {
    "colab": {
     "base_uri": "https://localhost:8080/"
    },
    "id": "c386c1e0",
    "outputId": "2af0c7db-403d-4ee3-cb3c-c2d972e99e0b",
    "slideshow": {
     "slide_type": "fragment"
    }
   },
   "outputs": [],
   "source": [
    "Cat.mro()"
   ]
  },
  {
   "cell_type": "markdown",
   "id": "041fb586",
   "metadata": {
    "id": "041fb586",
    "slideshow": {
     "slide_type": "slide"
    }
   },
   "source": [
    "# Mixin class\n",
    "\n",
    "A mixin is a class that provides methods to other classes but is not considered a base class. It does not care about its position in the class hierarchy and usually provides convenience methods."
   ]
  },
  {
   "cell_type": "code",
   "execution_count": null,
   "id": "64def4bb",
   "metadata": {
    "id": "64def4bb",
    "slideshow": {
     "slide_type": "slide"
    }
   },
   "outputs": [],
   "source": [
    "class PerimeterMixin:\n",
    "    def calculate_perimeter(self):\n",
    "        perimeter = 0\n",
    "        for side in self.sides:\n",
    "            perimeter += side\n",
    "        return perimeter\n",
    "        \n",
    "\n",
    "class Polygon:\n",
    "    def __init__(self, sides):\n",
    "        self._sides = sides\n",
    "        \n",
    "    @property\n",
    "    def sides(self):\n",
    "        return self._sides\n",
    "    \n",
    "\n",
    "class Rectangle(Polygon, PerimeterMixin):\n",
    "    def __init__(self, width, length):\n",
    "        super().__init__([width, length, width, length])\n",
    "\n",
    "class Triangle(Polygon, PerimeterMixin):\n",
    "    def __init__(self, side_1, side_2, side_3):\n",
    "        super().__init__([side_1, side_2, side_3])"
   ]
  },
  {
   "cell_type": "code",
   "execution_count": null,
   "id": "f1510470",
   "metadata": {
    "id": "f1510470",
    "outputId": "1febf328-852f-49a0-b21c-a6c974e2d09d",
    "slideshow": {
     "slide_type": "fragment"
    }
   },
   "outputs": [],
   "source": [
    "rectangle = Rectangle(3, 4)\n",
    "rectangle.calculate_perimeter()"
   ]
  },
  {
   "cell_type": "code",
   "execution_count": null,
   "id": "64186c1e",
   "metadata": {
    "id": "64186c1e",
    "outputId": "55bc746a-1999-42b8-815d-81d533ccb386",
    "slideshow": {
     "slide_type": "fragment"
    }
   },
   "outputs": [],
   "source": [
    "triangle = Triangle(3, 4, 5)\n",
    "triangle.calculate_perimeter()"
   ]
  }
 ],
 "metadata": {
  "celltoolbar": "Slideshow",
  "colab": {
   "provenance": []
  },
  "kernelspec": {
   "display_name": "Python 3 (ipykernel)",
   "language": "python",
   "name": "python3"
  },
  "language_info": {
   "codemirror_mode": {
    "name": "ipython",
    "version": 3
   },
   "file_extension": ".py",
   "mimetype": "text/x-python",
   "name": "python",
   "nbconvert_exporter": "python",
   "pygments_lexer": "ipython3",
   "version": "3.8.10"
  }
 },
 "nbformat": 4,
 "nbformat_minor": 5
}
