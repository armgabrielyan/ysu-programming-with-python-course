{
 "cells": [
  {
   "cell_type": "markdown",
   "id": "74750d32",
   "metadata": {
    "slideshow": {
     "slide_type": "slide"
    }
   },
   "source": [
    "# Programming with Python\n",
    "\n",
    "## Lecture 14: Functions\n",
    "\n",
    "### Armen Gabrielyan\n",
    "\n",
    "#### Yerevan State University\n",
    "#### Portmind"
   ]
  },
  {
   "cell_type": "markdown",
   "id": "a7680f4f",
   "metadata": {
    "slideshow": {
     "slide_type": "slide"
    }
   },
   "source": [
    "# Scopes\n",
    "\n",
    "Scope is a portion of a program where a name, such as variable and function name, is visible and accessible.\n",
    "\n",
    "- **Local scope** - the names are visible within the local scope\n",
    "- **Global scope** - the names are visible within all the code"
   ]
  },
  {
   "cell_type": "markdown",
   "id": "a2ed8cbb",
   "metadata": {
    "slideshow": {
     "slide_type": "slide"
    }
   },
   "source": [
    "## Local scope"
   ]
  },
  {
   "cell_type": "code",
   "execution_count": null,
   "id": "a79e0231",
   "metadata": {
    "slideshow": {
     "slide_type": "fragment"
    }
   },
   "outputs": [],
   "source": [
    "def rectangle_area(length, width):\n",
    "    result = length * width\n",
    "    return result\n",
    "\n",
    "rectangle_area(5, 8)"
   ]
  },
  {
   "cell_type": "code",
   "execution_count": null,
   "id": "7b05b511",
   "metadata": {
    "slideshow": {
     "slide_type": "fragment"
    }
   },
   "outputs": [],
   "source": [
    "length"
   ]
  },
  {
   "cell_type": "code",
   "execution_count": null,
   "id": "3b824a59",
   "metadata": {
    "slideshow": {
     "slide_type": "fragment"
    }
   },
   "outputs": [],
   "source": [
    "width"
   ]
  },
  {
   "cell_type": "code",
   "execution_count": null,
   "id": "43443cd4",
   "metadata": {
    "slideshow": {
     "slide_type": "fragment"
    }
   },
   "outputs": [],
   "source": [
    "result"
   ]
  },
  {
   "cell_type": "markdown",
   "id": "a6bef18a",
   "metadata": {
    "slideshow": {
     "slide_type": "slide"
    }
   },
   "source": [
    "## Global scope\n",
    "\n",
    "Names can be accessed, but not modified or re-assigned."
   ]
  },
  {
   "cell_type": "markdown",
   "id": "e6ee36b5",
   "metadata": {
    "slideshow": {
     "slide_type": "fragment"
    }
   },
   "source": [
    "### Example 1"
   ]
  },
  {
   "cell_type": "code",
   "execution_count": null,
   "id": "3b4def69",
   "metadata": {
    "slideshow": {
     "slide_type": "fragment"
    }
   },
   "outputs": [],
   "source": [
    "x = 42\n",
    "\n",
    "def f():\n",
    "    return x\n",
    "\n",
    "f(), x"
   ]
  },
  {
   "cell_type": "markdown",
   "id": "d4e302de",
   "metadata": {
    "slideshow": {
     "slide_type": "slide"
    }
   },
   "source": [
    "### Example 2"
   ]
  },
  {
   "cell_type": "code",
   "execution_count": null,
   "id": "ac452389",
   "metadata": {
    "slideshow": {
     "slide_type": "fragment"
    }
   },
   "outputs": [],
   "source": [
    "x = 42\n",
    "\n",
    "def f():\n",
    "    x *= 2\n",
    "    return x\n",
    "\n",
    "f(), x"
   ]
  },
  {
   "cell_type": "markdown",
   "id": "b3f805e7",
   "metadata": {
    "slideshow": {
     "slide_type": "slide"
    }
   },
   "source": [
    "### Example 3"
   ]
  },
  {
   "cell_type": "code",
   "execution_count": null,
   "id": "2231b6dc",
   "metadata": {
    "slideshow": {
     "slide_type": "fragment"
    }
   },
   "outputs": [],
   "source": [
    "x = 42\n",
    "\n",
    "def f():\n",
    "    print(x)\n",
    "    x *= 2\n",
    "    return x\n",
    "\n",
    "f(), x"
   ]
  },
  {
   "cell_type": "markdown",
   "id": "5d3cd100",
   "metadata": {
    "slideshow": {
     "slide_type": "slide"
    }
   },
   "source": [
    "## `global` statement\n",
    "\n",
    "`global` statement allows us to refer names in the global context."
   ]
  },
  {
   "cell_type": "code",
   "execution_count": null,
   "id": "4cc87542",
   "metadata": {
    "slideshow": {
     "slide_type": "fragment"
    }
   },
   "outputs": [],
   "source": [
    "x = 42\n",
    "\n",
    "def f():\n",
    "    global x\n",
    "    x *= 2\n",
    "    return x\n",
    "\n",
    "print(f())\n",
    "print(x)"
   ]
  },
  {
   "cell_type": "code",
   "execution_count": null,
   "id": "8ae94531",
   "metadata": {
    "slideshow": {
     "slide_type": "slide"
    }
   },
   "outputs": [],
   "source": [
    "del x\n",
    "\n",
    "def f():\n",
    "    global x\n",
    "    x = 42\n",
    "    return x\n",
    "\n",
    "print(f())\n",
    "print(x)"
   ]
  },
  {
   "cell_type": "markdown",
   "id": "54945d1d",
   "metadata": {
    "slideshow": {
     "slide_type": "slide"
    }
   },
   "source": [
    "# Nested functions"
   ]
  },
  {
   "cell_type": "code",
   "execution_count": null,
   "id": "03e3277e",
   "metadata": {
    "slideshow": {
     "slide_type": "fragment"
    }
   },
   "outputs": [],
   "source": [
    "# global scope\n",
    "def rectangle(length, width):\n",
    "    # local scope of `rectangle` function, accessible by `area` and `perimeter` functions\n",
    "    def area(length, width):\n",
    "        # local scope of `area` function\n",
    "        return length * width\n",
    "\n",
    "    def perimeter(length, width):\n",
    "        # local scope of `perimeter` function\n",
    "        return 2 * (length + width)\n",
    "    \n",
    "    return area(length, width), perimeter(length, width)\n",
    "\n",
    "rectangle(5, 8)"
   ]
  },
  {
   "cell_type": "code",
   "execution_count": null,
   "id": "e8abca68",
   "metadata": {
    "slideshow": {
     "slide_type": "slide"
    }
   },
   "outputs": [],
   "source": [
    "def outer():\n",
    "    x = 42\n",
    "    \n",
    "    def inner():\n",
    "        x *= 2\n",
    "        return x\n",
    "    \n",
    "    inner()\n",
    "    \n",
    "    return x\n",
    "\n",
    "outer()"
   ]
  },
  {
   "cell_type": "markdown",
   "id": "8fc4d712",
   "metadata": {
    "slideshow": {
     "slide_type": "slide"
    }
   },
   "source": [
    "## `nonlocal` statement\n",
    "\n",
    "`nonlocal` statement allows us to refer names in the nonlocal context."
   ]
  },
  {
   "cell_type": "code",
   "execution_count": null,
   "id": "16fe83eb",
   "metadata": {
    "slideshow": {
     "slide_type": "fragment"
    }
   },
   "outputs": [],
   "source": [
    "def outer():\n",
    "    x = 42\n",
    "    \n",
    "    def inner():\n",
    "        nonlocal x\n",
    "        x *= 2\n",
    "        return x\n",
    "    \n",
    "    inner()\n",
    "    \n",
    "    return x\n",
    "\n",
    "outer()"
   ]
  },
  {
   "cell_type": "markdown",
   "id": "769c5c1a",
   "metadata": {
    "slideshow": {
     "slide_type": "slide"
    }
   },
   "source": [
    "However, it cannot be used to create new nonlocal variables."
   ]
  },
  {
   "cell_type": "code",
   "execution_count": null,
   "id": "26553fcc",
   "metadata": {
    "slideshow": {
     "slide_type": "fragment"
    }
   },
   "outputs": [],
   "source": [
    "def outer():\n",
    "    def inner():\n",
    "        nonlocal x\n",
    "        x = 42\n",
    "        return x\n",
    "    \n",
    "    inner()\n",
    "    \n",
    "    return x\n",
    "\n",
    "outer()"
   ]
  },
  {
   "cell_type": "markdown",
   "id": "94d4c109",
   "metadata": {
    "slideshow": {
     "slide_type": "slide"
    }
   },
   "source": [
    "# Recursion\n",
    "\n",
    "When a process depends on a simpler version of itself, it is called recursion.\n",
    "\n",
    "Recursion usually has the following properties:\n",
    "\n",
    "- **Base step:** initial conditions that terminate a recursive process.\n",
    "- **Recursive step:** a pattern that gradually reduces the process towards the base step and collects the appropriate values."
   ]
  },
  {
   "cell_type": "markdown",
   "id": "2018d8ff",
   "metadata": {
    "slideshow": {
     "slide_type": "slide"
    }
   },
   "source": [
    "## Factorial"
   ]
  },
  {
   "cell_type": "code",
   "execution_count": null,
   "id": "612e0ca5",
   "metadata": {
    "slideshow": {
     "slide_type": "fragment"
    }
   },
   "outputs": [],
   "source": [
    "def factorial_iterative(n):\n",
    "    factorial = 1\n",
    "    for i in range(2, n + 1):\n",
    "        factorial *= i\n",
    "    return factorial"
   ]
  },
  {
   "cell_type": "code",
   "execution_count": null,
   "id": "a7bf8ab0",
   "metadata": {
    "slideshow": {
     "slide_type": "fragment"
    }
   },
   "outputs": [],
   "source": [
    "factorial_iterative(5)"
   ]
  },
  {
   "cell_type": "code",
   "execution_count": null,
   "id": "f8dfd05d",
   "metadata": {
    "slideshow": {
     "slide_type": "fragment"
    }
   },
   "outputs": [],
   "source": [
    "def factorial_recursive(n):\n",
    "    # base step\n",
    "    if n == 0:\n",
    "        return 1\n",
    "    # recursive step\n",
    "    return n * factorial_recursive(n - 1)"
   ]
  },
  {
   "cell_type": "code",
   "execution_count": null,
   "id": "6a55d0d2",
   "metadata": {
    "slideshow": {
     "slide_type": "fragment"
    }
   },
   "outputs": [],
   "source": [
    "factorial_recursive(5)"
   ]
  },
  {
   "cell_type": "markdown",
   "id": "86c18268",
   "metadata": {
    "slideshow": {
     "slide_type": "slide"
    }
   },
   "source": [
    "## Fibonacci sequence"
   ]
  },
  {
   "cell_type": "code",
   "execution_count": null,
   "id": "cf70d3df",
   "metadata": {
    "slideshow": {
     "slide_type": "fragment"
    }
   },
   "outputs": [],
   "source": [
    "def fibonacci_iterative(n):\n",
    "    a, b = 0, 1\n",
    "    for i in range(n - 1):\n",
    "        a, b = b, a + b\n",
    "    return b"
   ]
  },
  {
   "cell_type": "code",
   "execution_count": null,
   "id": "618545fc",
   "metadata": {
    "slideshow": {
     "slide_type": "fragment"
    }
   },
   "outputs": [],
   "source": [
    "fibonacci_iterative(10)"
   ]
  },
  {
   "cell_type": "code",
   "execution_count": null,
   "id": "c0768d5d",
   "metadata": {
    "slideshow": {
     "slide_type": "fragment"
    }
   },
   "outputs": [],
   "source": [
    "def fibonacci_recursive(n):\n",
    "    # base steps\n",
    "    if n == 0:\n",
    "        return 0\n",
    "    if n == 1:\n",
    "        return 1\n",
    "    # recursive steps\n",
    "    return fibonacci_recursive(n - 1) + fibonacci_recursive(n - 2)"
   ]
  },
  {
   "cell_type": "code",
   "execution_count": null,
   "id": "67633d4b",
   "metadata": {
    "slideshow": {
     "slide_type": "fragment"
    }
   },
   "outputs": [],
   "source": [
    "fibonacci_recursive(10)"
   ]
  },
  {
   "cell_type": "markdown",
   "id": "4641400b",
   "metadata": {
    "slideshow": {
     "slide_type": "fragment"
    }
   },
   "source": [
    "However, this is not an efficient solution as lots of computations are done multiple times."
   ]
  },
  {
   "cell_type": "markdown",
   "id": "9b101231",
   "metadata": {
    "slideshow": {
     "slide_type": "slide"
    }
   },
   "source": [
    "## Fibonacci sequence efficient recursive implementation"
   ]
  },
  {
   "cell_type": "code",
   "execution_count": null,
   "id": "9ba3347d",
   "metadata": {
    "slideshow": {
     "slide_type": "fragment"
    }
   },
   "outputs": [],
   "source": [
    "fibonacci_numbers = {0: 0, 1: 1}\n",
    "\n",
    "def fibonacci_recursive_memoized(n):\n",
    "    if n not in fibonacci_numbers:\n",
    "        fibonacci_numbers[n] = fibonacci_recursive(n - 1) + fibonacci_recursive(n - 2)\n",
    "    return fibonacci_numbers[n]"
   ]
  },
  {
   "cell_type": "code",
   "execution_count": null,
   "id": "263dca2f",
   "metadata": {
    "slideshow": {
     "slide_type": "fragment"
    }
   },
   "outputs": [],
   "source": [
    "fibonacci_recursive_memoized(10)"
   ]
  },
  {
   "cell_type": "markdown",
   "id": "2a90501d",
   "metadata": {
    "slideshow": {
     "slide_type": "slide"
    }
   },
   "source": [
    "# Problem solving session"
   ]
  },
  {
   "cell_type": "markdown",
   "id": "26b11d40",
   "metadata": {
    "slideshow": {
     "slide_type": "fragment"
    }
   },
   "source": [
    "## Problem set 1\n",
    "\n",
    "1. Write a Python function to remove duplicates from a list (with/without preserving the order).\n",
    "2. Write a Python function to return the frequency of each element in a given list.\n",
    "3. Write a Python function to merge two sorted lists into a single sorted list.\n",
    "4. Write a Python function to remove all the occurrences of an element from a list.\n",
    "5. Two lists representing two positive integers are given. The digits are stored in reverse order. Write a Python function to sum the two integers and return the result as a list."
   ]
  },
  {
   "cell_type": "markdown",
   "id": "bc3a95bc",
   "metadata": {
    "slideshow": {
     "slide_type": "slide"
    }
   },
   "source": [
    "## Problem set 2\n",
    "\n",
    "1. Write a Python function to get symmetric tuples from a list of tuples. Each tuple consists of two elements, i.e. they are in the form of $(x, y)$. A tuple $(x, y)$ is symmetric if there is another (y, x) tuple in the list.\n",
    "2. Write a Python function that assigns the frequency to each tuple in a given list as a last tuple element.\n",
    "3. Write a Python function to convert a binary tuple to an integer.\n",
    "4. Write a Python function to generate a list of tuples for a standard card deck.\n",
    "5. Write a Python function to find the union and intersection of two tuples (with/without preserving the order)."
   ]
  },
  {
   "cell_type": "markdown",
   "id": "767abfb2",
   "metadata": {
    "slideshow": {
     "slide_type": "slide"
    }
   },
   "source": [
    "## Problem set 3\n",
    "\n",
    "1. Write a Python function to get all the dictionary keys whose corresponding values are equal to the given value.\n",
    "2. Write a Python function to check if two sequences are anagrams or not.\n",
    "3. Write a Python function to create a dictionary in which the values map to the keys that they belong to in a given dictionary.\n",
    "4. Write a Python function to remove duplicate values from a dictionary.\n",
    "5. Write a Python function to get the common elements from two dictionaries."
   ]
  }
 ],
 "metadata": {
  "celltoolbar": "Slideshow",
  "kernelspec": {
   "display_name": "Python 3 (ipykernel)",
   "language": "python",
   "name": "python3"
  },
  "language_info": {
   "codemirror_mode": {
    "name": "ipython",
    "version": 3
   },
   "file_extension": ".py",
   "mimetype": "text/x-python",
   "name": "python",
   "nbconvert_exporter": "python",
   "pygments_lexer": "ipython3",
   "version": "3.8.10"
  }
 },
 "nbformat": 4,
 "nbformat_minor": 5
}
