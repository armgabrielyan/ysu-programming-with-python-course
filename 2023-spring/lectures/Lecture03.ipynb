{
 "cells": [
  {
   "cell_type": "markdown",
   "id": "d6515b7c",
   "metadata": {
    "slideshow": {
     "slide_type": "slide"
    }
   },
   "source": [
    "# Programming with Python\n",
    "\n",
    "## Lecture 03: Expressions, statements and operators\n",
    "\n",
    "### Armen Gabrielyan\n",
    "\n",
    "#### Yerevan State University\n",
    "#### Portmind"
   ]
  },
  {
   "cell_type": "markdown",
   "id": "a574124a",
   "metadata": {
    "slideshow": {
     "slide_type": "slide"
    }
   },
   "source": [
    "# Expressions and statements\n",
    "\n",
    "**Expression** is a combination of identifiers, literals and operators that together result in a value. For example:\n",
    "\n",
    "```python\n",
    "5 + 6\n",
    "4.7 > 3.2\n",
    "\"Hello World!\"\n",
    "[1, 2, 3]\n",
    "```\n",
    "\n",
    "**Statement** is a set of instructions that can be executed. It can be one or multiple lines of Python code. Expressions are statements too. For example:\n",
    "\n",
    "```python\n",
    "print(5 + 6)\n",
    "x = 4.7 > 3.2\n",
    "if x: f()\n",
    "x = \"Hello World!\"\n",
    "```"
   ]
  },
  {
   "cell_type": "markdown",
   "id": "8f09eabc",
   "metadata": {
    "slideshow": {
     "slide_type": "slide"
    }
   },
   "source": [
    "# Arithmetic operators\n",
    "\n",
    "| Operator | Name             | Example | Meaning                                                               |\n",
    "|----------|------------------|---------|-----------------------------------------------------------------------|\n",
    "| +        | Positive         | +x      | Makes x positive                                                      |\n",
    "| -        | Negation         | -x      | Negates x                                                             |\n",
    "| +        | Addition         | x + y   | Sum of x and y                                                        |\n",
    "| -        | Subtraction      | x - y   | Subtracts y from x                                                    |\n",
    "| *        | Multiplication   | x * y   | Multiplies x and y                                                    |\n",
    "| /        | Division         | x / y   | Divides x by y, resulting in a float                                  |\n",
    "| %        | Modulo           | x % y   | Remainder when x is divided by y                                      |\n",
    "| //       | Integer/floor division | x // y  | Quotient when x is divided by y, rounded to the next smallest integer |\n",
    "| **       | Exponentiation   | x ** y  | x is raised to the power of y                                         |"
   ]
  },
  {
   "cell_type": "markdown",
   "id": "0b0abf8b",
   "metadata": {
    "slideshow": {
     "slide_type": "subslide"
    }
   },
   "source": [
    "## Positive"
   ]
  },
  {
   "cell_type": "code",
   "execution_count": null,
   "id": "86f5a78e",
   "metadata": {
    "slideshow": {
     "slide_type": "fragment"
    }
   },
   "outputs": [],
   "source": [
    "# int\n",
    "\n",
    "x = 5\n",
    "y = -5\n",
    "\n",
    "+x, type(+x), +y, type(+y)"
   ]
  },
  {
   "cell_type": "code",
   "execution_count": null,
   "id": "bb12d342",
   "metadata": {
    "slideshow": {
     "slide_type": "fragment"
    }
   },
   "outputs": [],
   "source": [
    "# float\n",
    "\n",
    "x = 5.6\n",
    "y = -5.6\n",
    "\n",
    "+x, type(+x), +y, type(+y)"
   ]
  },
  {
   "cell_type": "code",
   "execution_count": null,
   "id": "e293f434",
   "metadata": {
    "slideshow": {
     "slide_type": "fragment"
    }
   },
   "outputs": [],
   "source": [
    "# complex\n",
    "\n",
    "x = 5.6 + 3j\n",
    "y = -5.6 -3j\n",
    "\n",
    "+x, type(+x), +y, type(+y)"
   ]
  },
  {
   "cell_type": "markdown",
   "id": "79b256db",
   "metadata": {
    "slideshow": {
     "slide_type": "subslide"
    }
   },
   "source": [
    "## Negation"
   ]
  },
  {
   "cell_type": "code",
   "execution_count": null,
   "id": "82519ef5",
   "metadata": {
    "slideshow": {
     "slide_type": "fragment"
    }
   },
   "outputs": [],
   "source": [
    "# int\n",
    "\n",
    "x = 5\n",
    "y = -5\n",
    "\n",
    "-x, type(-x), -y, type(-y)"
   ]
  },
  {
   "cell_type": "code",
   "execution_count": null,
   "id": "6de35353",
   "metadata": {
    "slideshow": {
     "slide_type": "fragment"
    }
   },
   "outputs": [],
   "source": [
    "# float\n",
    "\n",
    "x = 5.6\n",
    "y = -5.6\n",
    "\n",
    "-x, type(-x), -y, type(-y)"
   ]
  },
  {
   "cell_type": "code",
   "execution_count": null,
   "id": "ca44ce32",
   "metadata": {
    "slideshow": {
     "slide_type": "fragment"
    }
   },
   "outputs": [],
   "source": [
    "# complex\n",
    "\n",
    "x = 5.6 + 3j\n",
    "y = -5.6 - 3j\n",
    "\n",
    "-x, type(-x), -y, type(-y)"
   ]
  },
  {
   "cell_type": "markdown",
   "id": "c2370cfb",
   "metadata": {
    "slideshow": {
     "slide_type": "subslide"
    }
   },
   "source": [
    "## Addition"
   ]
  },
  {
   "cell_type": "code",
   "execution_count": null,
   "id": "bfdfb5e3",
   "metadata": {
    "slideshow": {
     "slide_type": "fragment"
    }
   },
   "outputs": [],
   "source": [
    "# int + int -> int\n",
    "\n",
    "x = 5\n",
    "y = 6\n",
    "\n",
    "x + y, type(x + y)"
   ]
  },
  {
   "cell_type": "code",
   "execution_count": null,
   "id": "23b7d10f",
   "metadata": {
    "slideshow": {
     "slide_type": "fragment"
    }
   },
   "outputs": [],
   "source": [
    "# float + float -> float\n",
    "\n",
    "x = 5.6\n",
    "y = 6.82\n",
    "\n",
    "x + y, type(x + y)"
   ]
  },
  {
   "cell_type": "code",
   "execution_count": null,
   "id": "eadd9aeb",
   "metadata": {
    "slideshow": {
     "slide_type": "fragment"
    }
   },
   "outputs": [],
   "source": [
    "# complex + complex -> complex\n",
    "\n",
    "x = 5.6 + 3.2j\n",
    "y = 6.82 - 11j\n",
    "\n",
    "x + y, type(x + y)"
   ]
  },
  {
   "cell_type": "code",
   "execution_count": null,
   "id": "96dc7ceb",
   "metadata": {
    "slideshow": {
     "slide_type": "subslide"
    }
   },
   "outputs": [],
   "source": [
    "# int + float -> float\n",
    "\n",
    "x = 5\n",
    "y = 6.82\n",
    "\n",
    "x + y, type(x + y)"
   ]
  },
  {
   "cell_type": "code",
   "execution_count": null,
   "id": "999d8177",
   "metadata": {
    "slideshow": {
     "slide_type": "fragment"
    }
   },
   "outputs": [],
   "source": [
    "# int + complex -> complex\n",
    "\n",
    "x = 5\n",
    "y = 6.82 - 11j\n",
    "\n",
    "x + y, type(x + y)"
   ]
  },
  {
   "cell_type": "code",
   "execution_count": null,
   "id": "af11a192",
   "metadata": {
    "slideshow": {
     "slide_type": "fragment"
    }
   },
   "outputs": [],
   "source": [
    "# float + complex -> complex\n",
    "\n",
    "x = 5.6\n",
    "y = 6.82 - 11j\n",
    "\n",
    "x + y, type(x + y)"
   ]
  },
  {
   "cell_type": "markdown",
   "id": "50157b74",
   "metadata": {
    "slideshow": {
     "slide_type": "subslide"
    }
   },
   "source": [
    "## Substraction"
   ]
  },
  {
   "cell_type": "code",
   "execution_count": null,
   "id": "1fb7ed36",
   "metadata": {
    "slideshow": {
     "slide_type": "fragment"
    }
   },
   "outputs": [],
   "source": [
    "# int - int -> int\n",
    "\n",
    "x = 5\n",
    "y = 6\n",
    "\n",
    "x - y, type(x - y)"
   ]
  },
  {
   "cell_type": "code",
   "execution_count": null,
   "id": "60f2c224",
   "metadata": {
    "slideshow": {
     "slide_type": "fragment"
    }
   },
   "outputs": [],
   "source": [
    "# float - float -> float\n",
    "\n",
    "x = 5.6\n",
    "y = 6.82\n",
    "\n",
    "x - y, type(x - y)"
   ]
  },
  {
   "cell_type": "code",
   "execution_count": null,
   "id": "ca95d694",
   "metadata": {
    "slideshow": {
     "slide_type": "fragment"
    }
   },
   "outputs": [],
   "source": [
    "# complex - complex -> complex\n",
    "\n",
    "x = 5.6 + 3.2j\n",
    "y = 6.82 - 11j\n",
    "\n",
    "x - y, type(x - y)"
   ]
  },
  {
   "cell_type": "code",
   "execution_count": null,
   "id": "d76350bd",
   "metadata": {
    "slideshow": {
     "slide_type": "subslide"
    }
   },
   "outputs": [],
   "source": [
    "# int - float -> float\n",
    "\n",
    "x = 5\n",
    "y = 6.82\n",
    "\n",
    "x - y, type(x - y)"
   ]
  },
  {
   "cell_type": "code",
   "execution_count": null,
   "id": "4973a9d8",
   "metadata": {
    "slideshow": {
     "slide_type": "fragment"
    }
   },
   "outputs": [],
   "source": [
    "# int - complex -> complex\n",
    "\n",
    "x = 5\n",
    "y = 6.82 - 11j\n",
    "\n",
    "x - y, type(x - y)"
   ]
  },
  {
   "cell_type": "code",
   "execution_count": null,
   "id": "c026bd7a",
   "metadata": {
    "slideshow": {
     "slide_type": "fragment"
    }
   },
   "outputs": [],
   "source": [
    "# float - complex -> complex\n",
    "\n",
    "x = 5.6\n",
    "y = 6.82 - 11j\n",
    "\n",
    "x - y, type(x - y)"
   ]
  },
  {
   "cell_type": "markdown",
   "id": "58ae321d",
   "metadata": {
    "slideshow": {
     "slide_type": "subslide"
    }
   },
   "source": [
    "## Multiplication"
   ]
  },
  {
   "cell_type": "code",
   "execution_count": null,
   "id": "f7949366",
   "metadata": {
    "slideshow": {
     "slide_type": "fragment"
    }
   },
   "outputs": [],
   "source": [
    "# int * int -> int\n",
    "\n",
    "x = 5\n",
    "y = 6\n",
    "\n",
    "x * y, type(x * y)"
   ]
  },
  {
   "cell_type": "code",
   "execution_count": null,
   "id": "c4c64bad",
   "metadata": {
    "slideshow": {
     "slide_type": "fragment"
    }
   },
   "outputs": [],
   "source": [
    "# float * float -> float\n",
    "\n",
    "x = 5.6\n",
    "y = 6.82\n",
    "\n",
    "x * y, type(x * y)"
   ]
  },
  {
   "cell_type": "code",
   "execution_count": null,
   "id": "b67ffeda",
   "metadata": {
    "scrolled": true,
    "slideshow": {
     "slide_type": "subslide"
    }
   },
   "outputs": [],
   "source": [
    "# complex * complex -> complex\n",
    "\n",
    "x = 5.6 + 3.2j\n",
    "y = 6.82 - 11j\n",
    "\n",
    "x * y, type(x * y)"
   ]
  },
  {
   "cell_type": "code",
   "execution_count": null,
   "id": "78a273db",
   "metadata": {
    "slideshow": {
     "slide_type": "fragment"
    }
   },
   "outputs": [],
   "source": [
    "# complex * complex -> complex\n",
    "\n",
    "x = 1 + 11j\n",
    "y = 1 - 11j\n",
    "\n",
    "x * y, type(x * y)"
   ]
  },
  {
   "cell_type": "code",
   "execution_count": null,
   "id": "43ec9401",
   "metadata": {
    "slideshow": {
     "slide_type": "subslide"
    }
   },
   "outputs": [],
   "source": [
    "# int * float -> float\n",
    "\n",
    "x = 5\n",
    "y = 6.82\n",
    "\n",
    "x * y, type(x * y)"
   ]
  },
  {
   "cell_type": "code",
   "execution_count": null,
   "id": "1837aff7",
   "metadata": {
    "slideshow": {
     "slide_type": "fragment"
    }
   },
   "outputs": [],
   "source": [
    "# int * complex -> complex\n",
    "\n",
    "x = 5\n",
    "y = 6.82 - 11j\n",
    "\n",
    "x * y, type(x * y)"
   ]
  },
  {
   "cell_type": "code",
   "execution_count": null,
   "id": "ebd4048d",
   "metadata": {
    "slideshow": {
     "slide_type": "fragment"
    }
   },
   "outputs": [],
   "source": [
    "# float * complex -> complex\n",
    "\n",
    "x = 5.6\n",
    "y = 6.82 - 11j\n",
    "\n",
    "x * y, type(x * y)"
   ]
  },
  {
   "cell_type": "markdown",
   "id": "db2f4d13",
   "metadata": {
    "slideshow": {
     "slide_type": "subslide"
    }
   },
   "source": [
    "## Division"
   ]
  },
  {
   "cell_type": "code",
   "execution_count": null,
   "id": "a46cd13b",
   "metadata": {
    "slideshow": {
     "slide_type": "fragment"
    }
   },
   "outputs": [],
   "source": [
    "# int / int -> float if divisor is n-zero\n",
    "\n",
    "x = 5\n",
    "y = 6\n",
    "\n",
    "x / y, type(x / y)"
   ]
  },
  {
   "cell_type": "code",
   "execution_count": null,
   "id": "5a8af72e",
   "metadata": {
    "scrolled": true,
    "slideshow": {
     "slide_type": "fragment"
    }
   },
   "outputs": [],
   "source": [
    "# int / int -> ZeroDivisionError if divisor is zero\n",
    "\n",
    "x = 5\n",
    "y = 0\n",
    "\n",
    "x / y, type(x / y)"
   ]
  },
  {
   "cell_type": "code",
   "execution_count": null,
   "id": "6cd0cb48",
   "metadata": {
    "slideshow": {
     "slide_type": "subslide"
    }
   },
   "outputs": [],
   "source": [
    "# float / float -> float if divisor is non-zero\n",
    "\n",
    "x = 15.6\n",
    "y = 6.82\n",
    "\n",
    "x / y, type(x / y)"
   ]
  },
  {
   "cell_type": "code",
   "execution_count": null,
   "id": "061b6397",
   "metadata": {
    "slideshow": {
     "slide_type": "fragment"
    }
   },
   "outputs": [],
   "source": [
    "# float / float -> ZeroDivisionError if divisor is zero\n",
    "\n",
    "x = 15.6\n",
    "y = 0.0\n",
    "\n",
    "x / y, type(x / y)"
   ]
  },
  {
   "cell_type": "code",
   "execution_count": null,
   "id": "961dd3dc",
   "metadata": {
    "slideshow": {
     "slide_type": "subslide"
    }
   },
   "outputs": [],
   "source": [
    "# complex / complex -> complex if divisor is non-zero\n",
    "\n",
    "x = 5.6 + 3.2j\n",
    "y = 6.82 - 11j\n",
    "\n",
    "x / y, type(x / y)"
   ]
  },
  {
   "cell_type": "code",
   "execution_count": null,
   "id": "ef1cbb10",
   "metadata": {
    "slideshow": {
     "slide_type": "fragment"
    }
   },
   "outputs": [],
   "source": [
    "# complex / complex -> ZeroDivisionError if divisor is zero\n",
    "\n",
    "x = 5.6 + 3.2j\n",
    "y = 0j\n",
    "\n",
    "x / y, type(x / y)"
   ]
  },
  {
   "cell_type": "code",
   "execution_count": null,
   "id": "5baf7a04",
   "metadata": {
    "slideshow": {
     "slide_type": "subslide"
    }
   },
   "outputs": [],
   "source": [
    "# int / float -> float or ZeroDivisionError\n",
    "\n",
    "x = 25\n",
    "y = 6.82\n",
    "\n",
    "x / y, type(x / y)"
   ]
  },
  {
   "cell_type": "code",
   "execution_count": null,
   "id": "7b921314",
   "metadata": {
    "slideshow": {
     "slide_type": "fragment"
    }
   },
   "outputs": [],
   "source": [
    "# int / complex -> complex or ZeroDivisionError\n",
    "\n",
    "x = 5\n",
    "y = 6.82 - 11j\n",
    "\n",
    "x / y, type(x / y)"
   ]
  },
  {
   "cell_type": "code",
   "execution_count": null,
   "id": "c24ad67d",
   "metadata": {
    "slideshow": {
     "slide_type": "fragment"
    }
   },
   "outputs": [],
   "source": [
    "# float / complex -> complex or ZeroDivisionError\n",
    "\n",
    "x = 5.6\n",
    "y = 6.82 - 11j\n",
    "\n",
    "x / y, type(x / y)"
   ]
  },
  {
   "cell_type": "markdown",
   "id": "277eb6b6",
   "metadata": {
    "slideshow": {
     "slide_type": "subslide"
    }
   },
   "source": [
    "## Modulo"
   ]
  },
  {
   "cell_type": "code",
   "execution_count": null,
   "id": "6b6b88fd",
   "metadata": {
    "slideshow": {
     "slide_type": "fragment"
    }
   },
   "outputs": [],
   "source": [
    "# int % int -> int\n",
    "\n",
    "x = 10\n",
    "y = 6\n",
    "\n",
    "x % y, type(x % y)"
   ]
  },
  {
   "cell_type": "code",
   "execution_count": null,
   "id": "7e454c62",
   "metadata": {
    "slideshow": {
     "slide_type": "fragment"
    }
   },
   "outputs": [],
   "source": [
    "# float % float -> float\n",
    "\n",
    "x = 15.6\n",
    "y = 6.2\n",
    "\n",
    "x % y, type(x % y)"
   ]
  },
  {
   "cell_type": "code",
   "execution_count": null,
   "id": "5a837edb",
   "metadata": {
    "slideshow": {
     "slide_type": "fragment"
    }
   },
   "outputs": [],
   "source": [
    "# float % float -> float\n",
    "\n",
    "x = 15.\n",
    "y = 6.\n",
    "\n",
    "x % y, type(x % y)"
   ]
  },
  {
   "cell_type": "code",
   "execution_count": null,
   "id": "ecb336e3",
   "metadata": {
    "slideshow": {
     "slide_type": "subslide"
    }
   },
   "outputs": [],
   "source": [
    "# complex % complex -> TypeError\n",
    "\n",
    "x = 5.6 + 3.2j\n",
    "y = 6.82 - 11j\n",
    "\n",
    "x % y, type(x % y)"
   ]
  },
  {
   "cell_type": "code",
   "execution_count": null,
   "id": "039f3ec2",
   "metadata": {
    "slideshow": {
     "slide_type": "fragment"
    }
   },
   "outputs": [],
   "source": [
    "# int % float -> float\n",
    "\n",
    "x = 18\n",
    "y = 6.82\n",
    "\n",
    "x % y, type(x % y)"
   ]
  },
  {
   "cell_type": "code",
   "execution_count": null,
   "id": "2dee1687",
   "metadata": {
    "slideshow": {
     "slide_type": "subslide"
    }
   },
   "outputs": [],
   "source": [
    "# int % complex -> TypeError\n",
    "\n",
    "x = 5\n",
    "y = 6.82 - 11j\n",
    "\n",
    "x % y, type(x % y)"
   ]
  },
  {
   "cell_type": "code",
   "execution_count": null,
   "id": "12f49332",
   "metadata": {
    "slideshow": {
     "slide_type": "fragment"
    }
   },
   "outputs": [],
   "source": [
    "# float % complex -> TypeError\n",
    "\n",
    "x = 5.6\n",
    "y = 6.82 - 11j\n",
    "\n",
    "x % y, type(x % y)"
   ]
  },
  {
   "cell_type": "markdown",
   "id": "44537748",
   "metadata": {
    "slideshow": {
     "slide_type": "subslide"
    }
   },
   "source": [
    "## Integer / floor division"
   ]
  },
  {
   "cell_type": "code",
   "execution_count": null,
   "id": "e8db054d",
   "metadata": {
    "slideshow": {
     "slide_type": "fragment"
    }
   },
   "outputs": [],
   "source": [
    "# int // int -> int\n",
    "\n",
    "x = 27\n",
    "y = 6\n",
    "\n",
    "x // y, type(x // y)"
   ]
  },
  {
   "cell_type": "code",
   "execution_count": null,
   "id": "107378a6",
   "metadata": {
    "slideshow": {
     "slide_type": "fragment"
    }
   },
   "outputs": [],
   "source": [
    "# float // float -> float\n",
    "\n",
    "x = 27.6\n",
    "y = 6.82\n",
    "\n",
    "x // y, type(x // y)"
   ]
  },
  {
   "cell_type": "code",
   "execution_count": null,
   "id": "dcaa497a",
   "metadata": {
    "slideshow": {
     "slide_type": "subslide"
    }
   },
   "outputs": [],
   "source": [
    "# complex // complex -> TypeError\n",
    "\n",
    "x = 5.6 + 3.2j\n",
    "y = 6.82 - 11j\n",
    "\n",
    "x // y, type(x // y)"
   ]
  },
  {
   "cell_type": "code",
   "execution_count": null,
   "id": "653dce3b",
   "metadata": {
    "slideshow": {
     "slide_type": "fragment"
    }
   },
   "outputs": [],
   "source": [
    "# int // float -> float\n",
    "\n",
    "x = 25\n",
    "y = 6.82\n",
    "\n",
    "x // y, type(x // y)"
   ]
  },
  {
   "cell_type": "code",
   "execution_count": null,
   "id": "c4946f8f",
   "metadata": {
    "scrolled": false,
    "slideshow": {
     "slide_type": "subslide"
    }
   },
   "outputs": [],
   "source": [
    "# int // complex -> TypeError\n",
    "\n",
    "x = 5\n",
    "y = 6.82 - 11j\n",
    "\n",
    "x // y, type(x // y)"
   ]
  },
  {
   "cell_type": "code",
   "execution_count": null,
   "id": "2edd3122",
   "metadata": {
    "slideshow": {
     "slide_type": "fragment"
    }
   },
   "outputs": [],
   "source": [
    "# float // complex -> TypeError\n",
    "\n",
    "x = 5.6\n",
    "y = 6.82 - 11j\n",
    "\n",
    "x // y, type(x // y)"
   ]
  },
  {
   "cell_type": "markdown",
   "id": "39a1e5e4",
   "metadata": {
    "slideshow": {
     "slide_type": "subslide"
    }
   },
   "source": [
    "## Exponentiation"
   ]
  },
  {
   "cell_type": "code",
   "execution_count": null,
   "id": "df2170c4",
   "metadata": {
    "slideshow": {
     "slide_type": "fragment"
    }
   },
   "outputs": [],
   "source": [
    "# int ** int -> int if exponent is non-negative\n",
    "\n",
    "x = 2\n",
    "y = 10\n",
    "\n",
    "x ** y, type(x ** y)"
   ]
  },
  {
   "cell_type": "code",
   "execution_count": null,
   "id": "a0514ff6",
   "metadata": {
    "slideshow": {
     "slide_type": "fragment"
    }
   },
   "outputs": [],
   "source": [
    "# int ** int -> float if exponent is negative\n",
    "\n",
    "x = 2\n",
    "y = -3\n",
    "\n",
    "x ** y ** 2, type(x ** y)"
   ]
  },
  {
   "cell_type": "code",
   "execution_count": null,
   "id": "25ff7271",
   "metadata": {
    "slideshow": {
     "slide_type": "slide"
    }
   },
   "outputs": [],
   "source": [
    "# int ** int -> complex if base is negative\n",
    "\n",
    "x = -1\n",
    "y = 0.5\n",
    "\n",
    "x ** y, type(x ** y)"
   ]
  },
  {
   "cell_type": "code",
   "execution_count": null,
   "id": "8985ed4c",
   "metadata": {
    "slideshow": {
     "slide_type": "fragment"
    }
   },
   "outputs": [],
   "source": [
    "# int ** int -> ZeroDivisionError if zero (0) is raised to negative power\n",
    "\n",
    "x = 0\n",
    "y = -1\n",
    "\n",
    "x ** y, type(x ** y)"
   ]
  },
  {
   "cell_type": "code",
   "execution_count": null,
   "id": "cc008dc8",
   "metadata": {
    "slideshow": {
     "slide_type": "subslide"
    }
   },
   "outputs": [],
   "source": [
    "# float ** float -> float or complex or ZeroDivisionError\n",
    "\n",
    "x = 5.6\n",
    "y = 6.82\n",
    "\n",
    "x ** y, type(x ** y)"
   ]
  },
  {
   "cell_type": "code",
   "execution_count": null,
   "id": "0a85bc1b",
   "metadata": {
    "slideshow": {
     "slide_type": "fragment"
    }
   },
   "outputs": [],
   "source": [
    "# complex ** complex -> complex or ZeroDivisionError\n",
    "\n",
    "x = 1 + 1j\n",
    "y = 6 - 14j\n",
    "\n",
    "x ** y, type(x ** y)"
   ]
  },
  {
   "cell_type": "code",
   "execution_count": null,
   "id": "b9cc3538",
   "metadata": {
    "slideshow": {
     "slide_type": "subslide"
    }
   },
   "outputs": [],
   "source": [
    "# int ** float -> float or complex or ZeroDivisionError\n",
    "\n",
    "x = 5\n",
    "y = 6.82\n",
    "\n",
    "x ** y, type(x ** y)"
   ]
  },
  {
   "cell_type": "code",
   "execution_count": null,
   "id": "f21a8790",
   "metadata": {
    "slideshow": {
     "slide_type": "fragment"
    }
   },
   "outputs": [],
   "source": [
    "# int ** complex -> complex or ZeroDivisionError\n",
    "\n",
    "x = 5\n",
    "y = 6.82 - 11j\n",
    "\n",
    "x ** y, type(x ** y)"
   ]
  },
  {
   "cell_type": "code",
   "execution_count": null,
   "id": "bf4f4000",
   "metadata": {
    "slideshow": {
     "slide_type": "fragment"
    }
   },
   "outputs": [],
   "source": [
    "# float ** complex -> complex or ZeroDivisionError\n",
    "\n",
    "x = 5.6\n",
    "y = 6.82 - 11j\n",
    "\n",
    "x ** y, type(x ** y)"
   ]
  },
  {
   "cell_type": "markdown",
   "id": "4904a7ab",
   "metadata": {
    "slideshow": {
     "slide_type": "slide"
    }
   },
   "source": [
    "# Truthy and falsy values\n",
    "\n",
    "Any object can be tested for truth value, for use in an `if` or `while` condition or as operand of the Boolean operations below (i.e. `or`, `and`, `not`).\n",
    "\n",
    "If a value evaluates to `True` in a Boolean context, then it is a truthy value. Otherwise, it is a falsy value.\n",
    "\n",
    "Reference: [Python documentation](https://docs.python.org/3/library/stdtypes.html#truth-value-testing)"
   ]
  },
  {
   "cell_type": "markdown",
   "id": "a60c4ffd",
   "metadata": {
    "slideshow": {
     "slide_type": "subslide"
    }
   },
   "source": [
    "## bool() function\n",
    "\n",
    "`bool()` is a built-in function that can be used for truth value testing."
   ]
  },
  {
   "cell_type": "code",
   "execution_count": null,
   "id": "a8ad4f51",
   "metadata": {
    "slideshow": {
     "slide_type": "fragment"
    }
   },
   "outputs": [],
   "source": [
    "x = 42\n",
    "\n",
    "bool(x)"
   ]
  },
  {
   "cell_type": "markdown",
   "id": "59555fba",
   "metadata": {
    "slideshow": {
     "slide_type": "subslide"
    }
   },
   "source": [
    "## Truthy values\n",
    "\n",
    "By default, an object is considered true unless its class defines special methods and changes this behavior.\n",
    "\n",
    "For example:\n",
    "\n",
    "- `True`\n",
    "- Non-zero numeric values\n",
    "- Non-empty sequences or collections\n",
    "\n",
    "Reference: [Python documentation](https://docs.python.org/3/library/stdtypes.html#truth-value-testing)"
   ]
  },
  {
   "cell_type": "code",
   "execution_count": null,
   "id": "535931ab",
   "metadata": {
    "slideshow": {
     "slide_type": "fragment"
    }
   },
   "outputs": [],
   "source": [
    "bool(True)"
   ]
  },
  {
   "cell_type": "code",
   "execution_count": null,
   "id": "5ff4cd11",
   "metadata": {
    "slideshow": {
     "slide_type": "fragment"
    }
   },
   "outputs": [],
   "source": [
    "bool(7)"
   ]
  },
  {
   "cell_type": "code",
   "execution_count": null,
   "id": "2b3106be",
   "metadata": {
    "slideshow": {
     "slide_type": "fragment"
    }
   },
   "outputs": [],
   "source": [
    "bool(\"hello world\")"
   ]
  },
  {
   "cell_type": "markdown",
   "id": "0d7edae0",
   "metadata": {
    "slideshow": {
     "slide_type": "subslide"
    }
   },
   "source": [
    "## Falsy values\n",
    "\n",
    "- Constants\n",
    "    - `False`\n",
    "    - `None`\n",
    "- Zero of any numeric type\n",
    "    - `0`\n",
    "    - `0.0`\n",
    "    - `0j`\n",
    "    - `Decimal(0)`\n",
    "    - `Fraction(0, 1)`\n",
    "\n",
    "- Empty sequences and collections\n",
    "    - `''`\n",
    "    - `()`\n",
    "    - `[]`\n",
    "    - `{}`\n",
    "    - `set()`\n",
    "    - `range(0)`\n",
    "\n",
    "Reference: [Python documentation](https://docs.python.org/3/library/stdtypes.html#truth-value-testing)"
   ]
  },
  {
   "cell_type": "markdown",
   "id": "7dea5d7b",
   "metadata": {
    "slideshow": {
     "slide_type": "subslide"
    }
   },
   "source": [
    "### Constants"
   ]
  },
  {
   "cell_type": "code",
   "execution_count": null,
   "id": "7a691a34",
   "metadata": {
    "slideshow": {
     "slide_type": "fragment"
    }
   },
   "outputs": [],
   "source": [
    "bool(False)"
   ]
  },
  {
   "cell_type": "code",
   "execution_count": null,
   "id": "9a66ce74",
   "metadata": {
    "slideshow": {
     "slide_type": "fragment"
    }
   },
   "outputs": [],
   "source": [
    "bool(None)"
   ]
  },
  {
   "cell_type": "markdown",
   "id": "b4d21b71",
   "metadata": {
    "slideshow": {
     "slide_type": "subslide"
    }
   },
   "source": [
    "### Numeric types"
   ]
  },
  {
   "cell_type": "code",
   "execution_count": null,
   "id": "58621130",
   "metadata": {
    "slideshow": {
     "slide_type": "fragment"
    }
   },
   "outputs": [],
   "source": [
    "bool(0)"
   ]
  },
  {
   "cell_type": "code",
   "execution_count": null,
   "id": "deb6727f",
   "metadata": {
    "slideshow": {
     "slide_type": "fragment"
    }
   },
   "outputs": [],
   "source": [
    "bool(0.0)"
   ]
  },
  {
   "cell_type": "code",
   "execution_count": null,
   "id": "b50f8aaf",
   "metadata": {
    "slideshow": {
     "slide_type": "fragment"
    }
   },
   "outputs": [],
   "source": [
    "bool(0j)"
   ]
  },
  {
   "cell_type": "code",
   "execution_count": null,
   "id": "0291657f",
   "metadata": {
    "slideshow": {
     "slide_type": "fragment"
    }
   },
   "outputs": [],
   "source": [
    "# from decimal import Decimal\n",
    "\n",
    "# bool(Decimal(0))\n",
    "\n",
    "import decimal\n",
    "\n",
    "bool(decimal.Decimal(0))"
   ]
  },
  {
   "cell_type": "code",
   "execution_count": null,
   "id": "b1c2a64b",
   "metadata": {
    "slideshow": {
     "slide_type": "fragment"
    }
   },
   "outputs": [],
   "source": [
    "from fractions import Fraction\n",
    "\n",
    "bool(Fraction(0, 1))"
   ]
  },
  {
   "cell_type": "markdown",
   "id": "de190b6c",
   "metadata": {
    "slideshow": {
     "slide_type": "subslide"
    }
   },
   "source": [
    "### Sequences and collections"
   ]
  },
  {
   "cell_type": "code",
   "execution_count": null,
   "id": "c7de8635",
   "metadata": {
    "slideshow": {
     "slide_type": "fragment"
    }
   },
   "outputs": [],
   "source": [
    "bool('')"
   ]
  },
  {
   "cell_type": "code",
   "execution_count": null,
   "id": "cb38b9ee",
   "metadata": {
    "slideshow": {
     "slide_type": "fragment"
    }
   },
   "outputs": [],
   "source": [
    "bool(())"
   ]
  },
  {
   "cell_type": "code",
   "execution_count": null,
   "id": "7fb4a240",
   "metadata": {
    "slideshow": {
     "slide_type": "fragment"
    }
   },
   "outputs": [],
   "source": [
    "bool([])"
   ]
  },
  {
   "cell_type": "code",
   "execution_count": null,
   "id": "e447377c",
   "metadata": {
    "slideshow": {
     "slide_type": "fragment"
    }
   },
   "outputs": [],
   "source": [
    "bool({})"
   ]
  },
  {
   "cell_type": "code",
   "execution_count": null,
   "id": "e2689cb0",
   "metadata": {
    "slideshow": {
     "slide_type": "fragment"
    }
   },
   "outputs": [],
   "source": [
    "bool(set())"
   ]
  },
  {
   "cell_type": "code",
   "execution_count": null,
   "id": "b1effafe",
   "metadata": {
    "slideshow": {
     "slide_type": "fragment"
    }
   },
   "outputs": [],
   "source": [
    "bool(range(0))"
   ]
  },
  {
   "cell_type": "markdown",
   "id": "c7e96efc",
   "metadata": {
    "slideshow": {
     "slide_type": "slide"
    }
   },
   "source": [
    "# Comparison operators\n",
    "\n",
    "| Operator | Name                  | Example | Meaning                                   |\n",
    "|----------|-----------------------|---------|-------------------------------------------|\n",
    "| ==       | Equal                 | x == y  | Checks if x is equal to y                 |\n",
    "| !=       | Not equal             | x != y  | Checks if x is not equal to y             |\n",
    "| <        | Strictly less than    | x < y   | Checks if x is less than y                |\n",
    "| <=       | Less than or equal    | x <= y  | Checks if x is less than or equal to y    |\n",
    "| >        | Strictly greater than | x > y   | Checks if x is greater than y             |\n",
    "| >=       | Greater than or equal | x >= y  | Checks if x is greater than or equal to y |"
   ]
  },
  {
   "cell_type": "markdown",
   "id": "e8e8a5ef",
   "metadata": {
    "slideshow": {
     "slide_type": "subslide"
    }
   },
   "source": [
    "## Equal"
   ]
  },
  {
   "cell_type": "code",
   "execution_count": null,
   "id": "e2fb8c48",
   "metadata": {
    "slideshow": {
     "slide_type": "fragment"
    }
   },
   "outputs": [],
   "source": [
    "x = 5\n",
    "y = 5\n",
    "\n",
    "x == y, type(x == y)"
   ]
  },
  {
   "cell_type": "code",
   "execution_count": null,
   "id": "ed7fc2dd",
   "metadata": {
    "slideshow": {
     "slide_type": "fragment"
    }
   },
   "outputs": [],
   "source": [
    "x = 5\n",
    "y = 8\n",
    "\n",
    "x == y, type(x == y)"
   ]
  },
  {
   "cell_type": "code",
   "execution_count": null,
   "id": "ef61a3a1",
   "metadata": {
    "slideshow": {
     "slide_type": "fragment"
    }
   },
   "outputs": [],
   "source": [
    "x = \"Batman\"\n",
    "y = 'Batman'\n",
    "\n",
    "x == y, type(x == y)"
   ]
  },
  {
   "cell_type": "code",
   "execution_count": null,
   "id": "c5ec9af8",
   "metadata": {
    "slideshow": {
     "slide_type": "fragment"
    }
   },
   "outputs": [],
   "source": [
    "x = \"Batman\"\n",
    "y = 'Bat man'\n",
    "\n",
    "x == y, type(x == y)"
   ]
  },
  {
   "cell_type": "markdown",
   "id": "766e97c4",
   "metadata": {
    "slideshow": {
     "slide_type": "subslide"
    }
   },
   "source": [
    "### Note on floating-point numbers\n",
    "\n",
    "- Unexpected results happen because of rounding errors in floating-point numbers."
   ]
  },
  {
   "cell_type": "code",
   "execution_count": null,
   "id": "749f4558",
   "metadata": {
    "slideshow": {
     "slide_type": "fragment"
    }
   },
   "outputs": [],
   "source": [
    "1.1 + 2.2"
   ]
  },
  {
   "cell_type": "code",
   "execution_count": null,
   "id": "0ee0c34f",
   "metadata": {
    "slideshow": {
     "slide_type": "fragment"
    }
   },
   "outputs": [],
   "source": [
    "x = 1.1 + 2.2\n",
    "y = 3.3\n",
    "\n",
    "x == y, type(x == y)"
   ]
  },
  {
   "cell_type": "code",
   "execution_count": null,
   "id": "a70daa4f",
   "metadata": {
    "slideshow": {
     "slide_type": "fragment"
    }
   },
   "outputs": [],
   "source": [
    "import math\n",
    "\n",
    "\n",
    "x = 1.1 + 2.2\n",
    "y = 3.3\n",
    "\n",
    "math.isclose(x, y), type(math.isclose(x, y))"
   ]
  },
  {
   "cell_type": "markdown",
   "id": "3d74f940",
   "metadata": {
    "slideshow": {
     "slide_type": "subslide"
    }
   },
   "source": [
    "## Not equal"
   ]
  },
  {
   "cell_type": "code",
   "execution_count": null,
   "id": "8dbe9a6e",
   "metadata": {
    "slideshow": {
     "slide_type": "fragment"
    }
   },
   "outputs": [],
   "source": [
    "x = 5\n",
    "y = 5\n",
    "\n",
    "x != y, type(x != y)"
   ]
  },
  {
   "cell_type": "code",
   "execution_count": null,
   "id": "e745a275",
   "metadata": {
    "slideshow": {
     "slide_type": "fragment"
    }
   },
   "outputs": [],
   "source": [
    "x = 5\n",
    "y = 8\n",
    "\n",
    "x != y, type(x != y)"
   ]
  },
  {
   "cell_type": "code",
   "execution_count": null,
   "id": "ee2ec617",
   "metadata": {
    "slideshow": {
     "slide_type": "fragment"
    }
   },
   "outputs": [],
   "source": [
    "x = \"Batman\"\n",
    "y = 'Batman'\n",
    "\n",
    "x != y, type(x != y)"
   ]
  },
  {
   "cell_type": "code",
   "execution_count": null,
   "id": "367d1cdd",
   "metadata": {
    "slideshow": {
     "slide_type": "fragment"
    }
   },
   "outputs": [],
   "source": [
    "x = \"Batman\"\n",
    "y = 'Bat man'\n",
    "\n",
    "x != y, type(x != y)"
   ]
  },
  {
   "cell_type": "markdown",
   "id": "85d31daa",
   "metadata": {
    "slideshow": {
     "slide_type": "subslide"
    }
   },
   "source": [
    "## Strictly less than"
   ]
  },
  {
   "cell_type": "code",
   "execution_count": null,
   "id": "4abf76d6",
   "metadata": {
    "slideshow": {
     "slide_type": "fragment"
    }
   },
   "outputs": [],
   "source": [
    "x = 15\n",
    "y = 5\n",
    "\n",
    "x < y, type(x < y)"
   ]
  },
  {
   "cell_type": "code",
   "execution_count": null,
   "id": "28d9c12f",
   "metadata": {
    "slideshow": {
     "slide_type": "fragment"
    }
   },
   "outputs": [],
   "source": [
    "x = 5\n",
    "y = 5\n",
    "\n",
    "x < y, type(x < y)"
   ]
  },
  {
   "cell_type": "code",
   "execution_count": null,
   "id": "212bcd8d",
   "metadata": {
    "slideshow": {
     "slide_type": "fragment"
    }
   },
   "outputs": [],
   "source": [
    "x = 5\n",
    "y = 8\n",
    "\n",
    "x < y, type(x < y)"
   ]
  },
  {
   "cell_type": "code",
   "execution_count": null,
   "id": "3ba9e36c",
   "metadata": {
    "slideshow": {
     "slide_type": "fragment"
    }
   },
   "outputs": [],
   "source": [
    "x = 1 + 3j\n",
    "y = 2 - 4j\n",
    "\n",
    "x < y, type(x < y)"
   ]
  },
  {
   "cell_type": "markdown",
   "id": "46a5efd8",
   "metadata": {
    "slideshow": {
     "slide_type": "subslide"
    }
   },
   "source": [
    "## Less than or equal"
   ]
  },
  {
   "cell_type": "code",
   "execution_count": null,
   "id": "d482a442",
   "metadata": {
    "slideshow": {
     "slide_type": "fragment"
    }
   },
   "outputs": [],
   "source": [
    "x = 15\n",
    "y = 5\n",
    "\n",
    "x <= y, type(x <= y)"
   ]
  },
  {
   "cell_type": "code",
   "execution_count": null,
   "id": "fbe64643",
   "metadata": {
    "slideshow": {
     "slide_type": "fragment"
    }
   },
   "outputs": [],
   "source": [
    "x = 5\n",
    "y = 5\n",
    "\n",
    "x <= y, type(x <= y)"
   ]
  },
  {
   "cell_type": "code",
   "execution_count": null,
   "id": "7a9d243d",
   "metadata": {
    "slideshow": {
     "slide_type": "fragment"
    }
   },
   "outputs": [],
   "source": [
    "x = 5\n",
    "y = 8\n",
    "\n",
    "x <= y, type(x <= y)"
   ]
  },
  {
   "cell_type": "code",
   "execution_count": null,
   "id": "1707dfd7",
   "metadata": {
    "slideshow": {
     "slide_type": "fragment"
    }
   },
   "outputs": [],
   "source": [
    "x = 1 + 3j\n",
    "y = 2 - 4j\n",
    "\n",
    "x <= y, type(x <= y)"
   ]
  },
  {
   "cell_type": "markdown",
   "id": "1774fe66",
   "metadata": {
    "slideshow": {
     "slide_type": "subslide"
    }
   },
   "source": [
    "## Strictly greater than"
   ]
  },
  {
   "cell_type": "code",
   "execution_count": null,
   "id": "7acbc399",
   "metadata": {
    "slideshow": {
     "slide_type": "fragment"
    }
   },
   "outputs": [],
   "source": [
    "x = 15\n",
    "y = 5\n",
    "\n",
    "x > y, type(x > y)"
   ]
  },
  {
   "cell_type": "code",
   "execution_count": null,
   "id": "0a2d6ebd",
   "metadata": {
    "slideshow": {
     "slide_type": "fragment"
    }
   },
   "outputs": [],
   "source": [
    "x = 5\n",
    "y = 5\n",
    "\n",
    "x > y, type(x > y)"
   ]
  },
  {
   "cell_type": "code",
   "execution_count": null,
   "id": "ab87057b",
   "metadata": {
    "slideshow": {
     "slide_type": "fragment"
    }
   },
   "outputs": [],
   "source": [
    "x = 5\n",
    "y = 8\n",
    "\n",
    "x > y, type(x > y)"
   ]
  },
  {
   "cell_type": "code",
   "execution_count": null,
   "id": "9b8f9e3e",
   "metadata": {
    "slideshow": {
     "slide_type": "fragment"
    }
   },
   "outputs": [],
   "source": [
    "x = 1 + 3j\n",
    "y = 2 - 4j\n",
    "\n",
    "x > y, type(x > y)"
   ]
  },
  {
   "cell_type": "markdown",
   "id": "104b1283",
   "metadata": {
    "slideshow": {
     "slide_type": "slide"
    }
   },
   "source": [
    "## Greater than or equal"
   ]
  },
  {
   "cell_type": "code",
   "execution_count": null,
   "id": "6464c528",
   "metadata": {
    "slideshow": {
     "slide_type": "fragment"
    }
   },
   "outputs": [],
   "source": [
    "x = 15\n",
    "y = 5\n",
    "\n",
    "x >= y, type(x >= y)"
   ]
  },
  {
   "cell_type": "code",
   "execution_count": null,
   "id": "46ee3701",
   "metadata": {
    "slideshow": {
     "slide_type": "fragment"
    }
   },
   "outputs": [],
   "source": [
    "x = 5\n",
    "y = 5\n",
    "\n",
    "x >= y, type(x >= y)"
   ]
  },
  {
   "cell_type": "code",
   "execution_count": null,
   "id": "dcb61346",
   "metadata": {
    "slideshow": {
     "slide_type": "fragment"
    }
   },
   "outputs": [],
   "source": [
    "x = 5\n",
    "y = 8\n",
    "\n",
    "x >= y, type(x >= y)"
   ]
  },
  {
   "cell_type": "code",
   "execution_count": null,
   "id": "0818fb96",
   "metadata": {
    "scrolled": true,
    "slideshow": {
     "slide_type": "fragment"
    }
   },
   "outputs": [],
   "source": [
    "x = 1 + 3j\n",
    "y = 2 - 4j\n",
    "\n",
    "x >= y, type(x >= y)"
   ]
  }
 ],
 "metadata": {
  "celltoolbar": "Slideshow",
  "kernelspec": {
   "display_name": "Python 3 (ipykernel)",
   "language": "python",
   "name": "python3"
  },
  "language_info": {
   "codemirror_mode": {
    "name": "ipython",
    "version": 3
   },
   "file_extension": ".py",
   "mimetype": "text/x-python",
   "name": "python",
   "nbconvert_exporter": "python",
   "pygments_lexer": "ipython3",
   "version": "3.8.10"
  },
  "vscode": {
   "interpreter": {
    "hash": "916dbcbb3f70747c44a77c7bcd40155683ae19c65e1c03b4aa3499c5328201f1"
   }
  }
 },
 "nbformat": 4,
 "nbformat_minor": 5
}
