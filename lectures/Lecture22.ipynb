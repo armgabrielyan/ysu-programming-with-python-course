{
 "cells": [
  {
   "cell_type": "markdown",
   "id": "74750d32",
   "metadata": {
    "slideshow": {
     "slide_type": "slide"
    }
   },
   "source": [
    "# Programming with Python\n",
    "\n",
    "## Lecture 22: Object-oriented programming\n",
    "\n",
    "### Armen Gabrielyan\n",
    "\n",
    "#### Yerevan State University\n",
    "#### Portmind"
   ]
  },
  {
   "cell_type": "markdown",
   "id": "8c7baf11",
   "metadata": {
    "slideshow": {
     "slide_type": "slide"
    }
   },
   "source": [
    "# Class and instance Attributes\n",
    "\n",
    "- **Class attributes** are properties that have the same value for all class instances. They can be created by defining a variable in class body.\n",
    "- **Instance attributes** are properties that are specific to a given class instance. They can be defined in `__init__()` method."
   ]
  },
  {
   "cell_type": "code",
   "execution_count": null,
   "id": "da178f45",
   "metadata": {
    "slideshow": {
     "slide_type": "fragment"
    }
   },
   "outputs": [],
   "source": [
    "class Person:\n",
    "    species = \"homo sapiens\"\n",
    "    \n",
    "    def __init__(self, name, age):\n",
    "        self.name = name\n",
    "        self.age = age"
   ]
  },
  {
   "cell_type": "code",
   "execution_count": null,
   "id": "dd6ec82d",
   "metadata": {
    "slideshow": {
     "slide_type": "fragment"
    }
   },
   "outputs": [],
   "source": [
    "person1 = Person(\"John Doe\", 42)\n",
    "\n",
    "person1.name, person1.age"
   ]
  },
  {
   "cell_type": "code",
   "execution_count": null,
   "id": "2af26ba9",
   "metadata": {
    "slideshow": {
     "slide_type": "fragment"
    }
   },
   "outputs": [],
   "source": [
    "person2 = Person(\"Alice Smith\", 24)\n",
    "\n",
    "person2.name, person2.age"
   ]
  },
  {
   "cell_type": "code",
   "execution_count": null,
   "id": "97d46ea4",
   "metadata": {
    "slideshow": {
     "slide_type": "fragment"
    }
   },
   "outputs": [],
   "source": [
    "person1.species, person2.species"
   ]
  },
  {
   "cell_type": "markdown",
   "id": "b78f6e91",
   "metadata": {
    "slideshow": {
     "slide_type": "slide"
    }
   },
   "source": [
    "# Equality and identity"
   ]
  },
  {
   "cell_type": "code",
   "execution_count": null,
   "id": "ffe8c838",
   "metadata": {
    "slideshow": {
     "slide_type": "slide"
    }
   },
   "outputs": [],
   "source": [
    "person1 = Person(\"John Doe\", 42)\n",
    "person2 = Person(\"Alice Smith\", 24)"
   ]
  },
  {
   "cell_type": "code",
   "execution_count": null,
   "id": "a795254e",
   "metadata": {
    "slideshow": {
     "slide_type": "fragment"
    }
   },
   "outputs": [],
   "source": [
    "person1 == person2"
   ]
  },
  {
   "cell_type": "code",
   "execution_count": null,
   "id": "ba19b2fd",
   "metadata": {
    "slideshow": {
     "slide_type": "fragment"
    }
   },
   "outputs": [],
   "source": [
    "person1 is person2"
   ]
  },
  {
   "cell_type": "code",
   "execution_count": null,
   "id": "6e16bdf7",
   "metadata": {
    "slideshow": {
     "slide_type": "fragment"
    }
   },
   "outputs": [],
   "source": [
    "person3 = person1\n",
    "\n",
    "person1 is person3"
   ]
  },
  {
   "cell_type": "markdown",
   "id": "5661900b",
   "metadata": {
    "slideshow": {
     "slide_type": "slide"
    }
   },
   "source": [
    "# `isinstance(object, classinfo)` function\n",
    "\n",
    "`isinstance(object, classinfo)` function allows us to check if the `object` argument is an instance of the `classinfo` argument."
   ]
  },
  {
   "cell_type": "code",
   "execution_count": null,
   "id": "38d42120",
   "metadata": {
    "slideshow": {
     "slide_type": "fragment"
    }
   },
   "outputs": [],
   "source": [
    "isinstance(42, int)"
   ]
  },
  {
   "cell_type": "code",
   "execution_count": null,
   "id": "dff4d60e",
   "metadata": {
    "slideshow": {
     "slide_type": "fragment"
    }
   },
   "outputs": [],
   "source": [
    "isinstance(42, float)"
   ]
  },
  {
   "cell_type": "code",
   "execution_count": null,
   "id": "0b907f92",
   "metadata": {
    "slideshow": {
     "slide_type": "fragment"
    }
   },
   "outputs": [],
   "source": [
    "isinstance(\"Hello world!\", str)"
   ]
  },
  {
   "cell_type": "code",
   "execution_count": null,
   "id": "cc113e36",
   "metadata": {
    "slideshow": {
     "slide_type": "fragment"
    }
   },
   "outputs": [],
   "source": [
    "isinstance(\"Hello world!\", list)"
   ]
  },
  {
   "cell_type": "code",
   "execution_count": null,
   "id": "359c3c17",
   "metadata": {
    "slideshow": {
     "slide_type": "fragment"
    }
   },
   "outputs": [],
   "source": [
    "isinstance({\"color\": \"black\"}, dict)"
   ]
  },
  {
   "cell_type": "code",
   "execution_count": null,
   "id": "b5956adb",
   "metadata": {
    "slideshow": {
     "slide_type": "fragment"
    }
   },
   "outputs": [],
   "source": [
    "person = Person(\"John Doe\", 42)\n",
    "\n",
    "isinstance(person, Person)"
   ]
  },
  {
   "cell_type": "markdown",
   "id": "45c7a811",
   "metadata": {
    "slideshow": {
     "slide_type": "slide"
    }
   },
   "source": [
    "# Instance methods\n",
    "\n",
    "**Instance methods** are functions that are defined inside a class and can only be called from a class instance.\n",
    "\n",
    "They describe the behaviors of an object.\n",
    "\n",
    "They are very similar to `__init__()` method by definition."
   ]
  },
  {
   "cell_type": "code",
   "execution_count": null,
   "id": "7d569f33",
   "metadata": {
    "slideshow": {
     "slide_type": "fragment"
    }
   },
   "outputs": [],
   "source": [
    "from datetime import date\n",
    "\n",
    "class Person:\n",
    "    species = \"homo sapiens\"\n",
    "    \n",
    "    \n",
    "    def __init__(self, name, age):\n",
    "        self.name = name\n",
    "        self.age = age\n",
    "        \n",
    "    \n",
    "    def introduce_me(self):\n",
    "        return f\"I am {self.name} and I am {self.age} years old.\"\n",
    "    \n",
    "    \n",
    "    def speak(self, text):\n",
    "        return f\"I am {self.name} and I say {text}\"\n",
    "    \n",
    "    \n",
    "    def calculate_birth_year(self):\n",
    "        return date.today().year - self.age"
   ]
  },
  {
   "cell_type": "code",
   "execution_count": null,
   "id": "79b83fbc",
   "metadata": {
    "slideshow": {
     "slide_type": "subslide"
    }
   },
   "outputs": [],
   "source": [
    "person = Person(\"John Doe\", 42)\n",
    "\n",
    "person.name, person.age"
   ]
  },
  {
   "cell_type": "code",
   "execution_count": null,
   "id": "bb06d778",
   "metadata": {
    "slideshow": {
     "slide_type": "fragment"
    }
   },
   "outputs": [],
   "source": [
    "person.introduce_me()"
   ]
  },
  {
   "cell_type": "code",
   "execution_count": null,
   "id": "9a7ed3d2",
   "metadata": {
    "slideshow": {
     "slide_type": "fragment"
    }
   },
   "outputs": [],
   "source": [
    "person.speak(\"'Hello everyone!'\")"
   ]
  },
  {
   "cell_type": "code",
   "execution_count": null,
   "id": "12f8a1e1",
   "metadata": {
    "slideshow": {
     "slide_type": "fragment"
    }
   },
   "outputs": [],
   "source": [
    "person.calculate_birth_year()"
   ]
  },
  {
   "cell_type": "markdown",
   "id": "7f31ab33",
   "metadata": {
    "slideshow": {
     "slide_type": "slide"
    }
   },
   "source": [
    "# Class methods\n",
    "\n",
    "Built-in `@classmethod` decorator can be used to mark a function a defined inside a class as a **class method**. Instead of accepting instance as a first argument, a class method accepts the class as an implicit first argument, which is usually named `cls`.\n",
    "\n",
    "As class method does not have access to class instance, it cannot modify specific instances. However, it can still mutate class state.\n",
    "\n",
    "Class methods are usually called on classes."
   ]
  },
  {
   "cell_type": "code",
   "execution_count": null,
   "id": "53ef509f",
   "metadata": {
    "slideshow": {
     "slide_type": "subslide"
    }
   },
   "outputs": [],
   "source": [
    "from datetime import date\n",
    "\n",
    "\n",
    "class Person:\n",
    "    species = \"homo sapiens\"\n",
    "    \n",
    "    \n",
    "    def __init__(self, name, age):\n",
    "        self.name = name\n",
    "        self.age = age\n",
    "        \n",
    "    \n",
    "    def introduce_me(self):\n",
    "        return f\"I am {self.name} and I am {self.age} years old.\"\n",
    "    \n",
    "    \n",
    "    def speak(self, text):\n",
    "        return f\"I am {self.name} and I say {text}\"\n",
    "    \n",
    "    \n",
    "    def calculate_birth_year(self):\n",
    "        return date.today().year - self.age\n",
    "\n",
    "\n",
    "    @classmethod\n",
    "    def from_birth_year(cls, name, year):\n",
    "        return cls(name, date.today().year - year)"
   ]
  },
  {
   "cell_type": "code",
   "execution_count": null,
   "id": "576e4abe",
   "metadata": {
    "slideshow": {
     "slide_type": "fragment"
    }
   },
   "outputs": [],
   "source": [
    "person1 = Person(\"John Doe\", 42)\n",
    "\n",
    "person1.name, person1.age"
   ]
  },
  {
   "cell_type": "code",
   "execution_count": null,
   "id": "6a30d41c",
   "metadata": {
    "slideshow": {
     "slide_type": "fragment"
    }
   },
   "outputs": [],
   "source": [
    "person2 = person1.from_birth_year(\"Bob\", 1990)\n",
    "\n",
    "person2.name, person2.age"
   ]
  },
  {
   "cell_type": "code",
   "execution_count": null,
   "id": "6755fd92",
   "metadata": {
    "slideshow": {
     "slide_type": "fragment"
    }
   },
   "outputs": [],
   "source": [
    "person = Person.from_birth_year(\"Bob\", 1990)\n",
    "\n",
    "person.name, person.age"
   ]
  },
  {
   "cell_type": "markdown",
   "id": "40db21f4",
   "metadata": {
    "slideshow": {
     "slide_type": "slide"
    }
   },
   "source": [
    "# Static methods\n",
    "\n",
    "\n",
    "Built-in `@staticmethod` decorator can be used to mark a function a defined inside a class as a **static method**. Static methods neither accept an instance nor the class as an implicit argument.\n",
    "\n",
    "Additionally, a static method can neither modify object state nor class state. A static method can only access to data they receive as an argument. They are usually used to namespace methods in a class scope.\n",
    "\n",
    "Static methods are usually called on classes."
   ]
  },
  {
   "cell_type": "code",
   "execution_count": null,
   "id": "9363096d",
   "metadata": {
    "slideshow": {
     "slide_type": "subslide"
    }
   },
   "outputs": [],
   "source": [
    "from datetime import date\n",
    "\n",
    "\n",
    "class Person:\n",
    "    species = \"homo sapiens\"\n",
    "    \n",
    "    \n",
    "    def __init__(self, name, age):\n",
    "        self.name = name\n",
    "        self.age = age\n",
    "        \n",
    "    \n",
    "    def introduce_me(self):\n",
    "        return f\"I am {self.name} and I am {self.age} years old.\"\n",
    "    \n",
    "    \n",
    "    def speak(self, text):\n",
    "        return f\"I am {self.name} and I say {text}\"\n",
    "    \n",
    "    \n",
    "    def calculate_birth_year(self):\n",
    "        return date.today().year - self.age\n",
    "    \n",
    "    \n",
    "    def vote(self):\n",
    "        if self.is_adult(self.age):\n",
    "            return \"I am voting\"\n",
    "\n",
    "\n",
    "    @classmethod\n",
    "    def from_birth_year(cls, name, year):\n",
    "        return cls(name, date.today().year - year)\n",
    "    \n",
    "    \n",
    "    @staticmethod\n",
    "    def is_adult(age):\n",
    "        return age >= 18"
   ]
  },
  {
   "cell_type": "code",
   "execution_count": null,
   "id": "7a0568f0",
   "metadata": {
    "slideshow": {
     "slide_type": "fragment"
    }
   },
   "outputs": [],
   "source": [
    "person = Person(\"John Doe\", 42)\n",
    "\n",
    "person.vote()"
   ]
  },
  {
   "cell_type": "code",
   "execution_count": null,
   "id": "3871e3b7",
   "metadata": {
    "slideshow": {
     "slide_type": "fragment"
    }
   },
   "outputs": [],
   "source": [
    "person = Person(\"John Doe\", 12)\n",
    "\n",
    "person.vote()"
   ]
  },
  {
   "cell_type": "code",
   "execution_count": null,
   "id": "b1137d3f",
   "metadata": {
    "slideshow": {
     "slide_type": "fragment"
    }
   },
   "outputs": [],
   "source": [
    "Person.is_adult(42)"
   ]
  },
  {
   "cell_type": "code",
   "execution_count": null,
   "id": "13dac9f7",
   "metadata": {
    "slideshow": {
     "slide_type": "fragment"
    }
   },
   "outputs": [],
   "source": [
    "Person.is_adult(12)"
   ]
  },
  {
   "cell_type": "markdown",
   "id": "eb75fca3",
   "metadata": {
    "slideshow": {
     "slide_type": "slide"
    }
   },
   "source": [
    "# Core principles of OOP\n",
    "\n",
    "- **Encapsulation:** refers to the practice of bundling data and methods that operate on that data within a single unit or class, and restricting access to that data from outside the class.\n",
    "- **Inheritance:** allows one class to inherit properties, methods, and behavior from another class.\n",
    "- **Polymorphism:** refers to the ability of objects of different types to be used interchangeably, while still maintaining their own individual behavior."
   ]
  },
  {
   "cell_type": "markdown",
   "id": "8647d565",
   "metadata": {
    "slideshow": {
     "slide_type": "slide"
    }
   },
   "source": [
    "# Encapsulation\n",
    "\n",
    "**Encapsulation** is a fundamental concept in object-oriented programming that refers to the practice of bundling data and methods that operate on that data within a single unit or class, and restricting access to that data from outside the class.\n",
    "\n",
    "In simpler terms, encapsulation means wrapping up the data and methods that work on that data into a single entity, and controlling access to that entity so that it can only be modified or accessed through a well-defined interface. This helps to ensure that the data remains in a consistent state and is not inadvertently modified by code outside the class.\n",
    "\n",
    "In some programming languages, encapsulation is achieved through the use of access modifiers, such as public, private, and protected, which determine the level of access that other code has to the members of a class. However, this is not the case for Python."
   ]
  },
  {
   "cell_type": "markdown",
   "id": "0b607eeb",
   "metadata": {
    "slideshow": {
     "slide_type": "slide"
    }
   },
   "source": [
    "# Public attributes"
   ]
  },
  {
   "cell_type": "code",
   "execution_count": null,
   "id": "1f651ff5",
   "metadata": {
    "slideshow": {
     "slide_type": "fragment"
    }
   },
   "outputs": [],
   "source": [
    "class Employee:\n",
    "    def __init__(self, name, salary):\n",
    "        self.name = name\n",
    "        self.salary = salary\n",
    "        \n",
    "    def pay(self):\n",
    "        print(f\"{self.name}'s salary is {self.salary}\")"
   ]
  },
  {
   "cell_type": "code",
   "execution_count": null,
   "id": "44732dde",
   "metadata": {
    "slideshow": {
     "slide_type": "fragment"
    }
   },
   "outputs": [],
   "source": [
    "employee = Employee(\"John Doe\", 100_000)"
   ]
  },
  {
   "cell_type": "code",
   "execution_count": null,
   "id": "405063ca",
   "metadata": {
    "slideshow": {
     "slide_type": "fragment"
    }
   },
   "outputs": [],
   "source": [
    "employee.name, employee.salary"
   ]
  },
  {
   "cell_type": "code",
   "execution_count": null,
   "id": "a08ae0e0",
   "metadata": {
    "slideshow": {
     "slide_type": "fragment"
    }
   },
   "outputs": [],
   "source": [
    "employee.pay()"
   ]
  },
  {
   "cell_type": "code",
   "execution_count": null,
   "id": "4303ba34",
   "metadata": {
    "slideshow": {
     "slide_type": "subslide"
    }
   },
   "outputs": [],
   "source": [
    "employee.name = \"Alice\"\n",
    "employee.salary = 200_000"
   ]
  },
  {
   "cell_type": "code",
   "execution_count": null,
   "id": "7e04dfb6",
   "metadata": {
    "slideshow": {
     "slide_type": "fragment"
    }
   },
   "outputs": [],
   "source": [
    "employee.pay()"
   ]
  },
  {
   "cell_type": "markdown",
   "id": "caff4320",
   "metadata": {
    "slideshow": {
     "slide_type": "slide"
    }
   },
   "source": [
    "# Private variables via double underscores (name mangling)\n",
    "\n",
    "Since there is a valid use-case for class-private members (namely to avoid name clashes of names with names defined by subclasses), there is limited support for such a mechanism, called name mangling. Any identifier of the form `__spam` (at least two leading underscores, at most one trailing underscore) is textually replaced with `_classname__spam`, where `classname` is the current class name with leading underscore(s) stripped. This mangling is done without regard to the syntactic position of the identifier, as long as it occurs within the definition of a class.\n",
    "\n",
    "Name mangling is intended to give classes an easy way to define “private” instance variables and methods, without having to worry about instance variables defined by derived classes, or mucking with instance variables by code outside the class. Note that the mangling rules are designed mostly to avoid accidents; it still is possible for a determined soul to access or modify a variable that is considered private.\n",
    "\n",
    "Reference: https://docs.python.org/3/tutorial/classes.html#private-variables"
   ]
  },
  {
   "cell_type": "code",
   "execution_count": null,
   "id": "8fe8d3f5",
   "metadata": {
    "slideshow": {
     "slide_type": "slide"
    }
   },
   "outputs": [],
   "source": [
    "class Employee:\n",
    "    def __init__(self, name, salary):\n",
    "        self.__name = name\n",
    "        self.__salary = salary\n",
    "        \n",
    "    def pay(self):\n",
    "        print(f\"{self.__name}'s salary is {self.__salary}\")"
   ]
  },
  {
   "cell_type": "code",
   "execution_count": null,
   "id": "91c4e409",
   "metadata": {
    "slideshow": {
     "slide_type": "fragment"
    }
   },
   "outputs": [],
   "source": [
    "employee = Employee(\"John Doe\", 100_000)"
   ]
  },
  {
   "cell_type": "code",
   "execution_count": null,
   "id": "b3c7c094",
   "metadata": {
    "slideshow": {
     "slide_type": "fragment"
    }
   },
   "outputs": [],
   "source": [
    "employee.pay()"
   ]
  },
  {
   "cell_type": "code",
   "execution_count": null,
   "id": "ee69b2b9",
   "metadata": {
    "slideshow": {
     "slide_type": "fragment"
    }
   },
   "outputs": [],
   "source": [
    "employee.__name"
   ]
  },
  {
   "cell_type": "code",
   "execution_count": null,
   "id": "ed7acb0f",
   "metadata": {
    "slideshow": {
     "slide_type": "fragment"
    }
   },
   "outputs": [],
   "source": [
    "employee.__salary"
   ]
  },
  {
   "cell_type": "code",
   "execution_count": null,
   "id": "3c32f1dc",
   "metadata": {
    "slideshow": {
     "slide_type": "slide"
    }
   },
   "outputs": [],
   "source": [
    "employee.__name = \"Alice\"\n",
    "employee.__salary = 200_000"
   ]
  },
  {
   "cell_type": "code",
   "execution_count": null,
   "id": "ad218ecd",
   "metadata": {
    "slideshow": {
     "slide_type": "fragment"
    }
   },
   "outputs": [],
   "source": [
    "employee.__name, employee.__salary"
   ]
  },
  {
   "cell_type": "code",
   "execution_count": null,
   "id": "6c09c843",
   "metadata": {
    "slideshow": {
     "slide_type": "fragment"
    }
   },
   "outputs": [],
   "source": [
    "employee.pay()"
   ]
  },
  {
   "cell_type": "code",
   "execution_count": null,
   "id": "0aa9669b",
   "metadata": {
    "slideshow": {
     "slide_type": "slide"
    }
   },
   "outputs": [],
   "source": [
    "employee._Employee__name, employee._Employee__salary"
   ]
  },
  {
   "cell_type": "code",
   "execution_count": null,
   "id": "66142272",
   "metadata": {
    "slideshow": {
     "slide_type": "fragment"
    }
   },
   "outputs": [],
   "source": [
    "employee._Employee__name = \"Alice\"\n",
    "employee._Employee__salary = 200_000"
   ]
  },
  {
   "cell_type": "code",
   "execution_count": null,
   "id": "043394ea",
   "metadata": {
    "slideshow": {
     "slide_type": "fragment"
    }
   },
   "outputs": [],
   "source": [
    "employee.pay()"
   ]
  },
  {
   "cell_type": "markdown",
   "id": "4c4fbcd5",
   "metadata": {
    "slideshow": {
     "slide_type": "slide"
    }
   },
   "source": [
    "# `__dict__` property\n",
    "\n",
    "`object.__dict__` is a dictionary or other mapping object used to store an object’s (writable) attributes."
   ]
  },
  {
   "cell_type": "code",
   "execution_count": null,
   "id": "78a3f424",
   "metadata": {
    "slideshow": {
     "slide_type": "fragment"
    }
   },
   "outputs": [],
   "source": [
    "employee.__dict__"
   ]
  },
  {
   "cell_type": "markdown",
   "id": "f6efc288",
   "metadata": {
    "slideshow": {
     "slide_type": "slide"
    }
   },
   "source": [
    "# Private variables via a single underscore (convention)\n",
    "\n",
    "The single underscore prefix has no special meaning to the Python interpreter when used in attribute names, but it’s a very strong convention among Python programmers that you should not access such attributes from outside the class.\n",
    "\n",
    "Attributes with a single `_` prefix are called “protected” in some corners of the Python documentation. The practice of “protecting” attributes by convention with the form `self._x` is widespread, but calling that a “protected” attribute is not so common. Some even call that a “private” attribute.\n",
    "\n",
    "Reference: Fluent Python, Luciano Ramalho"
   ]
  },
  {
   "cell_type": "code",
   "execution_count": null,
   "id": "391543a4",
   "metadata": {
    "slideshow": {
     "slide_type": "slide"
    }
   },
   "outputs": [],
   "source": [
    "class Employee:\n",
    "    def __init__(self, name, salary):\n",
    "        self._name = name\n",
    "        self._salary = salary\n",
    "\n",
    "    def pay(self):\n",
    "        print(f\"{self._name}'s salary is {self._salary}\")"
   ]
  },
  {
   "cell_type": "code",
   "execution_count": null,
   "id": "16eb49ca",
   "metadata": {
    "slideshow": {
     "slide_type": "fragment"
    }
   },
   "outputs": [],
   "source": [
    "employee = Employee(\"John Doe\", 100_000)"
   ]
  },
  {
   "cell_type": "code",
   "execution_count": null,
   "id": "49bb808b",
   "metadata": {
    "slideshow": {
     "slide_type": "fragment"
    }
   },
   "outputs": [],
   "source": [
    "employee.pay()"
   ]
  },
  {
   "cell_type": "code",
   "execution_count": null,
   "id": "bee0e89f",
   "metadata": {
    "slideshow": {
     "slide_type": "fragment"
    }
   },
   "outputs": [],
   "source": [
    "employee.__dict__"
   ]
  },
  {
   "cell_type": "markdown",
   "id": "d98c6ca7",
   "metadata": {
    "slideshow": {
     "slide_type": "slide"
    }
   },
   "source": [
    "### The following should NOT be done"
   ]
  },
  {
   "cell_type": "code",
   "execution_count": null,
   "id": "86b14048",
   "metadata": {
    "slideshow": {
     "slide_type": "fragment"
    }
   },
   "outputs": [],
   "source": [
    "employee._name, employee._salary"
   ]
  },
  {
   "cell_type": "code",
   "execution_count": null,
   "id": "978e10d7",
   "metadata": {
    "slideshow": {
     "slide_type": "fragment"
    }
   },
   "outputs": [],
   "source": [
    "employee._name = \"Alice\"\n",
    "employee._salary = 200_000"
   ]
  },
  {
   "cell_type": "code",
   "execution_count": null,
   "id": "a9d4f23f",
   "metadata": {
    "slideshow": {
     "slide_type": "fragment"
    }
   },
   "outputs": [],
   "source": [
    "employee.pay()"
   ]
  },
  {
   "cell_type": "markdown",
   "id": "afe08e3d",
   "metadata": {
    "slideshow": {
     "slide_type": "slide"
    }
   },
   "source": [
    "# Getters and setters\n",
    "\n",
    "Getters and setters are methods that are used to access and modify the values of private attributes in a class. They are a common technique used in object-oriented programming to implement encapsulation.\n",
    "\n",
    "A getter is a method that is used to retrieve the value of a private attribute. It is usually named with the prefix `get_` followed by the name of the attribute.\n",
    "\n",
    "A setter, on the other hand, is a method that is used to set the value of a private attribute. It is usually named with the prefix `set_` followed by the name of the attribute. "
   ]
  },
  {
   "cell_type": "code",
   "execution_count": null,
   "id": "875c887b",
   "metadata": {
    "slideshow": {
     "slide_type": "subslide"
    }
   },
   "outputs": [],
   "source": [
    "class Employee:\n",
    "    def __init__(self, name, salary):\n",
    "        self._name = name\n",
    "        self._salary = salary\n",
    "\n",
    "    def pay(self):\n",
    "        print(f\"{self._name}'s salary is {self._salary}\")\n",
    "        \n",
    "    def get_name(self):\n",
    "        return self._name\n",
    "    \n",
    "    def set_name(self, name):\n",
    "        self._name = name\n",
    "        \n",
    "    def get_salary(self):\n",
    "        return self._salary\n",
    "    \n",
    "    def set_salary(self, salary):\n",
    "        self._salary = salary"
   ]
  },
  {
   "cell_type": "code",
   "execution_count": null,
   "id": "0d96dcc3",
   "metadata": {
    "slideshow": {
     "slide_type": "subslide"
    }
   },
   "outputs": [],
   "source": [
    "employee = Employee(\"John Doe\", 100_000)"
   ]
  },
  {
   "cell_type": "code",
   "execution_count": null,
   "id": "cc095471",
   "metadata": {
    "slideshow": {
     "slide_type": "fragment"
    }
   },
   "outputs": [],
   "source": [
    "employee.get_name(), employee.get_salary()"
   ]
  },
  {
   "cell_type": "code",
   "execution_count": null,
   "id": "944cc3c1",
   "metadata": {
    "slideshow": {
     "slide_type": "fragment"
    }
   },
   "outputs": [],
   "source": [
    "employee.pay()"
   ]
  },
  {
   "cell_type": "code",
   "execution_count": null,
   "id": "916ab3a8",
   "metadata": {
    "slideshow": {
     "slide_type": "subslide"
    }
   },
   "outputs": [],
   "source": [
    "employee.set_name(\"Alice\")\n",
    "employee.set_salary(200_000)"
   ]
  },
  {
   "cell_type": "code",
   "execution_count": null,
   "id": "c7854184",
   "metadata": {
    "slideshow": {
     "slide_type": "fragment"
    }
   },
   "outputs": [],
   "source": [
    "employee.pay()"
   ]
  },
  {
   "cell_type": "code",
   "execution_count": null,
   "id": "6116d647",
   "metadata": {
    "slideshow": {
     "slide_type": "slide"
    }
   },
   "outputs": [],
   "source": [
    "class Employee:\n",
    "    def __init__(self, name, salary):\n",
    "        self.set_name(name)\n",
    "        self.set_salary(salary)\n",
    "\n",
    "    def pay(self):\n",
    "        print(f\"{self._name}'s salary is {self._salary}\")\n",
    "        \n",
    "    def get_name(self):\n",
    "        return self._name\n",
    "    \n",
    "    def set_name(self, name):\n",
    "        if isinstance(name, str):\n",
    "            self._name = name\n",
    "        else:\n",
    "            print(\"Name attribute should be string\")\n",
    "        \n",
    "    def get_salary(self):\n",
    "        return self._salary\n",
    "    \n",
    "    def set_salary(self, salary):\n",
    "        if isinstance(salary, float) or isinstance(salary, int):\n",
    "            self._salary = salary\n",
    "        else:\n",
    "            print(\"Salary attribute should be number\")"
   ]
  },
  {
   "cell_type": "code",
   "execution_count": null,
   "id": "82b182b8",
   "metadata": {
    "slideshow": {
     "slide_type": "fragment"
    }
   },
   "outputs": [],
   "source": [
    "employee = Employee(\"John Doe\", 100_000)"
   ]
  },
  {
   "cell_type": "code",
   "execution_count": null,
   "id": "852daafd",
   "metadata": {
    "slideshow": {
     "slide_type": "fragment"
    }
   },
   "outputs": [],
   "source": [
    "employee.set_name(42)"
   ]
  },
  {
   "cell_type": "code",
   "execution_count": null,
   "id": "7cd433af",
   "metadata": {
    "slideshow": {
     "slide_type": "fragment"
    }
   },
   "outputs": [],
   "source": [
    "employee.set_salary(\"abc\")"
   ]
  },
  {
   "cell_type": "markdown",
   "id": "6e2b3163",
   "metadata": {
    "slideshow": {
     "slide_type": "slide"
    }
   },
   "source": [
    "# Pythonic way\n",
    "\n",
    "`property(fget=None, fset=None, fdel=None, doc=None)` is a built-in function that can be used to return properties.\n",
    "\n",
    "- `fget` is a function for getting an attribute value.\n",
    "- `fset` is a function for setting an attribute value.\n",
    "- `fdel` is a function for deleting an attribute value.\n",
    "- `doc` creates a docstring for the attribute."
   ]
  },
  {
   "cell_type": "code",
   "execution_count": null,
   "id": "d838786c",
   "metadata": {
    "slideshow": {
     "slide_type": "subslide"
    }
   },
   "outputs": [],
   "source": [
    "class Employee:\n",
    "    def __init__(self, name):\n",
    "        self._name = name\n",
    "\n",
    "    def introduce(self):\n",
    "        print(f\"My name is {self._name}\")\n",
    "        \n",
    "    def get_name(self):\n",
    "        return self._name\n",
    "    \n",
    "    def set_name(self, name):\n",
    "        self._name = name\n",
    "        \n",
    "    def del_name(self):\n",
    "        del self._name\n",
    "        \n",
    "    name = property(get_name, set_name, del_name, \"Name property\")"
   ]
  },
  {
   "cell_type": "code",
   "execution_count": null,
   "id": "065ae098",
   "metadata": {
    "slideshow": {
     "slide_type": "subslide"
    }
   },
   "outputs": [],
   "source": [
    "employee = Employee(\"John Doe\")"
   ]
  },
  {
   "cell_type": "code",
   "execution_count": null,
   "id": "9642bfac",
   "metadata": {
    "slideshow": {
     "slide_type": "fragment"
    }
   },
   "outputs": [],
   "source": [
    "employee.introduce()"
   ]
  },
  {
   "cell_type": "code",
   "execution_count": null,
   "id": "6c8ab62b",
   "metadata": {
    "slideshow": {
     "slide_type": "fragment"
    }
   },
   "outputs": [],
   "source": [
    "employee.__dict__"
   ]
  },
  {
   "cell_type": "code",
   "execution_count": null,
   "id": "5cadaac5",
   "metadata": {
    "slideshow": {
     "slide_type": "fragment"
    }
   },
   "outputs": [],
   "source": [
    "employee.name"
   ]
  },
  {
   "cell_type": "code",
   "execution_count": null,
   "id": "49929df8",
   "metadata": {
    "slideshow": {
     "slide_type": "fragment"
    }
   },
   "outputs": [],
   "source": [
    "employee.name = \"Alice\"\n",
    "employee.name"
   ]
  },
  {
   "cell_type": "code",
   "execution_count": null,
   "id": "ee2f5fbc",
   "metadata": {
    "slideshow": {
     "slide_type": "fragment"
    }
   },
   "outputs": [],
   "source": [
    "employee.introduce()"
   ]
  },
  {
   "cell_type": "code",
   "execution_count": null,
   "id": "8cfdb128",
   "metadata": {
    "slideshow": {
     "slide_type": "fragment"
    }
   },
   "outputs": [],
   "source": [
    "del employee.name"
   ]
  },
  {
   "cell_type": "code",
   "execution_count": null,
   "id": "606ea05d",
   "metadata": {
    "slideshow": {
     "slide_type": "fragment"
    }
   },
   "outputs": [],
   "source": [
    "employee.introduce()"
   ]
  },
  {
   "cell_type": "markdown",
   "id": "1aceb93b",
   "metadata": {
    "slideshow": {
     "slide_type": "slide"
    }
   },
   "source": [
    "# `property()` as a decorator\n",
    "\n",
    "`property()` function can be used as a decorator to create read-only properties."
   ]
  },
  {
   "cell_type": "code",
   "execution_count": null,
   "id": "9bd7196d",
   "metadata": {
    "slideshow": {
     "slide_type": "fragment"
    }
   },
   "outputs": [],
   "source": [
    "class Employee:\n",
    "    def __init__(self, name):\n",
    "        self._name = name\n",
    "\n",
    "    @property\n",
    "    def name(self):\n",
    "        return self._name\n",
    "        \n",
    "    def introduce(self):\n",
    "        print(f\"My name is {self._name}\")"
   ]
  },
  {
   "cell_type": "code",
   "execution_count": null,
   "id": "7fa7a83c",
   "metadata": {
    "slideshow": {
     "slide_type": "fragment"
    }
   },
   "outputs": [],
   "source": [
    "employee = Employee(\"John Doe\")"
   ]
  },
  {
   "cell_type": "code",
   "execution_count": null,
   "id": "bc148d68",
   "metadata": {
    "slideshow": {
     "slide_type": "fragment"
    }
   },
   "outputs": [],
   "source": [
    "employee.name"
   ]
  },
  {
   "cell_type": "code",
   "execution_count": null,
   "id": "e35c6184",
   "metadata": {
    "slideshow": {
     "slide_type": "fragment"
    }
   },
   "outputs": [],
   "source": [
    "employee.name = \"Alice\""
   ]
  },
  {
   "cell_type": "code",
   "execution_count": null,
   "id": "2247591e",
   "metadata": {
    "slideshow": {
     "slide_type": "fragment"
    }
   },
   "outputs": [],
   "source": [
    "del employee.name"
   ]
  },
  {
   "cell_type": "markdown",
   "id": "857a25a1",
   "metadata": {
    "slideshow": {
     "slide_type": "slide"
    }
   },
   "source": [
    "A property object has `getter`, `setter`, and `deleter` methods usable as decorators that create a copy of the property with the corresponding accessor function set to the decorated function."
   ]
  },
  {
   "cell_type": "code",
   "execution_count": null,
   "id": "fa749d32",
   "metadata": {
    "slideshow": {
     "slide_type": "fragment"
    }
   },
   "outputs": [],
   "source": [
    "class Employee:\n",
    "    def __init__(self, name):\n",
    "        self._name = name\n",
    "\n",
    "    @property\n",
    "    def name(self):\n",
    "        return self._name\n",
    "    \n",
    "    @name.setter\n",
    "    def name(self, name):\n",
    "        self._name = name\n",
    "        \n",
    "    @name.deleter\n",
    "    def name(self):\n",
    "        del self._name\n",
    "        \n",
    "    def introduce(self):\n",
    "        print(f\"My name is {self._name}\")"
   ]
  },
  {
   "cell_type": "code",
   "execution_count": null,
   "id": "0063a422",
   "metadata": {
    "slideshow": {
     "slide_type": "fragment"
    }
   },
   "outputs": [],
   "source": [
    "employee = Employee(\"John Doe\")"
   ]
  },
  {
   "cell_type": "code",
   "execution_count": null,
   "id": "8bdf963d",
   "metadata": {
    "slideshow": {
     "slide_type": "fragment"
    }
   },
   "outputs": [],
   "source": [
    "employee.name"
   ]
  },
  {
   "cell_type": "code",
   "execution_count": null,
   "id": "a76ff301",
   "metadata": {
    "slideshow": {
     "slide_type": "fragment"
    }
   },
   "outputs": [],
   "source": [
    "employee.name = \"Alice\"\n",
    "employee.name"
   ]
  },
  {
   "cell_type": "code",
   "execution_count": null,
   "id": "00b0e361",
   "metadata": {
    "slideshow": {
     "slide_type": "fragment"
    }
   },
   "outputs": [],
   "source": [
    "del employee.name"
   ]
  },
  {
   "cell_type": "code",
   "execution_count": null,
   "id": "239960c8",
   "metadata": {
    "slideshow": {
     "slide_type": "fragment"
    }
   },
   "outputs": [],
   "source": [
    "employee.name"
   ]
  },
  {
   "cell_type": "code",
   "execution_count": null,
   "id": "4ffa1c53",
   "metadata": {
    "slideshow": {
     "slide_type": "slide"
    }
   },
   "outputs": [],
   "source": [
    "class Employee:\n",
    "    def __init__(self, name, salary):\n",
    "        self.name = name\n",
    "        self.salary = salary\n",
    "\n",
    "    def pay(self):\n",
    "        print(f\"{self._name}'s salary is {self._salary}\")\n",
    "        \n",
    "    @property\n",
    "    def name(self):\n",
    "        return self._name\n",
    "    \n",
    "    @name.setter\n",
    "    def name(self, name):\n",
    "        if isinstance(name, str):\n",
    "            self._name = name\n",
    "        else:\n",
    "            print(\"Name attribute should be string\")\n",
    "    \n",
    "    @property\n",
    "    def salary(self):\n",
    "        return self._salary\n",
    "    \n",
    "    @salary.setter\n",
    "    def salary(self, salary):\n",
    "        if isinstance(salary, float) or isinstance(salary, int):\n",
    "            self._salary = salary\n",
    "        else:\n",
    "            print(\"Salary attribute should be number\")"
   ]
  },
  {
   "cell_type": "code",
   "execution_count": null,
   "id": "ac57ce20",
   "metadata": {
    "slideshow": {
     "slide_type": "subslide"
    }
   },
   "outputs": [],
   "source": [
    "employee = Employee(\"John Doe\", 100_000)"
   ]
  },
  {
   "cell_type": "code",
   "execution_count": null,
   "id": "efe0c356",
   "metadata": {
    "slideshow": {
     "slide_type": "fragment"
    }
   },
   "outputs": [],
   "source": [
    "employee.name, employee.salary"
   ]
  },
  {
   "cell_type": "code",
   "execution_count": null,
   "id": "b4a43481",
   "metadata": {
    "slideshow": {
     "slide_type": "fragment"
    }
   },
   "outputs": [],
   "source": [
    "employee.pay()"
   ]
  },
  {
   "cell_type": "code",
   "execution_count": null,
   "id": "c3192037",
   "metadata": {
    "slideshow": {
     "slide_type": "fragment"
    }
   },
   "outputs": [],
   "source": [
    "employee.name = \"Alice\"\n",
    "employee.salary = 200_000"
   ]
  },
  {
   "cell_type": "code",
   "execution_count": null,
   "id": "fc06f78a",
   "metadata": {
    "slideshow": {
     "slide_type": "fragment"
    }
   },
   "outputs": [],
   "source": [
    "employee.pay()"
   ]
  },
  {
   "cell_type": "code",
   "execution_count": null,
   "id": "2180f480",
   "metadata": {
    "slideshow": {
     "slide_type": "fragment"
    }
   },
   "outputs": [],
   "source": [
    "employee.name = 42"
   ]
  },
  {
   "cell_type": "code",
   "execution_count": null,
   "id": "029581a7",
   "metadata": {
    "slideshow": {
     "slide_type": "fragment"
    }
   },
   "outputs": [],
   "source": [
    "employee.salary = \"fourty two\""
   ]
  }
 ],
 "metadata": {
  "celltoolbar": "Slideshow",
  "kernelspec": {
   "display_name": "Python 3 (ipykernel)",
   "language": "python",
   "name": "python3"
  },
  "language_info": {
   "codemirror_mode": {
    "name": "ipython",
    "version": 3
   },
   "file_extension": ".py",
   "mimetype": "text/x-python",
   "name": "python",
   "nbconvert_exporter": "python",
   "pygments_lexer": "ipython3",
   "version": "3.8.10"
  }
 },
 "nbformat": 4,
 "nbformat_minor": 5
}
