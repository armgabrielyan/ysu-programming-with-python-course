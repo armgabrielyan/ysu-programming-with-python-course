{
 "cells": [
  {
   "cell_type": "markdown",
   "id": "91a9302f",
   "metadata": {},
   "source": [
    "# Programming with Python\n",
    "\n",
    "## Lecture 14: Web APIs\n",
    "\n",
    "### Armen Gabrielyan\n",
    "\n",
    "#### Yerevan State University / ASDS\n",
    "\n",
    "#### 24 May, 2025"
   ]
  },
  {
   "cell_type": "markdown",
   "id": "5e7c5460",
   "metadata": {},
   "source": [
    "# Web serving\n",
    "\n",
    "## HTTP (HyperText Transfer Protocol)\n",
    "\n",
    "HTTP is the foundation of data communication on the World Wide Web. It's an application layer protocol that enables the transfer of hypermedia documents like HTML.\n",
    "\n",
    "### Request-Response Model\n",
    "- **Client** (usually a browser) sends a request to a server\n",
    "- **Server** processes the request and returns a response\n",
    "\n",
    "### HTTP Methods (Verbs)\n",
    "- **GET**: Retrieve data (most common)\n",
    "- **POST**: Submit data (forms, file uploads)\n",
    "- **PUT**: Update existing resources\n",
    "- **DELETE**: Remove resources\n",
    "- **HEAD**: Get headers only (no body)\n",
    "- **OPTIONS**: Check available methods/options\n",
    "- **PATCH**: Partial resource modification\n",
    "\n",
    "### Status Codes\n",
    "- **1xx**: Informational responses\n",
    "- **2xx**: Success (200 OK is most common)\n",
    "- **3xx**: Redirection\n",
    "- **4xx**: Client errors (404 Not Found, 403 Forbidden)\n",
    "- **5xx**: Server errors\n",
    "\n",
    "### Headers\n",
    "Provide metadata about the request or response:\n",
    "- Content-Type\n",
    "- Authorization\n",
    "- User-Agent\n",
    "- Cache-Control\n",
    "- Cookie\n",
    "\n",
    "\n",
    "### HTTPS\n",
    "HTTP with encryption using TLS/SSL, providing:\n",
    "- Authentication\n",
    "- Data integrity\n",
    "- Confidentiality\n",
    "\n",
    "### Basic HTTP Request Example\n",
    "```\n",
    "GET /index.html HTTP/1.1\n",
    "Host: www.example.com\n",
    "User-Agent: Mozilla/5.0\n",
    "Accept: text/html\n",
    "```\n",
    "\n",
    "### Basic HTTP Response Example\n",
    "```\n",
    "HTTP/1.1 200 OK\n",
    "Date: Sat, 17 May 2025 10:30:45 GMT\n",
    "Content-Type: text/html\n",
    "Content-Length: 1234\n",
    "\n",
    "<!DOCTYPE html>\n",
    "<html>\n",
    "...\n",
    "```\n",
    "\n",
    "## IP (Internet Protocol)\n",
    "\n",
    "**IP** stands for **Internet Protocol**, and an **IP address** is a unique identifier assigned to each device connected to a network — like your computer, phone, or web server.\n",
    "\n",
    "The following are types of IP:\n",
    "\n",
    "### 1. **IPv4** (most common)\n",
    "\n",
    "* Format: `x.x.x.x` (four numbers from 0–255)\n",
    "* Example: `192.168.1.1`\n",
    "* 32-bit address (about 4.3 billion possible addresses)\n",
    "\n",
    "### 2. **IPv6** (newer, supports more devices)\n",
    "\n",
    "* Format: eight groups of hexadecimal numbers\n",
    "* Example: `2001:0db8:85a3:0000:0000:8a2e:0370:7334`\n",
    "* 128-bit address (significantly more space)\n",
    "\n",
    "### IP in Web\n",
    "\n",
    "When you visit a website:\n",
    "\n",
    "1. Your browser looks up the website’s **domain name** (e.g. `google.com`) via **DNS**.\n",
    "2. DNS returns the **server's IP address**.\n",
    "3. Your browser connects to that **IP** to send an HTTP/HTTPS request.\n",
    "\n",
    "\n",
    "## Host\n",
    "\n",
    "A host refers to any device connected to a network that can send or receive data. In web serving:\n",
    "\n",
    "- **Hostname**: A human-readable name that identifies a host on a network (e.g., `www.example.com`)\n",
    "- **IP Address**: The numerical identifier assigned to each device (e.g., `192.168.1.1` or `2001:db8::1`)\n",
    "- **localhost**: Special hostname that refers to the current machine (`127.0.0.1` in IPv4)\n",
    "\n",
    "Hosts can be servers providing services or clients consuming them.\n",
    "\n",
    "## Ports\n",
    "\n",
    "A port is a virtual point where network connections start and end. Ports are identified by numbers (0-65535):\n",
    "\n",
    "- **Well-known ports** (0-1023): Reserved for common services\n",
    "  - HTTP: 80\n",
    "  - HTTPS: 443\n",
    "  - FTP: 21\n",
    "  - SSH: 22\n",
    "  - SMTP: 25\n",
    "\n",
    "When setting up a web server, you configure it to listen on specific host(s) and port(s). For example:\n",
    "\n",
    "- `0.0.0.0:80` means \"listen on port 80 across all network interfaces\"\n",
    "- `localhost:8080` means \"listen only on port 8080 for connections from the local machine\"\n",
    "\n",
    "The combination of host and port creates a socket, which applications use to communicate over networks.\n",
    "\n",
    "## Web servers\n",
    "\n",
    "A web server is software and hardware that accepts requests via HTTP/HTTPS and serves web content to clients (typically browsers). Some well known web servers are Apache HTTP Server and Nginx."
   ]
  },
  {
   "cell_type": "markdown",
   "id": "1fcf00ae",
   "metadata": {},
   "source": [
    "## WSGI\n",
    "\n",
    "**WSGI** stands for [**Web Server Gateway Interface**](https://wsgi.readthedocs.io/en/latest/what.html). It's a specification that defines how web servers communicate with Python web applications. WSGI is a **standard interface** between web server software and Python applications or frameworks, such as Flask or Django.\n",
    "\n",
    "WSGI provides a **common API** so you can plug in any compliant server (like Gunicorn, uWSGI) and any compliant framework.\n",
    "\n",
    "#### It works as follows:\n",
    "\n",
    "1. A **web server** receives a request.\n",
    "2. The server **calls the Python application** using the WSGI interface.\n",
    "3. The application returns a **response**, which the server sends back to the client.\n",
    "\n",
    "#### Popular WSGI servers include:\n",
    "\n",
    "* [**Gunicorn**](https://gunicorn.org/)\n",
    "* [**uWSGI**](https://uwsgi-docs.readthedocs.io/en/latest/)\n",
    "* [**mod\\_wsgi**](https://modwsgi.readthedocs.io/en/master/)\n",
    "\n",
    "#### Popular WSGI frameworks include:\n",
    "\n",
    "* [**Django**](https://www.djangoproject.com/)\n",
    "* [**Flask**](https://flask.palletsprojects.com/en/stable/)\n",
    "\n",
    "### WSGI app example\n",
    "\n",
    "```python\n",
    "# main.py\n",
    "\n",
    "def application(environ, start_response):\n",
    "    status = \"200 OK\"\n",
    "    headers = [(\"Content-type\", \"text/plain; charset=utf-8\")]\n",
    "    start_response(status, headers)\n",
    "    return [b\"Hello, World!\"]\n",
    "```\n",
    "\n",
    "* `environ`: A *dictionary* containing **request data**.\n",
    "* `start_response`: A *function* used to **send HTTP status and headers**.\n",
    "\n",
    "This app can be run using a WSGI server like `gunicorn`:\n",
    "\n",
    "```bash\n",
    "gunicorn main:app\n",
    "```\n",
    "\n",
    "`gunicorn` can be installed as follows:"
   ]
  },
  {
   "cell_type": "code",
   "execution_count": null,
   "id": "277455c2",
   "metadata": {},
   "outputs": [],
   "source": [
    "! pip install gunicorn"
   ]
  },
  {
   "cell_type": "markdown",
   "id": "d5486a41",
   "metadata": {},
   "source": [
    "**See practical example 1.**"
   ]
  },
  {
   "cell_type": "markdown",
   "id": "9e56343c",
   "metadata": {},
   "source": [
    "## ASGI\n",
    "\n",
    "**ASGI** stands for [**Asynchronous Server Gateway Interface**](https://asgi.readthedocs.io/en/latest/). It's a specification that allows Python web applications and frameworks to handle asynchronous, event-driven communication — like WebSockets and long-lived HTTP connections — in addition to standard HTTP.\n",
    "\n",
    "\n",
    "Before ASGI, Python web apps primarily used **WSGI**, which is synchronous and blocks I/O. ASGI is the successor designed to support:\n",
    "\n",
    "* Asynchronous request handling using `async/await`\n",
    "* WebSockets\n",
    "* Background tasks\n",
    "* Long-lived connections (like Server-Sent Events)\n",
    "\n",
    "\n",
    "#### Popular ASGI servers include:\n",
    "\n",
    "* [**Uvicorn**](https://www.uvicorn.org/)\n",
    "* [**Hypercorn**](https://github.com/pgjones/hypercorn)\n",
    "\n",
    "#### Popular ASGI frameworks include:\n",
    "\n",
    "* [**Starlette**](https://www.starlette.io/)\n",
    "* [**FastAPI**](https://fastapi.tiangolo.com/)\n",
    "* [**Falcon**](https://falconframework.org/)\n",
    "* [**Quart**](https://github.com/pallets/quart)\n",
    "\n",
    "### ASGI app example\n",
    "\n",
    "```python\n",
    "async def app(scope, receive, send):\n",
    "    assert scope[\"type\"] == \"http\"\n",
    "\n",
    "    await receive()  # Wait for the request\n",
    "\n",
    "    await send(\n",
    "        {\n",
    "            \"type\": \"http.response.start\",\n",
    "            \"status\": 200,\n",
    "            \"headers\": [[b\"content-type\", b\"text/plain\"]],\n",
    "        }\n",
    "    )\n",
    "\n",
    "    await send(\n",
    "        {\n",
    "            \"type\": \"http.response.body\",\n",
    "            \"body\": b\"Hello, ASGI!\",\n",
    "        }\n",
    "    )\n",
    "\n",
    "```\n",
    "\n",
    "* `scope`: A *dictionary* containing connection metadata (like HTTP method, path, headers, client IP, etc.) — it defines the context of the incoming request or connection.\n",
    "\n",
    "* `receive`: an *async function* your app calls to **receive incoming events**, such as HTTP request bodies or WebSocket messages.\n",
    "\n",
    "* `send`: an *async function* your app uses to **send events/responses** back to the client, such as HTTP response headers and body, or WebSocket messages.\n",
    "\n",
    "This app can be run using a ASGI server like `uvicorn`:\n",
    "\n",
    "```bash\n",
    "uvicorn main:app\n",
    "```\n",
    "\n",
    "`uvicorn` can be installed as follows:"
   ]
  },
  {
   "cell_type": "code",
   "execution_count": null,
   "id": "75fe469d",
   "metadata": {},
   "outputs": [],
   "source": [
    "! pip install uvicorn"
   ]
  },
  {
   "cell_type": "markdown",
   "id": "5c45ecdf",
   "metadata": {},
   "source": [
    "**See practical example 2.**"
   ]
  },
  {
   "cell_type": "markdown",
   "id": "2b9cc3af",
   "metadata": {},
   "source": [
    "## Pydantic\n",
    "\n",
    "[**Pydantic**](https://docs.pydantic.dev/latest/) is a Python library that uses type hints to validate data and parse it into structured objects. It's incredibly useful for APIs, configuration management and data validation."
   ]
  },
  {
   "cell_type": "code",
   "execution_count": null,
   "id": "9257ff49",
   "metadata": {},
   "outputs": [],
   "source": [
    "! pip install pydantic"
   ]
  },
  {
   "cell_type": "markdown",
   "id": "5b81ad90",
   "metadata": {},
   "source": [
    "### Basic usage\n",
    "\n",
    "We can create a Pydantic model by inheriting from `BaseModel` class."
   ]
  },
  {
   "cell_type": "code",
   "execution_count": null,
   "id": "e96f9a75",
   "metadata": {},
   "outputs": [],
   "source": [
    "from pydantic import BaseModel\n",
    "\n",
    "\n",
    "class User(BaseModel):\n",
    "    name: str\n",
    "    age: int\n",
    "    email: str\n",
    "    is_active: bool = True # default value\n",
    "    bio: str | None = None # optional field"
   ]
  },
  {
   "cell_type": "code",
   "execution_count": null,
   "id": "514afe49",
   "metadata": {},
   "outputs": [],
   "source": [
    "user = User(name=\"Alice\", age=30, email=\"alice@example.com\")\n",
    "user"
   ]
  },
  {
   "cell_type": "code",
   "execution_count": null,
   "id": "deecffc0",
   "metadata": {},
   "outputs": [],
   "source": [
    "# convert to a dictionary\n",
    "user.model_dump()"
   ]
  },
  {
   "cell_type": "markdown",
   "id": "7871cfb5",
   "metadata": {},
   "source": [
    "### Automatic validation\n",
    "\n",
    "Pydantic automatically validates data types and raises errors for invalid data."
   ]
  },
  {
   "cell_type": "code",
   "execution_count": null,
   "id": "da4e5ce4",
   "metadata": {},
   "outputs": [],
   "source": [
    "invalid_user = User(name=\"Bob\", age=\"not a number\", email=\"bob@example.com\")"
   ]
  },
  {
   "cell_type": "markdown",
   "id": "885a3432",
   "metadata": {},
   "source": [
    "### Field validation"
   ]
  },
  {
   "cell_type": "code",
   "execution_count": null,
   "id": "2a806852",
   "metadata": {},
   "outputs": [],
   "source": [
    "from pydantic import BaseModel, Field, field_validator\n",
    "\n",
    "\n",
    "class Product(BaseModel):\n",
    "    name: str = Field(..., max_length=100)\n",
    "    price: float = Field(..., gt=0) # greater than 0\n",
    "    quantity: int = Field(default=0, ge=0) # greater than or equal to 0\n",
    "    \n",
    "    @field_validator(\"name\")\n",
    "    def name_must_not_be_empty(cls, value: str) -> str:\n",
    "        if not value.strip():\n",
    "            raise ValueError(\"Name cannot be empty\")\n",
    "        return value.title() # capitalize"
   ]
  },
  {
   "cell_type": "code",
   "execution_count": null,
   "id": "8d54d27e",
   "metadata": {},
   "outputs": [],
   "source": [
    "product = Product(name=\"apple\", price=1.5, quantity=10)\n",
    "product"
   ]
  },
  {
   "cell_type": "code",
   "execution_count": null,
   "id": "f097bf7a",
   "metadata": {},
   "outputs": [],
   "source": [
    "invalid_product = Product(name=\"\", price=1.5, quantity=10)"
   ]
  },
  {
   "cell_type": "markdown",
   "id": "7a46788b",
   "metadata": {},
   "source": [
    "### Nested models"
   ]
  },
  {
   "cell_type": "code",
   "execution_count": null,
   "id": "b805be18",
   "metadata": {},
   "outputs": [],
   "source": [
    "class Address(BaseModel):\n",
    "    street: str\n",
    "    city: str\n",
    "    country: str\n",
    "\n",
    "class Company(BaseModel):\n",
    "    name: str\n",
    "    address: Address\n",
    "    employees: list[User]"
   ]
  },
  {
   "cell_type": "code",
   "execution_count": null,
   "id": "a0dc282f",
   "metadata": {},
   "outputs": [],
   "source": [
    "company = Company(\n",
    "    name=\"Tech Corp\",\n",
    "    address={\n",
    "        \"street\": \"123 Main St\",\n",
    "        \"city\": \"New York\",\n",
    "        \"country\": \"USA\"\n",
    "    },\n",
    "    employees=[\n",
    "        {\"name\": \"Alice\", \"age\": 30, \"email\": \"alice@example.com\"},\n",
    "        {\"name\": \"Bob\", \"age\": 25, \"email\": \"bob@example.com\"}\n",
    "    ]\n",
    ")\n",
    "company"
   ]
  },
  {
   "cell_type": "markdown",
   "id": "7ad83f05",
   "metadata": {},
   "source": [
    "### JSON parsing"
   ]
  },
  {
   "cell_type": "code",
   "execution_count": null,
   "id": "d64dbeef",
   "metadata": {},
   "outputs": [],
   "source": [
    "import json\n",
    "\n",
    "# parse from JSON string\n",
    "json_data = '{\"name\": \"Charlie\", \"age\": 28, \"email\": \"charlie@example.com\"}'\n",
    "user = User.model_validate_json(json_data)\n",
    "user"
   ]
  },
  {
   "cell_type": "code",
   "execution_count": null,
   "id": "0398a3b1",
   "metadata": {},
   "outputs": [],
   "source": [
    "# parse from dictionary\n",
    "data_dict = {\"name\": \"David\", \"age\": 35, \"email\": \"david@example.com\"}\n",
    "user = User.model_validate(data_dict)\n",
    "user"
   ]
  },
  {
   "cell_type": "code",
   "execution_count": null,
   "id": "72b5a9e5",
   "metadata": {},
   "outputs": [],
   "source": [
    "# convert to JSON string\n",
    "user.model_dump_json()"
   ]
  },
  {
   "cell_type": "markdown",
   "id": "fe255c85",
   "metadata": {},
   "source": [
    "## FastAPI\n",
    "\n",
    "[**FastAPI**](https://fastapi.tiangolo.com/) is a modern, high-performance Python web framework for building APIs. It's built on standard Python type hints and provides automatic API documentation, data validation and serialization.\n",
    "\n",
    "### Installation"
   ]
  },
  {
   "cell_type": "code",
   "execution_count": null,
   "id": "fcc210ee",
   "metadata": {},
   "outputs": [],
   "source": [
    "! pip install \"fastapi[standard]\""
   ]
  },
  {
   "cell_type": "markdown",
   "id": "cc4380f0",
   "metadata": {},
   "source": [
    "### Basic application\n",
    "\n",
    "```python\n",
    "# main.py\n",
    "\n",
    "from fastapi import FastAPI\n",
    "\n",
    "app = FastAPI()\n",
    "\n",
    "@app.get(\"/\")\n",
    "def read_root():\n",
    "    return {\"Hello\": \"World\"}\n",
    "\n",
    "@app.get(\"/items/{item_id}\")\n",
    "def read_item(item_id: int, q: str = None):\n",
    "    return {\"item_id\": item_id, \"q\": q}\n",
    "```\n",
    "\n",
    "This app can be run using a ASGI server like `uvicorn`:\n",
    "\n",
    "```bash\n",
    "uvicorn main:app --reload\n",
    "```\n",
    "\n",
    "**See practical example 3.**"
   ]
  },
  {
   "cell_type": "code",
   "execution_count": null,
   "id": "973bacb5",
   "metadata": {},
   "outputs": [],
   "source": []
  }
 ],
 "metadata": {
  "kernelspec": {
   "display_name": "Python 3 (ipykernel)",
   "language": "python",
   "name": "python3"
  },
  "language_info": {
   "codemirror_mode": {
    "name": "ipython",
    "version": 3
   },
   "file_extension": ".py",
   "mimetype": "text/x-python",
   "name": "python",
   "nbconvert_exporter": "python",
   "pygments_lexer": "ipython3",
   "version": "3.13.3"
  }
 },
 "nbformat": 4,
 "nbformat_minor": 5
}
