{
 "cells": [
  {
   "cell_type": "markdown",
   "id": "70e592c3",
   "metadata": {},
   "source": [
    "# Programming with Python\n",
    "\n",
    "## Lecture 06: Type hints, descriptors, metaprogramming\n",
    "\n",
    "### Armen Gabrielyan\n",
    "\n",
    "#### Yerevan State University / ASDS\n",
    "\n",
    "#### 22 Mar, 2025"
   ]
  },
  {
   "cell_type": "markdown",
   "id": "d79b4164",
   "metadata": {},
   "source": [
    "## TypedDict\n",
    "\n",
    "`TypedDict` declares a dictionary type that expects all of its instances to have a certain set of keys, where each key is associated with a value of a consistent type. This expectation is not checked at runtime but is only enforced by type checkers.\n",
    "\n",
    "It’s tempting to use TypedDict to protect against errors while handling dynamic data structures like JSON API responses. But correct handling of JSON must be done at runtime, and not with static type checking. For runtime\n",
    "checking of JSON-like structures using type hints, check out the `pydantic` package.\n",
    "\n",
    "*References:*\n",
    "\n",
    "- [TypedDict](https://docs.python.org/3/library/typing.html#typing.TypedDict)\n",
    "- Fluent Python, Luciano Ramalho"
   ]
  },
  {
   "cell_type": "markdown",
   "id": "71c87919",
   "metadata": {},
   "source": [
    "### Practice\n",
    "\n",
    "Show example 1."
   ]
  },
  {
   "cell_type": "markdown",
   "id": "707314d5",
   "metadata": {},
   "source": [
    "## Type casting\n",
    "\n",
    "`typing.cast` is used to explicitly tell the type checker that an expression should be treated as a specific type. It does not change the actual value at runtime but is useful for static type checking with tools like `mypy`."
   ]
  },
  {
   "cell_type": "markdown",
   "id": "33b381bd",
   "metadata": {},
   "source": [
    "### Practice\n",
    "\n",
    "Show example 2."
   ]
  },
  {
   "cell_type": "markdown",
   "id": "57b03505",
   "metadata": {},
   "source": [
    "# Generic\n",
    "\n",
    "**Generic classes** allow defining reusable classes that can handle multiple types while maintaining type safety. They can be defined by using `typing.Generic` abstract base class for generic types."
   ]
  },
  {
   "cell_type": "markdown",
   "id": "45733133",
   "metadata": {},
   "source": [
    "### Practice\n",
    "\n",
    "Show example 3."
   ]
  },
  {
   "cell_type": "markdown",
   "id": "e871f7dc",
   "metadata": {},
   "source": [
    "## Generic static protocols\n",
    "\n",
    "**Generic static protocols** allow defining interfaces that enforce structure while keeping type flexibility. They are useful when designing generic utilities, factories or contracts.\n",
    "\n",
    "`typing` module includes several generic static protocols, such as `SupportsAbs`, `SupportsInt`, `SupportsFloat`."
   ]
  },
  {
   "cell_type": "markdown",
   "id": "1062e0b4",
   "metadata": {},
   "source": [
    "## `typing.runtime_checkable`\n",
    "\n",
    "The `@runtime_checkable` decorator from `typing` allows protocols to be checked at runtime using `isinstance()` and `issubclass()`. This is useful when working with structural checks similar to abstract base classes."
   ]
  },
  {
   "cell_type": "markdown",
   "id": "3580f4f3",
   "metadata": {},
   "source": [
    "### Practice\n",
    "\n",
    "Show example 4."
   ]
  },
  {
   "cell_type": "markdown",
   "id": "1e81d3fc",
   "metadata": {},
   "source": [
    "## Typing map\n",
    "\n",
    "![Typing map](resources/typing_map.png)"
   ]
  },
  {
   "cell_type": "markdown",
   "id": "98da1cd0",
   "metadata": {},
   "source": [
    "## Descriptors\n",
    "\n",
    "**Descriptors** are Python objects that implement a method of the descriptor protocol that define the behavior of attribute access. They allow you to customize how attributes are retrieved, set, or deleted. Descriptors are a key part of Python’s object model and are used behind the scenes in properties, methods, static methods, class methods and `super()`. Additionally, their use cases include validation, read-only, computed and lazy attributes.\n",
    "\n",
    "The default behavior for attribute access is to get, set, or delete the attribute from an object’s dictionary. For instance, `a.x` has a lookup chain starting with `a.__dict__['x']`, then `type(a).__dict__['x']`, and continuing through the method resolution order of `type(a)`. If the looked-up value is an object defining one of the descriptor methods, then Python may override the default behavior and invoke the descriptor method instead. Where this occurs in the precedence chain depends on which descriptor methods were defined.\n",
    "\n",
    "### Descriptor protocol\n",
    "\n",
    "The definition of the **descriptor protocol** includes the following methods:\n",
    "\n",
    "```python\n",
    "__get__(self, instance, owner=None) -> object\n",
    "__set__(self, instance, value) -> None\n",
    "__delete__(self, instance) -> None\n",
    "__set_name__(self, owner, name)\n",
    "```\n",
    "\n",
    "- `self` is the instance of the descriptor.\n",
    "- `instance` is the instance of the object the descriptor is attached to.\n",
    "- `owner` is the type of the object the descriptor is attached to.\n",
    "\n",
    "Descriptors can be classified into:\n",
    "\n",
    "- **Non-data descriptors:** Only implement `__get__` (e.g. methods).\n",
    "- **Data descriptors:** Implement `__set__` or `__delete__` along with `__get__` (e.g. properties).\n",
    "\n",
    "*References*\n",
    "\n",
    "Throughtout this section the following resources are heavily used:\n",
    "\n",
    "- [Descriptor Guide](https://docs.python.org/3/howto/descriptor.html)"
   ]
  },
  {
   "cell_type": "code",
   "execution_count": null,
   "id": "a96b710e",
   "metadata": {},
   "outputs": [],
   "source": [
    "class SimpleDescriptor:\n",
    "    def __init__(self, name=None):\n",
    "        self.name = name\n",
    "\n",
    "    def __get__(self, instance, owner=None):\n",
    "        print(f\"__get__ called: self={self}, instance={instance}, owner={owner}\")\n",
    "        if instance is None:\n",
    "            return self\n",
    "        return instance.__dict__.get(self.name, None)\n",
    "\n",
    "    def __set__(self, instance, value):\n",
    "        print(f\"__set__ called: self={self}, instance={instance}, value={value}\")\n",
    "        instance.__dict__[self.name] = value\n",
    "\n",
    "    def __delete__(self, instance):\n",
    "        print(f\"__delete__ called: self={self}, instance={instance}\")\n",
    "        del instance.__dict__[self.name]\n",
    "\n",
    "class Point:\n",
    "    x = SimpleDescriptor(\"x\")\n",
    "    y = SimpleDescriptor(\"y\")"
   ]
  },
  {
   "cell_type": "code",
   "execution_count": null,
   "id": "2e93066b",
   "metadata": {},
   "outputs": [],
   "source": [
    "obj = Point()"
   ]
  },
  {
   "cell_type": "code",
   "execution_count": null,
   "id": "c546a796",
   "metadata": {},
   "outputs": [],
   "source": [
    "obj.x = 10 # Triggers __set__"
   ]
  },
  {
   "cell_type": "code",
   "execution_count": null,
   "id": "7a26d50c",
   "metadata": {},
   "outputs": [],
   "source": [
    "obj.x # Triggers __get__"
   ]
  },
  {
   "cell_type": "code",
   "execution_count": null,
   "id": "a3d83e94",
   "metadata": {},
   "outputs": [],
   "source": [
    "del obj.x # Triggers __delete__"
   ]
  },
  {
   "cell_type": "code",
   "execution_count": null,
   "id": "f10b2b42",
   "metadata": {},
   "outputs": [],
   "source": [
    "Point.x # Triggers __get__ with instance set to None"
   ]
  },
  {
   "cell_type": "code",
   "execution_count": null,
   "id": "ac5a49da",
   "metadata": {},
   "outputs": [],
   "source": [
    "z = SimpleDescriptor(\"z\")\n",
    "z"
   ]
  },
  {
   "cell_type": "markdown",
   "id": "33a5fcf9",
   "metadata": {},
   "source": [
    "### Read-only data descriptor\n",
    "\n",
    "A **read-only data descriptor** is a descriptor that allows attribute access but prevents modification. It is commonly used to enforce immutability in class attributes.\n",
    "\n",
    "Read-only data descritor is defined in the following way:\n",
    "\n",
    "- Implements `__get__()` to return a value.\n",
    "- Implements `__set__()` but raises an error to prevent modification.\n",
    "- Optionally, implements `__delete__()` to prevent deletion."
   ]
  },
  {
   "cell_type": "code",
   "execution_count": null,
   "id": "19fa3030",
   "metadata": {},
   "outputs": [],
   "source": [
    "class ReadOnly:\n",
    "    def __init__(self, name=None):\n",
    "        self.name = name\n",
    "\n",
    "    def __get__(self, instance, owner=None):\n",
    "        print(f\"__get__ called: self={self}, instance={instance}, owner={owner}\")\n",
    "        if instance is None:\n",
    "            return self\n",
    "        return instance.__dict__.get(self.name, None) # Return stored value\n",
    "\n",
    "    def __set__(self, instance, value):\n",
    "        raise AttributeError(\"This attribute is read-only\") # Prevent modification\n",
    "\n",
    "    def __delete__(self, instance):\n",
    "        raise AttributeError(\"Cannot delete this attribute\") # Prevent deletion\n",
    "\n",
    "class MyClass:\n",
    "    attr = ReadOnly(\"attr\")  # Read-only attribute"
   ]
  },
  {
   "cell_type": "code",
   "execution_count": null,
   "id": "bd1728ff",
   "metadata": {},
   "outputs": [],
   "source": [
    "obj = MyClass()\n",
    "obj.attr"
   ]
  },
  {
   "cell_type": "code",
   "execution_count": null,
   "id": "e437da38",
   "metadata": {},
   "outputs": [],
   "source": [
    "obj.attr = 100"
   ]
  },
  {
   "cell_type": "code",
   "execution_count": null,
   "id": "34fcbf26",
   "metadata": {},
   "outputs": [],
   "source": [
    "obj.__dict__"
   ]
  },
  {
   "cell_type": "code",
   "execution_count": null,
   "id": "b64a71d4",
   "metadata": {},
   "outputs": [],
   "source": [
    "try:\n",
    "    obj.attr = 100  # Should raise an error\n",
    "except AttributeError as e:\n",
    "    print(e)"
   ]
  },
  {
   "cell_type": "code",
   "execution_count": null,
   "id": "6e89a90a",
   "metadata": {},
   "outputs": [],
   "source": [
    "try:\n",
    "    del obj.attr  # Should raise an error\n",
    "except AttributeError as e:\n",
    "    print(e)"
   ]
  },
  {
   "cell_type": "markdown",
   "id": "203beb6e",
   "metadata": {},
   "source": [
    "### `__dict__` attribute\n",
    "\n",
    "The `__dict__` attribute in Python is a dictionary that stores an object's writable attributes. It is available for instances and classes that allow dynamic attributes."
   ]
  },
  {
   "cell_type": "code",
   "execution_count": null,
   "id": "5f541d61",
   "metadata": {},
   "outputs": [],
   "source": [
    "class Rectangle:\n",
    "    num_of_sides: int = 4\n",
    "    \n",
    "    def __init__(self, width: int, height: int) -> None:\n",
    "        self.width = width\n",
    "        self.height = height"
   ]
  },
  {
   "cell_type": "code",
   "execution_count": null,
   "id": "ba7cfce7",
   "metadata": {},
   "outputs": [],
   "source": [
    "r = Rectangle(1, 2)\n",
    "\n",
    "print(r.__dict__)\n",
    "print(type(r))\n",
    "print(type(r).__dict__) # Same as print(Rectangle.__dict__)"
   ]
  },
  {
   "cell_type": "code",
   "execution_count": null,
   "id": "f6988e99",
   "metadata": {},
   "outputs": [],
   "source": [
    "print(r.width)\n",
    "print(type(r).num_of_sides)"
   ]
  },
  {
   "cell_type": "code",
   "execution_count": null,
   "id": "a59df760",
   "metadata": {
    "scrolled": true
   },
   "outputs": [],
   "source": [
    "# Using __dict__ attribute\n",
    "\n",
    "print(r.__dict__[\"width\"])\n",
    "print(type(r).__dict__[\"num_of_sides\"])"
   ]
  },
  {
   "cell_type": "markdown",
   "id": "50433f68",
   "metadata": {},
   "source": [
    "### Descriptor invocation\n",
    "\n",
    "A descriptor can be called directly with `desc.__get__(obj)` or `desc.__get__(None, cls)`.\n",
    "\n",
    "But it is more common for a descriptor to be invoked automatically from attribute access.\n",
    "\n",
    "Descriptors are invoked by the [`__getattribute__(self, name)`](https://docs.python.org/3/reference/datamodel.html#object.__getattribute__) method, which returns the attribute value or raises an `AttributeError` exception if an attribute is not found.\n",
    "\n",
    "The expression `obj.x` looks up the attribute `x` in the chain of namespaces for `obj`. If the search finds a descriptor outside of the instance `__dict__`, its `__get__()` method is invoked according to the precedence rules listed below.\n",
    "\n",
    "1. **`__getattribute__` method:** First the object's `__getattribute__` method is called, which is responsible for attribute access.\n",
    "2. **Data Descriptors:** If the attribute is found in the class (or its parent classes) and is a data descriptor, the descriptor's `__get__` method is called.\n",
    "3. **Instance Dictionary:** If the attribute is found in the object's `__dict__`, that value is returned.\n",
    "4. **Non-Data Descriptors**: If the attribute is found in the class (or its parent classes) and is a non-data descriptor (implements only `__get__`), the descriptor's `__get__` method is called.\n",
    "5. **Class Dictionary:** If the attribute is found in the class's `__dict__` (or its parent classes), that value is returned.\n",
    "6. **`__getattr__` method:** If the attribute is not found anywhere else and the object has a `__getattr__` method, that method is called.\n",
    "7. **`AttributeError`:** If all the above steps fail, Python raises an `AttributeError`."
   ]
  },
  {
   "cell_type": "code",
   "execution_count": null,
   "id": "98b28da9",
   "metadata": {},
   "outputs": [],
   "source": [
    "class DataDescriptor:\n",
    "    \"\"\"A descriptor that implements both __get__ and __set__\"\"\"\n",
    "    def __init__(self, name):\n",
    "        self.name = name\n",
    "        \n",
    "    def __get__(self, instance, owner=None):\n",
    "        print(f\"2. DataDescriptor.__get__ called for {self.name}\")\n",
    "        return f\"DataDescriptor value for {self.name}\"\n",
    "        \n",
    "    def __set__(self, instance, value):\n",
    "        print(f\"DataDescriptor.__set__ called for {self.name} with value {value}\")\n",
    "\n",
    "class NonDataDescriptor:\n",
    "    \"\"\"A descriptor that implements only __get__\"\"\"\n",
    "    def __init__(self, name):\n",
    "        self.name = name\n",
    "        \n",
    "    def __get__(self, instance, owner=None):\n",
    "        print(f\"4. NonDataDescriptor.__get__ called for {self.name}\")\n",
    "        return f\"NonDataDescriptor value for {self.name}\"\n",
    "    \n",
    "class OverridingNoGetDescriptor:\n",
    "    \"\"\"A descriptor that implements only __set__\"\"\"\n",
    "    def __init__(self, name):\n",
    "        self.name = name\n",
    "        \n",
    "    def __set__(self, instance, value):\n",
    "        print(f\"OverridingNoGetDescriptor.__set__ called for {self.name} with value {value}\")\n",
    "\n",
    "class MyClass:\n",
    "    data_desc_attr = DataDescriptor(\"data_desc\") # Data descriptor\n",
    "    non_data_desc_attr = NonDataDescriptor(\"non_data_desc\") # Non-data descriptor\n",
    "    over_no_get_attr = OverridingNoGetDescriptor(\"overriding_no_get_attr\") # Overriding descriptor with no __get__\n",
    "    class_attr = \"class attribute\" # Regular class attribute\n",
    "    \n",
    "    def __init__(self):\n",
    "        self.instance_attr = \"instance attribute\" # Regular instance attribute\n",
    "        \n",
    "    def __getattr__(self, name):\n",
    "        print(f\"6. __getattr__ called for {name}\")\n",
    "        return f\"__getattr__ value for {name}\"\n",
    "        \n",
    "    def __getattribute__(self, name):\n",
    "        print(f\"1. __getattribute__ called for {name}\")\n",
    "        result = super().__getattribute__(name)\n",
    "        print(f\"__getattribute__ {result=}\")\n",
    "        return result"
   ]
  },
  {
   "cell_type": "markdown",
   "id": "c31f5139",
   "metadata": {},
   "source": [
    "#### Lookup chain for different attributes"
   ]
  },
  {
   "cell_type": "code",
   "execution_count": null,
   "id": "57eae38c",
   "metadata": {},
   "outputs": [],
   "source": [
    "obj = MyClass()\n",
    "\n",
    "print(\"Accessing data descriptor:\")\n",
    "print(obj.data_desc_attr)\n",
    "\n",
    "print(\"\\nAccessing instance attribute:\")\n",
    "print(obj.instance_attr)\n",
    "\n",
    "print(\"\\nAccessing non-data descriptor:\")\n",
    "print(obj.non_data_desc_attr)\n",
    "\n",
    "print(\"\\nAccessing class attribute:\")\n",
    "print(obj.class_attr)\n",
    "\n",
    "print(\"\\nAccessing non-existent attribute:\")\n",
    "print(obj.doesnt_exist_attr)\n",
    "\n",
    "print(\"\\nAccessing overriding with no __get__ descriptor:\")\n",
    "print(obj.over_no_get_attr)"
   ]
  }
 ],
 "metadata": {
  "kernelspec": {
   "display_name": "Python 3 (ipykernel)",
   "language": "python",
   "name": "python3"
  },
  "language_info": {
   "codemirror_mode": {
    "name": "ipython",
    "version": 3
   },
   "file_extension": ".py",
   "mimetype": "text/x-python",
   "name": "python",
   "nbconvert_exporter": "python",
   "pygments_lexer": "ipython3",
   "version": "3.12.9"
  }
 },
 "nbformat": 4,
 "nbformat_minor": 5
}
