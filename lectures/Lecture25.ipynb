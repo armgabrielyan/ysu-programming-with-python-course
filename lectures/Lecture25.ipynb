{
 "cells": [
  {
   "cell_type": "markdown",
   "id": "74750d32",
   "metadata": {
    "slideshow": {
     "slide_type": "slide"
    }
   },
   "source": [
    "# Programming with Python\n",
    "\n",
    "## Lecture 25: OOP - Inheritance\n",
    "\n",
    "### Armen Gabrielyan\n",
    "\n",
    "#### Yerevan State University\n",
    "#### Portmind"
   ]
  },
  {
   "cell_type": "markdown",
   "id": "daaa5b0d",
   "metadata": {
    "slideshow": {
     "slide_type": "slide"
    }
   },
   "source": [
    "# OOP exercises\n",
    "\n",
    "**Exercise 1:** Create a class named `Vehicle` with properties `make`, `model`, `year`, and `color`. Create methods named `start`, `stop`, `accelerate`, and `brake` that perform the corresponding actions on the vehicle. Then, create a class named `Car` that inherits from `Vehicle` and adds properties and methods specific to cars, such as `num_doors` and `num_gears`.\n",
    "\n",
    "**Exercise 2:** Create a class named `BankAccount` with properties `balance` and `interest_rate`. Make the balance property private and create public methods named `deposit`, `withdraw`, and `add_interest` that perform the corresponding actions on the account. Then, create a class named `CheckingAccount` that inherits from `BankAccount` and adds properties and methods specific to checking accounts, such as `overdraft_limit` and `check_overdraft`.\n",
    "\n",
    "**Exercise 3:** Create a class named `Employee` with properties `name`, `salary`, and `department`. Create a method named `give_raise` that increases the employee's salary by a specified amount. Then, create a class named `Executive` that inherits from `Employee` and adds properties and methods specific to executives, such as `stock_options`.\n",
    "\n",
    "**Exercise 4:** Create a class named `Animal` with properties `name` and `species`. Create methods named `eat` and `sleep` that perform the corresponding actions. Then, create a class named `Bird` that inherits from `Animal` and adds properties and methods specific to birds, such as `wing_span` and `fly`.\n",
    "\n",
    "**Exercise 5:** Create a class named `Author` with properties `name` and `email`. Create a class named `Book` with properties `title`, `authors` (which is a list of `Author` objects), `price`, and `quantity`. Implement encapsulation such that the `price` and `quantity` properties are private and can only be accessed through the get and set methods."
   ]
  },
  {
   "cell_type": "code",
   "execution_count": null,
   "id": "7925f5e1",
   "metadata": {
    "slideshow": {
     "slide_type": "slide"
    }
   },
   "outputs": [],
   "source": [
    "class Person:\n",
    "    def __init__(self, name, age):\n",
    "        self._name = name\n",
    "        self._age = age\n",
    "    \n",
    "    @property\n",
    "    def name(self):\n",
    "        return self._name\n",
    "    \n",
    "    @property\n",
    "    def age(self):\n",
    "        return self._age\n",
    "    \n",
    "    def introduce_me(self):\n",
    "        return f\"I am {self._name} and I am {self._age} years old.\""
   ]
  },
  {
   "cell_type": "code",
   "execution_count": null,
   "id": "ba564c23",
   "metadata": {
    "slideshow": {
     "slide_type": "fragment"
    }
   },
   "outputs": [],
   "source": [
    "from statistics import mean\n",
    "\n",
    "class Student(Person):\n",
    "    def __init__(self, name, age, university, subject):\n",
    "        super().__init__(name, age)\n",
    "        self._university = university\n",
    "        self._subject = subject\n",
    "        self._grades = {}\n",
    "    \n",
    "    @property\n",
    "    def university(self):\n",
    "        return self._university\n",
    "    \n",
    "    def introduce_me(self):\n",
    "        intro = super().introduce_me()\n",
    "        return f\"{intro} I am a student from {self._university}.\"\n",
    "    \n",
    "    def learn(self):\n",
    "        return f\"I am learning {self._subject}\"\n",
    "    \n",
    "    def add_grade(self, subject, grade):\n",
    "        self._grades[subject] = grade\n",
    "        \n",
    "    def calculate_gpa(self):\n",
    "        gpa = mean(self._grades.values())\n",
    "        gpa = round(gpa, 2)\n",
    "        return gpa"
   ]
  },
  {
   "cell_type": "code",
   "execution_count": null,
   "id": "c77fdc4d",
   "metadata": {
    "slideshow": {
     "slide_type": "fragment"
    }
   },
   "outputs": [],
   "source": [
    "class YSUStudent(Student):\n",
    "    def __init__(self, name, age, subject):\n",
    "        super().__init__(name, age, \"YSU\", subject)"
   ]
  },
  {
   "cell_type": "markdown",
   "id": "edb4fac1",
   "metadata": {
    "slideshow": {
     "slide_type": "slide"
    }
   },
   "source": [
    "# Common interface"
   ]
  },
  {
   "cell_type": "code",
   "execution_count": null,
   "id": "51683c8c",
   "metadata": {
    "slideshow": {
     "slide_type": "fragment"
    }
   },
   "outputs": [],
   "source": [
    "def introduce(people):\n",
    "    for person in people:\n",
    "        print(person.introduce_me())"
   ]
  },
  {
   "cell_type": "code",
   "execution_count": null,
   "id": "c8ed6f1a",
   "metadata": {
    "slideshow": {
     "slide_type": "fragment"
    }
   },
   "outputs": [],
   "source": [
    "person_1 = Person(\"John Doe\", 42)\n",
    "person_2 = Person(\"Alice Smith\", 20)\n",
    "\n",
    "student_1 = Student(\"Jane Dane\", 21, \"AUA\", \"Computer Science\")\n",
    "student_2 = Student(\"Bob Black\", 20, \"AUA\", \"Business\")\n",
    "\n",
    "ysu_student_1 = YSUStudent(\"Jack Smith\", 18, \"Data Science\")\n",
    "ysu_student_2 = YSUStudent(\"Ann Martin\", 19, \"Mathematics\")"
   ]
  },
  {
   "cell_type": "code",
   "execution_count": null,
   "id": "8df14c97",
   "metadata": {
    "slideshow": {
     "slide_type": "fragment"
    }
   },
   "outputs": [],
   "source": [
    "introduce([person_1, person_2, student_1, student_2, ysu_student_1, ysu_student_2])"
   ]
  },
  {
   "cell_type": "code",
   "execution_count": null,
   "id": "51d297d7",
   "metadata": {
    "slideshow": {
     "slide_type": "slide"
    }
   },
   "outputs": [],
   "source": [
    "class StudentTracking:\n",
    "    def __init__(self):\n",
    "        self._gpas = {}\n",
    "    \n",
    "    def collect_gpas(self, students):\n",
    "        for student in students:\n",
    "            self._gpas[student.name] = student.calculate_gpa()\n",
    "            \n",
    "    def report_gpas(self):\n",
    "        for name, gpa in self._gpas.items():\n",
    "            print(f\"{name} => {gpa}\")"
   ]
  },
  {
   "cell_type": "code",
   "execution_count": null,
   "id": "18512a81",
   "metadata": {
    "slideshow": {
     "slide_type": "fragment"
    }
   },
   "outputs": [],
   "source": [
    "student_1.add_grade(\"Calculus\", 3.4)\n",
    "student_1.add_grade(\"Statistics\", 4)\n",
    "student_1.add_grade(\"Linear algebra\", 3.8)"
   ]
  },
  {
   "cell_type": "code",
   "execution_count": null,
   "id": "81b0c1fe",
   "metadata": {
    "slideshow": {
     "slide_type": "fragment"
    }
   },
   "outputs": [],
   "source": [
    "ysu_student_1.add_grade(\"Math analysis\", 19)\n",
    "ysu_student_1.add_grade(\"Statistics\", 20)\n",
    "ysu_student_1.add_grade(\"Linear algebra\", 19)"
   ]
  },
  {
   "cell_type": "code",
   "execution_count": null,
   "id": "dccd4a94",
   "metadata": {
    "slideshow": {
     "slide_type": "fragment"
    }
   },
   "outputs": [],
   "source": [
    "tracking = StudentTracking()\n",
    "tracking.collect_gpas([student_1, ysu_student_1])\n",
    "tracking.report_gpas()"
   ]
  },
  {
   "cell_type": "markdown",
   "id": "1bfe60ad",
   "metadata": {
    "slideshow": {
     "slide_type": "slide"
    }
   },
   "source": [
    "# `object` superclass\n",
    "\n",
    "`object` is a base for all classes. It has methods that are common to all instances of Python classes.\n",
    "\n",
    "The following two definitions are equivalent\n",
    "\n",
    "```python\n",
    "class ClassName:\n",
    "    ...\n",
    "```\n",
    "\n",
    "```python\n",
    "class ClassName(object):\n",
    "    ...\n",
    "```"
   ]
  },
  {
   "cell_type": "code",
   "execution_count": null,
   "id": "3670b7c3",
   "metadata": {
    "slideshow": {
     "slide_type": "fragment"
    }
   },
   "outputs": [],
   "source": [
    "class A:\n",
    "    pass"
   ]
  },
  {
   "cell_type": "code",
   "execution_count": null,
   "id": "247e1f9f",
   "metadata": {
    "slideshow": {
     "slide_type": "fragment"
    }
   },
   "outputs": [],
   "source": [
    "a = A()\n",
    "dir(a)"
   ]
  },
  {
   "cell_type": "code",
   "execution_count": null,
   "id": "5984ac2f",
   "metadata": {
    "slideshow": {
     "slide_type": "fragment"
    }
   },
   "outputs": [],
   "source": [
    "o = object()\n",
    "dir(o)"
   ]
  },
  {
   "cell_type": "code",
   "execution_count": null,
   "id": "9ff00a4e",
   "metadata": {
    "slideshow": {
     "slide_type": "fragment"
    }
   },
   "outputs": [],
   "source": [
    "class A(object):\n",
    "    pass"
   ]
  },
  {
   "cell_type": "markdown",
   "id": "d3a31af8",
   "metadata": {
    "slideshow": {
     "slide_type": "slide"
    }
   },
   "source": [
    "# `isinstance()` function"
   ]
  },
  {
   "cell_type": "code",
   "execution_count": null,
   "id": "8e1fd003",
   "metadata": {
    "slideshow": {
     "slide_type": "slide"
    }
   },
   "outputs": [],
   "source": [
    "isinstance(o, object)"
   ]
  },
  {
   "cell_type": "code",
   "execution_count": null,
   "id": "0fed74d4",
   "metadata": {
    "slideshow": {
     "slide_type": "fragment"
    }
   },
   "outputs": [],
   "source": [
    "isinstance(a, object)"
   ]
  },
  {
   "cell_type": "code",
   "execution_count": null,
   "id": "1dea6682",
   "metadata": {
    "slideshow": {
     "slide_type": "fragment"
    }
   },
   "outputs": [],
   "source": [
    "isinstance(42, object)"
   ]
  },
  {
   "cell_type": "code",
   "execution_count": null,
   "id": "e3b6c046",
   "metadata": {
    "slideshow": {
     "slide_type": "fragment"
    }
   },
   "outputs": [],
   "source": [
    "isinstance([1, 2, 3], object)"
   ]
  },
  {
   "cell_type": "markdown",
   "id": "0c53d5cc",
   "metadata": {
    "slideshow": {
     "slide_type": "slide"
    }
   },
   "source": [
    "### Using `isinstance()` function on objects of a hierarchical classes"
   ]
  },
  {
   "cell_type": "code",
   "execution_count": null,
   "id": "123c6e8d",
   "metadata": {
    "slideshow": {
     "slide_type": "fragment"
    }
   },
   "outputs": [],
   "source": [
    "isinstance(person, Person)"
   ]
  },
  {
   "cell_type": "code",
   "execution_count": null,
   "id": "08e1eba8",
   "metadata": {
    "slideshow": {
     "slide_type": "fragment"
    }
   },
   "outputs": [],
   "source": [
    "isinstance(student, Person)"
   ]
  },
  {
   "cell_type": "code",
   "execution_count": null,
   "id": "762a336e",
   "metadata": {
    "slideshow": {
     "slide_type": "fragment"
    }
   },
   "outputs": [],
   "source": [
    "isinstance(ysu_student, Person)"
   ]
  },
  {
   "cell_type": "code",
   "execution_count": null,
   "id": "9df8e753",
   "metadata": {
    "slideshow": {
     "slide_type": "fragment"
    }
   },
   "outputs": [],
   "source": [
    "isinstance(ysu_student, Student)"
   ]
  },
  {
   "cell_type": "markdown",
   "id": "a0c256fb",
   "metadata": {
    "slideshow": {
     "slide_type": "slide"
    }
   },
   "source": [
    "# `issubclass(class, classinfo)` function\n",
    "\n",
    "`issubclass(class, classinfo)` function returns `True` if `class` is a subclass (direct, indirect, or virtual) of `classinfo`."
   ]
  },
  {
   "cell_type": "code",
   "execution_count": null,
   "id": "bb5585bb",
   "metadata": {
    "slideshow": {
     "slide_type": "fragment"
    }
   },
   "outputs": [],
   "source": [
    "issubclass(bool, int)"
   ]
  },
  {
   "cell_type": "code",
   "execution_count": null,
   "id": "a6c0aed3",
   "metadata": {
    "slideshow": {
     "slide_type": "fragment"
    }
   },
   "outputs": [],
   "source": [
    "issubclass(int, float)"
   ]
  },
  {
   "cell_type": "code",
   "execution_count": null,
   "id": "9604af05",
   "metadata": {
    "slideshow": {
     "slide_type": "slide"
    }
   },
   "outputs": [],
   "source": [
    "issubclass(Person, object)"
   ]
  },
  {
   "cell_type": "code",
   "execution_count": null,
   "id": "fbddbe1b",
   "metadata": {
    "slideshow": {
     "slide_type": "fragment"
    }
   },
   "outputs": [],
   "source": [
    "issubclass(Person, Person)"
   ]
  },
  {
   "cell_type": "code",
   "execution_count": null,
   "id": "7eed515c",
   "metadata": {
    "slideshow": {
     "slide_type": "fragment"
    }
   },
   "outputs": [],
   "source": [
    "issubclass(Student, Person)"
   ]
  },
  {
   "cell_type": "code",
   "execution_count": null,
   "id": "26aad103",
   "metadata": {
    "slideshow": {
     "slide_type": "fragment"
    }
   },
   "outputs": [],
   "source": [
    "issubclass(YSUStudent, Student)"
   ]
  },
  {
   "cell_type": "markdown",
   "id": "936d0f99",
   "metadata": {
    "slideshow": {
     "slide_type": "fragment"
    }
   },
   "source": [
    "# Multiple inheritance\n",
    "\n",
    "Python supports a form of multiple inheritance.\n",
    "\n",
    "```python\n",
    "class DerivedClassName(Base1, Base2, Base3):\n",
    "    <statement_1>\n",
    "    .\n",
    "    .\n",
    "    .\n",
    "    <statement_N>\n",
    "```"
   ]
  },
  {
   "cell_type": "code",
   "execution_count": 92,
   "id": "a1c07700",
   "metadata": {
    "slideshow": {
     "slide_type": "fragment"
    }
   },
   "outputs": [
    {
     "name": "stdout",
     "output_type": "stream",
     "text": [
      "I am animal\n",
      "I am mammal\n",
      "I am cat\n"
     ]
    }
   ],
   "source": [
    "class Animal:\n",
    "    def speak_as_animal(self):\n",
    "        return \"I am animal\"\n",
    "    \n",
    "class Mammal:\n",
    "    def speak_as_mammal(self):\n",
    "        return \"I am mammal\"\n",
    "    \n",
    "class Cat(Animal, Mammal):\n",
    "    def speak_as_cat(self):\n",
    "        return \"I am cat\"\n",
    "    \n",
    "cat = Cat()\n",
    "print(cat.speak_as_animal())\n",
    "print(cat.speak_as_mammal())\n",
    "print(cat.speak_as_cat())"
   ]
  },
  {
   "cell_type": "markdown",
   "id": "de824f81",
   "metadata": {
    "slideshow": {
     "slide_type": "slide"
    }
   },
   "source": [
    "# Method resolution order (MRO)\n",
    "\n",
    "**Method resolution order (MRO)** is the order in which base classes are searched for a member during lookup. It is used to resolve a method or a property.\n",
    "\n",
    "Class MRO can be accessed by `__mro__` attribute or `mro()` method."
   ]
  },
  {
   "cell_type": "code",
   "execution_count": 101,
   "id": "e16e7827",
   "metadata": {
    "slideshow": {
     "slide_type": "fragment"
    }
   },
   "outputs": [
    {
     "data": {
      "text/plain": [
       "(__main__.Cat, __main__.Animal, __main__.Mammal, object)"
      ]
     },
     "execution_count": 101,
     "metadata": {},
     "output_type": "execute_result"
    }
   ],
   "source": [
    "Cat.__mro__"
   ]
  },
  {
   "cell_type": "code",
   "execution_count": 102,
   "id": "c386c1e0",
   "metadata": {
    "slideshow": {
     "slide_type": "fragment"
    }
   },
   "outputs": [
    {
     "data": {
      "text/plain": [
       "[__main__.Cat, __main__.Animal, __main__.Mammal, object]"
      ]
     },
     "execution_count": 102,
     "metadata": {},
     "output_type": "execute_result"
    }
   ],
   "source": [
    "Cat.mro()"
   ]
  },
  {
   "cell_type": "markdown",
   "id": "041fb586",
   "metadata": {
    "slideshow": {
     "slide_type": "slide"
    }
   },
   "source": [
    "# Mixin class\n",
    "\n",
    "A mixin is a class that provides methods to other classes but is not considered a base class. It does not care about its position in the class hierarchy and usually provides convenience methods."
   ]
  },
  {
   "cell_type": "code",
   "execution_count": 96,
   "id": "64def4bb",
   "metadata": {
    "slideshow": {
     "slide_type": "fragment"
    }
   },
   "outputs": [],
   "source": [
    "class PerimeterMixin:\n",
    "    def calculate_perimeter(self):\n",
    "        perimeter = 0\n",
    "        for side in self.sides:\n",
    "            perimeter += side\n",
    "        return perimeter\n",
    "        \n",
    "\n",
    "class Polygon:\n",
    "    def __init__(self, sides):\n",
    "        self._sides = sides\n",
    "        \n",
    "    @property\n",
    "    def sides(self):\n",
    "        return self._sides\n",
    "    \n",
    "\n",
    "class Rectangle(Polygon, PerimeterMixin):\n",
    "    def __init__(self, width, length):\n",
    "        super().__init__([width, length, width, length])\n",
    "\n",
    "class Triangle(Polygon, PerimeterMixin):\n",
    "    def __init__(self, side_1, side_2, side_3):\n",
    "        super().__init__([side_1, side_2, side_3])"
   ]
  },
  {
   "cell_type": "code",
   "execution_count": 97,
   "id": "f1510470",
   "metadata": {
    "slideshow": {
     "slide_type": "fragment"
    }
   },
   "outputs": [
    {
     "data": {
      "text/plain": [
       "14"
      ]
     },
     "execution_count": 97,
     "metadata": {},
     "output_type": "execute_result"
    }
   ],
   "source": [
    "rectangle = Rectangle(3, 4)\n",
    "rectangle.calculate_perimeter()"
   ]
  },
  {
   "cell_type": "code",
   "execution_count": 98,
   "id": "64186c1e",
   "metadata": {
    "slideshow": {
     "slide_type": "fragment"
    }
   },
   "outputs": [
    {
     "data": {
      "text/plain": [
       "12"
      ]
     },
     "execution_count": 98,
     "metadata": {},
     "output_type": "execute_result"
    }
   ],
   "source": [
    "triangle = Triangle(3, 4, 5)\n",
    "triangle.calculate_perimeter()"
   ]
  }
 ],
 "metadata": {
  "celltoolbar": "Slideshow",
  "kernelspec": {
   "display_name": "Python 3 (ipykernel)",
   "language": "python",
   "name": "python3"
  },
  "language_info": {
   "codemirror_mode": {
    "name": "ipython",
    "version": 3
   },
   "file_extension": ".py",
   "mimetype": "text/x-python",
   "name": "python",
   "nbconvert_exporter": "python",
   "pygments_lexer": "ipython3",
   "version": "3.8.10"
  }
 },
 "nbformat": 4,
 "nbformat_minor": 5
}
