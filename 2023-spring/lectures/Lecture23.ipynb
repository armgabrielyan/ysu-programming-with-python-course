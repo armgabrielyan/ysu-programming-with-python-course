{
 "cells": [
  {
   "cell_type": "markdown",
   "id": "74750d32",
   "metadata": {
    "slideshow": {
     "slide_type": "slide"
    }
   },
   "source": [
    "# Programming with Python\n",
    "\n",
    "## Lecture 23: OOP - Encapsulation\n",
    "\n",
    "### Armen Gabrielyan\n",
    "\n",
    "#### Yerevan State University\n",
    "#### Portmind"
   ]
  },
  {
   "cell_type": "markdown",
   "id": "4721b8a3",
   "metadata": {
    "slideshow": {
     "slide_type": "slide"
    }
   },
   "source": [
    "# Core principles of OOP\n",
    "\n",
    "- **Encapsulation:** refers to the practice of bundling data and methods that operate on that data within a single unit or class, and restricting access to that data from outside the class.\n",
    "- **Inheritance:** allows one class to inherit properties, methods, and behavior from another class.\n",
    "- **Polymorphism:** refers to the ability of objects of different types to be used interchangeably, while still maintaining their own individual behavior."
   ]
  },
  {
   "cell_type": "markdown",
   "id": "b51b2916",
   "metadata": {
    "slideshow": {
     "slide_type": "slide"
    }
   },
   "source": [
    "# Encapsulation\n",
    "\n",
    "**Encapsulation** is a fundamental concept in object-oriented programming that refers to the practice of bundling data and methods that operate on that data within a single unit or class, and restricting access to that data from outside the class.\n",
    "\n",
    "In simpler terms, encapsulation means wrapping up the data and methods that work on that data into a single entity, and controlling access to that entity so that it can only be modified or accessed through a well-defined interface. This helps to ensure that the data remains in a consistent state and is not inadvertently modified by code outside the class.\n",
    "\n",
    "In some programming languages, encapsulation is achieved through the use of access modifiers, such as public, private, and protected, which determine the level of access that other code has to the members of a class. However, this is not the case for Python."
   ]
  },
  {
   "cell_type": "markdown",
   "id": "2fb494df",
   "metadata": {
    "slideshow": {
     "slide_type": "slide"
    }
   },
   "source": [
    "# Public attributes"
   ]
  },
  {
   "cell_type": "code",
   "execution_count": null,
   "id": "5043011b",
   "metadata": {
    "slideshow": {
     "slide_type": "fragment"
    }
   },
   "outputs": [],
   "source": [
    "class Employee:\n",
    "    def __init__(self, name, salary):\n",
    "        self.name = name\n",
    "        self.salary = salary\n",
    "        \n",
    "    def pay(self):\n",
    "        print(f\"{self.name}'s salary is {self.salary}\")"
   ]
  },
  {
   "cell_type": "code",
   "execution_count": null,
   "id": "d55d5040",
   "metadata": {
    "slideshow": {
     "slide_type": "fragment"
    }
   },
   "outputs": [],
   "source": [
    "employee = Employee(\"John Doe\", 100_000)"
   ]
  },
  {
   "cell_type": "code",
   "execution_count": null,
   "id": "67210fb7",
   "metadata": {
    "slideshow": {
     "slide_type": "fragment"
    }
   },
   "outputs": [],
   "source": [
    "employee.name, employee.salary"
   ]
  },
  {
   "cell_type": "code",
   "execution_count": null,
   "id": "3010f5a1",
   "metadata": {
    "slideshow": {
     "slide_type": "fragment"
    }
   },
   "outputs": [],
   "source": [
    "employee.pay()"
   ]
  },
  {
   "cell_type": "code",
   "execution_count": null,
   "id": "4a44b84b",
   "metadata": {
    "slideshow": {
     "slide_type": "subslide"
    }
   },
   "outputs": [],
   "source": [
    "employee.name = \"Alice\"\n",
    "employee.salary = 200_000"
   ]
  },
  {
   "cell_type": "code",
   "execution_count": null,
   "id": "6c9d865f",
   "metadata": {
    "slideshow": {
     "slide_type": "fragment"
    }
   },
   "outputs": [],
   "source": [
    "employee.pay()"
   ]
  },
  {
   "cell_type": "markdown",
   "id": "354160be",
   "metadata": {
    "slideshow": {
     "slide_type": "slide"
    }
   },
   "source": [
    "# Private variables via double underscores (name mangling)\n",
    "\n",
    "Since there is a valid use-case for class-private members (namely to avoid name clashes of names with names defined by subclasses), there is limited support for such a mechanism, called name mangling. Any identifier of the form `__spam` (at least two leading underscores, at most one trailing underscore) is textually replaced with `_classname__spam`, where `classname` is the current class name with leading underscore(s) stripped. This mangling is done without regard to the syntactic position of the identifier, as long as it occurs within the definition of a class.\n",
    "\n",
    "Name mangling is intended to give classes an easy way to define “private” instance variables and methods, without having to worry about instance variables defined by derived classes, or mucking with instance variables by code outside the class. Note that the mangling rules are designed mostly to avoid accidents; it still is possible for a determined soul to access or modify a variable that is considered private.\n",
    "\n",
    "Reference: https://docs.python.org/3/tutorial/classes.html#private-variables"
   ]
  },
  {
   "cell_type": "code",
   "execution_count": null,
   "id": "d6db3217",
   "metadata": {
    "slideshow": {
     "slide_type": "slide"
    }
   },
   "outputs": [],
   "source": [
    "class Employee:\n",
    "    def __init__(self, name, salary):\n",
    "        self.__name = name\n",
    "        self.__salary = salary\n",
    "        \n",
    "    def pay(self):\n",
    "        print(f\"{self.__name}'s salary is {self.__salary}\")"
   ]
  },
  {
   "cell_type": "code",
   "execution_count": null,
   "id": "f2bff06f",
   "metadata": {
    "slideshow": {
     "slide_type": "fragment"
    }
   },
   "outputs": [],
   "source": [
    "employee = Employee(\"John Doe\", 100_000)"
   ]
  },
  {
   "cell_type": "code",
   "execution_count": null,
   "id": "a5d1ef5c",
   "metadata": {
    "slideshow": {
     "slide_type": "fragment"
    }
   },
   "outputs": [],
   "source": [
    "employee.pay()"
   ]
  },
  {
   "cell_type": "code",
   "execution_count": null,
   "id": "d27fd088",
   "metadata": {
    "slideshow": {
     "slide_type": "fragment"
    }
   },
   "outputs": [],
   "source": [
    "employee.__name"
   ]
  },
  {
   "cell_type": "code",
   "execution_count": null,
   "id": "0dcbada8",
   "metadata": {
    "slideshow": {
     "slide_type": "fragment"
    }
   },
   "outputs": [],
   "source": [
    "employee.__salary"
   ]
  },
  {
   "cell_type": "code",
   "execution_count": null,
   "id": "0931001c",
   "metadata": {
    "slideshow": {
     "slide_type": "slide"
    }
   },
   "outputs": [],
   "source": [
    "employee.__name = \"Alice\"\n",
    "employee.__salary = 200_000"
   ]
  },
  {
   "cell_type": "code",
   "execution_count": null,
   "id": "43924e09",
   "metadata": {
    "slideshow": {
     "slide_type": "fragment"
    }
   },
   "outputs": [],
   "source": [
    "employee.__name, employee.__salary"
   ]
  },
  {
   "cell_type": "code",
   "execution_count": null,
   "id": "231c066b",
   "metadata": {
    "slideshow": {
     "slide_type": "fragment"
    }
   },
   "outputs": [],
   "source": [
    "employee.pay()"
   ]
  },
  {
   "cell_type": "code",
   "execution_count": null,
   "id": "5d1c2c0f",
   "metadata": {
    "slideshow": {
     "slide_type": "slide"
    }
   },
   "outputs": [],
   "source": [
    "employee._Employee__name, employee._Employee__salary"
   ]
  },
  {
   "cell_type": "code",
   "execution_count": null,
   "id": "77e323c3",
   "metadata": {
    "slideshow": {
     "slide_type": "fragment"
    }
   },
   "outputs": [],
   "source": [
    "employee._Employee__name = \"Alice\"\n",
    "employee._Employee__salary = 200_000"
   ]
  },
  {
   "cell_type": "code",
   "execution_count": null,
   "id": "7f3a5af4",
   "metadata": {
    "slideshow": {
     "slide_type": "fragment"
    }
   },
   "outputs": [],
   "source": [
    "employee.pay()"
   ]
  },
  {
   "cell_type": "markdown",
   "id": "177fa045",
   "metadata": {
    "slideshow": {
     "slide_type": "slide"
    }
   },
   "source": [
    "# `__dict__` property\n",
    "\n",
    "`object.__dict__` is a dictionary or other mapping object used to store an object’s (writable) attributes."
   ]
  },
  {
   "cell_type": "code",
   "execution_count": null,
   "id": "7d748b8e",
   "metadata": {
    "slideshow": {
     "slide_type": "fragment"
    }
   },
   "outputs": [],
   "source": [
    "employee.__dict__"
   ]
  },
  {
   "cell_type": "markdown",
   "id": "b32631ae",
   "metadata": {
    "slideshow": {
     "slide_type": "slide"
    }
   },
   "source": [
    "# Private variables via a single underscore (convention)\n",
    "\n",
    "The single underscore prefix has no special meaning to the Python interpreter when used in attribute names, but it’s a very strong convention among Python programmers that you should not access such attributes from outside the class.\n",
    "\n",
    "Attributes with a single `_` prefix are called “protected” in some corners of the Python documentation. The practice of “protecting” attributes by convention with the form `self._x` is widespread, but calling that a “protected” attribute is not so common. Some even call that a “private” attribute.\n",
    "\n",
    "Reference: Fluent Python, Luciano Ramalho"
   ]
  },
  {
   "cell_type": "code",
   "execution_count": null,
   "id": "3418dcf1",
   "metadata": {
    "slideshow": {
     "slide_type": "slide"
    }
   },
   "outputs": [],
   "source": [
    "class Employee:\n",
    "    def __init__(self, name, salary):\n",
    "        self._name = name\n",
    "        self._salary = salary\n",
    "\n",
    "    def pay(self):\n",
    "        print(f\"{self._name}'s salary is {self._salary}\")"
   ]
  },
  {
   "cell_type": "code",
   "execution_count": null,
   "id": "35425c0d",
   "metadata": {
    "slideshow": {
     "slide_type": "fragment"
    }
   },
   "outputs": [],
   "source": [
    "employee = Employee(\"John Doe\", 100_000)"
   ]
  },
  {
   "cell_type": "code",
   "execution_count": null,
   "id": "fae351fa",
   "metadata": {
    "slideshow": {
     "slide_type": "fragment"
    }
   },
   "outputs": [],
   "source": [
    "employee.pay()"
   ]
  },
  {
   "cell_type": "code",
   "execution_count": null,
   "id": "82cbbc94",
   "metadata": {
    "slideshow": {
     "slide_type": "fragment"
    }
   },
   "outputs": [],
   "source": [
    "employee.__dict__"
   ]
  },
  {
   "cell_type": "markdown",
   "id": "c722f4e5",
   "metadata": {
    "slideshow": {
     "slide_type": "slide"
    }
   },
   "source": [
    "### The following should NOT be done"
   ]
  },
  {
   "cell_type": "code",
   "execution_count": null,
   "id": "2569fbf7",
   "metadata": {
    "slideshow": {
     "slide_type": "fragment"
    }
   },
   "outputs": [],
   "source": [
    "employee._name, employee._salary"
   ]
  },
  {
   "cell_type": "code",
   "execution_count": null,
   "id": "e463478d",
   "metadata": {
    "slideshow": {
     "slide_type": "fragment"
    }
   },
   "outputs": [],
   "source": [
    "employee._name = \"Alice\"\n",
    "employee._salary = 200_000"
   ]
  },
  {
   "cell_type": "code",
   "execution_count": null,
   "id": "e7107767",
   "metadata": {
    "slideshow": {
     "slide_type": "fragment"
    }
   },
   "outputs": [],
   "source": [
    "employee.pay()"
   ]
  },
  {
   "cell_type": "markdown",
   "id": "e1eeacc8",
   "metadata": {
    "slideshow": {
     "slide_type": "slide"
    }
   },
   "source": [
    "# Getters and setters\n",
    "\n",
    "Getters and setters are methods that are used to access and modify the values of private attributes in a class. They are a common technique used in object-oriented programming to implement encapsulation.\n",
    "\n",
    "A getter is a method that is used to retrieve the value of a private attribute. It is usually named with the prefix `get_` followed by the name of the attribute.\n",
    "\n",
    "A setter, on the other hand, is a method that is used to set the value of a private attribute. It is usually named with the prefix `set_` followed by the name of the attribute. "
   ]
  },
  {
   "cell_type": "code",
   "execution_count": null,
   "id": "257312b1",
   "metadata": {
    "slideshow": {
     "slide_type": "subslide"
    }
   },
   "outputs": [],
   "source": [
    "class Employee:\n",
    "    def __init__(self, name, salary):\n",
    "        self._name = name\n",
    "        self._salary = salary\n",
    "\n",
    "    def pay(self):\n",
    "        print(f\"{self._name}'s salary is {self._salary}\")\n",
    "        \n",
    "    def get_name(self):\n",
    "        return self._name\n",
    "    \n",
    "    def set_name(self, name):\n",
    "        self._name = name\n",
    "        \n",
    "    def get_salary(self):\n",
    "        return self._salary\n",
    "    \n",
    "    def set_salary(self, salary):\n",
    "        self._salary = salary"
   ]
  },
  {
   "cell_type": "code",
   "execution_count": null,
   "id": "19369745",
   "metadata": {
    "slideshow": {
     "slide_type": "subslide"
    }
   },
   "outputs": [],
   "source": [
    "employee = Employee(\"John Doe\", 100_000)"
   ]
  },
  {
   "cell_type": "code",
   "execution_count": null,
   "id": "14e0befc",
   "metadata": {
    "slideshow": {
     "slide_type": "fragment"
    }
   },
   "outputs": [],
   "source": [
    "employee.get_name(), employee.get_salary()"
   ]
  },
  {
   "cell_type": "code",
   "execution_count": null,
   "id": "0fcf2c9d",
   "metadata": {
    "slideshow": {
     "slide_type": "fragment"
    }
   },
   "outputs": [],
   "source": [
    "employee.pay()"
   ]
  },
  {
   "cell_type": "code",
   "execution_count": null,
   "id": "47e16953",
   "metadata": {
    "slideshow": {
     "slide_type": "subslide"
    }
   },
   "outputs": [],
   "source": [
    "employee.set_name(\"Alice\")\n",
    "employee.set_salary(200_000)"
   ]
  },
  {
   "cell_type": "code",
   "execution_count": null,
   "id": "d7437ac4",
   "metadata": {
    "slideshow": {
     "slide_type": "fragment"
    }
   },
   "outputs": [],
   "source": [
    "employee.pay()"
   ]
  },
  {
   "cell_type": "code",
   "execution_count": null,
   "id": "1effaea5",
   "metadata": {
    "slideshow": {
     "slide_type": "slide"
    }
   },
   "outputs": [],
   "source": [
    "class Employee:\n",
    "    def __init__(self, name, salary):\n",
    "        self.set_name(name)\n",
    "        self.set_salary(salary)\n",
    "\n",
    "    def pay(self):\n",
    "        print(f\"{self._name}'s salary is {self._salary}\")\n",
    "        \n",
    "    def get_name(self):\n",
    "        return self._name\n",
    "    \n",
    "    def set_name(self, name):\n",
    "        if isinstance(name, str):\n",
    "            self._name = name\n",
    "        else:\n",
    "            print(\"Name attribute should be string\")\n",
    "        \n",
    "    def get_salary(self):\n",
    "        return self._salary\n",
    "    \n",
    "    def set_salary(self, salary):\n",
    "        if isinstance(salary, float) or isinstance(salary, int):\n",
    "            self._salary = salary\n",
    "        else:\n",
    "            print(\"Salary attribute should be number\")"
   ]
  },
  {
   "cell_type": "code",
   "execution_count": null,
   "id": "d4319ab0",
   "metadata": {
    "slideshow": {
     "slide_type": "fragment"
    }
   },
   "outputs": [],
   "source": [
    "employee = Employee(\"John Doe\", 100_000)"
   ]
  },
  {
   "cell_type": "code",
   "execution_count": null,
   "id": "c23c0a4d",
   "metadata": {
    "slideshow": {
     "slide_type": "fragment"
    }
   },
   "outputs": [],
   "source": [
    "employee.set_name(42)"
   ]
  },
  {
   "cell_type": "code",
   "execution_count": null,
   "id": "37ed63e7",
   "metadata": {
    "slideshow": {
     "slide_type": "fragment"
    }
   },
   "outputs": [],
   "source": [
    "employee.set_salary(\"abc\")"
   ]
  },
  {
   "cell_type": "markdown",
   "id": "2584cec7",
   "metadata": {
    "slideshow": {
     "slide_type": "slide"
    }
   },
   "source": [
    "# Pythonic way\n",
    "\n",
    "`property(fget=None, fset=None, fdel=None, doc=None)` is a built-in function that can be used to return properties.\n",
    "\n",
    "- `fget` is a function for getting an attribute value.\n",
    "- `fset` is a function for setting an attribute value.\n",
    "- `fdel` is a function for deleting an attribute value.\n",
    "- `doc` creates a docstring for the attribute."
   ]
  },
  {
   "cell_type": "code",
   "execution_count": null,
   "id": "3b7c5f2b",
   "metadata": {
    "slideshow": {
     "slide_type": "subslide"
    }
   },
   "outputs": [],
   "source": [
    "class Employee:\n",
    "    def __init__(self, name):\n",
    "        self._name = name\n",
    "\n",
    "    def introduce(self):\n",
    "        print(f\"My name is {self._name}\")\n",
    "        \n",
    "    def get_name(self):\n",
    "        return self._name\n",
    "    \n",
    "    def set_name(self, name):\n",
    "        self._name = name\n",
    "        \n",
    "    def del_name(self):\n",
    "        del self._name\n",
    "        \n",
    "    name = property(get_name, set_name, del_name, \"Name property\")"
   ]
  },
  {
   "cell_type": "code",
   "execution_count": null,
   "id": "a630ec3d",
   "metadata": {
    "slideshow": {
     "slide_type": "subslide"
    }
   },
   "outputs": [],
   "source": [
    "employee = Employee(\"John Doe\")"
   ]
  },
  {
   "cell_type": "code",
   "execution_count": null,
   "id": "688a2f29",
   "metadata": {
    "slideshow": {
     "slide_type": "fragment"
    }
   },
   "outputs": [],
   "source": [
    "employee.introduce()"
   ]
  },
  {
   "cell_type": "code",
   "execution_count": null,
   "id": "9c4d22cd",
   "metadata": {
    "slideshow": {
     "slide_type": "fragment"
    }
   },
   "outputs": [],
   "source": [
    "employee.__dict__"
   ]
  },
  {
   "cell_type": "code",
   "execution_count": null,
   "id": "38a6ec82",
   "metadata": {
    "slideshow": {
     "slide_type": "fragment"
    }
   },
   "outputs": [],
   "source": [
    "employee.name"
   ]
  },
  {
   "cell_type": "code",
   "execution_count": null,
   "id": "ae4c1e24",
   "metadata": {
    "slideshow": {
     "slide_type": "fragment"
    }
   },
   "outputs": [],
   "source": [
    "employee.name = \"Alice\"\n",
    "employee.name"
   ]
  },
  {
   "cell_type": "code",
   "execution_count": null,
   "id": "9c058e7d",
   "metadata": {
    "slideshow": {
     "slide_type": "fragment"
    }
   },
   "outputs": [],
   "source": [
    "employee.introduce()"
   ]
  },
  {
   "cell_type": "code",
   "execution_count": null,
   "id": "f0754412",
   "metadata": {
    "slideshow": {
     "slide_type": "fragment"
    }
   },
   "outputs": [],
   "source": [
    "del employee.name"
   ]
  },
  {
   "cell_type": "code",
   "execution_count": null,
   "id": "fd2b489e",
   "metadata": {
    "slideshow": {
     "slide_type": "fragment"
    }
   },
   "outputs": [],
   "source": [
    "employee.introduce()"
   ]
  },
  {
   "cell_type": "markdown",
   "id": "d26c9e78",
   "metadata": {
    "slideshow": {
     "slide_type": "slide"
    }
   },
   "source": [
    "# `property()` as a decorator\n",
    "\n",
    "`property()` function can be used as a decorator to create read-only properties."
   ]
  },
  {
   "cell_type": "code",
   "execution_count": null,
   "id": "50d9db2f",
   "metadata": {
    "slideshow": {
     "slide_type": "fragment"
    }
   },
   "outputs": [],
   "source": [
    "class Employee:\n",
    "    def __init__(self, name):\n",
    "        self._name = name\n",
    "\n",
    "    @property\n",
    "    def name(self):\n",
    "        return self._name\n",
    "        \n",
    "    def introduce(self):\n",
    "        print(f\"My name is {self._name}\")"
   ]
  },
  {
   "cell_type": "code",
   "execution_count": null,
   "id": "615fcd9b",
   "metadata": {
    "slideshow": {
     "slide_type": "fragment"
    }
   },
   "outputs": [],
   "source": [
    "employee = Employee(\"John Doe\")"
   ]
  },
  {
   "cell_type": "code",
   "execution_count": null,
   "id": "b62a412b",
   "metadata": {
    "slideshow": {
     "slide_type": "fragment"
    }
   },
   "outputs": [],
   "source": [
    "employee.name"
   ]
  },
  {
   "cell_type": "code",
   "execution_count": null,
   "id": "d6337f16",
   "metadata": {
    "slideshow": {
     "slide_type": "fragment"
    }
   },
   "outputs": [],
   "source": [
    "employee.name = \"Alice\""
   ]
  },
  {
   "cell_type": "code",
   "execution_count": null,
   "id": "b514d330",
   "metadata": {
    "slideshow": {
     "slide_type": "fragment"
    }
   },
   "outputs": [],
   "source": [
    "del employee.name"
   ]
  },
  {
   "cell_type": "markdown",
   "id": "162b5feb",
   "metadata": {
    "slideshow": {
     "slide_type": "slide"
    }
   },
   "source": [
    "A property object has `getter`, `setter`, and `deleter` methods usable as decorators that create a copy of the property with the corresponding accessor function set to the decorated function."
   ]
  },
  {
   "cell_type": "code",
   "execution_count": null,
   "id": "fcf6fbd4",
   "metadata": {
    "slideshow": {
     "slide_type": "fragment"
    }
   },
   "outputs": [],
   "source": [
    "class Employee:\n",
    "    def __init__(self, name):\n",
    "        self._name = name\n",
    "\n",
    "    @property\n",
    "    def name(self):\n",
    "        return self._name\n",
    "    \n",
    "    @name.setter\n",
    "    def name(self, name):\n",
    "        self._name = name\n",
    "        \n",
    "    @name.deleter\n",
    "    def name(self):\n",
    "        del self._name\n",
    "        \n",
    "    def introduce(self):\n",
    "        print(f\"My name is {self._name}\")"
   ]
  },
  {
   "cell_type": "code",
   "execution_count": null,
   "id": "22e49d2e",
   "metadata": {
    "slideshow": {
     "slide_type": "fragment"
    }
   },
   "outputs": [],
   "source": [
    "employee = Employee(\"John Doe\")"
   ]
  },
  {
   "cell_type": "code",
   "execution_count": null,
   "id": "62587859",
   "metadata": {
    "slideshow": {
     "slide_type": "fragment"
    }
   },
   "outputs": [],
   "source": [
    "employee.name"
   ]
  },
  {
   "cell_type": "code",
   "execution_count": null,
   "id": "3b483e35",
   "metadata": {
    "slideshow": {
     "slide_type": "fragment"
    }
   },
   "outputs": [],
   "source": [
    "employee.name = \"Alice\"\n",
    "employee.name"
   ]
  },
  {
   "cell_type": "code",
   "execution_count": null,
   "id": "bad1dbc9",
   "metadata": {
    "slideshow": {
     "slide_type": "fragment"
    }
   },
   "outputs": [],
   "source": [
    "del employee.name"
   ]
  },
  {
   "cell_type": "code",
   "execution_count": null,
   "id": "7446cae0",
   "metadata": {
    "slideshow": {
     "slide_type": "fragment"
    }
   },
   "outputs": [],
   "source": [
    "employee.name"
   ]
  },
  {
   "cell_type": "code",
   "execution_count": null,
   "id": "9f708828",
   "metadata": {
    "slideshow": {
     "slide_type": "slide"
    }
   },
   "outputs": [],
   "source": [
    "class Employee:\n",
    "    def __init__(self, name, salary):\n",
    "        self.name = name\n",
    "        self.salary = salary\n",
    "\n",
    "    def pay(self):\n",
    "        print(f\"{self._name}'s salary is {self._salary}\")\n",
    "        \n",
    "    @property\n",
    "    def name(self):\n",
    "        return self._name\n",
    "    \n",
    "    @name.setter\n",
    "    def name(self, name):\n",
    "        if isinstance(name, str):\n",
    "            self._name = name\n",
    "        else:\n",
    "            print(\"Name attribute should be string\")\n",
    "    \n",
    "    @property\n",
    "    def salary(self):\n",
    "        return self._salary\n",
    "    \n",
    "    @salary.setter\n",
    "    def salary(self, salary):\n",
    "        if isinstance(salary, float) or isinstance(salary, int):\n",
    "            self._salary = salary\n",
    "        else:\n",
    "            print(\"Salary attribute should be number\")"
   ]
  },
  {
   "cell_type": "code",
   "execution_count": null,
   "id": "a6dc48f2",
   "metadata": {
    "slideshow": {
     "slide_type": "subslide"
    }
   },
   "outputs": [],
   "source": [
    "employee = Employee(\"John Doe\", 100_000)"
   ]
  },
  {
   "cell_type": "code",
   "execution_count": null,
   "id": "e439f4d9",
   "metadata": {
    "slideshow": {
     "slide_type": "fragment"
    }
   },
   "outputs": [],
   "source": [
    "employee.name, employee.salary"
   ]
  },
  {
   "cell_type": "code",
   "execution_count": null,
   "id": "91418c7f",
   "metadata": {
    "slideshow": {
     "slide_type": "fragment"
    }
   },
   "outputs": [],
   "source": [
    "employee.pay()"
   ]
  },
  {
   "cell_type": "code",
   "execution_count": null,
   "id": "b6bf0ef2",
   "metadata": {
    "slideshow": {
     "slide_type": "fragment"
    }
   },
   "outputs": [],
   "source": [
    "employee.name = \"Alice\"\n",
    "employee.salary = 200_000"
   ]
  },
  {
   "cell_type": "code",
   "execution_count": null,
   "id": "1e7096c8",
   "metadata": {
    "slideshow": {
     "slide_type": "fragment"
    }
   },
   "outputs": [],
   "source": [
    "employee.pay()"
   ]
  },
  {
   "cell_type": "code",
   "execution_count": null,
   "id": "d87905d0",
   "metadata": {
    "slideshow": {
     "slide_type": "fragment"
    }
   },
   "outputs": [],
   "source": [
    "employee.name = 42"
   ]
  },
  {
   "cell_type": "code",
   "execution_count": null,
   "id": "5f328657",
   "metadata": {
    "slideshow": {
     "slide_type": "fragment"
    }
   },
   "outputs": [],
   "source": [
    "employee.salary = \"fourty two\""
   ]
  }
 ],
 "metadata": {
  "celltoolbar": "Slideshow",
  "kernelspec": {
   "display_name": "Python 3 (ipykernel)",
   "language": "python",
   "name": "python3"
  },
  "language_info": {
   "codemirror_mode": {
    "name": "ipython",
    "version": 3
   },
   "file_extension": ".py",
   "mimetype": "text/x-python",
   "name": "python",
   "nbconvert_exporter": "python",
   "pygments_lexer": "ipython3",
   "version": "3.8.10"
  }
 },
 "nbformat": 4,
 "nbformat_minor": 5
}
