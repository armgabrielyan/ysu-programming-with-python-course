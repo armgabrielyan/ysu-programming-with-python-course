{
 "cells": [
  {
   "cell_type": "markdown",
   "id": "74750d32",
   "metadata": {
    "slideshow": {
     "slide_type": "slide"
    }
   },
   "source": [
    "# Programming with Python\n",
    "\n",
    "## Lecture 15: Functions as a first-class objects\n",
    "\n",
    "### Armen Gabrielyan\n",
    "\n",
    "#### Yerevan State University\n",
    "#### Portmind"
   ]
  },
  {
   "cell_type": "markdown",
   "id": "17c3e3ae",
   "metadata": {
    "slideshow": {
     "slide_type": "slide"
    }
   },
   "source": [
    "# Lambda functions\n",
    "\n",
    "Lambda functions are a fundamental element of lambda calculus in Python. They are small, anonymous functions that can accept several arguments, but can have only a single expression.\n",
    "\n",
    "```python\n",
    "lambda <param_1>, <param_2>, ...: <expression>\n",
    "```\n",
    "\n",
    "- `<param_1>`, `<param_2>`, ... are parameter names\n",
    "- `<expression>` is an expression"
   ]
  },
  {
   "cell_type": "markdown",
   "id": "dbebd639",
   "metadata": {
    "slideshow": {
     "slide_type": "slide"
    }
   },
   "source": [
    "## Syntax\n",
    "\n",
    "- Lambda functions can have only a single expression.\n",
    "- Lambda functions cannot have statements.\n",
    "- Lambda functions can be immediately invoked."
   ]
  },
  {
   "cell_type": "markdown",
   "id": "7947d08e",
   "metadata": {
    "slideshow": {
     "slide_type": "slide"
    }
   },
   "source": [
    "### Single expression"
   ]
  },
  {
   "cell_type": "code",
   "execution_count": 12,
   "id": "291f9fe4",
   "metadata": {
    "slideshow": {
     "slide_type": "fragment"
    }
   },
   "outputs": [
    {
     "data": {
      "text/plain": [
       "<function __main__.add_42(x)>"
      ]
     },
     "execution_count": 12,
     "metadata": {},
     "output_type": "execute_result"
    }
   ],
   "source": [
    "def add_42(x):\n",
    "    return x + 42\n",
    "\n",
    "add_42"
   ]
  },
  {
   "cell_type": "code",
   "execution_count": 13,
   "id": "6b1ab568",
   "metadata": {
    "slideshow": {
     "slide_type": "fragment"
    }
   },
   "outputs": [
    {
     "data": {
      "text/plain": [
       "<function __main__.<lambda>(x)>"
      ]
     },
     "execution_count": 13,
     "metadata": {},
     "output_type": "execute_result"
    }
   ],
   "source": [
    "lambda x: x + 42"
   ]
  },
  {
   "cell_type": "code",
   "execution_count": 17,
   "id": "f3ca9a29",
   "metadata": {
    "slideshow": {
     "slide_type": "fragment"
    }
   },
   "outputs": [
    {
     "data": {
      "text/plain": [
       "<function __main__.<lambda>(x)>"
      ]
     },
     "execution_count": 17,
     "metadata": {},
     "output_type": "execute_result"
    }
   ],
   "source": [
    "add_42 = lambda x: x + 42\n",
    "add_42"
   ]
  },
  {
   "cell_type": "code",
   "execution_count": 18,
   "id": "002932b3",
   "metadata": {
    "slideshow": {
     "slide_type": "fragment"
    }
   },
   "outputs": [
    {
     "data": {
      "text/plain": [
       "50"
      ]
     },
     "execution_count": 18,
     "metadata": {},
     "output_type": "execute_result"
    }
   ],
   "source": [
    "add_42(8)"
   ]
  },
  {
   "cell_type": "markdown",
   "id": "3adecefa",
   "metadata": {
    "slideshow": {
     "slide_type": "slide"
    }
   },
   "source": [
    "### No statement"
   ]
  },
  {
   "cell_type": "code",
   "execution_count": 25,
   "id": "168bede7",
   "metadata": {
    "slideshow": {
     "slide_type": "fragment"
    }
   },
   "outputs": [
    {
     "ename": "SyntaxError",
     "evalue": "invalid syntax (510126752.py, line 1)",
     "output_type": "error",
     "traceback": [
      "\u001b[0;36m  Cell \u001b[0;32mIn[25], line 1\u001b[0;36m\u001b[0m\n\u001b[0;31m    lambda x: return 42 * x\u001b[0m\n\u001b[0m              ^\u001b[0m\n\u001b[0;31mSyntaxError\u001b[0m\u001b[0;31m:\u001b[0m invalid syntax\n"
     ]
    }
   ],
   "source": [
    "lambda x: return 42 * x "
   ]
  },
  {
   "cell_type": "code",
   "execution_count": 26,
   "id": "a18a2bef",
   "metadata": {
    "slideshow": {
     "slide_type": "fragment"
    }
   },
   "outputs": [
    {
     "ename": "SyntaxError",
     "evalue": "invalid syntax (3872334404.py, line 1)",
     "output_type": "error",
     "traceback": [
      "\u001b[0;36m  Cell \u001b[0;32mIn[26], line 1\u001b[0;36m\u001b[0m\n\u001b[0;31m    lambda x: if x > 0: print(f\"{x} is positive.\")\u001b[0m\n\u001b[0m              ^\u001b[0m\n\u001b[0;31mSyntaxError\u001b[0m\u001b[0;31m:\u001b[0m invalid syntax\n"
     ]
    }
   ],
   "source": [
    "lambda x: if x > 0: print(f\"{x} is positive.\")"
   ]
  },
  {
   "cell_type": "markdown",
   "id": "9120317b",
   "metadata": {
    "slideshow": {
     "slide_type": "slide"
    }
   },
   "source": [
    "### Immediately invoked function expression\n",
    "\n",
    "Immediately invoked function expression is when a lambda function is immediately called with arguments as it is defined."
   ]
  },
  {
   "cell_type": "code",
   "execution_count": 19,
   "id": "d396cd3f",
   "metadata": {
    "slideshow": {
     "slide_type": "fragment"
    }
   },
   "outputs": [
    {
     "data": {
      "text/plain": [
       "94"
      ]
     },
     "execution_count": 19,
     "metadata": {},
     "output_type": "execute_result"
    }
   ],
   "source": [
    "(lambda x, y: x + y)(42, 52)"
   ]
  },
  {
   "cell_type": "code",
   "execution_count": 23,
   "id": "0e6e4305",
   "metadata": {
    "slideshow": {
     "slide_type": "fragment"
    }
   },
   "outputs": [
    {
     "data": {
      "text/plain": [
       "'John Doe'"
      ]
     },
     "execution_count": 23,
     "metadata": {},
     "output_type": "execute_result"
    }
   ],
   "source": [
    "(lambda first_name, last_name: f\"{first_name.title()} {last_name.title()}\")(\"joHn\", \"dOE\")"
   ]
  },
  {
   "cell_type": "markdown",
   "id": "a7bd1ea9",
   "metadata": {
    "slideshow": {
     "slide_type": "slide"
    }
   },
   "source": [
    "## Arguments\n",
    "\n",
    "Lambda functions accept all the different ways of passing arguments as normal functions defined by `def` keyword do."
   ]
  },
  {
   "cell_type": "code",
   "execution_count": 27,
   "id": "f4d09442",
   "metadata": {
    "slideshow": {
     "slide_type": "fragment"
    }
   },
   "outputs": [
    {
     "data": {
      "text/plain": [
       "26"
      ]
     },
     "execution_count": 27,
     "metadata": {},
     "output_type": "execute_result"
    }
   ],
   "source": [
    "(lambda a, b, c: a + b + c)(5, 8, 13)"
   ]
  },
  {
   "cell_type": "code",
   "execution_count": 28,
   "id": "66caae1e",
   "metadata": {
    "slideshow": {
     "slide_type": "fragment"
    }
   },
   "outputs": [
    {
     "data": {
      "text/plain": [
       "26"
      ]
     },
     "execution_count": 28,
     "metadata": {},
     "output_type": "execute_result"
    }
   ],
   "source": [
    "(lambda a, b, c=13: a + b + c)(5, b=8)"
   ]
  },
  {
   "cell_type": "code",
   "execution_count": 29,
   "id": "14347edd",
   "metadata": {
    "slideshow": {
     "slide_type": "fragment"
    }
   },
   "outputs": [
    {
     "data": {
      "text/plain": [
       "47"
      ]
     },
     "execution_count": 29,
     "metadata": {},
     "output_type": "execute_result"
    }
   ],
   "source": [
    "(lambda *args: sum(args))(5, 8, 13, 21)"
   ]
  },
  {
   "cell_type": "code",
   "execution_count": 30,
   "id": "118f4736",
   "metadata": {
    "slideshow": {
     "slide_type": "fragment"
    }
   },
   "outputs": [
    {
     "data": {
      "text/plain": [
       "{'a': 5, 'b': 8, 'c': 13, 'd': 21}"
      ]
     },
     "execution_count": 30,
     "metadata": {},
     "output_type": "execute_result"
    }
   ],
   "source": [
    "(lambda **kwargs: kwargs)(a=5, b=8, c=13, d=21)"
   ]
  },
  {
   "cell_type": "code",
   "execution_count": 34,
   "id": "8091e95b",
   "metadata": {
    "slideshow": {
     "slide_type": "fragment"
    }
   },
   "outputs": [
    {
     "data": {
      "text/plain": [
       "32"
      ]
     },
     "execution_count": 34,
     "metadata": {},
     "output_type": "execute_result"
    }
   ],
   "source": [
    "(lambda x1, x2, /, x3, x4, *, x5, x6: x1 + x2 + x3 + x4 + x5 + x6)(1, 2, 3, x4=5, x5=8, x6=13)"
   ]
  },
  {
   "cell_type": "markdown",
   "id": "c6a030b9",
   "metadata": {
    "slideshow": {
     "slide_type": "slide"
    }
   },
   "source": [
    "# Functions as first-class objects\n",
    "\n",
    "Python is not a functional programming language, but it has some elements of functional programming. First-class objects is a fundamental feature of functional programming and Python has adopted it. **First-class objects** can be defined as a program entity that can be treated like any other normal object and has the following properties. It can be:\n",
    "\n",
    "- Created at runtime\n",
    "- Assigned to a variable or a data structure element\n",
    "- Passed as an argument to a function\n",
    "- Returned as a result from a function"
   ]
  },
  {
   "cell_type": "code",
   "execution_count": 36,
   "id": "bda04ae0",
   "metadata": {
    "slideshow": {
     "slide_type": "slide"
    }
   },
   "outputs": [
    {
     "data": {
      "text/plain": [
       "<function __main__.greet(name)>"
      ]
     },
     "execution_count": 36,
     "metadata": {},
     "output_type": "execute_result"
    }
   ],
   "source": [
    "def greet(name):\n",
    "    return f\"Hello, {name.title()}\"\n",
    "\n",
    "greet"
   ]
  },
  {
   "cell_type": "code",
   "execution_count": 37,
   "id": "40b956b9",
   "metadata": {
    "slideshow": {
     "slide_type": "fragment"
    }
   },
   "outputs": [
    {
     "data": {
      "text/plain": [
       "'Hello, John Doe'"
      ]
     },
     "execution_count": 37,
     "metadata": {},
     "output_type": "execute_result"
    }
   ],
   "source": [
    "greet(\"john doe\")"
   ]
  },
  {
   "cell_type": "code",
   "execution_count": 41,
   "id": "26c4d1b8",
   "metadata": {
    "slideshow": {
     "slide_type": "fragment"
    }
   },
   "outputs": [
    {
     "data": {
      "text/plain": [
       "<function __main__.greet(name)>"
      ]
     },
     "execution_count": 41,
     "metadata": {},
     "output_type": "execute_result"
    }
   ],
   "source": [
    "hello = greet\n",
    "\n",
    "hello"
   ]
  },
  {
   "cell_type": "code",
   "execution_count": 42,
   "id": "b146c129",
   "metadata": {
    "slideshow": {
     "slide_type": "fragment"
    }
   },
   "outputs": [
    {
     "data": {
      "text/plain": [
       "'Hello, Alice Smith'"
      ]
     },
     "execution_count": 42,
     "metadata": {},
     "output_type": "execute_result"
    }
   ],
   "source": [
    "hello(\"Alice smith\")"
   ]
  },
  {
   "cell_type": "code",
   "execution_count": 44,
   "id": "641f3bed",
   "metadata": {
    "slideshow": {
     "slide_type": "slide"
    }
   },
   "outputs": [],
   "source": [
    "functions = [\n",
    "    lambda x, y: x + y,\n",
    "    lambda x, y: x - y,   \n",
    "]"
   ]
  },
  {
   "cell_type": "code",
   "execution_count": 45,
   "id": "7ac234bf",
   "metadata": {
    "slideshow": {
     "slide_type": "fragment"
    }
   },
   "outputs": [],
   "source": [
    "def multiply(x, y):\n",
    "    return x * y\n",
    "\n",
    "def divide(x, y):\n",
    "    return x / y"
   ]
  },
  {
   "cell_type": "code",
   "execution_count": 47,
   "id": "c04cf318",
   "metadata": {
    "slideshow": {
     "slide_type": "fragment"
    }
   },
   "outputs": [
    {
     "data": {
      "text/plain": [
       "[<function __main__.<lambda>(x, y)>,\n",
       " <function __main__.<lambda>(x, y)>,\n",
       " <function __main__.multiply(x, y)>,\n",
       " <function __main__.divide(x, y)>,\n",
       " <function __main__.multiply(x, y)>,\n",
       " <function __main__.divide(x, y)>]"
      ]
     },
     "execution_count": 47,
     "metadata": {},
     "output_type": "execute_result"
    }
   ],
   "source": [
    "functions.append(multiply)\n",
    "functions.append(divide)\n",
    "\n",
    "functions"
   ]
  },
  {
   "cell_type": "code",
   "execution_count": 48,
   "id": "4d2142b1",
   "metadata": {
    "slideshow": {
     "slide_type": "fragment"
    }
   },
   "outputs": [
    {
     "name": "stdout",
     "output_type": "stream",
     "text": [
      "29\n",
      "21\n",
      "100\n",
      "6.25\n",
      "100\n",
      "6.25\n"
     ]
    }
   ],
   "source": [
    "for func in functions:\n",
    "    print(func(25, 4))"
   ]
  },
  {
   "cell_type": "markdown",
   "id": "00d9dfaa",
   "metadata": {
    "slideshow": {
     "slide_type": "slide"
    }
   },
   "source": [
    "# Higher-order functions\n",
    "\n",
    "Functions that take other functions as an argument or return a function as a result are called higher-order functions."
   ]
  },
  {
   "cell_type": "markdown",
   "id": "63a75399",
   "metadata": {
    "slideshow": {
     "slide_type": "slide"
    }
   },
   "source": [
    "### Function that accepts a function as an argument"
   ]
  },
  {
   "cell_type": "code",
   "execution_count": 49,
   "id": "e10224c3",
   "metadata": {
    "slideshow": {
     "slide_type": "fragment"
    }
   },
   "outputs": [],
   "source": [
    "def calculate(func, x, y):\n",
    "    result = func(x, y)\n",
    "    return result"
   ]
  },
  {
   "cell_type": "code",
   "execution_count": 50,
   "id": "8b82ae79",
   "metadata": {
    "slideshow": {
     "slide_type": "fragment"
    }
   },
   "outputs": [
    {
     "data": {
      "text/plain": [
       "50"
      ]
     },
     "execution_count": 50,
     "metadata": {},
     "output_type": "execute_result"
    }
   ],
   "source": [
    "calculate(multiply, 5, 10)"
   ]
  },
  {
   "cell_type": "code",
   "execution_count": 51,
   "id": "b7e70d34",
   "metadata": {
    "slideshow": {
     "slide_type": "fragment"
    }
   },
   "outputs": [
    {
     "data": {
      "text/plain": [
       "0.5"
      ]
     },
     "execution_count": 51,
     "metadata": {},
     "output_type": "execute_result"
    }
   ],
   "source": [
    "calculate(divide, 5, 10)"
   ]
  },
  {
   "cell_type": "code",
   "execution_count": 52,
   "id": "a634572d",
   "metadata": {
    "slideshow": {
     "slide_type": "fragment"
    }
   },
   "outputs": [
    {
     "data": {
      "text/plain": [
       "15"
      ]
     },
     "execution_count": 52,
     "metadata": {},
     "output_type": "execute_result"
    }
   ],
   "source": [
    "calculate(lambda x, y: x + y, 5, 10)"
   ]
  },
  {
   "cell_type": "code",
   "execution_count": 53,
   "id": "f6a7572b",
   "metadata": {
    "slideshow": {
     "slide_type": "fragment"
    }
   },
   "outputs": [
    {
     "data": {
      "text/plain": [
       "-5"
      ]
     },
     "execution_count": 53,
     "metadata": {},
     "output_type": "execute_result"
    }
   ],
   "source": [
    "calculate(lambda x, y: x - y, 5, 10)"
   ]
  },
  {
   "cell_type": "markdown",
   "id": "66cc3902",
   "metadata": {
    "slideshow": {
     "slide_type": "slide"
    }
   },
   "source": [
    "### Function returns a function as a result"
   ]
  },
  {
   "cell_type": "code",
   "execution_count": 54,
   "id": "4743b6d5",
   "metadata": {
    "slideshow": {
     "slide_type": "fragment"
    }
   },
   "outputs": [],
   "source": [
    "def build_multiplier(x):\n",
    "    def multipler(y):\n",
    "        return x * y\n",
    "    return multipler"
   ]
  },
  {
   "cell_type": "code",
   "execution_count": 55,
   "id": "3ded7eb7",
   "metadata": {
    "slideshow": {
     "slide_type": "fragment"
    }
   },
   "outputs": [
    {
     "data": {
      "text/plain": [
       "<function __main__.build_multiplier.<locals>.multipler(y)>"
      ]
     },
     "execution_count": 55,
     "metadata": {},
     "output_type": "execute_result"
    }
   ],
   "source": [
    "multipler_by_4 = build_multiplier(4)\n",
    "multipler_by_4"
   ]
  },
  {
   "cell_type": "code",
   "execution_count": 56,
   "id": "2ce0ff93",
   "metadata": {
    "slideshow": {
     "slide_type": "fragment"
    }
   },
   "outputs": [
    {
     "data": {
      "text/plain": [
       "48"
      ]
     },
     "execution_count": 56,
     "metadata": {},
     "output_type": "execute_result"
    }
   ],
   "source": [
    "multipler_by_4(12)"
   ]
  },
  {
   "cell_type": "markdown",
   "id": "cc0f5fad",
   "metadata": {
    "slideshow": {
     "slide_type": "fragment"
    }
   },
   "source": [
    "This is an example of a **closure**, which is a function with an extended scope that encompasses variables referenced in its body which are neither global variables nor local variables of the closure, but are defined in the local scope of the outer function enclosing the closure."
   ]
  },
  {
   "cell_type": "markdown",
   "id": "23fb3647",
   "metadata": {
    "slideshow": {
     "slide_type": "slide"
    }
   },
   "source": [
    "## `sorted()` with a `key` argument\n",
    "\n",
    "Function `sorted()` accepts an optional `key` argument that is a function determining the sorting criterion."
   ]
  },
  {
   "cell_type": "code",
   "execution_count": 61,
   "id": "be70c64b",
   "metadata": {
    "slideshow": {
     "slide_type": "fragment"
    }
   },
   "outputs": [],
   "source": [
    "colors = [\"black\", \"white\", \"yellow\", \"dark orange\", \"light green\", \"red\"]"
   ]
  },
  {
   "cell_type": "code",
   "execution_count": 62,
   "id": "a13d4095",
   "metadata": {
    "slideshow": {
     "slide_type": "fragment"
    }
   },
   "outputs": [
    {
     "data": {
      "text/plain": [
       "['black', 'dark orange', 'light green', 'red', 'white', 'yellow']"
      ]
     },
     "execution_count": 62,
     "metadata": {},
     "output_type": "execute_result"
    }
   ],
   "source": [
    "sorted(colors)"
   ]
  },
  {
   "cell_type": "code",
   "execution_count": 63,
   "id": "14c16121",
   "metadata": {
    "slideshow": {
     "slide_type": "fragment"
    }
   },
   "outputs": [
    {
     "data": {
      "text/plain": [
       "['red', 'black', 'white', 'yellow', 'dark orange', 'light green']"
      ]
     },
     "execution_count": 63,
     "metadata": {},
     "output_type": "execute_result"
    }
   ],
   "source": [
    "sorted(colors, key=len)"
   ]
  },
  {
   "cell_type": "code",
   "execution_count": 64,
   "id": "258deba2",
   "metadata": {
    "slideshow": {
     "slide_type": "fragment"
    }
   },
   "outputs": [],
   "source": [
    "def reverse(text):\n",
    "    return text[::-1]"
   ]
  },
  {
   "cell_type": "code",
   "execution_count": 65,
   "id": "0e77bd05",
   "metadata": {
    "slideshow": {
     "slide_type": "fragment"
    }
   },
   "outputs": [
    {
     "data": {
      "text/plain": [
       "['red', 'dark orange', 'white', 'black', 'light green', 'yellow']"
      ]
     },
     "execution_count": 65,
     "metadata": {},
     "output_type": "execute_result"
    }
   ],
   "source": [
    "sorted(colors, key=reverse)"
   ]
  },
  {
   "cell_type": "code",
   "execution_count": 66,
   "id": "3ae9260e",
   "metadata": {
    "slideshow": {
     "slide_type": "fragment"
    }
   },
   "outputs": [
    {
     "data": {
      "text/plain": [
       "['red', 'dark orange', 'white', 'black', 'light green', 'yellow']"
      ]
     },
     "execution_count": 66,
     "metadata": {},
     "output_type": "execute_result"
    }
   ],
   "source": [
    "sorted(colors, key=lambda text: text[::-1])"
   ]
  },
  {
   "cell_type": "code",
   "execution_count": 67,
   "id": "29587694",
   "metadata": {
    "slideshow": {
     "slide_type": "slide"
    }
   },
   "outputs": [],
   "source": [
    "students = [\n",
    "    {\"name\": \"John Doe\", \"age\": 18, \"gpa\": 19.6},\n",
    "    {\"name\": \"Alice Smith\", \"age\": 22, \"gpa\": 19.85},\n",
    "    {\"name\": \"Bob\", \"age\": 21, \"gpa\": 18.3},\n",
    "]"
   ]
  },
  {
   "cell_type": "code",
   "execution_count": 68,
   "id": "6fbfbc7a",
   "metadata": {
    "slideshow": {
     "slide_type": "fragment"
    }
   },
   "outputs": [
    {
     "ename": "TypeError",
     "evalue": "'<' not supported between instances of 'dict' and 'dict'",
     "output_type": "error",
     "traceback": [
      "\u001b[0;31m---------------------------------------------------------------------------\u001b[0m",
      "\u001b[0;31mTypeError\u001b[0m                                 Traceback (most recent call last)",
      "Cell \u001b[0;32mIn[68], line 1\u001b[0m\n\u001b[0;32m----> 1\u001b[0m \u001b[38;5;28;43msorted\u001b[39;49m\u001b[43m(\u001b[49m\u001b[43mstudents\u001b[49m\u001b[43m)\u001b[49m\n",
      "\u001b[0;31mTypeError\u001b[0m: '<' not supported between instances of 'dict' and 'dict'"
     ]
    }
   ],
   "source": [
    "sorted(students)"
   ]
  },
  {
   "cell_type": "code",
   "execution_count": 69,
   "id": "d8b0bd46",
   "metadata": {
    "slideshow": {
     "slide_type": "fragment"
    }
   },
   "outputs": [
    {
     "data": {
      "text/plain": [
       "[{'name': 'John Doe', 'age': 18, 'gpa': 19.6},\n",
       " {'name': 'Bob', 'age': 21, 'gpa': 18.3},\n",
       " {'name': 'Alice Smith', 'age': 22, 'gpa': 19.85}]"
      ]
     },
     "execution_count": 69,
     "metadata": {},
     "output_type": "execute_result"
    }
   ],
   "source": [
    "sorted(students, key=lambda student: student[\"age\"])"
   ]
  },
  {
   "cell_type": "code",
   "execution_count": 71,
   "id": "83215847",
   "metadata": {
    "slideshow": {
     "slide_type": "fragment"
    }
   },
   "outputs": [
    {
     "data": {
      "text/plain": [
       "[{'name': 'Bob', 'age': 21, 'gpa': 18.3},\n",
       " {'name': 'John Doe', 'age': 18, 'gpa': 19.6},\n",
       " {'name': 'Alice Smith', 'age': 22, 'gpa': 19.85}]"
      ]
     },
     "execution_count": 71,
     "metadata": {},
     "output_type": "execute_result"
    }
   ],
   "source": [
    "sorted(students, key=lambda student: student[\"gpa\"])"
   ]
  },
  {
   "cell_type": "markdown",
   "id": "c10f1273",
   "metadata": {
    "slideshow": {
     "slide_type": "slide"
    }
   },
   "source": [
    "`list.sort()` function also accepts a `key` argument that works in a similar way."
   ]
  },
  {
   "cell_type": "code",
   "execution_count": 72,
   "id": "fe6865fd",
   "metadata": {
    "slideshow": {
     "slide_type": "fragment"
    }
   },
   "outputs": [],
   "source": [
    "students = [\n",
    "    {\"name\": \"John Doe\", \"age\": 18, \"gpa\": 19.6},\n",
    "    {\"name\": \"Alice Smith\", \"age\": 22, \"gpa\": 19.85},\n",
    "    {\"name\": \"Bob\", \"age\": 21, \"gpa\": 18.3},\n",
    "]"
   ]
  },
  {
   "cell_type": "code",
   "execution_count": 73,
   "id": "3c0bb1d5",
   "metadata": {
    "slideshow": {
     "slide_type": "fragment"
    }
   },
   "outputs": [],
   "source": [
    "students.sort(key=lambda student: student[\"age\"])"
   ]
  },
  {
   "cell_type": "code",
   "execution_count": 74,
   "id": "c04dcf55",
   "metadata": {
    "slideshow": {
     "slide_type": "fragment"
    }
   },
   "outputs": [
    {
     "data": {
      "text/plain": [
       "[{'name': 'John Doe', 'age': 18, 'gpa': 19.6},\n",
       " {'name': 'Bob', 'age': 21, 'gpa': 18.3},\n",
       " {'name': 'Alice Smith', 'age': 22, 'gpa': 19.85}]"
      ]
     },
     "execution_count": 74,
     "metadata": {},
     "output_type": "execute_result"
    }
   ],
   "source": [
    "students"
   ]
  },
  {
   "cell_type": "markdown",
   "id": "e4ddbe05",
   "metadata": {
    "slideshow": {
     "slide_type": "slide"
    }
   },
   "source": [
    "# Problem solving session"
   ]
  },
  {
   "cell_type": "markdown",
   "id": "1c626148",
   "metadata": {
    "slideshow": {
     "slide_type": "fragment"
    }
   },
   "source": [
    "## Problem set 1\n",
    "\n",
    "1. Write a Python function to remove duplicates from a list (with/without preserving the order).\n",
    "2. Write a Python function to return the frequency of each element in a given list.\n",
    "3. Write a Python function to merge two sorted lists into a single sorted list.\n",
    "4. Write a Python function to remove all the occurrences of an element from a list.\n",
    "5. Two lists representing two positive integers are given. The digits are stored in reverse order. Write a Python function to sum the two integers and return the result as a list."
   ]
  },
  {
   "cell_type": "markdown",
   "id": "eb0e611c",
   "metadata": {
    "slideshow": {
     "slide_type": "slide"
    }
   },
   "source": [
    "## Problem set 2\n",
    "\n",
    "1. Write a Python function to get symmetric tuples from a list of tuples. Each tuple consists of two elements, i.e. they are in the form of $(x, y)$. A tuple $(x, y)$ is symmetric if there is another (y, x) tuple in the list.\n",
    "2. Write a Python function that assigns the frequency to each tuple in a given list as a last tuple element.\n",
    "3. Write a Python function to convert a binary tuple to an integer.\n",
    "4. Write a Python function to generate a list of tuples for a standard card deck.\n",
    "5. Write a Python function to find the union and intersection of two tuples (with/without preserving the order)."
   ]
  },
  {
   "cell_type": "markdown",
   "id": "ce82f323",
   "metadata": {
    "slideshow": {
     "slide_type": "slide"
    }
   },
   "source": [
    "## Problem set 3\n",
    "\n",
    "1. Write a Python function to get all the dictionary keys whose corresponding values are equal to the given value.\n",
    "2. Write a Python function to check if two sequences are anagrams or not.\n",
    "3. Write a Python function to create a dictionary in which the values map to the keys that they belong to in a given dictionary.\n",
    "4. Write a Python function to remove duplicate values from a dictionary.\n",
    "5. Write a Python function to get the common elements from two dictionaries."
   ]
  }
 ],
 "metadata": {
  "celltoolbar": "Slideshow",
  "kernelspec": {
   "display_name": "Python 3 (ipykernel)",
   "language": "python",
   "name": "python3"
  },
  "language_info": {
   "codemirror_mode": {
    "name": "ipython",
    "version": 3
   },
   "file_extension": ".py",
   "mimetype": "text/x-python",
   "name": "python",
   "nbconvert_exporter": "python",
   "pygments_lexer": "ipython3",
   "version": "3.8.10"
  }
 },
 "nbformat": 4,
 "nbformat_minor": 5
}
