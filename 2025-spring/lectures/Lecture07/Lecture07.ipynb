{
 "cells": [
  {
   "cell_type": "markdown",
   "id": "70e592c3",
   "metadata": {},
   "source": [
    "# Programming with Python\n",
    "\n",
    "## Lecture 07: Metaprogramming and descriptors\n",
    "\n",
    "### Armen Gabrielyan\n",
    "\n",
    "#### Yerevan State University / ASDS\n",
    "\n",
    "#### 29 Mar, 2025"
   ]
  },
  {
   "cell_type": "markdown",
   "id": "50433f68",
   "metadata": {},
   "source": [
    "### Descriptor invocation\n",
    "\n",
    "A descriptor can be called directly with `desc.__get__(obj)` or `desc.__get__(None, cls)`.\n",
    "\n",
    "But it is more common for a descriptor to be invoked automatically from attribute access.\n",
    "\n",
    "Descriptors are invoked by the [`__getattribute__(self, name)`](https://docs.python.org/3/reference/datamodel.html#object.__getattribute__) method, which returns the attribute value or raises an `AttributeError` exception if an attribute is not found.\n",
    "\n",
    "The expression `obj.x` looks up the attribute `x` in the chain of namespaces for `obj`. If the search finds a descriptor outside of the instance `__dict__`, its `__get__()` method is invoked according to the precedence rules listed below.\n",
    "\n",
    "1. **`__getattribute__` method:** First the object's `__getattribute__` method is called, which is responsible for attribute access.\n",
    "2. **Data Descriptors:** If the attribute is found in the class (or its parent classes) and is a data descriptor, the descriptor's `__get__` method is called.\n",
    "3. **Instance Dictionary:** If the attribute is found in the object's `__dict__`, that value is returned.\n",
    "4. **Non-Data Descriptors**: If the attribute is found in the class (or its parent classes) and is a non-data descriptor (implements only `__get__`), the descriptor's `__get__` method is called.\n",
    "5. **Class Dictionary:** If the attribute is found in the class's `__dict__` (or its parent classes), that value is returned.\n",
    "6. **`__getattr__` method:** If the attribute is not found anywhere else and the object has a `__getattr__` method, that method is called.\n",
    "7. **`AttributeError`:** If all the above steps fail, Python raises an `AttributeError`."
   ]
  },
  {
   "cell_type": "code",
   "execution_count": null,
   "id": "98b28da9",
   "metadata": {},
   "outputs": [],
   "source": [
    "class DataDescriptor:\n",
    "    \"\"\"A descriptor that implements both __get__ and __set__\"\"\"\n",
    "    def __init__(self, name):\n",
    "        self.name = name\n",
    "        \n",
    "    def __get__(self, instance, owner=None):\n",
    "        print(f\"2. DataDescriptor.__get__ called for {self.name}\")\n",
    "        return f\"DataDescriptor value for {self.name}\"\n",
    "        \n",
    "    def __set__(self, instance, value):\n",
    "        print(f\"DataDescriptor.__set__ called for {self.name} with value {value}\")\n",
    "\n",
    "class NonDataDescriptor:\n",
    "    \"\"\"A descriptor that implements only __get__\"\"\"\n",
    "    def __init__(self, name):\n",
    "        self.name = name\n",
    "        \n",
    "    def __get__(self, instance, owner=None):\n",
    "        print(f\"4. NonDataDescriptor.__get__ called for {self.name}\")\n",
    "        return f\"NonDataDescriptor value for {self.name}\"\n",
    "    \n",
    "class OverridingNoGetDescriptor:\n",
    "    \"\"\"A descriptor that implements only __set__\"\"\"\n",
    "    def __init__(self, name):\n",
    "        self.name = name\n",
    "        \n",
    "    def __set__(self, instance, value):\n",
    "        print(f\"OverridingNoGetDescriptor.__set__ called for {self.name} with value {value}\")\n",
    "\n",
    "class MyClass:\n",
    "    data_desc_attr = DataDescriptor(\"data_desc\") # Data descriptor\n",
    "    non_data_desc_attr = NonDataDescriptor(\"non_data_desc\") # Non-data descriptor\n",
    "    over_no_get_attr = OverridingNoGetDescriptor(\"overriding_no_get_attr\") # Overriding descriptor with no __get__\n",
    "    class_attr = \"class attribute\" # Regular class attribute\n",
    "    \n",
    "    def __init__(self):\n",
    "        self.instance_attr = \"instance attribute\" # Regular instance attribute\n",
    "        \n",
    "    def __getattr__(self, name):\n",
    "        print(f\"6. __getattr__ called for {name}\")\n",
    "        return f\"__getattr__ value for {name}\"\n",
    "        \n",
    "    def __getattribute__(self, name):\n",
    "        print(f\"1. __getattribute__ called for {name}\")\n",
    "        result = super().__getattribute__(name)\n",
    "        print(f\"__getattribute__ result={result}\")\n",
    "        return result"
   ]
  },
  {
   "cell_type": "markdown",
   "id": "c31f5139",
   "metadata": {},
   "source": [
    "#### Lookup chain for different attributes"
   ]
  },
  {
   "cell_type": "code",
   "execution_count": null,
   "id": "57eae38c",
   "metadata": {},
   "outputs": [],
   "source": [
    "obj = MyClass()\n",
    "\n",
    "print(\"Accessing data descriptor:\")\n",
    "print(obj.data_desc_attr)\n",
    "\n",
    "print(\"\\nAccessing instance attribute:\")\n",
    "print(obj.instance_attr)\n",
    "\n",
    "print(\"\\nAccessing non-data descriptor:\")\n",
    "print(obj.non_data_desc_attr)\n",
    "\n",
    "print(\"\\nAccessing class attribute:\")\n",
    "print(obj.class_attr)\n",
    "\n",
    "print(\"\\nAccessing non-existent attribute:\")\n",
    "print(obj.doesnt_exist_attr)\n",
    "\n",
    "print(\"\\nAccessing overriding with no __get__ descriptor:\")\n",
    "print(obj.over_no_get_attr)"
   ]
  },
  {
   "cell_type": "markdown",
   "id": "496abfca",
   "metadata": {},
   "source": [
    "#### Instance attributes override non-data descriptors"
   ]
  },
  {
   "cell_type": "code",
   "execution_count": null,
   "id": "25377040",
   "metadata": {},
   "outputs": [],
   "source": [
    "obj = MyClass()\n",
    "\n",
    "obj.__dict__[\"non_data_desc_attr\"] = \"instance value overriding non-data descriptor\"\n",
    "\n",
    "print(\"\\nAccessing non-data descriptor after adding instance attribute:\")\n",
    "print(obj.non_data_desc_attr)"
   ]
  },
  {
   "cell_type": "markdown",
   "id": "559f40ac",
   "metadata": {},
   "source": [
    "#### Data descriptors override instance attributes"
   ]
  },
  {
   "cell_type": "code",
   "execution_count": null,
   "id": "c8ed5ad6",
   "metadata": {},
   "outputs": [],
   "source": [
    "obj = MyClass()\n",
    "\n",
    "obj.__dict__[\"data_desc_attr\"] = \"instance value trying to override data descriptor\"\n",
    "\n",
    "print(\"\\nAccessing data descriptor after adding instance attribute:\")\n",
    "print(obj.data_desc_attr)"
   ]
  },
  {
   "cell_type": "markdown",
   "id": "6ceb3ddb",
   "metadata": {},
   "source": [
    "#### Instance attributes override \"Overriding descriptor with no `__get__`\" descriptors"
   ]
  },
  {
   "cell_type": "code",
   "execution_count": null,
   "id": "53774565",
   "metadata": {},
   "outputs": [],
   "source": [
    "obj = MyClass()\n",
    "\n",
    "obj.__dict__[\"over_no_get_attr\"] = \"instance value overriding \\\"Overriding descriptor with no __get__\\\" descriptor\"\n",
    "\n",
    "print(\"\\nAccessing overriding wiht no __get__ descriptor after adding instance attribute:\")\n",
    "print(obj.over_no_get_attr)"
   ]
  },
  {
   "cell_type": "markdown",
   "id": "80a8acf7",
   "metadata": {},
   "source": [
    "### `__set_name__` magic method\n",
    "\n",
    "The `__set_name__(self, owner, name)` method is a special method for descriptors. It is automatically called when a descriptor is assigned as a class attribute that defines the name of the attribute the descriptor is managing. Thus, we do not need to manually set the attribute name."
   ]
  },
  {
   "cell_type": "code",
   "execution_count": null,
   "id": "b88d1236",
   "metadata": {},
   "outputs": [],
   "source": [
    "class SimpleDescriptor:\n",
    "    def __set_name__(self, owner, name):\n",
    "        print(f\"__set_name__ called: owner={owner}, name={name}\")\n",
    "        self.name = name  # Store attribute name\n",
    "\n",
    "    def __get__(self, instance, owner):\n",
    "        return instance.__dict__.get(self.name, None)\n",
    "\n",
    "    def __set__(self, instance, value):\n",
    "        instance.__dict__[self.name] = value\n",
    "\n",
    "class MyClass:\n",
    "    attr = SimpleDescriptor()  # Triggers __set_name__"
   ]
  },
  {
   "cell_type": "code",
   "execution_count": null,
   "id": "72888943",
   "metadata": {},
   "outputs": [],
   "source": [
    "obj = MyClass()\n",
    "\n",
    "obj.attr = 42\n",
    "obj.attr"
   ]
  },
  {
   "cell_type": "markdown",
   "id": "31f31354",
   "metadata": {},
   "source": [
    "### Validation example\n",
    "\n",
    "The `Validator` class is both an abstract base class and a managed attribute descriptor. Custom validators need to inherit from `Validator` and must supply a `validate()` method."
   ]
  },
  {
   "cell_type": "code",
   "execution_count": null,
   "id": "402d9969",
   "metadata": {},
   "outputs": [],
   "source": [
    "from abc import ABC, abstractmethod\n",
    "\n",
    "class Validator(ABC):\n",
    "    \"\"\"Base descriptor class for validation\"\"\"\n",
    "\n",
    "    def __set_name__(self, owner, name):\n",
    "        self.name = name\n",
    "        self.private_name = '_' + name\n",
    "\n",
    "    def __get__(self, obj, objtype=None):\n",
    "        return getattr(obj, self.private_name)\n",
    "\n",
    "    def __set__(self, obj, value):\n",
    "        self.validate(value)\n",
    "        setattr(obj, self.private_name, value)\n",
    "\n",
    "    @abstractmethod\n",
    "    def validate(self, value):\n",
    "        pass"
   ]
  },
  {
   "cell_type": "code",
   "execution_count": null,
   "id": "26d7db73",
   "metadata": {},
   "outputs": [],
   "source": [
    "class StringValidator(Validator):\n",
    "    \"\"\"Validates string values with optional length constraints\"\"\"\n",
    "\n",
    "    def __init__(self, min_length=None, max_length=None):\n",
    "        self.min_length = min_length\n",
    "        self.max_length = max_length\n",
    "\n",
    "    def validate(self, value):\n",
    "        if not isinstance(value, str):\n",
    "            raise TypeError(f\"{self.name} must be a string\")\n",
    "        \n",
    "        if self.min_length is not None and len(value) < self.min_length:\n",
    "            raise ValueError(f\"{self.name} must be at least {self.min_length} characters long\")\n",
    "        \n",
    "        if self.max_length is not None and len(value) > self.max_length:\n",
    "            raise ValueError(f\"{self.name} must be no more than {self.max_length} characters long\")\n",
    "        \n",
    "        return value"
   ]
  },
  {
   "cell_type": "code",
   "execution_count": null,
   "id": "c835f36d",
   "metadata": {},
   "outputs": [],
   "source": [
    "class RangeValidator(Validator):\n",
    "    \"\"\"Validates that a numeric value is within a specified range\"\"\"\n",
    "\n",
    "    def __init__(self, minimum=None, maximum=None):\n",
    "        self.minimum = minimum\n",
    "        self.maximum = maximum\n",
    "    \n",
    "    def validate(self, value):\n",
    "        if not isinstance(value, (int, float)):\n",
    "            raise TypeError(f\"{self.name} must be a number\")\n",
    "        \n",
    "        if self.minimum is not None and value < self.minimum:\n",
    "            raise ValueError(f\"{self.name} must be at least {self.minimum}\")\n",
    "        \n",
    "        if self.maximum is not None and value > self.maximum:\n",
    "            raise ValueError(f\"{self.name} must be no more than {self.maximum}\")\n",
    "        \n",
    "        return value"
   ]
  },
  {
   "cell_type": "code",
   "execution_count": null,
   "id": "bd34c009",
   "metadata": {},
   "outputs": [],
   "source": [
    "class Person:\n",
    "    name = StringValidator(min_length=2, max_length=50)\n",
    "    age = RangeValidator(minimum=0, maximum=150)\n",
    "    \n",
    "    def __init__(self, name, age):\n",
    "        self.name = name\n",
    "        self.age = age\n",
    "\n",
    "    def __repr__(self):\n",
    "        return f\"Person(name={self.name}, age={self.age})\""
   ]
  },
  {
   "cell_type": "code",
   "execution_count": null,
   "id": "bb7ed9b3",
   "metadata": {},
   "outputs": [],
   "source": [
    "try:\n",
    "    Person(\"J\", 42)\n",
    "except ValueError as e:\n",
    "    print(e)"
   ]
  },
  {
   "cell_type": "code",
   "execution_count": null,
   "id": "a7225a16",
   "metadata": {},
   "outputs": [],
   "source": [
    "try:\n",
    "    Person(\"John Doe\", -42)\n",
    "except ValueError as e:\n",
    "    print(e)"
   ]
  },
  {
   "cell_type": "code",
   "execution_count": null,
   "id": "49201907",
   "metadata": {},
   "outputs": [],
   "source": [
    "Person(\"John Doe\", 42)"
   ]
  },
  {
   "cell_type": "markdown",
   "id": "71cd3d4d",
   "metadata": {},
   "source": [
    "### LazyProperty example"
   ]
  },
  {
   "cell_type": "markdown",
   "id": "14e22f94",
   "metadata": {},
   "source": [
    "A lazy evaluation of a property is a design pattern used in programming where a property of an object is computed only when it is first accessed, and the result is then cached for future accesses. This can improve performance by delaying expensive computations until they are actually needed.\n",
    "\n",
    "We can use *non-data* descriptor to implement lazy property."
   ]
  },
  {
   "cell_type": "code",
   "execution_count": null,
   "id": "72151d3f",
   "metadata": {},
   "outputs": [],
   "source": [
    "import time\n",
    "\n",
    "class LazyProperty:\n",
    "    def __init__(self, func):\n",
    "        self.func = func\n",
    "        self.name = func.__name__\n",
    "\n",
    "    def __get__(self, instance, owner):\n",
    "        if instance is None:\n",
    "            return self\n",
    "        value = self.func(instance)\n",
    "        setattr(instance, self.name, value)  # Cache the computed value\n",
    "        return value\n",
    "\n",
    "class Model:\n",
    "    @LazyProperty\n",
    "    def expensive_value(self):\n",
    "        time.sleep(5)\n",
    "        return 42"
   ]
  },
  {
   "cell_type": "code",
   "execution_count": null,
   "id": "65872c93",
   "metadata": {},
   "outputs": [],
   "source": [
    "m = Model()"
   ]
  },
  {
   "cell_type": "code",
   "execution_count": null,
   "id": "73ca84bd",
   "metadata": {},
   "outputs": [],
   "source": [
    "m.expensive_value # computed on the first access"
   ]
  },
  {
   "cell_type": "code",
   "execution_count": null,
   "id": "89a4fbf7",
   "metadata": {},
   "outputs": [],
   "source": [
    "m.expensive_value # cached value is returned"
   ]
  },
  {
   "cell_type": "code",
   "execution_count": null,
   "id": "8e916cd2",
   "metadata": {},
   "outputs": [],
   "source": [
    "m.__dict__"
   ]
  },
  {
   "cell_type": "markdown",
   "id": "38f318e6",
   "metadata": {},
   "source": [
    "## Descriptors in Python internals"
   ]
  },
  {
   "cell_type": "markdown",
   "id": "77a27b97",
   "metadata": {},
   "source": [
    "### Descriptors in properties\n",
    "\n",
    "`property()` is implemented in terms of the descriptor protocol. `property()` returns a `Property` object that implements the descriptor protocol. It uses the parameters `fget`, `fset` and `fdel` for the actual implementation of the three methods of the protocol.\n",
    "\n",
    "Here is a pure Python equivalent that implements most of the core functionality."
   ]
  },
  {
   "cell_type": "code",
   "execution_count": null,
   "id": "2a84fa6b",
   "metadata": {},
   "outputs": [],
   "source": [
    "class Property:\n",
    "    \"Emulate PyProperty_Type() in Objects/descrobject.c\"\n",
    "\n",
    "    def __init__(self, fget=None, fset=None, fdel=None, doc=None):\n",
    "        self.fget = fget\n",
    "        self.fset = fset\n",
    "        self.fdel = fdel\n",
    "        if doc is None and fget is not None:\n",
    "            doc = fget.__doc__\n",
    "        self.__doc__ = doc\n",
    "\n",
    "    def __set_name__(self, owner, name):\n",
    "        self.__name__ = name\n",
    "\n",
    "    def __get__(self, obj, objtype=None):\n",
    "        if obj is None:\n",
    "            return self\n",
    "        if self.fget is None:\n",
    "            raise AttributeError\n",
    "        return self.fget(obj)\n",
    "\n",
    "    def __set__(self, obj, value):\n",
    "        if self.fset is None:\n",
    "            raise AttributeError\n",
    "        self.fset(obj, value)\n",
    "\n",
    "    def __delete__(self, obj):\n",
    "        if self.fdel is None:\n",
    "            raise AttributeError\n",
    "        self.fdel(obj)\n",
    "\n",
    "    def getter(self, fget):\n",
    "        return type(self)(fget, self.fset, self.fdel, self.__doc__)\n",
    "\n",
    "    def setter(self, fset):\n",
    "        return type(self)(self.fget, fset, self.fdel, self.__doc__)\n",
    "\n",
    "    def deleter(self, fdel):\n",
    "        return type(self)(self.fget, self.fset, fdel, self.__doc__)"
   ]
  },
  {
   "cell_type": "markdown",
   "id": "90632b98",
   "metadata": {},
   "source": [
    "### Descriptors in functions and methods\n",
    "\n",
    "Python’s object oriented features are built upon a function based environment. Using non-data descriptors, the two are merged seamlessly.\n",
    "\n",
    "Functions stored in class dictionaries get turned into methods when invoked. Methods only differ from regular functions in that the object instance is prepended to the other arguments. By convention, the instance is called self but could be called this or any other variable name.\n",
    "\n",
    "Methods can be created manually with `types.MethodType` which is roughly equivalent to the following class in Python."
   ]
  },
  {
   "cell_type": "code",
   "execution_count": null,
   "id": "37698e14",
   "metadata": {},
   "outputs": [],
   "source": [
    "class MethodType:\n",
    "    \"Emulate PyMethod_Type in Objects/classobject.c\"\n",
    "\n",
    "    def __init__(self, func, obj):\n",
    "        self.__func__ = func\n",
    "        self.__self__ = obj\n",
    "\n",
    "    def __call__(self, *args, **kwargs):\n",
    "        func = self.__func__\n",
    "        obj = self.__self__\n",
    "        return func(obj, *args, **kwargs)\n",
    "\n",
    "    def __getattribute__(self, name):\n",
    "        \"Emulate method_getset() in Objects/classobject.c\"\n",
    "        if name == '__doc__':\n",
    "            return self.__func__.__doc__\n",
    "        return object.__getattribute__(self, name)\n",
    "\n",
    "    def __getattr__(self, name):\n",
    "        \"Emulate method_getattro() in Objects/classobject.c\"\n",
    "        return getattr(self.__func__, name)\n",
    "\n",
    "    def __get__(self, obj, objtype=None):\n",
    "        \"Emulate method_descr_get() in Objects/classobject.c\"\n",
    "        return self"
   ]
  },
  {
   "cell_type": "markdown",
   "id": "cc45a6c2",
   "metadata": {},
   "source": [
    "To support automatic creation of methods, functions include the `__get__()` method for binding methods during attribute access. This means that functions are non-data descriptors that return bound methods during dotted lookup from an instance.\n",
    "\n",
    "The following code shows how this works."
   ]
  },
  {
   "cell_type": "code",
   "execution_count": null,
   "id": "67bb629b",
   "metadata": {},
   "outputs": [],
   "source": [
    "class Function:\n",
    "    ...\n",
    "\n",
    "    def __get__(self, obj, objtype=None):\n",
    "        \"Simulate func_descr_get() in Objects/funcobject.c\"\n",
    "        if obj is None:\n",
    "            return self\n",
    "        return MethodType(self, obj)"
   ]
  },
  {
   "cell_type": "markdown",
   "id": "7fb04dc1",
   "metadata": {},
   "source": [
    "#### How the function descriptor works in practice"
   ]
  },
  {
   "cell_type": "code",
   "execution_count": null,
   "id": "4bff7cf3",
   "metadata": {},
   "outputs": [],
   "source": [
    "class MyClass:\n",
    "    def my_func(self):\n",
    "         return self"
   ]
  },
  {
   "cell_type": "markdown",
   "id": "f376ec46",
   "metadata": {},
   "source": [
    "Accessing the function through the class dictionary or dotted access from a class does not invoke `__get__()`. Instead, it just returns the underlying function object."
   ]
  },
  {
   "cell_type": "code",
   "execution_count": null,
   "id": "429a0c05",
   "metadata": {},
   "outputs": [],
   "source": [
    "MyClass.__dict__[\"my_func\"]"
   ]
  },
  {
   "cell_type": "code",
   "execution_count": null,
   "id": "e0682314",
   "metadata": {},
   "outputs": [],
   "source": [
    "MyClass.my_func"
   ]
  },
  {
   "cell_type": "markdown",
   "id": "e2d35f63",
   "metadata": {},
   "source": [
    "The dotted lookup from an instance calls `__get__()` which returns a bound method object."
   ]
  },
  {
   "cell_type": "code",
   "execution_count": null,
   "id": "ee8f93c1",
   "metadata": {},
   "outputs": [],
   "source": [
    "obj = MyClass()\n",
    "obj.my_func"
   ]
  },
  {
   "cell_type": "markdown",
   "id": "46ce2150",
   "metadata": {},
   "source": [
    "Internally, the bound method stores the underlying function and the bound instance."
   ]
  },
  {
   "cell_type": "code",
   "execution_count": null,
   "id": "9603b3b6",
   "metadata": {},
   "outputs": [],
   "source": [
    "obj.my_func.__func__"
   ]
  },
  {
   "cell_type": "code",
   "execution_count": null,
   "id": "e0b45087",
   "metadata": {},
   "outputs": [],
   "source": [
    "obj.my_func.__self__"
   ]
  },
  {
   "cell_type": "code",
   "execution_count": null,
   "id": "23486261",
   "metadata": {},
   "outputs": [],
   "source": [
    "obj is obj.my_func.__self__"
   ]
  },
  {
   "cell_type": "markdown",
   "id": "999ebcfc",
   "metadata": {},
   "source": [
    "This is why `self` variable name is commonly used in methods."
   ]
  },
  {
   "cell_type": "markdown",
   "id": "8afa968c",
   "metadata": {},
   "source": [
    "### Method binding\n",
    "\n",
    "Non-data descriptors provide a simple mechanism for variations on the usual patterns of binding functions into methods.\n",
    "\n",
    "This chart summarizes the binding and its two most useful variants:\n",
    "\n",
    "\n",
    "| Transformation | Called from an object | Called from a class |\n",
    "|---|---|---|\n",
    "| function | f(obj, *args) | f(*args) |\n",
    "| staticmethod | f(*args) | f(*args) |\n",
    "| classmethod | f(type(obj), *args) | f(cls, *args) |"
   ]
  },
  {
   "cell_type": "markdown",
   "id": "7b01a144",
   "metadata": {},
   "source": [
    "### Static methods\n",
    "\n",
    "Using the non-data descriptor protocol, a pure Python version of `staticmethod()` would look like the following."
   ]
  },
  {
   "cell_type": "code",
   "execution_count": null,
   "id": "1205c253",
   "metadata": {},
   "outputs": [],
   "source": [
    "class StaticMethod:\n",
    "    \"Emulate PyStaticMethod_Type() in Objects/funcobject.c\"\n",
    "\n",
    "    def __init__(self, f):\n",
    "        self.f = f\n",
    "\n",
    "    def __get__(self, obj, objtype=None):\n",
    "        return self.f\n",
    "\n",
    "    def __call__(self, *args, **kwds):\n",
    "        return self.f(*args, **kwds)"
   ]
  },
  {
   "cell_type": "markdown",
   "id": "008d5901",
   "metadata": {},
   "source": [
    "### Class methods\n",
    "\n",
    "Using the non-data descriptor protocol, a pure Python version of classmethod() would look like the following."
   ]
  },
  {
   "cell_type": "code",
   "execution_count": null,
   "id": "d0cc6ddf",
   "metadata": {},
   "outputs": [],
   "source": [
    "class ClassMethod:\n",
    "    \"Emulate PyClassMethod_Type() in Objects/funcobject.c\"\n",
    "    def __init__(self, f):\n",
    "        self.f = f\n",
    "\n",
    "    def __get__(self, obj, klass=None):\n",
    "        if klass is None:\n",
    "            klass = type(obj)\n",
    "        def newfunc(*args):\n",
    "            return self.f(klass, *args)\n",
    "        return newfunc"
   ]
  },
  {
   "cell_type": "markdown",
   "id": "0338dd36",
   "metadata": {},
   "source": [
    "## Metaprogramming\n",
    "\n",
    "**Metaprogramming** is a computer programming technique in which computer programs have the ability to treat other programs as their data. It means that a program can be designed to read, generate, analyse, or transform other programs, and even modify itself, while running.\n",
    "\n",
    "[Wikipedia - Metaprogramming](https://en.wikipedia.org/wiki/Metaprogramming)"
   ]
  },
  {
   "cell_type": "markdown",
   "id": "37580120",
   "metadata": {},
   "source": [
    "Some of the metaprogramming features in Python are:\n",
    "\n",
    "- dynamic code generation\n",
    "- decorators\n",
    "- descriptors\n",
    "- metaclasses"
   ]
  },
  {
   "cell_type": "markdown",
   "id": "235bae9f",
   "metadata": {},
   "source": [
    "### `eval()`\n",
    "\n",
    "The `eval()` function allows executing a string containing a expression and returning its result.\n",
    "\n",
    "<div class=\"alert alert-block alert-warning\">\n",
    "<b>Note:</b> Avoid using eval() with untrusted input because it is dangerous and can execute arbitrary code.\n",
    "</div>"
   ]
  },
  {
   "cell_type": "code",
   "execution_count": null,
   "id": "63821b78",
   "metadata": {},
   "outputs": [],
   "source": [
    "# basic example\n",
    "\n",
    "eval(\"4 + 2\")"
   ]
  },
  {
   "cell_type": "code",
   "execution_count": null,
   "id": "ca9c8046",
   "metadata": {},
   "outputs": [],
   "source": [
    "# using variables\n",
    "\n",
    "x = 42\n",
    "y = 24\n",
    "\n",
    "eval(\"x + y\")"
   ]
  },
  {
   "cell_type": "code",
   "execution_count": null,
   "id": "0734f896",
   "metadata": {},
   "outputs": [],
   "source": [
    "# evaluating collections\n",
    "\n",
    "eval(\"{'name': 'John Doe', 'age': 42}\")"
   ]
  },
  {
   "cell_type": "markdown",
   "id": "9e3bf3e3",
   "metadata": {},
   "source": [
    "### `exec()`\n",
    "\n",
    "The `exec()` function allows executing dynamically generated code. Unlike `eval()`, which only evaluates expressions, `exec()` can run statements like loops, function definitions, and class definitions.\n",
    "\n",
    "<div class=\"alert alert-block alert-warning\">\n",
    "<b>Note:</b> Avoid using exec() with untrusted input because it is dangerous and can execute arbitrary code.\n",
    "</div>"
   ]
  },
  {
   "cell_type": "code",
   "execution_count": null,
   "id": "8cdbcf42",
   "metadata": {},
   "outputs": [],
   "source": [
    "# basic example\n",
    "\n",
    "code = \"\"\"\n",
    "x = 4\n",
    "y = 2\n",
    "\n",
    "print(x + y)\n",
    "\"\"\"\n",
    "\n",
    "exec(code)"
   ]
  },
  {
   "cell_type": "code",
   "execution_count": null,
   "id": "d13e87c0",
   "metadata": {},
   "outputs": [],
   "source": [
    "# defining functions\n",
    "\n",
    "code = \"\"\"\n",
    "def greet(name=\"world\"):\n",
    "    return f\"Hello, {name}\"\n",
    "\"\"\"\n",
    "\n",
    "exec(code)\n",
    "\n",
    "greet(\"John Doe\")"
   ]
  },
  {
   "cell_type": "code",
   "execution_count": null,
   "id": "44ac8cd2",
   "metadata": {},
   "outputs": [],
   "source": [
    "# executing loops\n",
    "\n",
    "exec(\n",
    "\"\"\"\n",
    "for i in range(3):\n",
    "    print(\"Iteration:\", i)\n",
    "\"\"\"\n",
    ")"
   ]
  },
  {
   "cell_type": "code",
   "execution_count": null,
   "id": "5a798853",
   "metadata": {},
   "outputs": [],
   "source": [
    "# defining classes\n",
    "\n",
    "code = \"\"\"\n",
    "class DynamicClass:\n",
    "    def greet(self):\n",
    "        return \"Hello from DynamicClass!\"\n",
    "\"\"\"\n",
    "\n",
    "exec(code)\n",
    "\n",
    "obj = DynamicClass()\n",
    "obj.greet()"
   ]
  },
  {
   "cell_type": "markdown",
   "id": "364a5893",
   "metadata": {},
   "source": [
    "## Class metaprogramming\n",
    "\n",
    "This section is heavily influenced by the following:\n",
    "\n",
    "*References:*\n",
    "\n",
    "- Fluent Python, Luciano Ramalho\n",
    "\n",
    "### Classes are objects"
   ]
  },
  {
   "cell_type": "code",
   "execution_count": null,
   "id": "56a0b0c7",
   "metadata": {},
   "outputs": [],
   "source": [
    "class A:\n",
    "    pass\n",
    "\n",
    "\n",
    "class B(A):\n",
    "    pass\n",
    "\n",
    "\n",
    "class C(B):\n",
    "    pass"
   ]
  },
  {
   "cell_type": "code",
   "execution_count": null,
   "id": "f7526fe8",
   "metadata": {},
   "outputs": [],
   "source": [
    "B.__bases__"
   ]
  },
  {
   "cell_type": "code",
   "execution_count": null,
   "id": "18043c51",
   "metadata": {},
   "outputs": [],
   "source": [
    "B.__subclasses__()"
   ]
  },
  {
   "cell_type": "code",
   "execution_count": null,
   "id": "b696e256",
   "metadata": {},
   "outputs": [],
   "source": [
    "B.mro()"
   ]
  },
  {
   "cell_type": "markdown",
   "id": "8938a284",
   "metadata": {},
   "source": [
    "### `type()`\n",
    "\n",
    "The `type()` function in Python is used to determine the type of an object or dynamically create new classes."
   ]
  },
  {
   "cell_type": "code",
   "execution_count": null,
   "id": "bc0321e5",
   "metadata": {},
   "outputs": [],
   "source": [
    "type(42)"
   ]
  },
  {
   "cell_type": "code",
   "execution_count": null,
   "id": "61ce8c4b",
   "metadata": {},
   "outputs": [],
   "source": [
    "for t in int, str, list, set, tuple:\n",
    "    print(type(t))"
   ]
  },
  {
   "cell_type": "code",
   "execution_count": null,
   "id": "d313a446",
   "metadata": {},
   "outputs": [],
   "source": [
    "class A:\n",
    "    pass\n",
    "\n",
    "type(A)"
   ]
  },
  {
   "cell_type": "code",
   "execution_count": null,
   "id": "b62db254",
   "metadata": {},
   "outputs": [],
   "source": [
    "type(ValueError)"
   ]
  },
  {
   "cell_type": "code",
   "execution_count": null,
   "id": "83d037a7",
   "metadata": {},
   "outputs": [],
   "source": [
    "type(type)"
   ]
  },
  {
   "cell_type": "markdown",
   "id": "5dd11fa6",
   "metadata": {},
   "source": [
    "`type` is a **metaclass**, meaning it is a class that builds other classes.\n",
    "\n",
    "```\n",
    "type(name, bases, attributes)\n",
    "```\n",
    "\n",
    "- `name`: Name of the class.\n",
    "- `bases`: Tuple of base classes.\n",
    "- `attributes`: Dictionary of attributes and methods."
   ]
  },
  {
   "cell_type": "code",
   "execution_count": null,
   "id": "deea14a7",
   "metadata": {},
   "outputs": [],
   "source": [
    "A = type(\"A\", (object,), {\"a\": 42, \"greet\": lambda self: \"Hello from A!\"})\n",
    "B = type(\"B\", (A,), {\"b\": 24, \"greet\": lambda self: \"Hello from B!\"})"
   ]
  },
  {
   "cell_type": "code",
   "execution_count": null,
   "id": "aff17bb2",
   "metadata": {},
   "outputs": [],
   "source": [
    "from dis import dis"
   ]
  },
  {
   "cell_type": "code",
   "execution_count": null,
   "id": "47dd4231",
   "metadata": {},
   "outputs": [],
   "source": [
    "a = A()\n",
    "a.a, a.greet()"
   ]
  },
  {
   "cell_type": "code",
   "execution_count": null,
   "id": "f8b65672",
   "metadata": {},
   "outputs": [],
   "source": [
    "dis(A)"
   ]
  },
  {
   "cell_type": "code",
   "execution_count": null,
   "id": "d5964f63",
   "metadata": {},
   "outputs": [],
   "source": [
    "class A:\n",
    "#     def __init__(self):\n",
    "#         self.a = 42\n",
    "        \n",
    "    def greet(self):\n",
    "        return \"Hello from A!\""
   ]
  },
  {
   "cell_type": "code",
   "execution_count": null,
   "id": "05f37938",
   "metadata": {},
   "outputs": [],
   "source": [
    "dis(A)"
   ]
  },
  {
   "cell_type": "code",
   "execution_count": null,
   "id": "9226a484",
   "metadata": {},
   "outputs": [],
   "source": [
    "b = B()\n",
    "b.b, b.greet()"
   ]
  },
  {
   "cell_type": "markdown",
   "id": "16ab4ba8",
   "metadata": {},
   "source": [
    "### Class factory function\n",
    "\n",
    "In the following example we define a `record_factory` function that acts like `@dataclass`"
   ]
  },
  {
   "cell_type": "code",
   "execution_count": null,
   "id": "ceeb3304",
   "metadata": {},
   "outputs": [],
   "source": [
    "from typing import Union, Any\n",
    "from collections.abc import Iterable, Iterator\n",
    "\n",
    "\n",
    "FieldNames = str | Iterable[str]\n",
    "\n",
    "def parse_identifiers(names: FieldNames) -> tuple[str, ...]:\n",
    "    if isinstance(names, str):\n",
    "        names = names.replace(',', ' ').split()\n",
    "    if not all(s.isidentifier() for s in names):\n",
    "        raise ValueError('names must all be valid identifiers')\n",
    "    return tuple(names)\n",
    "\n",
    "\n",
    "def record_factory(cls_name: str, field_names: FieldNames) -> type[tuple]:\n",
    "    slots = parse_identifiers(field_names)\n",
    "\n",
    "    def __init__(self, *args, **kwargs) -> None:\n",
    "        attrs = dict(zip(self.__slots__, args))\n",
    "        attrs.update(kwargs)\n",
    "        for name, value in attrs.items():\n",
    "            setattr(self, name, value)\n",
    "\n",
    "    def __iter__(self) -> Iterator[Any]:\n",
    "        for name in self.__slots__:\n",
    "            yield getattr(self, name)\n",
    "\n",
    "    def __repr__(self):\n",
    "        values = \", \".join(f\"{name}={value!r}\"\n",
    "            for name, value in zip(self.__slots__, self))\n",
    "        cls_name = self.__class__.__name__\n",
    "        return f\"{cls_name}({values})\"\n",
    "\n",
    "    cls_attrs = dict(\n",
    "        __slots__=slots,\n",
    "        __init__=__init__,\n",
    "        __iter__=__iter__,\n",
    "        __repr__=__repr__,\n",
    "    )\n",
    "\n",
    "    return type(cls_name, (object,), cls_attrs)"
   ]
  },
  {
   "cell_type": "code",
   "execution_count": null,
   "id": "9e344bbc",
   "metadata": {},
   "outputs": [],
   "source": [
    "Person = record_factory(\"Person\", \"name age\")"
   ]
  },
  {
   "cell_type": "code",
   "execution_count": null,
   "id": "dce1b689",
   "metadata": {},
   "outputs": [],
   "source": [
    "p = Person(name=\"John Doe\", age=42)\n",
    "p"
   ]
  },
  {
   "cell_type": "code",
   "execution_count": null,
   "id": "edb5d6cc",
   "metadata": {},
   "outputs": [],
   "source": [
    "name, age = p\n",
    "\n",
    "print(name)\n",
    "print(age)"
   ]
  },
  {
   "cell_type": "markdown",
   "id": "cdb135a5",
   "metadata": {},
   "source": [
    "### `__init_subclass__()` method\n",
    "\n",
    "The `__init_subclass__()` method is a special class method that is automatically called whenever a subclass is created. It allows a base class to customize the behavior of its subclasses."
   ]
  },
  {
   "cell_type": "code",
   "execution_count": null,
   "id": "bbf81683",
   "metadata": {},
   "outputs": [],
   "source": [
    "from collections.abc import Callable\n",
    "from typing import Any, NoReturn, get_type_hints\n",
    "\n",
    "\n",
    "class Field:\n",
    "    def __init__(self, name: str, constructor: Callable) -> None:\n",
    "        if not callable(constructor) or constructor is type(None):\n",
    "            raise TypeError(f'{name!r} type hint must be callable')\n",
    "        self.name = name\n",
    "        self.constructor = constructor\n",
    "\n",
    "    def __set__(self, instance: Any, value: Any) -> None:\n",
    "        if value is ...:\n",
    "            value = self.constructor()\n",
    "        else:\n",
    "            try:\n",
    "                value = self.constructor(value)\n",
    "            except (TypeError, ValueError) as e:\n",
    "                type_name = self.constructor.__name__\n",
    "                msg = f'{value!r} is not compatible with {self.name}:{type_name}'\n",
    "                raise TypeError(msg) from e\n",
    "        instance.__dict__[self.name] = value"
   ]
  },
  {
   "cell_type": "code",
   "execution_count": null,
   "id": "aadda191",
   "metadata": {},
   "outputs": [],
   "source": [
    "class Checked:\n",
    "    @classmethod\n",
    "    def _fields(cls) -> dict[str, type]:\n",
    "        return get_type_hints(cls)\n",
    "\n",
    "    def __init_subclass__(subclass) -> None:\n",
    "        super().__init_subclass__()\n",
    "        for name, constructor in subclass._fields().items():\n",
    "            setattr(subclass, name, Field(name, constructor))\n",
    "\n",
    "    def __init__(self, **kwargs: Any) -> None:\n",
    "        for name in self._fields():\n",
    "            value = kwargs.pop(name, ...)\n",
    "            setattr(self, name, value)\n",
    "        if kwargs:\n",
    "            self.__flag_unknown_attrs(*kwargs)\n",
    "\n",
    "    def __setattr__(self, name: str, value: Any) -> None:\n",
    "        if name in self._fields():\n",
    "            cls = self.__class__\n",
    "            descriptor = getattr(cls, name)\n",
    "            descriptor.__set__(self, value)\n",
    "        else:\n",
    "            self.__flag_unknown_attrs(name)\n",
    "\n",
    "    def __flag_unknown_attrs(self, *names: str) -> NoReturn:\n",
    "        plural = 's' if len(names) > 1 else ''\n",
    "        extra = ', '.join(f'{name!r}' for name in names)\n",
    "        cls_name = repr(self.__class__.__name__)\n",
    "        raise AttributeError(f'{cls_name} object has no attribute{plural} {extra}')\n",
    "\n",
    "    def _asdict(self) -> dict[str, Any]:\n",
    "        return {\n",
    "            name: getattr(self, name)\n",
    "            for name, attr in self.__class__.__dict__.items()\n",
    "            if isinstance(attr, Field)\n",
    "        }\n",
    "\n",
    "    def __repr__(self) -> str:\n",
    "        kwargs = ', '.join(\n",
    "            f'{key}={value!r}' for key, value in self._asdict().items()\n",
    "        )\n",
    "        return f'{self.__class__.__name__}({kwargs})'"
   ]
  },
  {
   "cell_type": "code",
   "execution_count": null,
   "id": "7c6d78a3",
   "metadata": {},
   "outputs": [],
   "source": [
    "class Person(Checked):\n",
    "    name: str\n",
    "    age: int\n",
    "    salary: float"
   ]
  },
  {
   "cell_type": "code",
   "execution_count": null,
   "id": "a971817b",
   "metadata": {},
   "outputs": [],
   "source": [
    "person = Person(name=\"John Doe\", age=42, salary=199_999.99)\n",
    "person"
   ]
  },
  {
   "cell_type": "code",
   "execution_count": null,
   "id": "51c9af71",
   "metadata": {},
   "outputs": [],
   "source": [
    "person.name, person.age"
   ]
  },
  {
   "cell_type": "code",
   "execution_count": null,
   "id": "fcc7d4f8",
   "metadata": {},
   "outputs": [],
   "source": [
    "person.age = \"text\""
   ]
  },
  {
   "cell_type": "code",
   "execution_count": null,
   "id": "0a5aba3a",
   "metadata": {},
   "outputs": [],
   "source": [
    "person = Person()\n",
    "person"
   ]
  },
  {
   "cell_type": "code",
   "execution_count": null,
   "id": "e204b2e1",
   "metadata": {},
   "outputs": [],
   "source": [
    "person = Person(first_name=\"John Doe\", age=42, salary=199_999.99)"
   ]
  },
  {
   "cell_type": "markdown",
   "id": "c886baf1",
   "metadata": {},
   "source": [
    "The `__init_subclass__()` method is called after the class is created. Adding `__slots__` to an existing class has no effect, meaning we cannot use the `__init_subclass__()` method for that purpose."
   ]
  }
 ],
 "metadata": {
  "kernelspec": {
   "display_name": "Python 3 (ipykernel)",
   "language": "python",
   "name": "python3"
  },
  "language_info": {
   "codemirror_mode": {
    "name": "ipython",
    "version": 3
   },
   "file_extension": ".py",
   "mimetype": "text/x-python",
   "name": "python",
   "nbconvert_exporter": "python",
   "pygments_lexer": "ipython3",
   "version": "3.12.9"
  }
 },
 "nbformat": 4,
 "nbformat_minor": 5
}
