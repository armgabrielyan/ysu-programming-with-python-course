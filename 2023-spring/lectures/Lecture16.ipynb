{
 "cells": [
  {
   "cell_type": "markdown",
   "id": "74750d32",
   "metadata": {
    "slideshow": {
     "slide_type": "slide"
    }
   },
   "source": [
    "# Programming with Python\n",
    "\n",
    "## Lecture 16: Problem solving session\n",
    "\n",
    "### Armen Gabrielyan\n",
    "\n",
    "#### Yerevan State University\n",
    "#### Portmind"
   ]
  },
  {
   "cell_type": "markdown",
   "id": "1c626148",
   "metadata": {
    "slideshow": {
     "slide_type": "slide"
    }
   },
   "source": [
    "## Problem set 1\n",
    "\n",
    "1. ~~Write a Python function to remove duplicates from a list (with/without preserving the order).~~\n",
    "2. ~~Write a Python function to return the frequency of each element in a given list.~~\n",
    "3. ~~Write a Python function to merge two sorted lists into a single sorted list.~~\n",
    "4. ~~Write a Python function to remove all the occurrences of an element from a list.~~\n",
    "5. Two lists representing two positive integers are given. The digits are stored in reverse order. Write a Python function to sum the two integers and return the result as a list."
   ]
  },
  {
   "cell_type": "markdown",
   "id": "d3d4061f",
   "metadata": {
    "slideshow": {
     "slide_type": "slide"
    }
   },
   "source": [
    "### Problem 5"
   ]
  },
  {
   "cell_type": "code",
   "execution_count": null,
   "id": "717c7800",
   "metadata": {
    "slideshow": {
     "slide_type": "fragment"
    }
   },
   "outputs": [],
   "source": [
    "def sum_integers(arr1, arr2):\n",
    "    # [1,2,3]\n",
    "    # reversed(arr1) -> [3,2,1]\n",
    "    # ['3', '2', '1']\n",
    "    # ''.join -> '321'\n",
    "    # n1 = 321\n",
    "    \n",
    "    n1 = int(''.join(str(i) for i in reversed(arr1)))\n",
    "    n2 = int(''.join(str(i) for i in reversed(arr2)))\n",
    "    total = n1 + n2\n",
    "    return [int(i) for i in reversed(str(total))]\n",
    "\n",
    "arr1 = [1,2,3]\n",
    "arr2 = [9, 2, 1]\n",
    "# 321 + 129 = 450\n",
    "# [0, 5, 4]\n",
    "\n",
    "print(sum_integers(arr1, arr2))"
   ]
  },
  {
   "cell_type": "code",
   "execution_count": null,
   "id": "ab7c7219",
   "metadata": {
    "slideshow": {
     "slide_type": "subslide"
    }
   },
   "outputs": [],
   "source": [
    "def sum_lav_dzev(arr1, arr2):\n",
    "    result = []\n",
    "    remainder = 0\n",
    "    for i in range(len(arr1)):\n",
    "        current = arr1[i] + arr2[i] + remainder\n",
    "        remainder = current // 10\n",
    "        result.append(current % 10)\n",
    "    if remainder:\n",
    "        result.append(remainder)\n",
    "        \n",
    "    return result"
   ]
  },
  {
   "cell_type": "code",
   "execution_count": null,
   "id": "cf39dc90",
   "metadata": {
    "slideshow": {
     "slide_type": "fragment"
    }
   },
   "outputs": [],
   "source": [
    "arr1 = [1,2,3]\n",
    "arr2 = [9, 2, 9]\n",
    "# 321 + 129 = 450\n",
    "# [0, 5, 4]\n",
    "\n",
    "sum_lav_dzev(arr1, arr2)"
   ]
  },
  {
   "cell_type": "markdown",
   "id": "ae69643b",
   "metadata": {
    "slideshow": {
     "slide_type": "slide"
    }
   },
   "source": [
    "## Problem set 2\n",
    "\n",
    "1. Write a Python function to get symmetric tuples from a list of tuples. Each tuple consists of two elements, i.e. they are in the form of $(x, y)$. A tuple $(x, y)$ is symmetric if there is another (y, x) tuple in the list.\n",
    "2. Write a Python function that assigns the frequency to each tuple in a given list as a last tuple element.\n",
    "3. Write a Python function to convert a binary tuple to an integer."
   ]
  },
  {
   "cell_type": "markdown",
   "id": "d393b5a6",
   "metadata": {
    "slideshow": {
     "slide_type": "slide"
    }
   },
   "source": [
    "### Problem 1"
   ]
  },
  {
   "cell_type": "code",
   "execution_count": null,
   "id": "2bef428c",
   "metadata": {
    "slideshow": {
     "slide_type": "fragment"
    }
   },
   "outputs": [],
   "source": [
    "def get_symmetric_tuples(arr):\n",
    "    table = set()\n",
    "    result = set()\n",
    "    for element in arr:\n",
    "        if element not in table:\n",
    "            table.add(tuple(reversed(element)))\n",
    "        else:\n",
    "            result.add(element)\n",
    "            \n",
    "    return result"
   ]
  },
  {
   "cell_type": "code",
   "execution_count": null,
   "id": "c9147974",
   "metadata": {
    "slideshow": {
     "slide_type": "fragment"
    }
   },
   "outputs": [],
   "source": [
    "tuples = [(1, 2), (1, 1), (1, 1), (2, 1), (3, 4), (2, 1), (1, 2)]\n",
    "\n",
    "get_symmetric_tuples(tuples)"
   ]
  },
  {
   "cell_type": "markdown",
   "id": "f9ca0cec",
   "metadata": {
    "slideshow": {
     "slide_type": "slide"
    }
   },
   "source": [
    "### Problem 2"
   ]
  },
  {
   "cell_type": "code",
   "execution_count": null,
   "id": "bafc7512",
   "metadata": {
    "slideshow": {
     "slide_type": "fragment"
    }
   },
   "outputs": [],
   "source": [
    "# 2\n",
    "def assign_frequency(arr):\n",
    "    table = dict()\n",
    "    for el in arr:\n",
    "        if el not in table:\n",
    "            table[el] = 1\n",
    "        else:\n",
    "            table[el] += 1\n",
    "\n",
    "    return [el + (table[el],) for el in arr]"
   ]
  },
  {
   "cell_type": "code",
   "execution_count": null,
   "id": "e29f2f88",
   "metadata": {
    "slideshow": {
     "slide_type": "fragment"
    }
   },
   "outputs": [],
   "source": [
    "tuples = [(1, 2), (1, 1), (1, 1), (2, 1), (3, 4), (2, 1), (1, 2), (1, 2, 3)]\n",
    "assign_frequency(tuples)"
   ]
  },
  {
   "cell_type": "markdown",
   "id": "3acced6e",
   "metadata": {
    "slideshow": {
     "slide_type": "slide"
    }
   },
   "source": [
    "### Problem 3"
   ]
  },
  {
   "cell_type": "code",
   "execution_count": null,
   "id": "f877167b",
   "metadata": {
    "slideshow": {
     "slide_type": "fragment"
    }
   },
   "outputs": [],
   "source": [
    "def convert_bin_tuple_to_int(bin_tuple):\n",
    "    number = 0\n",
    "    n = len(bin_tuple)\n",
    "    for i in range(n - 1, -1, -1):\n",
    "        number += bin_tuple[n - i - 1] * 2 ** i\n",
    "    return number"
   ]
  },
  {
   "cell_type": "code",
   "execution_count": null,
   "id": "485fe132",
   "metadata": {
    "slideshow": {
     "slide_type": "fragment"
    }
   },
   "outputs": [],
   "source": [
    "convert_bin_tuple_to_int((1, 1, 0, 1, 0))"
   ]
  }
 ],
 "metadata": {
  "celltoolbar": "Slideshow",
  "kernelspec": {
   "display_name": "Python 3 (ipykernel)",
   "language": "python",
   "name": "python3"
  },
  "language_info": {
   "codemirror_mode": {
    "name": "ipython",
    "version": 3
   },
   "file_extension": ".py",
   "mimetype": "text/x-python",
   "name": "python",
   "nbconvert_exporter": "python",
   "pygments_lexer": "ipython3",
   "version": "3.8.10"
  }
 },
 "nbformat": 4,
 "nbformat_minor": 5
}
