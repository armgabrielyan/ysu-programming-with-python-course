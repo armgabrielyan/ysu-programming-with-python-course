{
 "cells": [
  {
   "cell_type": "markdown",
   "id": "d159dca9",
   "metadata": {},
   "source": [
    "# Programming with Python\n",
    "\n",
    "## Lecture 01: Introduction\n",
    "\n",
    "### Armen Gabrielyan\n",
    "\n",
    "#### Yerevan State University / ASDS\n",
    "\n",
    "#### 8 Feb, 2025"
   ]
  },
  {
   "cell_type": "markdown",
   "id": "c4fdd8c5",
   "metadata": {},
   "source": [
    "# Course information\n",
    "\n",
    "- maybe 3-4 credit score\n",
    "- 2 sessions/week on Saturdays from 11:30 to 12:50"
   ]
  },
  {
   "cell_type": "markdown",
   "id": "090f80d8",
   "metadata": {},
   "source": [
    "# Prerequisites\n",
    "\n",
    "Students should have a basic understanding of programming concepts and prior experience with Python."
   ]
  },
  {
   "cell_type": "markdown",
   "id": "054bff2b",
   "metadata": {},
   "source": [
    "# End of class goals\n",
    "\n",
    "- Learn advanced concepts in Python 3 programming language.\n",
    "- Learn to design, implement, debug and test computer programs.\n",
    "- Learn to develop algorithmic solutions for real-life problems in sciences and beyond.\n",
    "\n",
    "- And many more..."
   ]
  },
  {
   "cell_type": "markdown",
   "id": "f9700fcd",
   "metadata": {},
   "source": [
    "# Grading\n",
    "\n",
    "Դասընթացը գնահատվում է առավելագույնը 20 միավոր:\n",
    "\n",
    "Օրինակ՝\n",
    "\n",
    "1. 1-ին ընթացիկ քննություն՝ 4 միավոր առավելագույն արժեքով (20%),\n",
    "2. 2-րդ ընթացիկ քննություն՝ 4 միավոր առավելագույն արժեքով (20%),\n",
    "3. Ընթացիկ ստուգում՝ 6 միավոր առավելագույն արժեքով (30%),\n",
    "4. Ինքնուրույն աշխատանք՝ 6 միավոր առավելագույն արժեքով (30%):"
   ]
  },
  {
   "cell_type": "markdown",
   "id": "009d7044",
   "metadata": {},
   "source": [
    "# Communication and collaboration\n",
    "\n",
    "- You can contact me via Slack or at armen.gabrielyan@ysu.am.\n",
    "- It is advised that students communicate and collaborate with each other a lot because they learn a huge amount from each other.\n",
    "- Course materials will be released on https://github.com/armgabrielyan/ysu-programming-with-python-course/tree/main/2025-spring, shared Google Drive, and https://e-learning.ysu.am portal."
   ]
  },
  {
   "cell_type": "markdown",
   "id": "04cad5d5",
   "metadata": {},
   "source": [
    "# Course structure\n",
    "\n",
    "The following is a non-exhaustive list of topics from beginner to advanced. It can be adjusted throughout the course.\n",
    "\n",
    "- Computation principles\n",
    "- Python data types and structures, variables, expressions, statements, operators\n",
    "- Branching, conditioning and iteration/loops\n",
    "- Functions, iteration and recursion, iterators and generators, decorators\n",
    "- Mutable and immutable data structures\n",
    "- Lists, tuples, sets and dictionaries\n",
    "- File I/O\n",
    "- Libraries and packages\n",
    "- Command-line interface applications\n",
    "- Regular expressions\n",
    "- Object-oriented programming and its principles\n",
    "- Type hints and type checking\n",
    "- Debugging, exceptions, assertions, testing\n",
    "- Memory management and garbage collection\n",
    "- Concurrent and parallel programming, synchronous and asynchronous programming\n",
    "- Dynamic attributes and properties, attribute descriptors, metaprogramming\n",
    "- Introduction to popular data science/machine learning libraries: NumPy, SciPy, Pandas/Polars, Matplotlib, PyTorch\n",
    "- Web serving, WSGI and ASGI specifications, gunicorn and uvicorn web servers, Flask and FastAPI frameworks\n",
    "- Stateful applications and databases\n",
    "- Containerization, Docker, deployment"
   ]
  },
  {
   "cell_type": "markdown",
   "id": "2b8e888f",
   "metadata": {},
   "source": [
    "# Textbooks and references\n",
    "\n",
    "- Luciano Ramalho, Fluent Python, 2nd edition, O'Reilly Media, 2022\n",
    "- David Beazley, Brian K. Jones, Python Cookbook, 3rd edition, O'Reilly Media, 2013\n",
    "- Python official documentation, https://docs.python.org/3/"
   ]
  },
  {
   "cell_type": "markdown",
   "id": "1c1816b1",
   "metadata": {},
   "source": [
    "# Functions\n",
    "\n",
    "A function is a block of statements that encapsulates a certain functionality. The general form of functions in Python is as follows:\n",
    "\n",
    "```python\n",
    "def <function_name>([<parameters>]):\n",
    "    <statement(s)>\n",
    "```\n",
    "\n",
    "- `<function_name>` is a valid identifier that follows the variable naming rules.\n",
    "- `<parameters>` is an optional comma-separated list of parameters that the function accepts.\n",
    "- `<statement(s)>` is a block of statements."
   ]
  },
  {
   "cell_type": "code",
   "execution_count": null,
   "id": "f3fa079e",
   "metadata": {},
   "outputs": [],
   "source": [
    "def greet():\n",
    "    print(\"Hello world!\")\n",
    "    print(\"We are learning Python\")\n",
    "    \n",
    "greet()"
   ]
  },
  {
   "cell_type": "markdown",
   "id": "b4daa54b",
   "metadata": {},
   "source": [
    "# Parameters and arguments\n",
    "\n",
    "Parameters are defined by the names that appear in a function definitions. On the other hand, arguments are the actual values passed to the function.\n",
    "\n",
    "```python\n",
    "def <function_name>(<parameters>):\n",
    "    <statement(s)>\n",
    "    \n",
    "<function_name>(<arguments>)\n",
    "```\n",
    "\n",
    "- `<parameters>` are the parameters of the function `<function_name>`.\n",
    "- `<arguments>` are the values passed to the function `<function_name>` when called.\n",
    "\n",
    "Parameters and arguments are also known as formal parameters and actual parameters, respectively."
   ]
  },
  {
   "cell_type": "markdown",
   "id": "abb77e13",
   "metadata": {
    "slideshow": {
     "slide_type": "slide"
    }
   },
   "source": [
    "## Arguments\n",
    "\n",
    "We usually define functions that accept data. The data can be passed to functions via arguments. In Python, generally two types of arguments are defined:\n",
    "\n",
    "- positional arguments\n",
    "- keyword arguments"
   ]
  },
  {
   "cell_type": "markdown",
   "id": "12da266f",
   "metadata": {
    "slideshow": {
     "slide_type": "slide"
    }
   },
   "source": [
    "## Positional arguments\n",
    "\n",
    "The function is called by passing a comma-separated list of arguments. Given a function `f` with $n$ parameters, it is called with $n$ arguments by `f(arg_1, arg_2, ..., arg_n)`."
   ]
  },
  {
   "cell_type": "code",
   "execution_count": null,
   "id": "499b89da",
   "metadata": {
    "slideshow": {
     "slide_type": "fragment"
    }
   },
   "outputs": [],
   "source": [
    "def euclidean_distance(x1, y1, x2, y2):\n",
    "    distance = ((x1 - x2) ** 2 + (y1 - y2) ** 2) ** 0.5\n",
    "    print(f\"The euclidean distance between {(x1, y1)} and {(x2, y2)} is {distance:.2f}\")"
   ]
  },
  {
   "cell_type": "code",
   "execution_count": null,
   "id": "fb32cd45",
   "metadata": {},
   "outputs": [],
   "source": [
    "euclidean_distance(0, 1, 2, 3)"
   ]
  },
  {
   "cell_type": "markdown",
   "id": "a066b3f8",
   "metadata": {
    "slideshow": {
     "slide_type": "slide"
    }
   },
   "source": [
    "## Keyword arguments\n",
    "\n",
    "The function is called by passing a comma-separated list of arguments in the form of `<keyword>=<value>`, where `<keyword>` is a parameter name in the function definition. Given a function `f` with $n$ parameters, it can be called with $n$ arguments by `f(param_1=arg_1, param_2=arg_2, ..., param_n=arg_n)`."
   ]
  },
  {
   "cell_type": "code",
   "execution_count": null,
   "id": "8001184b",
   "metadata": {
    "slideshow": {
     "slide_type": "fragment"
    }
   },
   "outputs": [],
   "source": [
    "euclidean_distance(x1=0, y1=1, x2=2, y2=3)"
   ]
  },
  {
   "cell_type": "markdown",
   "id": "02261d7e",
   "metadata": {
    "slideshow": {
     "slide_type": "slide"
    }
   },
   "source": [
    "## Variable-length arguments"
   ]
  },
  {
   "cell_type": "markdown",
   "id": "3e3062f5",
   "metadata": {
    "slideshow": {
     "slide_type": "subslide"
    }
   },
   "source": [
    "### Argument tuple packing\n",
    "\n",
    "Variable-length arguments can be provided to a function via argument tuple packing indicated by `*`."
   ]
  },
  {
   "cell_type": "code",
   "execution_count": null,
   "id": "cb14229f",
   "metadata": {
    "slideshow": {
     "slide_type": "fragment"
    }
   },
   "outputs": [],
   "source": [
    "def sum_of_squares(*args):\n",
    "    return args, type(args)"
   ]
  },
  {
   "cell_type": "code",
   "execution_count": null,
   "id": "ba370a87",
   "metadata": {
    "slideshow": {
     "slide_type": "fragment"
    }
   },
   "outputs": [],
   "source": [
    "sum_of_squares(1, 2, 3)"
   ]
  },
  {
   "cell_type": "code",
   "execution_count": null,
   "id": "be4e8f44",
   "metadata": {
    "slideshow": {
     "slide_type": "fragment"
    }
   },
   "outputs": [],
   "source": [
    "def sum_of_squares(*args):\n",
    "    result = 0\n",
    "    for i in args:\n",
    "        result += i ** 2\n",
    "    return result"
   ]
  },
  {
   "cell_type": "code",
   "execution_count": null,
   "id": "eeb1d85f",
   "metadata": {
    "slideshow": {
     "slide_type": "fragment"
    }
   },
   "outputs": [],
   "source": [
    "sum_of_squares(1, 2, 3)"
   ]
  },
  {
   "cell_type": "code",
   "execution_count": null,
   "id": "350ba27d",
   "metadata": {
    "slideshow": {
     "slide_type": "fragment"
    }
   },
   "outputs": [],
   "source": [
    "sum_of_squares(1, 2, 3, 4, 5)"
   ]
  },
  {
   "cell_type": "markdown",
   "id": "b07c8efe",
   "metadata": {
    "slideshow": {
     "slide_type": "subslide"
    }
   },
   "source": [
    "A tuple can be unpacked via `*` when passed as an argument to a function."
   ]
  },
  {
   "cell_type": "code",
   "execution_count": null,
   "id": "6d795dfb",
   "metadata": {
    "slideshow": {
     "slide_type": "fragment"
    }
   },
   "outputs": [],
   "source": [
    "t = (10, 7, 15, 6, 42)\n",
    "sum_of_squares(*t)"
   ]
  },
  {
   "cell_type": "markdown",
   "id": "fc404da9",
   "metadata": {
    "slideshow": {
     "slide_type": "subslide"
    }
   },
   "source": [
    "### Argument dictionary packing\n",
    "\n",
    "Variable-length arguments can be provided to a function via argument dictionary packing indicated by `**`."
   ]
  },
  {
   "cell_type": "code",
   "execution_count": null,
   "id": "38294916",
   "metadata": {
    "slideshow": {
     "slide_type": "fragment"
    }
   },
   "outputs": [],
   "source": [
    "def pretty_print(**kwargs):\n",
    "    return kwargs, type(kwargs)"
   ]
  },
  {
   "cell_type": "code",
   "execution_count": null,
   "id": "f35e0f87",
   "metadata": {
    "slideshow": {
     "slide_type": "fragment"
    }
   },
   "outputs": [],
   "source": [
    "pretty_print(name=\"Alice\", age=24)"
   ]
  },
  {
   "cell_type": "code",
   "execution_count": null,
   "id": "284cff10",
   "metadata": {
    "slideshow": {
     "slide_type": "fragment"
    }
   },
   "outputs": [],
   "source": [
    "def pretty_print(**kwargs):\n",
    "    for key, value in kwargs.items():\n",
    "        print(f\"{key} => {value}\")"
   ]
  },
  {
   "cell_type": "code",
   "execution_count": null,
   "id": "dcb047a4",
   "metadata": {
    "slideshow": {
     "slide_type": "fragment"
    }
   },
   "outputs": [],
   "source": [
    "pretty_print(name=\"Alice\", age=24)"
   ]
  },
  {
   "cell_type": "code",
   "execution_count": null,
   "id": "29c04dc6",
   "metadata": {
    "slideshow": {
     "slide_type": "fragment"
    }
   },
   "outputs": [],
   "source": [
    "pretty_print(a=1, b=[2, 3, 4], c=\"Hello world!\")"
   ]
  },
  {
   "cell_type": "markdown",
   "id": "ecb5a5ff",
   "metadata": {
    "slideshow": {
     "slide_type": "subslide"
    }
   },
   "source": [
    "A dictionary can be unpacked via `**` when passed as an argument to a function."
   ]
  },
  {
   "cell_type": "code",
   "execution_count": null,
   "id": "5bf68ebe",
   "metadata": {
    "slideshow": {
     "slide_type": "fragment"
    }
   },
   "outputs": [],
   "source": [
    "d = {'name': 'Alice', 'age': 24}\n",
    "pretty_print(**d)"
   ]
  },
  {
   "cell_type": "markdown",
   "id": "baef4d76",
   "metadata": {
    "slideshow": {
     "slide_type": "slide"
    }
   },
   "source": [
    "## Keyword-only arguments\n",
    "\n",
    "[PEP 3102 – Keyword-Only Arguments](https://peps.python.org/pep-3102/) added a support for defining keyword-only arguments. These are arguments that need to be provided by keyword and cannot be passed positional arguments. They are defined by using `*` before their definition in the parameter list."
   ]
  },
  {
   "cell_type": "markdown",
   "id": "d48ca2d8",
   "metadata": {
    "slideshow": {
     "slide_type": "slide"
    }
   },
   "source": [
    "## Positional-only arguments\n",
    "\n",
    "[PEP 570 – Python Positional-Only Parameters](https://peps.python.org/pep-0570/) introduced a new syntax to Python 3.8 to define positional-only arguments. This can be applied by specifying a `/` in the parameter definition and any parameter that comes before it will be considered as positional-only."
   ]
  },
  {
   "cell_type": "code",
   "execution_count": null,
   "id": "b7275a07",
   "metadata": {
    "slideshow": {
     "slide_type": "fragment"
    }
   },
   "outputs": [],
   "source": [
    "def f(pos_arg_1, pos_arg_2, /, arg_1, arg_2, *, kwarg_1, kwarg_2):\n",
    "    print(pos_arg_1, pos_arg_2, arg_1, arg_2, kwarg_1, kwarg_2)"
   ]
  },
  {
   "cell_type": "code",
   "execution_count": null,
   "id": "6ed61865",
   "metadata": {
    "slideshow": {
     "slide_type": "fragment"
    }
   },
   "outputs": [],
   "source": [
    "f(1, 2, 3, 4, kwarg_1=5, kwarg_2=6)"
   ]
  },
  {
   "cell_type": "code",
   "execution_count": null,
   "id": "6080edd2",
   "metadata": {
    "slideshow": {
     "slide_type": "fragment"
    }
   },
   "outputs": [],
   "source": [
    "f(1, 2, arg_1=3, arg_2=4, kwarg_1=5, kwarg_2=6)"
   ]
  },
  {
   "cell_type": "markdown",
   "id": "26efc8b9",
   "metadata": {
    "slideshow": {
     "slide_type": "slide"
    }
   },
   "source": [
    "## Mutable default parameters\n",
    "\n",
    "Function default parameters are defined only once. This means that the same object is referenced as a default value when the function is called."
   ]
  },
  {
   "cell_type": "code",
   "execution_count": null,
   "id": "09a27d11",
   "metadata": {
    "slideshow": {
     "slide_type": "fragment"
    }
   },
   "outputs": [],
   "source": [
    "def append_42(sequence=[]):\n",
    "    sequence.append(42)\n",
    "    print(sequence)"
   ]
  },
  {
   "cell_type": "code",
   "execution_count": null,
   "id": "ba1ab5a1",
   "metadata": {
    "slideshow": {
     "slide_type": "fragment"
    }
   },
   "outputs": [],
   "source": [
    "append_42([1, 2, 3])"
   ]
  },
  {
   "cell_type": "code",
   "execution_count": null,
   "id": "cfc97225",
   "metadata": {
    "slideshow": {
     "slide_type": "fragment"
    }
   },
   "outputs": [],
   "source": [
    "append_42([\"red\", \"green\", \"yellow\"])"
   ]
  },
  {
   "cell_type": "code",
   "execution_count": null,
   "id": "88afe8ac",
   "metadata": {
    "slideshow": {
     "slide_type": "fragment"
    }
   },
   "outputs": [],
   "source": [
    "append_42()"
   ]
  },
  {
   "cell_type": "code",
   "execution_count": null,
   "id": "e95ad439",
   "metadata": {
    "slideshow": {
     "slide_type": "subslide"
    }
   },
   "outputs": [],
   "source": [
    "append_42()"
   ]
  },
  {
   "cell_type": "code",
   "execution_count": null,
   "id": "05a11ef7",
   "metadata": {
    "slideshow": {
     "slide_type": "fragment"
    }
   },
   "outputs": [],
   "source": [
    "append_42()"
   ]
  },
  {
   "cell_type": "markdown",
   "id": "0f5489c0",
   "metadata": {
    "slideshow": {
     "slide_type": "subslide"
    }
   },
   "source": [
    "Each time the function is called without providing an argument for the default parameter, the same list object is mutated. This can be verified by checking the object identifer via `id()` function."
   ]
  },
  {
   "cell_type": "code",
   "execution_count": null,
   "id": "1ffeed19",
   "metadata": {
    "slideshow": {
     "slide_type": "fragment"
    }
   },
   "outputs": [],
   "source": [
    "def append_42(sequence=[]):\n",
    "    print(f\"The id of default parameter is {id(sequence)}.\")\n",
    "    sequence.append(42)\n",
    "    print(sequence)"
   ]
  },
  {
   "cell_type": "code",
   "execution_count": null,
   "id": "6245ed64",
   "metadata": {
    "slideshow": {
     "slide_type": "fragment"
    }
   },
   "outputs": [],
   "source": [
    "append_42()"
   ]
  },
  {
   "cell_type": "code",
   "execution_count": null,
   "id": "a6552472",
   "metadata": {
    "slideshow": {
     "slide_type": "fragment"
    }
   },
   "outputs": [],
   "source": [
    "append_42()"
   ]
  },
  {
   "cell_type": "code",
   "execution_count": null,
   "id": "74d384d7",
   "metadata": {
    "slideshow": {
     "slide_type": "fragment"
    }
   },
   "outputs": [],
   "source": [
    "append_42()"
   ]
  },
  {
   "cell_type": "markdown",
   "id": "29b05445",
   "metadata": {
    "slideshow": {
     "slide_type": "subslide"
    }
   },
   "source": [
    "### Solution\n",
    "\n",
    "This problem can be resolved by using a sentinel value to indicate that no argument is passed to the function. Generally, `None` can be used as a sentinel value in this kind of situations."
   ]
  },
  {
   "cell_type": "code",
   "execution_count": null,
   "id": "79493605",
   "metadata": {
    "slideshow": {
     "slide_type": "fragment"
    }
   },
   "outputs": [],
   "source": [
    "def append_42(sequence=None):\n",
    "    if sequence is None:\n",
    "        sequence = []\n",
    "    sequence.append(42)\n",
    "    print(sequence)"
   ]
  },
  {
   "cell_type": "code",
   "execution_count": null,
   "id": "4486c35c",
   "metadata": {
    "slideshow": {
     "slide_type": "fragment"
    }
   },
   "outputs": [],
   "source": [
    "append_42()"
   ]
  },
  {
   "cell_type": "code",
   "execution_count": null,
   "id": "9dc6f1fd",
   "metadata": {
    "slideshow": {
     "slide_type": "fragment"
    }
   },
   "outputs": [],
   "source": [
    "append_42()"
   ]
  },
  {
   "cell_type": "code",
   "execution_count": null,
   "id": "25380d45",
   "metadata": {
    "slideshow": {
     "slide_type": "fragment"
    }
   },
   "outputs": [],
   "source": [
    "append_42()"
   ]
  },
  {
   "cell_type": "markdown",
   "id": "c6a030b9",
   "metadata": {
    "slideshow": {
     "slide_type": "slide"
    }
   },
   "source": [
    "# Functions as first-class objects\n",
    "\n",
    "Python is not a functional programming language, but it has some elements of functional programming. First-class objects is a fundamental feature of functional programming and Python has adopted it. **First-class objects** can be defined as a program entity that can be treated like any other normal object and has the following properties. It can be:\n",
    "\n",
    "- Created at runtime\n",
    "- Assigned to a variable or a data structure element\n",
    "- Passed as an argument to a function\n",
    "- Returned as a result from a function"
   ]
  },
  {
   "cell_type": "code",
   "execution_count": null,
   "id": "bda04ae0",
   "metadata": {
    "slideshow": {
     "slide_type": "slide"
    }
   },
   "outputs": [],
   "source": [
    "def greet(name):\n",
    "    return f\"Hello, {name.title()}\"\n",
    "\n",
    "greet"
   ]
  },
  {
   "cell_type": "code",
   "execution_count": null,
   "id": "40b956b9",
   "metadata": {
    "slideshow": {
     "slide_type": "fragment"
    }
   },
   "outputs": [],
   "source": [
    "greet(\"john doe\")"
   ]
  },
  {
   "cell_type": "code",
   "execution_count": null,
   "id": "26c4d1b8",
   "metadata": {
    "slideshow": {
     "slide_type": "fragment"
    }
   },
   "outputs": [],
   "source": [
    "hello = greet\n",
    "\n",
    "hello"
   ]
  },
  {
   "cell_type": "code",
   "execution_count": null,
   "id": "b146c129",
   "metadata": {
    "slideshow": {
     "slide_type": "fragment"
    }
   },
   "outputs": [],
   "source": [
    "hello(\"Alice smith\")"
   ]
  },
  {
   "cell_type": "code",
   "execution_count": null,
   "id": "641f3bed",
   "metadata": {
    "slideshow": {
     "slide_type": "slide"
    }
   },
   "outputs": [],
   "source": [
    "functions = [\n",
    "    lambda x, y: x + y,\n",
    "    lambda x, y: x - y,   \n",
    "]"
   ]
  },
  {
   "cell_type": "code",
   "execution_count": null,
   "id": "7ac234bf",
   "metadata": {
    "slideshow": {
     "slide_type": "fragment"
    }
   },
   "outputs": [],
   "source": [
    "def multiply(x, y):\n",
    "    return x * y\n",
    "\n",
    "def divide(x, y):\n",
    "    return x / y"
   ]
  },
  {
   "cell_type": "code",
   "execution_count": null,
   "id": "c04cf318",
   "metadata": {
    "slideshow": {
     "slide_type": "fragment"
    }
   },
   "outputs": [],
   "source": [
    "functions.append(multiply)\n",
    "functions.append(divide)\n",
    "\n",
    "functions"
   ]
  },
  {
   "cell_type": "code",
   "execution_count": null,
   "id": "4d2142b1",
   "metadata": {
    "slideshow": {
     "slide_type": "fragment"
    }
   },
   "outputs": [],
   "source": [
    "for func in functions:\n",
    "    print(func(25, 4))"
   ]
  },
  {
   "cell_type": "markdown",
   "id": "00d9dfaa",
   "metadata": {
    "slideshow": {
     "slide_type": "slide"
    }
   },
   "source": [
    "# Higher-order functions\n",
    "\n",
    "Functions that take other functions as an argument or return a function as a result are called higher-order functions."
   ]
  },
  {
   "cell_type": "markdown",
   "id": "63a75399",
   "metadata": {
    "slideshow": {
     "slide_type": "slide"
    }
   },
   "source": [
    "### Function that accepts a function as an argument"
   ]
  },
  {
   "cell_type": "code",
   "execution_count": null,
   "id": "e10224c3",
   "metadata": {
    "slideshow": {
     "slide_type": "fragment"
    }
   },
   "outputs": [],
   "source": [
    "def calculate(func, x, y):\n",
    "    result = func(x, y)\n",
    "    return result"
   ]
  },
  {
   "cell_type": "code",
   "execution_count": null,
   "id": "8b82ae79",
   "metadata": {
    "slideshow": {
     "slide_type": "fragment"
    }
   },
   "outputs": [],
   "source": [
    "calculate(multiply, 5, 10)"
   ]
  },
  {
   "cell_type": "code",
   "execution_count": null,
   "id": "b7e70d34",
   "metadata": {
    "slideshow": {
     "slide_type": "fragment"
    }
   },
   "outputs": [],
   "source": [
    "calculate(divide, 5, 10)"
   ]
  },
  {
   "cell_type": "code",
   "execution_count": null,
   "id": "a634572d",
   "metadata": {
    "slideshow": {
     "slide_type": "fragment"
    }
   },
   "outputs": [],
   "source": [
    "calculate(lambda x, y: x + y, 5, 10)"
   ]
  },
  {
   "cell_type": "code",
   "execution_count": null,
   "id": "f6a7572b",
   "metadata": {
    "slideshow": {
     "slide_type": "fragment"
    }
   },
   "outputs": [],
   "source": [
    "calculate(lambda x, y: x - y, 5, 10)"
   ]
  },
  {
   "cell_type": "markdown",
   "id": "66cc3902",
   "metadata": {
    "slideshow": {
     "slide_type": "slide"
    }
   },
   "source": [
    "### Function returns a function as a result"
   ]
  },
  {
   "cell_type": "code",
   "execution_count": null,
   "id": "4743b6d5",
   "metadata": {
    "slideshow": {
     "slide_type": "fragment"
    }
   },
   "outputs": [],
   "source": [
    "def build_multiplier(x):\n",
    "    def multipler(y):\n",
    "        return x * y\n",
    "    return multipler"
   ]
  },
  {
   "cell_type": "code",
   "execution_count": null,
   "id": "3ded7eb7",
   "metadata": {
    "slideshow": {
     "slide_type": "fragment"
    }
   },
   "outputs": [],
   "source": [
    "multipler_by_4 = build_multiplier(4)\n",
    "multipler_by_4"
   ]
  },
  {
   "cell_type": "code",
   "execution_count": null,
   "id": "2ce0ff93",
   "metadata": {
    "slideshow": {
     "slide_type": "fragment"
    }
   },
   "outputs": [],
   "source": [
    "multipler_by_4(12)"
   ]
  },
  {
   "cell_type": "markdown",
   "id": "cc0f5fad",
   "metadata": {
    "slideshow": {
     "slide_type": "fragment"
    }
   },
   "source": [
    "This is an example of a **closure**, which is a function with an extended scope that encompasses variables referenced in its body which are neither global variables nor local variables of the closure, but are defined in the local scope of the outer function enclosing the closure."
   ]
  },
  {
   "cell_type": "markdown",
   "id": "23fb3647",
   "metadata": {
    "slideshow": {
     "slide_type": "slide"
    }
   },
   "source": [
    "## `sorted()` with a `key` argument\n",
    "\n",
    "Function `sorted()` accepts an optional `key` argument that is a function determining the sorting criterion."
   ]
  },
  {
   "cell_type": "code",
   "execution_count": null,
   "id": "31a50403",
   "metadata": {},
   "outputs": [],
   "source": [
    "students = [\n",
    "    {\"name\": \"John Doe\", \"age\": 18, \"gpa\": 19.6},\n",
    "    {\"name\": \"Alice Smith\", \"age\": 22, \"gpa\": 19.85},\n",
    "    {\"name\": \"Bob\", \"age\": 21, \"gpa\": 18.3},\n",
    "]"
   ]
  },
  {
   "cell_type": "code",
   "execution_count": null,
   "id": "c4d290ac",
   "metadata": {},
   "outputs": [],
   "source": [
    "sorted(students, key=lambda student: student[\"age\"])"
   ]
  },
  {
   "cell_type": "code",
   "execution_count": null,
   "id": "a2d9b2af",
   "metadata": {},
   "outputs": [],
   "source": [
    "sorted(students, key=lambda student: student[\"gpa\"])"
   ]
  },
  {
   "cell_type": "markdown",
   "id": "9eb2af21",
   "metadata": {
    "slideshow": {
     "slide_type": "slide"
    }
   },
   "source": [
    "# Iterables and iterators\n",
    "\n",
    "**Iterables** are any object that can be passed to the `iter` built-in function, which can obtain an **iterator** from an iterable. In other words, Python obtains iterators from iterables.\n",
    "\n",
    "Sequences are iterables, for example."
   ]
  },
  {
   "cell_type": "code",
   "execution_count": null,
   "id": "8a604a20",
   "metadata": {
    "slideshow": {
     "slide_type": "fragment"
    }
   },
   "outputs": [],
   "source": [
    "iter(\"hello world\")"
   ]
  },
  {
   "cell_type": "code",
   "execution_count": null,
   "id": "224fb7ba",
   "metadata": {
    "slideshow": {
     "slide_type": "fragment"
    }
   },
   "outputs": [],
   "source": [
    "iter([1, 2, 3])"
   ]
  },
  {
   "cell_type": "code",
   "execution_count": null,
   "id": "1927422d",
   "metadata": {
    "slideshow": {
     "slide_type": "fragment"
    }
   },
   "outputs": [],
   "source": [
    "iter((1, 2, 3))"
   ]
  },
  {
   "cell_type": "code",
   "execution_count": null,
   "id": "efad5ea7",
   "metadata": {
    "slideshow": {
     "slide_type": "fragment"
    }
   },
   "outputs": [],
   "source": [
    "iter({1, 2, 3})"
   ]
  },
  {
   "cell_type": "code",
   "execution_count": null,
   "id": "640d9370",
   "metadata": {
    "slideshow": {
     "slide_type": "fragment"
    }
   },
   "outputs": [],
   "source": [
    "iter({\"name\": \"John Doe\", \"age\": 42})"
   ]
  },
  {
   "cell_type": "code",
   "execution_count": null,
   "id": "590a2dad",
   "metadata": {
    "slideshow": {
     "slide_type": "slide"
    }
   },
   "outputs": [],
   "source": [
    "iter(42)"
   ]
  },
  {
   "cell_type": "code",
   "execution_count": null,
   "id": "773d93bb",
   "metadata": {
    "slideshow": {
     "slide_type": "fragment"
    }
   },
   "outputs": [],
   "source": [
    "iter(1 + 2j)"
   ]
  },
  {
   "cell_type": "markdown",
   "id": "84841b85",
   "metadata": {
    "slideshow": {
     "slide_type": "slide"
    }
   },
   "source": [
    "# Iterators\n",
    "\n",
    "Iterators are obtained from iterables. Iterators are objects that produce successive values from its related iterable.\n",
    "\n",
    "`next()` built-in function can be used to retrieve the item from the iterator."
   ]
  },
  {
   "cell_type": "code",
   "execution_count": null,
   "id": "8021dff3",
   "metadata": {
    "slideshow": {
     "slide_type": "fragment"
    }
   },
   "outputs": [],
   "source": [
    "sequence = [42, \"John Doe\", False]\n",
    "it = iter(sequence)\n",
    "it"
   ]
  },
  {
   "cell_type": "code",
   "execution_count": null,
   "id": "09ca9c3b",
   "metadata": {
    "slideshow": {
     "slide_type": "fragment"
    }
   },
   "outputs": [],
   "source": [
    "next(it)"
   ]
  },
  {
   "cell_type": "code",
   "execution_count": null,
   "id": "d68c3cfb",
   "metadata": {
    "slideshow": {
     "slide_type": "fragment"
    }
   },
   "outputs": [],
   "source": [
    "next(it)"
   ]
  },
  {
   "cell_type": "code",
   "execution_count": null,
   "id": "1fcfb887",
   "metadata": {
    "slideshow": {
     "slide_type": "fragment"
    }
   },
   "outputs": [],
   "source": [
    "next(it)"
   ]
  },
  {
   "cell_type": "code",
   "execution_count": null,
   "id": "cfa38749",
   "metadata": {
    "slideshow": {
     "slide_type": "subslide"
    }
   },
   "outputs": [],
   "source": [
    "next(it)"
   ]
  },
  {
   "cell_type": "code",
   "execution_count": null,
   "id": "d4eea8eb",
   "metadata": {
    "slideshow": {
     "slide_type": "fragment"
    }
   },
   "outputs": [],
   "source": [
    "next(it, \"some default value\")"
   ]
  },
  {
   "cell_type": "code",
   "execution_count": null,
   "id": "13a75056",
   "metadata": {
    "slideshow": {
     "slide_type": "slide"
    }
   },
   "outputs": [],
   "source": [
    "def my_for(iterable, func):\n",
    "    it = iter(iterable)\n",
    "    while True:\n",
    "        item = next(it, None)\n",
    "        if item is None:\n",
    "            break\n",
    "        func(item)"
   ]
  },
  {
   "cell_type": "code",
   "execution_count": null,
   "id": "681ed562",
   "metadata": {
    "slideshow": {
     "slide_type": "fragment"
    }
   },
   "outputs": [],
   "source": [
    "my_for([10, 20, 30], print)"
   ]
  },
  {
   "cell_type": "markdown",
   "id": "a88abdf5",
   "metadata": {
    "slideshow": {
     "slide_type": "slide"
    }
   },
   "source": [
    "# Generators\n",
    "\n",
    "**Generator functions** are special functions that return lazy iterators. Lazy evaluation is a technique which delays the evaluation of an expression until its value is needed.\n",
    "\n",
    "Generator functions use `yield` keyword to return results one at a time, suspending and resuming their state between each.\n",
    "\n",
    "Generator functions are factories for generator objects.\n",
    "\n",
    "Reference: [PEP 255 – Simple Generators](https://peps.python.org/pep-0255/)"
   ]
  },
  {
   "cell_type": "markdown",
   "id": "149cc6d4",
   "metadata": {},
   "source": [
    "### Example 1"
   ]
  },
  {
   "cell_type": "code",
   "execution_count": null,
   "id": "f4b95103",
   "metadata": {
    "slideshow": {
     "slide_type": "slide"
    }
   },
   "outputs": [],
   "source": [
    "def gen_123():\n",
    "    print(\"start\")\n",
    "    yield 1\n",
    "    print(\"continue after 1\")\n",
    "    yield 2\n",
    "    print(\"continue after 2\")\n",
    "    yield 3\n",
    "    print(\"end\")\n",
    "    \n",
    "gen_123"
   ]
  },
  {
   "cell_type": "code",
   "execution_count": null,
   "id": "15333816",
   "metadata": {
    "slideshow": {
     "slide_type": "fragment"
    }
   },
   "outputs": [],
   "source": [
    "generator = gen_123()\n",
    "generator"
   ]
  },
  {
   "cell_type": "code",
   "execution_count": null,
   "id": "72ee4ee8",
   "metadata": {
    "slideshow": {
     "slide_type": "slide"
    }
   },
   "outputs": [],
   "source": [
    "next(generator)"
   ]
  },
  {
   "cell_type": "code",
   "execution_count": null,
   "id": "46044d62",
   "metadata": {
    "slideshow": {
     "slide_type": "fragment"
    }
   },
   "outputs": [],
   "source": [
    "next(generator)"
   ]
  },
  {
   "cell_type": "code",
   "execution_count": null,
   "id": "ea39e84f",
   "metadata": {
    "slideshow": {
     "slide_type": "fragment"
    }
   },
   "outputs": [],
   "source": [
    "next(generator)"
   ]
  },
  {
   "cell_type": "code",
   "execution_count": null,
   "id": "615e2393",
   "metadata": {
    "slideshow": {
     "slide_type": "fragment"
    }
   },
   "outputs": [],
   "source": [
    "next(generator)"
   ]
  },
  {
   "cell_type": "code",
   "execution_count": null,
   "id": "3e3340e1",
   "metadata": {
    "slideshow": {
     "slide_type": "slide"
    }
   },
   "outputs": [],
   "source": [
    "for i in gen_123():\n",
    "    print(i)"
   ]
  },
  {
   "cell_type": "markdown",
   "id": "14ffa004",
   "metadata": {
    "slideshow": {
     "slide_type": "slide"
    }
   },
   "source": [
    "### Example 2\n",
    "\n",
    "Generating an infinite sequence."
   ]
  },
  {
   "cell_type": "code",
   "execution_count": null,
   "id": "a14f50da",
   "metadata": {
    "slideshow": {
     "slide_type": "fragment"
    }
   },
   "outputs": [],
   "source": [
    "def gen_infinite_sequence():\n",
    "    number = 0\n",
    "    while True:\n",
    "        yield number\n",
    "        number += 1"
   ]
  },
  {
   "cell_type": "code",
   "execution_count": null,
   "id": "4d070320",
   "metadata": {
    "slideshow": {
     "slide_type": "fragment"
    }
   },
   "outputs": [],
   "source": [
    "infinite_sequence = gen_infinite_sequence()\n",
    "print(next(infinite_sequence))\n",
    "print(next(infinite_sequence))\n",
    "print(next(infinite_sequence))\n",
    "print(next(infinite_sequence))\n",
    "print(next(infinite_sequence))"
   ]
  },
  {
   "cell_type": "markdown",
   "id": "c1e93f79",
   "metadata": {
    "slideshow": {
     "slide_type": "slide"
    }
   },
   "source": [
    "# Generator expressions\n",
    "\n",
    "Generator expressions allow us to create generator objects with list comprehension style.\n",
    "\n",
    "```python\n",
    "(<expression> for <item> in <iterable>)\n",
    "```"
   ]
  },
  {
   "cell_type": "code",
   "execution_count": null,
   "id": "4d1abf66",
   "metadata": {
    "slideshow": {
     "slide_type": "fragment"
    }
   },
   "outputs": [],
   "source": [
    "list_comp = [number for number in range(10 ** 8)]\n",
    "list_comp[:10]"
   ]
  },
  {
   "cell_type": "code",
   "execution_count": null,
   "id": "6a8c82ae",
   "metadata": {
    "slideshow": {
     "slide_type": "fragment"
    }
   },
   "outputs": [],
   "source": [
    "list_expr = (number for number in range(10 ** 8))\n",
    "list_expr"
   ]
  },
  {
   "cell_type": "code",
   "execution_count": null,
   "id": "15ff4283",
   "metadata": {
    "slideshow": {
     "slide_type": "fragment"
    }
   },
   "outputs": [],
   "source": [
    "print(next(list_expr))\n",
    "print(next(list_expr))\n",
    "print(next(list_expr))\n",
    "print(next(list_expr))\n",
    "print(next(list_expr))"
   ]
  },
  {
   "cell_type": "code",
   "execution_count": null,
   "id": "6058cf03",
   "metadata": {
    "slideshow": {
     "slide_type": "fragment"
    }
   },
   "outputs": [],
   "source": [
    "\"\".join((str(number) for number in range(10)))"
   ]
  },
  {
   "cell_type": "code",
   "execution_count": null,
   "id": "0d6b6b50",
   "metadata": {
    "slideshow": {
     "slide_type": "fragment"
    }
   },
   "outputs": [],
   "source": [
    "\"\".join(str(number) for number in range(10))"
   ]
  },
  {
   "cell_type": "markdown",
   "id": "5de41e24",
   "metadata": {
    "slideshow": {
     "slide_type": "slide"
    }
   },
   "source": [
    "# Subgenerators with `yield from`\n",
    "\n",
    "`yield from` keyword can be used in a generator to delegate work to another subgenerator."
   ]
  },
  {
   "cell_type": "code",
   "execution_count": null,
   "id": "df993516",
   "metadata": {
    "slideshow": {
     "slide_type": "fragment"
    }
   },
   "outputs": [],
   "source": [
    "def sub_gen():\n",
    "    yield \"foo\"\n",
    "    yield \"bar\"\n",
    "\n",
    "# Instead of writing:\n",
    "def gen():\n",
    "    yield \"start\"\n",
    "    for el in sub_gen():\n",
    "        yield el\n",
    "    yield \"end\"\n",
    "    \n",
    "for el in gen():\n",
    "    print(el)"
   ]
  },
  {
   "cell_type": "code",
   "execution_count": null,
   "id": "fc08aa94",
   "metadata": {
    "slideshow": {
     "slide_type": "slide"
    }
   },
   "outputs": [],
   "source": [
    "def sub_gen():\n",
    "    yield \"foo\"\n",
    "    yield \"bar\"\n",
    "    \n",
    "# You can simple write:\n",
    "def gen():\n",
    "    yield \"start\"\n",
    "    yield from sub_gen()\n",
    "    yield \"end\"\n",
    "    \n",
    "for el in gen():\n",
    "    print(el)"
   ]
  },
  {
   "cell_type": "code",
   "execution_count": null,
   "id": "312b1136",
   "metadata": {
    "slideshow": {
     "slide_type": "fragment"
    }
   },
   "outputs": [],
   "source": [
    "def sub_gen():\n",
    "    yield \"foo\"\n",
    "    yield \"bar\"\n",
    "    return \"baz\"\n",
    "    \n",
    "def gen():\n",
    "    yield \"start\"\n",
    "    result = yield from sub_gen()\n",
    "    print(f\"returned from sub_gen: {result}\")\n",
    "    yield \"end\"\n",
    "    \n",
    "for el in gen():\n",
    "    print(el)"
   ]
  },
  {
   "cell_type": "markdown",
   "id": "c85d1b24",
   "metadata": {
    "slideshow": {
     "slide_type": "slide"
    }
   },
   "source": [
    "# Generator Functions in the Standard Library"
   ]
  },
  {
   "cell_type": "markdown",
   "id": "66e25e62",
   "metadata": {
    "slideshow": {
     "slide_type": "slide"
    }
   },
   "source": [
    "### `filter(predicate, it)`\n",
    "\n",
    "This function applies `predicate` to each item in `it`, yielding the item if the predicate result is truthy."
   ]
  },
  {
   "cell_type": "code",
   "execution_count": null,
   "id": "c7928f89",
   "metadata": {
    "scrolled": true,
    "slideshow": {
     "slide_type": "fragment"
    }
   },
   "outputs": [],
   "source": [
    "filtered = filter(lambda x: x % 2 == 0, [5, 2, 4, 1, 12])\n",
    "filtered"
   ]
  },
  {
   "cell_type": "code",
   "execution_count": null,
   "id": "56ea5b6c",
   "metadata": {
    "slideshow": {
     "slide_type": "fragment"
    }
   },
   "outputs": [],
   "source": [
    "list(filtered)"
   ]
  },
  {
   "cell_type": "code",
   "execution_count": null,
   "id": "1e06a2e1",
   "metadata": {
    "slideshow": {
     "slide_type": "fragment"
    }
   },
   "outputs": [],
   "source": [
    "for el in filtered:\n",
    "    print(el)"
   ]
  },
  {
   "cell_type": "markdown",
   "id": "6bc30a35",
   "metadata": {
    "slideshow": {
     "slide_type": "slide"
    }
   },
   "source": [
    "### `enumerate(iterable, start=0)`\n",
    "\n",
    "This function yields tuples of the form `(index, item)`, where `index` is counted from `start`, and `item` is taken from the `iterable`."
   ]
  },
  {
   "cell_type": "code",
   "execution_count": null,
   "id": "2f18d3ed",
   "metadata": {
    "slideshow": {
     "slide_type": "fragment"
    }
   },
   "outputs": [],
   "source": [
    "enumerated = enumerate([5, 2, 4, 1, 12])\n",
    "enumerated"
   ]
  },
  {
   "cell_type": "code",
   "execution_count": null,
   "id": "d7902e1b",
   "metadata": {
    "slideshow": {
     "slide_type": "fragment"
    }
   },
   "outputs": [],
   "source": [
    "list(enumerated)"
   ]
  },
  {
   "cell_type": "code",
   "execution_count": null,
   "id": "d01b6360",
   "metadata": {
    "slideshow": {
     "slide_type": "fragment"
    }
   },
   "outputs": [],
   "source": [
    "for index, item in enumerate([5, 2, 4, 1, 12]):\n",
    "    print(f\"{index} => {item}\")"
   ]
  },
  {
   "cell_type": "markdown",
   "id": "b372bf26",
   "metadata": {
    "slideshow": {
     "slide_type": "slide"
    }
   },
   "source": [
    "### `map(func, it1, [it2, …, itN])`\n",
    "\n",
    "This function applies `func` to each item of `it`, yielding the result; if `N` iterables are given, `func` must take `N` arguments and the iterables will be consumed in parallel."
   ]
  },
  {
   "cell_type": "code",
   "execution_count": null,
   "id": "9b850c25",
   "metadata": {
    "slideshow": {
     "slide_type": "fragment"
    }
   },
   "outputs": [],
   "source": [
    "mapped = map(lambda x: x ** 2, [5, 2, 4, 1, 12])\n",
    "mapped"
   ]
  },
  {
   "cell_type": "code",
   "execution_count": null,
   "id": "b84b00d4",
   "metadata": {
    "slideshow": {
     "slide_type": "fragment"
    }
   },
   "outputs": [],
   "source": [
    "list(mapped)"
   ]
  },
  {
   "cell_type": "code",
   "execution_count": null,
   "id": "cbd8e512",
   "metadata": {
    "slideshow": {
     "slide_type": "fragment"
    }
   },
   "outputs": [],
   "source": [
    "mapped = map(lambda x, y: (x, y), [5, 2, 4, 1, 12], range(5))\n",
    "list(mapped)"
   ]
  },
  {
   "cell_type": "code",
   "execution_count": null,
   "id": "88a3db74",
   "metadata": {
    "slideshow": {
     "slide_type": "fragment"
    }
   },
   "outputs": [],
   "source": [
    "import operator\n",
    "\n",
    "mapped = map(operator.mul, [5, 2, 4, 1, 12], range(10))\n",
    "list(mapped)"
   ]
  },
  {
   "cell_type": "markdown",
   "id": "e79d3187",
   "metadata": {
    "slideshow": {
     "slide_type": "slide"
    }
   },
   "source": [
    "### `zip(it1, …, itN, strict=False)`\n",
    "\n",
    "This function yields `N`-tuples built from items taken from the iterables in parallel, silently stopping when the first iterable is exhausted, unless `strict=True` is given."
   ]
  },
  {
   "cell_type": "code",
   "execution_count": null,
   "id": "0e1e1047",
   "metadata": {
    "slideshow": {
     "slide_type": "fragment"
    }
   },
   "outputs": [],
   "source": [
    "zipped = zip([5, 2, 4, 1, 12], range(5))\n",
    "zipped"
   ]
  },
  {
   "cell_type": "code",
   "execution_count": null,
   "id": "dfa3b5ee",
   "metadata": {
    "slideshow": {
     "slide_type": "fragment"
    }
   },
   "outputs": [],
   "source": [
    "list(zipped)"
   ]
  },
  {
   "cell_type": "code",
   "execution_count": null,
   "id": "4075be35",
   "metadata": {
    "slideshow": {
     "slide_type": "fragment"
    }
   },
   "outputs": [],
   "source": [
    "zipped = zip(\"aeiou\", range(10))\n",
    "list(zipped)"
   ]
  },
  {
   "cell_type": "code",
   "execution_count": null,
   "id": "e7fac23b",
   "metadata": {
    "slideshow": {
     "slide_type": "fragment"
    }
   },
   "outputs": [],
   "source": [
    "zipped = zip(\"aeiou\", range(10), strict=True)\n",
    "list(zipped)"
   ]
  },
  {
   "cell_type": "markdown",
   "id": "20a989fe",
   "metadata": {
    "slideshow": {
     "slide_type": "slide"
    }
   },
   "source": [
    "### `reversed(seq)`\n",
    "\n",
    "This function yields items from `seq` in reverse order, from last to first."
   ]
  },
  {
   "cell_type": "code",
   "execution_count": null,
   "id": "a671ac98",
   "metadata": {
    "slideshow": {
     "slide_type": "fragment"
    }
   },
   "outputs": [],
   "source": [
    "rev = reversed([5, 2, 4, 1, 12])\n",
    "rev"
   ]
  },
  {
   "cell_type": "code",
   "execution_count": null,
   "id": "5f0bfb38",
   "metadata": {
    "slideshow": {
     "slide_type": "fragment"
    }
   },
   "outputs": [],
   "source": [
    "list(rev)"
   ]
  },
  {
   "cell_type": "markdown",
   "id": "5d80c27e",
   "metadata": {
    "slideshow": {
     "slide_type": "slide"
    }
   },
   "source": [
    "# `itertools`"
   ]
  },
  {
   "cell_type": "markdown",
   "id": "fef99b74",
   "metadata": {},
   "source": [
    "The `itertools` module provides powerful functions for working with iterators. It includes tools for iteration, combination, permutation, filtering, and infinite sequences."
   ]
  },
  {
   "cell_type": "code",
   "execution_count": null,
   "id": "ee32df0b",
   "metadata": {
    "slideshow": {
     "slide_type": "fragment"
    }
   },
   "outputs": [],
   "source": [
    "import itertools"
   ]
  },
  {
   "cell_type": "markdown",
   "id": "2e364fa5",
   "metadata": {
    "slideshow": {
     "slide_type": "slide"
    }
   },
   "source": [
    "### `itertools.combinations(it, out_len)`\n",
    "\n",
    "This function yields combinations of `out_len` items from the items yielded by `it`."
   ]
  },
  {
   "cell_type": "code",
   "execution_count": null,
   "id": "b67ca9ca",
   "metadata": {
    "slideshow": {
     "slide_type": "fragment"
    }
   },
   "outputs": [],
   "source": [
    "comb = itertools.combinations(range(5), 2)\n",
    "comb"
   ]
  },
  {
   "cell_type": "code",
   "execution_count": null,
   "id": "3d5a14bf",
   "metadata": {
    "slideshow": {
     "slide_type": "fragment"
    }
   },
   "outputs": [],
   "source": [
    "list(comb)"
   ]
  },
  {
   "cell_type": "markdown",
   "id": "9792cc7e",
   "metadata": {
    "slideshow": {
     "slide_type": "slide"
    }
   },
   "source": [
    "### `itertools.permutations(it, out_len=None)`\n",
    "\n",
    "This function yields permutations of `out_len` items from the items yielded by `it`; by default, `out_len` is `len(list(it))`."
   ]
  },
  {
   "cell_type": "code",
   "execution_count": null,
   "id": "4b562677",
   "metadata": {
    "slideshow": {
     "slide_type": "fragment"
    }
   },
   "outputs": [],
   "source": [
    "perm = itertools.permutations(range(5), 2)\n",
    "perm"
   ]
  },
  {
   "cell_type": "code",
   "execution_count": null,
   "id": "3c944790",
   "metadata": {
    "slideshow": {
     "slide_type": "fragment"
    }
   },
   "outputs": [],
   "source": [
    "list(perm)"
   ]
  },
  {
   "cell_type": "code",
   "execution_count": null,
   "id": "5477aded",
   "metadata": {
    "slideshow": {
     "slide_type": "fragment"
    }
   },
   "outputs": [],
   "source": [
    "list(itertools.permutations(range(5)))"
   ]
  },
  {
   "cell_type": "markdown",
   "id": "e3f42ad3",
   "metadata": {
    "slideshow": {
     "slide_type": "slide"
    }
   },
   "source": [
    "### `itertools.repeat(item, [times])`\n",
    "\n",
    "This function yields the given `item` repeatedly, indefinitely unless a number of `times` is given."
   ]
  },
  {
   "cell_type": "code",
   "execution_count": null,
   "id": "9fa62e61",
   "metadata": {
    "slideshow": {
     "slide_type": "fragment"
    }
   },
   "outputs": [],
   "source": [
    "rp = itertools.repeat(42)\n",
    "rp"
   ]
  },
  {
   "cell_type": "code",
   "execution_count": null,
   "id": "3d08a08b",
   "metadata": {
    "slideshow": {
     "slide_type": "fragment"
    }
   },
   "outputs": [],
   "source": [
    "print(next(rp))\n",
    "print(next(rp))\n",
    "print(next(rp))"
   ]
  },
  {
   "cell_type": "code",
   "execution_count": null,
   "id": "a8a2a17f",
   "metadata": {
    "slideshow": {
     "slide_type": "fragment"
    }
   },
   "outputs": [],
   "source": [
    "rp = itertools.repeat(42, 5)\n",
    "list(rp)"
   ]
  },
  {
   "cell_type": "markdown",
   "id": "977f98a9",
   "metadata": {},
   "source": [
    "### `itertools.chain(*iterables)`\n",
    "\n",
    "This function combines multiple iterables into one."
   ]
  },
  {
   "cell_type": "code",
   "execution_count": null,
   "id": "fe5c5281",
   "metadata": {},
   "outputs": [],
   "source": [
    "ch = itertools.chain([1, 2], [\"A\", \"B\", \"C\"])\n",
    "ch"
   ]
  },
  {
   "cell_type": "code",
   "execution_count": null,
   "id": "074504cb",
   "metadata": {},
   "outputs": [],
   "source": [
    "list(ch)"
   ]
  },
  {
   "cell_type": "markdown",
   "id": "58752d6f",
   "metadata": {},
   "source": [
    "### `itertools.takewhile(predicate, iterable)`\n",
    "\n",
    "This function yields values from `iterable` as long as `predicate` is true."
   ]
  },
  {
   "cell_type": "code",
   "execution_count": null,
   "id": "25df84b3",
   "metadata": {},
   "outputs": [],
   "source": [
    "values = [1, 2, 3, 4, 5, 6, 7, 8, 9, 2, 3, 4, 10]\n",
    "\n",
    "it = itertools.takewhile(lambda x: x < 7, values)\n",
    "it"
   ]
  },
  {
   "cell_type": "code",
   "execution_count": null,
   "id": "42d6a30b",
   "metadata": {},
   "outputs": [],
   "source": [
    "list(it)"
   ]
  },
  {
   "cell_type": "markdown",
   "id": "b0b8b0e0",
   "metadata": {},
   "source": [
    "See more at https://docs.python.org/3/library/itertools.html"
   ]
  },
  {
   "cell_type": "markdown",
   "id": "7a523a06",
   "metadata": {
    "slideshow": {
     "slide_type": "slide"
    }
   },
   "source": [
    "# Decorators\n",
    "\n",
    "Decorators are functions that transform and extend other functions without explicitly modifying it.\n",
    "\n",
    "[PEP 318 – Decorators for Functions and Methods](https://peps.python.org/pep-0318/)"
   ]
  },
  {
   "cell_type": "code",
   "execution_count": null,
   "id": "88a4d4a6",
   "metadata": {},
   "outputs": [],
   "source": [
    "def do_twice(func):\n",
    "    def wrapper(*args, **kwargs):\n",
    "        func(*args, **kwargs)\n",
    "        return func(*args, **kwargs)\n",
    "    return wrapper"
   ]
  },
  {
   "cell_type": "code",
   "execution_count": null,
   "id": "2b29b63f",
   "metadata": {},
   "outputs": [],
   "source": [
    "@do_twice\n",
    "def greet_with_name(name):\n",
    "    greeting = f\"Hello, {name}!\"\n",
    "    print(greeting)\n",
    "    return name, greeting"
   ]
  },
  {
   "cell_type": "code",
   "execution_count": null,
   "id": "b874432f",
   "metadata": {},
   "outputs": [],
   "source": [
    "result = greet_with_name(\"John Doe\")\n",
    "result"
   ]
  },
  {
   "cell_type": "markdown",
   "id": "af85141f",
   "metadata": {
    "slideshow": {
     "slide_type": "slide"
    }
   },
   "source": [
    "# Syntactic sugar\n",
    "\n",
    "Decorators can be used in a much simpler way with the `@` symbol, also known as pie syntax."
   ]
  },
  {
   "cell_type": "code",
   "execution_count": null,
   "id": "34578df5",
   "metadata": {},
   "outputs": [],
   "source": [
    "def greet_with_name(name):\n",
    "    greeting = f\"Hello, {name}!\"\n",
    "    print(greeting)\n",
    "    return name, greeting\n",
    "\n",
    "greet_with_name = do_twice(greet_with_name)"
   ]
  },
  {
   "cell_type": "code",
   "execution_count": null,
   "id": "3c10e89c",
   "metadata": {},
   "outputs": [],
   "source": [
    "result = greet_with_name(\"John Doe\")\n",
    "result"
   ]
  },
  {
   "cell_type": "markdown",
   "id": "67ddf7da",
   "metadata": {
    "slideshow": {
     "slide_type": "slide"
    }
   },
   "source": [
    "## Introspection\n",
    "\n",
    "Type introspection is the ability of a program to examine the type or properties of an object at runtime."
   ]
  },
  {
   "cell_type": "code",
   "execution_count": null,
   "id": "d9041599",
   "metadata": {
    "slideshow": {
     "slide_type": "fragment"
    }
   },
   "outputs": [],
   "source": [
    "print"
   ]
  },
  {
   "cell_type": "code",
   "execution_count": null,
   "id": "a665aac0",
   "metadata": {
    "slideshow": {
     "slide_type": "fragment"
    }
   },
   "outputs": [],
   "source": [
    "print.__name__"
   ]
  },
  {
   "cell_type": "code",
   "execution_count": null,
   "id": "67d6045a",
   "metadata": {},
   "outputs": [],
   "source": [
    "print.__doc__"
   ]
  },
  {
   "cell_type": "code",
   "execution_count": null,
   "id": "e17c5849",
   "metadata": {
    "slideshow": {
     "slide_type": "fragment"
    }
   },
   "outputs": [],
   "source": [
    "help(print)"
   ]
  },
  {
   "cell_type": "code",
   "execution_count": null,
   "id": "6f7d4b03",
   "metadata": {},
   "outputs": [],
   "source": [
    "def hello(name):\n",
    "    \"\"\"Function that says hello to a person\"\"\"\n",
    "    return f\"Hello {name}\""
   ]
  },
  {
   "cell_type": "code",
   "execution_count": null,
   "id": "7b9770b1",
   "metadata": {},
   "outputs": [],
   "source": [
    "help(hello)"
   ]
  },
  {
   "cell_type": "markdown",
   "id": "143c7f14",
   "metadata": {},
   "source": [
    "As a decorator is used on the function `greet_with_name`, it has lost its original information, such as name and documentation."
   ]
  },
  {
   "cell_type": "code",
   "execution_count": null,
   "id": "bc64e4b5",
   "metadata": {},
   "outputs": [],
   "source": [
    "help(greet_with_name)"
   ]
  },
  {
   "cell_type": "markdown",
   "id": "47a75474",
   "metadata": {
    "slideshow": {
     "slide_type": "slide"
    }
   },
   "source": [
    "### @functools.wraps\n",
    "\n",
    "This decorator allows us to keep the original information of the decorated function."
   ]
  },
  {
   "cell_type": "code",
   "execution_count": null,
   "id": "2852a66d",
   "metadata": {
    "slideshow": {
     "slide_type": "fragment"
    }
   },
   "outputs": [],
   "source": [
    "import functools\n",
    "\n",
    "def do_twice(func):\n",
    "    @functools.wraps(func)\n",
    "    def wrapper(*args, **kwargs):\n",
    "        func(*args, **kwargs)\n",
    "        return func(*args, **kwargs)\n",
    "    return wrapper"
   ]
  },
  {
   "cell_type": "code",
   "execution_count": null,
   "id": "1daa27d1",
   "metadata": {
    "slideshow": {
     "slide_type": "fragment"
    }
   },
   "outputs": [],
   "source": [
    "@do_twice\n",
    "def greet_with_name(name):\n",
    "    \"\"\"Function that greets a person\"\"\"\n",
    "    greeting = f\"Hello, {name}!\"\n",
    "    print(greeting)\n",
    "    return name, greeting"
   ]
  },
  {
   "cell_type": "code",
   "execution_count": null,
   "id": "885a6d80",
   "metadata": {
    "slideshow": {
     "slide_type": "fragment"
    }
   },
   "outputs": [],
   "source": [
    "greet_with_name"
   ]
  },
  {
   "cell_type": "code",
   "execution_count": null,
   "id": "00745392",
   "metadata": {
    "slideshow": {
     "slide_type": "fragment"
    }
   },
   "outputs": [],
   "source": [
    "greet_with_name.__name__"
   ]
  },
  {
   "cell_type": "code",
   "execution_count": null,
   "id": "8db3a0de",
   "metadata": {
    "slideshow": {
     "slide_type": "fragment"
    }
   },
   "outputs": [],
   "source": [
    "help(greet_with_name)"
   ]
  },
  {
   "cell_type": "markdown",
   "id": "54d59b76",
   "metadata": {
    "slideshow": {
     "slide_type": "slide"
    }
   },
   "source": [
    "## Decorators that accept arguments"
   ]
  },
  {
   "cell_type": "code",
   "execution_count": null,
   "id": "b8abe646",
   "metadata": {
    "slideshow": {
     "slide_type": "fragment"
    }
   },
   "outputs": [],
   "source": [
    "def repeat(num_times):\n",
    "    def decorator(func):\n",
    "        @functools.wraps(func)\n",
    "        def wrapper(*args, **kwargs):\n",
    "            for _ in range(num_times):\n",
    "                value = func(*args, **kwargs)\n",
    "            return value\n",
    "        return wrapper\n",
    "    return decorator"
   ]
  },
  {
   "cell_type": "code",
   "execution_count": null,
   "id": "ab3f0d56",
   "metadata": {
    "slideshow": {
     "slide_type": "fragment"
    }
   },
   "outputs": [],
   "source": [
    "@repeat(5)\n",
    "def greet_with_name(name):\n",
    "    print(f\"Hello, {name}!\")"
   ]
  },
  {
   "cell_type": "code",
   "execution_count": null,
   "id": "3bfdcdc9",
   "metadata": {
    "slideshow": {
     "slide_type": "fragment"
    }
   },
   "outputs": [],
   "source": [
    "greet_with_name(\"John Doe\")"
   ]
  },
  {
   "cell_type": "markdown",
   "id": "ed482cc4",
   "metadata": {},
   "source": [
    "# Object-oriented programming\n",
    "\n",
    "**Object-oriented programming (OOP)** is a programming paradigm that is based on the idea of objects which bundle related properties and behaviors into individual objects.\n",
    "\n",
    "- object\n",
    "- property\n",
    "- method"
   ]
  },
  {
   "cell_type": "code",
   "execution_count": null,
   "id": "401852d4",
   "metadata": {},
   "outputs": [],
   "source": [
    "from datetime import date\n",
    "\n",
    "\n",
    "class Person:\n",
    "    species = \"homo sapiens\"\n",
    "    \n",
    "    \n",
    "    def __init__(self, name, age):\n",
    "        self.name = name\n",
    "        self.age = age\n",
    "        \n",
    "    \n",
    "    def introduce_me(self):\n",
    "        return f\"I am {self.name} and I am {self.age} years old.\"\n",
    "    \n",
    "    \n",
    "    def speak(self, text):\n",
    "        return f\"I am {self.name} and I say {text}\"\n",
    "    \n",
    "    \n",
    "    def calculate_birth_year(self):\n",
    "        return date.today().year - self.age\n",
    "    \n",
    "    \n",
    "    def vote(self):\n",
    "        if self.is_adult(self.age):\n",
    "            return \"I am voting\"\n",
    "\n",
    "\n",
    "    @classmethod\n",
    "    def from_birth_year(cls, name, year):\n",
    "        return cls(name, date.today().year - year)\n",
    "    \n",
    "    \n",
    "    @staticmethod\n",
    "    def is_adult(age):\n",
    "        return age >= 18"
   ]
  },
  {
   "cell_type": "markdown",
   "id": "b87deab5",
   "metadata": {},
   "source": [
    "# Class and instance Attributes\n",
    "\n",
    "- **Class attributes** are properties that have the same value for all class instances. They can be created by defining a variable in class body.\n",
    "- **Instance attributes** are properties that are specific to a given class instance. They can be defined in `__init__()` method."
   ]
  },
  {
   "cell_type": "code",
   "execution_count": null,
   "id": "dd6ec82d",
   "metadata": {
    "slideshow": {
     "slide_type": "fragment"
    }
   },
   "outputs": [],
   "source": [
    "person1 = Person(\"John Doe\", 42)\n",
    "\n",
    "person1.name, person1.age"
   ]
  },
  {
   "cell_type": "code",
   "execution_count": null,
   "id": "2af26ba9",
   "metadata": {
    "slideshow": {
     "slide_type": "fragment"
    }
   },
   "outputs": [],
   "source": [
    "person2 = Person(\"Alice Smith\", 24)\n",
    "\n",
    "person2.name, person2.age"
   ]
  },
  {
   "cell_type": "code",
   "execution_count": null,
   "id": "de435c81",
   "metadata": {},
   "outputs": [],
   "source": [
    "Person.species"
   ]
  },
  {
   "cell_type": "markdown",
   "id": "64e88a5e",
   "metadata": {},
   "source": [
    "Class attributes can be accessed from instances as well."
   ]
  },
  {
   "cell_type": "code",
   "execution_count": null,
   "id": "97d46ea4",
   "metadata": {
    "slideshow": {
     "slide_type": "fragment"
    }
   },
   "outputs": [],
   "source": [
    "person1.species, person2.species"
   ]
  },
  {
   "cell_type": "markdown",
   "id": "45c7a811",
   "metadata": {
    "slideshow": {
     "slide_type": "slide"
    }
   },
   "source": [
    "# Instance methods\n",
    "\n",
    "**Instance methods** are functions that are defined inside a class and are called from a class instance.\n",
    "\n",
    "They describe the behaviors of an object.\n",
    "\n",
    "They are very similar to `__init__()` method by definition.\n",
    "\n",
    "Although it is possible to call instance methods from a class as well, it is not a best practice."
   ]
  },
  {
   "cell_type": "code",
   "execution_count": null,
   "id": "7f1141e7",
   "metadata": {},
   "outputs": [],
   "source": [
    "person = Person(\"John Doe\", 42)\n",
    "\n",
    "person.name, person.age"
   ]
  },
  {
   "cell_type": "code",
   "execution_count": null,
   "id": "bb06d778",
   "metadata": {
    "slideshow": {
     "slide_type": "fragment"
    }
   },
   "outputs": [],
   "source": [
    "print(person.introduce_me())\n",
    "print(Person.introduce_me(person))"
   ]
  },
  {
   "cell_type": "code",
   "execution_count": null,
   "id": "9a7ed3d2",
   "metadata": {
    "slideshow": {
     "slide_type": "fragment"
    }
   },
   "outputs": [],
   "source": [
    "print(person.speak(\"'Hello everyone!'\"))\n",
    "print(Person.speak(person, \"'Hello everyone!'\"))"
   ]
  },
  {
   "cell_type": "code",
   "execution_count": null,
   "id": "12f8a1e1",
   "metadata": {
    "slideshow": {
     "slide_type": "fragment"
    }
   },
   "outputs": [],
   "source": [
    "print(person.calculate_birth_year())\n",
    "print(Person.calculate_birth_year(person))"
   ]
  },
  {
   "cell_type": "markdown",
   "id": "7f31ab33",
   "metadata": {
    "slideshow": {
     "slide_type": "slide"
    }
   },
   "source": [
    "# Class methods\n",
    "\n",
    "Built-in `@classmethod` decorator can be used to mark a function a defined inside a class as a **class method**. Instead of accepting instance as a first argument, a class method accepts the class as an implicit first argument, which is usually named `cls`.\n",
    "\n",
    "As class method does not have access to class instance, it cannot modify specific instances. However, it can still mutate class state.\n",
    "\n",
    "Class methods are usually called on classes."
   ]
  },
  {
   "cell_type": "code",
   "execution_count": null,
   "id": "576e4abe",
   "metadata": {
    "slideshow": {
     "slide_type": "fragment"
    }
   },
   "outputs": [],
   "source": [
    "person1 = Person(\"John Doe\", 42)\n",
    "\n",
    "person1.name, person1.age"
   ]
  },
  {
   "cell_type": "code",
   "execution_count": null,
   "id": "6755fd92",
   "metadata": {
    "slideshow": {
     "slide_type": "fragment"
    }
   },
   "outputs": [],
   "source": [
    "person = Person.from_birth_year(\"Bob\", 1990)\n",
    "\n",
    "person.name, person.age"
   ]
  },
  {
   "cell_type": "markdown",
   "id": "1a7bd5e2",
   "metadata": {},
   "source": [
    "Class methods can be accessed from instances as well."
   ]
  },
  {
   "cell_type": "code",
   "execution_count": null,
   "id": "6a30d41c",
   "metadata": {
    "slideshow": {
     "slide_type": "fragment"
    }
   },
   "outputs": [],
   "source": [
    "person2 = person1.from_birth_year(\"Bob\", 1990)\n",
    "\n",
    "person2.name, person2.age"
   ]
  },
  {
   "cell_type": "markdown",
   "id": "40db21f4",
   "metadata": {
    "slideshow": {
     "slide_type": "slide"
    }
   },
   "source": [
    "# Static methods\n",
    "\n",
    "\n",
    "Built-in `@staticmethod` decorator can be used to mark a function a defined inside a class as a **static method**. Static methods neither accept an instance nor the class as an implicit argument.\n",
    "\n",
    "Additionally, a static method can neither modify object state nor class state. A static method can only access to data they receive as an argument. They are usually used to namespace methods in a class scope.\n",
    "\n",
    "Static methods are usually called on classes."
   ]
  },
  {
   "cell_type": "code",
   "execution_count": null,
   "id": "7a0568f0",
   "metadata": {
    "slideshow": {
     "slide_type": "fragment"
    }
   },
   "outputs": [],
   "source": [
    "person = Person(\"John Doe\", 42)\n",
    "\n",
    "person.vote()"
   ]
  },
  {
   "cell_type": "code",
   "execution_count": null,
   "id": "3871e3b7",
   "metadata": {
    "slideshow": {
     "slide_type": "fragment"
    }
   },
   "outputs": [],
   "source": [
    "person = Person(\"John Doe\", 12)\n",
    "\n",
    "person.vote()"
   ]
  },
  {
   "cell_type": "code",
   "execution_count": null,
   "id": "b1137d3f",
   "metadata": {
    "slideshow": {
     "slide_type": "fragment"
    }
   },
   "outputs": [],
   "source": [
    "Person.is_adult(42)"
   ]
  },
  {
   "cell_type": "code",
   "execution_count": null,
   "id": "13dac9f7",
   "metadata": {
    "slideshow": {
     "slide_type": "fragment"
    }
   },
   "outputs": [],
   "source": [
    "Person.is_adult(12)"
   ]
  },
  {
   "cell_type": "markdown",
   "id": "f70c013d",
   "metadata": {},
   "source": [
    "Static methods can be accessed from instances as well."
   ]
  },
  {
   "cell_type": "code",
   "execution_count": null,
   "id": "cf8084b0",
   "metadata": {},
   "outputs": [],
   "source": [
    "person.is_adult(12)"
   ]
  },
  {
   "cell_type": "markdown",
   "id": "4721b8a3",
   "metadata": {
    "slideshow": {
     "slide_type": "slide"
    }
   },
   "source": [
    "# Core principles of OOP\n",
    "\n",
    "- **Encapsulation:** refers to the practice of bundling data and methods that operate on that data within a single unit or class, and restricting access to that data from outside the class.\n",
    "- **Inheritance:** allows one class to inherit properties, methods, and behavior from another class.\n",
    "- **Polymorphism:** refers to the ability of objects of different types to be used interchangeably, while still maintaining their own individual behavior."
   ]
  },
  {
   "cell_type": "markdown",
   "id": "b51b2916",
   "metadata": {
    "slideshow": {
     "slide_type": "slide"
    }
   },
   "source": [
    "# Encapsulation\n",
    "\n",
    "**Encapsulation** is a fundamental concept in object-oriented programming that refers to the practice of bundling data and methods that operate on that data within a single unit or class, and restricting access to that data from outside the class.\n",
    "\n",
    "In simpler terms, encapsulation means wrapping up the data and methods that work on that data into a single entity, and controlling access to that entity so that it can only be modified or accessed through a well-defined interface. This helps to ensure that the data remains in a consistent state and is not inadvertently modified by code outside the class.\n",
    "\n",
    "In some programming languages, encapsulation is achieved through the use of access modifiers, such as public, private, and protected, which determine the level of access that other code has to the members of a class. However, this is not the case for Python."
   ]
  },
  {
   "cell_type": "markdown",
   "id": "354160be",
   "metadata": {
    "slideshow": {
     "slide_type": "slide"
    }
   },
   "source": [
    "# Private variables via double underscores (name mangling)\n",
    "\n",
    "Since there is a valid use-case for class-private members (namely to avoid name clashes of names with names defined by subclasses), there is limited support for such a mechanism, called name mangling. Any identifier of the form `__spam` (at least two leading underscores, at most one trailing underscore) is textually replaced with `_classname__spam`, where `classname` is the current class name with leading underscore(s) stripped. This mangling is done without regard to the syntactic position of the identifier, as long as it occurs within the definition of a class.\n",
    "\n",
    "Name mangling is intended to give classes an easy way to define “private” instance variables and methods, without having to worry about instance variables defined by derived classes, or mucking with instance variables by code outside the class. Note that the mangling rules are designed mostly to avoid accidents; it still is possible for a determined soul to access or modify a variable that is considered private.\n",
    "\n",
    "Reference: https://docs.python.org/3/tutorial/classes.html#private-variables"
   ]
  },
  {
   "cell_type": "code",
   "execution_count": null,
   "id": "d6db3217",
   "metadata": {
    "slideshow": {
     "slide_type": "slide"
    }
   },
   "outputs": [],
   "source": [
    "class Employee:\n",
    "    def __init__(self, name, salary):\n",
    "        self.__name = name\n",
    "        self.__salary = salary\n",
    "        \n",
    "    def pay(self):\n",
    "        print(f\"{self.__name}'s salary is {self.__salary}\")"
   ]
  },
  {
   "cell_type": "code",
   "execution_count": null,
   "id": "f2bff06f",
   "metadata": {
    "slideshow": {
     "slide_type": "fragment"
    }
   },
   "outputs": [],
   "source": [
    "employee = Employee(\"John Doe\", 100_000)"
   ]
  },
  {
   "cell_type": "code",
   "execution_count": null,
   "id": "a5d1ef5c",
   "metadata": {
    "slideshow": {
     "slide_type": "fragment"
    }
   },
   "outputs": [],
   "source": [
    "employee.pay()"
   ]
  },
  {
   "cell_type": "code",
   "execution_count": null,
   "id": "d27fd088",
   "metadata": {
    "slideshow": {
     "slide_type": "fragment"
    }
   },
   "outputs": [],
   "source": [
    "employee.__name"
   ]
  },
  {
   "cell_type": "code",
   "execution_count": null,
   "id": "0dcbada8",
   "metadata": {
    "slideshow": {
     "slide_type": "fragment"
    }
   },
   "outputs": [],
   "source": [
    "employee.__salary"
   ]
  },
  {
   "cell_type": "code",
   "execution_count": null,
   "id": "0931001c",
   "metadata": {
    "slideshow": {
     "slide_type": "slide"
    }
   },
   "outputs": [],
   "source": [
    "employee.__name = \"Alice\"\n",
    "employee.__salary = 200_000"
   ]
  },
  {
   "cell_type": "code",
   "execution_count": null,
   "id": "43924e09",
   "metadata": {
    "slideshow": {
     "slide_type": "fragment"
    }
   },
   "outputs": [],
   "source": [
    "employee.pay()"
   ]
  },
  {
   "cell_type": "code",
   "execution_count": null,
   "id": "5d1c2c0f",
   "metadata": {
    "slideshow": {
     "slide_type": "slide"
    }
   },
   "outputs": [],
   "source": [
    "employee._Employee__name, employee._Employee__salary"
   ]
  },
  {
   "cell_type": "code",
   "execution_count": null,
   "id": "77e323c3",
   "metadata": {
    "slideshow": {
     "slide_type": "fragment"
    }
   },
   "outputs": [],
   "source": [
    "employee._Employee__name = \"Alice\"\n",
    "employee._Employee__salary = 200_000\n",
    "\n",
    "employee.pay()"
   ]
  },
  {
   "cell_type": "markdown",
   "id": "177fa045",
   "metadata": {
    "slideshow": {
     "slide_type": "slide"
    }
   },
   "source": [
    "# `__dict__` property\n",
    "\n",
    "`object.__dict__` is a dictionary or other mapping object used to store an object’s (writable) attributes."
   ]
  },
  {
   "cell_type": "code",
   "execution_count": null,
   "id": "7d748b8e",
   "metadata": {
    "slideshow": {
     "slide_type": "fragment"
    }
   },
   "outputs": [],
   "source": [
    "employee.__dict__"
   ]
  },
  {
   "cell_type": "markdown",
   "id": "b32631ae",
   "metadata": {
    "slideshow": {
     "slide_type": "slide"
    }
   },
   "source": [
    "# Private variables via a single underscore (convention)\n",
    "\n",
    "The single underscore prefix has no special meaning to the Python interpreter when used in attribute names, but it’s a very strong convention among Python programmers that you should not access such attributes from outside the class.\n",
    "\n",
    "Attributes with a single `_` prefix are called “protected” in some corners of the Python documentation. The practice of “protecting” attributes by convention with the form `self._x` is widespread, but calling that a “protected” attribute is not so common. Some even call that a “private” attribute.\n",
    "\n",
    "Reference: Fluent Python, Luciano Ramalho"
   ]
  },
  {
   "cell_type": "code",
   "execution_count": null,
   "id": "3418dcf1",
   "metadata": {
    "slideshow": {
     "slide_type": "slide"
    }
   },
   "outputs": [],
   "source": [
    "class Employee:\n",
    "    def __init__(self, name, salary):\n",
    "        self._name = name\n",
    "        self._salary = salary\n",
    "\n",
    "    def pay(self):\n",
    "        print(f\"{self._name}'s salary is {self._salary}\")"
   ]
  },
  {
   "cell_type": "code",
   "execution_count": null,
   "id": "35425c0d",
   "metadata": {
    "slideshow": {
     "slide_type": "fragment"
    }
   },
   "outputs": [],
   "source": [
    "employee = Employee(\"John Doe\", 100_000)"
   ]
  },
  {
   "cell_type": "code",
   "execution_count": null,
   "id": "fae351fa",
   "metadata": {
    "slideshow": {
     "slide_type": "fragment"
    }
   },
   "outputs": [],
   "source": [
    "employee.pay()"
   ]
  },
  {
   "cell_type": "code",
   "execution_count": null,
   "id": "82cbbc94",
   "metadata": {
    "slideshow": {
     "slide_type": "fragment"
    }
   },
   "outputs": [],
   "source": [
    "employee.__dict__"
   ]
  },
  {
   "cell_type": "markdown",
   "id": "c722f4e5",
   "metadata": {
    "slideshow": {
     "slide_type": "slide"
    }
   },
   "source": [
    "### The following should NOT be done"
   ]
  },
  {
   "cell_type": "code",
   "execution_count": null,
   "id": "2569fbf7",
   "metadata": {
    "slideshow": {
     "slide_type": "fragment"
    }
   },
   "outputs": [],
   "source": [
    "employee._name, employee._salary"
   ]
  },
  {
   "cell_type": "code",
   "execution_count": null,
   "id": "e463478d",
   "metadata": {
    "slideshow": {
     "slide_type": "fragment"
    }
   },
   "outputs": [],
   "source": [
    "employee._name = \"Alice\"\n",
    "employee._salary = 200_000"
   ]
  },
  {
   "cell_type": "code",
   "execution_count": null,
   "id": "e7107767",
   "metadata": {
    "slideshow": {
     "slide_type": "fragment"
    }
   },
   "outputs": [],
   "source": [
    "employee.pay()"
   ]
  },
  {
   "cell_type": "markdown",
   "id": "e1eeacc8",
   "metadata": {
    "slideshow": {
     "slide_type": "slide"
    }
   },
   "source": [
    "# Getters and setters\n",
    "\n",
    "Getters and setters are methods that are used to access and modify the values of private attributes in a class. They are a common technique used in object-oriented programming to implement encapsulation.\n",
    "\n",
    "A getter is a method that is used to retrieve the value of a private attribute. It is usually named with the prefix `get_` followed by the name of the attribute.\n",
    "\n",
    "A setter, on the other hand, is a method that is used to set the value of a private attribute. It is usually named with the prefix `set_` followed by the name of the attribute. "
   ]
  },
  {
   "cell_type": "markdown",
   "id": "d26c9e78",
   "metadata": {
    "slideshow": {
     "slide_type": "slide"
    }
   },
   "source": [
    "# `property()` as a decorator\n",
    "\n",
    "`property()` function can be used as a decorator to create read-only properties.\n",
    "\n",
    "A property object has `getter`, `setter`, and `deleter` methods usable as decorators that create a copy of the property with the corresponding accessor function set to the decorated function."
   ]
  },
  {
   "cell_type": "code",
   "execution_count": null,
   "id": "9f708828",
   "metadata": {
    "slideshow": {
     "slide_type": "slide"
    }
   },
   "outputs": [],
   "source": [
    "class Employee:\n",
    "    def __init__(self, name, salary):\n",
    "        self.name = name\n",
    "        self.salary = salary\n",
    "\n",
    "    def pay(self):\n",
    "        print(f\"{self._name}'s salary is {self._salary}\")\n",
    "        \n",
    "    @property\n",
    "    def name(self):\n",
    "        return self._name\n",
    "    \n",
    "    @name.setter\n",
    "    def name(self, name):\n",
    "        if isinstance(name, str):\n",
    "            self._name = name\n",
    "        else:\n",
    "            print(\"Name attribute should be string\")\n",
    "            \n",
    "    @name.deleter\n",
    "    def name(self):\n",
    "        print(\"Name attribute is deleted\")\n",
    "    \n",
    "    @property\n",
    "    def salary(self):\n",
    "        return self._salary\n",
    "    \n",
    "    @salary.setter\n",
    "    def salary(self, salary):\n",
    "        if isinstance(salary, float) or isinstance(salary, int):\n",
    "            self._salary = salary\n",
    "        else:\n",
    "            print(\"Salary attribute should be number\")"
   ]
  },
  {
   "cell_type": "code",
   "execution_count": null,
   "id": "a6dc48f2",
   "metadata": {
    "slideshow": {
     "slide_type": "subslide"
    }
   },
   "outputs": [],
   "source": [
    "employee = Employee(\"John Doe\", 100_000)"
   ]
  },
  {
   "cell_type": "code",
   "execution_count": null,
   "id": "e439f4d9",
   "metadata": {
    "slideshow": {
     "slide_type": "fragment"
    }
   },
   "outputs": [],
   "source": [
    "employee.name, employee.salary"
   ]
  },
  {
   "cell_type": "code",
   "execution_count": null,
   "id": "91418c7f",
   "metadata": {
    "slideshow": {
     "slide_type": "fragment"
    }
   },
   "outputs": [],
   "source": [
    "employee.pay()"
   ]
  },
  {
   "cell_type": "code",
   "execution_count": null,
   "id": "b6bf0ef2",
   "metadata": {
    "slideshow": {
     "slide_type": "fragment"
    }
   },
   "outputs": [],
   "source": [
    "employee.name = \"Alice\"\n",
    "employee.salary = 200_000"
   ]
  },
  {
   "cell_type": "code",
   "execution_count": null,
   "id": "1e7096c8",
   "metadata": {
    "slideshow": {
     "slide_type": "fragment"
    }
   },
   "outputs": [],
   "source": [
    "employee.pay()"
   ]
  },
  {
   "cell_type": "code",
   "execution_count": null,
   "id": "d87905d0",
   "metadata": {
    "slideshow": {
     "slide_type": "fragment"
    }
   },
   "outputs": [],
   "source": [
    "employee.name = 42"
   ]
  },
  {
   "cell_type": "code",
   "execution_count": null,
   "id": "5f328657",
   "metadata": {
    "slideshow": {
     "slide_type": "fragment"
    }
   },
   "outputs": [],
   "source": [
    "employee.salary = \"fourty two\""
   ]
  },
  {
   "cell_type": "code",
   "execution_count": null,
   "id": "74dabc4e",
   "metadata": {},
   "outputs": [],
   "source": [
    "del employee.name"
   ]
  },
  {
   "cell_type": "markdown",
   "id": "3b8ddaf8",
   "metadata": {
    "slideshow": {
     "slide_type": "slide"
    }
   },
   "source": [
    "# Inheritance\n",
    "\n",
    "**Inheritance** is a fundamental concept in object-oriented programming (OOP) that allows one class to inherit the properties and methods of another class. It promotes the reuse of code and modularity in software design by enabling the creation of new classes based on existing ones, without the need to rewrite the same code.\n",
    "\n",
    "In OOP, classes are used to represent real-world objects or concepts, and each class can have attributes (data members) and methods (functions). Inheritance establishes a relationship between two classes, where one class (called the subclass or derived class) inherits from another class (called the superclass or base class). The subclass can then reuse or override the attributes and methods of the superclass, and it can also add new attributes or methods of its own."
   ]
  },
  {
   "cell_type": "markdown",
   "id": "14d7e4eb",
   "metadata": {
    "slideshow": {
     "slide_type": "slide"
    }
   },
   "source": [
    "# Benefits\n",
    "\n",
    "- **Code Reusability:** Inheritance allows you to reuse code from existing classes, reducing redundancy and promoting consistency in your codebase.\n",
    "- **Modularity:** Inheritance promotes a modular design, making it easier to maintain, update, and extend your code.\n",
    "- **Abstraction:** By inheriting from a base class, derived classes can abstract away implementation details, focusing only on the specific functionality they need to provide.\n",
    "- **Polymorphism:** Inheritance enables polymorphism, allowing you to interact with different objects through a common interface, which can simplify code and improve flexibility."
   ]
  },
  {
   "cell_type": "markdown",
   "id": "3de5fa3b",
   "metadata": {
    "slideshow": {
     "slide_type": "slide"
    }
   },
   "source": [
    "# Concepts \n",
    "\n",
    "- A **parent class** is a class being inherited from, also known as **base class** or **super class**.\n",
    "- A **child class** is a class that inherits from another class, also known as **derived class** or **subclass**.\n",
    "- A derived class is said to **derive**, **inherit**, or **extend** a base class.\n",
    "- Inheritance models an **is a** relationship, indicating that the derived class is a specialized version of the base class.\n",
    "- Inheritance is used for resolving attribute references: if a requested attribute is not found in the class, the search proceeds to look in the base class.\n",
    "- Derived classes can override methods from the base class if needed."
   ]
  },
  {
   "cell_type": "markdown",
   "id": "e7ef9e84",
   "metadata": {
    "slideshow": {
     "slide_type": "slide"
    }
   },
   "source": [
    "# Method overriding\n",
    "\n",
    "Method overriding allows a derived class to define a specific implementation for methods that are already defined in base class."
   ]
  },
  {
   "cell_type": "markdown",
   "id": "0efb01c7",
   "metadata": {
    "slideshow": {
     "slide_type": "slide"
    }
   },
   "source": [
    "# `super()` function\n",
    "\n",
    "`super()` function can be used to get access to methods and properties of a parent or sibling class. It returns an object that models the parent class."
   ]
  },
  {
   "cell_type": "markdown",
   "id": "c5428e8b",
   "metadata": {
    "slideshow": {
     "slide_type": "slide"
    }
   },
   "source": [
    "# Hierarchy of classes\n",
    "\n",
    "Several classes can inherit from each other in a chain, forming a hierarchy of classes."
   ]
  },
  {
   "cell_type": "code",
   "execution_count": null,
   "id": "8ca911cd",
   "metadata": {},
   "outputs": [],
   "source": [
    "class Person:\n",
    "    def __init__(self, name, age):\n",
    "        self._name = name\n",
    "        self._age = age\n",
    "    \n",
    "    @property\n",
    "    def name(self):\n",
    "        return self._name\n",
    "    \n",
    "    @property\n",
    "    def age(self):\n",
    "        return self._age\n",
    "    \n",
    "    def introduce_me(self):\n",
    "        return f\"I am {self._name} and I am {self._age} years old.\""
   ]
  },
  {
   "cell_type": "code",
   "execution_count": null,
   "id": "c681617c",
   "metadata": {},
   "outputs": [],
   "source": [
    "from statistics import mean\n",
    "\n",
    "class Student(Person):\n",
    "    def __init__(self, name, age, university, subject):\n",
    "        super().__init__(name, age)\n",
    "        self._university = university\n",
    "        self._subject = subject\n",
    "        self._grades = {}\n",
    "    \n",
    "    @property\n",
    "    def university(self):\n",
    "        return self._university\n",
    "    \n",
    "    def introduce_me(self):\n",
    "        intro = super().introduce_me()\n",
    "        return f\"{intro} I am a student from {self._university}.\"\n",
    "    \n",
    "    def learn(self):\n",
    "        return f\"I am learning {self._subject}\"\n",
    "    \n",
    "    def add_grade(self, subject, grade):\n",
    "        self._grades[subject] = grade\n",
    "        \n",
    "    def calculate_gpa(self):\n",
    "        gpa = mean(self._grades.values())\n",
    "        gpa = round(gpa, 2)\n",
    "        return gpa"
   ]
  },
  {
   "cell_type": "code",
   "execution_count": null,
   "id": "04f071f7",
   "metadata": {},
   "outputs": [],
   "source": [
    "class YSUStudent(Student):\n",
    "    def __init__(self, name, age, subject):\n",
    "        super().__init__(name, age, \"YSU\", subject)"
   ]
  },
  {
   "cell_type": "markdown",
   "id": "edb4fac1",
   "metadata": {
    "id": "edb4fac1",
    "slideshow": {
     "slide_type": "slide"
    }
   },
   "source": [
    "# Common interface"
   ]
  },
  {
   "cell_type": "code",
   "execution_count": null,
   "id": "51683c8c",
   "metadata": {
    "id": "51683c8c",
    "slideshow": {
     "slide_type": "fragment"
    }
   },
   "outputs": [],
   "source": [
    "def introduce(people):\n",
    "    for person in people:\n",
    "        print(person.introduce_me())"
   ]
  },
  {
   "cell_type": "code",
   "execution_count": null,
   "id": "c8ed6f1a",
   "metadata": {
    "id": "c8ed6f1a",
    "slideshow": {
     "slide_type": "fragment"
    }
   },
   "outputs": [],
   "source": [
    "person_1 = Person(\"John Doe\", 42)\n",
    "person_2 = Person(\"Alice Smith\", 20)\n",
    "\n",
    "student_1 = Student(\"Jane Dane\", 21, \"AUA\", \"Computer Science\")\n",
    "student_2 = Student(\"Bob Black\", 20, \"AUA\", \"Business\")\n",
    "\n",
    "ysu_student_1 = YSUStudent(\"Jack Smith\", 18, \"Data Science\")\n",
    "ysu_student_2 = YSUStudent(\"Ann Martin\", 19, \"Mathematics\")"
   ]
  },
  {
   "cell_type": "code",
   "execution_count": null,
   "id": "8df14c97",
   "metadata": {
    "colab": {
     "base_uri": "https://localhost:8080/"
    },
    "id": "8df14c97",
    "outputId": "1c42b03a-0d95-43e9-bc4e-67992603555f",
    "slideshow": {
     "slide_type": "fragment"
    }
   },
   "outputs": [],
   "source": [
    "introduce([person_1, person_2, student_1, student_2, ysu_student_1, ysu_student_2])"
   ]
  },
  {
   "cell_type": "code",
   "execution_count": null,
   "id": "51d297d7",
   "metadata": {
    "id": "51d297d7",
    "slideshow": {
     "slide_type": "slide"
    }
   },
   "outputs": [],
   "source": [
    "class StudentTracking:\n",
    "    def __init__(self, students):\n",
    "        self._students = students\n",
    "        self._gpas = {}\n",
    "    \n",
    "    def collect_gpas(self):\n",
    "        for student in self._students:\n",
    "            self._gpas[student.name] = student.calculate_gpa()\n",
    "            \n",
    "    def report_gpas(self):\n",
    "        for name, gpa in self._gpas.items():\n",
    "            print(f\"{name} => {gpa}\")"
   ]
  },
  {
   "cell_type": "code",
   "execution_count": null,
   "id": "18512a81",
   "metadata": {
    "id": "18512a81",
    "slideshow": {
     "slide_type": "fragment"
    }
   },
   "outputs": [],
   "source": [
    "student_1.add_grade(\"Calculus\", 3.4)\n",
    "student_1.add_grade(\"Statistics\", 4)\n",
    "student_1.add_grade(\"Linear algebra\", 3.8)"
   ]
  },
  {
   "cell_type": "code",
   "execution_count": null,
   "id": "81b0c1fe",
   "metadata": {
    "id": "81b0c1fe",
    "slideshow": {
     "slide_type": "fragment"
    }
   },
   "outputs": [],
   "source": [
    "ysu_student_1.add_grade(\"Math analysis\", 19)\n",
    "ysu_student_1.add_grade(\"Statistics\", 20)\n",
    "ysu_student_1.add_grade(\"Linear algebra\", 19)"
   ]
  },
  {
   "cell_type": "code",
   "execution_count": null,
   "id": "dccd4a94",
   "metadata": {
    "colab": {
     "base_uri": "https://localhost:8080/"
    },
    "id": "dccd4a94",
    "outputId": "c536b1ce-e14e-490f-b13b-124ef5630fe0",
    "slideshow": {
     "slide_type": "fragment"
    }
   },
   "outputs": [],
   "source": [
    "tracking = StudentTracking([student_1, ysu_student_1])\n",
    "tracking.collect_gpas()\n",
    "tracking.report_gpas()"
   ]
  },
  {
   "cell_type": "markdown",
   "id": "936d0f99",
   "metadata": {
    "id": "936d0f99",
    "slideshow": {
     "slide_type": "slide"
    }
   },
   "source": [
    "# Multiple inheritance\n",
    "\n",
    "Python supports a form of multiple inheritance.\n",
    "\n",
    "```python\n",
    "class DerivedClassName(Base1, Base2, Base3):\n",
    "    <statement_1>\n",
    "    .\n",
    "    .\n",
    "    .\n",
    "    <statement_N>\n",
    "```"
   ]
  },
  {
   "cell_type": "code",
   "execution_count": null,
   "id": "a1c07700",
   "metadata": {
    "colab": {
     "base_uri": "https://localhost:8080/"
    },
    "id": "a1c07700",
    "outputId": "d32cff3f-1a80-4ebf-c2b9-67b740ed414e",
    "slideshow": {
     "slide_type": "slide"
    }
   },
   "outputs": [],
   "source": [
    "class Animal:\n",
    "    def speak_as_animal(self):\n",
    "        return \"I am animal\"\n",
    "    \n",
    "class Mammal:\n",
    "    def speak_as_mammal(self):\n",
    "        return \"I am mammal\"\n",
    "    \n",
    "class Cat(Animal, Mammal):\n",
    "    def speak_as_cat(self):\n",
    "        return \"I am cat\"\n",
    "    \n",
    "cat = Cat()\n",
    "print(cat.speak_as_animal())\n",
    "print(cat.speak_as_mammal())\n",
    "print(cat.speak_as_cat())"
   ]
  },
  {
   "cell_type": "markdown",
   "id": "de824f81",
   "metadata": {
    "id": "de824f81",
    "slideshow": {
     "slide_type": "slide"
    }
   },
   "source": [
    "# Method resolution order (MRO)\n",
    "\n",
    "**Method resolution order (MRO)** is the order in which base classes are searched for a member during lookup. It is used to resolve a method or a property.\n",
    "\n",
    "Class MRO can be accessed by `__mro__` attribute or `mro()` method."
   ]
  },
  {
   "cell_type": "code",
   "execution_count": null,
   "id": "e16e7827",
   "metadata": {
    "colab": {
     "base_uri": "https://localhost:8080/"
    },
    "id": "e16e7827",
    "outputId": "53074bf6-554f-457e-a847-19acc6153707",
    "slideshow": {
     "slide_type": "fragment"
    }
   },
   "outputs": [],
   "source": [
    "Cat.__mro__"
   ]
  },
  {
   "cell_type": "code",
   "execution_count": null,
   "id": "c386c1e0",
   "metadata": {
    "colab": {
     "base_uri": "https://localhost:8080/"
    },
    "id": "c386c1e0",
    "outputId": "2af0c7db-403d-4ee3-cb3c-c2d972e99e0b",
    "slideshow": {
     "slide_type": "fragment"
    }
   },
   "outputs": [],
   "source": [
    "Cat.mro()"
   ]
  },
  {
   "cell_type": "markdown",
   "id": "041fb586",
   "metadata": {
    "id": "041fb586",
    "slideshow": {
     "slide_type": "slide"
    }
   },
   "source": [
    "# Mixin class\n",
    "\n",
    "A mixin is a class that provides methods to other classes but is not considered a base class. It does not care about its position in the class hierarchy and usually provides convenience methods."
   ]
  },
  {
   "cell_type": "code",
   "execution_count": null,
   "id": "64def4bb",
   "metadata": {
    "id": "64def4bb",
    "slideshow": {
     "slide_type": "slide"
    }
   },
   "outputs": [],
   "source": [
    "class PerimeterMixin:\n",
    "    def calculate_perimeter(self):\n",
    "        perimeter = 0\n",
    "        for side in self.sides:\n",
    "            perimeter += side\n",
    "        return perimeter\n",
    "        \n",
    "\n",
    "class Polygon:\n",
    "    def __init__(self, sides):\n",
    "        self._sides = sides\n",
    "        \n",
    "    @property\n",
    "    def sides(self):\n",
    "        return self._sides\n",
    "    \n",
    "\n",
    "class Rectangle(Polygon, PerimeterMixin):\n",
    "    def __init__(self, width, length):\n",
    "        super().__init__([width, length, width, length])\n",
    "\n",
    "class Triangle(Polygon, PerimeterMixin):\n",
    "    def __init__(self, side_1, side_2, side_3):\n",
    "        super().__init__([side_1, side_2, side_3])"
   ]
  },
  {
   "cell_type": "code",
   "execution_count": null,
   "id": "f1510470",
   "metadata": {
    "id": "f1510470",
    "outputId": "1febf328-852f-49a0-b21c-a6c974e2d09d",
    "slideshow": {
     "slide_type": "fragment"
    }
   },
   "outputs": [],
   "source": [
    "rectangle = Rectangle(3, 4)\n",
    "rectangle.calculate_perimeter()"
   ]
  },
  {
   "cell_type": "code",
   "execution_count": null,
   "id": "64186c1e",
   "metadata": {
    "id": "64186c1e",
    "outputId": "55bc746a-1999-42b8-815d-81d533ccb386",
    "slideshow": {
     "slide_type": "fragment"
    }
   },
   "outputs": [],
   "source": [
    "triangle = Triangle(3, 4, 5)\n",
    "triangle.calculate_perimeter()"
   ]
  },
  {
   "cell_type": "markdown",
   "id": "dc903ec1",
   "metadata": {
    "slideshow": {
     "slide_type": "slide"
    }
   },
   "source": [
    "# Polymorphism\n",
    "\n",
    "**Polymorphism** is the concept of offering a unified interface or symbol that can be used to interact with entities of various types. In object-oriented programming that allows objects of different types to be treated as if they are of the same type. The idea is derived from a biological principle that states an organism or species can exist in various shapes or phases.\n",
    "\n",
    "In Python, it is usually achieved via inheritance and method / operator overloading."
   ]
  },
  {
   "cell_type": "markdown",
   "id": "aa7c7ab6",
   "metadata": {
    "slideshow": {
     "slide_type": "slide"
    }
   },
   "source": [
    "# Operator polymorphism\n",
    "\n",
    "**Operator polymorphism**, also referred to as **operator overloading**, denotes the capability of using a single symbol to carry out various operations."
   ]
  },
  {
   "cell_type": "code",
   "execution_count": null,
   "id": "0d92d813",
   "metadata": {
    "slideshow": {
     "slide_type": "fragment"
    }
   },
   "outputs": [],
   "source": [
    "10 + 20"
   ]
  },
  {
   "cell_type": "code",
   "execution_count": null,
   "id": "5a79f33d",
   "metadata": {
    "slideshow": {
     "slide_type": "fragment"
    }
   },
   "outputs": [],
   "source": [
    "\"Hello\" + \" \" + \"world!\""
   ]
  },
  {
   "cell_type": "code",
   "execution_count": null,
   "id": "b587bada",
   "metadata": {
    "slideshow": {
     "slide_type": "fragment"
    }
   },
   "outputs": [],
   "source": [
    "[1, 2, 3] + [4, 5, 6]"
   ]
  },
  {
   "cell_type": "markdown",
   "id": "d5f8549b",
   "metadata": {
    "slideshow": {
     "slide_type": "slide"
    }
   },
   "source": [
    "# Function polymorphism\n",
    "\n",
    "Functions can be polymorphic, meaning that they can operate on various data types and structures, resulting in different kinds of outputs.\n",
    "\n",
    "`len()` is such an example in Python."
   ]
  },
  {
   "cell_type": "code",
   "execution_count": null,
   "id": "f7783bdc",
   "metadata": {
    "slideshow": {
     "slide_type": "fragment"
    }
   },
   "outputs": [],
   "source": [
    "len(\"Hello world!\")"
   ]
  },
  {
   "cell_type": "code",
   "execution_count": null,
   "id": "d0c55841",
   "metadata": {
    "slideshow": {
     "slide_type": "fragment"
    }
   },
   "outputs": [],
   "source": [
    "len([1, 2, 3])"
   ]
  },
  {
   "cell_type": "code",
   "execution_count": null,
   "id": "f2c8c1bd",
   "metadata": {
    "slideshow": {
     "slide_type": "fragment"
    }
   },
   "outputs": [],
   "source": [
    "len({\n",
    "    \"name\": \"John Doe\",\n",
    "    \"age\": 42\n",
    "})"
   ]
  },
  {
   "cell_type": "markdown",
   "id": "59fc09f4",
   "metadata": {
    "slideshow": {
     "slide_type": "slide"
    }
   },
   "source": [
    "# Class polymorphism\n",
    "\n",
    "The following three classes, i.e. `Person`, `Square` and `Wine`, are all unrelated to each other, but they all have a method called `info()`. When the `info()` method is called on an object, the appropriate version of the method is invoked based on the actual object type."
   ]
  },
  {
   "cell_type": "code",
   "execution_count": null,
   "id": "ddbef250",
   "metadata": {
    "slideshow": {
     "slide_type": "fragment"
    }
   },
   "outputs": [],
   "source": [
    "class Person:\n",
    "    def info(self):\n",
    "        print(\"This is the Person class\")\n",
    "        \n",
    "        \n",
    "class Square:\n",
    "    def info(self):\n",
    "        print(\"This is the Square class\")\n",
    "        \n",
    "        \n",
    "class Wine:\n",
    "    def info(self):\n",
    "        print(\"This is the Wine class\")\n",
    "        \n",
    "\n",
    "person = Person()\n",
    "square = Square()\n",
    "wine = Wine()\n",
    "\n",
    "for obj in [person, square, wine]:\n",
    "    obj.info()"
   ]
  },
  {
   "cell_type": "markdown",
   "id": "a344e4c7",
   "metadata": {
    "slideshow": {
     "slide_type": "slide"
    }
   },
   "source": [
    "# Inheritance class polymorphism\n",
    "\n",
    "In the following example, the `Animal` class is the base class, and the `Dog` and `Cat` classes are its subclasses. Each subclass overrides the `sound()` method of the `Animal` class with its own implementation. When the `sound()` method is called on an object, the appropriate version of the method is invoked based on the actual object type."
   ]
  },
  {
   "cell_type": "code",
   "execution_count": null,
   "id": "c5c17e52",
   "metadata": {
    "slideshow": {
     "slide_type": "fragment"
    }
   },
   "outputs": [],
   "source": [
    "class Animal:\n",
    "    def sound(self):\n",
    "        print(\"Animal makes a sound\")\n",
    "\n",
    "class Dog(Animal):\n",
    "    def sound(self):\n",
    "        print(\"Dog barks\")\n",
    "\n",
    "class Cat(Animal):\n",
    "    def sound(self):\n",
    "        print(\"Cat meows\")\n",
    "\n",
    "\n",
    "animal = Animal()\n",
    "dog = Dog()\n",
    "cat = Cat()\n",
    "\n",
    "for obj in [animal, dog, cat]:\n",
    "    obj.sound()"
   ]
  },
  {
   "cell_type": "markdown",
   "id": "b5cf3d8c",
   "metadata": {
    "slideshow": {
     "slide_type": "slide"
    }
   },
   "source": [
    "# Operator overloading\n",
    "\n",
    "**Operator overloading** allows you to define how operators and operations behave when applied to objects of custom classes. By overloading operators, you can provide custom implementations for operations like addition, subtraction, multiplication, comparison, and more. This enables you to make your objects behave intuitively with built-in operators.\n",
    "\n",
    "To overload an operator in Python, you need to define a special method within your class that corresponds to the operator you want to overload. These methods have predefined names and are called **magic methods**, **special methods** or **dunder methods**. They are in the following form: `__<method_name>__`."
   ]
  },
  {
   "cell_type": "markdown",
   "id": "85939f13",
   "metadata": {
    "slideshow": {
     "slide_type": "slide"
    }
   },
   "source": [
    "# `str()` and `repr()` functions\n",
    "\n",
    "- `repr()`: Returns a string containing a printable representation of an object. It is usually defined for programmers.\n",
    "- `str()`: Return a string version of object. It is usually defined for users."
   ]
  },
  {
   "cell_type": "code",
   "execution_count": null,
   "id": "afb7deb9",
   "metadata": {
    "slideshow": {
     "slide_type": "slide"
    }
   },
   "outputs": [],
   "source": [
    "number = 42\n",
    "\n",
    "str(number), repr(number)"
   ]
  },
  {
   "cell_type": "code",
   "execution_count": null,
   "id": "eca63429",
   "metadata": {
    "slideshow": {
     "slide_type": "fragment"
    }
   },
   "outputs": [],
   "source": [
    "seq = [1, 2, 3]\n",
    "\n",
    "str(seq), repr(seq)"
   ]
  },
  {
   "cell_type": "markdown",
   "id": "8e1666cb",
   "metadata": {
    "slideshow": {
     "slide_type": "slide"
    }
   },
   "source": [
    "# Vector class"
   ]
  },
  {
   "cell_type": "code",
   "execution_count": null,
   "id": "504d55e0",
   "metadata": {
    "slideshow": {
     "slide_type": "fragment"
    }
   },
   "outputs": [],
   "source": [
    "class Vector:\n",
    "    def __init__(self, x, y):\n",
    "        self._x = x\n",
    "        self._y = y"
   ]
  },
  {
   "cell_type": "code",
   "execution_count": null,
   "id": "6e80d6e3",
   "metadata": {
    "slideshow": {
     "slide_type": "fragment"
    }
   },
   "outputs": [],
   "source": [
    "vector = Vector(-1, 2)\n",
    "\n",
    "print(vector)\n",
    "print(str(vector))\n",
    "print(repr(vector))"
   ]
  },
  {
   "cell_type": "code",
   "execution_count": null,
   "id": "52495cce",
   "metadata": {
    "slideshow": {
     "slide_type": "slide"
    }
   },
   "outputs": [],
   "source": [
    "class Vector:\n",
    "    def __init__(self, x, y):\n",
    "        self._x = x\n",
    "        self._y = y\n",
    "        \n",
    "    def __repr__(self):\n",
    "        class_name = type(self).__name__\n",
    "        return f\"{class_name}(x={self._x!r}, y={self._y!r})\"\n",
    "\n",
    "    def __str__(self):\n",
    "        return f\"({self._x}, {self._y})\""
   ]
  },
  {
   "cell_type": "code",
   "execution_count": null,
   "id": "9553ea52",
   "metadata": {
    "slideshow": {
     "slide_type": "fragment"
    }
   },
   "outputs": [],
   "source": [
    "vector = Vector(-1, 2)\n",
    "vector"
   ]
  },
  {
   "cell_type": "code",
   "execution_count": null,
   "id": "84b7cb9d",
   "metadata": {
    "slideshow": {
     "slide_type": "fragment"
    }
   },
   "outputs": [],
   "source": [
    "print(vector)\n",
    "print(str(vector))\n",
    "print(repr(vector))"
   ]
  },
  {
   "cell_type": "markdown",
   "id": "637912bf",
   "metadata": {
    "slideshow": {
     "slide_type": "slide"
    }
   },
   "source": [
    "# Unary operators\n",
    "\n",
    "- `__neg__`: arithmetic unary negation (`-x`).\n",
    "- `__pos__`: arithmetic unary plus (`+x`).\n",
    "-  `__invert__`: bitwise not, or bitwise inverse of an integer (`~x`)."
   ]
  },
  {
   "cell_type": "code",
   "execution_count": null,
   "id": "33d6720b",
   "metadata": {
    "slideshow": {
     "slide_type": "slide"
    }
   },
   "outputs": [],
   "source": [
    "class Vector:\n",
    "    def __init__(self, x, y):\n",
    "        self._x = x\n",
    "        self._y = y\n",
    "    \n",
    "    def __repr__(self):\n",
    "        class_name = type(self).__name__\n",
    "        return f\"{class_name}(x={self._x!r}, y={self._y!r})\"\n",
    "\n",
    "    def __str__(self):\n",
    "        return f\"({self._x}, {self._y})\"\n",
    "    \n",
    "    def __pos__(self):\n",
    "        return Vector(self._x, self._y)\n",
    "    \n",
    "    def __neg__(self):\n",
    "        return Vector(-self._x, -self._y)"
   ]
  },
  {
   "cell_type": "code",
   "execution_count": null,
   "id": "1411eb8b",
   "metadata": {
    "slideshow": {
     "slide_type": "fragment"
    }
   },
   "outputs": [],
   "source": [
    "vector = Vector(1, -2)"
   ]
  },
  {
   "cell_type": "code",
   "execution_count": null,
   "id": "e888655c",
   "metadata": {
    "slideshow": {
     "slide_type": "fragment"
    }
   },
   "outputs": [],
   "source": [
    "+vector"
   ]
  },
  {
   "cell_type": "code",
   "execution_count": null,
   "id": "5796fa1f",
   "metadata": {
    "slideshow": {
     "slide_type": "fragment"
    }
   },
   "outputs": [],
   "source": [
    "-vector"
   ]
  },
  {
   "cell_type": "markdown",
   "id": "03d0b127",
   "metadata": {
    "slideshow": {
     "slide_type": "slide"
    }
   },
   "source": [
    "# Overloading `+` for vector addition and `-` for vector substraction\n",
    "\n",
    "- `__add__`: addition (`x + y`).\n",
    "- `__sub__`: substraction (`x - y`)."
   ]
  },
  {
   "cell_type": "code",
   "execution_count": null,
   "id": "4251179c",
   "metadata": {
    "slideshow": {
     "slide_type": "slide"
    }
   },
   "outputs": [],
   "source": [
    "class Vector:\n",
    "    def __init__(self, x, y):\n",
    "        self._x = x\n",
    "        self._y = y\n",
    "    \n",
    "    def __repr__(self):\n",
    "        class_name = type(self).__name__\n",
    "        return f\"{class_name}(x={self._x!r}, y={self._y!r})\"\n",
    "\n",
    "    def __str__(self):\n",
    "        return f\"({self._x}, {self._y})\"\n",
    "    \n",
    "    def __add__(self, other):\n",
    "        return Vector(self._x + other._x, self._y + other._y)\n",
    "\n",
    "    def __sub__(self, other):\n",
    "        return Vector(self._x - other._x, self._y - other._y)"
   ]
  },
  {
   "cell_type": "code",
   "execution_count": null,
   "id": "058a0355",
   "metadata": {
    "slideshow": {
     "slide_type": "fragment"
    }
   },
   "outputs": [],
   "source": [
    "vector1 = Vector(1, -2)\n",
    "vector2 = Vector(3, -4)"
   ]
  },
  {
   "cell_type": "code",
   "execution_count": null,
   "id": "5921ce55",
   "metadata": {
    "slideshow": {
     "slide_type": "fragment"
    }
   },
   "outputs": [],
   "source": [
    "vector1 + vector2"
   ]
  },
  {
   "cell_type": "code",
   "execution_count": null,
   "id": "30697e6f",
   "metadata": {
    "slideshow": {
     "slide_type": "fragment"
    }
   },
   "outputs": [],
   "source": [
    "vector1 - vector2"
   ]
  },
  {
   "cell_type": "markdown",
   "id": "2b200235",
   "metadata": {
    "slideshow": {
     "slide_type": "slide"
    }
   },
   "source": [
    "# Overloading `*` for scalar multiplication\n",
    "\n",
    "- `__mul__`: multiplication (`x * scalar`)."
   ]
  },
  {
   "cell_type": "code",
   "execution_count": null,
   "id": "7ff6c85d",
   "metadata": {
    "slideshow": {
     "slide_type": "slide"
    }
   },
   "outputs": [],
   "source": [
    "class Vector:\n",
    "    def __init__(self, x, y):\n",
    "        self._x = x\n",
    "        self._y = y\n",
    "    \n",
    "    def __repr__(self):\n",
    "        class_name = type(self).__name__\n",
    "        return f\"{class_name}(x={self._x!r}, y={self._y!r})\"\n",
    "\n",
    "    def __str__(self):\n",
    "        return f\"({self._x}, {self._y})\"\n",
    "    \n",
    "    def __mul__(self, scalar):\n",
    "        return Vector(self._x * scalar, self._y * scalar)"
   ]
  },
  {
   "cell_type": "code",
   "execution_count": null,
   "id": "dcc0dfc7",
   "metadata": {
    "slideshow": {
     "slide_type": "fragment"
    }
   },
   "outputs": [],
   "source": [
    "vector = Vector(1, -2)"
   ]
  },
  {
   "cell_type": "code",
   "execution_count": null,
   "id": "8aba5100",
   "metadata": {
    "slideshow": {
     "slide_type": "fragment"
    }
   },
   "outputs": [],
   "source": [
    "vector * 2"
   ]
  },
  {
   "cell_type": "code",
   "execution_count": null,
   "id": "9d1af7ef",
   "metadata": {
    "slideshow": {
     "slide_type": "fragment"
    }
   },
   "outputs": [],
   "source": [
    "2 * vector"
   ]
  },
  {
   "cell_type": "markdown",
   "id": "7de36bf4",
   "metadata": {
    "slideshow": {
     "slide_type": "slide"
    }
   },
   "source": [
    "# Overloading `*` for reverse scalar multiplication\n",
    "\n",
    "- `__rmul__`: reverse multiplication (`scalar * x`)."
   ]
  },
  {
   "cell_type": "code",
   "execution_count": null,
   "id": "d895fc40",
   "metadata": {
    "slideshow": {
     "slide_type": "slide"
    }
   },
   "outputs": [],
   "source": [
    "class Vector:\n",
    "    def __init__(self, x, y):\n",
    "        self._x = x\n",
    "        self._y = y\n",
    "    \n",
    "    def __repr__(self):\n",
    "        class_name = type(self).__name__\n",
    "        return f\"{class_name}(x={self._x!r}, y={self._y!r})\"\n",
    "\n",
    "    def __str__(self):\n",
    "        return f\"({self._x}, {self._y})\"\n",
    "    \n",
    "    def __mul__(self, scalar):\n",
    "        return Vector(self._x * scalar, self._y * scalar)\n",
    "    \n",
    "    def __rmul__(self, scalar):\n",
    "        return self * scalar"
   ]
  },
  {
   "cell_type": "code",
   "execution_count": null,
   "id": "280ce875",
   "metadata": {
    "slideshow": {
     "slide_type": "fragment"
    }
   },
   "outputs": [],
   "source": [
    "vector = Vector(1, -2)"
   ]
  },
  {
   "cell_type": "code",
   "execution_count": null,
   "id": "95d1e783",
   "metadata": {
    "slideshow": {
     "slide_type": "fragment"
    }
   },
   "outputs": [],
   "source": [
    "2 * vector"
   ]
  },
  {
   "cell_type": "markdown",
   "id": "ba475d65",
   "metadata": {
    "slideshow": {
     "slide_type": "slide"
    }
   },
   "source": [
    "# Overloading comparison operators\n",
    "\n",
    "- `__eq__`: is equal to (`x == y`)\n",
    "- `__ne__`: is not equal to (`x != y`)\n",
    "- `__gt__`: greater than (`x > y`)\n",
    "- `__lt__`: less than (`x < y`)\n",
    "- `__ge__`: greater than or equal to (`x >= y`)\n",
    "- `__le__`: less than or equal to (`x <= y`)"
   ]
  },
  {
   "cell_type": "code",
   "execution_count": null,
   "id": "a0ca1a66",
   "metadata": {
    "slideshow": {
     "slide_type": "fragment"
    }
   },
   "outputs": [],
   "source": [
    "class Vector:\n",
    "    def __init__(self, x, y):\n",
    "        self._x = x\n",
    "        self._y = y\n",
    "    \n",
    "    def __repr__(self):\n",
    "        class_name = type(self).__name__\n",
    "        return f\"{class_name}(x={self._x!r}, y={self._y!r})\"\n",
    "\n",
    "    def __str__(self):\n",
    "        return f\"({self._x}, {self._y})\"\n",
    "    \n",
    "    def __eq__(self, other):\n",
    "        return self._x == other._x and self._y == other._y"
   ]
  },
  {
   "cell_type": "code",
   "execution_count": null,
   "id": "c0c479cc",
   "metadata": {
    "slideshow": {
     "slide_type": "fragment"
    }
   },
   "outputs": [],
   "source": [
    "vector1 = Vector(1, 2)\n",
    "vector2 = Vector(1, 2)\n",
    "\n",
    "vector1 == vector2"
   ]
  },
  {
   "cell_type": "code",
   "execution_count": null,
   "id": "5a6dacfd",
   "metadata": {
    "slideshow": {
     "slide_type": "fragment"
    }
   },
   "outputs": [],
   "source": [
    "vector1 = Vector(1, -2)\n",
    "vector2 = Vector(3, -4)\n",
    "\n",
    "vector1 == vector2"
   ]
  },
  {
   "cell_type": "code",
   "execution_count": null,
   "id": "a037ace3",
   "metadata": {
    "slideshow": {
     "slide_type": "fragment"
    }
   },
   "outputs": [],
   "source": [
    "vector1 != vector2"
   ]
  },
  {
   "cell_type": "markdown",
   "id": "eef79159",
   "metadata": {
    "slideshow": {
     "slide_type": "slide"
    }
   },
   "source": [
    "# Overloading `len()` and `abs()` functions\n",
    "\n",
    "- `__len__()`: implements the built-in function `len()`.\n",
    "- `__abs__()`: implements the built-in function `abs()`."
   ]
  },
  {
   "cell_type": "code",
   "execution_count": null,
   "id": "ff4e49e7",
   "metadata": {
    "slideshow": {
     "slide_type": "fragment"
    }
   },
   "outputs": [],
   "source": [
    "class Vector:\n",
    "    def __init__(self, components):\n",
    "        self._components = components\n",
    "    \n",
    "    def __repr__(self):\n",
    "        class_name = type(self).__name__\n",
    "        return f\"{class_name}({self._components!r})\"\n",
    "    \n",
    "    def __len__(self):\n",
    "        return len(self._components)\n",
    "    \n",
    "    def __abs__(self):\n",
    "        return sum(component ** 2 for component in self._components) ** 0.5"
   ]
  },
  {
   "cell_type": "code",
   "execution_count": null,
   "id": "314a4a0c",
   "metadata": {
    "slideshow": {
     "slide_type": "fragment"
    }
   },
   "outputs": [],
   "source": [
    "vector = Vector([4, 2, 8, 7])\n",
    "vector"
   ]
  },
  {
   "cell_type": "code",
   "execution_count": null,
   "id": "761bbbc9",
   "metadata": {
    "slideshow": {
     "slide_type": "fragment"
    }
   },
   "outputs": [],
   "source": [
    "len(vector)"
   ]
  },
  {
   "cell_type": "code",
   "execution_count": null,
   "id": "e5738d1a",
   "metadata": {
    "slideshow": {
     "slide_type": "fragment"
    }
   },
   "outputs": [],
   "source": [
    "abs(vector)"
   ]
  },
  {
   "cell_type": "markdown",
   "id": "30fbab82",
   "metadata": {
    "slideshow": {
     "slide_type": "slide"
    }
   },
   "source": [
    "# Overloading evaluation and assignment of `self[key]`\n",
    "\n",
    "- `__getitem__(self, key)`: access element at `key` index.\n",
    "- `__setitem__(self, key, value)`: assign `value` to element at `key` index."
   ]
  },
  {
   "cell_type": "code",
   "execution_count": null,
   "id": "b586992d",
   "metadata": {
    "slideshow": {
     "slide_type": "fragment"
    }
   },
   "outputs": [],
   "source": [
    "class Vector:\n",
    "    def __init__(self, components):\n",
    "        self._components = components\n",
    "    \n",
    "    def __repr__(self):\n",
    "        class_name = type(self).__name__\n",
    "        return f\"{class_name}({self._components!r})\"\n",
    "    \n",
    "    def __getitem__(self, key):\n",
    "        return self._components[key]\n",
    "    \n",
    "    def __setitem__(self, key, value):\n",
    "        self._components[key] = value"
   ]
  },
  {
   "cell_type": "code",
   "execution_count": null,
   "id": "85d960d1",
   "metadata": {
    "slideshow": {
     "slide_type": "fragment"
    }
   },
   "outputs": [],
   "source": [
    "vector = Vector([4, 2, 8, 7])\n",
    "vector"
   ]
  },
  {
   "cell_type": "code",
   "execution_count": null,
   "id": "4a6fec64",
   "metadata": {
    "slideshow": {
     "slide_type": "fragment"
    }
   },
   "outputs": [],
   "source": [
    "print(vector[0])\n",
    "print(vector[1])\n",
    "print(vector[2])\n",
    "print(vector[3])"
   ]
  },
  {
   "cell_type": "code",
   "execution_count": null,
   "id": "3465f486",
   "metadata": {
    "slideshow": {
     "slide_type": "fragment"
    }
   },
   "outputs": [],
   "source": [
    "vector[2] = -11\n",
    "\n",
    "vector"
   ]
  },
  {
   "cell_type": "markdown",
   "id": "d0fb1d95",
   "metadata": {
    "slideshow": {
     "slide_type": "slide"
    }
   },
   "source": [
    "# Polynomial class"
   ]
  },
  {
   "cell_type": "code",
   "execution_count": null,
   "id": "2ced1820",
   "metadata": {
    "slideshow": {
     "slide_type": "fragment"
    }
   },
   "outputs": [],
   "source": [
    "class Polynomial:\n",
    "    def __init__(self, coefficients):\n",
    "        \"\"\"\n",
    "        Initialize a Polynomial object with a list of coefficients.\n",
    "        The coefficients should be in descending order of their degrees.\n",
    "        For example, the coefficients [2, -1, 3] represent the polynomial 2 - x + 3x^2.\n",
    "        \"\"\"\n",
    "        self._coefficients = coefficients\n",
    "\n",
    "    @property\n",
    "    def degree(self):\n",
    "        \"\"\"\n",
    "        Return the degree of the polynomial.\n",
    "        \"\"\"\n",
    "        return len(self._coefficients) - 1\n",
    "\n",
    "    def __add__(self, other):\n",
    "        \"\"\"\n",
    "        Add two polynomials and return a new Polynomial object representing their sum.\n",
    "        \"\"\"\n",
    "        if self.degree >= other.degree:\n",
    "            larger_poly = self._coefficients\n",
    "            smaller_poly = other._coefficients\n",
    "        else:\n",
    "            larger_poly = other._coefficients\n",
    "            smaller_poly = self._coefficients\n",
    "\n",
    "        sum_coefficients = []\n",
    "        for i in range(len(larger_poly)):\n",
    "            if i < len(smaller_poly):\n",
    "                sum_coefficients.append(larger_poly[i] + smaller_poly[i])\n",
    "            else:\n",
    "                sum_coefficients.append(larger_poly[i])\n",
    "\n",
    "        return Polynomial(sum_coefficients)\n",
    "\n",
    "    def __mul__(self, other):\n",
    "        \"\"\"\n",
    "        Multiply two polynomials and return a new Polynomial object representing their product.\n",
    "        \"\"\"\n",
    "        product_degree = self.degree + other.degree\n",
    "        product_coefficients = [0] * (product_degree + 1)\n",
    "\n",
    "        for i in range(len(self._coefficients)):\n",
    "            for j in range(len(other._coefficients)):\n",
    "                product_coefficients[i + j] += self._coefficients[i] * other._coefficients[j]\n",
    "\n",
    "        return Polynomial(product_coefficients)\n",
    "\n",
    "    def __repr__(self):\n",
    "        \"\"\"\n",
    "        Return a string representation of the polynomial.\n",
    "        \"\"\"\n",
    "        terms = []\n",
    "        for i, coefficient in enumerate(self._coefficients):\n",
    "            if coefficient != 0:\n",
    "                if i == 0:\n",
    "                    terms.append(str(coefficient))\n",
    "                elif i == 1:\n",
    "                    terms.append(f\"{coefficient}x\")\n",
    "                else:\n",
    "                    terms.append(f\"{coefficient}x^{i}\")\n",
    "        return \" + \".join(terms)"
   ]
  },
  {
   "cell_type": "code",
   "execution_count": null,
   "id": "d9559d83",
   "metadata": {
    "slideshow": {
     "slide_type": "fragment"
    }
   },
   "outputs": [],
   "source": [
    "polynomial1 = Polynomial([2, -1, 3])\n",
    "polynomial2 = Polynomial([1, 2, -1])\n",
    "\n",
    "print(f\"p(x) = {polynomial1}\")\n",
    "print(f\"q(x) = {polynomial2}\")\n",
    "print(f\"p(x) + q(x) = {polynomial1 + polynomial2}\")\n",
    "print(f\"p(x) * q(x) = {polynomial1 * polynomial2}\")"
   ]
  },
  {
   "cell_type": "markdown",
   "id": "d6aa85e5",
   "metadata": {
    "slideshow": {
     "slide_type": "slide"
    }
   },
   "source": [
    "# Reference\n",
    "\n",
    "For more special methods, see https://docs.python.org/3/reference/datamodel.html#special-method-names."
   ]
  }
 ],
 "metadata": {
  "kernelspec": {
   "display_name": "Python 3 (ipykernel)",
   "language": "python",
   "name": "python3"
  },
  "language_info": {
   "codemirror_mode": {
    "name": "ipython",
    "version": 3
   },
   "file_extension": ".py",
   "mimetype": "text/x-python",
   "name": "python",
   "nbconvert_exporter": "python",
   "pygments_lexer": "ipython3",
   "version": "3.10.8"
  }
 },
 "nbformat": 4,
 "nbformat_minor": 5
}
