{
 "cells": [
  {
   "cell_type": "markdown",
   "id": "70e592c3",
   "metadata": {},
   "source": [
    "# Programming with Python\n",
    "\n",
    "## Lecture 03: Exceptions, context management\n",
    "\n",
    "### Armen Gabrielyan\n",
    "\n",
    "#### Yerevan State University / ASDS\n",
    "\n",
    "#### 22 Feb, 2025"
   ]
  },
  {
   "cell_type": "markdown",
   "id": "d0fb1d95",
   "metadata": {
    "slideshow": {
     "slide_type": "slide"
    }
   },
   "source": [
    "# Polynomial class"
   ]
  },
  {
   "cell_type": "code",
   "execution_count": null,
   "id": "2ced1820",
   "metadata": {
    "slideshow": {
     "slide_type": "fragment"
    }
   },
   "outputs": [],
   "source": [
    "class Polynomial:\n",
    "    def __init__(self, coefficients):\n",
    "        \"\"\"\n",
    "        Initialize a Polynomial object with a list of coefficients.\n",
    "        The coefficients should be in descending order of their degrees.\n",
    "        For example, the coefficients [2, -1, 3] represent the polynomial 2 - x + 3x^2.\n",
    "        \"\"\"\n",
    "        self._coefficients = coefficients\n",
    "\n",
    "    @property\n",
    "    def degree(self):\n",
    "        \"\"\"\n",
    "        Return the degree of the polynomial.\n",
    "        \"\"\"\n",
    "        return len(self._coefficients) - 1\n",
    "\n",
    "    def __add__(self, other):\n",
    "        \"\"\"\n",
    "        Add two polynomials and return a new Polynomial object representing their sum.\n",
    "        \"\"\"\n",
    "        if self.degree >= other.degree:\n",
    "            larger_poly = self._coefficients\n",
    "            smaller_poly = other._coefficients\n",
    "        else:\n",
    "            larger_poly = other._coefficients\n",
    "            smaller_poly = self._coefficients\n",
    "\n",
    "        sum_coefficients = []\n",
    "        for i in range(len(larger_poly)):\n",
    "            if i < len(smaller_poly):\n",
    "                sum_coefficients.append(larger_poly[i] + smaller_poly[i])\n",
    "            else:\n",
    "                sum_coefficients.append(larger_poly[i])\n",
    "\n",
    "        return Polynomial(sum_coefficients)\n",
    "\n",
    "    def __mul__(self, other):\n",
    "        \"\"\"\n",
    "        Multiply two polynomials and return a new Polynomial object representing their product.\n",
    "        \"\"\"\n",
    "        product_degree = self.degree + other.degree\n",
    "        product_coefficients = [0] * (product_degree + 1)\n",
    "\n",
    "        for i in range(len(self._coefficients)):\n",
    "            for j in range(len(other._coefficients)):\n",
    "                product_coefficients[i + j] += self._coefficients[i] * other._coefficients[j]\n",
    "\n",
    "        return Polynomial(product_coefficients)\n",
    "\n",
    "    def __repr__(self):\n",
    "        \"\"\"\n",
    "        Return a string representation of the polynomial.\n",
    "        \"\"\"\n",
    "        terms = []\n",
    "        for i, coefficient in enumerate(self._coefficients):\n",
    "            if coefficient != 0:\n",
    "                if i == 0:\n",
    "                    terms.append(str(coefficient))\n",
    "                elif i == 1:\n",
    "                    terms.append(f\"{coefficient}x\")\n",
    "                else:\n",
    "                    terms.append(f\"{coefficient}x^{i}\")\n",
    "        return \" + \".join(terms)"
   ]
  },
  {
   "cell_type": "code",
   "execution_count": null,
   "id": "d9559d83",
   "metadata": {
    "slideshow": {
     "slide_type": "fragment"
    }
   },
   "outputs": [],
   "source": [
    "polynomial1 = Polynomial([2, -1, 3])\n",
    "polynomial2 = Polynomial([1, 2, -1])\n",
    "\n",
    "print(f\"p(x) = {polynomial1}\")\n",
    "print(f\"q(x) = {polynomial2}\")\n",
    "print(f\"p(x) + q(x) = {polynomial1 + polynomial2}\")\n",
    "print(f\"p(x) * q(x) = {polynomial1 * polynomial2}\")"
   ]
  },
  {
   "cell_type": "markdown",
   "id": "d6aa85e5",
   "metadata": {
    "slideshow": {
     "slide_type": "slide"
    }
   },
   "source": [
    "# Reference\n",
    "\n",
    "For more special methods, see https://docs.python.org/3/reference/datamodel.html#special-method-names."
   ]
  },
  {
   "cell_type": "markdown",
   "id": "5b87afd8",
   "metadata": {
    "slideshow": {
     "slide_type": "slide"
    }
   },
   "source": [
    "# Errors and exceptions\n",
    "\n",
    "In Python, **errors** and **exceptions** are a way to handle unexpected situations that can occur during the execution of a program. When an error or exception occurs, the program execution is halted, and Python raises an exception object. This exception object contains information about the type of error and where it occurred in the program."
   ]
  },
  {
   "cell_type": "markdown",
   "id": "734091f1",
   "metadata": {
    "slideshow": {
     "slide_type": "slide"
    }
   },
   "source": [
    "## Syntax errors\n",
    "\n",
    "**Syntax errors** in Python occur when the code violates the language's grammar rules. These errors prevent the code from being compiled or executed. The Python interpreter reports syntax errors by indicating the line number and providing a brief explanation of the issue."
   ]
  },
  {
   "cell_type": "code",
   "execution_count": null,
   "id": "df6ff1c7",
   "metadata": {
    "slideshow": {
     "slide_type": "fragment"
    }
   },
   "outputs": [],
   "source": [
    "# Missing parentheses\n",
    "print(\"Hello, World!\""
   ]
  },
  {
   "cell_type": "code",
   "execution_count": null,
   "id": "bc8a6178",
   "metadata": {
    "slideshow": {
     "slide_type": "fragment"
    }
   },
   "outputs": [],
   "source": [
    "# Missing colon\n",
    "\n",
    "x = 42\n",
    "\n",
    "if x > 5\n",
    "    print(\"x is greater than 5\")"
   ]
  },
  {
   "cell_type": "code",
   "execution_count": null,
   "id": "39dba3c1",
   "metadata": {
    "slideshow": {
     "slide_type": "fragment"
    }
   },
   "outputs": [],
   "source": [
    "# Indentation errors\n",
    "\n",
    "x = 42\n",
    "\n",
    "if x > 5:\n",
    "print(\"x is greater than 5\")"
   ]
  },
  {
   "cell_type": "markdown",
   "id": "49588747",
   "metadata": {
    "slideshow": {
     "slide_type": "slide"
    }
   },
   "source": [
    "## Exceptions\n",
    "\n",
    "Although a statement or expression may be syntactically correct, it can still produce an error during execution. These errors, known as exceptions, are not necessarily fatal and can be handled in Python programs.\n",
    "\n",
    "The following are some examples of exception errors:\n",
    "\n",
    "- `ZeroDivisionError`: Raised when attempting to divide by zero.\n",
    "- `NameError`: It is raised when a local or global name is not found. This typically occurs when you try to use a variable or a function that hasn't been defined.\n",
    "- `TypeError`: This exception is raised when an operation or function is performed on an object of an inappropriate type. For example, trying to concatenate a string with an integer."
   ]
  },
  {
   "cell_type": "code",
   "execution_count": null,
   "id": "e7b54963",
   "metadata": {
    "slideshow": {
     "slide_type": "fragment"
    }
   },
   "outputs": [],
   "source": [
    "result = 42 / 0"
   ]
  },
  {
   "cell_type": "code",
   "execution_count": null,
   "id": "0b1d3511",
   "metadata": {
    "slideshow": {
     "slide_type": "fragment"
    }
   },
   "outputs": [],
   "source": [
    "5 * fourty_two"
   ]
  },
  {
   "cell_type": "code",
   "execution_count": null,
   "id": "efc69108",
   "metadata": {
    "slideshow": {
     "slide_type": "fragment"
    }
   },
   "outputs": [],
   "source": [
    "\"42\" + 42"
   ]
  },
  {
   "cell_type": "markdown",
   "id": "bd5c6408",
   "metadata": {
    "slideshow": {
     "slide_type": "slide"
    }
   },
   "source": [
    "## Handling exceptions\n",
    "\n",
    "To handle exceptions and prevent them from terminating the program, you can use a `try-except` block. The code within the `try` block is monitored, and if an exception occurs, the corresponding `except` block is executed.\n",
    "\n",
    "```python\n",
    "try:\n",
    "    <statement(s)>\n",
    "except:\n",
    "    <statement(s)>\n",
    "```"
   ]
  },
  {
   "cell_type": "markdown",
   "id": "0eebdab6",
   "metadata": {
    "slideshow": {
     "slide_type": "slide"
    }
   },
   "source": [
    "The following example is a generic error handling. It handles all exception errors that can occurr in the `try` block without explicitly specifying it."
   ]
  },
  {
   "cell_type": "code",
   "execution_count": null,
   "id": "23aa96ff",
   "metadata": {
    "slideshow": {
     "slide_type": "fragment"
    }
   },
   "outputs": [],
   "source": [
    "try:\n",
    "    result = 42 / 0\n",
    "except:\n",
    "    print(\"Error occurred!\")"
   ]
  },
  {
   "cell_type": "code",
   "execution_count": null,
   "id": "54ca9524",
   "metadata": {
    "slideshow": {
     "slide_type": "fragment"
    }
   },
   "outputs": [],
   "source": [
    "try:\n",
    "    5 * fourty_two\n",
    "except:\n",
    "    print(\"Error occurred!\")"
   ]
  },
  {
   "cell_type": "markdown",
   "id": "5e1ccf80",
   "metadata": {
    "slideshow": {
     "slide_type": "slide"
    }
   },
   "source": [
    "Also, exceptions can be handled by specifying concrete exceptions explictly."
   ]
  },
  {
   "cell_type": "code",
   "execution_count": null,
   "id": "74ac7486",
   "metadata": {
    "slideshow": {
     "slide_type": "fragment"
    }
   },
   "outputs": [],
   "source": [
    "try:\n",
    "    result = 42 / 0\n",
    "except ZeroDivisionError:\n",
    "    print(\"Error: Division by zero occurred!\")"
   ]
  },
  {
   "cell_type": "code",
   "execution_count": null,
   "id": "5b9ba6f2",
   "metadata": {
    "slideshow": {
     "slide_type": "fragment"
    }
   },
   "outputs": [],
   "source": [
    "try:\n",
    "    5 * fourty_two\n",
    "except ZeroDivisionError:\n",
    "    print(\"Error: Division by zero occurred!\")"
   ]
  },
  {
   "cell_type": "markdown",
   "id": "192c1d50",
   "metadata": {
    "slideshow": {
     "slide_type": "slide"
    }
   },
   "source": [
    "You can have multiple `except` blocks to handle different types of exceptions."
   ]
  },
  {
   "cell_type": "code",
   "execution_count": null,
   "id": "78785c5a",
   "metadata": {
    "slideshow": {
     "slide_type": "fragment"
    }
   },
   "outputs": [],
   "source": [
    "try:\n",
    "    result = 42 / 0\n",
    "except ZeroDivisionError:\n",
    "    print(\"Error: Division by zero occurred!\")\n",
    "except NameError:\n",
    "    print(\"Error: Name error occurred!\")"
   ]
  },
  {
   "cell_type": "code",
   "execution_count": null,
   "id": "a4e03375",
   "metadata": {
    "slideshow": {
     "slide_type": "fragment"
    }
   },
   "outputs": [],
   "source": [
    "try:\n",
    "    5 * fourty_two\n",
    "except ZeroDivisionError:\n",
    "    print(\"Error: Division by zero occurred!\")\n",
    "except NameError:\n",
    "    print(\"Error: Name error occurred!\")"
   ]
  },
  {
   "cell_type": "markdown",
   "id": "bd94b767",
   "metadata": {
    "slideshow": {
     "slide_type": "slide"
    }
   },
   "source": [
    "Also, an `except` clause may name multiple exceptions as a parenthesized tuple."
   ]
  },
  {
   "cell_type": "code",
   "execution_count": null,
   "id": "d263b18b",
   "metadata": {
    "slideshow": {
     "slide_type": "fragment"
    }
   },
   "outputs": [],
   "source": [
    "try:\n",
    "    result = 42 / 0\n",
    "except (ZeroDivisionError, NameError):\n",
    "    print(\"Error occurred!\")"
   ]
  },
  {
   "cell_type": "code",
   "execution_count": null,
   "id": "a2ecb706",
   "metadata": {
    "slideshow": {
     "slide_type": "fragment"
    }
   },
   "outputs": [],
   "source": [
    "try:\n",
    "    5 * fourty_two\n",
    "except (ZeroDivisionError, NameError):\n",
    "    print(\"Error occurred!\")"
   ]
  },
  {
   "cell_type": "code",
   "execution_count": null,
   "id": "951f3a9f",
   "metadata": {
    "slideshow": {
     "slide_type": "fragment"
    }
   },
   "outputs": [],
   "source": [
    "try:\n",
    "    \"42\" + 42\n",
    "except (ZeroDivisionError, NameError):\n",
    "    print(\"Error occurred!\")"
   ]
  },
  {
   "cell_type": "markdown",
   "id": "2d970997",
   "metadata": {
    "slideshow": {
     "slide_type": "slide"
    }
   },
   "source": [
    "## The `else` clause\n",
    "\n",
    "An `else` clause might be included in a `try-catch`. It must be executed if the `try` clause does not raise an exception.\n",
    "\n",
    "```python\n",
    "try:\n",
    "    <statement(s)>\n",
    "except:\n",
    "    <statement(s)>\n",
    "else:\n",
    "    <statement(s)>\n",
    "```"
   ]
  },
  {
   "cell_type": "code",
   "execution_count": null,
   "id": "c8303643",
   "metadata": {
    "slideshow": {
     "slide_type": "fragment"
    }
   },
   "outputs": [],
   "source": [
    "try:\n",
    "    result = 42 / 0\n",
    "except ZeroDivisionError:\n",
    "    print(\"Error: Division by zero occurred!\")\n",
    "else:\n",
    "    print(f\"The result is {result}\")"
   ]
  },
  {
   "cell_type": "code",
   "execution_count": null,
   "id": "1ca3e6bf",
   "metadata": {
    "slideshow": {
     "slide_type": "fragment"
    }
   },
   "outputs": [],
   "source": [
    "try:\n",
    "    result = 42 / 2\n",
    "except ZeroDivisionError:\n",
    "    print(\"Error: Division by zero occurred!\")\n",
    "else:\n",
    "    print(f\"The result is {result}\")"
   ]
  },
  {
   "cell_type": "markdown",
   "id": "ae14573a",
   "metadata": {
    "slideshow": {
     "slide_type": "slide"
    }
   },
   "source": [
    "## The `finally` clause for cleaning up\n",
    "\n",
    "Additionally, an optional `finally` clause might be included in a `try-catch`. It must be executed under all circumstances and it is usually used for defining clean-up actions..\n",
    "\n",
    "```python\n",
    "try:\n",
    "    <statement(s)>\n",
    "except:\n",
    "    <statement(s)>\n",
    "else:\n",
    "    <statement(s)>\n",
    "finally:\n",
    "    <statement(s)> \n",
    "```"
   ]
  },
  {
   "cell_type": "code",
   "execution_count": null,
   "id": "3918522a",
   "metadata": {
    "slideshow": {
     "slide_type": "fragment"
    }
   },
   "outputs": [],
   "source": [
    "try:\n",
    "    result = 42 / 0\n",
    "except ZeroDivisionError:\n",
    "    print(\"Error: Division by zero occurred!\")\n",
    "else:\n",
    "    print(f\"The result is {result}\")\n",
    "finally:\n",
    "    print(\"This will always execute.\")"
   ]
  },
  {
   "cell_type": "code",
   "execution_count": null,
   "id": "912fbfe7",
   "metadata": {
    "slideshow": {
     "slide_type": "fragment"
    }
   },
   "outputs": [],
   "source": [
    "try:\n",
    "    result = 42 / 2\n",
    "except ZeroDivisionError:\n",
    "    print(\"Error: Division by zero occurred!\")\n",
    "else:\n",
    "    print(f\"The result is {result}\")\n",
    "finally:\n",
    "    print(\"This will always execute.\")"
   ]
  },
  {
   "cell_type": "markdown",
   "id": "8dda7335",
   "metadata": {
    "slideshow": {
     "slide_type": "slide"
    }
   },
   "source": [
    "## Raising an exception\n",
    "\n",
    "The `raise` keyword in Python is used to explicitly raise an exception. The basic syntax is as follows:\n",
    "\n",
    "```python\n",
    "raise <exception>\n",
    "```"
   ]
  },
  {
   "cell_type": "code",
   "execution_count": null,
   "id": "c0ffab48",
   "metadata": {
    "slideshow": {
     "slide_type": "fragment"
    }
   },
   "outputs": [],
   "source": [
    "x = 10\n",
    "if x > 5:\n",
    "    raise Exception(f\"The value of x is {x}. It should be greater than 5.\")"
   ]
  },
  {
   "cell_type": "code",
   "execution_count": null,
   "id": "e7d998d8",
   "metadata": {
    "slideshow": {
     "slide_type": "fragment"
    }
   },
   "outputs": [],
   "source": [
    "raise ValueError"
   ]
  },
  {
   "cell_type": "markdown",
   "id": "49ce90e1",
   "metadata": {
    "slideshow": {
     "slide_type": "slide"
    }
   },
   "source": [
    "## Base exceptions\n",
    "\n",
    "In Python, there is a base class for all built-in exceptions called `BaseException`. It serves as the superclass for all other exception classes and provides common functionalities and attributes for handling exceptions.\n",
    "\n",
    "`Exception`, a derived class of `BaseException`, is the base class for all non-fatal built-in exception classes and most user-defined exceptions. Exceptions that do not inherit from the `Exception` class are usually not handled as they are typically intended to signal critical errors that should cause the program to terminate (e.g. `SystemExit` and `KeyboardInterrupt`)."
   ]
  },
  {
   "cell_type": "markdown",
   "id": "ca6c3649",
   "metadata": {
    "slideshow": {
     "slide_type": "subslide"
    }
   },
   "source": [
    "Using `Exception` as a catch-all to handle any type of exception is possible, but it is considered a good practice to be more specific in the types of exceptions you handle. It is recommended to only catch the exceptions that you expect and handle them appropriately. Unexpected exceptions are typically allowed to propagate upwards, allowing higher-level code to handle them if needed.\n",
    "\n",
    "A common pattern when handling `Exception` is to print or log the exception information for debugging purposes and then re-raise the exception. This way, the exception can be handled at multiple levels in the code."
   ]
  },
  {
   "cell_type": "code",
   "execution_count": null,
   "id": "e2c69cf1",
   "metadata": {
    "slideshow": {
     "slide_type": "fragment"
    }
   },
   "outputs": [],
   "source": [
    "try:\n",
    "    \"42\" + 42\n",
    "except ZeroDivisionError:\n",
    "    print(\"Error: Division by zero occurred!\")\n",
    "except Exception as err:\n",
    "    print(f\"Unexpected {err=}, {type(err)=}\")\n",
    "    raise"
   ]
  },
  {
   "cell_type": "markdown",
   "id": "c25bddad",
   "metadata": {
    "slideshow": {
     "slide_type": "slide"
    }
   },
   "source": [
    "## Exception hierarchy\n",
    "\n",
    "```\n",
    "BaseException\n",
    " ├── BaseExceptionGroup\n",
    " ├── GeneratorExit\n",
    " ├── KeyboardInterrupt\n",
    " ├── SystemExit\n",
    " └── Exception\n",
    "      ├── ArithmeticError\n",
    "      │    ├── FloatingPointError\n",
    "      │    ├── OverflowError\n",
    "      │    └── ZeroDivisionError\n",
    "      ├── AssertionError\n",
    "      ├── AttributeError\n",
    "      ├── BufferError\n",
    "      ├── EOFError\n",
    "      ├── ExceptionGroup [BaseExceptionGroup]\n",
    "      ├── ImportError\n",
    "      │    └── ModuleNotFoundError\n",
    "      ├── LookupError\n",
    "      │    ├── IndexError\n",
    "      │    └── KeyError\n",
    "      ├── MemoryError\n",
    "      ├── NameError\n",
    "      │    └── UnboundLocalError\n",
    "      ├── OSError\n",
    "      │    ├── BlockingIOError\n",
    "      │    ├── ChildProcessError\n",
    "      │    ├── ConnectionError\n",
    "      │    │    ├── BrokenPipeError\n",
    "      │    │    ├── ConnectionAbortedError\n",
    "      │    │    ├── ConnectionRefusedError\n",
    "      │    │    └── ConnectionResetError\n",
    "      │    ├── FileExistsError\n",
    "      │    ├── FileNotFoundError\n",
    "      │    ├── InterruptedError\n",
    "      │    ├── IsADirectoryError\n",
    "      │    ├── NotADirectoryError\n",
    "      │    ├── PermissionError\n",
    "      │    ├── ProcessLookupError\n",
    "      │    └── TimeoutError\n",
    "      ├── ReferenceError\n",
    "      ├── RuntimeError\n",
    "      │    ├── NotImplementedError\n",
    "      │    └── RecursionError\n",
    "      ├── StopAsyncIteration\n",
    "      ├── StopIteration\n",
    "      ├── SyntaxError\n",
    "      │    └── IndentationError\n",
    "      │         └── TabError\n",
    "      ├── SystemError\n",
    "      ├── TypeError\n",
    "      ├── ValueError\n",
    "      │    └── UnicodeError\n",
    "      │         ├── UnicodeDecodeError\n",
    "      │         ├── UnicodeEncodeError\n",
    "      │         └── UnicodeTranslateError\n",
    "      └── Warning\n",
    "           ├── BytesWarning\n",
    "           ├── DeprecationWarning\n",
    "           ├── EncodingWarning\n",
    "           ├── FutureWarning\n",
    "           ├── ImportWarning\n",
    "           ├── PendingDeprecationWarning\n",
    "           ├── ResourceWarning\n",
    "           ├── RuntimeWarning\n",
    "           ├── SyntaxWarning\n",
    "           ├── UnicodeWarning\n",
    "           └── UserWarning\n",
    "```"
   ]
  },
  {
   "cell_type": "markdown",
   "id": "8882cf82",
   "metadata": {
    "slideshow": {
     "slide_type": "slide"
    }
   },
   "source": [
    "## User-defined exceptions\n",
    "\n",
    "Programs have the ability to define their own exceptions by creating custom exception classes. These exception classes should generally inherit from the `Exception` class, either directly or through intermediate subclasses."
   ]
  },
  {
   "cell_type": "code",
   "execution_count": null,
   "id": "585720c7",
   "metadata": {
    "slideshow": {
     "slide_type": "fragment"
    }
   },
   "outputs": [],
   "source": [
    "class MyCustomError(Exception):\n",
    "    pass"
   ]
  },
  {
   "cell_type": "code",
   "execution_count": null,
   "id": "02058ba1",
   "metadata": {
    "slideshow": {
     "slide_type": "fragment"
    }
   },
   "outputs": [],
   "source": [
    "raise MyCustomError"
   ]
  },
  {
   "cell_type": "code",
   "execution_count": null,
   "id": "f847c31a",
   "metadata": {
    "slideshow": {
     "slide_type": "fragment"
    }
   },
   "outputs": [],
   "source": [
    "try:\n",
    "    raise MyCustomError(\"Custom error message\")\n",
    "except MyCustomError as err:\n",
    "    print(err)"
   ]
  },
  {
   "cell_type": "markdown",
   "id": "edf46480",
   "metadata": {},
   "source": [
    "# Iterators revisited\n",
    "\n",
    "At their core, iterators are objects that implement the iterator protocol. This protocol consists of two methods that work together:\n",
    "\n",
    "1. `__iter__()`: This method is called when iteration is initialized for an object. It must return the iterator object itself. In most cases, when you are creating a custom iterator class, `__iter__` will simply return `self`. However, for iterable containers, `__iter__` is responsible for creating and returning a new iterator object each time it is called.\n",
    "2. `__next__()`: This method is called to get the next value from the iterator. It should return the next item in the sequence. When there are no more items to return, it must raise the `StopIteration` exception. This signals to the iteration mechanism (like a `for` loop) that the iteration is complete."
   ]
  },
  {
   "cell_type": "markdown",
   "id": "05b4ee78",
   "metadata": {},
   "source": [
    "## Custom iterator for Fibonacci sequence"
   ]
  },
  {
   "cell_type": "markdown",
   "id": "36c261a9",
   "metadata": {},
   "source": [
    "`Fibonacci` class defined below is both an iterable and an iterator, which usually is not the best practice."
   ]
  },
  {
   "cell_type": "code",
   "execution_count": null,
   "id": "2e0218f8",
   "metadata": {},
   "outputs": [],
   "source": [
    "class Fibonacci:\n",
    "    def __init__(self, max_num):\n",
    "        self._max_num = max_num\n",
    "        self._x, self._y = 0, 1\n",
    "\n",
    "    def __iter__(self):\n",
    "        return self\n",
    "\n",
    "    def __next__(self):\n",
    "        if self._x > self._max_num:\n",
    "            raise StopIteration\n",
    "        fib_num = self._x\n",
    "        self._x, self._y = self._y, self._x + self._y\n",
    "        return fib_num\n",
    "\n",
    "for num in Fibonacci(50):\n",
    "    print(num)"
   ]
  },
  {
   "cell_type": "markdown",
   "id": "4d0186e2",
   "metadata": {},
   "source": [
    "`Sentence` class defined below is an iterable and `SentenceIterator` class is an iterator. This is often the more flexible and correct pattern, especially when you want to be able to iterate over the same iterable multiple times independently"
   ]
  },
  {
   "cell_type": "code",
   "execution_count": null,
   "id": "f083ff76",
   "metadata": {},
   "outputs": [],
   "source": [
    "class Sentence:\n",
    "    def __init__(self, text):\n",
    "        self._words = text.split()\n",
    "\n",
    "    def __iter__(self):\n",
    "        # Return a new iterator object\n",
    "        return SentenceIterator(self._words)\n",
    "\n",
    "class SentenceIterator:\n",
    "    def __init__(self, words):\n",
    "        self._words = words\n",
    "        self._index = 0\n",
    "\n",
    "    def __iter__(self):\n",
    "        return self\n",
    "\n",
    "    def __next__(self):\n",
    "        if self._index < len(self._words):\n",
    "            word = self._words[self._index]\n",
    "            self._index += 1\n",
    "            return word\n",
    "        raise StopIteration\n",
    "\n",
    "for word in Sentence(\"This is a sample sentence.\"):\n",
    "    print(word)"
   ]
  },
  {
   "cell_type": "markdown",
   "id": "29384e04",
   "metadata": {},
   "source": [
    "The separation of iterators and iterables is a design choice that brings several key advantages, all centered around the idea of reusability, independent iteration, and separation of concerns."
   ]
  },
  {
   "cell_type": "markdown",
   "id": "a59ed3c6",
   "metadata": {},
   "source": [
    "The following examples show this problem of having the iterator and iterable defined in the same class."
   ]
  },
  {
   "cell_type": "code",
   "execution_count": null,
   "id": "c1044d3a",
   "metadata": {},
   "outputs": [],
   "source": [
    "fibonacci = Fibonacci(50)\n",
    "\n",
    "print(\"=====First iteration\")\n",
    "\n",
    "for fib in fibonacci:\n",
    "    print(fib)\n",
    "\n",
    "print(\"=====Second iteration\")\n",
    "\n",
    "for fib in fibonacci:\n",
    "    print(fib)"
   ]
  },
  {
   "cell_type": "markdown",
   "id": "659f25d7",
   "metadata": {},
   "source": [
    "Separating them makes the same iterable object reusable."
   ]
  },
  {
   "cell_type": "code",
   "execution_count": null,
   "id": "2c90609a",
   "metadata": {},
   "outputs": [],
   "source": [
    "sentence = Sentence(\"This is a sample sentence.\")\n",
    "\n",
    "print(\"=====First iteration\")\n",
    "\n",
    "for word in sentence:\n",
    "    print(word)\n",
    "\n",
    "print(\"=====Second iteration\")\n",
    "\n",
    "for word in sentence:\n",
    "    print(word)"
   ]
  },
  {
   "cell_type": "markdown",
   "id": "57bf0437",
   "metadata": {},
   "source": [
    "**Exercise:** Make `Fibonacci` iterable independent and reusable."
   ]
  },
  {
   "cell_type": "code",
   "execution_count": null,
   "id": "f58e25a8",
   "metadata": {},
   "outputs": [],
   "source": [
    "class Fibonacci:\n",
    "    pass\n",
    "\n",
    "class FibonacciIterator:\n",
    "    pass"
   ]
  },
  {
   "cell_type": "markdown",
   "id": "d4c83189",
   "metadata": {},
   "source": [
    "# File I/O\n",
    "\n",
    "Usually, a file operation consists of the following three steps:\n",
    "\n",
    "1. Open a file\n",
    "2. Perform an operation\n",
    "3. Close the file"
   ]
  },
  {
   "cell_type": "code",
   "execution_count": null,
   "id": "9d66e857",
   "metadata": {},
   "outputs": [],
   "source": [
    "f = open(\"example.txt\", \"w\")\n",
    "\n",
    "print(f.closed)\n",
    "\n",
    "f.write(\"Hello, world!\")\n",
    "\n",
    "f.close()\n",
    "\n",
    "print(f.closed)"
   ]
  },
  {
   "cell_type": "markdown",
   "id": "3cbb56f5",
   "metadata": {},
   "source": [
    "Closing files is crucial to prevent data loss, free system resources, flush data to disk, avoid file locks, and ensure smooth program execution."
   ]
  },
  {
   "cell_type": "markdown",
   "id": "aa0d3395",
   "metadata": {
    "slideshow": {
     "slide_type": "slide"
    }
   },
   "source": [
    "# Ensure a file is closed with `try-finally` block\n",
    "\n",
    "By using `try-finally`, you guarantee that the file is closed, even if an exception is raised during the operations."
   ]
  },
  {
   "cell_type": "code",
   "execution_count": null,
   "id": "148bd678",
   "metadata": {
    "slideshow": {
     "slide_type": "fragment"
    }
   },
   "outputs": [],
   "source": [
    "# Open the file\n",
    "f = open(\"example.txt\", \"r\")\n",
    "\n",
    "try:\n",
    "    # Perform operations on the file\n",
    "    print(f.read())\n",
    "    print(f.closed)\n",
    "finally:\n",
    "    # Close the file in the 'finally' block\n",
    "    f.close()\n",
    "    \n",
    "print(f.closed)"
   ]
  },
  {
   "cell_type": "markdown",
   "id": "aed0e4f2",
   "metadata": {
    "slideshow": {
     "slide_type": "slide"
    }
   },
   "source": [
    "# Context management\n",
    "\n",
    "Context management in Python refers to the ability to manage resources within a specific context, ensuring that they are properly initialized and cleaned up. It allows you to define a block of code where certain actions are taken before and after its execution, guaranteeing that necessary operations are performed, regardless of whether an exception occurs or not. Context management is commonly used with objects that require setup and teardown operations, such as file handling, network connections, and database transactions.\n",
    "\n",
    "In Python, context management is typically achieved using the `with` statement and the context management protocol, which is implemented by the objects involved. The protocol requires two methods to be defined in an object: `__enter__()` and `__exit__()`. The `__enter__()` method sets up the necessary resources and returns an object, while the `__exit__()` method handles the cleanup actions."
   ]
  },
  {
   "cell_type": "markdown",
   "id": "684f3358",
   "metadata": {
    "slideshow": {
     "slide_type": "slide"
    }
   },
   "source": [
    "# `with` statement\n",
    "\n",
    "The `with` statement in Python provides a convenient way to manage resources, such as files or network connections, that need to be cleaned up or released after use. It ensures that certain operations are performed both before and after the block of code within the `with` statement. The general syntax of a `with` statement is as follows:\n",
    "\n",
    "```python\n",
    "with expression [as target]:\n",
    "    # code block\n",
    "```\n",
    "\n",
    "Here's how the `with` statement works:\n",
    "\n",
    "1. The expression following the `with` keyword is typically a function or an object that represents the resource being managed. It must define two special methods: `__enter__()` and `__exit__()`.\n",
    "2. The `__enter__()` method is called when the block of code within the `with` statement is entered. It sets up the resource and returns an object that will be assigned to the optional `target` variable.\n",
    "3. The `target` is an optional variable that receives the result of the `__enter__()` method. It allows you to work with the resource within the block of code.\n",
    "4. The indented code block following the `with` statement represents the actions to be performed using the resource.\n",
    "5. After the block of code is executed or if an exception occurs, the `__exit__()` method of the resource object is called. It is responsible for cleaning up the resource or handling any exceptions that occurred within the `with` block.\n",
    "\n",
    "```python\n",
    "class ContextManager:\n",
    "    def __enter__(self):\n",
    "        # Code to set up resources or perform setup actions.\n",
    "        return self  # Optional: you can return an object to be used in the 'with' block.\n",
    "\n",
    "    def __exit__(self, exc_type, exc_value, traceback):\n",
    "        # Code to clean up resources or perform cleanup actions.\n",
    "        # exc_type, exc_value, and traceback hold exception information if an exception occurs\n",
    "        # within the 'with' block.\n",
    "```\n",
    "\n",
    "Reference: [PEP 343 – The “with” Statement](https://peps.python.org/pep-0343/)"
   ]
  },
  {
   "cell_type": "markdown",
   "id": "eb5ddcdc",
   "metadata": {},
   "source": [
    "Note that `__exit__` method returns `False` to propagate the exception.\n",
    "Also, note that the `__enter__` method returns `self` as the object to assign to the `as target`, \n",
    "in other use cases, this might return a completely different object instead."
   ]
  },
  {
   "cell_type": "markdown",
   "id": "462c8142",
   "metadata": {},
   "source": [
    "A list of some common context manager use cases:\n",
    "\n",
    "1. **File Handling:** Automatically open and close files.\n",
    "2. **Database Connections:** Ensure database connections are safely opened and closed.\n",
    "3. **Thread Locking:** Manage locks in multi-threaded applications.\n",
    "4. **Network Connections:** Ensure proper opening and closing of sockets.\n",
    "5. **Resource Management:** Ensure proper setup and cleanup of resources.\n"
   ]
  },
  {
   "cell_type": "code",
   "execution_count": null,
   "id": "6a5c23c5",
   "metadata": {},
   "outputs": [],
   "source": [
    "class HelloContextManager:\n",
    "    def __init__(self, name=\"world\"):\n",
    "        self._name = name\n",
    "    \n",
    "    def hello(self):\n",
    "        print(f\"Hello, {self._name}!\")\n",
    "    \n",
    "    def __enter__(self):\n",
    "        print(\"Entering context\")\n",
    "        return self  # The return value is assigned to the `as` variable in `with`\n",
    "    \n",
    "    def __exit__(self, exc_type, exc_value, traceback):\n",
    "        print(\"Exiting context\")\n",
    "        if exc_type:\n",
    "            print(f\"exc_type = {exc_type}\")\n",
    "            print(f\"exc_value = {exc_value}\")\n",
    "            print(f\"traceback = {traceback}\")\n",
    "        return False  # If True, the exception won't be reraised"
   ]
  },
  {
   "cell_type": "code",
   "execution_count": null,
   "id": "090aee3b",
   "metadata": {},
   "outputs": [],
   "source": [
    "with HelloContextManager(name=\"Batman\") as cm:\n",
    "    print(\"Start context\")\n",
    "    cm.hello()\n",
    "    print(\"End context\")"
   ]
  },
  {
   "cell_type": "code",
   "execution_count": null,
   "id": "02b896ea",
   "metadata": {},
   "outputs": [],
   "source": [
    "cm.hello()"
   ]
  },
  {
   "cell_type": "code",
   "execution_count": null,
   "id": "46184ae4",
   "metadata": {},
   "outputs": [],
   "source": [
    "with HelloContextManager():\n",
    "    print(\"Start context\")\n",
    "    raise ValueError(\"Some value is invalid\")\n",
    "    print(\"End context\")"
   ]
  },
  {
   "cell_type": "markdown",
   "id": "9c3f6951",
   "metadata": {
    "slideshow": {
     "slide_type": "slide"
    }
   },
   "source": [
    "## Ensure a file is closed via `with` statement\n",
    "\n",
    "It is a good practice to use `with` statement when working with files. It guarantees that the file is closed, even if an exception is raised during the operations."
   ]
  },
  {
   "cell_type": "code",
   "execution_count": null,
   "id": "1a08599c",
   "metadata": {
    "slideshow": {
     "slide_type": "fragment"
    }
   },
   "outputs": [],
   "source": [
    "with open(\"example.txt\", \"r\") as f:\n",
    "    # Perform operations on the file\n",
    "    print(f.read())\n",
    "    print(f.closed)\n",
    "    \n",
    "print(f.closed)"
   ]
  },
  {
   "cell_type": "markdown",
   "id": "2df433b4",
   "metadata": {},
   "source": [
    "## Context manager fo file handling\n",
    "\n",
    "This is a custom context manager for handling files, ensuring proper opening, reading/writing, and closing of files."
   ]
  },
  {
   "cell_type": "code",
   "execution_count": null,
   "id": "21da1967",
   "metadata": {},
   "outputs": [],
   "source": [
    "class FileManager:\n",
    "    def __init__(self, filename, mode):\n",
    "        self._filename = filename\n",
    "        self._mode = mode\n",
    "        self._file = None\n",
    "\n",
    "    def __enter__(self):\n",
    "        self._file = open(self._filename, self._mode)\n",
    "        return self._file\n",
    "\n",
    "    def __exit__(self, exc_type, exc_value, traceback):\n",
    "        if self._file:\n",
    "            self._file.close()\n",
    "        if exc_type:\n",
    "            print(f\"An error occurred: {exc_value}\")\n",
    "        return False"
   ]
  },
  {
   "cell_type": "code",
   "execution_count": null,
   "id": "0009c90f",
   "metadata": {},
   "outputs": [],
   "source": [
    "with FileManager(\"custom_example.txt\", \"w\") as f:\n",
    "    f.write(\"Hello, world from custom file manager!\")"
   ]
  },
  {
   "cell_type": "code",
   "execution_count": null,
   "id": "1ed0b412",
   "metadata": {},
   "outputs": [],
   "source": [
    "with FileManager(\"custom_example.txt\", \"r\") as f:\n",
    "    print(\"File content:\", f.read())"
   ]
  },
  {
   "cell_type": "markdown",
   "id": "c1acbf7f",
   "metadata": {},
   "source": [
    "## Context manager for timing execution\n",
    "Measure the execution time of a block of code."
   ]
  },
  {
   "cell_type": "code",
   "execution_count": null,
   "id": "94150bc4",
   "metadata": {},
   "outputs": [],
   "source": [
    "import time\n",
    "\n",
    "class Timer:\n",
    "    def __enter__(self):\n",
    "        self._start = time.perf_counter()\n",
    "        return self\n",
    "\n",
    "    def __exit__(self, exc_type, exc_value, traceback):\n",
    "        self._end = time.perf_counter()\n",
    "        print(f\"Execution time: {self._end - self._start:.4f} seconds\")"
   ]
  },
  {
   "cell_type": "code",
   "execution_count": null,
   "id": "033ffae6",
   "metadata": {},
   "outputs": [],
   "source": [
    "with Timer():\n",
    "    sum(x**2 for x in range(10**7))"
   ]
  },
  {
   "cell_type": "markdown",
   "id": "971fcb04",
   "metadata": {},
   "source": [
    "# Function-based context managers using `@contextmanager` decorator:\n",
    "\n",
    "Use the `contextlib.contextmanager` decorator to create context managers from generator functions."
   ]
  },
  {
   "cell_type": "code",
   "execution_count": null,
   "id": "634f43c5",
   "metadata": {},
   "outputs": [],
   "source": [
    "from contextlib import contextmanager\n",
    "\n",
    "@contextmanager\n",
    "def hello_context_manager(name=\"world\"):\n",
    "    print(\"Entering context\")  # Equivalent to __enter__()\n",
    "    try:\n",
    "        yield f\"Hello, {name}!\" # Yield the resource to the 'as' variable\n",
    "    except Exception as e:\n",
    "        print(f\"Exception caught: {e}\")\n",
    "        raise  # Re-raise exception if needed\n",
    "    finally:\n",
    "        print(\"Exiting context\")  # Equivalent to __exit__()\n",
    "\n",
    "with hello_context_manager(\"Superman\") as hello:\n",
    "    print(hello)"
   ]
  },
  {
   "cell_type": "markdown",
   "id": "c8a5075a",
   "metadata": {},
   "source": [
    "# Built-in context managers"
   ]
  },
  {
   "cell_type": "markdown",
   "id": "7b101853",
   "metadata": {},
   "source": [
    "### **1. `open()` – File Handling**\n",
    "Automatically opens and closes files.  "
   ]
  },
  {
   "cell_type": "code",
   "execution_count": null,
   "id": "1647bf7e",
   "metadata": {},
   "outputs": [],
   "source": [
    "with open(\"example.txt\", \"w\") as f:\n",
    "    f.write(\"Hello, world!\")"
   ]
  },
  {
   "cell_type": "markdown",
   "id": "da4c0baa",
   "metadata": {},
   "source": [
    "### **2. `contextlib.suppress()` – Suppressing Exceptions**\n",
    "Ignores specified exceptions.  "
   ]
  },
  {
   "cell_type": "code",
   "execution_count": null,
   "id": "55eb7c81",
   "metadata": {},
   "outputs": [],
   "source": [
    "from contextlib import suppress\n",
    "\n",
    "with suppress(ZeroDivisionError):\n",
    "    result = 1 / 0"
   ]
  },
  {
   "cell_type": "markdown",
   "id": "b3744f8e",
   "metadata": {},
   "source": [
    "### **3. `contextlib.redirect_stdout()` – Redirecting Output** \n",
    "Redirects `stdout`."
   ]
  },
  {
   "cell_type": "code",
   "execution_count": null,
   "id": "f21ae9eb",
   "metadata": {},
   "outputs": [],
   "source": [
    "from contextlib import redirect_stdout\n",
    "\n",
    "with open(\"output.log\", \"w\") as f, redirect_stdout(f):\n",
    "    print(\"This will be written to output.log\")"
   ]
  },
  {
   "cell_type": "markdown",
   "id": "a822f86e",
   "metadata": {},
   "source": [
    "### **4. `contextlib.redirect_stderr()` – Redirecting Errors**\n",
    "Redirects `stderr`."
   ]
  },
  {
   "cell_type": "code",
   "execution_count": null,
   "id": "eda86930",
   "metadata": {},
   "outputs": [],
   "source": [
    "import sys\n",
    "from contextlib import redirect_stderr\n",
    "\n",
    "with open(\"error.log\", \"w\") as f, redirect_stderr(f):\n",
    "    print(\"This will be written to error.log\", file=sys.stderr)"
   ]
  },
  {
   "cell_type": "markdown",
   "id": "9ecae444",
   "metadata": {},
   "source": [
    "# Data classes\n",
    "\n",
    "In Python, a `dataclass` is a decorator (`@dataclass`) that simplifies the creation of classes used for storing data. Introduced in Python 3.7 [PEP 557 – Data Classes](https://peps.python.org/pep-0557/), the `dataclasses` module automatically generates special methods like `__init__`, `__repr__`, `__eq__`, and more.\n",
    "\n",
    "## Key features\n",
    "\n",
    "- **Automatic Generation of Special Methods**: You can automatically get methods like `__init__()`, `__repr__()`, `__eq__()`, and others, which reduces boilerplate code. This is particularly useful for classes that are mainly used to store data and don't have much behavior.\n",
    "\n",
    "- **Immutability Option**: Dataclasses provide an option to make instances immutable (read-only), which is achieved by setting the `frozen` parameter in the `dataclass` decorator. This is useful for creating objects that should not be modified after creation.\n",
    "\n",
    "- **Type Annotations**: Dataclasses use type annotations to define fields, which helps with type checking and clarity of code.\n",
    "\n",
    "- **Default Values**: Fields in dataclasses can have default values, which simplifies the creation of objects when only a subset of the fields need to be specified.\n",
    "\n",
    "- **Inheritance Support**: Dataclasses can be inherited from other dataclasses, allowing for code reuse and the extension of data structures.\n",
    "\n",
    "- **Post-Initialization Processing**: With the `__post_init__` method, you can add additional processing steps after the class has been initialized.\n",
    "\n",
    "## Advantages\n",
    "\n",
    "- **Reduced Boilerplate**: Automatically generates boilerplate code for common methods like `__init__`, making class definitions cleaner and more readable.\n",
    "- **Improved Readability and Maintainability**: Clear syntax and the use of type hints make the code more readable and easier to maintain.\n"
   ]
  },
  {
   "cell_type": "code",
   "execution_count": null,
   "id": "369a4966",
   "metadata": {},
   "outputs": [],
   "source": []
  }
 ],
 "metadata": {
  "kernelspec": {
   "display_name": "Python 3 (ipykernel)",
   "language": "python",
   "name": "python3"
  },
  "language_info": {
   "codemirror_mode": {
    "name": "ipython",
    "version": 3
   },
   "file_extension": ".py",
   "mimetype": "text/x-python",
   "name": "python",
   "nbconvert_exporter": "python",
   "pygments_lexer": "ipython3",
   "version": "3.12.8"
  }
 },
 "nbformat": 4,
 "nbformat_minor": 5
}
