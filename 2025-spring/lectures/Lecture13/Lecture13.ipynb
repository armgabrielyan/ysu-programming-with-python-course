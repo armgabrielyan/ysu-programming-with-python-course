{
 "cells": [
  {
   "cell_type": "markdown",
   "id": "91a9302f",
   "metadata": {},
   "source": [
    "# Programming with Python\n",
    "\n",
    "## Lecture 13: Concurrency 5\n",
    "\n",
    "### Armen Gabrielyan\n",
    "\n",
    "#### Yerevan State University / ASDS\n",
    "\n",
    "#### 17 May, 2025"
   ]
  },
  {
   "cell_type": "markdown",
   "id": "c065bd60",
   "metadata": {},
   "source": [
    "# Async programming with Async IO\n",
    "\n",
    "**Asynchronous programming** is a powerful paradigm for writing efficient, non-blocking code and Python's Async IO framework provides excellent tools for implementing it. Async IO is built around coroutines, event loops and the `async`/`await` syntax. The basic idea is to allow tasks to pause execution while waiting for slow operations (like network or file I/O), letting other tasks run during that wait time.\n",
    "\n",
    "Async IO is a *single-threaded, single-process design* that uses **cooperative multitasking**. This is a fundamental characteristic that distinguishes it from other concurrency models:\n",
    "\n",
    "1. **Single thread** - All code runs on a single thread, unlike threading or multiprocessing.   \n",
    "2. **Explicit yield points** - Tasks voluntarily yield control at `await` statements, allowing other tasks to run.\n",
    "3. **Non-preemptive** - The scheduler doesn't interrupt tasks; they must cooperate by yielding control.\n",
    "4. **Event loop coordination** - The event loop manages the scheduling of coroutines as they yield control.\n",
    "\n",
    "This cooperative approach means tasks must be well-behaved - a task that performs CPU-intensive operations without yielding will block the entire event loop, preventing other tasks from running.\n",
    "\n",
    "### Async IO explained\n",
    "\n",
    "Async IO may at first seem counterintuitive and paradoxical. How does something that facilitates concurrent code use a single thread and a single CPU core? Miguel Grinberg’s 2017 PyCon talk explains everything quite beautifully:\n",
    "\n",
    "> Chess master Judit Polgár hosts a chess exhibition in which she plays multiple amateur players. She has two ways of conducting the exhibition: synchronously and asynchronously.\n",
    ">\n",
    "> Assumptions:\n",
    ">\n",
    "> - 24 opponents\n",
    "> - Judit makes each chess move in 5 seconds\n",
    "> - Opponents each take 55 seconds to make a move\n",
    "> - Games average 30 pair-moves (60 moves total)\n",
    ">\n",
    "> **Synchronous version:** Judit plays one game at a time, never two at the same time, until the game is complete. > Each game takes (55 + 5) * 30 == 1800 seconds, or 30 minutes. The entire exhibition takes 24 * 30 == 720 minutes, or *12 hours*.\n",
    "> \n",
    "> **Asynchronous version:** Judit moves from table to table, making one move at each table. She leaves the table and lets the opponent make their next move during the wait time. One move on all 24 games takes Judit 24 * 5 == 120 seconds, or 2 minutes. The entire exhibition is now cut down to 120 * 30 == 3600 seconds, or just *1 hour*. \n",
    ">\n",
    "> [Source](https://www.youtube.com/watch?v=iG6fr81xHKA&t=269s)\n",
    "\n",
    "## Key components:\n",
    "\n",
    "1. **(Native) Coroutines**: Functions defined with `async def` that can be paused at `await` points to let other coroutines run and later be resumed.\n",
    "2. **Event loop**: The central execution mechanism that runs and manages coroutines.\n",
    "3. **Tasks**: Wrapped coroutines that run concurrently in the event loop.\n",
    "4. **Awaitables**: Objects that can be used with the `await` keyword (coroutines, Tasks, Futures)\n",
    "\n",
    "Async IO is built into `asyncio` library, which is to write concurrent code using the `async/await` syntax."
   ]
  },
  {
   "cell_type": "code",
   "execution_count": 4,
   "id": "a9b098f8",
   "metadata": {},
   "outputs": [],
   "source": [
    "import asyncio"
   ]
  },
  {
   "cell_type": "markdown",
   "id": "a81f738a",
   "metadata": {},
   "source": [
    "### Intro to `asyncio` functions\n",
    "\n",
    "- `asyncio.sleep(delay, result=None)` is an awaitable, meaning it can be used with `await` to pause the coroutine. Its a coroutine that suspends the current task, allowing other tasks to run. While `time.sleep()` can represent any time-consuming blocking function call, `asyncio.sleep()` is used to stand in for a non-blocking call (but one that also takes some time to complete).\n",
    "- `asyncio.run(coro, *, debug=None, loop_factory=None)` is a function that executes the coroutine `coro` and returns the result."
   ]
  },
  {
   "cell_type": "markdown",
   "id": "a09351ef",
   "metadata": {},
   "source": [
    "## Coroutines\n",
    "\n",
    "**Coroutines** are the foundation of Async IO's cooperative multitasking model. They're special functions that can pause execution, yield control back to the event loop and later resume from where they left off.\n",
    "\n",
    "1. **Definition**: Native coroutines are defined using the `async def` syntax\n",
    "2. **Suspension Points**: They can suspend execution at `await` expressions\n",
    "3. **State Preservation**: When suspended, they maintain their state (local variables, execution position)\n",
    "4. **Non-blocking**: They don't block the thread while waiting for operations to complete"
   ]
  },
  {
   "cell_type": "code",
   "execution_count": 5,
   "id": "02fcf17b",
   "metadata": {},
   "outputs": [],
   "source": [
    "async def say_hello():\n",
    "    print(\"Hello\")\n",
    "    await asyncio.sleep(1)\n",
    "    print(\"World\")"
   ]
  },
  {
   "cell_type": "code",
   "execution_count": 6,
   "id": "7edc3773",
   "metadata": {},
   "outputs": [
    {
     "data": {
      "text/plain": [
       "<function __main__.say_hello()>"
      ]
     },
     "execution_count": 6,
     "metadata": {},
     "output_type": "execute_result"
    }
   ],
   "source": [
    "say_hello"
   ]
  },
  {
   "cell_type": "code",
   "execution_count": 7,
   "id": "e5a8175f",
   "metadata": {},
   "outputs": [
    {
     "data": {
      "text/plain": [
       "<coroutine object say_hello at 0x1071f0e80>"
      ]
     },
     "execution_count": 7,
     "metadata": {},
     "output_type": "execute_result"
    }
   ],
   "source": [
    "say_hello()"
   ]
  },
  {
   "cell_type": "markdown",
   "id": "fb6f5066",
   "metadata": {},
   "source": [
    "**See practical example 1.**"
   ]
  },
  {
   "cell_type": "markdown",
   "id": "c9c5056e",
   "metadata": {},
   "source": [
    "### More `asyncio` functions\n",
    "\n",
    "- #### `asyncio.gather(*aws, return_exceptions=False)`\n",
    "\n",
    "Run awaitable objects in the `aws` sequence concurrently. It is used to run multiple coroutines at the same time, and wait until all of them complete.\n",
    "\n",
    "If `return_exceptions` is `False` (default), the first raised exception is immediately propagated to the task that awaits on `gather()`. Other awaitables in the `aws` sequence won’t be cancelled and will continue to run.\n",
    "\n",
    "If `return_exceptions` is `True`, exceptions are treated the same as successful results, and aggregated in the result list.\n",
    "\n",
    "**See practical example 2.**\n",
    "\n",
    "**See practical example 3.**"
   ]
  },
  {
   "cell_type": "markdown",
   "id": "18bad402",
   "metadata": {},
   "source": [
    "## Tasks\n",
    "\n",
    "**Tasks** are one of the core abstractions in Async IO that build upon coroutines. A `Task` is a wrapper around a coroutine that schedules it for execution in the event loop, tracks its state and provides additional functionality for managing its execution.\n",
    "\n",
    "1. **Definition**: A `Task` is a `Future-like` object that runs a coroutine in an event loop\n",
    "2. **Purpose**: Tasks allow coroutines to execute concurrently within a single thread\n",
    "3. **Scheduling**: They're scheduled automatically by the event loop once created\n",
    "4. **Status Tracking**: They track the completion status of the wrapped coroutine\n",
    "\n",
    "- #### `asyncio.create_task(coro, *, name=None, context=None)`\n",
    "\n",
    "This function wraps the `coro` coroutine into a `Task` and schedule its execution. It returns the `Task` object. It is used to turn a coroutine into a `Task` and schedule it to run in the background on the event loop right away. It's essential when you want to start an async operation without waiting for it to finish immediately.\n",
    "\n",
    "- #### `asyncio.wait_for(awaitable, timeout)`\n",
    "\n",
    "This waits for the `aw` awaitable to complete with a `timeout`. If a timeout occurs, it cancels the task and raises `TimeoutError`.\n",
    "\n",
    "**See practical example 4.**\n",
    "\n",
    "**See practical example 5.**"
   ]
  },
  {
   "cell_type": "markdown",
   "id": "caa973b0",
   "metadata": {},
   "source": [
    "## Event loop\n",
    "\n",
    "The **event loop** is the central execution mechanism in Async IO that orchestrates running asynchronous tasks. It's responsible for scheduling coroutines, handling I/O operations and managing the flow of control in your asynchronous application.\n",
    "\n",
    "1. **Definition**: The event loop is a programming construct that waits for and dispatches events or messages in a program\n",
    "2. **Role**: It manages all the asynchronous operations, running coroutines one by one when they're ready to execute\n",
    "3. **Single-threaded**: It runs on a single thread, executing tasks sequentially but allowing them to cooperatively yield control\n",
    "\n",
    "Usually we run an Async IO program as follows (recommended way), which implicitly starts the event loop.\n",
    "\n",
    "```python\n",
    "import asyncio\n",
    "\n",
    "\n",
    "async def main():\n",
    "    print(\"Hello\")\n",
    "    await asyncio.sleep(1)\n",
    "    print(\"World\")\n",
    "\n",
    "\n",
    "if __name__ == \"__main__\":\n",
    "    asyncio.run(main())\n",
    "```\n",
    "\n",
    "- #### `asyncio.new_event_loop()`\n",
    "\n",
    "Create and return a new event loop object.\n",
    "\n",
    "- #### `asyncio.get_running_loop()`\n",
    "\n",
    "Return the running event loop in the current OS thread.\n",
    "\n",
    "Raise a `RuntimeError` if there is no running event loop.\n",
    "\n",
    "This function can only be called from a coroutine or a callback.\n",
    "\n",
    "- #### `loop.run_until_complete(future)`\n",
    "\n",
    "Run until the `future` (an instance of `Future`) has completed.\n",
    "\n",
    "If the argument is a coroutine object it is implicitly scheduled to run as a `asyncio.Task`.\n",
    "\n",
    "Return the Future’s result or raise its exception.\n",
    "\n",
    "- #### `loop.close()`\n",
    "\n",
    "Close the event loop.\n",
    "\n",
    "The loop must not be running when this function is called. Any pending callbacks will be discarded.\n",
    "\n",
    "This method clears all queues and shuts down the executor, but does not wait for the executor to finish.\n",
    "\n",
    "This method is idempotent and irreversible. No other methods should be called after the event loop is closed.\n",
    "\n",
    "### Key points\n",
    "\n",
    "#### 1. Coroutines don’t do much on their own until they are tied to the event loop.\n",
    "\n",
    "Remember to use `asyncio.run()` to actually force execution by scheduling the `main()` coroutine (future object) for execution on the event loop."
   ]
  },
  {
   "cell_type": "code",
   "execution_count": 8,
   "id": "226bdf32",
   "metadata": {},
   "outputs": [
    {
     "data": {
      "text/plain": [
       "<coroutine object main at 0x1071f1f00>"
      ]
     },
     "execution_count": 8,
     "metadata": {},
     "output_type": "execute_result"
    }
   ],
   "source": [
    "async def main():\n",
    "    print(\"Hello ...\")\n",
    "    await asyncio.sleep(1)\n",
    "    print(\"World!\")\n",
    "    \n",
    "main()"
   ]
  },
  {
   "cell_type": "markdown",
   "id": "b92ac05e",
   "metadata": {},
   "source": [
    "**See practical example 6.**"
   ]
  },
  {
   "cell_type": "markdown",
   "id": "a56bb392",
   "metadata": {},
   "source": [
    "#### 2. By default, an async IO event loop runs in a single thread and on a single CPU core.\n",
    "\n",
    "Usually, running one single-threaded event loop in one CPU core is more than sufficient. It is also possible to run event loops across multiple cores.\n",
    "\n",
    "#### 3. Event loops are pluggable. \n",
    "\n",
    "That is, you could, if you really wanted, write your own event loop implementation and have it run tasks just the same. For example, [uvloop](https://github.com/MagicStack/uvloop) is a fast event loop implementation."
   ]
  },
  {
   "cell_type": "markdown",
   "id": "a26a71b4",
   "metadata": {},
   "source": [
    "## Async iterators and generators\n",
    "\n",
    "The `async for` statement allows you to iterate over an asynchronous iterator, pausing execution at each iteration to wait for the next item without blocking the event loop. This is particularly useful when working with streaming data, asynchronous data sources, or when processing large datasets incrementally.\n",
    "\n",
    "### Key concepts\n",
    "\n",
    "1. **Asynchronous Iterators**: Objects that implement the `__aiter__()` and `__anext__()` methods.\n",
    "2. **Asynchronous Comprehensions**: Similar to regular comprehensions but using `async for`.\n",
    "3. **Asynchronous Generators**: Functions that use `yield` inside `async def` functions.\n",
    "\n",
    "**See practical example 7 about *async iterators*.**\n",
    "\n",
    "**See practical example 8 about *async generators and comprehensions*.**"
   ]
  },
  {
   "cell_type": "markdown",
   "id": "1075b787",
   "metadata": {},
   "source": [
    "## Async context manager\n",
    "\n",
    "The `async with` statement is designed to work with asynchronous context managers, allowing you to use resources that require setup and cleanup operations in an asynchronous environment. It's similar to the standard `with` statement but works with `async`/`await` syntax.\n",
    "\n",
    "### Key Concepts\n",
    "\n",
    "1. **Asynchronous Context Managers**: Objects that implement the `__aenter__()` and `__aexit__()` methods\n",
    "2. **Resource Management**: Automatically handles acquisition and release of resources\n",
    "3. **Error Handling**: Manages exceptions that occur within the context block\n",
    "\n",
    "**See practical example 9.**"
   ]
  },
  {
   "cell_type": "markdown",
   "id": "baeabccf",
   "metadata": {},
   "source": [
    "## More asyncio functions\n",
    "\n",
    "- #### `asyncio.as_completed(aws, *, timeout=None)`\n",
    "\n",
    "Run awaitable objects in the `aws` iterable concurrently. The returned object can be iterated to obtain the results of the awaitables as they finish.\n",
    "\n",
    "The object returned by `as_completed()` can be iterated as an asynchronous iterator or a plain iterator.\n",
    "\n",
    "- #### `async asyncio.to_thread(func, /, *args, **kwargs)`\n",
    "\n",
    "Asynchronously run function `func` in a separate thread.\n",
    "\n",
    "Any `*args` and `**kwargs` supplied for this function are directly passed to `func`.\n",
    "\n",
    "Return a coroutine that can be awaited to get the eventual result of `func`.\n",
    "\n",
    "This coroutine function is primarily intended to be used for executing IO-bound functions/methods that would otherwise block the event loop if they were run in the main thread.\n",
    "\n",
    "**See practical example 10.**"
   ]
  },
  {
   "cell_type": "markdown",
   "id": "cfd0045c",
   "metadata": {},
   "source": [
    "## Synchronization\n",
    "\n",
    "There are the usual synchronization primitives in `asyncio` as follows:\n",
    "\n",
    "- `Lock`\n",
    "- `Event`\n",
    "- `Semaphore`\n",
    "- etc.\n",
    "\n",
    "### `asyncio.Semaphore(value=1)`\n",
    "\n",
    "A `Semaphore` object. Not thread-safe.\n",
    "\n",
    "A semaphore manages an internal counter which is decremented by each `acquire()` call and incremented by each `release()` call. The counter can never go below zero; when `acquire()` finds that it is zero, it blocks, waiting until some task calls `release()`.\n",
    "\n",
    "The optional value argument gives the initial value for the internal counter (1 by default). If the given value is less than 0 a `ValueError` is raised.\n",
    "\n",
    "Usually, a semaphore can be used to limit the number of concurrent accessors to a shared resource — like a database, file, or network call.\n",
    "\n",
    "**See practical example 11.**"
   ]
  },
  {
   "cell_type": "markdown",
   "id": "7b529158",
   "metadata": {},
   "source": [
    "## Web scraper example\n",
    "\n",
    "**See practical example 12.**"
   ]
  }
 ],
 "metadata": {
  "kernelspec": {
   "display_name": "Python 3 (ipykernel)",
   "language": "python",
   "name": "python3"
  },
  "language_info": {
   "codemirror_mode": {
    "name": "ipython",
    "version": 3
   },
   "file_extension": ".py",
   "mimetype": "text/x-python",
   "name": "python",
   "nbconvert_exporter": "python",
   "pygments_lexer": "ipython3",
   "version": "3.13.3"
  }
 },
 "nbformat": 4,
 "nbformat_minor": 5
}
