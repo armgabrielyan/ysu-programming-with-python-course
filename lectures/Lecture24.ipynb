{
 "cells": [
  {
   "cell_type": "markdown",
   "id": "74750d32",
   "metadata": {
    "slideshow": {
     "slide_type": "slide"
    }
   },
   "source": [
    "# Programming with Python\n",
    "\n",
    "## Lecture 24: OOP - Inheritance\n",
    "\n",
    "### Armen Gabrielyan\n",
    "\n",
    "#### Yerevan State University\n",
    "#### Portmind"
   ]
  },
  {
   "cell_type": "markdown",
   "id": "b51b2916",
   "metadata": {
    "slideshow": {
     "slide_type": "slide"
    }
   },
   "source": [
    "# Inheritance\n",
    "\n",
    "**Inheritance** is a fundamental concept in object-oriented programming (OOP) that allows one class to inherit the properties and methods of another class. It promotes the reuse of code and modularity in software design by enabling the creation of new classes based on existing ones, without the need to rewrite the same code.\n",
    "\n",
    "In OOP, classes are used to represent real-world objects or concepts, and each class can have attributes (data members) and methods (functions). Inheritance establishes a relationship between two classes, where one class (called the subclass or derived class) inherits from another class (called the superclass or base class). The subclass can then reuse or override the attributes and methods of the superclass, and it can also add new attributes or methods of its own."
   ]
  },
  {
   "cell_type": "markdown",
   "id": "14d7e4eb",
   "metadata": {
    "slideshow": {
     "slide_type": "slide"
    }
   },
   "source": [
    "# Benefits\n",
    "\n",
    "- **Code Reusability:** Inheritance allows you to reuse code from existing classes, reducing redundancy and promoting consistency in your codebase.\n",
    "- **Modularity:** Inheritance promotes a modular design, making it easier to maintain, update, and extend your code.\n",
    "- **Abstraction:** By inheriting from a base class, derived classes can abstract away implementation details, focusing only on the specific functionality they need to provide.\n",
    "- **Polymorphism:** Inheritance enables polymorphism, allowing you to interact with different objects through a common interface, which can simplify code and improve flexibility."
   ]
  },
  {
   "cell_type": "markdown",
   "id": "3de5fa3b",
   "metadata": {
    "slideshow": {
     "slide_type": "slide"
    }
   },
   "source": [
    "# Concepts \n",
    "\n",
    "- A **parent class** is a class being inherited from, also known as **base class** or **super class**.\n",
    "- A **child class** is a class that inherits from another class, also known as **derived class** or **subclass**.\n",
    "- A derived class is said to **derive**, **inherit**, or **extend** a base class.\n",
    "- Inheritance models an **is a** relationship, indicating that the derived class is a specialized version of the base class.\n",
    "- Inheritance is used for resolving attribute references: if a requested attribute is not found in the class, the search proceeds to look in the base class.\n",
    "- Derived classes can override methods from the base class if needed."
   ]
  },
  {
   "cell_type": "markdown",
   "id": "2d10c802",
   "metadata": {
    "slideshow": {
     "slide_type": "slide"
    }
   },
   "source": [
    "# Syntax\n",
    "\n",
    "```python\n",
    "class BaseClassName:\n",
    "    <statement_1_1>\n",
    "    .\n",
    "    .\n",
    "    .\n",
    "    <statement_1_N>\n",
    "\n",
    "\n",
    "class DerivedClassName(BaseClassName):\n",
    "    <statement_2_1>\n",
    "    .\n",
    "    .\n",
    "    .\n",
    "    <statement_2_M>\n",
    "```"
   ]
  },
  {
   "cell_type": "code",
   "execution_count": null,
   "id": "39da03f8",
   "metadata": {
    "slideshow": {
     "slide_type": "slide"
    }
   },
   "outputs": [],
   "source": [
    "class Person:\n",
    "    def __init__(self, name, age):\n",
    "        self._name = name\n",
    "        self._age = age\n",
    "    \n",
    "    @property\n",
    "    def name(self):\n",
    "        return self._name\n",
    "    \n",
    "    @property\n",
    "    def age(self):\n",
    "        return self._age\n",
    "    \n",
    "    def introduce_me(self):\n",
    "        return f\"I am {self._name} and I am {self._age} years old.\""
   ]
  },
  {
   "cell_type": "code",
   "execution_count": null,
   "id": "b362ad8c",
   "metadata": {
    "slideshow": {
     "slide_type": "fragment"
    }
   },
   "outputs": [],
   "source": [
    "person = Person(\"John Doe\", 42)\n",
    "person.name, person.age"
   ]
  },
  {
   "cell_type": "code",
   "execution_count": null,
   "id": "09566827",
   "metadata": {
    "slideshow": {
     "slide_type": "fragment"
    }
   },
   "outputs": [],
   "source": [
    "person.introduce_me()"
   ]
  },
  {
   "cell_type": "code",
   "execution_count": null,
   "id": "138f644b",
   "metadata": {
    "slideshow": {
     "slide_type": "subslide"
    }
   },
   "outputs": [],
   "source": [
    "class Student(Person):\n",
    "    pass"
   ]
  },
  {
   "cell_type": "code",
   "execution_count": null,
   "id": "faab5ae2",
   "metadata": {
    "slideshow": {
     "slide_type": "fragment"
    }
   },
   "outputs": [],
   "source": [
    "student = Student(\"Alice Smith\", 20)\n",
    "student.name, student.age"
   ]
  },
  {
   "cell_type": "code",
   "execution_count": null,
   "id": "d422bff1",
   "metadata": {
    "slideshow": {
     "slide_type": "fragment"
    }
   },
   "outputs": [],
   "source": [
    "student.introduce_me()"
   ]
  },
  {
   "cell_type": "markdown",
   "id": "e7ef9e84",
   "metadata": {
    "slideshow": {
     "slide_type": "slide"
    }
   },
   "source": [
    "# Method overriding\n",
    "\n",
    "Method overriding allows a derived class to define a specific implementation for methods that are already defined in base class."
   ]
  },
  {
   "cell_type": "code",
   "execution_count": null,
   "id": "2ec08ef8",
   "metadata": {
    "slideshow": {
     "slide_type": "fragment"
    }
   },
   "outputs": [],
   "source": [
    "class Student(Person):\n",
    "    def introduce_me(self):\n",
    "        return f\"I am {self._name} and I am {self._age} years old student.\""
   ]
  },
  {
   "cell_type": "code",
   "execution_count": null,
   "id": "92b1b853",
   "metadata": {
    "slideshow": {
     "slide_type": "fragment"
    }
   },
   "outputs": [],
   "source": [
    "student = Student(\"Alice Smith\", 20)\n",
    "student.introduce_me()"
   ]
  },
  {
   "cell_type": "markdown",
   "id": "e9b7b5e6",
   "metadata": {
    "slideshow": {
     "slide_type": "slide"
    }
   },
   "source": [
    "# Overriding `__init__()` method\n",
    "\n",
    "`__init__()` method can be overrident to add properties to the derived class."
   ]
  },
  {
   "cell_type": "code",
   "execution_count": null,
   "id": "b20b9b63",
   "metadata": {
    "slideshow": {
     "slide_type": "fragment"
    }
   },
   "outputs": [],
   "source": [
    "class Student(Person):\n",
    "    def __init__(self, university):\n",
    "        self._university = university\n",
    "    \n",
    "    @property\n",
    "    def university(self):\n",
    "        return self._university\n",
    "    \n",
    "    def introduce_me(self):\n",
    "        return f\"I am {self._name} and I am {self._age} years old student.\""
   ]
  },
  {
   "cell_type": "code",
   "execution_count": null,
   "id": "9374d1cc",
   "metadata": {
    "slideshow": {
     "slide_type": "fragment"
    }
   },
   "outputs": [],
   "source": [
    "student = Student(\"YSU\")\n",
    "student.university"
   ]
  },
  {
   "cell_type": "code",
   "execution_count": null,
   "id": "6143f604",
   "metadata": {
    "slideshow": {
     "slide_type": "fragment"
    }
   },
   "outputs": [],
   "source": [
    "student.introduce_me()"
   ]
  },
  {
   "cell_type": "markdown",
   "id": "9ca23400",
   "metadata": {
    "slideshow": {
     "slide_type": "slide"
    }
   },
   "source": [
    "To keep the properties of the base class, a call to the base class's `__init__()` function should be added."
   ]
  },
  {
   "cell_type": "code",
   "execution_count": null,
   "id": "27f3fb18",
   "metadata": {
    "slideshow": {
     "slide_type": "fragment"
    }
   },
   "outputs": [],
   "source": [
    "class Student(Person):\n",
    "    def __init__(self, name, age, university):\n",
    "        Person.__init__(self, name, age)\n",
    "        self._university = university\n",
    "    \n",
    "    @property\n",
    "    def university(self):\n",
    "        return self._university\n",
    "    \n",
    "    def introduce_me(self):\n",
    "        return f\"I am {self._name} and I am {self._age} years old student from {self._university}.\""
   ]
  },
  {
   "cell_type": "code",
   "execution_count": null,
   "id": "0ffbc9e8",
   "metadata": {
    "slideshow": {
     "slide_type": "fragment"
    }
   },
   "outputs": [],
   "source": [
    "student = Student(\"Alice Smith\", 20, \"YSU\")\n",
    "student.university"
   ]
  },
  {
   "cell_type": "code",
   "execution_count": null,
   "id": "351519c2",
   "metadata": {
    "slideshow": {
     "slide_type": "fragment"
    }
   },
   "outputs": [],
   "source": [
    "student.introduce_me()"
   ]
  },
  {
   "cell_type": "markdown",
   "id": "0efb01c7",
   "metadata": {
    "slideshow": {
     "slide_type": "slide"
    }
   },
   "source": [
    "# `super()` function\n",
    "\n",
    "`super()` function can be used to get access to methods and properties of a parent or sibling class. It returns an object that models the parent class."
   ]
  },
  {
   "cell_type": "code",
   "execution_count": null,
   "id": "58e0a468",
   "metadata": {
    "slideshow": {
     "slide_type": "fragment"
    }
   },
   "outputs": [],
   "source": [
    "class Student(Person):\n",
    "    def __init__(self, name, age, university):\n",
    "        super().__init__(name, age)\n",
    "        self._university = university\n",
    "    \n",
    "    @property\n",
    "    def university(self):\n",
    "        return self._university\n",
    "    \n",
    "    def introduce_me(self):\n",
    "        return f\"I am {self._name} and I am {self._age} years old student from {self._university}.\""
   ]
  },
  {
   "cell_type": "code",
   "execution_count": null,
   "id": "44fb10c0",
   "metadata": {
    "slideshow": {
     "slide_type": "fragment"
    }
   },
   "outputs": [],
   "source": [
    "student = Student(\"Alice Smith\", 20, \"YSU\")\n",
    "student.introduce_me()"
   ]
  },
  {
   "cell_type": "code",
   "execution_count": null,
   "id": "d05b346f",
   "metadata": {
    "slideshow": {
     "slide_type": "subslide"
    }
   },
   "outputs": [],
   "source": [
    "class Student(Person):\n",
    "    def __init__(self, name, age, university):\n",
    "        super().__init__(name, age)\n",
    "        self._university = university\n",
    "    \n",
    "    @property\n",
    "    def university(self):\n",
    "        return self._university\n",
    "    \n",
    "    def introduce_me(self):\n",
    "        intro = super().introduce_me()\n",
    "        return f\"{intro} I am a student from {self._university}.\""
   ]
  },
  {
   "cell_type": "code",
   "execution_count": null,
   "id": "53ea8fa5",
   "metadata": {
    "slideshow": {
     "slide_type": "fragment"
    }
   },
   "outputs": [],
   "source": [
    "student = Student(\"Alice Smith\", 20, \"YSU\")\n",
    "student.introduce_me()"
   ]
  },
  {
   "cell_type": "markdown",
   "id": "5c88ee13",
   "metadata": {
    "slideshow": {
     "slide_type": "fragment"
    }
   },
   "source": [
    "# Add properties and methods"
   ]
  },
  {
   "cell_type": "code",
   "execution_count": null,
   "id": "ed65132c",
   "metadata": {
    "slideshow": {
     "slide_type": "fragment"
    }
   },
   "outputs": [],
   "source": [
    "from statistics import mean\n",
    "\n",
    "class Student(Person):\n",
    "    def __init__(self, name, age, university, subject):\n",
    "        super().__init__(name, age)\n",
    "        self._university = university\n",
    "        self._subject = subject\n",
    "        self._grades = {}\n",
    "    \n",
    "    @property\n",
    "    def university(self):\n",
    "        return self._university\n",
    "    \n",
    "    def introduce_me(self):\n",
    "        intro = super().introduce_me()\n",
    "        return f\"{intro} I am a student from {self._university}.\"\n",
    "    \n",
    "    def learn(self):\n",
    "        return f\"I am learning {self._subject}\"\n",
    "    \n",
    "    def add_grade(self, subject, grade):\n",
    "        self._grades[subject] = grade\n",
    "        \n",
    "    def calculate_gpa(self):\n",
    "        gpa = mean(self._grades.values())\n",
    "        gpa = round(gpa, 2)\n",
    "        return gpa"
   ]
  },
  {
   "cell_type": "code",
   "execution_count": null,
   "id": "9fd39588",
   "metadata": {
    "slideshow": {
     "slide_type": "fragment"
    }
   },
   "outputs": [],
   "source": [
    "student = Student(\"Alice Smith\", 20, \"YSU\", \"Data Science\")\n",
    "student.learn()"
   ]
  },
  {
   "cell_type": "code",
   "execution_count": null,
   "id": "7b340818",
   "metadata": {
    "slideshow": {
     "slide_type": "fragment"
    }
   },
   "outputs": [],
   "source": [
    "student.add_grade(\"Math analysis\", 19)\n",
    "student.add_grade(\"Statistics\", 20)\n",
    "student.add_grade(\"Linear algebra\", 19)"
   ]
  },
  {
   "cell_type": "code",
   "execution_count": null,
   "id": "f0d50134",
   "metadata": {
    "slideshow": {
     "slide_type": "fragment"
    }
   },
   "outputs": [],
   "source": [
    "student.calculate_gpa()"
   ]
  },
  {
   "cell_type": "markdown",
   "id": "c5428e8b",
   "metadata": {
    "slideshow": {
     "slide_type": "slide"
    }
   },
   "source": [
    "# Hierarchy of classes\n",
    "\n",
    "Several classes can inherit from each other in a chain, forming a hierarchy of classes."
   ]
  },
  {
   "cell_type": "code",
   "execution_count": null,
   "id": "c77fdc4d",
   "metadata": {
    "slideshow": {
     "slide_type": "fragment"
    }
   },
   "outputs": [],
   "source": [
    "class YSUStudent(Student):\n",
    "    def __init__(self, name, age, subject):\n",
    "        super().__init__(name, age, \"YSU\", subject)"
   ]
  },
  {
   "cell_type": "code",
   "execution_count": null,
   "id": "d0c15c2d",
   "metadata": {
    "slideshow": {
     "slide_type": "fragment"
    }
   },
   "outputs": [],
   "source": [
    "ysu_student = YSUStudent(\"Alice Smith\", 20, \"Data Science\")\n",
    "ysu_student.introduce_me()"
   ]
  },
  {
   "cell_type": "code",
   "execution_count": null,
   "id": "46587b34",
   "metadata": {
    "slideshow": {
     "slide_type": "fragment"
    }
   },
   "outputs": [],
   "source": [
    "ysu_student.learn()"
   ]
  }
 ],
 "metadata": {
  "celltoolbar": "Slideshow",
  "kernelspec": {
   "display_name": "Python 3 (ipykernel)",
   "language": "python",
   "name": "python3"
  },
  "language_info": {
   "codemirror_mode": {
    "name": "ipython",
    "version": 3
   },
   "file_extension": ".py",
   "mimetype": "text/x-python",
   "name": "python",
   "nbconvert_exporter": "python",
   "pygments_lexer": "ipython3",
   "version": "3.8.10"
  }
 },
 "nbformat": 4,
 "nbformat_minor": 5
}
