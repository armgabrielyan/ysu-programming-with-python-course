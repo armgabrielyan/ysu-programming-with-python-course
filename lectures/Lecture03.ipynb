{
 "cells": [
  {
   "cell_type": "markdown",
   "id": "d6515b7c",
   "metadata": {
    "slideshow": {
     "slide_type": "slide"
    }
   },
   "source": [
    "# Programming with Python\n",
    "\n",
    "## Lecture 03\n",
    "\n",
    "### Armen Gabrielyan\n",
    "\n",
    "#### Yerevan State University\n",
    "#### Portmind"
   ]
  },
  {
   "cell_type": "markdown",
   "id": "8f09eabc",
   "metadata": {
    "slideshow": {
     "slide_type": "slide"
    }
   },
   "source": [
    "# Arithmetic operators\n",
    "\n",
    "| Operator | Name             | Example | Meaning                                                               |\n",
    "|----------|------------------|---------|-----------------------------------------------------------------------|\n",
    "| +        | Positive         | +x      | Makes x positive                                                      |\n",
    "| -        | Negation         | -x      | Negates x                                                             |\n",
    "| +        | Addition         | x + y   | Sum of x and y                                                        |\n",
    "| -        | Subtraction      | x - y   | Subtracts y from x                                                    |\n",
    "| *        | Multiplication   | x * y   | Multiplies x and y                                                    |\n",
    "| /        | Division         | x / y   | Divides x by y, resulting in a float                                  |\n",
    "| %        | Modulo           | x % y   | Remainder when x is divided by y                                      |\n",
    "| //       | Integer division | x // y  | Quotient when x is divided by y, rounded to the next smallest integer |\n",
    "| **       | Exponentiation   | x ** y  | x is raised to the power of y                                         |"
   ]
  },
  {
   "cell_type": "markdown",
   "id": "0b0abf8b",
   "metadata": {
    "slideshow": {
     "slide_type": "subslide"
    }
   },
   "source": [
    "## Positive"
   ]
  },
  {
   "cell_type": "code",
   "execution_count": 7,
   "id": "86f5a78e",
   "metadata": {
    "slideshow": {
     "slide_type": "fragment"
    }
   },
   "outputs": [
    {
     "data": {
      "text/plain": [
       "5"
      ]
     },
     "execution_count": 7,
     "metadata": {},
     "output_type": "execute_result"
    }
   ],
   "source": [
    "# int\n",
    "\n",
    "x = 5\n",
    "\n",
    "+x"
   ]
  },
  {
   "cell_type": "code",
   "execution_count": 8,
   "id": "bb12d342",
   "metadata": {
    "slideshow": {
     "slide_type": "fragment"
    }
   },
   "outputs": [
    {
     "data": {
      "text/plain": [
       "5.6"
      ]
     },
     "execution_count": 8,
     "metadata": {},
     "output_type": "execute_result"
    }
   ],
   "source": [
    "# float\n",
    "\n",
    "x = 5.6\n",
    "\n",
    "+x"
   ]
  },
  {
   "cell_type": "code",
   "execution_count": 9,
   "id": "e293f434",
   "metadata": {
    "slideshow": {
     "slide_type": "fragment"
    }
   },
   "outputs": [
    {
     "data": {
      "text/plain": [
       "(5.6+3j)"
      ]
     },
     "execution_count": 9,
     "metadata": {},
     "output_type": "execute_result"
    }
   ],
   "source": [
    "# complex\n",
    "\n",
    "x = 5.6 + 3j\n",
    "\n",
    "+x"
   ]
  },
  {
   "cell_type": "markdown",
   "id": "79b256db",
   "metadata": {
    "slideshow": {
     "slide_type": "subslide"
    }
   },
   "source": [
    "## Negation"
   ]
  },
  {
   "cell_type": "code",
   "execution_count": 15,
   "id": "82519ef5",
   "metadata": {
    "slideshow": {
     "slide_type": "fragment"
    }
   },
   "outputs": [
    {
     "data": {
      "text/plain": [
       "(-5, -6)"
      ]
     },
     "execution_count": 15,
     "metadata": {},
     "output_type": "execute_result"
    }
   ],
   "source": [
    "# int\n",
    "\n",
    "x = 5\n",
    "y = -5\n",
    "\n",
    "-x, -y"
   ]
  },
  {
   "cell_type": "code",
   "execution_count": 16,
   "id": "6de35353",
   "metadata": {
    "slideshow": {
     "slide_type": "fragment"
    }
   },
   "outputs": [
    {
     "data": {
      "text/plain": [
       "(-5.6, 5.6)"
      ]
     },
     "execution_count": 16,
     "metadata": {},
     "output_type": "execute_result"
    }
   ],
   "source": [
    "# float\n",
    "\n",
    "x = 5.6\n",
    "y = -5.6\n",
    "\n",
    "-x, -y"
   ]
  },
  {
   "cell_type": "code",
   "execution_count": 17,
   "id": "ca44ce32",
   "metadata": {
    "slideshow": {
     "slide_type": "fragment"
    }
   },
   "outputs": [
    {
     "data": {
      "text/plain": [
       "((-5.6-3j), (5.6+3j))"
      ]
     },
     "execution_count": 17,
     "metadata": {},
     "output_type": "execute_result"
    }
   ],
   "source": [
    "# complex\n",
    "\n",
    "x = 5.6 + 3j\n",
    "y = -5.6 - 3j\n",
    "\n",
    "-x, -y"
   ]
  },
  {
   "cell_type": "markdown",
   "id": "c2370cfb",
   "metadata": {
    "slideshow": {
     "slide_type": "subslide"
    }
   },
   "source": [
    "## Addition"
   ]
  },
  {
   "cell_type": "code",
   "execution_count": 18,
   "id": "bfdfb5e3",
   "metadata": {
    "slideshow": {
     "slide_type": "fragment"
    }
   },
   "outputs": [
    {
     "data": {
      "text/plain": [
       "11"
      ]
     },
     "execution_count": 18,
     "metadata": {},
     "output_type": "execute_result"
    }
   ],
   "source": [
    "# int + int -> int\n",
    "\n",
    "x = 5\n",
    "y = 6\n",
    "\n",
    "x + y"
   ]
  },
  {
   "cell_type": "code",
   "execution_count": 20,
   "id": "23b7d10f",
   "metadata": {
    "slideshow": {
     "slide_type": "fragment"
    }
   },
   "outputs": [
    {
     "data": {
      "text/plain": [
       "12.42"
      ]
     },
     "execution_count": 20,
     "metadata": {},
     "output_type": "execute_result"
    }
   ],
   "source": [
    "# float + float -> float\n",
    "\n",
    "x = 5.6\n",
    "y = 6.82\n",
    "\n",
    "x + y"
   ]
  },
  {
   "cell_type": "code",
   "execution_count": 21,
   "id": "eadd9aeb",
   "metadata": {
    "slideshow": {
     "slide_type": "fragment"
    }
   },
   "outputs": [
    {
     "data": {
      "text/plain": [
       "(12.42-7.8j)"
      ]
     },
     "execution_count": 21,
     "metadata": {},
     "output_type": "execute_result"
    }
   ],
   "source": [
    "# complex + complex -> complex\n",
    "\n",
    "x = 5.6 + 3.2j\n",
    "y = 6.82 - 11j\n",
    "\n",
    "x + y"
   ]
  }
 ],
 "metadata": {
  "celltoolbar": "Slideshow",
  "kernelspec": {
   "display_name": "Python 3 (ipykernel)",
   "language": "python",
   "name": "python3"
  },
  "language_info": {
   "codemirror_mode": {
    "name": "ipython",
    "version": 3
   },
   "file_extension": ".py",
   "mimetype": "text/x-python",
   "name": "python",
   "nbconvert_exporter": "python",
   "pygments_lexer": "ipython3",
   "version": "3.10.8"
  },
  "vscode": {
   "interpreter": {
    "hash": "916dbcbb3f70747c44a77c7bcd40155683ae19c65e1c03b4aa3499c5328201f1"
   }
  }
 },
 "nbformat": 4,
 "nbformat_minor": 5
}
