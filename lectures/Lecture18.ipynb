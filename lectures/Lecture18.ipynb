{
 "cells": [
  {
   "cell_type": "markdown",
   "id": "74750d32",
   "metadata": {
    "slideshow": {
     "slide_type": "slide"
    }
   },
   "source": [
    "# Programming with Python\n",
    "\n",
    "## Lecture 18: Generators and decorators\n",
    "\n",
    "### Armen Gabrielyan\n",
    "\n",
    "#### Yerevan State University\n",
    "#### Portmind"
   ]
  },
  {
   "cell_type": "markdown",
   "id": "c1e93f79",
   "metadata": {
    "slideshow": {
     "slide_type": "slide"
    }
   },
   "source": [
    "# Generator expressions\n",
    "\n",
    "Generator expressions allow us to create generator objects with list comprehension style.\n",
    "\n",
    "```python\n",
    "(<expression> for <item> in <iterable>)\n",
    "```"
   ]
  },
  {
   "cell_type": "code",
   "execution_count": null,
   "id": "4d1abf66",
   "metadata": {
    "slideshow": {
     "slide_type": "fragment"
    }
   },
   "outputs": [],
   "source": [
    "list_comp = [number for number in range(10 ** 8)]\n",
    "list_comp[:10]"
   ]
  },
  {
   "cell_type": "code",
   "execution_count": null,
   "id": "6a8c82ae",
   "metadata": {
    "slideshow": {
     "slide_type": "fragment"
    }
   },
   "outputs": [],
   "source": [
    "list_expr = (number for number in range(10 ** 8))\n",
    "list_expr"
   ]
  },
  {
   "cell_type": "code",
   "execution_count": null,
   "id": "15ff4283",
   "metadata": {
    "slideshow": {
     "slide_type": "fragment"
    }
   },
   "outputs": [],
   "source": [
    "print(next(list_expr))\n",
    "print(next(list_expr))\n",
    "print(next(list_expr))\n",
    "print(next(list_expr))\n",
    "print(next(list_expr))"
   ]
  },
  {
   "cell_type": "code",
   "execution_count": null,
   "id": "6058cf03",
   "metadata": {
    "slideshow": {
     "slide_type": "fragment"
    }
   },
   "outputs": [],
   "source": [
    "\"\".join(str(number) for number in range(10))"
   ]
  },
  {
   "cell_type": "markdown",
   "id": "5de41e24",
   "metadata": {
    "slideshow": {
     "slide_type": "slide"
    }
   },
   "source": [
    "# Subgenerators with `yield from`\n",
    "\n",
    "`yield from` keyword can be used in a generator to delegate work to another subgenerator."
   ]
  },
  {
   "cell_type": "code",
   "execution_count": null,
   "id": "df993516",
   "metadata": {
    "slideshow": {
     "slide_type": "fragment"
    }
   },
   "outputs": [],
   "source": [
    "def sub_gen():\n",
    "    yield \"foo\"\n",
    "    yield \"bar\"\n",
    "    \n",
    "def gen():\n",
    "    yield \"start\"\n",
    "    for el in sub_gen():\n",
    "        yield el\n",
    "    yield \"end\"\n",
    "    \n",
    "for el in gen():\n",
    "    print(el)"
   ]
  },
  {
   "cell_type": "code",
   "execution_count": null,
   "id": "fc08aa94",
   "metadata": {
    "slideshow": {
     "slide_type": "slide"
    }
   },
   "outputs": [],
   "source": [
    "def sub_gen():\n",
    "    yield \"foo\"\n",
    "    yield \"bar\"\n",
    "    \n",
    "def gen():\n",
    "    yield \"start\"\n",
    "    yield from sub_gen()\n",
    "    yield \"end\"\n",
    "    \n",
    "for el in gen():\n",
    "    print(el)"
   ]
  },
  {
   "cell_type": "code",
   "execution_count": null,
   "id": "312b1136",
   "metadata": {
    "slideshow": {
     "slide_type": "fragment"
    }
   },
   "outputs": [],
   "source": [
    "def sub_gen():\n",
    "    yield \"foo\"\n",
    "    yield \"bar\"\n",
    "    return \"baz\"\n",
    "    \n",
    "def gen():\n",
    "    yield \"start\"\n",
    "    result = yield from sub_gen()\n",
    "    print(f\"returned from sub_gen: {result}\")\n",
    "    yield \"end\"\n",
    "    \n",
    "for el in gen():\n",
    "    print(el)"
   ]
  },
  {
   "cell_type": "markdown",
   "id": "c85d1b24",
   "metadata": {
    "slideshow": {
     "slide_type": "slide"
    }
   },
   "source": [
    "# Generator Functions in the Standard Library"
   ]
  },
  {
   "cell_type": "markdown",
   "id": "66e25e62",
   "metadata": {
    "slideshow": {
     "slide_type": "slide"
    }
   },
   "source": [
    "### `filter(predicate, it)`\n",
    "\n",
    "This function applies `predicate` to each item in `it`, yielding the item if the predicate result is truthy."
   ]
  },
  {
   "cell_type": "code",
   "execution_count": null,
   "id": "c7928f89",
   "metadata": {
    "slideshow": {
     "slide_type": "fragment"
    }
   },
   "outputs": [],
   "source": [
    "filtered = filter(lambda x: x % 2 == 0, [5, 2, 4, 1, 12])\n",
    "filtered"
   ]
  },
  {
   "cell_type": "code",
   "execution_count": null,
   "id": "56ea5b6c",
   "metadata": {
    "slideshow": {
     "slide_type": "fragment"
    }
   },
   "outputs": [],
   "source": [
    "list(filtered)"
   ]
  },
  {
   "cell_type": "code",
   "execution_count": null,
   "id": "1e06a2e1",
   "metadata": {
    "slideshow": {
     "slide_type": "fragment"
    }
   },
   "outputs": [],
   "source": [
    "for el in filtered:\n",
    "    print(el)"
   ]
  },
  {
   "cell_type": "markdown",
   "id": "6bc30a35",
   "metadata": {
    "slideshow": {
     "slide_type": "slide"
    }
   },
   "source": [
    "### `enumerate(iterable, start=0)`\n",
    "\n",
    "This function yields tuples of the form `(index, item)`, where `index` is counted from `start`, and `item` is taken from the `iterable`."
   ]
  },
  {
   "cell_type": "code",
   "execution_count": null,
   "id": "2f18d3ed",
   "metadata": {
    "slideshow": {
     "slide_type": "fragment"
    }
   },
   "outputs": [],
   "source": [
    "enumerated = enumerate([5, 2, 4, 1, 12])\n",
    "enumerated"
   ]
  },
  {
   "cell_type": "code",
   "execution_count": null,
   "id": "d7902e1b",
   "metadata": {
    "slideshow": {
     "slide_type": "fragment"
    }
   },
   "outputs": [],
   "source": [
    "list(enumerated)"
   ]
  },
  {
   "cell_type": "code",
   "execution_count": null,
   "id": "d01b6360",
   "metadata": {
    "slideshow": {
     "slide_type": "fragment"
    }
   },
   "outputs": [],
   "source": [
    "for index, item in enumerate([5, 2, 4, 1, 12]):\n",
    "    print(f\"{index} => {item}\")"
   ]
  },
  {
   "cell_type": "markdown",
   "id": "b372bf26",
   "metadata": {
    "slideshow": {
     "slide_type": "slide"
    }
   },
   "source": [
    "### `map(func, it1, [it2, …, itN])`\n",
    "\n",
    "This function applies `func` to each item of `it`, yielding the result; if `N` iterables are given, `func` must take `N` arguments and the iterables will be consumed in parallel."
   ]
  },
  {
   "cell_type": "code",
   "execution_count": null,
   "id": "9b850c25",
   "metadata": {
    "slideshow": {
     "slide_type": "fragment"
    }
   },
   "outputs": [],
   "source": [
    "mapped = map(lambda x: x ** 2, [5, 2, 4, 1, 12])\n",
    "mapped"
   ]
  },
  {
   "cell_type": "code",
   "execution_count": null,
   "id": "b84b00d4",
   "metadata": {
    "slideshow": {
     "slide_type": "fragment"
    }
   },
   "outputs": [],
   "source": [
    "list(mapped)"
   ]
  },
  {
   "cell_type": "code",
   "execution_count": null,
   "id": "cbd8e512",
   "metadata": {
    "slideshow": {
     "slide_type": "fragment"
    }
   },
   "outputs": [],
   "source": [
    "mapped = map(lambda x, y: (x, y), [5, 2, 4, 1, 12], range(5))\n",
    "list(mapped)"
   ]
  },
  {
   "cell_type": "code",
   "execution_count": null,
   "id": "88a3db74",
   "metadata": {
    "slideshow": {
     "slide_type": "fragment"
    }
   },
   "outputs": [],
   "source": [
    "import operator\n",
    "\n",
    "mapped = map(operator.mul, [5, 2, 4, 1, 12], range(10))\n",
    "list(mapped)"
   ]
  },
  {
   "cell_type": "markdown",
   "id": "e79d3187",
   "metadata": {
    "slideshow": {
     "slide_type": "slide"
    }
   },
   "source": [
    "### `zip(it1, …, itN, strict=False)`\n",
    "\n",
    "This function yields `N`-tuples built from items taken from the iterables in parallel, silently stopping when the first iterable is exhausted, unless `strict=True` is given."
   ]
  },
  {
   "cell_type": "code",
   "execution_count": null,
   "id": "0e1e1047",
   "metadata": {
    "slideshow": {
     "slide_type": "fragment"
    }
   },
   "outputs": [],
   "source": [
    "zipped = zip([5, 2, 4, 1, 12], range(5))\n",
    "zipped"
   ]
  },
  {
   "cell_type": "code",
   "execution_count": null,
   "id": "dfa3b5ee",
   "metadata": {
    "slideshow": {
     "slide_type": "fragment"
    }
   },
   "outputs": [],
   "source": [
    "list(zipped)"
   ]
  },
  {
   "cell_type": "code",
   "execution_count": null,
   "id": "4075be35",
   "metadata": {
    "slideshow": {
     "slide_type": "fragment"
    }
   },
   "outputs": [],
   "source": [
    "zipped = zip(\"aeiou\", range(10))\n",
    "list(zipped)"
   ]
  },
  {
   "cell_type": "code",
   "execution_count": null,
   "id": "e7fac23b",
   "metadata": {
    "slideshow": {
     "slide_type": "fragment"
    }
   },
   "outputs": [],
   "source": [
    "zipped = zip(\"aeiou\", range(10), strict=True)\n",
    "list(zipped)"
   ]
  },
  {
   "cell_type": "markdown",
   "id": "20a989fe",
   "metadata": {
    "slideshow": {
     "slide_type": "slide"
    }
   },
   "source": [
    "### `reversed(seq)`\n",
    "\n",
    "This function yields items from `seq` in reverse order, from last to first."
   ]
  },
  {
   "cell_type": "code",
   "execution_count": null,
   "id": "a671ac98",
   "metadata": {
    "slideshow": {
     "slide_type": "fragment"
    }
   },
   "outputs": [],
   "source": [
    "rev = reversed([5, 2, 4, 1, 12])\n",
    "rev"
   ]
  },
  {
   "cell_type": "code",
   "execution_count": null,
   "id": "5f0bfb38",
   "metadata": {
    "slideshow": {
     "slide_type": "fragment"
    }
   },
   "outputs": [],
   "source": [
    "list(rev)"
   ]
  },
  {
   "cell_type": "markdown",
   "id": "5d80c27e",
   "metadata": {
    "slideshow": {
     "slide_type": "slide"
    }
   },
   "source": [
    "# `itertools`"
   ]
  },
  {
   "cell_type": "code",
   "execution_count": null,
   "id": "ee32df0b",
   "metadata": {
    "slideshow": {
     "slide_type": "fragment"
    }
   },
   "outputs": [],
   "source": [
    "import itertools"
   ]
  },
  {
   "cell_type": "markdown",
   "id": "2e364fa5",
   "metadata": {
    "slideshow": {
     "slide_type": "slide"
    }
   },
   "source": [
    "### `itertools.combinations(it, out_len)`\n",
    "\n",
    "This function yields combinations of `out_len` items from the items yielded by `it`."
   ]
  },
  {
   "cell_type": "code",
   "execution_count": null,
   "id": "b67ca9ca",
   "metadata": {
    "slideshow": {
     "slide_type": "fragment"
    }
   },
   "outputs": [],
   "source": [
    "comb = itertools.combinations(range(5), 2)\n",
    "comb"
   ]
  },
  {
   "cell_type": "code",
   "execution_count": null,
   "id": "3d5a14bf",
   "metadata": {
    "slideshow": {
     "slide_type": "fragment"
    }
   },
   "outputs": [],
   "source": [
    "list(comb)"
   ]
  },
  {
   "cell_type": "markdown",
   "id": "9792cc7e",
   "metadata": {
    "slideshow": {
     "slide_type": "slide"
    }
   },
   "source": [
    "### `itertools.permutations(it, out_len=None)`\n",
    "\n",
    "This function yields permutations of `out_len` items from the items yielded by `it`; by default, `out_len` is `len(list(it))`."
   ]
  },
  {
   "cell_type": "code",
   "execution_count": null,
   "id": "4b562677",
   "metadata": {
    "slideshow": {
     "slide_type": "fragment"
    }
   },
   "outputs": [],
   "source": [
    "perm = itertools.permutations(range(5), 2)\n",
    "perm"
   ]
  },
  {
   "cell_type": "code",
   "execution_count": null,
   "id": "3c944790",
   "metadata": {
    "slideshow": {
     "slide_type": "fragment"
    }
   },
   "outputs": [],
   "source": [
    "list(perm)"
   ]
  },
  {
   "cell_type": "code",
   "execution_count": null,
   "id": "5477aded",
   "metadata": {
    "slideshow": {
     "slide_type": "fragment"
    }
   },
   "outputs": [],
   "source": [
    "list(itertools.permutations(range(5)))"
   ]
  },
  {
   "cell_type": "markdown",
   "id": "e3f42ad3",
   "metadata": {
    "slideshow": {
     "slide_type": "slide"
    }
   },
   "source": [
    "### `itertools.repeat(item, [times])`\n",
    "\n",
    "This function yields the given `item` repeatedly, indefinitely unless a number of `times` is given."
   ]
  },
  {
   "cell_type": "code",
   "execution_count": null,
   "id": "9fa62e61",
   "metadata": {
    "slideshow": {
     "slide_type": "fragment"
    }
   },
   "outputs": [],
   "source": [
    "rp = itertools.repeat(42)\n",
    "rp"
   ]
  },
  {
   "cell_type": "code",
   "execution_count": null,
   "id": "3d08a08b",
   "metadata": {
    "slideshow": {
     "slide_type": "fragment"
    }
   },
   "outputs": [],
   "source": [
    "print(next(rp))\n",
    "print(next(rp))\n",
    "print(next(rp))"
   ]
  },
  {
   "cell_type": "code",
   "execution_count": null,
   "id": "a8a2a17f",
   "metadata": {
    "slideshow": {
     "slide_type": "fragment"
    }
   },
   "outputs": [],
   "source": [
    "rp = itertools.repeat(42, 5)\n",
    "list(rp)"
   ]
  },
  {
   "cell_type": "markdown",
   "id": "844220c9",
   "metadata": {
    "slideshow": {
     "slide_type": "slide"
    }
   },
   "source": [
    "# Iterable reducing functions"
   ]
  },
  {
   "cell_type": "markdown",
   "id": "f01802b2",
   "metadata": {
    "slideshow": {
     "slide_type": "slide"
    }
   },
   "source": [
    "### `all(it)`\n",
    "\n",
    "This function returns `True` if all items in `it` are truthy, otherwise `False`; `all([])` returns `True`."
   ]
  },
  {
   "cell_type": "code",
   "execution_count": null,
   "id": "0af82cd7",
   "metadata": {
    "slideshow": {
     "slide_type": "fragment"
    }
   },
   "outputs": [],
   "source": [
    "all([5, 2, 4, 1, 12])"
   ]
  },
  {
   "cell_type": "code",
   "execution_count": null,
   "id": "91c0d040",
   "metadata": {
    "slideshow": {
     "slide_type": "fragment"
    }
   },
   "outputs": [],
   "source": [
    "all([5, 2, 4, 0, 1, 12])"
   ]
  },
  {
   "cell_type": "code",
   "execution_count": null,
   "id": "1576e7e6",
   "metadata": {
    "slideshow": {
     "slide_type": "fragment"
    }
   },
   "outputs": [],
   "source": [
    "all(num for num in range(10, 2))"
   ]
  },
  {
   "cell_type": "code",
   "execution_count": null,
   "id": "9f234059",
   "metadata": {
    "slideshow": {
     "slide_type": "fragment"
    }
   },
   "outputs": [],
   "source": [
    "all(num for num in range(10))"
   ]
  },
  {
   "cell_type": "code",
   "execution_count": null,
   "id": "d39287f4",
   "metadata": {
    "slideshow": {
     "slide_type": "fragment"
    }
   },
   "outputs": [],
   "source": [
    "all([])"
   ]
  },
  {
   "cell_type": "markdown",
   "id": "a51f7f5d",
   "metadata": {
    "slideshow": {
     "slide_type": "slide"
    }
   },
   "source": [
    "### `any(it)`\n",
    "\n",
    "Returns `True` if any item in `it` is truthy, otherwise `False`; `any([])` returns False"
   ]
  },
  {
   "cell_type": "code",
   "execution_count": null,
   "id": "f8885c5e",
   "metadata": {
    "slideshow": {
     "slide_type": "fragment"
    }
   },
   "outputs": [],
   "source": [
    "any([0, False, 4, 0, False, 0])"
   ]
  },
  {
   "cell_type": "code",
   "execution_count": null,
   "id": "c5af1fae",
   "metadata": {
    "slideshow": {
     "slide_type": "fragment"
    }
   },
   "outputs": [],
   "source": [
    "any([0, False, 0, 0, False, 0])"
   ]
  },
  {
   "cell_type": "code",
   "execution_count": null,
   "id": "e320caf1",
   "metadata": {
    "slideshow": {
     "slide_type": "fragment"
    }
   },
   "outputs": [],
   "source": [
    "any(num % 2 == 0 for num in range(1, 10, 3))"
   ]
  },
  {
   "cell_type": "code",
   "execution_count": null,
   "id": "2c4edc9b",
   "metadata": {
    "slideshow": {
     "slide_type": "fragment"
    }
   },
   "outputs": [],
   "source": [
    "any(num % 2 == 0 for num in range(1, 10, 2))"
   ]
  },
  {
   "cell_type": "code",
   "execution_count": null,
   "id": "36c332d3",
   "metadata": {
    "slideshow": {
     "slide_type": "fragment"
    }
   },
   "outputs": [],
   "source": [
    "any([])"
   ]
  },
  {
   "cell_type": "markdown",
   "id": "6be2112b",
   "metadata": {
    "slideshow": {
     "slide_type": "slide"
    }
   },
   "source": [
    "### `max(it, [key=,] [default=])`\n",
    "\n",
    "Returns the maximum value of the items in `it`; a `key` is an ordering function, as in `sorted`; `default` is returned if the iterable is empty."
   ]
  },
  {
   "cell_type": "code",
   "execution_count": null,
   "id": "fda2cc31",
   "metadata": {
    "slideshow": {
     "slide_type": "fragment"
    }
   },
   "outputs": [],
   "source": [
    "max([5, 2, 4, 1, 12])"
   ]
  },
  {
   "cell_type": "code",
   "execution_count": null,
   "id": "642b8c51",
   "metadata": {
    "slideshow": {
     "slide_type": "fragment"
    }
   },
   "outputs": [],
   "source": [
    "max(5, 2, 4, 1, 12)"
   ]
  },
  {
   "cell_type": "code",
   "execution_count": null,
   "id": "dbf53875",
   "metadata": {
    "slideshow": {
     "slide_type": "fragment"
    }
   },
   "outputs": [],
   "source": [
    "max([num % 5 for num in range(10)])"
   ]
  },
  {
   "cell_type": "code",
   "execution_count": null,
   "id": "7703f31e",
   "metadata": {
    "slideshow": {
     "slide_type": "fragment"
    }
   },
   "outputs": [],
   "source": [
    "max(num % 5 for num in range(10))"
   ]
  },
  {
   "cell_type": "code",
   "execution_count": null,
   "id": "59e21e79",
   "metadata": {
    "slideshow": {
     "slide_type": "slide"
    }
   },
   "outputs": [],
   "source": [
    "max([])"
   ]
  },
  {
   "cell_type": "code",
   "execution_count": null,
   "id": "e2bd195b",
   "metadata": {
    "slideshow": {
     "slide_type": "fragment"
    }
   },
   "outputs": [],
   "source": [
    "max([], default=42)"
   ]
  },
  {
   "cell_type": "code",
   "execution_count": null,
   "id": "9cbdb0df",
   "metadata": {
    "slideshow": {
     "slide_type": "slide"
    }
   },
   "outputs": [],
   "source": [
    "texts = [\"Hello World!\", \"good morning\", \"Welcome!\", \"good Evening!\"]"
   ]
  },
  {
   "cell_type": "code",
   "execution_count": null,
   "id": "81131933",
   "metadata": {
    "slideshow": {
     "slide_type": "fragment"
    }
   },
   "outputs": [],
   "source": [
    "max(texts)"
   ]
  },
  {
   "cell_type": "code",
   "execution_count": null,
   "id": "373dcd3f",
   "metadata": {
    "slideshow": {
     "slide_type": "fragment"
    }
   },
   "outputs": [],
   "source": [
    "max(text.lower() for text in texts)"
   ]
  },
  {
   "cell_type": "code",
   "execution_count": null,
   "id": "30cd9162",
   "metadata": {
    "slideshow": {
     "slide_type": "fragment"
    }
   },
   "outputs": [],
   "source": [
    "max(texts, key=str.lower)"
   ]
  },
  {
   "cell_type": "code",
   "execution_count": null,
   "id": "de6a026c",
   "metadata": {
    "slideshow": {
     "slide_type": "fragment"
    }
   },
   "outputs": [],
   "source": [
    "max(texts, key=len)"
   ]
  },
  {
   "cell_type": "markdown",
   "id": "998cb0c3",
   "metadata": {
    "slideshow": {
     "slide_type": "slide"
    }
   },
   "source": [
    "### `min(it, [key=,] [default=])`\n",
    "\n",
    "Returns the minimum value of the items in `it`; a `key` is an ordering function, as in `sorted`; `default` is returned if the iterable is empty."
   ]
  },
  {
   "cell_type": "code",
   "execution_count": null,
   "id": "f77ba91a",
   "metadata": {
    "slideshow": {
     "slide_type": "fragment"
    }
   },
   "outputs": [],
   "source": [
    "min([5, 2, 4, 1, 12])"
   ]
  },
  {
   "cell_type": "code",
   "execution_count": null,
   "id": "2ffea1c2",
   "metadata": {
    "slideshow": {
     "slide_type": "fragment"
    }
   },
   "outputs": [],
   "source": [
    "min(5, 2, 4, 1, 12)"
   ]
  },
  {
   "cell_type": "code",
   "execution_count": null,
   "id": "46d0d0a0",
   "metadata": {
    "slideshow": {
     "slide_type": "fragment"
    }
   },
   "outputs": [],
   "source": [
    "min([num % 5 for num in range(10)])"
   ]
  },
  {
   "cell_type": "code",
   "execution_count": null,
   "id": "e8e453e3",
   "metadata": {
    "slideshow": {
     "slide_type": "fragment"
    }
   },
   "outputs": [],
   "source": [
    "min(num % 5 for num in range(10))"
   ]
  },
  {
   "cell_type": "markdown",
   "id": "c12c563f",
   "metadata": {
    "slideshow": {
     "slide_type": "slide"
    }
   },
   "source": [
    "### sum(it, start=0)\n",
    "\n",
    "The sum of all items in `it`, with the optional `start` value added."
   ]
  },
  {
   "cell_type": "code",
   "execution_count": null,
   "id": "7ebc4984",
   "metadata": {
    "slideshow": {
     "slide_type": "fragment"
    }
   },
   "outputs": [],
   "source": [
    "sum([5, 2, 4, 1, 12])"
   ]
  },
  {
   "cell_type": "code",
   "execution_count": null,
   "id": "d94f1c25",
   "metadata": {
    "slideshow": {
     "slide_type": "fragment"
    }
   },
   "outputs": [],
   "source": [
    "sum([num % 5 for num in range(10)])"
   ]
  },
  {
   "cell_type": "code",
   "execution_count": null,
   "id": "a8010dc1",
   "metadata": {
    "slideshow": {
     "slide_type": "fragment"
    }
   },
   "outputs": [],
   "source": [
    "sum(num % 5 for num in range(10))"
   ]
  },
  {
   "cell_type": "code",
   "execution_count": null,
   "id": "cb816a24",
   "metadata": {
    "slideshow": {
     "slide_type": "fragment"
    }
   },
   "outputs": [],
   "source": [
    "sum([5, 2, 4, 1, 12], 42)"
   ]
  },
  {
   "cell_type": "markdown",
   "id": "64ba6293",
   "metadata": {
    "slideshow": {
     "slide_type": "slide"
    }
   },
   "source": [
    "# Decorators\n",
    "\n",
    "Decorators are functions that transform and extend other functions without explicitly modifying it.\n",
    "\n",
    "[PEP 318 – Decorators for Functions and Methods](https://peps.python.org/pep-0318/)"
   ]
  },
  {
   "cell_type": "code",
   "execution_count": null,
   "id": "e7e7c95f",
   "metadata": {
    "slideshow": {
     "slide_type": "fragment"
    }
   },
   "outputs": [],
   "source": [
    "def my_decorator(func):\n",
    "    def wrapper():\n",
    "        print(\"Before the function is called.\")\n",
    "        func()\n",
    "        print(\"After the function is called.\")\n",
    "    return wrapper"
   ]
  },
  {
   "cell_type": "code",
   "execution_count": null,
   "id": "6200e880",
   "metadata": {
    "slideshow": {
     "slide_type": "fragment"
    }
   },
   "outputs": [],
   "source": [
    "def greet():\n",
    "    print(\"Hello World!\")\n",
    "    \n",
    "greet = my_decorator(greet)"
   ]
  },
  {
   "cell_type": "code",
   "execution_count": null,
   "id": "36525af2",
   "metadata": {
    "slideshow": {
     "slide_type": "fragment"
    }
   },
   "outputs": [],
   "source": [
    "greet()"
   ]
  },
  {
   "cell_type": "markdown",
   "id": "d4ea1732",
   "metadata": {
    "slideshow": {
     "slide_type": "slide"
    }
   },
   "source": [
    "# Syntactic sugar\n",
    "\n",
    "Decorators can be used in a much simpler way with the `@` symbol, also known as pie syntax."
   ]
  },
  {
   "cell_type": "code",
   "execution_count": null,
   "id": "ea98237a",
   "metadata": {
    "slideshow": {
     "slide_type": "fragment"
    }
   },
   "outputs": [],
   "source": [
    "@my_decorator\n",
    "def greet():\n",
    "    print(\"Hello World!\")"
   ]
  },
  {
   "cell_type": "code",
   "execution_count": null,
   "id": "c1c8b517",
   "metadata": {
    "slideshow": {
     "slide_type": "fragment"
    }
   },
   "outputs": [],
   "source": [
    "greet()"
   ]
  },
  {
   "cell_type": "code",
   "execution_count": null,
   "id": "1fa376f9",
   "metadata": {
    "slideshow": {
     "slide_type": "slide"
    }
   },
   "outputs": [],
   "source": [
    "def do_twice(func):\n",
    "    def wrapper():\n",
    "        func()\n",
    "        func()\n",
    "    return wrapper"
   ]
  },
  {
   "cell_type": "code",
   "execution_count": null,
   "id": "6250419a",
   "metadata": {
    "slideshow": {
     "slide_type": "fragment"
    }
   },
   "outputs": [],
   "source": [
    "@do_twice\n",
    "def greet():\n",
    "    print(\"Hello World!\")"
   ]
  },
  {
   "cell_type": "code",
   "execution_count": null,
   "id": "febbdb00",
   "metadata": {
    "slideshow": {
     "slide_type": "fragment"
    }
   },
   "outputs": [],
   "source": [
    "greet()"
   ]
  },
  {
   "cell_type": "markdown",
   "id": "628d2d32",
   "metadata": {
    "slideshow": {
     "slide_type": "slide"
    }
   },
   "source": [
    "## Decorating functions with parameters"
   ]
  },
  {
   "cell_type": "code",
   "execution_count": null,
   "id": "019c44ed",
   "metadata": {
    "slideshow": {
     "slide_type": "fragment"
    }
   },
   "outputs": [],
   "source": [
    "@do_twice\n",
    "def greet_with_name(name):\n",
    "    print(f\"Hello, {name}!\")"
   ]
  },
  {
   "cell_type": "code",
   "execution_count": null,
   "id": "9d4ad728",
   "metadata": {
    "slideshow": {
     "slide_type": "fragment"
    }
   },
   "outputs": [],
   "source": [
    "greet_with_name(\"John Doe\")"
   ]
  },
  {
   "cell_type": "code",
   "execution_count": null,
   "id": "ed29d85f",
   "metadata": {
    "slideshow": {
     "slide_type": "slide"
    }
   },
   "outputs": [],
   "source": [
    "def do_twice(func):\n",
    "    def wrapper(*args, **kwargs):\n",
    "        func(*args, **kwargs)\n",
    "        func(*args, **kwargs)\n",
    "    return wrapper"
   ]
  },
  {
   "cell_type": "code",
   "execution_count": null,
   "id": "f9d4b451",
   "metadata": {
    "slideshow": {
     "slide_type": "fragment"
    }
   },
   "outputs": [],
   "source": [
    "@do_twice\n",
    "def greet_with_name(name):\n",
    "    print(f\"Hello, {name}!\")"
   ]
  },
  {
   "cell_type": "code",
   "execution_count": null,
   "id": "e8cf5411",
   "metadata": {
    "slideshow": {
     "slide_type": "fragment"
    }
   },
   "outputs": [],
   "source": [
    "greet_with_name(\"John Doe\")"
   ]
  },
  {
   "cell_type": "code",
   "execution_count": null,
   "id": "17c29d4c",
   "metadata": {
    "slideshow": {
     "slide_type": "fragment"
    }
   },
   "outputs": [],
   "source": [
    "@do_twice\n",
    "def greet():\n",
    "    print(\"Hello World!\")"
   ]
  },
  {
   "cell_type": "code",
   "execution_count": null,
   "id": "86916502",
   "metadata": {
    "slideshow": {
     "slide_type": "fragment"
    }
   },
   "outputs": [],
   "source": [
    "greet()"
   ]
  },
  {
   "cell_type": "markdown",
   "id": "3d03154b",
   "metadata": {
    "slideshow": {
     "slide_type": "slide"
    }
   },
   "source": [
    "## Decorating functions that return values"
   ]
  },
  {
   "cell_type": "code",
   "execution_count": null,
   "id": "ce27aab9",
   "metadata": {
    "slideshow": {
     "slide_type": "fragment"
    }
   },
   "outputs": [],
   "source": [
    "@do_twice\n",
    "def greet_with_name_and_return(name):\n",
    "    greeting = f\"Hello, {name}!\"\n",
    "    print(greeting)\n",
    "    return greeting"
   ]
  },
  {
   "cell_type": "code",
   "execution_count": null,
   "id": "9dc4304f",
   "metadata": {
    "slideshow": {
     "slide_type": "fragment"
    }
   },
   "outputs": [],
   "source": [
    "result = greet_with_name_and_return(\"John Doe\")\n",
    "print(result)"
   ]
  },
  {
   "cell_type": "code",
   "execution_count": null,
   "id": "461ac53b",
   "metadata": {
    "slideshow": {
     "slide_type": "slide"
    }
   },
   "outputs": [],
   "source": [
    "def do_twice(func):\n",
    "    def wrapper(*args, **kwargs):\n",
    "        func(*args, **kwargs)\n",
    "        return func(*args, **kwargs)\n",
    "    return wrapper"
   ]
  },
  {
   "cell_type": "code",
   "execution_count": null,
   "id": "226e1a40",
   "metadata": {
    "slideshow": {
     "slide_type": "fragment"
    }
   },
   "outputs": [],
   "source": [
    "@do_twice\n",
    "def greet_with_name_and_return(name):\n",
    "    greeting = f\"Hello, {name}!\"\n",
    "    print(greeting)\n",
    "    return greeting"
   ]
  },
  {
   "cell_type": "code",
   "execution_count": null,
   "id": "ad218d3b",
   "metadata": {
    "slideshow": {
     "slide_type": "fragment"
    }
   },
   "outputs": [],
   "source": [
    "result = greet_with_name_and_return(\"John Doe\")\n",
    "print(result)"
   ]
  },
  {
   "cell_type": "markdown",
   "id": "56134189",
   "metadata": {
    "slideshow": {
     "slide_type": "slide"
    }
   },
   "source": [
    "## Introspection\n",
    "\n",
    "Type introspection is the ability of a program to examine the type or properties of an object at runtime."
   ]
  },
  {
   "cell_type": "code",
   "execution_count": null,
   "id": "ba92cd93",
   "metadata": {
    "slideshow": {
     "slide_type": "fragment"
    }
   },
   "outputs": [],
   "source": [
    "print"
   ]
  },
  {
   "cell_type": "code",
   "execution_count": null,
   "id": "da9f2a53",
   "metadata": {
    "slideshow": {
     "slide_type": "fragment"
    }
   },
   "outputs": [],
   "source": [
    "print.__name__"
   ]
  },
  {
   "cell_type": "code",
   "execution_count": null,
   "id": "85539334",
   "metadata": {
    "slideshow": {
     "slide_type": "fragment"
    }
   },
   "outputs": [],
   "source": [
    "help(print)"
   ]
  },
  {
   "cell_type": "code",
   "execution_count": null,
   "id": "407ac17d",
   "metadata": {
    "slideshow": {
     "slide_type": "slide"
    }
   },
   "outputs": [],
   "source": [
    "greet_with_name_and_return"
   ]
  },
  {
   "cell_type": "code",
   "execution_count": null,
   "id": "d70e36d0",
   "metadata": {
    "slideshow": {
     "slide_type": "fragment"
    }
   },
   "outputs": [],
   "source": [
    "greet_with_name_and_return.__name__"
   ]
  },
  {
   "cell_type": "code",
   "execution_count": null,
   "id": "3e40d704",
   "metadata": {
    "slideshow": {
     "slide_type": "fragment"
    }
   },
   "outputs": [],
   "source": [
    "help(greet_with_name_and_return)"
   ]
  },
  {
   "cell_type": "markdown",
   "id": "9dc3fa01",
   "metadata": {
    "slideshow": {
     "slide_type": "slide"
    }
   },
   "source": [
    "### @functools.wraps\n",
    "\n",
    "This decorator allows us to keep the original information of the decorated function."
   ]
  },
  {
   "cell_type": "code",
   "execution_count": null,
   "id": "8db222c1",
   "metadata": {
    "slideshow": {
     "slide_type": "fragment"
    }
   },
   "outputs": [],
   "source": [
    "import functools\n",
    "\n",
    "def do_twice(func):\n",
    "    @functools.wraps(func)\n",
    "    def wrapper(*args, **kwargs):\n",
    "        func(*args, **kwargs)\n",
    "        return func(*args, **kwargs)\n",
    "    return wrapper"
   ]
  },
  {
   "cell_type": "code",
   "execution_count": null,
   "id": "0b18e920",
   "metadata": {
    "slideshow": {
     "slide_type": "fragment"
    }
   },
   "outputs": [],
   "source": [
    "@do_twice\n",
    "def greet_with_name_and_return(name):\n",
    "    greeting = f\"Hello, {name}!\"\n",
    "    print(greeting)\n",
    "    return greeting"
   ]
  },
  {
   "cell_type": "code",
   "execution_count": null,
   "id": "5cec6169",
   "metadata": {
    "slideshow": {
     "slide_type": "fragment"
    }
   },
   "outputs": [],
   "source": [
    "greet_with_name_and_return"
   ]
  },
  {
   "cell_type": "code",
   "execution_count": null,
   "id": "0cdbd85b",
   "metadata": {
    "slideshow": {
     "slide_type": "fragment"
    }
   },
   "outputs": [],
   "source": [
    "greet_with_name_and_return.__name__"
   ]
  },
  {
   "cell_type": "code",
   "execution_count": null,
   "id": "d266d9e1",
   "metadata": {
    "slideshow": {
     "slide_type": "fragment"
    }
   },
   "outputs": [],
   "source": [
    "help(greet_with_name_and_return)"
   ]
  },
  {
   "cell_type": "markdown",
   "id": "74907962",
   "metadata": {
    "slideshow": {
     "slide_type": "slide"
    }
   },
   "source": [
    "## Timing decorator"
   ]
  },
  {
   "cell_type": "code",
   "execution_count": null,
   "id": "38cf767d",
   "metadata": {
    "slideshow": {
     "slide_type": "fragment"
    }
   },
   "outputs": [],
   "source": [
    "import functools\n",
    "import time\n",
    "\n",
    "def timer(func):\n",
    "    @functools.wraps(func)\n",
    "    def wrapper(*args, **kwargs):\n",
    "        start_time = time.perf_counter()\n",
    "        value = func(*args, **kwargs)\n",
    "        end_time = time.perf_counter()\n",
    "        run_time = end_time - start_time\n",
    "        print(f\"Finished {func.__name__!r} in {run_time:.3f} seconds\")\n",
    "        return value\n",
    "    return wrapper"
   ]
  },
  {
   "cell_type": "code",
   "execution_count": null,
   "id": "2f97b74c",
   "metadata": {
    "slideshow": {
     "slide_type": "fragment"
    }
   },
   "outputs": [],
   "source": [
    "@timer\n",
    "def sum_of_squares(n):\n",
    "    return sum([i**2 for i in range(10 ** n)])"
   ]
  },
  {
   "cell_type": "code",
   "execution_count": null,
   "id": "4a4a7805",
   "metadata": {
    "slideshow": {
     "slide_type": "fragment"
    }
   },
   "outputs": [],
   "source": [
    "sum_of_squares(6)"
   ]
  },
  {
   "cell_type": "markdown",
   "id": "a5eaf90d",
   "metadata": {
    "slideshow": {
     "slide_type": "slide"
    }
   },
   "source": [
    "## Nested decorators\n",
    "\n",
    "Decorators can be stacked on top of each other."
   ]
  },
  {
   "cell_type": "code",
   "execution_count": null,
   "id": "d0f52177",
   "metadata": {
    "slideshow": {
     "slide_type": "fragment"
    }
   },
   "outputs": [],
   "source": [
    "import functools\n",
    "\n",
    "def debug(func):\n",
    "    @functools.wraps(func)\n",
    "    def wrapper(*args, **kwargs):\n",
    "        print(f\"Before calling {func.__name__!r}\")\n",
    "        value = func(*args, **kwargs)\n",
    "        print(f\"After calling {func.__name__!r}\")\n",
    "        return value\n",
    "    return wrapper\n",
    "\n",
    "\n",
    "def do_twice(func):\n",
    "    @functools.wraps(func)\n",
    "    def wrapper(*args, **kwargs):\n",
    "        func(*args, **kwargs)\n",
    "        return func(*args, **kwargs)\n",
    "    return wrapper"
   ]
  },
  {
   "cell_type": "code",
   "execution_count": null,
   "id": "3149611d",
   "metadata": {
    "slideshow": {
     "slide_type": "slide"
    }
   },
   "outputs": [],
   "source": [
    "@debug\n",
    "@do_twice\n",
    "def greet_with_name(name):\n",
    "    print(f\"Hello, {name}!\")\n",
    "    \n",
    "greet_with_name(\"John Doe\")"
   ]
  },
  {
   "cell_type": "markdown",
   "id": "35c33fa6",
   "metadata": {
    "slideshow": {
     "slide_type": "fragment"
    }
   },
   "source": [
    "This is equivalent to the following."
   ]
  },
  {
   "cell_type": "code",
   "execution_count": null,
   "id": "aa240349",
   "metadata": {
    "slideshow": {
     "slide_type": "fragment"
    }
   },
   "outputs": [],
   "source": [
    "def greet_with_name(name):\n",
    "    print(f\"Hello, {name}!\")\n",
    "\n",
    "greet_with_name = debug(do_twice(greet_with_name))\n",
    "\n",
    "greet_with_name(\"John Doe\")"
   ]
  },
  {
   "cell_type": "code",
   "execution_count": null,
   "id": "ef880b6e",
   "metadata": {
    "slideshow": {
     "slide_type": "slide"
    }
   },
   "outputs": [],
   "source": [
    "@do_twice\n",
    "@debug\n",
    "def greet_with_name(name):\n",
    "    print(f\"Hello, {name}!\")\n",
    "    \n",
    "greet_with_name(\"John Doe\")"
   ]
  },
  {
   "cell_type": "markdown",
   "id": "3cabb3a2",
   "metadata": {
    "slideshow": {
     "slide_type": "fragment"
    }
   },
   "source": [
    "This is equivalent to the following."
   ]
  },
  {
   "cell_type": "code",
   "execution_count": null,
   "id": "244a9dfe",
   "metadata": {
    "slideshow": {
     "slide_type": "fragment"
    }
   },
   "outputs": [],
   "source": [
    "def greet_with_name(name):\n",
    "    print(f\"Hello, {name}!\")\n",
    "\n",
    "greet_with_name = do_twice(debug(greet_with_name))\n",
    "\n",
    "greet_with_name(\"John Doe\")"
   ]
  },
  {
   "cell_type": "markdown",
   "id": "7bcdfb83",
   "metadata": {
    "slideshow": {
     "slide_type": "slide"
    }
   },
   "source": [
    "## Decorators that accept arguments"
   ]
  },
  {
   "cell_type": "code",
   "execution_count": null,
   "id": "970e934e",
   "metadata": {
    "slideshow": {
     "slide_type": "fragment"
    }
   },
   "outputs": [],
   "source": [
    "import functools\n",
    "\n",
    "\n",
    "def repeat(num_times):\n",
    "    def decorator(func):\n",
    "        @functools.wraps(func)\n",
    "        def wrapper(*args, **kwargs):\n",
    "            for _ in range(num_times):\n",
    "                value = func(*args, **kwargs)\n",
    "            return value\n",
    "        return wrapper\n",
    "    return decorator"
   ]
  },
  {
   "cell_type": "code",
   "execution_count": null,
   "id": "428524bb",
   "metadata": {
    "slideshow": {
     "slide_type": "fragment"
    }
   },
   "outputs": [],
   "source": [
    "@repeat(5)\n",
    "def greet_with_name(name):\n",
    "    print(f\"Hello, {name}!\")"
   ]
  },
  {
   "cell_type": "code",
   "execution_count": null,
   "id": "55dd7251",
   "metadata": {
    "slideshow": {
     "slide_type": "fragment"
    }
   },
   "outputs": [],
   "source": [
    "greet_with_name(\"John Doe\")"
   ]
  },
  {
   "cell_type": "code",
   "execution_count": null,
   "id": "a74e80b4",
   "metadata": {},
   "outputs": [],
   "source": []
  }
 ],
 "metadata": {
  "celltoolbar": "Slideshow",
  "kernelspec": {
   "display_name": "Python 3 (ipykernel)",
   "language": "python",
   "name": "python3"
  },
  "language_info": {
   "codemirror_mode": {
    "name": "ipython",
    "version": 3
   },
   "file_extension": ".py",
   "mimetype": "text/x-python",
   "name": "python",
   "nbconvert_exporter": "python",
   "pygments_lexer": "ipython3",
   "version": "3.8.10"
  }
 },
 "nbformat": 4,
 "nbformat_minor": 5
}
