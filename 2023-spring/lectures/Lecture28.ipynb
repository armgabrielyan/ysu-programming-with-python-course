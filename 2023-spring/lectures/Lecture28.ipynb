{
 "cells": [
  {
   "cell_type": "markdown",
   "id": "74750d32",
   "metadata": {
    "id": "74750d32",
    "slideshow": {
     "slide_type": "slide"
    }
   },
   "source": [
    "# Programming with Python\n",
    "\n",
    "## Lecture 28: File I/O\n",
    "\n",
    "### Armen Gabrielyan\n",
    "\n",
    "#### Yerevan State University\n",
    "#### Portmind"
   ]
  },
  {
   "cell_type": "markdown",
   "id": "8f624138",
   "metadata": {
    "slideshow": {
     "slide_type": "slide"
    }
   },
   "source": [
    "# File\n",
    "\n",
    "Fundamentally, a **file** comprises a continuous sequence of bytes utilized for data storage. The data within the file is structured according to a particular format and can range from basic text files to program executables.\n",
    "\n",
    "Generally, a file consists of three essential parts:\n",
    "\n",
    "1. **Header**: metadata about a file (file name, type, size, etc.).\n",
    "2. **Data**: contents of a file.\n",
    "3. **EOF**: special character that denots the end of a file."
   ]
  },
  {
   "cell_type": "markdown",
   "id": "a740b2c8",
   "metadata": {
    "slideshow": {
     "slide_type": "slide"
    }
   },
   "source": [
    "# File path\n",
    "\n",
    "A **file path** is a string that represents the location of a file or directory within a file system. It is used to uniquely identify the location of a file or directory in a hierarchical structure.\n",
    "\n",
    "A file path typically consists of a series of directory names separated by a delimiter, such as a forward slash (/) or a backslash (\\), depending on the operating system. For example:\n",
    "\n",
    "On Unix-like systems (e.g., Linux, macOS):\n",
    "```\n",
    "/home/user/Documents/file.txt\n",
    "```\n",
    "\n",
    "On Windows systems:\n",
    "```\n",
    "C:\\Users\\user\\Documents\\file.txt\n",
    "```"
   ]
  },
  {
   "cell_type": "markdown",
   "id": "261121f7",
   "metadata": {},
   "source": [
    "# Line endings\n",
    "\n",
    "**Line endings**, also known as line breaks or newline characters, are special characters used to indicate the end of a line of text in a text file. They determine how lines of text are separated and displayed when viewed or processed.\n",
    "\n",
    "Different operating systems and text editors historically used different conventions for line endings, resulting in incompatibilities when exchanging files between systems. The three main types of line endings are:\n",
    "\n",
    "1. Carriage Return (CR): denoted as `\\r`. This character indicates a line ending commonly used in older Macintosh systems.\n",
    "\n",
    "2. Line Feed (LF): denoted as `\\n`. This character represents a line ending used by Unix-like systems (e.g., Linux, macOS, and most modern systems).\n",
    "\n",
    "3. Carriage Return followed by Line Feed (CRLF): denoted as `\\r\\n`. This sequence of characters represents a line ending convention used by Windows systems.\n",
    "\n",
    "Text files can use any of these line ending conventions, but it's important to note that different systems expect different line endings. This can lead to issues when transferring or processing text files across platforms.\n",
    "\n",
    "Modern text editors and operating systems often handle line endings automatically and can recognize and interpret different line ending conventions. However, it's still important to be aware of line endings when working with files, especially when dealing with cross-platform compatibility or when processing files in programming languages.\n",
    "\n",
    "Some text editors and programming tools provide options to convert line endings between different conventions or automatically detect and handle them. When writing or modifying files, it's generally recommended to use the line ending convention appropriate for the target system or to choose a convention that ensures compatibility across multiple platforms."
   ]
  },
  {
   "cell_type": "markdown",
   "id": "16e93f7b",
   "metadata": {
    "slideshow": {
     "slide_type": "slide"
    }
   },
   "source": [
    "# Character encodings\n",
    "\n",
    "**Character encoding** is a system that assigns numeric values (code points) to characters in order to represent and store them in digital form. It provides a standardized way to map characters from different writing systems and languages to binary data that can be understood and processed by computers.\n",
    "\n",
    "In a character encoding scheme, each character is assigned a unique code point, which is typically represented as a numeric value. The most commonly used character encoding schemes include:\n",
    "\n",
    "1. **ASCII (American Standard Code for Information Interchange):** ASCII is a widely used encoding scheme that represents basic Latin characters (English letters, digits, punctuation marks, and control characters) using 7 bits, providing a total of 128 possible characters.\n",
    "\n",
    "2. **Unicode**: Unicode is a universal character encoding standard that aims to cover all characters and scripts used in written languages worldwide. It assigns a unique code point to each character, allowing representation of a vast range of characters from different writing systems. Unicode can be implemented with different encoding schemes, such as UTF-8, UTF-16, and UTF-32, which vary in the number of bytes used to represent each code point.\n",
    "\n",
    "    - UTF-8 (8-bit Unicode Transformation Format): UTF-8 is a variable-length encoding scheme that uses 8 bits (1 to 4 bytes) to represent code points. It is backward compatible with ASCII, meaning that ASCII characters are represented using a single byte in UTF-8. It is possible to encode up to 1,114,112 characters in UTF-8. \n",
    "\n",
    "    - UTF-16 (16-bit Unicode Transformation Format): UTF-16 is a variable-length encoding scheme that uses 16 bits (2 bytes) or more to represent code points. It can represent the entire Unicode character set.\n",
    "\n",
    "    - UTF-32 (32-bit Unicode Transformation Format): UTF-32 is a fixed-length encoding scheme that uses 32 bits (4 bytes) to represent each code point. It provides a straightforward mapping between code points and their binary representation but consumes more space compared to UTF-8 and UTF-16.\n",
    "\n",
    "Character encodings are crucial for correctly interpreting and displaying text in different languages and writing systems. When exchanging or storing text data, it's important to ensure that the encoding used for reading and writing the data matches to prevent data corruption or incorrect interpretation of characters. Many programming languages and text editors support specifying or detecting the character encoding of files to handle them correctly."
   ]
  },
  {
   "cell_type": "markdown",
   "id": "b841a6d8",
   "metadata": {
    "slideshow": {
     "slide_type": "slide"
    }
   },
   "source": [
    "# File operations\n",
    "\n",
    "Usually, a file operation consists of the following three steps:\n",
    "\n",
    "1. Open a file\n",
    "2. Perform an operation\n",
    "3. Close the file"
   ]
  },
  {
   "cell_type": "markdown",
   "id": "f9550cdb",
   "metadata": {
    "slideshow": {
     "slide_type": "slide"
    }
   },
   "source": [
    "# Open a file\n",
    "\n",
    "Python's built-in `open()` function can be used to open a file, which returns a file object. If a problem occurs, an `OSError` is raised. \n",
    "\n",
    "The first two parameters are the most commonly used: the file path and the mode in which you want to open the file.\n",
    "\n",
    "The available modes are:\n",
    "\n",
    "- `'r'`: open for reading (default)\n",
    "- `'w'`: open for writing, truncating the file first\n",
    "- `'x'`: open for exclusive creation, failing if the file already exists\n",
    "- `'a'`: open for writing, appending to the end of file if it exists\n",
    "- `'b'`: binary mode\n",
    "- `'t'`: text mode (default)\n",
    "- `'+'`: open for updating (reading and writing)"
   ]
  },
  {
   "cell_type": "markdown",
   "id": "b2b4375c",
   "metadata": {
    "slideshow": {
     "slide_type": "slide"
    }
   },
   "source": [
    "# Close a file\n",
    "\n",
    "An opened file should always be closed and it is your duty as a programmer to ensure the file is closed. Otherwise, unexpected behaviors may happen.\n",
    "\n",
    "In Python, `.close()` method of the file object can be used to close a file."
   ]
  },
  {
   "cell_type": "code",
   "execution_count": null,
   "id": "fc82c273",
   "metadata": {
    "slideshow": {
     "slide_type": "fragment"
    }
   },
   "outputs": [],
   "source": [
    "fp = open(\"resources/lecture28/sample_input.txt\")\n",
    "\n",
    "print(fp.closed)\n",
    "\n",
    "fp.close()\n",
    "\n",
    "print(fp.closed)"
   ]
  },
  {
   "cell_type": "code",
   "execution_count": null,
   "id": "89fbf1ff",
   "metadata": {
    "slideshow": {
     "slide_type": "fragment"
    }
   },
   "outputs": [],
   "source": [
    "fp = open(\"resources/lecture28/sample_input.txt\", \"r\")\n",
    "\n",
    "print(fp.closed)\n",
    "\n",
    "fp.close()\n",
    "\n",
    "print(fp.closed)"
   ]
  },
  {
   "cell_type": "code",
   "execution_count": null,
   "id": "8f461fe1",
   "metadata": {
    "slideshow": {
     "slide_type": "fragment"
    }
   },
   "outputs": [],
   "source": [
    "fp = open(\"resources/lecture28/sample_input.txt\", \"rt\")\n",
    "\n",
    "print(fp.closed)\n",
    "\n",
    "fp.close()\n",
    "\n",
    "print(fp.closed)"
   ]
  },
  {
   "cell_type": "markdown",
   "id": "aa0d3395",
   "metadata": {
    "slideshow": {
     "slide_type": "slide"
    }
   },
   "source": [
    "# Ensure a file is closed with `try-finally` block\n",
    "\n",
    "By using `try-finally`, you guarantee that the file is closed, even if an exception is raised during the operations."
   ]
  },
  {
   "cell_type": "code",
   "execution_count": null,
   "id": "148bd678",
   "metadata": {
    "slideshow": {
     "slide_type": "fragment"
    }
   },
   "outputs": [],
   "source": [
    "file_path = \"resources/lecture28/sample_input.txt\"\n",
    "file_mode = \"r\"\n",
    "\n",
    "# Open the file\n",
    "fp = open(file_path, file_mode)\n",
    "\n",
    "try:\n",
    "    # Perform operations on the file\n",
    "    print(fp.closed)\n",
    "finally:\n",
    "    # Close the file in the 'finally' block\n",
    "    fp.close()\n",
    "    \n",
    "print(fp.closed)"
   ]
  },
  {
   "cell_type": "markdown",
   "id": "aed0e4f2",
   "metadata": {
    "slideshow": {
     "slide_type": "slide"
    }
   },
   "source": [
    "# Context management\n",
    "\n",
    "Context management in Python refers to the ability to manage resources within a specific context, ensuring that they are properly initialized and cleaned up. It allows you to define a block of code where certain actions are taken before and after its execution, guaranteeing that necessary operations are performed, regardless of whether an exception occurs or not. Context management is commonly used with objects that require setup and teardown operations, such as file handling, network connections, and database transactions.\n",
    "\n",
    "In Python, context management is typically achieved using the `with` statement and the context management protocol, which is implemented by the objects involved. The protocol requires two methods to be defined in an object: `__enter__()` and `__exit__()`. The `__enter__()` method sets up the necessary resources and returns an object, while the `__exit__()` method handles the cleanup actions."
   ]
  },
  {
   "cell_type": "markdown",
   "id": "684f3358",
   "metadata": {
    "slideshow": {
     "slide_type": "slide"
    }
   },
   "source": [
    "# `with` statement\n",
    "\n",
    "The `with` statement in Python provides a convenient way to manage resources, such as files or network connections, that need to be cleaned up or released after use. It ensures that certain operations are performed both before and after the block of code within the `with` statement. The general syntax of a `with` statement is as follows:\n",
    "\n",
    "```python\n",
    "with expression [as target]:\n",
    "    # code block\n",
    "```\n",
    "\n",
    "Here's how the `with` statement works:\n",
    "\n",
    "1. The expression following the `with` keyword is typically a function or an object that represents the resource being managed. It must define two special methods: `__enter__()` and `__exit__()`.\n",
    "2. The `__enter__()` method is called when the block of code within the `with` statement is entered. It sets up the resource and returns an object that will be assigned to the optional `target` variable.\n",
    "3. The `target` is an optional variable that receives the result of the `__enter__()` method. It allows you to work with the resource within the block of code.\n",
    "4. The indented code block following the `with` statement represents the actions to be performed using the resource.\n",
    "5. After the block of code is executed or if an exception occurs, the `__exit__()` method of the resource object is called. It is responsible for cleaning up the resource or handling any exceptions that occurred within the `with` block.\n",
    "\n",
    "Reference: [PEP 343 – The “with” Statement](https://peps.python.org/pep-0343/)"
   ]
  },
  {
   "cell_type": "markdown",
   "id": "9c3f6951",
   "metadata": {
    "slideshow": {
     "slide_type": "slide"
    }
   },
   "source": [
    "# Ensure a file is closed via `with` statement\n",
    "\n",
    "It is a good practice to use `with` statement when working with files. It guarantees that the file is closed, even if an exception is raised during the operations."
   ]
  },
  {
   "cell_type": "code",
   "execution_count": null,
   "id": "1a08599c",
   "metadata": {
    "slideshow": {
     "slide_type": "fragment"
    }
   },
   "outputs": [],
   "source": [
    "file_path = \"resources/lecture28/sample_input.txt\"\n",
    "file_mode = \"r\"\n",
    "\n",
    "# Open the file\n",
    "with open(file_path, file_mode) as fp:\n",
    "    # Perform operations on the file\n",
    "    print(fp.closed)\n",
    "    \n",
    "print(fp.closed)"
   ]
  },
  {
   "cell_type": "markdown",
   "id": "0c1fa684",
   "metadata": {
    "slideshow": {
     "slide_type": "slide"
    }
   },
   "source": [
    "# Read a file\n",
    "\n",
    "There are several methods you can use to read a file in Python. Here are some common approaches:\n",
    "\n",
    "- `.read(size=-1)` method\n",
    "- `.readline(size=-1)` method\n",
    "- `.readlines(hint=-1)` method\n",
    "- Iteration"
   ]
  },
  {
   "cell_type": "markdown",
   "id": "71b021bc",
   "metadata": {
    "slideshow": {
     "slide_type": "slide"
    }
   },
   "source": [
    "# `.read(size=-1)` method\n",
    "\n",
    "This method retrieves data from the file by specifying the number of bytes to be read (`size` parameter). If no argument is provided or if the argument is either `None` or `-1`, the entire file is read."
   ]
  },
  {
   "cell_type": "code",
   "execution_count": null,
   "id": "aae93719",
   "metadata": {
    "slideshow": {
     "slide_type": "fragment"
    }
   },
   "outputs": [],
   "source": [
    "# Reading the entire file\n",
    "with open(\"resources/lecture28/sample_input.txt\", \"r\") as fp:\n",
    "    content = fp.read()\n",
    "    print(content)"
   ]
  },
  {
   "cell_type": "code",
   "execution_count": null,
   "id": "32d288de",
   "metadata": {
    "slideshow": {
     "slide_type": "fragment"
    }
   },
   "outputs": [],
   "source": [
    "# Reading the first 10 bytes\n",
    "with open(\"resources/lecture28/sample_input.txt\", \"r\") as fp:\n",
    "    content = fp.read(10)\n",
    "    print(content)"
   ]
  },
  {
   "cell_type": "markdown",
   "id": "ee11124f",
   "metadata": {
    "slideshow": {
     "slide_type": "slide"
    }
   },
   "source": [
    "# `.readline(size=-1)` method\n",
    "\n",
    "This method reads a maximum of `size` characters from the current line. It reads until the end of the line and then wraps around to the beginning if necessary. If no argument is provided or if the argument is `None` or `-1`, it reads the entire line or the remaining part of the line."
   ]
  },
  {
   "cell_type": "code",
   "execution_count": null,
   "id": "c9d2ab7d",
   "metadata": {
    "slideshow": {
     "slide_type": "fragment"
    }
   },
   "outputs": [],
   "source": [
    "# Reading the entire line\n",
    "with open(\"resources/lecture28/sample_input.txt\", \"r\") as fp:\n",
    "    first_line = fp.readline()\n",
    "    print(first_line)"
   ]
  },
  {
   "cell_type": "code",
   "execution_count": null,
   "id": "ba77e176",
   "metadata": {
    "slideshow": {
     "slide_type": "fragment"
    }
   },
   "outputs": [],
   "source": [
    "# Reading the first 10 bytes of a line\n",
    "with open(\"resources/lecture28/sample_input.txt\", \"r\") as fp:\n",
    "    first_line = fp.readline(10)\n",
    "    print(first_line)"
   ]
  },
  {
   "cell_type": "code",
   "execution_count": null,
   "id": "cfa0698c",
   "metadata": {
    "slideshow": {
     "slide_type": "fragment"
    }
   },
   "outputs": [],
   "source": [
    "# Reading multiple lines\n",
    "with open(\"resources/lecture28/sample_input.txt\", \"r\") as fp:\n",
    "    print(fp.readline())\n",
    "    print(fp.readline())\n",
    "    print(fp.readline(5))\n",
    "    print(fp.readline(12))\n",
    "    print(fp.readline())"
   ]
  },
  {
   "cell_type": "markdown",
   "id": "92f3bb96",
   "metadata": {
    "slideshow": {
     "slide_type": "slide"
    }
   },
   "source": [
    "# `.readlines(hint=-1)` method\n",
    "\n",
    "This method reads and retrieves a list of lines from the stream. You can provide a `hint` value to control the number of lines to be read. If the total size of all lines read so far exceeds the `hint` value (in bytes or characters), no more lines will be read."
   ]
  },
  {
   "cell_type": "code",
   "execution_count": null,
   "id": "f3ee02bc",
   "metadata": {
    "slideshow": {
     "slide_type": "fragment"
    }
   },
   "outputs": [],
   "source": [
    "with open(\"resources/lecture28/sample_input.txt\", \"r\") as fp:\n",
    "    lines = fp.readlines()\n",
    "    print(lines)"
   ]
  },
  {
   "cell_type": "markdown",
   "id": "6d6d0f20",
   "metadata": {
    "slideshow": {
     "slide_type": "slide"
    }
   },
   "source": [
    "# Iterate over a file via `.readline()` method\n",
    "\n",
    "We can iterate over the lines of a file by using `.readline()` method and assuming that the end of file (EOF) character is the empty string, i.e. `\"\"`."
   ]
  },
  {
   "cell_type": "code",
   "execution_count": null,
   "id": "bd135970",
   "metadata": {
    "slideshow": {
     "slide_type": "fragment"
    }
   },
   "outputs": [],
   "source": [
    "with open(\"resources/lecture28/sample_input.txt\", \"r\") as fp:\n",
    "    line = fp.readline()\n",
    "    while line != \"\":\n",
    "        print(line)\n",
    "        line = fp.readline()"
   ]
  },
  {
   "cell_type": "markdown",
   "id": "eb6d1ba7",
   "metadata": {
    "slideshow": {
     "slide_type": "subslide"
    }
   },
   "source": [
    "This can be simplified by using `iter()` function to create an iterator object from the `.readline()` method."
   ]
  },
  {
   "cell_type": "code",
   "execution_count": null,
   "id": "8aa17883",
   "metadata": {
    "slideshow": {
     "slide_type": "fragment"
    }
   },
   "outputs": [],
   "source": [
    "with open(\"resources/lecture28/sample_input.txt\", \"r\") as fp:\n",
    "    for line in iter(fp.readline, \"\"):\n",
    "        print(line)"
   ]
  },
  {
   "cell_type": "markdown",
   "id": "0b945bd2",
   "metadata": {
    "slideshow": {
     "slide_type": "slide"
    }
   },
   "source": [
    "# Iterate over a file via `.readlines()` method"
   ]
  },
  {
   "cell_type": "code",
   "execution_count": null,
   "id": "cb5d205b",
   "metadata": {
    "slideshow": {
     "slide_type": "fragment"
    }
   },
   "outputs": [],
   "source": [
    "with open(\"resources/lecture28/sample_input.txt\", \"r\") as fp:\n",
    "    lines = fp.readlines()\n",
    "\n",
    "for line in lines:\n",
    "    print(line)"
   ]
  },
  {
   "cell_type": "markdown",
   "id": "8d2f3dbb",
   "metadata": {
    "slideshow": {
     "slide_type": "slide"
    }
   },
   "source": [
    "# Iterate over a file object\n",
    "\n",
    "File object is an iterable and we can iterate over the file object itself."
   ]
  },
  {
   "cell_type": "code",
   "execution_count": null,
   "id": "c18a9670",
   "metadata": {
    "slideshow": {
     "slide_type": "fragment"
    }
   },
   "outputs": [],
   "source": [
    "with open(\"resources/lecture28/sample_input.txt\", \"r\") as fp:\n",
    "    for line in fp:\n",
    "        print(line)"
   ]
  }
 ],
 "metadata": {
  "celltoolbar": "Slideshow",
  "colab": {
   "provenance": []
  },
  "kernelspec": {
   "display_name": "Python 3 (ipykernel)",
   "language": "python",
   "name": "python3"
  },
  "language_info": {
   "codemirror_mode": {
    "name": "ipython",
    "version": 3
   },
   "file_extension": ".py",
   "mimetype": "text/x-python",
   "name": "python",
   "nbconvert_exporter": "python",
   "pygments_lexer": "ipython3",
   "version": "3.8.10"
  }
 },
 "nbformat": 4,
 "nbformat_minor": 5
}
