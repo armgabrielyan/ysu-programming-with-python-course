{
 "cells": [
  {
   "cell_type": "markdown",
   "id": "74750d32",
   "metadata": {
    "slideshow": {
     "slide_type": "slide"
    }
   },
   "source": [
    "# Programming with Python\n",
    "\n",
    "## Lecture 17: Generators\n",
    "\n",
    "### Armen Gabrielyan\n",
    "\n",
    "#### Yerevan State University\n",
    "#### Portmind"
   ]
  },
  {
   "cell_type": "markdown",
   "id": "ae69643b",
   "metadata": {
    "slideshow": {
     "slide_type": "slide"
    }
   },
   "source": [
    "## Problem set 2\n",
    "\n",
    "1. ~~Write a Python function to get symmetric tuples from a list of tuples. Each tuple consists of two elements, i.e. they are in the form of $(x, y)$. A tuple $(x, y)$ is symmetric if there is another (y, x) tuple in the list.~~\n",
    "2. ~~Write a Python function that assigns the frequency to each tuple in a given list as a last tuple element.~~\n",
    "3. ~~Write a Python function to convert a binary tuple to an integer.~~\n",
    "4. Write a Python function to generate a list of tuples for a standard card deck.\n",
    "5. Write a Python function to find the union and intersection of two tuples (with/without preserving the order)."
   ]
  },
  {
   "cell_type": "markdown",
   "id": "a76810d7",
   "metadata": {
    "slideshow": {
     "slide_type": "slide"
    }
   },
   "source": [
    "### Problem 4"
   ]
  },
  {
   "cell_type": "code",
   "execution_count": null,
   "id": "eb0e1bdf",
   "metadata": {
    "slideshow": {
     "slide_type": "fragment"
    }
   },
   "outputs": [],
   "source": [
    "def generate_deck():\n",
    "    suits = [\"hearts\", \"diamonds\", \"spades\", \"clubs\"]\n",
    "    cards = [str(i) for i in range(2, 11)] + [\"J\", \"Q\", \"K\", \"A\"]\n",
    "    deck = [(suit, card) for suit in suits for card in cards]\n",
    "    return deck\n",
    "\n",
    "generate_deck()"
   ]
  },
  {
   "cell_type": "markdown",
   "id": "abb630a3",
   "metadata": {
    "slideshow": {
     "slide_type": "slide"
    }
   },
   "source": [
    "### Problem 5"
   ]
  },
  {
   "cell_type": "code",
   "execution_count": null,
   "id": "bfb5b682",
   "metadata": {
    "slideshow": {
     "slide_type": "fragment"
    }
   },
   "outputs": [],
   "source": [
    "# Without preserving the order\n",
    "def tuple_intersection(tuple1, tuple2):\n",
    "    return tuple(set(tuple1) & set(tuple2))\n",
    "\n",
    "def tuple_union(tuple1, tuple2):\n",
    "    return tuple(set(tuple1) | set(tuple2))\n",
    "\n",
    "tuple1 = (1, 5, 7, 12)\n",
    "tuple2 = (2, 7, 8, 12)\n",
    "\n",
    "print(tuple_intersection(tuple1, tuple2))\n",
    "print(tuple_union(tuple1, tuple2))"
   ]
  },
  {
   "cell_type": "code",
   "execution_count": null,
   "id": "500bcdda",
   "metadata": {
    "slideshow": {
     "slide_type": "subslide"
    }
   },
   "outputs": [],
   "source": [
    "# With preserving the order\n",
    "def tuple_intersection(tuple1, tuple2):\n",
    "    intersection = set(tuple1) & set(tuple2)\n",
    "    result = [el for el in tuple1 if el in intersection]\n",
    "    return tuple(result)\n",
    "\n",
    "def tuple_union(tuple1, tuple2):\n",
    "    result = []\n",
    "    for el in tuple1 + tuple2:\n",
    "        if el not in result:\n",
    "            result.append(el)\n",
    "    return tuple(result)\n",
    "\n",
    "tuple1 = (1, 5, 7, 12)\n",
    "tuple2 = (2, 7, 8, 12)\n",
    "\n",
    "print(tuple_intersection(tuple1, tuple2))\n",
    "print(tuple_union(tuple1, tuple2))"
   ]
  },
  {
   "cell_type": "markdown",
   "id": "9eb2af21",
   "metadata": {
    "slideshow": {
     "slide_type": "slide"
    }
   },
   "source": [
    "# Iterables and iterators\n",
    "\n",
    "**Iterables** are any object that can be passed to the `iter` built-in function, which can obtain an **iterator** from an iterable. In other words, Python obtains iterators from iterables.\n",
    "\n",
    "Sequences are iterables, for example."
   ]
  },
  {
   "cell_type": "code",
   "execution_count": null,
   "id": "8a604a20",
   "metadata": {
    "slideshow": {
     "slide_type": "fragment"
    }
   },
   "outputs": [],
   "source": [
    "iter(\"hello world\")"
   ]
  },
  {
   "cell_type": "code",
   "execution_count": null,
   "id": "224fb7ba",
   "metadata": {
    "slideshow": {
     "slide_type": "fragment"
    }
   },
   "outputs": [],
   "source": [
    "iter([1, 2, 3])"
   ]
  },
  {
   "cell_type": "code",
   "execution_count": null,
   "id": "1927422d",
   "metadata": {
    "slideshow": {
     "slide_type": "fragment"
    }
   },
   "outputs": [],
   "source": [
    "iter((1, 2, 3))"
   ]
  },
  {
   "cell_type": "code",
   "execution_count": null,
   "id": "efad5ea7",
   "metadata": {
    "slideshow": {
     "slide_type": "fragment"
    }
   },
   "outputs": [],
   "source": [
    "iter({1, 2, 3})"
   ]
  },
  {
   "cell_type": "code",
   "execution_count": null,
   "id": "640d9370",
   "metadata": {
    "slideshow": {
     "slide_type": "fragment"
    }
   },
   "outputs": [],
   "source": [
    "iter({\"name\": \"John Doe\", \"age\": 42})"
   ]
  },
  {
   "cell_type": "code",
   "execution_count": null,
   "id": "590a2dad",
   "metadata": {
    "slideshow": {
     "slide_type": "slide"
    }
   },
   "outputs": [],
   "source": [
    "iter(42)"
   ]
  },
  {
   "cell_type": "code",
   "execution_count": null,
   "id": "773d93bb",
   "metadata": {
    "slideshow": {
     "slide_type": "fragment"
    }
   },
   "outputs": [],
   "source": [
    "iter(1 + 2j)"
   ]
  },
  {
   "cell_type": "markdown",
   "id": "84841b85",
   "metadata": {
    "slideshow": {
     "slide_type": "slide"
    }
   },
   "source": [
    "# Iterators\n",
    "\n",
    "Iterators are obtained from iterables. Iterators are objects that produce successive values from its related iterable.\n",
    "\n",
    "`next()` built-in function can be used to retrieve the item from the iterator."
   ]
  },
  {
   "cell_type": "code",
   "execution_count": null,
   "id": "8021dff3",
   "metadata": {
    "slideshow": {
     "slide_type": "fragment"
    }
   },
   "outputs": [],
   "source": [
    "sequence = [42, \"John Doe\", False]\n",
    "it = iter(sequence)\n",
    "it"
   ]
  },
  {
   "cell_type": "code",
   "execution_count": null,
   "id": "09ca9c3b",
   "metadata": {
    "slideshow": {
     "slide_type": "fragment"
    }
   },
   "outputs": [],
   "source": [
    "next(it)"
   ]
  },
  {
   "cell_type": "code",
   "execution_count": null,
   "id": "d68c3cfb",
   "metadata": {
    "slideshow": {
     "slide_type": "fragment"
    }
   },
   "outputs": [],
   "source": [
    "next(it)"
   ]
  },
  {
   "cell_type": "code",
   "execution_count": null,
   "id": "1fcfb887",
   "metadata": {
    "slideshow": {
     "slide_type": "fragment"
    }
   },
   "outputs": [],
   "source": [
    "next(it)"
   ]
  },
  {
   "cell_type": "code",
   "execution_count": null,
   "id": "cfa38749",
   "metadata": {
    "slideshow": {
     "slide_type": "subslide"
    }
   },
   "outputs": [],
   "source": [
    "next(it)"
   ]
  },
  {
   "cell_type": "code",
   "execution_count": null,
   "id": "d4eea8eb",
   "metadata": {
    "slideshow": {
     "slide_type": "fragment"
    }
   },
   "outputs": [],
   "source": [
    "next(it, \"some default value\")"
   ]
  },
  {
   "cell_type": "code",
   "execution_count": null,
   "id": "13a75056",
   "metadata": {
    "slideshow": {
     "slide_type": "slide"
    }
   },
   "outputs": [],
   "source": [
    "def my_for(iterable, func):\n",
    "    it = iter(iterable)\n",
    "    while True:\n",
    "        item = next(it, None)\n",
    "        if item is None:\n",
    "            break\n",
    "        func(item)"
   ]
  },
  {
   "cell_type": "code",
   "execution_count": null,
   "id": "681ed562",
   "metadata": {
    "slideshow": {
     "slide_type": "fragment"
    }
   },
   "outputs": [],
   "source": [
    "my_for([10, 20, 30], print)"
   ]
  },
  {
   "cell_type": "markdown",
   "id": "a88abdf5",
   "metadata": {
    "slideshow": {
     "slide_type": "slide"
    }
   },
   "source": [
    "# Generators\n",
    "\n",
    "**Generator functions** are special functions that return lazy iterators. Lazy evaluation is a technique which delays the evaluation of an expression until its value is needed.\n",
    "\n",
    "Generator functions use `yield` keyword to return results one at a time, suspending and resuming their state between each.\n",
    "\n",
    "Generator functions are factories for generator objects.\n",
    "\n",
    "Reference: [PEP 255 – Simple Generators](https://peps.python.org/pep-0255/)"
   ]
  },
  {
   "cell_type": "markdown",
   "id": "149cc6d4",
   "metadata": {},
   "source": [
    "### Example 1"
   ]
  },
  {
   "cell_type": "code",
   "execution_count": null,
   "id": "f4b95103",
   "metadata": {
    "slideshow": {
     "slide_type": "slide"
    }
   },
   "outputs": [],
   "source": [
    "def gen_123():\n",
    "    print(\"start\")\n",
    "    yield 1\n",
    "    print(\"continue after 1\")\n",
    "    yield 2\n",
    "    print(\"continue after 2\")\n",
    "    yield 3\n",
    "    print(\"end\")\n",
    "    \n",
    "gen_123"
   ]
  },
  {
   "cell_type": "code",
   "execution_count": null,
   "id": "15333816",
   "metadata": {
    "slideshow": {
     "slide_type": "fragment"
    }
   },
   "outputs": [],
   "source": [
    "generator = gen_123()\n",
    "generator"
   ]
  },
  {
   "cell_type": "code",
   "execution_count": null,
   "id": "72ee4ee8",
   "metadata": {
    "slideshow": {
     "slide_type": "slide"
    }
   },
   "outputs": [],
   "source": [
    "next(generator)"
   ]
  },
  {
   "cell_type": "code",
   "execution_count": null,
   "id": "46044d62",
   "metadata": {
    "slideshow": {
     "slide_type": "fragment"
    }
   },
   "outputs": [],
   "source": [
    "next(generator)"
   ]
  },
  {
   "cell_type": "code",
   "execution_count": null,
   "id": "ea39e84f",
   "metadata": {
    "slideshow": {
     "slide_type": "fragment"
    }
   },
   "outputs": [],
   "source": [
    "next(generator)"
   ]
  },
  {
   "cell_type": "code",
   "execution_count": null,
   "id": "615e2393",
   "metadata": {
    "slideshow": {
     "slide_type": "fragment"
    }
   },
   "outputs": [],
   "source": [
    "next(generator)"
   ]
  },
  {
   "cell_type": "code",
   "execution_count": null,
   "id": "3e3340e1",
   "metadata": {
    "slideshow": {
     "slide_type": "slide"
    }
   },
   "outputs": [],
   "source": [
    "for i in gen_123():\n",
    "    print(i)"
   ]
  },
  {
   "cell_type": "markdown",
   "id": "14ffa004",
   "metadata": {
    "slideshow": {
     "slide_type": "slide"
    }
   },
   "source": [
    "### Example 2\n",
    "\n",
    "Generating an infinite sequence."
   ]
  },
  {
   "cell_type": "code",
   "execution_count": null,
   "id": "a14f50da",
   "metadata": {
    "slideshow": {
     "slide_type": "fragment"
    }
   },
   "outputs": [],
   "source": [
    "def gen_infinite_sequence():\n",
    "    number = 0\n",
    "    while True:\n",
    "        yield number\n",
    "        number += 1"
   ]
  },
  {
   "cell_type": "code",
   "execution_count": null,
   "id": "4d070320",
   "metadata": {
    "slideshow": {
     "slide_type": "fragment"
    }
   },
   "outputs": [],
   "source": [
    "infinite_sequence = gen_infinite_sequence()\n",
    "print(next(infinite_sequence))\n",
    "print(next(infinite_sequence))\n",
    "print(next(infinite_sequence))\n",
    "print(next(infinite_sequence))\n",
    "print(next(infinite_sequence))"
   ]
  },
  {
   "cell_type": "markdown",
   "id": "c1e93f79",
   "metadata": {
    "slideshow": {
     "slide_type": "slide"
    }
   },
   "source": [
    "# Generator expressions\n",
    "\n",
    "Generator expressions allow us to create generator objects with list comprehension style.\n",
    "\n",
    "```python\n",
    "(<expression> for <item> in <iterable>)\n",
    "```"
   ]
  },
  {
   "cell_type": "code",
   "execution_count": null,
   "id": "4d1abf66",
   "metadata": {
    "slideshow": {
     "slide_type": "fragment"
    }
   },
   "outputs": [],
   "source": [
    "list_comp = [number for number in range(10 ** 8)]\n",
    "list_comp[:10]"
   ]
  },
  {
   "cell_type": "code",
   "execution_count": null,
   "id": "6a8c82ae",
   "metadata": {
    "slideshow": {
     "slide_type": "fragment"
    }
   },
   "outputs": [],
   "source": [
    "list_expr = (number for number in range(10 ** 8))\n",
    "list_expr"
   ]
  },
  {
   "cell_type": "code",
   "execution_count": null,
   "id": "15ff4283",
   "metadata": {
    "slideshow": {
     "slide_type": "fragment"
    }
   },
   "outputs": [],
   "source": [
    "print(next(list_expr))\n",
    "print(next(list_expr))\n",
    "print(next(list_expr))\n",
    "print(next(list_expr))\n",
    "print(next(list_expr))"
   ]
  },
  {
   "cell_type": "code",
   "execution_count": null,
   "id": "6058cf03",
   "metadata": {
    "slideshow": {
     "slide_type": "fragment"
    }
   },
   "outputs": [],
   "source": [
    "\"\".join(str(number) for number in range(10))"
   ]
  }
 ],
 "metadata": {
  "celltoolbar": "Slideshow",
  "kernelspec": {
   "display_name": "Python 3 (ipykernel)",
   "language": "python",
   "name": "python3"
  },
  "language_info": {
   "codemirror_mode": {
    "name": "ipython",
    "version": 3
   },
   "file_extension": ".py",
   "mimetype": "text/x-python",
   "name": "python",
   "nbconvert_exporter": "python",
   "pygments_lexer": "ipython3",
   "version": "3.8.10"
  }
 },
 "nbformat": 4,
 "nbformat_minor": 5
}
