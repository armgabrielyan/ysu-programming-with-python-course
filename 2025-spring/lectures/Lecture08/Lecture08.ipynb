{
 "cells": [
  {
   "cell_type": "markdown",
   "id": "70e592c3",
   "metadata": {},
   "source": [
    "# Programming with Python\n",
    "\n",
    "## Lecture 08: Class metaprogramming\n",
    "\n",
    "### Armen Gabrielyan\n",
    "\n",
    "#### Yerevan State University / ASDS\n",
    "\n",
    "#### 12 Apr, 2025"
   ]
  },
  {
   "cell_type": "markdown",
   "id": "364a5893",
   "metadata": {},
   "source": [
    "## Class metaprogramming\n",
    "\n",
    "This section is heavily influenced by the following:\n",
    "\n",
    "*References:*\n",
    "\n",
    "- Fluent Python, Luciano Ramalho\n",
    "\n",
    "### Classes are objects"
   ]
  },
  {
   "cell_type": "code",
   "execution_count": 146,
   "id": "56a0b0c7",
   "metadata": {},
   "outputs": [],
   "source": [
    "class A:\n",
    "    pass\n",
    "\n",
    "\n",
    "class B(A):\n",
    "    pass\n",
    "\n",
    "\n",
    "class C(B):\n",
    "    pass"
   ]
  },
  {
   "cell_type": "code",
   "execution_count": 147,
   "id": "f7526fe8",
   "metadata": {},
   "outputs": [
    {
     "data": {
      "text/plain": [
       "(__main__.A,)"
      ]
     },
     "execution_count": 147,
     "metadata": {},
     "output_type": "execute_result"
    }
   ],
   "source": [
    "B.__bases__"
   ]
  },
  {
   "cell_type": "code",
   "execution_count": 148,
   "id": "18043c51",
   "metadata": {},
   "outputs": [
    {
     "data": {
      "text/plain": [
       "[__main__.C]"
      ]
     },
     "execution_count": 148,
     "metadata": {},
     "output_type": "execute_result"
    }
   ],
   "source": [
    "B.__subclasses__()"
   ]
  },
  {
   "cell_type": "code",
   "execution_count": 149,
   "id": "b696e256",
   "metadata": {},
   "outputs": [
    {
     "data": {
      "text/plain": [
       "[__main__.B, __main__.A, object]"
      ]
     },
     "execution_count": 149,
     "metadata": {},
     "output_type": "execute_result"
    }
   ],
   "source": [
    "B.mro()"
   ]
  },
  {
   "cell_type": "markdown",
   "id": "8938a284",
   "metadata": {},
   "source": [
    "### `type()`\n",
    "\n",
    "The `type()` function in Python is used to determine the type of an object or dynamically create new classes."
   ]
  },
  {
   "cell_type": "code",
   "execution_count": 150,
   "id": "bc0321e5",
   "metadata": {},
   "outputs": [
    {
     "data": {
      "text/plain": [
       "int"
      ]
     },
     "execution_count": 150,
     "metadata": {},
     "output_type": "execute_result"
    }
   ],
   "source": [
    "type(42)"
   ]
  },
  {
   "cell_type": "code",
   "execution_count": 151,
   "id": "61ce8c4b",
   "metadata": {},
   "outputs": [
    {
     "name": "stdout",
     "output_type": "stream",
     "text": [
      "<class 'type'>\n",
      "<class 'type'>\n",
      "<class 'type'>\n",
      "<class 'type'>\n",
      "<class 'type'>\n"
     ]
    }
   ],
   "source": [
    "for t in int, str, list, set, tuple:\n",
    "    print(type(t))"
   ]
  },
  {
   "cell_type": "code",
   "execution_count": 152,
   "id": "d313a446",
   "metadata": {},
   "outputs": [
    {
     "data": {
      "text/plain": [
       "type"
      ]
     },
     "execution_count": 152,
     "metadata": {},
     "output_type": "execute_result"
    }
   ],
   "source": [
    "class A:\n",
    "    pass\n",
    "\n",
    "type(A)"
   ]
  },
  {
   "cell_type": "code",
   "execution_count": 153,
   "id": "b62db254",
   "metadata": {},
   "outputs": [
    {
     "data": {
      "text/plain": [
       "type"
      ]
     },
     "execution_count": 153,
     "metadata": {},
     "output_type": "execute_result"
    }
   ],
   "source": [
    "type(ValueError)"
   ]
  },
  {
   "cell_type": "code",
   "execution_count": 154,
   "id": "83d037a7",
   "metadata": {},
   "outputs": [
    {
     "data": {
      "text/plain": [
       "type"
      ]
     },
     "execution_count": 154,
     "metadata": {},
     "output_type": "execute_result"
    }
   ],
   "source": [
    "type(type)"
   ]
  },
  {
   "cell_type": "markdown",
   "id": "5dd11fa6",
   "metadata": {},
   "source": [
    "`type` is a **metaclass**, meaning it is a class that builds other classes.\n",
    "\n",
    "```\n",
    "type(name, bases, attributes)\n",
    "```\n",
    "\n",
    "- `name`: Name of the class.\n",
    "- `bases`: Tuple of base classes.\n",
    "- `attributes`: Dictionary of attributes and methods."
   ]
  },
  {
   "cell_type": "code",
   "execution_count": 155,
   "id": "deea14a7",
   "metadata": {},
   "outputs": [],
   "source": [
    "A = type(\"A\", (object,), {\"a\": 42, \"greet\": lambda self: \"Hello from A!\"})\n",
    "B = type(\"B\", (A,), {\"b\": 24, \"greet\": lambda self: \"Hello from B!\"})"
   ]
  },
  {
   "cell_type": "code",
   "execution_count": 158,
   "id": "aff17bb2",
   "metadata": {},
   "outputs": [],
   "source": [
    "from dis import dis"
   ]
  },
  {
   "cell_type": "code",
   "execution_count": 156,
   "id": "47dd4231",
   "metadata": {},
   "outputs": [
    {
     "data": {
      "text/plain": [
       "(42, 'Hello from A!')"
      ]
     },
     "execution_count": 156,
     "metadata": {},
     "output_type": "execute_result"
    }
   ],
   "source": [
    "a = A()\n",
    "a.a, a.greet()"
   ]
  },
  {
   "cell_type": "code",
   "execution_count": 160,
   "id": "f8b65672",
   "metadata": {},
   "outputs": [
    {
     "name": "stdout",
     "output_type": "stream",
     "text": [
      "Disassembly of greet:\n",
      "  1           0 RESUME                   0\n",
      "              2 RETURN_CONST             1 ('Hello from A!')\n",
      "\n"
     ]
    }
   ],
   "source": [
    "dis(A)"
   ]
  },
  {
   "cell_type": "code",
   "execution_count": 163,
   "id": "d5964f63",
   "metadata": {},
   "outputs": [],
   "source": [
    "class A:\n",
    "#     def __init__(self):\n",
    "#         self.a = 42\n",
    "        \n",
    "    def greet(self):\n",
    "        return \"Hello from A!\""
   ]
  },
  {
   "cell_type": "code",
   "execution_count": 164,
   "id": "05f37938",
   "metadata": {},
   "outputs": [
    {
     "name": "stdout",
     "output_type": "stream",
     "text": [
      "Disassembly of greet:\n",
      "  5           0 RESUME                   0\n",
      "\n",
      "  6           2 RETURN_CONST             1 ('Hello from A!')\n",
      "\n"
     ]
    }
   ],
   "source": [
    "dis(A)"
   ]
  },
  {
   "cell_type": "code",
   "execution_count": 157,
   "id": "9226a484",
   "metadata": {},
   "outputs": [
    {
     "data": {
      "text/plain": [
       "(24, 'Hello from B!')"
      ]
     },
     "execution_count": 157,
     "metadata": {},
     "output_type": "execute_result"
    }
   ],
   "source": [
    "b = B()\n",
    "b.b, b.greet()"
   ]
  },
  {
   "cell_type": "markdown",
   "id": "16ab4ba8",
   "metadata": {},
   "source": [
    "### Class factory function\n",
    "\n",
    "In the following example we define a `record_factory` function that acts like `@dataclass`"
   ]
  },
  {
   "cell_type": "code",
   "execution_count": 172,
   "id": "ceeb3304",
   "metadata": {},
   "outputs": [],
   "source": [
    "from typing import Union, Any\n",
    "from collections.abc import Iterable, Iterator\n",
    "\n",
    "\n",
    "FieldNames = str | Iterable[str]\n",
    "\n",
    "def parse_identifiers(names: FieldNames) -> tuple[str, ...]:\n",
    "    if isinstance(names, str):\n",
    "        names = names.replace(',', ' ').split()\n",
    "    if not all(s.isidentifier() for s in names):\n",
    "        raise ValueError('names must all be valid identifiers')\n",
    "    return tuple(names)\n",
    "\n",
    "\n",
    "def record_factory(cls_name: str, field_names: FieldNames) -> type[tuple]:\n",
    "    slots = parse_identifiers(field_names)\n",
    "\n",
    "    def __init__(self, *args, **kwargs) -> None:\n",
    "        attrs = dict(zip(self.__slots__, args))\n",
    "        attrs.update(kwargs)\n",
    "        for name, value in attrs.items():\n",
    "            setattr(self, name, value)\n",
    "\n",
    "    def __iter__(self) -> Iterator[Any]:\n",
    "        for name in self.__slots__:\n",
    "            yield getattr(self, name)\n",
    "\n",
    "    def __repr__(self):\n",
    "        values = \", \".join(f\"{name}={value!r}\"\n",
    "            for name, value in zip(self.__slots__, self))\n",
    "        cls_name = self.__class__.__name__\n",
    "        return f\"{cls_name}({values})\"\n",
    "\n",
    "    cls_attrs = dict(\n",
    "        __slots__=slots,\n",
    "        __init__=__init__,\n",
    "        __iter__=__iter__,\n",
    "        __repr__=__repr__,\n",
    "    )\n",
    "\n",
    "    return type(cls_name, (object,), cls_attrs)"
   ]
  },
  {
   "cell_type": "code",
   "execution_count": 171,
   "id": "9e344bbc",
   "metadata": {},
   "outputs": [
    {
     "name": "stdout",
     "output_type": "stream",
     "text": [
      "('name', 'age')\n"
     ]
    }
   ],
   "source": [
    "Person = record_factory(\"Person\", \"name age\")"
   ]
  },
  {
   "cell_type": "code",
   "execution_count": 168,
   "id": "dce1b689",
   "metadata": {},
   "outputs": [
    {
     "data": {
      "text/plain": [
       "Person(name='John Doe', age=42)"
      ]
     },
     "execution_count": 168,
     "metadata": {},
     "output_type": "execute_result"
    }
   ],
   "source": [
    "p = Person(name=\"John Doe\", age=42)\n",
    "p"
   ]
  },
  {
   "cell_type": "code",
   "execution_count": 169,
   "id": "edb5d6cc",
   "metadata": {},
   "outputs": [
    {
     "name": "stdout",
     "output_type": "stream",
     "text": [
      "John Doe\n",
      "42\n"
     ]
    }
   ],
   "source": [
    "name, age = p\n",
    "\n",
    "print(name)\n",
    "print(age)"
   ]
  },
  {
   "cell_type": "markdown",
   "id": "cdb135a5",
   "metadata": {},
   "source": [
    "### `__init_subclass__()` method\n",
    "\n",
    "The `__init_subclass__()` method is a special class method that is automatically called whenever a subclass is created. It allows a base class to customize the behavior of its subclasses."
   ]
  },
  {
   "cell_type": "code",
   "execution_count": 174,
   "id": "bbf81683",
   "metadata": {},
   "outputs": [],
   "source": [
    "from collections.abc import Callable\n",
    "from typing import Any, NoReturn, get_type_hints\n",
    "\n",
    "\n",
    "class Field:\n",
    "    def __init__(self, name: str, constructor: Callable) -> None:\n",
    "        if not callable(constructor) or constructor is type(None):\n",
    "            raise TypeError(f'{name!r} type hint must be callable')\n",
    "        self.name = name\n",
    "        self.constructor = constructor\n",
    "\n",
    "    def __set__(self, instance: Any, value: Any) -> None:\n",
    "        if value is ...:\n",
    "            value = self.constructor()\n",
    "        else:\n",
    "            try:\n",
    "                value = self.constructor(value)\n",
    "            except (TypeError, ValueError) as e:\n",
    "                type_name = self.constructor.__name__\n",
    "                msg = f'{value!r} is not compatible with {self.name}:{type_name}'\n",
    "                raise TypeError(msg) from e\n",
    "        instance.__dict__[self.name] = value"
   ]
  },
  {
   "cell_type": "code",
   "execution_count": 175,
   "id": "aadda191",
   "metadata": {},
   "outputs": [],
   "source": [
    "class Checked:\n",
    "    @classmethod\n",
    "    def _fields(cls) -> dict[str, type]:\n",
    "        return get_type_hints(cls)\n",
    "\n",
    "    def __init_subclass__(subclass) -> None:\n",
    "        super().__init_subclass__()\n",
    "        for name, constructor in subclass._fields().items():\n",
    "            setattr(subclass, name, Field(name, constructor))\n",
    "\n",
    "    def __init__(self, **kwargs: Any) -> None:\n",
    "        for name in self._fields():\n",
    "            value = kwargs.pop(name, ...)\n",
    "            setattr(self, name, value)\n",
    "        if kwargs:\n",
    "            self.__flag_unknown_attrs(*kwargs)\n",
    "\n",
    "    def __setattr__(self, name: str, value: Any) -> None:\n",
    "        if name in self._fields():\n",
    "            cls = self.__class__\n",
    "            descriptor = getattr(cls, name)\n",
    "            descriptor.__set__(self, value)\n",
    "        else:\n",
    "            self.__flag_unknown_attrs(name)\n",
    "\n",
    "    def __flag_unknown_attrs(self, *names: str) -> NoReturn:\n",
    "        plural = 's' if len(names) > 1 else ''\n",
    "        extra = ', '.join(f'{name!r}' for name in names)\n",
    "        cls_name = repr(self.__class__.__name__)\n",
    "        raise AttributeError(f'{cls_name} object has no attribute{plural} {extra}')\n",
    "\n",
    "    def _asdict(self) -> dict[str, Any]:\n",
    "        return {\n",
    "            name: getattr(self, name)\n",
    "            for name, attr in self.__class__.__dict__.items()\n",
    "            if isinstance(attr, Field)\n",
    "        }\n",
    "\n",
    "    def __repr__(self) -> str:\n",
    "        kwargs = ', '.join(\n",
    "            f'{key}={value!r}' for key, value in self._asdict().items()\n",
    "        )\n",
    "        return f'{self.__class__.__name__}({kwargs})'"
   ]
  },
  {
   "cell_type": "code",
   "execution_count": 176,
   "id": "7c6d78a3",
   "metadata": {},
   "outputs": [],
   "source": [
    "class Person(Checked):\n",
    "    name: str\n",
    "    age: int\n",
    "    salary: float"
   ]
  },
  {
   "cell_type": "code",
   "execution_count": 177,
   "id": "a971817b",
   "metadata": {},
   "outputs": [
    {
     "data": {
      "text/plain": [
       "Person(name='John Doe', age=42, salary=199999.99)"
      ]
     },
     "execution_count": 177,
     "metadata": {},
     "output_type": "execute_result"
    }
   ],
   "source": [
    "person = Person(name=\"John Doe\", age=42, salary=199_999.99)\n",
    "person"
   ]
  },
  {
   "cell_type": "code",
   "execution_count": 178,
   "id": "51c9af71",
   "metadata": {},
   "outputs": [
    {
     "data": {
      "text/plain": [
       "('John Doe', 42)"
      ]
     },
     "execution_count": 178,
     "metadata": {},
     "output_type": "execute_result"
    }
   ],
   "source": [
    "person.name, person.age"
   ]
  },
  {
   "cell_type": "code",
   "execution_count": 179,
   "id": "fcc7d4f8",
   "metadata": {},
   "outputs": [
    {
     "ename": "TypeError",
     "evalue": "'text' is not compatible with age:int",
     "output_type": "error",
     "traceback": [
      "\u001b[0;31m---------------------------------------------------------------------------\u001b[0m",
      "\u001b[0;31mValueError\u001b[0m                                Traceback (most recent call last)",
      "Cell \u001b[0;32mIn[174], line 17\u001b[0m, in \u001b[0;36mField.__set__\u001b[0;34m(self, instance, value)\u001b[0m\n\u001b[1;32m     16\u001b[0m \u001b[38;5;28;01mtry\u001b[39;00m:\n\u001b[0;32m---> 17\u001b[0m     value \u001b[38;5;241m=\u001b[39m \u001b[38;5;28;43mself\u001b[39;49m\u001b[38;5;241;43m.\u001b[39;49m\u001b[43mconstructor\u001b[49m\u001b[43m(\u001b[49m\u001b[43mvalue\u001b[49m\u001b[43m)\u001b[49m\n\u001b[1;32m     18\u001b[0m \u001b[38;5;28;01mexcept\u001b[39;00m (\u001b[38;5;167;01mTypeError\u001b[39;00m, \u001b[38;5;167;01mValueError\u001b[39;00m) \u001b[38;5;28;01mas\u001b[39;00m e:\n",
      "\u001b[0;31mValueError\u001b[0m: invalid literal for int() with base 10: 'text'",
      "\nThe above exception was the direct cause of the following exception:\n",
      "\u001b[0;31mTypeError\u001b[0m                                 Traceback (most recent call last)",
      "Cell \u001b[0;32mIn[179], line 1\u001b[0m\n\u001b[0;32m----> 1\u001b[0m \u001b[43mperson\u001b[49m\u001b[38;5;241;43m.\u001b[39;49m\u001b[43mage\u001b[49m \u001b[38;5;241m=\u001b[39m \u001b[38;5;124m\"\u001b[39m\u001b[38;5;124mtext\u001b[39m\u001b[38;5;124m\"\u001b[39m\n",
      "Cell \u001b[0;32mIn[175], line 22\u001b[0m, in \u001b[0;36mChecked.__setattr__\u001b[0;34m(self, name, value)\u001b[0m\n\u001b[1;32m     20\u001b[0m     \u001b[38;5;28mcls\u001b[39m \u001b[38;5;241m=\u001b[39m \u001b[38;5;28mself\u001b[39m\u001b[38;5;241m.\u001b[39m\u001b[38;5;18m__class__\u001b[39m\n\u001b[1;32m     21\u001b[0m     descriptor \u001b[38;5;241m=\u001b[39m \u001b[38;5;28mgetattr\u001b[39m(\u001b[38;5;28mcls\u001b[39m, name)\n\u001b[0;32m---> 22\u001b[0m     \u001b[43mdescriptor\u001b[49m\u001b[38;5;241;43m.\u001b[39;49m\u001b[38;5;21;43m__set__\u001b[39;49m\u001b[43m(\u001b[49m\u001b[38;5;28;43mself\u001b[39;49m\u001b[43m,\u001b[49m\u001b[43m \u001b[49m\u001b[43mvalue\u001b[49m\u001b[43m)\u001b[49m\n\u001b[1;32m     23\u001b[0m \u001b[38;5;28;01melse\u001b[39;00m:\n\u001b[1;32m     24\u001b[0m     \u001b[38;5;28mself\u001b[39m\u001b[38;5;241m.\u001b[39m__flag_unknown_attrs(name)\n",
      "Cell \u001b[0;32mIn[174], line 21\u001b[0m, in \u001b[0;36mField.__set__\u001b[0;34m(self, instance, value)\u001b[0m\n\u001b[1;32m     19\u001b[0m         type_name \u001b[38;5;241m=\u001b[39m \u001b[38;5;28mself\u001b[39m\u001b[38;5;241m.\u001b[39mconstructor\u001b[38;5;241m.\u001b[39m\u001b[38;5;18m__name__\u001b[39m\n\u001b[1;32m     20\u001b[0m         msg \u001b[38;5;241m=\u001b[39m \u001b[38;5;124mf\u001b[39m\u001b[38;5;124m'\u001b[39m\u001b[38;5;132;01m{\u001b[39;00mvalue\u001b[38;5;132;01m!r}\u001b[39;00m\u001b[38;5;124m is not compatible with \u001b[39m\u001b[38;5;132;01m{\u001b[39;00m\u001b[38;5;28mself\u001b[39m\u001b[38;5;241m.\u001b[39mname\u001b[38;5;132;01m}\u001b[39;00m\u001b[38;5;124m:\u001b[39m\u001b[38;5;132;01m{\u001b[39;00mtype_name\u001b[38;5;132;01m}\u001b[39;00m\u001b[38;5;124m'\u001b[39m\n\u001b[0;32m---> 21\u001b[0m         \u001b[38;5;28;01mraise\u001b[39;00m \u001b[38;5;167;01mTypeError\u001b[39;00m(msg) \u001b[38;5;28;01mfrom\u001b[39;00m\u001b[38;5;250m \u001b[39m\u001b[38;5;21;01me\u001b[39;00m\n\u001b[1;32m     22\u001b[0m instance\u001b[38;5;241m.\u001b[39m\u001b[38;5;18m__dict__\u001b[39m[\u001b[38;5;28mself\u001b[39m\u001b[38;5;241m.\u001b[39mname] \u001b[38;5;241m=\u001b[39m value\n",
      "\u001b[0;31mTypeError\u001b[0m: 'text' is not compatible with age:int"
     ]
    }
   ],
   "source": [
    "person.age = \"text\""
   ]
  },
  {
   "cell_type": "code",
   "execution_count": 180,
   "id": "0a5aba3a",
   "metadata": {},
   "outputs": [
    {
     "data": {
      "text/plain": [
       "Person(name='', age=0, salary=0.0)"
      ]
     },
     "execution_count": 180,
     "metadata": {},
     "output_type": "execute_result"
    }
   ],
   "source": [
    "person = Person()\n",
    "person"
   ]
  },
  {
   "cell_type": "code",
   "execution_count": 181,
   "id": "e204b2e1",
   "metadata": {},
   "outputs": [
    {
     "ename": "AttributeError",
     "evalue": "'Person' object has no attribute 'first_name'",
     "output_type": "error",
     "traceback": [
      "\u001b[0;31m---------------------------------------------------------------------------\u001b[0m",
      "\u001b[0;31mAttributeError\u001b[0m                            Traceback (most recent call last)",
      "Cell \u001b[0;32mIn[181], line 1\u001b[0m\n\u001b[0;32m----> 1\u001b[0m person \u001b[38;5;241m=\u001b[39m \u001b[43mPerson\u001b[49m\u001b[43m(\u001b[49m\u001b[43mfirst_name\u001b[49m\u001b[38;5;241;43m=\u001b[39;49m\u001b[38;5;124;43m\"\u001b[39;49m\u001b[38;5;124;43mJohn Doe\u001b[39;49m\u001b[38;5;124;43m\"\u001b[39;49m\u001b[43m,\u001b[49m\u001b[43m \u001b[49m\u001b[43mage\u001b[49m\u001b[38;5;241;43m=\u001b[39;49m\u001b[38;5;241;43m42\u001b[39;49m\u001b[43m,\u001b[49m\u001b[43m \u001b[49m\u001b[43msalary\u001b[49m\u001b[38;5;241;43m=\u001b[39;49m\u001b[38;5;241;43m199_999.99\u001b[39;49m\u001b[43m)\u001b[49m\n",
      "Cell \u001b[0;32mIn[175], line 16\u001b[0m, in \u001b[0;36mChecked.__init__\u001b[0;34m(self, **kwargs)\u001b[0m\n\u001b[1;32m     14\u001b[0m     \u001b[38;5;28msetattr\u001b[39m(\u001b[38;5;28mself\u001b[39m, name, value)\n\u001b[1;32m     15\u001b[0m \u001b[38;5;28;01mif\u001b[39;00m kwargs:\n\u001b[0;32m---> 16\u001b[0m     \u001b[38;5;28;43mself\u001b[39;49m\u001b[38;5;241;43m.\u001b[39;49m\u001b[43m__flag_unknown_attrs\u001b[49m\u001b[43m(\u001b[49m\u001b[38;5;241;43m*\u001b[39;49m\u001b[43mkwargs\u001b[49m\u001b[43m)\u001b[49m\n",
      "Cell \u001b[0;32mIn[175], line 30\u001b[0m, in \u001b[0;36mChecked.__flag_unknown_attrs\u001b[0;34m(self, *names)\u001b[0m\n\u001b[1;32m     28\u001b[0m extra \u001b[38;5;241m=\u001b[39m \u001b[38;5;124m'\u001b[39m\u001b[38;5;124m, \u001b[39m\u001b[38;5;124m'\u001b[39m\u001b[38;5;241m.\u001b[39mjoin(\u001b[38;5;124mf\u001b[39m\u001b[38;5;124m'\u001b[39m\u001b[38;5;132;01m{\u001b[39;00mname\u001b[38;5;132;01m!r}\u001b[39;00m\u001b[38;5;124m'\u001b[39m \u001b[38;5;28;01mfor\u001b[39;00m name \u001b[38;5;129;01min\u001b[39;00m names)\n\u001b[1;32m     29\u001b[0m cls_name \u001b[38;5;241m=\u001b[39m \u001b[38;5;28mrepr\u001b[39m(\u001b[38;5;28mself\u001b[39m\u001b[38;5;241m.\u001b[39m\u001b[38;5;18m__class__\u001b[39m\u001b[38;5;241m.\u001b[39m\u001b[38;5;18m__name__\u001b[39m)\n\u001b[0;32m---> 30\u001b[0m \u001b[38;5;28;01mraise\u001b[39;00m \u001b[38;5;167;01mAttributeError\u001b[39;00m(\u001b[38;5;124mf\u001b[39m\u001b[38;5;124m'\u001b[39m\u001b[38;5;132;01m{\u001b[39;00mcls_name\u001b[38;5;132;01m}\u001b[39;00m\u001b[38;5;124m object has no attribute\u001b[39m\u001b[38;5;132;01m{\u001b[39;00mplural\u001b[38;5;132;01m}\u001b[39;00m\u001b[38;5;124m \u001b[39m\u001b[38;5;132;01m{\u001b[39;00mextra\u001b[38;5;132;01m}\u001b[39;00m\u001b[38;5;124m'\u001b[39m)\n",
      "\u001b[0;31mAttributeError\u001b[0m: 'Person' object has no attribute 'first_name'"
     ]
    }
   ],
   "source": [
    "person = Person(first_name=\"John Doe\", age=42, salary=199_999.99)"
   ]
  },
  {
   "cell_type": "markdown",
   "id": "c886baf1",
   "metadata": {},
   "source": [
    "The `__init_subclass__()` method is called after the class is created. Adding `__slots__` to an existing class has no effect, meaning we cannot use the `__init_subclass__()` method for that purpose."
   ]
  },
  {
   "cell_type": "markdown",
   "id": "38d3067c",
   "metadata": {},
   "source": [
    "### Class decorator\n",
    "\n",
    "A **class decorator** is a decorator that modifies or enhances a class instead of a function. It is similar to a function decorator but applies changes to a class rather than a function.\n",
    "\n",
    "The main benefit of a class decorator over the simpler `__init_subclass__` is to avoid interfering with other class features, such as inheritance and metaclasses. This is actually why data classes are implemented as a class decorator."
   ]
  },
  {
   "cell_type": "code",
   "execution_count": null,
   "id": "1fc67ca2",
   "metadata": {},
   "outputs": [],
   "source": [
    "def _fields(cls: type) -> dict[str, type]:\n",
    "    return get_type_hints(cls)\n",
    "\n",
    "def __init__(self: Any, **kwargs: Any) -> None:\n",
    "    for name in self._fields():\n",
    "        value = kwargs.pop(name, ...)\n",
    "        setattr(self, name, value)\n",
    "    if kwargs:\n",
    "        self.__flag_unknown_attrs(*kwargs)\n",
    "\n",
    "def __setattr__(self: Any, name: str, value: Any) -> None:\n",
    "    if name in self._fields():\n",
    "        cls = self.__class__\n",
    "        descriptor = getattr(cls, name)\n",
    "        descriptor.__set__(self, value)\n",
    "    else:\n",
    "        self.__flag_unknown_attrs(name)\n",
    "\n",
    "def __flag_unknown_attrs(self: Any, *names: str) -> NoReturn:\n",
    "    plural = 's' if len(names) > 1 else ''\n",
    "    extra = ', '.join(f'{name!r}' for name in names)\n",
    "    cls_name = repr(self.__class__.__name__)\n",
    "    raise AttributeError(f'{cls_name} has no attribute{plural} {extra}')\n",
    "\n",
    "def _asdict(self: Any) -> dict[str, Any]:\n",
    "    return {\n",
    "        name: getattr(self, name)\n",
    "        for name, attr in self.__class__.__dict__.items()\n",
    "        if isinstance(attr, Field)\n",
    "    }\n",
    "\n",
    "def __repr__(self: Any) -> str:\n",
    "    kwargs = ', '.join(\n",
    "        f'{key}={value!r}' for key, value in self._asdict().items()\n",
    "    )\n",
    "    return f'{self.__class__.__name__}({kwargs})'"
   ]
  },
  {
   "cell_type": "code",
   "execution_count": null,
   "id": "a6eec3af",
   "metadata": {},
   "outputs": [],
   "source": [
    "def checked(cls: type) -> type:\n",
    "    for name, constructor in _fields(cls).items():\n",
    "        setattr(cls, name, Field(name, constructor))\n",
    "\n",
    "    cls._fields = classmethod(_fields)\n",
    "\n",
    "    instance_methods = (\n",
    "        __init__,\n",
    "        __repr__,\n",
    "        __setattr__,\n",
    "        _asdict,\n",
    "        __flag_unknown_attrs,\n",
    "    )\n",
    "    for method in instance_methods:\n",
    "        setattr(cls, method.__name__, method)\n",
    "\n",
    "    return cls"
   ]
  },
  {
   "cell_type": "code",
   "execution_count": null,
   "id": "17498a23",
   "metadata": {},
   "outputs": [],
   "source": [
    "@checked\n",
    "class Person:\n",
    "    name: str\n",
    "    age: int\n",
    "    salary: float"
   ]
  },
  {
   "cell_type": "code",
   "execution_count": null,
   "id": "07fc7cb7",
   "metadata": {},
   "outputs": [],
   "source": [
    "person = Person(name=\"John Doe\", age=42, salary=199_999.99)\n",
    "person"
   ]
  },
  {
   "cell_type": "code",
   "execution_count": null,
   "id": "5e67b77c",
   "metadata": {},
   "outputs": [],
   "source": [
    "person.name, person.age"
   ]
  },
  {
   "cell_type": "markdown",
   "id": "00865d2d",
   "metadata": {},
   "source": [
    "### Metaclasses\n",
    "\n",
    "A **metaclass** in Python is a class of a class. It defines how a class behaves, similar to how a class defines how an instance behaves. In simple terms, a metaclass controls the creation and behavior of classes."
   ]
  },
  {
   "cell_type": "code",
   "execution_count": null,
   "id": "47174ebe",
   "metadata": {},
   "outputs": [],
   "source": [
    "class A:\n",
    "    pass"
   ]
  },
  {
   "cell_type": "code",
   "execution_count": null,
   "id": "74d2d9b6",
   "metadata": {},
   "outputs": [],
   "source": [
    "for t in int, str, list, set, tuple, A, ValueError, type:\n",
    "    print(t.__class__)"
   ]
  },
  {
   "cell_type": "markdown",
   "id": "fca2440a",
   "metadata": {},
   "source": [
    "Classes are instances of `type` by default, but they all are subclasses of `object`.\n",
    "\n",
    "![Type and object relationships](resources/type-object-relationships.png)"
   ]
  },
  {
   "cell_type": "markdown",
   "id": "8e43c1a4",
   "metadata": {},
   "source": [
    "### `__new__` method\n",
    "\n",
    "Metaclasses customize a class through `__new__` method. The `__new__` method in a metaclass is responsible for creating the class before it gets initialized. It allows customization of class creation, modifying attributes, methods, or even rejecting class definitions.\n",
    "\n",
    "The` __new__` method in a metaclass receives:\n",
    "\n",
    "- `meta_cls`: The metaclass itself.\n",
    "- `cls_name`: The name of the class being created.\n",
    "- `bases`: A tuple of base classes.\n",
    "- `cls_dict`: A dictionary containing the class attributes and methods.\n",
    "\n",
    "It must return a new class object using `super().__new__()`."
   ]
  },
  {
   "cell_type": "markdown",
   "id": "433d93ca",
   "metadata": {},
   "source": [
    "#### Basic example"
   ]
  },
  {
   "cell_type": "code",
   "execution_count": null,
   "id": "0938bcd2",
   "metadata": {},
   "outputs": [],
   "source": [
    "class MyMeta(type):\n",
    "    def __new__(cls, name, bases, class_dict, **kwargs):\n",
    "        print(f\"Creating class: {name=}\")\n",
    "        print(f\"{cls=}\")\n",
    "        print(f\"{bases=}\")\n",
    "        print(f\"{class_dict=}\")\n",
    "        print(f\"{kwargs=}\")\n",
    "        return super().__new__(cls, name, bases, class_dict)"
   ]
  },
  {
   "cell_type": "code",
   "execution_count": null,
   "id": "0d5f64aa",
   "metadata": {},
   "outputs": [],
   "source": [
    "class MyClass(metaclass=MyMeta, class_param_1=42, class_param_2=True):\n",
    "    pass"
   ]
  },
  {
   "cell_type": "markdown",
   "id": "fb7542d7",
   "metadata": {},
   "source": [
    "#### Adding an attribute "
   ]
  },
  {
   "cell_type": "code",
   "execution_count": null,
   "id": "db5eea04",
   "metadata": {},
   "outputs": [],
   "source": [
    "class AutoAttrMeta(type):\n",
    "    def __new__(cls, name, bases, class_dict):\n",
    "        class_dict[\"auto_attr\"] = \"I was added by metaclass!\"\n",
    "\n",
    "        return super().__new__(cls, name, bases, class_dict)"
   ]
  },
  {
   "cell_type": "code",
   "execution_count": null,
   "id": "aa607415",
   "metadata": {},
   "outputs": [],
   "source": [
    "class MyClass(metaclass=AutoAttrMeta):\n",
    "    pass"
   ]
  },
  {
   "cell_type": "code",
   "execution_count": null,
   "id": "8aeaceb0",
   "metadata": {},
   "outputs": [],
   "source": [
    "MyClass.auto_attr"
   ]
  },
  {
   "cell_type": "markdown",
   "id": "b07dac46",
   "metadata": {},
   "source": [
    "#### Class name validation"
   ]
  },
  {
   "cell_type": "code",
   "execution_count": null,
   "id": "80c32cc3",
   "metadata": {},
   "outputs": [],
   "source": [
    "class NoUnderscoreNamesMeta(type):\n",
    "    def __new__(cls, name, bases, class_dict):\n",
    "        if \"_\" in name:\n",
    "            raise TypeError(\"Class names cannot contain underscores!\")\n",
    "        return super().__new__(cls, name, bases, class_dict)"
   ]
  },
  {
   "cell_type": "code",
   "execution_count": null,
   "id": "0f8d5689",
   "metadata": {},
   "outputs": [],
   "source": [
    "class ValidClass(metaclass=NoUnderscoreNamesMeta):\n",
    "    pass"
   ]
  },
  {
   "cell_type": "code",
   "execution_count": null,
   "id": "fb8e32da",
   "metadata": {},
   "outputs": [],
   "source": [
    "class Invalid_Class(metaclass=NoUnderscoreNamesMeta):\n",
    "    pass"
   ]
  },
  {
   "cell_type": "markdown",
   "id": "32ab829e",
   "metadata": {},
   "source": [
    "### `Checked` with a metaclass\n",
    "\n",
    "If we want to add `__slots__` to our `Checked` classes (maybe to reduce memory usage and gain performance), we can use a metaclass."
   ]
  },
  {
   "cell_type": "code",
   "execution_count": null,
   "id": "04c48572",
   "metadata": {},
   "outputs": [],
   "source": [
    "from collections.abc import Callable\n",
    "from typing import Any, NoReturn, get_type_hints"
   ]
  },
  {
   "cell_type": "code",
   "execution_count": null,
   "id": "e090f4e3",
   "metadata": {},
   "outputs": [],
   "source": [
    "class Field:\n",
    "    def __init__(self, name: str, constructor: Callable) -> None:\n",
    "        if not callable(constructor) or constructor is type(None):\n",
    "            raise TypeError(f'{name!r} type hint must be callable')\n",
    "        self.name = name\n",
    "        # Each descriptor instance is a class attribute, and now we need separate per-instance storage attributes.\n",
    "        self.storage_name = '_' + name\n",
    "        self.constructor = constructor\n",
    "\n",
    "    def __get__(self, instance, owner=None):\n",
    "        # We return either the descriptor instance or the value stored in the attribute named storage_name\n",
    "        if instance is None:\n",
    "            return self\n",
    "        return getattr(instance, self.storage_name)\n",
    "\n",
    "    def __set__(self, instance: Any, value: Any) -> None:\n",
    "        if value is ...:\n",
    "            value = self.constructor()\n",
    "        else:\n",
    "            try:\n",
    "                value = self.constructor(value)\n",
    "            except (TypeError, ValueError) as e:\n",
    "                type_name = self.constructor.__name__\n",
    "                msg = f'{value!r} is not compatible with {self.name}:{type_name}'\n",
    "                raise TypeError(msg) from e\n",
    "        setattr(instance, self.storage_name, value) "
   ]
  },
  {
   "cell_type": "code",
   "execution_count": null,
   "id": "ccf443a6",
   "metadata": {},
   "outputs": [],
   "source": [
    "class CheckedMeta(type):\n",
    "    def __new__(meta_cls, cls_name, bases, cls_dict):\n",
    "        if '__slots__' not in cls_dict:\n",
    "            slots = []\n",
    "            # class does not exist yet, that's why we cannot use typing.get_type_hints\n",
    "            type_hints = cls_dict.get('__annotations__', {})\n",
    "            for name, constructor in type_hints.items():\n",
    "                field = Field(name, constructor)\n",
    "                cls_dict[name] = field\n",
    "                slots.append(field.storage_name)\n",
    "\n",
    "            cls_dict['__slots__'] = slots\n",
    "\n",
    "        return super().__new__(meta_cls, cls_name, bases, cls_dict) "
   ]
  },
  {
   "cell_type": "code",
   "execution_count": null,
   "id": "97c112a8",
   "metadata": {},
   "outputs": [],
   "source": [
    "class Checked(metaclass=CheckedMeta):\n",
    "    __slots__ = ()  # skip CheckedMeta.__new__ processing\n",
    "\n",
    "    @classmethod\n",
    "    def _fields(cls) -> dict[str, type]:\n",
    "        return get_type_hints(cls)\n",
    "\n",
    "    def __init__(self, **kwargs: Any) -> None:\n",
    "        for name in self._fields():\n",
    "            value = kwargs.pop(name, ...)\n",
    "            setattr(self, name, value)\n",
    "        if kwargs:\n",
    "            self.__flag_unknown_attrs(*kwargs)\n",
    "\n",
    "    def __flag_unknown_attrs(self, *names: str) -> NoReturn:\n",
    "        plural = 's' if len(names) > 1 else ''\n",
    "        extra = ', '.join(f'{name!r}' for name in names)\n",
    "        cls_name = repr(self.__class__.__name__)\n",
    "        raise AttributeError(f'{cls_name} object has no attribute{plural} {extra}')\n",
    "\n",
    "    def _asdict(self) -> dict[str, Any]:\n",
    "        return {\n",
    "            name: getattr(self, name)\n",
    "            for name, attr in self.__class__.__dict__.items()\n",
    "            if isinstance(attr, Field)\n",
    "        }\n",
    "\n",
    "    def __repr__(self) -> str:\n",
    "        kwargs = ', '.join(\n",
    "            f'{key}={value!r}' for key, value in self._asdict().items()\n",
    "        )\n",
    "        return f'{self.__class__.__name__}({kwargs})'"
   ]
  },
  {
   "cell_type": "markdown",
   "id": "1544b22c",
   "metadata": {},
   "source": [
    "In the `Checked` class:\n",
    "\n",
    "1. Added an empty `__slots__` to signal to `CheckedMeta.__new__` that this class doesn’t require special processing.\n",
    "2. Removed `__init_subclass__`. Its job is now done by `CheckedMeta.__new__`.\n",
    "3. Removed `__setattr__`. It became redundant because adding `__slots__` to the user-defined class prevents setting undeclared attributes."
   ]
  },
  {
   "cell_type": "code",
   "execution_count": null,
   "id": "be6e888f",
   "metadata": {},
   "outputs": [],
   "source": [
    "class Person(Checked):    \n",
    "    name: str\n",
    "    age: int\n",
    "    salary: float"
   ]
  },
  {
   "cell_type": "code",
   "execution_count": null,
   "id": "2f629898",
   "metadata": {},
   "outputs": [],
   "source": [
    "person = Person(name=\"John Doe\", age=42, salary=199_999.99)\n",
    "person"
   ]
  },
  {
   "cell_type": "code",
   "execution_count": null,
   "id": "2c986302",
   "metadata": {},
   "outputs": [],
   "source": [
    "person.name"
   ]
  },
  {
   "cell_type": "code",
   "execution_count": null,
   "id": "4baf7d13",
   "metadata": {},
   "outputs": [],
   "source": [
    "person.name = \"Jane Dane\""
   ]
  },
  {
   "cell_type": "code",
   "execution_count": null,
   "id": "8e2f2da0",
   "metadata": {},
   "outputs": [],
   "source": [
    "person.year = \"text\""
   ]
  },
  {
   "cell_type": "code",
   "execution_count": null,
   "id": "f9762553",
   "metadata": {},
   "outputs": [],
   "source": [
    "person.__dict__"
   ]
  },
  {
   "cell_type": "code",
   "execution_count": null,
   "id": "904cc3fd",
   "metadata": {},
   "outputs": [],
   "source": [
    "Person.__dict__"
   ]
  },
  {
   "cell_type": "markdown",
   "id": "14242631",
   "metadata": {},
   "source": [
    "### `__prepare` method\n",
    "\n",
    "The __prepare__ method is a special class method that is used in the metaclass mechanism. The purpose of `__prepare__` is to return the initial namespace (a dictionary-like object) in which the class body will be executed. The `__prepare__` method should be implemented as a `classmethod`. The namespace returned by `__prepare__` is passed in to `__new__`, but when the final class object is created the namespace is copied into a new `dict`."
   ]
  },
  {
   "cell_type": "code",
   "execution_count": null,
   "id": "82040407",
   "metadata": {},
   "outputs": [],
   "source": [
    "class Meta(type):\n",
    "    @classmethod\n",
    "    def __prepare__(meta_cls, cls_name, bases, **kwargs):\n",
    "        print(f\"Preparing namespace for {cls_name}\")\n",
    "        print(f\"{meta_cls=}\")\n",
    "        print(f\"{bases=}\")\n",
    "        print(f\"{meta_cls=}\")\n",
    "        return {}  # You can return any mapping type\n",
    "\n",
    "    def __new__(meta_cls, cls_name, bases, cls_dict, **kwargs):\n",
    "        print(f\"Creating class {cls_name}\")\n",
    "        return super().__new__(meta_cls, cls_name, bases, cls_dict)  "
   ]
  },
  {
   "cell_type": "code",
   "execution_count": null,
   "id": "ac7e3a5d",
   "metadata": {},
   "outputs": [],
   "source": [
    "class MyClass(metaclass=Meta):\n",
    "    attr1 = 10\n",
    "    attr2 = 20\n",
    "\n",
    "MyClass.attr1"
   ]
  },
  {
   "cell_type": "markdown",
   "id": "5d87b4fb",
   "metadata": {},
   "source": [
    "#### Example with `OrderedDict`"
   ]
  },
  {
   "cell_type": "code",
   "execution_count": null,
   "id": "b4949192",
   "metadata": {},
   "outputs": [],
   "source": [
    "from collections import OrderedDict\n",
    "\n",
    "class Meta(type):\n",
    "    @classmethod\n",
    "    def __prepare__(meta_cls, cls_name, bases):\n",
    "        return OrderedDict()  # Ensures attributes maintain order\n",
    "\n",
    "    def __new__(meta_cls, cls_name, bases, cls_dict):\n",
    "        print(\"Attributes in order:\", list(cls_dict.keys()))\n",
    "        return super().__new__(meta_cls, cls_name, bases, dict(cls_dict))\n",
    "\n",
    "class MyClass(metaclass=Meta):\n",
    "    a = 1\n",
    "    b = 2\n",
    "    c = 3"
   ]
  },
  {
   "cell_type": "markdown",
   "id": "a35f2335",
   "metadata": {},
   "source": [
    "### Metaclasses in the standard library\n",
    "\n",
    "- `abc.ABCMeta`\n",
    "- `enum.EnumMeta`\n",
    "- `collections.NamedTupleMeta`\n",
    "\n",
    "We usually don't need to use these metaclasses in our code. In general, it is better to make metaclasses as implementation details, so the users of your code can easily make sense of the program. Furthermore, it is good practice to consider if a metaclass is needed at all in your use cases."
   ]
  },
  {
   "cell_type": "code",
   "execution_count": null,
   "id": "c9065968",
   "metadata": {},
   "outputs": [],
   "source": [
    "from abc import ABCMeta\n",
    "\n",
    "from collections.abc import Iterable"
   ]
  },
  {
   "cell_type": "code",
   "execution_count": null,
   "id": "9f62ac03",
   "metadata": {},
   "outputs": [],
   "source": [
    "ABCMeta.__class__"
   ]
  },
  {
   "cell_type": "code",
   "execution_count": null,
   "id": "0d1b5039",
   "metadata": {},
   "outputs": [],
   "source": [
    "Iterable.__class__"
   ]
  },
  {
   "cell_type": "code",
   "execution_count": null,
   "id": "ab94961f",
   "metadata": {},
   "outputs": [],
   "source": [
    "issubclass(ABCMeta, type)"
   ]
  },
  {
   "cell_type": "code",
   "execution_count": null,
   "id": "b44a9450",
   "metadata": {},
   "outputs": [],
   "source": [
    "issubclass(Iterable, type)"
   ]
  },
  {
   "cell_type": "markdown",
   "id": "dbc78aee",
   "metadata": {},
   "source": [
    "Every class is an instance of `type`, directly or indirectly, but metaclasses are also subclasses of `type`."
   ]
  }
 ],
 "metadata": {
  "kernelspec": {
   "display_name": "Python 3 (ipykernel)",
   "language": "python",
   "name": "python3"
  },
  "language_info": {
   "codemirror_mode": {
    "name": "ipython",
    "version": 3
   },
   "file_extension": ".py",
   "mimetype": "text/x-python",
   "name": "python",
   "nbconvert_exporter": "python",
   "pygments_lexer": "ipython3",
   "version": "3.12.9"
  }
 },
 "nbformat": 4,
 "nbformat_minor": 5
}
