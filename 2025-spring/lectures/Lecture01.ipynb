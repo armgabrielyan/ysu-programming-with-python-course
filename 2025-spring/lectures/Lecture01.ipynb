{
 "cells": [
  {
   "cell_type": "markdown",
   "id": "94fa03a9",
   "metadata": {},
   "source": [
    "# Programming with Python\n",
    "\n",
    "## Lecture 01: Introduction, functions, iterators, generators, and decorators\n",
    "\n",
    "### Armen Gabrielyan\n",
    "\n",
    "#### Yerevan State University / ASDS\n",
    "\n",
    "#### 8 Feb, 2025"
   ]
  },
  {
   "cell_type": "markdown",
   "id": "f1e107fb",
   "metadata": {},
   "source": [
    "# Course information\n",
    "\n",
    "- maybe 3-4 credit score\n",
    "- 2 sessions/week on Saturdays from 11:30 to 12:50"
   ]
  },
  {
   "cell_type": "markdown",
   "id": "97be9d7c",
   "metadata": {},
   "source": [
    "# Prerequisites\n",
    "\n",
    "Students should have a basic understanding of programming concepts and prior experience with Python.\n",
    "\n",
    "To some extent, it is considered that students have knowledge of the following topics, but they will be revised throughout the course if needed.\n",
    "\n",
    "- Computation principles\n",
    "- Python data types and structures, variables, expressions, statements, operators\n",
    "- Branching, conditioning and iteration/loops\n",
    "- Mutable and immutable data structures\n",
    "- Lists, tuples, sets and dictionaries\n",
    "- File I/O\n",
    "- Libraries and packages\n",
    "- Command-line interface applications\n",
    "- Regular expressions"
   ]
  },
  {
   "cell_type": "markdown",
   "id": "0c2ecb76",
   "metadata": {},
   "source": [
    "# End of class goals\n",
    "\n",
    "- Learn advanced concepts in Python 3 programming language.\n",
    "- Learn to design, implement, debug and test computer programs.\n",
    "- Learn to develop algorithmic solutions for real-life problems in sciences and beyond.\n",
    "\n",
    "- And many more..."
   ]
  },
  {
   "cell_type": "markdown",
   "id": "a94d2c17",
   "metadata": {},
   "source": [
    "# Grading\n",
    "\n",
    "Դասընթացը գնահատվում է առավելագույնը 20 միավոր:\n",
    "\n",
    "1. 1-ին ընթացիկ քննություն՝ 4 միավոր առավելագույն արժեքով (20%),\n",
    "2. 2-րդ ընթացիկ քննություն՝ 4 միավոր առավելագույն արժեքով (20%),\n",
    "3. Ընթացիկ ստուգում՝ 6 միավոր առավելագույն արժեքով (30%),\n",
    "4. Ինքնուրույն աշխատանք՝ 6 միավոր առավելագույն արժեքով (30%):"
   ]
  },
  {
   "cell_type": "markdown",
   "id": "66e2b70c",
   "metadata": {},
   "source": [
    "# Communication and collaboration\n",
    "\n",
    "- You can contact me via Slack or at armen.gabrielyan@ysu.am.\n",
    "- It is advised that students communicate and collaborate with each other a lot because they learn a huge amount from each other.\n",
    "- Course materials will be released on https://github.com/armgabrielyan/ysu-programming-with-python-course/tree/main/2025-spring, shared Google Drive, and https://e-learning.ysu.am portal."
   ]
  },
  {
   "cell_type": "markdown",
   "id": "47b466de",
   "metadata": {},
   "source": [
    "# Course structure\n",
    "\n",
    "The following is a non-exhaustive list of topics. It can be adjusted throughout the course.\n",
    "\n",
    "- Functions, iteration and recursion, iterators and generators, decorators\n",
    "- Object-oriented programming and its principles\n",
    "- Type hints and type checking\n",
    "- Debugging, exceptions, assertions, testing\n",
    "- Memory management and garbage collection\n",
    "- Concurrent and parallel programming, synchronous and asynchronous programming\n",
    "- Dynamic attributes and properties, attribute descriptors, metaprogramming\n",
    "- Introduction to popular data science/machine learning libraries: NumPy, SciPy, Pandas/Polars, Matplotlib, PyTorch\n",
    "- Web serving, WSGI and ASGI specifications, gunicorn and uvicorn web servers, Flask and FastAPI frameworks\n",
    "- Stateful applications and databases\n",
    "- Containerization, Docker, deployment"
   ]
  },
  {
   "cell_type": "markdown",
   "id": "e528e6c0",
   "metadata": {},
   "source": [
    "# Textbooks and references\n",
    "\n",
    "- Luciano Ramalho, Fluent Python, 2nd edition, O'Reilly Media, 2022\n",
    "- David Beazley, Brian K. Jones, Python Cookbook, 3rd edition, O'Reilly Media, 2013\n",
    "- Python official documentation, https://docs.python.org/3/"
   ]
  },
  {
   "cell_type": "markdown",
   "id": "d9a1ae72",
   "metadata": {},
   "source": [
    "# Functions\n",
    "\n",
    "A function is a block of statements that encapsulates a certain functionality. The general form of functions in Python is as follows:\n",
    "\n",
    "```python\n",
    "def <function_name>([<parameters>]):\n",
    "    <statement(s)>\n",
    "```\n",
    "\n",
    "- `<function_name>` is a valid identifier that follows the variable naming rules.\n",
    "- `<parameters>` is an optional comma-separated list of parameters that the function accepts.\n",
    "- `<statement(s)>` is a block of statements."
   ]
  },
  {
   "cell_type": "code",
   "execution_count": null,
   "id": "3d530dfb",
   "metadata": {},
   "outputs": [],
   "source": [
    "def greet():\n",
    "    print(\"Hello world!\")\n",
    "    print(\"We are learning Python\")\n",
    "    \n",
    "greet()"
   ]
  },
  {
   "cell_type": "markdown",
   "id": "2237b042",
   "metadata": {},
   "source": [
    "# Parameters and arguments\n",
    "\n",
    "Parameters are defined by the names that appear in a function definitions. On the other hand, arguments are the actual values passed to the function.\n",
    "\n",
    "```python\n",
    "def <function_name>(<parameters>):\n",
    "    <statement(s)>\n",
    "    \n",
    "<function_name>(<arguments>)\n",
    "```\n",
    "\n",
    "- `<parameters>` are the parameters of the function `<function_name>`.\n",
    "- `<arguments>` are the values passed to the function `<function_name>` when called.\n",
    "\n",
    "Parameters and arguments are also known as formal parameters and actual parameters, respectively."
   ]
  },
  {
   "cell_type": "markdown",
   "id": "abb77e13",
   "metadata": {
    "slideshow": {
     "slide_type": "slide"
    }
   },
   "source": [
    "## Arguments\n",
    "\n",
    "We usually define functions that accept data. The data can be passed to functions via arguments. In Python, generally two types of arguments are defined:\n",
    "\n",
    "- positional arguments\n",
    "- keyword arguments"
   ]
  },
  {
   "cell_type": "markdown",
   "id": "12da266f",
   "metadata": {
    "slideshow": {
     "slide_type": "slide"
    }
   },
   "source": [
    "## Positional arguments\n",
    "\n",
    "The function is called by passing a comma-separated list of arguments. Given a function `f` with $n$ parameters, it is called with $n$ arguments by `f(arg_1, arg_2, ..., arg_n)`."
   ]
  },
  {
   "cell_type": "code",
   "execution_count": null,
   "id": "499b89da",
   "metadata": {
    "slideshow": {
     "slide_type": "fragment"
    }
   },
   "outputs": [],
   "source": [
    "def euclidean_distance(x1, y1, x2, y2):\n",
    "    distance = ((x1 - x2) ** 2 + (y1 - y2) ** 2) ** 0.5\n",
    "    print(f\"The euclidean distance between {(x1, y1)} and {(x2, y2)} is {distance:.2f}\")"
   ]
  },
  {
   "cell_type": "code",
   "execution_count": null,
   "id": "cb17b6e1",
   "metadata": {},
   "outputs": [],
   "source": [
    "euclidean_distance(0, 1, 2, 3)"
   ]
  },
  {
   "cell_type": "markdown",
   "id": "a066b3f8",
   "metadata": {
    "slideshow": {
     "slide_type": "slide"
    }
   },
   "source": [
    "## Keyword arguments\n",
    "\n",
    "The function is called by passing a comma-separated list of arguments in the form of `<keyword>=<value>`, where `<keyword>` is a parameter name in the function definition. Given a function `f` with $n$ parameters, it can be called with $n$ arguments by `f(param_1=arg_1, param_2=arg_2, ..., param_n=arg_n)`."
   ]
  },
  {
   "cell_type": "code",
   "execution_count": null,
   "id": "8001184b",
   "metadata": {
    "slideshow": {
     "slide_type": "fragment"
    }
   },
   "outputs": [],
   "source": [
    "euclidean_distance(x1=0, y1=1, x2=2, y2=3)"
   ]
  },
  {
   "cell_type": "markdown",
   "id": "02261d7e",
   "metadata": {
    "slideshow": {
     "slide_type": "slide"
    }
   },
   "source": [
    "## Variable-length arguments"
   ]
  },
  {
   "cell_type": "markdown",
   "id": "3e3062f5",
   "metadata": {
    "slideshow": {
     "slide_type": "subslide"
    }
   },
   "source": [
    "### Argument tuple packing\n",
    "\n",
    "Variable-length arguments can be provided to a function via argument tuple packing indicated by `*`."
   ]
  },
  {
   "cell_type": "code",
   "execution_count": null,
   "id": "cb14229f",
   "metadata": {
    "slideshow": {
     "slide_type": "fragment"
    }
   },
   "outputs": [],
   "source": [
    "def sum_of_squares(*args):\n",
    "    return args, type(args)"
   ]
  },
  {
   "cell_type": "code",
   "execution_count": null,
   "id": "ba370a87",
   "metadata": {
    "slideshow": {
     "slide_type": "fragment"
    }
   },
   "outputs": [],
   "source": [
    "sum_of_squares(1, 2, 3)"
   ]
  },
  {
   "cell_type": "code",
   "execution_count": null,
   "id": "be4e8f44",
   "metadata": {
    "slideshow": {
     "slide_type": "fragment"
    }
   },
   "outputs": [],
   "source": [
    "def sum_of_squares(*args):\n",
    "    result = 0\n",
    "    for i in args:\n",
    "        result += i ** 2\n",
    "    return result"
   ]
  },
  {
   "cell_type": "code",
   "execution_count": null,
   "id": "eeb1d85f",
   "metadata": {
    "slideshow": {
     "slide_type": "fragment"
    }
   },
   "outputs": [],
   "source": [
    "sum_of_squares(1, 2, 3)"
   ]
  },
  {
   "cell_type": "code",
   "execution_count": null,
   "id": "350ba27d",
   "metadata": {
    "slideshow": {
     "slide_type": "fragment"
    }
   },
   "outputs": [],
   "source": [
    "sum_of_squares(1, 2, 3, 4, 5)"
   ]
  },
  {
   "cell_type": "markdown",
   "id": "b07c8efe",
   "metadata": {
    "slideshow": {
     "slide_type": "subslide"
    }
   },
   "source": [
    "A tuple can be unpacked via `*` when passed as an argument to a function."
   ]
  },
  {
   "cell_type": "code",
   "execution_count": null,
   "id": "6d795dfb",
   "metadata": {
    "slideshow": {
     "slide_type": "fragment"
    }
   },
   "outputs": [],
   "source": [
    "t = (10, 7, 15, 6, 42)\n",
    "sum_of_squares(*t)"
   ]
  },
  {
   "cell_type": "markdown",
   "id": "fc404da9",
   "metadata": {
    "slideshow": {
     "slide_type": "subslide"
    }
   },
   "source": [
    "### Argument dictionary packing\n",
    "\n",
    "Variable-length arguments can be provided to a function via argument dictionary packing indicated by `**`."
   ]
  },
  {
   "cell_type": "code",
   "execution_count": null,
   "id": "38294916",
   "metadata": {
    "slideshow": {
     "slide_type": "fragment"
    }
   },
   "outputs": [],
   "source": [
    "def pretty_print(**kwargs):\n",
    "    return kwargs, type(kwargs)"
   ]
  },
  {
   "cell_type": "code",
   "execution_count": null,
   "id": "f35e0f87",
   "metadata": {
    "slideshow": {
     "slide_type": "fragment"
    }
   },
   "outputs": [],
   "source": [
    "pretty_print(name=\"Alice\", age=24)"
   ]
  },
  {
   "cell_type": "code",
   "execution_count": null,
   "id": "284cff10",
   "metadata": {
    "slideshow": {
     "slide_type": "fragment"
    }
   },
   "outputs": [],
   "source": [
    "def pretty_print(**kwargs):\n",
    "    for key, value in kwargs.items():\n",
    "        print(f\"{key} => {value}\")"
   ]
  },
  {
   "cell_type": "code",
   "execution_count": null,
   "id": "dcb047a4",
   "metadata": {
    "slideshow": {
     "slide_type": "fragment"
    }
   },
   "outputs": [],
   "source": [
    "pretty_print(name=\"Alice\", age=24)"
   ]
  },
  {
   "cell_type": "code",
   "execution_count": null,
   "id": "29c04dc6",
   "metadata": {
    "slideshow": {
     "slide_type": "fragment"
    }
   },
   "outputs": [],
   "source": [
    "pretty_print(a=1, b=[2, 3, 4], c=\"Hello world!\")"
   ]
  },
  {
   "cell_type": "markdown",
   "id": "ecb5a5ff",
   "metadata": {
    "slideshow": {
     "slide_type": "subslide"
    }
   },
   "source": [
    "A dictionary can be unpacked via `**` when passed as an argument to a function."
   ]
  },
  {
   "cell_type": "code",
   "execution_count": null,
   "id": "5bf68ebe",
   "metadata": {
    "slideshow": {
     "slide_type": "fragment"
    }
   },
   "outputs": [],
   "source": [
    "d = {'name': 'Alice', 'age': 24}\n",
    "pretty_print(**d)"
   ]
  },
  {
   "cell_type": "markdown",
   "id": "baef4d76",
   "metadata": {
    "slideshow": {
     "slide_type": "slide"
    }
   },
   "source": [
    "## Keyword-only arguments\n",
    "\n",
    "[PEP 3102 – Keyword-Only Arguments](https://peps.python.org/pep-3102/) added a support for defining keyword-only arguments. These are arguments that need to be provided by keyword and cannot be passed positional arguments. They are defined by using `*` before their definition in the parameter list."
   ]
  },
  {
   "cell_type": "markdown",
   "id": "d48ca2d8",
   "metadata": {
    "slideshow": {
     "slide_type": "slide"
    }
   },
   "source": [
    "## Positional-only arguments\n",
    "\n",
    "[PEP 570 – Python Positional-Only Parameters](https://peps.python.org/pep-0570/) introduced a new syntax to Python 3.8 to define positional-only arguments. This can be applied by specifying a `/` in the parameter definition and any parameter that comes before it will be considered as positional-only."
   ]
  },
  {
   "cell_type": "code",
   "execution_count": null,
   "id": "b7275a07",
   "metadata": {
    "slideshow": {
     "slide_type": "fragment"
    }
   },
   "outputs": [],
   "source": [
    "def f(pos_arg_1, pos_arg_2, /, arg_1, arg_2, *, kwarg_1, kwarg_2):\n",
    "    print(pos_arg_1, pos_arg_2, arg_1, arg_2, kwarg_1, kwarg_2)"
   ]
  },
  {
   "cell_type": "code",
   "execution_count": null,
   "id": "6ed61865",
   "metadata": {
    "slideshow": {
     "slide_type": "fragment"
    }
   },
   "outputs": [],
   "source": [
    "f(1, 2, 3, 4, kwarg_1=5, kwarg_2=6)"
   ]
  },
  {
   "cell_type": "code",
   "execution_count": null,
   "id": "6080edd2",
   "metadata": {
    "slideshow": {
     "slide_type": "fragment"
    }
   },
   "outputs": [],
   "source": [
    "f(1, 2, arg_1=3, arg_2=4, kwarg_1=5, kwarg_2=6)"
   ]
  },
  {
   "cell_type": "markdown",
   "id": "26efc8b9",
   "metadata": {
    "slideshow": {
     "slide_type": "slide"
    }
   },
   "source": [
    "## Mutable default parameters\n",
    "\n",
    "Function default parameters are defined only once. This means that the same object is referenced as a default value when the function is called."
   ]
  },
  {
   "cell_type": "code",
   "execution_count": null,
   "id": "09a27d11",
   "metadata": {
    "slideshow": {
     "slide_type": "fragment"
    }
   },
   "outputs": [],
   "source": [
    "def append_42(sequence=[]):\n",
    "    sequence.append(42)\n",
    "    print(sequence)"
   ]
  },
  {
   "cell_type": "code",
   "execution_count": null,
   "id": "ba1ab5a1",
   "metadata": {
    "slideshow": {
     "slide_type": "fragment"
    }
   },
   "outputs": [],
   "source": [
    "append_42([1, 2, 3])"
   ]
  },
  {
   "cell_type": "code",
   "execution_count": null,
   "id": "cfc97225",
   "metadata": {
    "slideshow": {
     "slide_type": "fragment"
    }
   },
   "outputs": [],
   "source": [
    "append_42([\"red\", \"green\", \"yellow\"])"
   ]
  },
  {
   "cell_type": "code",
   "execution_count": null,
   "id": "88afe8ac",
   "metadata": {
    "slideshow": {
     "slide_type": "fragment"
    }
   },
   "outputs": [],
   "source": [
    "append_42()"
   ]
  },
  {
   "cell_type": "code",
   "execution_count": null,
   "id": "e95ad439",
   "metadata": {
    "slideshow": {
     "slide_type": "subslide"
    }
   },
   "outputs": [],
   "source": [
    "append_42()"
   ]
  },
  {
   "cell_type": "code",
   "execution_count": null,
   "id": "05a11ef7",
   "metadata": {
    "slideshow": {
     "slide_type": "fragment"
    }
   },
   "outputs": [],
   "source": [
    "append_42()"
   ]
  },
  {
   "cell_type": "markdown",
   "id": "0f5489c0",
   "metadata": {
    "slideshow": {
     "slide_type": "subslide"
    }
   },
   "source": [
    "Each time the function is called without providing an argument for the default parameter, the same list object is mutated. This can be verified by checking the object identifer via `id()` function."
   ]
  },
  {
   "cell_type": "code",
   "execution_count": null,
   "id": "1ffeed19",
   "metadata": {
    "slideshow": {
     "slide_type": "fragment"
    }
   },
   "outputs": [],
   "source": [
    "def append_42(sequence=[]):\n",
    "    print(f\"The id of default parameter is {id(sequence)}.\")\n",
    "    sequence.append(42)\n",
    "    print(sequence)"
   ]
  },
  {
   "cell_type": "code",
   "execution_count": null,
   "id": "6245ed64",
   "metadata": {
    "slideshow": {
     "slide_type": "fragment"
    }
   },
   "outputs": [],
   "source": [
    "append_42()"
   ]
  },
  {
   "cell_type": "code",
   "execution_count": null,
   "id": "a6552472",
   "metadata": {
    "slideshow": {
     "slide_type": "fragment"
    }
   },
   "outputs": [],
   "source": [
    "append_42()"
   ]
  },
  {
   "cell_type": "code",
   "execution_count": null,
   "id": "74d384d7",
   "metadata": {
    "slideshow": {
     "slide_type": "fragment"
    }
   },
   "outputs": [],
   "source": [
    "append_42()"
   ]
  },
  {
   "cell_type": "markdown",
   "id": "29b05445",
   "metadata": {
    "slideshow": {
     "slide_type": "subslide"
    }
   },
   "source": [
    "### Solution\n",
    "\n",
    "This problem can be resolved by using a sentinel value to indicate that no argument is passed to the function. Generally, `None` can be used as a sentinel value in this kind of situations."
   ]
  },
  {
   "cell_type": "code",
   "execution_count": null,
   "id": "79493605",
   "metadata": {
    "slideshow": {
     "slide_type": "fragment"
    }
   },
   "outputs": [],
   "source": [
    "def append_42(sequence=None):\n",
    "    if sequence is None:\n",
    "        sequence = []\n",
    "    sequence.append(42)\n",
    "    print(sequence)"
   ]
  },
  {
   "cell_type": "code",
   "execution_count": null,
   "id": "4486c35c",
   "metadata": {
    "slideshow": {
     "slide_type": "fragment"
    }
   },
   "outputs": [],
   "source": [
    "append_42()"
   ]
  },
  {
   "cell_type": "code",
   "execution_count": null,
   "id": "9dc6f1fd",
   "metadata": {
    "slideshow": {
     "slide_type": "fragment"
    }
   },
   "outputs": [],
   "source": [
    "append_42()"
   ]
  },
  {
   "cell_type": "code",
   "execution_count": null,
   "id": "25380d45",
   "metadata": {
    "slideshow": {
     "slide_type": "fragment"
    }
   },
   "outputs": [],
   "source": [
    "append_42()"
   ]
  },
  {
   "cell_type": "markdown",
   "id": "c6a030b9",
   "metadata": {
    "slideshow": {
     "slide_type": "slide"
    }
   },
   "source": [
    "# Functions as first-class objects\n",
    "\n",
    "Python is not a functional programming language, but it has some elements of functional programming. First-class objects is a fundamental feature of functional programming and Python has adopted it. **First-class objects** can be defined as a program entity that can be treated like any other normal object and has the following properties. It can be:\n",
    "\n",
    "- Created at runtime\n",
    "- Assigned to a variable or a data structure element\n",
    "- Passed as an argument to a function\n",
    "- Returned as a result from a function"
   ]
  },
  {
   "cell_type": "code",
   "execution_count": null,
   "id": "bda04ae0",
   "metadata": {
    "slideshow": {
     "slide_type": "slide"
    }
   },
   "outputs": [],
   "source": [
    "def greet(name):\n",
    "    return f\"Hello, {name.title()}\"\n",
    "\n",
    "greet"
   ]
  },
  {
   "cell_type": "code",
   "execution_count": null,
   "id": "40b956b9",
   "metadata": {
    "slideshow": {
     "slide_type": "fragment"
    }
   },
   "outputs": [],
   "source": [
    "greet(\"john doe\")"
   ]
  },
  {
   "cell_type": "code",
   "execution_count": null,
   "id": "26c4d1b8",
   "metadata": {
    "slideshow": {
     "slide_type": "fragment"
    }
   },
   "outputs": [],
   "source": [
    "hello = greet\n",
    "\n",
    "hello"
   ]
  },
  {
   "cell_type": "code",
   "execution_count": null,
   "id": "b146c129",
   "metadata": {
    "slideshow": {
     "slide_type": "fragment"
    }
   },
   "outputs": [],
   "source": [
    "hello(\"Alice smith\")"
   ]
  },
  {
   "cell_type": "code",
   "execution_count": null,
   "id": "641f3bed",
   "metadata": {
    "slideshow": {
     "slide_type": "slide"
    }
   },
   "outputs": [],
   "source": [
    "functions = [\n",
    "    lambda x, y: x + y,\n",
    "    lambda x, y: x - y,   \n",
    "]"
   ]
  },
  {
   "cell_type": "code",
   "execution_count": null,
   "id": "7ac234bf",
   "metadata": {
    "slideshow": {
     "slide_type": "fragment"
    }
   },
   "outputs": [],
   "source": [
    "def multiply(x, y):\n",
    "    return x * y\n",
    "\n",
    "def divide(x, y):\n",
    "    return x / y"
   ]
  },
  {
   "cell_type": "code",
   "execution_count": null,
   "id": "c04cf318",
   "metadata": {
    "slideshow": {
     "slide_type": "fragment"
    }
   },
   "outputs": [],
   "source": [
    "functions.append(multiply)\n",
    "functions.append(divide)\n",
    "\n",
    "functions"
   ]
  },
  {
   "cell_type": "code",
   "execution_count": null,
   "id": "4d2142b1",
   "metadata": {
    "slideshow": {
     "slide_type": "fragment"
    }
   },
   "outputs": [],
   "source": [
    "for func in functions:\n",
    "    print(func(25, 4))"
   ]
  },
  {
   "cell_type": "markdown",
   "id": "00d9dfaa",
   "metadata": {
    "slideshow": {
     "slide_type": "slide"
    }
   },
   "source": [
    "# Higher-order functions\n",
    "\n",
    "Functions that take other functions as an argument or return a function as a result are called higher-order functions."
   ]
  },
  {
   "cell_type": "markdown",
   "id": "63a75399",
   "metadata": {
    "slideshow": {
     "slide_type": "slide"
    }
   },
   "source": [
    "### Function that accepts a function as an argument"
   ]
  },
  {
   "cell_type": "code",
   "execution_count": null,
   "id": "e10224c3",
   "metadata": {
    "slideshow": {
     "slide_type": "fragment"
    }
   },
   "outputs": [],
   "source": [
    "def calculate(func, x, y):\n",
    "    result = func(x, y)\n",
    "    return result"
   ]
  },
  {
   "cell_type": "code",
   "execution_count": null,
   "id": "8b82ae79",
   "metadata": {
    "slideshow": {
     "slide_type": "fragment"
    }
   },
   "outputs": [],
   "source": [
    "calculate(multiply, 5, 10)"
   ]
  },
  {
   "cell_type": "code",
   "execution_count": null,
   "id": "b7e70d34",
   "metadata": {
    "slideshow": {
     "slide_type": "fragment"
    }
   },
   "outputs": [],
   "source": [
    "calculate(divide, 5, 10)"
   ]
  },
  {
   "cell_type": "code",
   "execution_count": null,
   "id": "a634572d",
   "metadata": {
    "slideshow": {
     "slide_type": "fragment"
    }
   },
   "outputs": [],
   "source": [
    "calculate(lambda x, y: x + y, 5, 10)"
   ]
  },
  {
   "cell_type": "code",
   "execution_count": null,
   "id": "f6a7572b",
   "metadata": {
    "slideshow": {
     "slide_type": "fragment"
    }
   },
   "outputs": [],
   "source": [
    "calculate(lambda x, y: x - y, 5, 10)"
   ]
  },
  {
   "cell_type": "markdown",
   "id": "66cc3902",
   "metadata": {
    "slideshow": {
     "slide_type": "slide"
    }
   },
   "source": [
    "### Function returns a function as a result"
   ]
  },
  {
   "cell_type": "code",
   "execution_count": null,
   "id": "4743b6d5",
   "metadata": {
    "slideshow": {
     "slide_type": "fragment"
    }
   },
   "outputs": [],
   "source": [
    "def build_multiplier(x):\n",
    "    def multipler(y):\n",
    "        return x * y\n",
    "    return multipler"
   ]
  },
  {
   "cell_type": "code",
   "execution_count": null,
   "id": "3ded7eb7",
   "metadata": {
    "slideshow": {
     "slide_type": "fragment"
    }
   },
   "outputs": [],
   "source": [
    "multipler_by_4 = build_multiplier(4)\n",
    "multipler_by_4"
   ]
  },
  {
   "cell_type": "code",
   "execution_count": null,
   "id": "2ce0ff93",
   "metadata": {
    "slideshow": {
     "slide_type": "fragment"
    }
   },
   "outputs": [],
   "source": [
    "multipler_by_4(12)"
   ]
  },
  {
   "cell_type": "markdown",
   "id": "cc0f5fad",
   "metadata": {
    "slideshow": {
     "slide_type": "fragment"
    }
   },
   "source": [
    "This is an example of a **closure**, which is a function with an extended scope that encompasses variables referenced in its body which are neither global variables nor local variables of the closure, but are defined in the local scope of the outer function enclosing the closure."
   ]
  },
  {
   "cell_type": "markdown",
   "id": "23fb3647",
   "metadata": {
    "slideshow": {
     "slide_type": "slide"
    }
   },
   "source": [
    "## `sorted()` with a `key` argument\n",
    "\n",
    "Function `sorted()` accepts an optional `key` argument that is a function determining the sorting criterion."
   ]
  },
  {
   "cell_type": "code",
   "execution_count": null,
   "id": "34deb88b",
   "metadata": {},
   "outputs": [],
   "source": [
    "students = [\n",
    "    {\"name\": \"John Doe\", \"age\": 18, \"gpa\": 19.6},\n",
    "    {\"name\": \"Alice Smith\", \"age\": 22, \"gpa\": 19.85},\n",
    "    {\"name\": \"Bob\", \"age\": 21, \"gpa\": 18.3},\n",
    "]"
   ]
  },
  {
   "cell_type": "code",
   "execution_count": null,
   "id": "06b5143f",
   "metadata": {},
   "outputs": [],
   "source": [
    "sorted(students, key=lambda student: student[\"age\"])"
   ]
  },
  {
   "cell_type": "code",
   "execution_count": null,
   "id": "6c0b2428",
   "metadata": {},
   "outputs": [],
   "source": [
    "sorted(students, key=lambda student: student[\"gpa\"])"
   ]
  },
  {
   "cell_type": "markdown",
   "id": "9eb2af21",
   "metadata": {
    "slideshow": {
     "slide_type": "slide"
    }
   },
   "source": [
    "# Iterables and iterators\n",
    "\n",
    "**Iterables** are any object that can be passed to the `iter` built-in function, which can obtain an **iterator** from an iterable. In other words, Python obtains iterators from iterables.\n",
    "\n",
    "Sequences are iterables, for example."
   ]
  },
  {
   "cell_type": "code",
   "execution_count": null,
   "id": "8a604a20",
   "metadata": {
    "slideshow": {
     "slide_type": "fragment"
    }
   },
   "outputs": [],
   "source": [
    "iter(\"hello world\")"
   ]
  },
  {
   "cell_type": "code",
   "execution_count": null,
   "id": "224fb7ba",
   "metadata": {
    "slideshow": {
     "slide_type": "fragment"
    }
   },
   "outputs": [],
   "source": [
    "iter([1, 2, 3])"
   ]
  },
  {
   "cell_type": "code",
   "execution_count": null,
   "id": "1927422d",
   "metadata": {
    "slideshow": {
     "slide_type": "fragment"
    }
   },
   "outputs": [],
   "source": [
    "iter((1, 2, 3))"
   ]
  },
  {
   "cell_type": "code",
   "execution_count": null,
   "id": "efad5ea7",
   "metadata": {
    "slideshow": {
     "slide_type": "fragment"
    }
   },
   "outputs": [],
   "source": [
    "iter({1, 2, 3})"
   ]
  },
  {
   "cell_type": "code",
   "execution_count": null,
   "id": "640d9370",
   "metadata": {
    "slideshow": {
     "slide_type": "fragment"
    }
   },
   "outputs": [],
   "source": [
    "iter({\"name\": \"John Doe\", \"age\": 42})"
   ]
  },
  {
   "cell_type": "code",
   "execution_count": null,
   "id": "590a2dad",
   "metadata": {
    "slideshow": {
     "slide_type": "slide"
    }
   },
   "outputs": [],
   "source": [
    "iter(42)"
   ]
  },
  {
   "cell_type": "code",
   "execution_count": null,
   "id": "773d93bb",
   "metadata": {
    "slideshow": {
     "slide_type": "fragment"
    }
   },
   "outputs": [],
   "source": [
    "iter(1 + 2j)"
   ]
  },
  {
   "cell_type": "markdown",
   "id": "84841b85",
   "metadata": {
    "slideshow": {
     "slide_type": "slide"
    }
   },
   "source": [
    "# Iterators\n",
    "\n",
    "Iterators are obtained from iterables. Iterators are objects that produce successive values from its related iterable.\n",
    "\n",
    "`next()` built-in function can be used to retrieve the item from the iterator."
   ]
  },
  {
   "cell_type": "code",
   "execution_count": null,
   "id": "8021dff3",
   "metadata": {
    "slideshow": {
     "slide_type": "fragment"
    }
   },
   "outputs": [],
   "source": [
    "sequence = [42, \"John Doe\", False]\n",
    "it = iter(sequence)\n",
    "it"
   ]
  },
  {
   "cell_type": "code",
   "execution_count": null,
   "id": "09ca9c3b",
   "metadata": {
    "slideshow": {
     "slide_type": "fragment"
    }
   },
   "outputs": [],
   "source": [
    "next(it)"
   ]
  },
  {
   "cell_type": "code",
   "execution_count": null,
   "id": "d68c3cfb",
   "metadata": {
    "slideshow": {
     "slide_type": "fragment"
    }
   },
   "outputs": [],
   "source": [
    "next(it)"
   ]
  },
  {
   "cell_type": "code",
   "execution_count": null,
   "id": "1fcfb887",
   "metadata": {
    "slideshow": {
     "slide_type": "fragment"
    }
   },
   "outputs": [],
   "source": [
    "next(it)"
   ]
  },
  {
   "cell_type": "code",
   "execution_count": null,
   "id": "cfa38749",
   "metadata": {
    "slideshow": {
     "slide_type": "subslide"
    }
   },
   "outputs": [],
   "source": [
    "next(it)"
   ]
  },
  {
   "cell_type": "code",
   "execution_count": null,
   "id": "d4eea8eb",
   "metadata": {
    "slideshow": {
     "slide_type": "fragment"
    }
   },
   "outputs": [],
   "source": [
    "next(it, \"some default value\")"
   ]
  },
  {
   "cell_type": "code",
   "execution_count": null,
   "id": "13a75056",
   "metadata": {
    "slideshow": {
     "slide_type": "slide"
    }
   },
   "outputs": [],
   "source": [
    "def my_for(iterable, func):\n",
    "    it = iter(iterable)\n",
    "    while True:\n",
    "        item = next(it, None)\n",
    "        if item is None:\n",
    "            break\n",
    "        func(item)"
   ]
  },
  {
   "cell_type": "code",
   "execution_count": null,
   "id": "681ed562",
   "metadata": {
    "slideshow": {
     "slide_type": "fragment"
    }
   },
   "outputs": [],
   "source": [
    "my_for([10, 20, 30], print)"
   ]
  },
  {
   "cell_type": "markdown",
   "id": "a88abdf5",
   "metadata": {
    "slideshow": {
     "slide_type": "slide"
    }
   },
   "source": [
    "# Generators\n",
    "\n",
    "**Generator functions** are special functions that return lazy iterators. Lazy evaluation is a technique which delays the evaluation of an expression until its value is needed.\n",
    "\n",
    "Generator functions use `yield` keyword to return results one at a time, suspending and resuming their state between each.\n",
    "\n",
    "Generator functions are factories for generator objects.\n",
    "\n",
    "Reference: [PEP 255 – Simple Generators](https://peps.python.org/pep-0255/)"
   ]
  },
  {
   "cell_type": "markdown",
   "id": "149cc6d4",
   "metadata": {},
   "source": [
    "### Example 1"
   ]
  },
  {
   "cell_type": "code",
   "execution_count": null,
   "id": "f4b95103",
   "metadata": {
    "slideshow": {
     "slide_type": "slide"
    }
   },
   "outputs": [],
   "source": [
    "def gen_123():\n",
    "    print(\"start\")\n",
    "    yield 1\n",
    "    print(\"continue after 1\")\n",
    "    yield 2\n",
    "    print(\"continue after 2\")\n",
    "    yield 3\n",
    "    print(\"end\")\n",
    "    \n",
    "gen_123"
   ]
  },
  {
   "cell_type": "code",
   "execution_count": null,
   "id": "15333816",
   "metadata": {
    "slideshow": {
     "slide_type": "fragment"
    }
   },
   "outputs": [],
   "source": [
    "generator = gen_123()\n",
    "generator"
   ]
  },
  {
   "cell_type": "code",
   "execution_count": null,
   "id": "72ee4ee8",
   "metadata": {
    "slideshow": {
     "slide_type": "slide"
    }
   },
   "outputs": [],
   "source": [
    "next(generator)"
   ]
  },
  {
   "cell_type": "code",
   "execution_count": null,
   "id": "46044d62",
   "metadata": {
    "slideshow": {
     "slide_type": "fragment"
    }
   },
   "outputs": [],
   "source": [
    "next(generator)"
   ]
  },
  {
   "cell_type": "code",
   "execution_count": null,
   "id": "ea39e84f",
   "metadata": {
    "slideshow": {
     "slide_type": "fragment"
    }
   },
   "outputs": [],
   "source": [
    "next(generator)"
   ]
  },
  {
   "cell_type": "code",
   "execution_count": null,
   "id": "615e2393",
   "metadata": {
    "slideshow": {
     "slide_type": "fragment"
    }
   },
   "outputs": [],
   "source": [
    "next(generator)"
   ]
  },
  {
   "cell_type": "code",
   "execution_count": null,
   "id": "3e3340e1",
   "metadata": {
    "slideshow": {
     "slide_type": "slide"
    }
   },
   "outputs": [],
   "source": [
    "for i in gen_123():\n",
    "    print(i)"
   ]
  },
  {
   "cell_type": "markdown",
   "id": "14ffa004",
   "metadata": {
    "slideshow": {
     "slide_type": "slide"
    }
   },
   "source": [
    "### Example 2\n",
    "\n",
    "Generating an infinite sequence."
   ]
  },
  {
   "cell_type": "code",
   "execution_count": null,
   "id": "a14f50da",
   "metadata": {
    "slideshow": {
     "slide_type": "fragment"
    }
   },
   "outputs": [],
   "source": [
    "def gen_infinite_sequence():\n",
    "    number = 0\n",
    "    while True:\n",
    "        yield number\n",
    "        number += 1"
   ]
  },
  {
   "cell_type": "code",
   "execution_count": null,
   "id": "4d070320",
   "metadata": {
    "slideshow": {
     "slide_type": "fragment"
    }
   },
   "outputs": [],
   "source": [
    "infinite_sequence = gen_infinite_sequence()\n",
    "print(next(infinite_sequence))\n",
    "print(next(infinite_sequence))\n",
    "print(next(infinite_sequence))\n",
    "print(next(infinite_sequence))\n",
    "print(next(infinite_sequence))"
   ]
  },
  {
   "cell_type": "markdown",
   "id": "c1e93f79",
   "metadata": {
    "slideshow": {
     "slide_type": "slide"
    }
   },
   "source": [
    "# Generator expressions\n",
    "\n",
    "Generator expressions allow us to create generator objects with list comprehension style.\n",
    "\n",
    "```python\n",
    "(<expression> for <item> in <iterable>)\n",
    "```"
   ]
  },
  {
   "cell_type": "code",
   "execution_count": null,
   "id": "4d1abf66",
   "metadata": {
    "slideshow": {
     "slide_type": "fragment"
    }
   },
   "outputs": [],
   "source": [
    "list_comp = [number for number in range(10 ** 8)]\n",
    "list_comp[:10]"
   ]
  },
  {
   "cell_type": "code",
   "execution_count": null,
   "id": "6a8c82ae",
   "metadata": {
    "slideshow": {
     "slide_type": "fragment"
    }
   },
   "outputs": [],
   "source": [
    "list_expr = (number for number in range(10 ** 8))\n",
    "list_expr"
   ]
  },
  {
   "cell_type": "code",
   "execution_count": null,
   "id": "15ff4283",
   "metadata": {
    "slideshow": {
     "slide_type": "fragment"
    }
   },
   "outputs": [],
   "source": [
    "print(next(list_expr))\n",
    "print(next(list_expr))\n",
    "print(next(list_expr))\n",
    "print(next(list_expr))\n",
    "print(next(list_expr))"
   ]
  },
  {
   "cell_type": "code",
   "execution_count": null,
   "id": "6058cf03",
   "metadata": {
    "slideshow": {
     "slide_type": "fragment"
    }
   },
   "outputs": [],
   "source": [
    "\"\".join((str(number) for number in range(10)))"
   ]
  },
  {
   "cell_type": "code",
   "execution_count": null,
   "id": "0d6b6b50",
   "metadata": {
    "slideshow": {
     "slide_type": "fragment"
    }
   },
   "outputs": [],
   "source": [
    "\"\".join(str(number) for number in range(10))"
   ]
  },
  {
   "cell_type": "markdown",
   "id": "5de41e24",
   "metadata": {
    "slideshow": {
     "slide_type": "slide"
    }
   },
   "source": [
    "# Subgenerators with `yield from`\n",
    "\n",
    "`yield from` keyword can be used in a generator to delegate work to another subgenerator."
   ]
  },
  {
   "cell_type": "code",
   "execution_count": null,
   "id": "df993516",
   "metadata": {
    "slideshow": {
     "slide_type": "fragment"
    }
   },
   "outputs": [],
   "source": [
    "def sub_gen():\n",
    "    yield \"foo\"\n",
    "    yield \"bar\"\n",
    "\n",
    "# Instead of writing:\n",
    "def gen():\n",
    "    yield \"start\"\n",
    "    for el in sub_gen():\n",
    "        yield el\n",
    "    yield \"end\"\n",
    "    \n",
    "for el in gen():\n",
    "    print(el)"
   ]
  },
  {
   "cell_type": "code",
   "execution_count": null,
   "id": "fc08aa94",
   "metadata": {
    "slideshow": {
     "slide_type": "slide"
    }
   },
   "outputs": [],
   "source": [
    "def sub_gen():\n",
    "    yield \"foo\"\n",
    "    yield \"bar\"\n",
    "    \n",
    "# You can simple write:\n",
    "def gen():\n",
    "    yield \"start\"\n",
    "    yield from sub_gen()\n",
    "    yield \"end\"\n",
    "    \n",
    "for el in gen():\n",
    "    print(el)"
   ]
  },
  {
   "cell_type": "code",
   "execution_count": null,
   "id": "312b1136",
   "metadata": {
    "slideshow": {
     "slide_type": "fragment"
    }
   },
   "outputs": [],
   "source": [
    "def sub_gen():\n",
    "    yield \"foo\"\n",
    "    yield \"bar\"\n",
    "    return \"baz\"\n",
    "    \n",
    "def gen():\n",
    "    yield \"start\"\n",
    "    result = yield from sub_gen()\n",
    "    print(f\"returned from sub_gen: {result}\")\n",
    "    yield \"end\"\n",
    "    \n",
    "for el in gen():\n",
    "    print(el)"
   ]
  },
  {
   "cell_type": "markdown",
   "id": "c85d1b24",
   "metadata": {
    "slideshow": {
     "slide_type": "slide"
    }
   },
   "source": [
    "# Generator Functions in the Standard Library"
   ]
  },
  {
   "cell_type": "markdown",
   "id": "66e25e62",
   "metadata": {
    "slideshow": {
     "slide_type": "slide"
    }
   },
   "source": [
    "### `filter(predicate, it)`\n",
    "\n",
    "This function applies `predicate` to each item in `it`, yielding the item if the predicate result is truthy."
   ]
  },
  {
   "cell_type": "code",
   "execution_count": null,
   "id": "c7928f89",
   "metadata": {
    "scrolled": true,
    "slideshow": {
     "slide_type": "fragment"
    }
   },
   "outputs": [],
   "source": [
    "filtered = filter(lambda x: x % 2 == 0, [5, 2, 4, 1, 12])\n",
    "filtered"
   ]
  },
  {
   "cell_type": "code",
   "execution_count": null,
   "id": "56ea5b6c",
   "metadata": {
    "slideshow": {
     "slide_type": "fragment"
    }
   },
   "outputs": [],
   "source": [
    "list(filtered)"
   ]
  },
  {
   "cell_type": "code",
   "execution_count": null,
   "id": "1e06a2e1",
   "metadata": {
    "slideshow": {
     "slide_type": "fragment"
    }
   },
   "outputs": [],
   "source": [
    "for el in filtered:\n",
    "    print(el)"
   ]
  },
  {
   "cell_type": "markdown",
   "id": "6bc30a35",
   "metadata": {
    "slideshow": {
     "slide_type": "slide"
    }
   },
   "source": [
    "### `enumerate(iterable, start=0)`\n",
    "\n",
    "This function yields tuples of the form `(index, item)`, where `index` is counted from `start`, and `item` is taken from the `iterable`."
   ]
  },
  {
   "cell_type": "code",
   "execution_count": null,
   "id": "2f18d3ed",
   "metadata": {
    "slideshow": {
     "slide_type": "fragment"
    }
   },
   "outputs": [],
   "source": [
    "enumerated = enumerate([5, 2, 4, 1, 12])\n",
    "enumerated"
   ]
  },
  {
   "cell_type": "code",
   "execution_count": null,
   "id": "d7902e1b",
   "metadata": {
    "slideshow": {
     "slide_type": "fragment"
    }
   },
   "outputs": [],
   "source": [
    "list(enumerated)"
   ]
  },
  {
   "cell_type": "code",
   "execution_count": null,
   "id": "d01b6360",
   "metadata": {
    "slideshow": {
     "slide_type": "fragment"
    }
   },
   "outputs": [],
   "source": [
    "for index, item in enumerate([5, 2, 4, 1, 12]):\n",
    "    print(f\"{index} => {item}\")"
   ]
  },
  {
   "cell_type": "markdown",
   "id": "b372bf26",
   "metadata": {
    "slideshow": {
     "slide_type": "slide"
    }
   },
   "source": [
    "### `map(func, it1, [it2, …, itN])`\n",
    "\n",
    "This function applies `func` to each item of `it`, yielding the result; if `N` iterables are given, `func` must take `N` arguments and the iterables will be consumed in parallel."
   ]
  },
  {
   "cell_type": "code",
   "execution_count": null,
   "id": "9b850c25",
   "metadata": {
    "slideshow": {
     "slide_type": "fragment"
    }
   },
   "outputs": [],
   "source": [
    "mapped = map(lambda x: x ** 2, [5, 2, 4, 1, 12])\n",
    "mapped"
   ]
  },
  {
   "cell_type": "code",
   "execution_count": null,
   "id": "b84b00d4",
   "metadata": {
    "slideshow": {
     "slide_type": "fragment"
    }
   },
   "outputs": [],
   "source": [
    "list(mapped)"
   ]
  },
  {
   "cell_type": "code",
   "execution_count": null,
   "id": "cbd8e512",
   "metadata": {
    "slideshow": {
     "slide_type": "fragment"
    }
   },
   "outputs": [],
   "source": [
    "mapped = map(lambda x, y: (x, y), [5, 2, 4, 1, 12], range(5))\n",
    "list(mapped)"
   ]
  },
  {
   "cell_type": "code",
   "execution_count": null,
   "id": "88a3db74",
   "metadata": {
    "slideshow": {
     "slide_type": "fragment"
    }
   },
   "outputs": [],
   "source": [
    "import operator\n",
    "\n",
    "mapped = map(operator.mul, [5, 2, 4, 1, 12], range(10))\n",
    "list(mapped)"
   ]
  },
  {
   "cell_type": "markdown",
   "id": "e79d3187",
   "metadata": {
    "slideshow": {
     "slide_type": "slide"
    }
   },
   "source": [
    "### `zip(it1, …, itN, strict=False)`\n",
    "\n",
    "This function yields `N`-tuples built from items taken from the iterables in parallel, silently stopping when the first iterable is exhausted, unless `strict=True` is given."
   ]
  },
  {
   "cell_type": "code",
   "execution_count": null,
   "id": "0e1e1047",
   "metadata": {
    "slideshow": {
     "slide_type": "fragment"
    }
   },
   "outputs": [],
   "source": [
    "zipped = zip([5, 2, 4, 1, 12], range(5))\n",
    "zipped"
   ]
  },
  {
   "cell_type": "code",
   "execution_count": null,
   "id": "dfa3b5ee",
   "metadata": {
    "slideshow": {
     "slide_type": "fragment"
    }
   },
   "outputs": [],
   "source": [
    "list(zipped)"
   ]
  },
  {
   "cell_type": "code",
   "execution_count": null,
   "id": "4075be35",
   "metadata": {
    "slideshow": {
     "slide_type": "fragment"
    }
   },
   "outputs": [],
   "source": [
    "zipped = zip(\"aeiou\", range(10))\n",
    "list(zipped)"
   ]
  },
  {
   "cell_type": "code",
   "execution_count": null,
   "id": "e7fac23b",
   "metadata": {
    "slideshow": {
     "slide_type": "fragment"
    }
   },
   "outputs": [],
   "source": [
    "zipped = zip(\"aeiou\", range(10), strict=True)\n",
    "list(zipped)"
   ]
  },
  {
   "cell_type": "markdown",
   "id": "20a989fe",
   "metadata": {
    "slideshow": {
     "slide_type": "slide"
    }
   },
   "source": [
    "### `reversed(seq)`\n",
    "\n",
    "This function yields items from `seq` in reverse order, from last to first."
   ]
  },
  {
   "cell_type": "code",
   "execution_count": null,
   "id": "a671ac98",
   "metadata": {
    "slideshow": {
     "slide_type": "fragment"
    }
   },
   "outputs": [],
   "source": [
    "rev = reversed([5, 2, 4, 1, 12])\n",
    "rev"
   ]
  },
  {
   "cell_type": "code",
   "execution_count": null,
   "id": "5f0bfb38",
   "metadata": {
    "slideshow": {
     "slide_type": "fragment"
    }
   },
   "outputs": [],
   "source": [
    "list(rev)"
   ]
  },
  {
   "cell_type": "markdown",
   "id": "5d80c27e",
   "metadata": {
    "slideshow": {
     "slide_type": "slide"
    }
   },
   "source": [
    "# `itertools`"
   ]
  },
  {
   "cell_type": "markdown",
   "id": "a246c5ae",
   "metadata": {},
   "source": [
    "The `itertools` module provides powerful functions for working with iterators. It includes tools for iteration, combination, permutation, filtering, and infinite sequences."
   ]
  },
  {
   "cell_type": "code",
   "execution_count": null,
   "id": "ee32df0b",
   "metadata": {
    "slideshow": {
     "slide_type": "fragment"
    }
   },
   "outputs": [],
   "source": [
    "import itertools"
   ]
  },
  {
   "cell_type": "markdown",
   "id": "2e364fa5",
   "metadata": {
    "slideshow": {
     "slide_type": "slide"
    }
   },
   "source": [
    "### `itertools.combinations(it, out_len)`\n",
    "\n",
    "This function yields combinations of `out_len` items from the items yielded by `it`."
   ]
  },
  {
   "cell_type": "code",
   "execution_count": null,
   "id": "b67ca9ca",
   "metadata": {
    "slideshow": {
     "slide_type": "fragment"
    }
   },
   "outputs": [],
   "source": [
    "comb = itertools.combinations(range(5), 2)\n",
    "comb"
   ]
  },
  {
   "cell_type": "code",
   "execution_count": null,
   "id": "3d5a14bf",
   "metadata": {
    "slideshow": {
     "slide_type": "fragment"
    }
   },
   "outputs": [],
   "source": [
    "list(comb)"
   ]
  },
  {
   "cell_type": "markdown",
   "id": "9792cc7e",
   "metadata": {
    "slideshow": {
     "slide_type": "slide"
    }
   },
   "source": [
    "### `itertools.permutations(it, out_len=None)`\n",
    "\n",
    "This function yields permutations of `out_len` items from the items yielded by `it`; by default, `out_len` is `len(list(it))`."
   ]
  },
  {
   "cell_type": "code",
   "execution_count": null,
   "id": "4b562677",
   "metadata": {
    "slideshow": {
     "slide_type": "fragment"
    }
   },
   "outputs": [],
   "source": [
    "perm = itertools.permutations(range(5), 2)\n",
    "perm"
   ]
  },
  {
   "cell_type": "code",
   "execution_count": null,
   "id": "3c944790",
   "metadata": {
    "slideshow": {
     "slide_type": "fragment"
    }
   },
   "outputs": [],
   "source": [
    "list(perm)"
   ]
  },
  {
   "cell_type": "code",
   "execution_count": null,
   "id": "5477aded",
   "metadata": {
    "slideshow": {
     "slide_type": "fragment"
    }
   },
   "outputs": [],
   "source": [
    "list(itertools.permutations(range(5)))"
   ]
  },
  {
   "cell_type": "markdown",
   "id": "e3f42ad3",
   "metadata": {
    "slideshow": {
     "slide_type": "slide"
    }
   },
   "source": [
    "### `itertools.repeat(item, [times])`\n",
    "\n",
    "This function yields the given `item` repeatedly, indefinitely unless a number of `times` is given."
   ]
  },
  {
   "cell_type": "code",
   "execution_count": null,
   "id": "9fa62e61",
   "metadata": {
    "slideshow": {
     "slide_type": "fragment"
    }
   },
   "outputs": [],
   "source": [
    "rp = itertools.repeat(42)\n",
    "rp"
   ]
  },
  {
   "cell_type": "code",
   "execution_count": null,
   "id": "3d08a08b",
   "metadata": {
    "slideshow": {
     "slide_type": "fragment"
    }
   },
   "outputs": [],
   "source": [
    "print(next(rp))\n",
    "print(next(rp))\n",
    "print(next(rp))"
   ]
  },
  {
   "cell_type": "code",
   "execution_count": null,
   "id": "a8a2a17f",
   "metadata": {
    "slideshow": {
     "slide_type": "fragment"
    }
   },
   "outputs": [],
   "source": [
    "rp = itertools.repeat(42, 5)\n",
    "list(rp)"
   ]
  },
  {
   "cell_type": "markdown",
   "id": "86c87248",
   "metadata": {},
   "source": [
    "### `itertools.chain(*iterables)`\n",
    "\n",
    "This function combines multiple iterables into one."
   ]
  },
  {
   "cell_type": "code",
   "execution_count": null,
   "id": "e1802cdc",
   "metadata": {},
   "outputs": [],
   "source": [
    "ch = itertools.chain([1, 2], [\"A\", \"B\", \"C\"])\n",
    "ch"
   ]
  },
  {
   "cell_type": "code",
   "execution_count": null,
   "id": "55c6bd5f",
   "metadata": {},
   "outputs": [],
   "source": [
    "list(ch)"
   ]
  },
  {
   "cell_type": "markdown",
   "id": "ba0ae833",
   "metadata": {},
   "source": [
    "### `itertools.takewhile(predicate, iterable)`\n",
    "\n",
    "This function yields values from `iterable` as long as `predicate` is true."
   ]
  },
  {
   "cell_type": "code",
   "execution_count": null,
   "id": "5efd878d",
   "metadata": {},
   "outputs": [],
   "source": [
    "values = [1, 2, 3, 4, 5, 6, 7, 8, 9, 2, 3, 4, 10]\n",
    "\n",
    "it = itertools.takewhile(lambda x: x < 7, values)\n",
    "it"
   ]
  },
  {
   "cell_type": "code",
   "execution_count": null,
   "id": "91f0d692",
   "metadata": {},
   "outputs": [],
   "source": [
    "list(it)"
   ]
  },
  {
   "cell_type": "markdown",
   "id": "2f486888",
   "metadata": {},
   "source": [
    "See more at https://docs.python.org/3/library/itertools.html"
   ]
  },
  {
   "cell_type": "markdown",
   "id": "7a523a06",
   "metadata": {
    "slideshow": {
     "slide_type": "slide"
    }
   },
   "source": [
    "# Decorators\n",
    "\n",
    "Decorators are functions that transform and extend other functions without explicitly modifying it.\n",
    "\n",
    "[PEP 318 – Decorators for Functions and Methods](https://peps.python.org/pep-0318/)"
   ]
  },
  {
   "cell_type": "code",
   "execution_count": null,
   "id": "3401f548",
   "metadata": {},
   "outputs": [],
   "source": [
    "def do_twice(func):\n",
    "    def wrapper(*args, **kwargs):\n",
    "        func(*args, **kwargs)\n",
    "        return func(*args, **kwargs)\n",
    "    return wrapper"
   ]
  },
  {
   "cell_type": "code",
   "execution_count": null,
   "id": "5d84d13e",
   "metadata": {},
   "outputs": [],
   "source": [
    "@do_twice\n",
    "def greet_with_name(name):\n",
    "    greeting = f\"Hello, {name}!\"\n",
    "    print(greeting)\n",
    "    return name, greeting"
   ]
  },
  {
   "cell_type": "code",
   "execution_count": null,
   "id": "28fe63a9",
   "metadata": {},
   "outputs": [],
   "source": [
    "result = greet_with_name(\"John Doe\")\n",
    "result"
   ]
  },
  {
   "cell_type": "markdown",
   "id": "af85141f",
   "metadata": {
    "slideshow": {
     "slide_type": "slide"
    }
   },
   "source": [
    "# Syntactic sugar\n",
    "\n",
    "Decorators can be used in a much simpler way with the `@` symbol, also known as pie syntax."
   ]
  },
  {
   "cell_type": "code",
   "execution_count": null,
   "id": "c21d8d2a",
   "metadata": {},
   "outputs": [],
   "source": [
    "def greet_with_name(name):\n",
    "    greeting = f\"Hello, {name}!\"\n",
    "    print(greeting)\n",
    "    return name, greeting\n",
    "\n",
    "greet_with_name = do_twice(greet_with_name)"
   ]
  },
  {
   "cell_type": "code",
   "execution_count": null,
   "id": "f89e4b3b",
   "metadata": {},
   "outputs": [],
   "source": [
    "result = greet_with_name(\"John Doe\")\n",
    "result"
   ]
  },
  {
   "cell_type": "markdown",
   "id": "67ddf7da",
   "metadata": {
    "slideshow": {
     "slide_type": "slide"
    }
   },
   "source": [
    "## Introspection\n",
    "\n",
    "Type introspection is the ability of a program to examine the type or properties of an object at runtime."
   ]
  },
  {
   "cell_type": "code",
   "execution_count": null,
   "id": "d9041599",
   "metadata": {
    "slideshow": {
     "slide_type": "fragment"
    }
   },
   "outputs": [],
   "source": [
    "print"
   ]
  },
  {
   "cell_type": "code",
   "execution_count": null,
   "id": "a665aac0",
   "metadata": {
    "slideshow": {
     "slide_type": "fragment"
    }
   },
   "outputs": [],
   "source": [
    "print.__name__"
   ]
  },
  {
   "cell_type": "code",
   "execution_count": null,
   "id": "b66a88c2",
   "metadata": {},
   "outputs": [],
   "source": [
    "print.__doc__"
   ]
  },
  {
   "cell_type": "code",
   "execution_count": null,
   "id": "e17c5849",
   "metadata": {
    "slideshow": {
     "slide_type": "fragment"
    }
   },
   "outputs": [],
   "source": [
    "help(print)"
   ]
  },
  {
   "cell_type": "code",
   "execution_count": null,
   "id": "6f7d4b03",
   "metadata": {},
   "outputs": [],
   "source": [
    "def hello(name):\n",
    "    \"\"\"Function that says hello to a person\"\"\"\n",
    "    return f\"Hello {name}\""
   ]
  },
  {
   "cell_type": "code",
   "execution_count": null,
   "id": "2d038367",
   "metadata": {},
   "outputs": [],
   "source": [
    "help(hello)"
   ]
  },
  {
   "cell_type": "markdown",
   "id": "0668cd6a",
   "metadata": {},
   "source": [
    "As a decorator is used on the function `greet_with_name`, it has lost its original information, such as name and documentation."
   ]
  },
  {
   "cell_type": "code",
   "execution_count": null,
   "id": "6ec31e7b",
   "metadata": {},
   "outputs": [],
   "source": [
    "help(greet_with_name)"
   ]
  },
  {
   "cell_type": "markdown",
   "id": "47a75474",
   "metadata": {
    "slideshow": {
     "slide_type": "slide"
    }
   },
   "source": [
    "### @functools.wraps\n",
    "\n",
    "This decorator allows us to keep the original information of the decorated function."
   ]
  },
  {
   "cell_type": "code",
   "execution_count": null,
   "id": "2852a66d",
   "metadata": {
    "slideshow": {
     "slide_type": "fragment"
    }
   },
   "outputs": [],
   "source": [
    "import functools\n",
    "\n",
    "def do_twice(func):\n",
    "    @functools.wraps(func)\n",
    "    def wrapper(*args, **kwargs):\n",
    "        func(*args, **kwargs)\n",
    "        return func(*args, **kwargs)\n",
    "    return wrapper"
   ]
  },
  {
   "cell_type": "code",
   "execution_count": null,
   "id": "1daa27d1",
   "metadata": {
    "slideshow": {
     "slide_type": "fragment"
    }
   },
   "outputs": [],
   "source": [
    "@do_twice\n",
    "def greet_with_name(name):\n",
    "    \"\"\"Function that greets a person\"\"\"\n",
    "    greeting = f\"Hello, {name}!\"\n",
    "    print(greeting)\n",
    "    return name, greeting"
   ]
  },
  {
   "cell_type": "code",
   "execution_count": null,
   "id": "885a6d80",
   "metadata": {
    "slideshow": {
     "slide_type": "fragment"
    }
   },
   "outputs": [],
   "source": [
    "greet_with_name"
   ]
  },
  {
   "cell_type": "code",
   "execution_count": null,
   "id": "00745392",
   "metadata": {
    "slideshow": {
     "slide_type": "fragment"
    }
   },
   "outputs": [],
   "source": [
    "greet_with_name.__name__"
   ]
  },
  {
   "cell_type": "code",
   "execution_count": null,
   "id": "8db3a0de",
   "metadata": {
    "slideshow": {
     "slide_type": "fragment"
    }
   },
   "outputs": [],
   "source": [
    "help(greet_with_name)"
   ]
  },
  {
   "cell_type": "markdown",
   "id": "54d59b76",
   "metadata": {
    "slideshow": {
     "slide_type": "slide"
    }
   },
   "source": [
    "## Decorators that accept arguments"
   ]
  },
  {
   "cell_type": "code",
   "execution_count": null,
   "id": "b8abe646",
   "metadata": {
    "slideshow": {
     "slide_type": "fragment"
    }
   },
   "outputs": [],
   "source": [
    "def repeat(num_times):\n",
    "    def decorator(func):\n",
    "        @functools.wraps(func)\n",
    "        def wrapper(*args, **kwargs):\n",
    "            for _ in range(num_times):\n",
    "                value = func(*args, **kwargs)\n",
    "            return value\n",
    "        return wrapper\n",
    "    return decorator"
   ]
  },
  {
   "cell_type": "code",
   "execution_count": null,
   "id": "ab3f0d56",
   "metadata": {
    "slideshow": {
     "slide_type": "fragment"
    }
   },
   "outputs": [],
   "source": [
    "@repeat(5)\n",
    "def greet_with_name(name):\n",
    "    print(f\"Hello, {name}!\")"
   ]
  },
  {
   "cell_type": "code",
   "execution_count": null,
   "id": "3bfdcdc9",
   "metadata": {
    "slideshow": {
     "slide_type": "fragment"
    }
   },
   "outputs": [],
   "source": [
    "greet_with_name(\"John Doe\")"
   ]
  }
 ],
 "metadata": {
  "kernelspec": {
   "display_name": "Python 3 (ipykernel)",
   "language": "python",
   "name": "python3"
  },
  "language_info": {
   "codemirror_mode": {
    "name": "ipython",
    "version": 3
   },
   "file_extension": ".py",
   "mimetype": "text/x-python",
   "name": "python",
   "nbconvert_exporter": "python",
   "pygments_lexer": "ipython3",
   "version": "3.10.8"
  }
 },
 "nbformat": 4,
 "nbformat_minor": 5
}
