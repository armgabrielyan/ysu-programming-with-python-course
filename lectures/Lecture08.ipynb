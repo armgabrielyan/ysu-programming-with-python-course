{
 "cells": [
  {
   "cell_type": "markdown",
   "id": "d6515b7c",
   "metadata": {
    "id": "d6515b7c",
    "slideshow": {
     "slide_type": "slide"
    }
   },
   "source": [
    "# Programming with Python\n",
    "\n",
    "## Lecture 08: Problem solving session\n",
    "\n",
    "### Armen Gabrielyan\n",
    "\n",
    "#### Yerevan State University\n",
    "#### Portmind"
   ]
  },
  {
   "cell_type": "markdown",
   "id": "4e752586",
   "metadata": {
    "id": "4e752586",
    "slideshow": {
     "slide_type": "slide"
    }
   },
   "source": [
    "# Examples"
   ]
  },
  {
   "cell_type": "markdown",
   "id": "67ef7f34",
   "metadata": {
    "id": "67ef7f34",
    "slideshow": {
     "slide_type": "subslide"
    }
   },
   "source": [
    "## Factorial"
   ]
  },
  {
   "cell_type": "code",
   "execution_count": null,
   "id": "560051f7",
   "metadata": {
    "colab": {
     "base_uri": "https://localhost:8080/"
    },
    "id": "560051f7",
    "outputId": "8b802d64-9d19-4887-8b68-9c68f6669f2f",
    "slideshow": {
     "slide_type": "fragment"
    }
   },
   "outputs": [
    {
     "name": "stdout",
     "output_type": "stream",
     "text": [
      "Enter a non-negative number: 7\n",
      "7! = 5040\n"
     ]
    }
   ],
   "source": [
    "while True:\n",
    "    n = int(input(\"Enter a non-negative number: \"))\n",
    "    \n",
    "    if n >= 0:\n",
    "        break\n",
    "    \n",
    "    print(\"The number you entered is not non-negative\")\n",
    "\n",
    "factorial = 1\n",
    "i = 2\n",
    "\n",
    "while i <= n:\n",
    "    factorial *= i\n",
    "    i += 1\n",
    "    \n",
    "print(f\"{n}! = {factorial}\")"
   ]
  },
  {
   "cell_type": "markdown",
   "id": "fd0a44eb",
   "metadata": {
    "id": "fd0a44eb",
    "slideshow": {
     "slide_type": "subslide"
    }
   },
   "source": [
    "## Fibonacci"
   ]
  },
  {
   "cell_type": "code",
   "execution_count": null,
   "id": "93c7305e",
   "metadata": {
    "colab": {
     "base_uri": "https://localhost:8080/"
    },
    "id": "93c7305e",
    "outputId": "e1ebfc7f-d3e1-43f2-f458-bd035cf2beb8",
    "slideshow": {
     "slide_type": "fragment"
    }
   },
   "outputs": [
    {
     "name": "stdout",
     "output_type": "stream",
     "text": [
      "Enter a non-negative number: 8\n",
      "8th Fibonacci number is 21\n"
     ]
    }
   ],
   "source": [
    "while True:\n",
    "    n = int(input(\"Enter a non-negative number: \"))\n",
    "    \n",
    "    if n >= 0:\n",
    "        break\n",
    "    \n",
    "    print(\"The number you entered is not non-negative\")\n",
    "\n",
    "x, y = 0, 1\n",
    "i = 0\n",
    "\n",
    "while i < n:\n",
    "    # temp = y\n",
    "    # y = x + y\n",
    "    # x = temp\n",
    "\n",
    "    x, y = y, x + y\n",
    "\n",
    "\n",
    "    i += 1\n",
    "    \n",
    "print(f\"{n}th Fibonacci number is {x}\")"
   ]
  },
  {
   "cell_type": "markdown",
   "id": "9a702524",
   "metadata": {
    "id": "9a702524",
    "slideshow": {
     "slide_type": "slide"
    }
   },
   "source": [
    "# Problem set 1\n",
    "\n",
    "1. Write a Python program that takes a positive integer as an input and checks if the number is prime or composite.\n",
    "2. Write a Python program that takes a number as an input and outputs the sum of all the digits in the number.\n",
    "3. Write a Python program that takes a positive integer as an input and checks if the number is palindrome or not.\n",
    "4. Write a Python program that takes two positive integers as an input and outputs their greatest common divisor.\n",
    "5. Write a Python program that takes a positive integer as an input and outputs its binary representation."
   ]
  },
  {
   "cell_type": "markdown",
   "id": "bc9d1558",
   "metadata": {
    "slideshow": {
     "slide_type": "subslide"
    }
   },
   "source": [
    "## Problem 1\n",
    "\n",
    "Write a Python program that takes a positive integer as an input and checks if the number is prime or composite."
   ]
  },
  {
   "cell_type": "code",
   "execution_count": null,
   "id": "eafvAyot7y69",
   "metadata": {
    "colab": {
     "base_uri": "https://localhost:8080/"
    },
    "id": "eafvAyot7y69",
    "outputId": "a11b8a74-68ce-4114-f21d-c634fd80ab44",
    "slideshow": {
     "slide_type": "fragment"
    }
   },
   "outputs": [
    {
     "name": "stdout",
     "output_type": "stream",
     "text": [
      "Enter a positive integer: 1\n",
      "1 is a prime number\n"
     ]
    }
   ],
   "source": [
    "n = int(input(\"Enter a positive integer: \"))\n",
    "\n",
    "if n == 1:\n",
    "    print(f\"{n} is a composite number\")\n",
    "\n",
    "i = 2\n",
    "# is_prime = True\n",
    "\n",
    "while i <= n ** 0.5:\n",
    "    if n % i == 0:\n",
    "        print(f\"{n} is a composite number\")\n",
    "        # is_prime = False\n",
    "        break\n",
    "    i += 1\n",
    "else:\n",
    "    print(f\"{n} is a prime number\")\n",
    "\n",
    "# if is_prime:\n",
    "#     print(f\"{n} is a prime number\")"
   ]
  },
  {
   "cell_type": "markdown",
   "id": "58ad2b10",
   "metadata": {
    "slideshow": {
     "slide_type": "subslide"
    }
   },
   "source": [
    "## Problem 2\n",
    "\n",
    "Write a Python program that takes a number as an input and outputs the sum of all the digits in the number."
   ]
  },
  {
   "cell_type": "code",
   "execution_count": null,
   "id": "N0IYbA9v8__d",
   "metadata": {
    "colab": {
     "base_uri": "https://localhost:8080/"
    },
    "id": "N0IYbA9v8__d",
    "outputId": "d1d9ae9d-8976-4b92-efcd-dd5d872ff67c",
    "slideshow": {
     "slide_type": "fragment"
    }
   },
   "outputs": [
    {
     "name": "stdout",
     "output_type": "stream",
     "text": [
      "Enter a number: 5\n",
      "The sum of digits in 5 is 5\n"
     ]
    }
   ],
   "source": [
    "n = int(input(\"Enter a number: \"))\n",
    "x = n\n",
    "\n",
    "sum_ = 0\n",
    "\n",
    "while x != 0:\n",
    "    sum_ += x % 10\n",
    "    x //= 10\n",
    "\n",
    "print(f\"The sum of digits in {n} is {sum_}\")"
   ]
  },
  {
   "cell_type": "markdown",
   "id": "8bd59dec",
   "metadata": {
    "slideshow": {
     "slide_type": "subslide"
    }
   },
   "source": [
    "## Problem 3\n",
    "\n",
    "Write a Python program that takes a positive integer as an input and checks if the number is palindrome or not."
   ]
  },
  {
   "cell_type": "code",
   "execution_count": null,
   "id": "hFWkRQ6zCVBQ",
   "metadata": {
    "colab": {
     "base_uri": "https://localhost:8080/"
    },
    "id": "hFWkRQ6zCVBQ",
    "outputId": "31859ace-c365-4d0c-9906-bd9c0c213a23",
    "slideshow": {
     "slide_type": "fragment"
    }
   },
   "outputs": [
    {
     "name": "stdout",
     "output_type": "stream",
     "text": [
      "Enter a number: 123321\n",
      "123321 is a palindrome number\n"
     ]
    }
   ],
   "source": [
    "n = int(input(\"Enter a number: \"))\n",
    "x = n\n",
    "\n",
    "n_reversed = 0\n",
    "\n",
    "while x != 0:\n",
    "    n_reversed = 10 * n_reversed + x % 10\n",
    "    x //= 10\n",
    "\n",
    "if n == n_reversed:\n",
    "    print(f\"{n} is a palindrome number\")\n",
    "else:\n",
    "    print(f\"{n} is not a palindrome number\")"
   ]
  },
  {
   "cell_type": "markdown",
   "id": "f04c970c",
   "metadata": {
    "slideshow": {
     "slide_type": "subslide"
    }
   },
   "source": [
    "## Problem 4\n",
    "\n",
    "Write a Python program that takes two positive integers as an input and outputs their greatest common divisor."
   ]
  },
  {
   "cell_type": "code",
   "execution_count": 1,
   "id": "nDxk88PfAJVv",
   "metadata": {
    "colab": {
     "base_uri": "https://localhost:8080/"
    },
    "id": "nDxk88PfAJVv",
    "outputId": "342540a4-dcc4-49d5-d55b-ca5f81b6cfd4",
    "slideshow": {
     "slide_type": "fragment"
    }
   },
   "outputs": [
    {
     "name": "stdout",
     "output_type": "stream",
     "text": [
      "Enter the first number: 24\n",
      "Enter the second number: 16\n",
      "The gcd is 8\n"
     ]
    }
   ],
   "source": [
    "a = int(input(\"Enter the first number: \"))\n",
    "b = int(input(\"Enter the second number: \"))\n",
    "\n",
    "while b != 0:\n",
    "    a, b = b, a % b\n",
    "\n",
    "print(f\"The gcd is {a}\")"
   ]
  },
  {
   "cell_type": "markdown",
   "id": "1599aa23",
   "metadata": {
    "slideshow": {
     "slide_type": "slide"
    }
   },
   "source": [
    "## Problem 5\n",
    "\n",
    "Write a Python program that takes a positive integer as an input and outputs its binary representation."
   ]
  },
  {
   "cell_type": "code",
   "execution_count": null,
   "id": "holrXUwBFvPl",
   "metadata": {
    "colab": {
     "base_uri": "https://localhost:8080/"
    },
    "id": "holrXUwBFvPl",
    "outputId": "1be917d8-bd78-43bf-d9b6-67f458d6ccbe",
    "slideshow": {
     "slide_type": "subslide"
    }
   },
   "outputs": [
    {
     "name": "stdout",
     "output_type": "stream",
     "text": [
      "Enter a number: 10\n",
      "The binary value of 10 is 1010\n"
     ]
    }
   ],
   "source": [
    "n = int(input(\"Enter a number: \"))\n",
    "x = n\n",
    "\n",
    "binary = \"\"\n",
    "\n",
    "while x != 0:\n",
    "    binary = str(x % 2) + binary\n",
    "    x //= 2\n",
    "\n",
    "print(f\"The binary value of {n} is {binary}\")"
   ]
  },
  {
   "cell_type": "markdown",
   "id": "a25cb6cf",
   "metadata": {
    "id": "a25cb6cf",
    "slideshow": {
     "slide_type": "slide"
    }
   },
   "source": [
    "# Problem set 2\n",
    "\n",
    "1. Write a Python guessing game program where the user has to guess a randomly generated number between $1$ and $100$. The program will give hints after each guess whether the guess is higher or lower than the actual number.\n",
    "2. The Maclaurin series of the exponential function $e^x$ is as follows:\n",
    "\n",
    "$$e ^ x = 1 + x + \\frac{x ^ 2}{2!} + \\frac{x ^ 3}{3!} + \\dots + \\frac{x ^ n}{n!}$$\n",
    "\n",
    "Write a Python program that takes a positive integer $n$ and a real value number $x$ as an input, and approximates the value of $e ^ x$."
   ]
  },
  {
   "cell_type": "markdown",
   "id": "2a7fd0c5",
   "metadata": {
    "id": "2a7fd0c5",
    "slideshow": {
     "slide_type": "subslide"
    }
   },
   "source": [
    "3. The value of $\\pi$ can be approximated by the following formula:\n",
    "\n",
    "$$\\pi = \\sqrt{6 \\times (1 + \\frac{1}{4} + \\frac{1}{9} + \\frac{1}{16} + \\dots + \\frac{1}{n ^ 2})}$$\n",
    "\n",
    "Write a Python program that takes a positive integer $n$ as an input and approximates the value of $\\pi$.\n",
    "\n",
    "4. Write a Python program that takes a positive integer $n$ as an input and allows the user to enter $n$ integers. The program should display the maximum number in the sequence and the count of its occurrence.\n",
    "\n",
    "5. Assume that $X$ is a random variable that follows the binomial distribution with parameters $n$ and $p$, i.e. $X \\sim B(n, p)$. Write a Python program that takes non-negative integers $n$ and $k$ as well as a real number $p$ as an input and outputs the probability of the random variable $X$ taking the value of $k$, i.e. $P(X = k)$."
   ]
  }
 ],
 "metadata": {
  "celltoolbar": "Slideshow",
  "colab": {
   "provenance": []
  },
  "kernelspec": {
   "display_name": "Python 3 (ipykernel)",
   "language": "python",
   "name": "python3"
  },
  "language_info": {
   "codemirror_mode": {
    "name": "ipython",
    "version": 3
   },
   "file_extension": ".py",
   "mimetype": "text/x-python",
   "name": "python",
   "nbconvert_exporter": "python",
   "pygments_lexer": "ipython3",
   "version": "3.8.10"
  },
  "vscode": {
   "interpreter": {
    "hash": "916dbcbb3f70747c44a77c7bcd40155683ae19c65e1c03b4aa3499c5328201f1"
   }
  }
 },
 "nbformat": 4,
 "nbformat_minor": 5
}
