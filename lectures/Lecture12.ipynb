{
 "cells": [
  {
   "cell_type": "markdown",
   "id": "74750d32",
   "metadata": {
    "slideshow": {
     "slide_type": "slide"
    }
   },
   "source": [
    "# Programming with Python\n",
    "\n",
    "## Lecture 12: Dictionaries and functions\n",
    "\n",
    "### Armen Gabrielyan\n",
    "\n",
    "#### Yerevan State University\n",
    "#### Portmind"
   ]
  },
  {
   "cell_type": "markdown",
   "id": "1f6a55be",
   "metadata": {
    "slideshow": {
     "slide_type": "slide"
    }
   },
   "source": [
    "## `hash()` function\n",
    "\n",
    "`hash()`function returns the hash of an object if it has one. Hash values are integers and are used for quick dictionary lookup."
   ]
  },
  {
   "cell_type": "code",
   "execution_count": null,
   "id": "c448cf1c",
   "metadata": {
    "slideshow": {
     "slide_type": "fragment"
    }
   },
   "outputs": [],
   "source": [
    "hash(42), hash(42.0)"
   ]
  },
  {
   "cell_type": "code",
   "execution_count": null,
   "id": "cd7b97da",
   "metadata": {
    "slideshow": {
     "slide_type": "fragment"
    }
   },
   "outputs": [],
   "source": [
    "hash(\"first_name\")"
   ]
  },
  {
   "cell_type": "code",
   "execution_count": null,
   "id": "964a59b6",
   "metadata": {
    "slideshow": {
     "slide_type": "fragment"
    }
   },
   "outputs": [],
   "source": [
    "hash((\"Spades\", 10))"
   ]
  },
  {
   "cell_type": "code",
   "execution_count": null,
   "id": "92e474c9",
   "metadata": {},
   "outputs": [],
   "source": [
    "hash(int), hash(float), hash(str)"
   ]
  },
  {
   "cell_type": "code",
   "execution_count": null,
   "id": "97422020",
   "metadata": {
    "slideshow": {
     "slide_type": "fragment"
    }
   },
   "outputs": [],
   "source": [
    "hash([1, 2, 3])"
   ]
  },
  {
   "cell_type": "markdown",
   "id": "a83b2d29",
   "metadata": {
    "slideshow": {
     "slide_type": "slide"
    }
   },
   "source": [
    "## Dictionary keys limitations\n",
    "\n",
    "Dictionary keys must be immutable and hashable. This means that they have a hash value and `hash()` function returns a value for them."
   ]
  },
  {
   "cell_type": "code",
   "execution_count": null,
   "id": "2fdd4c29",
   "metadata": {
    "slideshow": {
     "slide_type": "subslide"
    }
   },
   "outputs": [],
   "source": [
    "coordinates = {\n",
    "    (1, 1): \"first quarter\",\n",
    "    (-1, 1): \"second quarter\",\n",
    "    (-1, -1): \"third quarter\",\n",
    "    (1, -1): \"fourth quarter\",\n",
    "}\n",
    "coordinates"
   ]
  },
  {
   "cell_type": "code",
   "execution_count": null,
   "id": "55b856bd",
   "metadata": {
    "slideshow": {
     "slide_type": "fragment"
    }
   },
   "outputs": [],
   "source": [
    "coordinates = {\n",
    "    [1, 1]: \"first quarter\",\n",
    "    [-1, 1]: \"second quarter\",\n",
    "    [-1, -1]: \"third quarter\",\n",
    "    [1, -1]: \"fourth quarter\",\n",
    "}\n",
    "coordinates"
   ]
  },
  {
   "cell_type": "markdown",
   "id": "0417dc12",
   "metadata": {
    "slideshow": {
     "slide_type": "slide"
    }
   },
   "source": [
    "## Dictionary operations"
   ]
  },
  {
   "cell_type": "markdown",
   "id": "72897ffc",
   "metadata": {
    "slideshow": {
     "slide_type": "slide"
    }
   },
   "source": [
    "### `in` operator\n",
    "\n",
    "Checks if a dictionary has the given key or not."
   ]
  },
  {
   "cell_type": "code",
   "execution_count": null,
   "id": "fda8d393",
   "metadata": {
    "slideshow": {
     "slide_type": "fragment"
    }
   },
   "outputs": [],
   "source": [
    "person = {\"name\": \"John Doe\", \"age\": 42}\n",
    "person"
   ]
  },
  {
   "cell_type": "code",
   "execution_count": null,
   "id": "1b358fea",
   "metadata": {
    "slideshow": {
     "slide_type": "fragment"
    }
   },
   "outputs": [],
   "source": [
    "\"name\" in person"
   ]
  },
  {
   "cell_type": "code",
   "execution_count": null,
   "id": "48e640ea",
   "metadata": {
    "slideshow": {
     "slide_type": "fragment"
    }
   },
   "outputs": [],
   "source": [
    "\"friends\" in person"
   ]
  },
  {
   "cell_type": "markdown",
   "id": "c1d34fd2",
   "metadata": {
    "slideshow": {
     "slide_type": "slide"
    }
   },
   "source": [
    "### `d.get(key, default_value)` method\n",
    "\n",
    "`d.get(key, default_value)` method returns the value for a `key` if it exists in the dictionary. If it does not exist, the value of `default_value` is returned, which is `None` by default"
   ]
  },
  {
   "cell_type": "code",
   "execution_count": null,
   "id": "684a70fe",
   "metadata": {
    "slideshow": {
     "slide_type": "fragment"
    }
   },
   "outputs": [],
   "source": [
    "person = {\"name\": \"John Doe\", \"age\": 42}\n",
    "person"
   ]
  },
  {
   "cell_type": "code",
   "execution_count": null,
   "id": "22c7dd89",
   "metadata": {
    "slideshow": {
     "slide_type": "fragment"
    }
   },
   "outputs": [],
   "source": [
    "person.get(\"name\")"
   ]
  },
  {
   "cell_type": "code",
   "execution_count": null,
   "id": "7d6628b3",
   "metadata": {
    "slideshow": {
     "slide_type": "fragment"
    }
   },
   "outputs": [],
   "source": [
    "person.get(\"friends\")"
   ]
  },
  {
   "cell_type": "code",
   "execution_count": null,
   "id": "b502d7cb",
   "metadata": {
    "slideshow": {
     "slide_type": "fragment"
    }
   },
   "outputs": [],
   "source": [
    "person.get(\"friends\", \"Sorry, no friends :(\")"
   ]
  },
  {
   "cell_type": "markdown",
   "id": "2aa53e52",
   "metadata": {
    "slideshow": {
     "slide_type": "slide"
    }
   },
   "source": [
    "### `d.pop(key, default_value)` method\n",
    "\n",
    "`d.pop(key, default_value)` method removes the `key` from the dictionary if it exists in the dictionary and returns its value. If it does not exist, an exception is raised if `default_value` is not provided. Otherwise, the value of `default_value` is provided."
   ]
  },
  {
   "cell_type": "code",
   "execution_count": null,
   "id": "47a89603",
   "metadata": {
    "slideshow": {
     "slide_type": "fragment"
    }
   },
   "outputs": [],
   "source": [
    "person = {\"name\": \"John Doe\", \"age\": 42}\n",
    "person"
   ]
  },
  {
   "cell_type": "code",
   "execution_count": null,
   "id": "22d4dce7",
   "metadata": {
    "slideshow": {
     "slide_type": "fragment"
    }
   },
   "outputs": [],
   "source": [
    "person.pop(\"name\")"
   ]
  },
  {
   "cell_type": "code",
   "execution_count": null,
   "id": "9da45223",
   "metadata": {
    "slideshow": {
     "slide_type": "fragment"
    }
   },
   "outputs": [],
   "source": [
    "person"
   ]
  },
  {
   "cell_type": "code",
   "execution_count": null,
   "id": "dc1099d7",
   "metadata": {
    "slideshow": {
     "slide_type": "fragment"
    }
   },
   "outputs": [],
   "source": [
    "person.pop(\"friends\")"
   ]
  },
  {
   "cell_type": "code",
   "execution_count": null,
   "id": "334bdc80",
   "metadata": {
    "slideshow": {
     "slide_type": "subslide"
    }
   },
   "outputs": [],
   "source": [
    "person.pop(\"friends\", \"Sorry, no friends :(\")"
   ]
  },
  {
   "cell_type": "code",
   "execution_count": null,
   "id": "e30e5dee",
   "metadata": {
    "slideshow": {
     "slide_type": "fragment"
    }
   },
   "outputs": [],
   "source": [
    "person"
   ]
  },
  {
   "cell_type": "markdown",
   "id": "dfa685ec",
   "metadata": {
    "slideshow": {
     "slide_type": "slide"
    }
   },
   "source": [
    "### `d.popitem()` method\n",
    "\n",
    "`d.popitem()` method removes the last key-value pair from the dictionary if it exists in the dictionary and returns its value."
   ]
  },
  {
   "cell_type": "code",
   "execution_count": null,
   "id": "7699b8b9",
   "metadata": {
    "slideshow": {
     "slide_type": "fragment"
    }
   },
   "outputs": [],
   "source": [
    "person = {\"name\": \"John Doe\", \"age\": 42}\n",
    "person"
   ]
  },
  {
   "cell_type": "code",
   "execution_count": null,
   "id": "e0296eba",
   "metadata": {
    "slideshow": {
     "slide_type": "fragment"
    }
   },
   "outputs": [],
   "source": [
    "person.popitem()"
   ]
  },
  {
   "cell_type": "code",
   "execution_count": null,
   "id": "fc9b6ef8",
   "metadata": {
    "slideshow": {
     "slide_type": "fragment"
    }
   },
   "outputs": [],
   "source": [
    "person"
   ]
  },
  {
   "cell_type": "code",
   "execution_count": null,
   "id": "6c0acb47",
   "metadata": {
    "slideshow": {
     "slide_type": "fragment"
    }
   },
   "outputs": [],
   "source": [
    "person.popitem()"
   ]
  },
  {
   "cell_type": "code",
   "execution_count": null,
   "id": "598c5a80",
   "metadata": {
    "slideshow": {
     "slide_type": "subslide"
    }
   },
   "outputs": [],
   "source": [
    "person"
   ]
  },
  {
   "cell_type": "code",
   "execution_count": null,
   "id": "5c729fcb",
   "metadata": {
    "slideshow": {
     "slide_type": "fragment"
    }
   },
   "outputs": [],
   "source": [
    "person.popitem()"
   ]
  },
  {
   "cell_type": "markdown",
   "id": "273f5dd4",
   "metadata": {
    "slideshow": {
     "slide_type": "slide"
    }
   },
   "source": [
    "### `d.clear()` method\n",
    "\n",
    "`d.clear()` method removes the content of the dictionary."
   ]
  },
  {
   "cell_type": "code",
   "execution_count": null,
   "id": "71bfb52d",
   "metadata": {
    "slideshow": {
     "slide_type": "fragment"
    }
   },
   "outputs": [],
   "source": [
    "person = {\"name\": \"John Doe\", \"age\": 42}\n",
    "person"
   ]
  },
  {
   "cell_type": "code",
   "execution_count": null,
   "id": "af3169ef",
   "metadata": {
    "slideshow": {
     "slide_type": "fragment"
    }
   },
   "outputs": [],
   "source": [
    "person.clear()"
   ]
  },
  {
   "cell_type": "code",
   "execution_count": null,
   "id": "13ceaa76",
   "metadata": {
    "slideshow": {
     "slide_type": "fragment"
    }
   },
   "outputs": [],
   "source": [
    "person"
   ]
  },
  {
   "cell_type": "markdown",
   "id": "b6db5b4f",
   "metadata": {
    "slideshow": {
     "slide_type": "slide"
    }
   },
   "source": [
    "### `d.update(object)` method\n",
    "\n",
    "`d.update(object)` method updates the dictionary with the content of the `object`, which can be another mapping or an iterable that represents a mapping."
   ]
  },
  {
   "cell_type": "code",
   "execution_count": null,
   "id": "54b6baef",
   "metadata": {
    "slideshow": {
     "slide_type": "fragment"
    }
   },
   "outputs": [],
   "source": [
    "person = {\"name\": \"John Doe\", \"age\": 42}\n",
    "person"
   ]
  },
  {
   "cell_type": "code",
   "execution_count": null,
   "id": "72f83961",
   "metadata": {
    "slideshow": {
     "slide_type": "fragment"
    }
   },
   "outputs": [],
   "source": [
    "person.update({\"friends\": [\"Alice\", \"Bob\"], \"salary\": 120000})"
   ]
  },
  {
   "cell_type": "code",
   "execution_count": null,
   "id": "9ad7d7e5",
   "metadata": {
    "slideshow": {
     "slide_type": "fragment"
    }
   },
   "outputs": [],
   "source": [
    "person"
   ]
  },
  {
   "cell_type": "code",
   "execution_count": null,
   "id": "564e88bb",
   "metadata": {
    "slideshow": {
     "slide_type": "fragment"
    }
   },
   "outputs": [],
   "source": [
    "person.update([\n",
    "    (\"children\", [\"Jane\", \"Bill\"]),\n",
    "    (\"savings\", 200416.78),\n",
    "])"
   ]
  },
  {
   "cell_type": "code",
   "execution_count": null,
   "id": "a44f12ed",
   "metadata": {
    "slideshow": {
     "slide_type": "fragment"
    }
   },
   "outputs": [],
   "source": [
    "person"
   ]
  },
  {
   "cell_type": "markdown",
   "id": "d3b0debd",
   "metadata": {
    "slideshow": {
     "slide_type": "slide"
    }
   },
   "source": [
    "### `d.keys()` method\n",
    "\n",
    "`d.keys()` method returns the keys of the dictionary."
   ]
  },
  {
   "cell_type": "code",
   "execution_count": null,
   "id": "a5ed17a7",
   "metadata": {
    "slideshow": {
     "slide_type": "fragment"
    }
   },
   "outputs": [],
   "source": [
    "person = {\"name\": \"John Doe\", \"age\": 42}\n",
    "person"
   ]
  },
  {
   "cell_type": "code",
   "execution_count": null,
   "id": "3f450f10",
   "metadata": {
    "slideshow": {
     "slide_type": "fragment"
    }
   },
   "outputs": [],
   "source": [
    "person.keys()"
   ]
  },
  {
   "cell_type": "code",
   "execution_count": null,
   "id": "30637a7c",
   "metadata": {
    "slideshow": {
     "slide_type": "fragment"
    }
   },
   "outputs": [],
   "source": [
    "list(person.keys())"
   ]
  },
  {
   "cell_type": "code",
   "execution_count": null,
   "id": "f056ac6c",
   "metadata": {
    "slideshow": {
     "slide_type": "fragment"
    }
   },
   "outputs": [],
   "source": [
    "for key in person.keys():\n",
    "    print(f\"{key} => {person[key]}\")"
   ]
  },
  {
   "cell_type": "markdown",
   "id": "a73c89eb",
   "metadata": {
    "slideshow": {
     "slide_type": "slide"
    }
   },
   "source": [
    "### `d.values()` method\n",
    "\n",
    "`d.values()` method returns the values of the dictionary."
   ]
  },
  {
   "cell_type": "code",
   "execution_count": null,
   "id": "5ab1414c",
   "metadata": {
    "slideshow": {
     "slide_type": "fragment"
    }
   },
   "outputs": [],
   "source": [
    "person = {\"name\": \"John Doe\", \"age\": 42}\n",
    "person"
   ]
  },
  {
   "cell_type": "code",
   "execution_count": null,
   "id": "68d884db",
   "metadata": {
    "slideshow": {
     "slide_type": "fragment"
    }
   },
   "outputs": [],
   "source": [
    "person.values()"
   ]
  },
  {
   "cell_type": "code",
   "execution_count": null,
   "id": "f08aad61",
   "metadata": {
    "slideshow": {
     "slide_type": "fragment"
    }
   },
   "outputs": [],
   "source": [
    "list(person.values())"
   ]
  },
  {
   "cell_type": "code",
   "execution_count": null,
   "id": "6be8474f",
   "metadata": {
    "slideshow": {
     "slide_type": "fragment"
    }
   },
   "outputs": [],
   "source": [
    "for value in person.values():\n",
    "    print(value)"
   ]
  },
  {
   "cell_type": "markdown",
   "id": "45630246",
   "metadata": {
    "slideshow": {
     "slide_type": "slide"
    }
   },
   "source": [
    "### `d.items()` method\n",
    "\n",
    "`d.items()` method returns the key-value pairs of the dictionary."
   ]
  },
  {
   "cell_type": "code",
   "execution_count": null,
   "id": "2881492c",
   "metadata": {
    "slideshow": {
     "slide_type": "fragment"
    }
   },
   "outputs": [],
   "source": [
    "person = {\"name\": \"John Doe\", \"age\": 42}\n",
    "person"
   ]
  },
  {
   "cell_type": "code",
   "execution_count": null,
   "id": "736eeb85",
   "metadata": {
    "slideshow": {
     "slide_type": "fragment"
    }
   },
   "outputs": [],
   "source": [
    "person.items()"
   ]
  },
  {
   "cell_type": "code",
   "execution_count": null,
   "id": "838ba460",
   "metadata": {
    "slideshow": {
     "slide_type": "fragment"
    }
   },
   "outputs": [],
   "source": [
    "list(person.items())"
   ]
  },
  {
   "cell_type": "code",
   "execution_count": null,
   "id": "adf2e0a9",
   "metadata": {
    "slideshow": {
     "slide_type": "fragment"
    }
   },
   "outputs": [],
   "source": [
    "for key, value in person.items():\n",
    "    print(f\"{key} => {value}\")"
   ]
  },
  {
   "cell_type": "markdown",
   "id": "e16da8ec",
   "metadata": {
    "slideshow": {
     "slide_type": "slide"
    }
   },
   "source": [
    "### `sorted` function"
   ]
  },
  {
   "cell_type": "code",
   "execution_count": null,
   "id": "2a6134da",
   "metadata": {
    "slideshow": {
     "slide_type": "fragment"
    }
   },
   "outputs": [],
   "source": [
    "person = {\"name\": \"John Doe\", \"age\": 42}\n",
    "person"
   ]
  },
  {
   "cell_type": "code",
   "execution_count": null,
   "id": "fa30e1d3",
   "metadata": {
    "slideshow": {
     "slide_type": "fragment"
    }
   },
   "outputs": [],
   "source": [
    "sorted(person)"
   ]
  },
  {
   "cell_type": "code",
   "execution_count": null,
   "id": "fc779f59",
   "metadata": {
    "slideshow": {
     "slide_type": "fragment"
    }
   },
   "outputs": [],
   "source": [
    "for key in sorted(person):\n",
    "    print(f\"{key} => {person[key]}\")"
   ]
  },
  {
   "cell_type": "markdown",
   "id": "4ced532f",
   "metadata": {
    "slideshow": {
     "slide_type": "slide"
    }
   },
   "source": [
    "## Dictionary comprehensions\n",
    "\n",
    "Like list and set comprehension expressions, Python allows us to use the declarative style of dictionary comprehension expressions to create dictionaries.\n",
    "\n",
    "```python\n",
    "{key_expression: value_expression for item in sequence}\n",
    "```\n",
    "\n",
    "- `key_expression` is any valid expression that is hashable and usually depends on the value of `item`.\n",
    "- `value_expression` is any valid expression that usually depends on the value of `item`.\n",
    "- `item` is an element from `sequence`.\n",
    "- `sequence` is an iterable."
   ]
  },
  {
   "cell_type": "code",
   "execution_count": null,
   "id": "4f3e0b74",
   "metadata": {
    "slideshow": {
     "slide_type": "subslide"
    }
   },
   "outputs": [],
   "source": [
    "d = {i: i ** 3 for i in range(10)}\n",
    "d"
   ]
  },
  {
   "cell_type": "code",
   "execution_count": null,
   "id": "5e8353ce",
   "metadata": {
    "slideshow": {
     "slide_type": "fragment"
    }
   },
   "outputs": [],
   "source": [
    "d = {i: i ** 3 for i in range(10) if i % 2 == 1}\n",
    "d"
   ]
  },
  {
   "cell_type": "code",
   "execution_count": null,
   "id": "f6482d3f",
   "metadata": {
    "slideshow": {
     "slide_type": "fragment"
    }
   },
   "outputs": [],
   "source": [
    "text = \"HELLO World\".lower()\n",
    "d = {character: text.count(character) for character in text}\n",
    "d"
   ]
  },
  {
   "cell_type": "code",
   "execution_count": null,
   "id": "ad97c7cf",
   "metadata": {
    "slideshow": {
     "slide_type": "fragment"
    }
   },
   "outputs": [],
   "source": [
    "d = {i: {j: i + j for j in range(10)} for i in range(10)}\n",
    "d"
   ]
  },
  {
   "cell_type": "markdown",
   "id": "38d4014d",
   "metadata": {
    "slideshow": {
     "slide_type": "slide"
    }
   },
   "source": [
    "# Functions\n",
    "\n",
    "A function is a block of statements that encapsulates a certain functionality. The general form of functions in Python is as follows:\n",
    "\n",
    "```python\n",
    "def <function_name>([<parameters>]):\n",
    "    <statement(s)>\n",
    "```\n",
    "\n",
    "- `<function_name>` is a valid identifier that follows the variable naming rules.\n",
    "- `<parameters>` is an optional comma-separated list of parameters that the function accepts.\n",
    "- `<statement(s)>` is a block of statements."
   ]
  },
  {
   "cell_type": "code",
   "execution_count": null,
   "id": "e68851f4",
   "metadata": {
    "slideshow": {
     "slide_type": "subslide"
    }
   },
   "outputs": [],
   "source": [
    "print(\"Hello world!\")\n",
    "print(\"We are learning Python\")"
   ]
  },
  {
   "cell_type": "code",
   "execution_count": null,
   "id": "b8b469d6",
   "metadata": {
    "slideshow": {
     "slide_type": "fragment"
    }
   },
   "outputs": [],
   "source": [
    "def greet():\n",
    "    print(\"Hello world!\")\n",
    "    print(\"We are learning Python\")\n",
    "    \n",
    "greet()"
   ]
  },
  {
   "cell_type": "code",
   "execution_count": null,
   "id": "315e3ed7",
   "metadata": {
    "slideshow": {
     "slide_type": "fragment"
    }
   },
   "outputs": [],
   "source": [
    "print(\"Before calling greet() function\")\n",
    "greet()\n",
    "print(\"After calling greet() function\")"
   ]
  },
  {
   "cell_type": "markdown",
   "id": "c6e65d5b",
   "metadata": {
    "slideshow": {
     "slide_type": "slide"
    }
   },
   "source": [
    "# Parameters and arguments\n",
    "\n",
    "Parameters are defined by the names that appear in a function definitions. On the other hand, arguments are the actual values passed to the function.\n",
    "\n",
    "```python\n",
    "def <function_name>(<parameters>):\n",
    "    <statement(s)>\n",
    "    \n",
    "<function_name>(<arguments>)\n",
    "```\n",
    "\n",
    "- `<parameters>` are the parameters of the function `<function_name>`.\n",
    "- `<arguments>` are the values passed to the function `<function_name>` when called.\n",
    "\n",
    "Parameters and arguments are also known as formal parameters and actual parameters, respectively."
   ]
  },
  {
   "cell_type": "markdown",
   "id": "971b6b18",
   "metadata": {
    "slideshow": {
     "slide_type": "slide"
    }
   },
   "source": [
    "## Arguments\n",
    "\n",
    "We usually define functions that accept data. The data can be passed to functions via arguments. In Python, generally two types of arguments are defined:\n",
    "\n",
    "- positional arguments\n",
    "- keyword arguments"
   ]
  },
  {
   "cell_type": "markdown",
   "id": "d1b1ba64",
   "metadata": {
    "slideshow": {
     "slide_type": "slide"
    }
   },
   "source": [
    "## Positional arguments\n",
    "\n",
    "The function is called by passing a comma-separated list of arguments. Given a function `f` with $n$ parameters, it is called with $n$ arguments by `f(arg_1, arg_2, ..., arg_n)`."
   ]
  },
  {
   "cell_type": "code",
   "execution_count": null,
   "id": "993626c4",
   "metadata": {
    "slideshow": {
     "slide_type": "fragment"
    }
   },
   "outputs": [],
   "source": [
    "def euclidean_distance(x1, y1, x2, y2):\n",
    "    distance = ((x1 - x2) ** 2 + (y1 - y2) ** 2) ** 0.5\n",
    "    print(f\"The euclidean distance between {(x1, y1)} and {(x2, y2)} is {distance:.2f}\")"
   ]
  },
  {
   "cell_type": "code",
   "execution_count": null,
   "id": "52290713",
   "metadata": {
    "slideshow": {
     "slide_type": "fragment"
    }
   },
   "outputs": [],
   "source": [
    "euclidean_distance(0, 1, 2, 3)"
   ]
  },
  {
   "cell_type": "markdown",
   "id": "48df7400",
   "metadata": {
    "slideshow": {
     "slide_type": "slide"
    }
   },
   "source": [
    "### Wrong number of arguments"
   ]
  },
  {
   "cell_type": "code",
   "execution_count": null,
   "id": "e17409e9",
   "metadata": {
    "slideshow": {
     "slide_type": "fragment"
    }
   },
   "outputs": [],
   "source": [
    "# Few arguments passed\n",
    "\n",
    "euclidean_distance(0, 1, 2)"
   ]
  },
  {
   "cell_type": "code",
   "execution_count": null,
   "id": "1bfe0fd7",
   "metadata": {
    "slideshow": {
     "slide_type": "fragment"
    }
   },
   "outputs": [],
   "source": [
    "# More arguments passed\n",
    "\n",
    "euclidean_distance(0, 1, 2, 3, 4)"
   ]
  },
  {
   "cell_type": "markdown",
   "id": "9afc1230",
   "metadata": {
    "slideshow": {
     "slide_type": "slide"
    }
   },
   "source": [
    "### No strict typing on parameters\n",
    "\n",
    "The parameters of the function are not required to be of any specific type. The types are inferred during the runtime of a program when the arguments are passed."
   ]
  },
  {
   "cell_type": "code",
   "execution_count": null,
   "id": "c4a0bedb",
   "metadata": {
    "slideshow": {
     "slide_type": "fragment"
    }
   },
   "outputs": [],
   "source": [
    "euclidean_distance(0, 1, 2, \"a\")"
   ]
  },
  {
   "cell_type": "code",
   "execution_count": null,
   "id": "d02e7d2b",
   "metadata": {
    "slideshow": {
     "slide_type": "subslide"
    }
   },
   "outputs": [],
   "source": [
    "def do_sum(x, y):\n",
    "    print(x + y)"
   ]
  },
  {
   "cell_type": "code",
   "execution_count": null,
   "id": "f6b016ff",
   "metadata": {
    "slideshow": {
     "slide_type": "fragment"
    }
   },
   "outputs": [],
   "source": [
    "do_sum(1, 2)"
   ]
  },
  {
   "cell_type": "code",
   "execution_count": null,
   "id": "b160f5df",
   "metadata": {
    "slideshow": {
     "slide_type": "fragment"
    }
   },
   "outputs": [],
   "source": [
    "do_sum(\"Hello \", \"world!\")"
   ]
  },
  {
   "cell_type": "code",
   "execution_count": null,
   "id": "f2c8bb5f",
   "metadata": {
    "slideshow": {
     "slide_type": "fragment"
    }
   },
   "outputs": [],
   "source": [
    "do_sum([1, 2, 3], [4, 5, 6])"
   ]
  },
  {
   "cell_type": "markdown",
   "id": "ecd42e04",
   "metadata": {
    "slideshow": {
     "slide_type": "slide"
    }
   },
   "source": [
    "## Keyword arguments\n",
    "\n",
    "The function is called by passing a comma-separated list of arguments in the form of `<keyword>=<value>`, where `<keyword>` is a parameter name in the function definition. Given a function `f` with $n$ parameters, it can be called with $n$ arguments by `f(param_1=arg_1, param_2=arg_2, ..., param_n=arg_n)`."
   ]
  },
  {
   "cell_type": "code",
   "execution_count": null,
   "id": "1f0ddde7",
   "metadata": {
    "slideshow": {
     "slide_type": "fragment"
    }
   },
   "outputs": [],
   "source": [
    "euclidean_distance(x1=0, y1=1, x2=2, y2=3)"
   ]
  },
  {
   "cell_type": "markdown",
   "id": "0b1cb075",
   "metadata": {
    "slideshow": {
     "slide_type": "fragment"
    }
   },
   "source": [
    "The order is not important when keyword arguments are used."
   ]
  },
  {
   "cell_type": "code",
   "execution_count": null,
   "id": "0c60e39f",
   "metadata": {
    "slideshow": {
     "slide_type": "fragment"
    }
   },
   "outputs": [],
   "source": [
    "euclidean_distance(x1=0, x2=2, y1=1, y2=3)"
   ]
  },
  {
   "cell_type": "markdown",
   "id": "5bc8c106",
   "metadata": {
    "slideshow": {
     "slide_type": "slide"
    }
   },
   "source": [
    "### Wrong arguments"
   ]
  },
  {
   "cell_type": "code",
   "execution_count": null,
   "id": "d4224c94",
   "metadata": {
    "slideshow": {
     "slide_type": "fragment"
    }
   },
   "outputs": [],
   "source": [
    "# Few arguments passed\n",
    "\n",
    "euclidean_distance(x1=0, x2=1, y2=2)"
   ]
  },
  {
   "cell_type": "code",
   "execution_count": null,
   "id": "230cfbed",
   "metadata": {
    "slideshow": {
     "slide_type": "fragment"
    }
   },
   "outputs": [],
   "source": [
    "# Non-existent parameter\n",
    "\n",
    "euclidean_distance(x1=0, x2=1, y1=2, y2=3, z=4)"
   ]
  },
  {
   "cell_type": "markdown",
   "id": "aa0e1d11",
   "metadata": {
    "slideshow": {
     "slide_type": "slide"
    }
   },
   "source": [
    "## Combination of positional and keyword arguments\n",
    "\n",
    "Positional arguments must be passed before any keword arguments. Passing a positional argument after a keyword argument results in a syntax error."
   ]
  },
  {
   "cell_type": "code",
   "execution_count": null,
   "id": "a6dbc855",
   "metadata": {
    "slideshow": {
     "slide_type": "fragment"
    }
   },
   "outputs": [],
   "source": [
    "euclidean_distance(0, y1=1, x2=2, y2=3)"
   ]
  },
  {
   "cell_type": "code",
   "execution_count": null,
   "id": "ae43cb54",
   "metadata": {
    "slideshow": {
     "slide_type": "fragment"
    }
   },
   "outputs": [],
   "source": [
    "euclidean_distance(0, 1, x2=2, y2=3)"
   ]
  },
  {
   "cell_type": "code",
   "execution_count": null,
   "id": "6af8f11d",
   "metadata": {
    "slideshow": {
     "slide_type": "fragment"
    }
   },
   "outputs": [],
   "source": [
    "euclidean_distance(0, 1, 2, y2=3)"
   ]
  },
  {
   "cell_type": "code",
   "execution_count": null,
   "id": "c167f721",
   "metadata": {
    "slideshow": {
     "slide_type": "fragment"
    }
   },
   "outputs": [],
   "source": [
    "euclidean_distance(0, 1, x2=2, 3)"
   ]
  },
  {
   "cell_type": "markdown",
   "id": "61cd6f4a",
   "metadata": {
    "slideshow": {
     "slide_type": "slide"
    }
   },
   "source": [
    "## Default parameters\n",
    "\n",
    "A function can have a default/optional parameters. This means that a parameter default value is used if the function is called without providing an argument for the parameter. Default parameters can be defined in the function definition using the form of `<parameter>=<value>`."
   ]
  },
  {
   "cell_type": "code",
   "execution_count": null,
   "id": "a88b754d",
   "metadata": {
    "slideshow": {
     "slide_type": "fragment"
    }
   },
   "outputs": [],
   "source": [
    "def greet(first_name=\"John\", last_name=\"Doe\", age=42):\n",
    "    print(f\"Hello {first_name} {last_name}! You are {age} years old.\")"
   ]
  },
  {
   "cell_type": "code",
   "execution_count": null,
   "id": "c034b6ce",
   "metadata": {
    "slideshow": {
     "slide_type": "fragment"
    }
   },
   "outputs": [],
   "source": [
    "greet(\"Bob\", \"Smith\", 24)"
   ]
  },
  {
   "cell_type": "code",
   "execution_count": null,
   "id": "973dc4ac",
   "metadata": {
    "slideshow": {
     "slide_type": "fragment"
    }
   },
   "outputs": [],
   "source": [
    "greet(\"Bob\", \"Smith\")"
   ]
  },
  {
   "cell_type": "code",
   "execution_count": null,
   "id": "3f45edee",
   "metadata": {
    "slideshow": {
     "slide_type": "fragment"
    }
   },
   "outputs": [],
   "source": [
    "greet(\"Bob\")"
   ]
  },
  {
   "cell_type": "code",
   "execution_count": null,
   "id": "9eb386e9",
   "metadata": {
    "slideshow": {
     "slide_type": "fragment"
    }
   },
   "outputs": [],
   "source": [
    "greet()"
   ]
  },
  {
   "cell_type": "code",
   "execution_count": null,
   "id": "0b49a35c",
   "metadata": {
    "slideshow": {
     "slide_type": "subslide"
    }
   },
   "outputs": [],
   "source": [
    "greet(last_name=\"Smith\", age=24)"
   ]
  },
  {
   "cell_type": "code",
   "execution_count": null,
   "id": "99b0c497",
   "metadata": {
    "slideshow": {
     "slide_type": "fragment"
    }
   },
   "outputs": [],
   "source": [
    "greet(first_name=\"Bob\", age=24)"
   ]
  },
  {
   "cell_type": "code",
   "execution_count": null,
   "id": "fb89b878",
   "metadata": {
    "slideshow": {
     "slide_type": "fragment"
    }
   },
   "outputs": [],
   "source": [
    "greet(\"Bob\", age=24)"
   ]
  },
  {
   "cell_type": "markdown",
   "id": "6f8a87a6",
   "metadata": {
    "slideshow": {
     "slide_type": "subslide"
    }
   },
   "source": [
    "Non-default parameters should be defined before default parameters."
   ]
  },
  {
   "cell_type": "code",
   "execution_count": null,
   "id": "f1a6e709",
   "metadata": {
    "slideshow": {
     "slide_type": "fragment"
    }
   },
   "outputs": [],
   "source": [
    "def greet(first_name, last_name=\"Doe\", age=42):\n",
    "    print(f\"Hello {first_name} {last_name}! You are {age} years old.\")"
   ]
  },
  {
   "cell_type": "code",
   "execution_count": null,
   "id": "4c39109f",
   "metadata": {
    "slideshow": {
     "slide_type": "fragment"
    }
   },
   "outputs": [],
   "source": [
    "greet()"
   ]
  },
  {
   "cell_type": "code",
   "execution_count": null,
   "id": "dbfe51d4",
   "metadata": {
    "slideshow": {
     "slide_type": "fragment"
    }
   },
   "outputs": [],
   "source": [
    "greet(\"John\")"
   ]
  },
  {
   "cell_type": "code",
   "execution_count": null,
   "id": "6450f828",
   "metadata": {
    "slideshow": {
     "slide_type": "fragment"
    }
   },
   "outputs": [],
   "source": [
    "def greet(first_name=\"John\", last_name, age=42):\n",
    "    print(f\"Hello {first_name} {last_name}! You are {age} years old.\")"
   ]
  },
  {
   "cell_type": "markdown",
   "id": "e4a3b1a3",
   "metadata": {
    "slideshow": {
     "slide_type": "slide"
    }
   },
   "source": [
    "## Mutable default parameters\n",
    "\n",
    "Function default parameters are defined only once. This means that the same object is referenced as a default value when the function is called."
   ]
  },
  {
   "cell_type": "code",
   "execution_count": null,
   "id": "8d4403a4",
   "metadata": {
    "slideshow": {
     "slide_type": "fragment"
    }
   },
   "outputs": [],
   "source": [
    "def append_42(sequence=[]):\n",
    "    sequence.append(42)\n",
    "    print(sequence)"
   ]
  },
  {
   "cell_type": "code",
   "execution_count": null,
   "id": "6ca6afe4",
   "metadata": {
    "slideshow": {
     "slide_type": "fragment"
    }
   },
   "outputs": [],
   "source": [
    "append_42([1, 2, 3])"
   ]
  },
  {
   "cell_type": "code",
   "execution_count": null,
   "id": "eaf3e799",
   "metadata": {
    "slideshow": {
     "slide_type": "fragment"
    }
   },
   "outputs": [],
   "source": [
    "append_42([\"red\", \"green\", \"yellow\"])"
   ]
  },
  {
   "cell_type": "code",
   "execution_count": null,
   "id": "d855678b",
   "metadata": {
    "slideshow": {
     "slide_type": "fragment"
    }
   },
   "outputs": [],
   "source": [
    "append_42()"
   ]
  },
  {
   "cell_type": "code",
   "execution_count": null,
   "id": "497368d2",
   "metadata": {
    "slideshow": {
     "slide_type": "subslide"
    }
   },
   "outputs": [],
   "source": [
    "append_42()"
   ]
  },
  {
   "cell_type": "code",
   "execution_count": null,
   "id": "830ec40f",
   "metadata": {
    "slideshow": {
     "slide_type": "fragment"
    }
   },
   "outputs": [],
   "source": [
    "append_42()"
   ]
  },
  {
   "cell_type": "markdown",
   "id": "330b17a5",
   "metadata": {
    "slideshow": {
     "slide_type": "subslide"
    }
   },
   "source": [
    "Each time the function is called without providing an argument for the default parameter, the same list object is mutated. This can be verified by checking the object identifer via `id()` function."
   ]
  },
  {
   "cell_type": "code",
   "execution_count": null,
   "id": "216b3837",
   "metadata": {
    "slideshow": {
     "slide_type": "fragment"
    }
   },
   "outputs": [],
   "source": [
    "def append_42(sequence=[]):\n",
    "    print(f\"The id of default parameter is {id(sequence)}.\")\n",
    "    sequence.append(42)\n",
    "    print(sequence)"
   ]
  },
  {
   "cell_type": "code",
   "execution_count": null,
   "id": "12b68f5f",
   "metadata": {
    "slideshow": {
     "slide_type": "fragment"
    }
   },
   "outputs": [],
   "source": [
    "append_42()"
   ]
  },
  {
   "cell_type": "code",
   "execution_count": null,
   "id": "1cba3c03",
   "metadata": {
    "slideshow": {
     "slide_type": "fragment"
    }
   },
   "outputs": [],
   "source": [
    "append_42()"
   ]
  },
  {
   "cell_type": "code",
   "execution_count": null,
   "id": "4de8c0cd",
   "metadata": {
    "slideshow": {
     "slide_type": "fragment"
    }
   },
   "outputs": [],
   "source": [
    "append_42()"
   ]
  },
  {
   "cell_type": "markdown",
   "id": "ccbc5537",
   "metadata": {
    "slideshow": {
     "slide_type": "subslide"
    }
   },
   "source": [
    "### Solution\n",
    "\n",
    "This problem can be resolved by using a sentinel value to indicate that no argument is passed to the function. Generally, `None` can be used as a sentinel value in this kind of situations."
   ]
  },
  {
   "cell_type": "code",
   "execution_count": null,
   "id": "348bcbd1",
   "metadata": {
    "slideshow": {
     "slide_type": "fragment"
    }
   },
   "outputs": [],
   "source": [
    "def append_42(sequence=None):\n",
    "    if sequence is None:\n",
    "        sequence = []\n",
    "    sequence.append(42)\n",
    "    print(sequence)"
   ]
  },
  {
   "cell_type": "code",
   "execution_count": null,
   "id": "3c15584a",
   "metadata": {
    "slideshow": {
     "slide_type": "fragment"
    }
   },
   "outputs": [],
   "source": [
    "append_42()"
   ]
  },
  {
   "cell_type": "code",
   "execution_count": null,
   "id": "55bea726",
   "metadata": {
    "slideshow": {
     "slide_type": "fragment"
    }
   },
   "outputs": [],
   "source": [
    "append_42()"
   ]
  },
  {
   "cell_type": "code",
   "execution_count": null,
   "id": "240c5dc9",
   "metadata": {
    "slideshow": {
     "slide_type": "fragment"
    }
   },
   "outputs": [],
   "source": [
    "append_42()"
   ]
  },
  {
   "cell_type": "markdown",
   "id": "caf2698c",
   "metadata": {
    "slideshow": {
     "slide_type": "slide"
    }
   },
   "source": [
    "# Pass-by-value vs Pass-by-reference\n",
    "\n",
    "- **Pass-by-value:** A copy of the argument is passed to the function.\n",
    "- **Pass-by-reference:** A reference to the argument is passed to the function.\n",
    "\n",
    "In Python, a hybrid of pass-by-value and pass-by-reference is applied, i.e. the reference to an object (not memory location) is passed to the function, but the reference is passed by value. This is known as pass-by-assignment or pass-by-sharing. "
   ]
  },
  {
   "cell_type": "code",
   "execution_count": null,
   "id": "b5eb3dad",
   "metadata": {
    "slideshow": {
     "slide_type": "fragment"
    }
   },
   "outputs": [],
   "source": [
    "def set_to_42(param):\n",
    "    param = 42\n",
    "    \n",
    "\n",
    "sequence = [24, 24.67, \"foo\", [1, 2, 3], (1, 2, 3), {1, 2, 3}, {\"a\": 1, \"b\": 2, \"c\": 3}]\n",
    "    \n",
    "for item in sequence:\n",
    "    set_to_42(item)\n",
    "    print(item)"
   ]
  },
  {
   "cell_type": "markdown",
   "id": "2b1cf535",
   "metadata": {
    "slideshow": {
     "slide_type": "subslide"
    }
   },
   "source": [
    "Nevertheless, mutable objects, such as lists, sets, dictionaries, can still be mutated because their reference is passed to the function."
   ]
  },
  {
   "cell_type": "code",
   "execution_count": null,
   "id": "796c9dcc",
   "metadata": {
    "slideshow": {
     "slide_type": "fragment"
    }
   },
   "outputs": [],
   "source": [
    "def add_42(sequence):\n",
    "    sequence.add(42)\n",
    "    \n",
    "sequence = {1, 2, 3}\n",
    "add_42(sequence)\n",
    "sequence"
   ]
  },
  {
   "cell_type": "code",
   "execution_count": null,
   "id": "8d14b134",
   "metadata": {
    "slideshow": {
     "slide_type": "fragment"
    }
   },
   "outputs": [],
   "source": [
    "def put_42(dictionary):\n",
    "    dictionary[\"42\"] = 42\n",
    "    \n",
    "d = {\"a\": 1, \"b\": 2, \"c\": 3}\n",
    "put_42(d)\n",
    "d"
   ]
  },
  {
   "cell_type": "markdown",
   "id": "cb337281",
   "metadata": {
    "slideshow": {
     "slide_type": "slide"
    }
   },
   "source": [
    "# `return` statement\n",
    "\n",
    "`return` statement is a fundamental idea in functions. It allows us to send back objects to function callers and exits the function. These returned objects are known as return values.\n",
    "\n",
    "`return` statement can return any kind of object from functions. Its general form is as follows:\n",
    "\n",
    "```python\n",
    "def <function_name>([<parameters>]):\n",
    "    <statement(s)>\n",
    "    return [<expression>]\n",
    "    \n",
    "response = <function_name>([<arguments>])\n",
    "```\n",
    "\n",
    "This means that the function `<function_name>` sends back the result of `<expression>` to the caller. If `<expression>` is omitted, an empty value of `None` is returned."
   ]
  },
  {
   "cell_type": "markdown",
   "id": "32a665c2",
   "metadata": {
    "slideshow": {
     "slide_type": "slide"
    }
   },
   "source": [
    "### Void functions"
   ]
  },
  {
   "cell_type": "code",
   "execution_count": null,
   "id": "aef8fb14",
   "metadata": {
    "slideshow": {
     "slide_type": "subslide"
    }
   },
   "outputs": [],
   "source": [
    "def greet():\n",
    "    print(\"Hello world!\")\n",
    "    print(\"We are learning Python\")\n",
    "    \n",
    "greet()"
   ]
  },
  {
   "cell_type": "code",
   "execution_count": null,
   "id": "a7b7c72f",
   "metadata": {
    "slideshow": {
     "slide_type": "fragment"
    }
   },
   "outputs": [],
   "source": [
    "def greet():\n",
    "    print(\"Hello world!\")\n",
    "    print(\"We are learning Python\")\n",
    "    return\n",
    "    \n",
    "greet()"
   ]
  },
  {
   "cell_type": "code",
   "execution_count": null,
   "id": "16cd024b",
   "metadata": {
    "slideshow": {
     "slide_type": "fragment"
    }
   },
   "outputs": [],
   "source": [
    "response = greet()\n",
    "print(response)"
   ]
  },
  {
   "cell_type": "markdown",
   "id": "25722fe0",
   "metadata": {
    "slideshow": {
     "slide_type": "subslide"
    }
   },
   "source": [
    "`return` statement allows us to exit from a function early. Usually it is used as a way of guard check."
   ]
  },
  {
   "cell_type": "code",
   "execution_count": null,
   "id": "b5b46225",
   "metadata": {
    "slideshow": {
     "slide_type": "fragment"
    }
   },
   "outputs": [],
   "source": [
    "def vote(name, age):\n",
    "    if age < 18:\n",
    "        return\n",
    "    print(f\"{name} voted\")"
   ]
  },
  {
   "cell_type": "code",
   "execution_count": null,
   "id": "480b821c",
   "metadata": {
    "slideshow": {
     "slide_type": "fragment"
    }
   },
   "outputs": [],
   "source": [
    "vote(\"John Doe\", 42)"
   ]
  },
  {
   "cell_type": "code",
   "execution_count": null,
   "id": "a036dc94",
   "metadata": {
    "slideshow": {
     "slide_type": "fragment"
    }
   },
   "outputs": [],
   "source": [
    "vote(\"Bob Smith\", 17)"
   ]
  },
  {
   "cell_type": "markdown",
   "id": "974d1e6f",
   "metadata": {
    "slideshow": {
     "slide_type": "slide"
    }
   },
   "source": [
    "### Data-returning functions"
   ]
  },
  {
   "cell_type": "code",
   "execution_count": null,
   "id": "664b9637",
   "metadata": {
    "slideshow": {
     "slide_type": "fragment"
    }
   },
   "outputs": [],
   "source": [
    "def euclidean_distance(x1, y1, x2, y2):\n",
    "    distance = ((x1 - x2) ** 2 + (y1 - y2) ** 2) ** 0.5\n",
    "    return distance"
   ]
  },
  {
   "cell_type": "code",
   "execution_count": null,
   "id": "8f36acfc",
   "metadata": {
    "slideshow": {
     "slide_type": "fragment"
    }
   },
   "outputs": [],
   "source": [
    "euclidean_distance(0, 1, 2, 3)"
   ]
  },
  {
   "cell_type": "code",
   "execution_count": null,
   "id": "b810495b",
   "metadata": {
    "slideshow": {
     "slide_type": "fragment"
    }
   },
   "outputs": [],
   "source": [
    "def compute_factorial(number):\n",
    "    factorial = 1\n",
    "    for i in range(2, number + 1):\n",
    "        factorial *= i\n",
    "    return factorial"
   ]
  },
  {
   "cell_type": "code",
   "execution_count": null,
   "id": "3e84b209",
   "metadata": {
    "slideshow": {
     "slide_type": "fragment"
    }
   },
   "outputs": [],
   "source": [
    "compute_factorial(5)"
   ]
  },
  {
   "cell_type": "code",
   "execution_count": null,
   "id": "407ad3cc",
   "metadata": {
    "slideshow": {
     "slide_type": "subslide"
    }
   },
   "outputs": [],
   "source": [
    "def get_colors():\n",
    "    return [\"white\", \"black\", \"red\", \"green\", \"yellow\"]"
   ]
  },
  {
   "cell_type": "code",
   "execution_count": null,
   "id": "54a5c4a7",
   "metadata": {
    "slideshow": {
     "slide_type": "fragment"
    }
   },
   "outputs": [],
   "source": [
    "get_colors()"
   ]
  },
  {
   "cell_type": "code",
   "execution_count": null,
   "id": "5ffcd40a",
   "metadata": {
    "slideshow": {
     "slide_type": "fragment"
    }
   },
   "outputs": [],
   "source": [
    "get_colors()[1:3]"
   ]
  },
  {
   "cell_type": "code",
   "execution_count": null,
   "id": "704c4a77",
   "metadata": {
    "slideshow": {
     "slide_type": "fragment"
    }
   },
   "outputs": [],
   "source": [
    "def get_person():\n",
    "    return {\"first_name\": \"John\", \"last_name\": \"Doe\", \"age\": 42}"
   ]
  },
  {
   "cell_type": "code",
   "execution_count": null,
   "id": "65546e7a",
   "metadata": {
    "slideshow": {
     "slide_type": "fragment"
    }
   },
   "outputs": [],
   "source": [
    "get_person()"
   ]
  },
  {
   "cell_type": "code",
   "execution_count": null,
   "id": "9768f698",
   "metadata": {
    "slideshow": {
     "slide_type": "fragment"
    }
   },
   "outputs": [],
   "source": [
    "get_person()[\"age\"]"
   ]
  },
  {
   "cell_type": "code",
   "execution_count": null,
   "id": "ad4a9016",
   "metadata": {
    "slideshow": {
     "slide_type": "subslide"
    }
   },
   "outputs": [],
   "source": [
    "def compute_fibonacci(n):\n",
    "    if n == 0:\n",
    "        return 0\n",
    "    if n == 1:\n",
    "        return 1\n",
    "    a, b = 0, 1\n",
    "    for i in range(n - 1):\n",
    "        a, b = b, a + b\n",
    "    return b"
   ]
  },
  {
   "cell_type": "code",
   "execution_count": null,
   "id": "8e175dc9",
   "metadata": {
    "slideshow": {
     "slide_type": "fragment"
    }
   },
   "outputs": [],
   "source": [
    "compute_fibonacci(0)"
   ]
  },
  {
   "cell_type": "code",
   "execution_count": null,
   "id": "f498bdc2",
   "metadata": {
    "slideshow": {
     "slide_type": "fragment"
    }
   },
   "outputs": [],
   "source": [
    "compute_fibonacci(1)"
   ]
  },
  {
   "cell_type": "code",
   "execution_count": null,
   "id": "0a1f89df",
   "metadata": {
    "slideshow": {
     "slide_type": "fragment"
    }
   },
   "outputs": [],
   "source": [
    "compute_fibonacci(11)"
   ]
  },
  {
   "cell_type": "markdown",
   "id": "d74ac5ad",
   "metadata": {
    "slideshow": {
     "slide_type": "slide"
    }
   },
   "source": [
    "## Returning multiple values\n",
    "\n",
    "Tuples can be used to return multiple values from a function."
   ]
  },
  {
   "cell_type": "code",
   "execution_count": null,
   "id": "32efaf95",
   "metadata": {
    "slideshow": {
     "slide_type": "fragment"
    }
   },
   "outputs": [],
   "source": [
    "def compute_rectangle_attributes(length, width):\n",
    "    perimeter = 2 * (length + width)\n",
    "    area = length * width\n",
    "    return perimeter, area"
   ]
  },
  {
   "cell_type": "code",
   "execution_count": null,
   "id": "d9720d70",
   "metadata": {
    "slideshow": {
     "slide_type": "fragment"
    }
   },
   "outputs": [],
   "source": [
    "perimeter, area = compute_rectangle_attributes(5, 8)\n",
    "print(f\"Perimeter: {perimeter}\")\n",
    "print(f\"Area: {area}\")"
   ]
  },
  {
   "cell_type": "markdown",
   "id": "27df4df4",
   "metadata": {
    "slideshow": {
     "slide_type": "slide"
    }
   },
   "source": [
    "## Variable-length arguments"
   ]
  },
  {
   "cell_type": "code",
   "execution_count": null,
   "id": "c1253db2",
   "metadata": {
    "slideshow": {
     "slide_type": "fragment"
    }
   },
   "outputs": [],
   "source": [
    "def sum_of_squares(x1, x2, x3):\n",
    "    return x1 ** 2 + x2 ** 2 + x3 ** 2\n",
    "\n",
    "sum_of_squares(1, 2, 3)"
   ]
  },
  {
   "cell_type": "code",
   "execution_count": null,
   "id": "dd97b72d",
   "metadata": {
    "slideshow": {
     "slide_type": "fragment"
    }
   },
   "outputs": [],
   "source": [
    "def sum_of_squares(x1, x2, x3, x4):\n",
    "    return x1 ** 2 + x2 ** 2 + x3 ** 2 + x4 ** 2\n",
    "\n",
    "sum_of_squares(1, 2, 3, 4)"
   ]
  },
  {
   "cell_type": "markdown",
   "id": "9011a7b5",
   "metadata": {
    "slideshow": {
     "slide_type": "subslide"
    }
   },
   "source": [
    "A sequence object can be used as an argument, such as list or tuple."
   ]
  },
  {
   "cell_type": "code",
   "execution_count": null,
   "id": "66584f06",
   "metadata": {
    "slideshow": {
     "slide_type": "fragment"
    }
   },
   "outputs": [],
   "source": [
    "def sum_of_squares(x):\n",
    "    result = 0\n",
    "    for i in x:\n",
    "        result += i ** 2\n",
    "    return result"
   ]
  },
  {
   "cell_type": "code",
   "execution_count": null,
   "id": "6bdfc63e",
   "metadata": {
    "slideshow": {
     "slide_type": "fragment"
    }
   },
   "outputs": [],
   "source": [
    "sum_of_squares([1, 2, 3])"
   ]
  },
  {
   "cell_type": "code",
   "execution_count": null,
   "id": "56582e84",
   "metadata": {
    "slideshow": {
     "slide_type": "fragment"
    }
   },
   "outputs": [],
   "source": [
    "sum_of_squares([1, 2, 3, 4])"
   ]
  },
  {
   "cell_type": "code",
   "execution_count": null,
   "id": "086e5006",
   "metadata": {
    "slideshow": {
     "slide_type": "fragment"
    }
   },
   "outputs": [],
   "source": [
    "sum_of_squares([1, 2, 3, 4, 5])"
   ]
  },
  {
   "cell_type": "markdown",
   "id": "f2e9e31e",
   "metadata": {
    "slideshow": {
     "slide_type": "subslide"
    }
   },
   "source": [
    "### Argument tuple packing\n",
    "\n",
    "Variable-length arguments can be provided to a function via argument tuple packing indicated by `*`."
   ]
  },
  {
   "cell_type": "code",
   "execution_count": null,
   "id": "4020b72b",
   "metadata": {
    "slideshow": {
     "slide_type": "fragment"
    }
   },
   "outputs": [],
   "source": [
    "def sum_of_squares(*args):\n",
    "    return args, type(args)"
   ]
  },
  {
   "cell_type": "code",
   "execution_count": null,
   "id": "2d85b6b1",
   "metadata": {
    "slideshow": {
     "slide_type": "fragment"
    }
   },
   "outputs": [],
   "source": [
    "sum_of_squares(1, 2, 3)"
   ]
  },
  {
   "cell_type": "code",
   "execution_count": null,
   "id": "eb5c8c5f",
   "metadata": {
    "slideshow": {
     "slide_type": "fragment"
    }
   },
   "outputs": [],
   "source": [
    "def sum_of_squares(*args):\n",
    "    result = 0\n",
    "    for i in args:\n",
    "        result += i ** 2\n",
    "    return result"
   ]
  },
  {
   "cell_type": "code",
   "execution_count": null,
   "id": "5613571d",
   "metadata": {
    "slideshow": {
     "slide_type": "fragment"
    }
   },
   "outputs": [],
   "source": [
    "sum_of_squares(1, 2, 3)"
   ]
  },
  {
   "cell_type": "code",
   "execution_count": null,
   "id": "e244a5aa",
   "metadata": {
    "slideshow": {
     "slide_type": "fragment"
    }
   },
   "outputs": [],
   "source": [
    "sum_of_squares(1, 2, 3, 4, 5)"
   ]
  },
  {
   "cell_type": "markdown",
   "id": "fc2b6422",
   "metadata": {
    "slideshow": {
     "slide_type": "subslide"
    }
   },
   "source": [
    "A tuple can be unpacked via `*` when passed as an argument to a function."
   ]
  },
  {
   "cell_type": "code",
   "execution_count": null,
   "id": "96fbb5eb",
   "metadata": {
    "slideshow": {
     "slide_type": "fragment"
    }
   },
   "outputs": [],
   "source": [
    "t = (10, 7, 15, 6, 42)\n",
    "sum_of_squares(*t)"
   ]
  },
  {
   "cell_type": "markdown",
   "id": "1bbaab11",
   "metadata": {
    "slideshow": {
     "slide_type": "subslide"
    }
   },
   "source": [
    "### Argument dictionary packing\n",
    "\n",
    "Variable-length arguments can be provided to a function via argument dictionary packing indicated by `**`."
   ]
  },
  {
   "cell_type": "code",
   "execution_count": null,
   "id": "76e3e91e",
   "metadata": {
    "slideshow": {
     "slide_type": "fragment"
    }
   },
   "outputs": [],
   "source": [
    "def pretty_print(**kwargs):\n",
    "    return kwargs, type(kwargs)"
   ]
  },
  {
   "cell_type": "code",
   "execution_count": null,
   "id": "955ae2b8",
   "metadata": {
    "slideshow": {
     "slide_type": "fragment"
    }
   },
   "outputs": [],
   "source": [
    "pretty_print(name=\"Alice\", age=24)"
   ]
  },
  {
   "cell_type": "code",
   "execution_count": null,
   "id": "210797df",
   "metadata": {
    "slideshow": {
     "slide_type": "fragment"
    }
   },
   "outputs": [],
   "source": [
    "def pretty_print(**kwargs):\n",
    "    for key, value in kwargs.items():\n",
    "        print(f\"{key} => {value}\")"
   ]
  },
  {
   "cell_type": "code",
   "execution_count": null,
   "id": "b2feed11",
   "metadata": {
    "slideshow": {
     "slide_type": "fragment"
    }
   },
   "outputs": [],
   "source": [
    "pretty_print(name=\"Alice\", age=24)"
   ]
  },
  {
   "cell_type": "code",
   "execution_count": null,
   "id": "c9d8faa6",
   "metadata": {
    "slideshow": {
     "slide_type": "fragment"
    }
   },
   "outputs": [],
   "source": [
    "pretty_print(a=1, b=[2, 3, 4], c=\"Hello world!\")"
   ]
  },
  {
   "cell_type": "markdown",
   "id": "d0dedcd0",
   "metadata": {
    "slideshow": {
     "slide_type": "subslide"
    }
   },
   "source": [
    "A dictionary can be unpacked via `**` when passed as an argument to a function."
   ]
  },
  {
   "cell_type": "code",
   "execution_count": null,
   "id": "948d3531",
   "metadata": {
    "slideshow": {
     "slide_type": "fragment"
    }
   },
   "outputs": [],
   "source": [
    "d = {'name': 'Alice', 'age': 24}\n",
    "pretty_print(**d)"
   ]
  },
  {
   "cell_type": "code",
   "execution_count": null,
   "id": "a8d90f7a",
   "metadata": {},
   "outputs": [],
   "source": []
  }
 ],
 "metadata": {
  "celltoolbar": "Slideshow",
  "kernelspec": {
   "display_name": "Python 3 (ipykernel)",
   "language": "python",
   "name": "python3"
  },
  "language_info": {
   "codemirror_mode": {
    "name": "ipython",
    "version": 3
   },
   "file_extension": ".py",
   "mimetype": "text/x-python",
   "name": "python",
   "nbconvert_exporter": "python",
   "pygments_lexer": "ipython3",
   "version": "3.8.10"
  }
 },
 "nbformat": 4,
 "nbformat_minor": 5
}
