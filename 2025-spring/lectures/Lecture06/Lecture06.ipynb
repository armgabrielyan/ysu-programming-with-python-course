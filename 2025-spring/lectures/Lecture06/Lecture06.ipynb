{
 "cells": [
  {
   "cell_type": "markdown",
   "id": "70e592c3",
   "metadata": {},
   "source": [
    "# Programming with Python\n",
    "\n",
    "## Lecture 06: Type hints, descriptors\n",
    "\n",
    "### Armen Gabrielyan\n",
    "\n",
    "#### Yerevan State University / ASDS\n",
    "\n",
    "#### 22 Mar, 2025"
   ]
  },
  {
   "cell_type": "markdown",
   "id": "d79b4164",
   "metadata": {},
   "source": [
    "## TypedDict\n",
    "\n",
    "`TypedDict` declares a dictionary type that expects all of its instances to have a certain set of keys, where each key is associated with a value of a consistent type. This expectation is not checked at runtime but is only enforced by type checkers.\n",
    "\n",
    "It’s tempting to use TypedDict to protect against errors while handling dynamic data structures like JSON API responses. But correct handling of JSON must be done at runtime, and not with static type checking. For runtime\n",
    "checking of JSON-like structures using type hints, check out the `pydantic` package.\n",
    "\n",
    "*References:*\n",
    "\n",
    "- [TypedDict](https://docs.python.org/3/library/typing.html#typing.TypedDict)\n",
    "- Fluent Python, Luciano Ramalho"
   ]
  },
  {
   "cell_type": "markdown",
   "id": "71c87919",
   "metadata": {},
   "source": [
    "### Practice\n",
    "\n",
    "Show example 1."
   ]
  },
  {
   "cell_type": "markdown",
   "id": "707314d5",
   "metadata": {},
   "source": [
    "## Type casting\n",
    "\n",
    "`typing.cast` is used to explicitly tell the type checker that an expression should be treated as a specific type. It does not change the actual value at runtime but is useful for static type checking with tools like `mypy`."
   ]
  },
  {
   "cell_type": "markdown",
   "id": "33b381bd",
   "metadata": {},
   "source": [
    "### Practice\n",
    "\n",
    "Show example 2."
   ]
  },
  {
   "cell_type": "markdown",
   "id": "57b03505",
   "metadata": {},
   "source": [
    "# Generic\n",
    "\n",
    "**Generic classes** allow defining reusable classes that can handle multiple types while maintaining type safety. They can be defined by using `typing.Generic` abstract base class for generic types."
   ]
  },
  {
   "cell_type": "markdown",
   "id": "45733133",
   "metadata": {},
   "source": [
    "### Practice\n",
    "\n",
    "Show example 3."
   ]
  },
  {
   "cell_type": "markdown",
   "id": "e871f7dc",
   "metadata": {},
   "source": [
    "## Generic static protocols\n",
    "\n",
    "**Generic static protocols** allow defining interfaces that enforce structure while keeping type flexibility. They are useful when designing generic utilities, factories or contracts.\n",
    "\n",
    "`typing` module includes several generic static protocols, such as `SupportsAbs`, `SupportsInt`, `SupportsFloat`."
   ]
  },
  {
   "cell_type": "markdown",
   "id": "1062e0b4",
   "metadata": {},
   "source": [
    "## `typing.runtime_checkable`\n",
    "\n",
    "The `@runtime_checkable` decorator from `typing` allows protocols to be checked at runtime using `isinstance()` and `issubclass()`. This is useful when working with structural checks similar to abstract base classes."
   ]
  },
  {
   "cell_type": "markdown",
   "id": "3580f4f3",
   "metadata": {},
   "source": [
    "### Practice\n",
    "\n",
    "Show example 4."
   ]
  },
  {
   "cell_type": "markdown",
   "id": "1e81d3fc",
   "metadata": {},
   "source": [
    "## Typing map\n",
    "\n",
    "![Typing map](resources/typing_map.png)"
   ]
  },
  {
   "cell_type": "markdown",
   "id": "98da1cd0",
   "metadata": {},
   "source": [
    "## Descriptors\n",
    "\n",
    "**Descriptors** are Python objects that implement a method of the descriptor protocol that define the behavior of attribute access. They allow you to customize how attributes are retrieved, set, or deleted. Descriptors are a key part of Python’s object model and are used behind the scenes in properties, methods, static methods, class methods and `super()`. Additionally, their use cases include validation, read-only, computed and lazy attributes.\n",
    "\n",
    "The default behavior for attribute access is to get, set, or delete the attribute from an object’s dictionary. For instance, `a.x` has a lookup chain starting with `a.__dict__['x']`, then `type(a).__dict__['x']`, and continuing through the method resolution order of `type(a)`. If the looked-up value is an object defining one of the descriptor methods, then Python may override the default behavior and invoke the descriptor method instead. Where this occurs in the precedence chain depends on which descriptor methods were defined.\n",
    "\n",
    "### Descriptor protocol\n",
    "\n",
    "The definition of the **descriptor protocol** includes the following methods:\n",
    "\n",
    "```python\n",
    "__get__(self, instance, owner=None) -> object\n",
    "__set__(self, instance, value) -> None\n",
    "__delete__(self, instance) -> None\n",
    "__set_name__(self, owner, name)\n",
    "```\n",
    "\n",
    "- `self` is the instance of the descriptor.\n",
    "- `instance` is the instance of the object the descriptor is attached to.\n",
    "- `owner` is the type of the object the descriptor is attached to.\n",
    "\n",
    "Descriptors can be classified into:\n",
    "\n",
    "- **Non-data descriptors:** Only implement `__get__` (e.g. methods).\n",
    "- **Data descriptors:** Implement `__set__` or `__delete__` along with `__get__` (e.g. properties).\n",
    "\n",
    "*References*\n",
    "\n",
    "Throughtout this section the following resources are heavily used:\n",
    "\n",
    "- [Descriptor Guide](https://docs.python.org/3/howto/descriptor.html)"
   ]
  },
  {
   "cell_type": "code",
   "execution_count": null,
   "id": "a96b710e",
   "metadata": {},
   "outputs": [],
   "source": [
    "class SimpleDescriptor:\n",
    "    def __init__(self, name=None):\n",
    "        self.name = name\n",
    "\n",
    "    def __get__(self, instance, owner=None):\n",
    "        print(f\"__get__ called: self={self}, instance={instance}, owner={owner}\")\n",
    "        if instance is None:\n",
    "            return self\n",
    "        return instance.__dict__.get(self.name, None)\n",
    "\n",
    "    def __set__(self, instance, value):\n",
    "        print(f\"__set__ called: self={self}, instance={instance}, value={value}\")\n",
    "        instance.__dict__[self.name] = value\n",
    "\n",
    "    def __delete__(self, instance):\n",
    "        print(f\"__delete__ called: self={self}, instance={instance}\")\n",
    "        del instance.__dict__[self.name]\n",
    "\n",
    "class Point:\n",
    "    x = SimpleDescriptor(\"x\")\n",
    "    y = SimpleDescriptor(\"y\")"
   ]
  },
  {
   "cell_type": "code",
   "execution_count": null,
   "id": "2e93066b",
   "metadata": {},
   "outputs": [],
   "source": [
    "obj = Point()"
   ]
  },
  {
   "cell_type": "code",
   "execution_count": null,
   "id": "c546a796",
   "metadata": {},
   "outputs": [],
   "source": [
    "obj.x = 10 # Triggers __set__"
   ]
  },
  {
   "cell_type": "code",
   "execution_count": null,
   "id": "7a26d50c",
   "metadata": {},
   "outputs": [],
   "source": [
    "obj.x # Triggers __get__"
   ]
  },
  {
   "cell_type": "code",
   "execution_count": null,
   "id": "a3d83e94",
   "metadata": {},
   "outputs": [],
   "source": [
    "del obj.x # Triggers __delete__"
   ]
  },
  {
   "cell_type": "code",
   "execution_count": null,
   "id": "f10b2b42",
   "metadata": {},
   "outputs": [],
   "source": [
    "Point.x # Triggers __get__ with instance set to None"
   ]
  },
  {
   "cell_type": "markdown",
   "id": "33a5fcf9",
   "metadata": {},
   "source": [
    "### Read-only data descriptor\n",
    "\n",
    "A **read-only data descriptor** is a descriptor that allows attribute access but prevents modification. It is commonly used to enforce immutability in class attributes.\n",
    "\n",
    "Read-only data descritor is defined in the following way:\n",
    "\n",
    "- Implements `__get__()` to return a value.\n",
    "- Implements `__set__()` but raises an error to prevent modification.\n",
    "- Optionally, implements `__delete__()` to prevent deletion."
   ]
  },
  {
   "cell_type": "code",
   "execution_count": null,
   "id": "19fa3030",
   "metadata": {},
   "outputs": [],
   "source": [
    "class ReadOnly:\n",
    "    def __init__(self, name=None):\n",
    "        self.name = name\n",
    "\n",
    "    def __get__(self, instance, owner=None):\n",
    "        print(f\"__get__ called: self={self}, instance={instance}, owner={owner}\")\n",
    "        if instance is None:\n",
    "            return self\n",
    "        return instance.__dict__.get(self.name, None) # Return stored value\n",
    "\n",
    "    def __set__(self, instance, value):\n",
    "        raise AttributeError(\"This attribute is read-only\") # Prevent modification\n",
    "\n",
    "    def __delete__(self, instance):\n",
    "        raise AttributeError(\"Cannot delete this attribute\") # Prevent deletion\n",
    "\n",
    "class MyClass:\n",
    "    attr = ReadOnly(\"attr\")  # Read-only attribute"
   ]
  },
  {
   "cell_type": "code",
   "execution_count": null,
   "id": "bd1728ff",
   "metadata": {},
   "outputs": [],
   "source": [
    "obj = MyClass()\n",
    "obj.attr"
   ]
  },
  {
   "cell_type": "code",
   "execution_count": null,
   "id": "b64a71d4",
   "metadata": {},
   "outputs": [],
   "source": [
    "try:\n",
    "    obj.attr = 100  # Should raise an error\n",
    "except AttributeError as e:\n",
    "    print(e)"
   ]
  },
  {
   "cell_type": "code",
   "execution_count": null,
   "id": "6e89a90a",
   "metadata": {},
   "outputs": [],
   "source": [
    "try:\n",
    "    del obj.attr  # Should raise an error\n",
    "except AttributeError as e:\n",
    "    print(e)"
   ]
  },
  {
   "cell_type": "markdown",
   "id": "203beb6e",
   "metadata": {},
   "source": [
    "### `__dict__` attribute\n",
    "\n",
    "The `__dict__` attribute in Python is a dictionary that stores an object's writable attributes. It is available for instances and classes that allow dynamic attributes."
   ]
  },
  {
   "cell_type": "code",
   "execution_count": null,
   "id": "5f541d61",
   "metadata": {},
   "outputs": [],
   "source": [
    "class Rectangle:\n",
    "    num_of_sides: int = 4\n",
    "    \n",
    "    def __init__(self, width: int, height: int) -> None:\n",
    "        self.width = width\n",
    "        self.height = height"
   ]
  },
  {
   "cell_type": "code",
   "execution_count": null,
   "id": "ba7cfce7",
   "metadata": {},
   "outputs": [],
   "source": [
    "r = Rectangle(1, 2)\n",
    "\n",
    "print(r.__dict__)\n",
    "print(type(r))\n",
    "print(type(r).__dict__) # Same as print(Rectangle.__dict__)"
   ]
  },
  {
   "cell_type": "code",
   "execution_count": null,
   "id": "f6988e99",
   "metadata": {},
   "outputs": [],
   "source": [
    "print(r.width)\n",
    "print(type(r).num_of_sides)"
   ]
  },
  {
   "cell_type": "code",
   "execution_count": null,
   "id": "a59df760",
   "metadata": {
    "scrolled": true
   },
   "outputs": [],
   "source": [
    "# Using __dict__ attribute\n",
    "\n",
    "print(r.__dict__[\"width\"])\n",
    "print(type(r).__dict__[\"num_of_sides\"])"
   ]
  },
  {
   "cell_type": "markdown",
   "id": "50433f68",
   "metadata": {},
   "source": [
    "### Descriptor invocation\n",
    "\n",
    "A descriptor can be called directly with `desc.__get__(obj)` or `desc.__get__(None, cls)`.\n",
    "\n",
    "But it is more common for a descriptor to be invoked automatically from attribute access.\n",
    "\n",
    "Descriptors are invoked by the [`__getattribute__(self, name)`](https://docs.python.org/3/reference/datamodel.html#object.__getattribute__) method, which returns the attribute value or raises an `AttributeError` exception if an attribute is not found.\n",
    "\n",
    "The expression `obj.x` looks up the attribute `x` in the chain of namespaces for `obj`. If the search finds a descriptor outside of the instance `__dict__`, its `__get__()` method is invoked according to the precedence rules listed below.\n",
    "\n",
    "1. **`__getattribute__` method:** First the object's `__getattribute__` method is called, which is responsible for attribute access.\n",
    "2. **Data Descriptors:** If the attribute is found in the class (or its parent classes) and is a data descriptor, the descriptor's `__get__` method is called.\n",
    "3. **Instance Dictionary:** If the attribute is found in the object's `__dict__`, that value is returned.\n",
    "4. **Non-Data Descriptors**: If the attribute is found in the class (or its parent classes) and is a non-data descriptor (implements only `__get__`), the descriptor's `__get__` method is called.\n",
    "5. **Class Dictionary:** If the attribute is found in the class's `__dict__` (or its parent classes), that value is returned.\n",
    "6. **`__getattr__` method:** If the attribute is not found anywhere else and the object has a `__getattr__` method, that method is called.\n",
    "7. **`AttributeError`:** If all the above steps fail, Python raises an `AttributeError`."
   ]
  },
  {
   "cell_type": "code",
   "execution_count": null,
   "id": "98b28da9",
   "metadata": {},
   "outputs": [],
   "source": [
    "class DataDescriptor:\n",
    "    \"\"\"A descriptor that implements both __get__ and __set__\"\"\"\n",
    "    def __init__(self, name):\n",
    "        self.name = name\n",
    "        \n",
    "    def __get__(self, instance, owner=None):\n",
    "        print(f\"2. DataDescriptor.__get__ called for {self.name}\")\n",
    "        return f\"DataDescriptor value for {self.name}\"\n",
    "        \n",
    "    def __set__(self, instance, value):\n",
    "        print(f\"DataDescriptor.__set__ called for {self.name} with value {value}\")\n",
    "\n",
    "class NonDataDescriptor:\n",
    "    \"\"\"A descriptor that implements only __get__\"\"\"\n",
    "    def __init__(self, name):\n",
    "        self.name = name\n",
    "        \n",
    "    def __get__(self, instance, owner=None):\n",
    "        print(f\"4. NonDataDescriptor.__get__ called for {self.name}\")\n",
    "        return f\"NonDataDescriptor value for {self.name}\"\n",
    "    \n",
    "class OverridingNoGetDescriptor:\n",
    "    \"\"\"A descriptor that implements only __set__\"\"\"\n",
    "    def __init__(self, name):\n",
    "        self.name = name\n",
    "        \n",
    "    def __set__(self, instance, value):\n",
    "        print(f\"OverridingNoGetDescriptor.__set__ called for {self.name} with value {value}\")\n",
    "\n",
    "class MyClass:\n",
    "    data_desc_attr = DataDescriptor(\"data_desc\") # Data descriptor\n",
    "    non_data_desc_attr = NonDataDescriptor(\"non_data_desc\") # Non-data descriptor\n",
    "    over_no_get_attr = OverridingNoGetDescriptor(\"overriding_no_get_attr\") # Overriding descriptor with no __get__\n",
    "    class_attr = \"class attribute\" # Regular class attribute\n",
    "    \n",
    "    def __init__(self):\n",
    "        self.instance_attr = \"instance attribute\" # Regular instance attribute\n",
    "        \n",
    "    def __getattr__(self, name):\n",
    "        print(f\"6. __getattr__ called for {name}\")\n",
    "        return f\"__getattr__ value for {name}\"\n",
    "        \n",
    "    def __getattribute__(self, name):\n",
    "        print(f\"1. __getattribute__ called for {name}\")\n",
    "        return super().__getattribute__(name)"
   ]
  },
  {
   "cell_type": "markdown",
   "id": "c31f5139",
   "metadata": {},
   "source": [
    "#### Lookup chain for different attributes"
   ]
  },
  {
   "cell_type": "code",
   "execution_count": null,
   "id": "57eae38c",
   "metadata": {},
   "outputs": [],
   "source": [
    "obj = MyClass()\n",
    "\n",
    "print(\"Accessing data descriptor:\")\n",
    "print(obj.data_desc_attr)\n",
    "\n",
    "print(\"\\nAccessing instance attribute:\")\n",
    "print(obj.instance_attr)\n",
    "\n",
    "print(\"\\nAccessing non-data descriptor:\")\n",
    "print(obj.non_data_desc_attr)\n",
    "\n",
    "print(\"\\nAccessing class attribute:\")\n",
    "print(obj.class_attr)\n",
    "\n",
    "print(\"\\nAccessing non-existent attribute:\")\n",
    "print(obj.doesnt_exist_attr)\n",
    "\n",
    "print(\"\\nAccessing overriding wiht no __get__ descriptor:\")\n",
    "print(obj.over_no_get_attr)"
   ]
  },
  {
   "cell_type": "markdown",
   "id": "496abfca",
   "metadata": {},
   "source": [
    "#### Instance attributes override non-data descriptors"
   ]
  },
  {
   "cell_type": "code",
   "execution_count": null,
   "id": "25377040",
   "metadata": {},
   "outputs": [],
   "source": [
    "obj = MyClass()\n",
    "\n",
    "obj.__dict__[\"non_data_desc_attr\"] = \"instance value overriding non-data descriptor\"\n",
    "\n",
    "print(\"\\nAccessing non-data descriptor after adding instance attribute:\")\n",
    "print(obj.non_data_desc_attr)"
   ]
  },
  {
   "cell_type": "markdown",
   "id": "559f40ac",
   "metadata": {},
   "source": [
    "#### Data descriptors override instance attributes"
   ]
  },
  {
   "cell_type": "code",
   "execution_count": null,
   "id": "c8ed5ad6",
   "metadata": {},
   "outputs": [],
   "source": [
    "obj = MyClass()\n",
    "\n",
    "obj.__dict__[\"data_desc_attr\"] = \"instance value trying to override data descriptor\"\n",
    "\n",
    "print(\"\\nAccessing data descriptor after adding instance attribute:\")\n",
    "print(obj.data_desc_attr)"
   ]
  },
  {
   "cell_type": "markdown",
   "id": "6ceb3ddb",
   "metadata": {},
   "source": [
    "#### Instance attributes override \"Overriding descriptor with no `__get__`\" descriptors"
   ]
  },
  {
   "cell_type": "code",
   "execution_count": null,
   "id": "53774565",
   "metadata": {},
   "outputs": [],
   "source": [
    "obj = MyClass()\n",
    "\n",
    "obj.__dict__[\"over_no_get_attr\"] = \"instance value overriding \\\"Overriding descriptor with no __get__\\\" descriptor\"\n",
    "\n",
    "print(\"\\nAccessing overriding wiht no __get__ descriptor after adding instance attribute:\")\n",
    "print(obj.over_no_get_attr)"
   ]
  },
  {
   "cell_type": "markdown",
   "id": "80a8acf7",
   "metadata": {},
   "source": [
    "### `__set_name__` magic method\n",
    "\n",
    "The `__set_name__(self, owner, name)` method is a special method for descriptors. It is automatically called when a descriptor is assigned as a class attribute that defines the name of the attribute the descriptor is managing. Thus, we do not need to manually set the attribute name."
   ]
  },
  {
   "cell_type": "code",
   "execution_count": null,
   "id": "b88d1236",
   "metadata": {},
   "outputs": [],
   "source": [
    "class SimpleDescriptor:\n",
    "    def __set_name__(self, owner, name):\n",
    "        print(f\"__set_name__ called: owner={owner}, name={name}\")\n",
    "        self.name = name  # Store attribute name\n",
    "\n",
    "    def __get__(self, instance, owner):\n",
    "        return instance.__dict__.get(self.name, None)\n",
    "\n",
    "    def __set__(self, instance, value):\n",
    "        instance.__dict__[self.name] = value\n",
    "\n",
    "class MyClass:\n",
    "    attr = SimpleDescriptor()  # Triggers __set_name__"
   ]
  },
  {
   "cell_type": "code",
   "execution_count": null,
   "id": "72888943",
   "metadata": {},
   "outputs": [],
   "source": [
    "obj = MyClass()\n",
    "\n",
    "obj.attr = 42\n",
    "obj.attr"
   ]
  },
  {
   "cell_type": "markdown",
   "id": "31f31354",
   "metadata": {},
   "source": [
    "### Validation example\n",
    "\n",
    "The `Validator` class is both an abstract base class and a managed attribute descriptor. Custom validators need to inherit from `Validator` and must supply a `validate()` method."
   ]
  },
  {
   "cell_type": "code",
   "execution_count": null,
   "id": "402d9969",
   "metadata": {},
   "outputs": [],
   "source": [
    "from abc import ABC, abstractmethod\n",
    "\n",
    "class Validator(ABC):\n",
    "    \"\"\"Base descriptor class for validation\"\"\"\n",
    "\n",
    "    def __set_name__(self, owner, name):\n",
    "        self.name = name\n",
    "        self.private_name = '_' + name\n",
    "\n",
    "    def __get__(self, obj, objtype=None):\n",
    "        return getattr(obj, self.private_name)\n",
    "\n",
    "    def __set__(self, obj, value):\n",
    "        self.validate(value)\n",
    "        setattr(obj, self.private_name, value)\n",
    "\n",
    "    @abstractmethod\n",
    "    def validate(self, value):\n",
    "        pass"
   ]
  },
  {
   "cell_type": "code",
   "execution_count": null,
   "id": "26d7db73",
   "metadata": {},
   "outputs": [],
   "source": [
    "class StringValidator(Validator):\n",
    "    \"\"\"Validates string values with optional length constraints\"\"\"\n",
    "\n",
    "    def __init__(self, min_length=None, max_length=None):\n",
    "        self.min_length = min_length\n",
    "        self.max_length = max_length\n",
    "\n",
    "    def validate(self, value):\n",
    "        if not isinstance(value, str):\n",
    "            raise TypeError(f\"{self.name} must be a string\")\n",
    "        \n",
    "        if self.min_length is not None and len(value) < self.min_length:\n",
    "            raise ValueError(f\"{self.name} must be at least {self.min_length} characters long\")\n",
    "        \n",
    "        if self.max_length is not None and len(value) > self.max_length:\n",
    "            raise ValueError(f\"{self.name} must be no more than {self.max_length} characters long\")\n",
    "        \n",
    "        return value"
   ]
  },
  {
   "cell_type": "code",
   "execution_count": null,
   "id": "c835f36d",
   "metadata": {},
   "outputs": [],
   "source": [
    "class RangeValidator(Validator):\n",
    "    \"\"\"Validates that a numeric value is within a specified range\"\"\"\n",
    "\n",
    "    def __init__(self, minimum=None, maximum=None):\n",
    "        self.minimum = minimum\n",
    "        self.maximum = maximum\n",
    "    \n",
    "    def validate(self, value):\n",
    "        if not isinstance(value, (int, float)):\n",
    "            raise TypeError(f\"{self.name} must be a number\")\n",
    "        \n",
    "        if self.minimum is not None and value < self.minimum:\n",
    "            raise ValueError(f\"{self.name} must be at least {self.minimum}\")\n",
    "        \n",
    "        if self.maximum is not None and value > self.maximum:\n",
    "            raise ValueError(f\"{self.name} must be no more than {self.maximum}\")\n",
    "        \n",
    "        return value"
   ]
  },
  {
   "cell_type": "code",
   "execution_count": null,
   "id": "bd34c009",
   "metadata": {},
   "outputs": [],
   "source": [
    "class Person:\n",
    "    name = StringValidator(min_length=2, max_length=50)\n",
    "    age = RangeValidator(minimum=0, maximum=150)\n",
    "    \n",
    "    def __init__(self, name, age):\n",
    "        self.name = name\n",
    "        self.age = age\n",
    "\n",
    "    def __repr__(self):\n",
    "        return f\"Person(name={self.name}, age={self.age})\""
   ]
  },
  {
   "cell_type": "code",
   "execution_count": null,
   "id": "bb7ed9b3",
   "metadata": {},
   "outputs": [],
   "source": [
    "try:\n",
    "    Person(\"J\", 42)\n",
    "except ValueError as e:\n",
    "    print(e)"
   ]
  },
  {
   "cell_type": "code",
   "execution_count": null,
   "id": "a7225a16",
   "metadata": {},
   "outputs": [],
   "source": [
    "try:\n",
    "    Person(\"John Doe\", -42)\n",
    "except ValueError as e:\n",
    "    print(e)"
   ]
  },
  {
   "cell_type": "code",
   "execution_count": null,
   "id": "49201907",
   "metadata": {},
   "outputs": [],
   "source": [
    "Person(\"John Doe\", 42)"
   ]
  },
  {
   "cell_type": "markdown",
   "id": "71cd3d4d",
   "metadata": {},
   "source": [
    "### LazyProperty example"
   ]
  },
  {
   "cell_type": "markdown",
   "id": "14e22f94",
   "metadata": {},
   "source": [
    "A lazy evaluation of a property is a design pattern used in programming where a property of an object is computed only when it is first accessed, and the result is then cached for future accesses. This can improve performance by delaying expensive computations until they are actually needed.\n",
    "\n",
    "We can use *non-data* descriptor to implement lazy property."
   ]
  },
  {
   "cell_type": "code",
   "execution_count": null,
   "id": "72151d3f",
   "metadata": {},
   "outputs": [],
   "source": [
    "import time\n",
    "\n",
    "class LazyProperty:\n",
    "    def __init__(self, func):\n",
    "        self.func = func\n",
    "        self.name = func.__name__\n",
    "\n",
    "    def __get__(self, instance, owner):\n",
    "        if instance is None:\n",
    "            return self\n",
    "        value = self.func(instance)\n",
    "        setattr(instance, self.name, value)  # Cache the computed value\n",
    "        return value\n",
    "\n",
    "class Model:\n",
    "    @LazyProperty\n",
    "    def expensive_value(self):\n",
    "        time.sleep(5)\n",
    "        return 42"
   ]
  },
  {
   "cell_type": "code",
   "execution_count": null,
   "id": "65872c93",
   "metadata": {},
   "outputs": [],
   "source": [
    "m = Model()"
   ]
  },
  {
   "cell_type": "code",
   "execution_count": null,
   "id": "73ca84bd",
   "metadata": {},
   "outputs": [],
   "source": [
    "m.expensive_value # computed on the first access"
   ]
  },
  {
   "cell_type": "code",
   "execution_count": null,
   "id": "89a4fbf7",
   "metadata": {},
   "outputs": [],
   "source": [
    "m.expensive_value # cached value is returned"
   ]
  },
  {
   "cell_type": "markdown",
   "id": "38f318e6",
   "metadata": {},
   "source": [
    "## Descriptors in Python internals"
   ]
  },
  {
   "cell_type": "markdown",
   "id": "77a27b97",
   "metadata": {},
   "source": [
    "### Descriptors in properties\n",
    "\n",
    "`property()` is implemented in terms of the descriptor protocol. `property()` returns a `Property` object that implements the descriptor protocol. It uses the parameters `fget`, `fset` and `fdel` for the actual implementation of the three methods of the protocol.\n",
    "\n",
    "Here is a pure Python equivalent that implements most of the core functionality."
   ]
  },
  {
   "cell_type": "code",
   "execution_count": null,
   "id": "2a84fa6b",
   "metadata": {},
   "outputs": [],
   "source": [
    "class Property:\n",
    "    \"Emulate PyProperty_Type() in Objects/descrobject.c\"\n",
    "\n",
    "    def __init__(self, fget=None, fset=None, fdel=None, doc=None):\n",
    "        self.fget = fget\n",
    "        self.fset = fset\n",
    "        self.fdel = fdel\n",
    "        if doc is None and fget is not None:\n",
    "            doc = fget.__doc__\n",
    "        self.__doc__ = doc\n",
    "\n",
    "    def __set_name__(self, owner, name):\n",
    "        self.__name__ = name\n",
    "\n",
    "    def __get__(self, obj, objtype=None):\n",
    "        if obj is None:\n",
    "            return self\n",
    "        if self.fget is None:\n",
    "            raise AttributeError\n",
    "        return self.fget(obj)\n",
    "\n",
    "    def __set__(self, obj, value):\n",
    "        if self.fset is None:\n",
    "            raise AttributeError\n",
    "        self.fset(obj, value)\n",
    "\n",
    "    def __delete__(self, obj):\n",
    "        if self.fdel is None:\n",
    "            raise AttributeError\n",
    "        self.fdel(obj)\n",
    "\n",
    "    def getter(self, fget):\n",
    "        return type(self)(fget, self.fset, self.fdel, self.__doc__)\n",
    "\n",
    "    def setter(self, fset):\n",
    "        return type(self)(self.fget, fset, self.fdel, self.__doc__)\n",
    "\n",
    "    def deleter(self, fdel):\n",
    "        return type(self)(self.fget, self.fset, fdel, self.__doc__)"
   ]
  },
  {
   "cell_type": "markdown",
   "id": "90632b98",
   "metadata": {},
   "source": [
    "### Descriptors in functions and methods\n",
    "\n",
    "Python’s object oriented features are built upon a function based environment. Using non-data descriptors, the two are merged seamlessly.\n",
    "\n",
    "Functions stored in class dictionaries get turned into methods when invoked. Methods only differ from regular functions in that the object instance is prepended to the other arguments. By convention, the instance is called self but could be called this or any other variable name.\n",
    "\n",
    "Methods can be created manually with `types.MethodType` which is roughly equivalent to the following class in Python."
   ]
  },
  {
   "cell_type": "code",
   "execution_count": null,
   "id": "37698e14",
   "metadata": {},
   "outputs": [],
   "source": [
    "class MethodType:\n",
    "    \"Emulate PyMethod_Type in Objects/classobject.c\"\n",
    "\n",
    "    def __init__(self, func, obj):\n",
    "        self.__func__ = func\n",
    "        self.__self__ = obj\n",
    "\n",
    "    def __call__(self, *args, **kwargs):\n",
    "        func = self.__func__\n",
    "        obj = self.__self__\n",
    "        return func(obj, *args, **kwargs)\n",
    "\n",
    "    def __getattribute__(self, name):\n",
    "        \"Emulate method_getset() in Objects/classobject.c\"\n",
    "        if name == '__doc__':\n",
    "            return self.__func__.__doc__\n",
    "        return object.__getattribute__(self, name)\n",
    "\n",
    "    def __getattr__(self, name):\n",
    "        \"Emulate method_getattro() in Objects/classobject.c\"\n",
    "        return getattr(self.__func__, name)\n",
    "\n",
    "    def __get__(self, obj, objtype=None):\n",
    "        \"Emulate method_descr_get() in Objects/classobject.c\"\n",
    "        return self"
   ]
  },
  {
   "cell_type": "markdown",
   "id": "cc45a6c2",
   "metadata": {},
   "source": [
    "To support automatic creation of methods, functions include the `__get__()` method for binding methods during attribute access. This means that functions are non-data descriptors that return bound methods during dotted lookup from an instance.\n",
    "\n",
    "The following code shows how this works."
   ]
  },
  {
   "cell_type": "code",
   "execution_count": null,
   "id": "67bb629b",
   "metadata": {},
   "outputs": [],
   "source": [
    "class Function:\n",
    "    ...\n",
    "\n",
    "    def __get__(self, obj, objtype=None):\n",
    "        \"Simulate func_descr_get() in Objects/funcobject.c\"\n",
    "        if obj is None:\n",
    "            return self\n",
    "        return MethodType(self, obj)"
   ]
  },
  {
   "cell_type": "markdown",
   "id": "7fb04dc1",
   "metadata": {},
   "source": [
    "#### How the function descriptor works in practice"
   ]
  },
  {
   "cell_type": "code",
   "execution_count": null,
   "id": "4bff7cf3",
   "metadata": {},
   "outputs": [],
   "source": [
    "class MyClass:\n",
    "    def my_func(self):\n",
    "         return self"
   ]
  },
  {
   "cell_type": "markdown",
   "id": "f376ec46",
   "metadata": {},
   "source": [
    "Accessing the function through the class dictionary or dotted access from a class does not invoke `__get__()`. Instead, it just returns the underlying function object."
   ]
  },
  {
   "cell_type": "code",
   "execution_count": null,
   "id": "429a0c05",
   "metadata": {},
   "outputs": [],
   "source": [
    "MyClass.__dict__[\"my_func\"]"
   ]
  },
  {
   "cell_type": "code",
   "execution_count": null,
   "id": "e0682314",
   "metadata": {},
   "outputs": [],
   "source": [
    "MyClass.my_func"
   ]
  },
  {
   "cell_type": "markdown",
   "id": "e2d35f63",
   "metadata": {},
   "source": [
    "The dotted lookup from an instance calls `__get__()` which returns a bound method object."
   ]
  },
  {
   "cell_type": "code",
   "execution_count": null,
   "id": "ee8f93c1",
   "metadata": {},
   "outputs": [],
   "source": [
    "obj = MyClass()\n",
    "obj.my_func"
   ]
  },
  {
   "cell_type": "markdown",
   "id": "46ce2150",
   "metadata": {},
   "source": [
    "Internally, the bound method stores the underlying function and the bound instance."
   ]
  },
  {
   "cell_type": "code",
   "execution_count": null,
   "id": "9603b3b6",
   "metadata": {},
   "outputs": [],
   "source": [
    "obj.my_func.__func__"
   ]
  },
  {
   "cell_type": "code",
   "execution_count": null,
   "id": "e0b45087",
   "metadata": {},
   "outputs": [],
   "source": [
    "obj.my_func.__self__"
   ]
  },
  {
   "cell_type": "code",
   "execution_count": null,
   "id": "23486261",
   "metadata": {},
   "outputs": [],
   "source": [
    "obj is obj.my_func.__self__"
   ]
  },
  {
   "cell_type": "markdown",
   "id": "999ebcfc",
   "metadata": {},
   "source": [
    "This is why `self` variable name is commonly used in methods."
   ]
  },
  {
   "cell_type": "markdown",
   "id": "8afa968c",
   "metadata": {},
   "source": [
    "### Method binding\n",
    "\n",
    "Non-data descriptors provide a simple mechanism for variations on the usual patterns of binding functions into methods.\n",
    "\n",
    "This chart summarizes the binding and its two most useful variants:\n",
    "\n",
    "\n",
    "| Transformation | Called from an object | Called from a class |\n",
    "|---|---|---|\n",
    "| function | f(obj, *args) | f(*args) |\n",
    "| staticmethod | f(*args) | f(*args) |\n",
    "| classmethod | f(type(obj), *args) | f(cls, *args) |"
   ]
  },
  {
   "cell_type": "markdown",
   "id": "7b01a144",
   "metadata": {},
   "source": [
    "### Static methods\n",
    "\n",
    "Using the non-data descriptor protocol, a pure Python version of `staticmethod()` would look like the following."
   ]
  },
  {
   "cell_type": "code",
   "execution_count": null,
   "id": "1205c253",
   "metadata": {},
   "outputs": [],
   "source": [
    "class StaticMethod:\n",
    "    \"Emulate PyStaticMethod_Type() in Objects/funcobject.c\"\n",
    "\n",
    "    def __init__(self, f):\n",
    "        self.f = f\n",
    "\n",
    "    def __get__(self, obj, objtype=None):\n",
    "        return self.f\n",
    "\n",
    "    def __call__(self, *args, **kwds):\n",
    "        return self.f(*args, **kwds)"
   ]
  },
  {
   "cell_type": "markdown",
   "id": "008d5901",
   "metadata": {},
   "source": [
    "### Class methods\n",
    "\n",
    "Using the non-data descriptor protocol, a pure Python version of classmethod() would look like the following."
   ]
  },
  {
   "cell_type": "code",
   "execution_count": null,
   "id": "d0cc6ddf",
   "metadata": {},
   "outputs": [],
   "source": [
    "class ClassMethod:\n",
    "    \"Emulate PyClassMethod_Type() in Objects/funcobject.c\"\n",
    "    def __init__(self, f):\n",
    "        self.f = f\n",
    "\n",
    "    def __get__(self, obj, klass=None):\n",
    "        if klass is None:\n",
    "            klass = type(obj)\n",
    "        def newfunc(*args):\n",
    "            return self.f(klass, *args)\n",
    "        return newfunc"
   ]
  }
 ],
 "metadata": {
  "kernelspec": {
   "display_name": "Python 3 (ipykernel)",
   "language": "python",
   "name": "python3"
  },
  "language_info": {
   "codemirror_mode": {
    "name": "ipython",
    "version": 3
   },
   "file_extension": ".py",
   "mimetype": "text/x-python",
   "name": "python",
   "nbconvert_exporter": "python",
   "pygments_lexer": "ipython3",
   "version": "3.12.9"
  }
 },
 "nbformat": 4,
 "nbformat_minor": 5
}
