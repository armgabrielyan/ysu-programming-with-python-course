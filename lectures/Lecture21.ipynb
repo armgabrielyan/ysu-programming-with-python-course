{
 "cells": [
  {
   "cell_type": "markdown",
   "id": "74750d32",
   "metadata": {
    "slideshow": {
     "slide_type": "slide"
    }
   },
   "source": [
    "# Programming with Python\n",
    "\n",
    "## Lecture 21: Built-in modules. Object-oriented programming\n",
    "\n",
    "### Armen Gabrielyan\n",
    "\n",
    "#### Yerevan State University\n",
    "#### Portmind"
   ]
  },
  {
   "cell_type": "markdown",
   "id": "6ea39b6c",
   "metadata": {
    "slideshow": {
     "slide_type": "slide"
    }
   },
   "source": [
    "## `math` module\n",
    "\n",
    "`math` module has built-in mathematical objects and functions to perform mathematical computations."
   ]
  },
  {
   "cell_type": "code",
   "execution_count": null,
   "id": "fabebe11",
   "metadata": {
    "slideshow": {
     "slide_type": "fragment"
    }
   },
   "outputs": [],
   "source": [
    "import math"
   ]
  },
  {
   "cell_type": "markdown",
   "id": "734d3f38",
   "metadata": {
    "slideshow": {
     "slide_type": "slide"
    }
   },
   "source": [
    "## Constants"
   ]
  },
  {
   "cell_type": "markdown",
   "id": "2bfac990",
   "metadata": {
    "slideshow": {
     "slide_type": "fragment"
    }
   },
   "source": [
    "### Pi ($\\pi$)"
   ]
  },
  {
   "cell_type": "code",
   "execution_count": null,
   "id": "70d32e8f",
   "metadata": {
    "slideshow": {
     "slide_type": "fragment"
    }
   },
   "outputs": [],
   "source": [
    "math.pi"
   ]
  },
  {
   "cell_type": "markdown",
   "id": "8d02007c",
   "metadata": {
    "slideshow": {
     "slide_type": "fragment"
    }
   },
   "source": [
    "### Euler's number ($e$)"
   ]
  },
  {
   "cell_type": "code",
   "execution_count": null,
   "id": "1c5008cb",
   "metadata": {
    "slideshow": {
     "slide_type": "fragment"
    }
   },
   "outputs": [],
   "source": [
    "math.e"
   ]
  },
  {
   "cell_type": "markdown",
   "id": "2bf05cd7",
   "metadata": {
    "slideshow": {
     "slide_type": "fragment"
    }
   },
   "source": [
    "### Infinity"
   ]
  },
  {
   "cell_type": "code",
   "execution_count": null,
   "id": "d2b55a7c",
   "metadata": {
    "slideshow": {
     "slide_type": "fragment"
    }
   },
   "outputs": [],
   "source": [
    "math.inf"
   ]
  },
  {
   "cell_type": "markdown",
   "id": "0eee908a",
   "metadata": {
    "slideshow": {
     "slide_type": "fragment"
    }
   },
   "source": [
    "### Not a Number (NaN)"
   ]
  },
  {
   "cell_type": "code",
   "execution_count": null,
   "id": "2ab586f6",
   "metadata": {
    "slideshow": {
     "slide_type": "fragment"
    }
   },
   "outputs": [],
   "source": [
    "math.nan"
   ]
  },
  {
   "cell_type": "markdown",
   "id": "a24cbfa2",
   "metadata": {
    "slideshow": {
     "slide_type": "slide"
    }
   },
   "source": [
    "## Arithmetic functions"
   ]
  },
  {
   "cell_type": "markdown",
   "id": "d00ed016",
   "metadata": {
    "slideshow": {
     "slide_type": "fragment"
    }
   },
   "source": [
    "### Factorial"
   ]
  },
  {
   "cell_type": "code",
   "execution_count": null,
   "id": "8d41c7a1",
   "metadata": {
    "slideshow": {
     "slide_type": "fragment"
    }
   },
   "outputs": [],
   "source": [
    "math.factorial(5)"
   ]
  },
  {
   "cell_type": "markdown",
   "id": "806a028f",
   "metadata": {
    "slideshow": {
     "slide_type": "fragment"
    }
   },
   "source": [
    "### GCD"
   ]
  },
  {
   "cell_type": "code",
   "execution_count": null,
   "id": "8169c228",
   "metadata": {
    "slideshow": {
     "slide_type": "fragment"
    }
   },
   "outputs": [],
   "source": [
    "math.gcd(18, 24)"
   ]
  },
  {
   "cell_type": "markdown",
   "id": "c7c3b99d",
   "metadata": {
    "slideshow": {
     "slide_type": "slide"
    }
   },
   "source": [
    "### Ceiling"
   ]
  },
  {
   "cell_type": "code",
   "execution_count": null,
   "id": "8466324b",
   "metadata": {
    "slideshow": {
     "slide_type": "fragment"
    }
   },
   "outputs": [],
   "source": [
    "math.ceil(42.12)"
   ]
  },
  {
   "cell_type": "code",
   "execution_count": null,
   "id": "2999f61c",
   "metadata": {
    "slideshow": {
     "slide_type": "fragment"
    }
   },
   "outputs": [],
   "source": [
    "math.ceil(-42.56)"
   ]
  },
  {
   "cell_type": "markdown",
   "id": "565dccd1",
   "metadata": {
    "slideshow": {
     "slide_type": "fragment"
    }
   },
   "source": [
    "### Floor"
   ]
  },
  {
   "cell_type": "code",
   "execution_count": null,
   "id": "d72196ca",
   "metadata": {
    "slideshow": {
     "slide_type": "fragment"
    }
   },
   "outputs": [],
   "source": [
    "math.floor(42.56)"
   ]
  },
  {
   "cell_type": "code",
   "execution_count": null,
   "id": "ff10170d",
   "metadata": {
    "slideshow": {
     "slide_type": "fragment"
    }
   },
   "outputs": [],
   "source": [
    "math.floor(-42.12)"
   ]
  },
  {
   "cell_type": "markdown",
   "id": "0cfdda70",
   "metadata": {
    "slideshow": {
     "slide_type": "slide"
    }
   },
   "source": [
    "## Power functions"
   ]
  },
  {
   "cell_type": "code",
   "execution_count": null,
   "id": "2d08cd53",
   "metadata": {
    "slideshow": {
     "slide_type": "fragment"
    }
   },
   "outputs": [],
   "source": [
    "math.pow(5, 2)"
   ]
  },
  {
   "cell_type": "code",
   "execution_count": null,
   "id": "0af1bae4",
   "metadata": {
    "slideshow": {
     "slide_type": "fragment"
    }
   },
   "outputs": [],
   "source": [
    "math.pow(5, 2.42)"
   ]
  },
  {
   "cell_type": "code",
   "execution_count": null,
   "id": "3e8d2eab",
   "metadata": {
    "slideshow": {
     "slide_type": "fragment"
    }
   },
   "outputs": [],
   "source": [
    "math.pow(2.42, 5)"
   ]
  },
  {
   "cell_type": "markdown",
   "id": "9db57aa6",
   "metadata": {
    "slideshow": {
     "slide_type": "slide"
    }
   },
   "source": [
    "## Logarithmic functions"
   ]
  },
  {
   "cell_type": "markdown",
   "id": "271ac222",
   "metadata": {
    "slideshow": {
     "slide_type": "fragment"
    }
   },
   "source": [
    "### Logarithm with natural base or given base"
   ]
  },
  {
   "cell_type": "code",
   "execution_count": null,
   "id": "fe5721dd",
   "metadata": {
    "slideshow": {
     "slide_type": "fragment"
    }
   },
   "outputs": [],
   "source": [
    "math.log(10)"
   ]
  },
  {
   "cell_type": "code",
   "execution_count": null,
   "id": "6b614791",
   "metadata": {
    "slideshow": {
     "slide_type": "fragment"
    }
   },
   "outputs": [],
   "source": [
    "math.log(10, 5)"
   ]
  },
  {
   "cell_type": "markdown",
   "id": "bf58495e",
   "metadata": {
    "slideshow": {
     "slide_type": "slide"
    }
   },
   "source": [
    "### Logarithm with base $2$"
   ]
  },
  {
   "cell_type": "code",
   "execution_count": null,
   "id": "dc206108",
   "metadata": {
    "slideshow": {
     "slide_type": "fragment"
    }
   },
   "outputs": [],
   "source": [
    "math.log2(10)"
   ]
  },
  {
   "cell_type": "code",
   "execution_count": null,
   "id": "bd925c94",
   "metadata": {
    "slideshow": {
     "slide_type": "fragment"
    }
   },
   "outputs": [],
   "source": [
    "math.log(64, 2)"
   ]
  },
  {
   "cell_type": "markdown",
   "id": "e8ee1d60",
   "metadata": {
    "slideshow": {
     "slide_type": "slide"
    }
   },
   "source": [
    "### Logarithm with base $10$"
   ]
  },
  {
   "cell_type": "code",
   "execution_count": null,
   "id": "18bb9d2d",
   "metadata": {
    "slideshow": {
     "slide_type": "fragment"
    }
   },
   "outputs": [],
   "source": [
    "math.log10(100)"
   ]
  },
  {
   "cell_type": "code",
   "execution_count": null,
   "id": "5909f16e",
   "metadata": {
    "slideshow": {
     "slide_type": "fragment"
    }
   },
   "outputs": [],
   "source": [
    "math.log10(42)"
   ]
  },
  {
   "cell_type": "markdown",
   "id": "a1a49910",
   "metadata": {
    "slideshow": {
     "slide_type": "slide"
    }
   },
   "source": [
    "## Trigonometric functions"
   ]
  },
  {
   "cell_type": "code",
   "execution_count": null,
   "id": "3b00b980",
   "metadata": {
    "slideshow": {
     "slide_type": "fragment"
    }
   },
   "outputs": [],
   "source": [
    "math.sin(42)"
   ]
  },
  {
   "cell_type": "code",
   "execution_count": null,
   "id": "e7bb7bd0",
   "metadata": {
    "slideshow": {
     "slide_type": "fragment"
    }
   },
   "outputs": [],
   "source": [
    "math.cos(42)"
   ]
  },
  {
   "cell_type": "code",
   "execution_count": null,
   "id": "ca7659ca",
   "metadata": {
    "slideshow": {
     "slide_type": "fragment"
    }
   },
   "outputs": [],
   "source": [
    "math.tan(42)"
   ]
  },
  {
   "cell_type": "markdown",
   "id": "66db11fb",
   "metadata": {
    "slideshow": {
     "slide_type": "slide"
    }
   },
   "source": [
    "## `random` module\n",
    "\n",
    "`random` module has built-in functions to generate pseudo-random numbers."
   ]
  },
  {
   "cell_type": "code",
   "execution_count": null,
   "id": "2fdd9714",
   "metadata": {
    "slideshow": {
     "slide_type": "fragment"
    }
   },
   "outputs": [],
   "source": [
    "import random"
   ]
  },
  {
   "cell_type": "markdown",
   "id": "b785129b",
   "metadata": {
    "slideshow": {
     "slide_type": "slide"
    }
   },
   "source": [
    "### Real-valued random number\n",
    "\n",
    "`random.random()` function generates a floating-point number $x$ such that $0.0 <= x < 1.0$."
   ]
  },
  {
   "cell_type": "code",
   "execution_count": null,
   "id": "62fd9efa",
   "metadata": {
    "slideshow": {
     "slide_type": "fragment"
    }
   },
   "outputs": [],
   "source": [
    "random.random()"
   ]
  },
  {
   "cell_type": "markdown",
   "id": "8bcf050c",
   "metadata": {
    "slideshow": {
     "slide_type": "slide"
    }
   },
   "source": [
    "### Integer random number\n",
    "\n",
    "`random.randint(a, b)` function generates an integer $x$ such that $a <= x <= b$."
   ]
  },
  {
   "cell_type": "code",
   "execution_count": null,
   "id": "b314fe36",
   "metadata": {
    "slideshow": {
     "slide_type": "fragment"
    }
   },
   "outputs": [],
   "source": [
    "random.randint(2, 16)"
   ]
  },
  {
   "cell_type": "markdown",
   "id": "45cd79b2",
   "metadata": {
    "slideshow": {
     "slide_type": "slide"
    }
   },
   "source": [
    "### Shuffle a sequence\n",
    "\n",
    "`random.shuffle(seq)` function shuffles the given sequence in place."
   ]
  },
  {
   "cell_type": "code",
   "execution_count": null,
   "id": "0216cdd2",
   "metadata": {
    "slideshow": {
     "slide_type": "fragment"
    }
   },
   "outputs": [],
   "source": [
    "sequence = list(range(1, 11))\n",
    "\n",
    "random.shuffle(sequence)\n",
    "\n",
    "sequence"
   ]
  },
  {
   "cell_type": "markdown",
   "id": "03849429",
   "metadata": {
    "slideshow": {
     "slide_type": "slide"
    }
   },
   "source": [
    "### Initialize pseudo-random number generator\n",
    "\n",
    "`random.seed()` functions lets us initialize the random number generator."
   ]
  },
  {
   "cell_type": "code",
   "execution_count": null,
   "id": "ee1a96a6",
   "metadata": {
    "slideshow": {
     "slide_type": "fragment"
    }
   },
   "outputs": [],
   "source": [
    "random.seed(42)"
   ]
  },
  {
   "cell_type": "code",
   "execution_count": null,
   "id": "321ec596",
   "metadata": {
    "slideshow": {
     "slide_type": "fragment"
    }
   },
   "outputs": [],
   "source": [
    "random.seed(42)\n",
    "\n",
    "random.random(), random.randint(2, 16)"
   ]
  },
  {
   "cell_type": "code",
   "execution_count": null,
   "id": "bbe8b3c2",
   "metadata": {
    "slideshow": {
     "slide_type": "fragment"
    }
   },
   "outputs": [],
   "source": [
    "random.seed(42)\n",
    "\n",
    "sequence = list(range(1, 11))\n",
    "\n",
    "random.shuffle(sequence)\n",
    "\n",
    "sequence"
   ]
  },
  {
   "cell_type": "markdown",
   "id": "40822168",
   "metadata": {
    "slideshow": {
     "slide_type": "slide"
    }
   },
   "source": [
    "## `datetime` module\n",
    "\n",
    "`datetime` module provides functionalities for working with dates and times.\n",
    "\n",
    "It provides three essential classes:\n",
    "\n",
    "- `datetime.date`: to work with dates\n",
    "- `datetime.time`: to work with times\n",
    "- `datetime.datetime`: to work with dates and times"
   ]
  },
  {
   "cell_type": "code",
   "execution_count": null,
   "id": "e2d0dc19",
   "metadata": {
    "slideshow": {
     "slide_type": "fragment"
    }
   },
   "outputs": [],
   "source": [
    "from datetime import date, time, datetime"
   ]
  },
  {
   "cell_type": "code",
   "execution_count": null,
   "id": "8ff76946",
   "metadata": {
    "slideshow": {
     "slide_type": "fragment"
    }
   },
   "outputs": [],
   "source": [
    "date(year=2023, month=4, day=26)"
   ]
  },
  {
   "cell_type": "code",
   "execution_count": null,
   "id": "d81b1fd2",
   "metadata": {
    "slideshow": {
     "slide_type": "fragment"
    }
   },
   "outputs": [],
   "source": [
    "time(hour=11, minute=42, second=27)"
   ]
  },
  {
   "cell_type": "code",
   "execution_count": null,
   "id": "6ba03d7a",
   "metadata": {
    "slideshow": {
     "slide_type": "fragment"
    }
   },
   "outputs": [],
   "source": [
    "datetime(year=2023, month=4, day=26, hour=11, minute=42, second=27)"
   ]
  },
  {
   "cell_type": "markdown",
   "id": "636918cc",
   "metadata": {
    "slideshow": {
     "slide_type": "slide"
    }
   },
   "source": [
    "## Current date and time"
   ]
  },
  {
   "cell_type": "code",
   "execution_count": null,
   "id": "01efcefe",
   "metadata": {
    "slideshow": {
     "slide_type": "fragment"
    }
   },
   "outputs": [],
   "source": [
    "today = date.today()\n",
    "today"
   ]
  },
  {
   "cell_type": "code",
   "execution_count": null,
   "id": "ee194819",
   "metadata": {
    "slideshow": {
     "slide_type": "fragment"
    }
   },
   "outputs": [],
   "source": [
    "now = datetime.now()\n",
    "now"
   ]
  },
  {
   "cell_type": "code",
   "execution_count": null,
   "id": "3aa380f0",
   "metadata": {
    "slideshow": {
     "slide_type": "fragment"
    }
   },
   "outputs": [],
   "source": [
    "current_time = time(now.hour, now.minute, now.second)\n",
    "current_time"
   ]
  },
  {
   "cell_type": "code",
   "execution_count": null,
   "id": "4dc089c4",
   "metadata": {
    "slideshow": {
     "slide_type": "fragment"
    }
   },
   "outputs": [],
   "source": [
    "datetime.combine(today, current_time)"
   ]
  },
  {
   "cell_type": "markdown",
   "id": "e3e1c4ac",
   "metadata": {
    "slideshow": {
     "slide_type": "slide"
    }
   },
   "source": [
    "## `strftime(format)`\n",
    "\n",
    "Convert a `date`, `time` and `datetime` objects to a string according to a format.\n",
    "\n",
    "For more information on format codes, see the following [page](https://docs.python.org/3/library/datetime.html#strftime-and-strptime-format-codes)."
   ]
  },
  {
   "cell_type": "code",
   "execution_count": null,
   "id": "507b557b",
   "metadata": {
    "slideshow": {
     "slide_type": "fragment"
    }
   },
   "outputs": [],
   "source": [
    "today = date.today()\n",
    "\n",
    "today.strftime(\"%d/%m/%y\")"
   ]
  },
  {
   "cell_type": "code",
   "execution_count": null,
   "id": "ba3eb0ab",
   "metadata": {
    "slideshow": {
     "slide_type": "fragment"
    }
   },
   "outputs": [],
   "source": [
    "now = datetime.now()\n",
    "\n",
    "now.strftime(\"%H:%M:%S\")"
   ]
  },
  {
   "cell_type": "code",
   "execution_count": null,
   "id": "bd4492b5",
   "metadata": {
    "slideshow": {
     "slide_type": "fragment"
    }
   },
   "outputs": [],
   "source": [
    "current_datetime = datetime.now()\n",
    "current_datetime.strftime(\"%d/%m/%y, %H:%M:%S\")"
   ]
  },
  {
   "cell_type": "markdown",
   "id": "eb3dd073",
   "metadata": {
    "slideshow": {
     "slide_type": "slide"
    }
   },
   "source": [
    "## `strptime(date_string, format)`\n",
    "\n",
    "Convert a string to `datetime` object according to a format.\n",
    "\n",
    "For more information on format codes, see the following [page](https://docs.python.org/3/library/datetime.html#strftime-and-strptime-format-codes)."
   ]
  },
  {
   "cell_type": "code",
   "execution_count": null,
   "id": "c1827cd0",
   "metadata": {
    "slideshow": {
     "slide_type": "fragment"
    }
   },
   "outputs": [],
   "source": [
    "datetime.strptime(\"26/04/23 11:42:24\", \"%d/%m/%y %H:%M:%S\")"
   ]
  },
  {
   "cell_type": "markdown",
   "id": "16c3cc98",
   "metadata": {
    "slideshow": {
     "slide_type": "slide"
    }
   },
   "source": [
    "# Object-oriented programming\n",
    "\n",
    "**Object-oriented programming (OOP)** is a programming paradigm that is based on the idea of objects which bundle related properties and behaviors into individual objects.\n",
    "\n",
    "- object\n",
    "- property\n",
    "- method"
   ]
  },
  {
   "cell_type": "markdown",
   "id": "495b6996",
   "metadata": {
    "slideshow": {
     "slide_type": "slide"
    }
   },
   "source": [
    "# Class\n",
    "\n",
    "**Class** provides us with the ability to bundle data and functionality in an object. In fact, class is a type defined by a programmer.\n",
    "\n",
    "In Python, classes can be defined by `class` keyword."
   ]
  },
  {
   "cell_type": "code",
   "execution_count": null,
   "id": "7c8933b0",
   "metadata": {
    "slideshow": {
     "slide_type": "fragment"
    }
   },
   "outputs": [],
   "source": [
    "class Person:\n",
    "    pass\n",
    "\n",
    "Person"
   ]
  },
  {
   "cell_type": "markdown",
   "id": "8a2af1b6",
   "metadata": {
    "slideshow": {
     "slide_type": "slide"
    }
   },
   "source": [
    "# Instance\n",
    "\n",
    "Class is just a blueprint. It is kind of factory that can be used to create objects of that type. The process of creating an object from a class is called an **instantiation** and the object is called an **instance**.\n",
    "\n",
    "To instantiate an instance, a class can be called similar to calling a function."
   ]
  },
  {
   "cell_type": "code",
   "execution_count": null,
   "id": "5a09d27e",
   "metadata": {
    "slideshow": {
     "slide_type": "fragment"
    }
   },
   "outputs": [],
   "source": [
    "person = Person()\n",
    "person"
   ]
  },
  {
   "cell_type": "markdown",
   "id": "fd709a3f",
   "metadata": {
    "slideshow": {
     "slide_type": "slide"
    }
   },
   "source": [
    "# Attributes\n",
    "\n",
    "Usually, objects have properties. This kind of data can be stored in object **attributes**. \n",
    "\n",
    "Attributes can be accessed via dot notation."
   ]
  },
  {
   "cell_type": "code",
   "execution_count": null,
   "id": "f18cf50d",
   "metadata": {
    "slideshow": {
     "slide_type": "fragment"
    }
   },
   "outputs": [],
   "source": [
    "person = Person()\n",
    "person"
   ]
  },
  {
   "cell_type": "code",
   "execution_count": null,
   "id": "b6c23e49",
   "metadata": {
    "slideshow": {
     "slide_type": "fragment"
    }
   },
   "outputs": [],
   "source": [
    "person.name = \"John Doe\"\n",
    "person.age = 42\n",
    "\n",
    "person"
   ]
  },
  {
   "cell_type": "code",
   "execution_count": null,
   "id": "eb15e4f6",
   "metadata": {
    "slideshow": {
     "slide_type": "fragment"
    }
   },
   "outputs": [],
   "source": [
    "person.name, person.age"
   ]
  },
  {
   "cell_type": "markdown",
   "id": "430f4653",
   "metadata": {
    "slideshow": {
     "slide_type": "slide"
    }
   },
   "source": [
    "# `__init__()`\n",
    "\n",
    "Init method can be used to initialize the internal data attributes."
   ]
  },
  {
   "cell_type": "code",
   "execution_count": null,
   "id": "121a98e7",
   "metadata": {
    "slideshow": {
     "slide_type": "fragment"
    }
   },
   "outputs": [],
   "source": [
    "class Person:\n",
    "    def __init__(self, name, age):\n",
    "        self.name = name\n",
    "        self.age = age"
   ]
  },
  {
   "cell_type": "code",
   "execution_count": null,
   "id": "8788464f",
   "metadata": {
    "slideshow": {
     "slide_type": "fragment"
    }
   },
   "outputs": [],
   "source": [
    "person = Person()\n",
    "person"
   ]
  },
  {
   "cell_type": "code",
   "execution_count": null,
   "id": "e033e18e",
   "metadata": {
    "slideshow": {
     "slide_type": "fragment"
    }
   },
   "outputs": [],
   "source": [
    "person = Person(\"John Doe\", 42)\n",
    "\n",
    "person.name, person.age"
   ]
  },
  {
   "cell_type": "code",
   "execution_count": null,
   "id": "c24c4b39",
   "metadata": {
    "slideshow": {
     "slide_type": "fragment"
    }
   },
   "outputs": [],
   "source": [
    "person = Person(name=\"John Doe\", age=42)\n",
    "\n",
    "person.name, person.age"
   ]
  },
  {
   "cell_type": "code",
   "execution_count": null,
   "id": "d77a4413",
   "metadata": {
    "slideshow": {
     "slide_type": "subslide"
    }
   },
   "outputs": [],
   "source": [
    "class Person:\n",
    "    def __init__(my_self, name, age):\n",
    "        my_self.name = name\n",
    "        my_self.age = age"
   ]
  },
  {
   "cell_type": "code",
   "execution_count": null,
   "id": "d0ac6011",
   "metadata": {
    "slideshow": {
     "slide_type": "fragment"
    }
   },
   "outputs": [],
   "source": [
    "person = Person(\"John Doe\", 42)\n",
    "\n",
    "person.name, person.age"
   ]
  },
  {
   "cell_type": "markdown",
   "id": "8c7baf11",
   "metadata": {
    "slideshow": {
     "slide_type": "slide"
    }
   },
   "source": [
    "# Class and instance Attributes\n",
    "\n",
    "- **Class attributes** are properties that have the same value for all class instances. They can be created by defining a variable in class body.\n",
    "- **Instance attributes** are properties that are specific to a given class instance. They can be defined in `__init__()` method."
   ]
  },
  {
   "cell_type": "code",
   "execution_count": null,
   "id": "da178f45",
   "metadata": {
    "slideshow": {
     "slide_type": "fragment"
    }
   },
   "outputs": [],
   "source": [
    "class Person:\n",
    "    species = \"homo sapiens\"\n",
    "    \n",
    "    def __init__(self, name, age):\n",
    "        self.name = name\n",
    "        self.age = age"
   ]
  },
  {
   "cell_type": "code",
   "execution_count": null,
   "id": "dd6ec82d",
   "metadata": {
    "slideshow": {
     "slide_type": "fragment"
    }
   },
   "outputs": [],
   "source": [
    "person1 = Person(\"John Doe\", 42)\n",
    "\n",
    "person1.name, person1.age"
   ]
  },
  {
   "cell_type": "code",
   "execution_count": null,
   "id": "2af26ba9",
   "metadata": {
    "slideshow": {
     "slide_type": "fragment"
    }
   },
   "outputs": [],
   "source": [
    "person2 = Person(\"Alice Smith\", 24)\n",
    "\n",
    "person2.name, person2.age"
   ]
  },
  {
   "cell_type": "code",
   "execution_count": null,
   "id": "97d46ea4",
   "metadata": {
    "slideshow": {
     "slide_type": "fragment"
    }
   },
   "outputs": [],
   "source": [
    "person1.species, person2.species"
   ]
  },
  {
   "cell_type": "markdown",
   "id": "b78f6e91",
   "metadata": {
    "slideshow": {
     "slide_type": "slide"
    }
   },
   "source": [
    "# Equality and identity"
   ]
  },
  {
   "cell_type": "code",
   "execution_count": null,
   "id": "ffe8c838",
   "metadata": {
    "slideshow": {
     "slide_type": "slide"
    }
   },
   "outputs": [],
   "source": [
    "person1 = Person(\"John Doe\", 42)\n",
    "person2 = Person(\"Alice Smith\", 24)"
   ]
  },
  {
   "cell_type": "code",
   "execution_count": null,
   "id": "a795254e",
   "metadata": {
    "slideshow": {
     "slide_type": "fragment"
    }
   },
   "outputs": [],
   "source": [
    "person1 == person2"
   ]
  },
  {
   "cell_type": "code",
   "execution_count": null,
   "id": "ba19b2fd",
   "metadata": {
    "slideshow": {
     "slide_type": "fragment"
    }
   },
   "outputs": [],
   "source": [
    "person1 is person2"
   ]
  },
  {
   "cell_type": "code",
   "execution_count": null,
   "id": "6e16bdf7",
   "metadata": {
    "slideshow": {
     "slide_type": "fragment"
    }
   },
   "outputs": [],
   "source": [
    "person3 = person1\n",
    "\n",
    "person1 is person3"
   ]
  },
  {
   "cell_type": "markdown",
   "id": "5661900b",
   "metadata": {
    "slideshow": {
     "slide_type": "slide"
    }
   },
   "source": [
    "# `isinstance(object, classinfo)` function\n",
    "\n",
    "`isinstance(object, classinfo)` function allows us to check if the `object` argument is an instance of the `classinfo` argument."
   ]
  },
  {
   "cell_type": "code",
   "execution_count": null,
   "id": "38d42120",
   "metadata": {
    "slideshow": {
     "slide_type": "fragment"
    }
   },
   "outputs": [],
   "source": [
    "isinstance(42, int)"
   ]
  },
  {
   "cell_type": "code",
   "execution_count": null,
   "id": "dff4d60e",
   "metadata": {
    "slideshow": {
     "slide_type": "fragment"
    }
   },
   "outputs": [],
   "source": [
    "isinstance(42, float)"
   ]
  },
  {
   "cell_type": "code",
   "execution_count": null,
   "id": "0b907f92",
   "metadata": {
    "slideshow": {
     "slide_type": "fragment"
    }
   },
   "outputs": [],
   "source": [
    "isinstance(\"Hello world!\", str)"
   ]
  },
  {
   "cell_type": "code",
   "execution_count": null,
   "id": "cc113e36",
   "metadata": {
    "slideshow": {
     "slide_type": "fragment"
    }
   },
   "outputs": [],
   "source": [
    "isinstance(\"Hello world!\", list)"
   ]
  },
  {
   "cell_type": "code",
   "execution_count": null,
   "id": "359c3c17",
   "metadata": {
    "slideshow": {
     "slide_type": "fragment"
    }
   },
   "outputs": [],
   "source": [
    "isinstance({\"color\": \"black\"}, dict)"
   ]
  },
  {
   "cell_type": "code",
   "execution_count": null,
   "id": "b5956adb",
   "metadata": {
    "slideshow": {
     "slide_type": "fragment"
    }
   },
   "outputs": [],
   "source": [
    "person = Person(\"John Doe\", 42)\n",
    "\n",
    "isinstance(person, Person)"
   ]
  },
  {
   "cell_type": "markdown",
   "id": "45c7a811",
   "metadata": {
    "slideshow": {
     "slide_type": "slide"
    }
   },
   "source": [
    "# Instance methods\n",
    "\n",
    "**Instance methods** are functions that are defined inside a class and can only be called from a class instance.\n",
    "\n",
    "They describe the behaviors of an object.\n",
    "\n",
    "They are very similar to `__init__()` method by definition."
   ]
  },
  {
   "cell_type": "code",
   "execution_count": null,
   "id": "7d569f33",
   "metadata": {
    "slideshow": {
     "slide_type": "fragment"
    }
   },
   "outputs": [],
   "source": [
    "from datetime import date\n",
    "\n",
    "class Person:\n",
    "    species = \"homo sapiens\"\n",
    "    \n",
    "    \n",
    "    def __init__(self, name, age):\n",
    "        self.name = name\n",
    "        self.age = age\n",
    "        \n",
    "    \n",
    "    def introduce_me(self):\n",
    "        return f\"I am {self.name} and I am {self.age} years old.\"\n",
    "    \n",
    "    \n",
    "    def speak(self, text):\n",
    "        return f\"I am {self.name} and I say {text}\"\n",
    "    \n",
    "    \n",
    "    def calculate_birth_year(self):\n",
    "        return date.today().year - self.age"
   ]
  },
  {
   "cell_type": "code",
   "execution_count": null,
   "id": "79b83fbc",
   "metadata": {
    "slideshow": {
     "slide_type": "subslide"
    }
   },
   "outputs": [],
   "source": [
    "person = Person(\"John Doe\", 42)\n",
    "\n",
    "person.name, person.age"
   ]
  },
  {
   "cell_type": "code",
   "execution_count": null,
   "id": "bb06d778",
   "metadata": {
    "slideshow": {
     "slide_type": "fragment"
    }
   },
   "outputs": [],
   "source": [
    "person.introduce_me()"
   ]
  },
  {
   "cell_type": "code",
   "execution_count": null,
   "id": "9a7ed3d2",
   "metadata": {
    "slideshow": {
     "slide_type": "fragment"
    }
   },
   "outputs": [],
   "source": [
    "person.speak(\"'Hello everyone!'\")"
   ]
  },
  {
   "cell_type": "code",
   "execution_count": null,
   "id": "12f8a1e1",
   "metadata": {
    "slideshow": {
     "slide_type": "fragment"
    }
   },
   "outputs": [],
   "source": [
    "person.calculate_birth_year()"
   ]
  },
  {
   "cell_type": "markdown",
   "id": "7f31ab33",
   "metadata": {
    "slideshow": {
     "slide_type": "slide"
    }
   },
   "source": [
    "# Class methods\n",
    "\n",
    "Built-in `@classmethod` decorator can be used to mark a function a defined inside a class as a **class method**. Instead of accepting instance as a first argument, a class method accepts the class as an implicit first argument, which is usually named `cls`.\n",
    "\n",
    "As class method does not have access to class instance, it cannot modify specific instances. However, it can still mutate class state.\n",
    "\n",
    "Class methods are usually called on classes."
   ]
  },
  {
   "cell_type": "code",
   "execution_count": null,
   "id": "53ef509f",
   "metadata": {
    "slideshow": {
     "slide_type": "subslide"
    }
   },
   "outputs": [],
   "source": [
    "from datetime import date\n",
    "\n",
    "\n",
    "class Person:\n",
    "    species = \"homo sapiens\"\n",
    "    \n",
    "    \n",
    "    def __init__(self, name, age):\n",
    "        self.name = name\n",
    "        self.age = age\n",
    "        \n",
    "    \n",
    "    def introduce_me(self):\n",
    "        return f\"I am {self.name} and I am {self.age} years old.\"\n",
    "    \n",
    "    \n",
    "    def speak(self, text):\n",
    "        return f\"I am {self.name} and I say {text}\"\n",
    "    \n",
    "    \n",
    "    def calculate_birth_year(self):\n",
    "        return date.today().year - self.age\n",
    "\n",
    "\n",
    "    @classmethod\n",
    "    def from_birth_year(cls, name, year):\n",
    "        return cls(name, date.today().year - year)"
   ]
  },
  {
   "cell_type": "code",
   "execution_count": null,
   "id": "576e4abe",
   "metadata": {
    "slideshow": {
     "slide_type": "fragment"
    }
   },
   "outputs": [],
   "source": [
    "person1 = Person(\"John Doe\", 42)\n",
    "\n",
    "person1.name, person1.age"
   ]
  },
  {
   "cell_type": "code",
   "execution_count": null,
   "id": "6a30d41c",
   "metadata": {
    "slideshow": {
     "slide_type": "fragment"
    }
   },
   "outputs": [],
   "source": [
    "person2 = person1.from_birth_year(\"Bob\", 1990)\n",
    "\n",
    "person2.name, person2.age"
   ]
  },
  {
   "cell_type": "code",
   "execution_count": null,
   "id": "6755fd92",
   "metadata": {
    "slideshow": {
     "slide_type": "fragment"
    }
   },
   "outputs": [],
   "source": [
    "person = Person.from_birth_year(\"Bob\", 1990)\n",
    "\n",
    "person.name, person.age"
   ]
  },
  {
   "cell_type": "markdown",
   "id": "40db21f4",
   "metadata": {
    "slideshow": {
     "slide_type": "slide"
    }
   },
   "source": [
    "# Static methods\n",
    "\n",
    "\n",
    "Built-in `@staticmethod` decorator can be used to mark a function a defined inside a class as a **static method**. Static methods neither accept an instance nor the class as an implicit argument.\n",
    "\n",
    "Additionally, a static method can neither modify object state nor class state. A static method can only access to data they receive as an argument. They are usually used to namespace methods in a class scope.\n",
    "\n",
    "Static methods are usually called on classes."
   ]
  },
  {
   "cell_type": "code",
   "execution_count": null,
   "id": "9363096d",
   "metadata": {
    "slideshow": {
     "slide_type": "subslide"
    }
   },
   "outputs": [],
   "source": [
    "from datetime import date\n",
    "\n",
    "\n",
    "class Person:\n",
    "    species = \"homo sapiens\"\n",
    "    \n",
    "    \n",
    "    def __init__(self, name, age):\n",
    "        self.name = name\n",
    "        self.age = age\n",
    "        \n",
    "    \n",
    "    def introduce_me(self):\n",
    "        return f\"I am {self.name} and I am {self.age} years old.\"\n",
    "    \n",
    "    \n",
    "    def speak(self, text):\n",
    "        return f\"I am {self.name} and I say {text}\"\n",
    "    \n",
    "    \n",
    "    def calculate_birth_year(self):\n",
    "        return date.today().year - self.age\n",
    "    \n",
    "    \n",
    "    def vote(self):\n",
    "        if self.is_adult(self.age):\n",
    "            return \"I am voting\"\n",
    "\n",
    "\n",
    "    @classmethod\n",
    "    def from_birth_year(cls, name, year):\n",
    "        return cls(name, date.today().year - year)\n",
    "    \n",
    "    \n",
    "    @staticmethod\n",
    "    def is_adult(age):\n",
    "        return age >= 18"
   ]
  },
  {
   "cell_type": "code",
   "execution_count": null,
   "id": "7a0568f0",
   "metadata": {
    "slideshow": {
     "slide_type": "fragment"
    }
   },
   "outputs": [],
   "source": [
    "person = Person(\"John Doe\", 42)\n",
    "\n",
    "person.vote()"
   ]
  },
  {
   "cell_type": "code",
   "execution_count": null,
   "id": "3871e3b7",
   "metadata": {
    "slideshow": {
     "slide_type": "fragment"
    }
   },
   "outputs": [],
   "source": [
    "person = Person(\"John Doe\", 12)\n",
    "\n",
    "person.vote()"
   ]
  },
  {
   "cell_type": "code",
   "execution_count": null,
   "id": "b1137d3f",
   "metadata": {
    "slideshow": {
     "slide_type": "fragment"
    }
   },
   "outputs": [],
   "source": [
    "Person.is_adult(42)"
   ]
  },
  {
   "cell_type": "code",
   "execution_count": null,
   "id": "13dac9f7",
   "metadata": {
    "slideshow": {
     "slide_type": "fragment"
    }
   },
   "outputs": [],
   "source": [
    "Person.is_adult(12)"
   ]
  }
 ],
 "metadata": {
  "celltoolbar": "Slideshow",
  "kernelspec": {
   "display_name": "Python 3 (ipykernel)",
   "language": "python",
   "name": "python3"
  },
  "language_info": {
   "codemirror_mode": {
    "name": "ipython",
    "version": 3
   },
   "file_extension": ".py",
   "mimetype": "text/x-python",
   "name": "python",
   "nbconvert_exporter": "python",
   "pygments_lexer": "ipython3",
   "version": "3.8.10"
  }
 },
 "nbformat": 4,
 "nbformat_minor": 5
}
