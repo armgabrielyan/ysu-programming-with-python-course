{
 "cells": [
  {
   "cell_type": "markdown",
   "id": "74750d32",
   "metadata": {
    "id": "74750d32",
    "slideshow": {
     "slide_type": "slide"
    }
   },
   "source": [
    "# Programming with Python\n",
    "\n",
    "## Lecture 29: File I/O\n",
    "\n",
    "### Armen Gabrielyan\n",
    "\n",
    "#### Yerevan State University\n",
    "#### Portmind"
   ]
  },
  {
   "cell_type": "markdown",
   "id": "3df8af5f",
   "metadata": {
    "slideshow": {
     "slide_type": "slide"
    }
   },
   "source": [
    "# `os.path` module\n",
    "\n",
    "The `os.path` module in Python provides functions for working with file paths and manipulating path-related strings.\n",
    "\n",
    "- `os.path.join(path, *paths)`: This function joins one or more path components intelligently. It concatenates the specified paths using the appropriate path separator for the underlying operating system.\n",
    "- `os.path.abspath(path)`: This function returns the absolute version of a path. It resolves any symbolic links and references to parent directories ('..' and '.').\n",
    "\n",
    "For more information, see https://docs.python.org/3/library/os.path.html"
   ]
  },
  {
   "cell_type": "markdown",
   "id": "44164dc6",
   "metadata": {
    "slideshow": {
     "slide_type": "slide"
    }
   },
   "source": [
    "## `os.path.join(path, *paths)`"
   ]
  },
  {
   "cell_type": "code",
   "execution_count": null,
   "id": "8f82b97b",
   "metadata": {
    "slideshow": {
     "slide_type": "fragment"
    }
   },
   "outputs": [],
   "source": [
    "import os\n",
    "\n",
    "sample_input_path = os.path.join(\"resources\", \"lecture29\", \"sample_input.txt\")\n",
    "sample_input_path"
   ]
  },
  {
   "cell_type": "code",
   "execution_count": null,
   "id": "2bfc8fbd",
   "metadata": {
    "slideshow": {
     "slide_type": "fragment"
    }
   },
   "outputs": [],
   "source": [
    "import os\n",
    "\n",
    "resources_path = os.path.join(\"resources\")\n",
    "lecture_29_path = os.path.join(resources_path, \"lecture29\")\n",
    "\n",
    "sample_input_path = os.path.join(lecture_29_path, \"sample_input.txt\")\n",
    "sample_input_path"
   ]
  },
  {
   "cell_type": "markdown",
   "id": "54694d42",
   "metadata": {
    "slideshow": {
     "slide_type": "slide"
    }
   },
   "source": [
    "## `os.path.abspath(path)`"
   ]
  },
  {
   "cell_type": "code",
   "execution_count": null,
   "id": "c35b15cd",
   "metadata": {
    "slideshow": {
     "slide_type": "fragment"
    }
   },
   "outputs": [],
   "source": [
    "import os\n",
    "\n",
    "os.path.abspath(\"resources\")"
   ]
  },
  {
   "cell_type": "code",
   "execution_count": null,
   "id": "f8cc9ad6",
   "metadata": {
    "slideshow": {
     "slide_type": "fragment"
    }
   },
   "outputs": [],
   "source": [
    "os.path.abspath(sample_input_path)"
   ]
  },
  {
   "cell_type": "markdown",
   "id": "149ccf31",
   "metadata": {
    "slideshow": {
     "slide_type": "slide"
    }
   },
   "source": [
    "# `pathlib` module\n",
    "\n",
    "The `pathlib` module in Python provides an object-oriented approach to working with file system paths. It was introduced in Python 3.4 and offers a more intuitive and expressive way to manipulate paths compared to the traditional string-based path operations.\n",
    "\n",
    "The `pathlib` module provides the `Path` class, which represents a file or directory path. Nevertheless, `os.path` module is still widely used."
   ]
  },
  {
   "cell_type": "code",
   "execution_count": null,
   "id": "53e638a9",
   "metadata": {
    "slideshow": {
     "slide_type": "fragment"
    }
   },
   "outputs": [],
   "source": [
    "from pathlib import Path\n",
    "\n",
    "resources_path = Path(\"resources\")\n",
    "lecture_29_path = resources_path / \"lecture29\"\n",
    "\n",
    "sample_input_path = lecture_29_path / \"sample_input.txt\"\n",
    "sample_input_path"
   ]
  },
  {
   "cell_type": "markdown",
   "id": "db49af2d",
   "metadata": {
    "slideshow": {
     "slide_type": "slide"
    }
   },
   "source": [
    "# Write to a file\n",
    "\n",
    "There are several methods you can use to write to a file in Python. Here are some common approaches:\n",
    "\n",
    "- `.write(string)` method\n",
    "- `.writelines(seq)` method"
   ]
  },
  {
   "cell_type": "markdown",
   "id": "ceb58d95",
   "metadata": {
    "slideshow": {
     "slide_type": "slide"
    }
   },
   "source": [
    "# `.write(string)` method\n",
    "\n",
    "This method writes the provided string to a file."
   ]
  },
  {
   "cell_type": "code",
   "execution_count": null,
   "id": "7b7b51df",
   "metadata": {
    "slideshow": {
     "slide_type": "fragment"
    }
   },
   "outputs": [],
   "source": [
    "output_path = lecture_29_path / \"output.txt\""
   ]
  },
  {
   "cell_type": "code",
   "execution_count": null,
   "id": "97a66e6c",
   "metadata": {
    "slideshow": {
     "slide_type": "fragment"
    }
   },
   "outputs": [],
   "source": [
    "with open(output_path, \"w\") as fp:\n",
    "    fp.write(\"Hello world!\\n\")"
   ]
  },
  {
   "cell_type": "code",
   "execution_count": null,
   "id": "b8fb762e",
   "metadata": {
    "slideshow": {
     "slide_type": "fragment"
    }
   },
   "outputs": [],
   "source": [
    "with open(output_path, \"w\") as fp:\n",
    "    fp.write(\"We are learning Python!\\n\")"
   ]
  },
  {
   "cell_type": "markdown",
   "id": "0a172ef9",
   "metadata": {
    "slideshow": {
     "slide_type": "slide"
    }
   },
   "source": [
    "# `.writelines(seq)` method\n",
    "\n",
    "This method writes the provided sequence to a file."
   ]
  },
  {
   "cell_type": "code",
   "execution_count": null,
   "id": "4e10ddfc",
   "metadata": {
    "slideshow": {
     "slide_type": "fragment"
    }
   },
   "outputs": [],
   "source": [
    "lorem_ipsum = [\n",
    "    \"Lorem ipsum dolor sit amet, consectetur adipiscing elit.\\n\",\n",
    "    \"Mauris orci magna, ullamcorper eget accumsan ut, varius et justo.\\n\",\n",
    "    \"Duis ultricies eleifend magna sagittis finibus.\\n\",\n",
    "]\n",
    "\n",
    "with open(output_path, \"w\") as fp:\n",
    "    fp.writelines(lorem_ipsum)"
   ]
  },
  {
   "cell_type": "markdown",
   "id": "dab75b0a",
   "metadata": {
    "slideshow": {
     "slide_type": "slide"
    }
   },
   "source": [
    "# Different modes of file operations\n",
    "\n",
    "- **`r` (read only)**: This option allows you to access text files in a read-only mode. The handle is located at the start of a file. If the file doesn't exist, it will generate an I/O error.\n",
    "- **`r+` (read and write)**: This approach allows the file to be accessed for both reading and writing purposes. The handle is located at the start of a file. If the file doesn't exist, it will generate an I/O error.\n",
    "- **`w` (write only)**: This option enables the file to be opened for writing only. It overwrites the data in existing files. The handle is located at the start of a file. If the file does not already exist in the folder, a new file is created.\n",
    "- **`w+` (write and read)**: This method allows for reading and writing access to the file. It replaces and erases the existing text in the file. The handle is located at the start of a file.\n",
    "- **`a` (append only)**: In this mode, the file can be opened specifically for writing. If the file does not exist, a new file is created. The handle is located at the end of a file. Any newly written data will be appended after the existing data that was previously written.\n",
    "- **`a+` (append and read)**: In this mode, it becomes possible to both read from and write to the file. If the file is not present, a new one will be generated. The handle is located at the end of the file. Any newly written text will be appended to the existing data, which was previously written."
   ]
  },
  {
   "cell_type": "code",
   "execution_count": null,
   "id": "efe2f338",
   "metadata": {
    "slideshow": {
     "slide_type": "slide"
    }
   },
   "outputs": [],
   "source": [
    "# Reading the entire file\n",
    "with open(sample_input_path, \"r\") as fp:\n",
    "    content = fp.read()\n",
    "    print(content)"
   ]
  },
  {
   "cell_type": "code",
   "execution_count": null,
   "id": "53c20f5a",
   "metadata": {
    "slideshow": {
     "slide_type": "fragment"
    }
   },
   "outputs": [],
   "source": [
    "non_existent_path = lecture_29_path / \"non_existent_file.txt\"\n",
    "\n",
    "# Trying to read from a non-existent file raises an error\n",
    "with open(non_existent_path, \"r\") as fp:\n",
    "    content = fp.read()\n",
    "    print(content)"
   ]
  },
  {
   "cell_type": "code",
   "execution_count": null,
   "id": "b0e99c4e",
   "metadata": {
    "scrolled": true,
    "slideshow": {
     "slide_type": "slide"
    }
   },
   "outputs": [],
   "source": [
    "# Reading the entire file\n",
    "with open(sample_input_path, \"r+\") as fp:\n",
    "    content = fp.read()\n",
    "    print(content)\n",
    "    \n",
    "    fp.write(\"Hello world!\\n\")"
   ]
  },
  {
   "cell_type": "code",
   "execution_count": null,
   "id": "dbe0ba58",
   "metadata": {
    "slideshow": {
     "slide_type": "slide"
    }
   },
   "outputs": [],
   "source": [
    "# Appending to the end of the file\n",
    "with open(output_path, \"a\") as fp:\n",
    "    fp.write(\"Hello world!\\n\")"
   ]
  },
  {
   "cell_type": "markdown",
   "id": "cf2cf33e",
   "metadata": {
    "slideshow": {
     "slide_type": "slide"
    }
   },
   "source": [
    "# Byte mode\n",
    "\n",
    "To open a file in byte mode, `\"b\"` character can be added to the mode string."
   ]
  },
  {
   "cell_type": "code",
   "execution_count": null,
   "id": "376e888c",
   "metadata": {
    "slideshow": {
     "slide_type": "fragment"
    }
   },
   "outputs": [],
   "source": [
    "# Reading the entire file in byte mode\n",
    "with open(sample_input_path, \"rb\") as fp:\n",
    "    content = fp.read()\n",
    "    print(content)\n",
    "    print(type(content))"
   ]
  },
  {
   "cell_type": "code",
   "execution_count": null,
   "id": "a6089c98",
   "metadata": {
    "slideshow": {
     "slide_type": "fragment"
    }
   },
   "outputs": [],
   "source": [
    "output_bytes_path = lecture_29_path / \"output_bytes.txt\"\n",
    "\n",
    "# Write to the file in byte mode\n",
    "with open(output_bytes_path, \"wb\") as fp:\n",
    "    fp.write(b\"Hello world!\\n\")"
   ]
  },
  {
   "cell_type": "markdown",
   "id": "40236b2b",
   "metadata": {
    "slideshow": {
     "slide_type": "slide"
    }
   },
   "source": [
    "Byte mode is particularly useful for interacting with binary data, such as images."
   ]
  },
  {
   "cell_type": "code",
   "execution_count": null,
   "id": "8c6ad75b",
   "metadata": {
    "slideshow": {
     "slide_type": "fragment"
    }
   },
   "outputs": [],
   "source": [
    "cat_image_path = lecture_29_path / \"cat.jpeg\"\n",
    "\n",
    "# Reading image file in byte mode\n",
    "with open(cat_image_path, \"rb\") as fp:\n",
    "    content = fp.read(10)\n",
    "    print(content)\n",
    "    print(type(content))"
   ]
  },
  {
   "cell_type": "markdown",
   "id": "4bfd09c7",
   "metadata": {
    "slideshow": {
     "slide_type": "slide"
    }
   },
   "source": [
    "# JavaScript Object Notation\n",
    "\n",
    "**J**ava**S**cript **O**bject **N**otation (**JSON**)  is a lightweight data interchange format that is easy for humans to read and write and also easy for machines to parse and generate. JSON is widely used to transmit data between computer systems.\n",
    "\n",
    "JSON is based on key-value pairs and supports a variety of data types, including strings, numbers, booleans, arrays, and objects. It has a syntax similar to JavaScript object literals.\n",
    "\n",
    "JSON is widely supported in various programming languages and is used for data storage, configuration files, and API responses, among other things. It provides a standardized format for data exchange and is often preferred due to its simplicity and readability.\n",
    "\n",
    "Here's an example of a simple JSON object:\n",
    "\n",
    "```json\n",
    "{\n",
    "  \"name\": \"John Doe\",\n",
    "  \"age\": 30,\n",
    "  \"isStudent\": false,\n",
    "  \"hobbies\": [\"reading\", \"traveling\", \"photography\"],\n",
    "  \"address\": {\n",
    "    \"street\": \"123 Main St\",\n",
    "    \"city\": \"Exampleville\",\n",
    "    \"country\": \"USA\"\n",
    "  }\n",
    "}\n",
    "```"
   ]
  },
  {
   "cell_type": "markdown",
   "id": "85a27af5",
   "metadata": {
    "slideshow": {
     "slide_type": "slide"
    }
   },
   "source": [
    "# `json` module\n",
    "\n",
    "The built-in `json` module provides functionalities to work with JSON data.\n",
    "\n",
    "The most commonly used functions are:\n",
    "\n",
    "- `json.dumps(obj, **)`\n",
    "- `json.dump(obj, fp, **)`\n",
    "- `json.loads(s, **)`\n",
    "- `json.load()`"
   ]
  },
  {
   "cell_type": "code",
   "execution_count": null,
   "id": "d212e5b3",
   "metadata": {
    "slideshow": {
     "slide_type": "fragment"
    }
   },
   "outputs": [],
   "source": [
    "import json"
   ]
  },
  {
   "cell_type": "markdown",
   "id": "11244f02",
   "metadata": {
    "slideshow": {
     "slide_type": "slide"
    }
   },
   "source": [
    "# JSON serialization\n",
    "\n",
    "**JSON serialization** refers to the process of converting data from a programming language's native data structures into a JSON format. "
   ]
  },
  {
   "cell_type": "markdown",
   "id": "3b833f64",
   "metadata": {
    "slideshow": {
     "slide_type": "slide"
    }
   },
   "source": [
    "# `json.dumps(obj, **)` function\n",
    "\n",
    "This function serializes the `obj` into a JSON formatted string."
   ]
  },
  {
   "cell_type": "code",
   "execution_count": null,
   "id": "0140dabd",
   "metadata": {
    "slideshow": {
     "slide_type": "fragment"
    }
   },
   "outputs": [],
   "source": [
    "data = {\n",
    "  \"name\": \"John Doe\",\n",
    "  \"age\": 30,\n",
    "  \"isStudent\": False,\n",
    "  \"hobbies\": [\"reading\", \"traveling\", \"photography\"],\n",
    "  \"address\": {\n",
    "    \"street\": \"123 Main St\",\n",
    "    \"city\": \"Exampleville\",\n",
    "    \"country\": \"USA\"\n",
    "  }\n",
    "}\n",
    "\n",
    "json.dumps(data)"
   ]
  },
  {
   "cell_type": "code",
   "execution_count": null,
   "id": "a2317ef7",
   "metadata": {
    "slideshow": {
     "slide_type": "fragment"
    }
   },
   "outputs": [],
   "source": [
    "json.dumps(data, indent=4)"
   ]
  },
  {
   "cell_type": "code",
   "execution_count": null,
   "id": "194df48e",
   "metadata": {},
   "outputs": [],
   "source": [
    "data_path = lecture_29_path / \"data.json\""
   ]
  },
  {
   "cell_type": "code",
   "execution_count": null,
   "id": "836fbacb",
   "metadata": {
    "slideshow": {
     "slide_type": "subslide"
    }
   },
   "outputs": [],
   "source": [
    "with open(data_path, \"w\") as fp:\n",
    "    json_data = json.dumps(data)\n",
    "    fp.write(json_data)"
   ]
  },
  {
   "cell_type": "code",
   "execution_count": null,
   "id": "2e2abfa8",
   "metadata": {
    "slideshow": {
     "slide_type": "fragment"
    }
   },
   "outputs": [],
   "source": [
    "with open(data_path, \"w\") as fp:\n",
    "    json_data = json.dumps(data, indent=4)\n",
    "    fp.write(json_data)"
   ]
  },
  {
   "cell_type": "markdown",
   "id": "44c7051a",
   "metadata": {
    "slideshow": {
     "slide_type": "slide"
    }
   },
   "source": [
    "# `json.dump(obj, fp, **)` function\n",
    "\n",
    "This function serializes the `obj` into a JSON formatted string and writes it to the file-like object `fp`"
   ]
  },
  {
   "cell_type": "code",
   "execution_count": null,
   "id": "1e227148",
   "metadata": {
    "slideshow": {
     "slide_type": "fragment"
    }
   },
   "outputs": [],
   "source": [
    "data = {\n",
    "  \"name\": \"John Doe\",\n",
    "  \"age\": 30,\n",
    "  \"isStudent\": False,\n",
    "  \"hobbies\": [\"reading\", \"traveling\", \"photography\"],\n",
    "  \"address\": {\n",
    "    \"street\": \"123 Main St\",\n",
    "    \"city\": \"Exampleville\",\n",
    "    \"country\": \"USA\"\n",
    "  }\n",
    "}"
   ]
  },
  {
   "cell_type": "code",
   "execution_count": null,
   "id": "4e492e34",
   "metadata": {
    "slideshow": {
     "slide_type": "fragment"
    }
   },
   "outputs": [],
   "source": [
    "with open(data_path, \"w\") as fp:\n",
    "    json.dump(data, fp)"
   ]
  },
  {
   "cell_type": "code",
   "execution_count": null,
   "id": "0a0f8c1c",
   "metadata": {
    "slideshow": {
     "slide_type": "fragment"
    }
   },
   "outputs": [],
   "source": [
    "with open(data_path, \"w\") as fp:\n",
    "    json.dump(data, fp, indent=4)"
   ]
  },
  {
   "cell_type": "markdown",
   "id": "1998ce27",
   "metadata": {
    "slideshow": {
     "slide_type": "slide"
    }
   },
   "source": [
    "# JSON deserialization\n",
    "\n",
    "**JSON deserialization** refers to the process of converting a JSON string into its corresponding data structures in a programming language."
   ]
  },
  {
   "cell_type": "markdown",
   "id": "53099781",
   "metadata": {
    "slideshow": {
     "slide_type": "slide"
    }
   },
   "source": [
    "# `json.loads(s, **)`\n",
    "\n",
    "This function deserializes a JSON string `s` into a Python object."
   ]
  },
  {
   "cell_type": "code",
   "execution_count": null,
   "id": "6e76b7b0",
   "metadata": {
    "slideshow": {
     "slide_type": "fragment"
    }
   },
   "outputs": [],
   "source": [
    "json_data = '{\"name\": \"Jane Smith\", \"age\": 25, \"city\": \"San Francisco\"}'\n",
    "\n",
    "obj = json.loads(json_data)\n",
    "print(obj)\n",
    "print(type(obj))"
   ]
  },
  {
   "cell_type": "code",
   "execution_count": null,
   "id": "02cf1efe",
   "metadata": {
    "slideshow": {
     "slide_type": "fragment"
    }
   },
   "outputs": [],
   "source": [
    "with open(data_path, \"r\") as fp:\n",
    "    json_data = fp.read()\n",
    "    obj = json.loads(json_data)\n",
    "    print(obj)\n",
    "    print(type(obj))"
   ]
  },
  {
   "cell_type": "markdown",
   "id": "fd7874c1",
   "metadata": {
    "slideshow": {
     "slide_type": "slide"
    }
   },
   "source": [
    "# `json.load(fp, **)`\n",
    "\n",
    "This function deserializes a JSON string read from the file-like object `fp` into a Python object."
   ]
  },
  {
   "cell_type": "code",
   "execution_count": null,
   "id": "f484477f",
   "metadata": {
    "slideshow": {
     "slide_type": "fragment"
    }
   },
   "outputs": [],
   "source": [
    "with open(data_path, \"r\") as fp:\n",
    "    obj = json.load(fp)\n",
    "    print(obj)\n",
    "    print(type(obj))"
   ]
  },
  {
   "cell_type": "markdown",
   "id": "fd32ff49",
   "metadata": {
    "slideshow": {
     "slide_type": "slide"
    }
   },
   "source": [
    "# Comma Separated Values (CSV)\n",
    "\n",
    "**CSV (Comma Separated Values)** files are a common file format used for storing tabular data. They provide a way to represent structured data in a plain text format, where each line of the file represents a row of data and the values within each row are separated by commas (or other specified delimiters).\n",
    "\n",
    "In a CSV file, the first line often contains the headers or field names, which describe the data in each column. The subsequent lines contain the actual data values, with each value corresponding to a specific column.\n",
    "\n",
    "For example:\n",
    "\n",
    "```csv\n",
    "Name,Age,City\n",
    "John,25,London\n",
    "Alice,30,New York\n",
    "Bob,35,Paris\n",
    "```\n",
    "\n",
    "CSV files are widely used for data interchange between different applications and systems. They are relatively simple and can be easily read and written by various programming languages and spreadsheet software. CSV files are often used in data analysis, data import/export, and database operations.\n",
    "\n",
    "It's important to note that while the name suggests \"comma-separated values,\" other delimiters like tabs, semicolons, or pipe symbols can also be used, depending on the specific requirements or conventions of the data."
   ]
  },
  {
   "cell_type": "markdown",
   "id": "ed8cbeab",
   "metadata": {
    "slideshow": {
     "slide_type": "slide"
    }
   },
   "source": [
    "# `csv` module\n",
    "\n",
    "The `csv` module in Python provides functionality for reading and writing CSV (Comma Separated Values) files. It simplifies the process of working with tabular data stored in CSV format."
   ]
  },
  {
   "cell_type": "code",
   "execution_count": null,
   "id": "9d7a6994",
   "metadata": {
    "slideshow": {
     "slide_type": "fragment"
    }
   },
   "outputs": [],
   "source": [
    "import csv"
   ]
  },
  {
   "cell_type": "markdown",
   "id": "130c3c53",
   "metadata": {
    "slideshow": {
     "slide_type": "slide"
    }
   },
   "source": [
    "# Reading a CSV file\n",
    "\n",
    "`csv.reader` function can be used to read data from a CSV file."
   ]
  },
  {
   "cell_type": "code",
   "execution_count": null,
   "id": "96ed9a38",
   "metadata": {
    "slideshow": {
     "slide_type": "fragment"
    }
   },
   "outputs": [],
   "source": [
    "data_csv_path = lecture_29_path / \"data.csv\""
   ]
  },
  {
   "cell_type": "code",
   "execution_count": null,
   "id": "b007905f",
   "metadata": {
    "slideshow": {
     "slide_type": "fragment"
    }
   },
   "outputs": [],
   "source": [
    "with open(data_csv_path, \"r\") as fp:\n",
    "    reader = csv.reader(fp)\n",
    "    for row in reader:\n",
    "        print(row)"
   ]
  },
  {
   "cell_type": "code",
   "execution_count": null,
   "id": "b8f50812",
   "metadata": {
    "slideshow": {
     "slide_type": "fragment"
    }
   },
   "outputs": [],
   "source": [
    "with open(data_csv_path, \"r\") as fp:\n",
    "    reader = csv.reader(fp)\n",
    "    for index, row in enumerate(reader):\n",
    "        if index == 0:\n",
    "            print(f\"Headers: {row}\")\n",
    "        else:\n",
    "            print(f\"Row #{index}: {row}\")"
   ]
  },
  {
   "cell_type": "markdown",
   "id": "3feee9fb",
   "metadata": {
    "slideshow": {
     "slide_type": "slide"
    }
   },
   "source": [
    "# Reading a CSV file into a dictionary\n",
    "\n",
    "`csv.DictReader` class can be used to read data from a CSV file into a dictionary."
   ]
  },
  {
   "cell_type": "code",
   "execution_count": null,
   "id": "cd9c16ce",
   "metadata": {
    "slideshow": {
     "slide_type": "fragment"
    }
   },
   "outputs": [],
   "source": [
    "with open(data_csv_path, \"r\") as fp:\n",
    "    reader = csv.DictReader(fp)\n",
    "    for row in reader:\n",
    "        print(row[\"Name\"], row[\"Age\"], row[\"City\"])"
   ]
  },
  {
   "cell_type": "markdown",
   "id": "db027bda",
   "metadata": {
    "slideshow": {
     "slide_type": "slide"
    }
   },
   "source": [
    "# Writing to a CSV file\n",
    "\n",
    "`csv.writer` function can be used to write data to a CSV file."
   ]
  },
  {
   "cell_type": "code",
   "execution_count": null,
   "id": "156accbd",
   "metadata": {
    "slideshow": {
     "slide_type": "fragment"
    }
   },
   "outputs": [],
   "source": [
    "output_csv_path = lecture_29_path / \"output.csv\""
   ]
  },
  {
   "cell_type": "code",
   "execution_count": null,
   "id": "677ea4e5",
   "metadata": {
    "slideshow": {
     "slide_type": "fragment"
    }
   },
   "outputs": [],
   "source": [
    "data = [\n",
    "    ['Name', 'Age', 'City'],\n",
    "    ['John', '25', 'London'],\n",
    "    ['Alice', '30', 'New York'],\n",
    "    ['Bob', '35', 'Paris']\n",
    "]\n",
    "\n",
    "with open(output_csv_path, \"w\") as fp:\n",
    "    writer = csv.writer(fp)\n",
    "    writer.writerows(data)"
   ]
  },
  {
   "cell_type": "markdown",
   "id": "6efd4a41",
   "metadata": {
    "slideshow": {
     "slide_type": "slide"
    }
   },
   "source": [
    "# Writing to a CSV file from a dictionary\n",
    "\n",
    "`csv.DictWriter` class can be used to write data to a CSV file from a dictionary."
   ]
  },
  {
   "cell_type": "code",
   "execution_count": null,
   "id": "9730e808",
   "metadata": {
    "slideshow": {
     "slide_type": "fragment"
    }
   },
   "outputs": [],
   "source": [
    "data = [\n",
    "    {\"Name\": \"John\", \"Age\": \"25\", \"City\": \"London\"},\n",
    "    {\"Name\": \"Alice\", \"Age\": \"30\", \"City\": \"New York\"},\n",
    "    {\"Name\": \"Bob\", \"Age\": \"35\", \"City\": \"Paris\"}\n",
    "]\n",
    "\n",
    "fieldnames = [\"Name\", \"Age\", \"City\"]\n",
    "\n",
    "with open(output_csv_path, \"w\", newline=\"\") as file:\n",
    "    writer = csv.DictWriter(file, fieldnames=fieldnames)\n",
    "    writer.writeheader()\n",
    "    writer.writerows(data)"
   ]
  },
  {
   "cell_type": "markdown",
   "id": "6ef88714",
   "metadata": {
    "slideshow": {
     "slide_type": "slide"
    }
   },
   "source": [
    "# Further learning\n",
    "\n",
    "- Further Python\n",
    "    - Package management: https://packaging.python.org/en/latest/tutorials/installing-packages/\n",
    "    - Deep dive into OOP\n",
    "    - Type hints, types, type checking\n",
    "    - Asynchronous programming\n",
    "    - etc.\n",
    "    - Book: Luciano Ramalho, Fluent Python, 2nd edition, O'Reilly Media, 2022\n",
    "- Scientific computing and data analysis libraries\n",
    "    - NumPy: https://numpy.org/\n",
    "    - SciPy: https://scipy.org/\n",
    "    - Pandas: https://pandas.pydata.org/\n",
    "    - Polars (alternative dataframe library): https://www.pola.rs/\n",
    "    - Matplotlib: https://matplotlib.org/\n",
    "- Web\n",
    "    - WSGI: https://peps.python.org/pep-3333/\n",
    "    - Gunicorn: https://gunicorn.org/\n",
    "    - Flask: https://flask.palletsprojects.com/en/2.2.x/\n",
    "    - ASGI: https://asgi.readthedocs.io/en/latest/index.html\n",
    "    - Uvicorn: http://www.uvicorn.org/\n",
    "    - FastAPI: https://fastapi.tiangolo.com/"
   ]
  },
  {
   "cell_type": "markdown",
   "id": "46d86f6f",
   "metadata": {
    "slideshow": {
     "slide_type": "slide"
    }
   },
   "source": [
    "# Virtual environment\n",
    "\n",
    "1. Create a virtual environment\n",
    "\n",
    "```bash\n",
    "python -m venv .venv\n",
    "```\n",
    "\n",
    "2. Activate the environment\n",
    "\n",
    "```bash\n",
    "source .venv/bin/activate\n",
    "```"
   ]
  },
  {
   "cell_type": "markdown",
   "id": "9e7b009c",
   "metadata": {
    "slideshow": {
     "slide_type": "slide"
    }
   },
   "source": [
    "# NumPy basic examples\n",
    "\n",
    "Install NumPy\n",
    "\n",
    "```bash\n",
    "pip install numpy\n",
    "```"
   ]
  },
  {
   "cell_type": "code",
   "execution_count": null,
   "id": "0d2a453d",
   "metadata": {
    "slideshow": {
     "slide_type": "fragment"
    }
   },
   "outputs": [],
   "source": [
    "!pip install numpy"
   ]
  },
  {
   "cell_type": "code",
   "execution_count": null,
   "id": "4a2ffcdf",
   "metadata": {
    "slideshow": {
     "slide_type": "fragment"
    }
   },
   "outputs": [],
   "source": [
    "import numpy as np"
   ]
  },
  {
   "cell_type": "code",
   "execution_count": null,
   "id": "e16744a3",
   "metadata": {
    "slideshow": {
     "slide_type": "slide"
    }
   },
   "outputs": [],
   "source": [
    "# One-dimensional array\n",
    "\n",
    "a = np.array([1, 2, 3, 4, 5])\n",
    "\n",
    "print(a)\n",
    "print(type(a))"
   ]
  },
  {
   "cell_type": "code",
   "execution_count": null,
   "id": "9c34f7bb",
   "metadata": {
    "slideshow": {
     "slide_type": "fragment"
    }
   },
   "outputs": [],
   "source": [
    "# Multi-dimensional array\n",
    "\n",
    "b = np.array([[1, 2, 3], [4, 5, 6]])\n",
    "\n",
    "print(b)"
   ]
  },
  {
   "cell_type": "code",
   "execution_count": null,
   "id": "91442ef8",
   "metadata": {
    "slideshow": {
     "slide_type": "fragment"
    }
   },
   "outputs": [],
   "source": [
    "# Accessing array elements\n",
    "\n",
    "print(a[0])\n",
    "print(b[1, 2])"
   ]
  },
  {
   "cell_type": "code",
   "execution_count": null,
   "id": "1123a85d",
   "metadata": {
    "slideshow": {
     "slide_type": "fragment"
    }
   },
   "outputs": [],
   "source": [
    "# Array shape and size\n",
    "\n",
    "print(a.shape)\n",
    "print(b.shape)\n",
    "print(a.size)"
   ]
  },
  {
   "cell_type": "code",
   "execution_count": null,
   "id": "c98472f3",
   "metadata": {
    "slideshow": {
     "slide_type": "slide"
    }
   },
   "outputs": [],
   "source": [
    "# Array arithmetic\n",
    "\n",
    "x = np.array([1, 2, 3])\n",
    "y = np.array([4, 5, 6])"
   ]
  },
  {
   "cell_type": "code",
   "execution_count": null,
   "id": "3db3e9a1",
   "metadata": {
    "slideshow": {
     "slide_type": "fragment"
    }
   },
   "outputs": [],
   "source": [
    "# Element-wise addition\n",
    "\n",
    "result = x + y\n",
    "\n",
    "print(result)"
   ]
  },
  {
   "cell_type": "code",
   "execution_count": null,
   "id": "9fe5888f",
   "metadata": {
    "slideshow": {
     "slide_type": "fragment"
    }
   },
   "outputs": [],
   "source": [
    "# Element-wise multiplication\n",
    "\n",
    "result = x * y\n",
    "\n",
    "print(result)"
   ]
  },
  {
   "cell_type": "code",
   "execution_count": null,
   "id": "d9c61729",
   "metadata": {
    "slideshow": {
     "slide_type": "fragment"
    }
   },
   "outputs": [],
   "source": [
    "# Dot product\n",
    "\n",
    "dot_product = np.dot(x, y)\n",
    "\n",
    "print(dot_product)"
   ]
  },
  {
   "cell_type": "markdown",
   "id": "e2c7a2ea",
   "metadata": {
    "slideshow": {
     "slide_type": "slide"
    }
   },
   "source": [
    "# SciPy basic examples\n",
    "\n",
    "Install SciPy\n",
    "\n",
    "```bash\n",
    "pip install scipy\n",
    "```"
   ]
  },
  {
   "cell_type": "code",
   "execution_count": null,
   "id": "57947efa",
   "metadata": {
    "slideshow": {
     "slide_type": "fragment"
    }
   },
   "outputs": [],
   "source": [
    "!pip install scipy"
   ]
  },
  {
   "cell_type": "code",
   "execution_count": null,
   "id": "10190ae3",
   "metadata": {
    "slideshow": {
     "slide_type": "slide"
    }
   },
   "outputs": [],
   "source": [
    "# Numerical Integration\n",
    "\n",
    "from scipy import integrate\n",
    "\n",
    "# Define the function to integrate\n",
    "def f(x):\n",
    "    return x**2\n",
    "\n",
    "# Integrate the function from 0 to 1\n",
    "result, error = integrate.quad(f, 0, 1)\n",
    "print(\"Result:\", result)\n",
    "print(\"Error:\", error)"
   ]
  },
  {
   "cell_type": "code",
   "execution_count": null,
   "id": "f7687bcf",
   "metadata": {
    "slideshow": {
     "slide_type": "slide"
    }
   },
   "outputs": [],
   "source": [
    "# Linear Algebra\n",
    "\n",
    "import numpy as np\n",
    "from scipy import linalg\n",
    "\n",
    "# Create a 2x2 matrix\n",
    "A = np.array([[1, 2], [3, 4]])\n",
    "\n",
    "# Compute the inverse of the matrix\n",
    "inv_A = linalg.inv(A)\n",
    "print(\"Inverse of A:\")\n",
    "print(inv_A)\n",
    "\n",
    "# Compute the determinant of the matrix\n",
    "det_A = linalg.det(A)\n",
    "print(\"Determinant of A:\", det_A)"
   ]
  },
  {
   "cell_type": "code",
   "execution_count": null,
   "id": "438d4119",
   "metadata": {
    "slideshow": {
     "slide_type": "slide"
    }
   },
   "outputs": [],
   "source": [
    "# Optimization\n",
    "\n",
    "from scipy import optimize\n",
    "\n",
    "# Define the objective function to minimize\n",
    "def f(x):\n",
    "    return (x - 1) ** 2\n",
    "\n",
    "# Minimize the function\n",
    "result = optimize.minimize(f, 0)\n",
    "print(\"Minimum value:\", result.fun)\n",
    "print(\"Minimum point:\", result.x)"
   ]
  },
  {
   "cell_type": "markdown",
   "id": "c6134ce3",
   "metadata": {
    "slideshow": {
     "slide_type": "slide"
    }
   },
   "source": [
    "# Pandas basic examples\n",
    "\n",
    "Install Pandas\n",
    "\n",
    "```bash\n",
    "pip install pandas\n",
    "```"
   ]
  },
  {
   "cell_type": "code",
   "execution_count": null,
   "id": "e8f5bd37",
   "metadata": {
    "slideshow": {
     "slide_type": "fragment"
    }
   },
   "outputs": [],
   "source": [
    "!pip install pandas"
   ]
  },
  {
   "cell_type": "code",
   "execution_count": null,
   "id": "9a7209f7",
   "metadata": {
    "slideshow": {
     "slide_type": "fragment"
    }
   },
   "outputs": [],
   "source": [
    "import pandas as pd"
   ]
  },
  {
   "cell_type": "code",
   "execution_count": null,
   "id": "f05bf860",
   "metadata": {
    "slideshow": {
     "slide_type": "slide"
    }
   },
   "outputs": [],
   "source": [
    "# Creating a DataFrame\n",
    "\n",
    "data = {'Name': ['John', 'Emma', 'Mike', 'Sophia'],\n",
    "        'Age': [25, 28, 22, 31],\n",
    "        'City': ['New York', 'San Francisco', 'London', 'Paris']}\n",
    "\n",
    "df = pd.DataFrame(data)\n",
    "df"
   ]
  },
  {
   "cell_type": "code",
   "execution_count": null,
   "id": "61c0091f",
   "metadata": {
    "slideshow": {
     "slide_type": "slide"
    }
   },
   "outputs": [],
   "source": [
    "# Selecting a column\n",
    "\n",
    "df['Name']"
   ]
  },
  {
   "cell_type": "code",
   "execution_count": null,
   "id": "75cf1b56",
   "metadata": {
    "slideshow": {
     "slide_type": "fragment"
    }
   },
   "outputs": [],
   "source": [
    "# Selecting multiple columns\n",
    "\n",
    "df[['Name', 'City']]"
   ]
  },
  {
   "cell_type": "code",
   "execution_count": null,
   "id": "ae726157",
   "metadata": {
    "slideshow": {
     "slide_type": "slide"
    }
   },
   "outputs": [],
   "source": [
    "# Checking conditions\n",
    "\n",
    "df['Age'] > 25"
   ]
  },
  {
   "cell_type": "code",
   "execution_count": null,
   "id": "598f3b7d",
   "metadata": {
    "slideshow": {
     "slide_type": "fragment"
    }
   },
   "outputs": [],
   "source": [
    "# Filtering rows based on conditions\n",
    "\n",
    "df[df['Age'] > 25]"
   ]
  },
  {
   "cell_type": "code",
   "execution_count": null,
   "id": "1f44010b",
   "metadata": {
    "slideshow": {
     "slide_type": "slide"
    }
   },
   "outputs": [],
   "source": [
    "# Performing aggregations\n",
    "\n",
    "df['Age'].mean(), df['Age'].median()"
   ]
  },
  {
   "cell_type": "code",
   "execution_count": null,
   "id": "91b6041e",
   "metadata": {
    "slideshow": {
     "slide_type": "slide"
    }
   },
   "outputs": [],
   "source": [
    "df_path = lecture_29_path / \"df.csv\""
   ]
  },
  {
   "cell_type": "code",
   "execution_count": null,
   "id": "70bd7923",
   "metadata": {
    "slideshow": {
     "slide_type": "fragment"
    }
   },
   "outputs": [],
   "source": [
    "# Save a dataframe to a file\n",
    "\n",
    "df.to_csv(df_path)"
   ]
  },
  {
   "cell_type": "code",
   "execution_count": null,
   "id": "ef5d658a",
   "metadata": {
    "slideshow": {
     "slide_type": "fragment"
    }
   },
   "outputs": [],
   "source": [
    "# Read a dataframe from a file\n",
    "\n",
    "df = pd.read_csv(df_path)\n",
    "df"
   ]
  },
  {
   "cell_type": "markdown",
   "id": "bb5671f5",
   "metadata": {
    "slideshow": {
     "slide_type": "slide"
    }
   },
   "source": [
    "# Matplotlib basic examples\n",
    "\n",
    "Install Matplotlib\n",
    "\n",
    "```bash\n",
    "pip install matplotlib\n",
    "```"
   ]
  },
  {
   "cell_type": "code",
   "execution_count": null,
   "id": "c28c343a",
   "metadata": {
    "slideshow": {
     "slide_type": "fragment"
    }
   },
   "outputs": [],
   "source": [
    "!pip install matplotlib"
   ]
  },
  {
   "cell_type": "code",
   "execution_count": null,
   "id": "f7f01d1e",
   "metadata": {
    "slideshow": {
     "slide_type": "slide"
    }
   },
   "outputs": [],
   "source": [
    "# Line Plot\n",
    "\n",
    "import matplotlib.pyplot as plt\n",
    "\n",
    "# Sample data\n",
    "x = [1, 2, 3, 4, 5]\n",
    "y = [2, 4, 6, 8, 10]\n",
    "\n",
    "# Create a figure and axis\n",
    "fig, ax = plt.subplots()\n",
    "\n",
    "# Plot the data\n",
    "ax.plot(x, y)\n",
    "\n",
    "# Set labels and title\n",
    "ax.set_xlabel('X-axis')\n",
    "ax.set_ylabel('Y-axis')\n",
    "ax.set_title('Line Plot')\n",
    "\n",
    "# Display the plot\n",
    "plt.show()"
   ]
  },
  {
   "cell_type": "code",
   "execution_count": null,
   "id": "b3c9ebb8",
   "metadata": {
    "slideshow": {
     "slide_type": "slide"
    }
   },
   "outputs": [],
   "source": [
    "# Scatter Plot\n",
    "\n",
    "import matplotlib.pyplot as plt\n",
    "\n",
    "# Sample data\n",
    "x = [1, 2, 3, 4, 5]\n",
    "y = [2, 4, 6, 8, 10]\n",
    "\n",
    "# Create a figure and axis\n",
    "fig, ax = plt.subplots()\n",
    "\n",
    "# Plot the data\n",
    "ax.scatter(x, y)\n",
    "\n",
    "# Set labels and title\n",
    "ax.set_xlabel('X-axis')\n",
    "ax.set_ylabel('Y-axis')\n",
    "ax.set_title('Scatter Plot')\n",
    "\n",
    "# Display the plot\n",
    "plt.show()"
   ]
  },
  {
   "cell_type": "code",
   "execution_count": null,
   "id": "7b1d6fbf",
   "metadata": {
    "slideshow": {
     "slide_type": "slide"
    }
   },
   "outputs": [],
   "source": [
    "# Bar Chart\n",
    "\n",
    "import matplotlib.pyplot as plt\n",
    "\n",
    "# Sample data\n",
    "categories = ['A', 'B', 'C', 'D']\n",
    "values = [10, 15, 7, 12]\n",
    "\n",
    "# Create a figure and axis\n",
    "fig, ax = plt.subplots()\n",
    "\n",
    "# Plot the data\n",
    "ax.bar(categories, values)\n",
    "\n",
    "# Set labels and title\n",
    "ax.set_xlabel('Categories')\n",
    "ax.set_ylabel('Values')\n",
    "ax.set_title('Bar Chart')\n",
    "\n",
    "# Display the plot\n",
    "plt.show()"
   ]
  },
  {
   "cell_type": "code",
   "execution_count": null,
   "id": "81afb3c6",
   "metadata": {
    "slideshow": {
     "slide_type": "slide"
    }
   },
   "outputs": [],
   "source": [
    "# Histogram\n",
    "\n",
    "import matplotlib.pyplot as plt\n",
    "import numpy as np\n",
    "\n",
    "# Generate random data\n",
    "data = np.random.randn(1000)\n",
    "\n",
    "# Create a figure and axis\n",
    "fig, ax = plt.subplots()\n",
    "\n",
    "# Plot the histogram\n",
    "ax.hist(data, bins=30)\n",
    "\n",
    "# Set labels and title\n",
    "ax.set_xlabel('Value')\n",
    "ax.set_ylabel('Frequency')\n",
    "ax.set_title('Histogram')\n",
    "\n",
    "# Display the plot\n",
    "plt.show()"
   ]
  }
 ],
 "metadata": {
  "celltoolbar": "Slideshow",
  "colab": {
   "provenance": []
  },
  "kernelspec": {
   "display_name": "Python 3 (ipykernel)",
   "language": "python",
   "name": "python3"
  },
  "language_info": {
   "codemirror_mode": {
    "name": "ipython",
    "version": 3
   },
   "file_extension": ".py",
   "mimetype": "text/x-python",
   "name": "python",
   "nbconvert_exporter": "python",
   "pygments_lexer": "ipython3",
   "version": "3.8.10"
  }
 },
 "nbformat": 4,
 "nbformat_minor": 5
}
