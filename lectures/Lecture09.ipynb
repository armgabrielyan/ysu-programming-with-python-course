{
 "cells": [
  {
   "cell_type": "markdown",
   "id": "74750d32",
   "metadata": {
    "slideshow": {
     "slide_type": "slide"
    }
   },
   "source": [
    "# Programming with Python\n",
    "\n",
    "## Lecture 09: Sequences\n",
    "\n",
    "### Armen Gabrielyan\n",
    "\n",
    "#### Yerevan State University\n",
    "#### Portmind"
   ]
  },
  {
   "cell_type": "markdown",
   "id": "c2c70a6a",
   "metadata": {
    "slideshow": {
     "slide_type": "slide"
    }
   },
   "source": [
    "# Strings"
   ]
  },
  {
   "cell_type": "markdown",
   "id": "45df55b7",
   "metadata": {
    "slideshow": {
     "slide_type": "fragment"
    }
   },
   "source": [
    "Strings are a **sequence** of characters that are used to store textual information."
   ]
  },
  {
   "cell_type": "code",
   "execution_count": null,
   "id": "50b83f53",
   "metadata": {
    "slideshow": {
     "slide_type": "fragment"
    }
   },
   "outputs": [],
   "source": [
    "text = \"Hello world\"\n",
    "text"
   ]
  },
  {
   "cell_type": "code",
   "execution_count": null,
   "id": "d62c9b01",
   "metadata": {
    "slideshow": {
     "slide_type": "fragment"
    }
   },
   "outputs": [],
   "source": [
    "text = \"\"\"\n",
    "Lorem ipsum dolor sit amet, consectetur adipiscing elit,\n",
    "sed do eiusmod tempor incididunt ut labore et dolore magna aliqua.\n",
    "Ut enim ad minim veniam, quis nostrud exercitation ullamco laboris nisiut\n",
    "aliquip ex ea commodo consequat.\n",
    "\"\"\"\n",
    "text"
   ]
  },
  {
   "cell_type": "markdown",
   "id": "a6b7552e",
   "metadata": {
    "slideshow": {
     "slide_type": "slide"
    }
   },
   "source": [
    "## Indexing"
   ]
  },
  {
   "cell_type": "markdown",
   "id": "42742eb0",
   "metadata": {
    "slideshow": {
     "slide_type": "fragment"
    }
   },
   "source": [
    "Strings are a positionally ordered sequence of characters. So, characters can be accessed by their positions. This can be done via **indexing expressions** in a $0$-based indexing manner."
   ]
  },
  {
   "cell_type": "code",
   "execution_count": null,
   "id": "d8a138bc",
   "metadata": {
    "slideshow": {
     "slide_type": "fragment"
    }
   },
   "outputs": [],
   "source": [
    "text = \"Hello world\"\n",
    "text"
   ]
  },
  {
   "cell_type": "code",
   "execution_count": null,
   "id": "f850076b",
   "metadata": {
    "slideshow": {
     "slide_type": "fragment"
    }
   },
   "outputs": [],
   "source": [
    "text[0]"
   ]
  },
  {
   "cell_type": "code",
   "execution_count": null,
   "id": "1f07cc89",
   "metadata": {
    "slideshow": {
     "slide_type": "fragment"
    }
   },
   "outputs": [],
   "source": [
    "text[1]"
   ]
  },
  {
   "cell_type": "code",
   "execution_count": null,
   "id": "5448ea25",
   "metadata": {
    "slideshow": {
     "slide_type": "fragment"
    }
   },
   "outputs": [],
   "source": [
    "text[6]"
   ]
  },
  {
   "cell_type": "markdown",
   "id": "2a87f274",
   "metadata": {
    "slideshow": {
     "slide_type": "slide"
    }
   },
   "source": [
    "## `len()` function\n",
    "\n",
    "`len()` function returns the length of an object, such as a sequence or a collection."
   ]
  },
  {
   "cell_type": "code",
   "execution_count": null,
   "id": "3231116c",
   "metadata": {
    "slideshow": {
     "slide_type": "fragment"
    }
   },
   "outputs": [],
   "source": [
    "text = \"Hello world\"\n",
    "\n",
    "len(text)"
   ]
  },
  {
   "cell_type": "code",
   "execution_count": null,
   "id": "6ed0547e",
   "metadata": {
    "slideshow": {
     "slide_type": "fragment"
    }
   },
   "outputs": [],
   "source": [
    "text[len(text) - 1]"
   ]
  },
  {
   "cell_type": "code",
   "execution_count": null,
   "id": "e252a113",
   "metadata": {
    "slideshow": {
     "slide_type": "fragment"
    }
   },
   "outputs": [],
   "source": [
    "text[len(text)]"
   ]
  },
  {
   "cell_type": "markdown",
   "id": "bf100cc9",
   "metadata": {
    "slideshow": {
     "slide_type": "slide"
    }
   },
   "source": [
    "## Negative indexing\n",
    "\n",
    "Non-negative indices count from left to right while negative indices count backwards, i.e. from right to left. \n",
    "\n",
    "Given `text` string, `text[-1]` is the last character, `text[-2]` is the second-to-last character and so on."
   ]
  },
  {
   "cell_type": "code",
   "execution_count": null,
   "id": "6c20a78a",
   "metadata": {
    "slideshow": {
     "slide_type": "fragment"
    }
   },
   "outputs": [],
   "source": [
    "text = \"Hello world\""
   ]
  },
  {
   "cell_type": "code",
   "execution_count": null,
   "id": "8b39986d",
   "metadata": {
    "slideshow": {
     "slide_type": "fragment"
    }
   },
   "outputs": [],
   "source": [
    "text[-1]"
   ]
  },
  {
   "cell_type": "code",
   "execution_count": null,
   "id": "0d4cb7f3",
   "metadata": {
    "slideshow": {
     "slide_type": "fragment"
    }
   },
   "outputs": [],
   "source": [
    "text[-2]"
   ]
  },
  {
   "cell_type": "markdown",
   "id": "062169ad",
   "metadata": {
    "slideshow": {
     "slide_type": "fragment"
    }
   },
   "source": [
    "`text[-i]` is equivalent to `text[len(text) - i]`."
   ]
  },
  {
   "cell_type": "code",
   "execution_count": null,
   "id": "d9d4827f",
   "metadata": {
    "slideshow": {
     "slide_type": "fragment"
    }
   },
   "outputs": [],
   "source": [
    "text[len(text) - 1]"
   ]
  },
  {
   "cell_type": "code",
   "execution_count": null,
   "id": "9777f777",
   "metadata": {
    "slideshow": {
     "slide_type": "fragment"
    }
   },
   "outputs": [],
   "source": [
    "text[len(text) - 2]"
   ]
  },
  {
   "cell_type": "markdown",
   "id": "ff1df9e6",
   "metadata": {
    "slideshow": {
     "slide_type": "slide"
    }
   },
   "source": [
    "## Slicing\n",
    "\n",
    "**Slicing** is a technique that can be used to extract out a portion of a sequence.\n",
    "\n",
    "Given a sequence `seq`, the general form is `seq[start:stop:step]`, where:\n",
    "\n",
    "- `start` is an integer indicating the start position of a range.\n",
    "- `stop` is an integer indicating the end position of a range, excluding `stop` position. In other words, `start:stop` is a range that is equivalent to `[start, stop)` mathematically.\n",
    "- `step` is an integer indicating the step of slicing.\n",
    "\n",
    "None of them is required in a slicing expression."
   ]
  },
  {
   "cell_type": "code",
   "execution_count": null,
   "id": "328ce6c5",
   "metadata": {
    "slideshow": {
     "slide_type": "subslide"
    }
   },
   "outputs": [],
   "source": [
    "text = \"Hello world\""
   ]
  },
  {
   "cell_type": "code",
   "execution_count": null,
   "id": "cfb6bd12",
   "metadata": {
    "slideshow": {
     "slide_type": "fragment"
    }
   },
   "outputs": [],
   "source": [
    "# [start:stop] - extracts out the items from start to stop\n",
    "text[6:10]"
   ]
  },
  {
   "cell_type": "code",
   "execution_count": null,
   "id": "7d174688",
   "metadata": {
    "slideshow": {
     "slide_type": "fragment"
    }
   },
   "outputs": [],
   "source": [
    "# [start:] - extracts out the items from start to the end\n",
    "text[6:]"
   ]
  },
  {
   "cell_type": "code",
   "execution_count": null,
   "id": "a9f093dd",
   "metadata": {
    "slideshow": {
     "slide_type": "fragment"
    }
   },
   "outputs": [],
   "source": [
    "# [:stop] - extracts out the items from the begining to stop\n",
    "text[:6]"
   ]
  },
  {
   "cell_type": "code",
   "execution_count": null,
   "id": "eec1bbae",
   "metadata": {
    "slideshow": {
     "slide_type": "fragment"
    }
   },
   "outputs": [],
   "source": [
    "# [:] - copies the whole sequence\n",
    "text[:]"
   ]
  },
  {
   "cell_type": "code",
   "execution_count": null,
   "id": "afc3822e",
   "metadata": {
    "slideshow": {
     "slide_type": "subslide"
    }
   },
   "outputs": [],
   "source": [
    "text = \"Hello world\""
   ]
  },
  {
   "cell_type": "code",
   "execution_count": null,
   "id": "0b1d1fca",
   "metadata": {
    "slideshow": {
     "slide_type": "fragment"
    }
   },
   "outputs": [],
   "source": [
    "# [start:stop:step] - extracts out the items from start to stop at every step position\n",
    "text[6:10:2]"
   ]
  },
  {
   "cell_type": "code",
   "execution_count": null,
   "id": "d0cd40a9",
   "metadata": {
    "slideshow": {
     "slide_type": "fragment"
    }
   },
   "outputs": [],
   "source": [
    "# [start::step] - extracts out the items from start to the end at every step position\n",
    "text[6::2]"
   ]
  },
  {
   "cell_type": "code",
   "execution_count": null,
   "id": "468e25ce",
   "metadata": {
    "slideshow": {
     "slide_type": "fragment"
    }
   },
   "outputs": [],
   "source": [
    "# [:stop:step] - extracts out the items from the begining to stop at every step position\n",
    "text[:6:2]"
   ]
  },
  {
   "cell_type": "code",
   "execution_count": null,
   "id": "fb6f7b89",
   "metadata": {
    "slideshow": {
     "slide_type": "fragment"
    }
   },
   "outputs": [],
   "source": [
    "# [::step] - extracts out the items from the whole sequence at every step position\n",
    "text[::3]"
   ]
  },
  {
   "cell_type": "markdown",
   "id": "9369ec1e",
   "metadata": {
    "slideshow": {
     "slide_type": "subslide"
    }
   },
   "source": [
    "Negative `step` is also allowed, which takes items from the sequence in reverse order."
   ]
  },
  {
   "cell_type": "code",
   "execution_count": null,
   "id": "3a24e7f5",
   "metadata": {
    "slideshow": {
     "slide_type": "fragment"
    }
   },
   "outputs": [],
   "source": [
    "text = \"Hello world\""
   ]
  },
  {
   "cell_type": "code",
   "execution_count": null,
   "id": "042c97d2",
   "metadata": {
    "slideshow": {
     "slide_type": "fragment"
    }
   },
   "outputs": [],
   "source": [
    "# [start:stop:-step] - reverses the sequence between start and stop positions\n",
    "text[10:6:-1]"
   ]
  },
  {
   "cell_type": "code",
   "execution_count": null,
   "id": "360b5b16",
   "metadata": {
    "slideshow": {
     "slide_type": "fragment"
    }
   },
   "outputs": [],
   "source": [
    "# [::-step] - reverses the sequence\n",
    "text[::-1]"
   ]
  },
  {
   "cell_type": "markdown",
   "id": "45d0322f",
   "metadata": {
    "slideshow": {
     "slide_type": "slide"
    }
   },
   "source": [
    "## Immutability\n",
    "\n",
    "In Python, strings are immutable which means that they cannot be changed in place. In the cases, when it is needed to change the value of a string, it is better to create a new string."
   ]
  },
  {
   "cell_type": "code",
   "execution_count": null,
   "id": "86b05005",
   "metadata": {
    "slideshow": {
     "slide_type": "fragment"
    }
   },
   "outputs": [],
   "source": [
    "text = \"Hello world\"\n",
    "text[0] = \"h\""
   ]
  },
  {
   "cell_type": "code",
   "execution_count": null,
   "id": "93908cc8",
   "metadata": {
    "slideshow": {
     "slide_type": "fragment"
    }
   },
   "outputs": [],
   "source": [
    "text = \"Hello world\"\n",
    "new_text = \"h\" + text[1:]\n",
    "new_text"
   ]
  },
  {
   "cell_type": "markdown",
   "id": "5f8dbbe9",
   "metadata": {
    "slideshow": {
     "slide_type": "slide"
    }
   },
   "source": [
    "## `for` loops\n",
    "\n",
    "In Python, a `for` loop is a statement that is used to iterate over the items of a sequence or collection, such as string, list, tuple, etc.\n",
    "\n",
    "```python\n",
    "for item in sequence:\n",
    "    <block_of_statements>\n",
    "```"
   ]
  },
  {
   "cell_type": "code",
   "execution_count": null,
   "id": "dada75d1",
   "metadata": {
    "slideshow": {
     "slide_type": "fragment"
    }
   },
   "outputs": [],
   "source": [
    "text = \"Hello world\"\n",
    "\n",
    "for character in text:\n",
    "    print(character)"
   ]
  },
  {
   "cell_type": "markdown",
   "id": "321730be",
   "metadata": {
    "slideshow": {
     "slide_type": "subslide"
    }
   },
   "source": [
    "`for` loops share the properties of a `while` loop. For example, `break` and `continue` statements can be used."
   ]
  },
  {
   "cell_type": "code",
   "execution_count": null,
   "id": "7c8e33a7",
   "metadata": {
    "slideshow": {
     "slide_type": "fragment"
    }
   },
   "outputs": [],
   "source": [
    "text = \"Hello world\"\n",
    "\n",
    "for character in text:\n",
    "    if character == \" \":\n",
    "        break\n",
    "    print(character)"
   ]
  },
  {
   "cell_type": "code",
   "execution_count": null,
   "id": "5885d177",
   "metadata": {
    "slideshow": {
     "slide_type": "fragment"
    }
   },
   "outputs": [],
   "source": [
    "text = \"Hello world\"\n",
    "\n",
    "for character in text:\n",
    "    if character == \" \":\n",
    "        continue\n",
    "    print(character)"
   ]
  },
  {
   "cell_type": "markdown",
   "id": "909a2081",
   "metadata": {
    "slideshow": {
     "slide_type": "slide"
    }
   },
   "source": [
    "## String methods\n",
    "\n",
    "Methods are functions that act on a specific object. In addition to sequence methods, there are methods that are specific to strings."
   ]
  },
  {
   "cell_type": "markdown",
   "id": "2632971b",
   "metadata": {
    "slideshow": {
     "slide_type": "slide"
    }
   },
   "source": [
    "## `upper()` and `lower()`\n",
    "\n",
    "- `upper()` returns the string in upper case.\n",
    "- `lower()` returns the string in lower case."
   ]
  },
  {
   "cell_type": "code",
   "execution_count": 25,
   "id": "53f6ba9d",
   "metadata": {
    "slideshow": {
     "slide_type": "fragment"
    }
   },
   "outputs": [
    {
     "data": {
      "text/plain": [
       "'HELLO WORLD'"
      ]
     },
     "execution_count": 25,
     "metadata": {},
     "output_type": "execute_result"
    }
   ],
   "source": [
    "text = \"Hello world\"\n",
    "text.upper()"
   ]
  },
  {
   "cell_type": "code",
   "execution_count": 26,
   "id": "2b640442",
   "metadata": {
    "slideshow": {
     "slide_type": "fragment"
    }
   },
   "outputs": [
    {
     "data": {
      "text/plain": [
       "'hello world'"
      ]
     },
     "execution_count": 26,
     "metadata": {},
     "output_type": "execute_result"
    }
   ],
   "source": [
    "text = \"Hello world\"\n",
    "text.lower()"
   ]
  },
  {
   "cell_type": "markdown",
   "id": "cba423ad",
   "metadata": {
    "slideshow": {
     "slide_type": "slide"
    }
   },
   "source": [
    "## `strip()`\n",
    "\n",
    "- `strip()` removes whitespaces from both the beginning and end of the string.\n",
    "- `lstrip()` removes whitespaces from the beginning of the string.\n",
    "- `rstrip()` removes whitespaces from the end of the string."
   ]
  },
  {
   "cell_type": "code",
   "execution_count": 27,
   "id": "0951b589",
   "metadata": {
    "slideshow": {
     "slide_type": "fragment"
    }
   },
   "outputs": [
    {
     "data": {
      "text/plain": [
       "'Hello world'"
      ]
     },
     "execution_count": 27,
     "metadata": {},
     "output_type": "execute_result"
    }
   ],
   "source": [
    "text = \"   Hello world                \"\n",
    "text.strip()"
   ]
  },
  {
   "cell_type": "code",
   "execution_count": 28,
   "id": "92911988",
   "metadata": {
    "slideshow": {
     "slide_type": "fragment"
    }
   },
   "outputs": [
    {
     "data": {
      "text/plain": [
       "'Hello world                '"
      ]
     },
     "execution_count": 28,
     "metadata": {},
     "output_type": "execute_result"
    }
   ],
   "source": [
    "text = \"   Hello world                \"\n",
    "text.lstrip()"
   ]
  },
  {
   "cell_type": "code",
   "execution_count": 29,
   "id": "759d0542",
   "metadata": {
    "slideshow": {
     "slide_type": "fragment"
    }
   },
   "outputs": [
    {
     "data": {
      "text/plain": [
       "'   Hello world'"
      ]
     },
     "execution_count": 29,
     "metadata": {},
     "output_type": "execute_result"
    }
   ],
   "source": [
    "text = \"   Hello world                \"\n",
    "text.rstrip()"
   ]
  },
  {
   "cell_type": "markdown",
   "id": "e6418cd9",
   "metadata": {
    "slideshow": {
     "slide_type": "slide"
    }
   },
   "source": [
    "## `find(value, start, end)`\n",
    "\n",
    "`find(value, start, end)` searches for `value` in the string between `start` and `end` positions and returns the offset where it was found. Both `start` and `end` parameters are optional."
   ]
  },
  {
   "cell_type": "code",
   "execution_count": 31,
   "id": "2ce0334f",
   "metadata": {
    "slideshow": {
     "slide_type": "fragment"
    }
   },
   "outputs": [
    {
     "data": {
      "text/plain": [
       "(1, 6)"
      ]
     },
     "execution_count": 31,
     "metadata": {},
     "output_type": "execute_result"
    }
   ],
   "source": [
    "text = \"Hello world\"\n",
    "text.find(\"e\"), text.find(\"world\")"
   ]
  },
  {
   "cell_type": "code",
   "execution_count": 32,
   "id": "dcec725b",
   "metadata": {
    "slideshow": {
     "slide_type": "fragment"
    }
   },
   "outputs": [
    {
     "data": {
      "text/plain": [
       "-1"
      ]
     },
     "execution_count": 32,
     "metadata": {},
     "output_type": "execute_result"
    }
   ],
   "source": [
    "text = \"Hello world\"\n",
    "text.find(\"f\")"
   ]
  },
  {
   "cell_type": "code",
   "execution_count": 33,
   "id": "a2374267",
   "metadata": {
    "slideshow": {
     "slide_type": "fragment"
    }
   },
   "outputs": [
    {
     "data": {
      "text/plain": [
       "-1"
      ]
     },
     "execution_count": 33,
     "metadata": {},
     "output_type": "execute_result"
    }
   ],
   "source": [
    "text = \"Hello world\"\n",
    "text.find(\"e\", 2, 7)"
   ]
  },
  {
   "cell_type": "markdown",
   "id": "15381f87",
   "metadata": {
    "slideshow": {
     "slide_type": "slide"
    }
   },
   "source": [
    "## replace(oldvalue, newvalue, count)\n",
    "\n",
    "`replace(oldvalue, newvalue, count)` replaces `count` number of occurrences of `oldvalue` with `newvalue` in the string. `count` is optional and all occurrences are replaced if not provided."
   ]
  },
  {
   "cell_type": "code",
   "execution_count": 34,
   "id": "9b7097bd",
   "metadata": {
    "slideshow": {
     "slide_type": "subslide"
    }
   },
   "outputs": [
    {
     "data": {
      "text/plain": [
       "'Hello John Doe!'"
      ]
     },
     "execution_count": 34,
     "metadata": {},
     "output_type": "execute_result"
    }
   ],
   "source": [
    "text = \"Hello world\"\n",
    "text.replace(\"world\", \"John Doe!\")"
   ]
  },
  {
   "cell_type": "code",
   "execution_count": 36,
   "id": "b955ecd5",
   "metadata": {
    "slideshow": {
     "slide_type": "fragment"
    }
   },
   "outputs": [
    {
     "data": {
      "text/plain": [
       "'Heaao worad'"
      ]
     },
     "execution_count": 36,
     "metadata": {},
     "output_type": "execute_result"
    }
   ],
   "source": [
    "text = \"Hello world\"\n",
    "text.replace(\"l\", \"a\")"
   ]
  },
  {
   "cell_type": "code",
   "execution_count": 37,
   "id": "c3d8dcad",
   "metadata": {
    "slideshow": {
     "slide_type": "fragment"
    }
   },
   "outputs": [
    {
     "data": {
      "text/plain": [
       "'Heaao world'"
      ]
     },
     "execution_count": 37,
     "metadata": {},
     "output_type": "execute_result"
    }
   ],
   "source": [
    "text = \"Hello world\"\n",
    "text.replace(\"l\", \"a\", 2)"
   ]
  },
  {
   "cell_type": "markdown",
   "id": "d651c45d",
   "metadata": {
    "slideshow": {
     "slide_type": "slide"
    }
   },
   "source": [
    "## split(separator, maxsplit)\n",
    "\n",
    "`split(separator, maxsplit)` splits a string into a list of strings using `separator` and `maxsplit`as the split character and the number of splits."
   ]
  },
  {
   "cell_type": "code",
   "execution_count": 38,
   "id": "0fdf2a86",
   "metadata": {
    "slideshow": {
     "slide_type": "fragment"
    }
   },
   "outputs": [
    {
     "data": {
      "text/plain": [
       "['Hello', 'world']"
      ]
     },
     "execution_count": 38,
     "metadata": {},
     "output_type": "execute_result"
    }
   ],
   "source": [
    "text = \"Hello world\"\n",
    "text.split()"
   ]
  },
  {
   "cell_type": "code",
   "execution_count": 41,
   "id": "b8680eb5",
   "metadata": {
    "slideshow": {
     "slide_type": "fragment"
    }
   },
   "outputs": [
    {
     "data": {
      "text/plain": [
       "['Hello', 'world']"
      ]
     },
     "execution_count": 41,
     "metadata": {},
     "output_type": "execute_result"
    }
   ],
   "source": [
    "text = \"Hello, world\"\n",
    "text.split(\", \")"
   ]
  },
  {
   "cell_type": "code",
   "execution_count": 42,
   "id": "78a8608a",
   "metadata": {
    "slideshow": {
     "slide_type": "fragment"
    }
   },
   "outputs": [
    {
     "data": {
      "text/plain": [
       "['Hello', 'John', 'Jane']"
      ]
     },
     "execution_count": 42,
     "metadata": {},
     "output_type": "execute_result"
    }
   ],
   "source": [
    "text = \"Hello, John, Jane\"\n",
    "text.split(\", \")"
   ]
  },
  {
   "cell_type": "code",
   "execution_count": 44,
   "id": "22330c7a",
   "metadata": {
    "slideshow": {
     "slide_type": "fragment"
    }
   },
   "outputs": [
    {
     "data": {
      "text/plain": [
       "['Hello', 'John, Jane']"
      ]
     },
     "execution_count": 44,
     "metadata": {},
     "output_type": "execute_result"
    }
   ],
   "source": [
    "text = \"Hello, John, Jane\"\n",
    "text.split(\", \", 1)"
   ]
  },
  {
   "cell_type": "markdown",
   "id": "92269dab",
   "metadata": {
    "slideshow": {
     "slide_type": "slide"
    }
   },
   "source": [
    "# Lists\n",
    "\n",
    "List is a sequence of arbitrary values. It is positionally ordered and has no fixed size. They are usually defined by square brackets `[]` or `list()` constructor."
   ]
  },
  {
   "cell_type": "code",
   "execution_count": 45,
   "id": "a3dd9da9",
   "metadata": {
    "slideshow": {
     "slide_type": "fragment"
    }
   },
   "outputs": [
    {
     "data": {
      "text/plain": [
       "[]"
      ]
     },
     "execution_count": 45,
     "metadata": {},
     "output_type": "execute_result"
    }
   ],
   "source": [
    "[] # empty list"
   ]
  },
  {
   "cell_type": "code",
   "execution_count": 46,
   "id": "09fab49a",
   "metadata": {
    "slideshow": {
     "slide_type": "fragment"
    }
   },
   "outputs": [
    {
     "data": {
      "text/plain": [
       "[1, 2, 3, 4, 5]"
      ]
     },
     "execution_count": 46,
     "metadata": {},
     "output_type": "execute_result"
    }
   ],
   "source": [
    "[1, 2, 3, 4, 5]"
   ]
  },
  {
   "cell_type": "code",
   "execution_count": 47,
   "id": "254010b0",
   "metadata": {
    "slideshow": {
     "slide_type": "fragment"
    }
   },
   "outputs": [
    {
     "data": {
      "text/plain": [
       "['abc', 'def']"
      ]
     },
     "execution_count": 47,
     "metadata": {},
     "output_type": "execute_result"
    }
   ],
   "source": [
    "[\"abc\", \"def\"]"
   ]
  },
  {
   "cell_type": "code",
   "execution_count": 48,
   "id": "0b0132db",
   "metadata": {
    "slideshow": {
     "slide_type": "fragment"
    }
   },
   "outputs": [
    {
     "data": {
      "text/plain": [
       "['John', 'Doe', 22, False]"
      ]
     },
     "execution_count": 48,
     "metadata": {},
     "output_type": "execute_result"
    }
   ],
   "source": [
    "[\"John\", \"Doe\", 22, False]"
   ]
  },
  {
   "cell_type": "code",
   "execution_count": 49,
   "id": "40afe43c",
   "metadata": {
    "slideshow": {
     "slide_type": "fragment"
    }
   },
   "outputs": [
    {
     "data": {
      "text/plain": [
       "['John', 'Doe', 22, False, [1, 2, 3, 4, 5]]"
      ]
     },
     "execution_count": 49,
     "metadata": {},
     "output_type": "execute_result"
    }
   ],
   "source": [
    "[\"John\", \"Doe\", 22, False, [1, 2, 3, 4, 5]]"
   ]
  },
  {
   "cell_type": "code",
   "execution_count": 50,
   "id": "8886a4aa",
   "metadata": {
    "slideshow": {
     "slide_type": "subslide"
    }
   },
   "outputs": [
    {
     "data": {
      "text/plain": [
       "[]"
      ]
     },
     "execution_count": 50,
     "metadata": {},
     "output_type": "execute_result"
    }
   ],
   "source": [
    "list() # empty list"
   ]
  },
  {
   "cell_type": "code",
   "execution_count": 52,
   "id": "c136db42",
   "metadata": {
    "slideshow": {
     "slide_type": "fragment"
    }
   },
   "outputs": [
    {
     "data": {
      "text/plain": [
       "['H', 'e', 'l', 'l', 'o', ' ', 'w', 'o', 'r', 'l', 'd']"
      ]
     },
     "execution_count": 52,
     "metadata": {},
     "output_type": "execute_result"
    }
   ],
   "source": [
    "list(\"Hello world\")"
   ]
  },
  {
   "cell_type": "markdown",
   "id": "ed0e3cf8",
   "metadata": {
    "slideshow": {
     "slide_type": "slide"
    }
   },
   "source": [
    "## Sequence operations\n",
    "\n",
    "Lists support common sequence operations, such as indexing, slicing, concatenation, etc."
   ]
  },
  {
   "cell_type": "code",
   "execution_count": 66,
   "id": "013589e3",
   "metadata": {
    "slideshow": {
     "slide_type": "fragment"
    }
   },
   "outputs": [],
   "source": [
    "fib_numbers = [0, 1, 1, 2, 3]"
   ]
  },
  {
   "cell_type": "code",
   "execution_count": 67,
   "id": "5e39ea67",
   "metadata": {
    "slideshow": {
     "slide_type": "fragment"
    }
   },
   "outputs": [
    {
     "data": {
      "text/plain": [
       "(0, 3)"
      ]
     },
     "execution_count": 67,
     "metadata": {},
     "output_type": "execute_result"
    }
   ],
   "source": [
    "# indexing\n",
    "fib_numbers[0], fib_numbers[len(fib_numbers) - 1]"
   ]
  },
  {
   "cell_type": "code",
   "execution_count": 68,
   "id": "7dada2a1",
   "metadata": {
    "slideshow": {
     "slide_type": "fragment"
    }
   },
   "outputs": [
    {
     "data": {
      "text/plain": [
       "(3, 2)"
      ]
     },
     "execution_count": 68,
     "metadata": {},
     "output_type": "execute_result"
    }
   ],
   "source": [
    "# negative indexing\n",
    "fib_numbers[-1], fib_numbers[-2]"
   ]
  },
  {
   "cell_type": "code",
   "execution_count": 83,
   "id": "c7fe9bd9",
   "metadata": {
    "slideshow": {
     "slide_type": "fragment"
    }
   },
   "outputs": [
    {
     "ename": "IndexError",
     "evalue": "list index out of range",
     "output_type": "error",
     "traceback": [
      "\u001b[0;31m---------------------------------------------------------------------------\u001b[0m",
      "\u001b[0;31mIndexError\u001b[0m                                Traceback (most recent call last)",
      "Cell \u001b[0;32mIn[83], line 1\u001b[0m\n\u001b[0;32m----> 1\u001b[0m \u001b[43mfib_numbers\u001b[49m\u001b[43m[\u001b[49m\u001b[38;5;241;43m100\u001b[39;49m\u001b[43m]\u001b[49m\n",
      "\u001b[0;31mIndexError\u001b[0m: list index out of range"
     ]
    }
   ],
   "source": [
    "fib_numbers[100]"
   ]
  },
  {
   "cell_type": "code",
   "execution_count": 69,
   "id": "1d5ec1ce",
   "metadata": {
    "slideshow": {
     "slide_type": "subslide"
    }
   },
   "outputs": [
    {
     "data": {
      "text/plain": [
       "([1, 2], [3, 2, 1, 1, 0])"
      ]
     },
     "execution_count": 69,
     "metadata": {},
     "output_type": "execute_result"
    }
   ],
   "source": [
    "# slicing\n",
    "fib_numbers[2:4], fib_numbers[::-1]"
   ]
  },
  {
   "cell_type": "code",
   "execution_count": 70,
   "id": "487f5413",
   "metadata": {
    "slideshow": {
     "slide_type": "fragment"
    }
   },
   "outputs": [
    {
     "data": {
      "text/plain": [
       "[0, 1, 1, 2, 3, 5, 8, 13, 21, 34, 55]"
      ]
     },
     "execution_count": 70,
     "metadata": {},
     "output_type": "execute_result"
    }
   ],
   "source": [
    "# concatenation\n",
    "fib_numbers + [5, 8, 13, 21, 34, 55]"
   ]
  },
  {
   "cell_type": "code",
   "execution_count": 71,
   "id": "ab61a835",
   "metadata": {
    "slideshow": {
     "slide_type": "fragment"
    }
   },
   "outputs": [
    {
     "data": {
      "text/plain": [
       "([0, 1, 1, 2, 3, 0, 1, 1, 2, 3], [0, 1, 1, 2, 3, 0, 1, 1, 2, 3])"
      ]
     },
     "execution_count": 71,
     "metadata": {},
     "output_type": "execute_result"
    }
   ],
   "source": [
    "# repeatition\n",
    "fib_numbers * 2, 2 * fib_numbers"
   ]
  },
  {
   "cell_type": "markdown",
   "id": "e2403985",
   "metadata": {
    "slideshow": {
     "slide_type": "slide"
    }
   },
   "source": [
    "## Mutability\n",
    "\n",
    "Lists are mutable objects, so their value can be changed in place."
   ]
  },
  {
   "cell_type": "code",
   "execution_count": 72,
   "id": "9d7c03f6",
   "metadata": {
    "slideshow": {
     "slide_type": "fragment"
    }
   },
   "outputs": [
    {
     "data": {
      "text/plain": [
       "[0, 1, 1, 2, 3, 5, 8]"
      ]
     },
     "execution_count": 72,
     "metadata": {},
     "output_type": "execute_result"
    }
   ],
   "source": [
    "fib_numbers = [0, 1, 1, 2, 3, 5, 8]\n",
    "fib_numbers[0] = 42\n",
    "fib_numbers"
   ]
  },
  {
   "cell_type": "code",
   "execution_count": 85,
   "id": "b2cdf255",
   "metadata": {
    "slideshow": {
     "slide_type": "fragment"
    }
   },
   "outputs": [
    {
     "data": {
      "text/plain": [
       "[0, 42, 52, 2, 3, 5, 8]"
      ]
     },
     "execution_count": 85,
     "metadata": {},
     "output_type": "execute_result"
    }
   ],
   "source": [
    "fib_numbers = [0, 1, 1, 2, 3, 5, 8]\n",
    "fib_numbers[1:3] = [42, 52]\n",
    "fib_numbers"
   ]
  },
  {
   "cell_type": "markdown",
   "id": "f42b8295",
   "metadata": {
    "slideshow": {
     "slide_type": "slide"
    }
   },
   "source": [
    "## Iterating over list\n",
    "\n",
    "As list is a sequence, a `for` loop can be used to iterate over the elements of a list."
   ]
  },
  {
   "cell_type": "code",
   "execution_count": 74,
   "id": "13c444f5",
   "metadata": {
    "slideshow": {
     "slide_type": "fragment"
    }
   },
   "outputs": [
    {
     "name": "stdout",
     "output_type": "stream",
     "text": [
      "0\n",
      "1\n",
      "1\n",
      "2\n",
      "3\n",
      "5\n",
      "8\n"
     ]
    }
   ],
   "source": [
    "fib_numbers = [0, 1, 1, 2, 3, 5, 8]\n",
    "\n",
    "for number in fib_numbers:\n",
    "    print(number)"
   ]
  },
  {
   "cell_type": "markdown",
   "id": "265f8d68",
   "metadata": {
    "slideshow": {
     "slide_type": "slide"
    }
   },
   "source": [
    "## Values and references"
   ]
  },
  {
   "cell_type": "code",
   "execution_count": 77,
   "id": "99e56496",
   "metadata": {
    "slideshow": {
     "slide_type": "fragment"
    }
   },
   "outputs": [
    {
     "data": {
      "text/plain": [
       "(True, False)"
      ]
     },
     "execution_count": 77,
     "metadata": {},
     "output_type": "execute_result"
    }
   ],
   "source": [
    "numbers1 = [1, 2, 3, 4, 5]\n",
    "numbers2 = [1, 2, 3, 4, 5]\n",
    "\n",
    "numbers1 == numbers2, numbers1 is numbers2"
   ]
  },
  {
   "cell_type": "code",
   "execution_count": 78,
   "id": "4c608e24",
   "metadata": {
    "slideshow": {
     "slide_type": "fragment"
    }
   },
   "outputs": [
    {
     "data": {
      "text/plain": [
       "(True, True)"
      ]
     },
     "execution_count": 78,
     "metadata": {},
     "output_type": "execute_result"
    }
   ],
   "source": [
    "numbers1 = [1, 2, 3, 4, 5]\n",
    "numbers2 = numbers1\n",
    "\n",
    "numbers1 == numbers2, numbers1 is numbers2"
   ]
  },
  {
   "cell_type": "code",
   "execution_count": 79,
   "id": "3b1cc096",
   "metadata": {
    "slideshow": {
     "slide_type": "fragment"
    }
   },
   "outputs": [
    {
     "data": {
      "text/plain": [
       "([1, 2, 3, 4, 42], [1, 2, 3, 4, 42])"
      ]
     },
     "execution_count": 79,
     "metadata": {},
     "output_type": "execute_result"
    }
   ],
   "source": [
    "numbers2[-1] = 42\n",
    "numbers1, numbers2"
   ]
  },
  {
   "cell_type": "code",
   "execution_count": 81,
   "id": "47a7f20b",
   "metadata": {
    "slideshow": {
     "slide_type": "subslide"
    }
   },
   "outputs": [
    {
     "data": {
      "text/plain": [
       "(True, False)"
      ]
     },
     "execution_count": 81,
     "metadata": {},
     "output_type": "execute_result"
    }
   ],
   "source": [
    "numbers1 = [1, 2, 3, 4, 5]\n",
    "numbers2 = numbers1[:] # copy a sequence\n",
    "\n",
    "numbers1 == numbers2, numbers1 is numbers2"
   ]
  },
  {
   "cell_type": "code",
   "execution_count": 82,
   "id": "296cb2ed",
   "metadata": {
    "slideshow": {
     "slide_type": "fragment"
    }
   },
   "outputs": [
    {
     "data": {
      "text/plain": [
       "([1, 2, 3, 4, 5], [1, 2, 3, 4, 42])"
      ]
     },
     "execution_count": 82,
     "metadata": {},
     "output_type": "execute_result"
    }
   ],
   "source": [
    "numbers2[-1] = 42\n",
    "numbers1, numbers2"
   ]
  },
  {
   "cell_type": "markdown",
   "id": "c24a45ff",
   "metadata": {
    "slideshow": {
     "slide_type": "slide"
    }
   },
   "source": [
    "## List methods\n",
    "\n",
    "In addition to sequence methods, there are methods that are specific to lists."
   ]
  },
  {
   "cell_type": "markdown",
   "id": "91277992",
   "metadata": {
    "slideshow": {
     "slide_type": "slide"
    }
   },
   "source": [
    "## `append(value)`\n",
    "\n",
    "`append(value)` method adds `value` to the end of a list."
   ]
  },
  {
   "cell_type": "code",
   "execution_count": 87,
   "id": "7e27f2c4",
   "metadata": {
    "slideshow": {
     "slide_type": "fragment"
    }
   },
   "outputs": [],
   "source": [
    "numbers = [1, 2, 3, 4, 5]\n",
    "numbers.append(6)"
   ]
  },
  {
   "cell_type": "code",
   "execution_count": 88,
   "id": "c94334c7",
   "metadata": {
    "slideshow": {
     "slide_type": "fragment"
    }
   },
   "outputs": [
    {
     "data": {
      "text/plain": [
       "[1, 2, 3, 4, 5, 6]"
      ]
     },
     "execution_count": 88,
     "metadata": {},
     "output_type": "execute_result"
    }
   ],
   "source": [
    "numbers"
   ]
  },
  {
   "cell_type": "markdown",
   "id": "6ad54f28",
   "metadata": {
    "slideshow": {
     "slide_type": "slide"
    }
   },
   "source": [
    "## `insert(idx, value)`\n",
    "\n",
    "`insert(idx, value)` method adds `value` to a list at `idx` position."
   ]
  },
  {
   "cell_type": "code",
   "execution_count": 89,
   "id": "dddd35d5",
   "metadata": {
    "slideshow": {
     "slide_type": "fragment"
    }
   },
   "outputs": [],
   "source": [
    "numbers = [1, 2, 3, 4, 5]\n",
    "numbers.insert(0, 42)"
   ]
  },
  {
   "cell_type": "code",
   "execution_count": 90,
   "id": "d0ba54e0",
   "metadata": {
    "slideshow": {
     "slide_type": "fragment"
    }
   },
   "outputs": [
    {
     "data": {
      "text/plain": [
       "[42, 1, 2, 3, 4, 5]"
      ]
     },
     "execution_count": 90,
     "metadata": {},
     "output_type": "execute_result"
    }
   ],
   "source": [
    "numbers"
   ]
  },
  {
   "cell_type": "code",
   "execution_count": 91,
   "id": "0f3a24bc",
   "metadata": {
    "slideshow": {
     "slide_type": "fragment"
    }
   },
   "outputs": [
    {
     "data": {
      "text/plain": [
       "[42, 1, 123, 2, 3, 4, 5]"
      ]
     },
     "execution_count": 91,
     "metadata": {},
     "output_type": "execute_result"
    }
   ],
   "source": [
    "numbers.insert(2, 123)\n",
    "numbers"
   ]
  },
  {
   "cell_type": "markdown",
   "id": "c850f1d3",
   "metadata": {
    "slideshow": {
     "slide_type": "slide"
    }
   },
   "source": [
    "## `extend(iterable)`\n",
    "\n",
    "`extend(iterable)` adds all the elements of the `iterable` to the list."
   ]
  },
  {
   "cell_type": "code",
   "execution_count": 92,
   "id": "4f700854",
   "metadata": {
    "slideshow": {
     "slide_type": "fragment"
    }
   },
   "outputs": [
    {
     "data": {
      "text/plain": [
       "[1, 2, 3, 4, 5]"
      ]
     },
     "execution_count": 92,
     "metadata": {},
     "output_type": "execute_result"
    }
   ],
   "source": [
    "numbers = [1, 2, 3, 4, 5]\n",
    "numbers"
   ]
  },
  {
   "cell_type": "code",
   "execution_count": 93,
   "id": "919ddfd4",
   "metadata": {
    "slideshow": {
     "slide_type": "fragment"
    }
   },
   "outputs": [],
   "source": [
    "numbers.extend([6, 7, 8, 9, 10])"
   ]
  },
  {
   "cell_type": "code",
   "execution_count": 94,
   "id": "54f4f714",
   "metadata": {
    "slideshow": {
     "slide_type": "fragment"
    }
   },
   "outputs": [
    {
     "data": {
      "text/plain": [
       "[1, 2, 3, 4, 5, 6, 7, 8, 9, 10]"
      ]
     },
     "execution_count": 94,
     "metadata": {},
     "output_type": "execute_result"
    }
   ],
   "source": [
    "numbers"
   ]
  },
  {
   "cell_type": "markdown",
   "id": "7522b6a2",
   "metadata": {
    "slideshow": {
     "slide_type": "slide"
    }
   },
   "source": [
    "## `remove(value)`\n",
    "\n",
    "`remove(x)` method removes the first element from the list whose value is equal to `value`."
   ]
  },
  {
   "cell_type": "code",
   "execution_count": 95,
   "id": "7c47e561",
   "metadata": {
    "slideshow": {
     "slide_type": "fragment"
    }
   },
   "outputs": [
    {
     "data": {
      "text/plain": [
       "['green', 'blue', 'red', 'white', 'black', 'blue']"
      ]
     },
     "execution_count": 95,
     "metadata": {},
     "output_type": "execute_result"
    }
   ],
   "source": [
    "colours = [\"green\", \"blue\", \"red\", \"white\", \"black\", \"blue\"]\n",
    "colours"
   ]
  },
  {
   "cell_type": "code",
   "execution_count": 96,
   "id": "d335db53",
   "metadata": {
    "slideshow": {
     "slide_type": "fragment"
    }
   },
   "outputs": [],
   "source": [
    "colours.remove(\"blue\")"
   ]
  },
  {
   "cell_type": "code",
   "execution_count": 97,
   "id": "6f0123b5",
   "metadata": {
    "slideshow": {
     "slide_type": "fragment"
    }
   },
   "outputs": [
    {
     "data": {
      "text/plain": [
       "['green', 'red', 'white', 'black', 'blue']"
      ]
     },
     "execution_count": 97,
     "metadata": {},
     "output_type": "execute_result"
    }
   ],
   "source": [
    "colours"
   ]
  },
  {
   "cell_type": "markdown",
   "id": "e3a18b3b",
   "metadata": {
    "slideshow": {
     "slide_type": "slide"
    }
   },
   "source": [
    "## `pop(idx)`\n",
    "\n",
    "`pop(idx)` method removes the element at position `idx` from the list. The parameter `idx` is not required and by default it drops the last element."
   ]
  },
  {
   "cell_type": "code",
   "execution_count": 98,
   "id": "1afd389f",
   "metadata": {
    "slideshow": {
     "slide_type": "fragment"
    }
   },
   "outputs": [
    {
     "data": {
      "text/plain": [
       "['green', 'blue', 'red', 'white', 'black', 'blue']"
      ]
     },
     "execution_count": 98,
     "metadata": {},
     "output_type": "execute_result"
    }
   ],
   "source": [
    "colours = [\"green\", \"blue\", \"red\", \"white\", \"black\", \"blue\"]\n",
    "colours"
   ]
  },
  {
   "cell_type": "code",
   "execution_count": 99,
   "id": "68460426",
   "metadata": {
    "slideshow": {
     "slide_type": "fragment"
    }
   },
   "outputs": [
    {
     "data": {
      "text/plain": [
       "'blue'"
      ]
     },
     "execution_count": 99,
     "metadata": {},
     "output_type": "execute_result"
    }
   ],
   "source": [
    "colours.pop()"
   ]
  },
  {
   "cell_type": "code",
   "execution_count": 100,
   "id": "8a7c2ab6",
   "metadata": {
    "slideshow": {
     "slide_type": "fragment"
    }
   },
   "outputs": [
    {
     "data": {
      "text/plain": [
       "['green', 'blue', 'red', 'white', 'black']"
      ]
     },
     "execution_count": 100,
     "metadata": {},
     "output_type": "execute_result"
    }
   ],
   "source": [
    "colours"
   ]
  },
  {
   "cell_type": "code",
   "execution_count": 101,
   "id": "2eef36cd",
   "metadata": {
    "slideshow": {
     "slide_type": "fragment"
    }
   },
   "outputs": [
    {
     "data": {
      "text/plain": [
       "'red'"
      ]
     },
     "execution_count": 101,
     "metadata": {},
     "output_type": "execute_result"
    }
   ],
   "source": [
    "colours.pop(2)"
   ]
  },
  {
   "cell_type": "code",
   "execution_count": 102,
   "id": "e3f88bc7",
   "metadata": {
    "slideshow": {
     "slide_type": "fragment"
    }
   },
   "outputs": [
    {
     "data": {
      "text/plain": [
       "['green', 'blue', 'white', 'black']"
      ]
     },
     "execution_count": 102,
     "metadata": {},
     "output_type": "execute_result"
    }
   ],
   "source": [
    "colours"
   ]
  },
  {
   "cell_type": "markdown",
   "id": "be0cf6e5",
   "metadata": {
    "slideshow": {
     "slide_type": "slide"
    }
   },
   "source": [
    "## `del` operator\n",
    "\n",
    "`del` operator deletes the specified elements without returning them."
   ]
  },
  {
   "cell_type": "code",
   "execution_count": 111,
   "id": "0652b9db",
   "metadata": {
    "slideshow": {
     "slide_type": "fragment"
    }
   },
   "outputs": [
    {
     "data": {
      "text/plain": [
       "['green', 'blue', 'red', 'white', 'black', 'blue']"
      ]
     },
     "execution_count": 111,
     "metadata": {},
     "output_type": "execute_result"
    }
   ],
   "source": [
    "colours = [\"green\", \"blue\", \"red\", \"white\", \"black\", \"blue\"]\n",
    "colours"
   ]
  },
  {
   "cell_type": "code",
   "execution_count": 112,
   "id": "19ca51ef",
   "metadata": {
    "slideshow": {
     "slide_type": "fragment"
    }
   },
   "outputs": [],
   "source": [
    "del colours[-1]"
   ]
  },
  {
   "cell_type": "code",
   "execution_count": 113,
   "id": "5645fb6b",
   "metadata": {
    "slideshow": {
     "slide_type": "fragment"
    }
   },
   "outputs": [
    {
     "data": {
      "text/plain": [
       "['green', 'blue', 'red', 'white', 'black']"
      ]
     },
     "execution_count": 113,
     "metadata": {},
     "output_type": "execute_result"
    }
   ],
   "source": [
    "colours"
   ]
  },
  {
   "cell_type": "code",
   "execution_count": 114,
   "id": "356b3153",
   "metadata": {
    "slideshow": {
     "slide_type": "fragment"
    }
   },
   "outputs": [],
   "source": [
    "del colours[1:3]"
   ]
  },
  {
   "cell_type": "code",
   "execution_count": 115,
   "id": "6354a285",
   "metadata": {
    "slideshow": {
     "slide_type": "fragment"
    }
   },
   "outputs": [
    {
     "data": {
      "text/plain": [
       "['green', 'white', 'black']"
      ]
     },
     "execution_count": 115,
     "metadata": {},
     "output_type": "execute_result"
    }
   ],
   "source": [
    "colours"
   ]
  },
  {
   "cell_type": "code",
   "execution_count": 116,
   "id": "9182a2dd",
   "metadata": {
    "slideshow": {
     "slide_type": "fragment"
    }
   },
   "outputs": [],
   "source": [
    "del colours"
   ]
  },
  {
   "cell_type": "code",
   "execution_count": 117,
   "id": "f72ee663",
   "metadata": {
    "slideshow": {
     "slide_type": "fragment"
    }
   },
   "outputs": [
    {
     "ename": "NameError",
     "evalue": "name 'colours' is not defined",
     "output_type": "error",
     "traceback": [
      "\u001b[0;31m---------------------------------------------------------------------------\u001b[0m",
      "\u001b[0;31mNameError\u001b[0m                                 Traceback (most recent call last)",
      "Cell \u001b[0;32mIn[117], line 1\u001b[0m\n\u001b[0;32m----> 1\u001b[0m \u001b[43mcolours\u001b[49m\n",
      "\u001b[0;31mNameError\u001b[0m: name 'colours' is not defined"
     ]
    }
   ],
   "source": [
    "colours"
   ]
  },
  {
   "cell_type": "markdown",
   "id": "2ea647f0",
   "metadata": {
    "slideshow": {
     "slide_type": "slide"
    }
   },
   "source": [
    "## `clear()`\n",
    "\n",
    "`clear()` empties the contents of a list."
   ]
  },
  {
   "cell_type": "code",
   "execution_count": 118,
   "id": "9f03bede",
   "metadata": {
    "slideshow": {
     "slide_type": "fragment"
    }
   },
   "outputs": [
    {
     "data": {
      "text/plain": [
       "['green', 'blue', 'red', 'white', 'black', 'blue']"
      ]
     },
     "execution_count": 118,
     "metadata": {},
     "output_type": "execute_result"
    }
   ],
   "source": [
    "colours = [\"green\", \"blue\", \"red\", \"white\", \"black\", \"blue\"]\n",
    "colours"
   ]
  },
  {
   "cell_type": "code",
   "execution_count": 119,
   "id": "ed5e6790",
   "metadata": {
    "slideshow": {
     "slide_type": "fragment"
    }
   },
   "outputs": [],
   "source": [
    "colours.clear()"
   ]
  },
  {
   "cell_type": "code",
   "execution_count": 120,
   "id": "16d5767b",
   "metadata": {
    "slideshow": {
     "slide_type": "fragment"
    }
   },
   "outputs": [
    {
     "data": {
      "text/plain": [
       "[]"
      ]
     },
     "execution_count": 120,
     "metadata": {},
     "output_type": "execute_result"
    }
   ],
   "source": [
    "colours"
   ]
  },
  {
   "cell_type": "markdown",
   "id": "ac465927",
   "metadata": {
    "slideshow": {
     "slide_type": "slide"
    }
   },
   "source": [
    "## `sort()`\n",
    "\n",
    "`sort()` sorts the elements of a list."
   ]
  },
  {
   "cell_type": "code",
   "execution_count": 122,
   "id": "8cb1c1d3",
   "metadata": {
    "slideshow": {
     "slide_type": "fragment"
    }
   },
   "outputs": [
    {
     "data": {
      "text/plain": [
       "[33, 24, 40, 70, 18, 78, 14, 98, 63, 50]"
      ]
     },
     "execution_count": 122,
     "metadata": {},
     "output_type": "execute_result"
    }
   ],
   "source": [
    "numbers = [33, 24, 40, 70, 18, 78, 14, 98, 63, 50]\n",
    "numbers"
   ]
  },
  {
   "cell_type": "code",
   "execution_count": 123,
   "id": "c1a1dc9e",
   "metadata": {
    "slideshow": {
     "slide_type": "fragment"
    }
   },
   "outputs": [],
   "source": [
    "numbers.sort()"
   ]
  },
  {
   "cell_type": "code",
   "execution_count": 124,
   "id": "52889e91",
   "metadata": {
    "slideshow": {
     "slide_type": "fragment"
    }
   },
   "outputs": [
    {
     "data": {
      "text/plain": [
       "[14, 18, 24, 33, 40, 50, 63, 70, 78, 98]"
      ]
     },
     "execution_count": 124,
     "metadata": {},
     "output_type": "execute_result"
    }
   ],
   "source": [
    "numbers"
   ]
  },
  {
   "cell_type": "markdown",
   "id": "0e2f3f25",
   "metadata": {
    "slideshow": {
     "slide_type": "slide"
    }
   },
   "source": [
    "## Nested lists"
   ]
  },
  {
   "cell_type": "code",
   "execution_count": 125,
   "id": "c4449a6a",
   "metadata": {
    "slideshow": {
     "slide_type": "fragment"
    }
   },
   "outputs": [
    {
     "data": {
      "text/plain": [
       "['John', 'Doe', 22, False, [1, 2, 3, 4, 5]]"
      ]
     },
     "execution_count": 125,
     "metadata": {},
     "output_type": "execute_result"
    }
   ],
   "source": [
    "x = [\"John\", \"Doe\", 22, False, [1, 2, 3, 4, 5]]\n",
    "x"
   ]
  },
  {
   "cell_type": "code",
   "execution_count": 126,
   "id": "db2073f3",
   "metadata": {
    "slideshow": {
     "slide_type": "fragment"
    }
   },
   "outputs": [
    {
     "data": {
      "text/plain": [
       "[1, 2, 3, 4, 5]"
      ]
     },
     "execution_count": 126,
     "metadata": {},
     "output_type": "execute_result"
    }
   ],
   "source": [
    "x[4]"
   ]
  },
  {
   "cell_type": "code",
   "execution_count": 127,
   "id": "fc766850",
   "metadata": {
    "slideshow": {
     "slide_type": "fragment"
    }
   },
   "outputs": [
    {
     "data": {
      "text/plain": [
       "2"
      ]
     },
     "execution_count": 127,
     "metadata": {},
     "output_type": "execute_result"
    }
   ],
   "source": [
    "x[4][1]"
   ]
  },
  {
   "cell_type": "code",
   "execution_count": 128,
   "id": "3f4286b3",
   "metadata": {
    "slideshow": {
     "slide_type": "fragment"
    }
   },
   "outputs": [
    {
     "data": {
      "text/plain": [
       "[2, 3, 4]"
      ]
     },
     "execution_count": 128,
     "metadata": {},
     "output_type": "execute_result"
    }
   ],
   "source": [
    "x[4][1:4]"
   ]
  }
 ],
 "metadata": {
  "celltoolbar": "Slideshow",
  "kernelspec": {
   "display_name": "Python 3 (ipykernel)",
   "language": "python",
   "name": "python3"
  },
  "language_info": {
   "codemirror_mode": {
    "name": "ipython",
    "version": 3
   },
   "file_extension": ".py",
   "mimetype": "text/x-python",
   "name": "python",
   "nbconvert_exporter": "python",
   "pygments_lexer": "ipython3",
   "version": "3.8.10"
  }
 },
 "nbformat": 4,
 "nbformat_minor": 5
}
