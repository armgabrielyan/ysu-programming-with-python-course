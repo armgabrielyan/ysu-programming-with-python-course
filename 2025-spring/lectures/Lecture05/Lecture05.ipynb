{
 "cells": [
  {
   "cell_type": "markdown",
   "id": "70e592c3",
   "metadata": {},
   "source": [
    "# Programming with Python\n",
    "\n",
    "## Lecture 05: Type hints\n",
    "\n",
    "### Armen Gabrielyan\n",
    "\n",
    "#### Yerevan State University / ASDS\n",
    "\n",
    "#### 15 Mar, 2025"
   ]
  },
  {
   "cell_type": "markdown",
   "id": "8c724b91",
   "metadata": {},
   "source": [
    "## Generic Mappings\n",
    "\n",
    "Generic mapping types are annotated as `MappingType[KeyType, ValueType]`.\n",
    "\n",
    "- `dict`\n",
    "- `abc.Mapping`\n",
    "- `abc.MutableMapping`\n",
    "- `abc.MappingView`"
   ]
  },
  {
   "cell_type": "markdown",
   "id": "0fc04025",
   "metadata": {},
   "source": [
    "### Practice\n",
    "\n",
    "Show example 1."
   ]
  },
  {
   "cell_type": "markdown",
   "id": "ebf46a34",
   "metadata": {},
   "source": [
    "## Abstract Base Classes\n",
    "\n",
    "> Be conservative in what you send, be liberal in what you accept.\n",
    ">\n",
    "> —Postel’s law, a.k.a. the Robustness Principle\n",
    "\n",
    "It is generally better to use abstract types for arguments (such as `abc.Collection` and `abc.Mapping`) and more concrete types for return values (such as `list` and `dict`)."
   ]
  },
  {
   "cell_type": "markdown",
   "id": "314eb175",
   "metadata": {},
   "source": [
    "### Practice\n",
    "\n",
    "Show example 2."
   ]
  },
  {
   "cell_type": "markdown",
   "id": "576e93db",
   "metadata": {},
   "source": [
    "## Iterable\n",
    "\n",
    "The `Iterable` type is used to define objects that can be iterated over, such as those that support looping with a `for` loop or that can return an iterator."
   ]
  },
  {
   "cell_type": "markdown",
   "id": "2936b071",
   "metadata": {},
   "source": [
    "### Practice\n",
    "\n",
    "Show example 3."
   ]
  },
  {
   "cell_type": "markdown",
   "id": "e1ef64ec",
   "metadata": {},
   "source": [
    "## Parameterized Generics and `TypeVar`\n",
    "\n",
    "Parameterized Generics are a way to define functions, methods, or classes that can handle a variety of types, but where the type can be specified at runtime. The idea is to allow a type to be \"parameterized\" with a type variable, so that the same function or class can work with many types of data.\n",
    "\n",
    "`TypeVar` is a generic type variable that allows you to define a placeholder for a specific type. You can use `TypeVar` to specify that a function, method, or class works with one or more types, but without specifying what the type is at the time of defining it."
   ]
  },
  {
   "cell_type": "markdown",
   "id": "3174c637",
   "metadata": {},
   "source": [
    "### Practice\n",
    "\n",
    "Show example 4."
   ]
  },
  {
   "cell_type": "markdown",
   "id": "ea3a318c",
   "metadata": {},
   "source": [
    "## Restricted `TypeVar`\n",
    "\n",
    "Restricted `TypeVar` is used to limit the types that a `TypeVar` can take by specifying multiple possible types it can be. \n",
    "\n",
    "For example,\n",
    "\n",
    "```python\n",
    "T = TypeVar(\"T\", int, float)\n",
    "```"
   ]
  },
  {
   "cell_type": "markdown",
   "id": "1961e8ce",
   "metadata": {},
   "source": [
    "### Practice\n",
    "\n",
    "Show example 5."
   ]
  },
  {
   "cell_type": "markdown",
   "id": "8f9f0f46",
   "metadata": {},
   "source": [
    "## Bounded `TypeVar`\n",
    "\n",
    "When you restrict a `TypeVar` by a bound, it means the type variable can only be consistent-with the type specified in the bound.\n",
    "\n",
    "For example,\n",
    "\n",
    "```python\n",
    "T = TypeVar(\"T\", bound=SomeType)\n",
    "```"
   ]
  },
  {
   "cell_type": "markdown",
   "id": "c209cfd3",
   "metadata": {},
   "source": [
    "### Practice\n",
    "\n",
    "Show example 6."
   ]
  },
  {
   "cell_type": "markdown",
   "id": "d002e0ec",
   "metadata": {},
   "source": [
    "## Protocols\n",
    "\n",
    "In Python's type system, **protocols** are a way to define and enforce certain methods or behaviors that an object should implement, without requiring the object to be a specific class or subclass. This concept is part of structural typing, which is different from nominal typing (which requires exact inheritance). Protocols are typically used to describe how an object behaves rather than what class it belongs to.\n",
    "\n",
    "Protocols are introduced in [PEP 544](https://peps.python.org/pep-0544/).\n",
    "\n",
    "You define a protocol by inheriting from `typing.Protocol`. A class or object that has the required methods (even without explicit inheritance) is said to adhere to the protocol."
   ]
  },
  {
   "cell_type": "markdown",
   "id": "5367f5bc",
   "metadata": {},
   "source": [
    "### Practice\n",
    "\n",
    "Show example 7."
   ]
  },
  {
   "cell_type": "markdown",
   "id": "6ef1d673",
   "metadata": {},
   "source": [
    "## Callable\n",
    "\n",
    "The `Callable` type hint from the `typing` module is used to specify that a variable, function parameter, or return type should be a callable object (i.e., a function, method, or any object implementing `__call__`).\n",
    "\n",
    "The basic syntax is as follows:\n",
    "\n",
    "```python\n",
    "from typing import Callable\n",
    "\n",
    "def function_name(callback: Callable[[ArgType1, ArgType2, ...], ReturnType]):\n",
    "    ...\n",
    "```\n",
    "\n",
    "If there is a need to type annotate a flexible function signature, use `Callable[..., ReturnType]`."
   ]
  },
  {
   "cell_type": "markdown",
   "id": "6f960c67",
   "metadata": {},
   "source": [
    "### Practice\n",
    "\n",
    "Show example 8."
   ]
  },
  {
   "cell_type": "markdown",
   "id": "fed45fb5",
   "metadata": {},
   "source": [
    "## Variance\n",
    "\n",
    "**Variance** determines how subtyping relationships in generics behave when passing types to generic classes or functions.\n",
    "\n",
    "### Notation\n",
    "\n",
    "Consider two types `A` and `B`, where `B` is consistent-with `A`, and neither of them is `Any`.\n",
    "\n",
    "We can use the `<:` and `:>` symbols to denote type relationships like this:\n",
    "\n",
    "- `A :> B`: `A` is a supertype-of or the same as `B`.\n",
    "- `B <: A`: `B` is a subtype-of or the same as `A`."
   ]
  },
  {
   "cell_type": "markdown",
   "id": "6c475c16",
   "metadata": {},
   "source": [
    "### Invariant\n",
    "\n",
    "A generic type `L` is **invariant** when there is no supertype or subtype relationship between two parameterized types, regardless of the relationship that may exist between the actual parameters. In other words, if `L` is invariant, then `L[A]` is not a supertype or a subtype of `L[B]`. They are inconsistent in both ways.\n",
    "\n",
    "Python’s mutable collections are invariant by default. The `list` type is a good example: `list[int]` is not consistent-with `list[float]` and vice versa.\n",
    "\n",
    "In general, if a formal type parameter appears in type hints of method arguments, and the same parameter appears in method return types, that parameter must be invariant to ensure type safety when updating and reading from the collection.\n",
    "\n",
    "_Reference:_ Fluent Python, Luciano Ramalho"
   ]
  },
  {
   "cell_type": "markdown",
   "id": "83e3ad13",
   "metadata": {},
   "source": [
    "### Practice\n",
    "\n",
    "Show example 9."
   ]
  },
  {
   "cell_type": "markdown",
   "id": "f808d810",
   "metadata": {},
   "source": [
    "### Covariant\n",
    "\n",
    "Given `A :> B`, a generic type `C` is **covariant** when `C[A] :> C[B]`. Covariant generic types follow the subtype relationship of the actual type parameters.\n",
    "\n",
    "Immutable containers can be covariant. For example, this is how the `typing.FrozenSet` class is documented as a covariant with a type variable using the conventional name `T_co`: \n",
    "\n",
    "```python\n",
    "class FrozenSet(frozenset, AbstractSet[T_co]):\n",
    "```\n",
    "    \n",
    "_Reference:_ Fluent Python, Luciano Ramalho"
   ]
  },
  {
   "cell_type": "markdown",
   "id": "cadcfd50",
   "metadata": {},
   "source": [
    "### Practice\n",
    "\n",
    "Show example 10."
   ]
  },
  {
   "cell_type": "markdown",
   "id": "58259a8a",
   "metadata": {},
   "source": [
    "### Contravariant\n",
    "\n",
    "Given `A :> B`, a generic type `K` is contravariant if `K[A] <: K[B]`. Contravariant generic types reverse the subtype relationship of the actual type parameters.\n",
    "\n",
    "_Reference:_ Fluent Python, Luciano Ramalho"
   ]
  },
  {
   "cell_type": "markdown",
   "id": "699c9d77",
   "metadata": {},
   "source": [
    "### Practice\n",
    "\n",
    "Show example 11."
   ]
  },
  {
   "cell_type": "markdown",
   "id": "20423f3a",
   "metadata": {},
   "source": [
    "## NoReturn\n",
    "\n",
    "`NoReturn` is a special type hint in Python’s `typing` module used to indicate that a function never returns a value. Usually, the function with `NoReturn` type annotation raises an exception."
   ]
  },
  {
   "cell_type": "markdown",
   "id": "369775ac",
   "metadata": {},
   "source": [
    "### Practice\n",
    "\n",
    "Show example 12."
   ]
  },
  {
   "cell_type": "markdown",
   "id": "67a8b11d",
   "metadata": {},
   "source": [
    "## Annotating positional only and variadic parameters\n",
    "\n",
    "```python\n",
    "def sample_function(x: int, /, y: float, *args: str, **kwargs: bool) -> None:\n",
    "    print(f\"x: {x}, y: {y}\")\n",
    "    print(f\"args: {args}\")\n",
    "    print(f\"kwargs: {kwargs}\")\n",
    "```\n",
    "\n",
    "- All arguments in `*args` must be of type `str`. The type of the `args` local variable in the function body will be `tuple[str, ...]`.\n",
    "- The type hint for the arbitrary keyword arguments `kwargs` inside the function will be `dict[str, bool]`."
   ]
  },
  {
   "cell_type": "markdown",
   "id": "198496db",
   "metadata": {},
   "source": [
    "### Practice\n",
    "\n",
    "Show example 13."
   ]
  },
  {
   "cell_type": "code",
   "execution_count": null,
   "id": "38782309",
   "metadata": {},
   "outputs": [],
   "source": []
  }
 ],
 "metadata": {
  "kernelspec": {
   "display_name": "Python 3 (ipykernel)",
   "language": "python",
   "name": "python3"
  },
  "language_info": {
   "codemirror_mode": {
    "name": "ipython",
    "version": 3
   },
   "file_extension": ".py",
   "mimetype": "text/x-python",
   "name": "python",
   "nbconvert_exporter": "python",
   "pygments_lexer": "ipython3",
   "version": "3.12.9"
  }
 },
 "nbformat": 4,
 "nbformat_minor": 5
}
